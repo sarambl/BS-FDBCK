{
 "cells": [
  {
   "cell_type": "code",
   "execution_count": 1,
   "id": "e20052c3-0111-4ddd-ab1e-fdd5ebf6def0",
   "metadata": {},
   "outputs": [],
   "source": [
    "import pandas as pd\n",
    "import numpy as np\n",
    "import rioxarray as rxr\n",
    "import xarray as xr\n",
    "from pathlib import Path \n",
    "\n",
    "import time\n",
    "import netCDF4"
   ]
  },
  {
   "cell_type": "code",
   "execution_count": null,
   "id": "e9d4e6ad-92df-4cb9-9a62-aedff145dd66",
   "metadata": {},
   "outputs": [],
   "source": []
  },
  {
   "cell_type": "code",
   "execution_count": 2,
   "id": "af43925f-4c39-44fc-865d-1eaedeb31b41",
   "metadata": {
    "lines_to_next_cell": 2
   },
   "outputs": [],
   "source": [
    "rn_dic = {\n",
    "    'Cloud_Optical_Thickness_Liquid_Mean':'COT',\n",
    "    'Cloud_Effective_Radius_Liquid_Mean': 'r_eff',\n",
    "    'Cloud_Water_Path_Liquid_Mean': 'CWP',\n",
    "}"
   ]
  },
  {
   "cell_type": "code",
   "execution_count": 3,
   "id": "8e2c45be-586f-44ea-8d20-83f42bdf0934",
   "metadata": {},
   "outputs": [],
   "source": [
    "produce_files = [\n",
    "    'Cloud_Optical_Thickness_Liquid_Mean', \n",
    "    'Cloud_Effective_Radius_Liquid_Mean',\n",
    "    'Cloud_Water_Path_Liquid_Mean',\n",
    "    'Cloud_Water_Path_Liquid_Mean_Uncertainty',\n",
    "    'Cloud_Water_Path_Liquid_Standard_Deviation',\n",
    "    'Cloud_Water_Path_Liquid_Maximum',\n",
    "    'Cloud_Water_Path_Liquid_Minimum',\n",
    "]\n",
    "producw_files_extra=[\n",
    "    'Cloud_Top_Temperature_Day_Maximum',\n",
    "    'Cloud_Top_Temperature_Day_Mean',\n",
    "    'Cloud_Top_Temperature_Day_Minimum',\n",
    "    'Cloud_Top_Pressure_Day_Mean',\n",
    "    'Cloud_Top_Pressure_Day_Maximum',\n",
    "    'Cloud_Top_Pressure_Day_Minimum',\n",
    "    'Cloud_Top_Height_Day_Mean',\n",
    "    'Cloud_Top_Height_Day_Maximum',\n",
    "    'Cloud_Top_Height_Day_Minimum',\n",
    "    'Cloud_Fraction_Day_Mean',\n",
    "    'Cloud_Fraction_Day_Maximum',\n",
    "    'Cloud_Fraction_Day_Minimum',\n",
    "    'Cloud_Optical_Thickness_Liquid_Maximum',\n",
    "    #'Cloud_Optical_Thickness_Liquid_Mean',\n",
    "    'Cloud_Optical_Thickness_Liquid_Mean_Uncertainty',\n",
    "    'Cloud_Optical_Thickness_Liquid_Minimum',\n",
    "    'Cloud_Optical_Thickness_Liquid_Standard_Deviation',\n",
    "    'Cloud_Optical_Thickness_Combined_Mean',\n",
    "    'Cloud_Optical_Thickness_Combined_Maximum',\n",
    "    'Cloud_Optical_Thickness_Combined_Minimum',\n",
    "    'Cloud_Optical_Thickness_Combined_Standard_Deviation',\n",
    "    'Cloud_Effective_Radius_Liquid_Mean_Uncertainty',\n",
    "    #'Cloud_Effective_Radius_Liquid_Mean',\n",
    "]"
   ]
  },
  {
   "cell_type": "code",
   "execution_count": null,
   "id": "0dd39a3c-1c90-4118-a5d5-b69316f89b3b",
   "metadata": {},
   "outputs": [],
   "source": []
  },
  {
   "cell_type": "code",
   "execution_count": 4,
   "id": "631c3530-d529-45f2-b117-f65406ee519f",
   "metadata": {},
   "outputs": [],
   "source": [
    "from bs_fdbck.constants import path_measurement_data"
   ]
  },
  {
   "cell_type": "markdown",
   "id": "26607513-36ed-4d20-8290-20ee0d2662a6",
   "metadata": {},
   "source": [
    "## Settings: "
   ]
  },
  {
   "cell_type": "code",
   "execution_count": 5,
   "id": "54ea8044-bd15-4cd1-9c36-a4e9509cf0eb",
   "metadata": {},
   "outputs": [
    {
     "data": {
      "text/plain": [
       "PosixPath('/proj/bolinc/users/x_sarbl/analysis/BS-FDBCK/Data')"
      ]
     },
     "execution_count": 5,
     "metadata": {},
     "output_type": "execute_result"
    }
   ],
   "source": [
    "path_measurement_data"
   ]
  },
  {
   "cell_type": "code",
   "execution_count": 6,
   "id": "2865298b-c0f6-4157-844e-cc99603761bf",
   "metadata": {},
   "outputs": [],
   "source": [
    "# path_raw_data = path_measurement_data /'satellite' / 'MODIS_raw'\n",
    "\n",
    "# path_out_netcdf = path_measurement_data /'satellite' / 'MODIS_netcdf'\n",
    "\n",
    "path_out_postproc = path_measurement_data /'satellite' / 'MODIS_postproc'\n",
    "path_out_postproc_lev2 = path_measurement_data /'satellite' / 'MODIS_postproc_lev2'\n",
    "\n",
    "station = 'ATTO'\n",
    "outfilename = path_out_postproc_lev2 / f'MODIS_date_{station}.nc'\n",
    "\n",
    "\n",
    "fl = list(path_out_postproc.glob('*.nc'))\n",
    "fl.sort()"
   ]
  },
  {
   "cell_type": "code",
   "execution_count": 7,
   "id": "32945588-21fe-4905-93b7-aa6ea6455b1f",
   "metadata": {
    "lines_to_next_cell": 2
   },
   "outputs": [],
   "source": [
    "tau_lims = [5,50]\n",
    "r_eff_lim = 5\n",
    "cloud_top_temp_above = -15 \n",
    "cld_water_path_above = 50\n",
    "#include_months = [7,8]\n",
    "\n",
    "from_year = '2012'\n",
    "to_year = '2018'\n",
    "daytime_from = 9\n",
    "daytime_to = daytime_from + 7"
   ]
  },
  {
   "cell_type": "markdown",
   "id": "d6045bd2-87e7-471a-a239-04e9b062f8b5",
   "metadata": {
    "tags": []
   },
   "source": [
    "## Set station specifics;"
   ]
  },
  {
   "cell_type": "code",
   "execution_count": 8,
   "id": "7d3e9e21-7b5d-4f50-a9d3-039fba5aec92",
   "metadata": {},
   "outputs": [],
   "source": [
    "high_perc_OA = 3.02\n",
    "low_perc_OA = 1.59"
   ]
  },
  {
   "cell_type": "code",
   "execution_count": 9,
   "id": "912df5cb-b55b-4059-a3e1-1916ef87a80b",
   "metadata": {},
   "outputs": [
    {
     "data": {
      "text/plain": [
       "-67"
      ]
     },
     "execution_count": 9,
     "metadata": {},
     "output_type": "execute_result"
    }
   ],
   "source": [
    "(293 + 180) % 360 - 180"
   ]
  },
  {
   "cell_type": "code",
   "execution_count": 10,
   "id": "81878243-0b1c-4881-9420-b865bb96bef9",
   "metadata": {},
   "outputs": [
    {
     "data": {
      "text/plain": [
       "[1, 2]"
      ]
     },
     "execution_count": 10,
     "metadata": {},
     "output_type": "execute_result"
    }
   ],
   "source": [
    "[a for a in [1,2]]"
   ]
  },
  {
   "cell_type": "code",
   "execution_count": 11,
   "id": "43448583-d1de-4e93-85d4-8c658f2b1e2a",
   "metadata": {},
   "outputs": [],
   "source": [
    "def lon_sh(l):\n",
    "    return ((l+180)%360-180) "
   ]
  },
  {
   "cell_type": "code",
   "execution_count": 12,
   "id": "2e29cb11-6630-4cdb-9f42-955d63e9af15",
   "metadata": {
    "lines_to_next_cell": 2
   },
   "outputs": [],
   "source": [
    "#lat_lims = [60, 66]\n",
    "#lon_lims = [22,30]\n",
    "lon_lims = [293.,308.]\n",
    "lon_lims =[lon_sh(l) for l in lon_lims]\n",
    "lat_lims = [-8.,-1.]"
   ]
  },
  {
   "cell_type": "code",
   "execution_count": 13,
   "id": "5373f2bf-85eb-44f6-8deb-e78a5e376364",
   "metadata": {},
   "outputs": [
    {
     "data": {
      "text/plain": [
       "[-67.0, -52.0]"
      ]
     },
     "execution_count": 13,
     "metadata": {},
     "output_type": "execute_result"
    }
   ],
   "source": [
    "lon_lims"
   ]
  },
  {
   "cell_type": "code",
   "execution_count": 14,
   "id": "fcf5c257-914d-4ec0-864b-e3aecb86056e",
   "metadata": {
    "scrolled": true,
    "tags": []
   },
   "outputs": [
    {
     "name": "stdout",
     "output_type": "stream",
     "text": [
      "/proj/bolinc/users/x_sarbl/analysis/BS-FDBCK/Data/satellite/MODIS_postproc/MYD08_D3_Cloud_Effective_Radius_Liquid_Mean_2012.nc\n",
      "/proj/bolinc/users/x_sarbl/analysis/BS-FDBCK/Data/satellite/MODIS_postproc/MYD08_D3_Cloud_Effective_Radius_Liquid_Mean_2013.nc\n",
      "/proj/bolinc/users/x_sarbl/analysis/BS-FDBCK/Data/satellite/MODIS_postproc/MYD08_D3_Cloud_Effective_Radius_Liquid_Mean_2014.nc\n",
      "/proj/bolinc/users/x_sarbl/analysis/BS-FDBCK/Data/satellite/MODIS_postproc/MYD08_D3_Cloud_Effective_Radius_Liquid_Mean_2015.nc\n",
      "/proj/bolinc/users/x_sarbl/analysis/BS-FDBCK/Data/satellite/MODIS_postproc/MYD08_D3_Cloud_Effective_Radius_Liquid_Mean_2016.nc\n",
      "/proj/bolinc/users/x_sarbl/analysis/BS-FDBCK/Data/satellite/MODIS_postproc/MYD08_D3_Cloud_Effective_Radius_Liquid_Mean_2017.nc\n",
      "/proj/bolinc/users/x_sarbl/analysis/BS-FDBCK/Data/satellite/MODIS_postproc/MYD08_D3_Cloud_Effective_Radius_Liquid_Mean_2018.nc\n",
      "/proj/bolinc/users/x_sarbl/analysis/BS-FDBCK/Data/satellite/MODIS_postproc/MYD08_D3_Cloud_Optical_Thickness_Liquid_Mean_2012.nc\n",
      "/proj/bolinc/users/x_sarbl/analysis/BS-FDBCK/Data/satellite/MODIS_postproc/MYD08_D3_Cloud_Optical_Thickness_Liquid_Mean_2013.nc\n",
      "/proj/bolinc/users/x_sarbl/analysis/BS-FDBCK/Data/satellite/MODIS_postproc/MYD08_D3_Cloud_Optical_Thickness_Liquid_Mean_2014.nc\n",
      "/proj/bolinc/users/x_sarbl/analysis/BS-FDBCK/Data/satellite/MODIS_postproc/MYD08_D3_Cloud_Optical_Thickness_Liquid_Mean_2015.nc\n",
      "/proj/bolinc/users/x_sarbl/analysis/BS-FDBCK/Data/satellite/MODIS_postproc/MYD08_D3_Cloud_Optical_Thickness_Liquid_Mean_2016.nc\n",
      "/proj/bolinc/users/x_sarbl/analysis/BS-FDBCK/Data/satellite/MODIS_postproc/MYD08_D3_Cloud_Optical_Thickness_Liquid_Mean_2017.nc\n",
      "/proj/bolinc/users/x_sarbl/analysis/BS-FDBCK/Data/satellite/MODIS_postproc/MYD08_D3_Cloud_Optical_Thickness_Liquid_Mean_2018.nc\n",
      "/proj/bolinc/users/x_sarbl/analysis/BS-FDBCK/Data/satellite/MODIS_postproc/MYD08_D3_Cloud_Top_Temperature_Day_Maximum_2012.nc\n",
      "/proj/bolinc/users/x_sarbl/analysis/BS-FDBCK/Data/satellite/MODIS_postproc/MYD08_D3_Cloud_Top_Temperature_Day_Maximum_2013.nc\n",
      "/proj/bolinc/users/x_sarbl/analysis/BS-FDBCK/Data/satellite/MODIS_postproc/MYD08_D3_Cloud_Top_Temperature_Day_Maximum_2014.nc\n",
      "/proj/bolinc/users/x_sarbl/analysis/BS-FDBCK/Data/satellite/MODIS_postproc/MYD08_D3_Cloud_Top_Temperature_Day_Maximum_2015.nc\n",
      "/proj/bolinc/users/x_sarbl/analysis/BS-FDBCK/Data/satellite/MODIS_postproc/MYD08_D3_Cloud_Top_Temperature_Day_Maximum_2016.nc\n",
      "/proj/bolinc/users/x_sarbl/analysis/BS-FDBCK/Data/satellite/MODIS_postproc/MYD08_D3_Cloud_Top_Temperature_Day_Maximum_2017.nc\n",
      "/proj/bolinc/users/x_sarbl/analysis/BS-FDBCK/Data/satellite/MODIS_postproc/MYD08_D3_Cloud_Top_Temperature_Day_Maximum_2018.nc\n",
      "/proj/bolinc/users/x_sarbl/analysis/BS-FDBCK/Data/satellite/MODIS_postproc/MYD08_D3_Cloud_Top_Temperature_Day_Mean_2012.nc\n",
      "/proj/bolinc/users/x_sarbl/analysis/BS-FDBCK/Data/satellite/MODIS_postproc/MYD08_D3_Cloud_Top_Temperature_Day_Mean_2013.nc\n",
      "/proj/bolinc/users/x_sarbl/analysis/BS-FDBCK/Data/satellite/MODIS_postproc/MYD08_D3_Cloud_Top_Temperature_Day_Mean_2014.nc\n",
      "/proj/bolinc/users/x_sarbl/analysis/BS-FDBCK/Data/satellite/MODIS_postproc/MYD08_D3_Cloud_Top_Temperature_Day_Mean_2015.nc\n",
      "/proj/bolinc/users/x_sarbl/analysis/BS-FDBCK/Data/satellite/MODIS_postproc/MYD08_D3_Cloud_Top_Temperature_Day_Mean_2016.nc\n",
      "/proj/bolinc/users/x_sarbl/analysis/BS-FDBCK/Data/satellite/MODIS_postproc/MYD08_D3_Cloud_Top_Temperature_Day_Mean_2017.nc\n",
      "/proj/bolinc/users/x_sarbl/analysis/BS-FDBCK/Data/satellite/MODIS_postproc/MYD08_D3_Cloud_Top_Temperature_Day_Mean_2018.nc\n",
      "/proj/bolinc/users/x_sarbl/analysis/BS-FDBCK/Data/satellite/MODIS_postproc/MYD08_D3_Cloud_Top_Temperature_Day_Minimum_2012.nc\n",
      "/proj/bolinc/users/x_sarbl/analysis/BS-FDBCK/Data/satellite/MODIS_postproc/MYD08_D3_Cloud_Top_Temperature_Day_Minimum_2013.nc\n",
      "/proj/bolinc/users/x_sarbl/analysis/BS-FDBCK/Data/satellite/MODIS_postproc/MYD08_D3_Cloud_Top_Temperature_Day_Minimum_2014.nc\n",
      "/proj/bolinc/users/x_sarbl/analysis/BS-FDBCK/Data/satellite/MODIS_postproc/MYD08_D3_Cloud_Top_Temperature_Day_Minimum_2015.nc\n",
      "/proj/bolinc/users/x_sarbl/analysis/BS-FDBCK/Data/satellite/MODIS_postproc/MYD08_D3_Cloud_Top_Temperature_Day_Minimum_2016.nc\n",
      "/proj/bolinc/users/x_sarbl/analysis/BS-FDBCK/Data/satellite/MODIS_postproc/MYD08_D3_Cloud_Top_Temperature_Day_Minimum_2017.nc\n",
      "/proj/bolinc/users/x_sarbl/analysis/BS-FDBCK/Data/satellite/MODIS_postproc/MYD08_D3_Cloud_Top_Temperature_Day_Minimum_2018.nc\n",
      "/proj/bolinc/users/x_sarbl/analysis/BS-FDBCK/Data/satellite/MODIS_postproc/MYD08_D3_Cloud_Water_Path_Liquid_Maximum_2012.nc\n",
      "/proj/bolinc/users/x_sarbl/analysis/BS-FDBCK/Data/satellite/MODIS_postproc/MYD08_D3_Cloud_Water_Path_Liquid_Maximum_2013.nc\n",
      "/proj/bolinc/users/x_sarbl/analysis/BS-FDBCK/Data/satellite/MODIS_postproc/MYD08_D3_Cloud_Water_Path_Liquid_Maximum_2014.nc\n",
      "/proj/bolinc/users/x_sarbl/analysis/BS-FDBCK/Data/satellite/MODIS_postproc/MYD08_D3_Cloud_Water_Path_Liquid_Maximum_2015.nc\n",
      "/proj/bolinc/users/x_sarbl/analysis/BS-FDBCK/Data/satellite/MODIS_postproc/MYD08_D3_Cloud_Water_Path_Liquid_Maximum_2016.nc\n",
      "/proj/bolinc/users/x_sarbl/analysis/BS-FDBCK/Data/satellite/MODIS_postproc/MYD08_D3_Cloud_Water_Path_Liquid_Maximum_2017.nc\n",
      "/proj/bolinc/users/x_sarbl/analysis/BS-FDBCK/Data/satellite/MODIS_postproc/MYD08_D3_Cloud_Water_Path_Liquid_Maximum_2018.nc\n",
      "/proj/bolinc/users/x_sarbl/analysis/BS-FDBCK/Data/satellite/MODIS_postproc/MYD08_D3_Cloud_Water_Path_Liquid_Mean_2012.nc\n",
      "/proj/bolinc/users/x_sarbl/analysis/BS-FDBCK/Data/satellite/MODIS_postproc/MYD08_D3_Cloud_Water_Path_Liquid_Mean_2013.nc\n",
      "/proj/bolinc/users/x_sarbl/analysis/BS-FDBCK/Data/satellite/MODIS_postproc/MYD08_D3_Cloud_Water_Path_Liquid_Mean_2014.nc\n",
      "/proj/bolinc/users/x_sarbl/analysis/BS-FDBCK/Data/satellite/MODIS_postproc/MYD08_D3_Cloud_Water_Path_Liquid_Mean_2015.nc\n",
      "/proj/bolinc/users/x_sarbl/analysis/BS-FDBCK/Data/satellite/MODIS_postproc/MYD08_D3_Cloud_Water_Path_Liquid_Mean_2016.nc\n",
      "/proj/bolinc/users/x_sarbl/analysis/BS-FDBCK/Data/satellite/MODIS_postproc/MYD08_D3_Cloud_Water_Path_Liquid_Mean_2017.nc\n",
      "/proj/bolinc/users/x_sarbl/analysis/BS-FDBCK/Data/satellite/MODIS_postproc/MYD08_D3_Cloud_Water_Path_Liquid_Mean_2018.nc\n",
      "/proj/bolinc/users/x_sarbl/analysis/BS-FDBCK/Data/satellite/MODIS_postproc/MYD08_D3_Cloud_Water_Path_Liquid_Mean_Uncertainty_2012.nc\n",
      "/proj/bolinc/users/x_sarbl/analysis/BS-FDBCK/Data/satellite/MODIS_postproc/MYD08_D3_Cloud_Water_Path_Liquid_Mean_Uncertainty_2013.nc\n",
      "/proj/bolinc/users/x_sarbl/analysis/BS-FDBCK/Data/satellite/MODIS_postproc/MYD08_D3_Cloud_Water_Path_Liquid_Mean_Uncertainty_2014.nc\n",
      "/proj/bolinc/users/x_sarbl/analysis/BS-FDBCK/Data/satellite/MODIS_postproc/MYD08_D3_Cloud_Water_Path_Liquid_Mean_Uncertainty_2015.nc\n",
      "/proj/bolinc/users/x_sarbl/analysis/BS-FDBCK/Data/satellite/MODIS_postproc/MYD08_D3_Cloud_Water_Path_Liquid_Mean_Uncertainty_2016.nc\n",
      "/proj/bolinc/users/x_sarbl/analysis/BS-FDBCK/Data/satellite/MODIS_postproc/MYD08_D3_Cloud_Water_Path_Liquid_Mean_Uncertainty_2017.nc\n",
      "/proj/bolinc/users/x_sarbl/analysis/BS-FDBCK/Data/satellite/MODIS_postproc/MYD08_D3_Cloud_Water_Path_Liquid_Mean_Uncertainty_2018.nc\n",
      "/proj/bolinc/users/x_sarbl/analysis/BS-FDBCK/Data/satellite/MODIS_postproc/MYD08_D3_Cloud_Water_Path_Liquid_Minimum_2012.nc\n",
      "/proj/bolinc/users/x_sarbl/analysis/BS-FDBCK/Data/satellite/MODIS_postproc/MYD08_D3_Cloud_Water_Path_Liquid_Minimum_2013.nc\n",
      "/proj/bolinc/users/x_sarbl/analysis/BS-FDBCK/Data/satellite/MODIS_postproc/MYD08_D3_Cloud_Water_Path_Liquid_Minimum_2014.nc\n",
      "/proj/bolinc/users/x_sarbl/analysis/BS-FDBCK/Data/satellite/MODIS_postproc/MYD08_D3_Cloud_Water_Path_Liquid_Minimum_2015.nc\n",
      "/proj/bolinc/users/x_sarbl/analysis/BS-FDBCK/Data/satellite/MODIS_postproc/MYD08_D3_Cloud_Water_Path_Liquid_Minimum_2016.nc\n",
      "/proj/bolinc/users/x_sarbl/analysis/BS-FDBCK/Data/satellite/MODIS_postproc/MYD08_D3_Cloud_Water_Path_Liquid_Minimum_2017.nc\n",
      "/proj/bolinc/users/x_sarbl/analysis/BS-FDBCK/Data/satellite/MODIS_postproc/MYD08_D3_Cloud_Water_Path_Liquid_Minimum_2018.nc\n",
      "/proj/bolinc/users/x_sarbl/analysis/BS-FDBCK/Data/satellite/MODIS_postproc/MYD08_D3_Cloud_Water_Path_Liquid_Standard_Deviation_2012.nc\n",
      "/proj/bolinc/users/x_sarbl/analysis/BS-FDBCK/Data/satellite/MODIS_postproc/MYD08_D3_Cloud_Water_Path_Liquid_Standard_Deviation_2013.nc\n",
      "/proj/bolinc/users/x_sarbl/analysis/BS-FDBCK/Data/satellite/MODIS_postproc/MYD08_D3_Cloud_Water_Path_Liquid_Standard_Deviation_2014.nc\n",
      "/proj/bolinc/users/x_sarbl/analysis/BS-FDBCK/Data/satellite/MODIS_postproc/MYD08_D3_Cloud_Water_Path_Liquid_Standard_Deviation_2015.nc\n",
      "/proj/bolinc/users/x_sarbl/analysis/BS-FDBCK/Data/satellite/MODIS_postproc/MYD08_D3_Cloud_Water_Path_Liquid_Standard_Deviation_2016.nc\n",
      "/proj/bolinc/users/x_sarbl/analysis/BS-FDBCK/Data/satellite/MODIS_postproc/MYD08_D3_Cloud_Water_Path_Liquid_Standard_Deviation_2017.nc\n",
      "/proj/bolinc/users/x_sarbl/analysis/BS-FDBCK/Data/satellite/MODIS_postproc/MYD08_D3_Cloud_Water_Path_Liquid_Standard_Deviation_2018.nc\n"
     ]
    }
   ],
   "source": [
    "for f in fl:\n",
    "    print(f)\n",
    " \n"
   ]
  },
  {
   "cell_type": "markdown",
   "id": "f40e97df-b222-481f-b8b9-eef4087aef3a",
   "metadata": {},
   "source": [
    "## Extract relevant data:"
   ]
  },
  {
   "cell_type": "code",
   "execution_count": 15,
   "id": "74e8f0e5-e313-4905-a956-07aea9cfa4a2",
   "metadata": {},
   "outputs": [
    {
     "name": "stderr",
     "output_type": "stream",
     "text": [
      "/home/x_sarbl/miniconda3/envs/env_analys/lib/python3.8/site-packages/xarray/backends/plugins.py:61: RuntimeWarning: Engine 'rasterio' loading failed:\n",
      "(click 8.0.1 (/home/x_sarbl/miniconda3/envs/env_analys/lib/python3.8/site-packages), Requirement.parse('click<8,>=4.0'), {'rasterio'})\n",
      "  warnings.warn(f\"Engine {name!r} loading failed:\\n{ex}\", RuntimeWarning)\n"
     ]
    }
   ],
   "source": [
    "ds_satellite = xr.open_mfdataset(fl).squeeze('band')"
   ]
  },
  {
   "cell_type": "code",
   "execution_count": 16,
   "id": "aee2ec0c-fd90-4a0d-90f6-40d29186f937",
   "metadata": {},
   "outputs": [
    {
     "data": {
      "text/plain": [
       "<matplotlib.collections.QuadMesh at 0x7fb7ec736100>"
      ]
     },
     "execution_count": 16,
     "metadata": {},
     "output_type": "execute_result"
    },
    {
     "data": {
      "image/png": "[encoded data removed]",
      "text/plain": [
       "<Figure size 432x288 with 2 Axes>"
      ]
     },
     "metadata": {
      "needs_background": "light"
     },
     "output_type": "display_data"
    }
   ],
   "source": [
    "ds_satellite['Cloud_Top_Temperature_Day_Mean'].mean('time').plot()"
   ]
  },
  {
   "cell_type": "code",
   "execution_count": 17,
   "id": "a712282d-6b80-4619-9987-584f54b60398",
   "metadata": {},
   "outputs": [],
   "source": [
    "ds_satellite['month'] = ds_satellite['time.month']\n",
    "#ds_satellite_sum = ds_satellite.where(ds_satellite['month'].isin([7,8]), drop=True)"
   ]
  },
  {
   "cell_type": "markdown",
   "id": "6e96464e-4fa0-47ce-bb54-b8571023e6c6",
   "metadata": {},
   "source": [
    "## Mask values by r_eff, tau, cloud top temperature and cloud water path: "
   ]
  },
  {
   "cell_type": "code",
   "execution_count": 18,
   "id": "5b149dd4-bc22-4971-9284-c2526c27ec94",
   "metadata": {},
   "outputs": [],
   "source": [
    "ds_satellite_mask = ds_satellite.where(ds_satellite['Cloud_Effective_Radius_Liquid_Mean']>=r_eff_lim)\n",
    "ds_satellite_mask = ds_satellite_mask.where(ds_satellite_mask['Cloud_Optical_Thickness_Liquid_Mean']>tau_lims[0])\n",
    "ds_satellite_mask = ds_satellite_mask.where(ds_satellite_mask['Cloud_Optical_Thickness_Liquid_Mean']<tau_lims[1])\n",
    "ds_satellite_mask = ds_satellite_mask.where(ds_satellite_mask['Cloud_Top_Temperature_Day_Mean']>(cloud_top_temp_above+273.15))\n",
    "ds_satellite_mask = ds_satellite_mask.where(ds_satellite_mask['Cloud_Water_Path_Liquid_Mean']>=cld_water_path_above)"
   ]
  },
  {
   "cell_type": "code",
   "execution_count": 19,
   "id": "547e4fed-74f2-4952-aa5c-7c662be90ffd",
   "metadata": {},
   "outputs": [
    {
     "data": {
      "text/plain": [
       "(array([  110524.,  2138490.,  8572168., 15626957., 24674513., 27398772.,\n",
       "        23855323., 28044220.,  6942432.,    33324.]),\n",
       " array([-88.78999  , -74.93099  , -61.07199  , -47.21299  , -33.35399  ,\n",
       "        -19.494987 ,  -5.6359863,   8.223015 ,  22.082016 ,  35.941017 ,\n",
       "         49.80002  ], dtype=float32),\n",
       " <BarContainer object of 10 artists>)"
      ]
     },
     "execution_count": 19,
     "metadata": {},
     "output_type": "execute_result"
    },
    {
     "data": {
      "image/png": "[encoded data removed]",
      "text/plain": [
       "<Figure size 432x288 with 1 Axes>"
      ]
     },
     "metadata": {
      "needs_background": "light"
     },
     "output_type": "display_data"
    }
   ],
   "source": [
    "(ds_satellite_mask['Cloud_Top_Temperature_Day_Mean']-273.15).plot.hist(alpha=.5)\n",
    "\n",
    "(ds_satellite['Cloud_Top_Temperature_Day_Mean']-273.15).plot.hist(alpha=.5)"
   ]
  },
  {
   "cell_type": "markdown",
   "id": "a3e8dbe7-beb0-4ba8-8ea0-358e4cfdc599",
   "metadata": {},
   "source": [
    "## Mask values by time"
   ]
  },
  {
   "cell_type": "code",
   "execution_count": 20,
   "id": "b40096e0-5135-42b9-b71c-2c88fe0a9d05",
   "metadata": {},
   "outputs": [],
   "source": [
    "ds_satellite_mask['month'] = ds_satellite_mask['time.month']\n",
    "ds_satellite_mask['is_JA'] = ds_satellite_mask['month'].isin([7,8])\n",
    "ds_satellite_mask['is_JJA'] = ds_satellite_mask['month'].isin([6,7,8])\n",
    "#df_sum = ds_satellite_mask_sum[['Cloud_Effective_Radius_Liquid_Mean']].squeeze().sel(x = slice(*lon_lims), y = slice(*lat_lims[::-1])).to_dataframe()#'band')\n",
    "#df_sum = df_sum.dropna().reset_index()\n",
    "#df_sum_cnt = df_sum.groupby([df_sum['y'],df_sum['x']]).count()"
   ]
  },
  {
   "cell_type": "markdown",
   "id": "90c798d9-2509-4c6b-8297-f4777a055af3",
   "metadata": {},
   "source": [
    "## Get correct lat lon:"
   ]
  },
  {
   "cell_type": "code",
   "execution_count": 21,
   "id": "3b556956-503b-4e0a-9473-ade005c62b76",
   "metadata": {
    "lines_to_next_cell": 2
   },
   "outputs": [],
   "source": [
    "ds_sat_hyy = ds_satellite_mask.squeeze().sel(x = slice(*lon_lims), y = slice(*lat_lims[::-1]))#.to_dataframe()#'band')"
   ]
  },
  {
   "cell_type": "markdown",
   "id": "aa430299-fc51-4060-9883-dd4032901dfd",
   "metadata": {},
   "source": [
    "## Get OA data: "
   ]
  },
  {
   "cell_type": "code",
   "execution_count": 22,
   "id": "2532e72c-51dd-4ff0-b0bf-6bc158c056e8",
   "metadata": {},
   "outputs": [],
   "source": [
    "import datetime"
   ]
  },
  {
   "cell_type": "code",
   "execution_count": 23,
   "id": "7b7ade28-5a5e-4556-a938-720c50212495",
   "metadata": {},
   "outputs": [],
   "source": [
    "from bs_fdbck.constants import path_measurement_data\n",
    "import pandas as pd"
   ]
  },
  {
   "cell_type": "code",
   "execution_count": 24,
   "id": "f6ce339c-879f-4075-b6e5-7556c39ef004",
   "metadata": {
    "lines_to_next_cell": 2
   },
   "outputs": [],
   "source": [
    "#fn_ATTO_data = path_measurement_data / 'ACSM_DEFAULT.mat'\n",
    "postproc_data = path_measurement_data /'ATTO'/'processed'\n",
    "\n",
    "path_comb_data_full_time =postproc_data /'ATTO_data_comb_hourly.nc'"
   ]
  },
  {
   "cell_type": "code",
   "execution_count": 25,
   "id": "8efc24a7-b990-43de-808b-45285fb11cec",
   "metadata": {},
   "outputs": [],
   "source": [
    "ds_observations = xr.open_dataset(path_comb_data_full_time).sel(time_traj=0)"
   ]
  },
  {
   "cell_type": "code",
   "execution_count": 26,
   "id": "e1cb6ecb-d90e-4291-b40f-0d1d83125247",
   "metadata": {},
   "outputs": [],
   "source": [
    "ds_observations = ds_observations[['N50-500','N100-500','N200-500','OA']]"
   ]
  },
  {
   "cell_type": "code",
   "execution_count": 27,
   "id": "9b8e3e1f-0c2f-4e7a-800c-aae972d39b41",
   "metadata": {},
   "outputs": [],
   "source": [
    "ds_observations['day_of_year'] = ds_observations['time.dayofyear']\n",
    "ds_observations['month'] = ds_observations['time.month']"
   ]
  },
  {
   "cell_type": "code",
   "execution_count": 28,
   "id": "3831865b-90b4-44d5-9b93-c9e7361c956e",
   "metadata": {},
   "outputs": [],
   "source": [
    "import matplotlib.pyplot as plt"
   ]
  },
  {
   "cell_type": "markdown",
   "id": "2bf74937-b0fb-4210-b73d-d9446c97b4dc",
   "metadata": {
    "tags": []
   },
   "source": [
    "## Daytime OA: "
   ]
  },
  {
   "cell_type": "code",
   "execution_count": 29,
   "id": "5e6d4fdc-103f-4d17-bcff-ebe99b18e346",
   "metadata": {
    "lines_to_next_cell": 2
   },
   "outputs": [],
   "source": [
    "ds_observations['hour'] = ds_observations['time.hour']\n",
    "\n",
    "hour = ds_observations['hour']\n",
    "\n",
    "ds_observations_maskh = ds_observations.where((hour >daytime_from) & (hour<daytime_to))"
   ]
  },
  {
   "cell_type": "code",
   "execution_count": 30,
   "id": "6426b40d-9fcc-490a-8437-84f99e69445f",
   "metadata": {},
   "outputs": [],
   "source": [
    "ds_observations_med_mh = ds_observations_maskh.resample(time='1D').median()\n",
    "ds_observations_med_mean = ds_observations_maskh.resample(time='1D').mean()"
   ]
  },
  {
   "cell_type": "code",
   "execution_count": 31,
   "id": "4f31fac1-e112-4c63-94cc-0e218c518708",
   "metadata": {},
   "outputs": [],
   "source": [
    "ds_observations_med_mh = ds_observations_med_mh.drop('time_traj')"
   ]
  },
  {
   "cell_type": "code",
   "execution_count": null,
   "id": "8e9bc9b3-f5b3-461c-a646-23bcbda2cd6f",
   "metadata": {},
   "outputs": [],
   "source": []
  },
  {
   "cell_type": "code",
   "execution_count": 32,
   "id": "7a86d019-eef5-4e33-8b20-83f21e018cc8",
   "metadata": {},
   "outputs": [],
   "source": [
    "ds_sat_hyy['OA'] = ds_observations_med_mh['OA']\n",
    "for v in ds_observations_med_mh.data_vars:\n",
    "    ds_sat_hyy[v] = ds_observations_med_mh[v]"
   ]
  },
  {
   "cell_type": "code",
   "execution_count": 33,
   "id": "af70beef-ba88-474a-91ab-5e4c1e15e4b1",
   "metadata": {},
   "outputs": [],
   "source": [
    "#df_sat_nonan = ds_sat_hyy.to_dataframe().dropna()"
   ]
  },
  {
   "cell_type": "code",
   "execution_count": 34,
   "id": "232b4121-7d6c-4366-bfb1-44e9a81da253",
   "metadata": {},
   "outputs": [
    {
     "data": {
      "text/plain": [
       "(array([38248., 26893., 16091.,  9725.,  5670.,  3106.,  1682.,   855.,\n",
       "          415.,   220.]),\n",
       " array([ 5.0099998,  9.502    , 13.9939995, 18.486    , 22.978    ,\n",
       "        27.47     , 31.962    , 36.454    , 40.946    , 45.438    ,\n",
       "        49.93     ], dtype=float32),\n",
       " <BarContainer object of 10 artists>)"
      ]
     },
     "execution_count": 34,
     "metadata": {},
     "output_type": "execute_result"
    },
    {
     "data": {
      "image/png": "[encoded data removed]",
      "text/plain": [
       "<Figure size 432x288 with 1 Axes>"
      ]
     },
     "metadata": {
      "needs_background": "light"
     },
     "output_type": "display_data"
    }
   ],
   "source": [
    "ds_sat_hyy['Cloud_Optical_Thickness_Liquid_Mean'].plot.hist()"
   ]
  },
  {
   "cell_type": "code",
   "execution_count": 35,
   "id": "7cddb538-90e6-4db5-9698-84351d097ba7",
   "metadata": {},
   "outputs": [],
   "source": [
    "#da = df_sat_nonan[['Cloud_Top_Temperature_Day_Maximum']].reset_index().groupby(['y','x']).count().to_xarray()['Cloud_Top_Temperature_Day_Maximum']#.plot()\n",
    "#da.where(da>110).plot()"
   ]
  },
  {
   "cell_type": "code",
   "execution_count": 36,
   "id": "8d6d90da-0000-4c6e-b1c8-e690ad8a666d",
   "metadata": {},
   "outputs": [],
   "source": [
    "#ds_sat_hyy['number_of_values_in_pixel'] = da#"
   ]
  },
  {
   "cell_type": "code",
   "execution_count": 37,
   "id": "5ea9bad7-13ae-41d7-9c4f-75e225c7cd78",
   "metadata": {},
   "outputs": [],
   "source": [
    "ds_sat_hyy = ds_sat_hyy.rename({'y':'LAT','x':'LON'}).squeeze()#.to_dataframe().dropna()"
   ]
  },
  {
   "cell_type": "markdown",
   "id": "840800b0-d325-4545-a920-8948b67113fb",
   "metadata": {},
   "source": [
    "## Rename vars"
   ]
  },
  {
   "cell_type": "code",
   "execution_count": 38,
   "id": "d761a1ec-2893-4f9e-b024-3baa08adfbc9",
   "metadata": {},
   "outputs": [],
   "source": [
    "ds_sat_hyy_rn = ds_sat_hyy.rename({'Cloud_Effective_Radius_Liquid_Mean':'CER (micrometer)',\n",
    "                           'Cloud_Optical_Thickness_Liquid_Mean':'COT',\n",
    "                           'Cloud_Water_Path_Liquid_Mean':'CWP (g m^-2)',\n",
    "                          'OA':'OA (microgram m^-3)',\n",
    "                          })"
   ]
  },
  {
   "cell_type": "markdown",
   "id": "eb39353a-96f1-4d2d-a80b-5d8c9cba4f09",
   "metadata": {},
   "source": [
    "## Save dataset: "
   ]
  },
  {
   "cell_type": "code",
   "execution_count": 39,
   "id": "f7d59d6e-d9a4-4c80-8e5f-5ec820ed4016",
   "metadata": {},
   "outputs": [
    {
     "data": {
      "text/plain": [
       "PosixPath('/proj/bolinc/users/x_sarbl/analysis/BS-FDBCK/Data/satellite/MODIS_postproc_lev2/MODIS_date_ATTO.nc')"
      ]
     },
     "execution_count": 39,
     "metadata": {},
     "output_type": "execute_result"
    }
   ],
   "source": [
    "outfilename"
   ]
  },
  {
   "cell_type": "code",
   "execution_count": null,
   "id": "0efd3dc0-661d-44d6-b3c9-41c31ad5b2d8",
   "metadata": {},
   "outputs": [],
   "source": []
  },
  {
   "cell_type": "code",
   "execution_count": 40,
   "id": "2b308f47-95bf-4f84-8750-7aea269638cc",
   "metadata": {},
   "outputs": [],
   "source": [
    "ds_sat_hyy_rn.to_netcdf(outfilename)"
   ]
  },
  {
   "cell_type": "code",
   "execution_count": 41,
   "id": "c307cb53-4cde-4328-9260-43801487b801",
   "metadata": {},
   "outputs": [
    {
     "data": {
      "text/plain": [
       "PosixPath('/proj/bolinc/users/x_sarbl/analysis/BS-FDBCK/Data/satellite/MODIS_postproc_lev2/MODIS_date_ATTO.nc')"
      ]
     },
     "execution_count": 41,
     "metadata": {},
     "output_type": "execute_result"
    }
   ],
   "source": [
    "outfilename"
   ]
  },
  {
   "cell_type": "markdown",
   "id": "0f5f3c58-5761-4be1-ba94-dc49a48a9dc7",
   "metadata": {
    "tags": []
   },
   "source": [
    "# Extra analysis"
   ]
  },
  {
   "cell_type": "code",
   "execution_count": 42,
   "id": "0d99fb18-d131-4799-8a82-14813398ecb6",
   "metadata": {},
   "outputs": [
    {
     "ename": "KeyboardInterrupt",
     "evalue": "",
     "output_type": "error",
     "traceback": [
      "\u001B[0;31m---------------------------------------------------------------------------\u001B[0m",
      "\u001B[0;31mKeyboardInterrupt\u001B[0m                         Traceback (most recent call last)",
      "\u001B[0;32m/tmp/ipykernel_153717/4076879410.py\u001B[0m in \u001B[0;36m<module>\u001B[0;34m\u001B[0m\n\u001B[0;32m----> 1\u001B[0;31m \u001B[0mdf_sat\u001B[0m \u001B[0;34m=\u001B[0m \u001B[0mds_sat_hyy\u001B[0m\u001B[0;34m.\u001B[0m\u001B[0mto_dataframe\u001B[0m\u001B[0;34m(\u001B[0m\u001B[0;34m)\u001B[0m\u001B[0;34m.\u001B[0m\u001B[0mdropna\u001B[0m\u001B[0;34m(\u001B[0m\u001B[0;34m)\u001B[0m\u001B[0;34m\u001B[0m\u001B[0;34m\u001B[0m\u001B[0m\n\u001B[0m",
      "\u001B[0;32m~/miniconda3/envs/env_analys/lib/python3.8/site-packages/xarray/core/dataset.py\u001B[0m in \u001B[0;36mto_dataframe\u001B[0;34m(self, dim_order)\u001B[0m\n\u001B[1;32m   5352\u001B[0m         \u001B[0mordered_dims\u001B[0m \u001B[0;34m=\u001B[0m \u001B[0mself\u001B[0m\u001B[0;34m.\u001B[0m\u001B[0m_normalize_dim_order\u001B[0m\u001B[0;34m(\u001B[0m\u001B[0mdim_order\u001B[0m\u001B[0;34m=\u001B[0m\u001B[0mdim_order\u001B[0m\u001B[0;34m)\u001B[0m\u001B[0;34m\u001B[0m\u001B[0;34m\u001B[0m\u001B[0m\n\u001B[1;32m   5353\u001B[0m \u001B[0;34m\u001B[0m\u001B[0m\n\u001B[0;32m-> 5354\u001B[0;31m         \u001B[0;32mreturn\u001B[0m \u001B[0mself\u001B[0m\u001B[0;34m.\u001B[0m\u001B[0m_to_dataframe\u001B[0m\u001B[0;34m(\u001B[0m\u001B[0mordered_dims\u001B[0m\u001B[0;34m=\u001B[0m\u001B[0mordered_dims\u001B[0m\u001B[0;34m)\u001B[0m\u001B[0;34m\u001B[0m\u001B[0;34m\u001B[0m\u001B[0m\n\u001B[0m\u001B[1;32m   5355\u001B[0m \u001B[0;34m\u001B[0m\u001B[0m\n\u001B[1;32m   5356\u001B[0m     def _set_sparse_data_from_dataframe(\n",
      "\u001B[0;32m~/miniconda3/envs/env_analys/lib/python3.8/site-packages/xarray/core/dataset.py\u001B[0m in \u001B[0;36m_to_dataframe\u001B[0;34m(self, ordered_dims)\u001B[0m\n\u001B[1;32m   5316\u001B[0m     \u001B[0;32mdef\u001B[0m \u001B[0m_to_dataframe\u001B[0m\u001B[0;34m(\u001B[0m\u001B[0mself\u001B[0m\u001B[0;34m,\u001B[0m \u001B[0mordered_dims\u001B[0m\u001B[0;34m:\u001B[0m \u001B[0mMapping\u001B[0m\u001B[0;34m[\u001B[0m\u001B[0mHashable\u001B[0m\u001B[0;34m,\u001B[0m \u001B[0mint\u001B[0m\u001B[0;34m]\u001B[0m\u001B[0;34m)\u001B[0m\u001B[0;34m:\u001B[0m\u001B[0;34m\u001B[0m\u001B[0;34m\u001B[0m\u001B[0m\n\u001B[1;32m   5317\u001B[0m         \u001B[0mcolumns\u001B[0m \u001B[0;34m=\u001B[0m \u001B[0;34m[\u001B[0m\u001B[0mk\u001B[0m \u001B[0;32mfor\u001B[0m \u001B[0mk\u001B[0m \u001B[0;32min\u001B[0m \u001B[0mself\u001B[0m\u001B[0;34m.\u001B[0m\u001B[0mvariables\u001B[0m \u001B[0;32mif\u001B[0m \u001B[0mk\u001B[0m \u001B[0;32mnot\u001B[0m \u001B[0;32min\u001B[0m \u001B[0mself\u001B[0m\u001B[0;34m.\u001B[0m\u001B[0mdims\u001B[0m\u001B[0;34m]\u001B[0m\u001B[0;34m\u001B[0m\u001B[0;34m\u001B[0m\u001B[0m\n\u001B[0;32m-> 5318\u001B[0;31m         data = [\n\u001B[0m\u001B[1;32m   5319\u001B[0m             \u001B[0mself\u001B[0m\u001B[0;34m.\u001B[0m\u001B[0m_variables\u001B[0m\u001B[0;34m[\u001B[0m\u001B[0mk\u001B[0m\u001B[0;34m]\u001B[0m\u001B[0;34m.\u001B[0m\u001B[0mset_dims\u001B[0m\u001B[0;34m(\u001B[0m\u001B[0mordered_dims\u001B[0m\u001B[0;34m)\u001B[0m\u001B[0;34m.\u001B[0m\u001B[0mvalues\u001B[0m\u001B[0;34m.\u001B[0m\u001B[0mreshape\u001B[0m\u001B[0;34m(\u001B[0m\u001B[0;34m-\u001B[0m\u001B[0;36m1\u001B[0m\u001B[0;34m)\u001B[0m\u001B[0;34m\u001B[0m\u001B[0;34m\u001B[0m\u001B[0m\n\u001B[1;32m   5320\u001B[0m             \u001B[0;32mfor\u001B[0m \u001B[0mk\u001B[0m \u001B[0;32min\u001B[0m \u001B[0mcolumns\u001B[0m\u001B[0;34m\u001B[0m\u001B[0;34m\u001B[0m\u001B[0m\n",
      "\u001B[0;32m~/miniconda3/envs/env_analys/lib/python3.8/site-packages/xarray/core/dataset.py\u001B[0m in \u001B[0;36m<listcomp>\u001B[0;34m(.0)\u001B[0m\n\u001B[1;32m   5317\u001B[0m         \u001B[0mcolumns\u001B[0m \u001B[0;34m=\u001B[0m \u001B[0;34m[\u001B[0m\u001B[0mk\u001B[0m \u001B[0;32mfor\u001B[0m \u001B[0mk\u001B[0m \u001B[0;32min\u001B[0m \u001B[0mself\u001B[0m\u001B[0;34m.\u001B[0m\u001B[0mvariables\u001B[0m \u001B[0;32mif\u001B[0m \u001B[0mk\u001B[0m \u001B[0;32mnot\u001B[0m \u001B[0;32min\u001B[0m \u001B[0mself\u001B[0m\u001B[0;34m.\u001B[0m\u001B[0mdims\u001B[0m\u001B[0;34m]\u001B[0m\u001B[0;34m\u001B[0m\u001B[0;34m\u001B[0m\u001B[0m\n\u001B[1;32m   5318\u001B[0m         data = [\n\u001B[0;32m-> 5319\u001B[0;31m             \u001B[0mself\u001B[0m\u001B[0;34m.\u001B[0m\u001B[0m_variables\u001B[0m\u001B[0;34m[\u001B[0m\u001B[0mk\u001B[0m\u001B[0;34m]\u001B[0m\u001B[0;34m.\u001B[0m\u001B[0mset_dims\u001B[0m\u001B[0;34m(\u001B[0m\u001B[0mordered_dims\u001B[0m\u001B[0;34m)\u001B[0m\u001B[0;34m.\u001B[0m\u001B[0mvalues\u001B[0m\u001B[0;34m.\u001B[0m\u001B[0mreshape\u001B[0m\u001B[0;34m(\u001B[0m\u001B[0;34m-\u001B[0m\u001B[0;36m1\u001B[0m\u001B[0;34m)\u001B[0m\u001B[0;34m\u001B[0m\u001B[0;34m\u001B[0m\u001B[0m\n\u001B[0m\u001B[1;32m   5320\u001B[0m             \u001B[0;32mfor\u001B[0m \u001B[0mk\u001B[0m \u001B[0;32min\u001B[0m \u001B[0mcolumns\u001B[0m\u001B[0;34m\u001B[0m\u001B[0;34m\u001B[0m\u001B[0m\n\u001B[1;32m   5321\u001B[0m         ]\n",
      "\u001B[0;32m~/miniconda3/envs/env_analys/lib/python3.8/site-packages/xarray/core/variable.py\u001B[0m in \u001B[0;36mvalues\u001B[0;34m(self)\u001B[0m\n\u001B[1;32m    515\u001B[0m     \u001B[0;32mdef\u001B[0m \u001B[0mvalues\u001B[0m\u001B[0;34m(\u001B[0m\u001B[0mself\u001B[0m\u001B[0;34m)\u001B[0m\u001B[0;34m:\u001B[0m\u001B[0;34m\u001B[0m\u001B[0;34m\u001B[0m\u001B[0m\n\u001B[1;32m    516\u001B[0m         \u001B[0;34m\"\"\"The variable's data as a numpy.ndarray\"\"\"\u001B[0m\u001B[0;34m\u001B[0m\u001B[0;34m\u001B[0m\u001B[0m\n\u001B[0;32m--> 517\u001B[0;31m         \u001B[0;32mreturn\u001B[0m \u001B[0m_as_array_or_item\u001B[0m\u001B[0;34m(\u001B[0m\u001B[0mself\u001B[0m\u001B[0;34m.\u001B[0m\u001B[0m_data\u001B[0m\u001B[0;34m)\u001B[0m\u001B[0;34m\u001B[0m\u001B[0;34m\u001B[0m\u001B[0m\n\u001B[0m\u001B[1;32m    518\u001B[0m \u001B[0;34m\u001B[0m\u001B[0m\n\u001B[1;32m    519\u001B[0m     \u001B[0;34m@\u001B[0m\u001B[0mvalues\u001B[0m\u001B[0;34m.\u001B[0m\u001B[0msetter\u001B[0m\u001B[0;34m\u001B[0m\u001B[0;34m\u001B[0m\u001B[0m\n",
      "\u001B[0;32m~/miniconda3/envs/env_analys/lib/python3.8/site-packages/xarray/core/variable.py\u001B[0m in \u001B[0;36m_as_array_or_item\u001B[0;34m(data)\u001B[0m\n\u001B[1;32m    257\u001B[0m     \u001B[0mTODO\u001B[0m\u001B[0;34m:\u001B[0m \u001B[0mremove\u001B[0m \u001B[0mthis\u001B[0m \u001B[0;34m(\u001B[0m\u001B[0mreplace\u001B[0m \u001B[0;32mwith\u001B[0m \u001B[0mnp\u001B[0m\u001B[0;34m.\u001B[0m\u001B[0masarray\u001B[0m\u001B[0;34m)\u001B[0m \u001B[0monce\u001B[0m \u001B[0mthese\u001B[0m \u001B[0missues\u001B[0m \u001B[0mare\u001B[0m \u001B[0mfixed\u001B[0m\u001B[0;34m\u001B[0m\u001B[0;34m\u001B[0m\u001B[0m\n\u001B[1;32m    258\u001B[0m     \"\"\"\n\u001B[0;32m--> 259\u001B[0;31m     \u001B[0mdata\u001B[0m \u001B[0;34m=\u001B[0m \u001B[0mnp\u001B[0m\u001B[0;34m.\u001B[0m\u001B[0masarray\u001B[0m\u001B[0;34m(\u001B[0m\u001B[0mdata\u001B[0m\u001B[0;34m)\u001B[0m\u001B[0;34m\u001B[0m\u001B[0;34m\u001B[0m\u001B[0m\n\u001B[0m\u001B[1;32m    260\u001B[0m     \u001B[0;32mif\u001B[0m \u001B[0mdata\u001B[0m\u001B[0;34m.\u001B[0m\u001B[0mndim\u001B[0m \u001B[0;34m==\u001B[0m \u001B[0;36m0\u001B[0m\u001B[0;34m:\u001B[0m\u001B[0;34m\u001B[0m\u001B[0;34m\u001B[0m\u001B[0m\n\u001B[1;32m    261\u001B[0m         \u001B[0;32mif\u001B[0m \u001B[0mdata\u001B[0m\u001B[0;34m.\u001B[0m\u001B[0mdtype\u001B[0m\u001B[0;34m.\u001B[0m\u001B[0mkind\u001B[0m \u001B[0;34m==\u001B[0m \u001B[0;34m\"M\"\u001B[0m\u001B[0;34m:\u001B[0m\u001B[0;34m\u001B[0m\u001B[0;34m\u001B[0m\u001B[0m\n",
      "\u001B[0;32m~/miniconda3/envs/env_analys/lib/python3.8/site-packages/dask/array/core.py\u001B[0m in \u001B[0;36m__array__\u001B[0;34m(self, dtype, **kwargs)\u001B[0m\n\u001B[1;32m   1511\u001B[0m \u001B[0;34m\u001B[0m\u001B[0m\n\u001B[1;32m   1512\u001B[0m     \u001B[0;32mdef\u001B[0m \u001B[0m__array__\u001B[0m\u001B[0;34m(\u001B[0m\u001B[0mself\u001B[0m\u001B[0;34m,\u001B[0m \u001B[0mdtype\u001B[0m\u001B[0;34m=\u001B[0m\u001B[0;32mNone\u001B[0m\u001B[0;34m,\u001B[0m \u001B[0;34m**\u001B[0m\u001B[0mkwargs\u001B[0m\u001B[0;34m)\u001B[0m\u001B[0;34m:\u001B[0m\u001B[0;34m\u001B[0m\u001B[0;34m\u001B[0m\u001B[0m\n\u001B[0;32m-> 1513\u001B[0;31m         \u001B[0mx\u001B[0m \u001B[0;34m=\u001B[0m \u001B[0mself\u001B[0m\u001B[0;34m.\u001B[0m\u001B[0mcompute\u001B[0m\u001B[0;34m(\u001B[0m\u001B[0;34m)\u001B[0m\u001B[0;34m\u001B[0m\u001B[0;34m\u001B[0m\u001B[0m\n\u001B[0m\u001B[1;32m   1514\u001B[0m         \u001B[0;32mif\u001B[0m \u001B[0mdtype\u001B[0m \u001B[0;32mand\u001B[0m \u001B[0mx\u001B[0m\u001B[0;34m.\u001B[0m\u001B[0mdtype\u001B[0m \u001B[0;34m!=\u001B[0m \u001B[0mdtype\u001B[0m\u001B[0;34m:\u001B[0m\u001B[0;34m\u001B[0m\u001B[0;34m\u001B[0m\u001B[0m\n\u001B[1;32m   1515\u001B[0m             \u001B[0mx\u001B[0m \u001B[0;34m=\u001B[0m \u001B[0mx\u001B[0m\u001B[0;34m.\u001B[0m\u001B[0mastype\u001B[0m\u001B[0;34m(\u001B[0m\u001B[0mdtype\u001B[0m\u001B[0;34m)\u001B[0m\u001B[0;34m\u001B[0m\u001B[0;34m\u001B[0m\u001B[0m\n",
      "\u001B[0;32m~/miniconda3/envs/env_analys/lib/python3.8/site-packages/dask/base.py\u001B[0m in \u001B[0;36mcompute\u001B[0;34m(self, **kwargs)\u001B[0m\n\u001B[1;32m    284\u001B[0m         \u001B[0mdask\u001B[0m\u001B[0;34m.\u001B[0m\u001B[0mbase\u001B[0m\u001B[0;34m.\u001B[0m\u001B[0mcompute\u001B[0m\u001B[0;34m\u001B[0m\u001B[0;34m\u001B[0m\u001B[0m\n\u001B[1;32m    285\u001B[0m         \"\"\"\n\u001B[0;32m--> 286\u001B[0;31m         \u001B[0;34m(\u001B[0m\u001B[0mresult\u001B[0m\u001B[0;34m,\u001B[0m\u001B[0;34m)\u001B[0m \u001B[0;34m=\u001B[0m \u001B[0mcompute\u001B[0m\u001B[0;34m(\u001B[0m\u001B[0mself\u001B[0m\u001B[0;34m,\u001B[0m \u001B[0mtraverse\u001B[0m\u001B[0;34m=\u001B[0m\u001B[0;32mFalse\u001B[0m\u001B[0;34m,\u001B[0m \u001B[0;34m**\u001B[0m\u001B[0mkwargs\u001B[0m\u001B[0;34m)\u001B[0m\u001B[0;34m\u001B[0m\u001B[0;34m\u001B[0m\u001B[0m\n\u001B[0m\u001B[1;32m    287\u001B[0m         \u001B[0;32mreturn\u001B[0m \u001B[0mresult\u001B[0m\u001B[0;34m\u001B[0m\u001B[0;34m\u001B[0m\u001B[0m\n\u001B[1;32m    288\u001B[0m \u001B[0;34m\u001B[0m\u001B[0m\n",
      "\u001B[0;32m~/miniconda3/envs/env_analys/lib/python3.8/site-packages/dask/base.py\u001B[0m in \u001B[0;36mcompute\u001B[0;34m(*args, **kwargs)\u001B[0m\n\u001B[1;32m    566\u001B[0m         \u001B[0mpostcomputes\u001B[0m\u001B[0;34m.\u001B[0m\u001B[0mappend\u001B[0m\u001B[0;34m(\u001B[0m\u001B[0mx\u001B[0m\u001B[0;34m.\u001B[0m\u001B[0m__dask_postcompute__\u001B[0m\u001B[0;34m(\u001B[0m\u001B[0;34m)\u001B[0m\u001B[0;34m)\u001B[0m\u001B[0;34m\u001B[0m\u001B[0;34m\u001B[0m\u001B[0m\n\u001B[1;32m    567\u001B[0m \u001B[0;34m\u001B[0m\u001B[0m\n\u001B[0;32m--> 568\u001B[0;31m     \u001B[0mresults\u001B[0m \u001B[0;34m=\u001B[0m \u001B[0mschedule\u001B[0m\u001B[0;34m(\u001B[0m\u001B[0mdsk\u001B[0m\u001B[0;34m,\u001B[0m \u001B[0mkeys\u001B[0m\u001B[0;34m,\u001B[0m \u001B[0;34m**\u001B[0m\u001B[0mkwargs\u001B[0m\u001B[0;34m)\u001B[0m\u001B[0;34m\u001B[0m\u001B[0;34m\u001B[0m\u001B[0m\n\u001B[0m\u001B[1;32m    569\u001B[0m     \u001B[0;32mreturn\u001B[0m \u001B[0mrepack\u001B[0m\u001B[0;34m(\u001B[0m\u001B[0;34m[\u001B[0m\u001B[0mf\u001B[0m\u001B[0;34m(\u001B[0m\u001B[0mr\u001B[0m\u001B[0;34m,\u001B[0m \u001B[0;34m*\u001B[0m\u001B[0ma\u001B[0m\u001B[0;34m)\u001B[0m \u001B[0;32mfor\u001B[0m \u001B[0mr\u001B[0m\u001B[0;34m,\u001B[0m \u001B[0;34m(\u001B[0m\u001B[0mf\u001B[0m\u001B[0;34m,\u001B[0m \u001B[0ma\u001B[0m\u001B[0;34m)\u001B[0m \u001B[0;32min\u001B[0m \u001B[0mzip\u001B[0m\u001B[0;34m(\u001B[0m\u001B[0mresults\u001B[0m\u001B[0;34m,\u001B[0m \u001B[0mpostcomputes\u001B[0m\u001B[0;34m)\u001B[0m\u001B[0;34m]\u001B[0m\u001B[0;34m)\u001B[0m\u001B[0;34m\u001B[0m\u001B[0;34m\u001B[0m\u001B[0m\n\u001B[1;32m    570\u001B[0m \u001B[0;34m\u001B[0m\u001B[0m\n",
      "\u001B[0;32m~/miniconda3/envs/env_analys/lib/python3.8/site-packages/dask/threaded.py\u001B[0m in \u001B[0;36mget\u001B[0;34m(dsk, result, cache, num_workers, pool, **kwargs)\u001B[0m\n\u001B[1;32m     77\u001B[0m             \u001B[0mpool\u001B[0m \u001B[0;34m=\u001B[0m \u001B[0mMultiprocessingPoolExecutor\u001B[0m\u001B[0;34m(\u001B[0m\u001B[0mpool\u001B[0m\u001B[0;34m)\u001B[0m\u001B[0;34m\u001B[0m\u001B[0;34m\u001B[0m\u001B[0m\n\u001B[1;32m     78\u001B[0m \u001B[0;34m\u001B[0m\u001B[0m\n\u001B[0;32m---> 79\u001B[0;31m     results = get_async(\n\u001B[0m\u001B[1;32m     80\u001B[0m         \u001B[0mpool\u001B[0m\u001B[0;34m.\u001B[0m\u001B[0msubmit\u001B[0m\u001B[0;34m,\u001B[0m\u001B[0;34m\u001B[0m\u001B[0;34m\u001B[0m\u001B[0m\n\u001B[1;32m     81\u001B[0m         \u001B[0mpool\u001B[0m\u001B[0;34m.\u001B[0m\u001B[0m_max_workers\u001B[0m\u001B[0;34m,\u001B[0m\u001B[0;34m\u001B[0m\u001B[0;34m\u001B[0m\u001B[0m\n",
      "\u001B[0;32m~/miniconda3/envs/env_analys/lib/python3.8/site-packages/dask/local.py\u001B[0m in \u001B[0;36mget_async\u001B[0;34m(submit, num_workers, dsk, result, cache, get_id, rerun_exceptions_locally, pack_exception, raise_exception, callbacks, dumps, loads, chunksize, **kwargs)\u001B[0m\n\u001B[1;32m    501\u001B[0m             \u001B[0;32mwhile\u001B[0m \u001B[0mstate\u001B[0m\u001B[0;34m[\u001B[0m\u001B[0;34m\"waiting\"\u001B[0m\u001B[0;34m]\u001B[0m \u001B[0;32mor\u001B[0m \u001B[0mstate\u001B[0m\u001B[0;34m[\u001B[0m\u001B[0;34m\"ready\"\u001B[0m\u001B[0;34m]\u001B[0m \u001B[0;32mor\u001B[0m \u001B[0mstate\u001B[0m\u001B[0;34m[\u001B[0m\u001B[0;34m\"running\"\u001B[0m\u001B[0;34m]\u001B[0m\u001B[0;34m:\u001B[0m\u001B[0;34m\u001B[0m\u001B[0;34m\u001B[0m\u001B[0m\n\u001B[1;32m    502\u001B[0m                 \u001B[0mfire_tasks\u001B[0m\u001B[0;34m(\u001B[0m\u001B[0mchunksize\u001B[0m\u001B[0;34m)\u001B[0m\u001B[0;34m\u001B[0m\u001B[0;34m\u001B[0m\u001B[0m\n\u001B[0;32m--> 503\u001B[0;31m                 \u001B[0;32mfor\u001B[0m \u001B[0mkey\u001B[0m\u001B[0;34m,\u001B[0m \u001B[0mres_info\u001B[0m\u001B[0;34m,\u001B[0m \u001B[0mfailed\u001B[0m \u001B[0;32min\u001B[0m \u001B[0mqueue_get\u001B[0m\u001B[0;34m(\u001B[0m\u001B[0mqueue\u001B[0m\u001B[0;34m)\u001B[0m\u001B[0;34m.\u001B[0m\u001B[0mresult\u001B[0m\u001B[0;34m(\u001B[0m\u001B[0;34m)\u001B[0m\u001B[0;34m:\u001B[0m\u001B[0;34m\u001B[0m\u001B[0;34m\u001B[0m\u001B[0m\n\u001B[0m\u001B[1;32m    504\u001B[0m                     \u001B[0;32mif\u001B[0m \u001B[0mfailed\u001B[0m\u001B[0;34m:\u001B[0m\u001B[0;34m\u001B[0m\u001B[0;34m\u001B[0m\u001B[0m\n\u001B[1;32m    505\u001B[0m                         \u001B[0mexc\u001B[0m\u001B[0;34m,\u001B[0m \u001B[0mtb\u001B[0m \u001B[0;34m=\u001B[0m \u001B[0mloads\u001B[0m\u001B[0;34m(\u001B[0m\u001B[0mres_info\u001B[0m\u001B[0;34m)\u001B[0m\u001B[0;34m\u001B[0m\u001B[0;34m\u001B[0m\u001B[0m\n",
      "\u001B[0;32m~/miniconda3/envs/env_analys/lib/python3.8/site-packages/dask/local.py\u001B[0m in \u001B[0;36mqueue_get\u001B[0;34m(q)\u001B[0m\n\u001B[1;32m    132\u001B[0m \u001B[0;34m\u001B[0m\u001B[0m\n\u001B[1;32m    133\u001B[0m     \u001B[0;32mdef\u001B[0m \u001B[0mqueue_get\u001B[0m\u001B[0;34m(\u001B[0m\u001B[0mq\u001B[0m\u001B[0;34m)\u001B[0m\u001B[0;34m:\u001B[0m\u001B[0;34m\u001B[0m\u001B[0;34m\u001B[0m\u001B[0m\n\u001B[0;32m--> 134\u001B[0;31m         \u001B[0;32mreturn\u001B[0m \u001B[0mq\u001B[0m\u001B[0;34m.\u001B[0m\u001B[0mget\u001B[0m\u001B[0;34m(\u001B[0m\u001B[0;34m)\u001B[0m\u001B[0;34m\u001B[0m\u001B[0;34m\u001B[0m\u001B[0m\n\u001B[0m\u001B[1;32m    135\u001B[0m \u001B[0;34m\u001B[0m\u001B[0m\n\u001B[1;32m    136\u001B[0m \u001B[0;34m\u001B[0m\u001B[0m\n",
      "\u001B[0;32m~/miniconda3/envs/env_analys/lib/python3.8/queue.py\u001B[0m in \u001B[0;36mget\u001B[0;34m(self, block, timeout)\u001B[0m\n\u001B[1;32m    168\u001B[0m             \u001B[0;32melif\u001B[0m \u001B[0mtimeout\u001B[0m \u001B[0;32mis\u001B[0m \u001B[0;32mNone\u001B[0m\u001B[0;34m:\u001B[0m\u001B[0;34m\u001B[0m\u001B[0;34m\u001B[0m\u001B[0m\n\u001B[1;32m    169\u001B[0m                 \u001B[0;32mwhile\u001B[0m \u001B[0;32mnot\u001B[0m \u001B[0mself\u001B[0m\u001B[0;34m.\u001B[0m\u001B[0m_qsize\u001B[0m\u001B[0;34m(\u001B[0m\u001B[0;34m)\u001B[0m\u001B[0;34m:\u001B[0m\u001B[0;34m\u001B[0m\u001B[0;34m\u001B[0m\u001B[0m\n\u001B[0;32m--> 170\u001B[0;31m                     \u001B[0mself\u001B[0m\u001B[0;34m.\u001B[0m\u001B[0mnot_empty\u001B[0m\u001B[0;34m.\u001B[0m\u001B[0mwait\u001B[0m\u001B[0;34m(\u001B[0m\u001B[0;34m)\u001B[0m\u001B[0;34m\u001B[0m\u001B[0;34m\u001B[0m\u001B[0m\n\u001B[0m\u001B[1;32m    171\u001B[0m             \u001B[0;32melif\u001B[0m \u001B[0mtimeout\u001B[0m \u001B[0;34m<\u001B[0m \u001B[0;36m0\u001B[0m\u001B[0;34m:\u001B[0m\u001B[0;34m\u001B[0m\u001B[0;34m\u001B[0m\u001B[0m\n\u001B[1;32m    172\u001B[0m                 \u001B[0;32mraise\u001B[0m \u001B[0mValueError\u001B[0m\u001B[0;34m(\u001B[0m\u001B[0;34m\"'timeout' must be a non-negative number\"\u001B[0m\u001B[0;34m)\u001B[0m\u001B[0;34m\u001B[0m\u001B[0;34m\u001B[0m\u001B[0m\n",
      "\u001B[0;32m~/miniconda3/envs/env_analys/lib/python3.8/threading.py\u001B[0m in \u001B[0;36mwait\u001B[0;34m(self, timeout)\u001B[0m\n\u001B[1;32m    300\u001B[0m         \u001B[0;32mtry\u001B[0m\u001B[0;34m:\u001B[0m    \u001B[0;31m# restore state no matter what (e.g., KeyboardInterrupt)\u001B[0m\u001B[0;34m\u001B[0m\u001B[0;34m\u001B[0m\u001B[0m\n\u001B[1;32m    301\u001B[0m             \u001B[0;32mif\u001B[0m \u001B[0mtimeout\u001B[0m \u001B[0;32mis\u001B[0m \u001B[0;32mNone\u001B[0m\u001B[0;34m:\u001B[0m\u001B[0;34m\u001B[0m\u001B[0;34m\u001B[0m\u001B[0m\n\u001B[0;32m--> 302\u001B[0;31m                 \u001B[0mwaiter\u001B[0m\u001B[0;34m.\u001B[0m\u001B[0macquire\u001B[0m\u001B[0;34m(\u001B[0m\u001B[0;34m)\u001B[0m\u001B[0;34m\u001B[0m\u001B[0;34m\u001B[0m\u001B[0m\n\u001B[0m\u001B[1;32m    303\u001B[0m                 \u001B[0mgotit\u001B[0m \u001B[0;34m=\u001B[0m \u001B[0;32mTrue\u001B[0m\u001B[0;34m\u001B[0m\u001B[0;34m\u001B[0m\u001B[0m\n\u001B[1;32m    304\u001B[0m             \u001B[0;32melse\u001B[0m\u001B[0;34m:\u001B[0m\u001B[0;34m\u001B[0m\u001B[0;34m\u001B[0m\u001B[0m\n",
      "\u001B[0;31mKeyboardInterrupt\u001B[0m: "
     ]
    }
   ],
   "source": [
    "df_sat = ds_sat_hyy.to_dataframe().dropna()"
   ]
  },
  {
   "cell_type": "code",
   "execution_count": null,
   "id": "9d8aee7d-ef54-4d75-b17d-35427522473d",
   "metadata": {},
   "outputs": [],
   "source": [
    "df_sat_rn = df_sat.rename({'Cloud_Effective_Radius_Liquid_Mean':'CER (micrometer)',\n",
    "                           'Cloud_Optical_Thickness_Liquid_Mean':'COT',\n",
    "                           'Cloud_Water_Path_Liquid_Mean':'CWP (g m^-2)',\n",
    "                          'OA':'OA (microgram m^-3)',\n",
    "                          }, axis=1)"
   ]
  },
  {
   "cell_type": "code",
   "execution_count": null,
   "id": "a71dd71b-8584-423b-9969-40d7038ff7a2",
   "metadata": {},
   "outputs": [],
   "source": [
    "ds_sat_rn = df_sat_rn.to_xarray()"
   ]
  },
  {
   "cell_type": "code",
   "execution_count": null,
   "id": "c0fb1d57-8c72-40ba-b138-a160051814aa",
   "metadata": {},
   "outputs": [],
   "source": []
  },
  {
   "cell_type": "code",
   "execution_count": null,
   "id": "123b825a-8258-430e-8704-1f5232060324",
   "metadata": {},
   "outputs": [],
   "source": [
    "ds_sat_rn"
   ]
  },
  {
   "cell_type": "markdown",
   "id": "07d6236e-6add-4a64-89c5-2599bad6ee95",
   "metadata": {},
   "source": [
    "## Div diagnostics"
   ]
  },
  {
   "cell_type": "code",
   "execution_count": null,
   "id": "0edddbfb-e0a3-4e25-b7d3-faacc8a2715e",
   "metadata": {},
   "outputs": [],
   "source": [
    "df_sat['OA_cat'] = np.nan"
   ]
  },
  {
   "cell_type": "code",
   "execution_count": null,
   "id": "a9f60c83-def1-4c06-aade-eef6d710b513",
   "metadata": {},
   "outputs": [],
   "source": [
    "high_OA_dic = {1:'high OA', 0:'low OA'}"
   ]
  },
  {
   "cell_type": "code",
   "execution_count": null,
   "id": "5072f1c1-bbb1-40ef-9a7b-6040c2fb0929",
   "metadata": {},
   "outputs": [],
   "source": []
  }
 ],
 "metadata": {
  "jupytext": {
   "formats": "ipynb,py:percent"
  },
  "kernelspec": {
   "display_name": "Python 3 (ipykernel)",
   "language": "python",
   "name": "python3"
  },
  "language_info": {
   "codemirror_mode": {
    "name": "ipython",
    "version": 3
   },
   "file_extension": ".py",
   "mimetype": "text/x-python",
   "name": "python",
   "nbconvert_exporter": "python",
   "pygments_lexer": "ipython3",
   "version": "3.8.10"
  }
 },
 "nbformat": 4,
 "nbformat_minor": 5
}
