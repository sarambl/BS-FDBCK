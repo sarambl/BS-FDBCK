{
 "cells": [
  {
   "cell_type": "code",
   "execution_count": 1,
   "id": "b12d7a8a-55d7-42f0-8327-0ce5887df6dc",
   "metadata": {},
   "outputs": [],
   "source": [
    "from bs_fdbck.constants import path_measurement_data"
   ]
  },
  {
   "cell_type": "code",
   "execution_count": 2,
   "id": "ef72abda-da29-4263-9333-84d201a9a9e2",
   "metadata": {},
   "outputs": [],
   "source": [
    "import pandas as pd\n",
    "import numpy as np\n",
    "import xarray as xr"
   ]
  },
  {
   "cell_type": "markdown",
   "id": "a55491b0-3d49-465a-8fba-c4ebb816003f",
   "metadata": {},
   "source": [
    "### Input data:\n"
   ]
  },
  {
   "cell_type": "code",
   "execution_count": 3,
   "id": "65c66b00-c937-4938-be7c-31ad71036307",
   "metadata": {},
   "outputs": [
    {
     "data": {
      "text/plain": [
       "PosixPath('/proj/bolinc/users/x_sarbl/analysis/BS-FDBCK/Data')"
      ]
     },
     "execution_count": 3,
     "metadata": {},
     "output_type": "execute_result"
    }
   ],
   "source": [
    "path_measurement_data"
   ]
  },
  {
   "cell_type": "code",
   "execution_count": null,
   "id": "d6069dc2-c4ec-45bc-bb89-925b29c8e3b4",
   "metadata": {},
   "outputs": [],
   "source": [
    "f = '/proj/bolinc/users/x_sarbl/analysis/BS-FDBCK/Data/ACSM_DEFAULT.mat'"
   ]
  },
  {
   "cell_type": "code",
   "execution_count": 229,
   "id": "bfdc1974-057e-400d-b74d-589f14c5e47e",
   "metadata": {},
   "outputs": [],
   "source": [
    "path_sizedist_ATTO = path_measurement_data /'ATTO'#'sizedistrib' "
   ]
  },
  {
   "cell_type": "code",
   "execution_count": 230,
   "id": "c3c167c4-9b83-40ac-a52e-e71e00f9ce3f",
   "metadata": {},
   "outputs": [
    {
     "data": {
      "text/plain": [
       "[PosixPath('/proj/bolinc/users/x_sarbl/analysis/BS-FDBCK/Data/ATTO/processed'),\n",
       " PosixPath('/proj/bolinc/users/x_sarbl/analysis/BS-FDBCK/Data/ATTO/QACSM_time_series_C4_60m_2014_2016STP_v3.xlsx'),\n",
       " PosixPath('/proj/bolinc/users/x_sarbl/analysis/BS-FDBCK/Data/ATTO/sizedistrib'),\n",
       " PosixPath('/proj/bolinc/users/x_sarbl/analysis/BS-FDBCK/Data/ATTO/daily_median_QACSM_time_series_C4_60m_2014_2016STP_v3.csv'),\n",
       " PosixPath('/proj/bolinc/users/x_sarbl/analysis/BS-FDBCK/Data/ATTO/meteodataComplete.dat'),\n",
       " PosixPath('/proj/bolinc/users/x_sarbl/analysis/BS-FDBCK/Data/ATTO/ds_atto_2014_2019_4Sara.nc')]"
      ]
     },
     "execution_count": 230,
     "metadata": {},
     "output_type": "execute_result"
    }
   ],
   "source": [
    "list(path_sizedist_ATTO.glob('*'))"
   ]
  },
  {
   "cell_type": "code",
   "execution_count": 4,
   "id": "4039f30c-a8fc-4b24-873c-379de6cc2d85",
   "metadata": {},
   "outputs": [],
   "source": [
    "path_acsm = path_measurement_data / 'ACSM_DEFAULT.mat'"
   ]
  },
  {
   "cell_type": "code",
   "execution_count": 234,
   "id": "41ea2e5d-588a-464e-aead-f63bd675ed95",
   "metadata": {},
   "outputs": [],
   "source": [
    "fn_theo = path_measurement_data / 'ATTO'/ 'ds_atto_2014_2019_4Sara.nc'"
   ]
  },
  {
   "cell_type": "code",
   "execution_count": 235,
   "id": "92161362-a1ab-490f-b6bb-bbfaf800cb75",
   "metadata": {},
   "outputs": [],
   "source": [
    "fn_meteo = path_measurement_data / 'ATTO'/ 'meteodataComplete.dat'"
   ]
  },
  {
   "cell_type": "markdown",
   "id": "a46f0065-d59d-4729-b666-ef03f65470f8",
   "metadata": {},
   "source": [
    "### Output data"
   ]
  },
  {
   "cell_type": "code",
   "execution_count": 232,
   "id": "0cc63d75-eb9a-4eac-b8cd-6c5baefb0a36",
   "metadata": {},
   "outputs": [],
   "source": [
    "postproc_data = path_measurement_data /'ATTO'/'processed'\n",
    "postproc_data.mkdir( exist_ok=True)"
   ]
  },
  {
   "cell_type": "code",
   "execution_count": 233,
   "id": "7f40f98d-ba40-4077-8ebf-d3cbae00ba3c",
   "metadata": {
    "tags": []
   },
   "outputs": [],
   "source": [
    "path_acsm_daily_median = postproc_data /'daily_median_QACSM_time_series_C4_60m_2014_2016STP_v3.csv'\n",
    "\n",
    "path_comb_data =postproc_data /'ATTO_data_comb_daily.nc'\n",
    "path_comb_data_full_time =postproc_data /'ATTO_data_comb_hourly.nc'"
   ]
  },
  {
   "cell_type": "markdown",
   "id": "7159be4b-cce7-41ab-a3b3-e0861fe49b43",
   "metadata": {},
   "source": [
    "### Read in acsm data"
   ]
  },
  {
   "cell_type": "code",
   "execution_count": 236,
   "id": "a9f220e4-7d3b-4294-952d-3c5da795d59d",
   "metadata": {},
   "outputs": [],
   "source": [
    "df_ATTO = pd.read_excel(path_acsm, sheet_name=0, index_col=0)#'QACSM 60m v3')"
   ]
  },
  {
   "cell_type": "code",
   "execution_count": 237,
   "id": "1f9ca1b2-7911-426e-92f0-cfcfcb81b3c0",
   "metadata": {},
   "outputs": [],
   "source": [
    "df_ATTO.index = df_ATTO.index.rename('time')"
   ]
  },
  {
   "cell_type": "markdown",
   "id": "62b26280-2aff-416c-9c52-3dfd0f2a6d0c",
   "metadata": {},
   "source": [
    "## ATTO is at UTC - 4: convert to local time "
   ]
  },
  {
   "cell_type": "code",
   "execution_count": 238,
   "id": "95206feb-32d1-4208-ab1c-4a334e04aa79",
   "metadata": {},
   "outputs": [],
   "source": [
    "import datetime"
   ]
  },
  {
   "cell_type": "code",
   "execution_count": 239,
   "id": "077a8a57-c1be-4702-899b-f2e2a6d2329f",
   "metadata": {},
   "outputs": [
    {
     "data": {
      "text/plain": [
       "Index(['1/1/2014 0:00', '1/1/2014 0:30', '1/1/2014 1:00', '1/1/2014 1:30',\n",
       "       '1/1/2014 2:00', '1/1/2014 2:30', '1/1/2014 3:00', '1/1/2014 3:30',\n",
       "       '1/1/2014 4:00', '1/1/2014 4:30',\n",
       "       ...\n",
       "       '1/3/2017 8:30', '1/3/2017 9:00', '1/3/2017 9:30', '1/3/2017 10:00',\n",
       "       '1/3/2017 10:30', '1/3/2017 11:00', '1/3/2017 11:30', '1/3/2017 12:00',\n",
       "       '1/3/2017 12:30', '1/3/2017 13:00'],\n",
       "      dtype='object', name='time', length=52731)"
      ]
     },
     "execution_count": 239,
     "metadata": {},
     "output_type": "execute_result"
    }
   ],
   "source": [
    "df_ATTO.index"
   ]
  },
  {
   "cell_type": "code",
   "execution_count": 240,
   "id": "519472bc-62e3-46ca-be78-e16d5b022c0d",
   "metadata": {},
   "outputs": [],
   "source": [
    "time_ind = pd.to_datetime(df_ATTO.index)# -datetime.timedelta(hours=4)"
   ]
  },
  {
   "cell_type": "code",
   "execution_count": 241,
   "id": "688442c2-1361-432f-8ab6-8c8a54ef80d3",
   "metadata": {},
   "outputs": [
    {
     "data": {
      "text/plain": [
       "DatetimeIndex(['2013-12-31 20:00:00', '2013-12-31 20:30:00',\n",
       "               '2013-12-31 21:00:00', '2013-12-31 21:30:00',\n",
       "               '2013-12-31 22:00:00', '2013-12-31 22:30:00',\n",
       "               '2013-12-31 23:00:00', '2013-12-31 23:30:00',\n",
       "               '2014-01-01 00:00:00', '2014-01-01 00:30:00',\n",
       "               ...\n",
       "               '2017-01-03 04:30:00', '2017-01-03 05:00:00',\n",
       "               '2017-01-03 05:30:00', '2017-01-03 06:00:00',\n",
       "               '2017-01-03 06:30:00', '2017-01-03 07:00:00',\n",
       "               '2017-01-03 07:30:00', '2017-01-03 08:00:00',\n",
       "               '2017-01-03 08:30:00', '2017-01-03 09:00:00'],\n",
       "              dtype='datetime64[ns]', name='time', length=52731, freq=None)"
      ]
     },
     "execution_count": 241,
     "metadata": {},
     "output_type": "execute_result"
    }
   ],
   "source": [
    "time_ind_local_time = time_ind - datetime.timedelta(hours=4)\n",
    "time_ind_local_time"
   ]
  }
 ],
 "metadata": {
  "kernelspec": {
   "display_name": "Python 3 (ipykernel)",
   "language": "python",
   "name": "python3"
  },
  "language_info": {
   "codemirror_mode": {
    "name": "ipython",
    "version": 3
   },
   "file_extension": ".py",
   "mimetype": "text/x-python",
   "name": "python",
   "nbconvert_exporter": "python",
   "pygments_lexer": "ipython3",
   "version": "3.8.10"
  }
 },
 "nbformat": 4,
 "nbformat_minor": 5
}
