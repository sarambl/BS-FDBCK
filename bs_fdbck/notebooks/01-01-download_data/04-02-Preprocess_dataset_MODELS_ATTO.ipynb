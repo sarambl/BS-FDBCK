{
 "cells": [
  {
   "cell_type": "markdown",
   "id": "ca101f41-19df-47f0-9a10-585c8d6dfa40",
   "metadata": {},
   "source": [
    "## Preprocess model data: "
   ]
  },
  {
   "cell_type": "code",
   "execution_count": 1,
   "id": "768c4354-08a6-4ba8-a0c7-36c4dfabb390",
   "metadata": {
    "lines_to_next_cell": 2
   },
   "outputs": [],
   "source": [
    "from pathlib import Path\n",
    "import matplotlib as mpl\n",
    "import xarray as xr"
   ]
  },
  {
   "cell_type": "code",
   "execution_count": 2,
   "id": "698e5d2d-604c-43e4-9912-4253fc777908",
   "metadata": {},
   "outputs": [
    {
     "name": "stdout",
     "output_type": "stream",
     "text": [
      "/proj/bolinc/users/x_sarbl/analysis/BS-FDBCK/bs_fdbck/data_info/area_defs.csv\n"
     ]
    }
   ],
   "source": [
    "from pathlib import Path\n",
    "\n",
    "from bs_fdbck.util.BSOA_datamanip import ds2df_inc_preprocessing\n",
    "from bs_fdbck.util.collocate.collocateLONLAToutput import CollocateLONLATout\n",
    "from bs_fdbck.util.collocate.collocate_echam_salsa import CollocateModelEcham\n",
    "import useful_scit.util.log as log\n",
    "\n",
    "from bs_fdbck.util.plot.BSOA_plots import make_cool_grid, plot_scatter\n",
    "\n",
    "import time\n",
    "import xarray as xr\n",
    "import matplotlib.pyplot as plt"
   ]
  },
  {
   "cell_type": "code",
   "execution_count": 3,
   "id": "66907b66-6fce-4f9d-a696-c73ea8396de9",
   "metadata": {},
   "outputs": [],
   "source": [
    "import seaborn as sns\n",
    "import matplotlib.pyplot as plt"
   ]
  },
  {
   "cell_type": "code",
   "execution_count": 4,
   "id": "b0e07bb0-f67d-4052-8169-4cf1db798d60",
   "metadata": {},
   "outputs": [],
   "source": [
    "import numpy as np"
   ]
  },
  {
   "cell_type": "code",
   "execution_count": 5,
   "id": "9c85cb7f-d8a1-4159-b730-2faec4f7c368",
   "metadata": {},
   "outputs": [],
   "source": [
    "import numpy as np\n",
    "from sklearn.linear_model import LinearRegression, BayesianRidge"
   ]
  },
  {
   "cell_type": "code",
   "execution_count": 6,
   "id": "669c2ec9-46fb-46d0-9f07-8ee2c21b37dc",
   "metadata": {},
   "outputs": [],
   "source": [
    "from bs_fdbck.constants import path_measurement_data\n",
    "import matplotlib.pyplot as plt"
   ]
  },
  {
   "cell_type": "code",
   "execution_count": 7,
   "id": "5ee4ae1c-0bba-4c72-b447-66a5025bb933",
   "metadata": {},
   "outputs": [
    {
     "data": {
      "text/plain": [
       "<xarray.core.options.set_options at 0x7fe16daa5b80>"
      ]
     },
     "execution_count": 7,
     "metadata": {},
     "output_type": "execute_result"
    }
   ],
   "source": [
    "import pandas as pd\n",
    "import numpy as np\n",
    "import xarray as xr\n",
    "xr.set_options(keep_attrs=True)"
   ]
  },
  {
   "cell_type": "code",
   "execution_count": 8,
   "id": "b1d38363-7605-40c8-8c04-112127c0ab94",
   "metadata": {},
   "outputs": [],
   "source": [
    "import datetime "
   ]
  },
  {
   "cell_type": "code",
   "execution_count": 9,
   "id": "dee8f1d4-c2f8-4ba8-b9c5-60f6830938e2",
   "metadata": {},
   "outputs": [
    {
     "name": "stdout",
     "output_type": "stream",
     "text": [
      "The autoreload extension is already loaded. To reload it, use:\n",
      "  %reload_ext autoreload\n"
     ]
    }
   ],
   "source": [
    "%load_ext autoreload\n",
    "%autoreload 2"
   ]
  },
  {
   "cell_type": "markdown",
   "id": "2e5914e8-ca27-45f3-97db-7b2fcb02bcb7",
   "metadata": {
    "tags": []
   },
   "source": [
    "## Read in model data. "
   ]
  },
  {
   "cell_type": "code",
   "execution_count": 10,
   "id": "3b11c3be-c9f5-4271-a267-d6d6c5cbed21",
   "metadata": {},
   "outputs": [],
   "source": [
    "model_lev_i=-2\n",
    "select_station = 'ATTO'"
   ]
  },
  {
   "cell_type": "code",
   "execution_count": 11,
   "id": "21a3576b-b360-4a55-b6b8-536f8816b0f2",
   "metadata": {},
   "outputs": [],
   "source": [
    "postproc_data = path_measurement_data /'model_station'/select_station\n",
    "postproc_data.mkdir(parents=True, exist_ok=True)"
   ]
  },
  {
   "cell_type": "code",
   "execution_count": 12,
   "id": "ef3821d4-70e4-431e-879c-b896acc4fe92",
   "metadata": {},
   "outputs": [],
   "source": [
    "models = ['ECHAM-SALSA','NorESM']\n",
    "\n",
    "di_mod2cases = dict()\n",
    "#for mod in models:\n",
    "#    di_mod2cases[mod]=dict()"
   ]
  },
  {
   "cell_type": "markdown",
   "id": "c528ae80-085e-4cc9-93f1-8191ee797cd4",
   "metadata": {
    "tags": []
   },
   "source": [
    "## Cases:"
   ]
  },
  {
   "cell_type": "code",
   "execution_count": 13,
   "id": "5edfd6c2-9b63-4e91-b9e2-20d6d9b4374a",
   "metadata": {},
   "outputs": [],
   "source": [
    "dic_mod_ca = dict()\n",
    "dic_df_mod_case = dict()\n",
    "dic_dfsm_mod_case = dict()"
   ]
  },
  {
   "cell_type": "markdown",
   "id": "a2fe020f-476a-4e78-963c-9667e9e09273",
   "metadata": {},
   "source": [
    "## ECHAM SALSA:"
   ]
  },
  {
   "cell_type": "code",
   "execution_count": 14,
   "id": "fd1faa85-302f-4a97-9f13-765bae5d1d39",
   "metadata": {
    "lines_to_next_cell": 2
   },
   "outputs": [],
   "source": [
    "from_t = '2012-01-01'\n",
    "to_t = '2019-01-01'"
   ]
  },
  {
   "cell_type": "code",
   "execution_count": 15,
   "id": "315f1d57-6d9f-4697-ae42-72f04873e9e2",
   "metadata": {},
   "outputs": [],
   "source": [
    "case_name = 'SALSA_BSOA_feedback'\n",
    "case_name_echam = 'SALSA_BSOA_feedback'\n",
    "time_res = 'hour'\n",
    "space_res='locations'\n",
    "model_name='ECHAM-SALSA'\n",
    "\n",
    "\n",
    "case_mod = case_name#'OsloAero_intBVOC_f19_f19_mg17_fssp'\n",
    "cases_echam = [case_name]\n",
    "di_mod2cases[model_name]=cases_echam"
   ]
  },
  {
   "cell_type": "markdown",
   "id": "d284298c-ac51-485f-9d44-40cefcea8c49",
   "metadata": {},
   "source": [
    "## Variables"
   ]
  },
  {
   "cell_type": "code",
   "execution_count": 16,
   "id": "8dfe10bc-f14b-40dd-bf79-4e4213a97cad",
   "metadata": {
    "lines_to_next_cell": 2
   },
   "outputs": [],
   "source": [
    "varl =[\n",
    "    'apm',\n",
    "    'geom',\n",
    "    'airdens',\n",
    "    'tempair',\n",
    "    'uw',\n",
    "    'vw',\n",
    "    'ccn02',\n",
    "    'ccn10',\n",
    "    'cod',\n",
    "    'cwp',\n",
    "    'ceff',\n",
    "    'ceff_ct',\n",
    "    'lcdnc',\n",
    "    'lcdnc_ct',\n",
    "    'clfr',\n",
    "    'cl_time',\n",
    "    'aot550nm',\n",
    "    'aot865nm',\n",
    "    'ang550865',\n",
    "    'up_sw',\n",
    "    'up_sw_cs',\n",
    "    'up_sw_noa',\n",
    "    'up_sw_cs_noa',\n",
    "    'up_lw',\n",
    "    'up_lw_cs',\n",
    "    'up_lw_noa',\n",
    "    'up_lw_cs_noa',\n",
    "    'mmrtrN500',\n",
    "    'mmrtrN250',\n",
    "    'mmrtrN200',\n",
    "    'mmrtrN100',\n",
    "    'mmrtrN50',\n",
    "    'mmrtrN3',\n",
    "    'oh_con',\n",
    "    'emi_monot_bio',\n",
    "    'emi_isop_bio',\n",
    "    'SO2_gas',\n",
    "    'APIN_gas',\n",
    "    'TBETAOCI_gas',\n",
    "    'BPIN_gas',\n",
    "    'LIMON_gas',\n",
    "    'SABIN_gas',\n",
    "    'MYRC_gas',\n",
    "    'CARENE3_gas',\n",
    "    'ISOP_gas',\n",
    "    'VBS0_gas',\n",
    "    'VBS1_gas',\n",
    "    'VBS10_gas',\n",
    "    'ORG_mass',\n",
    "] "
   ]
  },
  {
   "cell_type": "code",
   "execution_count": 17,
   "id": "318ac1d9-f948-4a93-83c9-7f5b7c275f5d",
   "metadata": {
    "lines_to_next_cell": 0,
    "scrolled": true,
    "tags": []
   },
   "outputs": [
    {
     "name": "stdout",
     "output_type": "stream",
     "text": [
      "//proj/bolinc/users/x_sarbl/analysis/Output_data_BS-FDBCK/collocated_ds/ECHAM-SALSA/SALSA_BSOA_feedback/apm_SALSA_BSOA_feedback_2012-01-01_2019-01-01_hour_locations.nc\n",
      "//proj/bolinc/users/x_sarbl/analysis/Output_data_BS-FDBCK/collocated_ds/ECHAM-SALSA/SALSA_BSOA_feedback/geom_SALSA_BSOA_feedback_2012-01-01_2019-01-01_hour_locations.nc\n",
      "//proj/bolinc/users/x_sarbl/analysis/Output_data_BS-FDBCK/collocated_ds/ECHAM-SALSA/SALSA_BSOA_feedback/airdens_SALSA_BSOA_feedback_2012-01-01_2019-01-01_hour_locations.nc\n",
      "//proj/bolinc/users/x_sarbl/analysis/Output_data_BS-FDBCK/collocated_ds/ECHAM-SALSA/SALSA_BSOA_feedback/tempair_SALSA_BSOA_feedback_2012-01-01_2019-01-01_hour_locations.nc\n",
      "//proj/bolinc/users/x_sarbl/analysis/Output_data_BS-FDBCK/collocated_ds/ECHAM-SALSA/SALSA_BSOA_feedback/uw_SALSA_BSOA_feedback_2012-01-01_2019-01-01_hour_locations.nc\n",
      "//proj/bolinc/users/x_sarbl/analysis/Output_data_BS-FDBCK/collocated_ds/ECHAM-SALSA/SALSA_BSOA_feedback/vw_SALSA_BSOA_feedback_2012-01-01_2019-01-01_hour_locations.nc\n",
      "//proj/bolinc/users/x_sarbl/analysis/Output_data_BS-FDBCK/collocated_ds/ECHAM-SALSA/SALSA_BSOA_feedback/ccn02_SALSA_BSOA_feedback_2012-01-01_2019-01-01_hour_locations.nc\n",
      "//proj/bolinc/users/x_sarbl/analysis/Output_data_BS-FDBCK/collocated_ds/ECHAM-SALSA/SALSA_BSOA_feedback/ccn10_SALSA_BSOA_feedback_2012-01-01_2019-01-01_hour_locations.nc\n",
      "//proj/bolinc/users/x_sarbl/analysis/Output_data_BS-FDBCK/collocated_ds/ECHAM-SALSA/SALSA_BSOA_feedback/cod_SALSA_BSOA_feedback_2012-01-01_2019-01-01_hour_locations.nc\n",
      "//proj/bolinc/users/x_sarbl/analysis/Output_data_BS-FDBCK/collocated_ds/ECHAM-SALSA/SALSA_BSOA_feedback/cwp_SALSA_BSOA_feedback_2012-01-01_2019-01-01_hour_locations.nc\n",
      "//proj/bolinc/users/x_sarbl/analysis/Output_data_BS-FDBCK/collocated_ds/ECHAM-SALSA/SALSA_BSOA_feedback/ceff_SALSA_BSOA_feedback_2012-01-01_2019-01-01_hour_locations.nc\n",
      "//proj/bolinc/users/x_sarbl/analysis/Output_data_BS-FDBCK/collocated_ds/ECHAM-SALSA/SALSA_BSOA_feedback/ceff_ct_SALSA_BSOA_feedback_2012-01-01_2019-01-01_hour_locations.nc\n",
      "//proj/bolinc/users/x_sarbl/analysis/Output_data_BS-FDBCK/collocated_ds/ECHAM-SALSA/SALSA_BSOA_feedback/lcdnc_SALSA_BSOA_feedback_2012-01-01_2019-01-01_hour_locations.nc\n",
      "//proj/bolinc/users/x_sarbl/analysis/Output_data_BS-FDBCK/collocated_ds/ECHAM-SALSA/SALSA_BSOA_feedback/lcdnc_ct_SALSA_BSOA_feedback_2012-01-01_2019-01-01_hour_locations.nc\n",
      "//proj/bolinc/users/x_sarbl/analysis/Output_data_BS-FDBCK/collocated_ds/ECHAM-SALSA/SALSA_BSOA_feedback/clfr_SALSA_BSOA_feedback_2012-01-01_2019-01-01_hour_locations.nc\n",
      "//proj/bolinc/users/x_sarbl/analysis/Output_data_BS-FDBCK/collocated_ds/ECHAM-SALSA/SALSA_BSOA_feedback/cl_time_SALSA_BSOA_feedback_2012-01-01_2019-01-01_hour_locations.nc\n",
      "//proj/bolinc/users/x_sarbl/analysis/Output_data_BS-FDBCK/collocated_ds/ECHAM-SALSA/SALSA_BSOA_feedback/aot550nm_SALSA_BSOA_feedback_2012-01-01_2019-01-01_hour_locations.nc\n",
      "//proj/bolinc/users/x_sarbl/analysis/Output_data_BS-FDBCK/collocated_ds/ECHAM-SALSA/SALSA_BSOA_feedback/aot865nm_SALSA_BSOA_feedback_2012-01-01_2019-01-01_hour_locations.nc\n",
      "//proj/bolinc/users/x_sarbl/analysis/Output_data_BS-FDBCK/collocated_ds/ECHAM-SALSA/SALSA_BSOA_feedback/ang550865_SALSA_BSOA_feedback_2012-01-01_2019-01-01_hour_locations.nc\n",
      "//proj/bolinc/users/x_sarbl/analysis/Output_data_BS-FDBCK/collocated_ds/ECHAM-SALSA/SALSA_BSOA_feedback/up_sw_SALSA_BSOA_feedback_2012-01-01_2019-01-01_hour_locations.nc\n",
      "//proj/bolinc/users/x_sarbl/analysis/Output_data_BS-FDBCK/collocated_ds/ECHAM-SALSA/SALSA_BSOA_feedback/up_sw_cs_SALSA_BSOA_feedback_2012-01-01_2019-01-01_hour_locations.nc\n",
      "//proj/bolinc/users/x_sarbl/analysis/Output_data_BS-FDBCK/collocated_ds/ECHAM-SALSA/SALSA_BSOA_feedback/up_sw_noa_SALSA_BSOA_feedback_2012-01-01_2019-01-01_hour_locations.nc\n",
      "//proj/bolinc/users/x_sarbl/analysis/Output_data_BS-FDBCK/collocated_ds/ECHAM-SALSA/SALSA_BSOA_feedback/up_sw_cs_noa_SALSA_BSOA_feedback_2012-01-01_2019-01-01_hour_locations.nc\n",
      "//proj/bolinc/users/x_sarbl/analysis/Output_data_BS-FDBCK/collocated_ds/ECHAM-SALSA/SALSA_BSOA_feedback/up_lw_SALSA_BSOA_feedback_2012-01-01_2019-01-01_hour_locations.nc\n",
      "//proj/bolinc/users/x_sarbl/analysis/Output_data_BS-FDBCK/collocated_ds/ECHAM-SALSA/SALSA_BSOA_feedback/up_lw_cs_SALSA_BSOA_feedback_2012-01-01_2019-01-01_hour_locations.nc\n",
      "//proj/bolinc/users/x_sarbl/analysis/Output_data_BS-FDBCK/collocated_ds/ECHAM-SALSA/SALSA_BSOA_feedback/up_lw_noa_SALSA_BSOA_feedback_2012-01-01_2019-01-01_hour_locations.nc\n",
      "//proj/bolinc/users/x_sarbl/analysis/Output_data_BS-FDBCK/collocated_ds/ECHAM-SALSA/SALSA_BSOA_feedback/up_lw_cs_noa_SALSA_BSOA_feedback_2012-01-01_2019-01-01_hour_locations.nc\n",
      "//proj/bolinc/users/x_sarbl/analysis/Output_data_BS-FDBCK/collocated_ds/ECHAM-SALSA/SALSA_BSOA_feedback/mmrtrN500_SALSA_BSOA_feedback_2012-01-01_2019-01-01_hour_locations.nc\n",
      "//proj/bolinc/users/x_sarbl/analysis/Output_data_BS-FDBCK/collocated_ds/ECHAM-SALSA/SALSA_BSOA_feedback/mmrtrN250_SALSA_BSOA_feedback_2012-01-01_2019-01-01_hour_locations.nc\n",
      "//proj/bolinc/users/x_sarbl/analysis/Output_data_BS-FDBCK/collocated_ds/ECHAM-SALSA/SALSA_BSOA_feedback/mmrtrN200_SALSA_BSOA_feedback_2012-01-01_2019-01-01_hour_locations.nc\n",
      "//proj/bolinc/users/x_sarbl/analysis/Output_data_BS-FDBCK/collocated_ds/ECHAM-SALSA/SALSA_BSOA_feedback/mmrtrN100_SALSA_BSOA_feedback_2012-01-01_2019-01-01_hour_locations.nc\n",
      "//proj/bolinc/users/x_sarbl/analysis/Output_data_BS-FDBCK/collocated_ds/ECHAM-SALSA/SALSA_BSOA_feedback/mmrtrN50_SALSA_BSOA_feedback_2012-01-01_2019-01-01_hour_locations.nc\n",
      "//proj/bolinc/users/x_sarbl/analysis/Output_data_BS-FDBCK/collocated_ds/ECHAM-SALSA/SALSA_BSOA_feedback/mmrtrN3_SALSA_BSOA_feedback_2012-01-01_2019-01-01_hour_locations.nc\n",
      "//proj/bolinc/users/x_sarbl/analysis/Output_data_BS-FDBCK/collocated_ds/ECHAM-SALSA/SALSA_BSOA_feedback/oh_con_SALSA_BSOA_feedback_2012-01-01_2019-01-01_hour_locations.nc\n",
      "//proj/bolinc/users/x_sarbl/analysis/Output_data_BS-FDBCK/collocated_ds/ECHAM-SALSA/SALSA_BSOA_feedback/emi_monot_bio_SALSA_BSOA_feedback_2012-01-01_2019-01-01_hour_locations.nc\n",
      "//proj/bolinc/users/x_sarbl/analysis/Output_data_BS-FDBCK/collocated_ds/ECHAM-SALSA/SALSA_BSOA_feedback/emi_isop_bio_SALSA_BSOA_feedback_2012-01-01_2019-01-01_hour_locations.nc\n",
      "//proj/bolinc/users/x_sarbl/analysis/Output_data_BS-FDBCK/collocated_ds/ECHAM-SALSA/SALSA_BSOA_feedback/SO2_gas_SALSA_BSOA_feedback_2012-01-01_2019-01-01_hour_locations.nc\n",
      "//proj/bolinc/users/x_sarbl/analysis/Output_data_BS-FDBCK/collocated_ds/ECHAM-SALSA/SALSA_BSOA_feedback/APIN_gas_SALSA_BSOA_feedback_2012-01-01_2019-01-01_hour_locations.nc\n",
      "//proj/bolinc/users/x_sarbl/analysis/Output_data_BS-FDBCK/collocated_ds/ECHAM-SALSA/SALSA_BSOA_feedback/TBETAOCI_gas_SALSA_BSOA_feedback_2012-01-01_2019-01-01_hour_locations.nc\n",
      "//proj/bolinc/users/x_sarbl/analysis/Output_data_BS-FDBCK/collocated_ds/ECHAM-SALSA/SALSA_BSOA_feedback/BPIN_gas_SALSA_BSOA_feedback_2012-01-01_2019-01-01_hour_locations.nc\n",
      "//proj/bolinc/users/x_sarbl/analysis/Output_data_BS-FDBCK/collocated_ds/ECHAM-SALSA/SALSA_BSOA_feedback/LIMON_gas_SALSA_BSOA_feedback_2012-01-01_2019-01-01_hour_locations.nc\n",
      "//proj/bolinc/users/x_sarbl/analysis/Output_data_BS-FDBCK/collocated_ds/ECHAM-SALSA/SALSA_BSOA_feedback/SABIN_gas_SALSA_BSOA_feedback_2012-01-01_2019-01-01_hour_locations.nc\n",
      "//proj/bolinc/users/x_sarbl/analysis/Output_data_BS-FDBCK/collocated_ds/ECHAM-SALSA/SALSA_BSOA_feedback/MYRC_gas_SALSA_BSOA_feedback_2012-01-01_2019-01-01_hour_locations.nc\n",
      "//proj/bolinc/users/x_sarbl/analysis/Output_data_BS-FDBCK/collocated_ds/ECHAM-SALSA/SALSA_BSOA_feedback/CARENE3_gas_SALSA_BSOA_feedback_2012-01-01_2019-01-01_hour_locations.nc\n",
      "//proj/bolinc/users/x_sarbl/analysis/Output_data_BS-FDBCK/collocated_ds/ECHAM-SALSA/SALSA_BSOA_feedback/ISOP_gas_SALSA_BSOA_feedback_2012-01-01_2019-01-01_hour_locations.nc\n",
      "//proj/bolinc/users/x_sarbl/analysis/Output_data_BS-FDBCK/collocated_ds/ECHAM-SALSA/SALSA_BSOA_feedback/VBS0_gas_SALSA_BSOA_feedback_2012-01-01_2019-01-01_hour_locations.nc\n",
      "//proj/bolinc/users/x_sarbl/analysis/Output_data_BS-FDBCK/collocated_ds/ECHAM-SALSA/SALSA_BSOA_feedback/VBS1_gas_SALSA_BSOA_feedback_2012-01-01_2019-01-01_hour_locations.nc\n",
      "//proj/bolinc/users/x_sarbl/analysis/Output_data_BS-FDBCK/collocated_ds/ECHAM-SALSA/SALSA_BSOA_feedback/VBS10_gas_SALSA_BSOA_feedback_2012-01-01_2019-01-01_hour_locations.nc\n",
      "//proj/bolinc/users/x_sarbl/analysis/Output_data_BS-FDBCK/collocated_ds/ECHAM-SALSA/SALSA_BSOA_feedback/ORG_mass_SALSA_BSOA_feedback_2012-01-01_2019-01-01_hour_locations.nc\n",
      "UUUPS\n"
     ]
    }
   ],
   "source": [
    "for case_name in cases_echam:\n",
    "    varlist = varl\n",
    "    c = CollocateLONLATout(case_name, from_t, to_t,\n",
    "                           True,\n",
    "                           'hour',\n",
    "                           model_name=model_name\n",
    "                          # history_field=history_field\n",
    "                          )\n",
    "    if c.check_if_load_raw_necessary(varlist ):\n",
    "        time1 = time.time()\n",
    "        a = c.make_station_data_merge_monthly(varlist)\n",
    "        print(a)\n",
    "\n",
    "        time2 = time.time()\n",
    "        print('DONE : took {:.3f} s'.format( (time2-time1)))\n",
    "    else:\n",
    "        print('UUUPS')"
   ]
  },
  {
   "cell_type": "code",
   "execution_count": 18,
   "id": "08196e42-fff3-4214-bc56-17a2003e9655",
   "metadata": {
    "scrolled": true,
    "tags": []
   },
   "outputs": [
    {
     "name": "stderr",
     "output_type": "stream",
     "text": [
      "2022-11-23 17:33:30,967 useful_scit  INFO     Opening: [//proj/bolinc/users/x_sarbl/analysis/Output_data_BS-FDBCK/collocated_ds/ECHAM-SALSA/SALSA_BSOA_feedback/apm_SALSA_BSOA_feedback_2012-01-01_2019-01-01_hour_locations.nc,//proj/bolinc/users/x_sarbl/analysis/Output_data_BS-FDBCK/collocated_ds/ECHAM-SALSA/SALSA_BSOA_feedback/geom_SALSA_BSOA_feedback_2012-01-01_2019-01-01_hour_locations.nc,//proj/bolinc/users/x_sarbl/analysis/Output_data_BS-FDBCK/collocated_ds/ECHAM-SALSA/SALSA_BSOA_feedback/airdens_SALSA_BSOA_feedback_2012-01-01_2019-01-01_hour_locations.nc,//proj/bolinc/users/x_sarbl/analysis/Output_data_BS-FDBCK/collocated_ds/ECHAM-SALSA/SALSA_BSOA_feedback/tempair_SALSA_BSOA_feedback_2012-01-01_2019-01-01_hour_locations.nc,//proj/bolinc/users/x_sarbl/analysis/Output_data_BS-FDBCK/collocated_ds/ECHAM-SALSA/SALSA_BSOA_feedback/uw_SALSA_BSOA_feedback_2012-01-01_2019-01-01_hour_locations.nc,//proj/bolinc/users/x_sarbl/analysis/Output_data_BS-FDBCK/collocated_ds/ECHAM-SALSA/SALSA_BSOA_feedback/vw_SALSA_BSOA_feedback_2012-01-01_2019-01-01_hour_locations.nc,//proj/bolinc/users/x_sarbl/analysis/Output_data_BS-FDBCK/collocated_ds/ECHAM-SALSA/SALSA_BSOA_feedback/ccn02_SALSA_BSOA_feedback_2012-01-01_2019-01-01_hour_locations.nc,//proj/bolinc/users/x_sarbl/analysis/Output_data_BS-FDBCK/collocated_ds/ECHAM-SALSA/SALSA_BSOA_feedback/ccn10_SALSA_BSOA_feedback_2012-01-01_2019-01-01_hour_locations.nc,//proj/bolinc/users/x_sarbl/analysis/Output_data_BS-FDBCK/collocated_ds/ECHAM-SALSA/SALSA_BSOA_feedback/cod_SALSA_BSOA_feedback_2012-01-01_2019-01-01_hour_locations.nc,//proj/bolinc/users/x_sarbl/analysis/Output_data_BS-FDBCK/collocated_ds/ECHAM-SALSA/SALSA_BSOA_feedback/cwp_SALSA_BSOA_feedback_2012-01-01_2019-01-01_hour_locations.nc,//proj/bolinc/users/x_sarbl/analysis/Output_data_BS-FDBCK/collocated_ds/ECHAM-SALSA/SALSA_BSOA_feedback/ceff_SALSA_BSOA_feedback_2012-01-01_2019-01-01_hour_locations.nc,//proj/bolinc/users/x_sarbl/analysis/Output_data_BS-FDBCK/collocated_ds/ECHAM-SALSA/SALSA_BSOA_feedback/ceff_ct_SALSA_BSOA_feedback_2012-01-01_2019-01-01_hour_locations.nc,//proj/bolinc/users/x_sarbl/analysis/Output_data_BS-FDBCK/collocated_ds/ECHAM-SALSA/SALSA_BSOA_feedback/lcdnc_SALSA_BSOA_feedback_2012-01-01_2019-01-01_hour_locations.nc,//proj/bolinc/users/x_sarbl/analysis/Output_data_BS-FDBCK/collocated_ds/ECHAM-SALSA/SALSA_BSOA_feedback/lcdnc_ct_SALSA_BSOA_feedback_2012-01-01_2019-01-01_hour_locations.nc,//proj/bolinc/users/x_sarbl/analysis/Output_data_BS-FDBCK/collocated_ds/ECHAM-SALSA/SALSA_BSOA_feedback/clfr_SALSA_BSOA_feedback_2012-01-01_2019-01-01_hour_locations.nc,//proj/bolinc/users/x_sarbl/analysis/Output_data_BS-FDBCK/collocated_ds/ECHAM-SALSA/SALSA_BSOA_feedback/cl_time_SALSA_BSOA_feedback_2012-01-01_2019-01-01_hour_locations.nc,//proj/bolinc/users/x_sarbl/analysis/Output_data_BS-FDBCK/collocated_ds/ECHAM-SALSA/SALSA_BSOA_feedback/aot550nm_SALSA_BSOA_feedback_2012-01-01_2019-01-01_hour_locations.nc,//proj/bolinc/users/x_sarbl/analysis/Output_data_BS-FDBCK/collocated_ds/ECHAM-SALSA/SALSA_BSOA_feedback/aot865nm_SALSA_BSOA_feedback_2012-01-01_2019-01-01_hour_locations.nc,//proj/bolinc/users/x_sarbl/analysis/Output_data_BS-FDBCK/collocated_ds/ECHAM-SALSA/SALSA_BSOA_feedback/ang550865_SALSA_BSOA_feedback_2012-01-01_2019-01-01_hour_locations.nc,//proj/bolinc/users/x_sarbl/analysis/Output_data_BS-FDBCK/collocated_ds/ECHAM-SALSA/SALSA_BSOA_feedback/up_sw_SALSA_BSOA_feedback_2012-01-01_2019-01-01_hour_locations.nc,//proj/bolinc/users/x_sarbl/analysis/Output_data_BS-FDBCK/collocated_ds/ECHAM-SALSA/SALSA_BSOA_feedback/up_sw_cs_SALSA_BSOA_feedback_2012-01-01_2019-01-01_hour_locations.nc,//proj/bolinc/users/x_sarbl/analysis/Output_data_BS-FDBCK/collocated_ds/ECHAM-SALSA/SALSA_BSOA_feedback/up_sw_noa_SALSA_BSOA_feedback_2012-01-01_2019-01-01_hour_locations.nc,//proj/bolinc/users/x_sarbl/analysis/Output_data_BS-FDBCK/collocated_ds/ECHAM-SALSA/SALSA_BSOA_feedback/up_sw_cs_noa_SALSA_BSOA_feedback_2012-01-01_2019-01-01_hour_locations.nc,//proj/bolinc/users/x_sarbl/analysis/Output_data_BS-FDBCK/collocated_ds/ECHAM-SALSA/SALSA_BSOA_feedback/up_lw_SALSA_BSOA_feedback_2012-01-01_2019-01-01_hour_locations.nc,//proj/bolinc/users/x_sarbl/analysis/Output_data_BS-FDBCK/collocated_ds/ECHAM-SALSA/SALSA_BSOA_feedback/up_lw_cs_SALSA_BSOA_feedback_2012-01-01_2019-01-01_hour_locations.nc,//proj/bolinc/users/x_sarbl/analysis/Output_data_BS-FDBCK/collocated_ds/ECHAM-SALSA/SALSA_BSOA_feedback/up_lw_noa_SALSA_BSOA_feedback_2012-01-01_2019-01-01_hour_locations.nc,//proj/bolinc/users/x_sarbl/analysis/Output_data_BS-FDBCK/collocated_ds/ECHAM-SALSA/SALSA_BSOA_feedback/up_lw_cs_noa_SALSA_BSOA_feedback_2012-01-01_2019-01-01_hour_locations.nc,//proj/bolinc/users/x_sarbl/analysis/Output_data_BS-FDBCK/collocated_ds/ECHAM-SALSA/SALSA_BSOA_feedback/mmrtrN500_SALSA_BSOA_feedback_2012-01-01_2019-01-01_hour_locations.nc,//proj/bolinc/users/x_sarbl/analysis/Output_data_BS-FDBCK/collocated_ds/ECHAM-SALSA/SALSA_BSOA_feedback/mmrtrN250_SALSA_BSOA_feedback_2012-01-01_2019-01-01_hour_locations.nc,//proj/bolinc/users/x_sarbl/analysis/Output_data_BS-FDBCK/collocated_ds/ECHAM-SALSA/SALSA_BSOA_feedback/mmrtrN200_SALSA_BSOA_feedback_2012-01-01_2019-01-01_hour_locations.nc,//proj/bolinc/users/x_sarbl/analysis/Output_data_BS-FDBCK/collocated_ds/ECHAM-SALSA/SALSA_BSOA_feedback/mmrtrN100_SALSA_BSOA_feedback_2012-01-01_2019-01-01_hour_locations.nc,//proj/bolinc/users/x_sarbl/analysis/Output_data_BS-FDBCK/collocated_ds/ECHAM-SALSA/SALSA_BSOA_feedback/mmrtrN50_SALSA_BSOA_feedback_2012-01-01_2019-01-01_hour_locations.nc,//proj/bolinc/users/x_sarbl/analysis/Output_data_BS-FDBCK/collocated_ds/ECHAM-SALSA/SALSA_BSOA_feedback/mmrtrN3_SALSA_BSOA_feedback_2012-01-01_2019-01-01_hour_locations.nc,//proj/bolinc/users/x_sarbl/analysis/Output_data_BS-FDBCK/collocated_ds/ECHAM-SALSA/SALSA_BSOA_feedback/oh_con_SALSA_BSOA_feedback_2012-01-01_2019-01-01_hour_locations.nc,//proj/bolinc/users/x_sarbl/analysis/Output_data_BS-FDBCK/collocated_ds/ECHAM-SALSA/SALSA_BSOA_feedback/emi_monot_bio_SALSA_BSOA_feedback_2012-01-01_2019-01-01_hour_locations.nc,//proj/bolinc/users/x_sarbl/analysis/Output_data_BS-FDBCK/collocated_ds/ECHAM-SALSA/SALSA_BSOA_feedback/emi_isop_bio_SALSA_BSOA_feedback_2012-01-01_2019-01-01_hour_locations.nc,//proj/bolinc/users/x_sarbl/analysis/Output_data_BS-FDBCK/collocated_ds/ECHAM-SALSA/SALSA_BSOA_feedback/SO2_gas_SALSA_BSOA_feedback_2012-01-01_2019-01-01_hour_locations.nc,//proj/bolinc/users/x_sarbl/analysis/Output_data_BS-FDBCK/collocated_ds/ECHAM-SALSA/SALSA_BSOA_feedback/APIN_gas_SALSA_BSOA_feedback_2012-01-01_2019-01-01_hour_locations.nc,//proj/bolinc/users/x_sarbl/analysis/Output_data_BS-FDBCK/collocated_ds/ECHAM-SALSA/SALSA_BSOA_feedback/TBETAOCI_gas_SALSA_BSOA_feedback_2012-01-01_2019-01-01_hour_locations.nc,//proj/bolinc/users/x_sarbl/analysis/Output_data_BS-FDBCK/collocated_ds/ECHAM-SALSA/SALSA_BSOA_feedback/BPIN_gas_SALSA_BSOA_feedback_2012-01-01_2019-01-01_hour_locations.nc,//proj/bolinc/users/x_sarbl/analysis/Output_data_BS-FDBCK/collocated_ds/ECHAM-SALSA/SALSA_BSOA_feedback/LIMON_gas_SALSA_BSOA_feedback_2012-01-01_2019-01-01_hour_locations.nc,//proj/bolinc/users/x_sarbl/analysis/Output_data_BS-FDBCK/collocated_ds/ECHAM-SALSA/SALSA_BSOA_feedback/SABIN_gas_SALSA_BSOA_feedback_2012-01-01_2019-01-01_hour_locations.nc,//proj/bolinc/users/x_sarbl/analysis/Output_data_BS-FDBCK/collocated_ds/ECHAM-SALSA/SALSA_BSOA_feedback/MYRC_gas_SALSA_BSOA_feedback_2012-01-01_2019-01-01_hour_locations.nc,//proj/bolinc/users/x_sarbl/analysis/Output_data_BS-FDBCK/collocated_ds/ECHAM-SALSA/SALSA_BSOA_feedback/CARENE3_gas_SALSA_BSOA_feedback_2012-01-01_2019-01-01_hour_locations.nc,//proj/bolinc/users/x_sarbl/analysis/Output_data_BS-FDBCK/collocated_ds/ECHAM-SALSA/SALSA_BSOA_feedback/ISOP_gas_SALSA_BSOA_feedback_2012-01-01_2019-01-01_hour_locations.nc,//proj/bolinc/users/x_sarbl/analysis/Output_data_BS-FDBCK/collocated_ds/ECHAM-SALSA/SALSA_BSOA_feedback/VBS0_gas_SALSA_BSOA_feedback_2012-01-01_2019-01-01_hour_locations.nc,//proj/bolinc/users/x_sarbl/analysis/Output_data_BS-FDBCK/collocated_ds/ECHAM-SALSA/SALSA_BSOA_feedback/VBS1_gas_SALSA_BSOA_feedback_2012-01-01_2019-01-01_hour_locations.nc,//proj/bolinc/users/x_sarbl/analysis/Output_data_BS-FDBCK/collocated_ds/ECHAM-SALSA/SALSA_BSOA_feedback/VBS10_gas_SALSA_BSOA_feedback_2012-01-01_2019-01-01_hour_locations.nc,//proj/bolinc/users/x_sarbl/analysis/Output_data_BS-FDBCK/collocated_ds/ECHAM-SALSA/SALSA_BSOA_feedback/ORG_mass_SALSA_BSOA_feedback_2012-01-01_2019-01-01_hour_locations.nc]\n"
     ]
    },
    {
     "name": "stdout",
     "output_type": "stream",
     "text": [
      "//proj/bolinc/users/x_sarbl/analysis/Output_data_BS-FDBCK/collocated_ds/ECHAM-SALSA/SALSA_BSOA_feedback/apm_SALSA_BSOA_feedback_2012-01-01_2019-01-01_hour_locations.nc\n",
      "//proj/bolinc/users/x_sarbl/analysis/Output_data_BS-FDBCK/collocated_ds/ECHAM-SALSA/SALSA_BSOA_feedback/geom_SALSA_BSOA_feedback_2012-01-01_2019-01-01_hour_locations.nc\n",
      "//proj/bolinc/users/x_sarbl/analysis/Output_data_BS-FDBCK/collocated_ds/ECHAM-SALSA/SALSA_BSOA_feedback/airdens_SALSA_BSOA_feedback_2012-01-01_2019-01-01_hour_locations.nc\n",
      "//proj/bolinc/users/x_sarbl/analysis/Output_data_BS-FDBCK/collocated_ds/ECHAM-SALSA/SALSA_BSOA_feedback/tempair_SALSA_BSOA_feedback_2012-01-01_2019-01-01_hour_locations.nc\n",
      "//proj/bolinc/users/x_sarbl/analysis/Output_data_BS-FDBCK/collocated_ds/ECHAM-SALSA/SALSA_BSOA_feedback/uw_SALSA_BSOA_feedback_2012-01-01_2019-01-01_hour_locations.nc\n",
      "//proj/bolinc/users/x_sarbl/analysis/Output_data_BS-FDBCK/collocated_ds/ECHAM-SALSA/SALSA_BSOA_feedback/vw_SALSA_BSOA_feedback_2012-01-01_2019-01-01_hour_locations.nc\n",
      "//proj/bolinc/users/x_sarbl/analysis/Output_data_BS-FDBCK/collocated_ds/ECHAM-SALSA/SALSA_BSOA_feedback/ccn02_SALSA_BSOA_feedback_2012-01-01_2019-01-01_hour_locations.nc\n",
      "//proj/bolinc/users/x_sarbl/analysis/Output_data_BS-FDBCK/collocated_ds/ECHAM-SALSA/SALSA_BSOA_feedback/ccn10_SALSA_BSOA_feedback_2012-01-01_2019-01-01_hour_locations.nc\n",
      "//proj/bolinc/users/x_sarbl/analysis/Output_data_BS-FDBCK/collocated_ds/ECHAM-SALSA/SALSA_BSOA_feedback/cod_SALSA_BSOA_feedback_2012-01-01_2019-01-01_hour_locations.nc\n",
      "//proj/bolinc/users/x_sarbl/analysis/Output_data_BS-FDBCK/collocated_ds/ECHAM-SALSA/SALSA_BSOA_feedback/cwp_SALSA_BSOA_feedback_2012-01-01_2019-01-01_hour_locations.nc\n",
      "//proj/bolinc/users/x_sarbl/analysis/Output_data_BS-FDBCK/collocated_ds/ECHAM-SALSA/SALSA_BSOA_feedback/ceff_SALSA_BSOA_feedback_2012-01-01_2019-01-01_hour_locations.nc\n",
      "//proj/bolinc/users/x_sarbl/analysis/Output_data_BS-FDBCK/collocated_ds/ECHAM-SALSA/SALSA_BSOA_feedback/ceff_ct_SALSA_BSOA_feedback_2012-01-01_2019-01-01_hour_locations.nc\n",
      "//proj/bolinc/users/x_sarbl/analysis/Output_data_BS-FDBCK/collocated_ds/ECHAM-SALSA/SALSA_BSOA_feedback/lcdnc_SALSA_BSOA_feedback_2012-01-01_2019-01-01_hour_locations.nc\n",
      "//proj/bolinc/users/x_sarbl/analysis/Output_data_BS-FDBCK/collocated_ds/ECHAM-SALSA/SALSA_BSOA_feedback/lcdnc_ct_SALSA_BSOA_feedback_2012-01-01_2019-01-01_hour_locations.nc\n",
      "//proj/bolinc/users/x_sarbl/analysis/Output_data_BS-FDBCK/collocated_ds/ECHAM-SALSA/SALSA_BSOA_feedback/clfr_SALSA_BSOA_feedback_2012-01-01_2019-01-01_hour_locations.nc\n",
      "//proj/bolinc/users/x_sarbl/analysis/Output_data_BS-FDBCK/collocated_ds/ECHAM-SALSA/SALSA_BSOA_feedback/cl_time_SALSA_BSOA_feedback_2012-01-01_2019-01-01_hour_locations.nc\n",
      "//proj/bolinc/users/x_sarbl/analysis/Output_data_BS-FDBCK/collocated_ds/ECHAM-SALSA/SALSA_BSOA_feedback/aot550nm_SALSA_BSOA_feedback_2012-01-01_2019-01-01_hour_locations.nc\n",
      "//proj/bolinc/users/x_sarbl/analysis/Output_data_BS-FDBCK/collocated_ds/ECHAM-SALSA/SALSA_BSOA_feedback/aot865nm_SALSA_BSOA_feedback_2012-01-01_2019-01-01_hour_locations.nc\n",
      "//proj/bolinc/users/x_sarbl/analysis/Output_data_BS-FDBCK/collocated_ds/ECHAM-SALSA/SALSA_BSOA_feedback/ang550865_SALSA_BSOA_feedback_2012-01-01_2019-01-01_hour_locations.nc\n",
      "//proj/bolinc/users/x_sarbl/analysis/Output_data_BS-FDBCK/collocated_ds/ECHAM-SALSA/SALSA_BSOA_feedback/up_sw_SALSA_BSOA_feedback_2012-01-01_2019-01-01_hour_locations.nc\n",
      "//proj/bolinc/users/x_sarbl/analysis/Output_data_BS-FDBCK/collocated_ds/ECHAM-SALSA/SALSA_BSOA_feedback/up_sw_cs_SALSA_BSOA_feedback_2012-01-01_2019-01-01_hour_locations.nc\n",
      "//proj/bolinc/users/x_sarbl/analysis/Output_data_BS-FDBCK/collocated_ds/ECHAM-SALSA/SALSA_BSOA_feedback/up_sw_noa_SALSA_BSOA_feedback_2012-01-01_2019-01-01_hour_locations.nc\n",
      "//proj/bolinc/users/x_sarbl/analysis/Output_data_BS-FDBCK/collocated_ds/ECHAM-SALSA/SALSA_BSOA_feedback/up_sw_cs_noa_SALSA_BSOA_feedback_2012-01-01_2019-01-01_hour_locations.nc\n",
      "//proj/bolinc/users/x_sarbl/analysis/Output_data_BS-FDBCK/collocated_ds/ECHAM-SALSA/SALSA_BSOA_feedback/up_lw_SALSA_BSOA_feedback_2012-01-01_2019-01-01_hour_locations.nc\n",
      "//proj/bolinc/users/x_sarbl/analysis/Output_data_BS-FDBCK/collocated_ds/ECHAM-SALSA/SALSA_BSOA_feedback/up_lw_cs_SALSA_BSOA_feedback_2012-01-01_2019-01-01_hour_locations.nc\n",
      "//proj/bolinc/users/x_sarbl/analysis/Output_data_BS-FDBCK/collocated_ds/ECHAM-SALSA/SALSA_BSOA_feedback/up_lw_noa_SALSA_BSOA_feedback_2012-01-01_2019-01-01_hour_locations.nc\n",
      "//proj/bolinc/users/x_sarbl/analysis/Output_data_BS-FDBCK/collocated_ds/ECHAM-SALSA/SALSA_BSOA_feedback/up_lw_cs_noa_SALSA_BSOA_feedback_2012-01-01_2019-01-01_hour_locations.nc\n",
      "//proj/bolinc/users/x_sarbl/analysis/Output_data_BS-FDBCK/collocated_ds/ECHAM-SALSA/SALSA_BSOA_feedback/mmrtrN500_SALSA_BSOA_feedback_2012-01-01_2019-01-01_hour_locations.nc\n",
      "//proj/bolinc/users/x_sarbl/analysis/Output_data_BS-FDBCK/collocated_ds/ECHAM-SALSA/SALSA_BSOA_feedback/mmrtrN250_SALSA_BSOA_feedback_2012-01-01_2019-01-01_hour_locations.nc\n",
      "//proj/bolinc/users/x_sarbl/analysis/Output_data_BS-FDBCK/collocated_ds/ECHAM-SALSA/SALSA_BSOA_feedback/mmrtrN200_SALSA_BSOA_feedback_2012-01-01_2019-01-01_hour_locations.nc\n",
      "//proj/bolinc/users/x_sarbl/analysis/Output_data_BS-FDBCK/collocated_ds/ECHAM-SALSA/SALSA_BSOA_feedback/mmrtrN100_SALSA_BSOA_feedback_2012-01-01_2019-01-01_hour_locations.nc\n",
      "//proj/bolinc/users/x_sarbl/analysis/Output_data_BS-FDBCK/collocated_ds/ECHAM-SALSA/SALSA_BSOA_feedback/mmrtrN50_SALSA_BSOA_feedback_2012-01-01_2019-01-01_hour_locations.nc\n",
      "//proj/bolinc/users/x_sarbl/analysis/Output_data_BS-FDBCK/collocated_ds/ECHAM-SALSA/SALSA_BSOA_feedback/mmrtrN3_SALSA_BSOA_feedback_2012-01-01_2019-01-01_hour_locations.nc\n",
      "//proj/bolinc/users/x_sarbl/analysis/Output_data_BS-FDBCK/collocated_ds/ECHAM-SALSA/SALSA_BSOA_feedback/oh_con_SALSA_BSOA_feedback_2012-01-01_2019-01-01_hour_locations.nc\n",
      "//proj/bolinc/users/x_sarbl/analysis/Output_data_BS-FDBCK/collocated_ds/ECHAM-SALSA/SALSA_BSOA_feedback/emi_monot_bio_SALSA_BSOA_feedback_2012-01-01_2019-01-01_hour_locations.nc\n",
      "//proj/bolinc/users/x_sarbl/analysis/Output_data_BS-FDBCK/collocated_ds/ECHAM-SALSA/SALSA_BSOA_feedback/emi_isop_bio_SALSA_BSOA_feedback_2012-01-01_2019-01-01_hour_locations.nc\n",
      "//proj/bolinc/users/x_sarbl/analysis/Output_data_BS-FDBCK/collocated_ds/ECHAM-SALSA/SALSA_BSOA_feedback/SO2_gas_SALSA_BSOA_feedback_2012-01-01_2019-01-01_hour_locations.nc\n",
      "//proj/bolinc/users/x_sarbl/analysis/Output_data_BS-FDBCK/collocated_ds/ECHAM-SALSA/SALSA_BSOA_feedback/APIN_gas_SALSA_BSOA_feedback_2012-01-01_2019-01-01_hour_locations.nc\n",
      "//proj/bolinc/users/x_sarbl/analysis/Output_data_BS-FDBCK/collocated_ds/ECHAM-SALSA/SALSA_BSOA_feedback/TBETAOCI_gas_SALSA_BSOA_feedback_2012-01-01_2019-01-01_hour_locations.nc\n",
      "//proj/bolinc/users/x_sarbl/analysis/Output_data_BS-FDBCK/collocated_ds/ECHAM-SALSA/SALSA_BSOA_feedback/BPIN_gas_SALSA_BSOA_feedback_2012-01-01_2019-01-01_hour_locations.nc\n",
      "//proj/bolinc/users/x_sarbl/analysis/Output_data_BS-FDBCK/collocated_ds/ECHAM-SALSA/SALSA_BSOA_feedback/LIMON_gas_SALSA_BSOA_feedback_2012-01-01_2019-01-01_hour_locations.nc\n",
      "//proj/bolinc/users/x_sarbl/analysis/Output_data_BS-FDBCK/collocated_ds/ECHAM-SALSA/SALSA_BSOA_feedback/SABIN_gas_SALSA_BSOA_feedback_2012-01-01_2019-01-01_hour_locations.nc\n",
      "//proj/bolinc/users/x_sarbl/analysis/Output_data_BS-FDBCK/collocated_ds/ECHAM-SALSA/SALSA_BSOA_feedback/MYRC_gas_SALSA_BSOA_feedback_2012-01-01_2019-01-01_hour_locations.nc\n",
      "//proj/bolinc/users/x_sarbl/analysis/Output_data_BS-FDBCK/collocated_ds/ECHAM-SALSA/SALSA_BSOA_feedback/CARENE3_gas_SALSA_BSOA_feedback_2012-01-01_2019-01-01_hour_locations.nc\n",
      "//proj/bolinc/users/x_sarbl/analysis/Output_data_BS-FDBCK/collocated_ds/ECHAM-SALSA/SALSA_BSOA_feedback/ISOP_gas_SALSA_BSOA_feedback_2012-01-01_2019-01-01_hour_locations.nc\n",
      "//proj/bolinc/users/x_sarbl/analysis/Output_data_BS-FDBCK/collocated_ds/ECHAM-SALSA/SALSA_BSOA_feedback/VBS0_gas_SALSA_BSOA_feedback_2012-01-01_2019-01-01_hour_locations.nc\n",
      "//proj/bolinc/users/x_sarbl/analysis/Output_data_BS-FDBCK/collocated_ds/ECHAM-SALSA/SALSA_BSOA_feedback/VBS1_gas_SALSA_BSOA_feedback_2012-01-01_2019-01-01_hour_locations.nc\n",
      "//proj/bolinc/users/x_sarbl/analysis/Output_data_BS-FDBCK/collocated_ds/ECHAM-SALSA/SALSA_BSOA_feedback/VBS10_gas_SALSA_BSOA_feedback_2012-01-01_2019-01-01_hour_locations.nc\n",
      "//proj/bolinc/users/x_sarbl/analysis/Output_data_BS-FDBCK/collocated_ds/ECHAM-SALSA/SALSA_BSOA_feedback/ORG_mass_SALSA_BSOA_feedback_2012-01-01_2019-01-01_hour_locations.nc\n",
      "2022-11-23 17:33:30,967 useful_scit  INFO     Opening: [//proj/bolinc/users/x_sarbl/analysis/Output_data_BS-FDBCK/collocated_ds/ECHAM-SALSA/SALSA_BSOA_feedback/apm_SALSA_BSOA_feedback_2012-01-01_2019-01-01_hour_locations.nc,//proj/bolinc/users/x_sarbl/analysis/Output_data_BS-FDBCK/collocated_ds/ECHAM-SALSA/SALSA_BSOA_feedback/geom_SALSA_BSOA_feedback_2012-01-01_2019-01-01_hour_locations.nc,//proj/bolinc/users/x_sarbl/analysis/Output_data_BS-FDBCK/collocated_ds/ECHAM-SALSA/SALSA_BSOA_feedback/airdens_SALSA_BSOA_feedback_2012-01-01_2019-01-01_hour_locations.nc,//proj/bolinc/users/x_sarbl/analysis/Output_data_BS-FDBCK/collocated_ds/ECHAM-SALSA/SALSA_BSOA_feedback/tempair_SALSA_BSOA_feedback_2012-01-01_2019-01-01_hour_locations.nc,//proj/bolinc/users/x_sarbl/analysis/Output_data_BS-FDBCK/collocated_ds/ECHAM-SALSA/SALSA_BSOA_feedback/uw_SALSA_BSOA_feedback_2012-01-01_2019-01-01_hour_locations.nc,//proj/bolinc/users/x_sarbl/analysis/Output_data_BS-FDBCK/collocated_ds/ECHAM-SALSA/SALSA_BSOA_feedback/vw_SALSA_BSOA_feedback_2012-01-01_2019-01-01_hour_locations.nc,//proj/bolinc/users/x_sarbl/analysis/Output_data_BS-FDBCK/collocated_ds/ECHAM-SALSA/SALSA_BSOA_feedback/ccn02_SALSA_BSOA_feedback_2012-01-01_2019-01-01_hour_locations.nc,//proj/bolinc/users/x_sarbl/analysis/Output_data_BS-FDBCK/collocated_ds/ECHAM-SALSA/SALSA_BSOA_feedback/ccn10_SALSA_BSOA_feedback_2012-01-01_2019-01-01_hour_locations.nc,//proj/bolinc/users/x_sarbl/analysis/Output_data_BS-FDBCK/collocated_ds/ECHAM-SALSA/SALSA_BSOA_feedback/cod_SALSA_BSOA_feedback_2012-01-01_2019-01-01_hour_locations.nc,//proj/bolinc/users/x_sarbl/analysis/Output_data_BS-FDBCK/collocated_ds/ECHAM-SALSA/SALSA_BSOA_feedback/cwp_SALSA_BSOA_feedback_2012-01-01_2019-01-01_hour_locations.nc,//proj/bolinc/users/x_sarbl/analysis/Output_data_BS-FDBCK/collocated_ds/ECHAM-SALSA/SALSA_BSOA_feedback/ceff_SALSA_BSOA_feedback_2012-01-01_2019-01-01_hour_locations.nc,//proj/bolinc/users/x_sarbl/analysis/Output_data_BS-FDBCK/collocated_ds/ECHAM-SALSA/SALSA_BSOA_feedback/ceff_ct_SALSA_BSOA_feedback_2012-01-01_2019-01-01_hour_locations.nc,//proj/bolinc/users/x_sarbl/analysis/Output_data_BS-FDBCK/collocated_ds/ECHAM-SALSA/SALSA_BSOA_feedback/lcdnc_SALSA_BSOA_feedback_2012-01-01_2019-01-01_hour_locations.nc,//proj/bolinc/users/x_sarbl/analysis/Output_data_BS-FDBCK/collocated_ds/ECHAM-SALSA/SALSA_BSOA_feedback/lcdnc_ct_SALSA_BSOA_feedback_2012-01-01_2019-01-01_hour_locations.nc,//proj/bolinc/users/x_sarbl/analysis/Output_data_BS-FDBCK/collocated_ds/ECHAM-SALSA/SALSA_BSOA_feedback/clfr_SALSA_BSOA_feedback_2012-01-01_2019-01-01_hour_locations.nc,//proj/bolinc/users/x_sarbl/analysis/Output_data_BS-FDBCK/collocated_ds/ECHAM-SALSA/SALSA_BSOA_feedback/cl_time_SALSA_BSOA_feedback_2012-01-01_2019-01-01_hour_locations.nc,//proj/bolinc/users/x_sarbl/analysis/Output_data_BS-FDBCK/collocated_ds/ECHAM-SALSA/SALSA_BSOA_feedback/aot550nm_SALSA_BSOA_feedback_2012-01-01_2019-01-01_hour_locations.nc,//proj/bolinc/users/x_sarbl/analysis/Output_data_BS-FDBCK/collocated_ds/ECHAM-SALSA/SALSA_BSOA_feedback/aot865nm_SALSA_BSOA_feedback_2012-01-01_2019-01-01_hour_locations.nc,//proj/bolinc/users/x_sarbl/analysis/Output_data_BS-FDBCK/collocated_ds/ECHAM-SALSA/SALSA_BSOA_feedback/ang550865_SALSA_BSOA_feedback_2012-01-01_2019-01-01_hour_locations.nc,//proj/bolinc/users/x_sarbl/analysis/Output_data_BS-FDBCK/collocated_ds/ECHAM-SALSA/SALSA_BSOA_feedback/up_sw_SALSA_BSOA_feedback_2012-01-01_2019-01-01_hour_locations.nc,//proj/bolinc/users/x_sarbl/analysis/Output_data_BS-FDBCK/collocated_ds/ECHAM-SALSA/SALSA_BSOA_feedback/up_sw_cs_SALSA_BSOA_feedback_2012-01-01_2019-01-01_hour_locations.nc,//proj/bolinc/users/x_sarbl/analysis/Output_data_BS-FDBCK/collocated_ds/ECHAM-SALSA/SALSA_BSOA_feedback/up_sw_noa_SALSA_BSOA_feedback_2012-01-01_2019-01-01_hour_locations.nc,//proj/bolinc/users/x_sarbl/analysis/Output_data_BS-FDBCK/collocated_ds/ECHAM-SALSA/SALSA_BSOA_feedback/up_sw_cs_noa_SALSA_BSOA_feedback_2012-01-01_2019-01-01_hour_locations.nc,//proj/bolinc/users/x_sarbl/analysis/Output_data_BS-FDBCK/collocated_ds/ECHAM-SALSA/SALSA_BSOA_feedback/up_lw_SALSA_BSOA_feedback_2012-01-01_2019-01-01_hour_locations.nc,//proj/bolinc/users/x_sarbl/analysis/Output_data_BS-FDBCK/collocated_ds/ECHAM-SALSA/SALSA_BSOA_feedback/up_lw_cs_SALSA_BSOA_feedback_2012-01-01_2019-01-01_hour_locations.nc,//proj/bolinc/users/x_sarbl/analysis/Output_data_BS-FDBCK/collocated_ds/ECHAM-SALSA/SALSA_BSOA_feedback/up_lw_noa_SALSA_BSOA_feedback_2012-01-01_2019-01-01_hour_locations.nc,//proj/bolinc/users/x_sarbl/analysis/Output_data_BS-FDBCK/collocated_ds/ECHAM-SALSA/SALSA_BSOA_feedback/up_lw_cs_noa_SALSA_BSOA_feedback_2012-01-01_2019-01-01_hour_locations.nc,//proj/bolinc/users/x_sarbl/analysis/Output_data_BS-FDBCK/collocated_ds/ECHAM-SALSA/SALSA_BSOA_feedback/mmrtrN500_SALSA_BSOA_feedback_2012-01-01_2019-01-01_hour_locations.nc,//proj/bolinc/users/x_sarbl/analysis/Output_data_BS-FDBCK/collocated_ds/ECHAM-SALSA/SALSA_BSOA_feedback/mmrtrN250_SALSA_BSOA_feedback_2012-01-01_2019-01-01_hour_locations.nc,//proj/bolinc/users/x_sarbl/analysis/Output_data_BS-FDBCK/collocated_ds/ECHAM-SALSA/SALSA_BSOA_feedback/mmrtrN200_SALSA_BSOA_feedback_2012-01-01_2019-01-01_hour_locations.nc,//proj/bolinc/users/x_sarbl/analysis/Output_data_BS-FDBCK/collocated_ds/ECHAM-SALSA/SALSA_BSOA_feedback/mmrtrN100_SALSA_BSOA_feedback_2012-01-01_2019-01-01_hour_locations.nc,//proj/bolinc/users/x_sarbl/analysis/Output_data_BS-FDBCK/collocated_ds/ECHAM-SALSA/SALSA_BSOA_feedback/mmrtrN50_SALSA_BSOA_feedback_2012-01-01_2019-01-01_hour_locations.nc,//proj/bolinc/users/x_sarbl/analysis/Output_data_BS-FDBCK/collocated_ds/ECHAM-SALSA/SALSA_BSOA_feedback/mmrtrN3_SALSA_BSOA_feedback_2012-01-01_2019-01-01_hour_locations.nc,//proj/bolinc/users/x_sarbl/analysis/Output_data_BS-FDBCK/collocated_ds/ECHAM-SALSA/SALSA_BSOA_feedback/oh_con_SALSA_BSOA_feedback_2012-01-01_2019-01-01_hour_locations.nc,//proj/bolinc/users/x_sarbl/analysis/Output_data_BS-FDBCK/collocated_ds/ECHAM-SALSA/SALSA_BSOA_feedback/emi_monot_bio_SALSA_BSOA_feedback_2012-01-01_2019-01-01_hour_locations.nc,//proj/bolinc/users/x_sarbl/analysis/Output_data_BS-FDBCK/collocated_ds/ECHAM-SALSA/SALSA_BSOA_feedback/emi_isop_bio_SALSA_BSOA_feedback_2012-01-01_2019-01-01_hour_locations.nc,//proj/bolinc/users/x_sarbl/analysis/Output_data_BS-FDBCK/collocated_ds/ECHAM-SALSA/SALSA_BSOA_feedback/SO2_gas_SALSA_BSOA_feedback_2012-01-01_2019-01-01_hour_locations.nc,//proj/bolinc/users/x_sarbl/analysis/Output_data_BS-FDBCK/collocated_ds/ECHAM-SALSA/SALSA_BSOA_feedback/APIN_gas_SALSA_BSOA_feedback_2012-01-01_2019-01-01_hour_locations.nc,//proj/bolinc/users/x_sarbl/analysis/Output_data_BS-FDBCK/collocated_ds/ECHAM-SALSA/SALSA_BSOA_feedback/TBETAOCI_gas_SALSA_BSOA_feedback_2012-01-01_2019-01-01_hour_locations.nc,//proj/bolinc/users/x_sarbl/analysis/Output_data_BS-FDBCK/collocated_ds/ECHAM-SALSA/SALSA_BSOA_feedback/BPIN_gas_SALSA_BSOA_feedback_2012-01-01_2019-01-01_hour_locations.nc,//proj/bolinc/users/x_sarbl/analysis/Output_data_BS-FDBCK/collocated_ds/ECHAM-SALSA/SALSA_BSOA_feedback/LIMON_gas_SALSA_BSOA_feedback_2012-01-01_2019-01-01_hour_locations.nc,//proj/bolinc/users/x_sarbl/analysis/Output_data_BS-FDBCK/collocated_ds/ECHAM-SALSA/SALSA_BSOA_feedback/SABIN_gas_SALSA_BSOA_feedback_2012-01-01_2019-01-01_hour_locations.nc,//proj/bolinc/users/x_sarbl/analysis/Output_data_BS-FDBCK/collocated_ds/ECHAM-SALSA/SALSA_BSOA_feedback/MYRC_gas_SALSA_BSOA_feedback_2012-01-01_2019-01-01_hour_locations.nc,//proj/bolinc/users/x_sarbl/analysis/Output_data_BS-FDBCK/collocated_ds/ECHAM-SALSA/SALSA_BSOA_feedback/CARENE3_gas_SALSA_BSOA_feedback_2012-01-01_2019-01-01_hour_locations.nc,//proj/bolinc/users/x_sarbl/analysis/Output_data_BS-FDBCK/collocated_ds/ECHAM-SALSA/SALSA_BSOA_feedback/ISOP_gas_SALSA_BSOA_feedback_2012-01-01_2019-01-01_hour_locations.nc,//proj/bolinc/users/x_sarbl/analysis/Output_data_BS-FDBCK/collocated_ds/ECHAM-SALSA/SALSA_BSOA_feedback/VBS0_gas_SALSA_BSOA_feedback_2012-01-01_2019-01-01_hour_locations.nc,//proj/bolinc/users/x_sarbl/analysis/Output_data_BS-FDBCK/collocated_ds/ECHAM-SALSA/SALSA_BSOA_feedback/VBS1_gas_SALSA_BSOA_feedback_2012-01-01_2019-01-01_hour_locations.nc,//proj/bolinc/users/x_sarbl/analysis/Output_data_BS-FDBCK/collocated_ds/ECHAM-SALSA/SALSA_BSOA_feedback/VBS10_gas_SALSA_BSOA_feedback_2012-01-01_2019-01-01_hour_locations.nc,//proj/bolinc/users/x_sarbl/analysis/Output_data_BS-FDBCK/collocated_ds/ECHAM-SALSA/SALSA_BSOA_feedback/ORG_mass_SALSA_BSOA_feedback_2012-01-01_2019-01-01_hour_locations.nc]\n",
      "['//proj/bolinc/users/x_sarbl/analysis/Output_data_BS-FDBCK/collocated_ds/ECHAM-SALSA/SALSA_BSOA_feedback/apm_SALSA_BSOA_feedback_2012-01-01_2019-01-01_hour_locations.nc', '//proj/bolinc/users/x_sarbl/analysis/Output_data_BS-FDBCK/collocated_ds/ECHAM-SALSA/SALSA_BSOA_feedback/geom_SALSA_BSOA_feedback_2012-01-01_2019-01-01_hour_locations.nc', '//proj/bolinc/users/x_sarbl/analysis/Output_data_BS-FDBCK/collocated_ds/ECHAM-SALSA/SALSA_BSOA_feedback/airdens_SALSA_BSOA_feedback_2012-01-01_2019-01-01_hour_locations.nc', '//proj/bolinc/users/x_sarbl/analysis/Output_data_BS-FDBCK/collocated_ds/ECHAM-SALSA/SALSA_BSOA_feedback/tempair_SALSA_BSOA_feedback_2012-01-01_2019-01-01_hour_locations.nc', '//proj/bolinc/users/x_sarbl/analysis/Output_data_BS-FDBCK/collocated_ds/ECHAM-SALSA/SALSA_BSOA_feedback/uw_SALSA_BSOA_feedback_2012-01-01_2019-01-01_hour_locations.nc', '//proj/bolinc/users/x_sarbl/analysis/Output_data_BS-FDBCK/collocated_ds/ECHAM-SALSA/SALSA_BSOA_feedback/vw_SALSA_BSOA_feedback_2012-01-01_2019-01-01_hour_locations.nc', '//proj/bolinc/users/x_sarbl/analysis/Output_data_BS-FDBCK/collocated_ds/ECHAM-SALSA/SALSA_BSOA_feedback/ccn02_SALSA_BSOA_feedback_2012-01-01_2019-01-01_hour_locations.nc', '//proj/bolinc/users/x_sarbl/analysis/Output_data_BS-FDBCK/collocated_ds/ECHAM-SALSA/SALSA_BSOA_feedback/ccn10_SALSA_BSOA_feedback_2012-01-01_2019-01-01_hour_locations.nc', '//proj/bolinc/users/x_sarbl/analysis/Output_data_BS-FDBCK/collocated_ds/ECHAM-SALSA/SALSA_BSOA_feedback/cod_SALSA_BSOA_feedback_2012-01-01_2019-01-01_hour_locations.nc', '//proj/bolinc/users/x_sarbl/analysis/Output_data_BS-FDBCK/collocated_ds/ECHAM-SALSA/SALSA_BSOA_feedback/cwp_SALSA_BSOA_feedback_2012-01-01_2019-01-01_hour_locations.nc', '//proj/bolinc/users/x_sarbl/analysis/Output_data_BS-FDBCK/collocated_ds/ECHAM-SALSA/SALSA_BSOA_feedback/ceff_SALSA_BSOA_feedback_2012-01-01_2019-01-01_hour_locations.nc', '//proj/bolinc/users/x_sarbl/analysis/Output_data_BS-FDBCK/collocated_ds/ECHAM-SALSA/SALSA_BSOA_feedback/ceff_ct_SALSA_BSOA_feedback_2012-01-01_2019-01-01_hour_locations.nc', '//proj/bolinc/users/x_sarbl/analysis/Output_data_BS-FDBCK/collocated_ds/ECHAM-SALSA/SALSA_BSOA_feedback/lcdnc_SALSA_BSOA_feedback_2012-01-01_2019-01-01_hour_locations.nc', '//proj/bolinc/users/x_sarbl/analysis/Output_data_BS-FDBCK/collocated_ds/ECHAM-SALSA/SALSA_BSOA_feedback/lcdnc_ct_SALSA_BSOA_feedback_2012-01-01_2019-01-01_hour_locations.nc', '//proj/bolinc/users/x_sarbl/analysis/Output_data_BS-FDBCK/collocated_ds/ECHAM-SALSA/SALSA_BSOA_feedback/clfr_SALSA_BSOA_feedback_2012-01-01_2019-01-01_hour_locations.nc', '//proj/bolinc/users/x_sarbl/analysis/Output_data_BS-FDBCK/collocated_ds/ECHAM-SALSA/SALSA_BSOA_feedback/cl_time_SALSA_BSOA_feedback_2012-01-01_2019-01-01_hour_locations.nc', '//proj/bolinc/users/x_sarbl/analysis/Output_data_BS-FDBCK/collocated_ds/ECHAM-SALSA/SALSA_BSOA_feedback/aot550nm_SALSA_BSOA_feedback_2012-01-01_2019-01-01_hour_locations.nc', '//proj/bolinc/users/x_sarbl/analysis/Output_data_BS-FDBCK/collocated_ds/ECHAM-SALSA/SALSA_BSOA_feedback/aot865nm_SALSA_BSOA_feedback_2012-01-01_2019-01-01_hour_locations.nc', '//proj/bolinc/users/x_sarbl/analysis/Output_data_BS-FDBCK/collocated_ds/ECHAM-SALSA/SALSA_BSOA_feedback/ang550865_SALSA_BSOA_feedback_2012-01-01_2019-01-01_hour_locations.nc', '//proj/bolinc/users/x_sarbl/analysis/Output_data_BS-FDBCK/collocated_ds/ECHAM-SALSA/SALSA_BSOA_feedback/up_sw_SALSA_BSOA_feedback_2012-01-01_2019-01-01_hour_locations.nc', '//proj/bolinc/users/x_sarbl/analysis/Output_data_BS-FDBCK/collocated_ds/ECHAM-SALSA/SALSA_BSOA_feedback/up_sw_cs_SALSA_BSOA_feedback_2012-01-01_2019-01-01_hour_locations.nc', '//proj/bolinc/users/x_sarbl/analysis/Output_data_BS-FDBCK/collocated_ds/ECHAM-SALSA/SALSA_BSOA_feedback/up_sw_noa_SALSA_BSOA_feedback_2012-01-01_2019-01-01_hour_locations.nc', '//proj/bolinc/users/x_sarbl/analysis/Output_data_BS-FDBCK/collocated_ds/ECHAM-SALSA/SALSA_BSOA_feedback/up_sw_cs_noa_SALSA_BSOA_feedback_2012-01-01_2019-01-01_hour_locations.nc', '//proj/bolinc/users/x_sarbl/analysis/Output_data_BS-FDBCK/collocated_ds/ECHAM-SALSA/SALSA_BSOA_feedback/up_lw_SALSA_BSOA_feedback_2012-01-01_2019-01-01_hour_locations.nc', '//proj/bolinc/users/x_sarbl/analysis/Output_data_BS-FDBCK/collocated_ds/ECHAM-SALSA/SALSA_BSOA_feedback/up_lw_cs_SALSA_BSOA_feedback_2012-01-01_2019-01-01_hour_locations.nc', '//proj/bolinc/users/x_sarbl/analysis/Output_data_BS-FDBCK/collocated_ds/ECHAM-SALSA/SALSA_BSOA_feedback/up_lw_noa_SALSA_BSOA_feedback_2012-01-01_2019-01-01_hour_locations.nc', '//proj/bolinc/users/x_sarbl/analysis/Output_data_BS-FDBCK/collocated_ds/ECHAM-SALSA/SALSA_BSOA_feedback/up_lw_cs_noa_SALSA_BSOA_feedback_2012-01-01_2019-01-01_hour_locations.nc', '//proj/bolinc/users/x_sarbl/analysis/Output_data_BS-FDBCK/collocated_ds/ECHAM-SALSA/SALSA_BSOA_feedback/mmrtrN500_SALSA_BSOA_feedback_2012-01-01_2019-01-01_hour_locations.nc', '//proj/bolinc/users/x_sarbl/analysis/Output_data_BS-FDBCK/collocated_ds/ECHAM-SALSA/SALSA_BSOA_feedback/mmrtrN250_SALSA_BSOA_feedback_2012-01-01_2019-01-01_hour_locations.nc', '//proj/bolinc/users/x_sarbl/analysis/Output_data_BS-FDBCK/collocated_ds/ECHAM-SALSA/SALSA_BSOA_feedback/mmrtrN200_SALSA_BSOA_feedback_2012-01-01_2019-01-01_hour_locations.nc', '//proj/bolinc/users/x_sarbl/analysis/Output_data_BS-FDBCK/collocated_ds/ECHAM-SALSA/SALSA_BSOA_feedback/mmrtrN100_SALSA_BSOA_feedback_2012-01-01_2019-01-01_hour_locations.nc', '//proj/bolinc/users/x_sarbl/analysis/Output_data_BS-FDBCK/collocated_ds/ECHAM-SALSA/SALSA_BSOA_feedback/mmrtrN50_SALSA_BSOA_feedback_2012-01-01_2019-01-01_hour_locations.nc', '//proj/bolinc/users/x_sarbl/analysis/Output_data_BS-FDBCK/collocated_ds/ECHAM-SALSA/SALSA_BSOA_feedback/mmrtrN3_SALSA_BSOA_feedback_2012-01-01_2019-01-01_hour_locations.nc', '//proj/bolinc/users/x_sarbl/analysis/Output_data_BS-FDBCK/collocated_ds/ECHAM-SALSA/SALSA_BSOA_feedback/oh_con_SALSA_BSOA_feedback_2012-01-01_2019-01-01_hour_locations.nc', '//proj/bolinc/users/x_sarbl/analysis/Output_data_BS-FDBCK/collocated_ds/ECHAM-SALSA/SALSA_BSOA_feedback/emi_monot_bio_SALSA_BSOA_feedback_2012-01-01_2019-01-01_hour_locations.nc', '//proj/bolinc/users/x_sarbl/analysis/Output_data_BS-FDBCK/collocated_ds/ECHAM-SALSA/SALSA_BSOA_feedback/emi_isop_bio_SALSA_BSOA_feedback_2012-01-01_2019-01-01_hour_locations.nc', '//proj/bolinc/users/x_sarbl/analysis/Output_data_BS-FDBCK/collocated_ds/ECHAM-SALSA/SALSA_BSOA_feedback/SO2_gas_SALSA_BSOA_feedback_2012-01-01_2019-01-01_hour_locations.nc', '//proj/bolinc/users/x_sarbl/analysis/Output_data_BS-FDBCK/collocated_ds/ECHAM-SALSA/SALSA_BSOA_feedback/APIN_gas_SALSA_BSOA_feedback_2012-01-01_2019-01-01_hour_locations.nc', '//proj/bolinc/users/x_sarbl/analysis/Output_data_BS-FDBCK/collocated_ds/ECHAM-SALSA/SALSA_BSOA_feedback/TBETAOCI_gas_SALSA_BSOA_feedback_2012-01-01_2019-01-01_hour_locations.nc', '//proj/bolinc/users/x_sarbl/analysis/Output_data_BS-FDBCK/collocated_ds/ECHAM-SALSA/SALSA_BSOA_feedback/BPIN_gas_SALSA_BSOA_feedback_2012-01-01_2019-01-01_hour_locations.nc', '//proj/bolinc/users/x_sarbl/analysis/Output_data_BS-FDBCK/collocated_ds/ECHAM-SALSA/SALSA_BSOA_feedback/LIMON_gas_SALSA_BSOA_feedback_2012-01-01_2019-01-01_hour_locations.nc', '//proj/bolinc/users/x_sarbl/analysis/Output_data_BS-FDBCK/collocated_ds/ECHAM-SALSA/SALSA_BSOA_feedback/SABIN_gas_SALSA_BSOA_feedback_2012-01-01_2019-01-01_hour_locations.nc', '//proj/bolinc/users/x_sarbl/analysis/Output_data_BS-FDBCK/collocated_ds/ECHAM-SALSA/SALSA_BSOA_feedback/MYRC_gas_SALSA_BSOA_feedback_2012-01-01_2019-01-01_hour_locations.nc', '//proj/bolinc/users/x_sarbl/analysis/Output_data_BS-FDBCK/collocated_ds/ECHAM-SALSA/SALSA_BSOA_feedback/CARENE3_gas_SALSA_BSOA_feedback_2012-01-01_2019-01-01_hour_locations.nc', '//proj/bolinc/users/x_sarbl/analysis/Output_data_BS-FDBCK/collocated_ds/ECHAM-SALSA/SALSA_BSOA_feedback/ISOP_gas_SALSA_BSOA_feedback_2012-01-01_2019-01-01_hour_locations.nc', '//proj/bolinc/users/x_sarbl/analysis/Output_data_BS-FDBCK/collocated_ds/ECHAM-SALSA/SALSA_BSOA_feedback/VBS0_gas_SALSA_BSOA_feedback_2012-01-01_2019-01-01_hour_locations.nc', '//proj/bolinc/users/x_sarbl/analysis/Output_data_BS-FDBCK/collocated_ds/ECHAM-SALSA/SALSA_BSOA_feedback/VBS1_gas_SALSA_BSOA_feedback_2012-01-01_2019-01-01_hour_locations.nc', '//proj/bolinc/users/x_sarbl/analysis/Output_data_BS-FDBCK/collocated_ds/ECHAM-SALSA/SALSA_BSOA_feedback/VBS10_gas_SALSA_BSOA_feedback_2012-01-01_2019-01-01_hour_locations.nc', '//proj/bolinc/users/x_sarbl/analysis/Output_data_BS-FDBCK/collocated_ds/ECHAM-SALSA/SALSA_BSOA_feedback/ORG_mass_SALSA_BSOA_feedback_2012-01-01_2019-01-01_hour_locations.nc']\n"
     ]
    },
    {
     "name": "stderr",
     "output_type": "stream",
     "text": [
      "/home/x_sarbl/miniconda3/envs/env_analys/lib/python3.8/site-packages/xarray/backends/plugins.py:61: RuntimeWarning: Engine 'rasterio' loading failed:\n",
      "(click 8.0.1 (/home/x_sarbl/miniconda3/envs/env_analys/lib/python3.8/site-packages), Requirement.parse('click<8,>=4.0'), {'rasterio'})\n",
      "  warnings.warn(f\"Engine {name!r} loading failed:\\n{ex}\", RuntimeWarning)\n"
     ]
    }
   ],
   "source": [
    "dic_ds = dict()\n",
    "for ca in cases_echam:\n",
    "    c = CollocateLONLATout(ca, from_t, to_t,\n",
    "                           True,\n",
    "                           'hour',\n",
    "                           model_name=model_name\n",
    "                          )\n",
    "                          # history_field=history_field)\n",
    "    ds = c.get_collocated_dataset(varl)\n",
    "    if 'location' in ds.coords:\n",
    "        ds = ds.rename({'location':'station'})\n",
    "    dic_ds[ca]=ds.drop('station').rename(dict(locations='station'))"
   ]
  },
  {
   "cell_type": "code",
   "execution_count": 19,
   "id": "e552bca9-ff07-43ef-b267-cdf0b61ce13c",
   "metadata": {},
   "outputs": [],
   "source": [
    "dic_mod_ca['ECHAM-SALSA'] = dic_ds.copy()"
   ]
  },
  {
   "cell_type": "markdown",
   "id": "50aa2a05-743d-4c8e-bb68-cf2477d13121",
   "metadata": {},
   "source": [
    "## LOAD NORESM"
   ]
  },
  {
   "cell_type": "markdown",
   "id": "4c6bb70b-ed9b-4026-b5a1-c3e61f498b3d",
   "metadata": {},
   "source": [
    "## Settings:"
   ]
  },
  {
   "cell_type": "code",
   "execution_count": 20,
   "id": "a0c1876e-bc33-47f8-acb2-7535842ec3d0",
   "metadata": {},
   "outputs": [],
   "source": [
    "nr_of_bins = 5\n",
    "maxDiameter = 39.6  #    23.6 #e-9\n",
    "minDiameter = 5.0  # e-9\n",
    "history_field='.h1.'"
   ]
  },
  {
   "cell_type": "code",
   "execution_count": 21,
   "id": "6a1bfcb2-2d12-4b4f-80dd-7424cfb64020",
   "metadata": {},
   "outputs": [],
   "source": [
    "from_t = '2012-01-01'\n",
    "to_t = '2015-01-01'"
   ]
  },
  {
   "cell_type": "code",
   "execution_count": 22,
   "id": "abbd044d-1786-4317-988e-157fef1d1e50",
   "metadata": {},
   "outputs": [],
   "source": [
    "from_t2 = '2015-01-01'\n",
    "to_t2 = '2019-01-01'"
   ]
  },
  {
   "cell_type": "markdown",
   "id": "0bdd88f5-2ea6-4ccc-a027-04535a2f1ab0",
   "metadata": {
    "tags": []
   },
   "source": [
    "## Cases:"
   ]
  },
  {
   "cell_type": "code",
   "execution_count": 23,
   "id": "3b362d73-f8bd-44c9-a88f-be64a4f86cfa",
   "metadata": {
    "lines_to_next_cell": 0
   },
   "outputs": [],
   "source": [
    "cases_noresm1 = ['OsloAero_intBVOC_f09_f09_mg17_full']\n",
    "cases_noresm2 = ['OsloAero_intBVOC_f09_f09_mg17_ssp245']"
   ]
  },
  {
   "cell_type": "code",
   "execution_count": 24,
   "id": "94910def-420c-4b93-afd5-f88d5b5406a0",
   "metadata": {},
   "outputs": [],
   "source": [
    "case_mod = 'OsloAero_intBVOC_f09_f09_mg17_fssp'\n",
    "case_noresm = 'OsloAero_intBVOC_f09_f09_mg17_fssp'\n",
    "cases_noresm = [case_noresm]\n",
    "di_mod2cases['NorESM'] = cases_noresm"
   ]
  },
  {
   "cell_type": "markdown",
   "id": "cc0918bf-fe77-4092-ac0c-292bd1470534",
   "metadata": {},
   "source": [
    "## Variables"
   ]
  },
  {
   "cell_type": "code",
   "execution_count": 25,
   "id": "fc0fc1b7-73f1-4a52-a94b-c8471f6d3fcb",
   "metadata": {
    "lines_to_next_cell": 2
   },
   "outputs": [],
   "source": [
    "varl =['N100','SOA_NA','SOA_A1','SO4_NA','DOD500','DOD440','ACTREL',#'TGCLDLWP',\n",
    "       'H2SO4','SOA_LV','COAGNUCL','FORMRATE','FSNSC',\n",
    "       'NUCLRATE','NCONC01','NCONC02','NCONC03','NCONC04','NCONC05','NCONC06','NCONC07',\n",
    "       'NCONC08','NCONC09','NCONC10','NCONC11','NCONC12','NCONC13','NCONC14','SIGMA01',\n",
    "       'SIGMA02','SIGMA03','SIGMA04','SIGMA05','SIGMA06','SIGMA07','SIGMA08','SIGMA09',\n",
    "       'SIGMA10','SIGMA11','SIGMA12','SIGMA13','SIGMA14','NMR01','NMR02','NMR03','NMR04',\n",
    "       'NMR05','NMR06','NMR07','NMR08','NMR09','NMR10','NMR11','NMR12','NMR13','NMR14', \n",
    "      'FSNS','FSDS_DRF','T','GR','GRH2SO4','GRSOA','TGCLDCWP','U','V', 'SO2','isoprene',\n",
    "       'monoterp','GS_SO2', 'GS_H2SO4','GS_monoterp','GS_isoprene']\n",
    "\n",
    "\n",
    "varl =['N100','DOD500','DOD440','ACTREL',#,'SOA_A1',\n",
    "       'H2SO4','SOA_LV','COAGNUCL','FORMRATE','T','SOA_SV',\n",
    "       'NCONC01','N50','N150','N200',#'DOD500',\n",
    "       #'DOD500',\n",
    "      'isoprene',\n",
    "      'SFisoprene',\n",
    "       'monoterp',\n",
    "       'SFmonoterp',\n",
    "       'PS',\n",
    "       'NNAT_0',\n",
    "       #'NCONC00',\n",
    "       'NCONC02',\n",
    "       'NCONC03',\n",
    "       'NCONC04',\n",
    "       'NCONC05',\n",
    "       'NCONC06',\n",
    "       'NCONC07',\n",
    "       'NCONC08',\n",
    "       'NCONC09',\n",
    "       'NCONC10',\n",
    "       'NCONC11',\n",
    "       'NCONC12',\n",
    "       'NCONC13',\n",
    "       'NCONC14',\n",
    "       'NMR01',\n",
    "       #'NMR00',\n",
    "       #'SIGMA00',\n",
    "       'SIGMA01',\n",
    "       'NMR02',\n",
    "       'SIGMA02',\n",
    "       'NMR03',\n",
    "       'SIGMA03',\n",
    "       'NMR04',\n",
    "       'SIGMA04',\n",
    "       'NMR05',\n",
    "       'SIGMA05',\n",
    "       'NMR06',\n",
    "       'SIGMA06',\n",
    "       'NMR07',\n",
    "       'SIGMA07',\n",
    "       'NMR08',\n",
    "       'SIGMA08',\n",
    "       'NMR09',\n",
    "       'SIGMA09',\n",
    "       'NMR10',\n",
    "       'SIGMA10',\n",
    "       'NMR11',\n",
    "       'SIGMA11',\n",
    "       'NMR12',\n",
    "       'SIGMA12',\n",
    "       'NMR13',\n",
    "       'SIGMA13',\n",
    "       'NMR14',\n",
    "       'SIGMA14',\n",
    "       #'hyam','hybm',\n",
    "       #'hyai','hybi',\n",
    "       'N500',\n",
    "      'SOA_NA','SOA_A1','OM_NI','OM_AI','OM_AC','SO4_NA','SO4_A1','SO4_A2','SO4_AC','SO4_PR',\n",
    "      'BC_N','BC_AX','BC_NI','BC_A','BC_AI','BC_AC','SS_A1','SS_A2','SS_A3','DST_A2','DST_A3', \n",
    "      ] "
   ]
  },
  {
   "cell_type": "code",
   "execution_count": 26,
   "id": "c73eba4a-2bdd-414b-a76d-bd5292795b9c",
   "metadata": {
    "lines_to_next_cell": 0,
    "scrolled": true,
    "tags": []
   },
   "outputs": [
    {
     "name": "stdout",
     "output_type": "stream",
     "text": [
      "//proj/bolinc/users/x_sarbl/analysis/Output_data_BS-FDBCK/collocated_ds/NorESM/OsloAero_intBVOC_f09_f09_mg17_full/N100_OsloAero_intBVOC_f09_f09_mg17_full_2012-01-01_2015-01-01_hour_locations.nc\n",
      "//proj/bolinc/users/x_sarbl/analysis/Output_data_BS-FDBCK/collocated_ds/NorESM/OsloAero_intBVOC_f09_f09_mg17_full/DOD500_OsloAero_intBVOC_f09_f09_mg17_full_2012-01-01_2015-01-01_hour_locations.nc\n",
      "//proj/bolinc/users/x_sarbl/analysis/Output_data_BS-FDBCK/collocated_ds/NorESM/OsloAero_intBVOC_f09_f09_mg17_full/DOD440_OsloAero_intBVOC_f09_f09_mg17_full_2012-01-01_2015-01-01_hour_locations.nc\n",
      "//proj/bolinc/users/x_sarbl/analysis/Output_data_BS-FDBCK/collocated_ds/NorESM/OsloAero_intBVOC_f09_f09_mg17_full/ACTREL_OsloAero_intBVOC_f09_f09_mg17_full_2012-01-01_2015-01-01_hour_locations.nc\n",
      "//proj/bolinc/users/x_sarbl/analysis/Output_data_BS-FDBCK/collocated_ds/NorESM/OsloAero_intBVOC_f09_f09_mg17_full/H2SO4_OsloAero_intBVOC_f09_f09_mg17_full_2012-01-01_2015-01-01_hour_locations.nc\n",
      "//proj/bolinc/users/x_sarbl/analysis/Output_data_BS-FDBCK/collocated_ds/NorESM/OsloAero_intBVOC_f09_f09_mg17_full/SOA_LV_OsloAero_intBVOC_f09_f09_mg17_full_2012-01-01_2015-01-01_hour_locations.nc\n",
      "//proj/bolinc/users/x_sarbl/analysis/Output_data_BS-FDBCK/collocated_ds/NorESM/OsloAero_intBVOC_f09_f09_mg17_full/COAGNUCL_OsloAero_intBVOC_f09_f09_mg17_full_2012-01-01_2015-01-01_hour_locations.nc\n",
      "//proj/bolinc/users/x_sarbl/analysis/Output_data_BS-FDBCK/collocated_ds/NorESM/OsloAero_intBVOC_f09_f09_mg17_full/FORMRATE_OsloAero_intBVOC_f09_f09_mg17_full_2012-01-01_2015-01-01_hour_locations.nc\n",
      "//proj/bolinc/users/x_sarbl/analysis/Output_data_BS-FDBCK/collocated_ds/NorESM/OsloAero_intBVOC_f09_f09_mg17_full/T_OsloAero_intBVOC_f09_f09_mg17_full_2012-01-01_2015-01-01_hour_locations.nc\n",
      "//proj/bolinc/users/x_sarbl/analysis/Output_data_BS-FDBCK/collocated_ds/NorESM/OsloAero_intBVOC_f09_f09_mg17_full/SOA_SV_OsloAero_intBVOC_f09_f09_mg17_full_2012-01-01_2015-01-01_hour_locations.nc\n",
      "//proj/bolinc/users/x_sarbl/analysis/Output_data_BS-FDBCK/collocated_ds/NorESM/OsloAero_intBVOC_f09_f09_mg17_full/NCONC01_OsloAero_intBVOC_f09_f09_mg17_full_2012-01-01_2015-01-01_hour_locations.nc\n",
      "//proj/bolinc/users/x_sarbl/analysis/Output_data_BS-FDBCK/collocated_ds/NorESM/OsloAero_intBVOC_f09_f09_mg17_full/N50_OsloAero_intBVOC_f09_f09_mg17_full_2012-01-01_2015-01-01_hour_locations.nc\n",
      "//proj/bolinc/users/x_sarbl/analysis/Output_data_BS-FDBCK/collocated_ds/NorESM/OsloAero_intBVOC_f09_f09_mg17_full/N150_OsloAero_intBVOC_f09_f09_mg17_full_2012-01-01_2015-01-01_hour_locations.nc\n",
      "//proj/bolinc/users/x_sarbl/analysis/Output_data_BS-FDBCK/collocated_ds/NorESM/OsloAero_intBVOC_f09_f09_mg17_full/N200_OsloAero_intBVOC_f09_f09_mg17_full_2012-01-01_2015-01-01_hour_locations.nc\n",
      "//proj/bolinc/users/x_sarbl/analysis/Output_data_BS-FDBCK/collocated_ds/NorESM/OsloAero_intBVOC_f09_f09_mg17_full/isoprene_OsloAero_intBVOC_f09_f09_mg17_full_2012-01-01_2015-01-01_hour_locations.nc\n",
      "//proj/bolinc/users/x_sarbl/analysis/Output_data_BS-FDBCK/collocated_ds/NorESM/OsloAero_intBVOC_f09_f09_mg17_full/SFisoprene_OsloAero_intBVOC_f09_f09_mg17_full_2012-01-01_2015-01-01_hour_locations.nc\n",
      "//proj/bolinc/users/x_sarbl/analysis/Output_data_BS-FDBCK/collocated_ds/NorESM/OsloAero_intBVOC_f09_f09_mg17_full/monoterp_OsloAero_intBVOC_f09_f09_mg17_full_2012-01-01_2015-01-01_hour_locations.nc\n",
      "//proj/bolinc/users/x_sarbl/analysis/Output_data_BS-FDBCK/collocated_ds/NorESM/OsloAero_intBVOC_f09_f09_mg17_full/SFmonoterp_OsloAero_intBVOC_f09_f09_mg17_full_2012-01-01_2015-01-01_hour_locations.nc\n",
      "//proj/bolinc/users/x_sarbl/analysis/Output_data_BS-FDBCK/collocated_ds/NorESM/OsloAero_intBVOC_f09_f09_mg17_full/PS_OsloAero_intBVOC_f09_f09_mg17_full_2012-01-01_2015-01-01_hour_locations.nc\n",
      "//proj/bolinc/users/x_sarbl/analysis/Output_data_BS-FDBCK/collocated_ds/NorESM/OsloAero_intBVOC_f09_f09_mg17_full/NNAT_0_OsloAero_intBVOC_f09_f09_mg17_full_2012-01-01_2015-01-01_hour_locations.nc\n",
      "//proj/bolinc/users/x_sarbl/analysis/Output_data_BS-FDBCK/collocated_ds/NorESM/OsloAero_intBVOC_f09_f09_mg17_full/NCONC02_OsloAero_intBVOC_f09_f09_mg17_full_2012-01-01_2015-01-01_hour_locations.nc\n",
      "//proj/bolinc/users/x_sarbl/analysis/Output_data_BS-FDBCK/collocated_ds/NorESM/OsloAero_intBVOC_f09_f09_mg17_full/NCONC03_OsloAero_intBVOC_f09_f09_mg17_full_2012-01-01_2015-01-01_hour_locations.nc\n",
      "//proj/bolinc/users/x_sarbl/analysis/Output_data_BS-FDBCK/collocated_ds/NorESM/OsloAero_intBVOC_f09_f09_mg17_full/NCONC04_OsloAero_intBVOC_f09_f09_mg17_full_2012-01-01_2015-01-01_hour_locations.nc\n",
      "//proj/bolinc/users/x_sarbl/analysis/Output_data_BS-FDBCK/collocated_ds/NorESM/OsloAero_intBVOC_f09_f09_mg17_full/NCONC05_OsloAero_intBVOC_f09_f09_mg17_full_2012-01-01_2015-01-01_hour_locations.nc\n",
      "//proj/bolinc/users/x_sarbl/analysis/Output_data_BS-FDBCK/collocated_ds/NorESM/OsloAero_intBVOC_f09_f09_mg17_full/NCONC06_OsloAero_intBVOC_f09_f09_mg17_full_2012-01-01_2015-01-01_hour_locations.nc\n",
      "//proj/bolinc/users/x_sarbl/analysis/Output_data_BS-FDBCK/collocated_ds/NorESM/OsloAero_intBVOC_f09_f09_mg17_full/NCONC07_OsloAero_intBVOC_f09_f09_mg17_full_2012-01-01_2015-01-01_hour_locations.nc\n",
      "//proj/bolinc/users/x_sarbl/analysis/Output_data_BS-FDBCK/collocated_ds/NorESM/OsloAero_intBVOC_f09_f09_mg17_full/NCONC08_OsloAero_intBVOC_f09_f09_mg17_full_2012-01-01_2015-01-01_hour_locations.nc\n",
      "//proj/bolinc/users/x_sarbl/analysis/Output_data_BS-FDBCK/collocated_ds/NorESM/OsloAero_intBVOC_f09_f09_mg17_full/NCONC09_OsloAero_intBVOC_f09_f09_mg17_full_2012-01-01_2015-01-01_hour_locations.nc\n",
      "//proj/bolinc/users/x_sarbl/analysis/Output_data_BS-FDBCK/collocated_ds/NorESM/OsloAero_intBVOC_f09_f09_mg17_full/NCONC10_OsloAero_intBVOC_f09_f09_mg17_full_2012-01-01_2015-01-01_hour_locations.nc\n",
      "//proj/bolinc/users/x_sarbl/analysis/Output_data_BS-FDBCK/collocated_ds/NorESM/OsloAero_intBVOC_f09_f09_mg17_full/NCONC11_OsloAero_intBVOC_f09_f09_mg17_full_2012-01-01_2015-01-01_hour_locations.nc\n",
      "//proj/bolinc/users/x_sarbl/analysis/Output_data_BS-FDBCK/collocated_ds/NorESM/OsloAero_intBVOC_f09_f09_mg17_full/NCONC12_OsloAero_intBVOC_f09_f09_mg17_full_2012-01-01_2015-01-01_hour_locations.nc\n",
      "//proj/bolinc/users/x_sarbl/analysis/Output_data_BS-FDBCK/collocated_ds/NorESM/OsloAero_intBVOC_f09_f09_mg17_full/NCONC13_OsloAero_intBVOC_f09_f09_mg17_full_2012-01-01_2015-01-01_hour_locations.nc\n",
      "//proj/bolinc/users/x_sarbl/analysis/Output_data_BS-FDBCK/collocated_ds/NorESM/OsloAero_intBVOC_f09_f09_mg17_full/NCONC14_OsloAero_intBVOC_f09_f09_mg17_full_2012-01-01_2015-01-01_hour_locations.nc\n",
      "//proj/bolinc/users/x_sarbl/analysis/Output_data_BS-FDBCK/collocated_ds/NorESM/OsloAero_intBVOC_f09_f09_mg17_full/NMR01_OsloAero_intBVOC_f09_f09_mg17_full_2012-01-01_2015-01-01_hour_locations.nc\n",
      "//proj/bolinc/users/x_sarbl/analysis/Output_data_BS-FDBCK/collocated_ds/NorESM/OsloAero_intBVOC_f09_f09_mg17_full/SIGMA01_OsloAero_intBVOC_f09_f09_mg17_full_2012-01-01_2015-01-01_hour_locations.nc\n",
      "//proj/bolinc/users/x_sarbl/analysis/Output_data_BS-FDBCK/collocated_ds/NorESM/OsloAero_intBVOC_f09_f09_mg17_full/NMR02_OsloAero_intBVOC_f09_f09_mg17_full_2012-01-01_2015-01-01_hour_locations.nc\n",
      "//proj/bolinc/users/x_sarbl/analysis/Output_data_BS-FDBCK/collocated_ds/NorESM/OsloAero_intBVOC_f09_f09_mg17_full/SIGMA02_OsloAero_intBVOC_f09_f09_mg17_full_2012-01-01_2015-01-01_hour_locations.nc\n",
      "//proj/bolinc/users/x_sarbl/analysis/Output_data_BS-FDBCK/collocated_ds/NorESM/OsloAero_intBVOC_f09_f09_mg17_full/NMR03_OsloAero_intBVOC_f09_f09_mg17_full_2012-01-01_2015-01-01_hour_locations.nc\n",
      "//proj/bolinc/users/x_sarbl/analysis/Output_data_BS-FDBCK/collocated_ds/NorESM/OsloAero_intBVOC_f09_f09_mg17_full/SIGMA03_OsloAero_intBVOC_f09_f09_mg17_full_2012-01-01_2015-01-01_hour_locations.nc\n",
      "//proj/bolinc/users/x_sarbl/analysis/Output_data_BS-FDBCK/collocated_ds/NorESM/OsloAero_intBVOC_f09_f09_mg17_full/NMR04_OsloAero_intBVOC_f09_f09_mg17_full_2012-01-01_2015-01-01_hour_locations.nc\n",
      "//proj/bolinc/users/x_sarbl/analysis/Output_data_BS-FDBCK/collocated_ds/NorESM/OsloAero_intBVOC_f09_f09_mg17_full/SIGMA04_OsloAero_intBVOC_f09_f09_mg17_full_2012-01-01_2015-01-01_hour_locations.nc\n",
      "//proj/bolinc/users/x_sarbl/analysis/Output_data_BS-FDBCK/collocated_ds/NorESM/OsloAero_intBVOC_f09_f09_mg17_full/NMR05_OsloAero_intBVOC_f09_f09_mg17_full_2012-01-01_2015-01-01_hour_locations.nc\n",
      "//proj/bolinc/users/x_sarbl/analysis/Output_data_BS-FDBCK/collocated_ds/NorESM/OsloAero_intBVOC_f09_f09_mg17_full/SIGMA05_OsloAero_intBVOC_f09_f09_mg17_full_2012-01-01_2015-01-01_hour_locations.nc\n",
      "//proj/bolinc/users/x_sarbl/analysis/Output_data_BS-FDBCK/collocated_ds/NorESM/OsloAero_intBVOC_f09_f09_mg17_full/NMR06_OsloAero_intBVOC_f09_f09_mg17_full_2012-01-01_2015-01-01_hour_locations.nc\n",
      "//proj/bolinc/users/x_sarbl/analysis/Output_data_BS-FDBCK/collocated_ds/NorESM/OsloAero_intBVOC_f09_f09_mg17_full/SIGMA06_OsloAero_intBVOC_f09_f09_mg17_full_2012-01-01_2015-01-01_hour_locations.nc\n",
      "//proj/bolinc/users/x_sarbl/analysis/Output_data_BS-FDBCK/collocated_ds/NorESM/OsloAero_intBVOC_f09_f09_mg17_full/NMR07_OsloAero_intBVOC_f09_f09_mg17_full_2012-01-01_2015-01-01_hour_locations.nc\n",
      "//proj/bolinc/users/x_sarbl/analysis/Output_data_BS-FDBCK/collocated_ds/NorESM/OsloAero_intBVOC_f09_f09_mg17_full/SIGMA07_OsloAero_intBVOC_f09_f09_mg17_full_2012-01-01_2015-01-01_hour_locations.nc\n",
      "//proj/bolinc/users/x_sarbl/analysis/Output_data_BS-FDBCK/collocated_ds/NorESM/OsloAero_intBVOC_f09_f09_mg17_full/NMR08_OsloAero_intBVOC_f09_f09_mg17_full_2012-01-01_2015-01-01_hour_locations.nc\n",
      "//proj/bolinc/users/x_sarbl/analysis/Output_data_BS-FDBCK/collocated_ds/NorESM/OsloAero_intBVOC_f09_f09_mg17_full/SIGMA08_OsloAero_intBVOC_f09_f09_mg17_full_2012-01-01_2015-01-01_hour_locations.nc\n",
      "//proj/bolinc/users/x_sarbl/analysis/Output_data_BS-FDBCK/collocated_ds/NorESM/OsloAero_intBVOC_f09_f09_mg17_full/NMR09_OsloAero_intBVOC_f09_f09_mg17_full_2012-01-01_2015-01-01_hour_locations.nc\n",
      "//proj/bolinc/users/x_sarbl/analysis/Output_data_BS-FDBCK/collocated_ds/NorESM/OsloAero_intBVOC_f09_f09_mg17_full/SIGMA09_OsloAero_intBVOC_f09_f09_mg17_full_2012-01-01_2015-01-01_hour_locations.nc\n",
      "//proj/bolinc/users/x_sarbl/analysis/Output_data_BS-FDBCK/collocated_ds/NorESM/OsloAero_intBVOC_f09_f09_mg17_full/NMR10_OsloAero_intBVOC_f09_f09_mg17_full_2012-01-01_2015-01-01_hour_locations.nc\n",
      "//proj/bolinc/users/x_sarbl/analysis/Output_data_BS-FDBCK/collocated_ds/NorESM/OsloAero_intBVOC_f09_f09_mg17_full/SIGMA10_OsloAero_intBVOC_f09_f09_mg17_full_2012-01-01_2015-01-01_hour_locations.nc\n",
      "//proj/bolinc/users/x_sarbl/analysis/Output_data_BS-FDBCK/collocated_ds/NorESM/OsloAero_intBVOC_f09_f09_mg17_full/NMR11_OsloAero_intBVOC_f09_f09_mg17_full_2012-01-01_2015-01-01_hour_locations.nc\n",
      "//proj/bolinc/users/x_sarbl/analysis/Output_data_BS-FDBCK/collocated_ds/NorESM/OsloAero_intBVOC_f09_f09_mg17_full/SIGMA11_OsloAero_intBVOC_f09_f09_mg17_full_2012-01-01_2015-01-01_hour_locations.nc\n",
      "//proj/bolinc/users/x_sarbl/analysis/Output_data_BS-FDBCK/collocated_ds/NorESM/OsloAero_intBVOC_f09_f09_mg17_full/NMR12_OsloAero_intBVOC_f09_f09_mg17_full_2012-01-01_2015-01-01_hour_locations.nc\n",
      "//proj/bolinc/users/x_sarbl/analysis/Output_data_BS-FDBCK/collocated_ds/NorESM/OsloAero_intBVOC_f09_f09_mg17_full/SIGMA12_OsloAero_intBVOC_f09_f09_mg17_full_2012-01-01_2015-01-01_hour_locations.nc\n",
      "//proj/bolinc/users/x_sarbl/analysis/Output_data_BS-FDBCK/collocated_ds/NorESM/OsloAero_intBVOC_f09_f09_mg17_full/NMR13_OsloAero_intBVOC_f09_f09_mg17_full_2012-01-01_2015-01-01_hour_locations.nc\n",
      "//proj/bolinc/users/x_sarbl/analysis/Output_data_BS-FDBCK/collocated_ds/NorESM/OsloAero_intBVOC_f09_f09_mg17_full/SIGMA13_OsloAero_intBVOC_f09_f09_mg17_full_2012-01-01_2015-01-01_hour_locations.nc\n",
      "//proj/bolinc/users/x_sarbl/analysis/Output_data_BS-FDBCK/collocated_ds/NorESM/OsloAero_intBVOC_f09_f09_mg17_full/NMR14_OsloAero_intBVOC_f09_f09_mg17_full_2012-01-01_2015-01-01_hour_locations.nc\n",
      "//proj/bolinc/users/x_sarbl/analysis/Output_data_BS-FDBCK/collocated_ds/NorESM/OsloAero_intBVOC_f09_f09_mg17_full/SIGMA14_OsloAero_intBVOC_f09_f09_mg17_full_2012-01-01_2015-01-01_hour_locations.nc\n",
      "//proj/bolinc/users/x_sarbl/analysis/Output_data_BS-FDBCK/collocated_ds/NorESM/OsloAero_intBVOC_f09_f09_mg17_full/N500_OsloAero_intBVOC_f09_f09_mg17_full_2012-01-01_2015-01-01_hour_locations.nc\n",
      "//proj/bolinc/users/x_sarbl/analysis/Output_data_BS-FDBCK/collocated_ds/NorESM/OsloAero_intBVOC_f09_f09_mg17_full/SOA_NA_OsloAero_intBVOC_f09_f09_mg17_full_2012-01-01_2015-01-01_hour_locations.nc\n",
      "//proj/bolinc/users/x_sarbl/analysis/Output_data_BS-FDBCK/collocated_ds/NorESM/OsloAero_intBVOC_f09_f09_mg17_full/SOA_A1_OsloAero_intBVOC_f09_f09_mg17_full_2012-01-01_2015-01-01_hour_locations.nc\n",
      "//proj/bolinc/users/x_sarbl/analysis/Output_data_BS-FDBCK/collocated_ds/NorESM/OsloAero_intBVOC_f09_f09_mg17_full/OM_NI_OsloAero_intBVOC_f09_f09_mg17_full_2012-01-01_2015-01-01_hour_locations.nc\n",
      "//proj/bolinc/users/x_sarbl/analysis/Output_data_BS-FDBCK/collocated_ds/NorESM/OsloAero_intBVOC_f09_f09_mg17_full/OM_AI_OsloAero_intBVOC_f09_f09_mg17_full_2012-01-01_2015-01-01_hour_locations.nc\n",
      "//proj/bolinc/users/x_sarbl/analysis/Output_data_BS-FDBCK/collocated_ds/NorESM/OsloAero_intBVOC_f09_f09_mg17_full/OM_AC_OsloAero_intBVOC_f09_f09_mg17_full_2012-01-01_2015-01-01_hour_locations.nc\n",
      "//proj/bolinc/users/x_sarbl/analysis/Output_data_BS-FDBCK/collocated_ds/NorESM/OsloAero_intBVOC_f09_f09_mg17_full/SO4_NA_OsloAero_intBVOC_f09_f09_mg17_full_2012-01-01_2015-01-01_hour_locations.nc\n",
      "//proj/bolinc/users/x_sarbl/analysis/Output_data_BS-FDBCK/collocated_ds/NorESM/OsloAero_intBVOC_f09_f09_mg17_full/SO4_A1_OsloAero_intBVOC_f09_f09_mg17_full_2012-01-01_2015-01-01_hour_locations.nc\n",
      "//proj/bolinc/users/x_sarbl/analysis/Output_data_BS-FDBCK/collocated_ds/NorESM/OsloAero_intBVOC_f09_f09_mg17_full/SO4_A2_OsloAero_intBVOC_f09_f09_mg17_full_2012-01-01_2015-01-01_hour_locations.nc\n",
      "//proj/bolinc/users/x_sarbl/analysis/Output_data_BS-FDBCK/collocated_ds/NorESM/OsloAero_intBVOC_f09_f09_mg17_full/SO4_AC_OsloAero_intBVOC_f09_f09_mg17_full_2012-01-01_2015-01-01_hour_locations.nc\n",
      "//proj/bolinc/users/x_sarbl/analysis/Output_data_BS-FDBCK/collocated_ds/NorESM/OsloAero_intBVOC_f09_f09_mg17_full/SO4_PR_OsloAero_intBVOC_f09_f09_mg17_full_2012-01-01_2015-01-01_hour_locations.nc\n",
      "//proj/bolinc/users/x_sarbl/analysis/Output_data_BS-FDBCK/collocated_ds/NorESM/OsloAero_intBVOC_f09_f09_mg17_full/BC_N_OsloAero_intBVOC_f09_f09_mg17_full_2012-01-01_2015-01-01_hour_locations.nc\n",
      "//proj/bolinc/users/x_sarbl/analysis/Output_data_BS-FDBCK/collocated_ds/NorESM/OsloAero_intBVOC_f09_f09_mg17_full/BC_AX_OsloAero_intBVOC_f09_f09_mg17_full_2012-01-01_2015-01-01_hour_locations.nc\n",
      "//proj/bolinc/users/x_sarbl/analysis/Output_data_BS-FDBCK/collocated_ds/NorESM/OsloAero_intBVOC_f09_f09_mg17_full/BC_NI_OsloAero_intBVOC_f09_f09_mg17_full_2012-01-01_2015-01-01_hour_locations.nc\n",
      "//proj/bolinc/users/x_sarbl/analysis/Output_data_BS-FDBCK/collocated_ds/NorESM/OsloAero_intBVOC_f09_f09_mg17_full/BC_A_OsloAero_intBVOC_f09_f09_mg17_full_2012-01-01_2015-01-01_hour_locations.nc\n",
      "//proj/bolinc/users/x_sarbl/analysis/Output_data_BS-FDBCK/collocated_ds/NorESM/OsloAero_intBVOC_f09_f09_mg17_full/BC_AI_OsloAero_intBVOC_f09_f09_mg17_full_2012-01-01_2015-01-01_hour_locations.nc\n",
      "//proj/bolinc/users/x_sarbl/analysis/Output_data_BS-FDBCK/collocated_ds/NorESM/OsloAero_intBVOC_f09_f09_mg17_full/BC_AC_OsloAero_intBVOC_f09_f09_mg17_full_2012-01-01_2015-01-01_hour_locations.nc\n",
      "//proj/bolinc/users/x_sarbl/analysis/Output_data_BS-FDBCK/collocated_ds/NorESM/OsloAero_intBVOC_f09_f09_mg17_full/SS_A1_OsloAero_intBVOC_f09_f09_mg17_full_2012-01-01_2015-01-01_hour_locations.nc\n",
      "//proj/bolinc/users/x_sarbl/analysis/Output_data_BS-FDBCK/collocated_ds/NorESM/OsloAero_intBVOC_f09_f09_mg17_full/SS_A2_OsloAero_intBVOC_f09_f09_mg17_full_2012-01-01_2015-01-01_hour_locations.nc\n",
      "//proj/bolinc/users/x_sarbl/analysis/Output_data_BS-FDBCK/collocated_ds/NorESM/OsloAero_intBVOC_f09_f09_mg17_full/SS_A3_OsloAero_intBVOC_f09_f09_mg17_full_2012-01-01_2015-01-01_hour_locations.nc\n",
      "//proj/bolinc/users/x_sarbl/analysis/Output_data_BS-FDBCK/collocated_ds/NorESM/OsloAero_intBVOC_f09_f09_mg17_full/DST_A2_OsloAero_intBVOC_f09_f09_mg17_full_2012-01-01_2015-01-01_hour_locations.nc\n",
      "//proj/bolinc/users/x_sarbl/analysis/Output_data_BS-FDBCK/collocated_ds/NorESM/OsloAero_intBVOC_f09_f09_mg17_full/DST_A3_OsloAero_intBVOC_f09_f09_mg17_full_2012-01-01_2015-01-01_hour_locations.nc\n",
      "UUUPS\n"
     ]
    }
   ],
   "source": [
    "for case_name in cases_noresm1:\n",
    "    varlist = varl\n",
    "    c = CollocateLONLATout(case_name, from_t, to_t,\n",
    "                           True,\n",
    "                           'hour',\n",
    "                           history_field=history_field)\n",
    "    if c.check_if_load_raw_necessary(varlist ):\n",
    "        time1 = time.time()\n",
    "        a = c.make_station_data_merge_monthly(varlist)\n",
    "        print(a)\n",
    "\n",
    "        time2 = time.time()\n",
    "        print('DONE : took {:.3f} s'.format( (time2-time1)))\n",
    "    else:\n",
    "        print('UUUPS')"
   ]
  },
  {
   "cell_type": "code",
   "execution_count": 27,
   "id": "1ed78eac-3d8d-4e48-a9a1-cf743d3f267b",
   "metadata": {
    "tags": []
   },
   "outputs": [
    {
     "name": "stdout",
     "output_type": "stream",
     "text": [
      "//proj/bolinc/users/x_sarbl/analysis/Output_data_BS-FDBCK/collocated_ds/NorESM/OsloAero_intBVOC_f09_f09_mg17_ssp245/N100_OsloAero_intBVOC_f09_f09_mg17_ssp245_2015-01-01_2019-01-01_hour_locations.nc\n",
      "//proj/bolinc/users/x_sarbl/analysis/Output_data_BS-FDBCK/collocated_ds/NorESM/OsloAero_intBVOC_f09_f09_mg17_ssp245/DOD500_OsloAero_intBVOC_f09_f09_mg17_ssp245_2015-01-01_2019-01-01_hour_locations.nc\n",
      "//proj/bolinc/users/x_sarbl/analysis/Output_data_BS-FDBCK/collocated_ds/NorESM/OsloAero_intBVOC_f09_f09_mg17_ssp245/DOD440_OsloAero_intBVOC_f09_f09_mg17_ssp245_2015-01-01_2019-01-01_hour_locations.nc\n",
      "//proj/bolinc/users/x_sarbl/analysis/Output_data_BS-FDBCK/collocated_ds/NorESM/OsloAero_intBVOC_f09_f09_mg17_ssp245/ACTREL_OsloAero_intBVOC_f09_f09_mg17_ssp245_2015-01-01_2019-01-01_hour_locations.nc\n",
      "//proj/bolinc/users/x_sarbl/analysis/Output_data_BS-FDBCK/collocated_ds/NorESM/OsloAero_intBVOC_f09_f09_mg17_ssp245/H2SO4_OsloAero_intBVOC_f09_f09_mg17_ssp245_2015-01-01_2019-01-01_hour_locations.nc\n",
      "//proj/bolinc/users/x_sarbl/analysis/Output_data_BS-FDBCK/collocated_ds/NorESM/OsloAero_intBVOC_f09_f09_mg17_ssp245/SOA_LV_OsloAero_intBVOC_f09_f09_mg17_ssp245_2015-01-01_2019-01-01_hour_locations.nc\n",
      "//proj/bolinc/users/x_sarbl/analysis/Output_data_BS-FDBCK/collocated_ds/NorESM/OsloAero_intBVOC_f09_f09_mg17_ssp245/COAGNUCL_OsloAero_intBVOC_f09_f09_mg17_ssp245_2015-01-01_2019-01-01_hour_locations.nc\n",
      "//proj/bolinc/users/x_sarbl/analysis/Output_data_BS-FDBCK/collocated_ds/NorESM/OsloAero_intBVOC_f09_f09_mg17_ssp245/FORMRATE_OsloAero_intBVOC_f09_f09_mg17_ssp245_2015-01-01_2019-01-01_hour_locations.nc\n",
      "//proj/bolinc/users/x_sarbl/analysis/Output_data_BS-FDBCK/collocated_ds/NorESM/OsloAero_intBVOC_f09_f09_mg17_ssp245/T_OsloAero_intBVOC_f09_f09_mg17_ssp245_2015-01-01_2019-01-01_hour_locations.nc\n",
      "//proj/bolinc/users/x_sarbl/analysis/Output_data_BS-FDBCK/collocated_ds/NorESM/OsloAero_intBVOC_f09_f09_mg17_ssp245/SOA_SV_OsloAero_intBVOC_f09_f09_mg17_ssp245_2015-01-01_2019-01-01_hour_locations.nc\n",
      "//proj/bolinc/users/x_sarbl/analysis/Output_data_BS-FDBCK/collocated_ds/NorESM/OsloAero_intBVOC_f09_f09_mg17_ssp245/NCONC01_OsloAero_intBVOC_f09_f09_mg17_ssp245_2015-01-01_2019-01-01_hour_locations.nc\n",
      "//proj/bolinc/users/x_sarbl/analysis/Output_data_BS-FDBCK/collocated_ds/NorESM/OsloAero_intBVOC_f09_f09_mg17_ssp245/N50_OsloAero_intBVOC_f09_f09_mg17_ssp245_2015-01-01_2019-01-01_hour_locations.nc\n",
      "//proj/bolinc/users/x_sarbl/analysis/Output_data_BS-FDBCK/collocated_ds/NorESM/OsloAero_intBVOC_f09_f09_mg17_ssp245/N150_OsloAero_intBVOC_f09_f09_mg17_ssp245_2015-01-01_2019-01-01_hour_locations.nc\n",
      "//proj/bolinc/users/x_sarbl/analysis/Output_data_BS-FDBCK/collocated_ds/NorESM/OsloAero_intBVOC_f09_f09_mg17_ssp245/N200_OsloAero_intBVOC_f09_f09_mg17_ssp245_2015-01-01_2019-01-01_hour_locations.nc\n",
      "//proj/bolinc/users/x_sarbl/analysis/Output_data_BS-FDBCK/collocated_ds/NorESM/OsloAero_intBVOC_f09_f09_mg17_ssp245/isoprene_OsloAero_intBVOC_f09_f09_mg17_ssp245_2015-01-01_2019-01-01_hour_locations.nc\n",
      "//proj/bolinc/users/x_sarbl/analysis/Output_data_BS-FDBCK/collocated_ds/NorESM/OsloAero_intBVOC_f09_f09_mg17_ssp245/SFisoprene_OsloAero_intBVOC_f09_f09_mg17_ssp245_2015-01-01_2019-01-01_hour_locations.nc\n",
      "//proj/bolinc/users/x_sarbl/analysis/Output_data_BS-FDBCK/collocated_ds/NorESM/OsloAero_intBVOC_f09_f09_mg17_ssp245/monoterp_OsloAero_intBVOC_f09_f09_mg17_ssp245_2015-01-01_2019-01-01_hour_locations.nc\n",
      "//proj/bolinc/users/x_sarbl/analysis/Output_data_BS-FDBCK/collocated_ds/NorESM/OsloAero_intBVOC_f09_f09_mg17_ssp245/SFmonoterp_OsloAero_intBVOC_f09_f09_mg17_ssp245_2015-01-01_2019-01-01_hour_locations.nc\n",
      "//proj/bolinc/users/x_sarbl/analysis/Output_data_BS-FDBCK/collocated_ds/NorESM/OsloAero_intBVOC_f09_f09_mg17_ssp245/PS_OsloAero_intBVOC_f09_f09_mg17_ssp245_2015-01-01_2019-01-01_hour_locations.nc\n",
      "//proj/bolinc/users/x_sarbl/analysis/Output_data_BS-FDBCK/collocated_ds/NorESM/OsloAero_intBVOC_f09_f09_mg17_ssp245/NNAT_0_OsloAero_intBVOC_f09_f09_mg17_ssp245_2015-01-01_2019-01-01_hour_locations.nc\n",
      "//proj/bolinc/users/x_sarbl/analysis/Output_data_BS-FDBCK/collocated_ds/NorESM/OsloAero_intBVOC_f09_f09_mg17_ssp245/NCONC02_OsloAero_intBVOC_f09_f09_mg17_ssp245_2015-01-01_2019-01-01_hour_locations.nc\n",
      "//proj/bolinc/users/x_sarbl/analysis/Output_data_BS-FDBCK/collocated_ds/NorESM/OsloAero_intBVOC_f09_f09_mg17_ssp245/NCONC03_OsloAero_intBVOC_f09_f09_mg17_ssp245_2015-01-01_2019-01-01_hour_locations.nc\n",
      "//proj/bolinc/users/x_sarbl/analysis/Output_data_BS-FDBCK/collocated_ds/NorESM/OsloAero_intBVOC_f09_f09_mg17_ssp245/NCONC04_OsloAero_intBVOC_f09_f09_mg17_ssp245_2015-01-01_2019-01-01_hour_locations.nc\n",
      "//proj/bolinc/users/x_sarbl/analysis/Output_data_BS-FDBCK/collocated_ds/NorESM/OsloAero_intBVOC_f09_f09_mg17_ssp245/NCONC05_OsloAero_intBVOC_f09_f09_mg17_ssp245_2015-01-01_2019-01-01_hour_locations.nc\n",
      "//proj/bolinc/users/x_sarbl/analysis/Output_data_BS-FDBCK/collocated_ds/NorESM/OsloAero_intBVOC_f09_f09_mg17_ssp245/NCONC06_OsloAero_intBVOC_f09_f09_mg17_ssp245_2015-01-01_2019-01-01_hour_locations.nc\n",
      "//proj/bolinc/users/x_sarbl/analysis/Output_data_BS-FDBCK/collocated_ds/NorESM/OsloAero_intBVOC_f09_f09_mg17_ssp245/NCONC07_OsloAero_intBVOC_f09_f09_mg17_ssp245_2015-01-01_2019-01-01_hour_locations.nc\n",
      "//proj/bolinc/users/x_sarbl/analysis/Output_data_BS-FDBCK/collocated_ds/NorESM/OsloAero_intBVOC_f09_f09_mg17_ssp245/NCONC08_OsloAero_intBVOC_f09_f09_mg17_ssp245_2015-01-01_2019-01-01_hour_locations.nc\n",
      "//proj/bolinc/users/x_sarbl/analysis/Output_data_BS-FDBCK/collocated_ds/NorESM/OsloAero_intBVOC_f09_f09_mg17_ssp245/NCONC09_OsloAero_intBVOC_f09_f09_mg17_ssp245_2015-01-01_2019-01-01_hour_locations.nc\n",
      "//proj/bolinc/users/x_sarbl/analysis/Output_data_BS-FDBCK/collocated_ds/NorESM/OsloAero_intBVOC_f09_f09_mg17_ssp245/NCONC10_OsloAero_intBVOC_f09_f09_mg17_ssp245_2015-01-01_2019-01-01_hour_locations.nc\n",
      "//proj/bolinc/users/x_sarbl/analysis/Output_data_BS-FDBCK/collocated_ds/NorESM/OsloAero_intBVOC_f09_f09_mg17_ssp245/NCONC11_OsloAero_intBVOC_f09_f09_mg17_ssp245_2015-01-01_2019-01-01_hour_locations.nc\n",
      "//proj/bolinc/users/x_sarbl/analysis/Output_data_BS-FDBCK/collocated_ds/NorESM/OsloAero_intBVOC_f09_f09_mg17_ssp245/NCONC12_OsloAero_intBVOC_f09_f09_mg17_ssp245_2015-01-01_2019-01-01_hour_locations.nc\n",
      "//proj/bolinc/users/x_sarbl/analysis/Output_data_BS-FDBCK/collocated_ds/NorESM/OsloAero_intBVOC_f09_f09_mg17_ssp245/NCONC13_OsloAero_intBVOC_f09_f09_mg17_ssp245_2015-01-01_2019-01-01_hour_locations.nc\n",
      "//proj/bolinc/users/x_sarbl/analysis/Output_data_BS-FDBCK/collocated_ds/NorESM/OsloAero_intBVOC_f09_f09_mg17_ssp245/NCONC14_OsloAero_intBVOC_f09_f09_mg17_ssp245_2015-01-01_2019-01-01_hour_locations.nc\n",
      "//proj/bolinc/users/x_sarbl/analysis/Output_data_BS-FDBCK/collocated_ds/NorESM/OsloAero_intBVOC_f09_f09_mg17_ssp245/NMR01_OsloAero_intBVOC_f09_f09_mg17_ssp245_2015-01-01_2019-01-01_hour_locations.nc\n",
      "//proj/bolinc/users/x_sarbl/analysis/Output_data_BS-FDBCK/collocated_ds/NorESM/OsloAero_intBVOC_f09_f09_mg17_ssp245/SIGMA01_OsloAero_intBVOC_f09_f09_mg17_ssp245_2015-01-01_2019-01-01_hour_locations.nc\n",
      "//proj/bolinc/users/x_sarbl/analysis/Output_data_BS-FDBCK/collocated_ds/NorESM/OsloAero_intBVOC_f09_f09_mg17_ssp245/NMR02_OsloAero_intBVOC_f09_f09_mg17_ssp245_2015-01-01_2019-01-01_hour_locations.nc\n",
      "//proj/bolinc/users/x_sarbl/analysis/Output_data_BS-FDBCK/collocated_ds/NorESM/OsloAero_intBVOC_f09_f09_mg17_ssp245/SIGMA02_OsloAero_intBVOC_f09_f09_mg17_ssp245_2015-01-01_2019-01-01_hour_locations.nc\n",
      "//proj/bolinc/users/x_sarbl/analysis/Output_data_BS-FDBCK/collocated_ds/NorESM/OsloAero_intBVOC_f09_f09_mg17_ssp245/NMR03_OsloAero_intBVOC_f09_f09_mg17_ssp245_2015-01-01_2019-01-01_hour_locations.nc\n",
      "//proj/bolinc/users/x_sarbl/analysis/Output_data_BS-FDBCK/collocated_ds/NorESM/OsloAero_intBVOC_f09_f09_mg17_ssp245/SIGMA03_OsloAero_intBVOC_f09_f09_mg17_ssp245_2015-01-01_2019-01-01_hour_locations.nc\n",
      "//proj/bolinc/users/x_sarbl/analysis/Output_data_BS-FDBCK/collocated_ds/NorESM/OsloAero_intBVOC_f09_f09_mg17_ssp245/NMR04_OsloAero_intBVOC_f09_f09_mg17_ssp245_2015-01-01_2019-01-01_hour_locations.nc\n",
      "//proj/bolinc/users/x_sarbl/analysis/Output_data_BS-FDBCK/collocated_ds/NorESM/OsloAero_intBVOC_f09_f09_mg17_ssp245/SIGMA04_OsloAero_intBVOC_f09_f09_mg17_ssp245_2015-01-01_2019-01-01_hour_locations.nc\n",
      "//proj/bolinc/users/x_sarbl/analysis/Output_data_BS-FDBCK/collocated_ds/NorESM/OsloAero_intBVOC_f09_f09_mg17_ssp245/NMR05_OsloAero_intBVOC_f09_f09_mg17_ssp245_2015-01-01_2019-01-01_hour_locations.nc\n",
      "//proj/bolinc/users/x_sarbl/analysis/Output_data_BS-FDBCK/collocated_ds/NorESM/OsloAero_intBVOC_f09_f09_mg17_ssp245/SIGMA05_OsloAero_intBVOC_f09_f09_mg17_ssp245_2015-01-01_2019-01-01_hour_locations.nc\n",
      "//proj/bolinc/users/x_sarbl/analysis/Output_data_BS-FDBCK/collocated_ds/NorESM/OsloAero_intBVOC_f09_f09_mg17_ssp245/NMR06_OsloAero_intBVOC_f09_f09_mg17_ssp245_2015-01-01_2019-01-01_hour_locations.nc\n",
      "//proj/bolinc/users/x_sarbl/analysis/Output_data_BS-FDBCK/collocated_ds/NorESM/OsloAero_intBVOC_f09_f09_mg17_ssp245/SIGMA06_OsloAero_intBVOC_f09_f09_mg17_ssp245_2015-01-01_2019-01-01_hour_locations.nc\n",
      "//proj/bolinc/users/x_sarbl/analysis/Output_data_BS-FDBCK/collocated_ds/NorESM/OsloAero_intBVOC_f09_f09_mg17_ssp245/NMR07_OsloAero_intBVOC_f09_f09_mg17_ssp245_2015-01-01_2019-01-01_hour_locations.nc\n",
      "//proj/bolinc/users/x_sarbl/analysis/Output_data_BS-FDBCK/collocated_ds/NorESM/OsloAero_intBVOC_f09_f09_mg17_ssp245/SIGMA07_OsloAero_intBVOC_f09_f09_mg17_ssp245_2015-01-01_2019-01-01_hour_locations.nc\n",
      "//proj/bolinc/users/x_sarbl/analysis/Output_data_BS-FDBCK/collocated_ds/NorESM/OsloAero_intBVOC_f09_f09_mg17_ssp245/NMR08_OsloAero_intBVOC_f09_f09_mg17_ssp245_2015-01-01_2019-01-01_hour_locations.nc\n",
      "//proj/bolinc/users/x_sarbl/analysis/Output_data_BS-FDBCK/collocated_ds/NorESM/OsloAero_intBVOC_f09_f09_mg17_ssp245/SIGMA08_OsloAero_intBVOC_f09_f09_mg17_ssp245_2015-01-01_2019-01-01_hour_locations.nc\n",
      "//proj/bolinc/users/x_sarbl/analysis/Output_data_BS-FDBCK/collocated_ds/NorESM/OsloAero_intBVOC_f09_f09_mg17_ssp245/NMR09_OsloAero_intBVOC_f09_f09_mg17_ssp245_2015-01-01_2019-01-01_hour_locations.nc\n",
      "//proj/bolinc/users/x_sarbl/analysis/Output_data_BS-FDBCK/collocated_ds/NorESM/OsloAero_intBVOC_f09_f09_mg17_ssp245/SIGMA09_OsloAero_intBVOC_f09_f09_mg17_ssp245_2015-01-01_2019-01-01_hour_locations.nc\n",
      "//proj/bolinc/users/x_sarbl/analysis/Output_data_BS-FDBCK/collocated_ds/NorESM/OsloAero_intBVOC_f09_f09_mg17_ssp245/NMR10_OsloAero_intBVOC_f09_f09_mg17_ssp245_2015-01-01_2019-01-01_hour_locations.nc\n",
      "//proj/bolinc/users/x_sarbl/analysis/Output_data_BS-FDBCK/collocated_ds/NorESM/OsloAero_intBVOC_f09_f09_mg17_ssp245/SIGMA10_OsloAero_intBVOC_f09_f09_mg17_ssp245_2015-01-01_2019-01-01_hour_locations.nc\n",
      "//proj/bolinc/users/x_sarbl/analysis/Output_data_BS-FDBCK/collocated_ds/NorESM/OsloAero_intBVOC_f09_f09_mg17_ssp245/NMR11_OsloAero_intBVOC_f09_f09_mg17_ssp245_2015-01-01_2019-01-01_hour_locations.nc\n",
      "//proj/bolinc/users/x_sarbl/analysis/Output_data_BS-FDBCK/collocated_ds/NorESM/OsloAero_intBVOC_f09_f09_mg17_ssp245/SIGMA11_OsloAero_intBVOC_f09_f09_mg17_ssp245_2015-01-01_2019-01-01_hour_locations.nc\n",
      "//proj/bolinc/users/x_sarbl/analysis/Output_data_BS-FDBCK/collocated_ds/NorESM/OsloAero_intBVOC_f09_f09_mg17_ssp245/NMR12_OsloAero_intBVOC_f09_f09_mg17_ssp245_2015-01-01_2019-01-01_hour_locations.nc\n",
      "//proj/bolinc/users/x_sarbl/analysis/Output_data_BS-FDBCK/collocated_ds/NorESM/OsloAero_intBVOC_f09_f09_mg17_ssp245/SIGMA12_OsloAero_intBVOC_f09_f09_mg17_ssp245_2015-01-01_2019-01-01_hour_locations.nc\n",
      "//proj/bolinc/users/x_sarbl/analysis/Output_data_BS-FDBCK/collocated_ds/NorESM/OsloAero_intBVOC_f09_f09_mg17_ssp245/NMR13_OsloAero_intBVOC_f09_f09_mg17_ssp245_2015-01-01_2019-01-01_hour_locations.nc\n",
      "//proj/bolinc/users/x_sarbl/analysis/Output_data_BS-FDBCK/collocated_ds/NorESM/OsloAero_intBVOC_f09_f09_mg17_ssp245/SIGMA13_OsloAero_intBVOC_f09_f09_mg17_ssp245_2015-01-01_2019-01-01_hour_locations.nc\n",
      "//proj/bolinc/users/x_sarbl/analysis/Output_data_BS-FDBCK/collocated_ds/NorESM/OsloAero_intBVOC_f09_f09_mg17_ssp245/NMR14_OsloAero_intBVOC_f09_f09_mg17_ssp245_2015-01-01_2019-01-01_hour_locations.nc\n",
      "//proj/bolinc/users/x_sarbl/analysis/Output_data_BS-FDBCK/collocated_ds/NorESM/OsloAero_intBVOC_f09_f09_mg17_ssp245/SIGMA14_OsloAero_intBVOC_f09_f09_mg17_ssp245_2015-01-01_2019-01-01_hour_locations.nc\n",
      "//proj/bolinc/users/x_sarbl/analysis/Output_data_BS-FDBCK/collocated_ds/NorESM/OsloAero_intBVOC_f09_f09_mg17_ssp245/N500_OsloAero_intBVOC_f09_f09_mg17_ssp245_2015-01-01_2019-01-01_hour_locations.nc\n",
      "//proj/bolinc/users/x_sarbl/analysis/Output_data_BS-FDBCK/collocated_ds/NorESM/OsloAero_intBVOC_f09_f09_mg17_ssp245/SOA_NA_OsloAero_intBVOC_f09_f09_mg17_ssp245_2015-01-01_2019-01-01_hour_locations.nc\n",
      "//proj/bolinc/users/x_sarbl/analysis/Output_data_BS-FDBCK/collocated_ds/NorESM/OsloAero_intBVOC_f09_f09_mg17_ssp245/SOA_A1_OsloAero_intBVOC_f09_f09_mg17_ssp245_2015-01-01_2019-01-01_hour_locations.nc\n",
      "//proj/bolinc/users/x_sarbl/analysis/Output_data_BS-FDBCK/collocated_ds/NorESM/OsloAero_intBVOC_f09_f09_mg17_ssp245/OM_NI_OsloAero_intBVOC_f09_f09_mg17_ssp245_2015-01-01_2019-01-01_hour_locations.nc\n",
      "//proj/bolinc/users/x_sarbl/analysis/Output_data_BS-FDBCK/collocated_ds/NorESM/OsloAero_intBVOC_f09_f09_mg17_ssp245/OM_AI_OsloAero_intBVOC_f09_f09_mg17_ssp245_2015-01-01_2019-01-01_hour_locations.nc\n",
      "//proj/bolinc/users/x_sarbl/analysis/Output_data_BS-FDBCK/collocated_ds/NorESM/OsloAero_intBVOC_f09_f09_mg17_ssp245/OM_AC_OsloAero_intBVOC_f09_f09_mg17_ssp245_2015-01-01_2019-01-01_hour_locations.nc\n",
      "//proj/bolinc/users/x_sarbl/analysis/Output_data_BS-FDBCK/collocated_ds/NorESM/OsloAero_intBVOC_f09_f09_mg17_ssp245/SO4_NA_OsloAero_intBVOC_f09_f09_mg17_ssp245_2015-01-01_2019-01-01_hour_locations.nc\n",
      "//proj/bolinc/users/x_sarbl/analysis/Output_data_BS-FDBCK/collocated_ds/NorESM/OsloAero_intBVOC_f09_f09_mg17_ssp245/SO4_A1_OsloAero_intBVOC_f09_f09_mg17_ssp245_2015-01-01_2019-01-01_hour_locations.nc\n",
      "//proj/bolinc/users/x_sarbl/analysis/Output_data_BS-FDBCK/collocated_ds/NorESM/OsloAero_intBVOC_f09_f09_mg17_ssp245/SO4_A2_OsloAero_intBVOC_f09_f09_mg17_ssp245_2015-01-01_2019-01-01_hour_locations.nc\n",
      "//proj/bolinc/users/x_sarbl/analysis/Output_data_BS-FDBCK/collocated_ds/NorESM/OsloAero_intBVOC_f09_f09_mg17_ssp245/SO4_AC_OsloAero_intBVOC_f09_f09_mg17_ssp245_2015-01-01_2019-01-01_hour_locations.nc\n",
      "//proj/bolinc/users/x_sarbl/analysis/Output_data_BS-FDBCK/collocated_ds/NorESM/OsloAero_intBVOC_f09_f09_mg17_ssp245/SO4_PR_OsloAero_intBVOC_f09_f09_mg17_ssp245_2015-01-01_2019-01-01_hour_locations.nc\n",
      "//proj/bolinc/users/x_sarbl/analysis/Output_data_BS-FDBCK/collocated_ds/NorESM/OsloAero_intBVOC_f09_f09_mg17_ssp245/BC_N_OsloAero_intBVOC_f09_f09_mg17_ssp245_2015-01-01_2019-01-01_hour_locations.nc\n",
      "//proj/bolinc/users/x_sarbl/analysis/Output_data_BS-FDBCK/collocated_ds/NorESM/OsloAero_intBVOC_f09_f09_mg17_ssp245/BC_AX_OsloAero_intBVOC_f09_f09_mg17_ssp245_2015-01-01_2019-01-01_hour_locations.nc\n",
      "//proj/bolinc/users/x_sarbl/analysis/Output_data_BS-FDBCK/collocated_ds/NorESM/OsloAero_intBVOC_f09_f09_mg17_ssp245/BC_NI_OsloAero_intBVOC_f09_f09_mg17_ssp245_2015-01-01_2019-01-01_hour_locations.nc\n",
      "//proj/bolinc/users/x_sarbl/analysis/Output_data_BS-FDBCK/collocated_ds/NorESM/OsloAero_intBVOC_f09_f09_mg17_ssp245/BC_A_OsloAero_intBVOC_f09_f09_mg17_ssp245_2015-01-01_2019-01-01_hour_locations.nc\n",
      "//proj/bolinc/users/x_sarbl/analysis/Output_data_BS-FDBCK/collocated_ds/NorESM/OsloAero_intBVOC_f09_f09_mg17_ssp245/BC_AI_OsloAero_intBVOC_f09_f09_mg17_ssp245_2015-01-01_2019-01-01_hour_locations.nc\n",
      "//proj/bolinc/users/x_sarbl/analysis/Output_data_BS-FDBCK/collocated_ds/NorESM/OsloAero_intBVOC_f09_f09_mg17_ssp245/BC_AC_OsloAero_intBVOC_f09_f09_mg17_ssp245_2015-01-01_2019-01-01_hour_locations.nc\n",
      "//proj/bolinc/users/x_sarbl/analysis/Output_data_BS-FDBCK/collocated_ds/NorESM/OsloAero_intBVOC_f09_f09_mg17_ssp245/SS_A1_OsloAero_intBVOC_f09_f09_mg17_ssp245_2015-01-01_2019-01-01_hour_locations.nc\n",
      "//proj/bolinc/users/x_sarbl/analysis/Output_data_BS-FDBCK/collocated_ds/NorESM/OsloAero_intBVOC_f09_f09_mg17_ssp245/SS_A2_OsloAero_intBVOC_f09_f09_mg17_ssp245_2015-01-01_2019-01-01_hour_locations.nc\n",
      "//proj/bolinc/users/x_sarbl/analysis/Output_data_BS-FDBCK/collocated_ds/NorESM/OsloAero_intBVOC_f09_f09_mg17_ssp245/SS_A3_OsloAero_intBVOC_f09_f09_mg17_ssp245_2015-01-01_2019-01-01_hour_locations.nc\n",
      "//proj/bolinc/users/x_sarbl/analysis/Output_data_BS-FDBCK/collocated_ds/NorESM/OsloAero_intBVOC_f09_f09_mg17_ssp245/DST_A2_OsloAero_intBVOC_f09_f09_mg17_ssp245_2015-01-01_2019-01-01_hour_locations.nc\n",
      "//proj/bolinc/users/x_sarbl/analysis/Output_data_BS-FDBCK/collocated_ds/NorESM/OsloAero_intBVOC_f09_f09_mg17_ssp245/DST_A3_OsloAero_intBVOC_f09_f09_mg17_ssp245_2015-01-01_2019-01-01_hour_locations.nc\n",
      "UUUPS\n"
     ]
    }
   ],
   "source": [
    "for case_name in cases_noresm2:\n",
    "    varlist = varl# list_sized_vars_noresm\n",
    "    c = CollocateLONLATout(case_name, from_t2, to_t2,\n",
    "                           False,\n",
    "                           'hour',\n",
    "                           history_field=history_field)\n",
    "    if c.check_if_load_raw_necessary(varlist ):\n",
    "        time1 = time.time()\n",
    "        a = c.make_station_data_merge_monthly(varlist)\n",
    "        print(a)\n",
    "\n",
    "        time2 = time.time()\n",
    "        print('DONE : took {:.3f} s'.format( (time2-time1)))\n",
    "    else:\n",
    "        print('UUUPS')"
   ]
  },
  {
   "cell_type": "code",
   "execution_count": null,
   "id": "6b2c2688-3d1d-4204-891a-8a618ae6013f",
   "metadata": {},
   "outputs": [],
   "source": []
  },
  {
   "cell_type": "code",
   "execution_count": 28,
   "id": "6bed016a-1e81-456f-861f-2ef4878a15fe",
   "metadata": {
    "scrolled": true,
    "tags": []
   },
   "outputs": [
    {
     "name": "stderr",
     "output_type": "stream",
     "text": [
      "2022-11-23 17:33:34,683 useful_scit  INFO     Opening: [//proj/bolinc/users/x_sarbl/analysis/Output_data_BS-FDBCK/collocated_ds/NorESM/OsloAero_intBVOC_f09_f09_mg17_full/N100_OsloAero_intBVOC_f09_f09_mg17_full_2012-01-01_2015-01-01_hour_locations.nc,//proj/bolinc/users/x_sarbl/analysis/Output_data_BS-FDBCK/collocated_ds/NorESM/OsloAero_intBVOC_f09_f09_mg17_full/DOD500_OsloAero_intBVOC_f09_f09_mg17_full_2012-01-01_2015-01-01_hour_locations.nc,//proj/bolinc/users/x_sarbl/analysis/Output_data_BS-FDBCK/collocated_ds/NorESM/OsloAero_intBVOC_f09_f09_mg17_full/DOD440_OsloAero_intBVOC_f09_f09_mg17_full_2012-01-01_2015-01-01_hour_locations.nc,//proj/bolinc/users/x_sarbl/analysis/Output_data_BS-FDBCK/collocated_ds/NorESM/OsloAero_intBVOC_f09_f09_mg17_full/ACTREL_OsloAero_intBVOC_f09_f09_mg17_full_2012-01-01_2015-01-01_hour_locations.nc,//proj/bolinc/users/x_sarbl/analysis/Output_data_BS-FDBCK/collocated_ds/NorESM/OsloAero_intBVOC_f09_f09_mg17_full/H2SO4_OsloAero_intBVOC_f09_f09_mg17_full_2012-01-01_2015-01-01_hour_locations.nc,//proj/bolinc/users/x_sarbl/analysis/Output_data_BS-FDBCK/collocated_ds/NorESM/OsloAero_intBVOC_f09_f09_mg17_full/SOA_LV_OsloAero_intBVOC_f09_f09_mg17_full_2012-01-01_2015-01-01_hour_locations.nc,//proj/bolinc/users/x_sarbl/analysis/Output_data_BS-FDBCK/collocated_ds/NorESM/OsloAero_intBVOC_f09_f09_mg17_full/COAGNUCL_OsloAero_intBVOC_f09_f09_mg17_full_2012-01-01_2015-01-01_hour_locations.nc,//proj/bolinc/users/x_sarbl/analysis/Output_data_BS-FDBCK/collocated_ds/NorESM/OsloAero_intBVOC_f09_f09_mg17_full/FORMRATE_OsloAero_intBVOC_f09_f09_mg17_full_2012-01-01_2015-01-01_hour_locations.nc,//proj/bolinc/users/x_sarbl/analysis/Output_data_BS-FDBCK/collocated_ds/NorESM/OsloAero_intBVOC_f09_f09_mg17_full/T_OsloAero_intBVOC_f09_f09_mg17_full_2012-01-01_2015-01-01_hour_locations.nc,//proj/bolinc/users/x_sarbl/analysis/Output_data_BS-FDBCK/collocated_ds/NorESM/OsloAero_intBVOC_f09_f09_mg17_full/SOA_SV_OsloAero_intBVOC_f09_f09_mg17_full_2012-01-01_2015-01-01_hour_locations.nc,//proj/bolinc/users/x_sarbl/analysis/Output_data_BS-FDBCK/collocated_ds/NorESM/OsloAero_intBVOC_f09_f09_mg17_full/NCONC01_OsloAero_intBVOC_f09_f09_mg17_full_2012-01-01_2015-01-01_hour_locations.nc,//proj/bolinc/users/x_sarbl/analysis/Output_data_BS-FDBCK/collocated_ds/NorESM/OsloAero_intBVOC_f09_f09_mg17_full/N50_OsloAero_intBVOC_f09_f09_mg17_full_2012-01-01_2015-01-01_hour_locations.nc,//proj/bolinc/users/x_sarbl/analysis/Output_data_BS-FDBCK/collocated_ds/NorESM/OsloAero_intBVOC_f09_f09_mg17_full/N150_OsloAero_intBVOC_f09_f09_mg17_full_2012-01-01_2015-01-01_hour_locations.nc,//proj/bolinc/users/x_sarbl/analysis/Output_data_BS-FDBCK/collocated_ds/NorESM/OsloAero_intBVOC_f09_f09_mg17_full/N200_OsloAero_intBVOC_f09_f09_mg17_full_2012-01-01_2015-01-01_hour_locations.nc,//proj/bolinc/users/x_sarbl/analysis/Output_data_BS-FDBCK/collocated_ds/NorESM/OsloAero_intBVOC_f09_f09_mg17_full/isoprene_OsloAero_intBVOC_f09_f09_mg17_full_2012-01-01_2015-01-01_hour_locations.nc,//proj/bolinc/users/x_sarbl/analysis/Output_data_BS-FDBCK/collocated_ds/NorESM/OsloAero_intBVOC_f09_f09_mg17_full/SFisoprene_OsloAero_intBVOC_f09_f09_mg17_full_2012-01-01_2015-01-01_hour_locations.nc,//proj/bolinc/users/x_sarbl/analysis/Output_data_BS-FDBCK/collocated_ds/NorESM/OsloAero_intBVOC_f09_f09_mg17_full/monoterp_OsloAero_intBVOC_f09_f09_mg17_full_2012-01-01_2015-01-01_hour_locations.nc,//proj/bolinc/users/x_sarbl/analysis/Output_data_BS-FDBCK/collocated_ds/NorESM/OsloAero_intBVOC_f09_f09_mg17_full/SFmonoterp_OsloAero_intBVOC_f09_f09_mg17_full_2012-01-01_2015-01-01_hour_locations.nc,//proj/bolinc/users/x_sarbl/analysis/Output_data_BS-FDBCK/collocated_ds/NorESM/OsloAero_intBVOC_f09_f09_mg17_full/PS_OsloAero_intBVOC_f09_f09_mg17_full_2012-01-01_2015-01-01_hour_locations.nc,//proj/bolinc/users/x_sarbl/analysis/Output_data_BS-FDBCK/collocated_ds/NorESM/OsloAero_intBVOC_f09_f09_mg17_full/NNAT_0_OsloAero_intBVOC_f09_f09_mg17_full_2012-01-01_2015-01-01_hour_locations.nc,//proj/bolinc/users/x_sarbl/analysis/Output_data_BS-FDBCK/collocated_ds/NorESM/OsloAero_intBVOC_f09_f09_mg17_full/NCONC02_OsloAero_intBVOC_f09_f09_mg17_full_2012-01-01_2015-01-01_hour_locations.nc,//proj/bolinc/users/x_sarbl/analysis/Output_data_BS-FDBCK/collocated_ds/NorESM/OsloAero_intBVOC_f09_f09_mg17_full/NCONC03_OsloAero_intBVOC_f09_f09_mg17_full_2012-01-01_2015-01-01_hour_locations.nc,//proj/bolinc/users/x_sarbl/analysis/Output_data_BS-FDBCK/collocated_ds/NorESM/OsloAero_intBVOC_f09_f09_mg17_full/NCONC04_OsloAero_intBVOC_f09_f09_mg17_full_2012-01-01_2015-01-01_hour_locations.nc,//proj/bolinc/users/x_sarbl/analysis/Output_data_BS-FDBCK/collocated_ds/NorESM/OsloAero_intBVOC_f09_f09_mg17_full/NCONC05_OsloAero_intBVOC_f09_f09_mg17_full_2012-01-01_2015-01-01_hour_locations.nc,//proj/bolinc/users/x_sarbl/analysis/Output_data_BS-FDBCK/collocated_ds/NorESM/OsloAero_intBVOC_f09_f09_mg17_full/NCONC06_OsloAero_intBVOC_f09_f09_mg17_full_2012-01-01_2015-01-01_hour_locations.nc,//proj/bolinc/users/x_sarbl/analysis/Output_data_BS-FDBCK/collocated_ds/NorESM/OsloAero_intBVOC_f09_f09_mg17_full/NCONC07_OsloAero_intBVOC_f09_f09_mg17_full_2012-01-01_2015-01-01_hour_locations.nc,//proj/bolinc/users/x_sarbl/analysis/Output_data_BS-FDBCK/collocated_ds/NorESM/OsloAero_intBVOC_f09_f09_mg17_full/NCONC08_OsloAero_intBVOC_f09_f09_mg17_full_2012-01-01_2015-01-01_hour_locations.nc,//proj/bolinc/users/x_sarbl/analysis/Output_data_BS-FDBCK/collocated_ds/NorESM/OsloAero_intBVOC_f09_f09_mg17_full/NCONC09_OsloAero_intBVOC_f09_f09_mg17_full_2012-01-01_2015-01-01_hour_locations.nc,//proj/bolinc/users/x_sarbl/analysis/Output_data_BS-FDBCK/collocated_ds/NorESM/OsloAero_intBVOC_f09_f09_mg17_full/NCONC10_OsloAero_intBVOC_f09_f09_mg17_full_2012-01-01_2015-01-01_hour_locations.nc,//proj/bolinc/users/x_sarbl/analysis/Output_data_BS-FDBCK/collocated_ds/NorESM/OsloAero_intBVOC_f09_f09_mg17_full/NCONC11_OsloAero_intBVOC_f09_f09_mg17_full_2012-01-01_2015-01-01_hour_locations.nc,//proj/bolinc/users/x_sarbl/analysis/Output_data_BS-FDBCK/collocated_ds/NorESM/OsloAero_intBVOC_f09_f09_mg17_full/NCONC12_OsloAero_intBVOC_f09_f09_mg17_full_2012-01-01_2015-01-01_hour_locations.nc,//proj/bolinc/users/x_sarbl/analysis/Output_data_BS-FDBCK/collocated_ds/NorESM/OsloAero_intBVOC_f09_f09_mg17_full/NCONC13_OsloAero_intBVOC_f09_f09_mg17_full_2012-01-01_2015-01-01_hour_locations.nc,//proj/bolinc/users/x_sarbl/analysis/Output_data_BS-FDBCK/collocated_ds/NorESM/OsloAero_intBVOC_f09_f09_mg17_full/NCONC14_OsloAero_intBVOC_f09_f09_mg17_full_2012-01-01_2015-01-01_hour_locations.nc,//proj/bolinc/users/x_sarbl/analysis/Output_data_BS-FDBCK/collocated_ds/NorESM/OsloAero_intBVOC_f09_f09_mg17_full/NMR01_OsloAero_intBVOC_f09_f09_mg17_full_2012-01-01_2015-01-01_hour_locations.nc,//proj/bolinc/users/x_sarbl/analysis/Output_data_BS-FDBCK/collocated_ds/NorESM/OsloAero_intBVOC_f09_f09_mg17_full/SIGMA01_OsloAero_intBVOC_f09_f09_mg17_full_2012-01-01_2015-01-01_hour_locations.nc,//proj/bolinc/users/x_sarbl/analysis/Output_data_BS-FDBCK/collocated_ds/NorESM/OsloAero_intBVOC_f09_f09_mg17_full/NMR02_OsloAero_intBVOC_f09_f09_mg17_full_2012-01-01_2015-01-01_hour_locations.nc,//proj/bolinc/users/x_sarbl/analysis/Output_data_BS-FDBCK/collocated_ds/NorESM/OsloAero_intBVOC_f09_f09_mg17_full/SIGMA02_OsloAero_intBVOC_f09_f09_mg17_full_2012-01-01_2015-01-01_hour_locations.nc,//proj/bolinc/users/x_sarbl/analysis/Output_data_BS-FDBCK/collocated_ds/NorESM/OsloAero_intBVOC_f09_f09_mg17_full/NMR03_OsloAero_intBVOC_f09_f09_mg17_full_2012-01-01_2015-01-01_hour_locations.nc,//proj/bolinc/users/x_sarbl/analysis/Output_data_BS-FDBCK/collocated_ds/NorESM/OsloAero_intBVOC_f09_f09_mg17_full/SIGMA03_OsloAero_intBVOC_f09_f09_mg17_full_2012-01-01_2015-01-01_hour_locations.nc,//proj/bolinc/users/x_sarbl/analysis/Output_data_BS-FDBCK/collocated_ds/NorESM/OsloAero_intBVOC_f09_f09_mg17_full/NMR04_OsloAero_intBVOC_f09_f09_mg17_full_2012-01-01_2015-01-01_hour_locations.nc,//proj/bolinc/users/x_sarbl/analysis/Output_data_BS-FDBCK/collocated_ds/NorESM/OsloAero_intBVOC_f09_f09_mg17_full/SIGMA04_OsloAero_intBVOC_f09_f09_mg17_full_2012-01-01_2015-01-01_hour_locations.nc,//proj/bolinc/users/x_sarbl/analysis/Output_data_BS-FDBCK/collocated_ds/NorESM/OsloAero_intBVOC_f09_f09_mg17_full/NMR05_OsloAero_intBVOC_f09_f09_mg17_full_2012-01-01_2015-01-01_hour_locations.nc,//proj/bolinc/users/x_sarbl/analysis/Output_data_BS-FDBCK/collocated_ds/NorESM/OsloAero_intBVOC_f09_f09_mg17_full/SIGMA05_OsloAero_intBVOC_f09_f09_mg17_full_2012-01-01_2015-01-01_hour_locations.nc,//proj/bolinc/users/x_sarbl/analysis/Output_data_BS-FDBCK/collocated_ds/NorESM/OsloAero_intBVOC_f09_f09_mg17_full/NMR06_OsloAero_intBVOC_f09_f09_mg17_full_2012-01-01_2015-01-01_hour_locations.nc,//proj/bolinc/users/x_sarbl/analysis/Output_data_BS-FDBCK/collocated_ds/NorESM/OsloAero_intBVOC_f09_f09_mg17_full/SIGMA06_OsloAero_intBVOC_f09_f09_mg17_full_2012-01-01_2015-01-01_hour_locations.nc,//proj/bolinc/users/x_sarbl/analysis/Output_data_BS-FDBCK/collocated_ds/NorESM/OsloAero_intBVOC_f09_f09_mg17_full/NMR07_OsloAero_intBVOC_f09_f09_mg17_full_2012-01-01_2015-01-01_hour_locations.nc,//proj/bolinc/users/x_sarbl/analysis/Output_data_BS-FDBCK/collocated_ds/NorESM/OsloAero_intBVOC_f09_f09_mg17_full/SIGMA07_OsloAero_intBVOC_f09_f09_mg17_full_2012-01-01_2015-01-01_hour_locations.nc,//proj/bolinc/users/x_sarbl/analysis/Output_data_BS-FDBCK/collocated_ds/NorESM/OsloAero_intBVOC_f09_f09_mg17_full/NMR08_OsloAero_intBVOC_f09_f09_mg17_full_2012-01-01_2015-01-01_hour_locations.nc,//proj/bolinc/users/x_sarbl/analysis/Output_data_BS-FDBCK/collocated_ds/NorESM/OsloAero_intBVOC_f09_f09_mg17_full/SIGMA08_OsloAero_intBVOC_f09_f09_mg17_full_2012-01-01_2015-01-01_hour_locations.nc,//proj/bolinc/users/x_sarbl/analysis/Output_data_BS-FDBCK/collocated_ds/NorESM/OsloAero_intBVOC_f09_f09_mg17_full/NMR09_OsloAero_intBVOC_f09_f09_mg17_full_2012-01-01_2015-01-01_hour_locations.nc,//proj/bolinc/users/x_sarbl/analysis/Output_data_BS-FDBCK/collocated_ds/NorESM/OsloAero_intBVOC_f09_f09_mg17_full/SIGMA09_OsloAero_intBVOC_f09_f09_mg17_full_2012-01-01_2015-01-01_hour_locations.nc,//proj/bolinc/users/x_sarbl/analysis/Output_data_BS-FDBCK/collocated_ds/NorESM/OsloAero_intBVOC_f09_f09_mg17_full/NMR10_OsloAero_intBVOC_f09_f09_mg17_full_2012-01-01_2015-01-01_hour_locations.nc,//proj/bolinc/users/x_sarbl/analysis/Output_data_BS-FDBCK/collocated_ds/NorESM/OsloAero_intBVOC_f09_f09_mg17_full/SIGMA10_OsloAero_intBVOC_f09_f09_mg17_full_2012-01-01_2015-01-01_hour_locations.nc,//proj/bolinc/users/x_sarbl/analysis/Output_data_BS-FDBCK/collocated_ds/NorESM/OsloAero_intBVOC_f09_f09_mg17_full/NMR11_OsloAero_intBVOC_f09_f09_mg17_full_2012-01-01_2015-01-01_hour_locations.nc,//proj/bolinc/users/x_sarbl/analysis/Output_data_BS-FDBCK/collocated_ds/NorESM/OsloAero_intBVOC_f09_f09_mg17_full/SIGMA11_OsloAero_intBVOC_f09_f09_mg17_full_2012-01-01_2015-01-01_hour_locations.nc,//proj/bolinc/users/x_sarbl/analysis/Output_data_BS-FDBCK/collocated_ds/NorESM/OsloAero_intBVOC_f09_f09_mg17_full/NMR12_OsloAero_intBVOC_f09_f09_mg17_full_2012-01-01_2015-01-01_hour_locations.nc,//proj/bolinc/users/x_sarbl/analysis/Output_data_BS-FDBCK/collocated_ds/NorESM/OsloAero_intBVOC_f09_f09_mg17_full/SIGMA12_OsloAero_intBVOC_f09_f09_mg17_full_2012-01-01_2015-01-01_hour_locations.nc,//proj/bolinc/users/x_sarbl/analysis/Output_data_BS-FDBCK/collocated_ds/NorESM/OsloAero_intBVOC_f09_f09_mg17_full/NMR13_OsloAero_intBVOC_f09_f09_mg17_full_2012-01-01_2015-01-01_hour_locations.nc,//proj/bolinc/users/x_sarbl/analysis/Output_data_BS-FDBCK/collocated_ds/NorESM/OsloAero_intBVOC_f09_f09_mg17_full/SIGMA13_OsloAero_intBVOC_f09_f09_mg17_full_2012-01-01_2015-01-01_hour_locations.nc,//proj/bolinc/users/x_sarbl/analysis/Output_data_BS-FDBCK/collocated_ds/NorESM/OsloAero_intBVOC_f09_f09_mg17_full/NMR14_OsloAero_intBVOC_f09_f09_mg17_full_2012-01-01_2015-01-01_hour_locations.nc,//proj/bolinc/users/x_sarbl/analysis/Output_data_BS-FDBCK/collocated_ds/NorESM/OsloAero_intBVOC_f09_f09_mg17_full/SIGMA14_OsloAero_intBVOC_f09_f09_mg17_full_2012-01-01_2015-01-01_hour_locations.nc,//proj/bolinc/users/x_sarbl/analysis/Output_data_BS-FDBCK/collocated_ds/NorESM/OsloAero_intBVOC_f09_f09_mg17_full/N500_OsloAero_intBVOC_f09_f09_mg17_full_2012-01-01_2015-01-01_hour_locations.nc,//proj/bolinc/users/x_sarbl/analysis/Output_data_BS-FDBCK/collocated_ds/NorESM/OsloAero_intBVOC_f09_f09_mg17_full/SOA_NA_OsloAero_intBVOC_f09_f09_mg17_full_2012-01-01_2015-01-01_hour_locations.nc,//proj/bolinc/users/x_sarbl/analysis/Output_data_BS-FDBCK/collocated_ds/NorESM/OsloAero_intBVOC_f09_f09_mg17_full/SOA_A1_OsloAero_intBVOC_f09_f09_mg17_full_2012-01-01_2015-01-01_hour_locations.nc,//proj/bolinc/users/x_sarbl/analysis/Output_data_BS-FDBCK/collocated_ds/NorESM/OsloAero_intBVOC_f09_f09_mg17_full/OM_NI_OsloAero_intBVOC_f09_f09_mg17_full_2012-01-01_2015-01-01_hour_locations.nc,//proj/bolinc/users/x_sarbl/analysis/Output_data_BS-FDBCK/collocated_ds/NorESM/OsloAero_intBVOC_f09_f09_mg17_full/OM_AI_OsloAero_intBVOC_f09_f09_mg17_full_2012-01-01_2015-01-01_hour_locations.nc,//proj/bolinc/users/x_sarbl/analysis/Output_data_BS-FDBCK/collocated_ds/NorESM/OsloAero_intBVOC_f09_f09_mg17_full/OM_AC_OsloAero_intBVOC_f09_f09_mg17_full_2012-01-01_2015-01-01_hour_locations.nc,//proj/bolinc/users/x_sarbl/analysis/Output_data_BS-FDBCK/collocated_ds/NorESM/OsloAero_intBVOC_f09_f09_mg17_full/SO4_NA_OsloAero_intBVOC_f09_f09_mg17_full_2012-01-01_2015-01-01_hour_locations.nc,//proj/bolinc/users/x_sarbl/analysis/Output_data_BS-FDBCK/collocated_ds/NorESM/OsloAero_intBVOC_f09_f09_mg17_full/SO4_A1_OsloAero_intBVOC_f09_f09_mg17_full_2012-01-01_2015-01-01_hour_locations.nc,//proj/bolinc/users/x_sarbl/analysis/Output_data_BS-FDBCK/collocated_ds/NorESM/OsloAero_intBVOC_f09_f09_mg17_full/SO4_A2_OsloAero_intBVOC_f09_f09_mg17_full_2012-01-01_2015-01-01_hour_locations.nc,//proj/bolinc/users/x_sarbl/analysis/Output_data_BS-FDBCK/collocated_ds/NorESM/OsloAero_intBVOC_f09_f09_mg17_full/SO4_AC_OsloAero_intBVOC_f09_f09_mg17_full_2012-01-01_2015-01-01_hour_locations.nc,//proj/bolinc/users/x_sarbl/analysis/Output_data_BS-FDBCK/collocated_ds/NorESM/OsloAero_intBVOC_f09_f09_mg17_full/SO4_PR_OsloAero_intBVOC_f09_f09_mg17_full_2012-01-01_2015-01-01_hour_locations.nc,//proj/bolinc/users/x_sarbl/analysis/Output_data_BS-FDBCK/collocated_ds/NorESM/OsloAero_intBVOC_f09_f09_mg17_full/BC_N_OsloAero_intBVOC_f09_f09_mg17_full_2012-01-01_2015-01-01_hour_locations.nc,//proj/bolinc/users/x_sarbl/analysis/Output_data_BS-FDBCK/collocated_ds/NorESM/OsloAero_intBVOC_f09_f09_mg17_full/BC_AX_OsloAero_intBVOC_f09_f09_mg17_full_2012-01-01_2015-01-01_hour_locations.nc,//proj/bolinc/users/x_sarbl/analysis/Output_data_BS-FDBCK/collocated_ds/NorESM/OsloAero_intBVOC_f09_f09_mg17_full/BC_NI_OsloAero_intBVOC_f09_f09_mg17_full_2012-01-01_2015-01-01_hour_locations.nc,//proj/bolinc/users/x_sarbl/analysis/Output_data_BS-FDBCK/collocated_ds/NorESM/OsloAero_intBVOC_f09_f09_mg17_full/BC_A_OsloAero_intBVOC_f09_f09_mg17_full_2012-01-01_2015-01-01_hour_locations.nc,//proj/bolinc/users/x_sarbl/analysis/Output_data_BS-FDBCK/collocated_ds/NorESM/OsloAero_intBVOC_f09_f09_mg17_full/BC_AI_OsloAero_intBVOC_f09_f09_mg17_full_2012-01-01_2015-01-01_hour_locations.nc,//proj/bolinc/users/x_sarbl/analysis/Output_data_BS-FDBCK/collocated_ds/NorESM/OsloAero_intBVOC_f09_f09_mg17_full/BC_AC_OsloAero_intBVOC_f09_f09_mg17_full_2012-01-01_2015-01-01_hour_locations.nc,//proj/bolinc/users/x_sarbl/analysis/Output_data_BS-FDBCK/collocated_ds/NorESM/OsloAero_intBVOC_f09_f09_mg17_full/SS_A1_OsloAero_intBVOC_f09_f09_mg17_full_2012-01-01_2015-01-01_hour_locations.nc,//proj/bolinc/users/x_sarbl/analysis/Output_data_BS-FDBCK/collocated_ds/NorESM/OsloAero_intBVOC_f09_f09_mg17_full/SS_A2_OsloAero_intBVOC_f09_f09_mg17_full_2012-01-01_2015-01-01_hour_locations.nc,//proj/bolinc/users/x_sarbl/analysis/Output_data_BS-FDBCK/collocated_ds/NorESM/OsloAero_intBVOC_f09_f09_mg17_full/SS_A3_OsloAero_intBVOC_f09_f09_mg17_full_2012-01-01_2015-01-01_hour_locations.nc,//proj/bolinc/users/x_sarbl/analysis/Output_data_BS-FDBCK/collocated_ds/NorESM/OsloAero_intBVOC_f09_f09_mg17_full/DST_A2_OsloAero_intBVOC_f09_f09_mg17_full_2012-01-01_2015-01-01_hour_locations.nc,//proj/bolinc/users/x_sarbl/analysis/Output_data_BS-FDBCK/collocated_ds/NorESM/OsloAero_intBVOC_f09_f09_mg17_full/DST_A3_OsloAero_intBVOC_f09_f09_mg17_full_2012-01-01_2015-01-01_hour_locations.nc]\n"
     ]
    },
    {
     "name": "stdout",
     "output_type": "stream",
     "text": [
      "//proj/bolinc/users/x_sarbl/analysis/Output_data_BS-FDBCK/collocated_ds/NorESM/OsloAero_intBVOC_f09_f09_mg17_full/N100_OsloAero_intBVOC_f09_f09_mg17_full_2012-01-01_2015-01-01_hour_locations.nc\n",
      "//proj/bolinc/users/x_sarbl/analysis/Output_data_BS-FDBCK/collocated_ds/NorESM/OsloAero_intBVOC_f09_f09_mg17_full/DOD500_OsloAero_intBVOC_f09_f09_mg17_full_2012-01-01_2015-01-01_hour_locations.nc\n",
      "//proj/bolinc/users/x_sarbl/analysis/Output_data_BS-FDBCK/collocated_ds/NorESM/OsloAero_intBVOC_f09_f09_mg17_full/DOD440_OsloAero_intBVOC_f09_f09_mg17_full_2012-01-01_2015-01-01_hour_locations.nc\n",
      "//proj/bolinc/users/x_sarbl/analysis/Output_data_BS-FDBCK/collocated_ds/NorESM/OsloAero_intBVOC_f09_f09_mg17_full/ACTREL_OsloAero_intBVOC_f09_f09_mg17_full_2012-01-01_2015-01-01_hour_locations.nc\n",
      "//proj/bolinc/users/x_sarbl/analysis/Output_data_BS-FDBCK/collocated_ds/NorESM/OsloAero_intBVOC_f09_f09_mg17_full/H2SO4_OsloAero_intBVOC_f09_f09_mg17_full_2012-01-01_2015-01-01_hour_locations.nc\n",
      "//proj/bolinc/users/x_sarbl/analysis/Output_data_BS-FDBCK/collocated_ds/NorESM/OsloAero_intBVOC_f09_f09_mg17_full/SOA_LV_OsloAero_intBVOC_f09_f09_mg17_full_2012-01-01_2015-01-01_hour_locations.nc\n",
      "//proj/bolinc/users/x_sarbl/analysis/Output_data_BS-FDBCK/collocated_ds/NorESM/OsloAero_intBVOC_f09_f09_mg17_full/COAGNUCL_OsloAero_intBVOC_f09_f09_mg17_full_2012-01-01_2015-01-01_hour_locations.nc\n",
      "//proj/bolinc/users/x_sarbl/analysis/Output_data_BS-FDBCK/collocated_ds/NorESM/OsloAero_intBVOC_f09_f09_mg17_full/FORMRATE_OsloAero_intBVOC_f09_f09_mg17_full_2012-01-01_2015-01-01_hour_locations.nc\n",
      "//proj/bolinc/users/x_sarbl/analysis/Output_data_BS-FDBCK/collocated_ds/NorESM/OsloAero_intBVOC_f09_f09_mg17_full/T_OsloAero_intBVOC_f09_f09_mg17_full_2012-01-01_2015-01-01_hour_locations.nc\n",
      "//proj/bolinc/users/x_sarbl/analysis/Output_data_BS-FDBCK/collocated_ds/NorESM/OsloAero_intBVOC_f09_f09_mg17_full/SOA_SV_OsloAero_intBVOC_f09_f09_mg17_full_2012-01-01_2015-01-01_hour_locations.nc\n",
      "//proj/bolinc/users/x_sarbl/analysis/Output_data_BS-FDBCK/collocated_ds/NorESM/OsloAero_intBVOC_f09_f09_mg17_full/NCONC01_OsloAero_intBVOC_f09_f09_mg17_full_2012-01-01_2015-01-01_hour_locations.nc\n",
      "//proj/bolinc/users/x_sarbl/analysis/Output_data_BS-FDBCK/collocated_ds/NorESM/OsloAero_intBVOC_f09_f09_mg17_full/N50_OsloAero_intBVOC_f09_f09_mg17_full_2012-01-01_2015-01-01_hour_locations.nc\n",
      "//proj/bolinc/users/x_sarbl/analysis/Output_data_BS-FDBCK/collocated_ds/NorESM/OsloAero_intBVOC_f09_f09_mg17_full/N150_OsloAero_intBVOC_f09_f09_mg17_full_2012-01-01_2015-01-01_hour_locations.nc\n",
      "//proj/bolinc/users/x_sarbl/analysis/Output_data_BS-FDBCK/collocated_ds/NorESM/OsloAero_intBVOC_f09_f09_mg17_full/N200_OsloAero_intBVOC_f09_f09_mg17_full_2012-01-01_2015-01-01_hour_locations.nc\n",
      "//proj/bolinc/users/x_sarbl/analysis/Output_data_BS-FDBCK/collocated_ds/NorESM/OsloAero_intBVOC_f09_f09_mg17_full/isoprene_OsloAero_intBVOC_f09_f09_mg17_full_2012-01-01_2015-01-01_hour_locations.nc\n",
      "//proj/bolinc/users/x_sarbl/analysis/Output_data_BS-FDBCK/collocated_ds/NorESM/OsloAero_intBVOC_f09_f09_mg17_full/SFisoprene_OsloAero_intBVOC_f09_f09_mg17_full_2012-01-01_2015-01-01_hour_locations.nc\n",
      "//proj/bolinc/users/x_sarbl/analysis/Output_data_BS-FDBCK/collocated_ds/NorESM/OsloAero_intBVOC_f09_f09_mg17_full/monoterp_OsloAero_intBVOC_f09_f09_mg17_full_2012-01-01_2015-01-01_hour_locations.nc\n",
      "//proj/bolinc/users/x_sarbl/analysis/Output_data_BS-FDBCK/collocated_ds/NorESM/OsloAero_intBVOC_f09_f09_mg17_full/SFmonoterp_OsloAero_intBVOC_f09_f09_mg17_full_2012-01-01_2015-01-01_hour_locations.nc\n",
      "//proj/bolinc/users/x_sarbl/analysis/Output_data_BS-FDBCK/collocated_ds/NorESM/OsloAero_intBVOC_f09_f09_mg17_full/PS_OsloAero_intBVOC_f09_f09_mg17_full_2012-01-01_2015-01-01_hour_locations.nc\n",
      "//proj/bolinc/users/x_sarbl/analysis/Output_data_BS-FDBCK/collocated_ds/NorESM/OsloAero_intBVOC_f09_f09_mg17_full/NNAT_0_OsloAero_intBVOC_f09_f09_mg17_full_2012-01-01_2015-01-01_hour_locations.nc\n",
      "//proj/bolinc/users/x_sarbl/analysis/Output_data_BS-FDBCK/collocated_ds/NorESM/OsloAero_intBVOC_f09_f09_mg17_full/NCONC02_OsloAero_intBVOC_f09_f09_mg17_full_2012-01-01_2015-01-01_hour_locations.nc\n",
      "//proj/bolinc/users/x_sarbl/analysis/Output_data_BS-FDBCK/collocated_ds/NorESM/OsloAero_intBVOC_f09_f09_mg17_full/NCONC03_OsloAero_intBVOC_f09_f09_mg17_full_2012-01-01_2015-01-01_hour_locations.nc\n",
      "//proj/bolinc/users/x_sarbl/analysis/Output_data_BS-FDBCK/collocated_ds/NorESM/OsloAero_intBVOC_f09_f09_mg17_full/NCONC04_OsloAero_intBVOC_f09_f09_mg17_full_2012-01-01_2015-01-01_hour_locations.nc\n",
      "//proj/bolinc/users/x_sarbl/analysis/Output_data_BS-FDBCK/collocated_ds/NorESM/OsloAero_intBVOC_f09_f09_mg17_full/NCONC05_OsloAero_intBVOC_f09_f09_mg17_full_2012-01-01_2015-01-01_hour_locations.nc\n",
      "//proj/bolinc/users/x_sarbl/analysis/Output_data_BS-FDBCK/collocated_ds/NorESM/OsloAero_intBVOC_f09_f09_mg17_full/NCONC06_OsloAero_intBVOC_f09_f09_mg17_full_2012-01-01_2015-01-01_hour_locations.nc\n",
      "//proj/bolinc/users/x_sarbl/analysis/Output_data_BS-FDBCK/collocated_ds/NorESM/OsloAero_intBVOC_f09_f09_mg17_full/NCONC07_OsloAero_intBVOC_f09_f09_mg17_full_2012-01-01_2015-01-01_hour_locations.nc\n",
      "//proj/bolinc/users/x_sarbl/analysis/Output_data_BS-FDBCK/collocated_ds/NorESM/OsloAero_intBVOC_f09_f09_mg17_full/NCONC08_OsloAero_intBVOC_f09_f09_mg17_full_2012-01-01_2015-01-01_hour_locations.nc\n",
      "//proj/bolinc/users/x_sarbl/analysis/Output_data_BS-FDBCK/collocated_ds/NorESM/OsloAero_intBVOC_f09_f09_mg17_full/NCONC09_OsloAero_intBVOC_f09_f09_mg17_full_2012-01-01_2015-01-01_hour_locations.nc\n",
      "//proj/bolinc/users/x_sarbl/analysis/Output_data_BS-FDBCK/collocated_ds/NorESM/OsloAero_intBVOC_f09_f09_mg17_full/NCONC10_OsloAero_intBVOC_f09_f09_mg17_full_2012-01-01_2015-01-01_hour_locations.nc\n",
      "//proj/bolinc/users/x_sarbl/analysis/Output_data_BS-FDBCK/collocated_ds/NorESM/OsloAero_intBVOC_f09_f09_mg17_full/NCONC11_OsloAero_intBVOC_f09_f09_mg17_full_2012-01-01_2015-01-01_hour_locations.nc\n",
      "//proj/bolinc/users/x_sarbl/analysis/Output_data_BS-FDBCK/collocated_ds/NorESM/OsloAero_intBVOC_f09_f09_mg17_full/NCONC12_OsloAero_intBVOC_f09_f09_mg17_full_2012-01-01_2015-01-01_hour_locations.nc\n",
      "//proj/bolinc/users/x_sarbl/analysis/Output_data_BS-FDBCK/collocated_ds/NorESM/OsloAero_intBVOC_f09_f09_mg17_full/NCONC13_OsloAero_intBVOC_f09_f09_mg17_full_2012-01-01_2015-01-01_hour_locations.nc\n",
      "//proj/bolinc/users/x_sarbl/analysis/Output_data_BS-FDBCK/collocated_ds/NorESM/OsloAero_intBVOC_f09_f09_mg17_full/NCONC14_OsloAero_intBVOC_f09_f09_mg17_full_2012-01-01_2015-01-01_hour_locations.nc\n",
      "//proj/bolinc/users/x_sarbl/analysis/Output_data_BS-FDBCK/collocated_ds/NorESM/OsloAero_intBVOC_f09_f09_mg17_full/NMR01_OsloAero_intBVOC_f09_f09_mg17_full_2012-01-01_2015-01-01_hour_locations.nc\n",
      "//proj/bolinc/users/x_sarbl/analysis/Output_data_BS-FDBCK/collocated_ds/NorESM/OsloAero_intBVOC_f09_f09_mg17_full/SIGMA01_OsloAero_intBVOC_f09_f09_mg17_full_2012-01-01_2015-01-01_hour_locations.nc\n",
      "//proj/bolinc/users/x_sarbl/analysis/Output_data_BS-FDBCK/collocated_ds/NorESM/OsloAero_intBVOC_f09_f09_mg17_full/NMR02_OsloAero_intBVOC_f09_f09_mg17_full_2012-01-01_2015-01-01_hour_locations.nc\n",
      "//proj/bolinc/users/x_sarbl/analysis/Output_data_BS-FDBCK/collocated_ds/NorESM/OsloAero_intBVOC_f09_f09_mg17_full/SIGMA02_OsloAero_intBVOC_f09_f09_mg17_full_2012-01-01_2015-01-01_hour_locations.nc\n",
      "//proj/bolinc/users/x_sarbl/analysis/Output_data_BS-FDBCK/collocated_ds/NorESM/OsloAero_intBVOC_f09_f09_mg17_full/NMR03_OsloAero_intBVOC_f09_f09_mg17_full_2012-01-01_2015-01-01_hour_locations.nc\n",
      "//proj/bolinc/users/x_sarbl/analysis/Output_data_BS-FDBCK/collocated_ds/NorESM/OsloAero_intBVOC_f09_f09_mg17_full/SIGMA03_OsloAero_intBVOC_f09_f09_mg17_full_2012-01-01_2015-01-01_hour_locations.nc\n",
      "//proj/bolinc/users/x_sarbl/analysis/Output_data_BS-FDBCK/collocated_ds/NorESM/OsloAero_intBVOC_f09_f09_mg17_full/NMR04_OsloAero_intBVOC_f09_f09_mg17_full_2012-01-01_2015-01-01_hour_locations.nc\n",
      "//proj/bolinc/users/x_sarbl/analysis/Output_data_BS-FDBCK/collocated_ds/NorESM/OsloAero_intBVOC_f09_f09_mg17_full/SIGMA04_OsloAero_intBVOC_f09_f09_mg17_full_2012-01-01_2015-01-01_hour_locations.nc\n",
      "//proj/bolinc/users/x_sarbl/analysis/Output_data_BS-FDBCK/collocated_ds/NorESM/OsloAero_intBVOC_f09_f09_mg17_full/NMR05_OsloAero_intBVOC_f09_f09_mg17_full_2012-01-01_2015-01-01_hour_locations.nc\n",
      "//proj/bolinc/users/x_sarbl/analysis/Output_data_BS-FDBCK/collocated_ds/NorESM/OsloAero_intBVOC_f09_f09_mg17_full/SIGMA05_OsloAero_intBVOC_f09_f09_mg17_full_2012-01-01_2015-01-01_hour_locations.nc\n",
      "//proj/bolinc/users/x_sarbl/analysis/Output_data_BS-FDBCK/collocated_ds/NorESM/OsloAero_intBVOC_f09_f09_mg17_full/NMR06_OsloAero_intBVOC_f09_f09_mg17_full_2012-01-01_2015-01-01_hour_locations.nc\n",
      "//proj/bolinc/users/x_sarbl/analysis/Output_data_BS-FDBCK/collocated_ds/NorESM/OsloAero_intBVOC_f09_f09_mg17_full/SIGMA06_OsloAero_intBVOC_f09_f09_mg17_full_2012-01-01_2015-01-01_hour_locations.nc\n",
      "//proj/bolinc/users/x_sarbl/analysis/Output_data_BS-FDBCK/collocated_ds/NorESM/OsloAero_intBVOC_f09_f09_mg17_full/NMR07_OsloAero_intBVOC_f09_f09_mg17_full_2012-01-01_2015-01-01_hour_locations.nc\n",
      "//proj/bolinc/users/x_sarbl/analysis/Output_data_BS-FDBCK/collocated_ds/NorESM/OsloAero_intBVOC_f09_f09_mg17_full/SIGMA07_OsloAero_intBVOC_f09_f09_mg17_full_2012-01-01_2015-01-01_hour_locations.nc\n",
      "//proj/bolinc/users/x_sarbl/analysis/Output_data_BS-FDBCK/collocated_ds/NorESM/OsloAero_intBVOC_f09_f09_mg17_full/NMR08_OsloAero_intBVOC_f09_f09_mg17_full_2012-01-01_2015-01-01_hour_locations.nc\n",
      "//proj/bolinc/users/x_sarbl/analysis/Output_data_BS-FDBCK/collocated_ds/NorESM/OsloAero_intBVOC_f09_f09_mg17_full/SIGMA08_OsloAero_intBVOC_f09_f09_mg17_full_2012-01-01_2015-01-01_hour_locations.nc\n",
      "//proj/bolinc/users/x_sarbl/analysis/Output_data_BS-FDBCK/collocated_ds/NorESM/OsloAero_intBVOC_f09_f09_mg17_full/NMR09_OsloAero_intBVOC_f09_f09_mg17_full_2012-01-01_2015-01-01_hour_locations.nc\n",
      "//proj/bolinc/users/x_sarbl/analysis/Output_data_BS-FDBCK/collocated_ds/NorESM/OsloAero_intBVOC_f09_f09_mg17_full/SIGMA09_OsloAero_intBVOC_f09_f09_mg17_full_2012-01-01_2015-01-01_hour_locations.nc\n",
      "//proj/bolinc/users/x_sarbl/analysis/Output_data_BS-FDBCK/collocated_ds/NorESM/OsloAero_intBVOC_f09_f09_mg17_full/NMR10_OsloAero_intBVOC_f09_f09_mg17_full_2012-01-01_2015-01-01_hour_locations.nc\n",
      "//proj/bolinc/users/x_sarbl/analysis/Output_data_BS-FDBCK/collocated_ds/NorESM/OsloAero_intBVOC_f09_f09_mg17_full/SIGMA10_OsloAero_intBVOC_f09_f09_mg17_full_2012-01-01_2015-01-01_hour_locations.nc\n",
      "//proj/bolinc/users/x_sarbl/analysis/Output_data_BS-FDBCK/collocated_ds/NorESM/OsloAero_intBVOC_f09_f09_mg17_full/NMR11_OsloAero_intBVOC_f09_f09_mg17_full_2012-01-01_2015-01-01_hour_locations.nc\n",
      "//proj/bolinc/users/x_sarbl/analysis/Output_data_BS-FDBCK/collocated_ds/NorESM/OsloAero_intBVOC_f09_f09_mg17_full/SIGMA11_OsloAero_intBVOC_f09_f09_mg17_full_2012-01-01_2015-01-01_hour_locations.nc\n",
      "//proj/bolinc/users/x_sarbl/analysis/Output_data_BS-FDBCK/collocated_ds/NorESM/OsloAero_intBVOC_f09_f09_mg17_full/NMR12_OsloAero_intBVOC_f09_f09_mg17_full_2012-01-01_2015-01-01_hour_locations.nc\n",
      "//proj/bolinc/users/x_sarbl/analysis/Output_data_BS-FDBCK/collocated_ds/NorESM/OsloAero_intBVOC_f09_f09_mg17_full/SIGMA12_OsloAero_intBVOC_f09_f09_mg17_full_2012-01-01_2015-01-01_hour_locations.nc\n",
      "//proj/bolinc/users/x_sarbl/analysis/Output_data_BS-FDBCK/collocated_ds/NorESM/OsloAero_intBVOC_f09_f09_mg17_full/NMR13_OsloAero_intBVOC_f09_f09_mg17_full_2012-01-01_2015-01-01_hour_locations.nc\n",
      "//proj/bolinc/users/x_sarbl/analysis/Output_data_BS-FDBCK/collocated_ds/NorESM/OsloAero_intBVOC_f09_f09_mg17_full/SIGMA13_OsloAero_intBVOC_f09_f09_mg17_full_2012-01-01_2015-01-01_hour_locations.nc\n",
      "//proj/bolinc/users/x_sarbl/analysis/Output_data_BS-FDBCK/collocated_ds/NorESM/OsloAero_intBVOC_f09_f09_mg17_full/NMR14_OsloAero_intBVOC_f09_f09_mg17_full_2012-01-01_2015-01-01_hour_locations.nc\n",
      "//proj/bolinc/users/x_sarbl/analysis/Output_data_BS-FDBCK/collocated_ds/NorESM/OsloAero_intBVOC_f09_f09_mg17_full/SIGMA14_OsloAero_intBVOC_f09_f09_mg17_full_2012-01-01_2015-01-01_hour_locations.nc\n",
      "//proj/bolinc/users/x_sarbl/analysis/Output_data_BS-FDBCK/collocated_ds/NorESM/OsloAero_intBVOC_f09_f09_mg17_full/N500_OsloAero_intBVOC_f09_f09_mg17_full_2012-01-01_2015-01-01_hour_locations.nc\n",
      "//proj/bolinc/users/x_sarbl/analysis/Output_data_BS-FDBCK/collocated_ds/NorESM/OsloAero_intBVOC_f09_f09_mg17_full/SOA_NA_OsloAero_intBVOC_f09_f09_mg17_full_2012-01-01_2015-01-01_hour_locations.nc\n",
      "//proj/bolinc/users/x_sarbl/analysis/Output_data_BS-FDBCK/collocated_ds/NorESM/OsloAero_intBVOC_f09_f09_mg17_full/SOA_A1_OsloAero_intBVOC_f09_f09_mg17_full_2012-01-01_2015-01-01_hour_locations.nc\n",
      "//proj/bolinc/users/x_sarbl/analysis/Output_data_BS-FDBCK/collocated_ds/NorESM/OsloAero_intBVOC_f09_f09_mg17_full/OM_NI_OsloAero_intBVOC_f09_f09_mg17_full_2012-01-01_2015-01-01_hour_locations.nc\n",
      "//proj/bolinc/users/x_sarbl/analysis/Output_data_BS-FDBCK/collocated_ds/NorESM/OsloAero_intBVOC_f09_f09_mg17_full/OM_AI_OsloAero_intBVOC_f09_f09_mg17_full_2012-01-01_2015-01-01_hour_locations.nc\n",
      "//proj/bolinc/users/x_sarbl/analysis/Output_data_BS-FDBCK/collocated_ds/NorESM/OsloAero_intBVOC_f09_f09_mg17_full/OM_AC_OsloAero_intBVOC_f09_f09_mg17_full_2012-01-01_2015-01-01_hour_locations.nc\n",
      "//proj/bolinc/users/x_sarbl/analysis/Output_data_BS-FDBCK/collocated_ds/NorESM/OsloAero_intBVOC_f09_f09_mg17_full/SO4_NA_OsloAero_intBVOC_f09_f09_mg17_full_2012-01-01_2015-01-01_hour_locations.nc\n",
      "//proj/bolinc/users/x_sarbl/analysis/Output_data_BS-FDBCK/collocated_ds/NorESM/OsloAero_intBVOC_f09_f09_mg17_full/SO4_A1_OsloAero_intBVOC_f09_f09_mg17_full_2012-01-01_2015-01-01_hour_locations.nc\n",
      "//proj/bolinc/users/x_sarbl/analysis/Output_data_BS-FDBCK/collocated_ds/NorESM/OsloAero_intBVOC_f09_f09_mg17_full/SO4_A2_OsloAero_intBVOC_f09_f09_mg17_full_2012-01-01_2015-01-01_hour_locations.nc\n",
      "//proj/bolinc/users/x_sarbl/analysis/Output_data_BS-FDBCK/collocated_ds/NorESM/OsloAero_intBVOC_f09_f09_mg17_full/SO4_AC_OsloAero_intBVOC_f09_f09_mg17_full_2012-01-01_2015-01-01_hour_locations.nc\n",
      "//proj/bolinc/users/x_sarbl/analysis/Output_data_BS-FDBCK/collocated_ds/NorESM/OsloAero_intBVOC_f09_f09_mg17_full/SO4_PR_OsloAero_intBVOC_f09_f09_mg17_full_2012-01-01_2015-01-01_hour_locations.nc\n",
      "//proj/bolinc/users/x_sarbl/analysis/Output_data_BS-FDBCK/collocated_ds/NorESM/OsloAero_intBVOC_f09_f09_mg17_full/BC_N_OsloAero_intBVOC_f09_f09_mg17_full_2012-01-01_2015-01-01_hour_locations.nc\n",
      "//proj/bolinc/users/x_sarbl/analysis/Output_data_BS-FDBCK/collocated_ds/NorESM/OsloAero_intBVOC_f09_f09_mg17_full/BC_AX_OsloAero_intBVOC_f09_f09_mg17_full_2012-01-01_2015-01-01_hour_locations.nc\n",
      "//proj/bolinc/users/x_sarbl/analysis/Output_data_BS-FDBCK/collocated_ds/NorESM/OsloAero_intBVOC_f09_f09_mg17_full/BC_NI_OsloAero_intBVOC_f09_f09_mg17_full_2012-01-01_2015-01-01_hour_locations.nc\n",
      "//proj/bolinc/users/x_sarbl/analysis/Output_data_BS-FDBCK/collocated_ds/NorESM/OsloAero_intBVOC_f09_f09_mg17_full/BC_A_OsloAero_intBVOC_f09_f09_mg17_full_2012-01-01_2015-01-01_hour_locations.nc\n",
      "//proj/bolinc/users/x_sarbl/analysis/Output_data_BS-FDBCK/collocated_ds/NorESM/OsloAero_intBVOC_f09_f09_mg17_full/BC_AI_OsloAero_intBVOC_f09_f09_mg17_full_2012-01-01_2015-01-01_hour_locations.nc\n",
      "//proj/bolinc/users/x_sarbl/analysis/Output_data_BS-FDBCK/collocated_ds/NorESM/OsloAero_intBVOC_f09_f09_mg17_full/BC_AC_OsloAero_intBVOC_f09_f09_mg17_full_2012-01-01_2015-01-01_hour_locations.nc\n",
      "//proj/bolinc/users/x_sarbl/analysis/Output_data_BS-FDBCK/collocated_ds/NorESM/OsloAero_intBVOC_f09_f09_mg17_full/SS_A1_OsloAero_intBVOC_f09_f09_mg17_full_2012-01-01_2015-01-01_hour_locations.nc\n",
      "//proj/bolinc/users/x_sarbl/analysis/Output_data_BS-FDBCK/collocated_ds/NorESM/OsloAero_intBVOC_f09_f09_mg17_full/SS_A2_OsloAero_intBVOC_f09_f09_mg17_full_2012-01-01_2015-01-01_hour_locations.nc\n",
      "//proj/bolinc/users/x_sarbl/analysis/Output_data_BS-FDBCK/collocated_ds/NorESM/OsloAero_intBVOC_f09_f09_mg17_full/SS_A3_OsloAero_intBVOC_f09_f09_mg17_full_2012-01-01_2015-01-01_hour_locations.nc\n",
      "//proj/bolinc/users/x_sarbl/analysis/Output_data_BS-FDBCK/collocated_ds/NorESM/OsloAero_intBVOC_f09_f09_mg17_full/DST_A2_OsloAero_intBVOC_f09_f09_mg17_full_2012-01-01_2015-01-01_hour_locations.nc\n",
      "//proj/bolinc/users/x_sarbl/analysis/Output_data_BS-FDBCK/collocated_ds/NorESM/OsloAero_intBVOC_f09_f09_mg17_full/DST_A3_OsloAero_intBVOC_f09_f09_mg17_full_2012-01-01_2015-01-01_hour_locations.nc\n",
      "2022-11-23 17:33:34,683 useful_scit  INFO     Opening: [//proj/bolinc/users/x_sarbl/analysis/Output_data_BS-FDBCK/collocated_ds/NorESM/OsloAero_intBVOC_f09_f09_mg17_full/N100_OsloAero_intBVOC_f09_f09_mg17_full_2012-01-01_2015-01-01_hour_locations.nc,//proj/bolinc/users/x_sarbl/analysis/Output_data_BS-FDBCK/collocated_ds/NorESM/OsloAero_intBVOC_f09_f09_mg17_full/DOD500_OsloAero_intBVOC_f09_f09_mg17_full_2012-01-01_2015-01-01_hour_locations.nc,//proj/bolinc/users/x_sarbl/analysis/Output_data_BS-FDBCK/collocated_ds/NorESM/OsloAero_intBVOC_f09_f09_mg17_full/DOD440_OsloAero_intBVOC_f09_f09_mg17_full_2012-01-01_2015-01-01_hour_locations.nc,//proj/bolinc/users/x_sarbl/analysis/Output_data_BS-FDBCK/collocated_ds/NorESM/OsloAero_intBVOC_f09_f09_mg17_full/ACTREL_OsloAero_intBVOC_f09_f09_mg17_full_2012-01-01_2015-01-01_hour_locations.nc,//proj/bolinc/users/x_sarbl/analysis/Output_data_BS-FDBCK/collocated_ds/NorESM/OsloAero_intBVOC_f09_f09_mg17_full/H2SO4_OsloAero_intBVOC_f09_f09_mg17_full_2012-01-01_2015-01-01_hour_locations.nc,//proj/bolinc/users/x_sarbl/analysis/Output_data_BS-FDBCK/collocated_ds/NorESM/OsloAero_intBVOC_f09_f09_mg17_full/SOA_LV_OsloAero_intBVOC_f09_f09_mg17_full_2012-01-01_2015-01-01_hour_locations.nc,//proj/bolinc/users/x_sarbl/analysis/Output_data_BS-FDBCK/collocated_ds/NorESM/OsloAero_intBVOC_f09_f09_mg17_full/COAGNUCL_OsloAero_intBVOC_f09_f09_mg17_full_2012-01-01_2015-01-01_hour_locations.nc,//proj/bolinc/users/x_sarbl/analysis/Output_data_BS-FDBCK/collocated_ds/NorESM/OsloAero_intBVOC_f09_f09_mg17_full/FORMRATE_OsloAero_intBVOC_f09_f09_mg17_full_2012-01-01_2015-01-01_hour_locations.nc,//proj/bolinc/users/x_sarbl/analysis/Output_data_BS-FDBCK/collocated_ds/NorESM/OsloAero_intBVOC_f09_f09_mg17_full/T_OsloAero_intBVOC_f09_f09_mg17_full_2012-01-01_2015-01-01_hour_locations.nc,//proj/bolinc/users/x_sarbl/analysis/Output_data_BS-FDBCK/collocated_ds/NorESM/OsloAero_intBVOC_f09_f09_mg17_full/SOA_SV_OsloAero_intBVOC_f09_f09_mg17_full_2012-01-01_2015-01-01_hour_locations.nc,//proj/bolinc/users/x_sarbl/analysis/Output_data_BS-FDBCK/collocated_ds/NorESM/OsloAero_intBVOC_f09_f09_mg17_full/NCONC01_OsloAero_intBVOC_f09_f09_mg17_full_2012-01-01_2015-01-01_hour_locations.nc,//proj/bolinc/users/x_sarbl/analysis/Output_data_BS-FDBCK/collocated_ds/NorESM/OsloAero_intBVOC_f09_f09_mg17_full/N50_OsloAero_intBVOC_f09_f09_mg17_full_2012-01-01_2015-01-01_hour_locations.nc,//proj/bolinc/users/x_sarbl/analysis/Output_data_BS-FDBCK/collocated_ds/NorESM/OsloAero_intBVOC_f09_f09_mg17_full/N150_OsloAero_intBVOC_f09_f09_mg17_full_2012-01-01_2015-01-01_hour_locations.nc,//proj/bolinc/users/x_sarbl/analysis/Output_data_BS-FDBCK/collocated_ds/NorESM/OsloAero_intBVOC_f09_f09_mg17_full/N200_OsloAero_intBVOC_f09_f09_mg17_full_2012-01-01_2015-01-01_hour_locations.nc,//proj/bolinc/users/x_sarbl/analysis/Output_data_BS-FDBCK/collocated_ds/NorESM/OsloAero_intBVOC_f09_f09_mg17_full/isoprene_OsloAero_intBVOC_f09_f09_mg17_full_2012-01-01_2015-01-01_hour_locations.nc,//proj/bolinc/users/x_sarbl/analysis/Output_data_BS-FDBCK/collocated_ds/NorESM/OsloAero_intBVOC_f09_f09_mg17_full/SFisoprene_OsloAero_intBVOC_f09_f09_mg17_full_2012-01-01_2015-01-01_hour_locations.nc,//proj/bolinc/users/x_sarbl/analysis/Output_data_BS-FDBCK/collocated_ds/NorESM/OsloAero_intBVOC_f09_f09_mg17_full/monoterp_OsloAero_intBVOC_f09_f09_mg17_full_2012-01-01_2015-01-01_hour_locations.nc,//proj/bolinc/users/x_sarbl/analysis/Output_data_BS-FDBCK/collocated_ds/NorESM/OsloAero_intBVOC_f09_f09_mg17_full/SFmonoterp_OsloAero_intBVOC_f09_f09_mg17_full_2012-01-01_2015-01-01_hour_locations.nc,//proj/bolinc/users/x_sarbl/analysis/Output_data_BS-FDBCK/collocated_ds/NorESM/OsloAero_intBVOC_f09_f09_mg17_full/PS_OsloAero_intBVOC_f09_f09_mg17_full_2012-01-01_2015-01-01_hour_locations.nc,//proj/bolinc/users/x_sarbl/analysis/Output_data_BS-FDBCK/collocated_ds/NorESM/OsloAero_intBVOC_f09_f09_mg17_full/NNAT_0_OsloAero_intBVOC_f09_f09_mg17_full_2012-01-01_2015-01-01_hour_locations.nc,//proj/bolinc/users/x_sarbl/analysis/Output_data_BS-FDBCK/collocated_ds/NorESM/OsloAero_intBVOC_f09_f09_mg17_full/NCONC02_OsloAero_intBVOC_f09_f09_mg17_full_2012-01-01_2015-01-01_hour_locations.nc,//proj/bolinc/users/x_sarbl/analysis/Output_data_BS-FDBCK/collocated_ds/NorESM/OsloAero_intBVOC_f09_f09_mg17_full/NCONC03_OsloAero_intBVOC_f09_f09_mg17_full_2012-01-01_2015-01-01_hour_locations.nc,//proj/bolinc/users/x_sarbl/analysis/Output_data_BS-FDBCK/collocated_ds/NorESM/OsloAero_intBVOC_f09_f09_mg17_full/NCONC04_OsloAero_intBVOC_f09_f09_mg17_full_2012-01-01_2015-01-01_hour_locations.nc,//proj/bolinc/users/x_sarbl/analysis/Output_data_BS-FDBCK/collocated_ds/NorESM/OsloAero_intBVOC_f09_f09_mg17_full/NCONC05_OsloAero_intBVOC_f09_f09_mg17_full_2012-01-01_2015-01-01_hour_locations.nc,//proj/bolinc/users/x_sarbl/analysis/Output_data_BS-FDBCK/collocated_ds/NorESM/OsloAero_intBVOC_f09_f09_mg17_full/NCONC06_OsloAero_intBVOC_f09_f09_mg17_full_2012-01-01_2015-01-01_hour_locations.nc,//proj/bolinc/users/x_sarbl/analysis/Output_data_BS-FDBCK/collocated_ds/NorESM/OsloAero_intBVOC_f09_f09_mg17_full/NCONC07_OsloAero_intBVOC_f09_f09_mg17_full_2012-01-01_2015-01-01_hour_locations.nc,//proj/bolinc/users/x_sarbl/analysis/Output_data_BS-FDBCK/collocated_ds/NorESM/OsloAero_intBVOC_f09_f09_mg17_full/NCONC08_OsloAero_intBVOC_f09_f09_mg17_full_2012-01-01_2015-01-01_hour_locations.nc,//proj/bolinc/users/x_sarbl/analysis/Output_data_BS-FDBCK/collocated_ds/NorESM/OsloAero_intBVOC_f09_f09_mg17_full/NCONC09_OsloAero_intBVOC_f09_f09_mg17_full_2012-01-01_2015-01-01_hour_locations.nc,//proj/bolinc/users/x_sarbl/analysis/Output_data_BS-FDBCK/collocated_ds/NorESM/OsloAero_intBVOC_f09_f09_mg17_full/NCONC10_OsloAero_intBVOC_f09_f09_mg17_full_2012-01-01_2015-01-01_hour_locations.nc,//proj/bolinc/users/x_sarbl/analysis/Output_data_BS-FDBCK/collocated_ds/NorESM/OsloAero_intBVOC_f09_f09_mg17_full/NCONC11_OsloAero_intBVOC_f09_f09_mg17_full_2012-01-01_2015-01-01_hour_locations.nc,//proj/bolinc/users/x_sarbl/analysis/Output_data_BS-FDBCK/collocated_ds/NorESM/OsloAero_intBVOC_f09_f09_mg17_full/NCONC12_OsloAero_intBVOC_f09_f09_mg17_full_2012-01-01_2015-01-01_hour_locations.nc,//proj/bolinc/users/x_sarbl/analysis/Output_data_BS-FDBCK/collocated_ds/NorESM/OsloAero_intBVOC_f09_f09_mg17_full/NCONC13_OsloAero_intBVOC_f09_f09_mg17_full_2012-01-01_2015-01-01_hour_locations.nc,//proj/bolinc/users/x_sarbl/analysis/Output_data_BS-FDBCK/collocated_ds/NorESM/OsloAero_intBVOC_f09_f09_mg17_full/NCONC14_OsloAero_intBVOC_f09_f09_mg17_full_2012-01-01_2015-01-01_hour_locations.nc,//proj/bolinc/users/x_sarbl/analysis/Output_data_BS-FDBCK/collocated_ds/NorESM/OsloAero_intBVOC_f09_f09_mg17_full/NMR01_OsloAero_intBVOC_f09_f09_mg17_full_2012-01-01_2015-01-01_hour_locations.nc,//proj/bolinc/users/x_sarbl/analysis/Output_data_BS-FDBCK/collocated_ds/NorESM/OsloAero_intBVOC_f09_f09_mg17_full/SIGMA01_OsloAero_intBVOC_f09_f09_mg17_full_2012-01-01_2015-01-01_hour_locations.nc,//proj/bolinc/users/x_sarbl/analysis/Output_data_BS-FDBCK/collocated_ds/NorESM/OsloAero_intBVOC_f09_f09_mg17_full/NMR02_OsloAero_intBVOC_f09_f09_mg17_full_2012-01-01_2015-01-01_hour_locations.nc,//proj/bolinc/users/x_sarbl/analysis/Output_data_BS-FDBCK/collocated_ds/NorESM/OsloAero_intBVOC_f09_f09_mg17_full/SIGMA02_OsloAero_intBVOC_f09_f09_mg17_full_2012-01-01_2015-01-01_hour_locations.nc,//proj/bolinc/users/x_sarbl/analysis/Output_data_BS-FDBCK/collocated_ds/NorESM/OsloAero_intBVOC_f09_f09_mg17_full/NMR03_OsloAero_intBVOC_f09_f09_mg17_full_2012-01-01_2015-01-01_hour_locations.nc,//proj/bolinc/users/x_sarbl/analysis/Output_data_BS-FDBCK/collocated_ds/NorESM/OsloAero_intBVOC_f09_f09_mg17_full/SIGMA03_OsloAero_intBVOC_f09_f09_mg17_full_2012-01-01_2015-01-01_hour_locations.nc,//proj/bolinc/users/x_sarbl/analysis/Output_data_BS-FDBCK/collocated_ds/NorESM/OsloAero_intBVOC_f09_f09_mg17_full/NMR04_OsloAero_intBVOC_f09_f09_mg17_full_2012-01-01_2015-01-01_hour_locations.nc,//proj/bolinc/users/x_sarbl/analysis/Output_data_BS-FDBCK/collocated_ds/NorESM/OsloAero_intBVOC_f09_f09_mg17_full/SIGMA04_OsloAero_intBVOC_f09_f09_mg17_full_2012-01-01_2015-01-01_hour_locations.nc,//proj/bolinc/users/x_sarbl/analysis/Output_data_BS-FDBCK/collocated_ds/NorESM/OsloAero_intBVOC_f09_f09_mg17_full/NMR05_OsloAero_intBVOC_f09_f09_mg17_full_2012-01-01_2015-01-01_hour_locations.nc,//proj/bolinc/users/x_sarbl/analysis/Output_data_BS-FDBCK/collocated_ds/NorESM/OsloAero_intBVOC_f09_f09_mg17_full/SIGMA05_OsloAero_intBVOC_f09_f09_mg17_full_2012-01-01_2015-01-01_hour_locations.nc,//proj/bolinc/users/x_sarbl/analysis/Output_data_BS-FDBCK/collocated_ds/NorESM/OsloAero_intBVOC_f09_f09_mg17_full/NMR06_OsloAero_intBVOC_f09_f09_mg17_full_2012-01-01_2015-01-01_hour_locations.nc,//proj/bolinc/users/x_sarbl/analysis/Output_data_BS-FDBCK/collocated_ds/NorESM/OsloAero_intBVOC_f09_f09_mg17_full/SIGMA06_OsloAero_intBVOC_f09_f09_mg17_full_2012-01-01_2015-01-01_hour_locations.nc,//proj/bolinc/users/x_sarbl/analysis/Output_data_BS-FDBCK/collocated_ds/NorESM/OsloAero_intBVOC_f09_f09_mg17_full/NMR07_OsloAero_intBVOC_f09_f09_mg17_full_2012-01-01_2015-01-01_hour_locations.nc,//proj/bolinc/users/x_sarbl/analysis/Output_data_BS-FDBCK/collocated_ds/NorESM/OsloAero_intBVOC_f09_f09_mg17_full/SIGMA07_OsloAero_intBVOC_f09_f09_mg17_full_2012-01-01_2015-01-01_hour_locations.nc,//proj/bolinc/users/x_sarbl/analysis/Output_data_BS-FDBCK/collocated_ds/NorESM/OsloAero_intBVOC_f09_f09_mg17_full/NMR08_OsloAero_intBVOC_f09_f09_mg17_full_2012-01-01_2015-01-01_hour_locations.nc,//proj/bolinc/users/x_sarbl/analysis/Output_data_BS-FDBCK/collocated_ds/NorESM/OsloAero_intBVOC_f09_f09_mg17_full/SIGMA08_OsloAero_intBVOC_f09_f09_mg17_full_2012-01-01_2015-01-01_hour_locations.nc,//proj/bolinc/users/x_sarbl/analysis/Output_data_BS-FDBCK/collocated_ds/NorESM/OsloAero_intBVOC_f09_f09_mg17_full/NMR09_OsloAero_intBVOC_f09_f09_mg17_full_2012-01-01_2015-01-01_hour_locations.nc,//proj/bolinc/users/x_sarbl/analysis/Output_data_BS-FDBCK/collocated_ds/NorESM/OsloAero_intBVOC_f09_f09_mg17_full/SIGMA09_OsloAero_intBVOC_f09_f09_mg17_full_2012-01-01_2015-01-01_hour_locations.nc,//proj/bolinc/users/x_sarbl/analysis/Output_data_BS-FDBCK/collocated_ds/NorESM/OsloAero_intBVOC_f09_f09_mg17_full/NMR10_OsloAero_intBVOC_f09_f09_mg17_full_2012-01-01_2015-01-01_hour_locations.nc,//proj/bolinc/users/x_sarbl/analysis/Output_data_BS-FDBCK/collocated_ds/NorESM/OsloAero_intBVOC_f09_f09_mg17_full/SIGMA10_OsloAero_intBVOC_f09_f09_mg17_full_2012-01-01_2015-01-01_hour_locations.nc,//proj/bolinc/users/x_sarbl/analysis/Output_data_BS-FDBCK/collocated_ds/NorESM/OsloAero_intBVOC_f09_f09_mg17_full/NMR11_OsloAero_intBVOC_f09_f09_mg17_full_2012-01-01_2015-01-01_hour_locations.nc,//proj/bolinc/users/x_sarbl/analysis/Output_data_BS-FDBCK/collocated_ds/NorESM/OsloAero_intBVOC_f09_f09_mg17_full/SIGMA11_OsloAero_intBVOC_f09_f09_mg17_full_2012-01-01_2015-01-01_hour_locations.nc,//proj/bolinc/users/x_sarbl/analysis/Output_data_BS-FDBCK/collocated_ds/NorESM/OsloAero_intBVOC_f09_f09_mg17_full/NMR12_OsloAero_intBVOC_f09_f09_mg17_full_2012-01-01_2015-01-01_hour_locations.nc,//proj/bolinc/users/x_sarbl/analysis/Output_data_BS-FDBCK/collocated_ds/NorESM/OsloAero_intBVOC_f09_f09_mg17_full/SIGMA12_OsloAero_intBVOC_f09_f09_mg17_full_2012-01-01_2015-01-01_hour_locations.nc,//proj/bolinc/users/x_sarbl/analysis/Output_data_BS-FDBCK/collocated_ds/NorESM/OsloAero_intBVOC_f09_f09_mg17_full/NMR13_OsloAero_intBVOC_f09_f09_mg17_full_2012-01-01_2015-01-01_hour_locations.nc,//proj/bolinc/users/x_sarbl/analysis/Output_data_BS-FDBCK/collocated_ds/NorESM/OsloAero_intBVOC_f09_f09_mg17_full/SIGMA13_OsloAero_intBVOC_f09_f09_mg17_full_2012-01-01_2015-01-01_hour_locations.nc,//proj/bolinc/users/x_sarbl/analysis/Output_data_BS-FDBCK/collocated_ds/NorESM/OsloAero_intBVOC_f09_f09_mg17_full/NMR14_OsloAero_intBVOC_f09_f09_mg17_full_2012-01-01_2015-01-01_hour_locations.nc,//proj/bolinc/users/x_sarbl/analysis/Output_data_BS-FDBCK/collocated_ds/NorESM/OsloAero_intBVOC_f09_f09_mg17_full/SIGMA14_OsloAero_intBVOC_f09_f09_mg17_full_2012-01-01_2015-01-01_hour_locations.nc,//proj/bolinc/users/x_sarbl/analysis/Output_data_BS-FDBCK/collocated_ds/NorESM/OsloAero_intBVOC_f09_f09_mg17_full/N500_OsloAero_intBVOC_f09_f09_mg17_full_2012-01-01_2015-01-01_hour_locations.nc,//proj/bolinc/users/x_sarbl/analysis/Output_data_BS-FDBCK/collocated_ds/NorESM/OsloAero_intBVOC_f09_f09_mg17_full/SOA_NA_OsloAero_intBVOC_f09_f09_mg17_full_2012-01-01_2015-01-01_hour_locations.nc,//proj/bolinc/users/x_sarbl/analysis/Output_data_BS-FDBCK/collocated_ds/NorESM/OsloAero_intBVOC_f09_f09_mg17_full/SOA_A1_OsloAero_intBVOC_f09_f09_mg17_full_2012-01-01_2015-01-01_hour_locations.nc,//proj/bolinc/users/x_sarbl/analysis/Output_data_BS-FDBCK/collocated_ds/NorESM/OsloAero_intBVOC_f09_f09_mg17_full/OM_NI_OsloAero_intBVOC_f09_f09_mg17_full_2012-01-01_2015-01-01_hour_locations.nc,//proj/bolinc/users/x_sarbl/analysis/Output_data_BS-FDBCK/collocated_ds/NorESM/OsloAero_intBVOC_f09_f09_mg17_full/OM_AI_OsloAero_intBVOC_f09_f09_mg17_full_2012-01-01_2015-01-01_hour_locations.nc,//proj/bolinc/users/x_sarbl/analysis/Output_data_BS-FDBCK/collocated_ds/NorESM/OsloAero_intBVOC_f09_f09_mg17_full/OM_AC_OsloAero_intBVOC_f09_f09_mg17_full_2012-01-01_2015-01-01_hour_locations.nc,//proj/bolinc/users/x_sarbl/analysis/Output_data_BS-FDBCK/collocated_ds/NorESM/OsloAero_intBVOC_f09_f09_mg17_full/SO4_NA_OsloAero_intBVOC_f09_f09_mg17_full_2012-01-01_2015-01-01_hour_locations.nc,//proj/bolinc/users/x_sarbl/analysis/Output_data_BS-FDBCK/collocated_ds/NorESM/OsloAero_intBVOC_f09_f09_mg17_full/SO4_A1_OsloAero_intBVOC_f09_f09_mg17_full_2012-01-01_2015-01-01_hour_locations.nc,//proj/bolinc/users/x_sarbl/analysis/Output_data_BS-FDBCK/collocated_ds/NorESM/OsloAero_intBVOC_f09_f09_mg17_full/SO4_A2_OsloAero_intBVOC_f09_f09_mg17_full_2012-01-01_2015-01-01_hour_locations.nc,//proj/bolinc/users/x_sarbl/analysis/Output_data_BS-FDBCK/collocated_ds/NorESM/OsloAero_intBVOC_f09_f09_mg17_full/SO4_AC_OsloAero_intBVOC_f09_f09_mg17_full_2012-01-01_2015-01-01_hour_locations.nc,//proj/bolinc/users/x_sarbl/analysis/Output_data_BS-FDBCK/collocated_ds/NorESM/OsloAero_intBVOC_f09_f09_mg17_full/SO4_PR_OsloAero_intBVOC_f09_f09_mg17_full_2012-01-01_2015-01-01_hour_locations.nc,//proj/bolinc/users/x_sarbl/analysis/Output_data_BS-FDBCK/collocated_ds/NorESM/OsloAero_intBVOC_f09_f09_mg17_full/BC_N_OsloAero_intBVOC_f09_f09_mg17_full_2012-01-01_2015-01-01_hour_locations.nc,//proj/bolinc/users/x_sarbl/analysis/Output_data_BS-FDBCK/collocated_ds/NorESM/OsloAero_intBVOC_f09_f09_mg17_full/BC_AX_OsloAero_intBVOC_f09_f09_mg17_full_2012-01-01_2015-01-01_hour_locations.nc,//proj/bolinc/users/x_sarbl/analysis/Output_data_BS-FDBCK/collocated_ds/NorESM/OsloAero_intBVOC_f09_f09_mg17_full/BC_NI_OsloAero_intBVOC_f09_f09_mg17_full_2012-01-01_2015-01-01_hour_locations.nc,//proj/bolinc/users/x_sarbl/analysis/Output_data_BS-FDBCK/collocated_ds/NorESM/OsloAero_intBVOC_f09_f09_mg17_full/BC_A_OsloAero_intBVOC_f09_f09_mg17_full_2012-01-01_2015-01-01_hour_locations.nc,//proj/bolinc/users/x_sarbl/analysis/Output_data_BS-FDBCK/collocated_ds/NorESM/OsloAero_intBVOC_f09_f09_mg17_full/BC_AI_OsloAero_intBVOC_f09_f09_mg17_full_2012-01-01_2015-01-01_hour_locations.nc,//proj/bolinc/users/x_sarbl/analysis/Output_data_BS-FDBCK/collocated_ds/NorESM/OsloAero_intBVOC_f09_f09_mg17_full/BC_AC_OsloAero_intBVOC_f09_f09_mg17_full_2012-01-01_2015-01-01_hour_locations.nc,//proj/bolinc/users/x_sarbl/analysis/Output_data_BS-FDBCK/collocated_ds/NorESM/OsloAero_intBVOC_f09_f09_mg17_full/SS_A1_OsloAero_intBVOC_f09_f09_mg17_full_2012-01-01_2015-01-01_hour_locations.nc,//proj/bolinc/users/x_sarbl/analysis/Output_data_BS-FDBCK/collocated_ds/NorESM/OsloAero_intBVOC_f09_f09_mg17_full/SS_A2_OsloAero_intBVOC_f09_f09_mg17_full_2012-01-01_2015-01-01_hour_locations.nc,//proj/bolinc/users/x_sarbl/analysis/Output_data_BS-FDBCK/collocated_ds/NorESM/OsloAero_intBVOC_f09_f09_mg17_full/SS_A3_OsloAero_intBVOC_f09_f09_mg17_full_2012-01-01_2015-01-01_hour_locations.nc,//proj/bolinc/users/x_sarbl/analysis/Output_data_BS-FDBCK/collocated_ds/NorESM/OsloAero_intBVOC_f09_f09_mg17_full/DST_A2_OsloAero_intBVOC_f09_f09_mg17_full_2012-01-01_2015-01-01_hour_locations.nc,//proj/bolinc/users/x_sarbl/analysis/Output_data_BS-FDBCK/collocated_ds/NorESM/OsloAero_intBVOC_f09_f09_mg17_full/DST_A3_OsloAero_intBVOC_f09_f09_mg17_full_2012-01-01_2015-01-01_hour_locations.nc]\n",
      "['//proj/bolinc/users/x_sarbl/analysis/Output_data_BS-FDBCK/collocated_ds/NorESM/OsloAero_intBVOC_f09_f09_mg17_full/N100_OsloAero_intBVOC_f09_f09_mg17_full_2012-01-01_2015-01-01_hour_locations.nc', '//proj/bolinc/users/x_sarbl/analysis/Output_data_BS-FDBCK/collocated_ds/NorESM/OsloAero_intBVOC_f09_f09_mg17_full/DOD500_OsloAero_intBVOC_f09_f09_mg17_full_2012-01-01_2015-01-01_hour_locations.nc', '//proj/bolinc/users/x_sarbl/analysis/Output_data_BS-FDBCK/collocated_ds/NorESM/OsloAero_intBVOC_f09_f09_mg17_full/DOD440_OsloAero_intBVOC_f09_f09_mg17_full_2012-01-01_2015-01-01_hour_locations.nc', '//proj/bolinc/users/x_sarbl/analysis/Output_data_BS-FDBCK/collocated_ds/NorESM/OsloAero_intBVOC_f09_f09_mg17_full/ACTREL_OsloAero_intBVOC_f09_f09_mg17_full_2012-01-01_2015-01-01_hour_locations.nc', '//proj/bolinc/users/x_sarbl/analysis/Output_data_BS-FDBCK/collocated_ds/NorESM/OsloAero_intBVOC_f09_f09_mg17_full/H2SO4_OsloAero_intBVOC_f09_f09_mg17_full_2012-01-01_2015-01-01_hour_locations.nc', '//proj/bolinc/users/x_sarbl/analysis/Output_data_BS-FDBCK/collocated_ds/NorESM/OsloAero_intBVOC_f09_f09_mg17_full/SOA_LV_OsloAero_intBVOC_f09_f09_mg17_full_2012-01-01_2015-01-01_hour_locations.nc', '//proj/bolinc/users/x_sarbl/analysis/Output_data_BS-FDBCK/collocated_ds/NorESM/OsloAero_intBVOC_f09_f09_mg17_full/COAGNUCL_OsloAero_intBVOC_f09_f09_mg17_full_2012-01-01_2015-01-01_hour_locations.nc', '//proj/bolinc/users/x_sarbl/analysis/Output_data_BS-FDBCK/collocated_ds/NorESM/OsloAero_intBVOC_f09_f09_mg17_full/FORMRATE_OsloAero_intBVOC_f09_f09_mg17_full_2012-01-01_2015-01-01_hour_locations.nc', '//proj/bolinc/users/x_sarbl/analysis/Output_data_BS-FDBCK/collocated_ds/NorESM/OsloAero_intBVOC_f09_f09_mg17_full/T_OsloAero_intBVOC_f09_f09_mg17_full_2012-01-01_2015-01-01_hour_locations.nc', '//proj/bolinc/users/x_sarbl/analysis/Output_data_BS-FDBCK/collocated_ds/NorESM/OsloAero_intBVOC_f09_f09_mg17_full/SOA_SV_OsloAero_intBVOC_f09_f09_mg17_full_2012-01-01_2015-01-01_hour_locations.nc', '//proj/bolinc/users/x_sarbl/analysis/Output_data_BS-FDBCK/collocated_ds/NorESM/OsloAero_intBVOC_f09_f09_mg17_full/NCONC01_OsloAero_intBVOC_f09_f09_mg17_full_2012-01-01_2015-01-01_hour_locations.nc', '//proj/bolinc/users/x_sarbl/analysis/Output_data_BS-FDBCK/collocated_ds/NorESM/OsloAero_intBVOC_f09_f09_mg17_full/N50_OsloAero_intBVOC_f09_f09_mg17_full_2012-01-01_2015-01-01_hour_locations.nc', '//proj/bolinc/users/x_sarbl/analysis/Output_data_BS-FDBCK/collocated_ds/NorESM/OsloAero_intBVOC_f09_f09_mg17_full/N150_OsloAero_intBVOC_f09_f09_mg17_full_2012-01-01_2015-01-01_hour_locations.nc', '//proj/bolinc/users/x_sarbl/analysis/Output_data_BS-FDBCK/collocated_ds/NorESM/OsloAero_intBVOC_f09_f09_mg17_full/N200_OsloAero_intBVOC_f09_f09_mg17_full_2012-01-01_2015-01-01_hour_locations.nc', '//proj/bolinc/users/x_sarbl/analysis/Output_data_BS-FDBCK/collocated_ds/NorESM/OsloAero_intBVOC_f09_f09_mg17_full/isoprene_OsloAero_intBVOC_f09_f09_mg17_full_2012-01-01_2015-01-01_hour_locations.nc', '//proj/bolinc/users/x_sarbl/analysis/Output_data_BS-FDBCK/collocated_ds/NorESM/OsloAero_intBVOC_f09_f09_mg17_full/SFisoprene_OsloAero_intBVOC_f09_f09_mg17_full_2012-01-01_2015-01-01_hour_locations.nc', '//proj/bolinc/users/x_sarbl/analysis/Output_data_BS-FDBCK/collocated_ds/NorESM/OsloAero_intBVOC_f09_f09_mg17_full/monoterp_OsloAero_intBVOC_f09_f09_mg17_full_2012-01-01_2015-01-01_hour_locations.nc', '//proj/bolinc/users/x_sarbl/analysis/Output_data_BS-FDBCK/collocated_ds/NorESM/OsloAero_intBVOC_f09_f09_mg17_full/SFmonoterp_OsloAero_intBVOC_f09_f09_mg17_full_2012-01-01_2015-01-01_hour_locations.nc', '//proj/bolinc/users/x_sarbl/analysis/Output_data_BS-FDBCK/collocated_ds/NorESM/OsloAero_intBVOC_f09_f09_mg17_full/PS_OsloAero_intBVOC_f09_f09_mg17_full_2012-01-01_2015-01-01_hour_locations.nc', '//proj/bolinc/users/x_sarbl/analysis/Output_data_BS-FDBCK/collocated_ds/NorESM/OsloAero_intBVOC_f09_f09_mg17_full/NNAT_0_OsloAero_intBVOC_f09_f09_mg17_full_2012-01-01_2015-01-01_hour_locations.nc', '//proj/bolinc/users/x_sarbl/analysis/Output_data_BS-FDBCK/collocated_ds/NorESM/OsloAero_intBVOC_f09_f09_mg17_full/NCONC02_OsloAero_intBVOC_f09_f09_mg17_full_2012-01-01_2015-01-01_hour_locations.nc', '//proj/bolinc/users/x_sarbl/analysis/Output_data_BS-FDBCK/collocated_ds/NorESM/OsloAero_intBVOC_f09_f09_mg17_full/NCONC03_OsloAero_intBVOC_f09_f09_mg17_full_2012-01-01_2015-01-01_hour_locations.nc', '//proj/bolinc/users/x_sarbl/analysis/Output_data_BS-FDBCK/collocated_ds/NorESM/OsloAero_intBVOC_f09_f09_mg17_full/NCONC04_OsloAero_intBVOC_f09_f09_mg17_full_2012-01-01_2015-01-01_hour_locations.nc', '//proj/bolinc/users/x_sarbl/analysis/Output_data_BS-FDBCK/collocated_ds/NorESM/OsloAero_intBVOC_f09_f09_mg17_full/NCONC05_OsloAero_intBVOC_f09_f09_mg17_full_2012-01-01_2015-01-01_hour_locations.nc', '//proj/bolinc/users/x_sarbl/analysis/Output_data_BS-FDBCK/collocated_ds/NorESM/OsloAero_intBVOC_f09_f09_mg17_full/NCONC06_OsloAero_intBVOC_f09_f09_mg17_full_2012-01-01_2015-01-01_hour_locations.nc', '//proj/bolinc/users/x_sarbl/analysis/Output_data_BS-FDBCK/collocated_ds/NorESM/OsloAero_intBVOC_f09_f09_mg17_full/NCONC07_OsloAero_intBVOC_f09_f09_mg17_full_2012-01-01_2015-01-01_hour_locations.nc', '//proj/bolinc/users/x_sarbl/analysis/Output_data_BS-FDBCK/collocated_ds/NorESM/OsloAero_intBVOC_f09_f09_mg17_full/NCONC08_OsloAero_intBVOC_f09_f09_mg17_full_2012-01-01_2015-01-01_hour_locations.nc', '//proj/bolinc/users/x_sarbl/analysis/Output_data_BS-FDBCK/collocated_ds/NorESM/OsloAero_intBVOC_f09_f09_mg17_full/NCONC09_OsloAero_intBVOC_f09_f09_mg17_full_2012-01-01_2015-01-01_hour_locations.nc', '//proj/bolinc/users/x_sarbl/analysis/Output_data_BS-FDBCK/collocated_ds/NorESM/OsloAero_intBVOC_f09_f09_mg17_full/NCONC10_OsloAero_intBVOC_f09_f09_mg17_full_2012-01-01_2015-01-01_hour_locations.nc', '//proj/bolinc/users/x_sarbl/analysis/Output_data_BS-FDBCK/collocated_ds/NorESM/OsloAero_intBVOC_f09_f09_mg17_full/NCONC11_OsloAero_intBVOC_f09_f09_mg17_full_2012-01-01_2015-01-01_hour_locations.nc', '//proj/bolinc/users/x_sarbl/analysis/Output_data_BS-FDBCK/collocated_ds/NorESM/OsloAero_intBVOC_f09_f09_mg17_full/NCONC12_OsloAero_intBVOC_f09_f09_mg17_full_2012-01-01_2015-01-01_hour_locations.nc', '//proj/bolinc/users/x_sarbl/analysis/Output_data_BS-FDBCK/collocated_ds/NorESM/OsloAero_intBVOC_f09_f09_mg17_full/NCONC13_OsloAero_intBVOC_f09_f09_mg17_full_2012-01-01_2015-01-01_hour_locations.nc', '//proj/bolinc/users/x_sarbl/analysis/Output_data_BS-FDBCK/collocated_ds/NorESM/OsloAero_intBVOC_f09_f09_mg17_full/NCONC14_OsloAero_intBVOC_f09_f09_mg17_full_2012-01-01_2015-01-01_hour_locations.nc', '//proj/bolinc/users/x_sarbl/analysis/Output_data_BS-FDBCK/collocated_ds/NorESM/OsloAero_intBVOC_f09_f09_mg17_full/NMR01_OsloAero_intBVOC_f09_f09_mg17_full_2012-01-01_2015-01-01_hour_locations.nc', '//proj/bolinc/users/x_sarbl/analysis/Output_data_BS-FDBCK/collocated_ds/NorESM/OsloAero_intBVOC_f09_f09_mg17_full/SIGMA01_OsloAero_intBVOC_f09_f09_mg17_full_2012-01-01_2015-01-01_hour_locations.nc', '//proj/bolinc/users/x_sarbl/analysis/Output_data_BS-FDBCK/collocated_ds/NorESM/OsloAero_intBVOC_f09_f09_mg17_full/NMR02_OsloAero_intBVOC_f09_f09_mg17_full_2012-01-01_2015-01-01_hour_locations.nc', '//proj/bolinc/users/x_sarbl/analysis/Output_data_BS-FDBCK/collocated_ds/NorESM/OsloAero_intBVOC_f09_f09_mg17_full/SIGMA02_OsloAero_intBVOC_f09_f09_mg17_full_2012-01-01_2015-01-01_hour_locations.nc', '//proj/bolinc/users/x_sarbl/analysis/Output_data_BS-FDBCK/collocated_ds/NorESM/OsloAero_intBVOC_f09_f09_mg17_full/NMR03_OsloAero_intBVOC_f09_f09_mg17_full_2012-01-01_2015-01-01_hour_locations.nc', '//proj/bolinc/users/x_sarbl/analysis/Output_data_BS-FDBCK/collocated_ds/NorESM/OsloAero_intBVOC_f09_f09_mg17_full/SIGMA03_OsloAero_intBVOC_f09_f09_mg17_full_2012-01-01_2015-01-01_hour_locations.nc', '//proj/bolinc/users/x_sarbl/analysis/Output_data_BS-FDBCK/collocated_ds/NorESM/OsloAero_intBVOC_f09_f09_mg17_full/NMR04_OsloAero_intBVOC_f09_f09_mg17_full_2012-01-01_2015-01-01_hour_locations.nc', '//proj/bolinc/users/x_sarbl/analysis/Output_data_BS-FDBCK/collocated_ds/NorESM/OsloAero_intBVOC_f09_f09_mg17_full/SIGMA04_OsloAero_intBVOC_f09_f09_mg17_full_2012-01-01_2015-01-01_hour_locations.nc', '//proj/bolinc/users/x_sarbl/analysis/Output_data_BS-FDBCK/collocated_ds/NorESM/OsloAero_intBVOC_f09_f09_mg17_full/NMR05_OsloAero_intBVOC_f09_f09_mg17_full_2012-01-01_2015-01-01_hour_locations.nc', '//proj/bolinc/users/x_sarbl/analysis/Output_data_BS-FDBCK/collocated_ds/NorESM/OsloAero_intBVOC_f09_f09_mg17_full/SIGMA05_OsloAero_intBVOC_f09_f09_mg17_full_2012-01-01_2015-01-01_hour_locations.nc', '//proj/bolinc/users/x_sarbl/analysis/Output_data_BS-FDBCK/collocated_ds/NorESM/OsloAero_intBVOC_f09_f09_mg17_full/NMR06_OsloAero_intBVOC_f09_f09_mg17_full_2012-01-01_2015-01-01_hour_locations.nc', '//proj/bolinc/users/x_sarbl/analysis/Output_data_BS-FDBCK/collocated_ds/NorESM/OsloAero_intBVOC_f09_f09_mg17_full/SIGMA06_OsloAero_intBVOC_f09_f09_mg17_full_2012-01-01_2015-01-01_hour_locations.nc', '//proj/bolinc/users/x_sarbl/analysis/Output_data_BS-FDBCK/collocated_ds/NorESM/OsloAero_intBVOC_f09_f09_mg17_full/NMR07_OsloAero_intBVOC_f09_f09_mg17_full_2012-01-01_2015-01-01_hour_locations.nc', '//proj/bolinc/users/x_sarbl/analysis/Output_data_BS-FDBCK/collocated_ds/NorESM/OsloAero_intBVOC_f09_f09_mg17_full/SIGMA07_OsloAero_intBVOC_f09_f09_mg17_full_2012-01-01_2015-01-01_hour_locations.nc', '//proj/bolinc/users/x_sarbl/analysis/Output_data_BS-FDBCK/collocated_ds/NorESM/OsloAero_intBVOC_f09_f09_mg17_full/NMR08_OsloAero_intBVOC_f09_f09_mg17_full_2012-01-01_2015-01-01_hour_locations.nc', '//proj/bolinc/users/x_sarbl/analysis/Output_data_BS-FDBCK/collocated_ds/NorESM/OsloAero_intBVOC_f09_f09_mg17_full/SIGMA08_OsloAero_intBVOC_f09_f09_mg17_full_2012-01-01_2015-01-01_hour_locations.nc', '//proj/bolinc/users/x_sarbl/analysis/Output_data_BS-FDBCK/collocated_ds/NorESM/OsloAero_intBVOC_f09_f09_mg17_full/NMR09_OsloAero_intBVOC_f09_f09_mg17_full_2012-01-01_2015-01-01_hour_locations.nc', '//proj/bolinc/users/x_sarbl/analysis/Output_data_BS-FDBCK/collocated_ds/NorESM/OsloAero_intBVOC_f09_f09_mg17_full/SIGMA09_OsloAero_intBVOC_f09_f09_mg17_full_2012-01-01_2015-01-01_hour_locations.nc', '//proj/bolinc/users/x_sarbl/analysis/Output_data_BS-FDBCK/collocated_ds/NorESM/OsloAero_intBVOC_f09_f09_mg17_full/NMR10_OsloAero_intBVOC_f09_f09_mg17_full_2012-01-01_2015-01-01_hour_locations.nc', '//proj/bolinc/users/x_sarbl/analysis/Output_data_BS-FDBCK/collocated_ds/NorESM/OsloAero_intBVOC_f09_f09_mg17_full/SIGMA10_OsloAero_intBVOC_f09_f09_mg17_full_2012-01-01_2015-01-01_hour_locations.nc', '//proj/bolinc/users/x_sarbl/analysis/Output_data_BS-FDBCK/collocated_ds/NorESM/OsloAero_intBVOC_f09_f09_mg17_full/NMR11_OsloAero_intBVOC_f09_f09_mg17_full_2012-01-01_2015-01-01_hour_locations.nc', '//proj/bolinc/users/x_sarbl/analysis/Output_data_BS-FDBCK/collocated_ds/NorESM/OsloAero_intBVOC_f09_f09_mg17_full/SIGMA11_OsloAero_intBVOC_f09_f09_mg17_full_2012-01-01_2015-01-01_hour_locations.nc', '//proj/bolinc/users/x_sarbl/analysis/Output_data_BS-FDBCK/collocated_ds/NorESM/OsloAero_intBVOC_f09_f09_mg17_full/NMR12_OsloAero_intBVOC_f09_f09_mg17_full_2012-01-01_2015-01-01_hour_locations.nc', '//proj/bolinc/users/x_sarbl/analysis/Output_data_BS-FDBCK/collocated_ds/NorESM/OsloAero_intBVOC_f09_f09_mg17_full/SIGMA12_OsloAero_intBVOC_f09_f09_mg17_full_2012-01-01_2015-01-01_hour_locations.nc', '//proj/bolinc/users/x_sarbl/analysis/Output_data_BS-FDBCK/collocated_ds/NorESM/OsloAero_intBVOC_f09_f09_mg17_full/NMR13_OsloAero_intBVOC_f09_f09_mg17_full_2012-01-01_2015-01-01_hour_locations.nc', '//proj/bolinc/users/x_sarbl/analysis/Output_data_BS-FDBCK/collocated_ds/NorESM/OsloAero_intBVOC_f09_f09_mg17_full/SIGMA13_OsloAero_intBVOC_f09_f09_mg17_full_2012-01-01_2015-01-01_hour_locations.nc', '//proj/bolinc/users/x_sarbl/analysis/Output_data_BS-FDBCK/collocated_ds/NorESM/OsloAero_intBVOC_f09_f09_mg17_full/NMR14_OsloAero_intBVOC_f09_f09_mg17_full_2012-01-01_2015-01-01_hour_locations.nc', '//proj/bolinc/users/x_sarbl/analysis/Output_data_BS-FDBCK/collocated_ds/NorESM/OsloAero_intBVOC_f09_f09_mg17_full/SIGMA14_OsloAero_intBVOC_f09_f09_mg17_full_2012-01-01_2015-01-01_hour_locations.nc', '//proj/bolinc/users/x_sarbl/analysis/Output_data_BS-FDBCK/collocated_ds/NorESM/OsloAero_intBVOC_f09_f09_mg17_full/N500_OsloAero_intBVOC_f09_f09_mg17_full_2012-01-01_2015-01-01_hour_locations.nc', '//proj/bolinc/users/x_sarbl/analysis/Output_data_BS-FDBCK/collocated_ds/NorESM/OsloAero_intBVOC_f09_f09_mg17_full/SOA_NA_OsloAero_intBVOC_f09_f09_mg17_full_2012-01-01_2015-01-01_hour_locations.nc', '//proj/bolinc/users/x_sarbl/analysis/Output_data_BS-FDBCK/collocated_ds/NorESM/OsloAero_intBVOC_f09_f09_mg17_full/SOA_A1_OsloAero_intBVOC_f09_f09_mg17_full_2012-01-01_2015-01-01_hour_locations.nc', '//proj/bolinc/users/x_sarbl/analysis/Output_data_BS-FDBCK/collocated_ds/NorESM/OsloAero_intBVOC_f09_f09_mg17_full/OM_NI_OsloAero_intBVOC_f09_f09_mg17_full_2012-01-01_2015-01-01_hour_locations.nc', '//proj/bolinc/users/x_sarbl/analysis/Output_data_BS-FDBCK/collocated_ds/NorESM/OsloAero_intBVOC_f09_f09_mg17_full/OM_AI_OsloAero_intBVOC_f09_f09_mg17_full_2012-01-01_2015-01-01_hour_locations.nc', '//proj/bolinc/users/x_sarbl/analysis/Output_data_BS-FDBCK/collocated_ds/NorESM/OsloAero_intBVOC_f09_f09_mg17_full/OM_AC_OsloAero_intBVOC_f09_f09_mg17_full_2012-01-01_2015-01-01_hour_locations.nc', '//proj/bolinc/users/x_sarbl/analysis/Output_data_BS-FDBCK/collocated_ds/NorESM/OsloAero_intBVOC_f09_f09_mg17_full/SO4_NA_OsloAero_intBVOC_f09_f09_mg17_full_2012-01-01_2015-01-01_hour_locations.nc', '//proj/bolinc/users/x_sarbl/analysis/Output_data_BS-FDBCK/collocated_ds/NorESM/OsloAero_intBVOC_f09_f09_mg17_full/SO4_A1_OsloAero_intBVOC_f09_f09_mg17_full_2012-01-01_2015-01-01_hour_locations.nc', '//proj/bolinc/users/x_sarbl/analysis/Output_data_BS-FDBCK/collocated_ds/NorESM/OsloAero_intBVOC_f09_f09_mg17_full/SO4_A2_OsloAero_intBVOC_f09_f09_mg17_full_2012-01-01_2015-01-01_hour_locations.nc', '//proj/bolinc/users/x_sarbl/analysis/Output_data_BS-FDBCK/collocated_ds/NorESM/OsloAero_intBVOC_f09_f09_mg17_full/SO4_AC_OsloAero_intBVOC_f09_f09_mg17_full_2012-01-01_2015-01-01_hour_locations.nc', '//proj/bolinc/users/x_sarbl/analysis/Output_data_BS-FDBCK/collocated_ds/NorESM/OsloAero_intBVOC_f09_f09_mg17_full/SO4_PR_OsloAero_intBVOC_f09_f09_mg17_full_2012-01-01_2015-01-01_hour_locations.nc', '//proj/bolinc/users/x_sarbl/analysis/Output_data_BS-FDBCK/collocated_ds/NorESM/OsloAero_intBVOC_f09_f09_mg17_full/BC_N_OsloAero_intBVOC_f09_f09_mg17_full_2012-01-01_2015-01-01_hour_locations.nc', '//proj/bolinc/users/x_sarbl/analysis/Output_data_BS-FDBCK/collocated_ds/NorESM/OsloAero_intBVOC_f09_f09_mg17_full/BC_AX_OsloAero_intBVOC_f09_f09_mg17_full_2012-01-01_2015-01-01_hour_locations.nc', '//proj/bolinc/users/x_sarbl/analysis/Output_data_BS-FDBCK/collocated_ds/NorESM/OsloAero_intBVOC_f09_f09_mg17_full/BC_NI_OsloAero_intBVOC_f09_f09_mg17_full_2012-01-01_2015-01-01_hour_locations.nc', '//proj/bolinc/users/x_sarbl/analysis/Output_data_BS-FDBCK/collocated_ds/NorESM/OsloAero_intBVOC_f09_f09_mg17_full/BC_A_OsloAero_intBVOC_f09_f09_mg17_full_2012-01-01_2015-01-01_hour_locations.nc', '//proj/bolinc/users/x_sarbl/analysis/Output_data_BS-FDBCK/collocated_ds/NorESM/OsloAero_intBVOC_f09_f09_mg17_full/BC_AI_OsloAero_intBVOC_f09_f09_mg17_full_2012-01-01_2015-01-01_hour_locations.nc', '//proj/bolinc/users/x_sarbl/analysis/Output_data_BS-FDBCK/collocated_ds/NorESM/OsloAero_intBVOC_f09_f09_mg17_full/BC_AC_OsloAero_intBVOC_f09_f09_mg17_full_2012-01-01_2015-01-01_hour_locations.nc', '//proj/bolinc/users/x_sarbl/analysis/Output_data_BS-FDBCK/collocated_ds/NorESM/OsloAero_intBVOC_f09_f09_mg17_full/SS_A1_OsloAero_intBVOC_f09_f09_mg17_full_2012-01-01_2015-01-01_hour_locations.nc', '//proj/bolinc/users/x_sarbl/analysis/Output_data_BS-FDBCK/collocated_ds/NorESM/OsloAero_intBVOC_f09_f09_mg17_full/SS_A2_OsloAero_intBVOC_f09_f09_mg17_full_2012-01-01_2015-01-01_hour_locations.nc', '//proj/bolinc/users/x_sarbl/analysis/Output_data_BS-FDBCK/collocated_ds/NorESM/OsloAero_intBVOC_f09_f09_mg17_full/SS_A3_OsloAero_intBVOC_f09_f09_mg17_full_2012-01-01_2015-01-01_hour_locations.nc', '//proj/bolinc/users/x_sarbl/analysis/Output_data_BS-FDBCK/collocated_ds/NorESM/OsloAero_intBVOC_f09_f09_mg17_full/DST_A2_OsloAero_intBVOC_f09_f09_mg17_full_2012-01-01_2015-01-01_hour_locations.nc', '//proj/bolinc/users/x_sarbl/analysis/Output_data_BS-FDBCK/collocated_ds/NorESM/OsloAero_intBVOC_f09_f09_mg17_full/DST_A3_OsloAero_intBVOC_f09_f09_mg17_full_2012-01-01_2015-01-01_hour_locations.nc']\n"
     ]
    }
   ],
   "source": [
    "dic_ds = dict()\n",
    "for ca in cases_noresm1:\n",
    "    c = CollocateLONLATout(ca, from_t, to_t,\n",
    "                           False,\n",
    "                           'hour',\n",
    "                           history_field=history_field)\n",
    "    ds = c.get_collocated_dataset(varl)\n",
    "    #ds2 = c.get_collocated_dataset(['DOD500'])\n",
    "    if 'location' in ds.coords:\n",
    "        ds = ds.rename({'location':'station'})\n",
    "    dic_ds[ca]=ds"
   ]
  },
  {
   "cell_type": "code",
   "execution_count": 29,
   "id": "a5d21ab2-7732-43f2-be45-61ee5524b90d",
   "metadata": {
    "scrolled": true,
    "tags": []
   },
   "outputs": [
    {
     "name": "stderr",
     "output_type": "stream",
     "text": [
      "2022-11-23 17:33:36,847 useful_scit  INFO     Opening: [//proj/bolinc/users/x_sarbl/analysis/Output_data_BS-FDBCK/collocated_ds/NorESM/OsloAero_intBVOC_f09_f09_mg17_ssp245/N100_OsloAero_intBVOC_f09_f09_mg17_ssp245_2015-01-01_2019-01-01_hour_locations.nc,//proj/bolinc/users/x_sarbl/analysis/Output_data_BS-FDBCK/collocated_ds/NorESM/OsloAero_intBVOC_f09_f09_mg17_ssp245/DOD500_OsloAero_intBVOC_f09_f09_mg17_ssp245_2015-01-01_2019-01-01_hour_locations.nc,//proj/bolinc/users/x_sarbl/analysis/Output_data_BS-FDBCK/collocated_ds/NorESM/OsloAero_intBVOC_f09_f09_mg17_ssp245/DOD440_OsloAero_intBVOC_f09_f09_mg17_ssp245_2015-01-01_2019-01-01_hour_locations.nc,//proj/bolinc/users/x_sarbl/analysis/Output_data_BS-FDBCK/collocated_ds/NorESM/OsloAero_intBVOC_f09_f09_mg17_ssp245/ACTREL_OsloAero_intBVOC_f09_f09_mg17_ssp245_2015-01-01_2019-01-01_hour_locations.nc,//proj/bolinc/users/x_sarbl/analysis/Output_data_BS-FDBCK/collocated_ds/NorESM/OsloAero_intBVOC_f09_f09_mg17_ssp245/H2SO4_OsloAero_intBVOC_f09_f09_mg17_ssp245_2015-01-01_2019-01-01_hour_locations.nc,//proj/bolinc/users/x_sarbl/analysis/Output_data_BS-FDBCK/collocated_ds/NorESM/OsloAero_intBVOC_f09_f09_mg17_ssp245/SOA_LV_OsloAero_intBVOC_f09_f09_mg17_ssp245_2015-01-01_2019-01-01_hour_locations.nc,//proj/bolinc/users/x_sarbl/analysis/Output_data_BS-FDBCK/collocated_ds/NorESM/OsloAero_intBVOC_f09_f09_mg17_ssp245/COAGNUCL_OsloAero_intBVOC_f09_f09_mg17_ssp245_2015-01-01_2019-01-01_hour_locations.nc,//proj/bolinc/users/x_sarbl/analysis/Output_data_BS-FDBCK/collocated_ds/NorESM/OsloAero_intBVOC_f09_f09_mg17_ssp245/FORMRATE_OsloAero_intBVOC_f09_f09_mg17_ssp245_2015-01-01_2019-01-01_hour_locations.nc,//proj/bolinc/users/x_sarbl/analysis/Output_data_BS-FDBCK/collocated_ds/NorESM/OsloAero_intBVOC_f09_f09_mg17_ssp245/T_OsloAero_intBVOC_f09_f09_mg17_ssp245_2015-01-01_2019-01-01_hour_locations.nc,//proj/bolinc/users/x_sarbl/analysis/Output_data_BS-FDBCK/collocated_ds/NorESM/OsloAero_intBVOC_f09_f09_mg17_ssp245/SOA_SV_OsloAero_intBVOC_f09_f09_mg17_ssp245_2015-01-01_2019-01-01_hour_locations.nc,//proj/bolinc/users/x_sarbl/analysis/Output_data_BS-FDBCK/collocated_ds/NorESM/OsloAero_intBVOC_f09_f09_mg17_ssp245/NCONC01_OsloAero_intBVOC_f09_f09_mg17_ssp245_2015-01-01_2019-01-01_hour_locations.nc,//proj/bolinc/users/x_sarbl/analysis/Output_data_BS-FDBCK/collocated_ds/NorESM/OsloAero_intBVOC_f09_f09_mg17_ssp245/N50_OsloAero_intBVOC_f09_f09_mg17_ssp245_2015-01-01_2019-01-01_hour_locations.nc,//proj/bolinc/users/x_sarbl/analysis/Output_data_BS-FDBCK/collocated_ds/NorESM/OsloAero_intBVOC_f09_f09_mg17_ssp245/N150_OsloAero_intBVOC_f09_f09_mg17_ssp245_2015-01-01_2019-01-01_hour_locations.nc,//proj/bolinc/users/x_sarbl/analysis/Output_data_BS-FDBCK/collocated_ds/NorESM/OsloAero_intBVOC_f09_f09_mg17_ssp245/N200_OsloAero_intBVOC_f09_f09_mg17_ssp245_2015-01-01_2019-01-01_hour_locations.nc,//proj/bolinc/users/x_sarbl/analysis/Output_data_BS-FDBCK/collocated_ds/NorESM/OsloAero_intBVOC_f09_f09_mg17_ssp245/isoprene_OsloAero_intBVOC_f09_f09_mg17_ssp245_2015-01-01_2019-01-01_hour_locations.nc,//proj/bolinc/users/x_sarbl/analysis/Output_data_BS-FDBCK/collocated_ds/NorESM/OsloAero_intBVOC_f09_f09_mg17_ssp245/SFisoprene_OsloAero_intBVOC_f09_f09_mg17_ssp245_2015-01-01_2019-01-01_hour_locations.nc,//proj/bolinc/users/x_sarbl/analysis/Output_data_BS-FDBCK/collocated_ds/NorESM/OsloAero_intBVOC_f09_f09_mg17_ssp245/monoterp_OsloAero_intBVOC_f09_f09_mg17_ssp245_2015-01-01_2019-01-01_hour_locations.nc,//proj/bolinc/users/x_sarbl/analysis/Output_data_BS-FDBCK/collocated_ds/NorESM/OsloAero_intBVOC_f09_f09_mg17_ssp245/SFmonoterp_OsloAero_intBVOC_f09_f09_mg17_ssp245_2015-01-01_2019-01-01_hour_locations.nc,//proj/bolinc/users/x_sarbl/analysis/Output_data_BS-FDBCK/collocated_ds/NorESM/OsloAero_intBVOC_f09_f09_mg17_ssp245/PS_OsloAero_intBVOC_f09_f09_mg17_ssp245_2015-01-01_2019-01-01_hour_locations.nc,//proj/bolinc/users/x_sarbl/analysis/Output_data_BS-FDBCK/collocated_ds/NorESM/OsloAero_intBVOC_f09_f09_mg17_ssp245/NNAT_0_OsloAero_intBVOC_f09_f09_mg17_ssp245_2015-01-01_2019-01-01_hour_locations.nc,//proj/bolinc/users/x_sarbl/analysis/Output_data_BS-FDBCK/collocated_ds/NorESM/OsloAero_intBVOC_f09_f09_mg17_ssp245/NCONC02_OsloAero_intBVOC_f09_f09_mg17_ssp245_2015-01-01_2019-01-01_hour_locations.nc,//proj/bolinc/users/x_sarbl/analysis/Output_data_BS-FDBCK/collocated_ds/NorESM/OsloAero_intBVOC_f09_f09_mg17_ssp245/NCONC03_OsloAero_intBVOC_f09_f09_mg17_ssp245_2015-01-01_2019-01-01_hour_locations.nc,//proj/bolinc/users/x_sarbl/analysis/Output_data_BS-FDBCK/collocated_ds/NorESM/OsloAero_intBVOC_f09_f09_mg17_ssp245/NCONC04_OsloAero_intBVOC_f09_f09_mg17_ssp245_2015-01-01_2019-01-01_hour_locations.nc,//proj/bolinc/users/x_sarbl/analysis/Output_data_BS-FDBCK/collocated_ds/NorESM/OsloAero_intBVOC_f09_f09_mg17_ssp245/NCONC05_OsloAero_intBVOC_f09_f09_mg17_ssp245_2015-01-01_2019-01-01_hour_locations.nc,//proj/bolinc/users/x_sarbl/analysis/Output_data_BS-FDBCK/collocated_ds/NorESM/OsloAero_intBVOC_f09_f09_mg17_ssp245/NCONC06_OsloAero_intBVOC_f09_f09_mg17_ssp245_2015-01-01_2019-01-01_hour_locations.nc,//proj/bolinc/users/x_sarbl/analysis/Output_data_BS-FDBCK/collocated_ds/NorESM/OsloAero_intBVOC_f09_f09_mg17_ssp245/NCONC07_OsloAero_intBVOC_f09_f09_mg17_ssp245_2015-01-01_2019-01-01_hour_locations.nc,//proj/bolinc/users/x_sarbl/analysis/Output_data_BS-FDBCK/collocated_ds/NorESM/OsloAero_intBVOC_f09_f09_mg17_ssp245/NCONC08_OsloAero_intBVOC_f09_f09_mg17_ssp245_2015-01-01_2019-01-01_hour_locations.nc,//proj/bolinc/users/x_sarbl/analysis/Output_data_BS-FDBCK/collocated_ds/NorESM/OsloAero_intBVOC_f09_f09_mg17_ssp245/NCONC09_OsloAero_intBVOC_f09_f09_mg17_ssp245_2015-01-01_2019-01-01_hour_locations.nc,//proj/bolinc/users/x_sarbl/analysis/Output_data_BS-FDBCK/collocated_ds/NorESM/OsloAero_intBVOC_f09_f09_mg17_ssp245/NCONC10_OsloAero_intBVOC_f09_f09_mg17_ssp245_2015-01-01_2019-01-01_hour_locations.nc,//proj/bolinc/users/x_sarbl/analysis/Output_data_BS-FDBCK/collocated_ds/NorESM/OsloAero_intBVOC_f09_f09_mg17_ssp245/NCONC11_OsloAero_intBVOC_f09_f09_mg17_ssp245_2015-01-01_2019-01-01_hour_locations.nc,//proj/bolinc/users/x_sarbl/analysis/Output_data_BS-FDBCK/collocated_ds/NorESM/OsloAero_intBVOC_f09_f09_mg17_ssp245/NCONC12_OsloAero_intBVOC_f09_f09_mg17_ssp245_2015-01-01_2019-01-01_hour_locations.nc,//proj/bolinc/users/x_sarbl/analysis/Output_data_BS-FDBCK/collocated_ds/NorESM/OsloAero_intBVOC_f09_f09_mg17_ssp245/NCONC13_OsloAero_intBVOC_f09_f09_mg17_ssp245_2015-01-01_2019-01-01_hour_locations.nc,//proj/bolinc/users/x_sarbl/analysis/Output_data_BS-FDBCK/collocated_ds/NorESM/OsloAero_intBVOC_f09_f09_mg17_ssp245/NCONC14_OsloAero_intBVOC_f09_f09_mg17_ssp245_2015-01-01_2019-01-01_hour_locations.nc,//proj/bolinc/users/x_sarbl/analysis/Output_data_BS-FDBCK/collocated_ds/NorESM/OsloAero_intBVOC_f09_f09_mg17_ssp245/NMR01_OsloAero_intBVOC_f09_f09_mg17_ssp245_2015-01-01_2019-01-01_hour_locations.nc,//proj/bolinc/users/x_sarbl/analysis/Output_data_BS-FDBCK/collocated_ds/NorESM/OsloAero_intBVOC_f09_f09_mg17_ssp245/SIGMA01_OsloAero_intBVOC_f09_f09_mg17_ssp245_2015-01-01_2019-01-01_hour_locations.nc,//proj/bolinc/users/x_sarbl/analysis/Output_data_BS-FDBCK/collocated_ds/NorESM/OsloAero_intBVOC_f09_f09_mg17_ssp245/NMR02_OsloAero_intBVOC_f09_f09_mg17_ssp245_2015-01-01_2019-01-01_hour_locations.nc,//proj/bolinc/users/x_sarbl/analysis/Output_data_BS-FDBCK/collocated_ds/NorESM/OsloAero_intBVOC_f09_f09_mg17_ssp245/SIGMA02_OsloAero_intBVOC_f09_f09_mg17_ssp245_2015-01-01_2019-01-01_hour_locations.nc,//proj/bolinc/users/x_sarbl/analysis/Output_data_BS-FDBCK/collocated_ds/NorESM/OsloAero_intBVOC_f09_f09_mg17_ssp245/NMR03_OsloAero_intBVOC_f09_f09_mg17_ssp245_2015-01-01_2019-01-01_hour_locations.nc,//proj/bolinc/users/x_sarbl/analysis/Output_data_BS-FDBCK/collocated_ds/NorESM/OsloAero_intBVOC_f09_f09_mg17_ssp245/SIGMA03_OsloAero_intBVOC_f09_f09_mg17_ssp245_2015-01-01_2019-01-01_hour_locations.nc,//proj/bolinc/users/x_sarbl/analysis/Output_data_BS-FDBCK/collocated_ds/NorESM/OsloAero_intBVOC_f09_f09_mg17_ssp245/NMR04_OsloAero_intBVOC_f09_f09_mg17_ssp245_2015-01-01_2019-01-01_hour_locations.nc,//proj/bolinc/users/x_sarbl/analysis/Output_data_BS-FDBCK/collocated_ds/NorESM/OsloAero_intBVOC_f09_f09_mg17_ssp245/SIGMA04_OsloAero_intBVOC_f09_f09_mg17_ssp245_2015-01-01_2019-01-01_hour_locations.nc,//proj/bolinc/users/x_sarbl/analysis/Output_data_BS-FDBCK/collocated_ds/NorESM/OsloAero_intBVOC_f09_f09_mg17_ssp245/NMR05_OsloAero_intBVOC_f09_f09_mg17_ssp245_2015-01-01_2019-01-01_hour_locations.nc,//proj/bolinc/users/x_sarbl/analysis/Output_data_BS-FDBCK/collocated_ds/NorESM/OsloAero_intBVOC_f09_f09_mg17_ssp245/SIGMA05_OsloAero_intBVOC_f09_f09_mg17_ssp245_2015-01-01_2019-01-01_hour_locations.nc,//proj/bolinc/users/x_sarbl/analysis/Output_data_BS-FDBCK/collocated_ds/NorESM/OsloAero_intBVOC_f09_f09_mg17_ssp245/NMR06_OsloAero_intBVOC_f09_f09_mg17_ssp245_2015-01-01_2019-01-01_hour_locations.nc,//proj/bolinc/users/x_sarbl/analysis/Output_data_BS-FDBCK/collocated_ds/NorESM/OsloAero_intBVOC_f09_f09_mg17_ssp245/SIGMA06_OsloAero_intBVOC_f09_f09_mg17_ssp245_2015-01-01_2019-01-01_hour_locations.nc,//proj/bolinc/users/x_sarbl/analysis/Output_data_BS-FDBCK/collocated_ds/NorESM/OsloAero_intBVOC_f09_f09_mg17_ssp245/NMR07_OsloAero_intBVOC_f09_f09_mg17_ssp245_2015-01-01_2019-01-01_hour_locations.nc,//proj/bolinc/users/x_sarbl/analysis/Output_data_BS-FDBCK/collocated_ds/NorESM/OsloAero_intBVOC_f09_f09_mg17_ssp245/SIGMA07_OsloAero_intBVOC_f09_f09_mg17_ssp245_2015-01-01_2019-01-01_hour_locations.nc,//proj/bolinc/users/x_sarbl/analysis/Output_data_BS-FDBCK/collocated_ds/NorESM/OsloAero_intBVOC_f09_f09_mg17_ssp245/NMR08_OsloAero_intBVOC_f09_f09_mg17_ssp245_2015-01-01_2019-01-01_hour_locations.nc,//proj/bolinc/users/x_sarbl/analysis/Output_data_BS-FDBCK/collocated_ds/NorESM/OsloAero_intBVOC_f09_f09_mg17_ssp245/SIGMA08_OsloAero_intBVOC_f09_f09_mg17_ssp245_2015-01-01_2019-01-01_hour_locations.nc,//proj/bolinc/users/x_sarbl/analysis/Output_data_BS-FDBCK/collocated_ds/NorESM/OsloAero_intBVOC_f09_f09_mg17_ssp245/NMR09_OsloAero_intBVOC_f09_f09_mg17_ssp245_2015-01-01_2019-01-01_hour_locations.nc,//proj/bolinc/users/x_sarbl/analysis/Output_data_BS-FDBCK/collocated_ds/NorESM/OsloAero_intBVOC_f09_f09_mg17_ssp245/SIGMA09_OsloAero_intBVOC_f09_f09_mg17_ssp245_2015-01-01_2019-01-01_hour_locations.nc,//proj/bolinc/users/x_sarbl/analysis/Output_data_BS-FDBCK/collocated_ds/NorESM/OsloAero_intBVOC_f09_f09_mg17_ssp245/NMR10_OsloAero_intBVOC_f09_f09_mg17_ssp245_2015-01-01_2019-01-01_hour_locations.nc,//proj/bolinc/users/x_sarbl/analysis/Output_data_BS-FDBCK/collocated_ds/NorESM/OsloAero_intBVOC_f09_f09_mg17_ssp245/SIGMA10_OsloAero_intBVOC_f09_f09_mg17_ssp245_2015-01-01_2019-01-01_hour_locations.nc,//proj/bolinc/users/x_sarbl/analysis/Output_data_BS-FDBCK/collocated_ds/NorESM/OsloAero_intBVOC_f09_f09_mg17_ssp245/NMR11_OsloAero_intBVOC_f09_f09_mg17_ssp245_2015-01-01_2019-01-01_hour_locations.nc,//proj/bolinc/users/x_sarbl/analysis/Output_data_BS-FDBCK/collocated_ds/NorESM/OsloAero_intBVOC_f09_f09_mg17_ssp245/SIGMA11_OsloAero_intBVOC_f09_f09_mg17_ssp245_2015-01-01_2019-01-01_hour_locations.nc,//proj/bolinc/users/x_sarbl/analysis/Output_data_BS-FDBCK/collocated_ds/NorESM/OsloAero_intBVOC_f09_f09_mg17_ssp245/NMR12_OsloAero_intBVOC_f09_f09_mg17_ssp245_2015-01-01_2019-01-01_hour_locations.nc,//proj/bolinc/users/x_sarbl/analysis/Output_data_BS-FDBCK/collocated_ds/NorESM/OsloAero_intBVOC_f09_f09_mg17_ssp245/SIGMA12_OsloAero_intBVOC_f09_f09_mg17_ssp245_2015-01-01_2019-01-01_hour_locations.nc,//proj/bolinc/users/x_sarbl/analysis/Output_data_BS-FDBCK/collocated_ds/NorESM/OsloAero_intBVOC_f09_f09_mg17_ssp245/NMR13_OsloAero_intBVOC_f09_f09_mg17_ssp245_2015-01-01_2019-01-01_hour_locations.nc,//proj/bolinc/users/x_sarbl/analysis/Output_data_BS-FDBCK/collocated_ds/NorESM/OsloAero_intBVOC_f09_f09_mg17_ssp245/SIGMA13_OsloAero_intBVOC_f09_f09_mg17_ssp245_2015-01-01_2019-01-01_hour_locations.nc,//proj/bolinc/users/x_sarbl/analysis/Output_data_BS-FDBCK/collocated_ds/NorESM/OsloAero_intBVOC_f09_f09_mg17_ssp245/NMR14_OsloAero_intBVOC_f09_f09_mg17_ssp245_2015-01-01_2019-01-01_hour_locations.nc,//proj/bolinc/users/x_sarbl/analysis/Output_data_BS-FDBCK/collocated_ds/NorESM/OsloAero_intBVOC_f09_f09_mg17_ssp245/SIGMA14_OsloAero_intBVOC_f09_f09_mg17_ssp245_2015-01-01_2019-01-01_hour_locations.nc,//proj/bolinc/users/x_sarbl/analysis/Output_data_BS-FDBCK/collocated_ds/NorESM/OsloAero_intBVOC_f09_f09_mg17_ssp245/N500_OsloAero_intBVOC_f09_f09_mg17_ssp245_2015-01-01_2019-01-01_hour_locations.nc,//proj/bolinc/users/x_sarbl/analysis/Output_data_BS-FDBCK/collocated_ds/NorESM/OsloAero_intBVOC_f09_f09_mg17_ssp245/SOA_NA_OsloAero_intBVOC_f09_f09_mg17_ssp245_2015-01-01_2019-01-01_hour_locations.nc,//proj/bolinc/users/x_sarbl/analysis/Output_data_BS-FDBCK/collocated_ds/NorESM/OsloAero_intBVOC_f09_f09_mg17_ssp245/SOA_A1_OsloAero_intBVOC_f09_f09_mg17_ssp245_2015-01-01_2019-01-01_hour_locations.nc,//proj/bolinc/users/x_sarbl/analysis/Output_data_BS-FDBCK/collocated_ds/NorESM/OsloAero_intBVOC_f09_f09_mg17_ssp245/OM_NI_OsloAero_intBVOC_f09_f09_mg17_ssp245_2015-01-01_2019-01-01_hour_locations.nc,//proj/bolinc/users/x_sarbl/analysis/Output_data_BS-FDBCK/collocated_ds/NorESM/OsloAero_intBVOC_f09_f09_mg17_ssp245/OM_AI_OsloAero_intBVOC_f09_f09_mg17_ssp245_2015-01-01_2019-01-01_hour_locations.nc,//proj/bolinc/users/x_sarbl/analysis/Output_data_BS-FDBCK/collocated_ds/NorESM/OsloAero_intBVOC_f09_f09_mg17_ssp245/OM_AC_OsloAero_intBVOC_f09_f09_mg17_ssp245_2015-01-01_2019-01-01_hour_locations.nc,//proj/bolinc/users/x_sarbl/analysis/Output_data_BS-FDBCK/collocated_ds/NorESM/OsloAero_intBVOC_f09_f09_mg17_ssp245/SO4_NA_OsloAero_intBVOC_f09_f09_mg17_ssp245_2015-01-01_2019-01-01_hour_locations.nc,//proj/bolinc/users/x_sarbl/analysis/Output_data_BS-FDBCK/collocated_ds/NorESM/OsloAero_intBVOC_f09_f09_mg17_ssp245/SO4_A1_OsloAero_intBVOC_f09_f09_mg17_ssp245_2015-01-01_2019-01-01_hour_locations.nc,//proj/bolinc/users/x_sarbl/analysis/Output_data_BS-FDBCK/collocated_ds/NorESM/OsloAero_intBVOC_f09_f09_mg17_ssp245/SO4_A2_OsloAero_intBVOC_f09_f09_mg17_ssp245_2015-01-01_2019-01-01_hour_locations.nc,//proj/bolinc/users/x_sarbl/analysis/Output_data_BS-FDBCK/collocated_ds/NorESM/OsloAero_intBVOC_f09_f09_mg17_ssp245/SO4_AC_OsloAero_intBVOC_f09_f09_mg17_ssp245_2015-01-01_2019-01-01_hour_locations.nc,//proj/bolinc/users/x_sarbl/analysis/Output_data_BS-FDBCK/collocated_ds/NorESM/OsloAero_intBVOC_f09_f09_mg17_ssp245/SO4_PR_OsloAero_intBVOC_f09_f09_mg17_ssp245_2015-01-01_2019-01-01_hour_locations.nc,//proj/bolinc/users/x_sarbl/analysis/Output_data_BS-FDBCK/collocated_ds/NorESM/OsloAero_intBVOC_f09_f09_mg17_ssp245/BC_N_OsloAero_intBVOC_f09_f09_mg17_ssp245_2015-01-01_2019-01-01_hour_locations.nc,//proj/bolinc/users/x_sarbl/analysis/Output_data_BS-FDBCK/collocated_ds/NorESM/OsloAero_intBVOC_f09_f09_mg17_ssp245/BC_AX_OsloAero_intBVOC_f09_f09_mg17_ssp245_2015-01-01_2019-01-01_hour_locations.nc,//proj/bolinc/users/x_sarbl/analysis/Output_data_BS-FDBCK/collocated_ds/NorESM/OsloAero_intBVOC_f09_f09_mg17_ssp245/BC_NI_OsloAero_intBVOC_f09_f09_mg17_ssp245_2015-01-01_2019-01-01_hour_locations.nc,//proj/bolinc/users/x_sarbl/analysis/Output_data_BS-FDBCK/collocated_ds/NorESM/OsloAero_intBVOC_f09_f09_mg17_ssp245/BC_A_OsloAero_intBVOC_f09_f09_mg17_ssp245_2015-01-01_2019-01-01_hour_locations.nc,//proj/bolinc/users/x_sarbl/analysis/Output_data_BS-FDBCK/collocated_ds/NorESM/OsloAero_intBVOC_f09_f09_mg17_ssp245/BC_AI_OsloAero_intBVOC_f09_f09_mg17_ssp245_2015-01-01_2019-01-01_hour_locations.nc,//proj/bolinc/users/x_sarbl/analysis/Output_data_BS-FDBCK/collocated_ds/NorESM/OsloAero_intBVOC_f09_f09_mg17_ssp245/BC_AC_OsloAero_intBVOC_f09_f09_mg17_ssp245_2015-01-01_2019-01-01_hour_locations.nc,//proj/bolinc/users/x_sarbl/analysis/Output_data_BS-FDBCK/collocated_ds/NorESM/OsloAero_intBVOC_f09_f09_mg17_ssp245/SS_A1_OsloAero_intBVOC_f09_f09_mg17_ssp245_2015-01-01_2019-01-01_hour_locations.nc,//proj/bolinc/users/x_sarbl/analysis/Output_data_BS-FDBCK/collocated_ds/NorESM/OsloAero_intBVOC_f09_f09_mg17_ssp245/SS_A2_OsloAero_intBVOC_f09_f09_mg17_ssp245_2015-01-01_2019-01-01_hour_locations.nc,//proj/bolinc/users/x_sarbl/analysis/Output_data_BS-FDBCK/collocated_ds/NorESM/OsloAero_intBVOC_f09_f09_mg17_ssp245/SS_A3_OsloAero_intBVOC_f09_f09_mg17_ssp245_2015-01-01_2019-01-01_hour_locations.nc,//proj/bolinc/users/x_sarbl/analysis/Output_data_BS-FDBCK/collocated_ds/NorESM/OsloAero_intBVOC_f09_f09_mg17_ssp245/DST_A2_OsloAero_intBVOC_f09_f09_mg17_ssp245_2015-01-01_2019-01-01_hour_locations.nc,//proj/bolinc/users/x_sarbl/analysis/Output_data_BS-FDBCK/collocated_ds/NorESM/OsloAero_intBVOC_f09_f09_mg17_ssp245/DST_A3_OsloAero_intBVOC_f09_f09_mg17_ssp245_2015-01-01_2019-01-01_hour_locations.nc]\n"
     ]
    },
    {
     "name": "stdout",
     "output_type": "stream",
     "text": [
      "//proj/bolinc/users/x_sarbl/analysis/Output_data_BS-FDBCK/collocated_ds/NorESM/OsloAero_intBVOC_f09_f09_mg17_ssp245/N100_OsloAero_intBVOC_f09_f09_mg17_ssp245_2015-01-01_2019-01-01_hour_locations.nc\n",
      "//proj/bolinc/users/x_sarbl/analysis/Output_data_BS-FDBCK/collocated_ds/NorESM/OsloAero_intBVOC_f09_f09_mg17_ssp245/DOD500_OsloAero_intBVOC_f09_f09_mg17_ssp245_2015-01-01_2019-01-01_hour_locations.nc\n",
      "//proj/bolinc/users/x_sarbl/analysis/Output_data_BS-FDBCK/collocated_ds/NorESM/OsloAero_intBVOC_f09_f09_mg17_ssp245/DOD440_OsloAero_intBVOC_f09_f09_mg17_ssp245_2015-01-01_2019-01-01_hour_locations.nc\n",
      "//proj/bolinc/users/x_sarbl/analysis/Output_data_BS-FDBCK/collocated_ds/NorESM/OsloAero_intBVOC_f09_f09_mg17_ssp245/ACTREL_OsloAero_intBVOC_f09_f09_mg17_ssp245_2015-01-01_2019-01-01_hour_locations.nc\n",
      "//proj/bolinc/users/x_sarbl/analysis/Output_data_BS-FDBCK/collocated_ds/NorESM/OsloAero_intBVOC_f09_f09_mg17_ssp245/H2SO4_OsloAero_intBVOC_f09_f09_mg17_ssp245_2015-01-01_2019-01-01_hour_locations.nc\n",
      "//proj/bolinc/users/x_sarbl/analysis/Output_data_BS-FDBCK/collocated_ds/NorESM/OsloAero_intBVOC_f09_f09_mg17_ssp245/SOA_LV_OsloAero_intBVOC_f09_f09_mg17_ssp245_2015-01-01_2019-01-01_hour_locations.nc\n",
      "//proj/bolinc/users/x_sarbl/analysis/Output_data_BS-FDBCK/collocated_ds/NorESM/OsloAero_intBVOC_f09_f09_mg17_ssp245/COAGNUCL_OsloAero_intBVOC_f09_f09_mg17_ssp245_2015-01-01_2019-01-01_hour_locations.nc\n",
      "//proj/bolinc/users/x_sarbl/analysis/Output_data_BS-FDBCK/collocated_ds/NorESM/OsloAero_intBVOC_f09_f09_mg17_ssp245/FORMRATE_OsloAero_intBVOC_f09_f09_mg17_ssp245_2015-01-01_2019-01-01_hour_locations.nc\n",
      "//proj/bolinc/users/x_sarbl/analysis/Output_data_BS-FDBCK/collocated_ds/NorESM/OsloAero_intBVOC_f09_f09_mg17_ssp245/T_OsloAero_intBVOC_f09_f09_mg17_ssp245_2015-01-01_2019-01-01_hour_locations.nc\n",
      "//proj/bolinc/users/x_sarbl/analysis/Output_data_BS-FDBCK/collocated_ds/NorESM/OsloAero_intBVOC_f09_f09_mg17_ssp245/SOA_SV_OsloAero_intBVOC_f09_f09_mg17_ssp245_2015-01-01_2019-01-01_hour_locations.nc\n",
      "//proj/bolinc/users/x_sarbl/analysis/Output_data_BS-FDBCK/collocated_ds/NorESM/OsloAero_intBVOC_f09_f09_mg17_ssp245/NCONC01_OsloAero_intBVOC_f09_f09_mg17_ssp245_2015-01-01_2019-01-01_hour_locations.nc\n",
      "//proj/bolinc/users/x_sarbl/analysis/Output_data_BS-FDBCK/collocated_ds/NorESM/OsloAero_intBVOC_f09_f09_mg17_ssp245/N50_OsloAero_intBVOC_f09_f09_mg17_ssp245_2015-01-01_2019-01-01_hour_locations.nc\n",
      "//proj/bolinc/users/x_sarbl/analysis/Output_data_BS-FDBCK/collocated_ds/NorESM/OsloAero_intBVOC_f09_f09_mg17_ssp245/N150_OsloAero_intBVOC_f09_f09_mg17_ssp245_2015-01-01_2019-01-01_hour_locations.nc\n",
      "//proj/bolinc/users/x_sarbl/analysis/Output_data_BS-FDBCK/collocated_ds/NorESM/OsloAero_intBVOC_f09_f09_mg17_ssp245/N200_OsloAero_intBVOC_f09_f09_mg17_ssp245_2015-01-01_2019-01-01_hour_locations.nc\n",
      "//proj/bolinc/users/x_sarbl/analysis/Output_data_BS-FDBCK/collocated_ds/NorESM/OsloAero_intBVOC_f09_f09_mg17_ssp245/isoprene_OsloAero_intBVOC_f09_f09_mg17_ssp245_2015-01-01_2019-01-01_hour_locations.nc\n",
      "//proj/bolinc/users/x_sarbl/analysis/Output_data_BS-FDBCK/collocated_ds/NorESM/OsloAero_intBVOC_f09_f09_mg17_ssp245/SFisoprene_OsloAero_intBVOC_f09_f09_mg17_ssp245_2015-01-01_2019-01-01_hour_locations.nc\n",
      "//proj/bolinc/users/x_sarbl/analysis/Output_data_BS-FDBCK/collocated_ds/NorESM/OsloAero_intBVOC_f09_f09_mg17_ssp245/monoterp_OsloAero_intBVOC_f09_f09_mg17_ssp245_2015-01-01_2019-01-01_hour_locations.nc\n",
      "//proj/bolinc/users/x_sarbl/analysis/Output_data_BS-FDBCK/collocated_ds/NorESM/OsloAero_intBVOC_f09_f09_mg17_ssp245/SFmonoterp_OsloAero_intBVOC_f09_f09_mg17_ssp245_2015-01-01_2019-01-01_hour_locations.nc\n",
      "//proj/bolinc/users/x_sarbl/analysis/Output_data_BS-FDBCK/collocated_ds/NorESM/OsloAero_intBVOC_f09_f09_mg17_ssp245/PS_OsloAero_intBVOC_f09_f09_mg17_ssp245_2015-01-01_2019-01-01_hour_locations.nc\n",
      "//proj/bolinc/users/x_sarbl/analysis/Output_data_BS-FDBCK/collocated_ds/NorESM/OsloAero_intBVOC_f09_f09_mg17_ssp245/NNAT_0_OsloAero_intBVOC_f09_f09_mg17_ssp245_2015-01-01_2019-01-01_hour_locations.nc\n",
      "//proj/bolinc/users/x_sarbl/analysis/Output_data_BS-FDBCK/collocated_ds/NorESM/OsloAero_intBVOC_f09_f09_mg17_ssp245/NCONC02_OsloAero_intBVOC_f09_f09_mg17_ssp245_2015-01-01_2019-01-01_hour_locations.nc\n",
      "//proj/bolinc/users/x_sarbl/analysis/Output_data_BS-FDBCK/collocated_ds/NorESM/OsloAero_intBVOC_f09_f09_mg17_ssp245/NCONC03_OsloAero_intBVOC_f09_f09_mg17_ssp245_2015-01-01_2019-01-01_hour_locations.nc\n",
      "//proj/bolinc/users/x_sarbl/analysis/Output_data_BS-FDBCK/collocated_ds/NorESM/OsloAero_intBVOC_f09_f09_mg17_ssp245/NCONC04_OsloAero_intBVOC_f09_f09_mg17_ssp245_2015-01-01_2019-01-01_hour_locations.nc\n",
      "//proj/bolinc/users/x_sarbl/analysis/Output_data_BS-FDBCK/collocated_ds/NorESM/OsloAero_intBVOC_f09_f09_mg17_ssp245/NCONC05_OsloAero_intBVOC_f09_f09_mg17_ssp245_2015-01-01_2019-01-01_hour_locations.nc\n",
      "//proj/bolinc/users/x_sarbl/analysis/Output_data_BS-FDBCK/collocated_ds/NorESM/OsloAero_intBVOC_f09_f09_mg17_ssp245/NCONC06_OsloAero_intBVOC_f09_f09_mg17_ssp245_2015-01-01_2019-01-01_hour_locations.nc\n",
      "//proj/bolinc/users/x_sarbl/analysis/Output_data_BS-FDBCK/collocated_ds/NorESM/OsloAero_intBVOC_f09_f09_mg17_ssp245/NCONC07_OsloAero_intBVOC_f09_f09_mg17_ssp245_2015-01-01_2019-01-01_hour_locations.nc\n",
      "//proj/bolinc/users/x_sarbl/analysis/Output_data_BS-FDBCK/collocated_ds/NorESM/OsloAero_intBVOC_f09_f09_mg17_ssp245/NCONC08_OsloAero_intBVOC_f09_f09_mg17_ssp245_2015-01-01_2019-01-01_hour_locations.nc\n",
      "//proj/bolinc/users/x_sarbl/analysis/Output_data_BS-FDBCK/collocated_ds/NorESM/OsloAero_intBVOC_f09_f09_mg17_ssp245/NCONC09_OsloAero_intBVOC_f09_f09_mg17_ssp245_2015-01-01_2019-01-01_hour_locations.nc\n",
      "//proj/bolinc/users/x_sarbl/analysis/Output_data_BS-FDBCK/collocated_ds/NorESM/OsloAero_intBVOC_f09_f09_mg17_ssp245/NCONC10_OsloAero_intBVOC_f09_f09_mg17_ssp245_2015-01-01_2019-01-01_hour_locations.nc\n",
      "//proj/bolinc/users/x_sarbl/analysis/Output_data_BS-FDBCK/collocated_ds/NorESM/OsloAero_intBVOC_f09_f09_mg17_ssp245/NCONC11_OsloAero_intBVOC_f09_f09_mg17_ssp245_2015-01-01_2019-01-01_hour_locations.nc\n",
      "//proj/bolinc/users/x_sarbl/analysis/Output_data_BS-FDBCK/collocated_ds/NorESM/OsloAero_intBVOC_f09_f09_mg17_ssp245/NCONC12_OsloAero_intBVOC_f09_f09_mg17_ssp245_2015-01-01_2019-01-01_hour_locations.nc\n",
      "//proj/bolinc/users/x_sarbl/analysis/Output_data_BS-FDBCK/collocated_ds/NorESM/OsloAero_intBVOC_f09_f09_mg17_ssp245/NCONC13_OsloAero_intBVOC_f09_f09_mg17_ssp245_2015-01-01_2019-01-01_hour_locations.nc\n",
      "//proj/bolinc/users/x_sarbl/analysis/Output_data_BS-FDBCK/collocated_ds/NorESM/OsloAero_intBVOC_f09_f09_mg17_ssp245/NCONC14_OsloAero_intBVOC_f09_f09_mg17_ssp245_2015-01-01_2019-01-01_hour_locations.nc\n",
      "//proj/bolinc/users/x_sarbl/analysis/Output_data_BS-FDBCK/collocated_ds/NorESM/OsloAero_intBVOC_f09_f09_mg17_ssp245/NMR01_OsloAero_intBVOC_f09_f09_mg17_ssp245_2015-01-01_2019-01-01_hour_locations.nc\n",
      "//proj/bolinc/users/x_sarbl/analysis/Output_data_BS-FDBCK/collocated_ds/NorESM/OsloAero_intBVOC_f09_f09_mg17_ssp245/SIGMA01_OsloAero_intBVOC_f09_f09_mg17_ssp245_2015-01-01_2019-01-01_hour_locations.nc\n",
      "//proj/bolinc/users/x_sarbl/analysis/Output_data_BS-FDBCK/collocated_ds/NorESM/OsloAero_intBVOC_f09_f09_mg17_ssp245/NMR02_OsloAero_intBVOC_f09_f09_mg17_ssp245_2015-01-01_2019-01-01_hour_locations.nc\n",
      "//proj/bolinc/users/x_sarbl/analysis/Output_data_BS-FDBCK/collocated_ds/NorESM/OsloAero_intBVOC_f09_f09_mg17_ssp245/SIGMA02_OsloAero_intBVOC_f09_f09_mg17_ssp245_2015-01-01_2019-01-01_hour_locations.nc\n",
      "//proj/bolinc/users/x_sarbl/analysis/Output_data_BS-FDBCK/collocated_ds/NorESM/OsloAero_intBVOC_f09_f09_mg17_ssp245/NMR03_OsloAero_intBVOC_f09_f09_mg17_ssp245_2015-01-01_2019-01-01_hour_locations.nc\n",
      "//proj/bolinc/users/x_sarbl/analysis/Output_data_BS-FDBCK/collocated_ds/NorESM/OsloAero_intBVOC_f09_f09_mg17_ssp245/SIGMA03_OsloAero_intBVOC_f09_f09_mg17_ssp245_2015-01-01_2019-01-01_hour_locations.nc\n",
      "//proj/bolinc/users/x_sarbl/analysis/Output_data_BS-FDBCK/collocated_ds/NorESM/OsloAero_intBVOC_f09_f09_mg17_ssp245/NMR04_OsloAero_intBVOC_f09_f09_mg17_ssp245_2015-01-01_2019-01-01_hour_locations.nc\n",
      "//proj/bolinc/users/x_sarbl/analysis/Output_data_BS-FDBCK/collocated_ds/NorESM/OsloAero_intBVOC_f09_f09_mg17_ssp245/SIGMA04_OsloAero_intBVOC_f09_f09_mg17_ssp245_2015-01-01_2019-01-01_hour_locations.nc\n",
      "//proj/bolinc/users/x_sarbl/analysis/Output_data_BS-FDBCK/collocated_ds/NorESM/OsloAero_intBVOC_f09_f09_mg17_ssp245/NMR05_OsloAero_intBVOC_f09_f09_mg17_ssp245_2015-01-01_2019-01-01_hour_locations.nc\n",
      "//proj/bolinc/users/x_sarbl/analysis/Output_data_BS-FDBCK/collocated_ds/NorESM/OsloAero_intBVOC_f09_f09_mg17_ssp245/SIGMA05_OsloAero_intBVOC_f09_f09_mg17_ssp245_2015-01-01_2019-01-01_hour_locations.nc\n",
      "//proj/bolinc/users/x_sarbl/analysis/Output_data_BS-FDBCK/collocated_ds/NorESM/OsloAero_intBVOC_f09_f09_mg17_ssp245/NMR06_OsloAero_intBVOC_f09_f09_mg17_ssp245_2015-01-01_2019-01-01_hour_locations.nc\n",
      "//proj/bolinc/users/x_sarbl/analysis/Output_data_BS-FDBCK/collocated_ds/NorESM/OsloAero_intBVOC_f09_f09_mg17_ssp245/SIGMA06_OsloAero_intBVOC_f09_f09_mg17_ssp245_2015-01-01_2019-01-01_hour_locations.nc\n",
      "//proj/bolinc/users/x_sarbl/analysis/Output_data_BS-FDBCK/collocated_ds/NorESM/OsloAero_intBVOC_f09_f09_mg17_ssp245/NMR07_OsloAero_intBVOC_f09_f09_mg17_ssp245_2015-01-01_2019-01-01_hour_locations.nc\n",
      "//proj/bolinc/users/x_sarbl/analysis/Output_data_BS-FDBCK/collocated_ds/NorESM/OsloAero_intBVOC_f09_f09_mg17_ssp245/SIGMA07_OsloAero_intBVOC_f09_f09_mg17_ssp245_2015-01-01_2019-01-01_hour_locations.nc\n",
      "//proj/bolinc/users/x_sarbl/analysis/Output_data_BS-FDBCK/collocated_ds/NorESM/OsloAero_intBVOC_f09_f09_mg17_ssp245/NMR08_OsloAero_intBVOC_f09_f09_mg17_ssp245_2015-01-01_2019-01-01_hour_locations.nc\n",
      "//proj/bolinc/users/x_sarbl/analysis/Output_data_BS-FDBCK/collocated_ds/NorESM/OsloAero_intBVOC_f09_f09_mg17_ssp245/SIGMA08_OsloAero_intBVOC_f09_f09_mg17_ssp245_2015-01-01_2019-01-01_hour_locations.nc\n",
      "//proj/bolinc/users/x_sarbl/analysis/Output_data_BS-FDBCK/collocated_ds/NorESM/OsloAero_intBVOC_f09_f09_mg17_ssp245/NMR09_OsloAero_intBVOC_f09_f09_mg17_ssp245_2015-01-01_2019-01-01_hour_locations.nc\n",
      "//proj/bolinc/users/x_sarbl/analysis/Output_data_BS-FDBCK/collocated_ds/NorESM/OsloAero_intBVOC_f09_f09_mg17_ssp245/SIGMA09_OsloAero_intBVOC_f09_f09_mg17_ssp245_2015-01-01_2019-01-01_hour_locations.nc\n",
      "//proj/bolinc/users/x_sarbl/analysis/Output_data_BS-FDBCK/collocated_ds/NorESM/OsloAero_intBVOC_f09_f09_mg17_ssp245/NMR10_OsloAero_intBVOC_f09_f09_mg17_ssp245_2015-01-01_2019-01-01_hour_locations.nc\n",
      "//proj/bolinc/users/x_sarbl/analysis/Output_data_BS-FDBCK/collocated_ds/NorESM/OsloAero_intBVOC_f09_f09_mg17_ssp245/SIGMA10_OsloAero_intBVOC_f09_f09_mg17_ssp245_2015-01-01_2019-01-01_hour_locations.nc\n",
      "//proj/bolinc/users/x_sarbl/analysis/Output_data_BS-FDBCK/collocated_ds/NorESM/OsloAero_intBVOC_f09_f09_mg17_ssp245/NMR11_OsloAero_intBVOC_f09_f09_mg17_ssp245_2015-01-01_2019-01-01_hour_locations.nc\n",
      "//proj/bolinc/users/x_sarbl/analysis/Output_data_BS-FDBCK/collocated_ds/NorESM/OsloAero_intBVOC_f09_f09_mg17_ssp245/SIGMA11_OsloAero_intBVOC_f09_f09_mg17_ssp245_2015-01-01_2019-01-01_hour_locations.nc\n",
      "//proj/bolinc/users/x_sarbl/analysis/Output_data_BS-FDBCK/collocated_ds/NorESM/OsloAero_intBVOC_f09_f09_mg17_ssp245/NMR12_OsloAero_intBVOC_f09_f09_mg17_ssp245_2015-01-01_2019-01-01_hour_locations.nc\n",
      "//proj/bolinc/users/x_sarbl/analysis/Output_data_BS-FDBCK/collocated_ds/NorESM/OsloAero_intBVOC_f09_f09_mg17_ssp245/SIGMA12_OsloAero_intBVOC_f09_f09_mg17_ssp245_2015-01-01_2019-01-01_hour_locations.nc\n",
      "//proj/bolinc/users/x_sarbl/analysis/Output_data_BS-FDBCK/collocated_ds/NorESM/OsloAero_intBVOC_f09_f09_mg17_ssp245/NMR13_OsloAero_intBVOC_f09_f09_mg17_ssp245_2015-01-01_2019-01-01_hour_locations.nc\n",
      "//proj/bolinc/users/x_sarbl/analysis/Output_data_BS-FDBCK/collocated_ds/NorESM/OsloAero_intBVOC_f09_f09_mg17_ssp245/SIGMA13_OsloAero_intBVOC_f09_f09_mg17_ssp245_2015-01-01_2019-01-01_hour_locations.nc\n",
      "//proj/bolinc/users/x_sarbl/analysis/Output_data_BS-FDBCK/collocated_ds/NorESM/OsloAero_intBVOC_f09_f09_mg17_ssp245/NMR14_OsloAero_intBVOC_f09_f09_mg17_ssp245_2015-01-01_2019-01-01_hour_locations.nc\n",
      "//proj/bolinc/users/x_sarbl/analysis/Output_data_BS-FDBCK/collocated_ds/NorESM/OsloAero_intBVOC_f09_f09_mg17_ssp245/SIGMA14_OsloAero_intBVOC_f09_f09_mg17_ssp245_2015-01-01_2019-01-01_hour_locations.nc\n",
      "//proj/bolinc/users/x_sarbl/analysis/Output_data_BS-FDBCK/collocated_ds/NorESM/OsloAero_intBVOC_f09_f09_mg17_ssp245/N500_OsloAero_intBVOC_f09_f09_mg17_ssp245_2015-01-01_2019-01-01_hour_locations.nc\n",
      "//proj/bolinc/users/x_sarbl/analysis/Output_data_BS-FDBCK/collocated_ds/NorESM/OsloAero_intBVOC_f09_f09_mg17_ssp245/SOA_NA_OsloAero_intBVOC_f09_f09_mg17_ssp245_2015-01-01_2019-01-01_hour_locations.nc\n",
      "//proj/bolinc/users/x_sarbl/analysis/Output_data_BS-FDBCK/collocated_ds/NorESM/OsloAero_intBVOC_f09_f09_mg17_ssp245/SOA_A1_OsloAero_intBVOC_f09_f09_mg17_ssp245_2015-01-01_2019-01-01_hour_locations.nc\n",
      "//proj/bolinc/users/x_sarbl/analysis/Output_data_BS-FDBCK/collocated_ds/NorESM/OsloAero_intBVOC_f09_f09_mg17_ssp245/OM_NI_OsloAero_intBVOC_f09_f09_mg17_ssp245_2015-01-01_2019-01-01_hour_locations.nc\n",
      "//proj/bolinc/users/x_sarbl/analysis/Output_data_BS-FDBCK/collocated_ds/NorESM/OsloAero_intBVOC_f09_f09_mg17_ssp245/OM_AI_OsloAero_intBVOC_f09_f09_mg17_ssp245_2015-01-01_2019-01-01_hour_locations.nc\n",
      "//proj/bolinc/users/x_sarbl/analysis/Output_data_BS-FDBCK/collocated_ds/NorESM/OsloAero_intBVOC_f09_f09_mg17_ssp245/OM_AC_OsloAero_intBVOC_f09_f09_mg17_ssp245_2015-01-01_2019-01-01_hour_locations.nc\n",
      "//proj/bolinc/users/x_sarbl/analysis/Output_data_BS-FDBCK/collocated_ds/NorESM/OsloAero_intBVOC_f09_f09_mg17_ssp245/SO4_NA_OsloAero_intBVOC_f09_f09_mg17_ssp245_2015-01-01_2019-01-01_hour_locations.nc\n",
      "//proj/bolinc/users/x_sarbl/analysis/Output_data_BS-FDBCK/collocated_ds/NorESM/OsloAero_intBVOC_f09_f09_mg17_ssp245/SO4_A1_OsloAero_intBVOC_f09_f09_mg17_ssp245_2015-01-01_2019-01-01_hour_locations.nc\n",
      "//proj/bolinc/users/x_sarbl/analysis/Output_data_BS-FDBCK/collocated_ds/NorESM/OsloAero_intBVOC_f09_f09_mg17_ssp245/SO4_A2_OsloAero_intBVOC_f09_f09_mg17_ssp245_2015-01-01_2019-01-01_hour_locations.nc\n",
      "//proj/bolinc/users/x_sarbl/analysis/Output_data_BS-FDBCK/collocated_ds/NorESM/OsloAero_intBVOC_f09_f09_mg17_ssp245/SO4_AC_OsloAero_intBVOC_f09_f09_mg17_ssp245_2015-01-01_2019-01-01_hour_locations.nc\n",
      "//proj/bolinc/users/x_sarbl/analysis/Output_data_BS-FDBCK/collocated_ds/NorESM/OsloAero_intBVOC_f09_f09_mg17_ssp245/SO4_PR_OsloAero_intBVOC_f09_f09_mg17_ssp245_2015-01-01_2019-01-01_hour_locations.nc\n",
      "//proj/bolinc/users/x_sarbl/analysis/Output_data_BS-FDBCK/collocated_ds/NorESM/OsloAero_intBVOC_f09_f09_mg17_ssp245/BC_N_OsloAero_intBVOC_f09_f09_mg17_ssp245_2015-01-01_2019-01-01_hour_locations.nc\n",
      "//proj/bolinc/users/x_sarbl/analysis/Output_data_BS-FDBCK/collocated_ds/NorESM/OsloAero_intBVOC_f09_f09_mg17_ssp245/BC_AX_OsloAero_intBVOC_f09_f09_mg17_ssp245_2015-01-01_2019-01-01_hour_locations.nc\n",
      "//proj/bolinc/users/x_sarbl/analysis/Output_data_BS-FDBCK/collocated_ds/NorESM/OsloAero_intBVOC_f09_f09_mg17_ssp245/BC_NI_OsloAero_intBVOC_f09_f09_mg17_ssp245_2015-01-01_2019-01-01_hour_locations.nc\n",
      "//proj/bolinc/users/x_sarbl/analysis/Output_data_BS-FDBCK/collocated_ds/NorESM/OsloAero_intBVOC_f09_f09_mg17_ssp245/BC_A_OsloAero_intBVOC_f09_f09_mg17_ssp245_2015-01-01_2019-01-01_hour_locations.nc\n",
      "//proj/bolinc/users/x_sarbl/analysis/Output_data_BS-FDBCK/collocated_ds/NorESM/OsloAero_intBVOC_f09_f09_mg17_ssp245/BC_AI_OsloAero_intBVOC_f09_f09_mg17_ssp245_2015-01-01_2019-01-01_hour_locations.nc\n",
      "//proj/bolinc/users/x_sarbl/analysis/Output_data_BS-FDBCK/collocated_ds/NorESM/OsloAero_intBVOC_f09_f09_mg17_ssp245/BC_AC_OsloAero_intBVOC_f09_f09_mg17_ssp245_2015-01-01_2019-01-01_hour_locations.nc\n",
      "//proj/bolinc/users/x_sarbl/analysis/Output_data_BS-FDBCK/collocated_ds/NorESM/OsloAero_intBVOC_f09_f09_mg17_ssp245/SS_A1_OsloAero_intBVOC_f09_f09_mg17_ssp245_2015-01-01_2019-01-01_hour_locations.nc\n",
      "//proj/bolinc/users/x_sarbl/analysis/Output_data_BS-FDBCK/collocated_ds/NorESM/OsloAero_intBVOC_f09_f09_mg17_ssp245/SS_A2_OsloAero_intBVOC_f09_f09_mg17_ssp245_2015-01-01_2019-01-01_hour_locations.nc\n",
      "//proj/bolinc/users/x_sarbl/analysis/Output_data_BS-FDBCK/collocated_ds/NorESM/OsloAero_intBVOC_f09_f09_mg17_ssp245/SS_A3_OsloAero_intBVOC_f09_f09_mg17_ssp245_2015-01-01_2019-01-01_hour_locations.nc\n",
      "//proj/bolinc/users/x_sarbl/analysis/Output_data_BS-FDBCK/collocated_ds/NorESM/OsloAero_intBVOC_f09_f09_mg17_ssp245/DST_A2_OsloAero_intBVOC_f09_f09_mg17_ssp245_2015-01-01_2019-01-01_hour_locations.nc\n",
      "//proj/bolinc/users/x_sarbl/analysis/Output_data_BS-FDBCK/collocated_ds/NorESM/OsloAero_intBVOC_f09_f09_mg17_ssp245/DST_A3_OsloAero_intBVOC_f09_f09_mg17_ssp245_2015-01-01_2019-01-01_hour_locations.nc\n",
      "2022-11-23 17:33:36,847 useful_scit  INFO     Opening: [//proj/bolinc/users/x_sarbl/analysis/Output_data_BS-FDBCK/collocated_ds/NorESM/OsloAero_intBVOC_f09_f09_mg17_ssp245/N100_OsloAero_intBVOC_f09_f09_mg17_ssp245_2015-01-01_2019-01-01_hour_locations.nc,//proj/bolinc/users/x_sarbl/analysis/Output_data_BS-FDBCK/collocated_ds/NorESM/OsloAero_intBVOC_f09_f09_mg17_ssp245/DOD500_OsloAero_intBVOC_f09_f09_mg17_ssp245_2015-01-01_2019-01-01_hour_locations.nc,//proj/bolinc/users/x_sarbl/analysis/Output_data_BS-FDBCK/collocated_ds/NorESM/OsloAero_intBVOC_f09_f09_mg17_ssp245/DOD440_OsloAero_intBVOC_f09_f09_mg17_ssp245_2015-01-01_2019-01-01_hour_locations.nc,//proj/bolinc/users/x_sarbl/analysis/Output_data_BS-FDBCK/collocated_ds/NorESM/OsloAero_intBVOC_f09_f09_mg17_ssp245/ACTREL_OsloAero_intBVOC_f09_f09_mg17_ssp245_2015-01-01_2019-01-01_hour_locations.nc,//proj/bolinc/users/x_sarbl/analysis/Output_data_BS-FDBCK/collocated_ds/NorESM/OsloAero_intBVOC_f09_f09_mg17_ssp245/H2SO4_OsloAero_intBVOC_f09_f09_mg17_ssp245_2015-01-01_2019-01-01_hour_locations.nc,//proj/bolinc/users/x_sarbl/analysis/Output_data_BS-FDBCK/collocated_ds/NorESM/OsloAero_intBVOC_f09_f09_mg17_ssp245/SOA_LV_OsloAero_intBVOC_f09_f09_mg17_ssp245_2015-01-01_2019-01-01_hour_locations.nc,//proj/bolinc/users/x_sarbl/analysis/Output_data_BS-FDBCK/collocated_ds/NorESM/OsloAero_intBVOC_f09_f09_mg17_ssp245/COAGNUCL_OsloAero_intBVOC_f09_f09_mg17_ssp245_2015-01-01_2019-01-01_hour_locations.nc,//proj/bolinc/users/x_sarbl/analysis/Output_data_BS-FDBCK/collocated_ds/NorESM/OsloAero_intBVOC_f09_f09_mg17_ssp245/FORMRATE_OsloAero_intBVOC_f09_f09_mg17_ssp245_2015-01-01_2019-01-01_hour_locations.nc,//proj/bolinc/users/x_sarbl/analysis/Output_data_BS-FDBCK/collocated_ds/NorESM/OsloAero_intBVOC_f09_f09_mg17_ssp245/T_OsloAero_intBVOC_f09_f09_mg17_ssp245_2015-01-01_2019-01-01_hour_locations.nc,//proj/bolinc/users/x_sarbl/analysis/Output_data_BS-FDBCK/collocated_ds/NorESM/OsloAero_intBVOC_f09_f09_mg17_ssp245/SOA_SV_OsloAero_intBVOC_f09_f09_mg17_ssp245_2015-01-01_2019-01-01_hour_locations.nc,//proj/bolinc/users/x_sarbl/analysis/Output_data_BS-FDBCK/collocated_ds/NorESM/OsloAero_intBVOC_f09_f09_mg17_ssp245/NCONC01_OsloAero_intBVOC_f09_f09_mg17_ssp245_2015-01-01_2019-01-01_hour_locations.nc,//proj/bolinc/users/x_sarbl/analysis/Output_data_BS-FDBCK/collocated_ds/NorESM/OsloAero_intBVOC_f09_f09_mg17_ssp245/N50_OsloAero_intBVOC_f09_f09_mg17_ssp245_2015-01-01_2019-01-01_hour_locations.nc,//proj/bolinc/users/x_sarbl/analysis/Output_data_BS-FDBCK/collocated_ds/NorESM/OsloAero_intBVOC_f09_f09_mg17_ssp245/N150_OsloAero_intBVOC_f09_f09_mg17_ssp245_2015-01-01_2019-01-01_hour_locations.nc,//proj/bolinc/users/x_sarbl/analysis/Output_data_BS-FDBCK/collocated_ds/NorESM/OsloAero_intBVOC_f09_f09_mg17_ssp245/N200_OsloAero_intBVOC_f09_f09_mg17_ssp245_2015-01-01_2019-01-01_hour_locations.nc,//proj/bolinc/users/x_sarbl/analysis/Output_data_BS-FDBCK/collocated_ds/NorESM/OsloAero_intBVOC_f09_f09_mg17_ssp245/isoprene_OsloAero_intBVOC_f09_f09_mg17_ssp245_2015-01-01_2019-01-01_hour_locations.nc,//proj/bolinc/users/x_sarbl/analysis/Output_data_BS-FDBCK/collocated_ds/NorESM/OsloAero_intBVOC_f09_f09_mg17_ssp245/SFisoprene_OsloAero_intBVOC_f09_f09_mg17_ssp245_2015-01-01_2019-01-01_hour_locations.nc,//proj/bolinc/users/x_sarbl/analysis/Output_data_BS-FDBCK/collocated_ds/NorESM/OsloAero_intBVOC_f09_f09_mg17_ssp245/monoterp_OsloAero_intBVOC_f09_f09_mg17_ssp245_2015-01-01_2019-01-01_hour_locations.nc,//proj/bolinc/users/x_sarbl/analysis/Output_data_BS-FDBCK/collocated_ds/NorESM/OsloAero_intBVOC_f09_f09_mg17_ssp245/SFmonoterp_OsloAero_intBVOC_f09_f09_mg17_ssp245_2015-01-01_2019-01-01_hour_locations.nc,//proj/bolinc/users/x_sarbl/analysis/Output_data_BS-FDBCK/collocated_ds/NorESM/OsloAero_intBVOC_f09_f09_mg17_ssp245/PS_OsloAero_intBVOC_f09_f09_mg17_ssp245_2015-01-01_2019-01-01_hour_locations.nc,//proj/bolinc/users/x_sarbl/analysis/Output_data_BS-FDBCK/collocated_ds/NorESM/OsloAero_intBVOC_f09_f09_mg17_ssp245/NNAT_0_OsloAero_intBVOC_f09_f09_mg17_ssp245_2015-01-01_2019-01-01_hour_locations.nc,//proj/bolinc/users/x_sarbl/analysis/Output_data_BS-FDBCK/collocated_ds/NorESM/OsloAero_intBVOC_f09_f09_mg17_ssp245/NCONC02_OsloAero_intBVOC_f09_f09_mg17_ssp245_2015-01-01_2019-01-01_hour_locations.nc,//proj/bolinc/users/x_sarbl/analysis/Output_data_BS-FDBCK/collocated_ds/NorESM/OsloAero_intBVOC_f09_f09_mg17_ssp245/NCONC03_OsloAero_intBVOC_f09_f09_mg17_ssp245_2015-01-01_2019-01-01_hour_locations.nc,//proj/bolinc/users/x_sarbl/analysis/Output_data_BS-FDBCK/collocated_ds/NorESM/OsloAero_intBVOC_f09_f09_mg17_ssp245/NCONC04_OsloAero_intBVOC_f09_f09_mg17_ssp245_2015-01-01_2019-01-01_hour_locations.nc,//proj/bolinc/users/x_sarbl/analysis/Output_data_BS-FDBCK/collocated_ds/NorESM/OsloAero_intBVOC_f09_f09_mg17_ssp245/NCONC05_OsloAero_intBVOC_f09_f09_mg17_ssp245_2015-01-01_2019-01-01_hour_locations.nc,//proj/bolinc/users/x_sarbl/analysis/Output_data_BS-FDBCK/collocated_ds/NorESM/OsloAero_intBVOC_f09_f09_mg17_ssp245/NCONC06_OsloAero_intBVOC_f09_f09_mg17_ssp245_2015-01-01_2019-01-01_hour_locations.nc,//proj/bolinc/users/x_sarbl/analysis/Output_data_BS-FDBCK/collocated_ds/NorESM/OsloAero_intBVOC_f09_f09_mg17_ssp245/NCONC07_OsloAero_intBVOC_f09_f09_mg17_ssp245_2015-01-01_2019-01-01_hour_locations.nc,//proj/bolinc/users/x_sarbl/analysis/Output_data_BS-FDBCK/collocated_ds/NorESM/OsloAero_intBVOC_f09_f09_mg17_ssp245/NCONC08_OsloAero_intBVOC_f09_f09_mg17_ssp245_2015-01-01_2019-01-01_hour_locations.nc,//proj/bolinc/users/x_sarbl/analysis/Output_data_BS-FDBCK/collocated_ds/NorESM/OsloAero_intBVOC_f09_f09_mg17_ssp245/NCONC09_OsloAero_intBVOC_f09_f09_mg17_ssp245_2015-01-01_2019-01-01_hour_locations.nc,//proj/bolinc/users/x_sarbl/analysis/Output_data_BS-FDBCK/collocated_ds/NorESM/OsloAero_intBVOC_f09_f09_mg17_ssp245/NCONC10_OsloAero_intBVOC_f09_f09_mg17_ssp245_2015-01-01_2019-01-01_hour_locations.nc,//proj/bolinc/users/x_sarbl/analysis/Output_data_BS-FDBCK/collocated_ds/NorESM/OsloAero_intBVOC_f09_f09_mg17_ssp245/NCONC11_OsloAero_intBVOC_f09_f09_mg17_ssp245_2015-01-01_2019-01-01_hour_locations.nc,//proj/bolinc/users/x_sarbl/analysis/Output_data_BS-FDBCK/collocated_ds/NorESM/OsloAero_intBVOC_f09_f09_mg17_ssp245/NCONC12_OsloAero_intBVOC_f09_f09_mg17_ssp245_2015-01-01_2019-01-01_hour_locations.nc,//proj/bolinc/users/x_sarbl/analysis/Output_data_BS-FDBCK/collocated_ds/NorESM/OsloAero_intBVOC_f09_f09_mg17_ssp245/NCONC13_OsloAero_intBVOC_f09_f09_mg17_ssp245_2015-01-01_2019-01-01_hour_locations.nc,//proj/bolinc/users/x_sarbl/analysis/Output_data_BS-FDBCK/collocated_ds/NorESM/OsloAero_intBVOC_f09_f09_mg17_ssp245/NCONC14_OsloAero_intBVOC_f09_f09_mg17_ssp245_2015-01-01_2019-01-01_hour_locations.nc,//proj/bolinc/users/x_sarbl/analysis/Output_data_BS-FDBCK/collocated_ds/NorESM/OsloAero_intBVOC_f09_f09_mg17_ssp245/NMR01_OsloAero_intBVOC_f09_f09_mg17_ssp245_2015-01-01_2019-01-01_hour_locations.nc,//proj/bolinc/users/x_sarbl/analysis/Output_data_BS-FDBCK/collocated_ds/NorESM/OsloAero_intBVOC_f09_f09_mg17_ssp245/SIGMA01_OsloAero_intBVOC_f09_f09_mg17_ssp245_2015-01-01_2019-01-01_hour_locations.nc,//proj/bolinc/users/x_sarbl/analysis/Output_data_BS-FDBCK/collocated_ds/NorESM/OsloAero_intBVOC_f09_f09_mg17_ssp245/NMR02_OsloAero_intBVOC_f09_f09_mg17_ssp245_2015-01-01_2019-01-01_hour_locations.nc,//proj/bolinc/users/x_sarbl/analysis/Output_data_BS-FDBCK/collocated_ds/NorESM/OsloAero_intBVOC_f09_f09_mg17_ssp245/SIGMA02_OsloAero_intBVOC_f09_f09_mg17_ssp245_2015-01-01_2019-01-01_hour_locations.nc,//proj/bolinc/users/x_sarbl/analysis/Output_data_BS-FDBCK/collocated_ds/NorESM/OsloAero_intBVOC_f09_f09_mg17_ssp245/NMR03_OsloAero_intBVOC_f09_f09_mg17_ssp245_2015-01-01_2019-01-01_hour_locations.nc,//proj/bolinc/users/x_sarbl/analysis/Output_data_BS-FDBCK/collocated_ds/NorESM/OsloAero_intBVOC_f09_f09_mg17_ssp245/SIGMA03_OsloAero_intBVOC_f09_f09_mg17_ssp245_2015-01-01_2019-01-01_hour_locations.nc,//proj/bolinc/users/x_sarbl/analysis/Output_data_BS-FDBCK/collocated_ds/NorESM/OsloAero_intBVOC_f09_f09_mg17_ssp245/NMR04_OsloAero_intBVOC_f09_f09_mg17_ssp245_2015-01-01_2019-01-01_hour_locations.nc,//proj/bolinc/users/x_sarbl/analysis/Output_data_BS-FDBCK/collocated_ds/NorESM/OsloAero_intBVOC_f09_f09_mg17_ssp245/SIGMA04_OsloAero_intBVOC_f09_f09_mg17_ssp245_2015-01-01_2019-01-01_hour_locations.nc,//proj/bolinc/users/x_sarbl/analysis/Output_data_BS-FDBCK/collocated_ds/NorESM/OsloAero_intBVOC_f09_f09_mg17_ssp245/NMR05_OsloAero_intBVOC_f09_f09_mg17_ssp245_2015-01-01_2019-01-01_hour_locations.nc,//proj/bolinc/users/x_sarbl/analysis/Output_data_BS-FDBCK/collocated_ds/NorESM/OsloAero_intBVOC_f09_f09_mg17_ssp245/SIGMA05_OsloAero_intBVOC_f09_f09_mg17_ssp245_2015-01-01_2019-01-01_hour_locations.nc,//proj/bolinc/users/x_sarbl/analysis/Output_data_BS-FDBCK/collocated_ds/NorESM/OsloAero_intBVOC_f09_f09_mg17_ssp245/NMR06_OsloAero_intBVOC_f09_f09_mg17_ssp245_2015-01-01_2019-01-01_hour_locations.nc,//proj/bolinc/users/x_sarbl/analysis/Output_data_BS-FDBCK/collocated_ds/NorESM/OsloAero_intBVOC_f09_f09_mg17_ssp245/SIGMA06_OsloAero_intBVOC_f09_f09_mg17_ssp245_2015-01-01_2019-01-01_hour_locations.nc,//proj/bolinc/users/x_sarbl/analysis/Output_data_BS-FDBCK/collocated_ds/NorESM/OsloAero_intBVOC_f09_f09_mg17_ssp245/NMR07_OsloAero_intBVOC_f09_f09_mg17_ssp245_2015-01-01_2019-01-01_hour_locations.nc,//proj/bolinc/users/x_sarbl/analysis/Output_data_BS-FDBCK/collocated_ds/NorESM/OsloAero_intBVOC_f09_f09_mg17_ssp245/SIGMA07_OsloAero_intBVOC_f09_f09_mg17_ssp245_2015-01-01_2019-01-01_hour_locations.nc,//proj/bolinc/users/x_sarbl/analysis/Output_data_BS-FDBCK/collocated_ds/NorESM/OsloAero_intBVOC_f09_f09_mg17_ssp245/NMR08_OsloAero_intBVOC_f09_f09_mg17_ssp245_2015-01-01_2019-01-01_hour_locations.nc,//proj/bolinc/users/x_sarbl/analysis/Output_data_BS-FDBCK/collocated_ds/NorESM/OsloAero_intBVOC_f09_f09_mg17_ssp245/SIGMA08_OsloAero_intBVOC_f09_f09_mg17_ssp245_2015-01-01_2019-01-01_hour_locations.nc,//proj/bolinc/users/x_sarbl/analysis/Output_data_BS-FDBCK/collocated_ds/NorESM/OsloAero_intBVOC_f09_f09_mg17_ssp245/NMR09_OsloAero_intBVOC_f09_f09_mg17_ssp245_2015-01-01_2019-01-01_hour_locations.nc,//proj/bolinc/users/x_sarbl/analysis/Output_data_BS-FDBCK/collocated_ds/NorESM/OsloAero_intBVOC_f09_f09_mg17_ssp245/SIGMA09_OsloAero_intBVOC_f09_f09_mg17_ssp245_2015-01-01_2019-01-01_hour_locations.nc,//proj/bolinc/users/x_sarbl/analysis/Output_data_BS-FDBCK/collocated_ds/NorESM/OsloAero_intBVOC_f09_f09_mg17_ssp245/NMR10_OsloAero_intBVOC_f09_f09_mg17_ssp245_2015-01-01_2019-01-01_hour_locations.nc,//proj/bolinc/users/x_sarbl/analysis/Output_data_BS-FDBCK/collocated_ds/NorESM/OsloAero_intBVOC_f09_f09_mg17_ssp245/SIGMA10_OsloAero_intBVOC_f09_f09_mg17_ssp245_2015-01-01_2019-01-01_hour_locations.nc,//proj/bolinc/users/x_sarbl/analysis/Output_data_BS-FDBCK/collocated_ds/NorESM/OsloAero_intBVOC_f09_f09_mg17_ssp245/NMR11_OsloAero_intBVOC_f09_f09_mg17_ssp245_2015-01-01_2019-01-01_hour_locations.nc,//proj/bolinc/users/x_sarbl/analysis/Output_data_BS-FDBCK/collocated_ds/NorESM/OsloAero_intBVOC_f09_f09_mg17_ssp245/SIGMA11_OsloAero_intBVOC_f09_f09_mg17_ssp245_2015-01-01_2019-01-01_hour_locations.nc,//proj/bolinc/users/x_sarbl/analysis/Output_data_BS-FDBCK/collocated_ds/NorESM/OsloAero_intBVOC_f09_f09_mg17_ssp245/NMR12_OsloAero_intBVOC_f09_f09_mg17_ssp245_2015-01-01_2019-01-01_hour_locations.nc,//proj/bolinc/users/x_sarbl/analysis/Output_data_BS-FDBCK/collocated_ds/NorESM/OsloAero_intBVOC_f09_f09_mg17_ssp245/SIGMA12_OsloAero_intBVOC_f09_f09_mg17_ssp245_2015-01-01_2019-01-01_hour_locations.nc,//proj/bolinc/users/x_sarbl/analysis/Output_data_BS-FDBCK/collocated_ds/NorESM/OsloAero_intBVOC_f09_f09_mg17_ssp245/NMR13_OsloAero_intBVOC_f09_f09_mg17_ssp245_2015-01-01_2019-01-01_hour_locations.nc,//proj/bolinc/users/x_sarbl/analysis/Output_data_BS-FDBCK/collocated_ds/NorESM/OsloAero_intBVOC_f09_f09_mg17_ssp245/SIGMA13_OsloAero_intBVOC_f09_f09_mg17_ssp245_2015-01-01_2019-01-01_hour_locations.nc,//proj/bolinc/users/x_sarbl/analysis/Output_data_BS-FDBCK/collocated_ds/NorESM/OsloAero_intBVOC_f09_f09_mg17_ssp245/NMR14_OsloAero_intBVOC_f09_f09_mg17_ssp245_2015-01-01_2019-01-01_hour_locations.nc,//proj/bolinc/users/x_sarbl/analysis/Output_data_BS-FDBCK/collocated_ds/NorESM/OsloAero_intBVOC_f09_f09_mg17_ssp245/SIGMA14_OsloAero_intBVOC_f09_f09_mg17_ssp245_2015-01-01_2019-01-01_hour_locations.nc,//proj/bolinc/users/x_sarbl/analysis/Output_data_BS-FDBCK/collocated_ds/NorESM/OsloAero_intBVOC_f09_f09_mg17_ssp245/N500_OsloAero_intBVOC_f09_f09_mg17_ssp245_2015-01-01_2019-01-01_hour_locations.nc,//proj/bolinc/users/x_sarbl/analysis/Output_data_BS-FDBCK/collocated_ds/NorESM/OsloAero_intBVOC_f09_f09_mg17_ssp245/SOA_NA_OsloAero_intBVOC_f09_f09_mg17_ssp245_2015-01-01_2019-01-01_hour_locations.nc,//proj/bolinc/users/x_sarbl/analysis/Output_data_BS-FDBCK/collocated_ds/NorESM/OsloAero_intBVOC_f09_f09_mg17_ssp245/SOA_A1_OsloAero_intBVOC_f09_f09_mg17_ssp245_2015-01-01_2019-01-01_hour_locations.nc,//proj/bolinc/users/x_sarbl/analysis/Output_data_BS-FDBCK/collocated_ds/NorESM/OsloAero_intBVOC_f09_f09_mg17_ssp245/OM_NI_OsloAero_intBVOC_f09_f09_mg17_ssp245_2015-01-01_2019-01-01_hour_locations.nc,//proj/bolinc/users/x_sarbl/analysis/Output_data_BS-FDBCK/collocated_ds/NorESM/OsloAero_intBVOC_f09_f09_mg17_ssp245/OM_AI_OsloAero_intBVOC_f09_f09_mg17_ssp245_2015-01-01_2019-01-01_hour_locations.nc,//proj/bolinc/users/x_sarbl/analysis/Output_data_BS-FDBCK/collocated_ds/NorESM/OsloAero_intBVOC_f09_f09_mg17_ssp245/OM_AC_OsloAero_intBVOC_f09_f09_mg17_ssp245_2015-01-01_2019-01-01_hour_locations.nc,//proj/bolinc/users/x_sarbl/analysis/Output_data_BS-FDBCK/collocated_ds/NorESM/OsloAero_intBVOC_f09_f09_mg17_ssp245/SO4_NA_OsloAero_intBVOC_f09_f09_mg17_ssp245_2015-01-01_2019-01-01_hour_locations.nc,//proj/bolinc/users/x_sarbl/analysis/Output_data_BS-FDBCK/collocated_ds/NorESM/OsloAero_intBVOC_f09_f09_mg17_ssp245/SO4_A1_OsloAero_intBVOC_f09_f09_mg17_ssp245_2015-01-01_2019-01-01_hour_locations.nc,//proj/bolinc/users/x_sarbl/analysis/Output_data_BS-FDBCK/collocated_ds/NorESM/OsloAero_intBVOC_f09_f09_mg17_ssp245/SO4_A2_OsloAero_intBVOC_f09_f09_mg17_ssp245_2015-01-01_2019-01-01_hour_locations.nc,//proj/bolinc/users/x_sarbl/analysis/Output_data_BS-FDBCK/collocated_ds/NorESM/OsloAero_intBVOC_f09_f09_mg17_ssp245/SO4_AC_OsloAero_intBVOC_f09_f09_mg17_ssp245_2015-01-01_2019-01-01_hour_locations.nc,//proj/bolinc/users/x_sarbl/analysis/Output_data_BS-FDBCK/collocated_ds/NorESM/OsloAero_intBVOC_f09_f09_mg17_ssp245/SO4_PR_OsloAero_intBVOC_f09_f09_mg17_ssp245_2015-01-01_2019-01-01_hour_locations.nc,//proj/bolinc/users/x_sarbl/analysis/Output_data_BS-FDBCK/collocated_ds/NorESM/OsloAero_intBVOC_f09_f09_mg17_ssp245/BC_N_OsloAero_intBVOC_f09_f09_mg17_ssp245_2015-01-01_2019-01-01_hour_locations.nc,//proj/bolinc/users/x_sarbl/analysis/Output_data_BS-FDBCK/collocated_ds/NorESM/OsloAero_intBVOC_f09_f09_mg17_ssp245/BC_AX_OsloAero_intBVOC_f09_f09_mg17_ssp245_2015-01-01_2019-01-01_hour_locations.nc,//proj/bolinc/users/x_sarbl/analysis/Output_data_BS-FDBCK/collocated_ds/NorESM/OsloAero_intBVOC_f09_f09_mg17_ssp245/BC_NI_OsloAero_intBVOC_f09_f09_mg17_ssp245_2015-01-01_2019-01-01_hour_locations.nc,//proj/bolinc/users/x_sarbl/analysis/Output_data_BS-FDBCK/collocated_ds/NorESM/OsloAero_intBVOC_f09_f09_mg17_ssp245/BC_A_OsloAero_intBVOC_f09_f09_mg17_ssp245_2015-01-01_2019-01-01_hour_locations.nc,//proj/bolinc/users/x_sarbl/analysis/Output_data_BS-FDBCK/collocated_ds/NorESM/OsloAero_intBVOC_f09_f09_mg17_ssp245/BC_AI_OsloAero_intBVOC_f09_f09_mg17_ssp245_2015-01-01_2019-01-01_hour_locations.nc,//proj/bolinc/users/x_sarbl/analysis/Output_data_BS-FDBCK/collocated_ds/NorESM/OsloAero_intBVOC_f09_f09_mg17_ssp245/BC_AC_OsloAero_intBVOC_f09_f09_mg17_ssp245_2015-01-01_2019-01-01_hour_locations.nc,//proj/bolinc/users/x_sarbl/analysis/Output_data_BS-FDBCK/collocated_ds/NorESM/OsloAero_intBVOC_f09_f09_mg17_ssp245/SS_A1_OsloAero_intBVOC_f09_f09_mg17_ssp245_2015-01-01_2019-01-01_hour_locations.nc,//proj/bolinc/users/x_sarbl/analysis/Output_data_BS-FDBCK/collocated_ds/NorESM/OsloAero_intBVOC_f09_f09_mg17_ssp245/SS_A2_OsloAero_intBVOC_f09_f09_mg17_ssp245_2015-01-01_2019-01-01_hour_locations.nc,//proj/bolinc/users/x_sarbl/analysis/Output_data_BS-FDBCK/collocated_ds/NorESM/OsloAero_intBVOC_f09_f09_mg17_ssp245/SS_A3_OsloAero_intBVOC_f09_f09_mg17_ssp245_2015-01-01_2019-01-01_hour_locations.nc,//proj/bolinc/users/x_sarbl/analysis/Output_data_BS-FDBCK/collocated_ds/NorESM/OsloAero_intBVOC_f09_f09_mg17_ssp245/DST_A2_OsloAero_intBVOC_f09_f09_mg17_ssp245_2015-01-01_2019-01-01_hour_locations.nc,//proj/bolinc/users/x_sarbl/analysis/Output_data_BS-FDBCK/collocated_ds/NorESM/OsloAero_intBVOC_f09_f09_mg17_ssp245/DST_A3_OsloAero_intBVOC_f09_f09_mg17_ssp245_2015-01-01_2019-01-01_hour_locations.nc]\n",
      "['//proj/bolinc/users/x_sarbl/analysis/Output_data_BS-FDBCK/collocated_ds/NorESM/OsloAero_intBVOC_f09_f09_mg17_ssp245/N100_OsloAero_intBVOC_f09_f09_mg17_ssp245_2015-01-01_2019-01-01_hour_locations.nc', '//proj/bolinc/users/x_sarbl/analysis/Output_data_BS-FDBCK/collocated_ds/NorESM/OsloAero_intBVOC_f09_f09_mg17_ssp245/DOD500_OsloAero_intBVOC_f09_f09_mg17_ssp245_2015-01-01_2019-01-01_hour_locations.nc', '//proj/bolinc/users/x_sarbl/analysis/Output_data_BS-FDBCK/collocated_ds/NorESM/OsloAero_intBVOC_f09_f09_mg17_ssp245/DOD440_OsloAero_intBVOC_f09_f09_mg17_ssp245_2015-01-01_2019-01-01_hour_locations.nc', '//proj/bolinc/users/x_sarbl/analysis/Output_data_BS-FDBCK/collocated_ds/NorESM/OsloAero_intBVOC_f09_f09_mg17_ssp245/ACTREL_OsloAero_intBVOC_f09_f09_mg17_ssp245_2015-01-01_2019-01-01_hour_locations.nc', '//proj/bolinc/users/x_sarbl/analysis/Output_data_BS-FDBCK/collocated_ds/NorESM/OsloAero_intBVOC_f09_f09_mg17_ssp245/H2SO4_OsloAero_intBVOC_f09_f09_mg17_ssp245_2015-01-01_2019-01-01_hour_locations.nc', '//proj/bolinc/users/x_sarbl/analysis/Output_data_BS-FDBCK/collocated_ds/NorESM/OsloAero_intBVOC_f09_f09_mg17_ssp245/SOA_LV_OsloAero_intBVOC_f09_f09_mg17_ssp245_2015-01-01_2019-01-01_hour_locations.nc', '//proj/bolinc/users/x_sarbl/analysis/Output_data_BS-FDBCK/collocated_ds/NorESM/OsloAero_intBVOC_f09_f09_mg17_ssp245/COAGNUCL_OsloAero_intBVOC_f09_f09_mg17_ssp245_2015-01-01_2019-01-01_hour_locations.nc', '//proj/bolinc/users/x_sarbl/analysis/Output_data_BS-FDBCK/collocated_ds/NorESM/OsloAero_intBVOC_f09_f09_mg17_ssp245/FORMRATE_OsloAero_intBVOC_f09_f09_mg17_ssp245_2015-01-01_2019-01-01_hour_locations.nc', '//proj/bolinc/users/x_sarbl/analysis/Output_data_BS-FDBCK/collocated_ds/NorESM/OsloAero_intBVOC_f09_f09_mg17_ssp245/T_OsloAero_intBVOC_f09_f09_mg17_ssp245_2015-01-01_2019-01-01_hour_locations.nc', '//proj/bolinc/users/x_sarbl/analysis/Output_data_BS-FDBCK/collocated_ds/NorESM/OsloAero_intBVOC_f09_f09_mg17_ssp245/SOA_SV_OsloAero_intBVOC_f09_f09_mg17_ssp245_2015-01-01_2019-01-01_hour_locations.nc', '//proj/bolinc/users/x_sarbl/analysis/Output_data_BS-FDBCK/collocated_ds/NorESM/OsloAero_intBVOC_f09_f09_mg17_ssp245/NCONC01_OsloAero_intBVOC_f09_f09_mg17_ssp245_2015-01-01_2019-01-01_hour_locations.nc', '//proj/bolinc/users/x_sarbl/analysis/Output_data_BS-FDBCK/collocated_ds/NorESM/OsloAero_intBVOC_f09_f09_mg17_ssp245/N50_OsloAero_intBVOC_f09_f09_mg17_ssp245_2015-01-01_2019-01-01_hour_locations.nc', '//proj/bolinc/users/x_sarbl/analysis/Output_data_BS-FDBCK/collocated_ds/NorESM/OsloAero_intBVOC_f09_f09_mg17_ssp245/N150_OsloAero_intBVOC_f09_f09_mg17_ssp245_2015-01-01_2019-01-01_hour_locations.nc', '//proj/bolinc/users/x_sarbl/analysis/Output_data_BS-FDBCK/collocated_ds/NorESM/OsloAero_intBVOC_f09_f09_mg17_ssp245/N200_OsloAero_intBVOC_f09_f09_mg17_ssp245_2015-01-01_2019-01-01_hour_locations.nc', '//proj/bolinc/users/x_sarbl/analysis/Output_data_BS-FDBCK/collocated_ds/NorESM/OsloAero_intBVOC_f09_f09_mg17_ssp245/isoprene_OsloAero_intBVOC_f09_f09_mg17_ssp245_2015-01-01_2019-01-01_hour_locations.nc', '//proj/bolinc/users/x_sarbl/analysis/Output_data_BS-FDBCK/collocated_ds/NorESM/OsloAero_intBVOC_f09_f09_mg17_ssp245/SFisoprene_OsloAero_intBVOC_f09_f09_mg17_ssp245_2015-01-01_2019-01-01_hour_locations.nc', '//proj/bolinc/users/x_sarbl/analysis/Output_data_BS-FDBCK/collocated_ds/NorESM/OsloAero_intBVOC_f09_f09_mg17_ssp245/monoterp_OsloAero_intBVOC_f09_f09_mg17_ssp245_2015-01-01_2019-01-01_hour_locations.nc', '//proj/bolinc/users/x_sarbl/analysis/Output_data_BS-FDBCK/collocated_ds/NorESM/OsloAero_intBVOC_f09_f09_mg17_ssp245/SFmonoterp_OsloAero_intBVOC_f09_f09_mg17_ssp245_2015-01-01_2019-01-01_hour_locations.nc', '//proj/bolinc/users/x_sarbl/analysis/Output_data_BS-FDBCK/collocated_ds/NorESM/OsloAero_intBVOC_f09_f09_mg17_ssp245/PS_OsloAero_intBVOC_f09_f09_mg17_ssp245_2015-01-01_2019-01-01_hour_locations.nc', '//proj/bolinc/users/x_sarbl/analysis/Output_data_BS-FDBCK/collocated_ds/NorESM/OsloAero_intBVOC_f09_f09_mg17_ssp245/NNAT_0_OsloAero_intBVOC_f09_f09_mg17_ssp245_2015-01-01_2019-01-01_hour_locations.nc', '//proj/bolinc/users/x_sarbl/analysis/Output_data_BS-FDBCK/collocated_ds/NorESM/OsloAero_intBVOC_f09_f09_mg17_ssp245/NCONC02_OsloAero_intBVOC_f09_f09_mg17_ssp245_2015-01-01_2019-01-01_hour_locations.nc', '//proj/bolinc/users/x_sarbl/analysis/Output_data_BS-FDBCK/collocated_ds/NorESM/OsloAero_intBVOC_f09_f09_mg17_ssp245/NCONC03_OsloAero_intBVOC_f09_f09_mg17_ssp245_2015-01-01_2019-01-01_hour_locations.nc', '//proj/bolinc/users/x_sarbl/analysis/Output_data_BS-FDBCK/collocated_ds/NorESM/OsloAero_intBVOC_f09_f09_mg17_ssp245/NCONC04_OsloAero_intBVOC_f09_f09_mg17_ssp245_2015-01-01_2019-01-01_hour_locations.nc', '//proj/bolinc/users/x_sarbl/analysis/Output_data_BS-FDBCK/collocated_ds/NorESM/OsloAero_intBVOC_f09_f09_mg17_ssp245/NCONC05_OsloAero_intBVOC_f09_f09_mg17_ssp245_2015-01-01_2019-01-01_hour_locations.nc', '//proj/bolinc/users/x_sarbl/analysis/Output_data_BS-FDBCK/collocated_ds/NorESM/OsloAero_intBVOC_f09_f09_mg17_ssp245/NCONC06_OsloAero_intBVOC_f09_f09_mg17_ssp245_2015-01-01_2019-01-01_hour_locations.nc', '//proj/bolinc/users/x_sarbl/analysis/Output_data_BS-FDBCK/collocated_ds/NorESM/OsloAero_intBVOC_f09_f09_mg17_ssp245/NCONC07_OsloAero_intBVOC_f09_f09_mg17_ssp245_2015-01-01_2019-01-01_hour_locations.nc', '//proj/bolinc/users/x_sarbl/analysis/Output_data_BS-FDBCK/collocated_ds/NorESM/OsloAero_intBVOC_f09_f09_mg17_ssp245/NCONC08_OsloAero_intBVOC_f09_f09_mg17_ssp245_2015-01-01_2019-01-01_hour_locations.nc', '//proj/bolinc/users/x_sarbl/analysis/Output_data_BS-FDBCK/collocated_ds/NorESM/OsloAero_intBVOC_f09_f09_mg17_ssp245/NCONC09_OsloAero_intBVOC_f09_f09_mg17_ssp245_2015-01-01_2019-01-01_hour_locations.nc', '//proj/bolinc/users/x_sarbl/analysis/Output_data_BS-FDBCK/collocated_ds/NorESM/OsloAero_intBVOC_f09_f09_mg17_ssp245/NCONC10_OsloAero_intBVOC_f09_f09_mg17_ssp245_2015-01-01_2019-01-01_hour_locations.nc', '//proj/bolinc/users/x_sarbl/analysis/Output_data_BS-FDBCK/collocated_ds/NorESM/OsloAero_intBVOC_f09_f09_mg17_ssp245/NCONC11_OsloAero_intBVOC_f09_f09_mg17_ssp245_2015-01-01_2019-01-01_hour_locations.nc', '//proj/bolinc/users/x_sarbl/analysis/Output_data_BS-FDBCK/collocated_ds/NorESM/OsloAero_intBVOC_f09_f09_mg17_ssp245/NCONC12_OsloAero_intBVOC_f09_f09_mg17_ssp245_2015-01-01_2019-01-01_hour_locations.nc', '//proj/bolinc/users/x_sarbl/analysis/Output_data_BS-FDBCK/collocated_ds/NorESM/OsloAero_intBVOC_f09_f09_mg17_ssp245/NCONC13_OsloAero_intBVOC_f09_f09_mg17_ssp245_2015-01-01_2019-01-01_hour_locations.nc', '//proj/bolinc/users/x_sarbl/analysis/Output_data_BS-FDBCK/collocated_ds/NorESM/OsloAero_intBVOC_f09_f09_mg17_ssp245/NCONC14_OsloAero_intBVOC_f09_f09_mg17_ssp245_2015-01-01_2019-01-01_hour_locations.nc', '//proj/bolinc/users/x_sarbl/analysis/Output_data_BS-FDBCK/collocated_ds/NorESM/OsloAero_intBVOC_f09_f09_mg17_ssp245/NMR01_OsloAero_intBVOC_f09_f09_mg17_ssp245_2015-01-01_2019-01-01_hour_locations.nc', '//proj/bolinc/users/x_sarbl/analysis/Output_data_BS-FDBCK/collocated_ds/NorESM/OsloAero_intBVOC_f09_f09_mg17_ssp245/SIGMA01_OsloAero_intBVOC_f09_f09_mg17_ssp245_2015-01-01_2019-01-01_hour_locations.nc', '//proj/bolinc/users/x_sarbl/analysis/Output_data_BS-FDBCK/collocated_ds/NorESM/OsloAero_intBVOC_f09_f09_mg17_ssp245/NMR02_OsloAero_intBVOC_f09_f09_mg17_ssp245_2015-01-01_2019-01-01_hour_locations.nc', '//proj/bolinc/users/x_sarbl/analysis/Output_data_BS-FDBCK/collocated_ds/NorESM/OsloAero_intBVOC_f09_f09_mg17_ssp245/SIGMA02_OsloAero_intBVOC_f09_f09_mg17_ssp245_2015-01-01_2019-01-01_hour_locations.nc', '//proj/bolinc/users/x_sarbl/analysis/Output_data_BS-FDBCK/collocated_ds/NorESM/OsloAero_intBVOC_f09_f09_mg17_ssp245/NMR03_OsloAero_intBVOC_f09_f09_mg17_ssp245_2015-01-01_2019-01-01_hour_locations.nc', '//proj/bolinc/users/x_sarbl/analysis/Output_data_BS-FDBCK/collocated_ds/NorESM/OsloAero_intBVOC_f09_f09_mg17_ssp245/SIGMA03_OsloAero_intBVOC_f09_f09_mg17_ssp245_2015-01-01_2019-01-01_hour_locations.nc', '//proj/bolinc/users/x_sarbl/analysis/Output_data_BS-FDBCK/collocated_ds/NorESM/OsloAero_intBVOC_f09_f09_mg17_ssp245/NMR04_OsloAero_intBVOC_f09_f09_mg17_ssp245_2015-01-01_2019-01-01_hour_locations.nc', '//proj/bolinc/users/x_sarbl/analysis/Output_data_BS-FDBCK/collocated_ds/NorESM/OsloAero_intBVOC_f09_f09_mg17_ssp245/SIGMA04_OsloAero_intBVOC_f09_f09_mg17_ssp245_2015-01-01_2019-01-01_hour_locations.nc', '//proj/bolinc/users/x_sarbl/analysis/Output_data_BS-FDBCK/collocated_ds/NorESM/OsloAero_intBVOC_f09_f09_mg17_ssp245/NMR05_OsloAero_intBVOC_f09_f09_mg17_ssp245_2015-01-01_2019-01-01_hour_locations.nc', '//proj/bolinc/users/x_sarbl/analysis/Output_data_BS-FDBCK/collocated_ds/NorESM/OsloAero_intBVOC_f09_f09_mg17_ssp245/SIGMA05_OsloAero_intBVOC_f09_f09_mg17_ssp245_2015-01-01_2019-01-01_hour_locations.nc', '//proj/bolinc/users/x_sarbl/analysis/Output_data_BS-FDBCK/collocated_ds/NorESM/OsloAero_intBVOC_f09_f09_mg17_ssp245/NMR06_OsloAero_intBVOC_f09_f09_mg17_ssp245_2015-01-01_2019-01-01_hour_locations.nc', '//proj/bolinc/users/x_sarbl/analysis/Output_data_BS-FDBCK/collocated_ds/NorESM/OsloAero_intBVOC_f09_f09_mg17_ssp245/SIGMA06_OsloAero_intBVOC_f09_f09_mg17_ssp245_2015-01-01_2019-01-01_hour_locations.nc', '//proj/bolinc/users/x_sarbl/analysis/Output_data_BS-FDBCK/collocated_ds/NorESM/OsloAero_intBVOC_f09_f09_mg17_ssp245/NMR07_OsloAero_intBVOC_f09_f09_mg17_ssp245_2015-01-01_2019-01-01_hour_locations.nc', '//proj/bolinc/users/x_sarbl/analysis/Output_data_BS-FDBCK/collocated_ds/NorESM/OsloAero_intBVOC_f09_f09_mg17_ssp245/SIGMA07_OsloAero_intBVOC_f09_f09_mg17_ssp245_2015-01-01_2019-01-01_hour_locations.nc', '//proj/bolinc/users/x_sarbl/analysis/Output_data_BS-FDBCK/collocated_ds/NorESM/OsloAero_intBVOC_f09_f09_mg17_ssp245/NMR08_OsloAero_intBVOC_f09_f09_mg17_ssp245_2015-01-01_2019-01-01_hour_locations.nc', '//proj/bolinc/users/x_sarbl/analysis/Output_data_BS-FDBCK/collocated_ds/NorESM/OsloAero_intBVOC_f09_f09_mg17_ssp245/SIGMA08_OsloAero_intBVOC_f09_f09_mg17_ssp245_2015-01-01_2019-01-01_hour_locations.nc', '//proj/bolinc/users/x_sarbl/analysis/Output_data_BS-FDBCK/collocated_ds/NorESM/OsloAero_intBVOC_f09_f09_mg17_ssp245/NMR09_OsloAero_intBVOC_f09_f09_mg17_ssp245_2015-01-01_2019-01-01_hour_locations.nc', '//proj/bolinc/users/x_sarbl/analysis/Output_data_BS-FDBCK/collocated_ds/NorESM/OsloAero_intBVOC_f09_f09_mg17_ssp245/SIGMA09_OsloAero_intBVOC_f09_f09_mg17_ssp245_2015-01-01_2019-01-01_hour_locations.nc', '//proj/bolinc/users/x_sarbl/analysis/Output_data_BS-FDBCK/collocated_ds/NorESM/OsloAero_intBVOC_f09_f09_mg17_ssp245/NMR10_OsloAero_intBVOC_f09_f09_mg17_ssp245_2015-01-01_2019-01-01_hour_locations.nc', '//proj/bolinc/users/x_sarbl/analysis/Output_data_BS-FDBCK/collocated_ds/NorESM/OsloAero_intBVOC_f09_f09_mg17_ssp245/SIGMA10_OsloAero_intBVOC_f09_f09_mg17_ssp245_2015-01-01_2019-01-01_hour_locations.nc', '//proj/bolinc/users/x_sarbl/analysis/Output_data_BS-FDBCK/collocated_ds/NorESM/OsloAero_intBVOC_f09_f09_mg17_ssp245/NMR11_OsloAero_intBVOC_f09_f09_mg17_ssp245_2015-01-01_2019-01-01_hour_locations.nc', '//proj/bolinc/users/x_sarbl/analysis/Output_data_BS-FDBCK/collocated_ds/NorESM/OsloAero_intBVOC_f09_f09_mg17_ssp245/SIGMA11_OsloAero_intBVOC_f09_f09_mg17_ssp245_2015-01-01_2019-01-01_hour_locations.nc', '//proj/bolinc/users/x_sarbl/analysis/Output_data_BS-FDBCK/collocated_ds/NorESM/OsloAero_intBVOC_f09_f09_mg17_ssp245/NMR12_OsloAero_intBVOC_f09_f09_mg17_ssp245_2015-01-01_2019-01-01_hour_locations.nc', '//proj/bolinc/users/x_sarbl/analysis/Output_data_BS-FDBCK/collocated_ds/NorESM/OsloAero_intBVOC_f09_f09_mg17_ssp245/SIGMA12_OsloAero_intBVOC_f09_f09_mg17_ssp245_2015-01-01_2019-01-01_hour_locations.nc', '//proj/bolinc/users/x_sarbl/analysis/Output_data_BS-FDBCK/collocated_ds/NorESM/OsloAero_intBVOC_f09_f09_mg17_ssp245/NMR13_OsloAero_intBVOC_f09_f09_mg17_ssp245_2015-01-01_2019-01-01_hour_locations.nc', '//proj/bolinc/users/x_sarbl/analysis/Output_data_BS-FDBCK/collocated_ds/NorESM/OsloAero_intBVOC_f09_f09_mg17_ssp245/SIGMA13_OsloAero_intBVOC_f09_f09_mg17_ssp245_2015-01-01_2019-01-01_hour_locations.nc', '//proj/bolinc/users/x_sarbl/analysis/Output_data_BS-FDBCK/collocated_ds/NorESM/OsloAero_intBVOC_f09_f09_mg17_ssp245/NMR14_OsloAero_intBVOC_f09_f09_mg17_ssp245_2015-01-01_2019-01-01_hour_locations.nc', '//proj/bolinc/users/x_sarbl/analysis/Output_data_BS-FDBCK/collocated_ds/NorESM/OsloAero_intBVOC_f09_f09_mg17_ssp245/SIGMA14_OsloAero_intBVOC_f09_f09_mg17_ssp245_2015-01-01_2019-01-01_hour_locations.nc', '//proj/bolinc/users/x_sarbl/analysis/Output_data_BS-FDBCK/collocated_ds/NorESM/OsloAero_intBVOC_f09_f09_mg17_ssp245/N500_OsloAero_intBVOC_f09_f09_mg17_ssp245_2015-01-01_2019-01-01_hour_locations.nc', '//proj/bolinc/users/x_sarbl/analysis/Output_data_BS-FDBCK/collocated_ds/NorESM/OsloAero_intBVOC_f09_f09_mg17_ssp245/SOA_NA_OsloAero_intBVOC_f09_f09_mg17_ssp245_2015-01-01_2019-01-01_hour_locations.nc', '//proj/bolinc/users/x_sarbl/analysis/Output_data_BS-FDBCK/collocated_ds/NorESM/OsloAero_intBVOC_f09_f09_mg17_ssp245/SOA_A1_OsloAero_intBVOC_f09_f09_mg17_ssp245_2015-01-01_2019-01-01_hour_locations.nc', '//proj/bolinc/users/x_sarbl/analysis/Output_data_BS-FDBCK/collocated_ds/NorESM/OsloAero_intBVOC_f09_f09_mg17_ssp245/OM_NI_OsloAero_intBVOC_f09_f09_mg17_ssp245_2015-01-01_2019-01-01_hour_locations.nc', '//proj/bolinc/users/x_sarbl/analysis/Output_data_BS-FDBCK/collocated_ds/NorESM/OsloAero_intBVOC_f09_f09_mg17_ssp245/OM_AI_OsloAero_intBVOC_f09_f09_mg17_ssp245_2015-01-01_2019-01-01_hour_locations.nc', '//proj/bolinc/users/x_sarbl/analysis/Output_data_BS-FDBCK/collocated_ds/NorESM/OsloAero_intBVOC_f09_f09_mg17_ssp245/OM_AC_OsloAero_intBVOC_f09_f09_mg17_ssp245_2015-01-01_2019-01-01_hour_locations.nc', '//proj/bolinc/users/x_sarbl/analysis/Output_data_BS-FDBCK/collocated_ds/NorESM/OsloAero_intBVOC_f09_f09_mg17_ssp245/SO4_NA_OsloAero_intBVOC_f09_f09_mg17_ssp245_2015-01-01_2019-01-01_hour_locations.nc', '//proj/bolinc/users/x_sarbl/analysis/Output_data_BS-FDBCK/collocated_ds/NorESM/OsloAero_intBVOC_f09_f09_mg17_ssp245/SO4_A1_OsloAero_intBVOC_f09_f09_mg17_ssp245_2015-01-01_2019-01-01_hour_locations.nc', '//proj/bolinc/users/x_sarbl/analysis/Output_data_BS-FDBCK/collocated_ds/NorESM/OsloAero_intBVOC_f09_f09_mg17_ssp245/SO4_A2_OsloAero_intBVOC_f09_f09_mg17_ssp245_2015-01-01_2019-01-01_hour_locations.nc', '//proj/bolinc/users/x_sarbl/analysis/Output_data_BS-FDBCK/collocated_ds/NorESM/OsloAero_intBVOC_f09_f09_mg17_ssp245/SO4_AC_OsloAero_intBVOC_f09_f09_mg17_ssp245_2015-01-01_2019-01-01_hour_locations.nc', '//proj/bolinc/users/x_sarbl/analysis/Output_data_BS-FDBCK/collocated_ds/NorESM/OsloAero_intBVOC_f09_f09_mg17_ssp245/SO4_PR_OsloAero_intBVOC_f09_f09_mg17_ssp245_2015-01-01_2019-01-01_hour_locations.nc', '//proj/bolinc/users/x_sarbl/analysis/Output_data_BS-FDBCK/collocated_ds/NorESM/OsloAero_intBVOC_f09_f09_mg17_ssp245/BC_N_OsloAero_intBVOC_f09_f09_mg17_ssp245_2015-01-01_2019-01-01_hour_locations.nc', '//proj/bolinc/users/x_sarbl/analysis/Output_data_BS-FDBCK/collocated_ds/NorESM/OsloAero_intBVOC_f09_f09_mg17_ssp245/BC_AX_OsloAero_intBVOC_f09_f09_mg17_ssp245_2015-01-01_2019-01-01_hour_locations.nc', '//proj/bolinc/users/x_sarbl/analysis/Output_data_BS-FDBCK/collocated_ds/NorESM/OsloAero_intBVOC_f09_f09_mg17_ssp245/BC_NI_OsloAero_intBVOC_f09_f09_mg17_ssp245_2015-01-01_2019-01-01_hour_locations.nc', '//proj/bolinc/users/x_sarbl/analysis/Output_data_BS-FDBCK/collocated_ds/NorESM/OsloAero_intBVOC_f09_f09_mg17_ssp245/BC_A_OsloAero_intBVOC_f09_f09_mg17_ssp245_2015-01-01_2019-01-01_hour_locations.nc', '//proj/bolinc/users/x_sarbl/analysis/Output_data_BS-FDBCK/collocated_ds/NorESM/OsloAero_intBVOC_f09_f09_mg17_ssp245/BC_AI_OsloAero_intBVOC_f09_f09_mg17_ssp245_2015-01-01_2019-01-01_hour_locations.nc', '//proj/bolinc/users/x_sarbl/analysis/Output_data_BS-FDBCK/collocated_ds/NorESM/OsloAero_intBVOC_f09_f09_mg17_ssp245/BC_AC_OsloAero_intBVOC_f09_f09_mg17_ssp245_2015-01-01_2019-01-01_hour_locations.nc', '//proj/bolinc/users/x_sarbl/analysis/Output_data_BS-FDBCK/collocated_ds/NorESM/OsloAero_intBVOC_f09_f09_mg17_ssp245/SS_A1_OsloAero_intBVOC_f09_f09_mg17_ssp245_2015-01-01_2019-01-01_hour_locations.nc', '//proj/bolinc/users/x_sarbl/analysis/Output_data_BS-FDBCK/collocated_ds/NorESM/OsloAero_intBVOC_f09_f09_mg17_ssp245/SS_A2_OsloAero_intBVOC_f09_f09_mg17_ssp245_2015-01-01_2019-01-01_hour_locations.nc', '//proj/bolinc/users/x_sarbl/analysis/Output_data_BS-FDBCK/collocated_ds/NorESM/OsloAero_intBVOC_f09_f09_mg17_ssp245/SS_A3_OsloAero_intBVOC_f09_f09_mg17_ssp245_2015-01-01_2019-01-01_hour_locations.nc', '//proj/bolinc/users/x_sarbl/analysis/Output_data_BS-FDBCK/collocated_ds/NorESM/OsloAero_intBVOC_f09_f09_mg17_ssp245/DST_A2_OsloAero_intBVOC_f09_f09_mg17_ssp245_2015-01-01_2019-01-01_hour_locations.nc', '//proj/bolinc/users/x_sarbl/analysis/Output_data_BS-FDBCK/collocated_ds/NorESM/OsloAero_intBVOC_f09_f09_mg17_ssp245/DST_A3_OsloAero_intBVOC_f09_f09_mg17_ssp245_2015-01-01_2019-01-01_hour_locations.nc']\n"
     ]
    }
   ],
   "source": [
    "#dic_ds = dict()\n",
    "for ca in cases_noresm2:\n",
    "    c = CollocateLONLATout(ca, from_t2, to_t2,\n",
    "                           False,\n",
    "                           'hour',\n",
    "                           history_field=history_field)\n",
    "    ds = c.get_collocated_dataset(varl)\n",
    "    if 'location' in ds.coords:\n",
    "        ds = ds.rename({'location':'station'})\n",
    "    dic_ds[ca]=ds"
   ]
  },
  {
   "cell_type": "code",
   "execution_count": 30,
   "id": "d888a6ec-3209-4ba4-b864-014da3e0fb16",
   "metadata": {},
   "outputs": [
    {
     "name": "stdout",
     "output_type": "stream",
     "text": [
      "2012 2014 2015 2019\n"
     ]
    }
   ],
   "source": [
    "case1 = cases_noresm1[0]\n",
    "case2 = cases_noresm2[0]\n",
    "\n",
    "ds1 = dic_ds[case1]\n",
    "ds2 = dic_ds[case2]\n",
    "\n",
    "st_y = from_t.split('-')[0]\n",
    "mid_y_t = str(int(to_t.split('-')[0])-1)\n",
    "mid_y_f = to_t.split('-')[0]\n",
    "end_y = to_t2.split('-')[0]\n",
    "\n",
    "print(st_y, mid_y_t, mid_y_f, end_y)"
   ]
  },
  {
   "cell_type": "code",
   "execution_count": null,
   "id": "a82dece3-a044-41b2-b521-383824c6237d",
   "metadata": {},
   "outputs": [],
   "source": []
  },
  {
   "cell_type": "code",
   "execution_count": null,
   "id": "c44c2d8e-b8c1-4d00-b121-cd293ce6a8c9",
   "metadata": {},
   "outputs": [],
   "source": []
  },
  {
   "cell_type": "code",
   "execution_count": 31,
   "id": "61805088-1859-4656-bf29-e41bfd6426cb",
   "metadata": {},
   "outputs": [],
   "source": [
    "_ds1 = ds1.sel(time=slice(st_y, mid_y_t))\n",
    "_ds2 = ds2.sel(time=slice(mid_y_f, end_y))\n",
    "ds_comb = xr.concat([_ds1, _ds2], dim='time')#.sortby('time')"
   ]
  },
  {
   "cell_type": "code",
   "execution_count": 32,
   "id": "66118389-3033-4a21-824c-f9ca545d84c4",
   "metadata": {
    "lines_to_next_cell": 2
   },
   "outputs": [],
   "source": [
    "dic_ds = {case_mod: ds_comb}"
   ]
  },
  {
   "cell_type": "code",
   "execution_count": 33,
   "id": "b667aecb-a391-4452-aeb4-3c25a5f29a71",
   "metadata": {},
   "outputs": [],
   "source": [
    "dic_mod_ca['NorESM'] = dic_ds.copy()"
   ]
  },
  {
   "cell_type": "code",
   "execution_count": 34,
   "id": "fc6163bc-eadf-488e-af4e-5332432f57c5",
   "metadata": {},
   "outputs": [
    {
     "data": {
      "text/plain": [
       "[<matplotlib.lines.Line2D at 0x7fe02164a3d0>]"
      ]
     },
     "execution_count": 34,
     "metadata": {},
     "output_type": "execute_result"
    },
    {
     "data": {
      "image/png": "[encoded data removed]",
      "text/plain": [
       "<Figure size 432x288 with 1 Axes>"
      ]
     },
     "metadata": {
      "needs_background": "light"
     },
     "output_type": "display_data"
    }
   ],
   "source": [
    "ds_comb['N50'].sel(station='ATTO').isel(lev=-1).plot()"
   ]
  },
  {
   "cell_type": "code",
   "execution_count": 35,
   "id": "d75066d3-c824-4cdf-b6c0-65b061f1b7d9",
   "metadata": {},
   "outputs": [],
   "source": [
    "vrlis = [f'NCONC{i:02}' for i in range(1,15)] +[f'NMR{i:02}' for i in range(1,15)] + [f'SIGMA{i:02}' for i in range(1,15)] "
   ]
  },
  {
   "cell_type": "code",
   "execution_count": 36,
   "id": "98872af4-17d2-48c4-9505-953761aae24a",
   "metadata": {},
   "outputs": [],
   "source": [
    "from dask.diagnostics import ProgressBar"
   ]
  },
  {
   "cell_type": "markdown",
   "id": "9ab82540-1b2b-49a5-a3c6-0aedd0a2b77c",
   "metadata": {
    "tags": []
   },
   "source": [
    "## SELECT STATION:\n"
   ]
  },
  {
   "cell_type": "code",
   "execution_count": 37,
   "id": "f752ff6c-7354-4ba0-8237-f7942a89ee76",
   "metadata": {},
   "outputs": [],
   "source": [
    "for mod in dic_mod_ca.keys():\n",
    "    for ca in dic_mod_ca[mod].keys():\n",
    "        dic_mod_ca[mod][ca] = dic_mod_ca[mod][ca].sel(station=select_station)\n",
    "        dic_mod_ca[mod][ca].load()"
   ]
  },
  {
   "cell_type": "markdown",
   "id": "343b18a3-2007-4451-9de3-83ac739567de",
   "metadata": {
    "tags": []
   },
   "source": [
    "## Select level: "
   ]
  },
  {
   "cell_type": "code",
   "execution_count": 38,
   "id": "15a59f2e-749e-4051-81ca-5b5b7af22e00",
   "metadata": {},
   "outputs": [
    {
     "name": "stdout",
     "output_type": "stream",
     "text": [
      "<xarray.DataArray 'lev' ()>\n",
      "array(46.)\n",
      "Coordinates:\n",
      "    lev      float64 46.0\n",
      "    station  <U4 'ATTO'\n",
      "Attributes:\n",
      "    standard_name:  hybrid_sigma_pressure\n",
      "    long_name:      hybrid level at layer midpoints\n",
      "    formula:        hyam hybm (mlev=hyam+hybm*aps)\n",
      "    formula_terms:  ap: hyam b: hybm ps: aps\n",
      "    units:          level\n",
      "    positive:       down\n",
      "<xarray.DataArray 'lev' ()>\n",
      "array(976.32540739)\n",
      "Coordinates:\n",
      "    station  <U4 'ATTO'\n",
      "    lev      float64 976.3\n",
      "Attributes:\n",
      "    long_name:      hybrid level at midpoints (1000*(A+B))\n",
      "    units:          hPa\n",
      "    positive:       down\n",
      "    standard_name:  atmosphere_hybrid_sigma_pressure_coordinate\n",
      "    formula_terms:  a: hyam b: hybm p0: P0 ps: PS\n"
     ]
    }
   ],
   "source": [
    "for mod in dic_mod_ca.keys():\n",
    "    for ca in dic_mod_ca[mod].keys():\n",
    "        dic_mod_ca[mod][ca] = dic_mod_ca[mod][ca].isel(lev=model_lev_i)\n",
    "        print(dic_mod_ca[mod][ca].lev)\n",
    "        dic_mod_ca[mod][ca].load()"
   ]
  },
  {
   "cell_type": "markdown",
   "id": "ab3976b9-9a8f-4e32-af09-ad1bb6e79537",
   "metadata": {
    "tags": []
   },
   "source": [
    "# Functions:"
   ]
  },
  {
   "cell_type": "code",
   "execution_count": 39,
   "id": "b3fe0b50-c671-4993-ae6c-2504c9b642bd",
   "metadata": {
    "lines_to_next_cell": 2
   },
   "outputs": [],
   "source": [
    "R = 287.058\n",
    "pressure = 1000. #hPa\n",
    "kg2ug = 1e9\n",
    "temperature = 273.15"
   ]
  },
  {
   "cell_type": "markdown",
   "id": "0c96d9fe-3b4c-49e1-8e8e-dce86de44b8d",
   "metadata": {},
   "source": [
    "## ADJUST ECHAM"
   ]
  },
  {
   "cell_type": "code",
   "execution_count": 40,
   "id": "411e3b79-b807-49a9-9b16-1cf9ac30660c",
   "metadata": {},
   "outputs": [],
   "source": [
    "rn_dict_echam={\n",
    "    'ORG_mass_conc' : 'OA',\n",
    "    'tempair':'T',\n",
    "\n",
    "    \n",
    "}"
   ]
  },
  {
   "cell_type": "code",
   "execution_count": 41,
   "id": "e97e5315-4712-40f3-99ae-406a440fe26e",
   "metadata": {},
   "outputs": [
    {
     "name": "stdout",
     "output_type": "stream",
     "text": [
      "The autoreload extension is already loaded. To reload it, use:\n",
      "  %reload_ext autoreload\n"
     ]
    }
   ],
   "source": [
    "from IPython import get_ipython\n",
    "\n",
    "# noinspection PyBroadException\n",
    "try:\n",
    "    _ipython = get_ipython()\n",
    "    _magic = _ipython.magic\n",
    "    _magic('load_ext autoreload')\n",
    "    _magic('autoreload 2')\n",
    "except:\n",
    "    pass"
   ]
  },
  {
   "cell_type": "code",
   "execution_count": 42,
   "id": "f39aebdc-ce65-4bfb-9ed2-89bae8875d70",
   "metadata": {},
   "outputs": [],
   "source": [
    "from bs_fdbck.util.BSOA_datamanip import calculate_daily_median_summer,calculate_summer_median, mask4summer,ds2df_echam"
   ]
  },
  {
   "cell_type": "code",
   "execution_count": 43,
   "id": "ab01dc54-4955-41cf-b018-081e7b0574a8",
   "metadata": {},
   "outputs": [],
   "source": [
    "standard_air_density = 100*pressure/(R*temperature)"
   ]
  },
  {
   "cell_type": "code",
   "execution_count": 44,
   "id": "138739bd-44e6-4416-bf6a-f610ed50ca15",
   "metadata": {},
   "outputs": [],
   "source": [
    "import datetime"
   ]
  },
  {
   "cell_type": "code",
   "execution_count": 45,
   "id": "22e748a1-22ca-4b22-a213-2a496abd0b5b",
   "metadata": {},
   "outputs": [],
   "source": [
    "def fix_echam_time(dt):\n",
    "    #a, b = divmod(round(dt.minute, -1), 60)\n",
    "    tdelta = datetime.timedelta(minutes=dt.minute, seconds = dt.second)\n",
    "    #nh = (dt.hour+a)%24\n",
    "    ndt = datetime.datetime(dt.year, dt.month,dt.day, dt.hour)#dt - tdelta\n",
    "    #dt_o = datetime.datetime(dt.year,dt.month, dt.day, (dt.hour + a) % 24,b)\n",
    "    return ndt"
   ]
  },
  {
   "cell_type": "code",
   "execution_count": 46,
   "id": "311179f4-c174-4f99-8fe9-9082c83b64a1",
   "metadata": {},
   "outputs": [
    {
     "data": {
      "text/html": [
       "<div><svg style=\"position: absolute; width: 0; height: 0; overflow: hidden\">\n",
       "<defs>\n",
       "<symbol id=\"icon-database\" viewBox=\"0 0 32 32\">\n",
       "<path d=\"M16 0c-8.837 0-16 2.239-16 5v4c0 2.761 7.163 5 16 5s16-2.239 16-5v-4c0-2.761-7.163-5-16-5z\"></path>\n",
       "<path d=\"M16 17c-8.837 0-16-2.239-16-5v6c0 2.761 7.163 5 16 5s16-2.239 16-5v-6c0 2.761-7.163 5-16 5z\"></path>\n",
       "<path d=\"M16 26c-8.837 0-16-2.239-16-5v6c0 2.761 7.163 5 16 5s16-2.239 16-5v-6c0 2.761-7.163 5-16 5z\"></path>\n",
       "</symbol>\n",
       "<symbol id=\"icon-file-text2\" viewBox=\"0 0 32 32\">\n",
       "<path d=\"M28.681 7.159c-0.694-0.947-1.662-2.053-2.724-3.116s-2.169-2.030-3.116-2.724c-1.612-1.182-2.393-1.319-2.841-1.319h-15.5c-1.378 0-2.5 1.121-2.5 2.5v27c0 1.378 1.122 2.5 2.5 2.5h23c1.378 0 2.5-1.122 2.5-2.5v-19.5c0-0.448-0.137-1.23-1.319-2.841zM24.543 5.457c0.959 0.959 1.712 1.825 2.268 2.543h-4.811v-4.811c0.718 0.556 1.584 1.309 2.543 2.268zM28 29.5c0 0.271-0.229 0.5-0.5 0.5h-23c-0.271 0-0.5-0.229-0.5-0.5v-27c0-0.271 0.229-0.5 0.5-0.5 0 0 15.499-0 15.5 0v7c0 0.552 0.448 1 1 1h7v19.5z\"></path>\n",
       "<path d=\"M23 26h-14c-0.552 0-1-0.448-1-1s0.448-1 1-1h14c0.552 0 1 0.448 1 1s-0.448 1-1 1z\"></path>\n",
       "<path d=\"M23 22h-14c-0.552 0-1-0.448-1-1s0.448-1 1-1h14c0.552 0 1 0.448 1 1s-0.448 1-1 1z\"></path>\n",
       "<path d=\"M23 18h-14c-0.552 0-1-0.448-1-1s0.448-1 1-1h14c0.552 0 1 0.448 1 1s-0.448 1-1 1z\"></path>\n",
       "</symbol>\n",
       "</defs>\n",
       "</svg>\n",
       "<style>/* CSS stylesheet for displaying xarray objects in jupyterlab.\n",
       " *\n",
       " */\n",
       "\n",
       ":root {\n",
       "  --xr-font-color0: var(--jp-content-font-color0, rgba(0, 0, 0, 1));\n",
       "  --xr-font-color2: var(--jp-content-font-color2, rgba(0, 0, 0, 0.54));\n",
       "  --xr-font-color3: var(--jp-content-font-color3, rgba(0, 0, 0, 0.38));\n",
       "  --xr-border-color: var(--jp-border-color2, #e0e0e0);\n",
       "  --xr-disabled-color: var(--jp-layout-color3, #bdbdbd);\n",
       "  --xr-background-color: var(--jp-layout-color0, white);\n",
       "  --xr-background-color-row-even: var(--jp-layout-color1, white);\n",
       "  --xr-background-color-row-odd: var(--jp-layout-color2, #eeeeee);\n",
       "}\n",
       "\n",
       "html[theme=dark],\n",
       "body.vscode-dark {\n",
       "  --xr-font-color0: rgba(255, 255, 255, 1);\n",
       "  --xr-font-color2: rgba(255, 255, 255, 0.54);\n",
       "  --xr-font-color3: rgba(255, 255, 255, 0.38);\n",
       "  --xr-border-color: #1F1F1F;\n",
       "  --xr-disabled-color: #515151;\n",
       "  --xr-background-color: #111111;\n",
       "  --xr-background-color-row-even: #111111;\n",
       "  --xr-background-color-row-odd: #313131;\n",
       "}\n",
       "\n",
       ".xr-wrap {\n",
       "  display: block;\n",
       "  min-width: 300px;\n",
       "  max-width: 700px;\n",
       "}\n",
       "\n",
       ".xr-text-repr-fallback {\n",
       "  /* fallback to plain text repr when CSS is not injected (untrusted notebook) */\n",
       "  display: none;\n",
       "}\n",
       "\n",
       ".xr-header {\n",
       "  padding-top: 6px;\n",
       "  padding-bottom: 6px;\n",
       "  margin-bottom: 4px;\n",
       "  border-bottom: solid 1px var(--xr-border-color);\n",
       "}\n",
       "\n",
       ".xr-header > div,\n",
       ".xr-header > ul {\n",
       "  display: inline;\n",
       "  margin-top: 0;\n",
       "  margin-bottom: 0;\n",
       "}\n",
       "\n",
       ".xr-obj-type,\n",
       ".xr-array-name {\n",
       "  margin-left: 2px;\n",
       "  margin-right: 10px;\n",
       "}\n",
       "\n",
       ".xr-obj-type {\n",
       "  color: var(--xr-font-color2);\n",
       "}\n",
       "\n",
       ".xr-sections {\n",
       "  padding-left: 0 !important;\n",
       "  display: grid;\n",
       "  grid-template-columns: 150px auto auto 1fr 20px 20px;\n",
       "}\n",
       "\n",
       ".xr-section-item {\n",
       "  display: contents;\n",
       "}\n",
       "\n",
       ".xr-section-item input {\n",
       "  display: none;\n",
       "}\n",
       "\n",
       ".xr-section-item input + label {\n",
       "  color: var(--xr-disabled-color);\n",
       "}\n",
       "\n",
       ".xr-section-item input:enabled + label {\n",
       "  cursor: pointer;\n",
       "  color: var(--xr-font-color2);\n",
       "}\n",
       "\n",
       ".xr-section-item input:enabled + label:hover {\n",
       "  color: var(--xr-font-color0);\n",
       "}\n",
       "\n",
       ".xr-section-summary {\n",
       "  grid-column: 1;\n",
       "  color: var(--xr-font-color2);\n",
       "  font-weight: 500;\n",
       "}\n",
       "\n",
       ".xr-section-summary > span {\n",
       "  display: inline-block;\n",
       "  padding-left: 0.5em;\n",
       "}\n",
       "\n",
       ".xr-section-summary-in:disabled + label {\n",
       "  color: var(--xr-font-color2);\n",
       "}\n",
       "\n",
       ".xr-section-summary-in + label:before {\n",
       "  display: inline-block;\n",
       "  content: '►';\n",
       "  font-size: 11px;\n",
       "  width: 15px;\n",
       "  text-align: center;\n",
       "}\n",
       "\n",
       ".xr-section-summary-in:disabled + label:before {\n",
       "  color: var(--xr-disabled-color);\n",
       "}\n",
       "\n",
       ".xr-section-summary-in:checked + label:before {\n",
       "  content: '▼';\n",
       "}\n",
       "\n",
       ".xr-section-summary-in:checked + label > span {\n",
       "  display: none;\n",
       "}\n",
       "\n",
       ".xr-section-summary,\n",
       ".xr-section-inline-details {\n",
       "  padding-top: 4px;\n",
       "  padding-bottom: 4px;\n",
       "}\n",
       "\n",
       ".xr-section-inline-details {\n",
       "  grid-column: 2 / -1;\n",
       "}\n",
       "\n",
       ".xr-section-details {\n",
       "  display: none;\n",
       "  grid-column: 1 / -1;\n",
       "  margin-bottom: 5px;\n",
       "}\n",
       "\n",
       ".xr-section-summary-in:checked ~ .xr-section-details {\n",
       "  display: contents;\n",
       "}\n",
       "\n",
       ".xr-array-wrap {\n",
       "  grid-column: 1 / -1;\n",
       "  display: grid;\n",
       "  grid-template-columns: 20px auto;\n",
       "}\n",
       "\n",
       ".xr-array-wrap > label {\n",
       "  grid-column: 1;\n",
       "  vertical-align: top;\n",
       "}\n",
       "\n",
       ".xr-preview {\n",
       "  color: var(--xr-font-color3);\n",
       "}\n",
       "\n",
       ".xr-array-preview,\n",
       ".xr-array-data {\n",
       "  padding: 0 5px !important;\n",
       "  grid-column: 2;\n",
       "}\n",
       "\n",
       ".xr-array-data,\n",
       ".xr-array-in:checked ~ .xr-array-preview {\n",
       "  display: none;\n",
       "}\n",
       "\n",
       ".xr-array-in:checked ~ .xr-array-data,\n",
       ".xr-array-preview {\n",
       "  display: inline-block;\n",
       "}\n",
       "\n",
       ".xr-dim-list {\n",
       "  display: inline-block !important;\n",
       "  list-style: none;\n",
       "  padding: 0 !important;\n",
       "  margin: 0;\n",
       "}\n",
       "\n",
       ".xr-dim-list li {\n",
       "  display: inline-block;\n",
       "  padding: 0;\n",
       "  margin: 0;\n",
       "}\n",
       "\n",
       ".xr-dim-list:before {\n",
       "  content: '(';\n",
       "}\n",
       "\n",
       ".xr-dim-list:after {\n",
       "  content: ')';\n",
       "}\n",
       "\n",
       ".xr-dim-list li:not(:last-child):after {\n",
       "  content: ',';\n",
       "  padding-right: 5px;\n",
       "}\n",
       "\n",
       ".xr-has-index {\n",
       "  font-weight: bold;\n",
       "}\n",
       "\n",
       ".xr-var-list,\n",
       ".xr-var-item {\n",
       "  display: contents;\n",
       "}\n",
       "\n",
       ".xr-var-item > div,\n",
       ".xr-var-item label,\n",
       ".xr-var-item > .xr-var-name span {\n",
       "  background-color: var(--xr-background-color-row-even);\n",
       "  margin-bottom: 0;\n",
       "}\n",
       "\n",
       ".xr-var-item > .xr-var-name:hover span {\n",
       "  padding-right: 5px;\n",
       "}\n",
       "\n",
       ".xr-var-list > li:nth-child(odd) > div,\n",
       ".xr-var-list > li:nth-child(odd) > label,\n",
       ".xr-var-list > li:nth-child(odd) > .xr-var-name span {\n",
       "  background-color: var(--xr-background-color-row-odd);\n",
       "}\n",
       "\n",
       ".xr-var-name {\n",
       "  grid-column: 1;\n",
       "}\n",
       "\n",
       ".xr-var-dims {\n",
       "  grid-column: 2;\n",
       "}\n",
       "\n",
       ".xr-var-dtype {\n",
       "  grid-column: 3;\n",
       "  text-align: right;\n",
       "  color: var(--xr-font-color2);\n",
       "}\n",
       "\n",
       ".xr-var-preview {\n",
       "  grid-column: 4;\n",
       "}\n",
       "\n",
       ".xr-var-name,\n",
       ".xr-var-dims,\n",
       ".xr-var-dtype,\n",
       ".xr-preview,\n",
       ".xr-attrs dt {\n",
       "  white-space: nowrap;\n",
       "  overflow: hidden;\n",
       "  text-overflow: ellipsis;\n",
       "  padding-right: 10px;\n",
       "}\n",
       "\n",
       ".xr-var-name:hover,\n",
       ".xr-var-dims:hover,\n",
       ".xr-var-dtype:hover,\n",
       ".xr-attrs dt:hover {\n",
       "  overflow: visible;\n",
       "  width: auto;\n",
       "  z-index: 1;\n",
       "}\n",
       "\n",
       ".xr-var-attrs,\n",
       ".xr-var-data {\n",
       "  display: none;\n",
       "  background-color: var(--xr-background-color) !important;\n",
       "  padding-bottom: 5px !important;\n",
       "}\n",
       "\n",
       ".xr-var-attrs-in:checked ~ .xr-var-attrs,\n",
       ".xr-var-data-in:checked ~ .xr-var-data {\n",
       "  display: block;\n",
       "}\n",
       "\n",
       ".xr-var-data > table {\n",
       "  float: right;\n",
       "}\n",
       "\n",
       ".xr-var-name span,\n",
       ".xr-var-data,\n",
       ".xr-attrs {\n",
       "  padding-left: 25px !important;\n",
       "}\n",
       "\n",
       ".xr-attrs,\n",
       ".xr-var-attrs,\n",
       ".xr-var-data {\n",
       "  grid-column: 1 / -1;\n",
       "}\n",
       "\n",
       "dl.xr-attrs {\n",
       "  padding: 0;\n",
       "  margin: 0;\n",
       "  display: grid;\n",
       "  grid-template-columns: 125px auto;\n",
       "}\n",
       "\n",
       ".xr-attrs dt,\n",
       ".xr-attrs dd {\n",
       "  padding: 0;\n",
       "  margin: 0;\n",
       "  float: left;\n",
       "  padding-right: 10px;\n",
       "  width: auto;\n",
       "}\n",
       "\n",
       ".xr-attrs dt {\n",
       "  font-weight: normal;\n",
       "  grid-column: 1;\n",
       "}\n",
       "\n",
       ".xr-attrs dt:hover span {\n",
       "  display: inline-block;\n",
       "  background: var(--xr-background-color);\n",
       "  padding-right: 10px;\n",
       "}\n",
       "\n",
       ".xr-attrs dd {\n",
       "  grid-column: 2;\n",
       "  white-space: pre-wrap;\n",
       "  word-break: break-all;\n",
       "}\n",
       "\n",
       ".xr-icon-database,\n",
       ".xr-icon-file-text2 {\n",
       "  display: inline-block;\n",
       "  vertical-align: middle;\n",
       "  width: 1em;\n",
       "  height: 1.5em !important;\n",
       "  stroke-width: 0;\n",
       "  stroke: currentColor;\n",
       "  fill: currentColor;\n",
       "}\n",
       "</style><pre class='xr-text-repr-fallback'>&lt;xarray.Dataset&gt;\n",
       "Dimensions:        (time: 61368)\n",
       "Coordinates:\n",
       "  * time           (time) datetime64[ns] 2012-01-01T00:52:30 ... 2018-12-31T2...\n",
       "    lev            float64 46.0\n",
       "    station        &lt;U4 &#x27;ATTO&#x27;\n",
       "Data variables: (12/50)\n",
       "    lon            (time) float64 -59.0 -59.0 -59.0 -59.0 ... -59.0 -59.0 -59.0\n",
       "    APIN_gas       (time) float32 2.822e-10 3.357e-10 ... 1.219e-10 1.532e-10\n",
       "    BPIN_gas       (time) float32 2.328e-10 2.887e-10 ... 9.057e-11 1.182e-10\n",
       "    CARENE3_gas    (time) float32 4.756e-11 5.905e-11 ... 1.897e-11 2.482e-11\n",
       "    ISOP_gas       (time) float32 7.543e-09 7.935e-09 ... 3.538e-09 4.103e-09\n",
       "    LIMON_gas      (time) float32 9.003e-11 1.118e-10 ... 3.578e-11 4.679e-11\n",
       "    ...             ...\n",
       "    up_sw          (time) float32 65.74 65.74 63.56 63.56 ... 94.67 43.71 43.71\n",
       "    up_sw_cs       (time) float32 35.55 35.55 35.56 35.56 ... 82.31 39.69 39.69\n",
       "    up_sw_cs_noa   (time) float32 31.78 31.78 31.79 31.79 ... 67.69 32.18 32.18\n",
       "    up_sw_noa      (time) float32 66.43 66.43 64.31 64.31 ... 82.65 37.72 37.72\n",
       "    uw             (time) float32 -1.769 -1.428 -1.234 ... -2.635 -2.432 -2.34\n",
       "    vw             (time) float32 -3.659 -3.438 -3.234 ... -2.656 -2.283 -1.649</pre><div class='xr-wrap' hidden><div class='xr-header'><div class='xr-obj-type'>xarray.Dataset</div></div><ul class='xr-sections'><li class='xr-section-item'><input id='section-e648634e-109c-4072-85df-a60aa21a84a9' class='xr-section-summary-in' type='checkbox' disabled ><label for='section-e648634e-109c-4072-85df-a60aa21a84a9' class='xr-section-summary'  title='Expand/collapse section'>Dimensions:</label><div class='xr-section-inline-details'><ul class='xr-dim-list'><li><span class='xr-has-index'>time</span>: 61368</li></ul></div><div class='xr-section-details'></div></li><li class='xr-section-item'><input id='section-53fa10ab-b5a0-4b26-8257-cb4e36c23776' class='xr-section-summary-in' type='checkbox'  checked><label for='section-53fa10ab-b5a0-4b26-8257-cb4e36c23776' class='xr-section-summary' >Coordinates: <span>(3)</span></label><div class='xr-section-inline-details'></div><div class='xr-section-details'><ul class='xr-var-list'><li class='xr-var-item'><div class='xr-var-name'><span class='xr-has-index'>time</span></div><div class='xr-var-dims'>(time)</div><div class='xr-var-dtype'>datetime64[ns]</div><div class='xr-var-preview xr-preview'>2012-01-01T00:52:30 ... 2018-12-...</div><input id='attrs-5829703a-901e-43f8-93a6-ef117de640d8' class='xr-var-attrs-in' type='checkbox' ><label for='attrs-5829703a-901e-43f8-93a6-ef117de640d8' title='Show/Hide attributes'><svg class='icon xr-icon-file-text2'><use xlink:href='#icon-file-text2'></use></svg></label><input id='data-01d7fd81-136b-4a9d-b208-985d006b59c4' class='xr-var-data-in' type='checkbox'><label for='data-01d7fd81-136b-4a9d-b208-985d006b59c4' title='Show/Hide data repr'><svg class='icon xr-icon-database'><use xlink:href='#icon-database'></use></svg></label><div class='xr-var-attrs'><dl class='xr-attrs'><dt><span>standard_name :</span></dt><dd>time</dd><dt><span>axis :</span></dt><dd>T</dd></dl></div><div class='xr-var-data'><pre>array([&#x27;2012-01-01T00:52:30.000000000&#x27;, &#x27;2012-01-01T01:52:30.000000000&#x27;,\n",
       "       &#x27;2012-01-01T02:52:30.000000000&#x27;, ..., &#x27;2018-12-31T21:52:30.000000000&#x27;,\n",
       "       &#x27;2018-12-31T22:52:30.000000000&#x27;, &#x27;2018-12-31T23:52:30.000000000&#x27;],\n",
       "      dtype=&#x27;datetime64[ns]&#x27;)</pre></div></li><li class='xr-var-item'><div class='xr-var-name'><span>lev</span></div><div class='xr-var-dims'>()</div><div class='xr-var-dtype'>float64</div><div class='xr-var-preview xr-preview'>46.0</div><input id='attrs-c75aa4d2-b939-4fbf-a6c7-0a217309febd' class='xr-var-attrs-in' type='checkbox' ><label for='attrs-c75aa4d2-b939-4fbf-a6c7-0a217309febd' title='Show/Hide attributes'><svg class='icon xr-icon-file-text2'><use xlink:href='#icon-file-text2'></use></svg></label><input id='data-bba122fd-a23d-4ce4-b653-d74d933f7c68' class='xr-var-data-in' type='checkbox'><label for='data-bba122fd-a23d-4ce4-b653-d74d933f7c68' title='Show/Hide data repr'><svg class='icon xr-icon-database'><use xlink:href='#icon-database'></use></svg></label><div class='xr-var-attrs'><dl class='xr-attrs'><dt><span>standard_name :</span></dt><dd>hybrid_sigma_pressure</dd><dt><span>long_name :</span></dt><dd>hybrid level at layer midpoints</dd><dt><span>formula :</span></dt><dd>hyam hybm (mlev=hyam+hybm*aps)</dd><dt><span>formula_terms :</span></dt><dd>ap: hyam b: hybm ps: aps</dd><dt><span>units :</span></dt><dd>level</dd><dt><span>positive :</span></dt><dd>down</dd></dl></div><div class='xr-var-data'><pre>array(46.)</pre></div></li><li class='xr-var-item'><div class='xr-var-name'><span>station</span></div><div class='xr-var-dims'>()</div><div class='xr-var-dtype'>&lt;U4</div><div class='xr-var-preview xr-preview'>&#x27;ATTO&#x27;</div><input id='attrs-8a490840-4b8d-447d-ba29-f4b00a0250e3' class='xr-var-attrs-in' type='checkbox' disabled><label for='attrs-8a490840-4b8d-447d-ba29-f4b00a0250e3' title='Show/Hide attributes'><svg class='icon xr-icon-file-text2'><use xlink:href='#icon-file-text2'></use></svg></label><input id='data-9d03994d-115b-49be-bbd4-2bc256060810' class='xr-var-data-in' type='checkbox'><label for='data-9d03994d-115b-49be-bbd4-2bc256060810' title='Show/Hide data repr'><svg class='icon xr-icon-database'><use xlink:href='#icon-database'></use></svg></label><div class='xr-var-attrs'><dl class='xr-attrs'></dl></div><div class='xr-var-data'><pre>array(&#x27;ATTO&#x27;, dtype=&#x27;&lt;U4&#x27;)</pre></div></li></ul></div></li><li class='xr-section-item'><input id='section-889c79cc-4271-47cd-b1f5-6feeae88f7fa' class='xr-section-summary-in' type='checkbox'  ><label for='section-889c79cc-4271-47cd-b1f5-6feeae88f7fa' class='xr-section-summary' >Data variables: <span>(50)</span></label><div class='xr-section-inline-details'></div><div class='xr-section-details'><ul class='xr-var-list'><li class='xr-var-item'><div class='xr-var-name'><span>lon</span></div><div class='xr-var-dims'>(time)</div><div class='xr-var-dtype'>float64</div><div class='xr-var-preview xr-preview'>-59.0 -59.0 -59.0 ... -59.0 -59.0</div><input id='attrs-d94754c9-6f07-4991-90de-8aa865b4ddf3' class='xr-var-attrs-in' type='checkbox' ><label for='attrs-d94754c9-6f07-4991-90de-8aa865b4ddf3' title='Show/Hide attributes'><svg class='icon xr-icon-file-text2'><use xlink:href='#icon-file-text2'></use></svg></label><input id='data-7f4c4310-79a7-40ac-87d6-ceaeae37dabb' class='xr-var-data-in' type='checkbox'><label for='data-7f4c4310-79a7-40ac-87d6-ceaeae37dabb' title='Show/Hide data repr'><svg class='icon xr-icon-database'><use xlink:href='#icon-database'></use></svg></label><div class='xr-var-attrs'><dl class='xr-attrs'><dt><span>standard_name :</span></dt><dd>longitude</dd><dt><span>long_name :</span></dt><dd>longitude</dd><dt><span>units :</span></dt><dd>degrees_east</dd></dl></div><div class='xr-var-data'><pre>array([-59.0002, -59.0002, -59.0002, ..., -59.0002, -59.0002, -59.0002])</pre></div></li><li class='xr-var-item'><div class='xr-var-name'><span>APIN_gas</span></div><div class='xr-var-dims'>(time)</div><div class='xr-var-dtype'>float32</div><div class='xr-var-preview xr-preview'>2.822e-10 3.357e-10 ... 1.532e-10</div><input id='attrs-5fbcca70-9c83-4484-98ae-4b1782aed78e' class='xr-var-attrs-in' type='checkbox' ><label for='attrs-5fbcca70-9c83-4484-98ae-4b1782aed78e' title='Show/Hide attributes'><svg class='icon xr-icon-file-text2'><use xlink:href='#icon-file-text2'></use></svg></label><input id='data-ecc84c73-243c-41be-a3a0-12f885ede848' class='xr-var-data-in' type='checkbox'><label for='data-ecc84c73-243c-41be-a3a0-12f885ede848' title='Show/Hide data repr'><svg class='icon xr-icon-database'><use xlink:href='#icon-database'></use></svg></label><div class='xr-var-attrs'><dl class='xr-attrs'><dt><span>long_name :</span></dt><dd>APIN_mass_mixing_ratio_gas</dd><dt><span>units :</span></dt><dd>kg kg-1</dd><dt><span>CDI_grid_type :</span></dt><dd>unstructured</dd><dt><span>description :</span></dt><dd>A-pinene mass mixing ratio – gas</dd><dt><span>pressure_coords :</span></dt><dd>False</dd><dt><span>raw_data_path :</span></dt><dd>/proj/bolinc/users/x_sarbl/other_data/BS-FDBCK/ECHAM-SALSA</dd><dt><span>model :</span></dt><dd>ECHAM-SALSA</dd><dt><span>model_name :</span></dt><dd>ECHAM-SALSA</dd><dt><span>case_name :</span></dt><dd>SALSA_BSOA_feedback</dd><dt><span>case :</span></dt><dd>SALSA_BSOA_feedback</dd><dt><span>case_name_nice :</span></dt><dd>SALSA_BSOA_feedback</dd><dt><span>from_time :</span></dt><dd>2012-01-01</dd><dt><span>to_time :</span></dt><dd>2012-02-01</dd><dt><span>startyear :</span></dt><dd>2012</dd><dt><span>endyear :</span></dt><dd>2012</dd><dt><span>coordinates :</span></dt><dd>lat lon</dd></dl></div><div class='xr-var-data'><pre>array([2.8215186e-10, 3.3566974e-10, 3.8976808e-10, ..., 9.4344976e-11,\n",
       "       1.2188943e-10, 1.5323234e-10], dtype=float32)</pre></div></li><li class='xr-var-item'><div class='xr-var-name'><span>BPIN_gas</span></div><div class='xr-var-dims'>(time)</div><div class='xr-var-dtype'>float32</div><div class='xr-var-preview xr-preview'>2.328e-10 2.887e-10 ... 1.182e-10</div><input id='attrs-2fc3fc45-5bb9-486e-8000-a50622d08293' class='xr-var-attrs-in' type='checkbox' ><label for='attrs-2fc3fc45-5bb9-486e-8000-a50622d08293' title='Show/Hide attributes'><svg class='icon xr-icon-file-text2'><use xlink:href='#icon-file-text2'></use></svg></label><input id='data-d1d6bf84-0746-4cd7-b5e1-084bdf596ce7' class='xr-var-data-in' type='checkbox'><label for='data-d1d6bf84-0746-4cd7-b5e1-084bdf596ce7' title='Show/Hide data repr'><svg class='icon xr-icon-database'><use xlink:href='#icon-database'></use></svg></label><div class='xr-var-attrs'><dl class='xr-attrs'><dt><span>long_name :</span></dt><dd>BPIN_mass_mixing_ratio_gas</dd><dt><span>units :</span></dt><dd>kg kg-1</dd><dt><span>CDI_grid_type :</span></dt><dd>unstructured</dd><dt><span>description :</span></dt><dd>B-pinene mass mixing ratio – gas</dd><dt><span>pressure_coords :</span></dt><dd>False</dd><dt><span>raw_data_path :</span></dt><dd>/proj/bolinc/users/x_sarbl/other_data/BS-FDBCK/ECHAM-SALSA</dd><dt><span>model :</span></dt><dd>ECHAM-SALSA</dd><dt><span>model_name :</span></dt><dd>ECHAM-SALSA</dd><dt><span>case_name :</span></dt><dd>SALSA_BSOA_feedback</dd><dt><span>case :</span></dt><dd>SALSA_BSOA_feedback</dd><dt><span>case_name_nice :</span></dt><dd>SALSA_BSOA_feedback</dd><dt><span>from_time :</span></dt><dd>2012-01-01</dd><dt><span>to_time :</span></dt><dd>2012-02-01</dd><dt><span>startyear :</span></dt><dd>2012</dd><dt><span>endyear :</span></dt><dd>2012</dd><dt><span>coordinates :</span></dt><dd>lat lon</dd></dl></div><div class='xr-var-data'><pre>array([2.3276585e-10, 2.8865021e-10, 3.4763753e-10, ..., 6.7807870e-11,\n",
       "       9.0574118e-11, 1.1819021e-10], dtype=float32)</pre></div></li><li class='xr-var-item'><div class='xr-var-name'><span>CARENE3_gas</span></div><div class='xr-var-dims'>(time)</div><div class='xr-var-dtype'>float32</div><div class='xr-var-preview xr-preview'>4.756e-11 5.905e-11 ... 2.482e-11</div><input id='attrs-869cda83-d53e-4664-a40c-319ee7d73da9' class='xr-var-attrs-in' type='checkbox' ><label for='attrs-869cda83-d53e-4664-a40c-319ee7d73da9' title='Show/Hide attributes'><svg class='icon xr-icon-file-text2'><use xlink:href='#icon-file-text2'></use></svg></label><input id='data-73c80b08-3ed2-4e30-ab40-f02e3bf9cb8b' class='xr-var-data-in' type='checkbox'><label for='data-73c80b08-3ed2-4e30-ab40-f02e3bf9cb8b' title='Show/Hide data repr'><svg class='icon xr-icon-database'><use xlink:href='#icon-database'></use></svg></label><div class='xr-var-attrs'><dl class='xr-attrs'><dt><span>long_name :</span></dt><dd>CARENE3_mass_mixing_ratio_gas</dd><dt><span>units :</span></dt><dd>kg kg-1</dd><dt><span>CDI_grid_type :</span></dt><dd>unstructured</dd><dt><span>description :</span></dt><dd>3-carene mass mixing ratio – gas</dd><dt><span>pressure_coords :</span></dt><dd>False</dd><dt><span>raw_data_path :</span></dt><dd>/proj/bolinc/users/x_sarbl/other_data/BS-FDBCK/ECHAM-SALSA</dd><dt><span>model :</span></dt><dd>ECHAM-SALSA</dd><dt><span>model_name :</span></dt><dd>ECHAM-SALSA</dd><dt><span>case_name :</span></dt><dd>SALSA_BSOA_feedback</dd><dt><span>case :</span></dt><dd>SALSA_BSOA_feedback</dd><dt><span>case_name_nice :</span></dt><dd>SALSA_BSOA_feedback</dd><dt><span>from_time :</span></dt><dd>2012-01-01</dd><dt><span>to_time :</span></dt><dd>2012-02-01</dd><dt><span>startyear :</span></dt><dd>2012</dd><dt><span>endyear :</span></dt><dd>2012</dd><dt><span>coordinates :</span></dt><dd>lat lon</dd></dl></div><div class='xr-var-data'><pre>array([4.7561448e-11, 5.9050820e-11, 7.1122566e-11, ..., 1.4155636e-11,\n",
       "       1.8965919e-11, 2.4818913e-11], dtype=float32)</pre></div></li><li class='xr-var-item'><div class='xr-var-name'><span>ISOP_gas</span></div><div class='xr-var-dims'>(time)</div><div class='xr-var-dtype'>float32</div><div class='xr-var-preview xr-preview'>7.543e-09 7.935e-09 ... 4.103e-09</div><input id='attrs-f5d0496b-bc99-4a99-89a8-3754f6d30846' class='xr-var-attrs-in' type='checkbox' ><label for='attrs-f5d0496b-bc99-4a99-89a8-3754f6d30846' title='Show/Hide attributes'><svg class='icon xr-icon-file-text2'><use xlink:href='#icon-file-text2'></use></svg></label><input id='data-ba62a8ad-6b5b-4739-aa8b-2974c9f48c02' class='xr-var-data-in' type='checkbox'><label for='data-ba62a8ad-6b5b-4739-aa8b-2974c9f48c02' title='Show/Hide data repr'><svg class='icon xr-icon-database'><use xlink:href='#icon-database'></use></svg></label><div class='xr-var-attrs'><dl class='xr-attrs'><dt><span>long_name :</span></dt><dd>ISOP_mass_mixing_ratio_gas</dd><dt><span>units :</span></dt><dd>kg kg-1</dd><dt><span>CDI_grid_type :</span></dt><dd>unstructured</dd><dt><span>description :</span></dt><dd>Isoprene mass mixing ratio – gas</dd><dt><span>pressure_coords :</span></dt><dd>False</dd><dt><span>raw_data_path :</span></dt><dd>/proj/bolinc/users/x_sarbl/other_data/BS-FDBCK/ECHAM-SALSA</dd><dt><span>model :</span></dt><dd>ECHAM-SALSA</dd><dt><span>model_name :</span></dt><dd>ECHAM-SALSA</dd><dt><span>case_name :</span></dt><dd>SALSA_BSOA_feedback</dd><dt><span>case :</span></dt><dd>SALSA_BSOA_feedback</dd><dt><span>case_name_nice :</span></dt><dd>SALSA_BSOA_feedback</dd><dt><span>from_time :</span></dt><dd>2012-01-01</dd><dt><span>to_time :</span></dt><dd>2012-02-01</dd><dt><span>startyear :</span></dt><dd>2012</dd><dt><span>endyear :</span></dt><dd>2012</dd><dt><span>coordinates :</span></dt><dd>lat lon</dd></dl></div><div class='xr-var-data'><pre>array([7.5426971e-09, 7.9349869e-09, 8.2140037e-09, ..., 3.0114631e-09,\n",
       "       3.5384959e-09, 4.1026684e-09], dtype=float32)</pre></div></li><li class='xr-var-item'><div class='xr-var-name'><span>LIMON_gas</span></div><div class='xr-var-dims'>(time)</div><div class='xr-var-dtype'>float32</div><div class='xr-var-preview xr-preview'>9.003e-11 1.118e-10 ... 4.679e-11</div><input id='attrs-3b357cd6-4dc9-43d5-9c23-6500df3a0c4f' class='xr-var-attrs-in' type='checkbox' ><label for='attrs-3b357cd6-4dc9-43d5-9c23-6500df3a0c4f' title='Show/Hide attributes'><svg class='icon xr-icon-file-text2'><use xlink:href='#icon-file-text2'></use></svg></label><input id='data-77f81131-07b5-4a40-8a68-9d27a1f3d3db' class='xr-var-data-in' type='checkbox'><label for='data-77f81131-07b5-4a40-8a68-9d27a1f3d3db' title='Show/Hide data repr'><svg class='icon xr-icon-database'><use xlink:href='#icon-database'></use></svg></label><div class='xr-var-attrs'><dl class='xr-attrs'><dt><span>long_name :</span></dt><dd>LIMON_mass_mixing_ratio_gas</dd><dt><span>units :</span></dt><dd>kg kg-1</dd><dt><span>CDI_grid_type :</span></dt><dd>unstructured</dd><dt><span>description :</span></dt><dd>Limonene mass mixing ratio – gas</dd><dt><span>pressure_coords :</span></dt><dd>False</dd><dt><span>raw_data_path :</span></dt><dd>/proj/bolinc/users/x_sarbl/other_data/BS-FDBCK/ECHAM-SALSA</dd><dt><span>model :</span></dt><dd>ECHAM-SALSA</dd><dt><span>model_name :</span></dt><dd>ECHAM-SALSA</dd><dt><span>case_name :</span></dt><dd>SALSA_BSOA_feedback</dd><dt><span>case :</span></dt><dd>SALSA_BSOA_feedback</dd><dt><span>case_name_nice :</span></dt><dd>SALSA_BSOA_feedback</dd><dt><span>from_time :</span></dt><dd>2012-01-01</dd><dt><span>to_time :</span></dt><dd>2012-02-01</dd><dt><span>startyear :</span></dt><dd>2012</dd><dt><span>endyear :</span></dt><dd>2012</dd><dt><span>coordinates :</span></dt><dd>lat lon</dd></dl></div><div class='xr-var-data'><pre>array([9.0034841e-11, 1.1176115e-10, 1.3460191e-10, ..., 2.6722529e-11,\n",
       "       3.5776656e-11, 4.6785912e-11], dtype=float32)</pre></div></li><li class='xr-var-item'><div class='xr-var-name'><span>MYRC_gas</span></div><div class='xr-var-dims'>(time)</div><div class='xr-var-dtype'>float32</div><div class='xr-var-preview xr-preview'>2.065e-11 2.457e-11 ... 1.128e-11</div><input id='attrs-949c6464-8688-4505-8757-4b02c56557a8' class='xr-var-attrs-in' type='checkbox' ><label for='attrs-949c6464-8688-4505-8757-4b02c56557a8' title='Show/Hide attributes'><svg class='icon xr-icon-file-text2'><use xlink:href='#icon-file-text2'></use></svg></label><input id='data-230fa50c-9e5d-4bb8-8dd0-a8603df17123' class='xr-var-data-in' type='checkbox'><label for='data-230fa50c-9e5d-4bb8-8dd0-a8603df17123' title='Show/Hide data repr'><svg class='icon xr-icon-database'><use xlink:href='#icon-database'></use></svg></label><div class='xr-var-attrs'><dl class='xr-attrs'><dt><span>long_name :</span></dt><dd>MYRC_mass_mixing_ratio_gas</dd><dt><span>units :</span></dt><dd>kg kg-1</dd><dt><span>CDI_grid_type :</span></dt><dd>unstructured</dd><dt><span>description :</span></dt><dd>Myrcene mass mixing ratio – gas</dd><dt><span>pressure_coords :</span></dt><dd>False</dd><dt><span>raw_data_path :</span></dt><dd>/proj/bolinc/users/x_sarbl/other_data/BS-FDBCK/ECHAM-SALSA</dd><dt><span>model :</span></dt><dd>ECHAM-SALSA</dd><dt><span>model_name :</span></dt><dd>ECHAM-SALSA</dd><dt><span>case_name :</span></dt><dd>SALSA_BSOA_feedback</dd><dt><span>case :</span></dt><dd>SALSA_BSOA_feedback</dd><dt><span>case_name_nice :</span></dt><dd>SALSA_BSOA_feedback</dd><dt><span>from_time :</span></dt><dd>2012-01-01</dd><dt><span>to_time :</span></dt><dd>2012-02-01</dd><dt><span>startyear :</span></dt><dd>2012</dd><dt><span>endyear :</span></dt><dd>2012</dd><dt><span>coordinates :</span></dt><dd>lat lon</dd></dl></div><div class='xr-var-data'><pre>array([2.0650362e-11, 2.4570955e-11, 2.8529979e-11, ..., 6.9488347e-12,\n",
       "       8.9742927e-12, 1.1280373e-11], dtype=float32)</pre></div></li><li class='xr-var-item'><div class='xr-var-name'><span>ORG_mass</span></div><div class='xr-var-dims'>(time)</div><div class='xr-var-dtype'>float32</div><div class='xr-var-preview xr-preview'>1.111e-09 1.151e-09 ... 1.975e-09</div><input id='attrs-9f1cfa93-371c-4a32-b38d-17be9a65ee9d' class='xr-var-attrs-in' type='checkbox' ><label for='attrs-9f1cfa93-371c-4a32-b38d-17be9a65ee9d' title='Show/Hide attributes'><svg class='icon xr-icon-file-text2'><use xlink:href='#icon-file-text2'></use></svg></label><input id='data-6910d0e9-9d46-4f29-af92-2e7711c7777b' class='xr-var-data-in' type='checkbox'><label for='data-6910d0e9-9d46-4f29-af92-2e7711c7777b' title='Show/Hide data repr'><svg class='icon xr-icon-database'><use xlink:href='#icon-database'></use></svg></label><div class='xr-var-attrs'><dl class='xr-attrs'><dt><span>units :</span></dt><dd>kg kg-1</dd><dt><span>long_name :</span></dt><dd>ORG_mass_mixing_ratio</dd><dt><span>description :</span></dt><dd>Total organic aerosol mass mixing ratio</dd><dt><span>pressure_coords :</span></dt><dd>False</dd><dt><span>raw_data_path :</span></dt><dd>/proj/bolinc/users/x_sarbl/other_data/BS-FDBCK/ECHAM-SALSA</dd><dt><span>model :</span></dt><dd>ECHAM-SALSA</dd><dt><span>model_name :</span></dt><dd>ECHAM-SALSA</dd><dt><span>case_name :</span></dt><dd>SALSA_BSOA_feedback</dd><dt><span>case :</span></dt><dd>SALSA_BSOA_feedback</dd><dt><span>case_name_nice :</span></dt><dd>SALSA_BSOA_feedback</dd><dt><span>from_time :</span></dt><dd>2012-01-01</dd><dt><span>to_time :</span></dt><dd>2012-02-01</dd><dt><span>startyear :</span></dt><dd>2012</dd><dt><span>endyear :</span></dt><dd>2012</dd></dl></div><div class='xr-var-data'><pre>array([1.1109488e-09, 1.1508157e-09, 1.1913034e-09, ..., 1.9997677e-09,\n",
       "       2.0150550e-09, 1.9751993e-09], dtype=float32)</pre></div></li><li class='xr-var-item'><div class='xr-var-name'><span>SABIN_gas</span></div><div class='xr-var-dims'>(time)</div><div class='xr-var-dtype'>float32</div><div class='xr-var-preview xr-preview'>1.132e-10 1.347e-10 ... 6.017e-11</div><input id='attrs-f7b689c3-44af-43bc-881a-970c61e85c25' class='xr-var-attrs-in' type='checkbox' ><label for='attrs-f7b689c3-44af-43bc-881a-970c61e85c25' title='Show/Hide attributes'><svg class='icon xr-icon-file-text2'><use xlink:href='#icon-file-text2'></use></svg></label><input id='data-fe613a3b-0804-4367-8f8f-3d929fbc5f86' class='xr-var-data-in' type='checkbox'><label for='data-fe613a3b-0804-4367-8f8f-3d929fbc5f86' title='Show/Hide data repr'><svg class='icon xr-icon-database'><use xlink:href='#icon-database'></use></svg></label><div class='xr-var-attrs'><dl class='xr-attrs'><dt><span>long_name :</span></dt><dd>SABIN_mass_mixing_ratio_gas</dd><dt><span>units :</span></dt><dd>kg kg-1</dd><dt><span>CDI_grid_type :</span></dt><dd>unstructured</dd><dt><span>description :</span></dt><dd>Sabinene mass mixing ratio – gas</dd><dt><span>pressure_coords :</span></dt><dd>False</dd><dt><span>raw_data_path :</span></dt><dd>/proj/bolinc/users/x_sarbl/other_data/BS-FDBCK/ECHAM-SALSA</dd><dt><span>model :</span></dt><dd>ECHAM-SALSA</dd><dt><span>model_name :</span></dt><dd>ECHAM-SALSA</dd><dt><span>case_name :</span></dt><dd>SALSA_BSOA_feedback</dd><dt><span>case :</span></dt><dd>SALSA_BSOA_feedback</dd><dt><span>case_name_nice :</span></dt><dd>SALSA_BSOA_feedback</dd><dt><span>from_time :</span></dt><dd>2012-01-01</dd><dt><span>to_time :</span></dt><dd>2012-02-01</dd><dt><span>startyear :</span></dt><dd>2012</dd><dt><span>endyear :</span></dt><dd>2012</dd><dt><span>coordinates :</span></dt><dd>lat lon</dd></dl></div><div class='xr-var-data'><pre>array([1.1319357e-10, 1.3465334e-10, 1.5648455e-10, ..., 3.7154561e-11,\n",
       "       4.7929213e-11, 6.0172041e-11], dtype=float32)</pre></div></li><li class='xr-var-item'><div class='xr-var-name'><span>SO2_gas</span></div><div class='xr-var-dims'>(time)</div><div class='xr-var-dtype'>float32</div><div class='xr-var-preview xr-preview'>9.877e-11 1.093e-10 ... 8.916e-11</div><input id='attrs-0dd82a91-2e60-4e60-9eea-0110308dca45' class='xr-var-attrs-in' type='checkbox' ><label for='attrs-0dd82a91-2e60-4e60-9eea-0110308dca45' title='Show/Hide attributes'><svg class='icon xr-icon-file-text2'><use xlink:href='#icon-file-text2'></use></svg></label><input id='data-b425a676-3745-48d8-81e9-ea25c173bf88' class='xr-var-data-in' type='checkbox'><label for='data-b425a676-3745-48d8-81e9-ea25c173bf88' title='Show/Hide data repr'><svg class='icon xr-icon-database'><use xlink:href='#icon-database'></use></svg></label><div class='xr-var-attrs'><dl class='xr-attrs'><dt><span>long_name :</span></dt><dd>SO2_mass_mixing_ratio_gas</dd><dt><span>units :</span></dt><dd>kg kg-1</dd><dt><span>CDI_grid_type :</span></dt><dd>unstructured</dd><dt><span>description :</span></dt><dd>SO2 mass mixing ratio – gas</dd><dt><span>pressure_coords :</span></dt><dd>False</dd><dt><span>raw_data_path :</span></dt><dd>/proj/bolinc/users/x_sarbl/other_data/BS-FDBCK/ECHAM-SALSA</dd><dt><span>model :</span></dt><dd>ECHAM-SALSA</dd><dt><span>model_name :</span></dt><dd>ECHAM-SALSA</dd><dt><span>case_name :</span></dt><dd>SALSA_BSOA_feedback</dd><dt><span>case :</span></dt><dd>SALSA_BSOA_feedback</dd><dt><span>case_name_nice :</span></dt><dd>SALSA_BSOA_feedback</dd><dt><span>from_time :</span></dt><dd>2012-01-01</dd><dt><span>to_time :</span></dt><dd>2012-02-01</dd><dt><span>startyear :</span></dt><dd>2012</dd><dt><span>endyear :</span></dt><dd>2012</dd><dt><span>coordinates :</span></dt><dd>lat lon</dd></dl></div><div class='xr-var-data'><pre>array([9.8767799e-11, 1.0930330e-10, 1.2025195e-10, ..., 6.8817591e-11,\n",
       "       8.0094445e-11, 8.9156744e-11], dtype=float32)</pre></div></li><li class='xr-var-item'><div class='xr-var-name'><span>TBETAOCI_gas</span></div><div class='xr-var-dims'>(time)</div><div class='xr-var-dtype'>float32</div><div class='xr-var-preview xr-preview'>2.94e-10 3.37e-10 ... 1.622e-10</div><input id='attrs-9eaa8cb1-76ab-4a1e-bdf5-64427fbc01d0' class='xr-var-attrs-in' type='checkbox' ><label for='attrs-9eaa8cb1-76ab-4a1e-bdf5-64427fbc01d0' title='Show/Hide attributes'><svg class='icon xr-icon-file-text2'><use xlink:href='#icon-file-text2'></use></svg></label><input id='data-fe40323d-43e5-4b2c-bafe-f2ee5f1c55d0' class='xr-var-data-in' type='checkbox'><label for='data-fe40323d-43e5-4b2c-bafe-f2ee5f1c55d0' title='Show/Hide data repr'><svg class='icon xr-icon-database'><use xlink:href='#icon-database'></use></svg></label><div class='xr-var-attrs'><dl class='xr-attrs'><dt><span>long_name :</span></dt><dd>TBETAOCI_mass_mixing_ratio_gas</dd><dt><span>units :</span></dt><dd>kg kg-1</dd><dt><span>CDI_grid_type :</span></dt><dd>unstructured</dd><dt><span>description :</span></dt><dd>T-beta-ocimene mass mixing ratio – gas</dd><dt><span>pressure_coords :</span></dt><dd>False</dd><dt><span>raw_data_path :</span></dt><dd>/proj/bolinc/users/x_sarbl/other_data/BS-FDBCK/ECHAM-SALSA</dd><dt><span>model :</span></dt><dd>ECHAM-SALSA</dd><dt><span>model_name :</span></dt><dd>ECHAM-SALSA</dd><dt><span>case_name :</span></dt><dd>SALSA_BSOA_feedback</dd><dt><span>case :</span></dt><dd>SALSA_BSOA_feedback</dd><dt><span>case_name_nice :</span></dt><dd>SALSA_BSOA_feedback</dd><dt><span>from_time :</span></dt><dd>2012-01-01</dd><dt><span>to_time :</span></dt><dd>2012-02-01</dd><dt><span>startyear :</span></dt><dd>2012</dd><dt><span>endyear :</span></dt><dd>2012</dd><dt><span>coordinates :</span></dt><dd>lat lon</dd></dl></div><div class='xr-var-data'><pre>array([2.9400576e-10, 3.3702927e-10, 3.7849418e-10, ..., 1.0441044e-10,\n",
       "       1.3245254e-10, 1.6219202e-10], dtype=float32)</pre></div></li><li class='xr-var-item'><div class='xr-var-name'><span>VBS0_gas</span></div><div class='xr-var-dims'>(time)</div><div class='xr-var-dtype'>float32</div><div class='xr-var-preview xr-preview'>6.316e-14 1.05e-14 ... 7.696e-14</div><input id='attrs-6f263552-4d7b-4871-80c8-94ec38a151fe' class='xr-var-attrs-in' type='checkbox' ><label for='attrs-6f263552-4d7b-4871-80c8-94ec38a151fe' title='Show/Hide attributes'><svg class='icon xr-icon-file-text2'><use xlink:href='#icon-file-text2'></use></svg></label><input id='data-fa5acc14-8e60-4779-ade0-275991abc2ad' class='xr-var-data-in' type='checkbox'><label for='data-fa5acc14-8e60-4779-ade0-275991abc2ad' title='Show/Hide data repr'><svg class='icon xr-icon-database'><use xlink:href='#icon-database'></use></svg></label><div class='xr-var-attrs'><dl class='xr-attrs'><dt><span>long_name :</span></dt><dd>VBS0_mass_mixing_ratio_gas</dd><dt><span>units :</span></dt><dd>kg kg-1</dd><dt><span>CDI_grid_type :</span></dt><dd>unstructured</dd><dt><span>description :</span></dt><dd>Volatility Basis set C*=0 mass mixing ratio - gas</dd><dt><span>pressure_coords :</span></dt><dd>False</dd><dt><span>raw_data_path :</span></dt><dd>/proj/bolinc/users/x_sarbl/other_data/BS-FDBCK/ECHAM-SALSA</dd><dt><span>model :</span></dt><dd>ECHAM-SALSA</dd><dt><span>model_name :</span></dt><dd>ECHAM-SALSA</dd><dt><span>case_name :</span></dt><dd>SALSA_BSOA_feedback</dd><dt><span>case :</span></dt><dd>SALSA_BSOA_feedback</dd><dt><span>case_name_nice :</span></dt><dd>SALSA_BSOA_feedback</dd><dt><span>from_time :</span></dt><dd>2012-01-01</dd><dt><span>to_time :</span></dt><dd>2012-02-01</dd><dt><span>startyear :</span></dt><dd>2012</dd><dt><span>endyear :</span></dt><dd>2012</dd><dt><span>coordinates :</span></dt><dd>lat lon</dd></dl></div><div class='xr-var-data'><pre>array([6.3159716e-14, 1.0495034e-14, 1.6151406e-15, ..., 3.2493262e-12,\n",
       "       5.7723124e-13, 7.6961881e-14], dtype=float32)</pre></div></li><li class='xr-var-item'><div class='xr-var-name'><span>VBS10_gas</span></div><div class='xr-var-dims'>(time)</div><div class='xr-var-dtype'>float32</div><div class='xr-var-preview xr-preview'>1.877e-10 1.886e-10 ... 1.438e-10</div><input id='attrs-d3d01616-d8b1-4fee-8eac-f2de0f0d3650' class='xr-var-attrs-in' type='checkbox' ><label for='attrs-d3d01616-d8b1-4fee-8eac-f2de0f0d3650' title='Show/Hide attributes'><svg class='icon xr-icon-file-text2'><use xlink:href='#icon-file-text2'></use></svg></label><input id='data-6376a4f9-4a2f-4adb-92a4-bca6ded5b578' class='xr-var-data-in' type='checkbox'><label for='data-6376a4f9-4a2f-4adb-92a4-bca6ded5b578' title='Show/Hide data repr'><svg class='icon xr-icon-database'><use xlink:href='#icon-database'></use></svg></label><div class='xr-var-attrs'><dl class='xr-attrs'><dt><span>long_name :</span></dt><dd>VBS10_mass_mixing_ratio_gas</dd><dt><span>units :</span></dt><dd>kg kg-1</dd><dt><span>CDI_grid_type :</span></dt><dd>unstructured</dd><dt><span>description :</span></dt><dd>Volatility Basis Set C*=10 mass mixing ratio - gas</dd><dt><span>pressure_coords :</span></dt><dd>False</dd><dt><span>raw_data_path :</span></dt><dd>/proj/bolinc/users/x_sarbl/other_data/BS-FDBCK/ECHAM-SALSA</dd><dt><span>model :</span></dt><dd>ECHAM-SALSA</dd><dt><span>model_name :</span></dt><dd>ECHAM-SALSA</dd><dt><span>case_name :</span></dt><dd>SALSA_BSOA_feedback</dd><dt><span>case :</span></dt><dd>SALSA_BSOA_feedback</dd><dt><span>case_name_nice :</span></dt><dd>SALSA_BSOA_feedback</dd><dt><span>from_time :</span></dt><dd>2012-01-01</dd><dt><span>to_time :</span></dt><dd>2012-02-01</dd><dt><span>startyear :</span></dt><dd>2012</dd><dt><span>endyear :</span></dt><dd>2012</dd><dt><span>coordinates :</span></dt><dd>lat lon</dd></dl></div><div class='xr-var-data'><pre>array([1.8765497e-10, 1.8857951e-10, 1.8849934e-10, ..., 1.2144202e-10,\n",
       "       1.3298204e-10, 1.4377723e-10], dtype=float32)</pre></div></li><li class='xr-var-item'><div class='xr-var-name'><span>VBS1_gas</span></div><div class='xr-var-dims'>(time)</div><div class='xr-var-dtype'>float32</div><div class='xr-var-preview xr-preview'>3.081e-11 3.002e-11 ... 2.322e-11</div><input id='attrs-699bfdc3-1a2d-4dfe-bad3-7eb890b37501' class='xr-var-attrs-in' type='checkbox' ><label for='attrs-699bfdc3-1a2d-4dfe-bad3-7eb890b37501' title='Show/Hide attributes'><svg class='icon xr-icon-file-text2'><use xlink:href='#icon-file-text2'></use></svg></label><input id='data-5ead1970-2287-412d-950c-4753d23cf2d7' class='xr-var-data-in' type='checkbox'><label for='data-5ead1970-2287-412d-950c-4753d23cf2d7' title='Show/Hide data repr'><svg class='icon xr-icon-database'><use xlink:href='#icon-database'></use></svg></label><div class='xr-var-attrs'><dl class='xr-attrs'><dt><span>long_name :</span></dt><dd>VBS1_mass_mixing_ratio_gas</dd><dt><span>units :</span></dt><dd>kg kg-1</dd><dt><span>CDI_grid_type :</span></dt><dd>unstructured</dd><dt><span>description :</span></dt><dd>Volatility Basis set C*=1 mass mixing ratio - gas</dd><dt><span>pressure_coords :</span></dt><dd>False</dd><dt><span>raw_data_path :</span></dt><dd>/proj/bolinc/users/x_sarbl/other_data/BS-FDBCK/ECHAM-SALSA</dd><dt><span>model :</span></dt><dd>ECHAM-SALSA</dd><dt><span>model_name :</span></dt><dd>ECHAM-SALSA</dd><dt><span>case_name :</span></dt><dd>SALSA_BSOA_feedback</dd><dt><span>case :</span></dt><dd>SALSA_BSOA_feedback</dd><dt><span>case_name_nice :</span></dt><dd>SALSA_BSOA_feedback</dd><dt><span>from_time :</span></dt><dd>2012-01-01</dd><dt><span>to_time :</span></dt><dd>2012-02-01</dd><dt><span>startyear :</span></dt><dd>2012</dd><dt><span>endyear :</span></dt><dd>2012</dd><dt><span>coordinates :</span></dt><dd>lat lon</dd></dl></div><div class='xr-var-data'><pre>array([3.0810177e-11, 3.0018602e-11, 2.9291632e-11, ..., 2.5788420e-11,\n",
       "       2.3795976e-11, 2.3215563e-11], dtype=float32)</pre></div></li><li class='xr-var-item'><div class='xr-var-name'><span>airdens</span></div><div class='xr-var-dims'>(time)</div><div class='xr-var-dtype'>float32</div><div class='xr-var-preview xr-preview'>1.138 1.139 1.14 ... 1.133 1.134</div><input id='attrs-4b457b78-c39f-4520-b8a5-6edaa5eaa184' class='xr-var-attrs-in' type='checkbox' ><label for='attrs-4b457b78-c39f-4520-b8a5-6edaa5eaa184' title='Show/Hide attributes'><svg class='icon xr-icon-file-text2'><use xlink:href='#icon-file-text2'></use></svg></label><input id='data-e134bc3a-4695-4220-8d98-0b487c7bf599' class='xr-var-data-in' type='checkbox'><label for='data-e134bc3a-4695-4220-8d98-0b487c7bf599' title='Show/Hide data repr'><svg class='icon xr-icon-database'><use xlink:href='#icon-database'></use></svg></label><div class='xr-var-attrs'><dl class='xr-attrs'><dt><span>long_name :</span></dt><dd>air density</dd><dt><span>units :</span></dt><dd>kg m-3</dd><dt><span>description :</span></dt><dd>air density</dd><dt><span>pressure_coords :</span></dt><dd>False</dd><dt><span>raw_data_path :</span></dt><dd>/proj/bolinc/users/x_sarbl/other_data/BS-FDBCK/ECHAM-SALSA</dd><dt><span>model :</span></dt><dd>ECHAM-SALSA</dd><dt><span>model_name :</span></dt><dd>ECHAM-SALSA</dd><dt><span>case_name :</span></dt><dd>SALSA_BSOA_feedback</dd><dt><span>case :</span></dt><dd>SALSA_BSOA_feedback</dd><dt><span>case_name_nice :</span></dt><dd>SALSA_BSOA_feedback</dd><dt><span>from_time :</span></dt><dd>2012-01-01</dd><dt><span>to_time :</span></dt><dd>2012-02-01</dd><dt><span>startyear :</span></dt><dd>2012</dd><dt><span>endyear :</span></dt><dd>2012</dd></dl></div><div class='xr-var-data'><pre>array([1.1379244, 1.1391511, 1.139984 , ..., 1.1313975, 1.1327446,\n",
       "       1.1340172], dtype=float32)</pre></div></li><li class='xr-var-item'><div class='xr-var-name'><span>ang550865</span></div><div class='xr-var-dims'>(time)</div><div class='xr-var-dtype'>float32</div><div class='xr-var-preview xr-preview'>1.249 1.249 1.177 ... 0.9403 0.9403</div><input id='attrs-41975d8a-b9a0-4227-9f85-b5e0c6340afc' class='xr-var-attrs-in' type='checkbox' ><label for='attrs-41975d8a-b9a0-4227-9f85-b5e0c6340afc' title='Show/Hide attributes'><svg class='icon xr-icon-file-text2'><use xlink:href='#icon-file-text2'></use></svg></label><input id='data-4aaa0d60-98bb-417f-8df0-26bc16ddd65d' class='xr-var-data-in' type='checkbox'><label for='data-4aaa0d60-98bb-417f-8df0-26bc16ddd65d' title='Show/Hide data repr'><svg class='icon xr-icon-database'><use xlink:href='#icon-database'></use></svg></label><div class='xr-var-attrs'><dl class='xr-attrs'><dt><span>long_name :</span></dt><dd>Angstroem param between 550 and 865 nm</dd><dt><span>units :</span></dt><dd>1</dd><dt><span>CDI_grid_type :</span></dt><dd>unstructured</dd><dt><span>description :</span></dt><dd>Angstroem parameter between 550 and 865 nm</dd><dt><span>pressure_coords :</span></dt><dd>False</dd><dt><span>raw_data_path :</span></dt><dd>/proj/bolinc/users/x_sarbl/other_data/BS-FDBCK/ECHAM-SALSA</dd><dt><span>model :</span></dt><dd>ECHAM-SALSA</dd><dt><span>model_name :</span></dt><dd>ECHAM-SALSA</dd><dt><span>case_name :</span></dt><dd>SALSA_BSOA_feedback</dd><dt><span>case :</span></dt><dd>SALSA_BSOA_feedback</dd><dt><span>case_name_nice :</span></dt><dd>SALSA_BSOA_feedback</dd><dt><span>from_time :</span></dt><dd>2012-01-01</dd><dt><span>to_time :</span></dt><dd>2012-02-01</dd><dt><span>startyear :</span></dt><dd>2012</dd><dt><span>endyear :</span></dt><dd>2012</dd><dt><span>coordinates :</span></dt><dd>lat lon</dd></dl></div><div class='xr-var-data'><pre>array([1.2489729 , 1.2489729 , 1.1773282 , ..., 0.89555585, 0.94029176,\n",
       "       0.94029176], dtype=float32)</pre></div></li><li class='xr-var-item'><div class='xr-var-name'><span>aot550nm</span></div><div class='xr-var-dims'>(time)</div><div class='xr-var-dtype'>float32</div><div class='xr-var-preview xr-preview'>0.08354 0.08354 ... 0.2133 0.2133</div><input id='attrs-e7d9cec8-6615-4733-9395-20fab3b29f2e' class='xr-var-attrs-in' type='checkbox' ><label for='attrs-e7d9cec8-6615-4733-9395-20fab3b29f2e' title='Show/Hide attributes'><svg class='icon xr-icon-file-text2'><use xlink:href='#icon-file-text2'></use></svg></label><input id='data-70de71e2-6001-4bfe-b11d-93400355ecd2' class='xr-var-data-in' type='checkbox'><label for='data-70de71e2-6001-4bfe-b11d-93400355ecd2' title='Show/Hide data repr'><svg class='icon xr-icon-database'><use xlink:href='#icon-database'></use></svg></label><div class='xr-var-attrs'><dl class='xr-attrs'><dt><span>long_name :</span></dt><dd>AOT total 550 nm</dd><dt><span>units :</span></dt><dd>1</dd><dt><span>description :</span></dt><dd>AOT total 550 nm</dd><dt><span>pressure_coords :</span></dt><dd>False</dd><dt><span>raw_data_path :</span></dt><dd>/proj/bolinc/users/x_sarbl/other_data/BS-FDBCK/ECHAM-SALSA</dd><dt><span>model :</span></dt><dd>ECHAM-SALSA</dd><dt><span>model_name :</span></dt><dd>ECHAM-SALSA</dd><dt><span>case_name :</span></dt><dd>SALSA_BSOA_feedback</dd><dt><span>case :</span></dt><dd>SALSA_BSOA_feedback</dd><dt><span>case_name_nice :</span></dt><dd>SALSA_BSOA_feedback</dd><dt><span>from_time :</span></dt><dd>2012-01-01</dd><dt><span>to_time :</span></dt><dd>2012-02-01</dd><dt><span>startyear :</span></dt><dd>2012</dd><dt><span>endyear :</span></dt><dd>2012</dd></dl></div><div class='xr-var-data'><pre>array([0.08353932, 0.08353932, 0.08384667, ..., 0.23321077, 0.21331605,\n",
       "       0.21331605], dtype=float32)</pre></div></li><li class='xr-var-item'><div class='xr-var-name'><span>aot865nm</span></div><div class='xr-var-dims'>(time)</div><div class='xr-var-dtype'>float32</div><div class='xr-var-preview xr-preview'>0.05278 0.05278 ... 0.1419 0.1419</div><input id='attrs-a7af4982-7ef7-41fe-b867-8cbac76cd4b8' class='xr-var-attrs-in' type='checkbox' ><label for='attrs-a7af4982-7ef7-41fe-b867-8cbac76cd4b8' title='Show/Hide attributes'><svg class='icon xr-icon-file-text2'><use xlink:href='#icon-file-text2'></use></svg></label><input id='data-efbd7a3c-96b1-41a6-8c14-2b809f0d8e58' class='xr-var-data-in' type='checkbox'><label for='data-efbd7a3c-96b1-41a6-8c14-2b809f0d8e58' title='Show/Hide data repr'><svg class='icon xr-icon-database'><use xlink:href='#icon-database'></use></svg></label><div class='xr-var-attrs'><dl class='xr-attrs'><dt><span>long_name :</span></dt><dd>AOT total 865 nm</dd><dt><span>units :</span></dt><dd>1</dd><dt><span>CDI_grid_type :</span></dt><dd>unstructured</dd><dt><span>description :</span></dt><dd>AOT total 865 nm</dd><dt><span>pressure_coords :</span></dt><dd>False</dd><dt><span>raw_data_path :</span></dt><dd>/proj/bolinc/users/x_sarbl/other_data/BS-FDBCK/ECHAM-SALSA</dd><dt><span>model :</span></dt><dd>ECHAM-SALSA</dd><dt><span>model_name :</span></dt><dd>ECHAM-SALSA</dd><dt><span>case_name :</span></dt><dd>SALSA_BSOA_feedback</dd><dt><span>case :</span></dt><dd>SALSA_BSOA_feedback</dd><dt><span>case_name_nice :</span></dt><dd>SALSA_BSOA_feedback</dd><dt><span>from_time :</span></dt><dd>2012-01-01</dd><dt><span>to_time :</span></dt><dd>2012-02-01</dd><dt><span>startyear :</span></dt><dd>2012</dd><dt><span>endyear :</span></dt><dd>2012</dd><dt><span>coordinates :</span></dt><dd>lat lon</dd></dl></div><div class='xr-var-data'><pre>array([0.05278137, 0.05278137, 0.06165534, ..., 0.15901266, 0.14193031,\n",
       "       0.14193031], dtype=float32)</pre></div></li><li class='xr-var-item'><div class='xr-var-name'><span>apm</span></div><div class='xr-var-dims'>(time)</div><div class='xr-var-dtype'>float32</div><div class='xr-var-preview xr-preview'>9.804e+04 9.811e+04 ... 9.783e+04</div><input id='attrs-32483982-1d73-4a76-aec3-e8a19a88bf96' class='xr-var-attrs-in' type='checkbox' ><label for='attrs-32483982-1d73-4a76-aec3-e8a19a88bf96' title='Show/Hide attributes'><svg class='icon xr-icon-file-text2'><use xlink:href='#icon-file-text2'></use></svg></label><input id='data-195206f2-bf2d-4707-b8ba-040c3db28ff3' class='xr-var-data-in' type='checkbox'><label for='data-195206f2-bf2d-4707-b8ba-040c3db28ff3' title='Show/Hide data repr'><svg class='icon xr-icon-database'><use xlink:href='#icon-database'></use></svg></label><div class='xr-var-attrs'><dl class='xr-attrs'><dt><span>long_name :</span></dt><dd>Air pressure at mid-layer</dd><dt><span>units :</span></dt><dd>Pa </dd><dt><span>CDI_grid_type :</span></dt><dd>unstructured</dd><dt><span>description :</span></dt><dd>Atmospheric pressure at mid-layer</dd><dt><span>pressure_coords :</span></dt><dd>False</dd><dt><span>raw_data_path :</span></dt><dd>/proj/bolinc/users/x_sarbl/other_data/BS-FDBCK/ECHAM-SALSA</dd><dt><span>model :</span></dt><dd>ECHAM-SALSA</dd><dt><span>model_name :</span></dt><dd>ECHAM-SALSA</dd><dt><span>case_name :</span></dt><dd>SALSA_BSOA_feedback</dd><dt><span>case :</span></dt><dd>SALSA_BSOA_feedback</dd><dt><span>case_name_nice :</span></dt><dd>SALSA_BSOA_feedback</dd><dt><span>from_time :</span></dt><dd>2012-01-01</dd><dt><span>to_time :</span></dt><dd>2012-02-01</dd><dt><span>startyear :</span></dt><dd>2012</dd><dt><span>endyear :</span></dt><dd>2012</dd><dt><span>coordinates :</span></dt><dd>lat lon</dd></dl></div><div class='xr-var-data'><pre>array([98043.55 , 98106.86 , 98147.25 , ..., 97718.125, 97782.4  ,\n",
       "       97834.42 ], dtype=float32)</pre></div></li><li class='xr-var-item'><div class='xr-var-name'><span>ccn02</span></div><div class='xr-var-dims'>(time)</div><div class='xr-var-dtype'>float32</div><div class='xr-var-preview xr-preview'>8.488e+07 9.05e+07 ... 1.542e+08</div><input id='attrs-dab1d479-0a39-42f4-b08f-3bb006d39805' class='xr-var-attrs-in' type='checkbox' ><label for='attrs-dab1d479-0a39-42f4-b08f-3bb006d39805' title='Show/Hide attributes'><svg class='icon xr-icon-file-text2'><use xlink:href='#icon-file-text2'></use></svg></label><input id='data-a0341131-24c7-4801-a5ce-ac508c822bec' class='xr-var-data-in' type='checkbox'><label for='data-a0341131-24c7-4801-a5ce-ac508c822bec' title='Show/Hide data repr'><svg class='icon xr-icon-database'><use xlink:href='#icon-database'></use></svg></label><div class='xr-var-attrs'><dl class='xr-attrs'><dt><span>long_name :</span></dt><dd>CCN 0.2 percent super sat</dd><dt><span>units :</span></dt><dd>m-3</dd><dt><span>description :</span></dt><dd>CCN 0.2 percent super saturation</dd><dt><span>pressure_coords :</span></dt><dd>False</dd><dt><span>raw_data_path :</span></dt><dd>/proj/bolinc/users/x_sarbl/other_data/BS-FDBCK/ECHAM-SALSA</dd><dt><span>model :</span></dt><dd>ECHAM-SALSA</dd><dt><span>model_name :</span></dt><dd>ECHAM-SALSA</dd><dt><span>case_name :</span></dt><dd>SALSA_BSOA_feedback</dd><dt><span>case :</span></dt><dd>SALSA_BSOA_feedback</dd><dt><span>case_name_nice :</span></dt><dd>SALSA_BSOA_feedback</dd><dt><span>from_time :</span></dt><dd>2012-01-01</dd><dt><span>to_time :</span></dt><dd>2012-02-01</dd><dt><span>startyear :</span></dt><dd>2012</dd><dt><span>endyear :</span></dt><dd>2012</dd></dl></div><div class='xr-var-data'><pre>array([8.4881904e+07, 9.0496528e+07, 9.5626864e+07, ..., 1.4891285e+08,\n",
       "       1.5512536e+08, 1.5419379e+08], dtype=float32)</pre></div></li><li class='xr-var-item'><div class='xr-var-name'><span>ccn10</span></div><div class='xr-var-dims'>(time)</div><div class='xr-var-dtype'>float32</div><div class='xr-var-preview xr-preview'>3.18e+08 3.535e+08 ... 4.869e+08</div><input id='attrs-1bbc6c95-a5cb-436d-9436-3d33aea980cb' class='xr-var-attrs-in' type='checkbox' ><label for='attrs-1bbc6c95-a5cb-436d-9436-3d33aea980cb' title='Show/Hide attributes'><svg class='icon xr-icon-file-text2'><use xlink:href='#icon-file-text2'></use></svg></label><input id='data-319f0d08-5d36-4bee-bb20-79400b13d29c' class='xr-var-data-in' type='checkbox'><label for='data-319f0d08-5d36-4bee-bb20-79400b13d29c' title='Show/Hide data repr'><svg class='icon xr-icon-database'><use xlink:href='#icon-database'></use></svg></label><div class='xr-var-attrs'><dl class='xr-attrs'><dt><span>long_name :</span></dt><dd>CCN 1.0 percent super sat</dd><dt><span>units :</span></dt><dd>m-3</dd><dt><span>description :</span></dt><dd>CCN 1.0 percent super saturation</dd><dt><span>pressure_coords :</span></dt><dd>False</dd><dt><span>raw_data_path :</span></dt><dd>/proj/bolinc/users/x_sarbl/other_data/BS-FDBCK/ECHAM-SALSA</dd><dt><span>model :</span></dt><dd>ECHAM-SALSA</dd><dt><span>model_name :</span></dt><dd>ECHAM-SALSA</dd><dt><span>case_name :</span></dt><dd>SALSA_BSOA_feedback</dd><dt><span>case :</span></dt><dd>SALSA_BSOA_feedback</dd><dt><span>case_name_nice :</span></dt><dd>SALSA_BSOA_feedback</dd><dt><span>from_time :</span></dt><dd>2012-01-01</dd><dt><span>to_time :</span></dt><dd>2012-02-01</dd><dt><span>startyear :</span></dt><dd>2012</dd><dt><span>endyear :</span></dt><dd>2012</dd></dl></div><div class='xr-var-data'><pre>array([3.1801088e+08, 3.5345322e+08, 3.8563261e+08, ..., 4.4411706e+08,\n",
       "       4.7131405e+08, 4.8685770e+08], dtype=float32)</pre></div></li><li class='xr-var-item'><div class='xr-var-name'><span>ceff</span></div><div class='xr-var-dims'>(time)</div><div class='xr-var-dtype'>float32</div><div class='xr-var-preview xr-preview'>0.0 0.0 0.0 0.0 ... 0.0 0.0 0.0 0.0</div><input id='attrs-42b7967e-6d1e-4a23-8475-f5ecf5c1b75d' class='xr-var-attrs-in' type='checkbox' ><label for='attrs-42b7967e-6d1e-4a23-8475-f5ecf5c1b75d' title='Show/Hide attributes'><svg class='icon xr-icon-file-text2'><use xlink:href='#icon-file-text2'></use></svg></label><input id='data-18a578d8-733b-44ed-bd00-f28a14d78659' class='xr-var-data-in' type='checkbox'><label for='data-18a578d8-733b-44ed-bd00-f28a14d78659' title='Show/Hide data repr'><svg class='icon xr-icon-database'><use xlink:href='#icon-database'></use></svg></label><div class='xr-var-attrs'><dl class='xr-attrs'><dt><span>long_name :</span></dt><dd>in-cloud droplet effective radius</dd><dt><span>units :</span></dt><dd>m</dd><dt><span>description :</span></dt><dd>in-cloud droplet effective radius</dd><dt><span>pressure_coords :</span></dt><dd>False</dd><dt><span>raw_data_path :</span></dt><dd>/proj/bolinc/users/x_sarbl/other_data/BS-FDBCK/ECHAM-SALSA</dd><dt><span>model :</span></dt><dd>ECHAM-SALSA</dd><dt><span>model_name :</span></dt><dd>ECHAM-SALSA</dd><dt><span>case_name :</span></dt><dd>SALSA_BSOA_feedback</dd><dt><span>case :</span></dt><dd>SALSA_BSOA_feedback</dd><dt><span>case_name_nice :</span></dt><dd>SALSA_BSOA_feedback</dd><dt><span>from_time :</span></dt><dd>2012-01-01</dd><dt><span>to_time :</span></dt><dd>2012-02-01</dd><dt><span>startyear :</span></dt><dd>2012</dd><dt><span>endyear :</span></dt><dd>2012</dd></dl></div><div class='xr-var-data'><pre>array([0., 0., 0., ..., 0., 0., 0.], dtype=float32)</pre></div></li><li class='xr-var-item'><div class='xr-var-name'><span>ceff_ct</span></div><div class='xr-var-dims'>(time)</div><div class='xr-var-dtype'>float32</div><div class='xr-var-preview xr-preview'>8.62 14.03 16.26 ... 0.0 3.0 13.3</div><input id='attrs-df4447ad-3b8c-4272-8ba4-37f6dc036c95' class='xr-var-attrs-in' type='checkbox' ><label for='attrs-df4447ad-3b8c-4272-8ba4-37f6dc036c95' title='Show/Hide attributes'><svg class='icon xr-icon-file-text2'><use xlink:href='#icon-file-text2'></use></svg></label><input id='data-308d5c5e-1dc6-47a3-b6b3-a5b46ead8f27' class='xr-var-data-in' type='checkbox'><label for='data-308d5c5e-1dc6-47a3-b6b3-a5b46ead8f27' title='Show/Hide data repr'><svg class='icon xr-icon-database'><use xlink:href='#icon-database'></use></svg></label><div class='xr-var-attrs'><dl class='xr-attrs'><dt><span>long_name :</span></dt><dd>cloud droplet effective radius cloud top</dd><dt><span>units :</span></dt><dd>um</dd><dt><span>description :</span></dt><dd>cloud droplet effective radius cloud top</dd><dt><span>pressure_coords :</span></dt><dd>False</dd><dt><span>raw_data_path :</span></dt><dd>/proj/bolinc/users/x_sarbl/other_data/BS-FDBCK/ECHAM-SALSA</dd><dt><span>model :</span></dt><dd>ECHAM-SALSA</dd><dt><span>model_name :</span></dt><dd>ECHAM-SALSA</dd><dt><span>case_name :</span></dt><dd>SALSA_BSOA_feedback</dd><dt><span>case :</span></dt><dd>SALSA_BSOA_feedback</dd><dt><span>case_name_nice :</span></dt><dd>SALSA_BSOA_feedback</dd><dt><span>from_time :</span></dt><dd>2012-01-01</dd><dt><span>to_time :</span></dt><dd>2012-02-01</dd><dt><span>startyear :</span></dt><dd>2012</dd><dt><span>endyear :</span></dt><dd>2012</dd></dl></div><div class='xr-var-data'><pre>array([ 8.620104 , 14.034903 , 16.261702 , ...,  0.       ,  3.0002973,\n",
       "       13.302503 ], dtype=float32)</pre></div></li><li class='xr-var-item'><div class='xr-var-name'><span>cl_time</span></div><div class='xr-var-dims'>(time)</div><div class='xr-var-dtype'>float32</div><div class='xr-var-preview xr-preview'>0.0 0.0 0.0 0.0 ... 0.0 0.0 0.0 0.0</div><input id='attrs-d0f7aa27-851b-454a-81c0-c2921830ff11' class='xr-var-attrs-in' type='checkbox' ><label for='attrs-d0f7aa27-851b-454a-81c0-c2921830ff11' title='Show/Hide attributes'><svg class='icon xr-icon-file-text2'><use xlink:href='#icon-file-text2'></use></svg></label><input id='data-c79c35b6-7c43-4d71-8040-d27f4d1f03a0' class='xr-var-data-in' type='checkbox'><label for='data-c79c35b6-7c43-4d71-8040-d27f4d1f03a0' title='Show/Hide data repr'><svg class='icon xr-icon-database'><use xlink:href='#icon-database'></use></svg></label><div class='xr-var-attrs'><dl class='xr-attrs'><dt><span>long_name :</span></dt><dd>cloud_time</dd><dt><span>units :</span></dt><dd>1</dd><dt><span>description :</span></dt><dd>cloud time</dd><dt><span>pressure_coords :</span></dt><dd>False</dd><dt><span>raw_data_path :</span></dt><dd>/proj/bolinc/users/x_sarbl/other_data/BS-FDBCK/ECHAM-SALSA</dd><dt><span>model :</span></dt><dd>ECHAM-SALSA</dd><dt><span>model_name :</span></dt><dd>ECHAM-SALSA</dd><dt><span>case_name :</span></dt><dd>SALSA_BSOA_feedback</dd><dt><span>case :</span></dt><dd>SALSA_BSOA_feedback</dd><dt><span>case_name_nice :</span></dt><dd>SALSA_BSOA_feedback</dd><dt><span>from_time :</span></dt><dd>2012-01-01</dd><dt><span>to_time :</span></dt><dd>2012-02-01</dd><dt><span>startyear :</span></dt><dd>2012</dd><dt><span>endyear :</span></dt><dd>2012</dd></dl></div><div class='xr-var-data'><pre>array([0., 0., 0., ..., 0., 0., 0.], dtype=float32)</pre></div></li><li class='xr-var-item'><div class='xr-var-name'><span>clfr</span></div><div class='xr-var-dims'>(time)</div><div class='xr-var-dtype'>float32</div><div class='xr-var-preview xr-preview'>0.0 0.0 0.0 0.0 ... 0.0 0.0 0.0 0.0</div><input id='attrs-7931127a-c927-4ff5-9665-8bccc6cd3be7' class='xr-var-attrs-in' type='checkbox' ><label for='attrs-7931127a-c927-4ff5-9665-8bccc6cd3be7' title='Show/Hide attributes'><svg class='icon xr-icon-file-text2'><use xlink:href='#icon-file-text2'></use></svg></label><input id='data-fe13c00a-8c0e-4065-aa29-c099301b6bfb' class='xr-var-data-in' type='checkbox'><label for='data-fe13c00a-8c0e-4065-aa29-c099301b6bfb' title='Show/Hide data repr'><svg class='icon xr-icon-database'><use xlink:href='#icon-database'></use></svg></label><div class='xr-var-attrs'><dl class='xr-attrs'><dt><span>long_name :</span></dt><dd>cloud_fraction</dd><dt><span>units :</span></dt><dd>1</dd><dt><span>description :</span></dt><dd>cloud fraction</dd><dt><span>pressure_coords :</span></dt><dd>False</dd><dt><span>raw_data_path :</span></dt><dd>/proj/bolinc/users/x_sarbl/other_data/BS-FDBCK/ECHAM-SALSA</dd><dt><span>model :</span></dt><dd>ECHAM-SALSA</dd><dt><span>model_name :</span></dt><dd>ECHAM-SALSA</dd><dt><span>case_name :</span></dt><dd>SALSA_BSOA_feedback</dd><dt><span>case :</span></dt><dd>SALSA_BSOA_feedback</dd><dt><span>case_name_nice :</span></dt><dd>SALSA_BSOA_feedback</dd><dt><span>from_time :</span></dt><dd>2012-01-01</dd><dt><span>to_time :</span></dt><dd>2012-02-01</dd><dt><span>startyear :</span></dt><dd>2012</dd><dt><span>endyear :</span></dt><dd>2012</dd></dl></div><div class='xr-var-data'><pre>array([0., 0., 0., ..., 0., 0., 0.], dtype=float32)</pre></div></li><li class='xr-var-item'><div class='xr-var-name'><span>cod</span></div><div class='xr-var-dims'>(time)</div><div class='xr-var-dtype'>float32</div><div class='xr-var-preview xr-preview'>2.541 2.76 3.81 ... 0.05637 0.05637</div><input id='attrs-e597fa75-104e-41a1-adbe-5ca97032dffd' class='xr-var-attrs-in' type='checkbox' ><label for='attrs-e597fa75-104e-41a1-adbe-5ca97032dffd' title='Show/Hide attributes'><svg class='icon xr-icon-file-text2'><use xlink:href='#icon-file-text2'></use></svg></label><input id='data-8fb71203-4259-424b-8175-01559a0318a4' class='xr-var-data-in' type='checkbox'><label for='data-8fb71203-4259-424b-8175-01559a0318a4' title='Show/Hide data repr'><svg class='icon xr-icon-database'><use xlink:href='#icon-database'></use></svg></label><div class='xr-var-attrs'><dl class='xr-attrs'><dt><span>long_name :</span></dt><dd>cloud optical thickness</dd><dt><span>units :</span></dt><dd>1</dd><dt><span>description :</span></dt><dd>cloud optical thickness</dd><dt><span>pressure_coords :</span></dt><dd>False</dd><dt><span>raw_data_path :</span></dt><dd>/proj/bolinc/users/x_sarbl/other_data/BS-FDBCK/ECHAM-SALSA</dd><dt><span>model :</span></dt><dd>ECHAM-SALSA</dd><dt><span>model_name :</span></dt><dd>ECHAM-SALSA</dd><dt><span>case_name :</span></dt><dd>SALSA_BSOA_feedback</dd><dt><span>case :</span></dt><dd>SALSA_BSOA_feedback</dd><dt><span>case_name_nice :</span></dt><dd>SALSA_BSOA_feedback</dd><dt><span>from_time :</span></dt><dd>2012-01-01</dd><dt><span>to_time :</span></dt><dd>2012-02-01</dd><dt><span>startyear :</span></dt><dd>2012</dd><dt><span>endyear :</span></dt><dd>2012</dd></dl></div><div class='xr-var-data'><pre>array([2.5414724 , 2.7596078 , 3.8095176 , ..., 0.1383034 , 0.05637429,\n",
       "       0.05637429], dtype=float32)</pre></div></li><li class='xr-var-item'><div class='xr-var-name'><span>cwp</span></div><div class='xr-var-dims'>(time)</div><div class='xr-var-dtype'>float32</div><div class='xr-var-preview xr-preview'>0.02706 0.03512 ... 0.01605</div><input id='attrs-3a157456-df89-4939-9f64-1de7008ea44f' class='xr-var-attrs-in' type='checkbox' ><label for='attrs-3a157456-df89-4939-9f64-1de7008ea44f' title='Show/Hide attributes'><svg class='icon xr-icon-file-text2'><use xlink:href='#icon-file-text2'></use></svg></label><input id='data-0f3d5454-4ecc-4423-b54f-0f6f6d72e7af' class='xr-var-data-in' type='checkbox'><label for='data-0f3d5454-4ecc-4423-b54f-0f6f6d72e7af' title='Show/Hide data repr'><svg class='icon xr-icon-database'><use xlink:href='#icon-database'></use></svg></label><div class='xr-var-attrs'><dl class='xr-attrs'><dt><span>long_name :</span></dt><dd>cloud liquid water path</dd><dt><span>units :</span></dt><dd>kg m-2</dd><dt><span>description :</span></dt><dd>cloud liquid water path</dd><dt><span>pressure_coords :</span></dt><dd>False</dd><dt><span>raw_data_path :</span></dt><dd>/proj/bolinc/users/x_sarbl/other_data/BS-FDBCK/ECHAM-SALSA</dd><dt><span>model :</span></dt><dd>ECHAM-SALSA</dd><dt><span>model_name :</span></dt><dd>ECHAM-SALSA</dd><dt><span>case_name :</span></dt><dd>SALSA_BSOA_feedback</dd><dt><span>case :</span></dt><dd>SALSA_BSOA_feedback</dd><dt><span>case_name_nice :</span></dt><dd>SALSA_BSOA_feedback</dd><dt><span>from_time :</span></dt><dd>2012-01-01</dd><dt><span>to_time :</span></dt><dd>2012-02-01</dd><dt><span>startyear :</span></dt><dd>2012</dd><dt><span>endyear :</span></dt><dd>2012</dd></dl></div><div class='xr-var-data'><pre>array([2.7057137e-02, 3.5123393e-02, 5.4907210e-02, ..., 7.3468212e-19,\n",
       "       1.8392227e-04, 1.6054401e-02], dtype=float32)</pre></div></li><li class='xr-var-item'><div class='xr-var-name'><span>emi_isop_bio</span></div><div class='xr-var-dims'>(time)</div><div class='xr-var-dtype'>float32</div><div class='xr-var-preview xr-preview'>0.0 0.0 0.0 ... 5.927e-12 0.0</div><input id='attrs-8894b7b0-444d-4ade-b53f-fbc1df66a89b' class='xr-var-attrs-in' type='checkbox' ><label for='attrs-8894b7b0-444d-4ade-b53f-fbc1df66a89b' title='Show/Hide attributes'><svg class='icon xr-icon-file-text2'><use xlink:href='#icon-file-text2'></use></svg></label><input id='data-1110e4a1-cc14-483a-b236-9d68ac3780b2' class='xr-var-data-in' type='checkbox'><label for='data-1110e4a1-cc14-483a-b236-9d68ac3780b2' title='Show/Hide data repr'><svg class='icon xr-icon-database'><use xlink:href='#icon-database'></use></svg></label><div class='xr-var-attrs'><dl class='xr-attrs'><dt><span>long_name :</span></dt><dd>isoprene_emissions_biogenic</dd><dt><span>units :</span></dt><dd>kg m-2 s-1</dd><dt><span>description :</span></dt><dd>Emissions of biogenic isoprene</dd><dt><span>pressure_coords :</span></dt><dd>False</dd><dt><span>raw_data_path :</span></dt><dd>/proj/bolinc/users/x_sarbl/other_data/BS-FDBCK/ECHAM-SALSA</dd><dt><span>model :</span></dt><dd>ECHAM-SALSA</dd><dt><span>model_name :</span></dt><dd>ECHAM-SALSA</dd><dt><span>case_name :</span></dt><dd>SALSA_BSOA_feedback</dd><dt><span>case :</span></dt><dd>SALSA_BSOA_feedback</dd><dt><span>case_name_nice :</span></dt><dd>SALSA_BSOA_feedback</dd><dt><span>from_time :</span></dt><dd>2012-01-01</dd><dt><span>to_time :</span></dt><dd>2012-02-01</dd><dt><span>startyear :</span></dt><dd>2012</dd><dt><span>endyear :</span></dt><dd>2012</dd></dl></div><div class='xr-var-data'><pre>array([0.0000000e+00, 0.0000000e+00, 0.0000000e+00, ..., 1.2984559e-10,\n",
       "       5.9273328e-12, 0.0000000e+00], dtype=float32)</pre></div></li><li class='xr-var-item'><div class='xr-var-name'><span>emi_monot_bio</span></div><div class='xr-var-dims'>(time)</div><div class='xr-var-dtype'>float32</div><div class='xr-var-preview xr-preview'>1.138e-10 1.108e-10 ... 1.098e-10</div><input id='attrs-67a57aa1-28ad-414c-a3d6-b0d4d49d5ab9' class='xr-var-attrs-in' type='checkbox' ><label for='attrs-67a57aa1-28ad-414c-a3d6-b0d4d49d5ab9' title='Show/Hide attributes'><svg class='icon xr-icon-file-text2'><use xlink:href='#icon-file-text2'></use></svg></label><input id='data-4c171a46-7100-4b7a-9130-622e6f8090d2' class='xr-var-data-in' type='checkbox'><label for='data-4c171a46-7100-4b7a-9130-622e6f8090d2' title='Show/Hide data repr'><svg class='icon xr-icon-database'><use xlink:href='#icon-database'></use></svg></label><div class='xr-var-attrs'><dl class='xr-attrs'><dt><span>units :</span></dt><dd>kg m-2 s-1</dd><dt><span>long_name :</span></dt><dd>monoterpene_emissions_biogenic</dd><dt><span>description :</span></dt><dd>Emissions of biogenic monoterpenes</dd><dt><span>pressure_coords :</span></dt><dd>False</dd><dt><span>raw_data_path :</span></dt><dd>/proj/bolinc/users/x_sarbl/other_data/BS-FDBCK/ECHAM-SALSA</dd><dt><span>model :</span></dt><dd>ECHAM-SALSA</dd><dt><span>model_name :</span></dt><dd>ECHAM-SALSA</dd><dt><span>case_name :</span></dt><dd>SALSA_BSOA_feedback</dd><dt><span>case :</span></dt><dd>SALSA_BSOA_feedback</dd><dt><span>case_name_nice :</span></dt><dd>SALSA_BSOA_feedback</dd><dt><span>from_time :</span></dt><dd>2012-01-01</dd><dt><span>to_time :</span></dt><dd>2012-02-01</dd><dt><span>startyear :</span></dt><dd>2012</dd><dt><span>endyear :</span></dt><dd>2012</dd></dl></div><div class='xr-var-data'><pre>array([1.13809240e-10, 1.10767943e-10, 1.09645029e-10, ...,\n",
       "       1.50433707e-10, 1.15194417e-10, 1.09753921e-10], dtype=float32)</pre></div></li><li class='xr-var-item'><div class='xr-var-name'><span>geom</span></div><div class='xr-var-dims'>(time)</div><div class='xr-var-dtype'>float32</div><div class='xr-var-preview xr-preview'>1.518e+03 1.518e+03 ... 1.525e+03</div><input id='attrs-f7cbffab-2f0f-4a6c-9263-e849fadf1c8e' class='xr-var-attrs-in' type='checkbox' ><label for='attrs-f7cbffab-2f0f-4a6c-9263-e849fadf1c8e' title='Show/Hide attributes'><svg class='icon xr-icon-file-text2'><use xlink:href='#icon-file-text2'></use></svg></label><input id='data-fec3552a-6828-463d-a285-a2f41d8a0130' class='xr-var-data-in' type='checkbox'><label for='data-fec3552a-6828-463d-a285-a2f41d8a0130' title='Show/Hide data repr'><svg class='icon xr-icon-database'><use xlink:href='#icon-database'></use></svg></label><div class='xr-var-attrs'><dl class='xr-attrs'><dt><span>long_name :</span></dt><dd>geopotential height</dd><dt><span>units :</span></dt><dd>m3 s-2</dd><dt><span>CDI_grid_type :</span></dt><dd>unstructured</dd><dt><span>description :</span></dt><dd>geopotential height</dd><dt><span>pressure_coords :</span></dt><dd>False</dd><dt><span>raw_data_path :</span></dt><dd>/proj/bolinc/users/x_sarbl/other_data/BS-FDBCK/ECHAM-SALSA</dd><dt><span>model :</span></dt><dd>ECHAM-SALSA</dd><dt><span>model_name :</span></dt><dd>ECHAM-SALSA</dd><dt><span>case_name :</span></dt><dd>SALSA_BSOA_feedback</dd><dt><span>case :</span></dt><dd>SALSA_BSOA_feedback</dd><dt><span>case_name_nice :</span></dt><dd>SALSA_BSOA_feedback</dd><dt><span>from_time :</span></dt><dd>2012-01-01</dd><dt><span>to_time :</span></dt><dd>2012-02-01</dd><dt><span>startyear :</span></dt><dd>2012</dd><dt><span>endyear :</span></dt><dd>2012</dd><dt><span>coordinates :</span></dt><dd>lat lon</dd></dl></div><div class='xr-var-data'><pre>array([1518.1201, 1517.7632, 1517.4675, ..., 1525.7059, 1525.5063,\n",
       "       1525.4567], dtype=float32)</pre></div></li><li class='xr-var-item'><div class='xr-var-name'><span>lcdnc</span></div><div class='xr-var-dims'>(time)</div><div class='xr-var-dtype'>float32</div><div class='xr-var-preview xr-preview'>1.744e-29 6.644e-29 ... 8.178e-29</div><input id='attrs-a569d807-5bd1-4872-a63f-13d7e063980d' class='xr-var-attrs-in' type='checkbox' ><label for='attrs-a569d807-5bd1-4872-a63f-13d7e063980d' title='Show/Hide attributes'><svg class='icon xr-icon-file-text2'><use xlink:href='#icon-file-text2'></use></svg></label><input id='data-6b6adcc4-a412-49e5-8a6e-64353cf720d6' class='xr-var-data-in' type='checkbox'><label for='data-6b6adcc4-a412-49e5-8a6e-64353cf720d6' title='Show/Hide data repr'><svg class='icon xr-icon-database'><use xlink:href='#icon-database'></use></svg></label><div class='xr-var-attrs'><dl class='xr-attrs'><dt><span>long_name :</span></dt><dd>liquid_cloud_droplet_number_concentration</dd><dt><span>units :</span></dt><dd>m-3</dd><dt><span>description :</span></dt><dd>Liquid cloud droplet number concentration</dd><dt><span>pressure_coords :</span></dt><dd>False</dd><dt><span>raw_data_path :</span></dt><dd>/proj/bolinc/users/x_sarbl/other_data/BS-FDBCK/ECHAM-SALSA</dd><dt><span>model :</span></dt><dd>ECHAM-SALSA</dd><dt><span>model_name :</span></dt><dd>ECHAM-SALSA</dd><dt><span>case_name :</span></dt><dd>SALSA_BSOA_feedback</dd><dt><span>case :</span></dt><dd>SALSA_BSOA_feedback</dd><dt><span>case_name_nice :</span></dt><dd>SALSA_BSOA_feedback</dd><dt><span>from_time :</span></dt><dd>2012-01-01</dd><dt><span>to_time :</span></dt><dd>2012-02-01</dd><dt><span>startyear :</span></dt><dd>2012</dd><dt><span>endyear :</span></dt><dd>2012</dd></dl></div><div class='xr-var-data'><pre>array([1.7439819e-29, 6.6436717e-29, 1.4462067e-29, ..., 1.5843381e-28,\n",
       "       3.3734896e-29, 8.1775846e-29], dtype=float32)</pre></div></li><li class='xr-var-item'><div class='xr-var-name'><span>lcdnc_ct</span></div><div class='xr-var-dims'>(time)</div><div class='xr-var-dtype'>float32</div><div class='xr-var-preview xr-preview'>8.113e+05 9.244e+05 ... 2.214e+06</div><input id='attrs-df088acc-61e4-4c8c-8792-736abb9069c3' class='xr-var-attrs-in' type='checkbox' ><label for='attrs-df088acc-61e4-4c8c-8792-736abb9069c3' title='Show/Hide attributes'><svg class='icon xr-icon-file-text2'><use xlink:href='#icon-file-text2'></use></svg></label><input id='data-c1a9d9eb-c53a-486c-aded-143f6a421d55' class='xr-var-data-in' type='checkbox'><label for='data-c1a9d9eb-c53a-486c-aded-143f6a421d55' title='Show/Hide data repr'><svg class='icon xr-icon-database'><use xlink:href='#icon-database'></use></svg></label><div class='xr-var-attrs'><dl class='xr-attrs'><dt><span>long_name :</span></dt><dd>liquid_cloud_droplet_number_concentration_cloud_top</dd><dt><span>units :</span></dt><dd>cm-3</dd><dt><span>description :</span></dt><dd>Liquid cloud droplet number concentration cloud top</dd><dt><span>pressure_coords :</span></dt><dd>False</dd><dt><span>raw_data_path :</span></dt><dd>/proj/bolinc/users/x_sarbl/other_data/BS-FDBCK/ECHAM-SALSA</dd><dt><span>model :</span></dt><dd>ECHAM-SALSA</dd><dt><span>model_name :</span></dt><dd>ECHAM-SALSA</dd><dt><span>case_name :</span></dt><dd>SALSA_BSOA_feedback</dd><dt><span>case :</span></dt><dd>SALSA_BSOA_feedback</dd><dt><span>case_name_nice :</span></dt><dd>SALSA_BSOA_feedback</dd><dt><span>from_time :</span></dt><dd>2012-01-01</dd><dt><span>to_time :</span></dt><dd>2012-02-01</dd><dt><span>startyear :</span></dt><dd>2012</dd><dt><span>endyear :</span></dt><dd>2012</dd></dl></div><div class='xr-var-data'><pre>array([ 811277.06,  924430.9 , 1915001.2 , ...,       0.  ,  532100.6 ,\n",
       "       2214316.8 ], dtype=float32)</pre></div></li><li class='xr-var-item'><div class='xr-var-name'><span>mmrtrN250</span></div><div class='xr-var-dims'>(time)</div><div class='xr-var-dtype'>float32</div><div class='xr-var-preview xr-preview'>6.928e+06 7.332e+06 ... 1.86e+07</div><input id='attrs-4410aa89-af8d-4073-a3f6-03f3535f89c1' class='xr-var-attrs-in' type='checkbox' ><label for='attrs-4410aa89-af8d-4073-a3f6-03f3535f89c1' title='Show/Hide attributes'><svg class='icon xr-icon-file-text2'><use xlink:href='#icon-file-text2'></use></svg></label><input id='data-8b8f3649-8bf1-4886-a119-b59c09eb5ea8' class='xr-var-data-in' type='checkbox'><label for='data-8b8f3649-8bf1-4886-a119-b59c09eb5ea8' title='Show/Hide data repr'><svg class='icon xr-icon-database'><use xlink:href='#icon-database'></use></svg></label><div class='xr-var-attrs'><dl class='xr-attrs'><dt><span>CDI_grid_type :</span></dt><dd>unstructured</dd><dt><span>units :</span></dt><dd>kg-1</dd><dt><span>long_name :</span></dt><dd>number_mixing_ratio_N250</dd><dt><span>description :</span></dt><dd>number mixing ratio of N250</dd><dt><span>pressure_coords :</span></dt><dd>False</dd><dt><span>raw_data_path :</span></dt><dd>/proj/bolinc/users/x_sarbl/other_data/BS-FDBCK/ECHAM-SALSA</dd><dt><span>model :</span></dt><dd>ECHAM-SALSA</dd><dt><span>model_name :</span></dt><dd>ECHAM-SALSA</dd><dt><span>case_name :</span></dt><dd>SALSA_BSOA_feedback</dd><dt><span>case :</span></dt><dd>SALSA_BSOA_feedback</dd><dt><span>case_name_nice :</span></dt><dd>SALSA_BSOA_feedback</dd><dt><span>from_time :</span></dt><dd>2012-01-01</dd><dt><span>to_time :</span></dt><dd>2012-02-01</dd><dt><span>startyear :</span></dt><dd>2012</dd><dt><span>endyear :</span></dt><dd>2012</dd><dt><span>coordinates :</span></dt><dd>lat lon</dd></dl></div><div class='xr-var-data'><pre>array([ 6928280.5,  7332447. ,  7828675. , ..., 15548366. , 17016260. ,\n",
       "       18602322. ], dtype=float32)</pre></div></li><li class='xr-var-item'><div class='xr-var-name'><span>mmrtrN3</span></div><div class='xr-var-dims'>(time)</div><div class='xr-var-dtype'>float32</div><div class='xr-var-preview xr-preview'>1.141e+08 1.235e+08 ... 1.552e+08</div><input id='attrs-43dbc659-85d1-4736-b059-fa61e7b9eac1' class='xr-var-attrs-in' type='checkbox' ><label for='attrs-43dbc659-85d1-4736-b059-fa61e7b9eac1' title='Show/Hide attributes'><svg class='icon xr-icon-file-text2'><use xlink:href='#icon-file-text2'></use></svg></label><input id='data-0e452163-6646-41ec-a1a7-07b824fce99e' class='xr-var-data-in' type='checkbox'><label for='data-0e452163-6646-41ec-a1a7-07b824fce99e' title='Show/Hide data repr'><svg class='icon xr-icon-database'><use xlink:href='#icon-database'></use></svg></label><div class='xr-var-attrs'><dl class='xr-attrs'><dt><span>CDI_grid_type :</span></dt><dd>unstructured</dd><dt><span>units :</span></dt><dd>kg-1</dd><dt><span>long_name :</span></dt><dd>number_mixing_ratio_N3</dd><dt><span>description :</span></dt><dd>number mixing ratio of N3</dd><dt><span>pressure_coords :</span></dt><dd>False</dd><dt><span>raw_data_path :</span></dt><dd>/proj/bolinc/users/x_sarbl/other_data/BS-FDBCK/ECHAM-SALSA</dd><dt><span>model :</span></dt><dd>ECHAM-SALSA</dd><dt><span>model_name :</span></dt><dd>ECHAM-SALSA</dd><dt><span>case_name :</span></dt><dd>SALSA_BSOA_feedback</dd><dt><span>case :</span></dt><dd>SALSA_BSOA_feedback</dd><dt><span>case_name_nice :</span></dt><dd>SALSA_BSOA_feedback</dd><dt><span>from_time :</span></dt><dd>2012-01-01</dd><dt><span>to_time :</span></dt><dd>2012-02-01</dd><dt><span>startyear :</span></dt><dd>2012</dd><dt><span>endyear :</span></dt><dd>2012</dd><dt><span>coordinates :</span></dt><dd>lat lon</dd></dl></div><div class='xr-var-data'><pre>array([1.1413330e+08, 1.2347238e+08, 1.3410329e+08, ..., 1.2085747e+08,\n",
       "       1.3784574e+08, 1.5524909e+08], dtype=float32)</pre></div></li><li class='xr-var-item'><div class='xr-var-name'><span>mmrtrN500</span></div><div class='xr-var-dims'>(time)</div><div class='xr-var-dtype'>float32</div><div class='xr-var-preview xr-preview'>2.438e+06 2.587e+06 ... 1.892e+06</div><input id='attrs-1f04886b-e5e6-4525-9f9a-8a7bc7404f4c' class='xr-var-attrs-in' type='checkbox' ><label for='attrs-1f04886b-e5e6-4525-9f9a-8a7bc7404f4c' title='Show/Hide attributes'><svg class='icon xr-icon-file-text2'><use xlink:href='#icon-file-text2'></use></svg></label><input id='data-351bbbac-01fe-4798-b096-d169d5c216c0' class='xr-var-data-in' type='checkbox'><label for='data-351bbbac-01fe-4798-b096-d169d5c216c0' title='Show/Hide data repr'><svg class='icon xr-icon-database'><use xlink:href='#icon-database'></use></svg></label><div class='xr-var-attrs'><dl class='xr-attrs'><dt><span>CDI_grid_type :</span></dt><dd>unstructured</dd><dt><span>units :</span></dt><dd>kg-1</dd><dt><span>long_name :</span></dt><dd>number_mixing_ratio_N500</dd><dt><span>description :</span></dt><dd>number mixing ratio of N500</dd><dt><span>pressure_coords :</span></dt><dd>False</dd><dt><span>raw_data_path :</span></dt><dd>/proj/bolinc/users/x_sarbl/other_data/BS-FDBCK/ECHAM-SALSA</dd><dt><span>model :</span></dt><dd>ECHAM-SALSA</dd><dt><span>model_name :</span></dt><dd>ECHAM-SALSA</dd><dt><span>case_name :</span></dt><dd>SALSA_BSOA_feedback</dd><dt><span>case :</span></dt><dd>SALSA_BSOA_feedback</dd><dt><span>case_name_nice :</span></dt><dd>SALSA_BSOA_feedback</dd><dt><span>from_time :</span></dt><dd>2012-01-01</dd><dt><span>to_time :</span></dt><dd>2012-02-01</dd><dt><span>startyear :</span></dt><dd>2012</dd><dt><span>endyear :</span></dt><dd>2012</dd><dt><span>coordinates :</span></dt><dd>lat lon</dd></dl></div><div class='xr-var-data'><pre>array([2438427. , 2586674.5, 2771528. , ..., 1433281.1, 1662869. ,\n",
       "       1892447.1], dtype=float32)</pre></div></li><li class='xr-var-item'><div class='xr-var-name'><span>oh_con</span></div><div class='xr-var-dims'>(time)</div><div class='xr-var-dtype'>float32</div><div class='xr-var-preview xr-preview'>0.0 0.0 0.0 0.0 ... 2.711 0.0 0.0</div><input id='attrs-879ad7b4-bc02-4dd3-9f1f-b65a6485e3bb' class='xr-var-attrs-in' type='checkbox' ><label for='attrs-879ad7b4-bc02-4dd3-9f1f-b65a6485e3bb' title='Show/Hide attributes'><svg class='icon xr-icon-file-text2'><use xlink:href='#icon-file-text2'></use></svg></label><input id='data-25f1848a-1544-4daa-b5f6-43bf45117529' class='xr-var-data-in' type='checkbox'><label for='data-25f1848a-1544-4daa-b5f6-43bf45117529' title='Show/Hide data repr'><svg class='icon xr-icon-database'><use xlink:href='#icon-database'></use></svg></label><div class='xr-var-attrs'><dl class='xr-attrs'><dt><span>long_name :</span></dt><dd>oh_conc_gas_phase</dd><dt><span>units :</span></dt><dd>cm-3</dd><dt><span>CDI_grid_type :</span></dt><dd>unstructured</dd><dt><span>description :</span></dt><dd>OH concentration gas phase</dd><dt><span>pressure_coords :</span></dt><dd>False</dd><dt><span>raw_data_path :</span></dt><dd>/proj/bolinc/users/x_sarbl/other_data/BS-FDBCK/ECHAM-SALSA</dd><dt><span>model :</span></dt><dd>ECHAM-SALSA</dd><dt><span>model_name :</span></dt><dd>ECHAM-SALSA</dd><dt><span>case_name :</span></dt><dd>SALSA_BSOA_feedback</dd><dt><span>case :</span></dt><dd>SALSA_BSOA_feedback</dd><dt><span>case_name_nice :</span></dt><dd>SALSA_BSOA_feedback</dd><dt><span>from_time :</span></dt><dd>2012-01-01</dd><dt><span>to_time :</span></dt><dd>2012-02-01</dd><dt><span>startyear :</span></dt><dd>2012</dd><dt><span>endyear :</span></dt><dd>2012</dd><dt><span>coordinates :</span></dt><dd>lat lon</dd></dl></div><div class='xr-var-data'><pre>array([0.       , 0.       , 0.       , ..., 2.7112591, 0.       ,\n",
       "       0.       ], dtype=float32)</pre></div></li><li class='xr-var-item'><div class='xr-var-name'><span>mmrtrN100</span></div><div class='xr-var-dims'>(time)</div><div class='xr-var-dtype'>float32</div><div class='xr-var-preview xr-preview'>9.083e+07 9.694e+07 ... 1.81e+08</div><input id='attrs-cd05aaec-3f20-493c-9eff-12d81b2b32e9' class='xr-var-attrs-in' type='checkbox' ><label for='attrs-cd05aaec-3f20-493c-9eff-12d81b2b32e9' title='Show/Hide attributes'><svg class='icon xr-icon-file-text2'><use xlink:href='#icon-file-text2'></use></svg></label><input id='data-1db5e1b2-d22f-46b5-a940-6b4434c41a0d' class='xr-var-data-in' type='checkbox'><label for='data-1db5e1b2-d22f-46b5-a940-6b4434c41a0d' title='Show/Hide data repr'><svg class='icon xr-icon-database'><use xlink:href='#icon-database'></use></svg></label><div class='xr-var-attrs'><dl class='xr-attrs'><dt><span>units :</span></dt><dd>kg-1</dd><dt><span>long_name :</span></dt><dd>number_mixing_ratio_N100</dd><dt><span>description :</span></dt><dd>number mixing ratio of N100</dd><dt><span>pressure_coords :</span></dt><dd>False</dd><dt><span>raw_data_path :</span></dt><dd>/proj/bolinc/users/x_sarbl/other_data/BS-FDBCK/ECHAM-SALSA</dd><dt><span>model :</span></dt><dd>ECHAM-SALSA</dd><dt><span>model_name :</span></dt><dd>ECHAM-SALSA</dd><dt><span>case_name :</span></dt><dd>SALSA_BSOA_feedback</dd><dt><span>case :</span></dt><dd>SALSA_BSOA_feedback</dd><dt><span>case_name_nice :</span></dt><dd>SALSA_BSOA_feedback</dd><dt><span>from_time :</span></dt><dd>2012-01-01</dd><dt><span>to_time :</span></dt><dd>2012-02-01</dd><dt><span>startyear :</span></dt><dd>2012</dd><dt><span>endyear :</span></dt><dd>2012</dd></dl></div><div class='xr-var-data'><pre>array([9.0832984e+07, 9.6942128e+07, 1.0254288e+08, ..., 1.7284470e+08,\n",
       "       1.7895846e+08, 1.8099662e+08], dtype=float32)</pre></div></li><li class='xr-var-item'><div class='xr-var-name'><span>mmrtrN200</span></div><div class='xr-var-dims'>(time)</div><div class='xr-var-dtype'>float32</div><div class='xr-var-preview xr-preview'>2.263e+07 2.241e+07 ... 3.835e+07</div><input id='attrs-0c24edef-5df8-488d-a33b-7397f2c1b3fa' class='xr-var-attrs-in' type='checkbox' ><label for='attrs-0c24edef-5df8-488d-a33b-7397f2c1b3fa' title='Show/Hide attributes'><svg class='icon xr-icon-file-text2'><use xlink:href='#icon-file-text2'></use></svg></label><input id='data-0a3d995d-28bb-407c-a1eb-b446936fdbd4' class='xr-var-data-in' type='checkbox'><label for='data-0a3d995d-28bb-407c-a1eb-b446936fdbd4' title='Show/Hide data repr'><svg class='icon xr-icon-database'><use xlink:href='#icon-database'></use></svg></label><div class='xr-var-attrs'><dl class='xr-attrs'><dt><span>units :</span></dt><dd>kg-1</dd><dt><span>long_name :</span></dt><dd>number_mixing_ratio_N200</dd><dt><span>description :</span></dt><dd>number mixing ratio of N200</dd><dt><span>pressure_coords :</span></dt><dd>False</dd><dt><span>raw_data_path :</span></dt><dd>/proj/bolinc/users/x_sarbl/other_data/BS-FDBCK/ECHAM-SALSA</dd><dt><span>model :</span></dt><dd>ECHAM-SALSA</dd><dt><span>model_name :</span></dt><dd>ECHAM-SALSA</dd><dt><span>case_name :</span></dt><dd>SALSA_BSOA_feedback</dd><dt><span>case :</span></dt><dd>SALSA_BSOA_feedback</dd><dt><span>case_name_nice :</span></dt><dd>SALSA_BSOA_feedback</dd><dt><span>from_time :</span></dt><dd>2012-01-01</dd><dt><span>to_time :</span></dt><dd>2012-02-01</dd><dt><span>startyear :</span></dt><dd>2012</dd><dt><span>endyear :</span></dt><dd>2012</dd></dl></div><div class='xr-var-data'><pre>array([22630644., 22407438., 22279146., ..., 38136544., 38261264.,\n",
       "       38347576.], dtype=float32)</pre></div></li><li class='xr-var-item'><div class='xr-var-name'><span>mmrtrN50</span></div><div class='xr-var-dims'>(time)</div><div class='xr-var-dtype'>float32</div><div class='xr-var-preview xr-preview'>2.875e+08 3.174e+08 ... 4.315e+08</div><input id='attrs-acbc5fe2-09dc-447a-932f-9983d40e13d8' class='xr-var-attrs-in' type='checkbox' ><label for='attrs-acbc5fe2-09dc-447a-932f-9983d40e13d8' title='Show/Hide attributes'><svg class='icon xr-icon-file-text2'><use xlink:href='#icon-file-text2'></use></svg></label><input id='data-10ca724f-2200-4d33-86c2-7068d8da87bd' class='xr-var-data-in' type='checkbox'><label for='data-10ca724f-2200-4d33-86c2-7068d8da87bd' title='Show/Hide data repr'><svg class='icon xr-icon-database'><use xlink:href='#icon-database'></use></svg></label><div class='xr-var-attrs'><dl class='xr-attrs'><dt><span>units :</span></dt><dd>kg-1</dd><dt><span>long_name :</span></dt><dd>number_mixing_ratio_N50</dd><dt><span>description :</span></dt><dd>number mixing ratio of N50</dd><dt><span>pressure_coords :</span></dt><dd>False</dd><dt><span>raw_data_path :</span></dt><dd>/proj/bolinc/users/x_sarbl/other_data/BS-FDBCK/ECHAM-SALSA</dd><dt><span>model :</span></dt><dd>ECHAM-SALSA</dd><dt><span>model_name :</span></dt><dd>ECHAM-SALSA</dd><dt><span>case_name :</span></dt><dd>SALSA_BSOA_feedback</dd><dt><span>case :</span></dt><dd>SALSA_BSOA_feedback</dd><dt><span>case_name_nice :</span></dt><dd>SALSA_BSOA_feedback</dd><dt><span>from_time :</span></dt><dd>2012-01-01</dd><dt><span>to_time :</span></dt><dd>2012-02-01</dd><dt><span>startyear :</span></dt><dd>2012</dd><dt><span>endyear :</span></dt><dd>2012</dd></dl></div><div class='xr-var-data'><pre>array([2.8754614e+08, 3.1744736e+08, 3.4486061e+08, ..., 4.0009462e+08,\n",
       "       4.2046090e+08, 4.3153978e+08], dtype=float32)</pre></div></li><li class='xr-var-item'><div class='xr-var-name'><span>tempair</span></div><div class='xr-var-dims'>(time)</div><div class='xr-var-dtype'>float32</div><div class='xr-var-preview xr-preview'>299.2 299.0 298.9 ... 300.1 300.0</div><input id='attrs-b528b23f-d4b5-457e-b9cd-6e6fe6b9b32d' class='xr-var-attrs-in' type='checkbox' ><label for='attrs-b528b23f-d4b5-457e-b9cd-6e6fe6b9b32d' title='Show/Hide attributes'><svg class='icon xr-icon-file-text2'><use xlink:href='#icon-file-text2'></use></svg></label><input id='data-02965d99-3d55-4fe9-a19c-31d6f33be7fd' class='xr-var-data-in' type='checkbox'><label for='data-02965d99-3d55-4fe9-a19c-31d6f33be7fd' title='Show/Hide data repr'><svg class='icon xr-icon-database'><use xlink:href='#icon-database'></use></svg></label><div class='xr-var-attrs'><dl class='xr-attrs'><dt><span>long_name :</span></dt><dd>air temperature</dd><dt><span>units :</span></dt><dd>K</dd><dt><span>description :</span></dt><dd>air_temperature</dd><dt><span>pressure_coords :</span></dt><dd>False</dd><dt><span>raw_data_path :</span></dt><dd>/proj/bolinc/users/x_sarbl/other_data/BS-FDBCK/ECHAM-SALSA</dd><dt><span>model :</span></dt><dd>ECHAM-SALSA</dd><dt><span>model_name :</span></dt><dd>ECHAM-SALSA</dd><dt><span>case_name :</span></dt><dd>SALSA_BSOA_feedback</dd><dt><span>case :</span></dt><dd>SALSA_BSOA_feedback</dd><dt><span>case_name_nice :</span></dt><dd>SALSA_BSOA_feedback</dd><dt><span>from_time :</span></dt><dd>2012-01-01</dd><dt><span>to_time :</span></dt><dd>2012-02-01</dd><dt><span>startyear :</span></dt><dd>2012</dd><dt><span>endyear :</span></dt><dd>2012</dd></dl></div><div class='xr-var-data'><pre>array([299.16562, 299.02936, 298.927  , ..., 300.2847 , 300.13324,\n",
       "       300.00867], dtype=float32)</pre></div></li><li class='xr-var-item'><div class='xr-var-name'><span>up_lw</span></div><div class='xr-var-dims'>(time)</div><div class='xr-var-dtype'>float32</div><div class='xr-var-preview xr-preview'>222.6 222.6 233.4 ... 271.0 271.0</div><input id='attrs-2f8b6cbf-b301-4214-a635-36e5c327529b' class='xr-var-attrs-in' type='checkbox' ><label for='attrs-2f8b6cbf-b301-4214-a635-36e5c327529b' title='Show/Hide attributes'><svg class='icon xr-icon-file-text2'><use xlink:href='#icon-file-text2'></use></svg></label><input id='data-fec953ba-bb54-441c-8fa9-c28269e5782d' class='xr-var-data-in' type='checkbox'><label for='data-fec953ba-bb54-441c-8fa9-c28269e5782d' title='Show/Hide data repr'><svg class='icon xr-icon-database'><use xlink:href='#icon-database'></use></svg></label><div class='xr-var-attrs'><dl class='xr-attrs'><dt><span>long_name :</span></dt><dd>toa_upward_longwave_flux</dd><dt><span>units :</span></dt><dd>W m-2</dd><dt><span>description :</span></dt><dd>TOA upward longwave flux</dd><dt><span>pressure_coords :</span></dt><dd>False</dd><dt><span>raw_data_path :</span></dt><dd>/proj/bolinc/users/x_sarbl/other_data/BS-FDBCK/ECHAM-SALSA</dd><dt><span>model :</span></dt><dd>ECHAM-SALSA</dd><dt><span>model_name :</span></dt><dd>ECHAM-SALSA</dd><dt><span>case_name :</span></dt><dd>SALSA_BSOA_feedback</dd><dt><span>case :</span></dt><dd>SALSA_BSOA_feedback</dd><dt><span>case_name_nice :</span></dt><dd>SALSA_BSOA_feedback</dd><dt><span>from_time :</span></dt><dd>2012-01-01</dd><dt><span>to_time :</span></dt><dd>2012-02-01</dd><dt><span>startyear :</span></dt><dd>2012</dd><dt><span>endyear :</span></dt><dd>2012</dd></dl></div><div class='xr-var-data'><pre>array([222.63313, 222.63313, 233.37196, ..., 262.02316, 270.98553,\n",
       "       270.98553], dtype=float32)</pre></div></li><li class='xr-var-item'><div class='xr-var-name'><span>up_lw_cs</span></div><div class='xr-var-dims'>(time)</div><div class='xr-var-dtype'>float32</div><div class='xr-var-preview xr-preview'>276.3 276.3 274.6 ... 276.7 276.7</div><input id='attrs-970cbcb8-4b2d-4afa-b9a5-077942d9a3eb' class='xr-var-attrs-in' type='checkbox' ><label for='attrs-970cbcb8-4b2d-4afa-b9a5-077942d9a3eb' title='Show/Hide attributes'><svg class='icon xr-icon-file-text2'><use xlink:href='#icon-file-text2'></use></svg></label><input id='data-cdf7bd4d-aabc-43aa-9c62-d98630bb1b71' class='xr-var-data-in' type='checkbox'><label for='data-cdf7bd4d-aabc-43aa-9c62-d98630bb1b71' title='Show/Hide data repr'><svg class='icon xr-icon-database'><use xlink:href='#icon-database'></use></svg></label><div class='xr-var-attrs'><dl class='xr-attrs'><dt><span>long_name :</span></dt><dd>toa_upward_longwave_flux_clear_sky</dd><dt><span>units :</span></dt><dd>W m-2</dd><dt><span>description :</span></dt><dd>TOA upward longwave flux clear sky</dd><dt><span>pressure_coords :</span></dt><dd>False</dd><dt><span>raw_data_path :</span></dt><dd>/proj/bolinc/users/x_sarbl/other_data/BS-FDBCK/ECHAM-SALSA</dd><dt><span>model :</span></dt><dd>ECHAM-SALSA</dd><dt><span>model_name :</span></dt><dd>ECHAM-SALSA</dd><dt><span>case_name :</span></dt><dd>SALSA_BSOA_feedback</dd><dt><span>case :</span></dt><dd>SALSA_BSOA_feedback</dd><dt><span>case_name_nice :</span></dt><dd>SALSA_BSOA_feedback</dd><dt><span>from_time :</span></dt><dd>2012-01-01</dd><dt><span>to_time :</span></dt><dd>2012-02-01</dd><dt><span>startyear :</span></dt><dd>2012</dd><dt><span>endyear :</span></dt><dd>2012</dd></dl></div><div class='xr-var-data'><pre>array([276.28336, 276.28336, 274.61942, ..., 275.4712 , 276.69553,\n",
       "       276.69553], dtype=float32)</pre></div></li><li class='xr-var-item'><div class='xr-var-name'><span>up_lw_cs_noa</span></div><div class='xr-var-dims'>(time)</div><div class='xr-var-dtype'>float32</div><div class='xr-var-preview xr-preview'>276.5 276.5 274.8 ... 277.1 277.1</div><input id='attrs-a15178ed-e2bc-46e3-a3ad-43f3713c0467' class='xr-var-attrs-in' type='checkbox' ><label for='attrs-a15178ed-e2bc-46e3-a3ad-43f3713c0467' title='Show/Hide attributes'><svg class='icon xr-icon-file-text2'><use xlink:href='#icon-file-text2'></use></svg></label><input id='data-955e82d6-faf3-44d9-b949-2c9de17cefa8' class='xr-var-data-in' type='checkbox'><label for='data-955e82d6-faf3-44d9-b949-2c9de17cefa8' title='Show/Hide data repr'><svg class='icon xr-icon-database'><use xlink:href='#icon-database'></use></svg></label><div class='xr-var-attrs'><dl class='xr-attrs'><dt><span>long_name :</span></dt><dd>toa_upward_longwave_flux_clear_sky_no_aerosol</dd><dt><span>units :</span></dt><dd>W m-2</dd><dt><span>description :</span></dt><dd>TOA upward longwave flux clear sky no aerosols</dd><dt><span>pressure_coords :</span></dt><dd>False</dd><dt><span>raw_data_path :</span></dt><dd>/proj/bolinc/users/x_sarbl/other_data/BS-FDBCK/ECHAM-SALSA</dd><dt><span>model :</span></dt><dd>ECHAM-SALSA</dd><dt><span>model_name :</span></dt><dd>ECHAM-SALSA</dd><dt><span>case_name :</span></dt><dd>SALSA_BSOA_feedback</dd><dt><span>case :</span></dt><dd>SALSA_BSOA_feedback</dd><dt><span>case_name_nice :</span></dt><dd>SALSA_BSOA_feedback</dd><dt><span>from_time :</span></dt><dd>2012-01-01</dd><dt><span>to_time :</span></dt><dd>2012-02-01</dd><dt><span>startyear :</span></dt><dd>2012</dd><dt><span>endyear :</span></dt><dd>2012</dd></dl></div><div class='xr-var-data'><pre>array([276.49435, 276.49435, 274.81888, ..., 275.92084, 277.09882,\n",
       "       277.09882], dtype=float32)</pre></div></li><li class='xr-var-item'><div class='xr-var-name'><span>up_lw_noa</span></div><div class='xr-var-dims'>(time)</div><div class='xr-var-dtype'>float32</div><div class='xr-var-preview xr-preview'>222.8 222.8 233.5 ... 271.4 271.4</div><input id='attrs-ee42802f-ceff-41d1-a13c-bd1f7d0f69b8' class='xr-var-attrs-in' type='checkbox' ><label for='attrs-ee42802f-ceff-41d1-a13c-bd1f7d0f69b8' title='Show/Hide attributes'><svg class='icon xr-icon-file-text2'><use xlink:href='#icon-file-text2'></use></svg></label><input id='data-1f308699-ca85-45fd-b53a-b9e3213bbb47' class='xr-var-data-in' type='checkbox'><label for='data-1f308699-ca85-45fd-b53a-b9e3213bbb47' title='Show/Hide data repr'><svg class='icon xr-icon-database'><use xlink:href='#icon-database'></use></svg></label><div class='xr-var-attrs'><dl class='xr-attrs'><dt><span>long_name :</span></dt><dd>toa_upward_longwave_flux_no_aerosol</dd><dt><span>units :</span></dt><dd>W m-2</dd><dt><span>description :</span></dt><dd>TOA upward longwave flux no aerosols</dd><dt><span>pressure_coords :</span></dt><dd>False</dd><dt><span>raw_data_path :</span></dt><dd>/proj/bolinc/users/x_sarbl/other_data/BS-FDBCK/ECHAM-SALSA</dd><dt><span>model :</span></dt><dd>ECHAM-SALSA</dd><dt><span>model_name :</span></dt><dd>ECHAM-SALSA</dd><dt><span>case_name :</span></dt><dd>SALSA_BSOA_feedback</dd><dt><span>case :</span></dt><dd>SALSA_BSOA_feedback</dd><dt><span>case_name_nice :</span></dt><dd>SALSA_BSOA_feedback</dd><dt><span>from_time :</span></dt><dd>2012-01-01</dd><dt><span>to_time :</span></dt><dd>2012-02-01</dd><dt><span>startyear :</span></dt><dd>2012</dd><dt><span>endyear :</span></dt><dd>2012</dd></dl></div><div class='xr-var-data'><pre>array([222.75977, 222.75977, 233.4858 , ..., 262.42523, 271.3714 ,\n",
       "       271.3714 ], dtype=float32)</pre></div></li><li class='xr-var-item'><div class='xr-var-name'><span>up_sw</span></div><div class='xr-var-dims'>(time)</div><div class='xr-var-dtype'>float32</div><div class='xr-var-preview xr-preview'>65.74 65.74 63.56 ... 43.71 43.71</div><input id='attrs-6c04b130-9056-4160-aa6b-f02813203ce6' class='xr-var-attrs-in' type='checkbox' ><label for='attrs-6c04b130-9056-4160-aa6b-f02813203ce6' title='Show/Hide attributes'><svg class='icon xr-icon-file-text2'><use xlink:href='#icon-file-text2'></use></svg></label><input id='data-d356e874-9533-47a5-bd6a-f25b73ff1491' class='xr-var-data-in' type='checkbox'><label for='data-d356e874-9533-47a5-bd6a-f25b73ff1491' title='Show/Hide data repr'><svg class='icon xr-icon-database'><use xlink:href='#icon-database'></use></svg></label><div class='xr-var-attrs'><dl class='xr-attrs'><dt><span>long_name :</span></dt><dd>toa_upward_shortwave_flux</dd><dt><span>units :</span></dt><dd>W m-2</dd><dt><span>description :</span></dt><dd>TOA upward shortwave flux</dd><dt><span>pressure_coords :</span></dt><dd>False</dd><dt><span>raw_data_path :</span></dt><dd>/proj/bolinc/users/x_sarbl/other_data/BS-FDBCK/ECHAM-SALSA</dd><dt><span>model :</span></dt><dd>ECHAM-SALSA</dd><dt><span>model_name :</span></dt><dd>ECHAM-SALSA</dd><dt><span>case_name :</span></dt><dd>SALSA_BSOA_feedback</dd><dt><span>case :</span></dt><dd>SALSA_BSOA_feedback</dd><dt><span>case_name_nice :</span></dt><dd>SALSA_BSOA_feedback</dd><dt><span>from_time :</span></dt><dd>2012-01-01</dd><dt><span>to_time :</span></dt><dd>2012-02-01</dd><dt><span>startyear :</span></dt><dd>2012</dd><dt><span>endyear :</span></dt><dd>2012</dd></dl></div><div class='xr-var-data'><pre>array([65.74343 , 65.74343 , 63.556824, ..., 94.67065 , 43.71103 ,\n",
       "       43.71103 ], dtype=float32)</pre></div></li><li class='xr-var-item'><div class='xr-var-name'><span>up_sw_cs</span></div><div class='xr-var-dims'>(time)</div><div class='xr-var-dtype'>float32</div><div class='xr-var-preview xr-preview'>35.55 35.55 35.56 ... 39.69 39.69</div><input id='attrs-83bc1255-ca5d-4976-b064-7f5091bfa3b2' class='xr-var-attrs-in' type='checkbox' ><label for='attrs-83bc1255-ca5d-4976-b064-7f5091bfa3b2' title='Show/Hide attributes'><svg class='icon xr-icon-file-text2'><use xlink:href='#icon-file-text2'></use></svg></label><input id='data-8490f979-1a63-4472-b48f-aa7f9256badd' class='xr-var-data-in' type='checkbox'><label for='data-8490f979-1a63-4472-b48f-aa7f9256badd' title='Show/Hide data repr'><svg class='icon xr-icon-database'><use xlink:href='#icon-database'></use></svg></label><div class='xr-var-attrs'><dl class='xr-attrs'><dt><span>long_name :</span></dt><dd>toa_upward_shortwave_flux_clear_sky</dd><dt><span>units :</span></dt><dd>W m-2</dd><dt><span>description :</span></dt><dd>TOA upward shortwave flux clear sky</dd><dt><span>pressure_coords :</span></dt><dd>False</dd><dt><span>raw_data_path :</span></dt><dd>/proj/bolinc/users/x_sarbl/other_data/BS-FDBCK/ECHAM-SALSA</dd><dt><span>model :</span></dt><dd>ECHAM-SALSA</dd><dt><span>model_name :</span></dt><dd>ECHAM-SALSA</dd><dt><span>case_name :</span></dt><dd>SALSA_BSOA_feedback</dd><dt><span>case :</span></dt><dd>SALSA_BSOA_feedback</dd><dt><span>case_name_nice :</span></dt><dd>SALSA_BSOA_feedback</dd><dt><span>from_time :</span></dt><dd>2012-01-01</dd><dt><span>to_time :</span></dt><dd>2012-02-01</dd><dt><span>startyear :</span></dt><dd>2012</dd><dt><span>endyear :</span></dt><dd>2012</dd></dl></div><div class='xr-var-data'><pre>array([35.546856, 35.546856, 35.56346 , ..., 82.306526, 39.686165,\n",
       "       39.686165], dtype=float32)</pre></div></li><li class='xr-var-item'><div class='xr-var-name'><span>up_sw_cs_noa</span></div><div class='xr-var-dims'>(time)</div><div class='xr-var-dtype'>float32</div><div class='xr-var-preview xr-preview'>31.78 31.78 31.79 ... 32.18 32.18</div><input id='attrs-cf7b9596-180e-400d-810c-19c2ed8a9fe7' class='xr-var-attrs-in' type='checkbox' ><label for='attrs-cf7b9596-180e-400d-810c-19c2ed8a9fe7' title='Show/Hide attributes'><svg class='icon xr-icon-file-text2'><use xlink:href='#icon-file-text2'></use></svg></label><input id='data-b0e5b5df-9767-43a8-9ebc-7f41d5e94006' class='xr-var-data-in' type='checkbox'><label for='data-b0e5b5df-9767-43a8-9ebc-7f41d5e94006' title='Show/Hide data repr'><svg class='icon xr-icon-database'><use xlink:href='#icon-database'></use></svg></label><div class='xr-var-attrs'><dl class='xr-attrs'><dt><span>long_name :</span></dt><dd>toa_upward_shortwave_flux_clear_sky_no_aerosol</dd><dt><span>units :</span></dt><dd>W m-2</dd><dt><span>description :</span></dt><dd>TOA upward shortwave flux clear sky no aerosols</dd><dt><span>pressure_coords :</span></dt><dd>False</dd><dt><span>raw_data_path :</span></dt><dd>/proj/bolinc/users/x_sarbl/other_data/BS-FDBCK/ECHAM-SALSA</dd><dt><span>model :</span></dt><dd>ECHAM-SALSA</dd><dt><span>model_name :</span></dt><dd>ECHAM-SALSA</dd><dt><span>case_name :</span></dt><dd>SALSA_BSOA_feedback</dd><dt><span>case :</span></dt><dd>SALSA_BSOA_feedback</dd><dt><span>case_name_nice :</span></dt><dd>SALSA_BSOA_feedback</dd><dt><span>from_time :</span></dt><dd>2012-01-01</dd><dt><span>to_time :</span></dt><dd>2012-02-01</dd><dt><span>startyear :</span></dt><dd>2012</dd><dt><span>endyear :</span></dt><dd>2012</dd></dl></div><div class='xr-var-data'><pre>array([31.783167, 31.783167, 31.785719, ..., 67.68541 , 32.182816,\n",
       "       32.182816], dtype=float32)</pre></div></li><li class='xr-var-item'><div class='xr-var-name'><span>up_sw_noa</span></div><div class='xr-var-dims'>(time)</div><div class='xr-var-dtype'>float32</div><div class='xr-var-preview xr-preview'>66.43 66.43 64.31 ... 37.72 37.72</div><input id='attrs-219dbb26-3590-4fc8-a9a4-177bf8372c78' class='xr-var-attrs-in' type='checkbox' ><label for='attrs-219dbb26-3590-4fc8-a9a4-177bf8372c78' title='Show/Hide attributes'><svg class='icon xr-icon-file-text2'><use xlink:href='#icon-file-text2'></use></svg></label><input id='data-90178aab-4e44-4714-9b67-debfd05db758' class='xr-var-data-in' type='checkbox'><label for='data-90178aab-4e44-4714-9b67-debfd05db758' title='Show/Hide data repr'><svg class='icon xr-icon-database'><use xlink:href='#icon-database'></use></svg></label><div class='xr-var-attrs'><dl class='xr-attrs'><dt><span>long_name :</span></dt><dd>toa_upward_shortwave_flux_no_aerosol</dd><dt><span>units :</span></dt><dd>W m-2</dd><dt><span>description :</span></dt><dd>TOA upward shortwave flux no aerosols</dd><dt><span>pressure_coords :</span></dt><dd>False</dd><dt><span>raw_data_path :</span></dt><dd>/proj/bolinc/users/x_sarbl/other_data/BS-FDBCK/ECHAM-SALSA</dd><dt><span>model :</span></dt><dd>ECHAM-SALSA</dd><dt><span>model_name :</span></dt><dd>ECHAM-SALSA</dd><dt><span>case_name :</span></dt><dd>SALSA_BSOA_feedback</dd><dt><span>case :</span></dt><dd>SALSA_BSOA_feedback</dd><dt><span>case_name_nice :</span></dt><dd>SALSA_BSOA_feedback</dd><dt><span>from_time :</span></dt><dd>2012-01-01</dd><dt><span>to_time :</span></dt><dd>2012-02-01</dd><dt><span>startyear :</span></dt><dd>2012</dd><dt><span>endyear :</span></dt><dd>2012</dd></dl></div><div class='xr-var-data'><pre>array([66.43351 , 66.43351 , 64.309395, ..., 82.65378 , 37.720627,\n",
       "       37.720627], dtype=float32)</pre></div></li><li class='xr-var-item'><div class='xr-var-name'><span>uw</span></div><div class='xr-var-dims'>(time)</div><div class='xr-var-dtype'>float32</div><div class='xr-var-preview xr-preview'>-1.769 -1.428 ... -2.432 -2.34</div><input id='attrs-8d517580-f971-46f5-aa41-b829c5dbe5cb' class='xr-var-attrs-in' type='checkbox' ><label for='attrs-8d517580-f971-46f5-aa41-b829c5dbe5cb' title='Show/Hide attributes'><svg class='icon xr-icon-file-text2'><use xlink:href='#icon-file-text2'></use></svg></label><input id='data-fe88e5af-c800-4b4c-bfc6-654782db7d9d' class='xr-var-data-in' type='checkbox'><label for='data-fe88e5af-c800-4b4c-bfc6-654782db7d9d' title='Show/Hide data repr'><svg class='icon xr-icon-database'><use xlink:href='#icon-database'></use></svg></label><div class='xr-var-attrs'><dl class='xr-attrs'><dt><span>long_name :</span></dt><dd>eastward wind</dd><dt><span>units :</span></dt><dd>m s-1</dd><dt><span>description :</span></dt><dd>eastward wind</dd><dt><span>pressure_coords :</span></dt><dd>False</dd><dt><span>raw_data_path :</span></dt><dd>/proj/bolinc/users/x_sarbl/other_data/BS-FDBCK/ECHAM-SALSA</dd><dt><span>model :</span></dt><dd>ECHAM-SALSA</dd><dt><span>model_name :</span></dt><dd>ECHAM-SALSA</dd><dt><span>case_name :</span></dt><dd>SALSA_BSOA_feedback</dd><dt><span>case :</span></dt><dd>SALSA_BSOA_feedback</dd><dt><span>case_name_nice :</span></dt><dd>SALSA_BSOA_feedback</dd><dt><span>from_time :</span></dt><dd>2012-01-01</dd><dt><span>to_time :</span></dt><dd>2012-02-01</dd><dt><span>startyear :</span></dt><dd>2012</dd><dt><span>endyear :</span></dt><dd>2012</dd></dl></div><div class='xr-var-data'><pre>array([-1.7689458, -1.4277122, -1.2340808, ..., -2.6350112, -2.4315956,\n",
       "       -2.3404458], dtype=float32)</pre></div></li><li class='xr-var-item'><div class='xr-var-name'><span>vw</span></div><div class='xr-var-dims'>(time)</div><div class='xr-var-dtype'>float32</div><div class='xr-var-preview xr-preview'>-3.659 -3.438 ... -2.283 -1.649</div><input id='attrs-94d6cf5c-39e3-44c4-8c43-145f7acedc9a' class='xr-var-attrs-in' type='checkbox' ><label for='attrs-94d6cf5c-39e3-44c4-8c43-145f7acedc9a' title='Show/Hide attributes'><svg class='icon xr-icon-file-text2'><use xlink:href='#icon-file-text2'></use></svg></label><input id='data-0eb30d6c-6ab4-4226-875a-85178d5024dc' class='xr-var-data-in' type='checkbox'><label for='data-0eb30d6c-6ab4-4226-875a-85178d5024dc' title='Show/Hide data repr'><svg class='icon xr-icon-database'><use xlink:href='#icon-database'></use></svg></label><div class='xr-var-attrs'><dl class='xr-attrs'><dt><span>long_name :</span></dt><dd>northward wind</dd><dt><span>units :</span></dt><dd>m s-1</dd><dt><span>description :</span></dt><dd>northward wind</dd><dt><span>pressure_coords :</span></dt><dd>False</dd><dt><span>raw_data_path :</span></dt><dd>/proj/bolinc/users/x_sarbl/other_data/BS-FDBCK/ECHAM-SALSA</dd><dt><span>model :</span></dt><dd>ECHAM-SALSA</dd><dt><span>model_name :</span></dt><dd>ECHAM-SALSA</dd><dt><span>case_name :</span></dt><dd>SALSA_BSOA_feedback</dd><dt><span>case :</span></dt><dd>SALSA_BSOA_feedback</dd><dt><span>case_name_nice :</span></dt><dd>SALSA_BSOA_feedback</dd><dt><span>from_time :</span></dt><dd>2012-01-01</dd><dt><span>to_time :</span></dt><dd>2012-02-01</dd><dt><span>startyear :</span></dt><dd>2012</dd><dt><span>endyear :</span></dt><dd>2012</dd></dl></div><div class='xr-var-data'><pre>array([-3.6588511, -3.4384   , -3.2335284, ..., -2.6559346, -2.283195 ,\n",
       "       -1.6491673], dtype=float32)</pre></div></li></ul></div></li><li class='xr-section-item'><input id='section-7d64dd33-2624-4d2d-a84f-820aabb9d020' class='xr-section-summary-in' type='checkbox' disabled ><label for='section-7d64dd33-2624-4d2d-a84f-820aabb9d020' class='xr-section-summary'  title='Expand/collapse section'>Attributes: <span>(0)</span></label><div class='xr-section-inline-details'></div><div class='xr-section-details'><dl class='xr-attrs'></dl></div></li></ul></div></div>"
      ],
      "text/plain": [
       "<xarray.Dataset>\n",
       "Dimensions:        (time: 61368)\n",
       "Coordinates:\n",
       "  * time           (time) datetime64[ns] 2012-01-01T00:52:30 ... 2018-12-31T2...\n",
       "    lev            float64 46.0\n",
       "    station        <U4 'ATTO'\n",
       "Data variables: (12/50)\n",
       "    lon            (time) float64 -59.0 -59.0 -59.0 -59.0 ... -59.0 -59.0 -59.0\n",
       "    APIN_gas       (time) float32 2.822e-10 3.357e-10 ... 1.219e-10 1.532e-10\n",
       "    BPIN_gas       (time) float32 2.328e-10 2.887e-10 ... 9.057e-11 1.182e-10\n",
       "    CARENE3_gas    (time) float32 4.756e-11 5.905e-11 ... 1.897e-11 2.482e-11\n",
       "    ISOP_gas       (time) float32 7.543e-09 7.935e-09 ... 3.538e-09 4.103e-09\n",
       "    LIMON_gas      (time) float32 9.003e-11 1.118e-10 ... 3.578e-11 4.679e-11\n",
       "    ...             ...\n",
       "    up_sw          (time) float32 65.74 65.74 63.56 63.56 ... 94.67 43.71 43.71\n",
       "    up_sw_cs       (time) float32 35.55 35.55 35.56 35.56 ... 82.31 39.69 39.69\n",
       "    up_sw_cs_noa   (time) float32 31.78 31.78 31.79 31.79 ... 67.69 32.18 32.18\n",
       "    up_sw_noa      (time) float32 66.43 66.43 64.31 64.31 ... 82.65 37.72 37.72\n",
       "    uw             (time) float32 -1.769 -1.428 -1.234 ... -2.635 -2.432 -2.34\n",
       "    vw             (time) float32 -3.659 -3.438 -3.234 ... -2.656 -2.283 -1.649"
      ]
     },
     "execution_count": 46,
     "metadata": {},
     "output_type": "execute_result"
    }
   ],
   "source": [
    "dic_mod_ca['ECHAM-SALSA'][case_name_echam]"
   ]
  },
  {
   "cell_type": "code",
   "execution_count": 47,
   "id": "5974aee8-9e60-4c9f-9fb5-209c2ddf93d0",
   "metadata": {},
   "outputs": [],
   "source": [
    "standard_air_density = 100*pressure/(R*temperature)"
   ]
  },
  {
   "cell_type": "code",
   "execution_count": 48,
   "id": "89bcd12f-edec-404a-8250-6a2cbd25a516",
   "metadata": {},
   "outputs": [],
   "source": [
    "ds_echam = dic_mod_ca['ECHAM-SALSA'][case_name_echam]\n",
    "air_dens = ds_echam['apm']/(R*ds_echam['tempair'])"
   ]
  },
  {
   "cell_type": "code",
   "execution_count": 49,
   "id": "922f4345-c3fe-4d40-918f-527efbf7f03e",
   "metadata": {},
   "outputs": [
    {
     "data": {
      "image/png": "[encoded data removed]",
      "text/plain": [
       "<Figure size 432x288 with 1 Axes>"
      ]
     },
     "metadata": {
      "needs_background": "light"
     },
     "output_type": "display_data"
    }
   ],
   "source": [
    "ds_echam['apm'].plot.hist(bins=100);"
   ]
  },
  {
   "cell_type": "code",
   "execution_count": 50,
   "id": "9ce6a825-2523-4b0a-9ced-0d8997f7afc6",
   "metadata": {},
   "outputs": [
    {
     "name": "stdout",
     "output_type": "stream",
     "text": [
      "N3\n",
      "N50\n",
      "N100\n",
      "N200\n",
      "N250\n",
      "N500\n",
      "ORG_mass_conc\n",
      "VBS1_gas_conc\n",
      "VBS0_gas_conc\n",
      "VBS10_gas_conc\n",
      "cwp\n"
     ]
    },
    {
     "data": {
      "text/html": [
       "<div>\n",
       "<style scoped>\n",
       "    .dataframe tbody tr th:only-of-type {\n",
       "        vertical-align: middle;\n",
       "    }\n",
       "\n",
       "    .dataframe tbody tr th {\n",
       "        vertical-align: top;\n",
       "    }\n",
       "\n",
       "    .dataframe thead th {\n",
       "        text-align: right;\n",
       "    }\n",
       "</style>\n",
       "<table border=\"1\" class=\"dataframe\">\n",
       "  <thead>\n",
       "    <tr style=\"text-align: right;\">\n",
       "      <th></th>\n",
       "      <th>lon</th>\n",
       "      <th>lev</th>\n",
       "      <th>station</th>\n",
       "      <th>APIN_gas</th>\n",
       "      <th>BPIN_gas</th>\n",
       "      <th>CARENE3_gas</th>\n",
       "      <th>ISOP_gas</th>\n",
       "      <th>LIMON_gas</th>\n",
       "      <th>MYRC_gas</th>\n",
       "      <th>ORG_mass</th>\n",
       "      <th>...</th>\n",
       "      <th>VBS0_gas_conc</th>\n",
       "      <th>VBS10_gas_conc</th>\n",
       "      <th>OAG</th>\n",
       "      <th>cwp</th>\n",
       "      <th>ceff_um</th>\n",
       "      <th>lcdnc_cm3</th>\n",
       "      <th>T_C</th>\n",
       "      <th>is_JJA</th>\n",
       "      <th>is_JA</th>\n",
       "      <th>isSummer</th>\n",
       "    </tr>\n",
       "    <tr>\n",
       "      <th>time</th>\n",
       "      <th></th>\n",
       "      <th></th>\n",
       "      <th></th>\n",
       "      <th></th>\n",
       "      <th></th>\n",
       "      <th></th>\n",
       "      <th></th>\n",
       "      <th></th>\n",
       "      <th></th>\n",
       "      <th></th>\n",
       "      <th></th>\n",
       "      <th></th>\n",
       "      <th></th>\n",
       "      <th></th>\n",
       "      <th></th>\n",
       "      <th></th>\n",
       "      <th></th>\n",
       "      <th></th>\n",
       "      <th></th>\n",
       "      <th></th>\n",
       "      <th></th>\n",
       "    </tr>\n",
       "  </thead>\n",
       "  <tbody>\n",
       "    <tr>\n",
       "      <th>2012-01-01 00:00:00</th>\n",
       "      <td>-59.0002</td>\n",
       "      <td>46.0</td>\n",
       "      <td>ATTO</td>\n",
       "      <td>2.821519e-10</td>\n",
       "      <td>2.327658e-10</td>\n",
       "      <td>4.756145e-11</td>\n",
       "      <td>7.542697e-09</td>\n",
       "      <td>9.003484e-11</td>\n",
       "      <td>2.065036e-11</td>\n",
       "      <td>1.110949e-09</td>\n",
       "      <td>...</td>\n",
       "      <td>7.210706e-05</td>\n",
       "      <td>0.214239</td>\n",
       "      <td>1.517814</td>\n",
       "      <td>2.705714e+01</td>\n",
       "      <td>0.0</td>\n",
       "      <td>1.743982e-35</td>\n",
       "      <td>26.015625</td>\n",
       "      <td>False</td>\n",
       "      <td>False</td>\n",
       "      <td>False</td>\n",
       "    </tr>\n",
       "    <tr>\n",
       "      <th>2012-01-01 01:00:00</th>\n",
       "      <td>-59.0002</td>\n",
       "      <td>46.0</td>\n",
       "      <td>ATTO</td>\n",
       "      <td>3.356697e-10</td>\n",
       "      <td>2.886502e-10</td>\n",
       "      <td>5.905082e-11</td>\n",
       "      <td>7.934987e-09</td>\n",
       "      <td>1.117611e-10</td>\n",
       "      <td>2.457095e-11</td>\n",
       "      <td>1.150816e-09</td>\n",
       "      <td>...</td>\n",
       "      <td>1.199499e-05</td>\n",
       "      <td>0.215531</td>\n",
       "      <td>1.565143</td>\n",
       "      <td>3.512339e+01</td>\n",
       "      <td>0.0</td>\n",
       "      <td>6.643672e-35</td>\n",
       "      <td>25.879364</td>\n",
       "      <td>False</td>\n",
       "      <td>False</td>\n",
       "      <td>False</td>\n",
       "    </tr>\n",
       "    <tr>\n",
       "      <th>2012-01-01 02:00:00</th>\n",
       "      <td>-59.0002</td>\n",
       "      <td>46.0</td>\n",
       "      <td>ATTO</td>\n",
       "      <td>3.897681e-10</td>\n",
       "      <td>3.476375e-10</td>\n",
       "      <td>7.112257e-11</td>\n",
       "      <td>8.214004e-09</td>\n",
       "      <td>1.346019e-10</td>\n",
       "      <td>2.852998e-11</td>\n",
       "      <td>1.191303e-09</td>\n",
       "      <td>...</td>\n",
       "      <td>1.847369e-06</td>\n",
       "      <td>0.215602</td>\n",
       "      <td>1.611699</td>\n",
       "      <td>5.490721e+01</td>\n",
       "      <td>0.0</td>\n",
       "      <td>1.446207e-35</td>\n",
       "      <td>25.777008</td>\n",
       "      <td>False</td>\n",
       "      <td>False</td>\n",
       "      <td>False</td>\n",
       "    </tr>\n",
       "    <tr>\n",
       "      <th>2012-01-01 03:00:00</th>\n",
       "      <td>-59.0002</td>\n",
       "      <td>46.0</td>\n",
       "      <td>ATTO</td>\n",
       "      <td>4.394250e-10</td>\n",
       "      <td>4.041688e-10</td>\n",
       "      <td>8.258064e-11</td>\n",
       "      <td>8.321313e-09</td>\n",
       "      <td>1.562942e-10</td>\n",
       "      <td>3.215490e-11</td>\n",
       "      <td>1.240818e-09</td>\n",
       "      <td>...</td>\n",
       "      <td>3.476910e-07</td>\n",
       "      <td>0.209877</td>\n",
       "      <td>1.661339</td>\n",
       "      <td>7.217193e+01</td>\n",
       "      <td>0.0</td>\n",
       "      <td>-3.884656e-35</td>\n",
       "      <td>25.605713</td>\n",
       "      <td>False</td>\n",
       "      <td>False</td>\n",
       "      <td>False</td>\n",
       "    </tr>\n",
       "    <tr>\n",
       "      <th>2012-01-01 04:00:00</th>\n",
       "      <td>-59.0002</td>\n",
       "      <td>46.0</td>\n",
       "      <td>ATTO</td>\n",
       "      <td>4.848434e-10</td>\n",
       "      <td>4.577898e-10</td>\n",
       "      <td>9.330557e-11</td>\n",
       "      <td>8.297556e-09</td>\n",
       "      <td>1.766200e-10</td>\n",
       "      <td>3.546157e-11</td>\n",
       "      <td>1.302471e-09</td>\n",
       "      <td>...</td>\n",
       "      <td>1.534583e-07</td>\n",
       "      <td>0.198172</td>\n",
       "      <td>1.717620</td>\n",
       "      <td>8.473399e+01</td>\n",
       "      <td>0.0</td>\n",
       "      <td>1.332036e-34</td>\n",
       "      <td>25.360443</td>\n",
       "      <td>False</td>\n",
       "      <td>False</td>\n",
       "      <td>False</td>\n",
       "    </tr>\n",
       "    <tr>\n",
       "      <th>...</th>\n",
       "      <td>...</td>\n",
       "      <td>...</td>\n",
       "      <td>...</td>\n",
       "      <td>...</td>\n",
       "      <td>...</td>\n",
       "      <td>...</td>\n",
       "      <td>...</td>\n",
       "      <td>...</td>\n",
       "      <td>...</td>\n",
       "      <td>...</td>\n",
       "      <td>...</td>\n",
       "      <td>...</td>\n",
       "      <td>...</td>\n",
       "      <td>...</td>\n",
       "      <td>...</td>\n",
       "      <td>...</td>\n",
       "      <td>...</td>\n",
       "      <td>...</td>\n",
       "      <td>...</td>\n",
       "      <td>...</td>\n",
       "      <td>...</td>\n",
       "    </tr>\n",
       "    <tr>\n",
       "      <th>2018-12-31 19:00:00</th>\n",
       "      <td>-59.0002</td>\n",
       "      <td>46.0</td>\n",
       "      <td>ATTO</td>\n",
       "      <td>7.663597e-11</td>\n",
       "      <td>5.648732e-11</td>\n",
       "      <td>1.175568e-11</td>\n",
       "      <td>2.384134e-09</td>\n",
       "      <td>2.221482e-11</td>\n",
       "      <td>5.651988e-12</td>\n",
       "      <td>1.832809e-09</td>\n",
       "      <td>...</td>\n",
       "      <td>3.322024e-03</td>\n",
       "      <td>0.093091</td>\n",
       "      <td>2.194537</td>\n",
       "      <td>8.685692e+00</td>\n",
       "      <td>0.0</td>\n",
       "      <td>3.859611e-35</td>\n",
       "      <td>27.451538</td>\n",
       "      <td>False</td>\n",
       "      <td>False</td>\n",
       "      <td>False</td>\n",
       "    </tr>\n",
       "    <tr>\n",
       "      <th>2018-12-31 20:00:00</th>\n",
       "      <td>-59.0002</td>\n",
       "      <td>46.0</td>\n",
       "      <td>ATTO</td>\n",
       "      <td>8.428263e-11</td>\n",
       "      <td>5.996868e-11</td>\n",
       "      <td>1.248659e-11</td>\n",
       "      <td>2.697680e-09</td>\n",
       "      <td>2.359097e-11</td>\n",
       "      <td>6.212560e-12</td>\n",
       "      <td>1.892321e-09</td>\n",
       "      <td>...</td>\n",
       "      <td>3.607584e-03</td>\n",
       "      <td>0.111313</td>\n",
       "      <td>2.284577</td>\n",
       "      <td>8.683560e-08</td>\n",
       "      <td>0.0</td>\n",
       "      <td>2.613744e-36</td>\n",
       "      <td>27.310242</td>\n",
       "      <td>False</td>\n",
       "      <td>False</td>\n",
       "      <td>False</td>\n",
       "    </tr>\n",
       "    <tr>\n",
       "      <th>2018-12-31 21:00:00</th>\n",
       "      <td>-59.0002</td>\n",
       "      <td>46.0</td>\n",
       "      <td>ATTO</td>\n",
       "      <td>9.434498e-11</td>\n",
       "      <td>6.780787e-11</td>\n",
       "      <td>1.415564e-11</td>\n",
       "      <td>3.011463e-09</td>\n",
       "      <td>2.672253e-11</td>\n",
       "      <td>6.948835e-12</td>\n",
       "      <td>1.999768e-09</td>\n",
       "      <td>...</td>\n",
       "      <td>3.683541e-03</td>\n",
       "      <td>0.137671</td>\n",
       "      <td>2.437590</td>\n",
       "      <td>7.346821e-16</td>\n",
       "      <td>0.0</td>\n",
       "      <td>1.584338e-34</td>\n",
       "      <td>27.134705</td>\n",
       "      <td>False</td>\n",
       "      <td>False</td>\n",
       "      <td>False</td>\n",
       "    </tr>\n",
       "    <tr>\n",
       "      <th>2018-12-31 22:00:00</th>\n",
       "      <td>-59.0002</td>\n",
       "      <td>46.0</td>\n",
       "      <td>ATTO</td>\n",
       "      <td>1.218894e-10</td>\n",
       "      <td>9.057412e-11</td>\n",
       "      <td>1.896592e-11</td>\n",
       "      <td>3.538496e-09</td>\n",
       "      <td>3.577666e-11</td>\n",
       "      <td>8.974293e-12</td>\n",
       "      <td>2.015055e-09</td>\n",
       "      <td>...</td>\n",
       "      <td>6.551289e-04</td>\n",
       "      <td>0.150928</td>\n",
       "      <td>2.465578</td>\n",
       "      <td>1.839223e-01</td>\n",
       "      <td>0.0</td>\n",
       "      <td>3.373490e-35</td>\n",
       "      <td>26.983246</td>\n",
       "      <td>False</td>\n",
       "      <td>False</td>\n",
       "      <td>False</td>\n",
       "    </tr>\n",
       "    <tr>\n",
       "      <th>2018-12-31 23:00:00</th>\n",
       "      <td>-59.0002</td>\n",
       "      <td>46.0</td>\n",
       "      <td>ATTO</td>\n",
       "      <td>1.532323e-10</td>\n",
       "      <td>1.181902e-10</td>\n",
       "      <td>2.481891e-11</td>\n",
       "      <td>4.102668e-09</td>\n",
       "      <td>4.678591e-11</td>\n",
       "      <td>1.128037e-11</td>\n",
       "      <td>1.975199e-09</td>\n",
       "      <td>...</td>\n",
       "      <td>8.743069e-05</td>\n",
       "      <td>0.163335</td>\n",
       "      <td>2.433673</td>\n",
       "      <td>1.605440e+01</td>\n",
       "      <td>0.0</td>\n",
       "      <td>8.177585e-35</td>\n",
       "      <td>26.858673</td>\n",
       "      <td>False</td>\n",
       "      <td>False</td>\n",
       "      <td>False</td>\n",
       "    </tr>\n",
       "  </tbody>\n",
       "</table>\n",
       "<p>61368 rows × 70 columns</p>\n",
       "</div>"
      ],
      "text/plain": [
       "                         lon   lev station      APIN_gas      BPIN_gas  \\\n",
       "time                                                                     \n",
       "2012-01-01 00:00:00 -59.0002  46.0    ATTO  2.821519e-10  2.327658e-10   \n",
       "2012-01-01 01:00:00 -59.0002  46.0    ATTO  3.356697e-10  2.886502e-10   \n",
       "2012-01-01 02:00:00 -59.0002  46.0    ATTO  3.897681e-10  3.476375e-10   \n",
       "2012-01-01 03:00:00 -59.0002  46.0    ATTO  4.394250e-10  4.041688e-10   \n",
       "2012-01-01 04:00:00 -59.0002  46.0    ATTO  4.848434e-10  4.577898e-10   \n",
       "...                      ...   ...     ...           ...           ...   \n",
       "2018-12-31 19:00:00 -59.0002  46.0    ATTO  7.663597e-11  5.648732e-11   \n",
       "2018-12-31 20:00:00 -59.0002  46.0    ATTO  8.428263e-11  5.996868e-11   \n",
       "2018-12-31 21:00:00 -59.0002  46.0    ATTO  9.434498e-11  6.780787e-11   \n",
       "2018-12-31 22:00:00 -59.0002  46.0    ATTO  1.218894e-10  9.057412e-11   \n",
       "2018-12-31 23:00:00 -59.0002  46.0    ATTO  1.532323e-10  1.181902e-10   \n",
       "\n",
       "                      CARENE3_gas      ISOP_gas     LIMON_gas      MYRC_gas  \\\n",
       "time                                                                          \n",
       "2012-01-01 00:00:00  4.756145e-11  7.542697e-09  9.003484e-11  2.065036e-11   \n",
       "2012-01-01 01:00:00  5.905082e-11  7.934987e-09  1.117611e-10  2.457095e-11   \n",
       "2012-01-01 02:00:00  7.112257e-11  8.214004e-09  1.346019e-10  2.852998e-11   \n",
       "2012-01-01 03:00:00  8.258064e-11  8.321313e-09  1.562942e-10  3.215490e-11   \n",
       "2012-01-01 04:00:00  9.330557e-11  8.297556e-09  1.766200e-10  3.546157e-11   \n",
       "...                           ...           ...           ...           ...   \n",
       "2018-12-31 19:00:00  1.175568e-11  2.384134e-09  2.221482e-11  5.651988e-12   \n",
       "2018-12-31 20:00:00  1.248659e-11  2.697680e-09  2.359097e-11  6.212560e-12   \n",
       "2018-12-31 21:00:00  1.415564e-11  3.011463e-09  2.672253e-11  6.948835e-12   \n",
       "2018-12-31 22:00:00  1.896592e-11  3.538496e-09  3.577666e-11  8.974293e-12   \n",
       "2018-12-31 23:00:00  2.481891e-11  4.102668e-09  4.678591e-11  1.128037e-11   \n",
       "\n",
       "                         ORG_mass  ...  VBS0_gas_conc  VBS10_gas_conc  \\\n",
       "time                               ...                                  \n",
       "2012-01-01 00:00:00  1.110949e-09  ...   7.210706e-05        0.214239   \n",
       "2012-01-01 01:00:00  1.150816e-09  ...   1.199499e-05        0.215531   \n",
       "2012-01-01 02:00:00  1.191303e-09  ...   1.847369e-06        0.215602   \n",
       "2012-01-01 03:00:00  1.240818e-09  ...   3.476910e-07        0.209877   \n",
       "2012-01-01 04:00:00  1.302471e-09  ...   1.534583e-07        0.198172   \n",
       "...                           ...  ...            ...             ...   \n",
       "2018-12-31 19:00:00  1.832809e-09  ...   3.322024e-03        0.093091   \n",
       "2018-12-31 20:00:00  1.892321e-09  ...   3.607584e-03        0.111313   \n",
       "2018-12-31 21:00:00  1.999768e-09  ...   3.683541e-03        0.137671   \n",
       "2018-12-31 22:00:00  2.015055e-09  ...   6.551289e-04        0.150928   \n",
       "2018-12-31 23:00:00  1.975199e-09  ...   8.743069e-05        0.163335   \n",
       "\n",
       "                          OAG           cwp  ceff_um     lcdnc_cm3        T_C  \\\n",
       "time                                                                            \n",
       "2012-01-01 00:00:00  1.517814  2.705714e+01      0.0  1.743982e-35  26.015625   \n",
       "2012-01-01 01:00:00  1.565143  3.512339e+01      0.0  6.643672e-35  25.879364   \n",
       "2012-01-01 02:00:00  1.611699  5.490721e+01      0.0  1.446207e-35  25.777008   \n",
       "2012-01-01 03:00:00  1.661339  7.217193e+01      0.0 -3.884656e-35  25.605713   \n",
       "2012-01-01 04:00:00  1.717620  8.473399e+01      0.0  1.332036e-34  25.360443   \n",
       "...                       ...           ...      ...           ...        ...   \n",
       "2018-12-31 19:00:00  2.194537  8.685692e+00      0.0  3.859611e-35  27.451538   \n",
       "2018-12-31 20:00:00  2.284577  8.683560e-08      0.0  2.613744e-36  27.310242   \n",
       "2018-12-31 21:00:00  2.437590  7.346821e-16      0.0  1.584338e-34  27.134705   \n",
       "2018-12-31 22:00:00  2.465578  1.839223e-01      0.0  3.373490e-35  26.983246   \n",
       "2018-12-31 23:00:00  2.433673  1.605440e+01      0.0  8.177585e-35  26.858673   \n",
       "\n",
       "                     is_JJA  is_JA  isSummer  \n",
       "time                                          \n",
       "2012-01-01 00:00:00   False  False     False  \n",
       "2012-01-01 01:00:00   False  False     False  \n",
       "2012-01-01 02:00:00   False  False     False  \n",
       "2012-01-01 03:00:00   False  False     False  \n",
       "2012-01-01 04:00:00   False  False     False  \n",
       "...                     ...    ...       ...  \n",
       "2018-12-31 19:00:00   False  False     False  \n",
       "2018-12-31 20:00:00   False  False     False  \n",
       "2018-12-31 21:00:00   False  False     False  \n",
       "2018-12-31 22:00:00   False  False     False  \n",
       "2018-12-31 23:00:00   False  False     False  \n",
       "\n",
       "[61368 rows x 70 columns]"
      ]
     },
     "execution_count": 50,
     "metadata": {},
     "output_type": "execute_result"
    }
   ],
   "source": [
    "\n",
    "df, df_sm = ds2df_echam(dic_mod_ca['ECHAM-SALSA'][case_name_echam], \n",
    "                        take_daily_median=False, \n",
    "                        air_density=air_dens,\n",
    "                        model_lev_i =model_lev_i)\n",
    "df.index = df.reset_index()['time'].apply(fix_echam_time)\n",
    "df"
   ]
  },
  {
   "cell_type": "code",
   "execution_count": 51,
   "id": "d7d6f585-1cba-488c-9d31-8e93fa2b0815",
   "metadata": {},
   "outputs": [
    {
     "data": {
      "text/plain": [
       "<AxesSubplot:xlabel='time'>"
      ]
     },
     "execution_count": 51,
     "metadata": {},
     "output_type": "execute_result"
    },
    {
     "data": {
      "image/png": "[encoded data removed]",
      "text/plain": [
       "<Figure size 432x288 with 1 Axes>"
      ]
     },
     "metadata": {
      "needs_background": "light"
     },
     "output_type": "display_data"
    }
   ],
   "source": [
    "df['N100'].plot()"
   ]
  },
  {
   "cell_type": "code",
   "execution_count": 52,
   "id": "8dbcc6f8-5299-4e92-9ba9-6b5f78021a62",
   "metadata": {},
   "outputs": [
    {
     "data": {
      "text/plain": [
       "<AxesSubplot:xlabel='time'>"
      ]
     },
     "execution_count": 52,
     "metadata": {},
     "output_type": "execute_result"
    },
    {
     "data": {
      "image/png": "[encoded data removed]",
      "text/plain": [
       "<Figure size 432x288 with 1 Axes>"
      ]
     },
     "metadata": {
      "needs_background": "light"
     },
     "output_type": "display_data"
    }
   ],
   "source": [
    "df['N50'].plot()"
   ]
  },
  {
   "cell_type": "code",
   "execution_count": 53,
   "id": "2a5f10ba-e462-4c45-ab4e-686243230799",
   "metadata": {},
   "outputs": [],
   "source": [
    "\n",
    "\n",
    "_di = {case_name_echam:df}\n",
    "_dism = {case_name_echam:df_sm}\n",
    "\n",
    "dic_df_mod_case['ECHAM-SALSA']= _di.copy()\n",
    "dic_dfsm_mod_case['ECHAM-SALSA'] = _dism.copy()"
   ]
  },
  {
   "cell_type": "code",
   "execution_count": null,
   "id": "2c903957-6dbe-48c3-a255-4200d54eb458",
   "metadata": {},
   "outputs": [],
   "source": []
  },
  {
   "cell_type": "markdown",
   "id": "a2ec6113-aa99-4ca8-b62a-3d83ec72724b",
   "metadata": {
    "tags": []
   },
   "source": [
    "### NorESM"
   ]
  },
  {
   "cell_type": "code",
   "execution_count": 54,
   "id": "d1ebcee3-3706-45b3-9fd3-6248a8a828cd",
   "metadata": {},
   "outputs": [],
   "source": [
    "ds_noresm = dic_mod_ca['NorESM']['OsloAero_intBVOC_f09_f09_mg17_fssp']"
   ]
  },
  {
   "cell_type": "code",
   "execution_count": 55,
   "id": "ca73d7f1-cb7b-47a8-920f-14012e795f87",
   "metadata": {},
   "outputs": [
    {
     "data": {
      "image/png": "[encoded data removed]",
      "text/plain": [
       "<Figure size 432x288 with 1 Axes>"
      ]
     },
     "metadata": {
      "needs_background": "light"
     },
     "output_type": "display_data"
    }
   ],
   "source": [
    "ds['PS'].sel(station=select_station).plot.hist(bins=100);"
   ]
  },
  {
   "cell_type": "code",
   "execution_count": 56,
   "id": "5593589d-bffc-4be9-967d-7a7bfe20bdf7",
   "metadata": {},
   "outputs": [
    {
     "data": {
      "image/png": "[encoded data removed]",
      "text/plain": [
       "<Figure size 432x288 with 1 Axes>"
      ]
     },
     "metadata": {
      "needs_background": "light"
     },
     "output_type": "display_data"
    }
   ],
   "source": [
    "ds_noresm['SOA_A1'].plot.hist(bins=100);"
   ]
  },
  {
   "cell_type": "code",
   "execution_count": 57,
   "id": "69c0f924-6486-44c2-af3b-937748bd9ed6",
   "metadata": {},
   "outputs": [],
   "source": [
    "air_dens = ds_noresm['PS']/(R*ds_noresm['T'])"
   ]
  },
  {
   "cell_type": "code",
   "execution_count": null,
   "id": "e096dd7a-5134-4370-a9eb-18ae00d42723",
   "metadata": {},
   "outputs": [],
   "source": []
  },
  {
   "cell_type": "code",
   "execution_count": 58,
   "id": "9747b6e0-b0ba-4e79-8f42-8c53477e03af",
   "metadata": {},
   "outputs": [
    {
     "name": "stdout",
     "output_type": "stream",
     "text": [
      "hey\n",
      "SO4_A1\n",
      "SO4_A2\n",
      "SO4_AC\n",
      "SO4_NA\n",
      "SO4_PR\n"
     ]
    }
   ],
   "source": [
    "dic_df = ds2df_inc_preprocessing(dic_mod_ca['NorESM'], \n",
    "                                            model_lev_i=model_lev_i, \n",
    "                                            air_density=air_dens,\n",
    "                                            select_hours_clouds=False,\n",
    "                                            mask_cloud_values = False,\n",
    "#                   from_hour=8,\n",
    "#                   to_hour=14,\n",
    "#                   varl_cl=None,\n",
    "#                   varl_st = None,\n",
    "          mask_summer = False,\n",
    "                                            return_summer_median=False, \n",
    "                                            take_daily_median=False\n",
    "                                )\n",
    "\n",
    "\n",
    "dic_df_mod_case['NorESM'] = dic_df.copy()\n"
   ]
  },
  {
   "cell_type": "code",
   "execution_count": 59,
   "id": "eb2d7769-edf5-4fe5-a472-80718671bf42",
   "metadata": {},
   "outputs": [
    {
     "data": {
      "text/plain": [
       "[<matplotlib.lines.Line2D at 0x7fe01a70feb0>]"
      ]
     },
     "execution_count": 59,
     "metadata": {},
     "output_type": "execute_result"
    },
    {
     "data": {
      "image/png": "[encoded data removed]",
      "text/plain": [
       "<Figure size 432x288 with 1 Axes>"
      ]
     },
     "metadata": {
      "needs_background": "light"
     },
     "output_type": "display_data"
    }
   ],
   "source": [
    "dic_mod_ca['NorESM']['OsloAero_intBVOC_f09_f09_mg17_fssp']['OA'].plot()"
   ]
  },
  {
   "cell_type": "code",
   "execution_count": 60,
   "id": "1c3dfb38-fd20-4127-88a8-62791a3d1ead",
   "metadata": {},
   "outputs": [
    {
     "data": {
      "text/plain": [
       "<AxesSubplot:xlabel='time'>"
      ]
     },
     "execution_count": 60,
     "metadata": {},
     "output_type": "execute_result"
    },
    {
     "data": {
      "image/png": "[encoded data removed]",
      "text/plain": [
       "<Figure size 432x288 with 1 Axes>"
      ]
     },
     "metadata": {
      "needs_background": "light"
     },
     "output_type": "display_data"
    }
   ],
   "source": [
    "dic_df['OsloAero_intBVOC_f09_f09_mg17_fssp']['N50'].plot()"
   ]
  },
  {
   "cell_type": "code",
   "execution_count": 61,
   "id": "45fe1c2e-36c8-4f83-be19-b19d3f6b6596",
   "metadata": {},
   "outputs": [
    {
     "data": {
      "text/html": [
       "<div>\n",
       "<style scoped>\n",
       "    .dataframe tbody tr th:only-of-type {\n",
       "        vertical-align: middle;\n",
       "    }\n",
       "\n",
       "    .dataframe tbody tr th {\n",
       "        vertical-align: top;\n",
       "    }\n",
       "\n",
       "    .dataframe thead th {\n",
       "        text-align: right;\n",
       "    }\n",
       "</style>\n",
       "<table border=\"1\" class=\"dataframe\">\n",
       "  <thead>\n",
       "    <tr style=\"text-align: right;\">\n",
       "      <th></th>\n",
       "      <th>station</th>\n",
       "      <th>ACTREL</th>\n",
       "      <th>lev</th>\n",
       "      <th>BC_A</th>\n",
       "      <th>BC_AC</th>\n",
       "      <th>BC_AI</th>\n",
       "      <th>BC_AX</th>\n",
       "      <th>BC_N</th>\n",
       "      <th>BC_NI</th>\n",
       "      <th>COAGNUCL</th>\n",
       "      <th>...</th>\n",
       "      <th>SOA</th>\n",
       "      <th>OAG</th>\n",
       "      <th>OA</th>\n",
       "      <th>POA</th>\n",
       "      <th>SO4</th>\n",
       "      <th>hour</th>\n",
       "      <th>is_JJA</th>\n",
       "      <th>is_JA</th>\n",
       "      <th>isSummer</th>\n",
       "      <th>year</th>\n",
       "    </tr>\n",
       "    <tr>\n",
       "      <th>time</th>\n",
       "      <th></th>\n",
       "      <th></th>\n",
       "      <th></th>\n",
       "      <th></th>\n",
       "      <th></th>\n",
       "      <th></th>\n",
       "      <th></th>\n",
       "      <th></th>\n",
       "      <th></th>\n",
       "      <th></th>\n",
       "      <th></th>\n",
       "      <th></th>\n",
       "      <th></th>\n",
       "      <th></th>\n",
       "      <th></th>\n",
       "      <th></th>\n",
       "      <th></th>\n",
       "      <th></th>\n",
       "      <th></th>\n",
       "      <th></th>\n",
       "      <th></th>\n",
       "    </tr>\n",
       "  </thead>\n",
       "  <tbody>\n",
       "    <tr>\n",
       "      <th>2012-01-02 00:00:00</th>\n",
       "      <td>ATTO</td>\n",
       "      <td>0.0</td>\n",
       "      <td>976.325407</td>\n",
       "      <td>5.815709e-12</td>\n",
       "      <td>2.284618e-12</td>\n",
       "      <td>6.216762e-12</td>\n",
       "      <td>1.086100e-14</td>\n",
       "      <td>7.984544e-14</td>\n",
       "      <td>2.962090e-15</td>\n",
       "      <td>0.000015</td>\n",
       "      <td>...</td>\n",
       "      <td>7.855373</td>\n",
       "      <td>8.065325</td>\n",
       "      <td>8.036447</td>\n",
       "      <td>0.181074</td>\n",
       "      <td>0.140437</td>\n",
       "      <td>0</td>\n",
       "      <td>False</td>\n",
       "      <td>False</td>\n",
       "      <td>False</td>\n",
       "      <td>2012</td>\n",
       "    </tr>\n",
       "    <tr>\n",
       "      <th>2012-01-02 01:00:00</th>\n",
       "      <td>ATTO</td>\n",
       "      <td>0.0</td>\n",
       "      <td>976.325407</td>\n",
       "      <td>5.740620e-12</td>\n",
       "      <td>2.293239e-12</td>\n",
       "      <td>6.177176e-12</td>\n",
       "      <td>1.259311e-14</td>\n",
       "      <td>9.083385e-14</td>\n",
       "      <td>3.465085e-15</td>\n",
       "      <td>0.000015</td>\n",
       "      <td>...</td>\n",
       "      <td>8.084150</td>\n",
       "      <td>8.292442</td>\n",
       "      <td>8.265128</td>\n",
       "      <td>0.180978</td>\n",
       "      <td>0.141341</td>\n",
       "      <td>1</td>\n",
       "      <td>False</td>\n",
       "      <td>False</td>\n",
       "      <td>False</td>\n",
       "      <td>2012</td>\n",
       "    </tr>\n",
       "    <tr>\n",
       "      <th>2012-01-02 02:00:00</th>\n",
       "      <td>ATTO</td>\n",
       "      <td>0.0</td>\n",
       "      <td>976.325407</td>\n",
       "      <td>5.691387e-12</td>\n",
       "      <td>2.298453e-12</td>\n",
       "      <td>6.137951e-12</td>\n",
       "      <td>1.367037e-14</td>\n",
       "      <td>9.720762e-14</td>\n",
       "      <td>3.823664e-15</td>\n",
       "      <td>0.000015</td>\n",
       "      <td>...</td>\n",
       "      <td>8.274946</td>\n",
       "      <td>8.481831</td>\n",
       "      <td>8.455661</td>\n",
       "      <td>0.180715</td>\n",
       "      <td>0.141750</td>\n",
       "      <td>2</td>\n",
       "      <td>False</td>\n",
       "      <td>False</td>\n",
       "      <td>False</td>\n",
       "      <td>2012</td>\n",
       "    </tr>\n",
       "    <tr>\n",
       "      <th>2012-01-02 03:00:00</th>\n",
       "      <td>ATTO</td>\n",
       "      <td>0.0</td>\n",
       "      <td>976.325407</td>\n",
       "      <td>5.694673e-12</td>\n",
       "      <td>2.315673e-12</td>\n",
       "      <td>6.140177e-12</td>\n",
       "      <td>1.463017e-14</td>\n",
       "      <td>1.042964e-13</td>\n",
       "      <td>4.151001e-15</td>\n",
       "      <td>0.000015</td>\n",
       "      <td>...</td>\n",
       "      <td>8.451715</td>\n",
       "      <td>8.658324</td>\n",
       "      <td>8.633168</td>\n",
       "      <td>0.181454</td>\n",
       "      <td>0.142806</td>\n",
       "      <td>3</td>\n",
       "      <td>False</td>\n",
       "      <td>False</td>\n",
       "      <td>False</td>\n",
       "      <td>2012</td>\n",
       "    </tr>\n",
       "    <tr>\n",
       "      <th>2012-01-02 04:00:00</th>\n",
       "      <td>ATTO</td>\n",
       "      <td>0.0</td>\n",
       "      <td>976.325407</td>\n",
       "      <td>5.788481e-12</td>\n",
       "      <td>2.355007e-12</td>\n",
       "      <td>6.202035e-12</td>\n",
       "      <td>1.578037e-14</td>\n",
       "      <td>1.137945e-13</td>\n",
       "      <td>4.455077e-15</td>\n",
       "      <td>0.000015</td>\n",
       "      <td>...</td>\n",
       "      <td>8.623275</td>\n",
       "      <td>8.831461</td>\n",
       "      <td>8.807179</td>\n",
       "      <td>0.183905</td>\n",
       "      <td>0.145277</td>\n",
       "      <td>4</td>\n",
       "      <td>False</td>\n",
       "      <td>False</td>\n",
       "      <td>False</td>\n",
       "      <td>2012</td>\n",
       "    </tr>\n",
       "    <tr>\n",
       "      <th>...</th>\n",
       "      <td>...</td>\n",
       "      <td>...</td>\n",
       "      <td>...</td>\n",
       "      <td>...</td>\n",
       "      <td>...</td>\n",
       "      <td>...</td>\n",
       "      <td>...</td>\n",
       "      <td>...</td>\n",
       "      <td>...</td>\n",
       "      <td>...</td>\n",
       "      <td>...</td>\n",
       "      <td>...</td>\n",
       "      <td>...</td>\n",
       "      <td>...</td>\n",
       "      <td>...</td>\n",
       "      <td>...</td>\n",
       "      <td>...</td>\n",
       "      <td>...</td>\n",
       "      <td>...</td>\n",
       "      <td>...</td>\n",
       "      <td>...</td>\n",
       "    </tr>\n",
       "    <tr>\n",
       "      <th>2018-12-31 20:00:00</th>\n",
       "      <td>ATTO</td>\n",
       "      <td>0.0</td>\n",
       "      <td>976.325407</td>\n",
       "      <td>1.235065e-11</td>\n",
       "      <td>8.883554e-12</td>\n",
       "      <td>1.787866e-11</td>\n",
       "      <td>3.085038e-15</td>\n",
       "      <td>3.602730e-16</td>\n",
       "      <td>1.901244e-17</td>\n",
       "      <td>0.000010</td>\n",
       "      <td>...</td>\n",
       "      <td>6.922167</td>\n",
       "      <td>7.512405</td>\n",
       "      <td>7.434962</td>\n",
       "      <td>0.512795</td>\n",
       "      <td>0.460383</td>\n",
       "      <td>20</td>\n",
       "      <td>False</td>\n",
       "      <td>False</td>\n",
       "      <td>False</td>\n",
       "      <td>2018</td>\n",
       "    </tr>\n",
       "    <tr>\n",
       "      <th>2018-12-31 21:00:00</th>\n",
       "      <td>ATTO</td>\n",
       "      <td>0.0</td>\n",
       "      <td>976.325407</td>\n",
       "      <td>1.256580e-11</td>\n",
       "      <td>8.791570e-12</td>\n",
       "      <td>1.813574e-11</td>\n",
       "      <td>1.859320e-15</td>\n",
       "      <td>9.049519e-16</td>\n",
       "      <td>1.894527e-17</td>\n",
       "      <td>0.000011</td>\n",
       "      <td>...</td>\n",
       "      <td>7.470432</td>\n",
       "      <td>8.060226</td>\n",
       "      <td>7.989834</td>\n",
       "      <td>0.519402</td>\n",
       "      <td>0.466757</td>\n",
       "      <td>21</td>\n",
       "      <td>False</td>\n",
       "      <td>False</td>\n",
       "      <td>False</td>\n",
       "      <td>2018</td>\n",
       "    </tr>\n",
       "    <tr>\n",
       "      <th>2018-12-31 22:00:00</th>\n",
       "      <td>ATTO</td>\n",
       "      <td>0.0</td>\n",
       "      <td>976.325407</td>\n",
       "      <td>1.260016e-11</td>\n",
       "      <td>8.736460e-12</td>\n",
       "      <td>1.828789e-11</td>\n",
       "      <td>3.989247e-15</td>\n",
       "      <td>2.590719e-14</td>\n",
       "      <td>3.488456e-15</td>\n",
       "      <td>0.000011</td>\n",
       "      <td>...</td>\n",
       "      <td>7.949142</td>\n",
       "      <td>8.519107</td>\n",
       "      <td>8.472294</td>\n",
       "      <td>0.523152</td>\n",
       "      <td>0.474271</td>\n",
       "      <td>22</td>\n",
       "      <td>False</td>\n",
       "      <td>False</td>\n",
       "      <td>False</td>\n",
       "      <td>2018</td>\n",
       "    </tr>\n",
       "    <tr>\n",
       "      <th>2018-12-31 23:00:00</th>\n",
       "      <td>ATTO</td>\n",
       "      <td>0.0</td>\n",
       "      <td>976.325407</td>\n",
       "      <td>1.248939e-11</td>\n",
       "      <td>8.592850e-12</td>\n",
       "      <td>1.822782e-11</td>\n",
       "      <td>9.650984e-15</td>\n",
       "      <td>8.406922e-14</td>\n",
       "      <td>1.496430e-14</td>\n",
       "      <td>0.000011</td>\n",
       "      <td>...</td>\n",
       "      <td>8.102338</td>\n",
       "      <td>8.647853</td>\n",
       "      <td>8.623910</td>\n",
       "      <td>0.521571</td>\n",
       "      <td>0.475259</td>\n",
       "      <td>23</td>\n",
       "      <td>False</td>\n",
       "      <td>False</td>\n",
       "      <td>False</td>\n",
       "      <td>2018</td>\n",
       "    </tr>\n",
       "    <tr>\n",
       "      <th>2019-01-01 00:00:00</th>\n",
       "      <td>ATTO</td>\n",
       "      <td>0.0</td>\n",
       "      <td>976.325407</td>\n",
       "      <td>1.228006e-11</td>\n",
       "      <td>8.294669e-12</td>\n",
       "      <td>1.789487e-11</td>\n",
       "      <td>1.351781e-14</td>\n",
       "      <td>1.159447e-13</td>\n",
       "      <td>2.054574e-14</td>\n",
       "      <td>0.000011</td>\n",
       "      <td>...</td>\n",
       "      <td>8.056646</td>\n",
       "      <td>8.591450</td>\n",
       "      <td>8.569317</td>\n",
       "      <td>0.512670</td>\n",
       "      <td>0.464602</td>\n",
       "      <td>0</td>\n",
       "      <td>False</td>\n",
       "      <td>False</td>\n",
       "      <td>False</td>\n",
       "      <td>2019</td>\n",
       "    </tr>\n",
       "  </tbody>\n",
       "</table>\n",
       "<p>61345 rows × 97 columns</p>\n",
       "</div>"
      ],
      "text/plain": [
       "                    station  ACTREL         lev          BC_A         BC_AC  \\\n",
       "time                                                                          \n",
       "2012-01-02 00:00:00    ATTO     0.0  976.325407  5.815709e-12  2.284618e-12   \n",
       "2012-01-02 01:00:00    ATTO     0.0  976.325407  5.740620e-12  2.293239e-12   \n",
       "2012-01-02 02:00:00    ATTO     0.0  976.325407  5.691387e-12  2.298453e-12   \n",
       "2012-01-02 03:00:00    ATTO     0.0  976.325407  5.694673e-12  2.315673e-12   \n",
       "2012-01-02 04:00:00    ATTO     0.0  976.325407  5.788481e-12  2.355007e-12   \n",
       "...                     ...     ...         ...           ...           ...   \n",
       "2018-12-31 20:00:00    ATTO     0.0  976.325407  1.235065e-11  8.883554e-12   \n",
       "2018-12-31 21:00:00    ATTO     0.0  976.325407  1.256580e-11  8.791570e-12   \n",
       "2018-12-31 22:00:00    ATTO     0.0  976.325407  1.260016e-11  8.736460e-12   \n",
       "2018-12-31 23:00:00    ATTO     0.0  976.325407  1.248939e-11  8.592850e-12   \n",
       "2019-01-01 00:00:00    ATTO     0.0  976.325407  1.228006e-11  8.294669e-12   \n",
       "\n",
       "                            BC_AI         BC_AX          BC_N         BC_NI  \\\n",
       "time                                                                          \n",
       "2012-01-02 00:00:00  6.216762e-12  1.086100e-14  7.984544e-14  2.962090e-15   \n",
       "2012-01-02 01:00:00  6.177176e-12  1.259311e-14  9.083385e-14  3.465085e-15   \n",
       "2012-01-02 02:00:00  6.137951e-12  1.367037e-14  9.720762e-14  3.823664e-15   \n",
       "2012-01-02 03:00:00  6.140177e-12  1.463017e-14  1.042964e-13  4.151001e-15   \n",
       "2012-01-02 04:00:00  6.202035e-12  1.578037e-14  1.137945e-13  4.455077e-15   \n",
       "...                           ...           ...           ...           ...   \n",
       "2018-12-31 20:00:00  1.787866e-11  3.085038e-15  3.602730e-16  1.901244e-17   \n",
       "2018-12-31 21:00:00  1.813574e-11  1.859320e-15  9.049519e-16  1.894527e-17   \n",
       "2018-12-31 22:00:00  1.828789e-11  3.989247e-15  2.590719e-14  3.488456e-15   \n",
       "2018-12-31 23:00:00  1.822782e-11  9.650984e-15  8.406922e-14  1.496430e-14   \n",
       "2019-01-01 00:00:00  1.789487e-11  1.351781e-14  1.159447e-13  2.054574e-14   \n",
       "\n",
       "                     COAGNUCL  ...       SOA       OAG        OA       POA  \\\n",
       "time                           ...                                           \n",
       "2012-01-02 00:00:00  0.000015  ...  7.855373  8.065325  8.036447  0.181074   \n",
       "2012-01-02 01:00:00  0.000015  ...  8.084150  8.292442  8.265128  0.180978   \n",
       "2012-01-02 02:00:00  0.000015  ...  8.274946  8.481831  8.455661  0.180715   \n",
       "2012-01-02 03:00:00  0.000015  ...  8.451715  8.658324  8.633168  0.181454   \n",
       "2012-01-02 04:00:00  0.000015  ...  8.623275  8.831461  8.807179  0.183905   \n",
       "...                       ...  ...       ...       ...       ...       ...   \n",
       "2018-12-31 20:00:00  0.000010  ...  6.922167  7.512405  7.434962  0.512795   \n",
       "2018-12-31 21:00:00  0.000011  ...  7.470432  8.060226  7.989834  0.519402   \n",
       "2018-12-31 22:00:00  0.000011  ...  7.949142  8.519107  8.472294  0.523152   \n",
       "2018-12-31 23:00:00  0.000011  ...  8.102338  8.647853  8.623910  0.521571   \n",
       "2019-01-01 00:00:00  0.000011  ...  8.056646  8.591450  8.569317  0.512670   \n",
       "\n",
       "                          SO4  hour  is_JJA  is_JA  isSummer  year  \n",
       "time                                                                \n",
       "2012-01-02 00:00:00  0.140437     0   False  False     False  2012  \n",
       "2012-01-02 01:00:00  0.141341     1   False  False     False  2012  \n",
       "2012-01-02 02:00:00  0.141750     2   False  False     False  2012  \n",
       "2012-01-02 03:00:00  0.142806     3   False  False     False  2012  \n",
       "2012-01-02 04:00:00  0.145277     4   False  False     False  2012  \n",
       "...                       ...   ...     ...    ...       ...   ...  \n",
       "2018-12-31 20:00:00  0.460383    20   False  False     False  2018  \n",
       "2018-12-31 21:00:00  0.466757    21   False  False     False  2018  \n",
       "2018-12-31 22:00:00  0.474271    22   False  False     False  2018  \n",
       "2018-12-31 23:00:00  0.475259    23   False  False     False  2018  \n",
       "2019-01-01 00:00:00  0.464602     0   False  False     False  2019  \n",
       "\n",
       "[61345 rows x 97 columns]"
      ]
     },
     "execution_count": 61,
     "metadata": {},
     "output_type": "execute_result"
    }
   ],
   "source": [
    "dic_df['OsloAero_intBVOC_f09_f09_mg17_fssp']#['50-500'].plot()"
   ]
  },
  {
   "cell_type": "code",
   "execution_count": 62,
   "id": "b3863af8-7399-4f26-82ff-9483178f8c67",
   "metadata": {},
   "outputs": [
    {
     "data": {
      "text/plain": [
       "<AxesSubplot:xlabel='time'>"
      ]
     },
     "execution_count": 62,
     "metadata": {},
     "output_type": "execute_result"
    },
    {
     "data": {
      "image/png": "[encoded data removed]",
      "text/plain": [
       "<Figure size 432x288 with 1 Axes>"
      ]
     },
     "metadata": {
      "needs_background": "light"
     },
     "output_type": "display_data"
    }
   ],
   "source": [
    "dic_df['OsloAero_intBVOC_f09_f09_mg17_fssp']['N50'].plot()"
   ]
  },
  {
   "cell_type": "markdown",
   "id": "5dcc8750-49c6-43b4-9cd9-96b8726a37f8",
   "metadata": {
    "tags": []
   },
   "source": [
    "## SHIFT TIME to ATTO which is  european winter time EET UTC-4"
   ]
  },
  {
   "cell_type": "code",
   "execution_count": 63,
   "id": "269267d7-f9b7-44d7-b36d-8c220461e977",
   "metadata": {},
   "outputs": [],
   "source": [
    "import datetime"
   ]
  },
  {
   "cell_type": "code",
   "execution_count": 64,
   "id": "85f2b0fe-6c77-4fdf-bfbe-22c3ceeea728",
   "metadata": {
    "tags": []
   },
   "outputs": [],
   "source": [
    "for mo in models:\n",
    "    for ca in di_mod2cases[mo]:\n",
    "        ind = dic_df_mod_case[mo][ca].index\n",
    "        dic_df_mod_case[mo][ca].index = ind - datetime.timedelta(hours=4)"
   ]
  },
  {
   "cell_type": "code",
   "execution_count": 65,
   "id": "017fb2f0-8573-45e4-b254-3729a9a83593",
   "metadata": {},
   "outputs": [
    {
     "name": "stdout",
     "output_type": "stream",
     "text": [
      "DatetimeIndex(['2011-12-31 20:00:00', '2011-12-31 21:00:00',\n",
      "               '2011-12-31 22:00:00', '2011-12-31 23:00:00'],\n",
      "              dtype='datetime64[ns]', name='time', freq=None)\n",
      "DatetimeIndex(['2012-01-01 20:00:00', '2012-01-01 21:00:00',\n",
      "               '2012-01-01 22:00:00', '2012-01-01 23:00:00'],\n",
      "              dtype='datetime64[ns]', name='time', freq=None)\n"
     ]
    }
   ],
   "source": [
    "for mo in models:\n",
    "    for ca in di_mod2cases[mo]:\n",
    "\n",
    "        print(dic_df_mod_case[mo][ca].index[0:4])"
   ]
  },
  {
   "cell_type": "markdown",
   "id": "109d05e1-7342-4022-98c6-fd52ab7df715",
   "metadata": {},
   "source": [
    "## Renaming: "
   ]
  },
  {
   "cell_type": "markdown",
   "id": "e3cd264e-a9ce-4d22-876f-57c519045155",
   "metadata": {},
   "source": [
    "#### NorESM"
   ]
  },
  {
   "cell_type": "code",
   "execution_count": 66,
   "id": "74657b80-9997-402b-b2e8-0c2725bfdf1d",
   "metadata": {},
   "outputs": [
    {
     "data": {
      "text/plain": [
       "{'ORG_mass_conc': 'OA', 'tempair': 'T'}"
      ]
     },
     "execution_count": 66,
     "metadata": {},
     "output_type": "execute_result"
    }
   ],
   "source": [
    "rn_dict_echam"
   ]
  },
  {
   "cell_type": "code",
   "execution_count": 67,
   "id": "3f3ab442-6223-4d0e-9ec6-1b34607949fb",
   "metadata": {},
   "outputs": [
    {
     "data": {
      "text/plain": [
       "<AxesSubplot:xlabel='time'>"
      ]
     },
     "execution_count": 67,
     "metadata": {},
     "output_type": "execute_result"
    },
    {
     "data": {
      "image/png": "[encoded data removed]",
      "text/plain": [
       "<Figure size 432x288 with 1 Axes>"
      ]
     },
     "metadata": {
      "needs_background": "light"
     },
     "output_type": "display_data"
    }
   ],
   "source": [
    "df = dic_df_mod_case['NorESM']['OsloAero_intBVOC_f09_f09_mg17_fssp']\n",
    "#df = dic_df_mod_case['NorESM']['OsloAero_intBVOC_f19_f19_mg17_fssp']\n",
    "df['N50'].plot()"
   ]
  },
  {
   "cell_type": "code",
   "execution_count": 68,
   "id": "4aaa6adc-c271-463f-84c1-083a470fc018",
   "metadata": {},
   "outputs": [
    {
     "data": {
      "text/plain": [
       "time\n",
       "2012-01-01 20:00:00    299.336823\n",
       "2012-01-01 21:00:00    299.434875\n",
       "2012-01-01 22:00:00    299.483673\n",
       "2012-01-01 23:00:00    299.453491\n",
       "2012-01-02 00:00:00    299.328461\n",
       "                          ...    \n",
       "2018-12-31 16:00:00    300.953033\n",
       "2018-12-31 17:00:00    300.811371\n",
       "2018-12-31 18:00:00    300.743866\n",
       "2018-12-31 19:00:00    300.634216\n",
       "2018-12-31 20:00:00    300.539337\n",
       "Name: T, Length: 61345, dtype: float32"
      ]
     },
     "execution_count": 68,
     "metadata": {},
     "output_type": "execute_result"
    }
   ],
   "source": [
    "df['T']"
   ]
  },
  {
   "cell_type": "markdown",
   "id": "32026ae4-bba0-47a4-b695-8bf597c20ae0",
   "metadata": {
    "lines_to_next_cell": 0,
    "tags": []
   },
   "source": [
    "## Write to file:"
   ]
  },
  {
   "cell_type": "code",
   "execution_count": 69,
   "id": "2f3d470c-68b3-49e8-ab49-ff06030ebec1",
   "metadata": {},
   "outputs": [
    {
     "name": "stdout",
     "output_type": "stream",
     "text": [
      "ECHAM-SALSA\n",
      "ECHAM-SALSA SALSA_BSOA_feedback\n",
      "/proj/bolinc/users/x_sarbl/analysis/BS-FDBCK/Data/model_station/ATTO/ATTO_station_ECHAM-SALSA_SALSA_BSOA_feedback.csv\n",
      "NorESM\n",
      "NorESM OsloAero_intBVOC_f09_f09_mg17_fssp\n",
      "/proj/bolinc/users/x_sarbl/analysis/BS-FDBCK/Data/model_station/ATTO/ATTO_station_NorESM_OsloAero_intBVOC_f09_f09_mg17_fssp.csv\n"
     ]
    }
   ],
   "source": [
    "for mod in models:\n",
    "    print(mod)\n",
    "    dic_df_mod_case[mod]\n",
    "    for ca in dic_df_mod_case[mod].keys():\n",
    "        print(mod, ca)\n",
    "        fn_out = postproc_data/f'{select_station}_station_{mod}_{ca}.csv'\n",
    "        print(fn_out)\n",
    "        dic_df_mod_case[mod][ca].to_csv(fn_out)"
   ]
  },
  {
   "cell_type": "code",
   "execution_count": 70,
   "id": "172a2c55-af3e-4ba0-8e7b-1e57bc214317",
   "metadata": {},
   "outputs": [
    {
     "data": {
      "text/plain": [
       "time\n",
       "2012-01-01 20:00:00    8.036447\n",
       "2012-01-01 21:00:00    8.265128\n",
       "2012-01-01 22:00:00    8.455661\n",
       "2012-01-01 23:00:00    8.633168\n",
       "2012-01-02 00:00:00    8.807179\n",
       "                         ...   \n",
       "2018-12-31 16:00:00    7.434962\n",
       "2018-12-31 17:00:00    7.989834\n",
       "2018-12-31 18:00:00    8.472294\n",
       "2018-12-31 19:00:00    8.623910\n",
       "2018-12-31 20:00:00    8.569317\n",
       "Name: OA, Length: 61345, dtype: float32"
      ]
     },
     "execution_count": 70,
     "metadata": {},
     "output_type": "execute_result"
    }
   ],
   "source": [
    "dic_df_mod_case[mod][ca]['OA']#.plot()"
   ]
  },
  {
   "cell_type": "code",
   "execution_count": null,
   "id": "db323c3e-acba-4673-8e71-5569afb96a5b",
   "metadata": {},
   "outputs": [],
   "source": []
  }
 ],
 "metadata": {
  "jupytext": {
   "formats": "ipynb,auto:percent"
  },
  "kernelspec": {
   "display_name": "Python 3 (ipykernel)",
   "language": "python",
   "name": "python3"
  },
  "language_info": {
   "codemirror_mode": {
    "name": "ipython",
    "version": 3
   },
   "file_extension": ".py",
   "mimetype": "text/x-python",
   "name": "python",
   "nbconvert_exporter": "python",
   "pygments_lexer": "ipython3",
   "version": "3.8.10"
  }
 },
 "nbformat": 4,
 "nbformat_minor": 5
}
