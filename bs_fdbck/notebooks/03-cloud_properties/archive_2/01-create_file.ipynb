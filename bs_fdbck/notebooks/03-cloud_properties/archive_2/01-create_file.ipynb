{
 "cells": [
  {
   "cell_type": "code",
   "execution_count": 1,
   "id": "c0be9911-70d1-4d02-aa1a-dc5d9dd0e812",
   "metadata": {
    "pycharm": {
     "name": "#%%\n"
    }
   },
   "outputs": [],
   "source": [
    "%load_ext autoreload\n",
    "%autoreload 2"
   ]
  },
  {
   "cell_type": "code",
   "execution_count": 2,
   "id": "0698620a-4a5e-4a7a-9369-37da1e27574e",
   "metadata": {
    "pycharm": {
     "name": "#%%\n"
    }
   },
   "outputs": [
    {
     "name": "stdout",
     "output_type": "stream",
     "text": [
      "WARNING: depricated, use \n",
      " from pathlib import Path \n",
      " Path(path).mkdir(exist_ok=True, parents=True)\n",
      "/proj/bolinc/users/x_sarbl/analysis/BS-FDBCK/bs_fdbck/data_info/area_defs.csv\n"
     ]
    }
   ],
   "source": [
    "import xarray as xr\n",
    "\n",
    "import pandas as pd\n",
    "import matplotlib.pyplot as plt\n",
    "from pathlib import Path\n",
    "from bs_fdbck.constants import path_extract_latlon_outdata\n",
    "from dask.diagnostics import ProgressBar\n",
    "import seaborn as sns\n",
    "\n",
    "from bs_fdbck.util.imports import import_fields_xr_echam\n",
    "\n",
    "import pandas as pd\n",
    "\n",
    "\n",
    "\n",
    "from bs_fdbck.constants import path_measurement_data\n",
    "\n",
    "from bs_fdbck.util.BSOA_datamanip import compute_total_tau, broadcase_station_data, change_units_and_compute_vars, \\\n",
    "    get_dic_df_mod, change_units_and_compute_vars_echam,extract_2D_cloud_time_echam, rn_dic_echam_cloud, rn_dic_noresm_cloud\n",
    "\n",
    "import datetime\n",
    "\n",
    "from bs_fdbck.util.BSOA_datamanip import fix_echam_time"
   ]
  },
  {
   "cell_type": "code",
   "execution_count": 3,
   "id": "82652fdf-b07d-47c9-ab77-b7af354a2977",
   "metadata": {
    "pycharm": {
     "name": "#%%\n"
    }
   },
   "outputs": [
    {
     "data": {
      "text/plain": [
       "<xarray.core.options.set_options at 0x7fd4e028a460>"
      ]
     },
     "execution_count": 3,
     "metadata": {},
     "output_type": "execute_result"
    }
   ],
   "source": [
    "xr.set_options(keep_attrs=True) "
   ]
  },
  {
   "cell_type": "code",
   "execution_count": 4,
   "id": "4e06d31d",
   "metadata": {
    "pycharm": {
     "name": "#%%\n"
    }
   },
   "outputs": [],
   "source": [
    "rn_dic_echam = {\n",
    "    'cwp'      : 'CWP',\n",
    "    'cod'      : 'COT',\n",
    "    'ceff_ct'  : 'r_eff',\n",
    "\n",
    "\n",
    "}\n",
    "rn_dic_noresm = {\n",
    "    'TGCLDCWP_incld'         : 'CWP',\n",
    "    'TOT_CLD_VISTAU_s_incld': 'COT',\n",
    "    'ACTREL_incld'     : 'r_eff',\n",
    "}\n",
    "rn_dic_obs = {\n",
    "    'CWP (g m^-2)'        : 'CWP',\n",
    "    'CER (micrometer)'    : 'r_eff',\n",
    "    'OA (microgram m^-3)' : 'OA',\n",
    "\n",
    "}\n",
    "\n"
   ]
  },
  {
   "cell_type": "markdown",
   "id": "56c47eb8-6a1d-4746-8676-f9f96cf51ce5",
   "metadata": {
    "tags": [],
    "pycharm": {
     "name": "#%% md\n"
    }
   },
   "source": [
    "## NorESM"
   ]
  },
  {
   "cell_type": "code",
   "execution_count": 5,
   "id": "cb44d5fd-93da-4f32-bdc8-1957f52dfb0b",
   "metadata": {
    "lines_to_next_cell": 0,
    "pycharm": {
     "name": "#%%\n"
    }
   },
   "outputs": [],
   "source": [
    "lon_lims = [22.,30.]\n",
    "lat_lims = [60.,66.]\n",
    "\n",
    "lat_smr = 61.85\n",
    "lon_smr = 24.28\n",
    "model_lev_i=-1\n",
    "\n",
    "temperature = 273.15  # K\n",
    "\n",
    "\n",
    "from_time1 = '2012-01-01'\n",
    "to_time1 = '2015-01-01'\n",
    "from_time2 ='2015-01-01'\n",
    "to_time2 ='2019-01-01'"
   ]
  },
  {
   "cell_type": "code",
   "execution_count": 6,
   "id": "765fbcc1-ed17-465a-a2ae-2d6ce858042e",
   "metadata": {
    "pycharm": {
     "name": "#%%\n"
    }
   },
   "outputs": [],
   "source": [
    "case_name = 'OsloAero_intBVOC_f09_f09_mg17_fssp245'\n",
    "\n",
    "case_name1 = 'OsloAero_intBVOC_f09_f09_mg17_full'\n",
    "case_name2 = 'OsloAero_intBVOC_f09_f09_mg17_ssp245'"
   ]
  },
  {
   "cell_type": "code",
   "execution_count": 7,
   "id": "91722f2b-6f9a-455b-9a1a-8a1774785219",
   "metadata": {
    "pycharm": {
     "name": "#%%\n"
    }
   },
   "outputs": [],
   "source": [
    "cases = [case_name]"
   ]
  },
  {
   "cell_type": "markdown",
   "id": "72ba7d5d-f1d0-40b6-b07d-16cd1cd8fc3b",
   "metadata": {
    "pycharm": {
     "name": "#%% md\n"
    }
   },
   "source": [
    "### Path input data"
   ]
  },
  {
   "cell_type": "code",
   "execution_count": 8,
   "id": "dc11e217-ad75-4f39-a630-72208f805d83",
   "metadata": {
    "pycharm": {
     "name": "#%%\n"
    }
   },
   "outputs": [],
   "source": [
    "\n",
    "path_input_data_noresm = path_extract_latlon_outdata/ case_name"
   ]
  },
  {
   "cell_type": "markdown",
   "id": "13ecbf4b-c439-4148-9b9c-be29cbcb91ed",
   "metadata": {
    "pycharm": {
     "name": "#%% md\n"
    }
   },
   "source": [
    "### Filenames"
   ]
  },
  {
   "cell_type": "code",
   "execution_count": 9,
   "id": "9f670d3e-7121-448d-bc03-19b87e87ff40",
   "metadata": {
    "pycharm": {
     "name": "#%%\n"
    }
   },
   "outputs": [],
   "source": [
    "fn1   = path_extract_latlon_outdata/case_name1/f'{case_name1}.h1._{from_time1}-{to_time1}_concat_subs_22.0-30.0_60.0-66.0.nc'\n",
    "\n",
    "fn1_2 = fn1.parent / f'{fn1.stem}_sort.nc'\n",
    "\n",
    "fn2   = path_extract_latlon_outdata/case_name2 /f'{case_name2}.h1._{from_time2}-{to_time2}_concat_subs_22.0-30.0_60.0-66.0.nc'\n",
    "\n",
    "fn2_2 = fn2.parent / f'{fn2.stem}_sort.nc'\n",
    "\n",
    "fn_comb                = path_input_data_noresm /f'{case_name}.h1._{from_time1}-{to_time2}_concat_subs_22.0-30.0_60.0-66.0.nc'\n",
    "fn_comb_lev1           = path_input_data_noresm /f'{case_name}.h1._{from_time1}-{to_time2}_concat_subs_22.0-30.0_60.0-66.0_lev1.nc'\n",
    "fn_comb_lev1_final     = path_input_data_noresm /f'{case_name}.h1._{from_time1}-{to_time2}_concat_subs_22.0-30.0_60.0-66.0_lev1_final.nc'\n",
    "fn_comb_lev1_final_csv = path_input_data_noresm /f'{case_name}.h1._{from_time1}-{to_time2}_concat_subs_22.0-30.0_60.0-66.0_lev1_final.csv'"
   ]
  },
  {
   "cell_type": "markdown",
   "id": "f657494e-ff7e-48f0-977e-f9a63cc21eda",
   "metadata": {
    "pycharm": {
     "name": "#%% md\n"
    }
   },
   "source": [
    "### Station variables"
   ]
  },
  {
   "cell_type": "code",
   "execution_count": 10,
   "id": "89650527-605d-4df6-80f9-8f55a2c2550a",
   "metadata": {
    "lines_to_next_cell": 2,
    "pycharm": {
     "name": "#%%\n"
    }
   },
   "outputs": [],
   "source": [
    "varl_st = [      'SOA_NA','SOA_A1','OM_NI','OM_AI','OM_AC','SO4_NA','SO4_A1','SO4_A2','SO4_AC','SO4_PR',\n",
    "      'BC_N','BC_AX','BC_NI','BC_A','BC_AI','BC_AC','SS_A1','SS_A2','SS_A3','DST_A2','DST_A3',\n",
    "                 ]\n",
    "\n",
    "\n",
    "varl_cl = ['TOT_CLD_VISTAU','TOT_ICLD_VISTAU','TGCLDCWP','TGCLDLWP','TGCLDIWP',\n",
    "           'TOT_CLD_VISTAU_s','TOT_ICLD_VISTAU_s','optical_depth',\n",
    "           'CLDFREE',\n",
    "           'FCTL',\n",
    "           'ACTREL','ACTNL','TGCLDLWP',\n",
    "           'FSDSC','FSDSCDRF',\n",
    "           'FCTI',\n",
    "           'FCTL',\n",
    "           'FLNS',\n",
    "           'FLNSC',\n",
    "           'FLNT',\n",
    "           'FLNTCDRF',\n",
    "           'FLNT_DRF',\n",
    "           'FLUS',\n",
    "           'FLUTC','FORMRATE',\n",
    "           'FREQI',\n",
    "           'FREQL',\n",
    "           'FSDSCDRF',\n",
    "           'FSDS_DRF',\n",
    "           'FSNS',\n",
    "           'FSNSC',\n",
    "           'FSNT',\n",
    "           'FSNTCDRF',\n",
    "           'FSNT_DRF',\n",
    "           'FSUS_DRF',\n",
    "           'FSUTADRF',\n",
    "           ]"
   ]
  },
  {
   "cell_type": "markdown",
   "id": "7ba9d92a-ac32-486f-b4bf-806d1b92c73c",
   "metadata": {
    "tags": [],
    "pycharm": {
     "name": "#%% md\n"
    }
   },
   "source": [
    "### Read files and compute vertical variables, extract surface layer,  and merge timeseries"
   ]
  },
  {
   "cell_type": "code",
   "execution_count": 11,
   "id": "0d3b8b1c-823f-417a-b2b4-cd897d3b7941",
   "metadata": {
    "pycharm": {
     "name": "#%%\n"
    }
   },
   "outputs": [
    {
     "data": {
      "text/plain": [
       "PosixPath('/proj/bolinc/users/x_sarbl/analysis/Output_data_BS-FDBCK/extracted_latlon_subset/OsloAero_intBVOC_f09_f09_mg17_fssp245/OsloAero_intBVOC_f09_f09_mg17_fssp245.h1._2012-01-01-2019-01-01_concat_subs_22.0-30.0_60.0-66.0.nc')"
      ]
     },
     "execution_count": 11,
     "metadata": {},
     "output_type": "execute_result"
    }
   ],
   "source": [
    "fn_comb#.exists()"
   ]
  },
  {
   "cell_type": "code",
   "execution_count": 12,
   "id": "9b90f88e-f482-4314-91b9-580c909f6922",
   "metadata": {
    "lines_to_next_cell": 2,
    "tags": [],
    "pycharm": {
     "name": "#%%\n"
    }
   },
   "outputs": [],
   "source": [
    "if not fn_comb.exists():\n",
    "    if (not fn1_2.exists()) or (not fn2_2.exists()):\n",
    "        ds_mod1 = xr.open_dataset(fn1, chunks = {'time':96})#[fn1,fn2])#.sortby('time')\n",
    "        ds_mod2 = xr.open_dataset(fn2, chunks = {'time':96})\n",
    "\n",
    "        varl1 = set(ds_mod1.data_vars)\n",
    "\n",
    "        varl2 = set(ds_mod2.data_vars)\n",
    "\n",
    "\n",
    "        varl =list(varl1.intersection(varl2))\n",
    "\n",
    "        ds_mod1 = ds_mod1[varl].sel(time=slice(sel_years_from_files[0],sel_years_from_files[1]))#.sortby('time')\n",
    "\n",
    "        ds_mod2 = ds_mod2[varl].sel(time=slice(sel_years_from_files[2],sel_years_from_files[3]))#.sortby('time')\n",
    "        print('HEEEEY')\n",
    "        if not fn1_2.exists():\n",
    "            delayed_obj = ds_mod1.to_netcdf(fn1_2, compute=False)\n",
    "            with ProgressBar():\n",
    "                results = delayed_obj.compute()\n",
    "        if not fn2_2.exists():\n",
    "            delayed_obj = ds_mod2.to_netcdf(fn2_2, compute=False)\n",
    "            with ProgressBar():\n",
    "                results = delayed_obj.compute()\n",
    "    \n",
    "    if not fn1_3.exists():\n",
    "            ds_mod1 = xr.open_dataset(fn1_2, chunks = {'time':48})#[fn1,fn2])#.sortby('time')\n",
    "            ds_mod1 = compute_total_tau(ds_mod1)\n",
    "            ds_mod1 = ds_mod1.isel(lev = model_lev_i)\n",
    "            ds_mod1 = ds_mod1.sortby('time')#.sel(time=slice('2012','2014'))\n",
    "            delayed_obj = ds_mod1.to_netcdf(fn1_3, compute=False)\n",
    "            print('hey 1')\n",
    "            with ProgressBar():\n",
    "                results = delayed_obj.compute()\n",
    "    if not fn2_3.exists():\n",
    "            ds_mod2 = xr.open_dataset(fn2_2, chunks = {'time':48})#[fn1,fn2])#.sortby('time')\n",
    "            ds_mod2 = compute_total_tau(ds_mod2)\n",
    "            ds_mod2 = ds_mod2.isel(lev = model_lev_i)\n",
    "            ds_mod2 = ds_mod2.sortby('time')#.sel(time=slice('2012','2014'))\n",
    "            delayed_obj = ds_mod2.to_netcdf(fn2_3, compute=False)\n",
    "            print('hey')\n",
    "            with ProgressBar():\n",
    "                results = delayed_obj.compute()\n",
    "    \n",
    "    \n",
    "    ds_mod = xr.open_mfdataset([fn1_3,fn2_3], combine='by_coords', concat_dim='time')\n",
    "\n",
    "    fn_comb.parent.mkdir(exist_ok=True,)\n",
    "\n",
    "    delayed_obj = ds_mod.to_netcdf(fn_comb, compute = False)\n",
    "    with ProgressBar():\n",
    "        results = delayed_obj.compute()\n",
    "\n",
    "    #ds_mod = xr.concat([ds_mod1[varl].sel(time=slice('2012','2014')), ds_mod2[varl].sel(time=slice('2015','2018'))], dim='time')"
   ]
  },
  {
   "cell_type": "markdown",
   "id": "35e64b2d-d9cc-4b06-846b-f9579c4b8dbc",
   "metadata": {
    "pycharm": {
     "name": "#%% md\n"
    }
   },
   "source": [
    "### Check: "
   ]
  },
  {
   "cell_type": "code",
   "execution_count": 13,
   "id": "f1d5c7c0-1495-4626-b85a-8e2088750000",
   "metadata": {
    "pycharm": {
     "name": "#%%\n"
    }
   },
   "outputs": [
    {
     "name": "stderr",
     "output_type": "stream",
     "text": [
      "/home/x_sarbl/miniconda3/envs/env_analys/lib/python3.8/site-packages/xarray/backends/plugins.py:61: RuntimeWarning: Engine 'rasterio' loading failed:\n",
      "(click 8.0.1 (/home/x_sarbl/miniconda3/envs/env_analys/lib/python3.8/site-packages), Requirement.parse('click<8,>=4.0'), {'rasterio'})\n",
      "  warnings.warn(f\"Engine {name!r} loading failed:\\n{ex}\", RuntimeWarning)\n"
     ]
    },
    {
     "data": {
      "text/plain": [
       "[<matplotlib.lines.Line2D at 0x7fd468015700>]"
      ]
     },
     "execution_count": 13,
     "metadata": {},
     "output_type": "execute_result"
    },
    {
     "data": {
      "image/png": "[encoded data removed]",
      "text/plain": [
       "<Figure size 432x288 with 1 Axes>"
      ]
     },
     "metadata": {
      "needs_background": "light"
     },
     "output_type": "display_data"
    }
   ],
   "source": [
    "ds_mod = xr.open_dataset(fn_comb, chunks = {'time':48})\n",
    "ds_mod['NCONC01'].isel(lat=0, lon=0).plot()"
   ]
  },
  {
   "cell_type": "markdown",
   "id": "62fa108c-996f-452a-af2d-0428d5d627eb",
   "metadata": {
    "tags": [],
    "pycharm": {
     "name": "#%% md\n"
    }
   },
   "source": [
    "### Broadcast station variables to every gridcell and manipulate units etc"
   ]
  },
  {
   "cell_type": "markdown",
   "id": "d3779186-22ea-4f2b-9798-d9a9d50bbaa2",
   "metadata": {
    "pycharm": {
     "name": "#%% md\n"
    }
   },
   "source": [
    "We use only hyytiala for org etc, but all grid cells over finland for cloud properties"
   ]
  },
  {
   "cell_type": "code",
   "execution_count": 14,
   "id": "e5c64b60-37ec-430c-bcdb-f9eaea844a9f",
   "metadata": {
    "pycharm": {
     "name": "#%%\n"
    }
   },
   "outputs": [
    {
     "data": {
      "text/plain": [
       "PosixPath('/proj/bolinc/users/x_sarbl/analysis/Output_data_BS-FDBCK/extracted_latlon_subset/OsloAero_intBVOC_f09_f09_mg17_fssp245/OsloAero_intBVOC_f09_f09_mg17_fssp245.h1._2012-01-01-2019-01-01_concat_subs_22.0-30.0_60.0-66.0_lev1_final.nc')"
      ]
     },
     "execution_count": 14,
     "metadata": {},
     "output_type": "execute_result"
    }
   ],
   "source": [
    "fn_comb_lev1_final"
   ]
  },
  {
   "cell_type": "code",
   "execution_count": 15,
   "id": "c1683e99-94d8-4f61-808a-f1fd8ea01c53",
   "metadata": {
    "lines_to_next_cell": 2,
    "tags": [],
    "pycharm": {
     "name": "#%%\n"
    }
   },
   "outputs": [],
   "source": [
    "if not fn_comb_lev1_final.exists():\n",
    "    ds_all = xr.open_dataset(fn_comb).isel(ilev=model_lev_i)\n",
    "    ds_sel = ds_all.sel(lat = lat_smr, lon= lon_smr, method='nearest')#.isel( ilev=model_lev_i)#.load()\n",
    "    ds_all = ds_all.isel(\n",
    "             nbnd=0\n",
    "    ).squeeze()\n",
    "    ds_all = broadcase_station_data(ds_all)\n",
    "    ds_all = change_units_and_compute_vars(ds_all, temperature=temperature)\n",
    "\n",
    "\n",
    "    delayed_obj = ds_all.to_netcdf(fn_comb_lev1_final, compute=False)\n",
    "    print('hey')\n",
    "    with ProgressBar():\n",
    "        results = delayed_obj.compute()"
   ]
  },
  {
   "cell_type": "code",
   "execution_count": 16,
   "id": "63940b1b-529b-4a1c-9e94-098c1fbf5117",
   "metadata": {
    "pycharm": {
     "name": "#%%\n"
    }
   },
   "outputs": [
    {
     "data": {
      "text/plain": [
       "True"
      ]
     },
     "execution_count": 16,
     "metadata": {},
     "output_type": "execute_result"
    }
   ],
   "source": [
    "fn_comb_lev1.exists()"
   ]
  },
  {
   "cell_type": "code",
   "execution_count": 17,
   "id": "07b19090-89f6-42e0-a0f4-0ae1c68250a9",
   "metadata": {
    "lines_to_next_cell": 2,
    "pycharm": {
     "name": "#%%\n"
    }
   },
   "outputs": [
    {
     "data": {
      "text/plain": [
       "[<matplotlib.lines.Line2D at 0x7fd467b8b640>]"
      ]
     },
     "execution_count": 17,
     "metadata": {},
     "output_type": "execute_result"
    },
    {
     "data": {
      "image/png": "[encoded data removed]",
      "text/plain": [
       "<Figure size 432x288 with 1 Axes>"
      ]
     },
     "metadata": {
      "needs_background": "light"
     },
     "output_type": "display_data"
    }
   ],
   "source": [
    "\n",
    "ds_all = xr.open_dataset(fn_comb_lev1_final)\n",
    "\n",
    "ds_all['NCONC01'].isel(lat=1, lon=1).plot()"
   ]
  },
  {
   "cell_type": "code",
   "execution_count": 18,
   "id": "7f848915-b8f3-4755-a837-f166e501743b",
   "metadata": {
    "pycharm": {
     "name": "#%%\n"
    }
   },
   "outputs": [
    {
     "data": {
      "text/plain": [
       "(array([2.01629e+06, 3.33463e+05, 1.25198e+05, 5.80650e+04, 2.79170e+04,\n",
       "        1.06400e+04, 3.59000e+03, 1.02600e+03, 2.30000e+02, 2.90000e+01]),\n",
       " array([   0.     ,  153.09366,  306.18732,  459.28094,  612.37463,\n",
       "         765.46826,  918.5619 , 1071.6555 , 1224.7493 , 1377.8429 ,\n",
       "        1530.9365 ], dtype=float32),\n",
       " <BarContainer object of 10 artists>)"
      ]
     },
     "execution_count": 18,
     "metadata": {},
     "output_type": "execute_result"
    },
    {
     "data": {
      "image/png": "[encoded data removed]",
      "text/plain": [
       "<Figure size 432x288 with 1 Axes>"
      ]
     },
     "metadata": {
      "needs_background": "light"
     },
     "output_type": "display_data"
    }
   ],
   "source": [
    "ds_all['TGCLDCWP'].plot()"
   ]
  },
  {
   "cell_type": "code",
   "execution_count": 19,
   "id": "0bee9fc1-4c63-44af-9535-431696330a36",
   "metadata": {
    "pycharm": {
     "name": "#%%\n"
    }
   },
   "outputs": [],
   "source": [
    "import numpy as np"
   ]
  },
  {
   "cell_type": "code",
   "execution_count": 20,
   "id": "923c9eba-d496-4e61-a52f-376ed30e53a7",
   "metadata": {
    "pycharm": {
     "name": "#%%\n"
    }
   },
   "outputs": [
    {
     "data": {
      "text/plain": [
       "<matplotlib.collections.QuadMesh at 0x7fd468078a30>"
      ]
     },
     "execution_count": 20,
     "metadata": {},
     "output_type": "execute_result"
    },
    {
     "data": {
      "image/png": "[encoded data removed]",
      "text/plain": [
       "<Figure size 432x288 with 2 Axes>"
      ]
     },
     "metadata": {
      "needs_background": "light"
     },
     "output_type": "display_data"
    }
   ],
   "source": [
    "ds_all['TGCLDCWP_incld'].where(ds_all['CLDFREE']<.99).mean('time').plot()"
   ]
  },
  {
   "cell_type": "code",
   "execution_count": 21,
   "id": "988f97c5-8eab-41e8-8710-0a06197d397d",
   "metadata": {
    "pycharm": {
     "name": "#%%\n"
    }
   },
   "outputs": [
    {
     "data": {
      "text/plain": [
       "<matplotlib.collections.QuadMesh at 0x7fd467fd9cd0>"
      ]
     },
     "execution_count": 21,
     "metadata": {},
     "output_type": "execute_result"
    },
    {
     "data": {
      "image/png": "[encoded data removed]",
      "text/plain": [
       "<Figure size 432x288 with 2 Axes>"
      ]
     },
     "metadata": {
      "needs_background": "light"
     },
     "output_type": "display_data"
    }
   ],
   "source": [
    "ds_all['TGCLDCWP_incld'].mean('time').plot()"
   ]
  },
  {
   "cell_type": "code",
   "execution_count": 22,
   "id": "d93dd76d-567c-4c21-9316-063483405ec7",
   "metadata": {
    "pycharm": {
     "name": "#%%\n"
    }
   },
   "outputs": [
    {
     "data": {
      "text/plain": [
       "<matplotlib.collections.QuadMesh at 0x7fd468095160>"
      ]
     },
     "execution_count": 22,
     "metadata": {},
     "output_type": "execute_result"
    },
    {
     "data": {
      "image/png": "[encoded data removed]",
      "text/plain": [
       "<Figure size 432x288 with 2 Axes>"
      ]
     },
     "metadata": {
      "needs_background": "light"
     },
     "output_type": "display_data"
    }
   ],
   "source": [
    "ds_all['TGCLDCWP'].mean('time').plot()"
   ]
  },
  {
   "cell_type": "code",
   "execution_count": 23,
   "id": "8e53b4a4-f973-4dbb-b495-5522d0eab637",
   "metadata": {
    "pycharm": {
     "name": "#%%\n"
    }
   },
   "outputs": [
    {
     "data": {
      "text/plain": [
       "<matplotlib.collections.QuadMesh at 0x7fd467e0fa30>"
      ]
     },
     "execution_count": 23,
     "metadata": {},
     "output_type": "execute_result"
    },
    {
     "data": {
      "image/png": "[encoded data removed]",
      "text/plain": [
       "<Figure size 432x288 with 2 Axes>"
      ]
     },
     "metadata": {
      "needs_background": "light"
     },
     "output_type": "display_data"
    }
   ],
   "source": [
    "ds_all['TOT_CLD_VISTAU_s'].mean('time').plot()"
   ]
  },
  {
   "cell_type": "code",
   "execution_count": 24,
   "id": "59fe2b77-6cfb-4cb3-9d36-2257ded55078",
   "metadata": {
    "pycharm": {
     "name": "#%%\n"
    }
   },
   "outputs": [
    {
     "data": {
      "text/plain": [
       "<matplotlib.collections.QuadMesh at 0x7fd467a00ee0>"
      ]
     },
     "execution_count": 24,
     "metadata": {},
     "output_type": "execute_result"
    },
    {
     "data": {
      "image/png": "[encoded data removed]",
      "text/plain": [
       "<Figure size 432x288 with 2 Axes>"
      ]
     },
     "metadata": {
      "needs_background": "light"
     },
     "output_type": "display_data"
    }
   ],
   "source": [
    "ds_all['TOT_CLD_VISTAU_s_incld'].mean('time').plot()"
   ]
  },
  {
   "cell_type": "code",
   "execution_count": 25,
   "id": "d4b37032-4a11-4891-8e1e-9c01a8b35a79",
   "metadata": {
    "pycharm": {
     "name": "#%%\n"
    }
   },
   "outputs": [
    {
     "data": {
      "text/plain": [
       "<matplotlib.collections.QuadMesh at 0x7fd467939d30>"
      ]
     },
     "execution_count": 25,
     "metadata": {},
     "output_type": "execute_result"
    },
    {
     "data": {
      "image/png": "[encoded data removed]",
      "text/plain": [
       "<Figure size 432x288 with 2 Axes>"
      ]
     },
     "metadata": {
      "needs_background": "light"
     },
     "output_type": "display_data"
    }
   ],
   "source": [
    "ds_all['TOT_CLD_VISTAU_s_incld'].where(ds_all['CLDFREE']<.99).mean('time').plot()"
   ]
  },
  {
   "cell_type": "markdown",
   "id": "b1f512da-4f02-42c1-b011-1cf512b4ab8a",
   "metadata": {
    "pycharm": {
     "name": "#%% md\n"
    }
   },
   "source": [
    "### Finally produce daily median dataframe:"
   ]
  },
  {
   "cell_type": "code",
   "execution_count": 27,
   "id": "b39d4fdb-af37-4f09-9e7f-3b5f0c475361",
   "metadata": {
    "pycharm": {
     "name": "#%%\n"
    }
   },
   "outputs": [],
   "source": [
    "dic_ds = dict()\n",
    "dic_ds[case_name] =ds_all"
   ]
  },
  {
   "cell_type": "code",
   "execution_count": 28,
   "id": "a4efaf51-26ba-4748-abcd-48fe52588d4f",
   "metadata": {
    "pycharm": {
     "name": "#%%\n"
    }
   },
   "outputs": [],
   "source": [
    "from timeit import default_timer as timer\n",
    "\n"
   ]
  },
  {
   "cell_type": "code",
   "execution_count": 30,
   "id": "efd1a5fb-9a13-4f5a-8ad1-a80f73ecb537",
   "metadata": {
    "pycharm": {
     "name": "#%%\n"
    }
   },
   "outputs": [
    {
     "name": "stdout",
     "output_type": "stream",
     "text": [
      "<xarray.Dataset>\n",
      "Dimensions:            (time: 61344, lat: 6, lon: 7)\n",
      "Coordinates:\n",
      "    ilev               float64 ...\n",
      "  * lat                (lat) float64 60.79 61.73 62.67 63.61 64.55 65.5\n",
      "    lev                float64 ...\n",
      "  * lon                (lon) float64 22.5 23.75 25.0 26.25 27.5 28.75 30.0\n",
      "  * time               (time) datetime64[ns] 2012-01-02 ... 2018-12-31T23:00:00\n",
      "Data variables: (12/193)\n",
      "    NMR13              (time, lat, lon) float32 ...\n",
      "    nscur              (time) int32 ...\n",
      "    hybm               (time) float64 ...\n",
      "    T                  (time, lat, lon) float32 ...\n",
      "    EC550AER           (time, lat, lon) float32 ...\n",
      "    FLNS               (time, lat, lon) float32 ...\n",
      "    ...                 ...\n",
      "    OAG                (time, lat, lon) float64 ...\n",
      "    OA                 (time, lat, lon) float64 ...\n",
      "    POA                (time, lat, lon) float64 ...\n",
      "    SO4                (time, lat, lon) float64 ...\n",
      "    optical_depth      (time, lat, lon) float32 ...\n",
      "    transmittance      (time, lat, lon) float32 ...\n",
      "Attributes:\n",
      "    Conventions:       CF-1.0\n",
      "    source:            CAM\n",
      "    case:              OsloAero_intBVOC_f09_f09_mg17_full\n",
      "    logname:           x_sarbl\n",
      "    host:              \n",
      "    initial_file:      spinup_freemet_f09_f09_mg17_from2000.cam.i.2011-01-01-...\n",
      "    topography_file:   /proj/cesm_input-data/inputdata/noresm-only/inputForNu...\n",
      "    model_doi_url:     https://doi.org/10.5065/D67H1H0V\n",
      "    time_period_freq:  hour_1\n",
      "    history:           Mon Apr 11 21:44:12 2022: ncrcat /proj/bolinc/users/x_...\n",
      "    NCO:               netCDF Operators version 4.7.9 (Homepage = http://nco....\n",
      "Masking with 5<COT<50!\n",
      "Masking with 50>CWP!\n",
      "Masking with r_eff>5!\n",
      "467.80839078407735\n",
      "DONE! That took 467.80839078407735 seconds\n",
      "That is  7.796806513067955 minuts\n"
     ]
    }
   ],
   "source": [
    "if not fn_comb_lev1_final_csv.exists():\n",
    "    start = timer()\n",
    "    for key in dic_ds:\n",
    "        dic_ds[key] = dic_ds[key].rename(rn_dic_noresm_cloud)\n",
    "\n",
    "    dic_df = get_dic_df_mod(dic_ds, select_hours_clouds=True, summer_months=[7,8])\n",
    "\n",
    "    df_mod = dic_df[case_name]\n",
    "    df_mod.to_csv(fn_comb_lev1_final_csv)\n",
    "    end = timer()\n",
    "    print(end - start) # Time in seconds, e.g. 5.38091952400282\n",
    "    print(f'DONE! That took {(end-start)} seconds')    \n",
    "    print(f'That is  {((end-start)/60)} minuts')"
   ]
  },
  {
   "cell_type": "code",
   "execution_count": null,
   "id": "8563987c-2c9b-4db2-a45b-a0bec3dc1d69",
   "metadata": {
    "pycharm": {
     "name": "#%%\n"
    }
   },
   "outputs": [],
   "source": []
  },
  {
   "cell_type": "markdown",
   "id": "e86315b2-4730-4d88-bb31-10786900d07f",
   "metadata": {
    "pycharm": {
     "name": "#%% md\n"
    }
   },
   "source": [
    "## ECHAM-SALSA"
   ]
  },
  {
   "cell_type": "markdown",
   "id": "32bcd6d9-9a18-4118-8e29-89a28c99e78a",
   "metadata": {
    "pycharm": {
     "name": "#%% md\n"
    }
   },
   "source": [
    "### Names etc"
   ]
  },
  {
   "cell_type": "code",
   "execution_count": 31,
   "id": "f4749a0c-182b-43fc-8132-095060136784",
   "metadata": {
    "pycharm": {
     "name": "#%%\n"
    }
   },
   "outputs": [],
   "source": [
    "\n",
    "case_name = 'SALSA_BSOA_feedback'\n",
    "case_name_echam = 'SALSA_BSOA_feedback'\n",
    "time_res = 'hour'\n",
    "space_res='locations'\n",
    "model_name='ECHAM-SALSA'\n",
    "model_name_echam  ='ECHAM-SALSA'"
   ]
  },
  {
   "cell_type": "markdown",
   "id": "d0efcde9-a992-473b-9f26-d9d8b8625efd",
   "metadata": {
    "pycharm": {
     "name": "#%% md\n"
    }
   },
   "source": [
    "### Input path:"
   ]
  },
  {
   "cell_type": "code",
   "execution_count": 32,
   "id": "f5fe4362-23ff-406f-ae32-2dd1caa3fd05",
   "metadata": {
    "pycharm": {
     "name": "#%%\n"
    }
   },
   "outputs": [],
   "source": [
    "input_path_echam = path_extract_latlon_outdata / model_name_echam / case_name_echam "
   ]
  },
  {
   "cell_type": "code",
   "execution_count": 33,
   "id": "b9e390c4-bb07-4b96-8bb0-158dcfbe0dab",
   "metadata": {
    "pycharm": {
     "name": "#%%\n"
    }
   },
   "outputs": [],
   "source": [
    "\n",
    "cases_echam = [case_name_echam]"
   ]
  },
  {
   "cell_type": "markdown",
   "id": "7da3e694-1c84-47ab-982d-5654981a6775",
   "metadata": {
    "pycharm": {
     "name": "#%% md\n"
    }
   },
   "source": [
    "### Station variables  and others"
   ]
  },
  {
   "cell_type": "code",
   "execution_count": 34,
   "id": "ffc92741-b1d3-4fbd-b62f-a7ff7858e3cb",
   "metadata": {
    "lines_to_next_cell": 2,
    "pycharm": {
     "name": "#%%\n"
    }
   },
   "outputs": [],
   "source": [
    "varl_st_echam = [\n",
    "    'mmrtrN500',\n",
    "    'mmrtrN250',\n",
    "    'mmrtrN200',\n",
    "    'mmrtrN100',\n",
    "    'mmrtrN50',\n",
    "    'mmrtrN3',\n",
    "    'SO2_gas',\n",
    "    'APIN_gas',\n",
    "    'TBETAOCI_gas',\n",
    "    'BPIN_gas',\n",
    "    'LIMON_gas',\n",
    "    'SABIN_gas',\n",
    "    'MYRC_gas',\n",
    "    'CARENE3_gas',\n",
    "    'ISOP_gas',\n",
    "    'VBS0_gas',\n",
    "    'V*BS1_gas',\n",
    "    'VBS10_gas',\n",
    "    'ORG_mass',\n",
    "    'oh_con',\n",
    "    'tempair',\n",
    "    'ccn02',\n",
    "    'ccn10',\n",
    "]\n",
    "\n",
    "\n",
    "varl_cl_echam = [\n",
    "    'airdens',\n",
    "    'uw',\n",
    "    'vw',\n",
    "    'cod',\n",
    "    'cwp',\n",
    "    'ceff',\n",
    "    'ceff_ct',\n",
    "    'lcdnc',\n",
    "    'lcdnc_ct',\n",
    "    'clfr',\n",
    "    'cl_time',\n",
    "    'aot550nm',\n",
    "    'up_sw',\n",
    "    'up_sw_cs',\n",
    "    'up_sw_noa',\n",
    "    'up_sw_cs_noa',\n",
    "    'up_lw',\n",
    "    'up_lw_cs',\n",
    "    'up_lw_noa',\n",
    "    'up_lw_cs_noa',\n",
    "    'emi_monot_bio',\n",
    "    'emi_isop_bio',\n",
    "           ]"
   ]
  },
  {
   "cell_type": "markdown",
   "id": "5ba83490-c834-417a-be7e-6edc494a5ea9",
   "metadata": {
    "tags": [],
    "pycharm": {
     "name": "#%% md\n"
    }
   },
   "source": [
    "### Define some strings for files"
   ]
  },
  {
   "cell_type": "code",
   "execution_count": 35,
   "id": "aa6a1dc3-3de2-494d-b602-7bc953cc4ca7",
   "metadata": {
    "pycharm": {
     "name": "#%%\n"
    }
   },
   "outputs": [
    {
     "data": {
      "text/plain": [
       "'22.0-30.0_60.0-66.0'"
      ]
     },
     "execution_count": 35,
     "metadata": {},
     "output_type": "execute_result"
    }
   ],
   "source": [
    "\n",
    "str_from_t = pd.to_datetime(from_time1).strftime('%Y%m')\n",
    "str_to = pd.to_datetime(to_time2).strftime('%Y%m')\n",
    "str_lonlim = '%.1f-%.1f'%(*lon_lims,)\n",
    "str_latlim = '%.1f-%.1f'%(*lat_lims,)\n",
    "str_coordlims = f'{str_lonlim}_{str_latlim}'\n",
    "str_coordlims"
   ]
  },
  {
   "cell_type": "markdown",
   "id": "2aef19a6-ac94-4906-b0c7-daf1033eac6d",
   "metadata": {
    "pycharm": {
     "name": "#%% md\n"
    }
   },
   "source": [
    "### Filenames: "
   ]
  },
  {
   "cell_type": "code",
   "execution_count": 36,
   "id": "8aaf82dd-0799-4396-88f5-6c4f2f31cb88",
   "metadata": {
    "pycharm": {
     "name": "#%%\n"
    }
   },
   "outputs": [],
   "source": [
    "fn_final_echam = input_path_echam / f'{case_name}_{from_time1}-{to_time2}_ALL-VARS_concat_subs_{str_coordlims}.nc'\n",
    "fn_final_echam_csv = input_path_echam / f'{case_name}_{from_time1}-{to_time2}_ALL-VARS_concat_subs_{str_coordlims}.csv'"
   ]
  },
  {
   "cell_type": "code",
   "execution_count": 37,
   "id": "1ae3941f-12f4-44a7-9662-3b4bdfc42b03",
   "metadata": {
    "pycharm": {
     "name": "#%%\n"
    }
   },
   "outputs": [
    {
     "data": {
      "text/plain": [
       "PosixPath('/proj/bolinc/users/x_sarbl/analysis/Output_data_BS-FDBCK/extracted_latlon_subset/ECHAM-SALSA/SALSA_BSOA_feedback/SALSA_BSOA_feedback_2012-01-01-2019-01-01_ALL-VARS_concat_subs_22.0-30.0_60.0-66.0.nc')"
      ]
     },
     "execution_count": 37,
     "metadata": {},
     "output_type": "execute_result"
    }
   ],
   "source": [
    "fn_final_echam"
   ]
  },
  {
   "cell_type": "markdown",
   "id": "72b9abe9-82f7-489d-92c8-eb9ac62aa006",
   "metadata": {
    "pycharm": {
     "name": "#%% md\n"
    }
   },
   "source": [
    "### Open data"
   ]
  },
  {
   "cell_type": "code",
   "execution_count": 38,
   "id": "d2561eaa-01e4-47e7-ae83-2437c6aee5db",
   "metadata": {
    "pycharm": {
     "name": "#%%\n"
    }
   },
   "outputs": [],
   "source": [
    "fl_open = []\n",
    "\n",
    "for v in varl_cl_echam+ varl_st_echam:\n",
    "    fn = input_path_echam / f'{case_name}_{from_time1}-{to_time2}_{v}_concat_subs_{str_coordlims}.nc'\n",
    "    if fn.exists():\n",
    "        fl_open.append(fn)"
   ]
  },
  {
   "cell_type": "code",
   "execution_count": 39,
   "id": "ea63dac6-9314-43de-a6d8-6dc9d3e27351",
   "metadata": {
    "pycharm": {
     "name": "#%%\n"
    }
   },
   "outputs": [
    {
     "data": {
      "text/plain": [
       "29"
      ]
     },
     "execution_count": 39,
     "metadata": {},
     "output_type": "execute_result"
    }
   ],
   "source": [
    "len(fl_open)"
   ]
  },
  {
   "cell_type": "markdown",
   "id": "a867e3ee-a526-44ac-a4e8-fa0f461579de",
   "metadata": {
    "tags": [],
    "pycharm": {
     "name": "#%% md\n"
    }
   },
   "source": [
    "### Open files, decode time, drop excess coords, select bottom layer, broadcast station vars to whole grid and compute units etc"
   ]
  },
  {
   "cell_type": "code",
   "execution_count": null,
   "id": "89e43ee3-8590-4ee8-b7f9-50aaa877c011",
   "metadata": {
    "pycharm": {
     "name": "#%%\n"
    }
   },
   "outputs": [],
   "source": []
  },
  {
   "cell_type": "code",
   "execution_count": 40,
   "id": "4eccff6c-3029-4170-93b2-90398645dc6b",
   "metadata": {
    "lines_to_next_cell": 2,
    "pycharm": {
     "name": "#%%\n"
    }
   },
   "outputs": [],
   "source": [
    "if not fn_final_echam.exists():\n",
    "    ds_all = xr.open_mfdataset(fl_open, decode_cf = False)\n",
    "    #ds_iso = xr.open_dataset(fl_open[21])\n",
    "    #ds = xr.merge([ds_iso,ds])\n",
    "    ds_all = import_fields_xr_echam.decode_cf_echam(ds_all)\n",
    "    ds_all = extract_2D_cloud_time_echam(ds_all) \n",
    "    \n",
    "    #ds_sel = ds_all.sel(lat = lat_smr, lon= lon_smr, method='nearest').isel( lev=model_lev_i)#.load()\n",
    "    ds_all = ds_all.squeeze()\n",
    "    \n",
    "    ds_all=ds_all.drop(['hyai','hybi','hyam','hybm']).squeeze()\n",
    "    ds_all = ds_all.isel( lev=model_lev_i)\n",
    "    \n",
    "\n",
    "    ds_all = broadcase_station_data(ds_all, varl_st=varl_st_echam)\n",
    "    \n",
    "\n",
    "    ds_all = change_units_and_compute_vars_echam(ds_all)\n",
    "    delayed_obj = ds_all.to_netcdf(fn_final_echam, compute=False)\n",
    "    print('hey')\n",
    "    with ProgressBar():\n",
    "        results = delayed_obj.compute()"
   ]
  },
  {
   "cell_type": "code",
   "execution_count": 41,
   "id": "b64dc097-1f09-486c-b40c-110571f3d4be",
   "metadata": {
    "pycharm": {
     "name": "#%%\n"
    }
   },
   "outputs": [
    {
     "data": {
      "text/plain": [
       "<matplotlib.collections.QuadMesh at 0x7fd3a430bbb0>"
      ]
     },
     "execution_count": 41,
     "metadata": {},
     "output_type": "execute_result"
    },
    {
     "data": {
      "image/png": "[encoded data removed]",
      "text/plain": [
       "<Figure size 432x288 with 2 Axes>"
      ]
     },
     "metadata": {
      "needs_background": "light"
     },
     "output_type": "display_data"
    }
   ],
   "source": [
    "ds_all = xr.open_dataset(fn_final_echam)\n",
    "ds_all['N50'].mean('time').plot()#.isel(lat=0, time=0).plot()#.shape#.plot()"
   ]
  },
  {
   "cell_type": "code",
   "execution_count": 42,
   "id": "2a363d88-5e07-4e35-a79a-f7927476d67c",
   "metadata": {
    "pycharm": {
     "name": "#%%\n"
    }
   },
   "outputs": [
    {
     "data": {
      "text/plain": [
       "[<matplotlib.lines.Line2D at 0x7fd317116f70>]"
      ]
     },
     "execution_count": 42,
     "metadata": {},
     "output_type": "execute_result"
    },
    {
     "data": {
      "image/png": "[encoded data removed]",
      "text/plain": [
       "<Figure size 432x288 with 1 Axes>"
      ]
     },
     "metadata": {
      "needs_background": "light"
     },
     "output_type": "display_data"
    }
   ],
   "source": [
    "ds_all['cwp'].isel(lat=1, lon=1).plot()"
   ]
  },
  {
   "cell_type": "markdown",
   "id": "0ac37b76-b68d-4537-ad51-f0b62c04538e",
   "metadata": {
    "pycharm": {
     "name": "#%% md\n"
    }
   },
   "source": [
    "### Fix time for echam"
   ]
  },
  {
   "cell_type": "markdown",
   "id": "e579c138-cd0d-4bbe-95be-3af2633ed525",
   "metadata": {
    "pycharm": {
     "name": "#%% md\n"
    }
   },
   "source": [
    "### Finally produce daily median dataframe:"
   ]
  },
  {
   "cell_type": "code",
   "execution_count": 43,
   "id": "7e2f9dbb-0ef7-402d-a50c-a2a116bad702",
   "metadata": {
    "pycharm": {
     "name": "#%%\n"
    }
   },
   "outputs": [
    {
     "data": {
      "text/plain": [
       "{'cwp_incld': 'CWP', 'cod_incld': 'COT', 'ceff_ct_incld': 'r_eff'}"
      ]
     },
     "execution_count": 43,
     "metadata": {},
     "output_type": "execute_result"
    }
   ],
   "source": [
    "rn_dic_echam_cloud"
   ]
  },
  {
   "cell_type": "code",
   "execution_count": 44,
   "id": "82b4bee8-6a4c-46a5-b199-002a38496e8c",
   "metadata": {
    "pycharm": {
     "name": "#%%\n"
    }
   },
   "outputs": [
    {
     "data": {
      "text/plain": [
       "{'cwp_incld': 'CWP', 'cod_incld': 'COT', 'ceff_ct_incld': 'r_eff'}"
      ]
     },
     "execution_count": 44,
     "metadata": {},
     "output_type": "execute_result"
    }
   ],
   "source": [
    "rn_dic_echam_cloud"
   ]
  },
  {
   "cell_type": "code",
   "execution_count": 45,
   "id": "faa2a0df-3d64-4626-b2a1-b1d74c7a0de8",
   "metadata": {
    "pycharm": {
     "name": "#%%\n"
    }
   },
   "outputs": [],
   "source": [
    "dic_ds = dict()\n",
    "dic_ds[case_name] =ds_all"
   ]
  },
  {
   "cell_type": "code",
   "execution_count": 46,
   "id": "10bf58de-16a2-4555-8929-ed0e9b74c9db",
   "metadata": {
    "pycharm": {
     "name": "#%%\n"
    }
   },
   "outputs": [
    {
     "name": "stdout",
     "output_type": "stream",
     "text": [
      "<xarray.Dataset>\n",
      "Dimensions:           (time: 61368, lat: 3, lon: 5)\n",
      "Coordinates:\n",
      "  * lat               (lat) float64 64.35 62.49 60.62\n",
      "    lev               float64 ...\n",
      "  * lon               (lon) float64 22.5 24.38 26.25 28.12 30.0\n",
      "  * time              (time) datetime64[ns] 2012-01-01T00:52:30 ... 2018-12-3...\n",
      "Data variables: (12/45)\n",
      "    ORG_mass          (time, lat, lon) float32 ...\n",
      "    airdens           (time, lat, lon) float32 ...\n",
      "    aot550nm          (time, lat, lon) float32 ...\n",
      "    ccn02             (time, lat, lon) float32 ...\n",
      "    ccn10             (time, lat, lon) float32 ...\n",
      "    ceff              (time, lat, lon) float32 ...\n",
      "    ...                ...\n",
      "    N200              (time, lat, lon) float32 ...\n",
      "    OA                (time, lat, lon) float32 ...\n",
      "    cwp               (time, lat, lon) float32 ...\n",
      "    CWP               (time, lat, lon) float32 ...\n",
      "    lcdnc_cm3         (time, lat, lon) float32 ...\n",
      "    T_C               (time, lat, lon) float32 ...\n",
      "Attributes:\n",
      "    CDI:          Climate Data Interface version 1.9.7.1 (http://mpimet.mpg.d...\n",
      "    Conventions:  CF-1.6\n",
      "    history:      Mon May  9 21:35:10 2022: ncrcat /proj/bolinc/users/x_sarbl...\n",
      "    CDO:          Climate Data Operators version 1.9.7.1 (http://mpimet.mpg.d...\n",
      "    NCO:          netCDF Operators version 4.7.9 (Homepage = http://nco.sf.ne...\n",
      "Masking with 5<COT<50!\n",
      "Masking with 50>CWP!\n",
      "Masking with r_eff>5!\n"
     ]
    }
   ],
   "source": [
    "if not fn_final_echam_csv.exists():\n",
    "    for key in dic_ds:\n",
    "        dic_ds[key] = dic_ds[key].rename(rn_dic_echam_cloud)\n",
    "\n",
    "        dic_df = get_dic_df_mod(dic_ds, select_hours_clouds=True, summer_months=[7,8])\n",
    "\n",
    "    df_mod = dic_df[case_name]\n",
    "    df_mod.to_csv(fn_final_echam_csv)"
   ]
  },
  {
   "cell_type": "code",
   "execution_count": 47,
   "id": "162283f2-b253-42c5-9106-bd4e57ed4c26",
   "metadata": {
    "lines_to_next_cell": 2,
    "pycharm": {
     "name": "#%%\n"
    }
   },
   "outputs": [
    {
     "data": {
      "text/plain": [
       "PosixPath('/proj/bolinc/users/x_sarbl/analysis/Output_data_BS-FDBCK/extracted_latlon_subset/OsloAero_intBVOC_f09_f09_mg17_fssp245/OsloAero_intBVOC_f09_f09_mg17_fssp245.h1._2012-01-01-2019-01-01_concat_subs_22.0-30.0_60.0-66.0_lev1_final.csv')"
      ]
     },
     "execution_count": 47,
     "metadata": {},
     "output_type": "execute_result"
    }
   ],
   "source": [
    "fn_comb_lev1_final_csv#.exists()"
   ]
  },
  {
   "cell_type": "code",
   "execution_count": 48,
   "id": "5cd2550e-5afe-4caa-a9fc-648228abdda0",
   "metadata": {
    "pycharm": {
     "name": "#%%\n"
    }
   },
   "outputs": [],
   "source": [
    "_df = pd.read_csv(fn_comb_lev1_final_csv, index_col=0)#[_df['isSummer'].notnull()]"
   ]
  },
  {
   "cell_type": "code",
   "execution_count": 49,
   "id": "2cfb9566-9175-4416-b887-347662d79d79",
   "metadata": {
    "pycharm": {
     "name": "#%%\n"
    }
   },
   "outputs": [],
   "source": [
    "_df = _df[_df['isSummer'].notnull()]"
   ]
  },
  {
   "cell_type": "code",
   "execution_count": 50,
   "id": "94b0a884-45d2-4370-afc9-6f85491a20ae",
   "metadata": {
    "pycharm": {
     "name": "#%%\n"
    }
   },
   "outputs": [
    {
     "data": {
      "text/plain": [
       "Int64Index([7, 8], dtype='int64', name='time')"
      ]
     },
     "execution_count": 50,
     "metadata": {},
     "output_type": "execute_result"
    }
   ],
   "source": [
    "pd.to_datetime(_df.index).month.unique()"
   ]
  },
  {
   "cell_type": "code",
   "execution_count": 49,
   "id": "f6860b80-65e1-4bb5-b911-a150393ee7ce",
   "metadata": {
    "pycharm": {
     "name": "#%%\n"
    }
   },
   "outputs": [
    {
     "data": {
      "text/plain": [
       "PosixPath('/proj/bolinc/users/x_sarbl/analysis/Output_data_BS-FDBCK/extracted_latlon_subset/ECHAM-SALSA/SALSA_BSOA_feedback/SALSA_BSOA_feedback_2012-01-01-2019-01-01_ALL-VARS_concat_subs_22.0-30.0_60.0-66.0.csv')"
      ]
     },
     "execution_count": 49,
     "metadata": {},
     "output_type": "execute_result"
    }
   ],
   "source": [
    "fn_final_echam_csv"
   ]
  },
  {
   "cell_type": "code",
   "execution_count": null,
   "id": "0ae50ee9-ad46-4d24-b5b6-ddf05865caaa",
   "metadata": {
    "pycharm": {
     "name": "#%%\n"
    }
   },
   "outputs": [],
   "source": []
  }
 ],
 "metadata": {
  "jupytext": {
   "formats": "ipynb,py:percent"
  },
  "kernelspec": {
   "display_name": "Python 3 (ipykernel)",
   "language": "python",
   "name": "python3"
  },
  "language_info": {
   "codemirror_mode": {
    "name": "ipython",
    "version": 3
   },
   "file_extension": ".py",
   "mimetype": "text/x-python",
   "name": "python",
   "nbconvert_exporter": "python",
   "pygments_lexer": "ipython3",
   "version": "3.8.10"
  }
 },
 "nbformat": 4,
 "nbformat_minor": 5
}