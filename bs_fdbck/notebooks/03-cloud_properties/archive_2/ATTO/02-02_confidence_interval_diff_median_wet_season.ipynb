{
 "cells": [
  {
   "cell_type": "code",
   "execution_count": 2,
   "id": "6d1e31e4-df14-48fa-a659-e979752d254e",
   "metadata": {
    "tags": []
   },
   "outputs": [],
   "source": [
    "import xarray as xr\n",
    "\n",
    "import pandas as pd\n",
    "import matplotlib.pyplot as plt\n",
    "from pathlib import Path\n",
    "from bs_fdbck.constants import path_extract_latlon_outdata\n",
    "from dask.diagnostics import ProgressBar\n",
    "import seaborn as sns\n",
    "import numpy as np\n",
    "\n",
    "import pandas as pd\n",
    "\n",
    "from bs_fdbck.constants import path_measurement_data\n",
    "\n",
    "%load_ext autoreload\n",
    "%autoreload 2\n",
    "\n",
    "from bs_fdbck.util.BSOA_datamanip import compute_total_tau, broadcase_station_data, change_units_and_compute_vars, \\\n",
    "    get_dic_df_mod\n",
    "\n",
    "xr.set_options(keep_attrs=True) \n",
    "\n",
    "import numpy as np\n",
    "\n",
    "import matplotlib.cm as cm\n",
    "from matplotlib.patches import Patch\n",
    "from matplotlib.lines import Line2D"
   ]
  },
  {
   "cell_type": "markdown",
   "id": "9d90c373-6272-4d1b-b7ec-a3d79e4b2d35",
   "metadata": {},
   "source": [
    "### Filename for saved plots"
   ]
  },
  {
   "cell_type": "code",
   "execution_count": 3,
   "id": "5e02b10e-5d24-4d14-894d-4a3de9d3a58d",
   "metadata": {},
   "outputs": [],
   "source": [
    "season = 'WET'"
   ]
  },
  {
   "cell_type": "code",
   "execution_count": 4,
   "id": "961358b0-c637-4a00-b0a9-9cc33e6d6312",
   "metadata": {
    "lines_to_next_cell": 2,
    "tags": []
   },
   "outputs": [],
   "source": [
    "def make_fn(case, v_x, v_y, comment='', relplot = False, distplot=False):\n",
    "    _x = v_x.split('(')[0]\n",
    "    _y = v_y.split('(')[0]\n",
    "    f = f'cloud_props_ATTO_{season}_{comment}_{case}_{_x}_{_y}.png'\n",
    "    if relplot:\n",
    "        return plot_path_relplot/f\n",
    "    if distplot:\n",
    "        return plot_path_distplot/f\n",
    "\n",
    "    return plot_path /f\n",
    "\n",
    "\n",
    "\n",
    "\n",
    "plot_path = Path('Plots')\n",
    "plot_path.mkdir(parents=True, exist_ok=True) \n",
    "\n",
    "plot_path_distplot = plot_path/'dist_plot'\n",
    "plot_path_distplot.mkdir(parents=True, exist_ok=True) \n",
    "\n",
    "plot_path_relplot = plot_path/'rel_plot'\n",
    "plot_path_relplot.mkdir(parents=True, exist_ok=True) "
   ]
  },
  {
   "cell_type": "markdown",
   "id": "b2309d9a",
   "metadata": {},
   "source": [
    "## Load observational data"
   ]
  },
  {
   "cell_type": "code",
   "execution_count": 5,
   "id": "81f8021b",
   "metadata": {
    "lines_to_next_cell": 2
   },
   "outputs": [
    {
     "data": {
      "text/html": [
       "<div>\n",
       "<style scoped>\n",
       "    .dataframe tbody tr th:only-of-type {\n",
       "        vertical-align: middle;\n",
       "    }\n",
       "\n",
       "    .dataframe tbody tr th {\n",
       "        vertical-align: top;\n",
       "    }\n",
       "\n",
       "    .dataframe thead th {\n",
       "        text-align: right;\n",
       "    }\n",
       "</style>\n",
       "<table border=\"1\" class=\"dataframe\">\n",
       "  <thead>\n",
       "    <tr style=\"text-align: right;\">\n",
       "      <th></th>\n",
       "      <th>year</th>\n",
       "      <th>month</th>\n",
       "      <th>day</th>\n",
       "      <th>LAT</th>\n",
       "      <th>LON</th>\n",
       "      <th>OA (microgram m^-3)</th>\n",
       "      <th>CWP (g m^-2)</th>\n",
       "      <th>CER (micrometer)</th>\n",
       "      <th>COT</th>\n",
       "    </tr>\n",
       "  </thead>\n",
       "  <tbody>\n",
       "    <tr>\n",
       "      <th>0</th>\n",
       "      <td>2012</td>\n",
       "      <td>7</td>\n",
       "      <td>5</td>\n",
       "      <td>60.5</td>\n",
       "      <td>22.5</td>\n",
       "      <td>3.218589</td>\n",
       "      <td>191</td>\n",
       "      <td>12.940000</td>\n",
       "      <td>26.219999</td>\n",
       "    </tr>\n",
       "    <tr>\n",
       "      <th>1</th>\n",
       "      <td>2012</td>\n",
       "      <td>7</td>\n",
       "      <td>10</td>\n",
       "      <td>60.5</td>\n",
       "      <td>22.5</td>\n",
       "      <td>4.714353</td>\n",
       "      <td>172</td>\n",
       "      <td>10.950000</td>\n",
       "      <td>24.430000</td>\n",
       "    </tr>\n",
       "    <tr>\n",
       "      <th>2</th>\n",
       "      <td>2012</td>\n",
       "      <td>7</td>\n",
       "      <td>14</td>\n",
       "      <td>60.5</td>\n",
       "      <td>22.5</td>\n",
       "      <td>1.451827</td>\n",
       "      <td>106</td>\n",
       "      <td>15.790000</td>\n",
       "      <td>12.030000</td>\n",
       "    </tr>\n",
       "    <tr>\n",
       "      <th>3</th>\n",
       "      <td>2012</td>\n",
       "      <td>7</td>\n",
       "      <td>19</td>\n",
       "      <td>60.5</td>\n",
       "      <td>22.5</td>\n",
       "      <td>3.101941</td>\n",
       "      <td>262</td>\n",
       "      <td>16.039999</td>\n",
       "      <td>28.650000</td>\n",
       "    </tr>\n",
       "    <tr>\n",
       "      <th>4</th>\n",
       "      <td>2012</td>\n",
       "      <td>7</td>\n",
       "      <td>22</td>\n",
       "      <td>60.5</td>\n",
       "      <td>22.5</td>\n",
       "      <td>0.875789</td>\n",
       "      <td>92</td>\n",
       "      <td>10.630000</td>\n",
       "      <td>14.820000</td>\n",
       "    </tr>\n",
       "  </tbody>\n",
       "</table>\n",
       "</div>"
      ],
      "text/plain": [
       "   year  month  day   LAT   LON  OA (microgram m^-3)  CWP (g m^-2)  \\\n",
       "0  2012      7    5  60.5  22.5             3.218589           191   \n",
       "1  2012      7   10  60.5  22.5             4.714353           172   \n",
       "2  2012      7   14  60.5  22.5             1.451827           106   \n",
       "3  2012      7   19  60.5  22.5             3.101941           262   \n",
       "4  2012      7   22  60.5  22.5             0.875789            92   \n",
       "\n",
       "   CER (micrometer)        COT  \n",
       "0         12.940000  26.219999  \n",
       "1         10.950000  24.430000  \n",
       "2         15.790000  12.030000  \n",
       "3         16.039999  28.650000  \n",
       "4         10.630000  14.820000  "
      ]
     },
     "execution_count": 5,
     "metadata": {},
     "output_type": "execute_result"
    }
   ],
   "source": [
    "fn = path_measurement_data / 'SourceData_Yli_Juuti2021.xls'\n",
    "\n",
    "df_hyy_1 = pd.read_excel(fn, sheet_name=4, header=1,)# usecols=range(7,12),nrows=7)\n",
    "\n",
    "df_hyy_1.head()"
   ]
  },
  {
   "cell_type": "code",
   "execution_count": 6,
   "id": "6e060d35",
   "metadata": {},
   "outputs": [],
   "source": [
    "import pandas as pd"
   ]
  },
  {
   "cell_type": "code",
   "execution_count": 7,
   "id": "1b43d83b-d11d-4b00-85ca-aabd083d9b05",
   "metadata": {},
   "outputs": [],
   "source": [
    "df_hyy_1['date'] = df_hyy_1.apply(lambda x: f'{x.year:.0f}-{x.month:02.0f}-{x.day:02.0f}', axis=1)\n",
    "\n",
    "df_hyy_1['date'] = pd.to_datetime(df_hyy_1['date'] )\n",
    "\n",
    "df_hyy_1 = df_hyy_1.set_index(['date','LAT','LON'])"
   ]
  },
  {
   "cell_type": "code",
   "execution_count": 8,
   "id": "354b04d9-bce7-46c9-a4b6-a5d294a6f3f0",
   "metadata": {},
   "outputs": [],
   "source": [
    "df_hyy_1.index = df_hyy_1.index.rename({'LAT':'lat', 'LON':'lon','date':'time'})"
   ]
  },
  {
   "cell_type": "code",
   "execution_count": 9,
   "id": "eeb975d6",
   "metadata": {},
   "outputs": [
    {
     "data": {
      "text/html": [
       "<div>\n",
       "<style scoped>\n",
       "    .dataframe tbody tr th:only-of-type {\n",
       "        vertical-align: middle;\n",
       "    }\n",
       "\n",
       "    .dataframe tbody tr th {\n",
       "        vertical-align: top;\n",
       "    }\n",
       "\n",
       "    .dataframe thead th {\n",
       "        text-align: right;\n",
       "    }\n",
       "</style>\n",
       "<table border=\"1\" class=\"dataframe\">\n",
       "  <thead>\n",
       "    <tr style=\"text-align: right;\">\n",
       "      <th></th>\n",
       "      <th></th>\n",
       "      <th></th>\n",
       "      <th>year</th>\n",
       "      <th>month</th>\n",
       "      <th>day</th>\n",
       "      <th>OA (microgram m^-3)</th>\n",
       "      <th>CWP (g m^-2)</th>\n",
       "      <th>CER (micrometer)</th>\n",
       "      <th>COT</th>\n",
       "    </tr>\n",
       "    <tr>\n",
       "      <th>time</th>\n",
       "      <th>lat</th>\n",
       "      <th>lon</th>\n",
       "      <th></th>\n",
       "      <th></th>\n",
       "      <th></th>\n",
       "      <th></th>\n",
       "      <th></th>\n",
       "      <th></th>\n",
       "      <th></th>\n",
       "    </tr>\n",
       "  </thead>\n",
       "  <tbody>\n",
       "    <tr>\n",
       "      <th>2012-07-05</th>\n",
       "      <th>60.5</th>\n",
       "      <th>22.5</th>\n",
       "      <td>2012</td>\n",
       "      <td>7</td>\n",
       "      <td>5</td>\n",
       "      <td>3.218589</td>\n",
       "      <td>191</td>\n",
       "      <td>12.940000</td>\n",
       "      <td>26.219999</td>\n",
       "    </tr>\n",
       "    <tr>\n",
       "      <th>2012-07-10</th>\n",
       "      <th>60.5</th>\n",
       "      <th>22.5</th>\n",
       "      <td>2012</td>\n",
       "      <td>7</td>\n",
       "      <td>10</td>\n",
       "      <td>4.714353</td>\n",
       "      <td>172</td>\n",
       "      <td>10.950000</td>\n",
       "      <td>24.430000</td>\n",
       "    </tr>\n",
       "    <tr>\n",
       "      <th>2012-07-14</th>\n",
       "      <th>60.5</th>\n",
       "      <th>22.5</th>\n",
       "      <td>2012</td>\n",
       "      <td>7</td>\n",
       "      <td>14</td>\n",
       "      <td>1.451827</td>\n",
       "      <td>106</td>\n",
       "      <td>15.790000</td>\n",
       "      <td>12.030000</td>\n",
       "    </tr>\n",
       "    <tr>\n",
       "      <th>2012-07-19</th>\n",
       "      <th>60.5</th>\n",
       "      <th>22.5</th>\n",
       "      <td>2012</td>\n",
       "      <td>7</td>\n",
       "      <td>19</td>\n",
       "      <td>3.101941</td>\n",
       "      <td>262</td>\n",
       "      <td>16.039999</td>\n",
       "      <td>28.650000</td>\n",
       "    </tr>\n",
       "    <tr>\n",
       "      <th>2012-07-22</th>\n",
       "      <th>60.5</th>\n",
       "      <th>22.5</th>\n",
       "      <td>2012</td>\n",
       "      <td>7</td>\n",
       "      <td>22</td>\n",
       "      <td>0.875789</td>\n",
       "      <td>92</td>\n",
       "      <td>10.630000</td>\n",
       "      <td>14.820000</td>\n",
       "    </tr>\n",
       "    <tr>\n",
       "      <th>...</th>\n",
       "      <th>...</th>\n",
       "      <th>...</th>\n",
       "      <td>...</td>\n",
       "      <td>...</td>\n",
       "      <td>...</td>\n",
       "      <td>...</td>\n",
       "      <td>...</td>\n",
       "      <td>...</td>\n",
       "      <td>...</td>\n",
       "    </tr>\n",
       "    <tr>\n",
       "      <th>2018-08-13</th>\n",
       "      <th>65.5</th>\n",
       "      <th>29.5</th>\n",
       "      <td>2018</td>\n",
       "      <td>8</td>\n",
       "      <td>13</td>\n",
       "      <td>0.674785</td>\n",
       "      <td>191</td>\n",
       "      <td>15.200000</td>\n",
       "      <td>18.969999</td>\n",
       "    </tr>\n",
       "    <tr>\n",
       "      <th>2018-08-14</th>\n",
       "      <th>65.5</th>\n",
       "      <th>29.5</th>\n",
       "      <td>2018</td>\n",
       "      <td>8</td>\n",
       "      <td>14</td>\n",
       "      <td>1.356364</td>\n",
       "      <td>291</td>\n",
       "      <td>15.200000</td>\n",
       "      <td>31.449999</td>\n",
       "    </tr>\n",
       "    <tr>\n",
       "      <th>2018-08-19</th>\n",
       "      <th>65.5</th>\n",
       "      <th>29.5</th>\n",
       "      <td>2018</td>\n",
       "      <td>8</td>\n",
       "      <td>19</td>\n",
       "      <td>0.916047</td>\n",
       "      <td>139</td>\n",
       "      <td>18.230000</td>\n",
       "      <td>11.960000</td>\n",
       "    </tr>\n",
       "    <tr>\n",
       "      <th>2018-08-20</th>\n",
       "      <th>65.5</th>\n",
       "      <th>29.5</th>\n",
       "      <td>2018</td>\n",
       "      <td>8</td>\n",
       "      <td>20</td>\n",
       "      <td>1.325436</td>\n",
       "      <td>177</td>\n",
       "      <td>14.049999</td>\n",
       "      <td>19.869999</td>\n",
       "    </tr>\n",
       "    <tr>\n",
       "      <th>2018-08-27</th>\n",
       "      <th>65.5</th>\n",
       "      <th>29.5</th>\n",
       "      <td>2018</td>\n",
       "      <td>8</td>\n",
       "      <td>27</td>\n",
       "      <td>0.823307</td>\n",
       "      <td>141</td>\n",
       "      <td>17.430000</td>\n",
       "      <td>13.030000</td>\n",
       "    </tr>\n",
       "  </tbody>\n",
       "</table>\n",
       "<p>3673 rows × 7 columns</p>\n",
       "</div>"
      ],
      "text/plain": [
       "                      year  month  day  OA (microgram m^-3)  CWP (g m^-2)  \\\n",
       "time       lat  lon                                                         \n",
       "2012-07-05 60.5 22.5  2012      7    5             3.218589           191   \n",
       "2012-07-10 60.5 22.5  2012      7   10             4.714353           172   \n",
       "2012-07-14 60.5 22.5  2012      7   14             1.451827           106   \n",
       "2012-07-19 60.5 22.5  2012      7   19             3.101941           262   \n",
       "2012-07-22 60.5 22.5  2012      7   22             0.875789            92   \n",
       "...                    ...    ...  ...                  ...           ...   \n",
       "2018-08-13 65.5 29.5  2018      8   13             0.674785           191   \n",
       "2018-08-14 65.5 29.5  2018      8   14             1.356364           291   \n",
       "2018-08-19 65.5 29.5  2018      8   19             0.916047           139   \n",
       "2018-08-20 65.5 29.5  2018      8   20             1.325436           177   \n",
       "2018-08-27 65.5 29.5  2018      8   27             0.823307           141   \n",
       "\n",
       "                      CER (micrometer)        COT  \n",
       "time       lat  lon                                \n",
       "2012-07-05 60.5 22.5         12.940000  26.219999  \n",
       "2012-07-10 60.5 22.5         10.950000  24.430000  \n",
       "2012-07-14 60.5 22.5         15.790000  12.030000  \n",
       "2012-07-19 60.5 22.5         16.039999  28.650000  \n",
       "2012-07-22 60.5 22.5         10.630000  14.820000  \n",
       "...                                ...        ...  \n",
       "2018-08-13 65.5 29.5         15.200000  18.969999  \n",
       "2018-08-14 65.5 29.5         15.200000  31.449999  \n",
       "2018-08-19 65.5 29.5         18.230000  11.960000  \n",
       "2018-08-20 65.5 29.5         14.049999  19.869999  \n",
       "2018-08-27 65.5 29.5         17.430000  13.030000  \n",
       "\n",
       "[3673 rows x 7 columns]"
      ]
     },
     "execution_count": 9,
     "metadata": {},
     "output_type": "execute_result"
    }
   ],
   "source": [
    "df_hyy_1"
   ]
  },
  {
   "cell_type": "markdown",
   "id": "03308487-e9e3-4225-8048-f8db518e7fdc",
   "metadata": {},
   "source": [
    "### High OA vs low OA in observations\n",
    "Middle OA is already removed in observations"
   ]
  },
  {
   "cell_type": "code",
   "execution_count": 10,
   "id": "77bb96af-950f-4141-ac83-4e170eb5cc68",
   "metadata": {
    "tags": []
   },
   "outputs": [],
   "source": [
    "#df_hyy_1['OA_category']\n",
    "\n",
    "df_hyy_1['OA_low']= df_hyy_1['OA (microgram m^-3)']<2\n",
    "df_hyy_1['OA_high']= df_hyy_1['OA (microgram m^-3)']>2\n",
    "ddf_hyy_1=df_hyy_1.assign(OA_category= pd.NA)\n",
    "df_hyy_1.loc[df_hyy_1['OA_high'], 'OA_category'] = 'OA high'\n",
    "df_hyy_1.loc[df_hyy_1['OA_low'], 'OA_category'] = 'OA low'\n",
    "\n"
   ]
  },
  {
   "cell_type": "markdown",
   "id": "c5771161-574d-4a0f-b5fd-ecfe0cbd379f",
   "metadata": {},
   "source": [
    "#### Original binning from Yli-Juuti et al:"
   ]
  },
  {
   "cell_type": "code",
   "execution_count": 11,
   "id": "8b455886-f25d-4b4e-9971-1ea036eb11f0",
   "metadata": {
    "lines_to_next_cell": 2
   },
   "outputs": [],
   "source": [
    "bins = pd.IntervalIndex.from_tuples([(60, 100), (100, 140), (140, 180), (180, 220), (220, 260), (260, 300), (300, 340)])\n",
    "\n",
    "labels=[ 80, 120, 160, 200, 240, 280, 320]\n",
    "\n",
    "df_hyy_1['CWP_cut']=pd.cut(df_hyy_1['CWP (g m^-2)'], bins=bins, labels=labels)\n",
    "# label for each bin\n",
    "df_hyy_1['CWP_cutl'] = df_hyy_1['CWP_cut'].apply(lambda x:x.mid)"
   ]
  },
  {
   "cell_type": "markdown",
   "id": "4f064c71-19f6-48c3-aac5-1f9850d9b8eb",
   "metadata": {},
   "source": [
    "#### Quantile binning"
   ]
  },
  {
   "cell_type": "code",
   "execution_count": 12,
   "id": "d0019656-ad67-448a-8ddb-6ffc4d0ee11e",
   "metadata": {},
   "outputs": [],
   "source": [
    "df_hyy_1['CWP_qcut']=pd.qcut(df_hyy_1['CWP (g m^-2)'], 7)#bins=bins, labels=labels)\n",
    "df_hyy_1['CWP_qcutl'] = df_hyy_1['CWP_qcut'].apply(lambda x:x.mid)\n",
    "# Label by median in each bin\n",
    "di = dict(df_hyy_1.groupby('CWP_cut').median()['CWP (g m^-2)'])\n",
    "for k in di.keys():\n",
    "    di[k] = int(np.round(di[k]))\n",
    "df_hyy_1['CWP_cutlm'] = df_hyy_1['CWP_cut'].apply(lambda x:di[x])"
   ]
  },
  {
   "cell_type": "markdown",
   "id": "d5df0428-b0bc-443b-9f9e-db0cc6fa082e",
   "metadata": {
    "lines_to_next_cell": 2,
    "tags": []
   },
   "source": [
    "#### Bin from 5th to 95th quantile of CWP and label by median in each bin or just number"
   ]
  },
  {
   "cell_type": "code",
   "execution_count": 13,
   "id": "4171b01b-fa7c-4939-ae25-e7585a65a71e",
   "metadata": {
    "lines_to_next_cell": 2
   },
   "outputs": [],
   "source": [
    "n_bins = 7\n",
    "labels = np.arange(n_bins)\n",
    "\n",
    "qants = df_hyy_1['CWP (g m^-2)'].quantile([.05,.95])\n",
    "\n",
    "bins2 = pd.interval_range(qants.iloc[0], qants.iloc[1], periods=n_bins)\n",
    "\n",
    "df_hyy_1['CWP_cut2']=pd.cut(df_hyy_1['CWP (g m^-2)'], bins=bins2, labels=labels)\n",
    "\n",
    "\n",
    "di_per_lab = {bins2[i]:labels[i] for i in range(len(labels))}\n",
    "\n",
    "df_hyy_1['CWP_cut2l'] = df_hyy_1['CWP_cut2'].apply(lambda x:di_per_lab[x])\n",
    "\n",
    "\n",
    "di = dict(df_hyy_1.groupby('CWP_cut2').median()['CWP (g m^-2)'])\n",
    "for k in di.keys():\n",
    "    di[k] = int(np.round(di[k]))\n",
    "df_hyy_1['CWP_cut2lm'] = df_hyy_1['CWP_cut2'].apply(lambda x:di[x])\n",
    "#di = dict(df_hyy_1.groupby('CWP_cut2').mid)\n",
    "#for k in di.keys():\n",
    "#    di[k] = int(np.round(di[k]))\n",
    "df_hyy_1['CWP_cut2lmid'] = df_hyy_1['CWP_cut2'].apply(lambda x:np.round(x.mid))\n",
    "\n",
    "\n",
    "#df_hyy_1['CWP_cut2lmid'] = df_hyy_1['CWP_cut2'].apply(lambda x:x.mid)"
   ]
  },
  {
   "cell_type": "code",
   "execution_count": 14,
   "id": "2242e59c",
   "metadata": {},
   "outputs": [
    {
     "data": {
      "text/plain": [
       "<AxesSubplot:ylabel='Frequency'>"
      ]
     },
     "execution_count": 14,
     "metadata": {},
     "output_type": "execute_result"
    },
    {
     "data": {
      "image/png": "[encoded data removed]",
      "text/plain": [
       "<Figure size 432x288 with 1 Axes>"
      ]
     },
     "metadata": {
      "needs_background": "light"
     },
     "output_type": "display_data"
    }
   ],
   "source": [
    "df_hyy_1['OA (microgram m^-3)'][df_hyy_1['OA_low']].plot.hist(bins=50, alpha=0.4, label='obs')\n",
    "df_hyy_1['OA (microgram m^-3)'][df_hyy_1['OA_high']].plot.hist(bins=50, alpha=0.4, label='obs')\n",
    "\n"
   ]
  },
  {
   "cell_type": "markdown",
   "id": "025dacfb",
   "metadata": {
    "tags": []
   },
   "source": [
    "## Load model data:"
   ]
  },
  {
   "cell_type": "code",
   "execution_count": 15,
   "id": "67baf585-c2c9-42c1-bc1b-99658e5d4269",
   "metadata": {},
   "outputs": [],
   "source": [
    "model_name_noresm = 'NorESM'\n",
    "model_name_echam  = 'ECHAM-SALSA' \n",
    "\n",
    "models =[model_name_noresm,model_name_echam]"
   ]
  },
  {
   "cell_type": "markdown",
   "id": "9e7d4f18-df10-4e98-8b86-949df1c39dbc",
   "metadata": {
    "tags": []
   },
   "source": [
    "### Settings"
   ]
  },
  {
   "cell_type": "code",
   "execution_count": 16,
   "id": "d5f3cddb-2c5c-4300-b8a6-8686924862b0",
   "metadata": {
    "lines_to_next_cell": 0
   },
   "outputs": [
    {
     "data": {
      "text/plain": [
       "'293.0-308.0_-8.0--1.0'"
      ]
     },
     "execution_count": 16,
     "metadata": {},
     "output_type": "execute_result"
    }
   ],
   "source": [
    "lon_lims = [293.,308.]\n",
    "lat_lims = [-8.,-1.]\n",
    "\n",
    "lat_smr = -2.150\n",
    "lon_smr = 360-59.009\n",
    "model_lev_i=-1\n",
    "\n",
    "temperature = 273.15  # K\n",
    "\n",
    "\n",
    "str_lonlim = '%.1f-%.1f'%(*lon_lims,)\n",
    "str_latlim = '%.1f-%.1f'%(*lat_lims,)\n",
    "str_coordlims = f'{str_lonlim}_{str_latlim}'\n",
    "str_coordlims"
   ]
  },
  {
   "cell_type": "markdown",
   "id": "ca5f02db-884a-434a-acdb-3e60d20d2ef6",
   "metadata": {},
   "source": [
    "### NorESM"
   ]
  },
  {
   "cell_type": "code",
   "execution_count": 17,
   "id": "67d3f021-88d5-4a2d-822f-0d1270bd3a6c",
   "metadata": {},
   "outputs": [],
   "source": [
    "from_time1 = '2012-01-01'\n",
    "to_time1 = '2015-01-01'\n",
    "from_time2 ='2015-01-01'\n",
    "to_time2 ='2019-01-01'"
   ]
  },
  {
   "cell_type": "code",
   "execution_count": 18,
   "id": "0e38b00f-a6a7-4950-a196-b20cb28314ae",
   "metadata": {
    "lines_to_next_cell": 2
   },
   "outputs": [],
   "source": [
    "case_name_noresm = 'OsloAero_intBVOC_f09_f09_mg17_fssp245'"
   ]
  },
  {
   "cell_type": "markdown",
   "id": "f0d7402c-5b34-4ff6-8a04-ac5a70e14932",
   "metadata": {},
   "source": [
    "#### Input files created in [02-create_file-long_sum.ipynb](02-create_file-long_sum)"
   ]
  },
  {
   "cell_type": "code",
   "execution_count": 19,
   "id": "af72b872-ac6f-47fc-845f-435658bc46b9",
   "metadata": {},
   "outputs": [],
   "source": [
    "fn_noresm = path_extract_latlon_outdata/ case_name_noresm/f'{case_name_noresm}.h1._{from_time1}-{to_time2}_concat_subs_{str_coordlims}_lev1_final.nc'\n",
    "fn_noresm_csv = path_extract_latlon_outdata/ case_name_noresm/f'{case_name_noresm}.h1._{from_time1}-{to_time2}_concat_subs_{str_coordlims}_lev1_final{season}.csv'"
   ]
  },
  {
   "cell_type": "code",
   "execution_count": 20,
   "id": "12a4cd3f-75bf-4952-ad21-0474f833e369",
   "metadata": {},
   "outputs": [],
   "source": [
    "cases_noresm = [case_name_noresm]"
   ]
  },
  {
   "cell_type": "markdown",
   "id": "4705084d-acde-419b-82c5-a7a3c62b7d8e",
   "metadata": {
    "tags": []
   },
   "source": [
    "### ECHAM-SALSA"
   ]
  },
  {
   "cell_type": "code",
   "execution_count": 21,
   "id": "05cc0c16-55c0-44f7-bbdb-86e65b5fd6f5",
   "metadata": {
    "lines_to_next_cell": 2
   },
   "outputs": [],
   "source": [
    "case_name = 'SALSA_BSOA_feedback'\n",
    "case_name_echam = 'SALSA_BSOA_feedback'\n",
    "time_res = 'hour'\n",
    "space_res='locations'\n",
    "model_name='ECHAM-SALSA'"
   ]
  },
  {
   "cell_type": "markdown",
   "id": "fff21932-1795-4c7c-a3cf-f0e0095776f1",
   "metadata": {
    "tags": []
   },
   "source": [
    "#### Define some strings for files"
   ]
  },
  {
   "cell_type": "code",
   "execution_count": 22,
   "id": "4bd47823-151e-46e1-925d-88905549924a",
   "metadata": {
    "lines_to_next_cell": 2
   },
   "outputs": [],
   "source": [
    "str_from_t = pd.to_datetime(from_time1).strftime('%Y%m')\n",
    "str_to = pd.to_datetime(to_time2).strftime('%Y%m')"
   ]
  },
  {
   "cell_type": "markdown",
   "id": "faaab688-5360-41a4-bf46-85c075e97e74",
   "metadata": {},
   "source": [
    "#### Input files:"
   ]
  },
  {
   "cell_type": "code",
   "execution_count": 23,
   "id": "ba7f3ec1-0cfa-4548-aa8b-50fe9a8d1d19",
   "metadata": {},
   "outputs": [],
   "source": [
    "input_path_echam = path_extract_latlon_outdata / model_name_echam / case_name_echam "
   ]
  },
  {
   "cell_type": "code",
   "execution_count": 24,
   "id": "95dde598-33b4-41fc-add1-ceaa36121583",
   "metadata": {},
   "outputs": [],
   "source": [
    "fn_final_echam = input_path_echam / f'{case_name}_{from_time1}-{to_time2}_ALL-VARS_concat_subs_{str_coordlims}.nc'\n",
    "fn_final_echam_csv = input_path_echam / f'{case_name}_{from_time1}-{to_time2}_ALL-VARS_concat_subs_{str_coordlims}{season}.csv'"
   ]
  },
  {
   "cell_type": "code",
   "execution_count": 25,
   "id": "fc2225df-862a-4ff3-ba64-45533af088b1",
   "metadata": {},
   "outputs": [],
   "source": [
    "\n",
    "cases_echam = [case_name_echam]"
   ]
  },
  {
   "cell_type": "markdown",
   "id": "13b0137a-781c-467d-9666-fac90eddaa7f",
   "metadata": {},
   "source": [
    "### Read in model data"
   ]
  },
  {
   "cell_type": "code",
   "execution_count": 26,
   "id": "f0967253-7c1f-4c2a-95de-7dfef2392114",
   "metadata": {},
   "outputs": [],
   "source": [
    "df_mod_noresm = pd.read_csv(fn_noresm_csv, index_col=[0,1,2] )\n",
    "\n",
    "df_mod_echam = pd.read_csv(fn_final_echam_csv, index_col=[0,1,2] )"
   ]
  },
  {
   "cell_type": "markdown",
   "id": "dd3c9e21-3c6e-48f9-ac5c-6197178d2a53",
   "metadata": {},
   "source": [
    "### Organize data in dictionary"
   ]
  },
  {
   "cell_type": "code",
   "execution_count": 27,
   "id": "4cc9beda-c83c-431f-83f7-b52301032a06",
   "metadata": {},
   "outputs": [],
   "source": [
    "dic_df=dict()\n",
    "dic_df[model_name_echam] = df_mod_echam\n",
    "dic_df[model_name_noresm] = df_mod_noresm\n",
    "dic_df['Observations'] = df_hyy_1"
   ]
  },
  {
   "cell_type": "markdown",
   "id": "83a3c314-e287-4bef-9063-cd897704652d",
   "metadata": {},
   "source": [
    "## Mask data"
   ]
  },
  {
   "cell_type": "markdown",
   "id": "e4cd44d9-1edd-4b34-ba51-03080ea9bb20",
   "metadata": {
    "tags": []
   },
   "source": [
    "### NorESM: Masking if less than 5% liquid cloud top fraction and if liquid is less than 80% of the cloud top "
   ]
  },
  {
   "cell_type": "code",
   "execution_count": 28,
   "id": "3ce3509a-d9f0-4169-a7eb-5f15983b51da",
   "metadata": {
    "lines_to_next_cell": 2
   },
   "outputs": [],
   "source": [
    "df_mod = dic_df[model_name_noresm]\n",
    "mask_liq_cloudtop = (df_mod['FCTL']>0.05) & (df_mod['FCTL']/(df_mod['FCTL']+df_mod['FCTI'])>.8)\n",
    "\n",
    "df_mod.loc[:,'mask_liq_cloudtop'] = mask_liq_cloudtop\n",
    "dic_df[model_name_noresm] = df_mod[mask_liq_cloudtop]"
   ]
  },
  {
   "cell_type": "markdown",
   "id": "b457a4b0-ffa1-4b09-a011-2b1981f10ee2",
   "metadata": {
    "tags": []
   },
   "source": [
    "## Rename variables:\n"
   ]
  },
  {
   "cell_type": "code",
   "execution_count": 29,
   "id": "cbbeee0d-026a-4516-8e19-7fab3ea6709d",
   "metadata": {},
   "outputs": [],
   "source": [
    "rn_dic_echam = {\n",
    "    #'cwp'      : 'CWP',\n",
    "   # 'cwp_incld'      : 'CWP',\n",
    "   # 'cod'      : 'COT',\n",
    "    #'ceff_ct'  : 'r_eff',\n",
    "   # 'ceff_ct_incld'  : 'r_eff',\n",
    "    \n",
    "    \n",
    "}\n",
    "rn_dic_noresm = {\n",
    "    'TGCLDCWP_incld'         : 'CWP',\n",
    "    'TOT_CLD_VISTAU_s_incld': 'COT',\n",
    "    'ACTREL_incld'     : 'r_eff',\n",
    "}\n",
    "rn_dic_obs = {\n",
    "    'CWP (g m^-2)'        : 'CWP',\n",
    "    'CER (micrometer)'    : 'r_eff',\n",
    "    'OA (microgram m^-3)' : 'OA',\n",
    "    \n",
    "}\n",
    "\n"
   ]
  },
  {
   "cell_type": "code",
   "execution_count": 30,
   "id": "1e9d95ed-894a-4d1a-84f0-b79b7796dbce",
   "metadata": {},
   "outputs": [],
   "source": [
    "for key, rn in zip([model_name_noresm, model_name_echam,'Observations'], [rn_dic_noresm, rn_dic_echam, rn_dic_obs]):\n",
    "    dic_df[key] = dic_df[key].rename(rn, axis=1)"
   ]
  },
  {
   "cell_type": "markdown",
   "id": "db8f41ee-a492-426b-8042-0b4de475be9e",
   "metadata": {
    "tags": []
   },
   "source": [
    "## Group by cloud water path "
   ]
  },
  {
   "cell_type": "markdown",
   "id": "288bca84-fedb-4f76-a333-24a18d3c89de",
   "metadata": {},
   "source": [
    "#### Predefined bins"
   ]
  },
  {
   "cell_type": "code",
   "execution_count": 31,
   "id": "71b635de-2a07-4da7-821b-f97b591f5be0",
   "metadata": {
    "lines_to_next_cell": 2
   },
   "outputs": [],
   "source": [
    "dic_bins = dict()\n",
    "dic_bins[model_name_noresm] = pd.IntervalIndex.from_breaks([   50,  80,  110, 140, 170, 200,230, 500])\n",
    "dic_bins[model_name_echam] = pd.IntervalIndex.from_breaks([   50,  80,  110, 140, 170, 200,230, 500])"
   ]
  },
  {
   "cell_type": "markdown",
   "id": "730dd45c-03ca-4a73-8480-aea887786fc2",
   "metadata": {},
   "source": [
    "### Bin model data:\n",
    "\n",
    "CWP above 50. "
   ]
  },
  {
   "cell_type": "code",
   "execution_count": 32,
   "id": "6c2fea7d-034f-48f9-aa56-0f92ec884ee4",
   "metadata": {},
   "outputs": [],
   "source": [
    "varl_categories = ['OA']#,'CLDFREE']"
   ]
  },
  {
   "cell_type": "code",
   "execution_count": 33,
   "id": "44d46685-a9e8-48cd-a7bd-11f2ebe09b4d",
   "metadata": {
    "lines_to_next_cell": 2,
    "tags": []
   },
   "outputs": [
    {
     "name": "stdout",
     "output_type": "stream",
     "text": [
      "NorESM\n",
      "ECHAM-SALSA\n"
     ]
    }
   ],
   "source": [
    "n_bins = 7\n",
    "\n",
    "for model_name in models:\n",
    "    print(model_name)\n",
    "    df_mod = dic_df[model_name]\n",
    "    \n",
    "\n",
    "    bins = dic_bins[model_name]\n",
    "    df_mod['CWP_cut']=pd.cut(df_mod['CWP'], bins=bins)#, labels=labels)\n",
    "\n",
    "    \n",
    "    df_mod['CWP_cutl'] = df_mod['CWP_cut'].apply(lambda x:x.mid)\n",
    "    di = dict(df_mod.groupby('CWP_cut').median()['CWP'])\n",
    "    for k in di.keys():\n",
    "        di[k] = int(np.round(di[k]))\n",
    "    df_mod['CWP_cutlm'] = df_mod['CWP_cut'].apply(lambda x:di[x])\n",
    "    \n",
    "    labels = np.arange(n_bins)\n",
    "    # bins from 5th to 95th percentile\n",
    "    qants = df_mod['CWP'].quantile([.0,.95])\n",
    "    bins2 = pd.interval_range(qants.iloc[0], qants.iloc[1], periods=n_bins)\n",
    "    \n",
    "    df_mod['CWP_cut2']=pd.cut(df_mod['CWP'], bins=bins2, labels=labels)\n",
    "    di_per_lab = {bins2[i]:labels[i] for i in range(len(labels))}\n",
    "\n",
    "    df_mod['CWP_cut2l'] = df_mod['CWP_cut2'].apply(lambda x:di_per_lab[x])\n",
    "    # median label: \n",
    "    di = dict(df_mod.groupby('CWP_cut2').median()['CWP'])\n",
    "    for k in di.keys():\n",
    "        di[k] = int(np.round(di[k]))\n",
    "    df_mod['CWP_cut2lm'] = df_mod['CWP_cut2'].apply(lambda x:di[x])\n",
    "    \n",
    "    #di = dict(df_mod.groupby('CWP_cut2').unique().mid)\n",
    "    #for k in di.keys():\n",
    "    #    di[k] = int(np.round(di[k]))\n",
    "    df_mod['CWP_cut2lmid'] = df_mod['CWP_cut2'].apply(lambda x:np.round(x.mid))\n",
    "    \n",
    "    for v in varl_categories:\n",
    "        q34 = df_mod[v].quantile(.34)\n",
    "        q66 = df_mod[v].quantile(.66)\n",
    "        df_mod[f'{v}_low'] = df_mod[v]<q34\n",
    "        df_mod[f'{v}_high']= df_mod[v]>q66\n",
    "        mid_range = ( q34<df_mod[v]) & (df_mod[v]<q66)\n",
    "        df_mod[f'{v}_mid_range'] = mid_range\n",
    "        df_mod=df_mod.assign(**{f'{v}_category': pd.NA})\n",
    "        df_mod.loc[df_mod[f'{v}_high'], f'{v}_category'] = f'{v} high'\n",
    "        df_mod.loc[df_mod[f'{v}_low'], f'{v}_category'] = f'{v} low'\n",
    "        dic_df[model_name] = df_mod"
   ]
  },
  {
   "cell_type": "code",
   "execution_count": null,
   "id": "d244cbf6-b4b5-435c-b395-210ce5b17bad",
   "metadata": {},
   "outputs": [],
   "source": []
  },
  {
   "cell_type": "code",
   "execution_count": null,
   "id": "198a97cf-7257-4adc-b182-be9f30127738",
   "metadata": {},
   "outputs": [],
   "source": []
  },
  {
   "cell_type": "code",
   "execution_count": null,
   "id": "199a5ce7-a7c5-487c-b41a-946351206e22",
   "metadata": {},
   "outputs": [],
   "source": []
  },
  {
   "cell_type": "markdown",
   "id": "35b4c993-9a30-44f4-b3e2-dc547ac004f6",
   "metadata": {},
   "source": [
    "## Quantile cut"
   ]
  },
  {
   "cell_type": "code",
   "execution_count": 34,
   "id": "0d7a34f2-c18b-4293-b564-319719c11aa4",
   "metadata": {
    "lines_to_next_cell": 2
   },
   "outputs": [],
   "source": [
    "for key in dic_df.keys():\n",
    "    df_mod = dic_df[key]\n",
    "    df_mod['CWP_qcut']=pd.qcut(df_mod['CWP'],6)# bins=bins, labels=labels)§\n",
    "    df_mod['CWP_qcutl'] = df_mod['CWP_qcut'].apply(lambda x:x.mid)\n",
    "    dic_df[key] = df_mod"
   ]
  },
  {
   "cell_type": "markdown",
   "id": "9e6fa1d6-4e0d-4e60-9d40-e7593a2b552c",
   "metadata": {},
   "source": [
    "# Distribution plots:"
   ]
  },
  {
   "cell_type": "code",
   "execution_count": 35,
   "id": "fd8eb24a-da02-40d6-b426-a487ae37153e",
   "metadata": {},
   "outputs": [],
   "source": [
    "palette = 'Set2'"
   ]
  },
  {
   "cell_type": "code",
   "execution_count": 36,
   "id": "2342bcb5-20ba-43b0-9187-ab600c4ac170",
   "metadata": {
    "lines_to_next_cell": 2
   },
   "outputs": [],
   "source": [
    "#cmap = cm.get_cmap(name=palette, )\n",
    "cmap_list = ['#441FE0','#BBE01F'][::-1]#cmap(a) for a in np.linspace(0,1,8)]\n",
    "\n",
    "palette_OA = cmap_list[0:2]"
   ]
  },
  {
   "cell_type": "code",
   "execution_count": 37,
   "id": "12561ec0-e18b-403b-bcf6-118fe4c08d04",
   "metadata": {},
   "outputs": [
    {
     "name": "stdout",
     "output_type": "stream",
     "text": [
      "3673\n",
      "Plots/dist_plot/cloud_props_ATTO_WET_distribution_mod_obs_OA_category_COT_count.png\n"
     ]
    },
    {
     "data": {
      "image/png": "[encoded data removed]",
      "text/plain": [
       "<Figure size 432x432 with 3 Axes>"
      ]
     },
     "metadata": {
      "needs_background": "light"
     },
     "output_type": "display_data"
    }
   ],
   "source": [
    "fig, axs = plt.subplots(3,1, sharex=True, figsize =[6,6])\n",
    "v_x = 'COT'\n",
    "x_cut = 100\n",
    "v_hue = 'OA_category'\n",
    "hue_order=['OA low', 'OA high'][::-1]\n",
    "\n",
    "_palette = palette_OA#cmap_list[0:2]\n",
    "\n",
    "\n",
    "for key, ax in zip(dic_df.keys(), axs):\n",
    "    _df = dic_df[key].copy()\n",
    "    _df = _df[_df[v_x]<x_cut]\n",
    "\n",
    "    sns.histplot(\n",
    "        x=v_x,\n",
    "        data=_df,\n",
    "        hue=v_hue,\n",
    "        hue_order=hue_order,\n",
    "        palette=_palette,\n",
    "        legend=False,\n",
    "        edgecolor='w',\n",
    "        ax = ax\n",
    "    )\n",
    "#plt.ylim([0,250])\n",
    "    ax.set_title(key)#'Observations')\n",
    "\n",
    "\n",
    "\n",
    "custom_lines = [Line2D([0], [0], color=cmap_list[0], lw=4),\n",
    "                Line2D([0], [0], color=cmap_list[1], lw=4),\n",
    "               # Line2D([0], [0], color=cmap(1.), lw=4)\n",
    "\n",
    "               ]\n",
    "\n",
    "leg_els = [\n",
    "\n",
    "    Patch(edgecolor='w',alpha = .5, facecolor=_palette[1], label='OA low'),\n",
    "    Patch(edgecolor=None, alpha = .5,facecolor=_palette[0], label='OA high'),\n",
    "\n",
    "]\n",
    "\n",
    "ax.legend(handles = leg_els, frameon=False)\n",
    "ax.set_xlabel('Cloud optical thickness')\n",
    "#plt.ylim([0,250])\n",
    "print(len(_df))\n",
    "sns.despine(fig)\n",
    "\n",
    "fn = make_fn(f'mod_obs_{v_hue}', v_x,'count',comment='distribution', distplot=True)\n",
    "print(fn)\n",
    "\n",
    "#fig.savefig(fn, dpi=150)\n",
    "fig.tight_layout()\n",
    "fig.savefig(fn, dpi=150)\n",
    "fig.savefig(fn.with_suffix('.pdf'), dpi=150)\n",
    "\n"
   ]
  },
  {
   "cell_type": "code",
   "execution_count": 38,
   "id": "fe7dc2f9-69ee-4145-bece-a0e080c143e4",
   "metadata": {},
   "outputs": [
    {
     "name": "stdout",
     "output_type": "stream",
     "text": [
      "3659\n",
      "Plots/dist_plot/cloud_props_ATTO_WET_distribution_mod_obs_OA_category_CWP_count.png\n"
     ]
    },
    {
     "data": {
      "image/png": "[encoded data removed]",
      "text/plain": [
       "<Figure size 432x432 with 3 Axes>"
      ]
     },
     "metadata": {
      "needs_background": "light"
     },
     "output_type": "display_data"
    }
   ],
   "source": [
    "fig, axs = plt.subplots(3,1, sharex=True, figsize =[6,6])\n",
    "\n",
    "v_x = 'CWP'\n",
    "x_cut = 500\n",
    "v_hue = 'OA_category'\n",
    "hue_order=['OA low', 'OA high'][::-1]\n",
    "\n",
    "_palette = palette_OA#cmap_list[0:2]\n",
    "\n",
    "\n",
    "for key, ax in zip(dic_df.keys(), axs):\n",
    "    _df = dic_df[key].copy()\n",
    "    _df = _df[_df[v_x]<x_cut]\n",
    "\n",
    "    sns.histplot(\n",
    "        x=v_x,\n",
    "        data=_df,\n",
    "        hue=v_hue,\n",
    "        hue_order=hue_order,\n",
    "        palette=_palette,\n",
    "        legend=False,\n",
    "        edgecolor='w',\n",
    "        ax = ax\n",
    "    )\n",
    "#plt.ylim([0,250])\n",
    "    ax.set_title(key)#'Observations')\n",
    "\n",
    "\n",
    "\n",
    "custom_lines = [Line2D([0], [0], color=cmap_list[0], lw=4),\n",
    "                Line2D([0], [0], color=cmap_list[1], lw=4),\n",
    "               # Line2D([0], [0], color=cmap(1.), lw=4)\n",
    "\n",
    "               ]\n",
    "\n",
    "leg_els = [\n",
    "\n",
    "    Patch(edgecolor='w',alpha = .5, facecolor=_palette[1], label='OA low'),\n",
    "    Patch(edgecolor=None, alpha = .5,facecolor=_palette[0], label='OA high'),\n",
    "\n",
    "]\n",
    "\n",
    "ax.legend(handles = leg_els, frameon=False)\n",
    "ax.set_xlabel('Cloud water path(g $m^{-2}$)')\n",
    "\n",
    "#plt.ylim([0,250])\n",
    "print(len(_df))\n",
    "sns.despine(fig)\n",
    "\n",
    "fn = make_fn('echam_noresm', v_x,'obs',comment='distribution')\n",
    "\n",
    "#fig.savefig(fn, dpi=150)\n",
    "fig.tight_layout()\n",
    "fn = make_fn(f'mod_obs_{v_hue}', v_x,'count',comment='distribution', distplot=True)\n",
    "print(fn)\n",
    "\n",
    "#fig.savefig(fn, dpi=150)\n",
    "fig.tight_layout()\n",
    "fig.savefig(fn, dpi=150)\n",
    "fig.savefig(fn.with_suffix('.pdf'), dpi=150)\n",
    "\n"
   ]
  },
  {
   "cell_type": "code",
   "execution_count": null,
   "id": "b50d5525-c787-4121-a184-64bd5f6c9f96",
   "metadata": {},
   "outputs": [],
   "source": []
  },
  {
   "cell_type": "code",
   "execution_count": 39,
   "id": "35142e83-bb35-4b02-a018-cf97b9ea53a5",
   "metadata": {},
   "outputs": [
    {
     "data": {
      "text/plain": [
       "13127"
      ]
     },
     "execution_count": 39,
     "metadata": {},
     "output_type": "execute_result"
    }
   ],
   "source": [
    "s = dic_df[model_name_echam]['r_eff']#*dic_df[model_name_echam]['cl_time']\n",
    "s = s[0<s]\n",
    "len(s[s.notna()])"
   ]
  },
  {
   "cell_type": "code",
   "execution_count": 40,
   "id": "1ef9dcfc-232b-4d72-897b-ba07ff4ed31d",
   "metadata": {},
   "outputs": [
    {
     "name": "stdout",
     "output_type": "stream",
     "text": [
      "13127\n",
      "10168\n",
      "3673\n",
      "Plots/dist_plot/cloud_props_ATTO_WET_distribution_mod_obs_OA_category_r_eff_count.png\n"
     ]
    },
    {
     "data": {
      "image/png": "[encoded data removed]",
      "text/plain": [
       "<Figure size 600x600 with 3 Axes>"
      ]
     },
     "metadata": {
      "needs_background": "light"
     },
     "output_type": "display_data"
    }
   ],
   "source": [
    "fig, axs = plt.subplots(3,1, sharex=True, figsize =[6,6], dpi=100)\n",
    "\n",
    "v_x = 'r_eff'\n",
    "x_cut = 700\n",
    "v_hue = 'OA_category'\n",
    "hue_order=['OA low', 'OA high'][::-1]\n",
    "\n",
    "_palette = palette_OA#cmap_list[0:2]\n",
    "\n",
    "\n",
    "for key, ax in zip(dic_df.keys(), axs):\n",
    "    _df = dic_df[key].copy()\n",
    "    _df = _df[_df[v_x]<x_cut]\n",
    "    _df = _df[_df[v_x]>0]\n",
    "\n",
    "    sns.histplot(\n",
    "        x=v_x,\n",
    "        data=_df,\n",
    "        hue=v_hue,\n",
    "        hue_order=hue_order,\n",
    "        palette=_palette,\n",
    "        legend=False,\n",
    "        edgecolor='w',\n",
    "        ax = ax\n",
    "    )\n",
    "    #plt.ylim([0,250])\n",
    "    ax.set_title(key)#'Observations')\n",
    "    print(len(_df))\n",
    "    \n",
    "\n",
    "\n",
    "custom_lines = [Line2D([0], [0], color=cmap_list[0], lw=4),\n",
    "                Line2D([0], [0], color=cmap_list[1], lw=4),\n",
    "               # Line2D([0], [0], color=cmap(1.), lw=4)\n",
    "\n",
    "               ]\n",
    "\n",
    "leg_els = [\n",
    "\n",
    "    Patch(edgecolor='w',alpha = .5, facecolor=_palette[1], label='OA low'),\n",
    "    Patch(edgecolor=None, alpha = .5,facecolor=_palette[0], label='OA high'),\n",
    "\n",
    "]\n",
    "\n",
    "ax.legend(handles = leg_els, frameon=False)\n",
    "ax.set_xlabel('Cloud droplet effective radius at cloud top [$\\mu m$]')\n",
    "\n",
    "#plt.ylim([0,250])\n",
    "sns.despine(fig)\n",
    "\n",
    "for ax in axs: \n",
    "    ax.set_xlim([0,40])\n",
    "fn = make_fn('echam_noresm', v_x,'obs',comment='distribution')\n",
    "\n",
    "#fig.savefig(fn, dpi=150)\n",
    "fig.tight_layout()\n",
    "fn = make_fn(f'mod_obs_{v_hue}', v_x,'count',comment='distribution', distplot=True)\n",
    "print(fn)\n",
    "#fig.savefig(fn, dpi=150)\n",
    "fig.tight_layout()\n",
    "fig.savefig(fn, dpi=150)\n",
    "fig.savefig(fn.with_suffix('.pdf'), dpi=150)\n",
    "\n"
   ]
  },
  {
   "cell_type": "markdown",
   "id": "0079ec00-eaa5-4cad-807b-d09dca18b959",
   "metadata": {},
   "source": [
    "# Calculate difference between high OA and low\n"
   ]
  },
  {
   "cell_type": "code",
   "execution_count": 41,
   "id": "2cce8a3c-d13f-4438-8cc4-d38d06687a3e",
   "metadata": {},
   "outputs": [],
   "source": [
    "from bs_fdbck.util.plot.BSOA_plots import cdic_model"
   ]
  },
  {
   "cell_type": "code",
   "execution_count": 42,
   "id": "12a0c6f4-0276-4d70-add9-55955b4da6e4",
   "metadata": {},
   "outputs": [],
   "source": [
    "hue_order = ['OA low','OA high']#[::-1]\n",
    "palette_OA_2 = palette_OA[::-1]"
   ]
  },
  {
   "cell_type": "code",
   "execution_count": 43,
   "id": "539063f4-4237-46d2-9567-b9a61c4c06df",
   "metadata": {},
   "outputs": [],
   "source": [
    "order_keys = [model_name_noresm, model_name_echam, 'Observations']"
   ]
  },
  {
   "cell_type": "code",
   "execution_count": 44,
   "id": "8d9fe943-0332-43e3-b97e-2e49093208b1",
   "metadata": {},
   "outputs": [],
   "source": [
    "from sklearn.utils import resample"
   ]
  },
  {
   "cell_type": "markdown",
   "id": "af239cc3-e85d-4b34-a19d-4d019162ae1e",
   "metadata": {},
   "source": [
    "## Bootstrap resampling "
   ]
  },
  {
   "cell_type": "code",
   "execution_count": 45,
   "id": "de6375dc-87a2-4225-8728-e7c500bfb533",
   "metadata": {},
   "outputs": [],
   "source": [
    "def bootstrap_subset(_df_low,_df_high, var='COT', category='CWP_cutlm', itts=10000):      \n",
    "    \n",
    "\n",
    "\n",
    "    cat_cats = list(_df_low[category][_df_low[category].notna()].unique())\n",
    "    cat_cats.sort()\n",
    "\n",
    "    df_sample_med = pd.DataFrame(columns=cat_cats, index = range(itts))\n",
    "\n",
    "    df_sample_med\n",
    "\n",
    "    for ca in cat_cats:\n",
    "        _df_lc = _df_low[_df_low[category]==ca]\n",
    "        _df_hc = _df_high[_df_high[category]==ca]\n",
    "        print(f'length of {ca} is {len(_df_lc)} and {len(_df_hc)}')\n",
    "        list_diff_meds = list()\n",
    "        for it in range(itts):\n",
    "            boot_l =resample(_df_lc[var])\n",
    "            boot_h =resample(_df_hc[var])\n",
    "    \n",
    "            diff_median = boot_h.median()- boot_l.median()\n",
    "            list_diff_meds.append(diff_median)\n",
    "        print(len(list_diff_meds))\n",
    "        df_sample_med[ca] = list_diff_meds\n",
    "    \n",
    "    return df_sample_med\n",
    "    \n",
    "def bootstrap_return_quantiles(_df_low,_df_high, \n",
    "                               quantiles = None,\n",
    "                               var='COT', category='CWP_cutlm', itts=10000):\n",
    "    if quantiles is None:\n",
    "        quantiles =[0.025, 0.5, 0.975]\n",
    "    df_sample_med= bootstrap_subset(_df_low,_df_high, var=var, category=category, itts=itts)\n",
    "    \n",
    "    return df_sample_med.quantile(quantiles)\n",
    "    \n",
    "    \n",
    "    #oob = [x for x in _df_low[var] if x not in boot]\n",
    "    #print(resample(_df_low).median())\n",
    "    #print(_df_low.median())\n",
    "    \n",
    "        "
   ]
  },
  {
   "cell_type": "markdown",
   "id": "2d119212-f8c3-4529-a5af-99c9cfa8cdd0",
   "metadata": {},
   "source": [
    "## Calculate CIs with bootstrap"
   ]
  },
  {
   "cell_type": "code",
   "execution_count": null,
   "id": "6fe055d2-d521-4852-967b-6e2341ae7fc3",
   "metadata": {
    "lines_to_next_cell": 2
   },
   "outputs": [
    {
     "name": "stdout",
     "output_type": "stream",
     "text": [
      "length of 72 is 1206 and 1220\n",
      "50000\n",
      "length of 106 is 1142 and 1036\n",
      "50000\n",
      "length of 144 is 766 and 730\n",
      "50000\n",
      "length of 183 is 500 and 485\n",
      "50000\n",
      "length of 222 is 302 and 364\n",
      "50000\n",
      "length of 260 is 220 and 224\n",
      "50000\n",
      "length of 299 is 121 and 152\n",
      "50000\n",
      "length of 73 is 474 and 712\n",
      "50000\n",
      "length of 109 is 565 and 736\n",
      "50000\n",
      "length of 148 is 573 and 580\n",
      "50000\n",
      "length of 188 is 572 and 455\n",
      "50000\n",
      "length of 229 is 443 and 397\n",
      "50000\n",
      "length of 266 is 349 and 282\n",
      "50000\n",
      "length of 306 is 241 and 169\n",
      "50000\n",
      "length of 72 is 1206 and 1220\n",
      "50000\n",
      "length of 106 is 1142 and 1036\n",
      "50000\n",
      "length of 144 is 766 and 730\n",
      "50000\n",
      "length of 183 is 500 and 485\n",
      "50000\n",
      "length of 222 is 302 and 364\n",
      "50000\n",
      "length of 260 is 220 and 224\n",
      "50000\n",
      "length of 299 is 121 and 152\n",
      "50000\n",
      "length of 73 is 474 and 712\n"
     ]
    }
   ],
   "source": [
    "hue_labs = ['OA low', 'OA high']\n",
    "hue_var = 'OA_category'\n",
    "\n",
    "itterations=50000\n",
    "\n",
    "\n",
    "\n",
    "x_var = 'CWP_cut2lm'\n",
    "y_var1 = 'COT'\n",
    "y_var2 = 'r_eff'\n",
    "\n",
    "\n",
    "\n",
    "dic_median_CI = dict()\n",
    "for ax, y_var in zip(axs,[y_var1, y_var2]):\n",
    "    dic_median_CI[y_var] = dict()\n",
    "    for key in dic_df.keys():\n",
    "        if key=='Observations':\n",
    "            continue\n",
    "\n",
    "        _df = dic_df[key].copy()\n",
    "    \n",
    "        _df_lim =_df.copy() \n",
    "        notna = (_df_lim[x_var].notna() & _df_lim[y_var].notna())&(_df_lim[hue_var].notna())\n",
    "        _df_lim = _df_lim[notna]\n",
    "        #_df_lim = _df_lim[_df_lim[y_var].notna()]\n",
    "        #_df_lim = _df_lim[_df_lim[hue_var].notna()]\n",
    "    \n",
    "        _df_low = _df_lim[_df_lim[hue_var] == hue_labs[0]]\n",
    "        _df_high = _df_lim[_df_lim[hue_var] == hue_labs[1]]\n",
    "        \n",
    "        med_low = _df_low.groupby(x_var).median()\n",
    "        med_high = _df_high.groupby(x_var).median()\n",
    "        #std_low = _df_low.groupby(x_var).std()\n",
    "        #std_high = _df_high.groupby(x_var).std()\n",
    "        n_low = _df_low.groupby(x_var).count()['OA_category']\n",
    "        n_high = _df_high.groupby(x_var).count()['OA_category']\n",
    "        df_numb = pd.DataFrame()\n",
    "        df_numb['n_low'] = n_low\n",
    "        df_numb['n_high'] = n_high\n",
    "        df_numb['n_str'] = df_numb['n_low'].astype(str) + '/' + df_numb['n_high'].astype(str) \n",
    "        \n",
    "    \n",
    "    \n",
    "        diff_med = med_high-med_low\n",
    "        \n",
    "        df_sample_quant =bootstrap_return_quantiles(_df_low,_df_high, \n",
    "                               quantiles = None,\n",
    "                               var=y_var, category=x_var, itts=itterations)\n",
    "        #df_bs_samp_med = df_sample_quant.loc[0.5]\n",
    "        dic_median_CI[y_var][key]=dict()\n",
    "        dic_median_CI[y_var][key]['sample_median']=diff_med.copy()\n",
    "        dic_median_CI[y_var][key]['bootstrap_quant']=df_sample_quant.copy()\n",
    "        dic_median_CI[y_var][key]['number']=df_numb#['n_str']"
   ]
  },
  {
   "cell_type": "markdown",
   "id": "044ef653-093f-45a4-a98a-a0292b517752",
   "metadata": {},
   "source": [
    "# Final plot: "
   ]
  },
  {
   "cell_type": "code",
   "execution_count": null,
   "id": "26031b0b-fbe3-4dac-8b12-bd271bd58c5d",
   "metadata": {
    "tags": []
   },
   "outputs": [],
   "source": [
    "figsize = [6,8]\n",
    "_palette = palette_OA_2\n",
    "ylim = None#[0,25]\n",
    "alpha_err=0.4\n",
    "hue_lan_high= ['OA low', 'OA high']\n",
    "hue_var = 'OA_category'\n",
    "\n",
    "ylim2 =None# [-4,4]\n",
    "markersize= 2\n",
    "\n",
    "fig, axs_all = plt.subplots(3,1,figsize=figsize, sharey='row', sharex='col', dpi=200, gridspec_kw={'height_ratios': [1, 7, 7]})\n",
    "\n",
    "ax_num =axs_all[0]\n",
    "axs = axs_all[[1,2]]\n",
    "\n",
    "x_var = 'CWP_cut2lmid'\n",
    "y_var1 = 'COT'\n",
    "y_var2 = 'r_eff'\n",
    "\n",
    "ylab1 = r'$\\Delta $ Cloud optical depth []'\n",
    "ylab2 = r'$\\Delta r_e$ [$\\mu$ m]'\n",
    "y_pos = 0\n",
    "\n",
    "\n",
    "ax = axs[0]\n",
    "for ax, y_var in zip(axs,[y_var1, y_var2]):\n",
    "    \n",
    "    for key in dic_df.keys():\n",
    "        if key=='Observations':\n",
    "            continue\n",
    "        diff_med = dic_median_CI[y_var][key]['sample_median']\n",
    "        df_sample_quant = dic_median_CI[y_var][key]['bootstrap_quant']\n",
    "        df_number = dic_median_CI[y_var][key]['number']\n",
    "\n",
    "        df_bootstrap_med = df_sample_quant.loc[0.5]\n",
    "        plt_med = diff_med[y_var]\n",
    "        ax.scatter(plt_med.index, plt_med, ec=cdic_model[key],lw=2, label=key,s=50,fc='none')\n",
    "        ax.plot(plt_med.index, plt_med, c=cdic_model[key],lw=1, label='__nolegend__',zorder=-20,\n",
    "               alpha=.2)\n",
    "        #ax.scatter(df_bootstrap_med.index, df_bootstrap_med, c=cdic_model[key], label=key,s=200, marker='x')\n",
    "\n",
    "        df_sample_quant_CI= df_sample_quant.drop(labels=0.5).T\n",
    "        yerr = np.abs(df_sample_quant_CI.T - plt_med)\n",
    "        \n",
    "        ax.errorbar(plt_med.index, plt_med, yerr=yerr.values, \n",
    "                    #capsize=5,capthick=2,\n",
    "                    c=cdic_model[key], linewidth=0, elinewidth=3, alpha=alpha_err,zorder=0)\n",
    "        \n",
    "        if y_var !=y_var2:\n",
    "            continue\n",
    "        df_number['n_str'] = df_number['n_low'].astype(str) + '/' + df_number['n_high'].astype(str) \n",
    "        #ax.text(df_numb.index, \n",
    "\n",
    "        for xi in df_number.index:\n",
    "            si = df_number.loc[xi]['n_str']\n",
    "            ax_num.text(xi, y_pos, si,\n",
    "                    c = cdic_model[key],\n",
    "                        fontsize=6,\n",
    "                    horizontalalignment='center',\n",
    "                        alpha=.4,\n",
    "                   )\n",
    "        #            transform=ax.transAxes,)\n",
    "        y_pos -=.22\n",
    "        \n",
    "ax_num.xaxis.set_visible(False)\n",
    "ax_num.yaxis.set_visible(False)\n",
    "sns.despine(ax=ax_num,right=True, left = True, bottom=True, top=True)\n",
    "for ax in axs:\n",
    "    ax.axhline(0, c='.5',zorder=-10,lw=1, linestyle='--')\n",
    "    \n",
    "axs[0].set_ylabel(ylab1)\n",
    "axs[1].set_ylabel(ylab2)\n",
    "axs[1].set_ylim(ylim2)\n",
    "\n",
    "axs[1].set_xlabel('CWP [g m$^{-2}$]')\n",
    "\n",
    "ax.legend(frameon=False)\n",
    "\n",
    "ax_num.set_title('Difference between high OA and low OA')\n",
    "\n",
    "#ax_num.set_ylim([0,1])\n",
    "\n",
    "sns.despine(ax = axs[0])\n",
    "sns.despine(ax = axs[1])\n",
    "fn = make_fn(hue_var, y_var1,x_var,comment=f'{y_var2}_diff_median', relplot=True)\n",
    "print(fn) \n",
    "\n",
    "#fig.savefig(fn, dpi=150)\n",
    "#fig.tight_layout()\n",
    "fig.savefig(fn, dpi=150)\n",
    "fig.savefig(fn.with_suffix('.pdf'), dpi=150)\n",
    "plt.show()\n",
    "\n",
    "### Grid box avg"
   ]
  },
  {
   "cell_type": "markdown",
   "id": "9cb4ffaf-d259-4b61-94cf-269799a52601",
   "metadata": {},
   "source": [
    "## Supplementary plots"
   ]
  },
  {
   "cell_type": "code",
   "execution_count": null,
   "id": "c24b9ba8-a250-4834-b345-798d4a779e31",
   "metadata": {},
   "outputs": [],
   "source": [
    "hue_order = ['OA low','OA high']#[::-1]\n",
    "palette_OA_2 = palette_OA[::-1]"
   ]
  },
  {
   "cell_type": "code",
   "execution_count": null,
   "id": "e3c2ca3f-9ce7-4bf6-a0df-39b7e2b933fa",
   "metadata": {},
   "outputs": [],
   "source": [
    "order_keys = [model_name_noresm, model_name_echam, 'Observations']"
   ]
  },
  {
   "cell_type": "code",
   "execution_count": null,
   "id": "ef386e10-2388-4d11-a86b-42783031b4c9",
   "metadata": {},
   "outputs": [],
   "source": [
    "x_var = 'CWP_cut2lmid'\n",
    "y_var = 'COT'\n",
    "hue_var = 'OA_category'\n",
    "hue_labs = ['OA low', 'OA high']\n",
    "ylim = [0,52]\n",
    "figsize = [18,10]\n",
    "_palette = palette_OA_2\n",
    "\n",
    "#fig, axs = plt.subplots(2,2,figsize=figsize, sharey=True, sharex=True)\n",
    "fig, axs = plt.subplots(2,3,figsize=figsize, sharey=True, sharex='col', dpi=100)\n",
    "\n",
    "markersize= 2\n",
    "\n",
    "\n",
    "for key,ax in zip(order_keys, axs[0,:]):\n",
    "    \n",
    "    _df = dic_df[key].copy()\n",
    "    \n",
    "    _df_lim =_df[(_df[y_var]<=ylim[1])& (_df[y_var]>=ylim[0])]\n",
    "\n",
    "    _df_lim = _df_lim[_df_lim[x_var].notna()]\n",
    "    _df_lim = _df_lim[_df_lim[y_var].notna()]\n",
    "    _df_lim = _df_lim[_df_lim[hue_var].notna()]\n",
    "    \n",
    "    sns.swarmplot(\n",
    "        x=x_var,\n",
    "        y=y_var,\n",
    "        data=_df_lim,\n",
    "        hue_order=hue_order,\n",
    "        hue=hue_var,\n",
    "        palette=_palette,\n",
    "        size = markersize,\n",
    "        ax = ax,\n",
    "    )\n",
    "    ax.set_title(key)\n",
    "\n",
    "#for key,ax in zip(dic_df.keys(), axs[1,:]):\n",
    "for key,ax in zip(order_keys, axs[1,:]):\n",
    "    \n",
    "    _df = dic_df[key].copy()\n",
    "    \n",
    "    _df_lim =_df[(_df[y_var]<=ylim[1])& (_df[y_var]>=ylim[0])]\n",
    "    _df_lim = _df_lim[_df_lim[x_var].notna()]\n",
    "    _df_lim = _df_lim[_df_lim[y_var].notna()]\n",
    "    _df_lim = _df_lim[_df_lim[hue_var].notna()]\n",
    "\n",
    "    sns.boxenplot(\n",
    "        x=x_var,\n",
    "        y=y_var,\n",
    "        data= _df_lim,\n",
    "        hue_order=hue_order,#['OA low','OA high'],\n",
    "        hue=hue_var,\n",
    "        #kind='boxen',\n",
    "        ax = ax,\n",
    "        palette=_palette,\n",
    "           )\n",
    "\n",
    "\n",
    "    \n",
    "\n",
    "    ## ADJUSTMENTS\n",
    "\n",
    "for ax in axs.flatten():\n",
    "    ax.legend([],[], frameon=False)\n",
    "    ax.set_ylabel(None)\n",
    "\n",
    "\n",
    "leg_els = [\n",
    "    Patch(edgecolor='k', alpha = .9,facecolor=_palette[0], label=hue_labs[0]),\n",
    "    Patch(edgecolor='k',alpha = .9, facecolor=_palette[1], label=hue_labs[1]),\n",
    "          ]\n",
    "axs[1,0].legend(handles = leg_els, frameon=False)\n",
    "\n",
    "leg_els = [\n",
    "     Line2D([0], [0], marker='o', color='w',\n",
    "                          markerfacecolor=_palette[0], markersize=10,\n",
    "            label=hue_labs[0]\n",
    "           ),\n",
    "         Line2D([0], [0], marker='o', color='w',\n",
    "                          markerfacecolor=_palette[1], markersize=10,\n",
    "            label=hue_labs[1]\n",
    "           ),\n",
    "          ]\n",
    "axs[0,0].legend(handles = leg_els, frameon=False)\n",
    "\n",
    "for ax in axs[:,0]:\n",
    "    ax.set_ylabel('Cloud optical depth []')\n",
    "for ax in axs[1,:]:\n",
    "    ax.set_xlabel('CWP [g m$^{-2}$]')\n",
    "for ax in axs[0,:]:\n",
    "    ax.set_xlabel(None)\n",
    "\n",
    "for ax in axs.flatten():\n",
    "\n",
    "    ax.set_ylim(ylim)\n",
    "\n",
    "\n",
    "\n",
    "sns.despine(fig)\n",
    "\n",
    "\n",
    "fn = make_fn(hue_var, y_var,x_var,comment='boxen_swarm', relplot=True)\n",
    "print(fn) \n",
    "#fig.savefig(fn, dpi=150)\n",
    "fig.tight_layout()\n",
    "fig.savefig(fn, dpi=150)\n",
    "fig.savefig(fn.with_suffix('.pdf'), dpi=150)\n",
    "\n",
    "plt.show()\n",
    "\n",
    "### Grid box avg"
   ]
  },
  {
   "cell_type": "code",
   "execution_count": null,
   "id": "d33937f1-a9b5-4498-b415-007d707cbf03",
   "metadata": {
    "lines_to_next_cell": 2
   },
   "outputs": [],
   "source": [
    "x_var = 'CWP_cut2lmid'\n",
    "y_var = 'r_eff'\n",
    "hue_var = 'OA_category'\n",
    "hue_labs = ['OA low', 'OA high']\n",
    "ylim = [0,25]\n",
    "figsize = [18,10]\n",
    "_palette = palette_OA_2\n",
    "\n",
    "#fig, axs = plt.subplots(2,2,figsize=figsize, sharey=True, sharex=True)\n",
    "fig, axs = plt.subplots(2,3,figsize=figsize, sharey=True, sharex='col', dpi=100)\n",
    "\n",
    "markersize= 2\n",
    "\n",
    "\n",
    "for key,ax in zip(order_keys, axs[0,:]):\n",
    "#for key,ax in zip(dic_df.keys(), axs[0,:]):\n",
    "\n",
    "    _df = dic_df[key].copy()\n",
    "    \n",
    "    _df_lim =_df[(_df[y_var]<=ylim[1])& (_df[y_var]>=ylim[0])]\n",
    "\n",
    "    _df_lim = _df_lim[_df_lim[x_var].notna()]\n",
    "    _df_lim = _df_lim[_df_lim[y_var].notna()]\n",
    "    _df_lim = _df_lim[_df_lim[hue_var].notna()]\n",
    "    \n",
    "    sns.swarmplot(\n",
    "        x=x_var,\n",
    "        y=y_var,\n",
    "        data=_df_lim,\n",
    "        hue_order=hue_order,\n",
    "        hue=hue_var,\n",
    "        palette=_palette,\n",
    "        size = markersize,\n",
    "        ax = ax,\n",
    "    )\n",
    "    ax.set_title(key)\n",
    "\n",
    "for key,ax in zip(order_keys, axs[1,:]):\n",
    "    _df = dic_df[key].copy()\n",
    "    \n",
    "    _df_lim =_df[(_df[y_var]<=ylim[1])& (_df[y_var]>=ylim[0])]\n",
    "    _df_lim = _df_lim[_df_lim[x_var].notna()]\n",
    "    _df_lim = _df_lim[_df_lim[y_var].notna()]\n",
    "    _df_lim = _df_lim[_df_lim[hue_var].notna()]\n",
    "\n",
    "    sns.boxenplot(\n",
    "        x=x_var,\n",
    "        y=y_var,\n",
    "        data= _df_lim,\n",
    "        hue_order=hue_order,#['OA low','OA high'],\n",
    "        hue=hue_var,\n",
    "        #kind='boxen',\n",
    "        ax = ax,\n",
    "        palette=_palette,\n",
    "           )\n",
    "\n",
    "\n",
    "    \n",
    "\n",
    "    ## ADJUSTMENTS\n",
    "\n",
    "for ax in axs.flatten():\n",
    "    ax.legend([],[], frameon=False)\n",
    "    ax.set_ylabel(None)\n",
    "\n",
    "\n",
    "leg_els = [\n",
    "    Patch(edgecolor='k', alpha = .9,facecolor=_palette[0], label=hue_labs[0]),\n",
    "    Patch(edgecolor='k',alpha = .9, facecolor=_palette[1], label=hue_labs[1]),\n",
    "          ]\n",
    "axs[1,0].legend(handles = leg_els, frameon=False)\n",
    "\n",
    "leg_els = [\n",
    "     Line2D([0], [0], marker='o', color='w',\n",
    "                          markerfacecolor=_palette[0], markersize=10,\n",
    "            label=hue_labs[0]\n",
    "           ),\n",
    "         Line2D([0], [0], marker='o', color='w',\n",
    "                          markerfacecolor=_palette[1], markersize=10,\n",
    "            label=hue_labs[1]\n",
    "           ),\n",
    "          ]\n",
    "axs[0,0].legend(handles = leg_els, frameon=False)\n",
    "\n",
    "for ax in axs[:,0]:\n",
    "    ax.set_ylabel('r$_{eff}$ [$\\mu$m]')\n",
    "    \n",
    "for ax in axs[1,:]:\n",
    "    ax.set_xlabel('CWP [g m$^{-2}$]')\n",
    "for ax in axs[0,:]:\n",
    "    ax.set_xlabel(None)\n",
    "\n",
    "for ax in axs.flatten():\n",
    "\n",
    "    ax.set_ylim(ylim)\n",
    "\n",
    "\n",
    "\n",
    "sns.despine(fig)\n",
    "\n",
    "sns.despine(fig)\n",
    "fn = make_fn(hue_var, y_var,x_var,comment='boxen_swarm', relplot=True)\n",
    "print(fn) \n",
    "#fig.savefig(fn, dpi=150)\n",
    "fig.tight_layout()\n",
    "fig.savefig(fn, dpi=150)\n",
    "fig.savefig(fn.with_suffix('.pdf'), dpi=150)\n",
    "plt.show()\n",
    "\n",
    "### Grid box avg"
   ]
  },
  {
   "cell_type": "markdown",
   "id": "a3bd14bf-7f7d-48e1-8c5a-cfe42dc859b6",
   "metadata": {},
   "source": [
    "## Distribution of bootstrap median differences"
   ]
  },
  {
   "cell_type": "code",
   "execution_count": null,
   "id": "ca9414d4-0c21-4d0d-a593-ef3c29678e70",
   "metadata": {},
   "outputs": [],
   "source": [
    "x_var = 'CWP_cutlm'\n",
    "y_var='COT'\n",
    "itterations = 10000\n",
    "for key in dic_df.keys():\n",
    "    \n",
    "    _df = dic_df[key].copy()\n",
    "    \n",
    "    _df_lim =_df.copy() \n",
    "    notna = (_df_lim[x_var].notna() & _df_lim[y_var].notna())&(_df_lim[hue_var].notna())\n",
    "    _df_lim = _df_lim[notna]\n",
    "    \n",
    "    _df_low = _df_lim[_df_lim[hue_var] == hue_labs[0]]\n",
    "    _df_high = _df_lim[_df_lim[hue_var] == hue_labs[1]]\n",
    "        \n",
    "        \n",
    "    df_sample_med =bootstrap_subset(_df_low,_df_high, \n",
    "                               #quantiles = None,\n",
    "                               var=y_var, category=x_var, itts=itterations)\n",
    "\n",
    "    \n",
    "    \n",
    "    for ca in df_sample_med.columns:\n",
    "        df_sample_med[ca].plot.hist(alpha=0.5, label=ca, bins=100)\n",
    "    plt.title(key)\n",
    "    plt.legend()\n",
    "    \n",
    "    plt.show()"
   ]
  },
  {
   "cell_type": "code",
   "execution_count": null,
   "id": "bcc5a331-133d-4b05-954d-7d983c4092a1",
   "metadata": {},
   "outputs": [],
   "source": [
    "x_var = 'CWP_cutlm'\n",
    "y_var='r_eff'\n",
    "itterations = 10000\n",
    "for key in dic_df.keys():\n",
    "    \n",
    "    _df = dic_df[key].copy()\n",
    "    \n",
    "    _df_lim =_df.copy() \n",
    "    notna = (_df_lim[x_var].notna() & _df_lim[y_var].notna())&(_df_lim[hue_var].notna())\n",
    "    _df_lim = _df_lim[notna]\n",
    "    \n",
    "    _df_low = _df_lim[_df_lim[hue_var] == hue_labs[0]]\n",
    "    _df_high = _df_lim[_df_lim[hue_var] == hue_labs[1]]\n",
    "        \n",
    "        \n",
    "    df_sample_med =bootstrap_subset(_df_low,_df_high, \n",
    "                               #quantiles = None,\n",
    "                               var=y_var, category=x_var, itts=itterations)\n",
    "\n",
    "    \n",
    "    \n",
    "    for ca in df_sample_med.columns:\n",
    "        df_sample_med[ca].plot.hist(alpha=0.5, label=ca, bins=100)\n",
    "    plt.title(key)\n",
    "    plt.legend()\n",
    "    \n",
    "    plt.show()"
   ]
  },
  {
   "cell_type": "code",
   "execution_count": null,
   "id": "d2fa2ba2-1215-45ef-b63f-6fd34bf454a9",
   "metadata": {},
   "outputs": [],
   "source": []
  },
  {
   "cell_type": "code",
   "execution_count": null,
   "id": "5df19b3e-c097-43a3-a308-fddcc4f9895e",
   "metadata": {},
   "outputs": [],
   "source": []
  }
 ],
 "metadata": {
  "jupytext": {
   "encoding": "# -*- coding: utf-8 -*-",
   "formats": "ipynb,py:percent"
  },
  "kernelspec": {
   "display_name": "Python 3 (ipykernel)",
   "language": "python",
   "name": "python3"
  },
  "language_info": {
   "codemirror_mode": {
    "name": "ipython",
    "version": 3
   },
   "file_extension": ".py",
   "mimetype": "text/x-python",
   "name": "python",
   "nbconvert_exporter": "python",
   "pygments_lexer": "ipython3",
   "version": "3.8.10"
  }
 },
 "nbformat": 4,
 "nbformat_minor": 5
}
