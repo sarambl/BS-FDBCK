{
 "cells": [
  {
   "cell_type": "code",
   "execution_count": 1,
   "id": "c0be9911-70d1-4d02-aa1a-dc5d9dd0e812",
   "metadata": {
    "lines_to_next_cell": 2
   },
   "outputs": [],
   "source": [
    "%load_ext autoreload\n",
    "%autoreload 2"
   ]
  },
  {
   "cell_type": "code",
   "execution_count": 2,
   "id": "0698620a-4a5e-4a7a-9369-37da1e27574e",
   "metadata": {},
   "outputs": [
    {
     "name": "stdout",
     "output_type": "stream",
     "text": [
      "/proj/bolinc/users/x_sarbl/analysis/BS-FDBCK/bs_fdbck/data_info/area_defs.csv\n"
     ]
    }
   ],
   "source": [
    "import xarray as xr\n",
    "\n",
    "import pandas as pd\n",
    "import matplotlib.pyplot as plt\n",
    "from pathlib import Path\n",
    "from bs_fdbck.constants import path_extract_latlon_outdata\n",
    "from dask.diagnostics import ProgressBar\n",
    "import seaborn as sns\n",
    "\n",
    "from bs_fdbck.util.imports import import_fields_xr_echam\n",
    "\n",
    "import pandas as pd\n",
    "\n",
    "\n",
    "\n",
    "from bs_fdbck.constants import path_measurement_data\n",
    "\n",
    "from bs_fdbck.util.BSOA_datamanip import compute_total_tau, broadcase_station_data, change_units_and_compute_vars, \\\n",
    "    get_dic_df_mod, change_units_and_compute_vars_echam, extract_2D_cloud_time_echam, rn_dic_echam_cloud,rn_dic_noresm_cloud, rn_dic_obs_cloud\n",
    "\n",
    "import datetime\n",
    "\n",
    "from bs_fdbck.util.BSOA_datamanip import fix_echam_time"
   ]
  },
  {
   "cell_type": "code",
   "execution_count": 3,
   "id": "6f8badef-0739-41df-94e0-3308589df4d3",
   "metadata": {},
   "outputs": [],
   "source": [
    "from pathlib import Path\n",
    "\n",
    "from bs_fdbck.util.BSOA_datamanip import ds2df_inc_preprocessing\n",
    "from bs_fdbck.util.collocate.collocateLONLAToutput import CollocateLONLATout\n",
    "import useful_scit.util.log as log\n",
    "\n",
    "from bs_fdbck.util.plot.BSOA_plots import make_cool_grid, plot_scatter\n",
    "\n",
    "log.ger.setLevel(log.log.INFO)\n",
    "import time\n",
    "import xarray as xr\n",
    "import matplotlib.pyplot as plt"
   ]
  },
  {
   "cell_type": "code",
   "execution_count": 4,
   "id": "82652fdf-b07d-47c9-ab77-b7af354a2977",
   "metadata": {},
   "outputs": [
    {
     "data": {
      "text/plain": [
       "<xarray.core.options.set_options at 0x7facbc5c8730>"
      ]
     },
     "execution_count": 4,
     "metadata": {},
     "output_type": "execute_result"
    }
   ],
   "source": [
    "xr.set_options(keep_attrs=True) "
   ]
  },
  {
   "cell_type": "code",
   "execution_count": 5,
   "id": "e9043552-30fb-44ce-b684-271231278717",
   "metadata": {
    "lines_to_next_cell": 2
   },
   "outputs": [],
   "source": [
    "calc_seasons = ['ALL_year']#'ALL_year','DRY','WET_mid','WET','WET_34','WET_old','WET_early','WET_late', 'DRY_early','DRY_late', 'ALL_year']"
   ]
  },
  {
   "cell_type": "code",
   "execution_count": 6,
   "id": "18234ad7-09df-4d62-aaab-6a71f24b3183",
   "metadata": {},
   "outputs": [
    {
     "data": {
      "text/plain": [
       "['ALL_year']"
      ]
     },
     "execution_count": 6,
     "metadata": {},
     "output_type": "execute_result"
    }
   ],
   "source": [
    "calc_seasons"
   ]
  },
  {
   "cell_type": "markdown",
   "id": "09c1f416-b3a9-4a87-85e9-55ef0a1de016",
   "metadata": {},
   "source": [
    "## Time for values"
   ]
  },
  {
   "cell_type": "code",
   "execution_count": 7,
   "id": "e62310f1-f9db-4f8e-8016-0528d549a77d",
   "metadata": {
    "lines_to_next_cell": 2
   },
   "outputs": [],
   "source": [
    "daytime_from = 10\n",
    "daytime_to = daytime_from + 7"
   ]
  },
  {
   "cell_type": "markdown",
   "id": "56c47eb8-6a1d-4746-8676-f9f96cf51ce5",
   "metadata": {
    "tags": []
   },
   "source": [
    "## NorESM"
   ]
  },
  {
   "cell_type": "code",
   "execution_count": 8,
   "id": "794550d9-3cb6-4136-9327-c22de2ae7ba4",
   "metadata": {},
   "outputs": [
    {
     "data": {
      "text/plain": [
       "-59.009000000000015"
      ]
     },
     "execution_count": 8,
     "metadata": {},
     "output_type": "execute_result"
    }
   ],
   "source": [
    "long3 = 360-59.009\n",
    "(long3 + 180) % 360 - 180"
   ]
  },
  {
   "cell_type": "code",
   "execution_count": 9,
   "id": "cb44d5fd-93da-4f32-bdc8-1957f52dfb0b",
   "metadata": {},
   "outputs": [],
   "source": [
    "lon_lims = [293.,308.]\n",
    "lat_lims = [-8.,-1.]\n",
    "\n",
    "lat_smr = -2.150\n",
    "lon_smr = 360-59.009\n",
    "model_lev_i=-1\n",
    "\n",
    "temperature = 273.15  # K\n",
    "\n",
    "temperature = 273.15  # K\n",
    "\n",
    "\n",
    "from_time1 = '2012-01-01'\n",
    "to_time1 = '2015-01-01'\n",
    "from_time2 ='2015-01-01'\n",
    "to_time2 ='2019-01-01'\n",
    "sel_years_from_files = ['2012','2014','2015','2018']"
   ]
  },
  {
   "cell_type": "code",
   "execution_count": 10,
   "id": "765fbcc1-ed17-465a-a2ae-2d6ce858042e",
   "metadata": {},
   "outputs": [],
   "source": [
    "case_name = 'OsloAero_intBVOC_f09_f09_mg17_fssp245'\n",
    "case_name_noresm = 'OsloAero_intBVOC_f09_f09_mg17_fssp245'\n",
    "\n",
    "case_name1 = 'OsloAero_intBVOC_f09_f09_mg17_full'\n",
    "case_name2 = 'OsloAero_intBVOC_f09_f09_mg17_ssp245'"
   ]
  },
  {
   "cell_type": "code",
   "execution_count": 11,
   "id": "91722f2b-6f9a-455b-9a1a-8a1774785219",
   "metadata": {},
   "outputs": [],
   "source": [
    "cases = [case_name]"
   ]
  },
  {
   "cell_type": "markdown",
   "id": "72ba7d5d-f1d0-40b6-b07d-16cd1cd8fc3b",
   "metadata": {},
   "source": [
    "### Path input data"
   ]
  },
  {
   "cell_type": "code",
   "execution_count": 12,
   "id": "dc11e217-ad75-4f39-a630-72208f805d83",
   "metadata": {},
   "outputs": [],
   "source": [
    "\n",
    "path_input_data_noresm = path_extract_latlon_outdata/ case_name"
   ]
  },
  {
   "cell_type": "markdown",
   "id": "13ecbf4b-c439-4148-9b9c-be29cbcb91ed",
   "metadata": {},
   "source": [
    "### Filenames"
   ]
  },
  {
   "cell_type": "markdown",
   "id": "df61517f-358f-4c2b-a22f-cd306819c13b",
   "metadata": {},
   "source": [
    "#### Define some strings"
   ]
  },
  {
   "cell_type": "code",
   "execution_count": 13,
   "id": "06d02d45-b485-4051-8168-6731c69e2943",
   "metadata": {},
   "outputs": [],
   "source": [
    "str_from_t = pd.to_datetime(from_time1).strftime('%Y%m')\n",
    "str_to = pd.to_datetime(to_time2).strftime('%Y%m')\n",
    "str_lonlim = '%.1f-%.1f'%(*lon_lims,)\n",
    "str_latlim = '%.1f-%.1f'%(*lat_lims,)\n",
    "str_coordlims = f'{str_lonlim}_{str_latlim}'"
   ]
  },
  {
   "cell_type": "code",
   "execution_count": null,
   "id": "05ab8d81-9207-4e35-bbdf-6bdd0beec6fb",
   "metadata": {},
   "outputs": [],
   "source": []
  },
  {
   "cell_type": "code",
   "execution_count": 14,
   "id": "9f670d3e-7121-448d-bc03-19b87e87ff40",
   "metadata": {},
   "outputs": [],
   "source": [
    "fn1   = path_extract_latlon_outdata/case_name1/f'{case_name1}.h1._{from_time1}-{to_time1}_concat_subs_{str_coordlims}.nc'\n",
    "\n",
    "fn1_2 = fn1.parent / f'{fn1.stem}_sort.nc'\n",
    "fn1_3 = fn1.parent / f'{fn1.stem}_sort3.nc'\n",
    "\n",
    "\n",
    "fn2   = path_extract_latlon_outdata/case_name2 /f'{case_name2}.h1._{from_time2}-{to_time2}_concat_subs_{str_coordlims}.nc'\n",
    "\n",
    "fn2_2 = fn2.parent / f'{fn2.stem}_sort.nc'\n",
    "fn2_3 = fn2.parent / f'{fn2.stem}_sort3.nc'\n",
    "\n",
    "fn_comb                = path_input_data_noresm /f'{case_name}.h1._{from_time1}-{to_time2}_concat_subs_{str_coordlims}.nc'\n",
    "fn_comb_lev1           = path_input_data_noresm /f'{case_name}.h1._{from_time1}-{to_time2}_concat_subs_{str_coordlims}_lev1.nc'\n",
    "fn_comb_lev1_final     = path_input_data_noresm /f'{case_name}.h1._{from_time1}-{to_time2}_concat_subs_{str_coordlims}_lev1_final.nc'\n",
    "fn_comb_lev1_finaler     = path_input_data_noresm /f'{case_name}.h1._{from_time1}-{to_time2}_concat_subs_{str_coordlims}_lev1_finaler.nc'\n",
    "fn_comb_lev1_finaler\n",
    "fn_comb_lev1_final_csv = path_input_data_noresm /f'{case_name}.h1._{from_time1}-{to_time2}_concat_subs_{str_coordlims}_lev1_final_wet_season.csv'\n",
    "fn_final_csv_stem      = path_input_data_noresm /f'{case_name}.h1._{from_time1}-{to_time2}_concat_subs_{str_coordlims}_lev1_final.csv'"
   ]
  },
  {
   "cell_type": "code",
   "execution_count": 15,
   "id": "e3713a53-abe7-4cd7-85bb-b9d6b45d4edd",
   "metadata": {},
   "outputs": [
    {
     "data": {
      "text/plain": [
       "PosixPath('/proj/bolinc/users/x_sarbl/analysis/Output_data_BS-FDBCK/extracted_latlon_subset/OsloAero_intBVOC_f09_f09_mg17_fssp245/OsloAero_intBVOC_f09_f09_mg17_fssp245.h1._2012-01-01-2019-01-01_concat_subs_293.0-308.0_-8.0--1.0_lev1_final_wet_season.csv')"
      ]
     },
     "execution_count": 15,
     "metadata": {},
     "output_type": "execute_result"
    }
   ],
   "source": [
    "fn_comb_lev1_final_csv"
   ]
  },
  {
   "cell_type": "markdown",
   "id": "f657494e-ff7e-48f0-977e-f9a63cc21eda",
   "metadata": {},
   "source": [
    "### Station variables"
   ]
  },
  {
   "cell_type": "code",
   "execution_count": 16,
   "id": "548ec466-9a2f-4eff-a398-791ea1d623e2",
   "metadata": {},
   "outputs": [
    {
     "data": {
      "text/plain": [
       "PosixPath('/proj/bolinc/users/x_sarbl/analysis/Output_data_BS-FDBCK/extracted_latlon_subset/OsloAero_intBVOC_f09_f09_mg17_full/OsloAero_intBVOC_f09_f09_mg17_full.h1._2012-01-01-2015-01-01_concat_subs_293.0-308.0_-8.0--1.0.nc')"
      ]
     },
     "execution_count": 16,
     "metadata": {},
     "output_type": "execute_result"
    }
   ],
   "source": [
    "fn1"
   ]
  },
  {
   "cell_type": "code",
   "execution_count": 17,
   "id": "89650527-605d-4df6-80f9-8f55a2c2550a",
   "metadata": {
    "lines_to_next_cell": 2
   },
   "outputs": [],
   "source": [
    "varl_st = [      'SOA_NA','SOA_A1','OM_NI','OM_AI','OM_AC','SO4_NA','SO4_A1','SO4_A2','SO4_AC','SO4_PR',\n",
    "      'BC_N','BC_AX','BC_NI','BC_A','BC_AI','BC_AC','SS_A1','SS_A2','SS_A3','DST_A2','DST_A3',\n",
    "           'N50','N100', 'N150', 'N200', \n",
    "                 ]\n",
    "\n",
    "\n",
    "varl_cl = ['TOT_CLD_VISTAU','TOT_ICLD_VISTAU','TGCLDCWP','TGCLDLWP','TGCLDIWP',\n",
    "           'TOT_CLD_VISTAU_s','TOT_ICLD_VISTAU_s','optical_depth',\n",
    "           'CLDFREE',\n",
    "           'FCTL',\n",
    "           'ACTREL','ACTNL','TGCLDLWP',\n",
    "           'FSDSC','FSDSCDRF',\n",
    "           'FCTI',\n",
    "           'FCTL',\n",
    "           'FLNS',\n",
    "           'FLNSC',\n",
    "           'FLNT',\n",
    "           'FLNTCDRF',\n",
    "           'FLNT_DRF',\n",
    "           'FLUS',\n",
    "           'FLUTC','FORMRATE',\n",
    "           'FREQI',\n",
    "           'FREQL',\n",
    "           'FSDSCDRF',\n",
    "           'FSDS_DRF',\n",
    "           'FSNS',\n",
    "           'FSNSC',\n",
    "           'FSNT',\n",
    "           'FSNTCDRF',\n",
    "           'FSNT_DRF',\n",
    "           'FSUS_DRF',\n",
    "           'FSUTADRF',\n",
    "           ]"
   ]
  },
  {
   "cell_type": "markdown",
   "id": "7ba9d92a-ac32-486f-b4bf-806d1b92c73c",
   "metadata": {
    "tags": []
   },
   "source": [
    "### Read files and compute vertical variables, extract surface layer,  and merge timeseries"
   ]
  },
  {
   "cell_type": "code",
   "execution_count": 18,
   "id": "0d3b8b1c-823f-417a-b2b4-cd897d3b7941",
   "metadata": {},
   "outputs": [
    {
     "data": {
      "text/plain": [
       "PosixPath('/proj/bolinc/users/x_sarbl/analysis/Output_data_BS-FDBCK/extracted_latlon_subset/OsloAero_intBVOC_f09_f09_mg17_fssp245/OsloAero_intBVOC_f09_f09_mg17_fssp245.h1._2012-01-01-2019-01-01_concat_subs_293.0-308.0_-8.0--1.0.nc')"
      ]
     },
     "execution_count": 18,
     "metadata": {},
     "output_type": "execute_result"
    }
   ],
   "source": [
    "fn_comb#.exists()"
   ]
  },
  {
   "cell_type": "code",
   "execution_count": 19,
   "id": "9b90f88e-f482-4314-91b9-580c909f6922",
   "metadata": {
    "lines_to_next_cell": 2,
    "tags": []
   },
   "outputs": [],
   "source": [
    "if not fn_comb.exists():\n",
    "    if (not fn1_2.exists()) or (not fn2_2.exists()):\n",
    "        dfn_final_csv_stemm_dataset(fn1, chunks = {'time':96})#[fn1,fn2])#.sortby('time')\n",
    "        ds_mod2 = xr.open_dataset(fn2, chunks = {'time':96},engine='netcdf4')\n",
    "\n",
    "        varl1 = set(ds_mod1.data_vars)\n",
    "\n",
    "        varl2 = set(ds_mod2.data_vars)\n",
    "\n",
    "\n",
    "        varl =list(varl1.intersection(varl2))\n",
    "\n",
    "        ds_mod1 = ds_mod1[varl].sel(time=slice(sel_years_from_files[0],sel_years_from_files[1]))#.sortby('time')\n",
    "\n",
    "        ds_mod2 = ds_mod2[varl].sel(time=slice(sel_years_from_files[2],sel_years_from_files[3]))#.sortby('time')\n",
    "        print('HEEEEY')\n",
    "        if not fn1_2.exists():\n",
    "            delayed_obj = ds_mod1.to_netcdf(fn1_2, compute=False)\n",
    "            with ProgressBar():\n",
    "                results = delayed_obj.compute()\n",
    "        if not fn2_2.exists():\n",
    "            delayed_obj = ds_mod2.to_netcdf(fn2_2, compute=False)\n",
    "            with ProgressBar():\n",
    "                results = delayed_obj.compute()\n",
    "    \n",
    "    if not fn1_3.exists():\n",
    "            ds_mod1 = xr.open_dataset(fn1_2, chunks = {'time':48},engine='netcdf4')#[fn1,fn2])#.sortby('time')\n",
    "            ds_mod1 = compute_total_tau(ds_mod1)\n",
    "            ds_mod1 = ds_mod1.isel(lev = model_lev_i)\n",
    "            ds_mod1 = ds_mod1.sortby('time')#.sel(time=slice('2012','2014'))\n",
    "            delayed_obj = ds_mod1.to_netcdf(fn1_3, compute=False)\n",
    "            print('hey 1')\n",
    "            with ProgressBar():\n",
    "                results = delayed_obj.compute()\n",
    "    if not fn2_3.exists():\n",
    "            ds_mod2 = xr.open_dataset(fn2_2, chunks = {'time':48},engine='netcdf4')#[fn1,fn2])#.sortby('time')\n",
    "            ds_mod2 = compute_total_tau(ds_mod2)\n",
    "            ds_mod2 = ds_mod2.isel(lev = model_lev_i)\n",
    "            ds_mod2 = ds_mod2.sortby('time')#.sel(time=slice('2012','2014'))\n",
    "            delayed_obj = ds_mod2.to_netcdf(fn2_3, compute=False)\n",
    "            print('hey')\n",
    "            with ProgressBar():\n",
    "                results = delayed_obj.compute()\n",
    "    \n",
    "    \n",
    "    ds_mod = xr.open_mfdataset([fn1_3,fn2_3], combine='by_coords', concat_dim='time')\n",
    "\n",
    "    fn_comb.parent.mkdir(exist_ok=True,)\n",
    "\n",
    "    delayed_obj = ds_mod.to_netcdf(fn_comb, compute = False)\n",
    "    with ProgressBar():\n",
    "        results = delayed_obj.compute()\n",
    "\n",
    "    #ds_mod = xr.concat([ds_mod1[varl].sel(time=slice('2012','2014')), ds_mod2[varl].sel(time=slice('2015','2018'))], dim='time')"
   ]
  },
  {
   "cell_type": "markdown",
   "id": "35e64b2d-d9cc-4b06-846b-f9579c4b8dbc",
   "metadata": {},
   "source": [
    "### Check: "
   ]
  },
  {
   "cell_type": "code",
   "execution_count": 20,
   "id": "f1d5c7c0-1495-4626-b85a-8e2088750000",
   "metadata": {},
   "outputs": [
    {
     "name": "stderr",
     "output_type": "stream",
     "text": [
      "/home/x_sarbl/miniconda3/envs/env_analys/lib/python3.8/site-packages/xarray/backends/plugins.py:61: RuntimeWarning: Engine 'rasterio' loading failed:\n",
      "(click 8.0.1 (/home/x_sarbl/miniconda3/envs/env_analys/lib/python3.8/site-packages), Requirement.parse('click<8,>=4.0'), {'rasterio'})\n",
      "  warnings.warn(f\"Engine {name!r} loading failed:\\n{ex}\", RuntimeWarning)\n"
     ]
    },
    {
     "data": {
      "text/plain": [
       "[<matplotlib.lines.Line2D at 0x7fac09bf8850>]"
      ]
     },
     "execution_count": 20,
     "metadata": {},
     "output_type": "execute_result"
    },
    {
     "data": {
      "image/png": "[encoded data removed]",
      "text/plain": [
       "<Figure size 432x288 with 1 Axes>"
      ]
     },
     "metadata": {
      "needs_background": "light"
     },
     "output_type": "display_data"
    }
   ],
   "source": [
    "ds_mod = xr.open_dataset(fn_comb,engine='netcdf4', chunks = {'time':48})\n",
    "(1e-6*ds_mod['NCONC01'].isel(lat=0, lon=0)).plot()"
   ]
  },
  {
   "cell_type": "markdown",
   "id": "62fa108c-996f-452a-af2d-0428d5d627eb",
   "metadata": {
    "tags": []
   },
   "source": [
    "### Broadcast station variables to every gridcell and manipulate units etc"
   ]
  },
  {
   "cell_type": "markdown",
   "id": "d3779186-22ea-4f2b-9798-d9a9d50bbaa2",
   "metadata": {},
   "source": [
    "We use only hyytiala for org etc, but all grid cells over finland for cloud properties"
   ]
  },
  {
   "cell_type": "code",
   "execution_count": 21,
   "id": "c1683e99-94d8-4f61-808a-f1fd8ea01c53",
   "metadata": {
    "lines_to_next_cell": 2,
    "tags": []
   },
   "outputs": [],
   "source": [
    "if not fn_comb_lev1_final.exists():\n",
    "    ds_all = xr.open_dataset(fn_comb,engine='netcdf4').isel(ilev=model_lev_i)\n",
    "    ds_sel = ds_all.sel(lat = lat_smr, lon= lon_smr, method='nearest')#.isel( ilev=model_lev_i)#.load()\n",
    "    ds_all = ds_all.isel(\n",
    "             nbnd=0\n",
    "    ).squeeze()\n",
    "    ds_all = broadcase_station_data(ds_all, lon = lon_smr, lat = lat_smr)\n",
    "    ds_all = change_units_and_compute_vars(ds_all, temperature=temperature)\n",
    "\n",
    "\n",
    "    delayed_obj = ds_all.to_netcdf(fn_comb_lev1_final, compute=False)\n",
    "    print('hey')\n",
    "    with ProgressBar():\n",
    "        results = delayed_obj.compute()"
   ]
  },
  {
   "cell_type": "markdown",
   "id": "c57cfe36-ec86-4cb5-a0e0-5f2b964c2d62",
   "metadata": {},
   "source": [
    "\n",
    "### Add station variables: "
   ]
  },
  {
   "cell_type": "code",
   "execution_count": null,
   "id": "69ec9986-23cd-4fe0-bcb9-730978810353",
   "metadata": {},
   "outputs": [],
   "source": []
  },
  {
   "cell_type": "code",
   "execution_count": 22,
   "id": "beb77217-2fe3-4402-964f-25203e218ca1",
   "metadata": {
    "lines_to_next_cell": 2
   },
   "outputs": [],
   "source": [
    "\n",
    "varl_tmp =['N50','N100','N150','N200',\n",
    "           \n",
    "      #'SOA_NA','SOA_A1','OM_NI','OM_AI','OM_AC','SO4_NA','SO4_A1','SO4_A2','SO4_AC','SO4_PR',\n",
    "      #'BC_N','BC_AX','BC_NI','BC_A','BC_AI','BC_AC','SS_A1','SS_A2','SS_A3','DST_A2','DST_A3', \n",
    "      ] "
   ]
  },
  {
   "cell_type": "code",
   "execution_count": 23,
   "id": "91902ebc-17cf-4367-a7ab-b8e0b8cf6117",
   "metadata": {},
   "outputs": [
    {
     "name": "stdout",
     "output_type": "stream",
     "text": [
      "//proj/bolinc/users/x_sarbl/analysis/Output_data_BS-FDBCK/collocated_ds/NorESM/OsloAero_intBVOC_f09_f09_mg17_full/SOA_NA_OsloAero_intBVOC_f09_f09_mg17_full_2012-01-01_2015-01-01_hour_locations.nc\n",
      "//proj/bolinc/users/x_sarbl/analysis/Output_data_BS-FDBCK/collocated_ds/NorESM/OsloAero_intBVOC_f09_f09_mg17_full/SOA_A1_OsloAero_intBVOC_f09_f09_mg17_full_2012-01-01_2015-01-01_hour_locations.nc\n",
      "//proj/bolinc/users/x_sarbl/analysis/Output_data_BS-FDBCK/collocated_ds/NorESM/OsloAero_intBVOC_f09_f09_mg17_full/OM_NI_OsloAero_intBVOC_f09_f09_mg17_full_2012-01-01_2015-01-01_hour_locations.nc\n",
      "//proj/bolinc/users/x_sarbl/analysis/Output_data_BS-FDBCK/collocated_ds/NorESM/OsloAero_intBVOC_f09_f09_mg17_full/OM_AI_OsloAero_intBVOC_f09_f09_mg17_full_2012-01-01_2015-01-01_hour_locations.nc\n",
      "//proj/bolinc/users/x_sarbl/analysis/Output_data_BS-FDBCK/collocated_ds/NorESM/OsloAero_intBVOC_f09_f09_mg17_full/OM_AC_OsloAero_intBVOC_f09_f09_mg17_full_2012-01-01_2015-01-01_hour_locations.nc\n",
      "//proj/bolinc/users/x_sarbl/analysis/Output_data_BS-FDBCK/collocated_ds/NorESM/OsloAero_intBVOC_f09_f09_mg17_full/SO4_NA_OsloAero_intBVOC_f09_f09_mg17_full_2012-01-01_2015-01-01_hour_locations.nc\n",
      "//proj/bolinc/users/x_sarbl/analysis/Output_data_BS-FDBCK/collocated_ds/NorESM/OsloAero_intBVOC_f09_f09_mg17_full/SO4_A1_OsloAero_intBVOC_f09_f09_mg17_full_2012-01-01_2015-01-01_hour_locations.nc\n",
      "//proj/bolinc/users/x_sarbl/analysis/Output_data_BS-FDBCK/collocated_ds/NorESM/OsloAero_intBVOC_f09_f09_mg17_full/SO4_A2_OsloAero_intBVOC_f09_f09_mg17_full_2012-01-01_2015-01-01_hour_locations.nc\n",
      "//proj/bolinc/users/x_sarbl/analysis/Output_data_BS-FDBCK/collocated_ds/NorESM/OsloAero_intBVOC_f09_f09_mg17_full/SO4_AC_OsloAero_intBVOC_f09_f09_mg17_full_2012-01-01_2015-01-01_hour_locations.nc\n",
      "//proj/bolinc/users/x_sarbl/analysis/Output_data_BS-FDBCK/collocated_ds/NorESM/OsloAero_intBVOC_f09_f09_mg17_full/SO4_PR_OsloAero_intBVOC_f09_f09_mg17_full_2012-01-01_2015-01-01_hour_locations.nc\n",
      "//proj/bolinc/users/x_sarbl/analysis/Output_data_BS-FDBCK/collocated_ds/NorESM/OsloAero_intBVOC_f09_f09_mg17_full/BC_N_OsloAero_intBVOC_f09_f09_mg17_full_2012-01-01_2015-01-01_hour_locations.nc\n",
      "//proj/bolinc/users/x_sarbl/analysis/Output_data_BS-FDBCK/collocated_ds/NorESM/OsloAero_intBVOC_f09_f09_mg17_full/BC_AX_OsloAero_intBVOC_f09_f09_mg17_full_2012-01-01_2015-01-01_hour_locations.nc\n",
      "//proj/bolinc/users/x_sarbl/analysis/Output_data_BS-FDBCK/collocated_ds/NorESM/OsloAero_intBVOC_f09_f09_mg17_full/BC_NI_OsloAero_intBVOC_f09_f09_mg17_full_2012-01-01_2015-01-01_hour_locations.nc\n",
      "//proj/bolinc/users/x_sarbl/analysis/Output_data_BS-FDBCK/collocated_ds/NorESM/OsloAero_intBVOC_f09_f09_mg17_full/BC_A_OsloAero_intBVOC_f09_f09_mg17_full_2012-01-01_2015-01-01_hour_locations.nc\n",
      "//proj/bolinc/users/x_sarbl/analysis/Output_data_BS-FDBCK/collocated_ds/NorESM/OsloAero_intBVOC_f09_f09_mg17_full/BC_AI_OsloAero_intBVOC_f09_f09_mg17_full_2012-01-01_2015-01-01_hour_locations.nc\n",
      "//proj/bolinc/users/x_sarbl/analysis/Output_data_BS-FDBCK/collocated_ds/NorESM/OsloAero_intBVOC_f09_f09_mg17_full/BC_AC_OsloAero_intBVOC_f09_f09_mg17_full_2012-01-01_2015-01-01_hour_locations.nc\n",
      "//proj/bolinc/users/x_sarbl/analysis/Output_data_BS-FDBCK/collocated_ds/NorESM/OsloAero_intBVOC_f09_f09_mg17_full/SS_A1_OsloAero_intBVOC_f09_f09_mg17_full_2012-01-01_2015-01-01_hour_locations.nc\n",
      "//proj/bolinc/users/x_sarbl/analysis/Output_data_BS-FDBCK/collocated_ds/NorESM/OsloAero_intBVOC_f09_f09_mg17_full/SS_A2_OsloAero_intBVOC_f09_f09_mg17_full_2012-01-01_2015-01-01_hour_locations.nc\n",
      "//proj/bolinc/users/x_sarbl/analysis/Output_data_BS-FDBCK/collocated_ds/NorESM/OsloAero_intBVOC_f09_f09_mg17_full/SS_A3_OsloAero_intBVOC_f09_f09_mg17_full_2012-01-01_2015-01-01_hour_locations.nc\n",
      "//proj/bolinc/users/x_sarbl/analysis/Output_data_BS-FDBCK/collocated_ds/NorESM/OsloAero_intBVOC_f09_f09_mg17_full/DST_A2_OsloAero_intBVOC_f09_f09_mg17_full_2012-01-01_2015-01-01_hour_locations.nc\n",
      "//proj/bolinc/users/x_sarbl/analysis/Output_data_BS-FDBCK/collocated_ds/NorESM/OsloAero_intBVOC_f09_f09_mg17_full/DST_A3_OsloAero_intBVOC_f09_f09_mg17_full_2012-01-01_2015-01-01_hour_locations.nc\n",
      "//proj/bolinc/users/x_sarbl/analysis/Output_data_BS-FDBCK/collocated_ds/NorESM/OsloAero_intBVOC_f09_f09_mg17_full/N50_OsloAero_intBVOC_f09_f09_mg17_full_2012-01-01_2015-01-01_hour_locations.nc\n",
      "//proj/bolinc/users/x_sarbl/analysis/Output_data_BS-FDBCK/collocated_ds/NorESM/OsloAero_intBVOC_f09_f09_mg17_full/N100_OsloAero_intBVOC_f09_f09_mg17_full_2012-01-01_2015-01-01_hour_locations.nc\n",
      "//proj/bolinc/users/x_sarbl/analysis/Output_data_BS-FDBCK/collocated_ds/NorESM/OsloAero_intBVOC_f09_f09_mg17_full/N150_OsloAero_intBVOC_f09_f09_mg17_full_2012-01-01_2015-01-01_hour_locations.nc\n",
      "//proj/bolinc/users/x_sarbl/analysis/Output_data_BS-FDBCK/collocated_ds/NorESM/OsloAero_intBVOC_f09_f09_mg17_full/N200_OsloAero_intBVOC_f09_f09_mg17_full_2012-01-01_2015-01-01_hour_locations.nc\n",
      "UUUPS\n",
      "//proj/bolinc/users/x_sarbl/analysis/Output_data_BS-FDBCK/collocated_ds/NorESM/OsloAero_intBVOC_f09_f09_mg17_ssp245/SOA_NA_OsloAero_intBVOC_f09_f09_mg17_ssp245_2015-01-01_2019-01-01_hour_locations.nc\n",
      "//proj/bolinc/users/x_sarbl/analysis/Output_data_BS-FDBCK/collocated_ds/NorESM/OsloAero_intBVOC_f09_f09_mg17_ssp245/SOA_A1_OsloAero_intBVOC_f09_f09_mg17_ssp245_2015-01-01_2019-01-01_hour_locations.nc\n",
      "//proj/bolinc/users/x_sarbl/analysis/Output_data_BS-FDBCK/collocated_ds/NorESM/OsloAero_intBVOC_f09_f09_mg17_ssp245/OM_NI_OsloAero_intBVOC_f09_f09_mg17_ssp245_2015-01-01_2019-01-01_hour_locations.nc\n",
      "//proj/bolinc/users/x_sarbl/analysis/Output_data_BS-FDBCK/collocated_ds/NorESM/OsloAero_intBVOC_f09_f09_mg17_ssp245/OM_AI_OsloAero_intBVOC_f09_f09_mg17_ssp245_2015-01-01_2019-01-01_hour_locations.nc\n",
      "//proj/bolinc/users/x_sarbl/analysis/Output_data_BS-FDBCK/collocated_ds/NorESM/OsloAero_intBVOC_f09_f09_mg17_ssp245/OM_AC_OsloAero_intBVOC_f09_f09_mg17_ssp245_2015-01-01_2019-01-01_hour_locations.nc\n",
      "//proj/bolinc/users/x_sarbl/analysis/Output_data_BS-FDBCK/collocated_ds/NorESM/OsloAero_intBVOC_f09_f09_mg17_ssp245/SO4_NA_OsloAero_intBVOC_f09_f09_mg17_ssp245_2015-01-01_2019-01-01_hour_locations.nc\n",
      "//proj/bolinc/users/x_sarbl/analysis/Output_data_BS-FDBCK/collocated_ds/NorESM/OsloAero_intBVOC_f09_f09_mg17_ssp245/SO4_A1_OsloAero_intBVOC_f09_f09_mg17_ssp245_2015-01-01_2019-01-01_hour_locations.nc\n",
      "//proj/bolinc/users/x_sarbl/analysis/Output_data_BS-FDBCK/collocated_ds/NorESM/OsloAero_intBVOC_f09_f09_mg17_ssp245/SO4_A2_OsloAero_intBVOC_f09_f09_mg17_ssp245_2015-01-01_2019-01-01_hour_locations.nc\n",
      "//proj/bolinc/users/x_sarbl/analysis/Output_data_BS-FDBCK/collocated_ds/NorESM/OsloAero_intBVOC_f09_f09_mg17_ssp245/SO4_AC_OsloAero_intBVOC_f09_f09_mg17_ssp245_2015-01-01_2019-01-01_hour_locations.nc\n",
      "//proj/bolinc/users/x_sarbl/analysis/Output_data_BS-FDBCK/collocated_ds/NorESM/OsloAero_intBVOC_f09_f09_mg17_ssp245/SO4_PR_OsloAero_intBVOC_f09_f09_mg17_ssp245_2015-01-01_2019-01-01_hour_locations.nc\n",
      "//proj/bolinc/users/x_sarbl/analysis/Output_data_BS-FDBCK/collocated_ds/NorESM/OsloAero_intBVOC_f09_f09_mg17_ssp245/BC_N_OsloAero_intBVOC_f09_f09_mg17_ssp245_2015-01-01_2019-01-01_hour_locations.nc\n",
      "//proj/bolinc/users/x_sarbl/analysis/Output_data_BS-FDBCK/collocated_ds/NorESM/OsloAero_intBVOC_f09_f09_mg17_ssp245/BC_AX_OsloAero_intBVOC_f09_f09_mg17_ssp245_2015-01-01_2019-01-01_hour_locations.nc\n",
      "//proj/bolinc/users/x_sarbl/analysis/Output_data_BS-FDBCK/collocated_ds/NorESM/OsloAero_intBVOC_f09_f09_mg17_ssp245/BC_NI_OsloAero_intBVOC_f09_f09_mg17_ssp245_2015-01-01_2019-01-01_hour_locations.nc\n",
      "//proj/bolinc/users/x_sarbl/analysis/Output_data_BS-FDBCK/collocated_ds/NorESM/OsloAero_intBVOC_f09_f09_mg17_ssp245/BC_A_OsloAero_intBVOC_f09_f09_mg17_ssp245_2015-01-01_2019-01-01_hour_locations.nc\n",
      "//proj/bolinc/users/x_sarbl/analysis/Output_data_BS-FDBCK/collocated_ds/NorESM/OsloAero_intBVOC_f09_f09_mg17_ssp245/BC_AI_OsloAero_intBVOC_f09_f09_mg17_ssp245_2015-01-01_2019-01-01_hour_locations.nc\n",
      "//proj/bolinc/users/x_sarbl/analysis/Output_data_BS-FDBCK/collocated_ds/NorESM/OsloAero_intBVOC_f09_f09_mg17_ssp245/BC_AC_OsloAero_intBVOC_f09_f09_mg17_ssp245_2015-01-01_2019-01-01_hour_locations.nc\n",
      "//proj/bolinc/users/x_sarbl/analysis/Output_data_BS-FDBCK/collocated_ds/NorESM/OsloAero_intBVOC_f09_f09_mg17_ssp245/SS_A1_OsloAero_intBVOC_f09_f09_mg17_ssp245_2015-01-01_2019-01-01_hour_locations.nc\n",
      "//proj/bolinc/users/x_sarbl/analysis/Output_data_BS-FDBCK/collocated_ds/NorESM/OsloAero_intBVOC_f09_f09_mg17_ssp245/SS_A2_OsloAero_intBVOC_f09_f09_mg17_ssp245_2015-01-01_2019-01-01_hour_locations.nc\n",
      "//proj/bolinc/users/x_sarbl/analysis/Output_data_BS-FDBCK/collocated_ds/NorESM/OsloAero_intBVOC_f09_f09_mg17_ssp245/SS_A3_OsloAero_intBVOC_f09_f09_mg17_ssp245_2015-01-01_2019-01-01_hour_locations.nc\n",
      "//proj/bolinc/users/x_sarbl/analysis/Output_data_BS-FDBCK/collocated_ds/NorESM/OsloAero_intBVOC_f09_f09_mg17_ssp245/DST_A2_OsloAero_intBVOC_f09_f09_mg17_ssp245_2015-01-01_2019-01-01_hour_locations.nc\n",
      "//proj/bolinc/users/x_sarbl/analysis/Output_data_BS-FDBCK/collocated_ds/NorESM/OsloAero_intBVOC_f09_f09_mg17_ssp245/DST_A3_OsloAero_intBVOC_f09_f09_mg17_ssp245_2015-01-01_2019-01-01_hour_locations.nc\n",
      "//proj/bolinc/users/x_sarbl/analysis/Output_data_BS-FDBCK/collocated_ds/NorESM/OsloAero_intBVOC_f09_f09_mg17_ssp245/N50_OsloAero_intBVOC_f09_f09_mg17_ssp245_2015-01-01_2019-01-01_hour_locations.nc\n",
      "//proj/bolinc/users/x_sarbl/analysis/Output_data_BS-FDBCK/collocated_ds/NorESM/OsloAero_intBVOC_f09_f09_mg17_ssp245/N100_OsloAero_intBVOC_f09_f09_mg17_ssp245_2015-01-01_2019-01-01_hour_locations.nc\n",
      "//proj/bolinc/users/x_sarbl/analysis/Output_data_BS-FDBCK/collocated_ds/NorESM/OsloAero_intBVOC_f09_f09_mg17_ssp245/N150_OsloAero_intBVOC_f09_f09_mg17_ssp245_2015-01-01_2019-01-01_hour_locations.nc\n",
      "//proj/bolinc/users/x_sarbl/analysis/Output_data_BS-FDBCK/collocated_ds/NorESM/OsloAero_intBVOC_f09_f09_mg17_ssp245/N200_OsloAero_intBVOC_f09_f09_mg17_ssp245_2015-01-01_2019-01-01_hour_locations.nc\n",
      "UUUPS\n"
     ]
    }
   ],
   "source": [
    "for case_name in [case_name1]:\n",
    "    varlist = varl_st\n",
    "    c = CollocateLONLATout(case_name, from_time1, to_time1,\n",
    "                           True,\n",
    "                           'hour',\n",
    "                           history_field='.h1.')\n",
    "    if c.check_if_load_raw_necessary(varlist ):\n",
    "        time1 = time.time()\n",
    "        a = c.make_station_data_merge_monthly(varlist)\n",
    "        print(a)\n",
    "\n",
    "        time2 = time.time()\n",
    "        print('DONE : took {:.3f} s'.format( (time2-time1)))\n",
    "    else:\n",
    "        print('UUUPS')\n",
    "\n",
    "for case_name in [case_name2]:\n",
    "    varlist = varl_st# list_sized_vars_noresm\n",
    "    c = CollocateLONLATout(case_name, from_time2, to_time2,\n",
    "                           False,\n",
    "                           'hour',\n",
    "                           history_field='.h1.')\n",
    "    if c.check_if_load_raw_necessary(varlist ):\n",
    "        time1 = time.time()\n",
    "        a = c.make_station_data_merge_monthly(varl_tmp)\n",
    "        print(a)\n",
    "\n",
    "        time2 = time.time()\n",
    "        print('DONE : took {:.3f} s'.format( (time2-time1)))\n",
    "    else:\n",
    "        print('UUUPS')"
   ]
  },
  {
   "cell_type": "code",
   "execution_count": 24,
   "id": "bc3b7c4a-5ba0-49f3-926e-e28c5e342057",
   "metadata": {
    "scrolled": true,
    "tags": []
   },
   "outputs": [
    {
     "name": "stderr",
     "output_type": "stream",
     "text": [
      "2022-10-25 09:58:14,914 useful_scit  INFO     Opening: [//proj/bolinc/users/x_sarbl/analysis/Output_data_BS-FDBCK/collocated_ds/NorESM/OsloAero_intBVOC_f09_f09_mg17_full/SOA_NA_OsloAero_intBVOC_f09_f09_mg17_full_2012-01-01_2015-01-01_hour_locations.nc,//proj/bolinc/users/x_sarbl/analysis/Output_data_BS-FDBCK/collocated_ds/NorESM/OsloAero_intBVOC_f09_f09_mg17_full/SOA_A1_OsloAero_intBVOC_f09_f09_mg17_full_2012-01-01_2015-01-01_hour_locations.nc,//proj/bolinc/users/x_sarbl/analysis/Output_data_BS-FDBCK/collocated_ds/NorESM/OsloAero_intBVOC_f09_f09_mg17_full/OM_NI_OsloAero_intBVOC_f09_f09_mg17_full_2012-01-01_2015-01-01_hour_locations.nc,//proj/bolinc/users/x_sarbl/analysis/Output_data_BS-FDBCK/collocated_ds/NorESM/OsloAero_intBVOC_f09_f09_mg17_full/OM_AI_OsloAero_intBVOC_f09_f09_mg17_full_2012-01-01_2015-01-01_hour_locations.nc,//proj/bolinc/users/x_sarbl/analysis/Output_data_BS-FDBCK/collocated_ds/NorESM/OsloAero_intBVOC_f09_f09_mg17_full/OM_AC_OsloAero_intBVOC_f09_f09_mg17_full_2012-01-01_2015-01-01_hour_locations.nc,//proj/bolinc/users/x_sarbl/analysis/Output_data_BS-FDBCK/collocated_ds/NorESM/OsloAero_intBVOC_f09_f09_mg17_full/SO4_NA_OsloAero_intBVOC_f09_f09_mg17_full_2012-01-01_2015-01-01_hour_locations.nc,//proj/bolinc/users/x_sarbl/analysis/Output_data_BS-FDBCK/collocated_ds/NorESM/OsloAero_intBVOC_f09_f09_mg17_full/SO4_A1_OsloAero_intBVOC_f09_f09_mg17_full_2012-01-01_2015-01-01_hour_locations.nc,//proj/bolinc/users/x_sarbl/analysis/Output_data_BS-FDBCK/collocated_ds/NorESM/OsloAero_intBVOC_f09_f09_mg17_full/SO4_A2_OsloAero_intBVOC_f09_f09_mg17_full_2012-01-01_2015-01-01_hour_locations.nc,//proj/bolinc/users/x_sarbl/analysis/Output_data_BS-FDBCK/collocated_ds/NorESM/OsloAero_intBVOC_f09_f09_mg17_full/SO4_AC_OsloAero_intBVOC_f09_f09_mg17_full_2012-01-01_2015-01-01_hour_locations.nc,//proj/bolinc/users/x_sarbl/analysis/Output_data_BS-FDBCK/collocated_ds/NorESM/OsloAero_intBVOC_f09_f09_mg17_full/SO4_PR_OsloAero_intBVOC_f09_f09_mg17_full_2012-01-01_2015-01-01_hour_locations.nc,//proj/bolinc/users/x_sarbl/analysis/Output_data_BS-FDBCK/collocated_ds/NorESM/OsloAero_intBVOC_f09_f09_mg17_full/BC_N_OsloAero_intBVOC_f09_f09_mg17_full_2012-01-01_2015-01-01_hour_locations.nc,//proj/bolinc/users/x_sarbl/analysis/Output_data_BS-FDBCK/collocated_ds/NorESM/OsloAero_intBVOC_f09_f09_mg17_full/BC_AX_OsloAero_intBVOC_f09_f09_mg17_full_2012-01-01_2015-01-01_hour_locations.nc,//proj/bolinc/users/x_sarbl/analysis/Output_data_BS-FDBCK/collocated_ds/NorESM/OsloAero_intBVOC_f09_f09_mg17_full/BC_NI_OsloAero_intBVOC_f09_f09_mg17_full_2012-01-01_2015-01-01_hour_locations.nc,//proj/bolinc/users/x_sarbl/analysis/Output_data_BS-FDBCK/collocated_ds/NorESM/OsloAero_intBVOC_f09_f09_mg17_full/BC_A_OsloAero_intBVOC_f09_f09_mg17_full_2012-01-01_2015-01-01_hour_locations.nc,//proj/bolinc/users/x_sarbl/analysis/Output_data_BS-FDBCK/collocated_ds/NorESM/OsloAero_intBVOC_f09_f09_mg17_full/BC_AI_OsloAero_intBVOC_f09_f09_mg17_full_2012-01-01_2015-01-01_hour_locations.nc,//proj/bolinc/users/x_sarbl/analysis/Output_data_BS-FDBCK/collocated_ds/NorESM/OsloAero_intBVOC_f09_f09_mg17_full/BC_AC_OsloAero_intBVOC_f09_f09_mg17_full_2012-01-01_2015-01-01_hour_locations.nc,//proj/bolinc/users/x_sarbl/analysis/Output_data_BS-FDBCK/collocated_ds/NorESM/OsloAero_intBVOC_f09_f09_mg17_full/SS_A1_OsloAero_intBVOC_f09_f09_mg17_full_2012-01-01_2015-01-01_hour_locations.nc,//proj/bolinc/users/x_sarbl/analysis/Output_data_BS-FDBCK/collocated_ds/NorESM/OsloAero_intBVOC_f09_f09_mg17_full/SS_A2_OsloAero_intBVOC_f09_f09_mg17_full_2012-01-01_2015-01-01_hour_locations.nc,//proj/bolinc/users/x_sarbl/analysis/Output_data_BS-FDBCK/collocated_ds/NorESM/OsloAero_intBVOC_f09_f09_mg17_full/SS_A3_OsloAero_intBVOC_f09_f09_mg17_full_2012-01-01_2015-01-01_hour_locations.nc,//proj/bolinc/users/x_sarbl/analysis/Output_data_BS-FDBCK/collocated_ds/NorESM/OsloAero_intBVOC_f09_f09_mg17_full/DST_A2_OsloAero_intBVOC_f09_f09_mg17_full_2012-01-01_2015-01-01_hour_locations.nc,//proj/bolinc/users/x_sarbl/analysis/Output_data_BS-FDBCK/collocated_ds/NorESM/OsloAero_intBVOC_f09_f09_mg17_full/DST_A3_OsloAero_intBVOC_f09_f09_mg17_full_2012-01-01_2015-01-01_hour_locations.nc,//proj/bolinc/users/x_sarbl/analysis/Output_data_BS-FDBCK/collocated_ds/NorESM/OsloAero_intBVOC_f09_f09_mg17_full/N50_OsloAero_intBVOC_f09_f09_mg17_full_2012-01-01_2015-01-01_hour_locations.nc,//proj/bolinc/users/x_sarbl/analysis/Output_data_BS-FDBCK/collocated_ds/NorESM/OsloAero_intBVOC_f09_f09_mg17_full/N100_OsloAero_intBVOC_f09_f09_mg17_full_2012-01-01_2015-01-01_hour_locations.nc,//proj/bolinc/users/x_sarbl/analysis/Output_data_BS-FDBCK/collocated_ds/NorESM/OsloAero_intBVOC_f09_f09_mg17_full/N150_OsloAero_intBVOC_f09_f09_mg17_full_2012-01-01_2015-01-01_hour_locations.nc,//proj/bolinc/users/x_sarbl/analysis/Output_data_BS-FDBCK/collocated_ds/NorESM/OsloAero_intBVOC_f09_f09_mg17_full/N200_OsloAero_intBVOC_f09_f09_mg17_full_2012-01-01_2015-01-01_hour_locations.nc]\n"
     ]
    },
    {
     "name": "stdout",
     "output_type": "stream",
     "text": [
      "//proj/bolinc/users/x_sarbl/analysis/Output_data_BS-FDBCK/collocated_ds/NorESM/OsloAero_intBVOC_f09_f09_mg17_full/SOA_NA_OsloAero_intBVOC_f09_f09_mg17_full_2012-01-01_2015-01-01_hour_locations.nc\n",
      "//proj/bolinc/users/x_sarbl/analysis/Output_data_BS-FDBCK/collocated_ds/NorESM/OsloAero_intBVOC_f09_f09_mg17_full/SOA_A1_OsloAero_intBVOC_f09_f09_mg17_full_2012-01-01_2015-01-01_hour_locations.nc\n",
      "//proj/bolinc/users/x_sarbl/analysis/Output_data_BS-FDBCK/collocated_ds/NorESM/OsloAero_intBVOC_f09_f09_mg17_full/OM_NI_OsloAero_intBVOC_f09_f09_mg17_full_2012-01-01_2015-01-01_hour_locations.nc\n",
      "//proj/bolinc/users/x_sarbl/analysis/Output_data_BS-FDBCK/collocated_ds/NorESM/OsloAero_intBVOC_f09_f09_mg17_full/OM_AI_OsloAero_intBVOC_f09_f09_mg17_full_2012-01-01_2015-01-01_hour_locations.nc\n",
      "//proj/bolinc/users/x_sarbl/analysis/Output_data_BS-FDBCK/collocated_ds/NorESM/OsloAero_intBVOC_f09_f09_mg17_full/OM_AC_OsloAero_intBVOC_f09_f09_mg17_full_2012-01-01_2015-01-01_hour_locations.nc\n",
      "//proj/bolinc/users/x_sarbl/analysis/Output_data_BS-FDBCK/collocated_ds/NorESM/OsloAero_intBVOC_f09_f09_mg17_full/SO4_NA_OsloAero_intBVOC_f09_f09_mg17_full_2012-01-01_2015-01-01_hour_locations.nc\n",
      "//proj/bolinc/users/x_sarbl/analysis/Output_data_BS-FDBCK/collocated_ds/NorESM/OsloAero_intBVOC_f09_f09_mg17_full/SO4_A1_OsloAero_intBVOC_f09_f09_mg17_full_2012-01-01_2015-01-01_hour_locations.nc\n",
      "//proj/bolinc/users/x_sarbl/analysis/Output_data_BS-FDBCK/collocated_ds/NorESM/OsloAero_intBVOC_f09_f09_mg17_full/SO4_A2_OsloAero_intBVOC_f09_f09_mg17_full_2012-01-01_2015-01-01_hour_locations.nc\n",
      "//proj/bolinc/users/x_sarbl/analysis/Output_data_BS-FDBCK/collocated_ds/NorESM/OsloAero_intBVOC_f09_f09_mg17_full/SO4_AC_OsloAero_intBVOC_f09_f09_mg17_full_2012-01-01_2015-01-01_hour_locations.nc\n",
      "//proj/bolinc/users/x_sarbl/analysis/Output_data_BS-FDBCK/collocated_ds/NorESM/OsloAero_intBVOC_f09_f09_mg17_full/SO4_PR_OsloAero_intBVOC_f09_f09_mg17_full_2012-01-01_2015-01-01_hour_locations.nc\n",
      "//proj/bolinc/users/x_sarbl/analysis/Output_data_BS-FDBCK/collocated_ds/NorESM/OsloAero_intBVOC_f09_f09_mg17_full/BC_N_OsloAero_intBVOC_f09_f09_mg17_full_2012-01-01_2015-01-01_hour_locations.nc\n",
      "//proj/bolinc/users/x_sarbl/analysis/Output_data_BS-FDBCK/collocated_ds/NorESM/OsloAero_intBVOC_f09_f09_mg17_full/BC_AX_OsloAero_intBVOC_f09_f09_mg17_full_2012-01-01_2015-01-01_hour_locations.nc\n",
      "//proj/bolinc/users/x_sarbl/analysis/Output_data_BS-FDBCK/collocated_ds/NorESM/OsloAero_intBVOC_f09_f09_mg17_full/BC_NI_OsloAero_intBVOC_f09_f09_mg17_full_2012-01-01_2015-01-01_hour_locations.nc\n",
      "//proj/bolinc/users/x_sarbl/analysis/Output_data_BS-FDBCK/collocated_ds/NorESM/OsloAero_intBVOC_f09_f09_mg17_full/BC_A_OsloAero_intBVOC_f09_f09_mg17_full_2012-01-01_2015-01-01_hour_locations.nc\n",
      "//proj/bolinc/users/x_sarbl/analysis/Output_data_BS-FDBCK/collocated_ds/NorESM/OsloAero_intBVOC_f09_f09_mg17_full/BC_AI_OsloAero_intBVOC_f09_f09_mg17_full_2012-01-01_2015-01-01_hour_locations.nc\n",
      "//proj/bolinc/users/x_sarbl/analysis/Output_data_BS-FDBCK/collocated_ds/NorESM/OsloAero_intBVOC_f09_f09_mg17_full/BC_AC_OsloAero_intBVOC_f09_f09_mg17_full_2012-01-01_2015-01-01_hour_locations.nc\n",
      "//proj/bolinc/users/x_sarbl/analysis/Output_data_BS-FDBCK/collocated_ds/NorESM/OsloAero_intBVOC_f09_f09_mg17_full/SS_A1_OsloAero_intBVOC_f09_f09_mg17_full_2012-01-01_2015-01-01_hour_locations.nc\n",
      "//proj/bolinc/users/x_sarbl/analysis/Output_data_BS-FDBCK/collocated_ds/NorESM/OsloAero_intBVOC_f09_f09_mg17_full/SS_A2_OsloAero_intBVOC_f09_f09_mg17_full_2012-01-01_2015-01-01_hour_locations.nc\n",
      "//proj/bolinc/users/x_sarbl/analysis/Output_data_BS-FDBCK/collocated_ds/NorESM/OsloAero_intBVOC_f09_f09_mg17_full/SS_A3_OsloAero_intBVOC_f09_f09_mg17_full_2012-01-01_2015-01-01_hour_locations.nc\n",
      "//proj/bolinc/users/x_sarbl/analysis/Output_data_BS-FDBCK/collocated_ds/NorESM/OsloAero_intBVOC_f09_f09_mg17_full/DST_A2_OsloAero_intBVOC_f09_f09_mg17_full_2012-01-01_2015-01-01_hour_locations.nc\n",
      "//proj/bolinc/users/x_sarbl/analysis/Output_data_BS-FDBCK/collocated_ds/NorESM/OsloAero_intBVOC_f09_f09_mg17_full/DST_A3_OsloAero_intBVOC_f09_f09_mg17_full_2012-01-01_2015-01-01_hour_locations.nc\n",
      "//proj/bolinc/users/x_sarbl/analysis/Output_data_BS-FDBCK/collocated_ds/NorESM/OsloAero_intBVOC_f09_f09_mg17_full/N50_OsloAero_intBVOC_f09_f09_mg17_full_2012-01-01_2015-01-01_hour_locations.nc\n",
      "//proj/bolinc/users/x_sarbl/analysis/Output_data_BS-FDBCK/collocated_ds/NorESM/OsloAero_intBVOC_f09_f09_mg17_full/N100_OsloAero_intBVOC_f09_f09_mg17_full_2012-01-01_2015-01-01_hour_locations.nc\n",
      "//proj/bolinc/users/x_sarbl/analysis/Output_data_BS-FDBCK/collocated_ds/NorESM/OsloAero_intBVOC_f09_f09_mg17_full/N150_OsloAero_intBVOC_f09_f09_mg17_full_2012-01-01_2015-01-01_hour_locations.nc\n",
      "//proj/bolinc/users/x_sarbl/analysis/Output_data_BS-FDBCK/collocated_ds/NorESM/OsloAero_intBVOC_f09_f09_mg17_full/N200_OsloAero_intBVOC_f09_f09_mg17_full_2012-01-01_2015-01-01_hour_locations.nc\n",
      "2022-10-25 09:58:14,914 useful_scit  INFO     Opening: [//proj/bolinc/users/x_sarbl/analysis/Output_data_BS-FDBCK/collocated_ds/NorESM/OsloAero_intBVOC_f09_f09_mg17_full/SOA_NA_OsloAero_intBVOC_f09_f09_mg17_full_2012-01-01_2015-01-01_hour_locations.nc,//proj/bolinc/users/x_sarbl/analysis/Output_data_BS-FDBCK/collocated_ds/NorESM/OsloAero_intBVOC_f09_f09_mg17_full/SOA_A1_OsloAero_intBVOC_f09_f09_mg17_full_2012-01-01_2015-01-01_hour_locations.nc,//proj/bolinc/users/x_sarbl/analysis/Output_data_BS-FDBCK/collocated_ds/NorESM/OsloAero_intBVOC_f09_f09_mg17_full/OM_NI_OsloAero_intBVOC_f09_f09_mg17_full_2012-01-01_2015-01-01_hour_locations.nc,//proj/bolinc/users/x_sarbl/analysis/Output_data_BS-FDBCK/collocated_ds/NorESM/OsloAero_intBVOC_f09_f09_mg17_full/OM_AI_OsloAero_intBVOC_f09_f09_mg17_full_2012-01-01_2015-01-01_hour_locations.nc,//proj/bolinc/users/x_sarbl/analysis/Output_data_BS-FDBCK/collocated_ds/NorESM/OsloAero_intBVOC_f09_f09_mg17_full/OM_AC_OsloAero_intBVOC_f09_f09_mg17_full_2012-01-01_2015-01-01_hour_locations.nc,//proj/bolinc/users/x_sarbl/analysis/Output_data_BS-FDBCK/collocated_ds/NorESM/OsloAero_intBVOC_f09_f09_mg17_full/SO4_NA_OsloAero_intBVOC_f09_f09_mg17_full_2012-01-01_2015-01-01_hour_locations.nc,//proj/bolinc/users/x_sarbl/analysis/Output_data_BS-FDBCK/collocated_ds/NorESM/OsloAero_intBVOC_f09_f09_mg17_full/SO4_A1_OsloAero_intBVOC_f09_f09_mg17_full_2012-01-01_2015-01-01_hour_locations.nc,//proj/bolinc/users/x_sarbl/analysis/Output_data_BS-FDBCK/collocated_ds/NorESM/OsloAero_intBVOC_f09_f09_mg17_full/SO4_A2_OsloAero_intBVOC_f09_f09_mg17_full_2012-01-01_2015-01-01_hour_locations.nc,//proj/bolinc/users/x_sarbl/analysis/Output_data_BS-FDBCK/collocated_ds/NorESM/OsloAero_intBVOC_f09_f09_mg17_full/SO4_AC_OsloAero_intBVOC_f09_f09_mg17_full_2012-01-01_2015-01-01_hour_locations.nc,//proj/bolinc/users/x_sarbl/analysis/Output_data_BS-FDBCK/collocated_ds/NorESM/OsloAero_intBVOC_f09_f09_mg17_full/SO4_PR_OsloAero_intBVOC_f09_f09_mg17_full_2012-01-01_2015-01-01_hour_locations.nc,//proj/bolinc/users/x_sarbl/analysis/Output_data_BS-FDBCK/collocated_ds/NorESM/OsloAero_intBVOC_f09_f09_mg17_full/BC_N_OsloAero_intBVOC_f09_f09_mg17_full_2012-01-01_2015-01-01_hour_locations.nc,//proj/bolinc/users/x_sarbl/analysis/Output_data_BS-FDBCK/collocated_ds/NorESM/OsloAero_intBVOC_f09_f09_mg17_full/BC_AX_OsloAero_intBVOC_f09_f09_mg17_full_2012-01-01_2015-01-01_hour_locations.nc,//proj/bolinc/users/x_sarbl/analysis/Output_data_BS-FDBCK/collocated_ds/NorESM/OsloAero_intBVOC_f09_f09_mg17_full/BC_NI_OsloAero_intBVOC_f09_f09_mg17_full_2012-01-01_2015-01-01_hour_locations.nc,//proj/bolinc/users/x_sarbl/analysis/Output_data_BS-FDBCK/collocated_ds/NorESM/OsloAero_intBVOC_f09_f09_mg17_full/BC_A_OsloAero_intBVOC_f09_f09_mg17_full_2012-01-01_2015-01-01_hour_locations.nc,//proj/bolinc/users/x_sarbl/analysis/Output_data_BS-FDBCK/collocated_ds/NorESM/OsloAero_intBVOC_f09_f09_mg17_full/BC_AI_OsloAero_intBVOC_f09_f09_mg17_full_2012-01-01_2015-01-01_hour_locations.nc,//proj/bolinc/users/x_sarbl/analysis/Output_data_BS-FDBCK/collocated_ds/NorESM/OsloAero_intBVOC_f09_f09_mg17_full/BC_AC_OsloAero_intBVOC_f09_f09_mg17_full_2012-01-01_2015-01-01_hour_locations.nc,//proj/bolinc/users/x_sarbl/analysis/Output_data_BS-FDBCK/collocated_ds/NorESM/OsloAero_intBVOC_f09_f09_mg17_full/SS_A1_OsloAero_intBVOC_f09_f09_mg17_full_2012-01-01_2015-01-01_hour_locations.nc,//proj/bolinc/users/x_sarbl/analysis/Output_data_BS-FDBCK/collocated_ds/NorESM/OsloAero_intBVOC_f09_f09_mg17_full/SS_A2_OsloAero_intBVOC_f09_f09_mg17_full_2012-01-01_2015-01-01_hour_locations.nc,//proj/bolinc/users/x_sarbl/analysis/Output_data_BS-FDBCK/collocated_ds/NorESM/OsloAero_intBVOC_f09_f09_mg17_full/SS_A3_OsloAero_intBVOC_f09_f09_mg17_full_2012-01-01_2015-01-01_hour_locations.nc,//proj/bolinc/users/x_sarbl/analysis/Output_data_BS-FDBCK/collocated_ds/NorESM/OsloAero_intBVOC_f09_f09_mg17_full/DST_A2_OsloAero_intBVOC_f09_f09_mg17_full_2012-01-01_2015-01-01_hour_locations.nc,//proj/bolinc/users/x_sarbl/analysis/Output_data_BS-FDBCK/collocated_ds/NorESM/OsloAero_intBVOC_f09_f09_mg17_full/DST_A3_OsloAero_intBVOC_f09_f09_mg17_full_2012-01-01_2015-01-01_hour_locations.nc,//proj/bolinc/users/x_sarbl/analysis/Output_data_BS-FDBCK/collocated_ds/NorESM/OsloAero_intBVOC_f09_f09_mg17_full/N50_OsloAero_intBVOC_f09_f09_mg17_full_2012-01-01_2015-01-01_hour_locations.nc,//proj/bolinc/users/x_sarbl/analysis/Output_data_BS-FDBCK/collocated_ds/NorESM/OsloAero_intBVOC_f09_f09_mg17_full/N100_OsloAero_intBVOC_f09_f09_mg17_full_2012-01-01_2015-01-01_hour_locations.nc,//proj/bolinc/users/x_sarbl/analysis/Output_data_BS-FDBCK/collocated_ds/NorESM/OsloAero_intBVOC_f09_f09_mg17_full/N150_OsloAero_intBVOC_f09_f09_mg17_full_2012-01-01_2015-01-01_hour_locations.nc,//proj/bolinc/users/x_sarbl/analysis/Output_data_BS-FDBCK/collocated_ds/NorESM/OsloAero_intBVOC_f09_f09_mg17_full/N200_OsloAero_intBVOC_f09_f09_mg17_full_2012-01-01_2015-01-01_hour_locations.nc]\n",
      "['//proj/bolinc/users/x_sarbl/analysis/Output_data_BS-FDBCK/collocated_ds/NorESM/OsloAero_intBVOC_f09_f09_mg17_full/SOA_NA_OsloAero_intBVOC_f09_f09_mg17_full_2012-01-01_2015-01-01_hour_locations.nc', '//proj/bolinc/users/x_sarbl/analysis/Output_data_BS-FDBCK/collocated_ds/NorESM/OsloAero_intBVOC_f09_f09_mg17_full/SOA_A1_OsloAero_intBVOC_f09_f09_mg17_full_2012-01-01_2015-01-01_hour_locations.nc', '//proj/bolinc/users/x_sarbl/analysis/Output_data_BS-FDBCK/collocated_ds/NorESM/OsloAero_intBVOC_f09_f09_mg17_full/OM_NI_OsloAero_intBVOC_f09_f09_mg17_full_2012-01-01_2015-01-01_hour_locations.nc', '//proj/bolinc/users/x_sarbl/analysis/Output_data_BS-FDBCK/collocated_ds/NorESM/OsloAero_intBVOC_f09_f09_mg17_full/OM_AI_OsloAero_intBVOC_f09_f09_mg17_full_2012-01-01_2015-01-01_hour_locations.nc', '//proj/bolinc/users/x_sarbl/analysis/Output_data_BS-FDBCK/collocated_ds/NorESM/OsloAero_intBVOC_f09_f09_mg17_full/OM_AC_OsloAero_intBVOC_f09_f09_mg17_full_2012-01-01_2015-01-01_hour_locations.nc', '//proj/bolinc/users/x_sarbl/analysis/Output_data_BS-FDBCK/collocated_ds/NorESM/OsloAero_intBVOC_f09_f09_mg17_full/SO4_NA_OsloAero_intBVOC_f09_f09_mg17_full_2012-01-01_2015-01-01_hour_locations.nc', '//proj/bolinc/users/x_sarbl/analysis/Output_data_BS-FDBCK/collocated_ds/NorESM/OsloAero_intBVOC_f09_f09_mg17_full/SO4_A1_OsloAero_intBVOC_f09_f09_mg17_full_2012-01-01_2015-01-01_hour_locations.nc', '//proj/bolinc/users/x_sarbl/analysis/Output_data_BS-FDBCK/collocated_ds/NorESM/OsloAero_intBVOC_f09_f09_mg17_full/SO4_A2_OsloAero_intBVOC_f09_f09_mg17_full_2012-01-01_2015-01-01_hour_locations.nc', '//proj/bolinc/users/x_sarbl/analysis/Output_data_BS-FDBCK/collocated_ds/NorESM/OsloAero_intBVOC_f09_f09_mg17_full/SO4_AC_OsloAero_intBVOC_f09_f09_mg17_full_2012-01-01_2015-01-01_hour_locations.nc', '//proj/bolinc/users/x_sarbl/analysis/Output_data_BS-FDBCK/collocated_ds/NorESM/OsloAero_intBVOC_f09_f09_mg17_full/SO4_PR_OsloAero_intBVOC_f09_f09_mg17_full_2012-01-01_2015-01-01_hour_locations.nc', '//proj/bolinc/users/x_sarbl/analysis/Output_data_BS-FDBCK/collocated_ds/NorESM/OsloAero_intBVOC_f09_f09_mg17_full/BC_N_OsloAero_intBVOC_f09_f09_mg17_full_2012-01-01_2015-01-01_hour_locations.nc', '//proj/bolinc/users/x_sarbl/analysis/Output_data_BS-FDBCK/collocated_ds/NorESM/OsloAero_intBVOC_f09_f09_mg17_full/BC_AX_OsloAero_intBVOC_f09_f09_mg17_full_2012-01-01_2015-01-01_hour_locations.nc', '//proj/bolinc/users/x_sarbl/analysis/Output_data_BS-FDBCK/collocated_ds/NorESM/OsloAero_intBVOC_f09_f09_mg17_full/BC_NI_OsloAero_intBVOC_f09_f09_mg17_full_2012-01-01_2015-01-01_hour_locations.nc', '//proj/bolinc/users/x_sarbl/analysis/Output_data_BS-FDBCK/collocated_ds/NorESM/OsloAero_intBVOC_f09_f09_mg17_full/BC_A_OsloAero_intBVOC_f09_f09_mg17_full_2012-01-01_2015-01-01_hour_locations.nc', '//proj/bolinc/users/x_sarbl/analysis/Output_data_BS-FDBCK/collocated_ds/NorESM/OsloAero_intBVOC_f09_f09_mg17_full/BC_AI_OsloAero_intBVOC_f09_f09_mg17_full_2012-01-01_2015-01-01_hour_locations.nc', '//proj/bolinc/users/x_sarbl/analysis/Output_data_BS-FDBCK/collocated_ds/NorESM/OsloAero_intBVOC_f09_f09_mg17_full/BC_AC_OsloAero_intBVOC_f09_f09_mg17_full_2012-01-01_2015-01-01_hour_locations.nc', '//proj/bolinc/users/x_sarbl/analysis/Output_data_BS-FDBCK/collocated_ds/NorESM/OsloAero_intBVOC_f09_f09_mg17_full/SS_A1_OsloAero_intBVOC_f09_f09_mg17_full_2012-01-01_2015-01-01_hour_locations.nc', '//proj/bolinc/users/x_sarbl/analysis/Output_data_BS-FDBCK/collocated_ds/NorESM/OsloAero_intBVOC_f09_f09_mg17_full/SS_A2_OsloAero_intBVOC_f09_f09_mg17_full_2012-01-01_2015-01-01_hour_locations.nc', '//proj/bolinc/users/x_sarbl/analysis/Output_data_BS-FDBCK/collocated_ds/NorESM/OsloAero_intBVOC_f09_f09_mg17_full/SS_A3_OsloAero_intBVOC_f09_f09_mg17_full_2012-01-01_2015-01-01_hour_locations.nc', '//proj/bolinc/users/x_sarbl/analysis/Output_data_BS-FDBCK/collocated_ds/NorESM/OsloAero_intBVOC_f09_f09_mg17_full/DST_A2_OsloAero_intBVOC_f09_f09_mg17_full_2012-01-01_2015-01-01_hour_locations.nc', '//proj/bolinc/users/x_sarbl/analysis/Output_data_BS-FDBCK/collocated_ds/NorESM/OsloAero_intBVOC_f09_f09_mg17_full/DST_A3_OsloAero_intBVOC_f09_f09_mg17_full_2012-01-01_2015-01-01_hour_locations.nc', '//proj/bolinc/users/x_sarbl/analysis/Output_data_BS-FDBCK/collocated_ds/NorESM/OsloAero_intBVOC_f09_f09_mg17_full/N50_OsloAero_intBVOC_f09_f09_mg17_full_2012-01-01_2015-01-01_hour_locations.nc', '//proj/bolinc/users/x_sarbl/analysis/Output_data_BS-FDBCK/collocated_ds/NorESM/OsloAero_intBVOC_f09_f09_mg17_full/N100_OsloAero_intBVOC_f09_f09_mg17_full_2012-01-01_2015-01-01_hour_locations.nc', '//proj/bolinc/users/x_sarbl/analysis/Output_data_BS-FDBCK/collocated_ds/NorESM/OsloAero_intBVOC_f09_f09_mg17_full/N150_OsloAero_intBVOC_f09_f09_mg17_full_2012-01-01_2015-01-01_hour_locations.nc', '//proj/bolinc/users/x_sarbl/analysis/Output_data_BS-FDBCK/collocated_ds/NorESM/OsloAero_intBVOC_f09_f09_mg17_full/N200_OsloAero_intBVOC_f09_f09_mg17_full_2012-01-01_2015-01-01_hour_locations.nc']\n"
     ]
    }
   ],
   "source": [
    "dic_ds = dict()\n",
    "for ca in [case_name1]:\n",
    "    c = CollocateLONLATout(ca, from_time1, to_time1,\n",
    "                           False,\n",
    "                           'hour',\n",
    "                           history_field='.h1.')\n",
    "    ds = c.get_collocated_dataset(varl_st)\n",
    "    if 'location' in ds.coords:\n",
    "        ds = ds.rename({'location':'station'})\n",
    "    dic_ds[ca]=ds"
   ]
  },
  {
   "cell_type": "code",
   "execution_count": 25,
   "id": "a53fedc0-1b44-4373-a072-3e4bf68a58b2",
   "metadata": {
    "scrolled": true,
    "tags": []
   },
   "outputs": [
    {
     "name": "stderr",
     "output_type": "stream",
     "text": [
      "2022-10-25 09:58:20,415 useful_scit  INFO     Opening: [//proj/bolinc/users/x_sarbl/analysis/Output_data_BS-FDBCK/collocated_ds/NorESM/OsloAero_intBVOC_f09_f09_mg17_ssp245/SOA_NA_OsloAero_intBVOC_f09_f09_mg17_ssp245_2015-01-01_2019-01-01_hour_locations.nc,//proj/bolinc/users/x_sarbl/analysis/Output_data_BS-FDBCK/collocated_ds/NorESM/OsloAero_intBVOC_f09_f09_mg17_ssp245/SOA_A1_OsloAero_intBVOC_f09_f09_mg17_ssp245_2015-01-01_2019-01-01_hour_locations.nc,//proj/bolinc/users/x_sarbl/analysis/Output_data_BS-FDBCK/collocated_ds/NorESM/OsloAero_intBVOC_f09_f09_mg17_ssp245/OM_NI_OsloAero_intBVOC_f09_f09_mg17_ssp245_2015-01-01_2019-01-01_hour_locations.nc,//proj/bolinc/users/x_sarbl/analysis/Output_data_BS-FDBCK/collocated_ds/NorESM/OsloAero_intBVOC_f09_f09_mg17_ssp245/OM_AI_OsloAero_intBVOC_f09_f09_mg17_ssp245_2015-01-01_2019-01-01_hour_locations.nc,//proj/bolinc/users/x_sarbl/analysis/Output_data_BS-FDBCK/collocated_ds/NorESM/OsloAero_intBVOC_f09_f09_mg17_ssp245/OM_AC_OsloAero_intBVOC_f09_f09_mg17_ssp245_2015-01-01_2019-01-01_hour_locations.nc,//proj/bolinc/users/x_sarbl/analysis/Output_data_BS-FDBCK/collocated_ds/NorESM/OsloAero_intBVOC_f09_f09_mg17_ssp245/SO4_NA_OsloAero_intBVOC_f09_f09_mg17_ssp245_2015-01-01_2019-01-01_hour_locations.nc,//proj/bolinc/users/x_sarbl/analysis/Output_data_BS-FDBCK/collocated_ds/NorESM/OsloAero_intBVOC_f09_f09_mg17_ssp245/SO4_A1_OsloAero_intBVOC_f09_f09_mg17_ssp245_2015-01-01_2019-01-01_hour_locations.nc,//proj/bolinc/users/x_sarbl/analysis/Output_data_BS-FDBCK/collocated_ds/NorESM/OsloAero_intBVOC_f09_f09_mg17_ssp245/SO4_A2_OsloAero_intBVOC_f09_f09_mg17_ssp245_2015-01-01_2019-01-01_hour_locations.nc,//proj/bolinc/users/x_sarbl/analysis/Output_data_BS-FDBCK/collocated_ds/NorESM/OsloAero_intBVOC_f09_f09_mg17_ssp245/SO4_AC_OsloAero_intBVOC_f09_f09_mg17_ssp245_2015-01-01_2019-01-01_hour_locations.nc,//proj/bolinc/users/x_sarbl/analysis/Output_data_BS-FDBCK/collocated_ds/NorESM/OsloAero_intBVOC_f09_f09_mg17_ssp245/SO4_PR_OsloAero_intBVOC_f09_f09_mg17_ssp245_2015-01-01_2019-01-01_hour_locations.nc,//proj/bolinc/users/x_sarbl/analysis/Output_data_BS-FDBCK/collocated_ds/NorESM/OsloAero_intBVOC_f09_f09_mg17_ssp245/BC_N_OsloAero_intBVOC_f09_f09_mg17_ssp245_2015-01-01_2019-01-01_hour_locations.nc,//proj/bolinc/users/x_sarbl/analysis/Output_data_BS-FDBCK/collocated_ds/NorESM/OsloAero_intBVOC_f09_f09_mg17_ssp245/BC_AX_OsloAero_intBVOC_f09_f09_mg17_ssp245_2015-01-01_2019-01-01_hour_locations.nc,//proj/bolinc/users/x_sarbl/analysis/Output_data_BS-FDBCK/collocated_ds/NorESM/OsloAero_intBVOC_f09_f09_mg17_ssp245/BC_NI_OsloAero_intBVOC_f09_f09_mg17_ssp245_2015-01-01_2019-01-01_hour_locations.nc,//proj/bolinc/users/x_sarbl/analysis/Output_data_BS-FDBCK/collocated_ds/NorESM/OsloAero_intBVOC_f09_f09_mg17_ssp245/BC_A_OsloAero_intBVOC_f09_f09_mg17_ssp245_2015-01-01_2019-01-01_hour_locations.nc,//proj/bolinc/users/x_sarbl/analysis/Output_data_BS-FDBCK/collocated_ds/NorESM/OsloAero_intBVOC_f09_f09_mg17_ssp245/BC_AI_OsloAero_intBVOC_f09_f09_mg17_ssp245_2015-01-01_2019-01-01_hour_locations.nc,//proj/bolinc/users/x_sarbl/analysis/Output_data_BS-FDBCK/collocated_ds/NorESM/OsloAero_intBVOC_f09_f09_mg17_ssp245/BC_AC_OsloAero_intBVOC_f09_f09_mg17_ssp245_2015-01-01_2019-01-01_hour_locations.nc,//proj/bolinc/users/x_sarbl/analysis/Output_data_BS-FDBCK/collocated_ds/NorESM/OsloAero_intBVOC_f09_f09_mg17_ssp245/SS_A1_OsloAero_intBVOC_f09_f09_mg17_ssp245_2015-01-01_2019-01-01_hour_locations.nc,//proj/bolinc/users/x_sarbl/analysis/Output_data_BS-FDBCK/collocated_ds/NorESM/OsloAero_intBVOC_f09_f09_mg17_ssp245/SS_A2_OsloAero_intBVOC_f09_f09_mg17_ssp245_2015-01-01_2019-01-01_hour_locations.nc,//proj/bolinc/users/x_sarbl/analysis/Output_data_BS-FDBCK/collocated_ds/NorESM/OsloAero_intBVOC_f09_f09_mg17_ssp245/SS_A3_OsloAero_intBVOC_f09_f09_mg17_ssp245_2015-01-01_2019-01-01_hour_locations.nc,//proj/bolinc/users/x_sarbl/analysis/Output_data_BS-FDBCK/collocated_ds/NorESM/OsloAero_intBVOC_f09_f09_mg17_ssp245/DST_A2_OsloAero_intBVOC_f09_f09_mg17_ssp245_2015-01-01_2019-01-01_hour_locations.nc,//proj/bolinc/users/x_sarbl/analysis/Output_data_BS-FDBCK/collocated_ds/NorESM/OsloAero_intBVOC_f09_f09_mg17_ssp245/DST_A3_OsloAero_intBVOC_f09_f09_mg17_ssp245_2015-01-01_2019-01-01_hour_locations.nc,//proj/bolinc/users/x_sarbl/analysis/Output_data_BS-FDBCK/collocated_ds/NorESM/OsloAero_intBVOC_f09_f09_mg17_ssp245/N50_OsloAero_intBVOC_f09_f09_mg17_ssp245_2015-01-01_2019-01-01_hour_locations.nc,//proj/bolinc/users/x_sarbl/analysis/Output_data_BS-FDBCK/collocated_ds/NorESM/OsloAero_intBVOC_f09_f09_mg17_ssp245/N100_OsloAero_intBVOC_f09_f09_mg17_ssp245_2015-01-01_2019-01-01_hour_locations.nc,//proj/bolinc/users/x_sarbl/analysis/Output_data_BS-FDBCK/collocated_ds/NorESM/OsloAero_intBVOC_f09_f09_mg17_ssp245/N150_OsloAero_intBVOC_f09_f09_mg17_ssp245_2015-01-01_2019-01-01_hour_locations.nc,//proj/bolinc/users/x_sarbl/analysis/Output_data_BS-FDBCK/collocated_ds/NorESM/OsloAero_intBVOC_f09_f09_mg17_ssp245/N200_OsloAero_intBVOC_f09_f09_mg17_ssp245_2015-01-01_2019-01-01_hour_locations.nc]\n"
     ]
    },
    {
     "name": "stdout",
     "output_type": "stream",
     "text": [
      "//proj/bolinc/users/x_sarbl/analysis/Output_data_BS-FDBCK/collocated_ds/NorESM/OsloAero_intBVOC_f09_f09_mg17_ssp245/SOA_NA_OsloAero_intBVOC_f09_f09_mg17_ssp245_2015-01-01_2019-01-01_hour_locations.nc\n",
      "//proj/bolinc/users/x_sarbl/analysis/Output_data_BS-FDBCK/collocated_ds/NorESM/OsloAero_intBVOC_f09_f09_mg17_ssp245/SOA_A1_OsloAero_intBVOC_f09_f09_mg17_ssp245_2015-01-01_2019-01-01_hour_locations.nc\n",
      "//proj/bolinc/users/x_sarbl/analysis/Output_data_BS-FDBCK/collocated_ds/NorESM/OsloAero_intBVOC_f09_f09_mg17_ssp245/OM_NI_OsloAero_intBVOC_f09_f09_mg17_ssp245_2015-01-01_2019-01-01_hour_locations.nc\n",
      "//proj/bolinc/users/x_sarbl/analysis/Output_data_BS-FDBCK/collocated_ds/NorESM/OsloAero_intBVOC_f09_f09_mg17_ssp245/OM_AI_OsloAero_intBVOC_f09_f09_mg17_ssp245_2015-01-01_2019-01-01_hour_locations.nc\n",
      "//proj/bolinc/users/x_sarbl/analysis/Output_data_BS-FDBCK/collocated_ds/NorESM/OsloAero_intBVOC_f09_f09_mg17_ssp245/OM_AC_OsloAero_intBVOC_f09_f09_mg17_ssp245_2015-01-01_2019-01-01_hour_locations.nc\n",
      "//proj/bolinc/users/x_sarbl/analysis/Output_data_BS-FDBCK/collocated_ds/NorESM/OsloAero_intBVOC_f09_f09_mg17_ssp245/SO4_NA_OsloAero_intBVOC_f09_f09_mg17_ssp245_2015-01-01_2019-01-01_hour_locations.nc\n",
      "//proj/bolinc/users/x_sarbl/analysis/Output_data_BS-FDBCK/collocated_ds/NorESM/OsloAero_intBVOC_f09_f09_mg17_ssp245/SO4_A1_OsloAero_intBVOC_f09_f09_mg17_ssp245_2015-01-01_2019-01-01_hour_locations.nc\n",
      "//proj/bolinc/users/x_sarbl/analysis/Output_data_BS-FDBCK/collocated_ds/NorESM/OsloAero_intBVOC_f09_f09_mg17_ssp245/SO4_A2_OsloAero_intBVOC_f09_f09_mg17_ssp245_2015-01-01_2019-01-01_hour_locations.nc\n",
      "//proj/bolinc/users/x_sarbl/analysis/Output_data_BS-FDBCK/collocated_ds/NorESM/OsloAero_intBVOC_f09_f09_mg17_ssp245/SO4_AC_OsloAero_intBVOC_f09_f09_mg17_ssp245_2015-01-01_2019-01-01_hour_locations.nc\n",
      "//proj/bolinc/users/x_sarbl/analysis/Output_data_BS-FDBCK/collocated_ds/NorESM/OsloAero_intBVOC_f09_f09_mg17_ssp245/SO4_PR_OsloAero_intBVOC_f09_f09_mg17_ssp245_2015-01-01_2019-01-01_hour_locations.nc\n",
      "//proj/bolinc/users/x_sarbl/analysis/Output_data_BS-FDBCK/collocated_ds/NorESM/OsloAero_intBVOC_f09_f09_mg17_ssp245/BC_N_OsloAero_intBVOC_f09_f09_mg17_ssp245_2015-01-01_2019-01-01_hour_locations.nc\n",
      "//proj/bolinc/users/x_sarbl/analysis/Output_data_BS-FDBCK/collocated_ds/NorESM/OsloAero_intBVOC_f09_f09_mg17_ssp245/BC_AX_OsloAero_intBVOC_f09_f09_mg17_ssp245_2015-01-01_2019-01-01_hour_locations.nc\n",
      "//proj/bolinc/users/x_sarbl/analysis/Output_data_BS-FDBCK/collocated_ds/NorESM/OsloAero_intBVOC_f09_f09_mg17_ssp245/BC_NI_OsloAero_intBVOC_f09_f09_mg17_ssp245_2015-01-01_2019-01-01_hour_locations.nc\n",
      "//proj/bolinc/users/x_sarbl/analysis/Output_data_BS-FDBCK/collocated_ds/NorESM/OsloAero_intBVOC_f09_f09_mg17_ssp245/BC_A_OsloAero_intBVOC_f09_f09_mg17_ssp245_2015-01-01_2019-01-01_hour_locations.nc\n",
      "//proj/bolinc/users/x_sarbl/analysis/Output_data_BS-FDBCK/collocated_ds/NorESM/OsloAero_intBVOC_f09_f09_mg17_ssp245/BC_AI_OsloAero_intBVOC_f09_f09_mg17_ssp245_2015-01-01_2019-01-01_hour_locations.nc\n",
      "//proj/bolinc/users/x_sarbl/analysis/Output_data_BS-FDBCK/collocated_ds/NorESM/OsloAero_intBVOC_f09_f09_mg17_ssp245/BC_AC_OsloAero_intBVOC_f09_f09_mg17_ssp245_2015-01-01_2019-01-01_hour_locations.nc\n",
      "//proj/bolinc/users/x_sarbl/analysis/Output_data_BS-FDBCK/collocated_ds/NorESM/OsloAero_intBVOC_f09_f09_mg17_ssp245/SS_A1_OsloAero_intBVOC_f09_f09_mg17_ssp245_2015-01-01_2019-01-01_hour_locations.nc\n",
      "//proj/bolinc/users/x_sarbl/analysis/Output_data_BS-FDBCK/collocated_ds/NorESM/OsloAero_intBVOC_f09_f09_mg17_ssp245/SS_A2_OsloAero_intBVOC_f09_f09_mg17_ssp245_2015-01-01_2019-01-01_hour_locations.nc\n",
      "//proj/bolinc/users/x_sarbl/analysis/Output_data_BS-FDBCK/collocated_ds/NorESM/OsloAero_intBVOC_f09_f09_mg17_ssp245/SS_A3_OsloAero_intBVOC_f09_f09_mg17_ssp245_2015-01-01_2019-01-01_hour_locations.nc\n",
      "//proj/bolinc/users/x_sarbl/analysis/Output_data_BS-FDBCK/collocated_ds/NorESM/OsloAero_intBVOC_f09_f09_mg17_ssp245/DST_A2_OsloAero_intBVOC_f09_f09_mg17_ssp245_2015-01-01_2019-01-01_hour_locations.nc\n",
      "//proj/bolinc/users/x_sarbl/analysis/Output_data_BS-FDBCK/collocated_ds/NorESM/OsloAero_intBVOC_f09_f09_mg17_ssp245/DST_A3_OsloAero_intBVOC_f09_f09_mg17_ssp245_2015-01-01_2019-01-01_hour_locations.nc\n",
      "//proj/bolinc/users/x_sarbl/analysis/Output_data_BS-FDBCK/collocated_ds/NorESM/OsloAero_intBVOC_f09_f09_mg17_ssp245/N50_OsloAero_intBVOC_f09_f09_mg17_ssp245_2015-01-01_2019-01-01_hour_locations.nc\n",
      "//proj/bolinc/users/x_sarbl/analysis/Output_data_BS-FDBCK/collocated_ds/NorESM/OsloAero_intBVOC_f09_f09_mg17_ssp245/N100_OsloAero_intBVOC_f09_f09_mg17_ssp245_2015-01-01_2019-01-01_hour_locations.nc\n",
      "//proj/bolinc/users/x_sarbl/analysis/Output_data_BS-FDBCK/collocated_ds/NorESM/OsloAero_intBVOC_f09_f09_mg17_ssp245/N150_OsloAero_intBVOC_f09_f09_mg17_ssp245_2015-01-01_2019-01-01_hour_locations.nc\n",
      "//proj/bolinc/users/x_sarbl/analysis/Output_data_BS-FDBCK/collocated_ds/NorESM/OsloAero_intBVOC_f09_f09_mg17_ssp245/N200_OsloAero_intBVOC_f09_f09_mg17_ssp245_2015-01-01_2019-01-01_hour_locations.nc\n",
      "2022-10-25 09:58:20,415 useful_scit  INFO     Opening: [//proj/bolinc/users/x_sarbl/analysis/Output_data_BS-FDBCK/collocated_ds/NorESM/OsloAero_intBVOC_f09_f09_mg17_ssp245/SOA_NA_OsloAero_intBVOC_f09_f09_mg17_ssp245_2015-01-01_2019-01-01_hour_locations.nc,//proj/bolinc/users/x_sarbl/analysis/Output_data_BS-FDBCK/collocated_ds/NorESM/OsloAero_intBVOC_f09_f09_mg17_ssp245/SOA_A1_OsloAero_intBVOC_f09_f09_mg17_ssp245_2015-01-01_2019-01-01_hour_locations.nc,//proj/bolinc/users/x_sarbl/analysis/Output_data_BS-FDBCK/collocated_ds/NorESM/OsloAero_intBVOC_f09_f09_mg17_ssp245/OM_NI_OsloAero_intBVOC_f09_f09_mg17_ssp245_2015-01-01_2019-01-01_hour_locations.nc,//proj/bolinc/users/x_sarbl/analysis/Output_data_BS-FDBCK/collocated_ds/NorESM/OsloAero_intBVOC_f09_f09_mg17_ssp245/OM_AI_OsloAero_intBVOC_f09_f09_mg17_ssp245_2015-01-01_2019-01-01_hour_locations.nc,//proj/bolinc/users/x_sarbl/analysis/Output_data_BS-FDBCK/collocated_ds/NorESM/OsloAero_intBVOC_f09_f09_mg17_ssp245/OM_AC_OsloAero_intBVOC_f09_f09_mg17_ssp245_2015-01-01_2019-01-01_hour_locations.nc,//proj/bolinc/users/x_sarbl/analysis/Output_data_BS-FDBCK/collocated_ds/NorESM/OsloAero_intBVOC_f09_f09_mg17_ssp245/SO4_NA_OsloAero_intBVOC_f09_f09_mg17_ssp245_2015-01-01_2019-01-01_hour_locations.nc,//proj/bolinc/users/x_sarbl/analysis/Output_data_BS-FDBCK/collocated_ds/NorESM/OsloAero_intBVOC_f09_f09_mg17_ssp245/SO4_A1_OsloAero_intBVOC_f09_f09_mg17_ssp245_2015-01-01_2019-01-01_hour_locations.nc,//proj/bolinc/users/x_sarbl/analysis/Output_data_BS-FDBCK/collocated_ds/NorESM/OsloAero_intBVOC_f09_f09_mg17_ssp245/SO4_A2_OsloAero_intBVOC_f09_f09_mg17_ssp245_2015-01-01_2019-01-01_hour_locations.nc,//proj/bolinc/users/x_sarbl/analysis/Output_data_BS-FDBCK/collocated_ds/NorESM/OsloAero_intBVOC_f09_f09_mg17_ssp245/SO4_AC_OsloAero_intBVOC_f09_f09_mg17_ssp245_2015-01-01_2019-01-01_hour_locations.nc,//proj/bolinc/users/x_sarbl/analysis/Output_data_BS-FDBCK/collocated_ds/NorESM/OsloAero_intBVOC_f09_f09_mg17_ssp245/SO4_PR_OsloAero_intBVOC_f09_f09_mg17_ssp245_2015-01-01_2019-01-01_hour_locations.nc,//proj/bolinc/users/x_sarbl/analysis/Output_data_BS-FDBCK/collocated_ds/NorESM/OsloAero_intBVOC_f09_f09_mg17_ssp245/BC_N_OsloAero_intBVOC_f09_f09_mg17_ssp245_2015-01-01_2019-01-01_hour_locations.nc,//proj/bolinc/users/x_sarbl/analysis/Output_data_BS-FDBCK/collocated_ds/NorESM/OsloAero_intBVOC_f09_f09_mg17_ssp245/BC_AX_OsloAero_intBVOC_f09_f09_mg17_ssp245_2015-01-01_2019-01-01_hour_locations.nc,//proj/bolinc/users/x_sarbl/analysis/Output_data_BS-FDBCK/collocated_ds/NorESM/OsloAero_intBVOC_f09_f09_mg17_ssp245/BC_NI_OsloAero_intBVOC_f09_f09_mg17_ssp245_2015-01-01_2019-01-01_hour_locations.nc,//proj/bolinc/users/x_sarbl/analysis/Output_data_BS-FDBCK/collocated_ds/NorESM/OsloAero_intBVOC_f09_f09_mg17_ssp245/BC_A_OsloAero_intBVOC_f09_f09_mg17_ssp245_2015-01-01_2019-01-01_hour_locations.nc,//proj/bolinc/users/x_sarbl/analysis/Output_data_BS-FDBCK/collocated_ds/NorESM/OsloAero_intBVOC_f09_f09_mg17_ssp245/BC_AI_OsloAero_intBVOC_f09_f09_mg17_ssp245_2015-01-01_2019-01-01_hour_locations.nc,//proj/bolinc/users/x_sarbl/analysis/Output_data_BS-FDBCK/collocated_ds/NorESM/OsloAero_intBVOC_f09_f09_mg17_ssp245/BC_AC_OsloAero_intBVOC_f09_f09_mg17_ssp245_2015-01-01_2019-01-01_hour_locations.nc,//proj/bolinc/users/x_sarbl/analysis/Output_data_BS-FDBCK/collocated_ds/NorESM/OsloAero_intBVOC_f09_f09_mg17_ssp245/SS_A1_OsloAero_intBVOC_f09_f09_mg17_ssp245_2015-01-01_2019-01-01_hour_locations.nc,//proj/bolinc/users/x_sarbl/analysis/Output_data_BS-FDBCK/collocated_ds/NorESM/OsloAero_intBVOC_f09_f09_mg17_ssp245/SS_A2_OsloAero_intBVOC_f09_f09_mg17_ssp245_2015-01-01_2019-01-01_hour_locations.nc,//proj/bolinc/users/x_sarbl/analysis/Output_data_BS-FDBCK/collocated_ds/NorESM/OsloAero_intBVOC_f09_f09_mg17_ssp245/SS_A3_OsloAero_intBVOC_f09_f09_mg17_ssp245_2015-01-01_2019-01-01_hour_locations.nc,//proj/bolinc/users/x_sarbl/analysis/Output_data_BS-FDBCK/collocated_ds/NorESM/OsloAero_intBVOC_f09_f09_mg17_ssp245/DST_A2_OsloAero_intBVOC_f09_f09_mg17_ssp245_2015-01-01_2019-01-01_hour_locations.nc,//proj/bolinc/users/x_sarbl/analysis/Output_data_BS-FDBCK/collocated_ds/NorESM/OsloAero_intBVOC_f09_f09_mg17_ssp245/DST_A3_OsloAero_intBVOC_f09_f09_mg17_ssp245_2015-01-01_2019-01-01_hour_locations.nc,//proj/bolinc/users/x_sarbl/analysis/Output_data_BS-FDBCK/collocated_ds/NorESM/OsloAero_intBVOC_f09_f09_mg17_ssp245/N50_OsloAero_intBVOC_f09_f09_mg17_ssp245_2015-01-01_2019-01-01_hour_locations.nc,//proj/bolinc/users/x_sarbl/analysis/Output_data_BS-FDBCK/collocated_ds/NorESM/OsloAero_intBVOC_f09_f09_mg17_ssp245/N100_OsloAero_intBVOC_f09_f09_mg17_ssp245_2015-01-01_2019-01-01_hour_locations.nc,//proj/bolinc/users/x_sarbl/analysis/Output_data_BS-FDBCK/collocated_ds/NorESM/OsloAero_intBVOC_f09_f09_mg17_ssp245/N150_OsloAero_intBVOC_f09_f09_mg17_ssp245_2015-01-01_2019-01-01_hour_locations.nc,//proj/bolinc/users/x_sarbl/analysis/Output_data_BS-FDBCK/collocated_ds/NorESM/OsloAero_intBVOC_f09_f09_mg17_ssp245/N200_OsloAero_intBVOC_f09_f09_mg17_ssp245_2015-01-01_2019-01-01_hour_locations.nc]\n",
      "['//proj/bolinc/users/x_sarbl/analysis/Output_data_BS-FDBCK/collocated_ds/NorESM/OsloAero_intBVOC_f09_f09_mg17_ssp245/SOA_NA_OsloAero_intBVOC_f09_f09_mg17_ssp245_2015-01-01_2019-01-01_hour_locations.nc', '//proj/bolinc/users/x_sarbl/analysis/Output_data_BS-FDBCK/collocated_ds/NorESM/OsloAero_intBVOC_f09_f09_mg17_ssp245/SOA_A1_OsloAero_intBVOC_f09_f09_mg17_ssp245_2015-01-01_2019-01-01_hour_locations.nc', '//proj/bolinc/users/x_sarbl/analysis/Output_data_BS-FDBCK/collocated_ds/NorESM/OsloAero_intBVOC_f09_f09_mg17_ssp245/OM_NI_OsloAero_intBVOC_f09_f09_mg17_ssp245_2015-01-01_2019-01-01_hour_locations.nc', '//proj/bolinc/users/x_sarbl/analysis/Output_data_BS-FDBCK/collocated_ds/NorESM/OsloAero_intBVOC_f09_f09_mg17_ssp245/OM_AI_OsloAero_intBVOC_f09_f09_mg17_ssp245_2015-01-01_2019-01-01_hour_locations.nc', '//proj/bolinc/users/x_sarbl/analysis/Output_data_BS-FDBCK/collocated_ds/NorESM/OsloAero_intBVOC_f09_f09_mg17_ssp245/OM_AC_OsloAero_intBVOC_f09_f09_mg17_ssp245_2015-01-01_2019-01-01_hour_locations.nc', '//proj/bolinc/users/x_sarbl/analysis/Output_data_BS-FDBCK/collocated_ds/NorESM/OsloAero_intBVOC_f09_f09_mg17_ssp245/SO4_NA_OsloAero_intBVOC_f09_f09_mg17_ssp245_2015-01-01_2019-01-01_hour_locations.nc', '//proj/bolinc/users/x_sarbl/analysis/Output_data_BS-FDBCK/collocated_ds/NorESM/OsloAero_intBVOC_f09_f09_mg17_ssp245/SO4_A1_OsloAero_intBVOC_f09_f09_mg17_ssp245_2015-01-01_2019-01-01_hour_locations.nc', '//proj/bolinc/users/x_sarbl/analysis/Output_data_BS-FDBCK/collocated_ds/NorESM/OsloAero_intBVOC_f09_f09_mg17_ssp245/SO4_A2_OsloAero_intBVOC_f09_f09_mg17_ssp245_2015-01-01_2019-01-01_hour_locations.nc', '//proj/bolinc/users/x_sarbl/analysis/Output_data_BS-FDBCK/collocated_ds/NorESM/OsloAero_intBVOC_f09_f09_mg17_ssp245/SO4_AC_OsloAero_intBVOC_f09_f09_mg17_ssp245_2015-01-01_2019-01-01_hour_locations.nc', '//proj/bolinc/users/x_sarbl/analysis/Output_data_BS-FDBCK/collocated_ds/NorESM/OsloAero_intBVOC_f09_f09_mg17_ssp245/SO4_PR_OsloAero_intBVOC_f09_f09_mg17_ssp245_2015-01-01_2019-01-01_hour_locations.nc', '//proj/bolinc/users/x_sarbl/analysis/Output_data_BS-FDBCK/collocated_ds/NorESM/OsloAero_intBVOC_f09_f09_mg17_ssp245/BC_N_OsloAero_intBVOC_f09_f09_mg17_ssp245_2015-01-01_2019-01-01_hour_locations.nc', '//proj/bolinc/users/x_sarbl/analysis/Output_data_BS-FDBCK/collocated_ds/NorESM/OsloAero_intBVOC_f09_f09_mg17_ssp245/BC_AX_OsloAero_intBVOC_f09_f09_mg17_ssp245_2015-01-01_2019-01-01_hour_locations.nc', '//proj/bolinc/users/x_sarbl/analysis/Output_data_BS-FDBCK/collocated_ds/NorESM/OsloAero_intBVOC_f09_f09_mg17_ssp245/BC_NI_OsloAero_intBVOC_f09_f09_mg17_ssp245_2015-01-01_2019-01-01_hour_locations.nc', '//proj/bolinc/users/x_sarbl/analysis/Output_data_BS-FDBCK/collocated_ds/NorESM/OsloAero_intBVOC_f09_f09_mg17_ssp245/BC_A_OsloAero_intBVOC_f09_f09_mg17_ssp245_2015-01-01_2019-01-01_hour_locations.nc', '//proj/bolinc/users/x_sarbl/analysis/Output_data_BS-FDBCK/collocated_ds/NorESM/OsloAero_intBVOC_f09_f09_mg17_ssp245/BC_AI_OsloAero_intBVOC_f09_f09_mg17_ssp245_2015-01-01_2019-01-01_hour_locations.nc', '//proj/bolinc/users/x_sarbl/analysis/Output_data_BS-FDBCK/collocated_ds/NorESM/OsloAero_intBVOC_f09_f09_mg17_ssp245/BC_AC_OsloAero_intBVOC_f09_f09_mg17_ssp245_2015-01-01_2019-01-01_hour_locations.nc', '//proj/bolinc/users/x_sarbl/analysis/Output_data_BS-FDBCK/collocated_ds/NorESM/OsloAero_intBVOC_f09_f09_mg17_ssp245/SS_A1_OsloAero_intBVOC_f09_f09_mg17_ssp245_2015-01-01_2019-01-01_hour_locations.nc', '//proj/bolinc/users/x_sarbl/analysis/Output_data_BS-FDBCK/collocated_ds/NorESM/OsloAero_intBVOC_f09_f09_mg17_ssp245/SS_A2_OsloAero_intBVOC_f09_f09_mg17_ssp245_2015-01-01_2019-01-01_hour_locations.nc', '//proj/bolinc/users/x_sarbl/analysis/Output_data_BS-FDBCK/collocated_ds/NorESM/OsloAero_intBVOC_f09_f09_mg17_ssp245/SS_A3_OsloAero_intBVOC_f09_f09_mg17_ssp245_2015-01-01_2019-01-01_hour_locations.nc', '//proj/bolinc/users/x_sarbl/analysis/Output_data_BS-FDBCK/collocated_ds/NorESM/OsloAero_intBVOC_f09_f09_mg17_ssp245/DST_A2_OsloAero_intBVOC_f09_f09_mg17_ssp245_2015-01-01_2019-01-01_hour_locations.nc', '//proj/bolinc/users/x_sarbl/analysis/Output_data_BS-FDBCK/collocated_ds/NorESM/OsloAero_intBVOC_f09_f09_mg17_ssp245/DST_A3_OsloAero_intBVOC_f09_f09_mg17_ssp245_2015-01-01_2019-01-01_hour_locations.nc', '//proj/bolinc/users/x_sarbl/analysis/Output_data_BS-FDBCK/collocated_ds/NorESM/OsloAero_intBVOC_f09_f09_mg17_ssp245/N50_OsloAero_intBVOC_f09_f09_mg17_ssp245_2015-01-01_2019-01-01_hour_locations.nc', '//proj/bolinc/users/x_sarbl/analysis/Output_data_BS-FDBCK/collocated_ds/NorESM/OsloAero_intBVOC_f09_f09_mg17_ssp245/N100_OsloAero_intBVOC_f09_f09_mg17_ssp245_2015-01-01_2019-01-01_hour_locations.nc', '//proj/bolinc/users/x_sarbl/analysis/Output_data_BS-FDBCK/collocated_ds/NorESM/OsloAero_intBVOC_f09_f09_mg17_ssp245/N150_OsloAero_intBVOC_f09_f09_mg17_ssp245_2015-01-01_2019-01-01_hour_locations.nc', '//proj/bolinc/users/x_sarbl/analysis/Output_data_BS-FDBCK/collocated_ds/NorESM/OsloAero_intBVOC_f09_f09_mg17_ssp245/N200_OsloAero_intBVOC_f09_f09_mg17_ssp245_2015-01-01_2019-01-01_hour_locations.nc']\n"
     ]
    }
   ],
   "source": [
    "#dic_ds = dict()\n",
    "for ca in [case_name2]:\n",
    "    c = CollocateLONLATout(ca, from_time2, to_time2,\n",
    "                           False,\n",
    "                           'hour',\n",
    "                           history_field='.h1.')\n",
    "    ds = c.get_collocated_dataset(varl_st)\n",
    "    if 'location' in ds.coords:\n",
    "        ds = ds.rename({'location':'station'})\n",
    "    dic_ds[ca]=ds"
   ]
  },
  {
   "cell_type": "code",
   "execution_count": 26,
   "id": "11983cdb-874a-49a6-981f-c22708db7868",
   "metadata": {},
   "outputs": [
    {
     "name": "stdout",
     "output_type": "stream",
     "text": [
      "2012 2014 2015 2019\n"
     ]
    }
   ],
   "source": [
    "case1 = case_name1\n",
    "case2 = case_name2\n",
    "\n",
    "ds1 = dic_ds[case1]\n",
    "ds2 = dic_ds[case2]\n",
    "\n",
    "\n",
    "st_y = from_time1.split('-')[0]\n",
    "mid_y_t = str(int(to_time1.split('-')[0])-1)\n",
    "mid_y_f = to_time1.split('-')[0]\n",
    "end_y = to_time2.split('-')[0]\n",
    "\n",
    "print(st_y, mid_y_t, mid_y_f, end_y)\n",
    "\n",
    "_ds1 = ds1.sel(time=slice(st_y, mid_y_t))\n",
    "_ds2 = ds2.sel(time=slice(mid_y_f, end_y))\n",
    "ds_comb_station = xr.concat([_ds1, _ds2], dim='time')#.sortby('time')"
   ]
  },
  {
   "cell_type": "code",
   "execution_count": 27,
   "id": "875a86d2-62ac-4371-ab5c-ff8c60299c73",
   "metadata": {},
   "outputs": [],
   "source": [
    "ds_comb_ATTO = ds_comb_station.sel(station='ATTO').isel(lev=-1)"
   ]
  },
  {
   "cell_type": "code",
   "execution_count": 28,
   "id": "63940b1b-529b-4a1c-9e94-098c1fbf5117",
   "metadata": {},
   "outputs": [
    {
     "data": {
      "text/plain": [
       "False"
      ]
     },
     "execution_count": 28,
     "metadata": {},
     "output_type": "execute_result"
    }
   ],
   "source": [
    "fn_comb_lev1.exists()"
   ]
  },
  {
   "cell_type": "code",
   "execution_count": 29,
   "id": "f0eafcad-c8d0-4e88-b35c-35ef23ce641d",
   "metadata": {},
   "outputs": [],
   "source": [
    "from bs_fdbck.util.BSOA_datamanip import broadcast_vars_in_ds_sel"
   ]
  },
  {
   "cell_type": "code",
   "execution_count": 30,
   "id": "747d4d7a-d6b9-4c68-9690-9195d78a59e1",
   "metadata": {},
   "outputs": [
    {
     "data": {
      "text/plain": [
       "['N50', 'N100', 'N150', 'N200']"
      ]
     },
     "execution_count": 30,
     "metadata": {},
     "output_type": "execute_result"
    }
   ],
   "source": [
    "varl_tmp"
   ]
  },
  {
   "cell_type": "code",
   "execution_count": 61,
   "id": "07b19090-89f6-42e0-a0f4-0ae1c68250a9",
   "metadata": {
    "lines_to_next_cell": 2
   },
   "outputs": [
    {
     "data": {
      "text/plain": [
       "[<matplotlib.lines.Line2D at 0x7fab301f1460>]"
      ]
     },
     "execution_count": 61,
     "metadata": {},
     "output_type": "execute_result"
    },
    {
     "data": {
      "image/png": "[encoded data removed]",
      "text/plain": [
       "<Figure size 432x288 with 1 Axes>"
      ]
     },
     "metadata": {
      "needs_background": "light"
     },
     "output_type": "display_data"
    }
   ],
   "source": [
    "\n",
    "ds_all = xr.open_dataset(fn_comb_lev1_final, chunks = {'lon':1},engine='netcdf4')\n",
    "\n",
    "ds_all['NCONC01'].isel(lat=1, lon=1).plot()"
   ]
  },
  {
   "cell_type": "code",
   "execution_count": 32,
   "id": "cebeb627-d8b0-4d62-9ab3-8d0665dc3553",
   "metadata": {},
   "outputs": [],
   "source": [
    "ds_smll = ds_all[['NCONC01']]"
   ]
  },
  {
   "cell_type": "code",
   "execution_count": 33,
   "id": "f9c6dd33-fd27-4654-b68c-87314a0bcbb2",
   "metadata": {
    "tags": []
   },
   "outputs": [
    {
     "name": "stdout",
     "output_type": "stream",
     "text": [
      "N50\n",
      "N100\n",
      "N150\n",
      "N200\n"
     ]
    }
   ],
   "source": [
    "ds_smll = broadcast_vars_in_ds_sel(ds_smll, ds_comb_ATTO, varl_tmp, only_already_in_ds= False)"
   ]
  },
  {
   "cell_type": "code",
   "execution_count": 34,
   "id": "0cf62a9b-5282-4762-b253-7be91d31ce22",
   "metadata": {
    "lines_to_next_cell": 2
   },
   "outputs": [
    {
     "data": {
      "text/plain": [
       "<matplotlib.collections.QuadMesh at 0x7fac0a7380a0>"
      ]
     },
     "execution_count": 34,
     "metadata": {},
     "output_type": "execute_result"
    },
    {
     "data": {
      "image/png": "[encoded data removed]",
      "text/plain": [
       "<Figure size 432x288 with 2 Axes>"
      ]
     },
     "metadata": {
      "needs_background": "light"
     },
     "output_type": "display_data"
    }
   ],
   "source": [
    "ds_smll['N100'].mean('time').plot()"
   ]
  },
  {
   "cell_type": "code",
   "execution_count": 55,
   "id": "cee36e80-0160-4161-91bb-baecf7cdcb9e",
   "metadata": {
    "lines_to_next_cell": 2
   },
   "outputs": [],
   "source": [
    "#ds_smll['COT'].mean('time').plot()"
   ]
  },
  {
   "cell_type": "code",
   "execution_count": 35,
   "id": "e077c7c4-37b0-4162-88d9-889801ccdb44",
   "metadata": {},
   "outputs": [],
   "source": [
    "for v in varl_tmp:\n",
    "    ds_all[v] = ds_smll[v]"
   ]
  },
  {
   "cell_type": "markdown",
   "id": "b1f512da-4f02-42c1-b011-1cf512b4ab8a",
   "metadata": {},
   "source": [
    "### Finally produce daily median dataframe:"
   ]
  },
  {
   "cell_type": "code",
   "execution_count": 62,
   "id": "7131a77a-c6fd-4afc-a713-41ea788a82c9",
   "metadata": {},
   "outputs": [
    {
     "data": {
      "text/plain": [
       "<matplotlib.collections.QuadMesh at 0x7fab10070070>"
      ]
     },
     "execution_count": 62,
     "metadata": {},
     "output_type": "execute_result"
    },
    {
     "data": {
      "image/png": "[encoded data removed]",
      "text/plain": [
       "<Figure size 432x288 with 2 Axes>"
      ]
     },
     "metadata": {
      "needs_background": "light"
     },
     "output_type": "display_data"
    }
   ],
   "source": [
    "ds_all['TGCLDCWP_incld'].sel(time = '2012-05-30 02:00:00').plot()"
   ]
  },
  {
   "cell_type": "code",
   "execution_count": 36,
   "id": "b39d4fdb-af37-4f09-9e7f-3b5f0c475361",
   "metadata": {},
   "outputs": [],
   "source": [
    "dic_ds = dict()\n",
    "dic_ds[case_name_noresm] =ds_all"
   ]
  },
  {
   "cell_type": "code",
   "execution_count": 37,
   "id": "a4efaf51-26ba-4748-abcd-48fe52588d4f",
   "metadata": {},
   "outputs": [],
   "source": [
    "from timeit import default_timer as timer\n",
    "\n"
   ]
  },
  {
   "cell_type": "code",
   "execution_count": 38,
   "id": "2968f8fa-ce7c-4f93-b86c-4848a7afd346",
   "metadata": {},
   "outputs": [
    {
     "data": {
      "text/plain": [
       "PosixPath('/proj/bolinc/users/x_sarbl/analysis/Output_data_BS-FDBCK/extracted_latlon_subset/OsloAero_intBVOC_f09_f09_mg17_fssp245/OsloAero_intBVOC_f09_f09_mg17_fssp245.h1._2012-01-01-2019-01-01_concat_subs_293.0-308.0_-8.0--1.0_lev1_final_wet_season.csv')"
      ]
     },
     "execution_count": 38,
     "metadata": {},
     "output_type": "execute_result"
    }
   ],
   "source": [
    "fn_comb_lev1_final_csv"
   ]
  },
  {
   "cell_type": "code",
   "execution_count": 39,
   "id": "3fdbecff-ba2d-491c-81d1-4f0ab3f3ca5f",
   "metadata": {},
   "outputs": [],
   "source": [
    "from bs_fdbck.util.BSOA_datamanip.atto import season2month"
   ]
  },
  {
   "cell_type": "code",
   "execution_count": 40,
   "id": "1da83294-af68-4292-8b82-9c7b46796bb4",
   "metadata": {},
   "outputs": [
    {
     "data": {
      "text/plain": [
       "{'WET': [1, 2, 3, 4, 5, 6, 7, 12],\n",
       " 'WET_old': [1, 2, 3, 4, 5],\n",
       " 'WET_345': [3, 4, 5],\n",
       " 'WET_45': [4, 5],\n",
       " 'WET_34': [3, 4],\n",
       " 'WET_mid': [2, 3, 4, 5],\n",
       " 'WET_early': [1, 2, 3, 12],\n",
       " 'WET_23': [2, 3],\n",
       " 'FM': [2, 3],\n",
       " 'DJF': [1, 2, 12],\n",
       " 'DJ': [1, 12],\n",
       " 'MJJ': [5, 6, 7],\n",
       " 'SON': [9, 10, 11],\n",
       " 'JJA': [6, 7, 8],\n",
       " 'MAM': [3, 4, 5],\n",
       " 'WET_late': [4, 5, 6, 7],\n",
       " 'DRY': [8, 9, 10, 11],\n",
       " 'DRY_early': [6, 7, 8],\n",
       " 'ASO': [8, 9, 10],\n",
       " 'SO': [9, 10],\n",
       " 'ND': [11, 12],\n",
       " 'DRY_late': [9, 10, 11, 12],\n",
       " 'ALL_year': [1, 2, 3, 4, 5, 6, 7, 8, 9, 10, 11, 12]}"
      ]
     },
     "execution_count": 40,
     "metadata": {},
     "output_type": "execute_result"
    }
   ],
   "source": [
    "season2month"
   ]
  },
  {
   "cell_type": "code",
   "execution_count": 41,
   "id": "a7c07a2b-a007-4f9f-8a7c-58db97eb8018",
   "metadata": {},
   "outputs": [],
   "source": [
    "for key in dic_ds:\n",
    "    dic_ds[key] = dic_ds[key].rename(rn_dic_noresm_cloud)\n",
    "    \n"
   ]
  },
  {
   "cell_type": "code",
   "execution_count": 42,
   "id": "45a318cd-473d-444f-add2-1d18a5a7f68b",
   "metadata": {
    "lines_to_next_cell": 2
   },
   "outputs": [],
   "source": [
    "from dask.diagnostics import ProgressBar"
   ]
  },
  {
   "cell_type": "code",
   "execution_count": 43,
   "id": "a7b0fed6-ef0b-4e88-b8fb-6aecf66164be",
   "metadata": {},
   "outputs": [
    {
     "data": {
      "text/plain": [
       "True"
      ]
     },
     "execution_count": 43,
     "metadata": {},
     "output_type": "execute_result"
    }
   ],
   "source": [
    "fn_comb_lev1_finaler.exists()"
   ]
  },
  {
   "cell_type": "code",
   "execution_count": 44,
   "id": "77289473-16c8-4aa3-8f6e-66a7e5e6edf7",
   "metadata": {},
   "outputs": [],
   "source": [
    "if not fn_comb_lev1_finaler.exists():\n",
    "    with ProgressBar():\n",
    "        dic_ds[case_name_noresm].to_netcdf(fn_comb_lev1_finaler)"
   ]
  },
  {
   "cell_type": "markdown",
   "id": "dc1a9553-e3ed-4a67-ad47-df21aa75a62d",
   "metadata": {
    "tags": []
   },
   "source": [
    "## Shift timezone: "
   ]
  },
  {
   "cell_type": "code",
   "execution_count": 45,
   "id": "516f461e-479c-4d5b-8291-532c73c9440f",
   "metadata": {},
   "outputs": [
    {
     "name": "stdout",
     "output_type": "stream",
     "text": [
      "[########################################] | 100% Completed |  1min 50.4s\n"
     ]
    }
   ],
   "source": [
    "from datetime import timedelta\n",
    "\n",
    "\n",
    "dic_ds[case_name_noresm] = xr.open_dataset(fn_comb_lev1_finaler, chunks={'lon':1}, engine='netcdf4')\n",
    "\n",
    "with ProgressBar():\n",
    "    dic_ds[case_name_noresm].load()\n",
    "    \n",
    "    \n",
    "\n",
    "for k in dic_ds.keys():\n",
    "    _ds = dic_ds[k]\n",
    "    _ds['time'] = _ds['time'].to_pandas().index- timedelta(hours=4)\n",
    "    dic_ds[k] = _ds"
   ]
  },
  {
   "cell_type": "code",
   "execution_count": 46,
   "id": "ce44de0f-bee8-4a31-856c-71f741db8e67",
   "metadata": {},
   "outputs": [
    {
     "data": {
      "text/plain": [
       "<matplotlib.collections.QuadMesh at 0x7fab6429aa30>"
      ]
     },
     "execution_count": 46,
     "metadata": {},
     "output_type": "execute_result"
    },
    {
     "data": {
      "image/png": "[encoded data removed]",
      "text/plain": [
       "<Figure size 432x288 with 2 Axes>"
      ]
     },
     "metadata": {
      "needs_background": "light"
     },
     "output_type": "display_data"
    }
   ],
   "source": [
    "dic_ds[k]['OA'].mean('lon').plot()"
   ]
  },
  {
   "cell_type": "code",
   "execution_count": 48,
   "id": "33c3c25e-0a32-48f4-be93-08fa84f5c5f3",
   "metadata": {
    "lines_to_next_cell": 2
   },
   "outputs": [
    {
     "name": "stdout",
     "output_type": "stream",
     "text": [
      "/proj/bolinc/users/x_sarbl/analysis/Output_data_BS-FDBCK/extracted_latlon_subset/OsloAero_intBVOC_f09_f09_mg17_fssp245/OsloAero_intBVOC_f09_f09_mg17_fssp245.h1._2012-01-01-2019-01-01_concat_subs_293.0-308.0_-8.0--1.0_lev1_finalALL_year.csv\n"
     ]
    }
   ],
   "source": [
    "for seas in calc_seasons:\n",
    "    _fn_csv = fn_final_csv_stem.parent / (fn_final_csv_stem.stem + seas+'.csv')\n",
    "    print(_fn_csv)\n",
    "    if True:#not _fn_csv.exists():\n",
    "        start = timer()\n",
    "        \n",
    "\n",
    "        dic_df = get_dic_df_mod(dic_ds, select_hours_clouds=True, summer_months=season2month[seas], from_hour=daytime_from,\n",
    "                                kwrgs_mask_clouds = dict(min_reff=1),\n",
    "                   to_hour=daytime_to,)\n",
    "\n",
    "        df_mod = dic_df[case_name_noresm]\n",
    "\n",
    "        df_mod= df_mod.dropna()\n",
    "        print(_fn_csv)\n",
    "        df_mod.to_csv(_fn_csv)\n",
    "        end = timer()\n",
    "        print(end - start) # Time in seconds, e.g. 5.38091952400282\n",
    "        print(f'DONE! That took {(end-start)} seconds')    \n",
    "        print(f'That is  {((end-start)/60)} minuts')\n",
    "    "
   ]
  },
  {
   "cell_type": "code",
   "execution_count": 51,
   "id": "de6dffe4-7d2b-4ecb-9393-9bb9de1d4a5d",
   "metadata": {},
   "outputs": [],
   "source": [
    "from bs_fdbck.util.BSOA_datamanip import varl_cl_default, varl_st_default,extract_hours_for_satellite_vars,mask_values_clouds,calculate_daily_median_summer"
   ]
  },
  {
   "cell_type": "code",
   "execution_count": 47,
   "id": "8ed409a3-014d-43bb-9983-14f9c3cbe06e",
   "metadata": {},
   "outputs": [
    {
     "data": {
      "text/plain": [
       "<matplotlib.collections.QuadMesh at 0x7fac12d223a0>"
      ]
     },
     "execution_count": 47,
     "metadata": {},
     "output_type": "execute_result"
    },
    {
     "data": {
      "image/png": "[encoded data removed]",
      "text/plain": [
       "<Figure size 432x288 with 2 Axes>"
      ]
     },
     "metadata": {
      "needs_background": "light"
     },
     "output_type": "display_data"
    }
   ],
   "source": [
    "_ds = dic_ds['OsloAero_intBVOC_f09_f09_mg17_fssp245']\n",
    "_ds['N100'].sel(time = '2012-05-30 02:00:00').plot()"
   ]
  },
  {
   "cell_type": "code",
   "execution_count": 53,
   "id": "2fb48974-493c-46ff-ac85-cd8ad6f5e7c1",
   "metadata": {},
   "outputs": [
    {
     "data": {
      "text/plain": [
       "<matplotlib.collections.QuadMesh at 0x7fab74749f40>"
      ]
     },
     "execution_count": 53,
     "metadata": {},
     "output_type": "execute_result"
    },
    {
     "data": {
      "image/png": "[encoded data removed]",
      "text/plain": [
       "<Figure size 432x288 with 2 Axes>"
      ]
     },
     "metadata": {
      "needs_background": "light"
     },
     "output_type": "display_data"
    }
   ],
   "source": [
    "_ds = dic_ds['OsloAero_intBVOC_f09_f09_mg17_fssp245']\n",
    "_ds['COT'].sel(time = '2012-05-30 02:00:00').plot()"
   ]
  },
  {
   "cell_type": "markdown",
   "id": "e86315b2-4730-4d88-bb31-10786900d07f",
   "metadata": {},
   "source": [
    "## ECHAM-SALSA"
   ]
  },
  {
   "cell_type": "markdown",
   "id": "32bcd6d9-9a18-4118-8e29-89a28c99e78a",
   "metadata": {},
   "source": [
    "### Names etc"
   ]
  },
  {
   "cell_type": "code",
   "execution_count": 53,
   "id": "f4749a0c-182b-43fc-8132-095060136784",
   "metadata": {},
   "outputs": [],
   "source": [
    "\n",
    "case_name = 'SALSA_BSOA_feedback'\n",
    "case_name_echam = 'SALSA_BSOA_feedback'\n",
    "time_res = 'hour'\n",
    "space_res='locations'\n",
    "model_name='ECHAM-SALSA'\n",
    "model_name_echam  ='ECHAM-SALSA'"
   ]
  },
  {
   "cell_type": "markdown",
   "id": "d0efcde9-a992-473b-9f26-d9d8b8625efd",
   "metadata": {},
   "source": [
    "### Input path:"
   ]
  },
  {
   "cell_type": "code",
   "execution_count": 54,
   "id": "f5fe4362-23ff-406f-ae32-2dd1caa3fd05",
   "metadata": {},
   "outputs": [],
   "source": [
    "input_path_echam = path_extract_latlon_outdata / model_name_echam / case_name_echam "
   ]
  },
  {
   "cell_type": "code",
   "execution_count": 55,
   "id": "b9e390c4-bb07-4b96-8bb0-158dcfbe0dab",
   "metadata": {},
   "outputs": [],
   "source": [
    "\n",
    "cases_echam = [case_name_echam]"
   ]
  },
  {
   "cell_type": "markdown",
   "id": "7da3e694-1c84-47ab-982d-5654981a6775",
   "metadata": {},
   "source": [
    "### Station variables  and others"
   ]
  },
  {
   "cell_type": "code",
   "execution_count": 56,
   "id": "ffc92741-b1d3-4fbd-b62f-a7ff7858e3cb",
   "metadata": {
    "lines_to_next_cell": 2
   },
   "outputs": [],
   "source": [
    "varl_st_echam = [\n",
    "    'mmrtrN500',\n",
    "    'mmrtrN250',\n",
    "    'mmrtrN200',\n",
    "    'mmrtrN100',\n",
    "    'mmrtrN50',\n",
    "    'mmrtrN3',\n",
    "    'SO2_gas',\n",
    "    'APIN_gas',\n",
    "    'TBETAOCI_gas',\n",
    "    'BPIN_gas',\n",
    "    'LIMON_gas',\n",
    "    'SABIN_gas',\n",
    "    'MYRC_gas',\n",
    "    'CARENE3_gas',\n",
    "    'ISOP_gas',\n",
    "    'VBS0_gas',\n",
    "    'V*BS1_gas',\n",
    "    'VBS10_gas',\n",
    "    'ORG_mass',\n",
    "    'oh_con',\n",
    "    'tempair',\n",
    "    'ccn02',\n",
    "    'ccn10',\n",
    "]\n",
    "\n",
    "\n",
    "varl_cl_echam = [\n",
    "    'airdens',\n",
    "    'uw',\n",
    "    'vw',\n",
    "    'cod',\n",
    "    'cwp',\n",
    "    'ceff',\n",
    "    'ceff_ct',\n",
    "    #'ceff_ct_incl',\n",
    "    'lcdnc',\n",
    "    'lcdnc_ct',\n",
    "    'clfr',\n",
    "    'cl_time',\n",
    "    'aot550nm',\n",
    "    'up_sw',\n",
    "    'up_sw_cs',\n",
    "    'up_sw_noa',\n",
    "    'up_sw_cs_noa',\n",
    "    'up_lw',\n",
    "    'up_lw_cs',\n",
    "    'up_lw_noa',\n",
    "    'up_lw_cs_noa',\n",
    "    'emi_monot_bio',\n",
    "    'emi_isop_bio',\n",
    "]"
   ]
  },
  {
   "cell_type": "markdown",
   "id": "5ba83490-c834-417a-be7e-6edc494a5ea9",
   "metadata": {
    "tags": []
   },
   "source": [
    "### Define some strings for files"
   ]
  },
  {
   "cell_type": "code",
   "execution_count": 57,
   "id": "aa6a1dc3-3de2-494d-b602-7bc953cc4ca7",
   "metadata": {},
   "outputs": [
    {
     "data": {
      "text/plain": [
       "'293.0-308.0_-8.0--1.0'"
      ]
     },
     "execution_count": 57,
     "metadata": {},
     "output_type": "execute_result"
    }
   ],
   "source": [
    "\n",
    "str_from_t = pd.to_datetime(from_time1).strftime('%Y%m')\n",
    "str_to = pd.to_datetime(to_time2).strftime('%Y%m')\n",
    "str_lonlim = '%.1f-%.1f'%(*lon_lims,)\n",
    "str_latlim = '%.1f-%.1f'%(*lat_lims,)\n",
    "str_coordlims = f'{str_lonlim}_{str_latlim}'\n",
    "str_coordlims"
   ]
  },
  {
   "cell_type": "markdown",
   "id": "2aef19a6-ac94-4906-b0c7-daf1033eac6d",
   "metadata": {},
   "source": [
    "### Filenames: "
   ]
  },
  {
   "cell_type": "code",
   "execution_count": 58,
   "id": "24b6768d-b602-4d74-87b1-168901bc43e1",
   "metadata": {},
   "outputs": [],
   "source": [
    "fn_final_echam = input_path_echam / f'{case_name}_{from_time1}-{to_time2}_ALL-VARS_concat_subs_{str_coordlims}.nc'\n",
    "fn_final_echam_csv = input_path_echam / f'{case_name}_{from_time1}-{to_time2}_ALL-VARS_concat_subs_{str_coordlims}_wet_season.csv'\n",
    "fn_final_echam_csv_stem = input_path_echam / f'{case_name}_{from_time1}-{to_time2}_ALL-VARS_concat_subs_{str_coordlims}.csv'"
   ]
  },
  {
   "cell_type": "markdown",
   "id": "72b9abe9-82f7-489d-92c8-eb9ac62aa006",
   "metadata": {},
   "source": [
    "### Open data"
   ]
  },
  {
   "cell_type": "code",
   "execution_count": null,
   "id": "3316512e-ee40-476e-823a-822ada49fe40",
   "metadata": {},
   "outputs": [],
   "source": []
  },
  {
   "cell_type": "code",
   "execution_count": 59,
   "id": "d2561eaa-01e4-47e7-ae83-2437c6aee5db",
   "metadata": {},
   "outputs": [],
   "source": [
    "fl_open = []\n",
    "\n",
    "for v in varl_cl_echam+ varl_st_echam:\n",
    "    fn = input_path_echam / f'{case_name}_{from_time1}-{to_time2}_{v}_concat_subs_{str_coordlims}.nc'\n",
    "    #print(fn)\n",
    "    if fn.exists():\n",
    "        fl_open.append(fn)"
   ]
  },
  {
   "cell_type": "code",
   "execution_count": 60,
   "id": "ea63dac6-9314-43de-a6d8-6dc9d3e27351",
   "metadata": {},
   "outputs": [
    {
     "data": {
      "text/plain": [
       "29"
      ]
     },
     "execution_count": 60,
     "metadata": {},
     "output_type": "execute_result"
    }
   ],
   "source": [
    "len(fl_open)"
   ]
  },
  {
   "cell_type": "code",
   "execution_count": 61,
   "id": "e19e2292-19b4-407e-957a-ea9eb1460c18",
   "metadata": {},
   "outputs": [
    {
     "data": {
      "text/plain": [
       "[PosixPath('/proj/bolinc/users/x_sarbl/analysis/Output_data_BS-FDBCK/extracted_latlon_subset/ECHAM-SALSA/SALSA_BSOA_feedback/SALSA_BSOA_feedback_2012-01-01-2019-01-01_airdens_concat_subs_293.0-308.0_-8.0--1.0.nc'),\n",
       " PosixPath('/proj/bolinc/users/x_sarbl/analysis/Output_data_BS-FDBCK/extracted_latlon_subset/ECHAM-SALSA/SALSA_BSOA_feedback/SALSA_BSOA_feedback_2012-01-01-2019-01-01_uw_concat_subs_293.0-308.0_-8.0--1.0.nc'),\n",
       " PosixPath('/proj/bolinc/users/x_sarbl/analysis/Output_data_BS-FDBCK/extracted_latlon_subset/ECHAM-SALSA/SALSA_BSOA_feedback/SALSA_BSOA_feedback_2012-01-01-2019-01-01_vw_concat_subs_293.0-308.0_-8.0--1.0.nc'),\n",
       " PosixPath('/proj/bolinc/users/x_sarbl/analysis/Output_data_BS-FDBCK/extracted_latlon_subset/ECHAM-SALSA/SALSA_BSOA_feedback/SALSA_BSOA_feedback_2012-01-01-2019-01-01_cod_concat_subs_293.0-308.0_-8.0--1.0.nc'),\n",
       " PosixPath('/proj/bolinc/users/x_sarbl/analysis/Output_data_BS-FDBCK/extracted_latlon_subset/ECHAM-SALSA/SALSA_BSOA_feedback/SALSA_BSOA_feedback_2012-01-01-2019-01-01_cwp_concat_subs_293.0-308.0_-8.0--1.0.nc'),\n",
       " PosixPath('/proj/bolinc/users/x_sarbl/analysis/Output_data_BS-FDBCK/extracted_latlon_subset/ECHAM-SALSA/SALSA_BSOA_feedback/SALSA_BSOA_feedback_2012-01-01-2019-01-01_ceff_concat_subs_293.0-308.0_-8.0--1.0.nc'),\n",
       " PosixPath('/proj/bolinc/users/x_sarbl/analysis/Output_data_BS-FDBCK/extracted_latlon_subset/ECHAM-SALSA/SALSA_BSOA_feedback/SALSA_BSOA_feedback_2012-01-01-2019-01-01_ceff_ct_concat_subs_293.0-308.0_-8.0--1.0.nc'),\n",
       " PosixPath('/proj/bolinc/users/x_sarbl/analysis/Output_data_BS-FDBCK/extracted_latlon_subset/ECHAM-SALSA/SALSA_BSOA_feedback/SALSA_BSOA_feedback_2012-01-01-2019-01-01_lcdnc_concat_subs_293.0-308.0_-8.0--1.0.nc'),\n",
       " PosixPath('/proj/bolinc/users/x_sarbl/analysis/Output_data_BS-FDBCK/extracted_latlon_subset/ECHAM-SALSA/SALSA_BSOA_feedback/SALSA_BSOA_feedback_2012-01-01-2019-01-01_lcdnc_ct_concat_subs_293.0-308.0_-8.0--1.0.nc'),\n",
       " PosixPath('/proj/bolinc/users/x_sarbl/analysis/Output_data_BS-FDBCK/extracted_latlon_subset/ECHAM-SALSA/SALSA_BSOA_feedback/SALSA_BSOA_feedback_2012-01-01-2019-01-01_clfr_concat_subs_293.0-308.0_-8.0--1.0.nc'),\n",
       " PosixPath('/proj/bolinc/users/x_sarbl/analysis/Output_data_BS-FDBCK/extracted_latlon_subset/ECHAM-SALSA/SALSA_BSOA_feedback/SALSA_BSOA_feedback_2012-01-01-2019-01-01_cl_time_concat_subs_293.0-308.0_-8.0--1.0.nc'),\n",
       " PosixPath('/proj/bolinc/users/x_sarbl/analysis/Output_data_BS-FDBCK/extracted_latlon_subset/ECHAM-SALSA/SALSA_BSOA_feedback/SALSA_BSOA_feedback_2012-01-01-2019-01-01_aot550nm_concat_subs_293.0-308.0_-8.0--1.0.nc'),\n",
       " PosixPath('/proj/bolinc/users/x_sarbl/analysis/Output_data_BS-FDBCK/extracted_latlon_subset/ECHAM-SALSA/SALSA_BSOA_feedback/SALSA_BSOA_feedback_2012-01-01-2019-01-01_up_sw_concat_subs_293.0-308.0_-8.0--1.0.nc'),\n",
       " PosixPath('/proj/bolinc/users/x_sarbl/analysis/Output_data_BS-FDBCK/extracted_latlon_subset/ECHAM-SALSA/SALSA_BSOA_feedback/SALSA_BSOA_feedback_2012-01-01-2019-01-01_up_sw_cs_concat_subs_293.0-308.0_-8.0--1.0.nc'),\n",
       " PosixPath('/proj/bolinc/users/x_sarbl/analysis/Output_data_BS-FDBCK/extracted_latlon_subset/ECHAM-SALSA/SALSA_BSOA_feedback/SALSA_BSOA_feedback_2012-01-01-2019-01-01_up_sw_noa_concat_subs_293.0-308.0_-8.0--1.0.nc'),\n",
       " PosixPath('/proj/bolinc/users/x_sarbl/analysis/Output_data_BS-FDBCK/extracted_latlon_subset/ECHAM-SALSA/SALSA_BSOA_feedback/SALSA_BSOA_feedback_2012-01-01-2019-01-01_up_sw_cs_noa_concat_subs_293.0-308.0_-8.0--1.0.nc'),\n",
       " PosixPath('/proj/bolinc/users/x_sarbl/analysis/Output_data_BS-FDBCK/extracted_latlon_subset/ECHAM-SALSA/SALSA_BSOA_feedback/SALSA_BSOA_feedback_2012-01-01-2019-01-01_up_lw_concat_subs_293.0-308.0_-8.0--1.0.nc'),\n",
       " PosixPath('/proj/bolinc/users/x_sarbl/analysis/Output_data_BS-FDBCK/extracted_latlon_subset/ECHAM-SALSA/SALSA_BSOA_feedback/SALSA_BSOA_feedback_2012-01-01-2019-01-01_up_lw_cs_concat_subs_293.0-308.0_-8.0--1.0.nc'),\n",
       " PosixPath('/proj/bolinc/users/x_sarbl/analysis/Output_data_BS-FDBCK/extracted_latlon_subset/ECHAM-SALSA/SALSA_BSOA_feedback/SALSA_BSOA_feedback_2012-01-01-2019-01-01_up_lw_noa_concat_subs_293.0-308.0_-8.0--1.0.nc'),\n",
       " PosixPath('/proj/bolinc/users/x_sarbl/analysis/Output_data_BS-FDBCK/extracted_latlon_subset/ECHAM-SALSA/SALSA_BSOA_feedback/SALSA_BSOA_feedback_2012-01-01-2019-01-01_up_lw_cs_noa_concat_subs_293.0-308.0_-8.0--1.0.nc'),\n",
       " PosixPath('/proj/bolinc/users/x_sarbl/analysis/Output_data_BS-FDBCK/extracted_latlon_subset/ECHAM-SALSA/SALSA_BSOA_feedback/SALSA_BSOA_feedback_2012-01-01-2019-01-01_emi_monot_bio_concat_subs_293.0-308.0_-8.0--1.0.nc'),\n",
       " PosixPath('/proj/bolinc/users/x_sarbl/analysis/Output_data_BS-FDBCK/extracted_latlon_subset/ECHAM-SALSA/SALSA_BSOA_feedback/SALSA_BSOA_feedback_2012-01-01-2019-01-01_emi_isop_bio_concat_subs_293.0-308.0_-8.0--1.0.nc'),\n",
       " PosixPath('/proj/bolinc/users/x_sarbl/analysis/Output_data_BS-FDBCK/extracted_latlon_subset/ECHAM-SALSA/SALSA_BSOA_feedback/SALSA_BSOA_feedback_2012-01-01-2019-01-01_mmrtrN200_concat_subs_293.0-308.0_-8.0--1.0.nc'),\n",
       " PosixPath('/proj/bolinc/users/x_sarbl/analysis/Output_data_BS-FDBCK/extracted_latlon_subset/ECHAM-SALSA/SALSA_BSOA_feedback/SALSA_BSOA_feedback_2012-01-01-2019-01-01_mmrtrN100_concat_subs_293.0-308.0_-8.0--1.0.nc'),\n",
       " PosixPath('/proj/bolinc/users/x_sarbl/analysis/Output_data_BS-FDBCK/extracted_latlon_subset/ECHAM-SALSA/SALSA_BSOA_feedback/SALSA_BSOA_feedback_2012-01-01-2019-01-01_mmrtrN50_concat_subs_293.0-308.0_-8.0--1.0.nc'),\n",
       " PosixPath('/proj/bolinc/users/x_sarbl/analysis/Output_data_BS-FDBCK/extracted_latlon_subset/ECHAM-SALSA/SALSA_BSOA_feedback/SALSA_BSOA_feedback_2012-01-01-2019-01-01_ORG_mass_concat_subs_293.0-308.0_-8.0--1.0.nc'),\n",
       " PosixPath('/proj/bolinc/users/x_sarbl/analysis/Output_data_BS-FDBCK/extracted_latlon_subset/ECHAM-SALSA/SALSA_BSOA_feedback/SALSA_BSOA_feedback_2012-01-01-2019-01-01_tempair_concat_subs_293.0-308.0_-8.0--1.0.nc'),\n",
       " PosixPath('/proj/bolinc/users/x_sarbl/analysis/Output_data_BS-FDBCK/extracted_latlon_subset/ECHAM-SALSA/SALSA_BSOA_feedback/SALSA_BSOA_feedback_2012-01-01-2019-01-01_ccn02_concat_subs_293.0-308.0_-8.0--1.0.nc'),\n",
       " PosixPath('/proj/bolinc/users/x_sarbl/analysis/Output_data_BS-FDBCK/extracted_latlon_subset/ECHAM-SALSA/SALSA_BSOA_feedback/SALSA_BSOA_feedback_2012-01-01-2019-01-01_ccn10_concat_subs_293.0-308.0_-8.0--1.0.nc')]"
      ]
     },
     "execution_count": 61,
     "metadata": {},
     "output_type": "execute_result"
    }
   ],
   "source": [
    "fl_open"
   ]
  },
  {
   "cell_type": "markdown",
   "id": "a867e3ee-a526-44ac-a4e8-fa0f461579de",
   "metadata": {
    "tags": []
   },
   "source": [
    "### Open files, decode time, drop excess coords, select bottom layer, broadcast station vars to whole grid and compute units etc"
   ]
  },
  {
   "cell_type": "code",
   "execution_count": 62,
   "id": "44650c7c-55db-46c3-871f-719557eec833",
   "metadata": {
    "lines_to_next_cell": 2
   },
   "outputs": [],
   "source": [
    "if not fn_final_echam.exists():\n",
    "    ds_all = xr.open_mfdataset(fl_open, decode_cf = False)\n",
    "    #ds_iso = xr.open_dataset(fl_open[21])\n",
    "    #ds = xr.merge([ds_iso,ds])\n",
    "    ds_all = import_fields_xr_echam.decode_cf_echam(ds_all)\n",
    "\n",
    "\n",
    "    \n",
    "\n",
    "    #ds_all = import_fields_xr_echam.decode_cf_echam(ds_all)\n",
    "    ds_all = extract_2D_cloud_time_echam(ds_all) \n",
    "\n",
    "\n",
    "\n",
    "    #ds_sel = ds_all.sel(lat = lat_smr, lon= lon_smr, method='nearest').isel( lev=model_lev_i)#.load()\n",
    "    ds_all = ds_all.squeeze()\n",
    "    ds_all=ds_all.drop(['hyai','hybi','hyam','hybm']).squeeze()\n",
    "    ds_all = ds_all.isel( lev=model_lev_i)\n",
    "    \n",
    "\n",
    "\n",
    "    ds_all = broadcase_station_data(ds_all, varl_st=varl_st_echam, lon = lon_smr, lat = lat_smr)\n",
    "    \n",
    "\n",
    "    ds_all = change_units_and_compute_vars_echam(ds_all)\n",
    "\n",
    "    delayed_obj = ds_all.to_netcdf(fn_final_echam, compute=False)\n",
    "    print('hey')\n",
    "    with ProgressBar():\n",
    "        results = delayed_obj.compute()"
   ]
  },
  {
   "cell_type": "code",
   "execution_count": 64,
   "id": "ea068249-8bc5-48e6-99b7-2e20bc55dab6",
   "metadata": {},
   "outputs": [
    {
     "name": "stdout",
     "output_type": "stream",
     "text": [
      "hey\n"
     ]
    }
   ],
   "source": [
    "print('hey')"
   ]
  },
  {
   "cell_type": "code",
   "execution_count": 65,
   "id": "b64dc097-1f09-486c-b40c-110571f3d4be",
   "metadata": {
    "lines_to_next_cell": 2
   },
   "outputs": [
    {
     "data": {
      "text/plain": [
       "<matplotlib.collections.QuadMesh at 0x7fab6428af70>"
      ]
     },
     "execution_count": 65,
     "metadata": {},
     "output_type": "execute_result"
    },
    {
     "data": {
      "image/png": "[encoded data removed]",
      "text/plain": [
       "<Figure size 432x288 with 2 Axes>"
      ]
     },
     "metadata": {
      "needs_background": "light"
     },
     "output_type": "display_data"
    }
   ],
   "source": [
    "ds_all = xr.open_dataset(fn_final_echam,engine='netcdf4')\n",
    "ds_all['N50'].mean('time').plot()#.isel(lat=0, time=0).plot()#.shape#.plot()"
   ]
  },
  {
   "cell_type": "code",
   "execution_count": 46,
   "id": "2a363d88-5e07-4e35-a79a-f7927476d67c",
   "metadata": {},
   "outputs": [
    {
     "ename": "KeyError",
     "evalue": "'cwp_incld'",
     "output_type": "error",
     "traceback": [
      "\u001b[0;31m---------------------------------------------------------------------------\u001b[0m",
      "\u001b[0;31mKeyError\u001b[0m                                  Traceback (most recent call last)",
      "\u001b[0;32m~/miniconda3/envs/env_analys/lib/python3.8/site-packages/xarray/core/dataset.py\u001b[0m in \u001b[0;36m_construct_dataarray\u001b[0;34m(self, name)\u001b[0m\n\u001b[1;32m   1397\u001b[0m         \u001b[0;32mtry\u001b[0m\u001b[0;34m:\u001b[0m\u001b[0;34m\u001b[0m\u001b[0;34m\u001b[0m\u001b[0m\n\u001b[0;32m-> 1398\u001b[0;31m             \u001b[0mvariable\u001b[0m \u001b[0;34m=\u001b[0m \u001b[0mself\u001b[0m\u001b[0;34m.\u001b[0m\u001b[0m_variables\u001b[0m\u001b[0;34m[\u001b[0m\u001b[0mname\u001b[0m\u001b[0;34m]\u001b[0m\u001b[0;34m\u001b[0m\u001b[0;34m\u001b[0m\u001b[0m\n\u001b[0m\u001b[1;32m   1399\u001b[0m         \u001b[0;32mexcept\u001b[0m \u001b[0mKeyError\u001b[0m\u001b[0;34m:\u001b[0m\u001b[0;34m\u001b[0m\u001b[0;34m\u001b[0m\u001b[0m\n",
      "\u001b[0;31mKeyError\u001b[0m: 'cwp_incld'",
      "\nDuring handling of the above exception, another exception occurred:\n",
      "\u001b[0;31mKeyError\u001b[0m                                  Traceback (most recent call last)",
      "\u001b[0;32m/tmp/ipykernel_166530/415922986.py\u001b[0m in \u001b[0;36m<module>\u001b[0;34m\u001b[0m\n\u001b[0;32m----> 1\u001b[0;31m \u001b[0mds_all\u001b[0m\u001b[0;34m[\u001b[0m\u001b[0;34m'cwp_incld'\u001b[0m\u001b[0;34m]\u001b[0m\u001b[0;34m.\u001b[0m\u001b[0misel\u001b[0m\u001b[0;34m(\u001b[0m\u001b[0mlat\u001b[0m\u001b[0;34m=\u001b[0m\u001b[0;36m1\u001b[0m\u001b[0;34m,\u001b[0m \u001b[0mlon\u001b[0m\u001b[0;34m=\u001b[0m\u001b[0;36m1\u001b[0m\u001b[0;34m)\u001b[0m\u001b[0;34m.\u001b[0m\u001b[0mplot\u001b[0m\u001b[0;34m(\u001b[0m\u001b[0;34m)\u001b[0m\u001b[0;34m\u001b[0m\u001b[0;34m\u001b[0m\u001b[0m\n\u001b[0m",
      "\u001b[0;32m~/miniconda3/envs/env_analys/lib/python3.8/site-packages/xarray/core/dataset.py\u001b[0m in \u001b[0;36m__getitem__\u001b[0;34m(self, key)\u001b[0m\n\u001b[1;32m   1500\u001b[0m \u001b[0;34m\u001b[0m\u001b[0m\n\u001b[1;32m   1501\u001b[0m         \u001b[0;32mif\u001b[0m \u001b[0mhashable\u001b[0m\u001b[0;34m(\u001b[0m\u001b[0mkey\u001b[0m\u001b[0;34m)\u001b[0m\u001b[0;34m:\u001b[0m\u001b[0;34m\u001b[0m\u001b[0;34m\u001b[0m\u001b[0m\n\u001b[0;32m-> 1502\u001b[0;31m             \u001b[0;32mreturn\u001b[0m \u001b[0mself\u001b[0m\u001b[0;34m.\u001b[0m\u001b[0m_construct_dataarray\u001b[0m\u001b[0;34m(\u001b[0m\u001b[0mkey\u001b[0m\u001b[0;34m)\u001b[0m\u001b[0;34m\u001b[0m\u001b[0;34m\u001b[0m\u001b[0m\n\u001b[0m\u001b[1;32m   1503\u001b[0m         \u001b[0;32melse\u001b[0m\u001b[0;34m:\u001b[0m\u001b[0;34m\u001b[0m\u001b[0;34m\u001b[0m\u001b[0m\n\u001b[1;32m   1504\u001b[0m             \u001b[0;32mreturn\u001b[0m \u001b[0mself\u001b[0m\u001b[0;34m.\u001b[0m\u001b[0m_copy_listed\u001b[0m\u001b[0;34m(\u001b[0m\u001b[0mkey\u001b[0m\u001b[0;34m)\u001b[0m\u001b[0;34m\u001b[0m\u001b[0;34m\u001b[0m\u001b[0m\n",
      "\u001b[0;32m~/miniconda3/envs/env_analys/lib/python3.8/site-packages/xarray/core/dataset.py\u001b[0m in \u001b[0;36m_construct_dataarray\u001b[0;34m(self, name)\u001b[0m\n\u001b[1;32m   1398\u001b[0m             \u001b[0mvariable\u001b[0m \u001b[0;34m=\u001b[0m \u001b[0mself\u001b[0m\u001b[0;34m.\u001b[0m\u001b[0m_variables\u001b[0m\u001b[0;34m[\u001b[0m\u001b[0mname\u001b[0m\u001b[0;34m]\u001b[0m\u001b[0;34m\u001b[0m\u001b[0;34m\u001b[0m\u001b[0m\n\u001b[1;32m   1399\u001b[0m         \u001b[0;32mexcept\u001b[0m \u001b[0mKeyError\u001b[0m\u001b[0;34m:\u001b[0m\u001b[0;34m\u001b[0m\u001b[0;34m\u001b[0m\u001b[0m\n\u001b[0;32m-> 1400\u001b[0;31m             _, name, variable = _get_virtual_variable(\n\u001b[0m\u001b[1;32m   1401\u001b[0m                 \u001b[0mself\u001b[0m\u001b[0;34m.\u001b[0m\u001b[0m_variables\u001b[0m\u001b[0;34m,\u001b[0m \u001b[0mname\u001b[0m\u001b[0;34m,\u001b[0m \u001b[0mself\u001b[0m\u001b[0;34m.\u001b[0m\u001b[0m_level_coords\u001b[0m\u001b[0;34m,\u001b[0m \u001b[0mself\u001b[0m\u001b[0;34m.\u001b[0m\u001b[0mdims\u001b[0m\u001b[0;34m\u001b[0m\u001b[0;34m\u001b[0m\u001b[0m\n\u001b[1;32m   1402\u001b[0m             )\n",
      "\u001b[0;32m~/miniconda3/envs/env_analys/lib/python3.8/site-packages/xarray/core/dataset.py\u001b[0m in \u001b[0;36m_get_virtual_variable\u001b[0;34m(variables, key, level_vars, dim_sizes)\u001b[0m\n\u001b[1;32m    171\u001b[0m         \u001b[0mref_var\u001b[0m \u001b[0;34m=\u001b[0m \u001b[0mdim_var\u001b[0m\u001b[0;34m.\u001b[0m\u001b[0mto_index_variable\u001b[0m\u001b[0;34m(\u001b[0m\u001b[0;34m)\u001b[0m\u001b[0;34m.\u001b[0m\u001b[0mget_level_variable\u001b[0m\u001b[0;34m(\u001b[0m\u001b[0mref_name\u001b[0m\u001b[0;34m)\u001b[0m\u001b[0;34m\u001b[0m\u001b[0;34m\u001b[0m\u001b[0m\n\u001b[1;32m    172\u001b[0m     \u001b[0;32melse\u001b[0m\u001b[0;34m:\u001b[0m\u001b[0;34m\u001b[0m\u001b[0;34m\u001b[0m\u001b[0m\n\u001b[0;32m--> 173\u001b[0;31m         \u001b[0mref_var\u001b[0m \u001b[0;34m=\u001b[0m \u001b[0mvariables\u001b[0m\u001b[0;34m[\u001b[0m\u001b[0mref_name\u001b[0m\u001b[0;34m]\u001b[0m\u001b[0;34m\u001b[0m\u001b[0;34m\u001b[0m\u001b[0m\n\u001b[0m\u001b[1;32m    174\u001b[0m \u001b[0;34m\u001b[0m\u001b[0m\n\u001b[1;32m    175\u001b[0m     \u001b[0;32mif\u001b[0m \u001b[0mvar_name\u001b[0m \u001b[0;32mis\u001b[0m \u001b[0;32mNone\u001b[0m\u001b[0;34m:\u001b[0m\u001b[0;34m\u001b[0m\u001b[0;34m\u001b[0m\u001b[0m\n",
      "\u001b[0;31mKeyError\u001b[0m: 'cwp_incld'"
     ]
    }
   ],
   "source": [
    "ds_all['cwp_incld'].isel(lat=1, lon=1).plot()"
   ]
  },
  {
   "cell_type": "code",
   "execution_count": 66,
   "id": "35d0655f-269c-4415-bb64-e1e35e1d3d2c",
   "metadata": {},
   "outputs": [
    {
     "data": {
      "text/html": [
       "<div><svg style=\"position: absolute; width: 0; height: 0; overflow: hidden\">\n",
       "<defs>\n",
       "<symbol id=\"icon-database\" viewBox=\"0 0 32 32\">\n",
       "<path d=\"M16 0c-8.837 0-16 2.239-16 5v4c0 2.761 7.163 5 16 5s16-2.239 16-5v-4c0-2.761-7.163-5-16-5z\"></path>\n",
       "<path d=\"M16 17c-8.837 0-16-2.239-16-5v6c0 2.761 7.163 5 16 5s16-2.239 16-5v-6c0 2.761-7.163 5-16 5z\"></path>\n",
       "<path d=\"M16 26c-8.837 0-16-2.239-16-5v6c0 2.761 7.163 5 16 5s16-2.239 16-5v-6c0 2.761-7.163 5-16 5z\"></path>\n",
       "</symbol>\n",
       "<symbol id=\"icon-file-text2\" viewBox=\"0 0 32 32\">\n",
       "<path d=\"M28.681 7.159c-0.694-0.947-1.662-2.053-2.724-3.116s-2.169-2.030-3.116-2.724c-1.612-1.182-2.393-1.319-2.841-1.319h-15.5c-1.378 0-2.5 1.121-2.5 2.5v27c0 1.378 1.122 2.5 2.5 2.5h23c1.378 0 2.5-1.122 2.5-2.5v-19.5c0-0.448-0.137-1.23-1.319-2.841zM24.543 5.457c0.959 0.959 1.712 1.825 2.268 2.543h-4.811v-4.811c0.718 0.556 1.584 1.309 2.543 2.268zM28 29.5c0 0.271-0.229 0.5-0.5 0.5h-23c-0.271 0-0.5-0.229-0.5-0.5v-27c0-0.271 0.229-0.5 0.5-0.5 0 0 15.499-0 15.5 0v7c0 0.552 0.448 1 1 1h7v19.5z\"></path>\n",
       "<path d=\"M23 26h-14c-0.552 0-1-0.448-1-1s0.448-1 1-1h14c0.552 0 1 0.448 1 1s-0.448 1-1 1z\"></path>\n",
       "<path d=\"M23 22h-14c-0.552 0-1-0.448-1-1s0.448-1 1-1h14c0.552 0 1 0.448 1 1s-0.448 1-1 1z\"></path>\n",
       "<path d=\"M23 18h-14c-0.552 0-1-0.448-1-1s0.448-1 1-1h14c0.552 0 1 0.448 1 1s-0.448 1-1 1z\"></path>\n",
       "</symbol>\n",
       "</defs>\n",
       "</svg>\n",
       "<style>/* CSS stylesheet for displaying xarray objects in jupyterlab.\n",
       " *\n",
       " */\n",
       "\n",
       ":root {\n",
       "  --xr-font-color0: var(--jp-content-font-color0, rgba(0, 0, 0, 1));\n",
       "  --xr-font-color2: var(--jp-content-font-color2, rgba(0, 0, 0, 0.54));\n",
       "  --xr-font-color3: var(--jp-content-font-color3, rgba(0, 0, 0, 0.38));\n",
       "  --xr-border-color: var(--jp-border-color2, #e0e0e0);\n",
       "  --xr-disabled-color: var(--jp-layout-color3, #bdbdbd);\n",
       "  --xr-background-color: var(--jp-layout-color0, white);\n",
       "  --xr-background-color-row-even: var(--jp-layout-color1, white);\n",
       "  --xr-background-color-row-odd: var(--jp-layout-color2, #eeeeee);\n",
       "}\n",
       "\n",
       "html[theme=dark],\n",
       "body.vscode-dark {\n",
       "  --xr-font-color0: rgba(255, 255, 255, 1);\n",
       "  --xr-font-color2: rgba(255, 255, 255, 0.54);\n",
       "  --xr-font-color3: rgba(255, 255, 255, 0.38);\n",
       "  --xr-border-color: #1F1F1F;\n",
       "  --xr-disabled-color: #515151;\n",
       "  --xr-background-color: #111111;\n",
       "  --xr-background-color-row-even: #111111;\n",
       "  --xr-background-color-row-odd: #313131;\n",
       "}\n",
       "\n",
       ".xr-wrap {\n",
       "  display: block;\n",
       "  min-width: 300px;\n",
       "  max-width: 700px;\n",
       "}\n",
       "\n",
       ".xr-text-repr-fallback {\n",
       "  /* fallback to plain text repr when CSS is not injected (untrusted notebook) */\n",
       "  display: none;\n",
       "}\n",
       "\n",
       ".xr-header {\n",
       "  padding-top: 6px;\n",
       "  padding-bottom: 6px;\n",
       "  margin-bottom: 4px;\n",
       "  border-bottom: solid 1px var(--xr-border-color);\n",
       "}\n",
       "\n",
       ".xr-header > div,\n",
       ".xr-header > ul {\n",
       "  display: inline;\n",
       "  margin-top: 0;\n",
       "  margin-bottom: 0;\n",
       "}\n",
       "\n",
       ".xr-obj-type,\n",
       ".xr-array-name {\n",
       "  margin-left: 2px;\n",
       "  margin-right: 10px;\n",
       "}\n",
       "\n",
       ".xr-obj-type {\n",
       "  color: var(--xr-font-color2);\n",
       "}\n",
       "\n",
       ".xr-sections {\n",
       "  padding-left: 0 !important;\n",
       "  display: grid;\n",
       "  grid-template-columns: 150px auto auto 1fr 20px 20px;\n",
       "}\n",
       "\n",
       ".xr-section-item {\n",
       "  display: contents;\n",
       "}\n",
       "\n",
       ".xr-section-item input {\n",
       "  display: none;\n",
       "}\n",
       "\n",
       ".xr-section-item input + label {\n",
       "  color: var(--xr-disabled-color);\n",
       "}\n",
       "\n",
       ".xr-section-item input:enabled + label {\n",
       "  cursor: pointer;\n",
       "  color: var(--xr-font-color2);\n",
       "}\n",
       "\n",
       ".xr-section-item input:enabled + label:hover {\n",
       "  color: var(--xr-font-color0);\n",
       "}\n",
       "\n",
       ".xr-section-summary {\n",
       "  grid-column: 1;\n",
       "  color: var(--xr-font-color2);\n",
       "  font-weight: 500;\n",
       "}\n",
       "\n",
       ".xr-section-summary > span {\n",
       "  display: inline-block;\n",
       "  padding-left: 0.5em;\n",
       "}\n",
       "\n",
       ".xr-section-summary-in:disabled + label {\n",
       "  color: var(--xr-font-color2);\n",
       "}\n",
       "\n",
       ".xr-section-summary-in + label:before {\n",
       "  display: inline-block;\n",
       "  content: '►';\n",
       "  font-size: 11px;\n",
       "  width: 15px;\n",
       "  text-align: center;\n",
       "}\n",
       "\n",
       ".xr-section-summary-in:disabled + label:before {\n",
       "  color: var(--xr-disabled-color);\n",
       "}\n",
       "\n",
       ".xr-section-summary-in:checked + label:before {\n",
       "  content: '▼';\n",
       "}\n",
       "\n",
       ".xr-section-summary-in:checked + label > span {\n",
       "  display: none;\n",
       "}\n",
       "\n",
       ".xr-section-summary,\n",
       ".xr-section-inline-details {\n",
       "  padding-top: 4px;\n",
       "  padding-bottom: 4px;\n",
       "}\n",
       "\n",
       ".xr-section-inline-details {\n",
       "  grid-column: 2 / -1;\n",
       "}\n",
       "\n",
       ".xr-section-details {\n",
       "  display: none;\n",
       "  grid-column: 1 / -1;\n",
       "  margin-bottom: 5px;\n",
       "}\n",
       "\n",
       ".xr-section-summary-in:checked ~ .xr-section-details {\n",
       "  display: contents;\n",
       "}\n",
       "\n",
       ".xr-array-wrap {\n",
       "  grid-column: 1 / -1;\n",
       "  display: grid;\n",
       "  grid-template-columns: 20px auto;\n",
       "}\n",
       "\n",
       ".xr-array-wrap > label {\n",
       "  grid-column: 1;\n",
       "  vertical-align: top;\n",
       "}\n",
       "\n",
       ".xr-preview {\n",
       "  color: var(--xr-font-color3);\n",
       "}\n",
       "\n",
       ".xr-array-preview,\n",
       ".xr-array-data {\n",
       "  padding: 0 5px !important;\n",
       "  grid-column: 2;\n",
       "}\n",
       "\n",
       ".xr-array-data,\n",
       ".xr-array-in:checked ~ .xr-array-preview {\n",
       "  display: none;\n",
       "}\n",
       "\n",
       ".xr-array-in:checked ~ .xr-array-data,\n",
       ".xr-array-preview {\n",
       "  display: inline-block;\n",
       "}\n",
       "\n",
       ".xr-dim-list {\n",
       "  display: inline-block !important;\n",
       "  list-style: none;\n",
       "  padding: 0 !important;\n",
       "  margin: 0;\n",
       "}\n",
       "\n",
       ".xr-dim-list li {\n",
       "  display: inline-block;\n",
       "  padding: 0;\n",
       "  margin: 0;\n",
       "}\n",
       "\n",
       ".xr-dim-list:before {\n",
       "  content: '(';\n",
       "}\n",
       "\n",
       ".xr-dim-list:after {\n",
       "  content: ')';\n",
       "}\n",
       "\n",
       ".xr-dim-list li:not(:last-child):after {\n",
       "  content: ',';\n",
       "  padding-right: 5px;\n",
       "}\n",
       "\n",
       ".xr-has-index {\n",
       "  font-weight: bold;\n",
       "}\n",
       "\n",
       ".xr-var-list,\n",
       ".xr-var-item {\n",
       "  display: contents;\n",
       "}\n",
       "\n",
       ".xr-var-item > div,\n",
       ".xr-var-item label,\n",
       ".xr-var-item > .xr-var-name span {\n",
       "  background-color: var(--xr-background-color-row-even);\n",
       "  margin-bottom: 0;\n",
       "}\n",
       "\n",
       ".xr-var-item > .xr-var-name:hover span {\n",
       "  padding-right: 5px;\n",
       "}\n",
       "\n",
       ".xr-var-list > li:nth-child(odd) > div,\n",
       ".xr-var-list > li:nth-child(odd) > label,\n",
       ".xr-var-list > li:nth-child(odd) > .xr-var-name span {\n",
       "  background-color: var(--xr-background-color-row-odd);\n",
       "}\n",
       "\n",
       ".xr-var-name {\n",
       "  grid-column: 1;\n",
       "}\n",
       "\n",
       ".xr-var-dims {\n",
       "  grid-column: 2;\n",
       "}\n",
       "\n",
       ".xr-var-dtype {\n",
       "  grid-column: 3;\n",
       "  text-align: right;\n",
       "  color: var(--xr-font-color2);\n",
       "}\n",
       "\n",
       ".xr-var-preview {\n",
       "  grid-column: 4;\n",
       "}\n",
       "\n",
       ".xr-var-name,\n",
       ".xr-var-dims,\n",
       ".xr-var-dtype,\n",
       ".xr-preview,\n",
       ".xr-attrs dt {\n",
       "  white-space: nowrap;\n",
       "  overflow: hidden;\n",
       "  text-overflow: ellipsis;\n",
       "  padding-right: 10px;\n",
       "}\n",
       "\n",
       ".xr-var-name:hover,\n",
       ".xr-var-dims:hover,\n",
       ".xr-var-dtype:hover,\n",
       ".xr-attrs dt:hover {\n",
       "  overflow: visible;\n",
       "  width: auto;\n",
       "  z-index: 1;\n",
       "}\n",
       "\n",
       ".xr-var-attrs,\n",
       ".xr-var-data {\n",
       "  display: none;\n",
       "  background-color: var(--xr-background-color) !important;\n",
       "  padding-bottom: 5px !important;\n",
       "}\n",
       "\n",
       ".xr-var-attrs-in:checked ~ .xr-var-attrs,\n",
       ".xr-var-data-in:checked ~ .xr-var-data {\n",
       "  display: block;\n",
       "}\n",
       "\n",
       ".xr-var-data > table {\n",
       "  float: right;\n",
       "}\n",
       "\n",
       ".xr-var-name span,\n",
       ".xr-var-data,\n",
       ".xr-attrs {\n",
       "  padding-left: 25px !important;\n",
       "}\n",
       "\n",
       ".xr-attrs,\n",
       ".xr-var-attrs,\n",
       ".xr-var-data {\n",
       "  grid-column: 1 / -1;\n",
       "}\n",
       "\n",
       "dl.xr-attrs {\n",
       "  padding: 0;\n",
       "  margin: 0;\n",
       "  display: grid;\n",
       "  grid-template-columns: 125px auto;\n",
       "}\n",
       "\n",
       ".xr-attrs dt,\n",
       ".xr-attrs dd {\n",
       "  padding: 0;\n",
       "  margin: 0;\n",
       "  float: left;\n",
       "  padding-right: 10px;\n",
       "  width: auto;\n",
       "}\n",
       "\n",
       ".xr-attrs dt {\n",
       "  font-weight: normal;\n",
       "  grid-column: 1;\n",
       "}\n",
       "\n",
       ".xr-attrs dt:hover span {\n",
       "  display: inline-block;\n",
       "  background: var(--xr-background-color);\n",
       "  padding-right: 10px;\n",
       "}\n",
       "\n",
       ".xr-attrs dd {\n",
       "  grid-column: 2;\n",
       "  white-space: pre-wrap;\n",
       "  word-break: break-all;\n",
       "}\n",
       "\n",
       ".xr-icon-database,\n",
       ".xr-icon-file-text2 {\n",
       "  display: inline-block;\n",
       "  vertical-align: middle;\n",
       "  width: 1em;\n",
       "  height: 1.5em !important;\n",
       "  stroke-width: 0;\n",
       "  stroke: currentColor;\n",
       "  fill: currentColor;\n",
       "}\n",
       "</style><pre class='xr-text-repr-fallback'>&lt;xarray.DataArray &#x27;tempair_ct&#x27; (time: 61368, lat: 3, lon: 8)&gt;\n",
       "[1472832 values with dtype=float32]\n",
       "Coordinates:\n",
       "  * lat      (lat) float64 -2.798 -4.663 -6.528\n",
       "    lev      float64 47.0\n",
       "  * lon      (lon) float64 294.4 296.2 298.1 300.0 301.9 303.8 305.6 307.5\n",
       "  * time     (time) datetime64[ns] 2012-01-01T00:52:30 ... 2018-12-31T23:52:30\n",
       "Attributes:\n",
       "    long_name:    air temperature\n",
       "    units:        K\n",
       "    description:  air_temperature</pre><div class='xr-wrap' hidden><div class='xr-header'><div class='xr-obj-type'>xarray.DataArray</div><div class='xr-array-name'>'tempair_ct'</div><ul class='xr-dim-list'><li><span class='xr-has-index'>time</span>: 61368</li><li><span class='xr-has-index'>lat</span>: 3</li><li><span class='xr-has-index'>lon</span>: 8</li></ul></div><ul class='xr-sections'><li class='xr-section-item'><div class='xr-array-wrap'><input id='section-dec22568-0277-49f0-b874-0678a360f265' class='xr-array-in' type='checkbox' checked><label for='section-dec22568-0277-49f0-b874-0678a360f265' title='Show/hide data repr'><svg class='icon xr-icon-database'><use xlink:href='#icon-database'></use></svg></label><div class='xr-array-preview xr-preview'><span>...</span></div><div class='xr-array-data'><pre>[1472832 values with dtype=float32]</pre></div></div></li><li class='xr-section-item'><input id='section-cbbd4a24-8101-4f9e-98eb-3ff9b057104e' class='xr-section-summary-in' type='checkbox'  checked><label for='section-cbbd4a24-8101-4f9e-98eb-3ff9b057104e' class='xr-section-summary' >Coordinates: <span>(4)</span></label><div class='xr-section-inline-details'></div><div class='xr-section-details'><ul class='xr-var-list'><li class='xr-var-item'><div class='xr-var-name'><span class='xr-has-index'>lat</span></div><div class='xr-var-dims'>(lat)</div><div class='xr-var-dtype'>float64</div><div class='xr-var-preview xr-preview'>-2.798 -4.663 -6.528</div><input id='attrs-5ee7fbf0-9dc4-4019-b715-678f016140a8' class='xr-var-attrs-in' type='checkbox' ><label for='attrs-5ee7fbf0-9dc4-4019-b715-678f016140a8' title='Show/Hide attributes'><svg class='icon xr-icon-file-text2'><use xlink:href='#icon-file-text2'></use></svg></label><input id='data-36c73945-c819-4b15-9972-5ecc302df218' class='xr-var-data-in' type='checkbox'><label for='data-36c73945-c819-4b15-9972-5ecc302df218' title='Show/Hide data repr'><svg class='icon xr-icon-database'><use xlink:href='#icon-database'></use></svg></label><div class='xr-var-attrs'><dl class='xr-attrs'><dt><span>standard_name :</span></dt><dd>latitude</dd><dt><span>long_name :</span></dt><dd>latitude</dd><dt><span>units :</span></dt><dd>degrees_north</dd><dt><span>axis :</span></dt><dd>Y</dd></dl></div><div class='xr-var-data'><pre>array([-2.79789 , -4.66315 , -6.528409])</pre></div></li><li class='xr-var-item'><div class='xr-var-name'><span>lev</span></div><div class='xr-var-dims'>()</div><div class='xr-var-dtype'>float64</div><div class='xr-var-preview xr-preview'>...</div><input id='attrs-d873129b-5e5d-459e-b2ea-44143efd2070' class='xr-var-attrs-in' type='checkbox' ><label for='attrs-d873129b-5e5d-459e-b2ea-44143efd2070' title='Show/Hide attributes'><svg class='icon xr-icon-file-text2'><use xlink:href='#icon-file-text2'></use></svg></label><input id='data-f60cc2a0-94fd-45bd-be0c-8503631e3fc6' class='xr-var-data-in' type='checkbox'><label for='data-f60cc2a0-94fd-45bd-be0c-8503631e3fc6' title='Show/Hide data repr'><svg class='icon xr-icon-database'><use xlink:href='#icon-database'></use></svg></label><div class='xr-var-attrs'><dl class='xr-attrs'><dt><span>standard_name :</span></dt><dd>hybrid_sigma_pressure</dd><dt><span>long_name :</span></dt><dd>hybrid level at layer midpoints</dd><dt><span>formula :</span></dt><dd>hyam hybm (mlev=hyam+hybm*aps)</dd><dt><span>formula_terms :</span></dt><dd>ap: hyam b: hybm ps: aps</dd><dt><span>units :</span></dt><dd>level</dd><dt><span>positive :</span></dt><dd>down</dd></dl></div><div class='xr-var-data'><pre>array(47.)</pre></div></li><li class='xr-var-item'><div class='xr-var-name'><span class='xr-has-index'>lon</span></div><div class='xr-var-dims'>(lon)</div><div class='xr-var-dtype'>float64</div><div class='xr-var-preview xr-preview'>294.4 296.2 298.1 ... 305.6 307.5</div><input id='attrs-c15a9a57-2425-40db-bf28-df71da33d532' class='xr-var-attrs-in' type='checkbox' ><label for='attrs-c15a9a57-2425-40db-bf28-df71da33d532' title='Show/Hide attributes'><svg class='icon xr-icon-file-text2'><use xlink:href='#icon-file-text2'></use></svg></label><input id='data-4a0050f5-05d7-414a-a401-0ff877cb6274' class='xr-var-data-in' type='checkbox'><label for='data-4a0050f5-05d7-414a-a401-0ff877cb6274' title='Show/Hide data repr'><svg class='icon xr-icon-database'><use xlink:href='#icon-database'></use></svg></label><div class='xr-var-attrs'><dl class='xr-attrs'><dt><span>standard_name :</span></dt><dd>longitude</dd><dt><span>long_name :</span></dt><dd>longitude</dd><dt><span>units :</span></dt><dd>degrees_east</dd><dt><span>axis :</span></dt><dd>X</dd></dl></div><div class='xr-var-data'><pre>array([294.375, 296.25 , 298.125, 300.   , 301.875, 303.75 , 305.625, 307.5  ])</pre></div></li><li class='xr-var-item'><div class='xr-var-name'><span class='xr-has-index'>time</span></div><div class='xr-var-dims'>(time)</div><div class='xr-var-dtype'>datetime64[ns]</div><div class='xr-var-preview xr-preview'>2012-01-01T00:52:30 ... 2018-12-...</div><input id='attrs-6149c24d-d7e1-48e6-aa96-c98740e7b8ea' class='xr-var-attrs-in' type='checkbox' ><label for='attrs-6149c24d-d7e1-48e6-aa96-c98740e7b8ea' title='Show/Hide attributes'><svg class='icon xr-icon-file-text2'><use xlink:href='#icon-file-text2'></use></svg></label><input id='data-47c4776e-2c6c-426c-9ce7-6c41f4703f83' class='xr-var-data-in' type='checkbox'><label for='data-47c4776e-2c6c-426c-9ce7-6c41f4703f83' title='Show/Hide data repr'><svg class='icon xr-icon-database'><use xlink:href='#icon-database'></use></svg></label><div class='xr-var-attrs'><dl class='xr-attrs'><dt><span>standard_name :</span></dt><dd>time</dd><dt><span>axis :</span></dt><dd>T</dd></dl></div><div class='xr-var-data'><pre>array([&#x27;2012-01-01T00:52:30.000000000&#x27;, &#x27;2012-01-01T01:52:30.000000000&#x27;,\n",
       "       &#x27;2012-01-01T02:52:30.000000000&#x27;, ..., &#x27;2018-12-31T21:52:30.000000000&#x27;,\n",
       "       &#x27;2018-12-31T22:52:30.000000000&#x27;, &#x27;2018-12-31T23:52:30.000000000&#x27;],\n",
       "      dtype=&#x27;datetime64[ns]&#x27;)</pre></div></li></ul></div></li><li class='xr-section-item'><input id='section-4c128978-b2ec-4e6c-aeb2-eef96ff096d5' class='xr-section-summary-in' type='checkbox'  checked><label for='section-4c128978-b2ec-4e6c-aeb2-eef96ff096d5' class='xr-section-summary' >Attributes: <span>(3)</span></label><div class='xr-section-inline-details'></div><div class='xr-section-details'><dl class='xr-attrs'><dt><span>long_name :</span></dt><dd>air temperature</dd><dt><span>units :</span></dt><dd>K</dd><dt><span>description :</span></dt><dd>air_temperature</dd></dl></div></li></ul></div></div>"
      ],
      "text/plain": [
       "<xarray.DataArray 'tempair_ct' (time: 61368, lat: 3, lon: 8)>\n",
       "[1472832 values with dtype=float32]\n",
       "Coordinates:\n",
       "  * lat      (lat) float64 -2.798 -4.663 -6.528\n",
       "    lev      float64 ...\n",
       "  * lon      (lon) float64 294.4 296.2 298.1 300.0 301.9 303.8 305.6 307.5\n",
       "  * time     (time) datetime64[ns] 2012-01-01T00:52:30 ... 2018-12-31T23:52:30\n",
       "Attributes:\n",
       "    long_name:    air temperature\n",
       "    units:        K\n",
       "    description:  air_temperature"
      ]
     },
     "execution_count": 66,
     "metadata": {},
     "output_type": "execute_result"
    }
   ],
   "source": [
    "ds_all['tempair_ct']"
   ]
  },
  {
   "cell_type": "markdown",
   "id": "0ac37b76-b68d-4537-ad51-f0b62c04538e",
   "metadata": {},
   "source": [
    "### Fix time for echam"
   ]
  },
  {
   "cell_type": "code",
   "execution_count": 68,
   "id": "b5d4ac31-9cc8-48a5-a80f-f4231eb9d346",
   "metadata": {},
   "outputs": [],
   "source": [
    "ds_all['time'] = ds_all['time'].to_dataframe()['time'].apply(fix_echam_time).values"
   ]
  },
  {
   "cell_type": "code",
   "execution_count": 69,
   "id": "ac3be6d9-8df7-468e-89da-adb22850e23a",
   "metadata": {},
   "outputs": [
    {
     "data": {
      "text/html": [
       "<div><svg style=\"position: absolute; width: 0; height: 0; overflow: hidden\">\n",
       "<defs>\n",
       "<symbol id=\"icon-database\" viewBox=\"0 0 32 32\">\n",
       "<path d=\"M16 0c-8.837 0-16 2.239-16 5v4c0 2.761 7.163 5 16 5s16-2.239 16-5v-4c0-2.761-7.163-5-16-5z\"></path>\n",
       "<path d=\"M16 17c-8.837 0-16-2.239-16-5v6c0 2.761 7.163 5 16 5s16-2.239 16-5v-6c0 2.761-7.163 5-16 5z\"></path>\n",
       "<path d=\"M16 26c-8.837 0-16-2.239-16-5v6c0 2.761 7.163 5 16 5s16-2.239 16-5v-6c0 2.761-7.163 5-16 5z\"></path>\n",
       "</symbol>\n",
       "<symbol id=\"icon-file-text2\" viewBox=\"0 0 32 32\">\n",
       "<path d=\"M28.681 7.159c-0.694-0.947-1.662-2.053-2.724-3.116s-2.169-2.030-3.116-2.724c-1.612-1.182-2.393-1.319-2.841-1.319h-15.5c-1.378 0-2.5 1.121-2.5 2.5v27c0 1.378 1.122 2.5 2.5 2.5h23c1.378 0 2.5-1.122 2.5-2.5v-19.5c0-0.448-0.137-1.23-1.319-2.841zM24.543 5.457c0.959 0.959 1.712 1.825 2.268 2.543h-4.811v-4.811c0.718 0.556 1.584 1.309 2.543 2.268zM28 29.5c0 0.271-0.229 0.5-0.5 0.5h-23c-0.271 0-0.5-0.229-0.5-0.5v-27c0-0.271 0.229-0.5 0.5-0.5 0 0 15.499-0 15.5 0v7c0 0.552 0.448 1 1 1h7v19.5z\"></path>\n",
       "<path d=\"M23 26h-14c-0.552 0-1-0.448-1-1s0.448-1 1-1h14c0.552 0 1 0.448 1 1s-0.448 1-1 1z\"></path>\n",
       "<path d=\"M23 22h-14c-0.552 0-1-0.448-1-1s0.448-1 1-1h14c0.552 0 1 0.448 1 1s-0.448 1-1 1z\"></path>\n",
       "<path d=\"M23 18h-14c-0.552 0-1-0.448-1-1s0.448-1 1-1h14c0.552 0 1 0.448 1 1s-0.448 1-1 1z\"></path>\n",
       "</symbol>\n",
       "</defs>\n",
       "</svg>\n",
       "<style>/* CSS stylesheet for displaying xarray objects in jupyterlab.\n",
       " *\n",
       " */\n",
       "\n",
       ":root {\n",
       "  --xr-font-color0: var(--jp-content-font-color0, rgba(0, 0, 0, 1));\n",
       "  --xr-font-color2: var(--jp-content-font-color2, rgba(0, 0, 0, 0.54));\n",
       "  --xr-font-color3: var(--jp-content-font-color3, rgba(0, 0, 0, 0.38));\n",
       "  --xr-border-color: var(--jp-border-color2, #e0e0e0);\n",
       "  --xr-disabled-color: var(--jp-layout-color3, #bdbdbd);\n",
       "  --xr-background-color: var(--jp-layout-color0, white);\n",
       "  --xr-background-color-row-even: var(--jp-layout-color1, white);\n",
       "  --xr-background-color-row-odd: var(--jp-layout-color2, #eeeeee);\n",
       "}\n",
       "\n",
       "html[theme=dark],\n",
       "body.vscode-dark {\n",
       "  --xr-font-color0: rgba(255, 255, 255, 1);\n",
       "  --xr-font-color2: rgba(255, 255, 255, 0.54);\n",
       "  --xr-font-color3: rgba(255, 255, 255, 0.38);\n",
       "  --xr-border-color: #1F1F1F;\n",
       "  --xr-disabled-color: #515151;\n",
       "  --xr-background-color: #111111;\n",
       "  --xr-background-color-row-even: #111111;\n",
       "  --xr-background-color-row-odd: #313131;\n",
       "}\n",
       "\n",
       ".xr-wrap {\n",
       "  display: block;\n",
       "  min-width: 300px;\n",
       "  max-width: 700px;\n",
       "}\n",
       "\n",
       ".xr-text-repr-fallback {\n",
       "  /* fallback to plain text repr when CSS is not injected (untrusted notebook) */\n",
       "  display: none;\n",
       "}\n",
       "\n",
       ".xr-header {\n",
       "  padding-top: 6px;\n",
       "  padding-bottom: 6px;\n",
       "  margin-bottom: 4px;\n",
       "  border-bottom: solid 1px var(--xr-border-color);\n",
       "}\n",
       "\n",
       ".xr-header > div,\n",
       ".xr-header > ul {\n",
       "  display: inline;\n",
       "  margin-top: 0;\n",
       "  margin-bottom: 0;\n",
       "}\n",
       "\n",
       ".xr-obj-type,\n",
       ".xr-array-name {\n",
       "  margin-left: 2px;\n",
       "  margin-right: 10px;\n",
       "}\n",
       "\n",
       ".xr-obj-type {\n",
       "  color: var(--xr-font-color2);\n",
       "}\n",
       "\n",
       ".xr-sections {\n",
       "  padding-left: 0 !important;\n",
       "  display: grid;\n",
       "  grid-template-columns: 150px auto auto 1fr 20px 20px;\n",
       "}\n",
       "\n",
       ".xr-section-item {\n",
       "  display: contents;\n",
       "}\n",
       "\n",
       ".xr-section-item input {\n",
       "  display: none;\n",
       "}\n",
       "\n",
       ".xr-section-item input + label {\n",
       "  color: var(--xr-disabled-color);\n",
       "}\n",
       "\n",
       ".xr-section-item input:enabled + label {\n",
       "  cursor: pointer;\n",
       "  color: var(--xr-font-color2);\n",
       "}\n",
       "\n",
       ".xr-section-item input:enabled + label:hover {\n",
       "  color: var(--xr-font-color0);\n",
       "}\n",
       "\n",
       ".xr-section-summary {\n",
       "  grid-column: 1;\n",
       "  color: var(--xr-font-color2);\n",
       "  font-weight: 500;\n",
       "}\n",
       "\n",
       ".xr-section-summary > span {\n",
       "  display: inline-block;\n",
       "  padding-left: 0.5em;\n",
       "}\n",
       "\n",
       ".xr-section-summary-in:disabled + label {\n",
       "  color: var(--xr-font-color2);\n",
       "}\n",
       "\n",
       ".xr-section-summary-in + label:before {\n",
       "  display: inline-block;\n",
       "  content: '►';\n",
       "  font-size: 11px;\n",
       "  width: 15px;\n",
       "  text-align: center;\n",
       "}\n",
       "\n",
       ".xr-section-summary-in:disabled + label:before {\n",
       "  color: var(--xr-disabled-color);\n",
       "}\n",
       "\n",
       ".xr-section-summary-in:checked + label:before {\n",
       "  content: '▼';\n",
       "}\n",
       "\n",
       ".xr-section-summary-in:checked + label > span {\n",
       "  display: none;\n",
       "}\n",
       "\n",
       ".xr-section-summary,\n",
       ".xr-section-inline-details {\n",
       "  padding-top: 4px;\n",
       "  padding-bottom: 4px;\n",
       "}\n",
       "\n",
       ".xr-section-inline-details {\n",
       "  grid-column: 2 / -1;\n",
       "}\n",
       "\n",
       ".xr-section-details {\n",
       "  display: none;\n",
       "  grid-column: 1 / -1;\n",
       "  margin-bottom: 5px;\n",
       "}\n",
       "\n",
       ".xr-section-summary-in:checked ~ .xr-section-details {\n",
       "  display: contents;\n",
       "}\n",
       "\n",
       ".xr-array-wrap {\n",
       "  grid-column: 1 / -1;\n",
       "  display: grid;\n",
       "  grid-template-columns: 20px auto;\n",
       "}\n",
       "\n",
       ".xr-array-wrap > label {\n",
       "  grid-column: 1;\n",
       "  vertical-align: top;\n",
       "}\n",
       "\n",
       ".xr-preview {\n",
       "  color: var(--xr-font-color3);\n",
       "}\n",
       "\n",
       ".xr-array-preview,\n",
       ".xr-array-data {\n",
       "  padding: 0 5px !important;\n",
       "  grid-column: 2;\n",
       "}\n",
       "\n",
       ".xr-array-data,\n",
       ".xr-array-in:checked ~ .xr-array-preview {\n",
       "  display: none;\n",
       "}\n",
       "\n",
       ".xr-array-in:checked ~ .xr-array-data,\n",
       ".xr-array-preview {\n",
       "  display: inline-block;\n",
       "}\n",
       "\n",
       ".xr-dim-list {\n",
       "  display: inline-block !important;\n",
       "  list-style: none;\n",
       "  padding: 0 !important;\n",
       "  margin: 0;\n",
       "}\n",
       "\n",
       ".xr-dim-list li {\n",
       "  display: inline-block;\n",
       "  padding: 0;\n",
       "  margin: 0;\n",
       "}\n",
       "\n",
       ".xr-dim-list:before {\n",
       "  content: '(';\n",
       "}\n",
       "\n",
       ".xr-dim-list:after {\n",
       "  content: ')';\n",
       "}\n",
       "\n",
       ".xr-dim-list li:not(:last-child):after {\n",
       "  content: ',';\n",
       "  padding-right: 5px;\n",
       "}\n",
       "\n",
       ".xr-has-index {\n",
       "  font-weight: bold;\n",
       "}\n",
       "\n",
       ".xr-var-list,\n",
       ".xr-var-item {\n",
       "  display: contents;\n",
       "}\n",
       "\n",
       ".xr-var-item > div,\n",
       ".xr-var-item label,\n",
       ".xr-var-item > .xr-var-name span {\n",
       "  background-color: var(--xr-background-color-row-even);\n",
       "  margin-bottom: 0;\n",
       "}\n",
       "\n",
       ".xr-var-item > .xr-var-name:hover span {\n",
       "  padding-right: 5px;\n",
       "}\n",
       "\n",
       ".xr-var-list > li:nth-child(odd) > div,\n",
       ".xr-var-list > li:nth-child(odd) > label,\n",
       ".xr-var-list > li:nth-child(odd) > .xr-var-name span {\n",
       "  background-color: var(--xr-background-color-row-odd);\n",
       "}\n",
       "\n",
       ".xr-var-name {\n",
       "  grid-column: 1;\n",
       "}\n",
       "\n",
       ".xr-var-dims {\n",
       "  grid-column: 2;\n",
       "}\n",
       "\n",
       ".xr-var-dtype {\n",
       "  grid-column: 3;\n",
       "  text-align: right;\n",
       "  color: var(--xr-font-color2);\n",
       "}\n",
       "\n",
       ".xr-var-preview {\n",
       "  grid-column: 4;\n",
       "}\n",
       "\n",
       ".xr-var-name,\n",
       ".xr-var-dims,\n",
       ".xr-var-dtype,\n",
       ".xr-preview,\n",
       ".xr-attrs dt {\n",
       "  white-space: nowrap;\n",
       "  overflow: hidden;\n",
       "  text-overflow: ellipsis;\n",
       "  padding-right: 10px;\n",
       "}\n",
       "\n",
       ".xr-var-name:hover,\n",
       ".xr-var-dims:hover,\n",
       ".xr-var-dtype:hover,\n",
       ".xr-attrs dt:hover {\n",
       "  overflow: visible;\n",
       "  width: auto;\n",
       "  z-index: 1;\n",
       "}\n",
       "\n",
       ".xr-var-attrs,\n",
       ".xr-var-data {\n",
       "  display: none;\n",
       "  background-color: var(--xr-background-color) !important;\n",
       "  padding-bottom: 5px !important;\n",
       "}\n",
       "\n",
       ".xr-var-attrs-in:checked ~ .xr-var-attrs,\n",
       ".xr-var-data-in:checked ~ .xr-var-data {\n",
       "  display: block;\n",
       "}\n",
       "\n",
       ".xr-var-data > table {\n",
       "  float: right;\n",
       "}\n",
       "\n",
       ".xr-var-name span,\n",
       ".xr-var-data,\n",
       ".xr-attrs {\n",
       "  padding-left: 25px !important;\n",
       "}\n",
       "\n",
       ".xr-attrs,\n",
       ".xr-var-attrs,\n",
       ".xr-var-data {\n",
       "  grid-column: 1 / -1;\n",
       "}\n",
       "\n",
       "dl.xr-attrs {\n",
       "  padding: 0;\n",
       "  margin: 0;\n",
       "  display: grid;\n",
       "  grid-template-columns: 125px auto;\n",
       "}\n",
       "\n",
       ".xr-attrs dt,\n",
       ".xr-attrs dd {\n",
       "  padding: 0;\n",
       "  margin: 0;\n",
       "  float: left;\n",
       "  padding-right: 10px;\n",
       "  width: auto;\n",
       "}\n",
       "\n",
       ".xr-attrs dt {\n",
       "  font-weight: normal;\n",
       "  grid-column: 1;\n",
       "}\n",
       "\n",
       ".xr-attrs dt:hover span {\n",
       "  display: inline-block;\n",
       "  background: var(--xr-background-color);\n",
       "  padding-right: 10px;\n",
       "}\n",
       "\n",
       ".xr-attrs dd {\n",
       "  grid-column: 2;\n",
       "  white-space: pre-wrap;\n",
       "  word-break: break-all;\n",
       "}\n",
       "\n",
       ".xr-icon-database,\n",
       ".xr-icon-file-text2 {\n",
       "  display: inline-block;\n",
       "  vertical-align: middle;\n",
       "  width: 1em;\n",
       "  height: 1.5em !important;\n",
       "  stroke-width: 0;\n",
       "  stroke: currentColor;\n",
       "  fill: currentColor;\n",
       "}\n",
       "</style><pre class='xr-text-repr-fallback'>&lt;xarray.DataArray &#x27;cwp&#x27; (time: 61368, lat: 3, lon: 8)&gt;\n",
       "[1472832 values with dtype=float32]\n",
       "Coordinates:\n",
       "  * lat      (lat) float64 -2.798 -4.663 -6.528\n",
       "    lev      float64 47.0\n",
       "  * lon      (lon) float64 294.4 296.2 298.1 300.0 301.9 303.8 305.6 307.5\n",
       "  * time     (time) datetime64[ns] 2012-01-01 ... 2018-12-31T23:00:00\n",
       "Attributes:\n",
       "    long_name:    cloud liquid water path\n",
       "    units:        k m $^{-2}$\n",
       "    description:  cloud liquid water path</pre><div class='xr-wrap' hidden><div class='xr-header'><div class='xr-obj-type'>xarray.DataArray</div><div class='xr-array-name'>'cwp'</div><ul class='xr-dim-list'><li><span class='xr-has-index'>time</span>: 61368</li><li><span class='xr-has-index'>lat</span>: 3</li><li><span class='xr-has-index'>lon</span>: 8</li></ul></div><ul class='xr-sections'><li class='xr-section-item'><div class='xr-array-wrap'><input id='section-62500ce9-8a62-4f38-8b9c-0a4e14a9114f' class='xr-array-in' type='checkbox' checked><label for='section-62500ce9-8a62-4f38-8b9c-0a4e14a9114f' title='Show/hide data repr'><svg class='icon xr-icon-database'><use xlink:href='#icon-database'></use></svg></label><div class='xr-array-preview xr-preview'><span>...</span></div><div class='xr-array-data'><pre>[1472832 values with dtype=float32]</pre></div></div></li><li class='xr-section-item'><input id='section-399aa354-c046-471e-a5ad-5c8ed2c129b6' class='xr-section-summary-in' type='checkbox'  checked><label for='section-399aa354-c046-471e-a5ad-5c8ed2c129b6' class='xr-section-summary' >Coordinates: <span>(4)</span></label><div class='xr-section-inline-details'></div><div class='xr-section-details'><ul class='xr-var-list'><li class='xr-var-item'><div class='xr-var-name'><span class='xr-has-index'>lat</span></div><div class='xr-var-dims'>(lat)</div><div class='xr-var-dtype'>float64</div><div class='xr-var-preview xr-preview'>-2.798 -4.663 -6.528</div><input id='attrs-3626de1b-0172-4cfc-a7ad-bf5c00e77898' class='xr-var-attrs-in' type='checkbox' ><label for='attrs-3626de1b-0172-4cfc-a7ad-bf5c00e77898' title='Show/Hide attributes'><svg class='icon xr-icon-file-text2'><use xlink:href='#icon-file-text2'></use></svg></label><input id='data-b8f953af-edd8-4638-b9ac-8f4b0cefae03' class='xr-var-data-in' type='checkbox'><label for='data-b8f953af-edd8-4638-b9ac-8f4b0cefae03' title='Show/Hide data repr'><svg class='icon xr-icon-database'><use xlink:href='#icon-database'></use></svg></label><div class='xr-var-attrs'><dl class='xr-attrs'><dt><span>standard_name :</span></dt><dd>latitude</dd><dt><span>long_name :</span></dt><dd>latitude</dd><dt><span>units :</span></dt><dd>degrees_north</dd><dt><span>axis :</span></dt><dd>Y</dd></dl></div><div class='xr-var-data'><pre>array([-2.79789 , -4.66315 , -6.528409])</pre></div></li><li class='xr-var-item'><div class='xr-var-name'><span>lev</span></div><div class='xr-var-dims'>()</div><div class='xr-var-dtype'>float64</div><div class='xr-var-preview xr-preview'>47.0</div><input id='attrs-0d31c7fc-5191-487c-be35-67667c2bd815' class='xr-var-attrs-in' type='checkbox' ><label for='attrs-0d31c7fc-5191-487c-be35-67667c2bd815' title='Show/Hide attributes'><svg class='icon xr-icon-file-text2'><use xlink:href='#icon-file-text2'></use></svg></label><input id='data-20cadae5-ded0-4aa5-bba5-359df44c80e1' class='xr-var-data-in' type='checkbox'><label for='data-20cadae5-ded0-4aa5-bba5-359df44c80e1' title='Show/Hide data repr'><svg class='icon xr-icon-database'><use xlink:href='#icon-database'></use></svg></label><div class='xr-var-attrs'><dl class='xr-attrs'><dt><span>standard_name :</span></dt><dd>hybrid_sigma_pressure</dd><dt><span>long_name :</span></dt><dd>hybrid level at layer midpoints</dd><dt><span>formula :</span></dt><dd>hyam hybm (mlev=hyam+hybm*aps)</dd><dt><span>formula_terms :</span></dt><dd>ap: hyam b: hybm ps: aps</dd><dt><span>units :</span></dt><dd>level</dd><dt><span>positive :</span></dt><dd>down</dd></dl></div><div class='xr-var-data'><pre>array(47.)</pre></div></li><li class='xr-var-item'><div class='xr-var-name'><span class='xr-has-index'>lon</span></div><div class='xr-var-dims'>(lon)</div><div class='xr-var-dtype'>float64</div><div class='xr-var-preview xr-preview'>294.4 296.2 298.1 ... 305.6 307.5</div><input id='attrs-4033af6f-4823-4aa9-8af0-48f285376553' class='xr-var-attrs-in' type='checkbox' ><label for='attrs-4033af6f-4823-4aa9-8af0-48f285376553' title='Show/Hide attributes'><svg class='icon xr-icon-file-text2'><use xlink:href='#icon-file-text2'></use></svg></label><input id='data-55980b78-d061-4b1a-a3e1-9322969ac1c5' class='xr-var-data-in' type='checkbox'><label for='data-55980b78-d061-4b1a-a3e1-9322969ac1c5' title='Show/Hide data repr'><svg class='icon xr-icon-database'><use xlink:href='#icon-database'></use></svg></label><div class='xr-var-attrs'><dl class='xr-attrs'><dt><span>standard_name :</span></dt><dd>longitude</dd><dt><span>long_name :</span></dt><dd>longitude</dd><dt><span>units :</span></dt><dd>degrees_east</dd><dt><span>axis :</span></dt><dd>X</dd></dl></div><div class='xr-var-data'><pre>array([294.375, 296.25 , 298.125, 300.   , 301.875, 303.75 , 305.625, 307.5  ])</pre></div></li><li class='xr-var-item'><div class='xr-var-name'><span class='xr-has-index'>time</span></div><div class='xr-var-dims'>(time)</div><div class='xr-var-dtype'>datetime64[ns]</div><div class='xr-var-preview xr-preview'>2012-01-01 ... 2018-12-31T23:00:00</div><input id='attrs-d97abd8a-a1d3-4961-be94-2ac9cde8e38a' class='xr-var-attrs-in' type='checkbox' disabled><label for='attrs-d97abd8a-a1d3-4961-be94-2ac9cde8e38a' title='Show/Hide attributes'><svg class='icon xr-icon-file-text2'><use xlink:href='#icon-file-text2'></use></svg></label><input id='data-cb9395fc-5650-4a77-9fe4-3090abf64fb9' class='xr-var-data-in' type='checkbox'><label for='data-cb9395fc-5650-4a77-9fe4-3090abf64fb9' title='Show/Hide data repr'><svg class='icon xr-icon-database'><use xlink:href='#icon-database'></use></svg></label><div class='xr-var-attrs'><dl class='xr-attrs'></dl></div><div class='xr-var-data'><pre>array([&#x27;2012-01-01T00:00:00.000000000&#x27;, &#x27;2012-01-01T01:00:00.000000000&#x27;,\n",
       "       &#x27;2012-01-01T02:00:00.000000000&#x27;, ..., &#x27;2018-12-31T21:00:00.000000000&#x27;,\n",
       "       &#x27;2018-12-31T22:00:00.000000000&#x27;, &#x27;2018-12-31T23:00:00.000000000&#x27;],\n",
       "      dtype=&#x27;datetime64[ns]&#x27;)</pre></div></li></ul></div></li><li class='xr-section-item'><input id='section-de889213-91d0-4de8-8b33-1c4eede8b086' class='xr-section-summary-in' type='checkbox'  checked><label for='section-de889213-91d0-4de8-8b33-1c4eede8b086' class='xr-section-summary' >Attributes: <span>(3)</span></label><div class='xr-section-inline-details'></div><div class='xr-section-details'><dl class='xr-attrs'><dt><span>long_name :</span></dt><dd>cloud liquid water path</dd><dt><span>units :</span></dt><dd>k m $^{-2}$</dd><dt><span>description :</span></dt><dd>cloud liquid water path</dd></dl></div></li></ul></div></div>"
      ],
      "text/plain": [
       "<xarray.DataArray 'cwp' (time: 61368, lat: 3, lon: 8)>\n",
       "[1472832 values with dtype=float32]\n",
       "Coordinates:\n",
       "  * lat      (lat) float64 -2.798 -4.663 -6.528\n",
       "    lev      float64 47.0\n",
       "  * lon      (lon) float64 294.4 296.2 298.1 300.0 301.9 303.8 305.6 307.5\n",
       "  * time     (time) datetime64[ns] 2012-01-01 ... 2018-12-31T23:00:00\n",
       "Attributes:\n",
       "    long_name:    cloud liquid water path\n",
       "    units:        k m $^{-2}$\n",
       "    description:  cloud liquid water path"
      ]
     },
     "execution_count": 69,
     "metadata": {},
     "output_type": "execute_result"
    }
   ],
   "source": [
    "ds_all['cwp']"
   ]
  },
  {
   "cell_type": "markdown",
   "id": "e579c138-cd0d-4bbe-95be-3af2633ed525",
   "metadata": {},
   "source": [
    "### Finally produce daily median dataframe:"
   ]
  },
  {
   "cell_type": "code",
   "execution_count": null,
   "id": "085ac35d-54c5-4322-aa8b-ea81d4f4c50a",
   "metadata": {},
   "outputs": [],
   "source": []
  },
  {
   "cell_type": "code",
   "execution_count": 70,
   "id": "faa2a0df-3d64-4626-b2a1-b1d74c7a0de8",
   "metadata": {},
   "outputs": [],
   "source": [
    "dic_ds = dict()\n",
    "dic_ds[case_name] =ds_all"
   ]
  },
  {
   "cell_type": "code",
   "execution_count": 71,
   "id": "bc1129f4-685c-488e-96fe-1463b8aa4f07",
   "metadata": {},
   "outputs": [
    {
     "data": {
      "text/plain": [
       "[<matplotlib.lines.Line2D at 0x7faa8c7eaf40>]"
      ]
     },
     "execution_count": 71,
     "metadata": {},
     "output_type": "execute_result"
    },
    {
     "data": {
      "image/png": "[encoded data removed]",
      "text/plain": [
       "<Figure size 432x288 with 1 Axes>"
      ]
     },
     "metadata": {
      "needs_background": "light"
     },
     "output_type": "display_data"
    }
   ],
   "source": [
    "ds_all['ORG_mass'].isel(lat=0,lon=0).plot()"
   ]
  },
  {
   "cell_type": "code",
   "execution_count": 72,
   "id": "f271c0ff-5f2b-438b-b76e-630887718fb0",
   "metadata": {},
   "outputs": [
    {
     "data": {
      "text/plain": [
       "PosixPath('/proj/bolinc/users/x_sarbl/analysis/Output_data_BS-FDBCK/extracted_latlon_subset/ECHAM-SALSA/SALSA_BSOA_feedback/SALSA_BSOA_feedback_2012-01-01-2019-01-01_ALL-VARS_concat_subs_293.0-308.0_-8.0--1.0_wet_season.csv')"
      ]
     },
     "execution_count": 72,
     "metadata": {},
     "output_type": "execute_result"
    }
   ],
   "source": [
    "fn_final_echam_csv"
   ]
  },
  {
   "cell_type": "code",
   "execution_count": 73,
   "id": "1f7ff306-df6d-4d29-ba69-e87d3dfcf29e",
   "metadata": {},
   "outputs": [
    {
     "data": {
      "text/plain": [
       "(array([1.375213e+06, 1.215000e+04, 2.812500e+04, 2.663300e+04,\n",
       "        1.977300e+04, 8.588000e+03, 1.915000e+03, 2.870000e+02,\n",
       "        9.900000e+01, 4.900000e+01]),\n",
       " array([ 0.       ,  3.7016654,  7.403331 , 11.104997 , 14.806662 ,\n",
       "        18.508327 , 22.209993 , 25.91166  , 29.613323 , 33.31499  ,\n",
       "        37.016655 ], dtype=float32),\n",
       " <BarContainer object of 10 artists>)"
      ]
     },
     "execution_count": 73,
     "metadata": {},
     "output_type": "execute_result"
    },
    {
     "data": {
      "image/png": "[encoded data removed]",
      "text/plain": [
       "<Figure size 432x288 with 1 Axes>"
      ]
     },
     "metadata": {
      "needs_background": "light"
     },
     "output_type": "display_data"
    }
   ],
   "source": [
    "ds_all['ceff_um'].plot()"
   ]
  },
  {
   "cell_type": "code",
   "execution_count": 74,
   "id": "3a3a216f-4437-4c05-9cb3-478fd2dd63e0",
   "metadata": {},
   "outputs": [],
   "source": [
    "import numpy as np"
   ]
  },
  {
   "cell_type": "code",
   "execution_count": 75,
   "id": "17de46f1-4368-42d0-87c1-513c25b79a11",
   "metadata": {},
   "outputs": [
    {
     "data": {
      "text/plain": [
       "(array([13209., 24301., 27070., 40948., 58481., 71660., 75368., 74456.,\n",
       "        75064., 81379., 84648., 46474., 15310.,  8995.,  7069.,  5856.,\n",
       "         5333.,  4815.,  4099.]),\n",
       " array([ 0.        ,  1.57894737,  3.15789474,  4.73684211,  6.31578947,\n",
       "         7.89473684,  9.47368421, 11.05263158, 12.63157895, 14.21052632,\n",
       "        15.78947368, 17.36842105, 18.94736842, 20.52631579, 22.10526316,\n",
       "        23.68421053, 25.26315789, 26.84210526, 28.42105263, 30.        ]),\n",
       " <BarContainer object of 19 artists>)"
      ]
     },
     "execution_count": 75,
     "metadata": {},
     "output_type": "execute_result"
    },
    {
     "data": {
      "image/png": "[encoded data removed]",
      "text/plain": [
       "<Figure size 432x288 with 1 Axes>"
      ]
     },
     "metadata": {
      "needs_background": "light"
     },
     "output_type": "display_data"
    }
   ],
   "source": [
    "ds_all['ceff_ct_incld'].plot(bins = np.linspace(0,30,20))"
   ]
  },
  {
   "cell_type": "code",
   "execution_count": 76,
   "id": "cb1d6ad4-77d6-4d28-b615-a8fb6a7d2cc7",
   "metadata": {},
   "outputs": [
    {
     "data": {
      "text/plain": [
       "(array([34691., 50322., 48041., 54745., 71496., 83141., 83601., 80670.,\n",
       "        78559., 77806., 75384., 33808.,  8932.,  5327.,  3976.,  3243.,\n",
       "         2897.,  2614.,  2278.]),\n",
       " array([ 0.        ,  1.57894737,  3.15789474,  4.73684211,  6.31578947,\n",
       "         7.89473684,  9.47368421, 11.05263158, 12.63157895, 14.21052632,\n",
       "        15.78947368, 17.36842105, 18.94736842, 20.52631579, 22.10526316,\n",
       "        23.68421053, 25.26315789, 26.84210526, 28.42105263, 30.        ]),\n",
       " <BarContainer object of 19 artists>)"
      ]
     },
     "execution_count": 76,
     "metadata": {},
     "output_type": "execute_result"
    },
    {
     "data": {
      "image/png": "[encoded data removed]",
      "text/plain": [
       "<Figure size 432x288 with 1 Axes>"
      ]
     },
     "metadata": {
      "needs_background": "light"
     },
     "output_type": "display_data"
    }
   ],
   "source": [
    "ds_all['ceff_ct'].plot(bins = np.linspace(0,30,20))"
   ]
  },
  {
   "cell_type": "code",
   "execution_count": 77,
   "id": "57bb7005-cd18-4cb8-aae1-620022827018",
   "metadata": {},
   "outputs": [
    {
     "data": {
      "text/plain": [
       "(array([352274., 165254.,  88824.,  51290.,  30388.,  19212.,  12261.,\n",
       "          8009.,   5174.,   3538.,   2458.,   1840.,   1406.,   1114.,\n",
       "           862.,    731.,    568.,    513.,    396.]),\n",
       " array([   0.        ,   52.63157895,  105.26315789,  157.89473684,\n",
       "         210.52631579,  263.15789474,  315.78947368,  368.42105263,\n",
       "         421.05263158,  473.68421053,  526.31578947,  578.94736842,\n",
       "         631.57894737,  684.21052632,  736.84210526,  789.47368421,\n",
       "         842.10526316,  894.73684211,  947.36842105, 1000.        ]),\n",
       " <BarContainer object of 19 artists>)"
      ]
     },
     "execution_count": 77,
     "metadata": {},
     "output_type": "execute_result"
    },
    {
     "data": {
      "image/png": "[encoded data removed]",
      "text/plain": [
       "<Figure size 432x288 with 1 Axes>"
      ]
     },
     "metadata": {
      "needs_background": "light"
     },
     "output_type": "display_data"
    }
   ],
   "source": [
    "ds_all['cwp'].plot(bins=np.linspace(0,1000,20),alpha=.5, )\n",
    "\n",
    "ds_all['cwp_incld'].plot(bins=np.linspace(0,1000,20), alpha=.5, color='r')"
   ]
  },
  {
   "cell_type": "markdown",
   "id": "54b1c3df-0e48-475b-bf0c-258d64e0031b",
   "metadata": {
    "tags": []
   },
   "source": [
    "## Shift timezone: "
   ]
  },
  {
   "cell_type": "code",
   "execution_count": 78,
   "id": "30dd7410-00fe-4792-b0c5-1d93128426ce",
   "metadata": {},
   "outputs": [],
   "source": [
    "from datetime import timedelta"
   ]
  },
  {
   "cell_type": "code",
   "execution_count": 79,
   "id": "875ec885-bbcb-44c8-9f12-3d33664cdcc3",
   "metadata": {},
   "outputs": [],
   "source": [
    "for k in dic_ds.keys():\n",
    "    _ds = dic_ds[k]\n",
    "    _ds['time'] = _ds['time'].to_pandas().index- timedelta(hours=4)"
   ]
  },
  {
   "cell_type": "markdown",
   "id": "d382fa0c-a14d-47ed-a731-c02e3a70ef5e",
   "metadata": {},
   "source": [
    "## Save for different seasons: \n"
   ]
  },
  {
   "cell_type": "code",
   "execution_count": 80,
   "id": "fc9dadf3-b0fc-4ae6-9523-9edf5683205a",
   "metadata": {},
   "outputs": [
    {
     "data": {
      "text/plain": [
       "{'WET': [1, 2, 3, 4, 5, 6, 7, 12],\n",
       " 'WET_old': [1, 2, 3, 4, 5],\n",
       " 'WET_345': [3, 4, 5],\n",
       " 'WET_45': [4, 5],\n",
       " 'WET_34': [3, 4],\n",
       " 'WET_mid': [2, 3, 4, 5],\n",
       " 'WET_early': [1, 2, 3, 12],\n",
       " 'WET_23': [2, 3],\n",
       " 'FM': [2, 3],\n",
       " 'DJF': [1, 2, 12],\n",
       " 'DJ': [1, 12],\n",
       " 'MJJ': [5, 6, 7],\n",
       " 'SON': [9, 10, 11],\n",
       " 'JJA': [6, 7, 8],\n",
       " 'MAM': [3, 4, 5],\n",
       " 'WET_late': [4, 5, 6, 7],\n",
       " 'DRY': [8, 9, 10, 11],\n",
       " 'DRY_early': [6, 7, 8],\n",
       " 'ASO': [8, 9, 10],\n",
       " 'SO': [9, 10],\n",
       " 'ND': [11, 12],\n",
       " 'DRY_late': [9, 10, 11, 12],\n",
       " 'ALL_year': [1, 2, 3, 4, 5, 6, 7, 8, 9, 10, 11, 12]}"
      ]
     },
     "execution_count": 80,
     "metadata": {},
     "output_type": "execute_result"
    }
   ],
   "source": [
    "season2month"
   ]
  },
  {
   "cell_type": "code",
   "execution_count": 81,
   "id": "386aef8e-ba7a-4280-91c9-56781bda76e7",
   "metadata": {},
   "outputs": [],
   "source": [
    "#calc_seasons = ['WET','DRY', 'WET_mid','WET_early','WET_late', 'DRY_early','DRY_late']\n",
    "\n",
    "for key in dic_ds:\n",
    "    dic_ds[key] = dic_ds[key].rename(rn_dic_echam_cloud)"
   ]
  },
  {
   "cell_type": "code",
   "execution_count": 83,
   "id": "9fc0750f-b95f-45f4-90c0-7f21de3bb431",
   "metadata": {},
   "outputs": [
    {
     "data": {
      "text/html": [
       "<div><svg style=\"position: absolute; width: 0; height: 0; overflow: hidden\">\n",
       "<defs>\n",
       "<symbol id=\"icon-database\" viewBox=\"0 0 32 32\">\n",
       "<path d=\"M16 0c-8.837 0-16 2.239-16 5v4c0 2.761 7.163 5 16 5s16-2.239 16-5v-4c0-2.761-7.163-5-16-5z\"></path>\n",
       "<path d=\"M16 17c-8.837 0-16-2.239-16-5v6c0 2.761 7.163 5 16 5s16-2.239 16-5v-6c0 2.761-7.163 5-16 5z\"></path>\n",
       "<path d=\"M16 26c-8.837 0-16-2.239-16-5v6c0 2.761 7.163 5 16 5s16-2.239 16-5v-6c0 2.761-7.163 5-16 5z\"></path>\n",
       "</symbol>\n",
       "<symbol id=\"icon-file-text2\" viewBox=\"0 0 32 32\">\n",
       "<path d=\"M28.681 7.159c-0.694-0.947-1.662-2.053-2.724-3.116s-2.169-2.030-3.116-2.724c-1.612-1.182-2.393-1.319-2.841-1.319h-15.5c-1.378 0-2.5 1.121-2.5 2.5v27c0 1.378 1.122 2.5 2.5 2.5h23c1.378 0 2.5-1.122 2.5-2.5v-19.5c0-0.448-0.137-1.23-1.319-2.841zM24.543 5.457c0.959 0.959 1.712 1.825 2.268 2.543h-4.811v-4.811c0.718 0.556 1.584 1.309 2.543 2.268zM28 29.5c0 0.271-0.229 0.5-0.5 0.5h-23c-0.271 0-0.5-0.229-0.5-0.5v-27c0-0.271 0.229-0.5 0.5-0.5 0 0 15.499-0 15.5 0v7c0 0.552 0.448 1 1 1h7v19.5z\"></path>\n",
       "<path d=\"M23 26h-14c-0.552 0-1-0.448-1-1s0.448-1 1-1h14c0.552 0 1 0.448 1 1s-0.448 1-1 1z\"></path>\n",
       "<path d=\"M23 22h-14c-0.552 0-1-0.448-1-1s0.448-1 1-1h14c0.552 0 1 0.448 1 1s-0.448 1-1 1z\"></path>\n",
       "<path d=\"M23 18h-14c-0.552 0-1-0.448-1-1s0.448-1 1-1h14c0.552 0 1 0.448 1 1s-0.448 1-1 1z\"></path>\n",
       "</symbol>\n",
       "</defs>\n",
       "</svg>\n",
       "<style>/* CSS stylesheet for displaying xarray objects in jupyterlab.\n",
       " *\n",
       " */\n",
       "\n",
       ":root {\n",
       "  --xr-font-color0: var(--jp-content-font-color0, rgba(0, 0, 0, 1));\n",
       "  --xr-font-color2: var(--jp-content-font-color2, rgba(0, 0, 0, 0.54));\n",
       "  --xr-font-color3: var(--jp-content-font-color3, rgba(0, 0, 0, 0.38));\n",
       "  --xr-border-color: var(--jp-border-color2, #e0e0e0);\n",
       "  --xr-disabled-color: var(--jp-layout-color3, #bdbdbd);\n",
       "  --xr-background-color: var(--jp-layout-color0, white);\n",
       "  --xr-background-color-row-even: var(--jp-layout-color1, white);\n",
       "  --xr-background-color-row-odd: var(--jp-layout-color2, #eeeeee);\n",
       "}\n",
       "\n",
       "html[theme=dark],\n",
       "body.vscode-dark {\n",
       "  --xr-font-color0: rgba(255, 255, 255, 1);\n",
       "  --xr-font-color2: rgba(255, 255, 255, 0.54);\n",
       "  --xr-font-color3: rgba(255, 255, 255, 0.38);\n",
       "  --xr-border-color: #1F1F1F;\n",
       "  --xr-disabled-color: #515151;\n",
       "  --xr-background-color: #111111;\n",
       "  --xr-background-color-row-even: #111111;\n",
       "  --xr-background-color-row-odd: #313131;\n",
       "}\n",
       "\n",
       ".xr-wrap {\n",
       "  display: block;\n",
       "  min-width: 300px;\n",
       "  max-width: 700px;\n",
       "}\n",
       "\n",
       ".xr-text-repr-fallback {\n",
       "  /* fallback to plain text repr when CSS is not injected (untrusted notebook) */\n",
       "  display: none;\n",
       "}\n",
       "\n",
       ".xr-header {\n",
       "  padding-top: 6px;\n",
       "  padding-bottom: 6px;\n",
       "  margin-bottom: 4px;\n",
       "  border-bottom: solid 1px var(--xr-border-color);\n",
       "}\n",
       "\n",
       ".xr-header > div,\n",
       ".xr-header > ul {\n",
       "  display: inline;\n",
       "  margin-top: 0;\n",
       "  margin-bottom: 0;\n",
       "}\n",
       "\n",
       ".xr-obj-type,\n",
       ".xr-array-name {\n",
       "  margin-left: 2px;\n",
       "  margin-right: 10px;\n",
       "}\n",
       "\n",
       ".xr-obj-type {\n",
       "  color: var(--xr-font-color2);\n",
       "}\n",
       "\n",
       ".xr-sections {\n",
       "  padding-left: 0 !important;\n",
       "  display: grid;\n",
       "  grid-template-columns: 150px auto auto 1fr 20px 20px;\n",
       "}\n",
       "\n",
       ".xr-section-item {\n",
       "  display: contents;\n",
       "}\n",
       "\n",
       ".xr-section-item input {\n",
       "  display: none;\n",
       "}\n",
       "\n",
       ".xr-section-item input + label {\n",
       "  color: var(--xr-disabled-color);\n",
       "}\n",
       "\n",
       ".xr-section-item input:enabled + label {\n",
       "  cursor: pointer;\n",
       "  color: var(--xr-font-color2);\n",
       "}\n",
       "\n",
       ".xr-section-item input:enabled + label:hover {\n",
       "  color: var(--xr-font-color0);\n",
       "}\n",
       "\n",
       ".xr-section-summary {\n",
       "  grid-column: 1;\n",
       "  color: var(--xr-font-color2);\n",
       "  font-weight: 500;\n",
       "}\n",
       "\n",
       ".xr-section-summary > span {\n",
       "  display: inline-block;\n",
       "  padding-left: 0.5em;\n",
       "}\n",
       "\n",
       ".xr-section-summary-in:disabled + label {\n",
       "  color: var(--xr-font-color2);\n",
       "}\n",
       "\n",
       ".xr-section-summary-in + label:before {\n",
       "  display: inline-block;\n",
       "  content: '►';\n",
       "  font-size: 11px;\n",
       "  width: 15px;\n",
       "  text-align: center;\n",
       "}\n",
       "\n",
       ".xr-section-summary-in:disabled + label:before {\n",
       "  color: var(--xr-disabled-color);\n",
       "}\n",
       "\n",
       ".xr-section-summary-in:checked + label:before {\n",
       "  content: '▼';\n",
       "}\n",
       "\n",
       ".xr-section-summary-in:checked + label > span {\n",
       "  display: none;\n",
       "}\n",
       "\n",
       ".xr-section-summary,\n",
       ".xr-section-inline-details {\n",
       "  padding-top: 4px;\n",
       "  padding-bottom: 4px;\n",
       "}\n",
       "\n",
       ".xr-section-inline-details {\n",
       "  grid-column: 2 / -1;\n",
       "}\n",
       "\n",
       ".xr-section-details {\n",
       "  display: none;\n",
       "  grid-column: 1 / -1;\n",
       "  margin-bottom: 5px;\n",
       "}\n",
       "\n",
       ".xr-section-summary-in:checked ~ .xr-section-details {\n",
       "  display: contents;\n",
       "}\n",
       "\n",
       ".xr-array-wrap {\n",
       "  grid-column: 1 / -1;\n",
       "  display: grid;\n",
       "  grid-template-columns: 20px auto;\n",
       "}\n",
       "\n",
       ".xr-array-wrap > label {\n",
       "  grid-column: 1;\n",
       "  vertical-align: top;\n",
       "}\n",
       "\n",
       ".xr-preview {\n",
       "  color: var(--xr-font-color3);\n",
       "}\n",
       "\n",
       ".xr-array-preview,\n",
       ".xr-array-data {\n",
       "  padding: 0 5px !important;\n",
       "  grid-column: 2;\n",
       "}\n",
       "\n",
       ".xr-array-data,\n",
       ".xr-array-in:checked ~ .xr-array-preview {\n",
       "  display: none;\n",
       "}\n",
       "\n",
       ".xr-array-in:checked ~ .xr-array-data,\n",
       ".xr-array-preview {\n",
       "  display: inline-block;\n",
       "}\n",
       "\n",
       ".xr-dim-list {\n",
       "  display: inline-block !important;\n",
       "  list-style: none;\n",
       "  padding: 0 !important;\n",
       "  margin: 0;\n",
       "}\n",
       "\n",
       ".xr-dim-list li {\n",
       "  display: inline-block;\n",
       "  padding: 0;\n",
       "  margin: 0;\n",
       "}\n",
       "\n",
       ".xr-dim-list:before {\n",
       "  content: '(';\n",
       "}\n",
       "\n",
       ".xr-dim-list:after {\n",
       "  content: ')';\n",
       "}\n",
       "\n",
       ".xr-dim-list li:not(:last-child):after {\n",
       "  content: ',';\n",
       "  padding-right: 5px;\n",
       "}\n",
       "\n",
       ".xr-has-index {\n",
       "  font-weight: bold;\n",
       "}\n",
       "\n",
       ".xr-var-list,\n",
       ".xr-var-item {\n",
       "  display: contents;\n",
       "}\n",
       "\n",
       ".xr-var-item > div,\n",
       ".xr-var-item label,\n",
       ".xr-var-item > .xr-var-name span {\n",
       "  background-color: var(--xr-background-color-row-even);\n",
       "  margin-bottom: 0;\n",
       "}\n",
       "\n",
       ".xr-var-item > .xr-var-name:hover span {\n",
       "  padding-right: 5px;\n",
       "}\n",
       "\n",
       ".xr-var-list > li:nth-child(odd) > div,\n",
       ".xr-var-list > li:nth-child(odd) > label,\n",
       ".xr-var-list > li:nth-child(odd) > .xr-var-name span {\n",
       "  background-color: var(--xr-background-color-row-odd);\n",
       "}\n",
       "\n",
       ".xr-var-name {\n",
       "  grid-column: 1;\n",
       "}\n",
       "\n",
       ".xr-var-dims {\n",
       "  grid-column: 2;\n",
       "}\n",
       "\n",
       ".xr-var-dtype {\n",
       "  grid-column: 3;\n",
       "  text-align: right;\n",
       "  color: var(--xr-font-color2);\n",
       "}\n",
       "\n",
       ".xr-var-preview {\n",
       "  grid-column: 4;\n",
       "}\n",
       "\n",
       ".xr-var-name,\n",
       ".xr-var-dims,\n",
       ".xr-var-dtype,\n",
       ".xr-preview,\n",
       ".xr-attrs dt {\n",
       "  white-space: nowrap;\n",
       "  overflow: hidden;\n",
       "  text-overflow: ellipsis;\n",
       "  padding-right: 10px;\n",
       "}\n",
       "\n",
       ".xr-var-name:hover,\n",
       ".xr-var-dims:hover,\n",
       ".xr-var-dtype:hover,\n",
       ".xr-attrs dt:hover {\n",
       "  overflow: visible;\n",
       "  width: auto;\n",
       "  z-index: 1;\n",
       "}\n",
       "\n",
       ".xr-var-attrs,\n",
       ".xr-var-data {\n",
       "  display: none;\n",
       "  background-color: var(--xr-background-color) !important;\n",
       "  padding-bottom: 5px !important;\n",
       "}\n",
       "\n",
       ".xr-var-attrs-in:checked ~ .xr-var-attrs,\n",
       ".xr-var-data-in:checked ~ .xr-var-data {\n",
       "  display: block;\n",
       "}\n",
       "\n",
       ".xr-var-data > table {\n",
       "  float: right;\n",
       "}\n",
       "\n",
       ".xr-var-name span,\n",
       ".xr-var-data,\n",
       ".xr-attrs {\n",
       "  padding-left: 25px !important;\n",
       "}\n",
       "\n",
       ".xr-attrs,\n",
       ".xr-var-attrs,\n",
       ".xr-var-data {\n",
       "  grid-column: 1 / -1;\n",
       "}\n",
       "\n",
       "dl.xr-attrs {\n",
       "  padding: 0;\n",
       "  margin: 0;\n",
       "  display: grid;\n",
       "  grid-template-columns: 125px auto;\n",
       "}\n",
       "\n",
       ".xr-attrs dt,\n",
       ".xr-attrs dd {\n",
       "  padding: 0;\n",
       "  margin: 0;\n",
       "  float: left;\n",
       "  padding-right: 10px;\n",
       "  width: auto;\n",
       "}\n",
       "\n",
       ".xr-attrs dt {\n",
       "  font-weight: normal;\n",
       "  grid-column: 1;\n",
       "}\n",
       "\n",
       ".xr-attrs dt:hover span {\n",
       "  display: inline-block;\n",
       "  background: var(--xr-background-color);\n",
       "  padding-right: 10px;\n",
       "}\n",
       "\n",
       ".xr-attrs dd {\n",
       "  grid-column: 2;\n",
       "  white-space: pre-wrap;\n",
       "  word-break: break-all;\n",
       "}\n",
       "\n",
       ".xr-icon-database,\n",
       ".xr-icon-file-text2 {\n",
       "  display: inline-block;\n",
       "  vertical-align: middle;\n",
       "  width: 1em;\n",
       "  height: 1.5em !important;\n",
       "  stroke-width: 0;\n",
       "  stroke: currentColor;\n",
       "  fill: currentColor;\n",
       "}\n",
       "</style><pre class='xr-text-repr-fallback'>&lt;xarray.DataArray &#x27;tempair_ct&#x27; (time: 61368, lat: 3, lon: 8)&gt;\n",
       "[1472832 values with dtype=float32]\n",
       "Coordinates:\n",
       "  * lat      (lat) float64 -2.798 -4.663 -6.528\n",
       "    lev      float64 47.0\n",
       "  * lon      (lon) float64 294.4 296.2 298.1 300.0 301.9 303.8 305.6 307.5\n",
       "  * time     (time) datetime64[ns] 2011-12-31T20:00:00 ... 2018-12-31T19:00:00\n",
       "Attributes:\n",
       "    long_name:    air temperature\n",
       "    units:        K\n",
       "    description:  air_temperature</pre><div class='xr-wrap' hidden><div class='xr-header'><div class='xr-obj-type'>xarray.DataArray</div><div class='xr-array-name'>'tempair_ct'</div><ul class='xr-dim-list'><li><span class='xr-has-index'>time</span>: 61368</li><li><span class='xr-has-index'>lat</span>: 3</li><li><span class='xr-has-index'>lon</span>: 8</li></ul></div><ul class='xr-sections'><li class='xr-section-item'><div class='xr-array-wrap'><input id='section-4f0c28e6-7786-493c-92ef-1f6fd97c88cd' class='xr-array-in' type='checkbox' checked><label for='section-4f0c28e6-7786-493c-92ef-1f6fd97c88cd' title='Show/hide data repr'><svg class='icon xr-icon-database'><use xlink:href='#icon-database'></use></svg></label><div class='xr-array-preview xr-preview'><span>...</span></div><div class='xr-array-data'><pre>[1472832 values with dtype=float32]</pre></div></div></li><li class='xr-section-item'><input id='section-1b3a3ae2-482a-4b1c-8f73-d50caeef014f' class='xr-section-summary-in' type='checkbox'  checked><label for='section-1b3a3ae2-482a-4b1c-8f73-d50caeef014f' class='xr-section-summary' >Coordinates: <span>(4)</span></label><div class='xr-section-inline-details'></div><div class='xr-section-details'><ul class='xr-var-list'><li class='xr-var-item'><div class='xr-var-name'><span class='xr-has-index'>lat</span></div><div class='xr-var-dims'>(lat)</div><div class='xr-var-dtype'>float64</div><div class='xr-var-preview xr-preview'>-2.798 -4.663 -6.528</div><input id='attrs-34f4cdac-cd81-4d24-b45a-da875aa39d22' class='xr-var-attrs-in' type='checkbox' ><label for='attrs-34f4cdac-cd81-4d24-b45a-da875aa39d22' title='Show/Hide attributes'><svg class='icon xr-icon-file-text2'><use xlink:href='#icon-file-text2'></use></svg></label><input id='data-b2f65dee-7909-41ed-b9bc-a75c4b3e78b5' class='xr-var-data-in' type='checkbox'><label for='data-b2f65dee-7909-41ed-b9bc-a75c4b3e78b5' title='Show/Hide data repr'><svg class='icon xr-icon-database'><use xlink:href='#icon-database'></use></svg></label><div class='xr-var-attrs'><dl class='xr-attrs'><dt><span>standard_name :</span></dt><dd>latitude</dd><dt><span>long_name :</span></dt><dd>latitude</dd><dt><span>units :</span></dt><dd>degrees_north</dd><dt><span>axis :</span></dt><dd>Y</dd></dl></div><div class='xr-var-data'><pre>array([-2.79789 , -4.66315 , -6.528409])</pre></div></li><li class='xr-var-item'><div class='xr-var-name'><span>lev</span></div><div class='xr-var-dims'>()</div><div class='xr-var-dtype'>float64</div><div class='xr-var-preview xr-preview'>47.0</div><input id='attrs-2527d94c-a6d8-418d-9f56-fa67b6b61515' class='xr-var-attrs-in' type='checkbox' ><label for='attrs-2527d94c-a6d8-418d-9f56-fa67b6b61515' title='Show/Hide attributes'><svg class='icon xr-icon-file-text2'><use xlink:href='#icon-file-text2'></use></svg></label><input id='data-bafc79e9-7651-43cf-ba43-c8692d8dd14f' class='xr-var-data-in' type='checkbox'><label for='data-bafc79e9-7651-43cf-ba43-c8692d8dd14f' title='Show/Hide data repr'><svg class='icon xr-icon-database'><use xlink:href='#icon-database'></use></svg></label><div class='xr-var-attrs'><dl class='xr-attrs'><dt><span>standard_name :</span></dt><dd>hybrid_sigma_pressure</dd><dt><span>long_name :</span></dt><dd>hybrid level at layer midpoints</dd><dt><span>formula :</span></dt><dd>hyam hybm (mlev=hyam+hybm*aps)</dd><dt><span>formula_terms :</span></dt><dd>ap: hyam b: hybm ps: aps</dd><dt><span>units :</span></dt><dd>level</dd><dt><span>positive :</span></dt><dd>down</dd></dl></div><div class='xr-var-data'><pre>array(47.)</pre></div></li><li class='xr-var-item'><div class='xr-var-name'><span class='xr-has-index'>lon</span></div><div class='xr-var-dims'>(lon)</div><div class='xr-var-dtype'>float64</div><div class='xr-var-preview xr-preview'>294.4 296.2 298.1 ... 305.6 307.5</div><input id='attrs-d8d17392-6403-4089-a5f0-a6ae7bf70ebf' class='xr-var-attrs-in' type='checkbox' ><label for='attrs-d8d17392-6403-4089-a5f0-a6ae7bf70ebf' title='Show/Hide attributes'><svg class='icon xr-icon-file-text2'><use xlink:href='#icon-file-text2'></use></svg></label><input id='data-d09ef21f-bf1d-4bc2-9afa-c0ea01739405' class='xr-var-data-in' type='checkbox'><label for='data-d09ef21f-bf1d-4bc2-9afa-c0ea01739405' title='Show/Hide data repr'><svg class='icon xr-icon-database'><use xlink:href='#icon-database'></use></svg></label><div class='xr-var-attrs'><dl class='xr-attrs'><dt><span>standard_name :</span></dt><dd>longitude</dd><dt><span>long_name :</span></dt><dd>longitude</dd><dt><span>units :</span></dt><dd>degrees_east</dd><dt><span>axis :</span></dt><dd>X</dd></dl></div><div class='xr-var-data'><pre>array([294.375, 296.25 , 298.125, 300.   , 301.875, 303.75 , 305.625, 307.5  ])</pre></div></li><li class='xr-var-item'><div class='xr-var-name'><span class='xr-has-index'>time</span></div><div class='xr-var-dims'>(time)</div><div class='xr-var-dtype'>datetime64[ns]</div><div class='xr-var-preview xr-preview'>2011-12-31T20:00:00 ... 2018-12-...</div><input id='attrs-22ba3367-340b-4835-89a4-be958046c8cf' class='xr-var-attrs-in' type='checkbox' disabled><label for='attrs-22ba3367-340b-4835-89a4-be958046c8cf' title='Show/Hide attributes'><svg class='icon xr-icon-file-text2'><use xlink:href='#icon-file-text2'></use></svg></label><input id='data-2635015e-2211-48e8-869e-750b8659b69b' class='xr-var-data-in' type='checkbox'><label for='data-2635015e-2211-48e8-869e-750b8659b69b' title='Show/Hide data repr'><svg class='icon xr-icon-database'><use xlink:href='#icon-database'></use></svg></label><div class='xr-var-attrs'><dl class='xr-attrs'></dl></div><div class='xr-var-data'><pre>array([&#x27;2011-12-31T20:00:00.000000000&#x27;, &#x27;2011-12-31T21:00:00.000000000&#x27;,\n",
       "       &#x27;2011-12-31T22:00:00.000000000&#x27;, ..., &#x27;2018-12-31T17:00:00.000000000&#x27;,\n",
       "       &#x27;2018-12-31T18:00:00.000000000&#x27;, &#x27;2018-12-31T19:00:00.000000000&#x27;],\n",
       "      dtype=&#x27;datetime64[ns]&#x27;)</pre></div></li></ul></div></li><li class='xr-section-item'><input id='section-184ca494-f495-4a05-bbb9-44ced815ecf3' class='xr-section-summary-in' type='checkbox'  checked><label for='section-184ca494-f495-4a05-bbb9-44ced815ecf3' class='xr-section-summary' >Attributes: <span>(3)</span></label><div class='xr-section-inline-details'></div><div class='xr-section-details'><dl class='xr-attrs'><dt><span>long_name :</span></dt><dd>air temperature</dd><dt><span>units :</span></dt><dd>K</dd><dt><span>description :</span></dt><dd>air_temperature</dd></dl></div></li></ul></div></div>"
      ],
      "text/plain": [
       "<xarray.DataArray 'tempair_ct' (time: 61368, lat: 3, lon: 8)>\n",
       "[1472832 values with dtype=float32]\n",
       "Coordinates:\n",
       "  * lat      (lat) float64 -2.798 -4.663 -6.528\n",
       "    lev      float64 47.0\n",
       "  * lon      (lon) float64 294.4 296.2 298.1 300.0 301.9 303.8 305.6 307.5\n",
       "  * time     (time) datetime64[ns] 2011-12-31T20:00:00 ... 2018-12-31T19:00:00\n",
       "Attributes:\n",
       "    long_name:    air temperature\n",
       "    units:        K\n",
       "    description:  air_temperature"
      ]
     },
     "execution_count": 83,
     "metadata": {},
     "output_type": "execute_result"
    }
   ],
   "source": [
    "dic_ds[key]['tempair_ct']"
   ]
  },
  {
   "cell_type": "code",
   "execution_count": null,
   "id": "0b168cb0-d357-4c83-9a61-06f5158bb6bd",
   "metadata": {},
   "outputs": [],
   "source": []
  },
  {
   "cell_type": "code",
   "execution_count": 85,
   "id": "979c0055-53ab-4c61-ae77-7f76b189369e",
   "metadata": {},
   "outputs": [
    {
     "name": "stdout",
     "output_type": "stream",
     "text": [
      "/proj/bolinc/users/x_sarbl/analysis/Output_data_BS-FDBCK/extracted_latlon_subset/ECHAM-SALSA/SALSA_BSOA_feedback/SALSA_BSOA_feedback_2012-01-01-2019-01-01_ALL-VARS_concat_subs_293.0-308.0_-8.0--1.0ALL_year.csv\n",
      "{'min_reff': 1}\n",
      "Masking with 5<COT<50!\n",
      "Masking with 50<CWP!\n",
      "Masking with r_eff>1!\n",
      "Masking with temp>-15!\n"
     ]
    }
   ],
   "source": [
    "for seas in calc_seasons:\n",
    "    _fn_csv = fn_final_echam_csv_stem.parent / (fn_final_echam_csv_stem.stem + seas+'.csv')\n",
    "    print(_fn_csv)\n",
    "    if True:#not _fn_csv.exists():\n",
    "        #for key in dic_ds.keys():\n",
    "    \n",
    "        dic_df = get_dic_df_mod(dic_ds, select_hours_clouds=True, summer_months=season2month[seas],mask_cloud_values =True,\n",
    "                                kwrgs_mask_clouds = dict(min_reff=1))\n",
    "\n",
    "        df_mod = dic_df[case_name_echam]\n",
    "        #with ProgressBar():\n",
    "        df_mod = df_mod.dropna()    \n",
    "        df_mod.to_csv(_fn_csv)"
   ]
  },
  {
   "cell_type": "code",
   "execution_count": null,
   "id": "f87fdf2f-b13a-4360-9240-514d004da266",
   "metadata": {},
   "outputs": [],
   "source": []
  },
  {
   "cell_type": "markdown",
   "id": "424be644-c8b9-4eb9-9121-6d965fc705c3",
   "metadata": {},
   "source": [
    "if not fn_final_echam_csv.exists():\n",
    "    for key in dic_ds:\n",
    "        dic_ds[key] = dic_ds[key].rename(rn_dic_echam_cloud)\n",
    "    \n",
    "    dic_df = get_dic_df_mod(dic_ds, select_hours_clouds=True, summer_months=season2month['WET'])\n",
    "\n",
    "    df_mod = dic_df[case_name]\n",
    "    df_mod.to_csv(fn_final_echam_csv)"
   ]
  },
  {
   "cell_type": "markdown",
   "id": "461c55e3-80b7-421e-be09-d277d6febb68",
   "metadata": {},
   "source": [
    "_df = pd.read_csv(fn_comb_lev1_final_csv, index_col=0)#[_df['isSummer'].notnull()]\n",
    "\n",
    "_df = _df[_df['isSummer'].notnull()]\n",
    "\n",
    "pd.to_datetime(_df.index).month.unique()\n",
    "\n",
    "fn_comb_lev1_final_csv\n",
    "\n",
    "fn_final_echam_csv"
   ]
  },
  {
   "cell_type": "markdown",
   "id": "e6ddf32a-cf29-4e1c-adf7-2435187793da",
   "metadata": {},
   "source": [
    "## EXTRA"
   ]
  },
  {
   "cell_type": "code",
   "execution_count": null,
   "id": "fefee9e9-4075-4eb2-b597-223b21f032c4",
   "metadata": {
    "lines_to_next_cell": 2
   },
   "outputs": [],
   "source": [
    "\n",
    "ds_all = xr.open_dataset(fn_comb_lev1_final)\n",
    "\n",
    "ds_all['NCONC01'].isel(lat=1, lon=1).plot()"
   ]
  },
  {
   "cell_type": "code",
   "execution_count": null,
   "id": "07f84840-8e93-48e1-b97f-f128b6fb4b1e",
   "metadata": {},
   "outputs": [],
   "source": [
    "ds_all['OA'].attrs['units'] = 'ug'"
   ]
  },
  {
   "cell_type": "code",
   "execution_count": null,
   "id": "fe4443c8-dff1-4239-8d0c-c9fd63b877cd",
   "metadata": {},
   "outputs": [],
   "source": [
    "ds_all.plot.scatter(x='OA',y='CLDFREE', alpha=0.1)"
   ]
  },
  {
   "cell_type": "code",
   "execution_count": null,
   "id": "6718a21b-92ad-44ce-b302-f7345df253d1",
   "metadata": {},
   "outputs": [],
   "source": [
    "ds_all['TOT_CLD_VISTAU_s_incld']"
   ]
  },
  {
   "cell_type": "code",
   "execution_count": null,
   "id": "a50cc4c6-7d88-401d-8cd9-3fad0fd81cfd",
   "metadata": {},
   "outputs": [],
   "source": [
    "ds_all['month'] = ds_all['time.month']"
   ]
  },
  {
   "cell_type": "code",
   "execution_count": null,
   "id": "278b32ed-7d87-4c2e-a6d9-2f415b563861",
   "metadata": {},
   "outputs": [],
   "source": [
    "ma = ((ds_all['TGCLDCWP_incld']<200 ) & (ds_all['TGCLDCWP_incld']>150 ) )& (ds_all['time.hour']<16 ) & (ds_all['time.hour']>10 ) \n",
    "ma = ma & ( (ds_all['month']>=6 ) &(ds_all['month']<=8 ))"
   ]
  },
  {
   "cell_type": "code",
   "execution_count": null,
   "id": "fb05b736-ee1f-49f8-93af-d481113f0d98",
   "metadata": {},
   "outputs": [],
   "source": [
    "ds_all.where(ma).plot.scatter(x='CLDFREE',y='TOT_CLD_VISTAU_s_incld', alpha=0.1,)"
   ]
  },
  {
   "cell_type": "code",
   "execution_count": null,
   "id": "a139ab51-ffe3-418e-9231-d6d6d5de2750",
   "metadata": {},
   "outputs": [],
   "source": [
    "ds_m = ds_all#.where(ma)"
   ]
  },
  {
   "cell_type": "code",
   "execution_count": null,
   "id": "0c0fa023-271a-4468-ba4d-23686fb77bf1",
   "metadata": {},
   "outputs": [],
   "source": [
    "ds_m.isel(lat=0, lon = 0).groupby(ds_m['time.hour']).mean()['FLNTCDRF'].plot()"
   ]
  },
  {
   "cell_type": "code",
   "execution_count": null,
   "id": "b5190546-29c3-4031-8897-6e449b0defa4",
   "metadata": {},
   "outputs": [],
   "source": [
    "ds_all.where(ma).plot.scatter(x='OA',y='TOT_CLD_VISTAU_s_incld', alpha=0.1,)"
   ]
  },
  {
   "cell_type": "code",
   "execution_count": null,
   "id": "65fb0a3e-450a-4fe0-87c1-d8773c00e507",
   "metadata": {},
   "outputs": [],
   "source": [
    "ds_all['hour'] = ds_all['time.hour']\n",
    "ds_all['month'] = ds_all['time.month']"
   ]
  },
  {
   "cell_type": "code",
   "execution_count": null,
   "id": "e0d08d15-1ffc-4d5e-88a0-0ab9e6cc8775",
   "metadata": {},
   "outputs": [],
   "source": [
    "ds_all.where(ma).plot.scatter(x='TGCLDCWP_incld',y='TOT_CLD_VISTAU_s_incld', alpha=0.1)\n",
    "plt.ylim([0,100])"
   ]
  },
  {
   "cell_type": "code",
   "execution_count": null,
   "id": "58282743-c921-493d-828e-8157e8e99ac3",
   "metadata": {},
   "outputs": [],
   "source": [
    "ds_all.where((ma&(ds_all['month']==8))).plot.scatter(x='hour',y='TOT_CLD_VISTAU_s_incld', alpha=0.1)\n",
    "plt.ylim([0,100])"
   ]
  },
  {
   "cell_type": "code",
   "execution_count": null,
   "id": "2f068efc-d056-4ca9-b2be-2201ef887861",
   "metadata": {},
   "outputs": [],
   "source": [
    "ds_all.where(ma).plot.scatter(x='TGCLDCWP_incld',y='TOT_CLD_VISTAU_s_incld', alpha=0.1)\n",
    "plt.ylim([0,100])"
   ]
  },
  {
   "cell_type": "code",
   "execution_count": null,
   "id": "42354a32-852e-4b2f-9ce3-2132334a19ec",
   "metadata": {},
   "outputs": [],
   "source": [
    "ds_all.where(ma).plot.scatter(x='TGCLDCWP',y='TOT_CLD_VISTAU_s_incld', alpha=0.1)\n",
    "plt.ylim([0,100])"
   ]
  },
  {
   "cell_type": "code",
   "execution_count": null,
   "id": "d8b5a4ce-2a9e-4866-8302-558bb4fa09b1",
   "metadata": {},
   "outputs": [],
   "source": [
    "ds_all.where(ma).plot.scatter(x='TGCLDCWP',y='TOT_CLD_VISTAU_s', alpha=0.1)\n",
    "plt.ylim([0,100])"
   ]
  },
  {
   "cell_type": "code",
   "execution_count": null,
   "id": "69e7dcb5-7189-43ea-b690-3d4880f4a726",
   "metadata": {},
   "outputs": [],
   "source": [
    "ds_all.where(ma).plot.scatter(x='CLDTOT',y='TOT_CLD_VISTAU_s_incld', alpha=0.1,)"
   ]
  },
  {
   "cell_type": "code",
   "execution_count": null,
   "id": "08328cc7-fd31-471c-9fc7-bab7cb213984",
   "metadata": {},
   "outputs": [],
   "source": [
    "ds_all.where((ds_all['time.hour']<15) & (ds_all['time.hour']>10) ).plot.scatter(x='CLDFREE',y='TOT_CLD_VISTAU_s_incld', alpha=0.1,)"
   ]
  },
  {
   "cell_type": "code",
   "execution_count": null,
   "id": "6b6c5bcd-4943-4a97-b3a5-73378bbac71a",
   "metadata": {},
   "outputs": [],
   "source": [
    "ds_all.where((ds_all['time.hour']<15) & (ds_all['time.hour']>10) ).plot.scatter(x='CLDFREE',y='TOT_CLD_VISTAU_s_incld', alpha=0.1,)"
   ]
  },
  {
   "cell_type": "code",
   "execution_count": null,
   "id": "d3db9954-74b7-4976-bca0-7a5362959d19",
   "metadata": {},
   "outputs": [],
   "source": [
    "ds_all.where(ma).plot.scatter(x='CLDFREE',y='TOT_CLD_VISTAU_s_incld', alpha=0.1,)"
   ]
  },
  {
   "cell_type": "code",
   "execution_count": null,
   "id": "9df96ed4-371e-4885-8dab-4579814404d6",
   "metadata": {},
   "outputs": [],
   "source": [
    "ds_all.where(ma).plot.scatter(x='CLDTOT',y='CLDFREE', alpha=0.1,)"
   ]
  },
  {
   "cell_type": "code",
   "execution_count": null,
   "id": "c09bd823-7ddd-4a94-849b-bad7ef25278e",
   "metadata": {},
   "outputs": [],
   "source": [
    "ds_all['CLDFREE'].sel(lat=lat_smr, lon  = lon_smr, method = 'nearest').plot.hist()"
   ]
  },
  {
   "cell_type": "code",
   "execution_count": null,
   "id": "c998b304-defe-46de-95ce-e0cbf55d9a75",
   "metadata": {},
   "outputs": [],
   "source": [
    "ds_all['CLDTOT'].sel(lat=lat_smr, lon  = lon_smr, method = 'nearest').plot.hist()"
   ]
  },
  {
   "cell_type": "code",
   "execution_count": null,
   "id": "d17d4e17-124c-43c3-9f17-76327e6ce176",
   "metadata": {},
   "outputs": [],
   "source": [
    "ds_all['TGCLDCWP_incld'].where(ds_all['CLDFREE']<.99).mean('time').plot()"
   ]
  },
  {
   "cell_type": "code",
   "execution_count": null,
   "id": "579e7daf-a125-44c4-98ed-a8b8480460ad",
   "metadata": {},
   "outputs": [],
   "source": [
    "ds_all['ACTNL_incld'].where(ds_all['CLDFREE']<.99).mean('time').plot()"
   ]
  },
  {
   "cell_type": "code",
   "execution_count": null,
   "id": "6f1ec6ce-80c2-47f5-9470-5a0bcfe8d3c5",
   "metadata": {},
   "outputs": [],
   "source": [
    "ds_all['TGCLDCWP_incld'].mean('time').plot()"
   ]
  },
  {
   "cell_type": "code",
   "execution_count": null,
   "id": "80b639f1-881c-4a2f-ab9a-41e2252b312c",
   "metadata": {},
   "outputs": [],
   "source": [
    "ds_all['TGCLDCWP'].mean('time').plot()"
   ]
  },
  {
   "cell_type": "code",
   "execution_count": null,
   "id": "5dc1a8e0-9ae7-44aa-9468-a329a1ac0870",
   "metadata": {},
   "outputs": [],
   "source": [
    "ds_all['TOT_CLD_VISTAU_s'].mean('time').plot()"
   ]
  },
  {
   "cell_type": "code",
   "execution_count": null,
   "id": "b0cdae4a-0fdf-41d9-b02c-7ce82bb934ad",
   "metadata": {},
   "outputs": [],
   "source": [
    "ds_all['TOT_CLD_VISTAU_s_incld'].where(ma).mean('time').plot()"
   ]
  },
  {
   "cell_type": "code",
   "execution_count": null,
   "id": "bd816bfb-45b2-4daa-a40a-a84b1254ac23",
   "metadata": {},
   "outputs": [],
   "source": [
    "ds_all['TOT_CLD_VISTAU_s_incld'].where(ma).median('time').plot()"
   ]
  },
  {
   "cell_type": "code",
   "execution_count": null,
   "id": "9fc65b08-d61b-453a-9b81-9b846ff65f69",
   "metadata": {},
   "outputs": [],
   "source": []
  },
  {
   "cell_type": "code",
   "execution_count": null,
   "id": "2cd0d331-8322-4ba0-8d53-b934028ed526",
   "metadata": {},
   "outputs": [],
   "source": []
  },
  {
   "cell_type": "code",
   "execution_count": null,
   "id": "b42ddc8b-ef7f-46ac-8323-a64411e236d2",
   "metadata": {},
   "outputs": [],
   "source": []
  },
  {
   "cell_type": "code",
   "execution_count": null,
   "id": "1d7bb3ae-ff4f-4cac-97dc-2b4d6f2ef1b0",
   "metadata": {},
   "outputs": [],
   "source": []
  },
  {
   "cell_type": "code",
   "execution_count": null,
   "id": "8cd969a5-9cdd-4fa8-b6e4-b2097e3b05f8",
   "metadata": {},
   "outputs": [],
   "source": []
  },
  {
   "cell_type": "code",
   "execution_count": null,
   "id": "2d601b8e-9a9e-4020-8fc8-eff3d424c7a9",
   "metadata": {},
   "outputs": [],
   "source": []
  }
 ],
 "metadata": {
  "jupytext": {
   "formats": "ipynb,py:percent"
  },
  "kernelspec": {
   "display_name": "Python 3 (ipykernel)",
   "language": "python",
   "name": "python3"
  },
  "language_info": {
   "codemirror_mode": {
    "name": "ipython",
    "version": 3
   },
   "file_extension": ".py",
   "mimetype": "text/x-python",
   "name": "python",
   "nbconvert_exporter": "python",
   "pygments_lexer": "ipython3",
   "version": "3.8.10"
  }
 },
 "nbformat": 4,
 "nbformat_minor": 5
}
