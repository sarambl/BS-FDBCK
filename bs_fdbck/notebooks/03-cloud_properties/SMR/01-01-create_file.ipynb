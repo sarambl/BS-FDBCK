{
 "cells": [
  {
   "cell_type": "markdown",
   "id": "41713cc5",
   "metadata": {},
   "source": [
    "# Compute files for cloud plots for models"
   ]
  },
  {
   "cell_type": "code",
   "execution_count": 1,
   "id": "cbf2959e-b158-4f6e-a535-85e51455c906",
   "metadata": {},
   "outputs": [],
   "source": [
    "%load_ext autoreload\n",
    "%autoreload 2\n",
    "\n",
    "\n",
    "import useful_scit.util.log as log\n",
    "import numpy as np\n",
    "from bs_fdbck.util.BSOA_datamanip import broadcast_vars_in_ds_sel, rn_dic_ec_earth_cloud\n",
    "from datetime import timedelta"
   ]
  },
  {
   "cell_type": "code",
   "execution_count": 2,
   "id": "0b755360-dd73-413c-93a1-2a50eeb0c410",
   "metadata": {},
   "outputs": [
    {
     "name": "stdout",
     "output_type": "stream",
     "text": [
      "/proj/bolinc/users/x_sarbl/analysis/BS-FDBCK/bs_fdbck/data_info/area_defs.csv\n"
     ]
    }
   ],
   "source": [
    "\n",
    "import xarray as xr\n",
    "\n",
    "import matplotlib.pyplot as plt\n",
    "from bs_fdbck.constants import path_extract_latlon_outdata\n",
    "\n",
    "from bs_fdbck.util.imports import import_fields_xr_echam\n",
    "\n",
    "from bs_fdbck.util.BSOA_datamanip import compute_total_tau, change_units_and_compute_vars, \\\n",
    "    get_dic_df_mod, change_units_and_compute_vars_echam, extract_2D_cloud_time_echam, rn_dic_echam_cloud, \\\n",
    "    rn_dic_noresm_cloud\n",
    "\n",
    "from bs_fdbck.util.BSOA_datamanip import fix_echam_time\n",
    "\n",
    "import pandas as pd\n",
    "\n",
    "from timeit import default_timer as timer\n",
    "\n",
    "from dask.diagnostics import ProgressBar\n",
    "\n",
    "from bs_fdbck.util.BSOA_datamanip.atto import season2month"
   ]
  },
  {
   "cell_type": "code",
   "execution_count": 3,
   "id": "e659b055",
   "metadata": {},
   "outputs": [],
   "source": [
    "from bs_fdbck.constants import path_measurement_data"
   ]
  },
  {
   "cell_type": "code",
   "execution_count": 4,
   "id": "d65f90e0-9734-4a0e-9163-1a2156683964",
   "metadata": {},
   "outputs": [],
   "source": [
    "xr.set_options(keep_attrs=True)\n",
    "log.ger.setLevel(log.log.INFO)"
   ]
  },
  {
   "cell_type": "code",
   "execution_count": null,
   "id": "0ae50ee9-ad46-4d24-b5b6-ddf05865caaa",
   "metadata": {},
   "outputs": [],
   "source": []
  },
  {
   "cell_type": "markdown",
   "id": "0c25d2c3",
   "metadata": {},
   "source": [
    "## General settings"
   ]
  },
  {
   "cell_type": "code",
   "execution_count": 5,
   "id": "2bee0e1b",
   "metadata": {},
   "outputs": [],
   "source": [
    "\n",
    "select_station = 'SMR'\n",
    "\n",
    "calc_seasons = ['ALL_year']\n",
    "\n",
    "tau_lims = [5, 50]\n",
    "r_eff_lim = 1\n",
    "cloud_top_temp_above = -15\n",
    "cld_water_path_above = 50\n",
    "\n",
    "postproc_data = path_measurement_data / 'model_station' / select_station\n",
    "postproc_data_obs = path_measurement_data / select_station / 'processed'"
   ]
  },
  {
   "cell_type": "code",
   "execution_count": 6,
   "id": "76c4f255",
   "metadata": {},
   "outputs": [],
   "source": [
    "lon_lims = [22.,30.]\n",
    "lat_lims = [60.,66.]\n",
    "\n",
    "lat_smr = 61.85\n",
    "lon_smr = 24.28\n",
    "model_lev_i=-1\n",
    "\n",
    "temperature = 273.15  # K\n",
    "\n",
    "from_time1 = '2012-01-01'\n",
    "to_time1 = '2015-01-01'\n",
    "from_time2 = '2015-01-01'\n",
    "to_time2 = '2019-01-01'\n",
    "sel_years_from_files = ['2012', '2014', '2015', '2018']"
   ]
  },
  {
   "cell_type": "code",
   "execution_count": 7,
   "id": "9f670d3e-7121-448d-bc03-19b87e87ff40",
   "metadata": {},
   "outputs": [],
   "source": [
    "str_from_t = pd.to_datetime(from_time1).strftime('%Y%m')\n",
    "str_to = pd.to_datetime(to_time2).strftime('%Y%m')\n",
    "str_lonlim = '%.1f-%.1f' % (*lon_lims,)\n",
    "str_latlim = '%.1f-%.1f' % (*lat_lims,)\n",
    "str_coordlims = f'{str_lonlim}_{str_latlim}'"
   ]
  },
  {
   "cell_type": "markdown",
   "id": "f657494e-ff7e-48f0-977e-f9a63cc21eda",
   "metadata": {
    "tags": []
   },
   "source": [
    "#### Daytime values\n",
    "\n",
    "\n",
    "Set the daytime to be from 10 to 17 each day"
   ]
  },
  {
   "cell_type": "code",
   "execution_count": 8,
   "id": "cb44d5fd-93da-4f32-bdc8-1957f52dfb0b",
   "metadata": {},
   "outputs": [],
   "source": [
    "daytime_from = 9\n",
    "daytime_to = daytime_from + 7"
   ]
  },
  {
   "cell_type": "markdown",
   "id": "5b2988c8",
   "metadata": {
    "tags": []
   },
   "source": [
    "## Read in model station data:"
   ]
  },
  {
   "cell_type": "code",
   "execution_count": 9,
   "id": "765fbcc1-ed17-465a-a2ae-2d6ce858042e",
   "metadata": {},
   "outputs": [],
   "source": [
    "models = ['ECHAM-SALSA', 'NorESM', 'EC-Earth']\n",
    "mod2cases = {'ECHAM-SALSA': ['SALSA_BSOA_feedback'],\n",
    "             'NorESM': ['OsloAero_intBVOC_f09_f09_mg17_fssp'],\n",
    "             'EC-Earth': ['ECE3_output_Sara'],\n",
    "             }\n",
    "di_mod2cases = mod2cases.copy()"
   ]
  },
  {
   "cell_type": "code",
   "execution_count": 10,
   "id": "dfa5d29f",
   "metadata": {},
   "outputs": [
    {
     "name": "stdout",
     "output_type": "stream",
     "text": [
      "ECHAM-SALSA\n",
      "ECHAM-SALSA SALSA_BSOA_feedback\n",
      "/proj/bolinc/users/x_sarbl/analysis/BS-FDBCK/Data/model_station/SMR/SMR_station_ECHAM-SALSA_SALSA_BSOA_feedback.csv\n",
      "NorESM\n",
      "NorESM OsloAero_intBVOC_f09_f09_mg17_fssp\n",
      "/proj/bolinc/users/x_sarbl/analysis/BS-FDBCK/Data/model_station/SMR/SMR_station_NorESM_OsloAero_intBVOC_f09_f09_mg17_fssp.csv\n",
      "EC-Earth\n",
      "EC-Earth ECE3_output_Sara\n",
      "/proj/bolinc/users/x_sarbl/analysis/BS-FDBCK/Data/model_station/SMR/SMR_station_EC-Earth_ECE3_output_Sara.csv\n"
     ]
    }
   ],
   "source": [
    "dic_df_station = dict()\n",
    "for mod in models:\n",
    "    print(mod)\n",
    "    dic_df_station[mod] = dict()\n",
    "    for ca in mod2cases[mod]:\n",
    "        print(mod, ca)\n",
    "        fn_out = postproc_data / f'{select_station}_station_{mod}_{ca}.csv'\n",
    "        print(fn_out)\n",
    "        dic_df_station[mod][ca] = pd.read_csv(fn_out, index_col=0)\n",
    "        dic_df_station[mod][ca].index = pd.to_datetime(dic_df_station[mod][ca].index)\n",
    "        # dic_df_mod_case[mod][ca].to_csv(fn_out)"
   ]
  },
  {
   "cell_type": "markdown",
   "id": "2f78c58c",
   "metadata": {},
   "source": [
    "## Calculate datasets for each model"
   ]
  },
  {
   "cell_type": "markdown",
   "id": "ded36c48",
   "metadata": {
    "tags": []
   },
   "source": [
    "### NorESM"
   ]
  },
  {
   "cell_type": "code",
   "execution_count": 11,
   "id": "bdcadc2f",
   "metadata": {},
   "outputs": [],
   "source": [
    "case_name = 'OsloAero_intBVOC_f09_f09_mg17_fssp245'\n",
    "case_name_noresm = 'OsloAero_intBVOC_f09_f09_mg17_fssp245'\n",
    "\n",
    "case_name1 = 'OsloAero_intBVOC_f09_f09_mg17_full'\n",
    "case_name2 = 'OsloAero_intBVOC_f09_f09_mg17_ssp245'"
   ]
  },
  {
   "cell_type": "code",
   "execution_count": 12,
   "id": "91722f2b-6f9a-455b-9a1a-8a1774785219",
   "metadata": {},
   "outputs": [],
   "source": [
    "cases = [case_name]"
   ]
  },
  {
   "cell_type": "markdown",
   "id": "72ba7d5d-f1d0-40b6-b07d-16cd1cd8fc3b",
   "metadata": {},
   "source": [
    "#### Path input data"
   ]
  },
  {
   "cell_type": "code",
   "execution_count": 13,
   "id": "dc11e217-ad75-4f39-a630-72208f805d83",
   "metadata": {},
   "outputs": [],
   "source": [
    "path_input_data_noresm = path_extract_latlon_outdata / case_name"
   ]
  },
  {
   "cell_type": "markdown",
   "id": "13ecbf4b-c439-4148-9b9c-be29cbcb91ed",
   "metadata": {},
   "source": [
    "#### Filenames to store products in 3d/2d"
   ]
  },
  {
   "cell_type": "code",
   "execution_count": 14,
   "id": "89650527-605d-4df6-80f9-8f55a2c2550a",
   "metadata": {},
   "outputs": [],
   "source": [
    "# Filename for case1 concatinated over time\n",
    "fn1 = path_extract_latlon_outdata / case_name1 / f'{case_name1}.h1._{from_time1}-{to_time1}_concat_subs_{str_coordlims}.nc'\n",
    "\n",
    "# Select variables and time:\n",
    "fn1_2 = fn1.parent / f'{fn1.stem}_sort.nc'\n",
    "# Sortby time:\n",
    "fn1_3 = fn1.parent / f'{fn1.stem}_sort3.nc'\n",
    "\n",
    "# Filename for case1 concatinated over time\n",
    "\n",
    "fn2 = path_extract_latlon_outdata / case_name2 / f'{case_name2}.h1._{from_time2}-{to_time2}_concat_subs_{str_coordlims}.nc'\n",
    "\n",
    "# Select variables and time:\n",
    "fn2_2 = fn2.parent / f'{fn2.stem}_sort.nc'\n",
    "# Sortby time:\n",
    "fn2_3 = fn2.parent / f'{fn2.stem}_sort3.nc'\n",
    "\n",
    "# Concatinated case1 and case2\n",
    "fn_comb = path_input_data_noresm / f'{case_name}.h1._{from_time1}-{to_time2}_concat_subs_{str_coordlims}.nc'\n",
    "# Concatinated only\n",
    "\n",
    "# fn_comb_lev1           = path_input_data_noresm /f'{case_name}.h1._{from_time1}-{to_time2}_concat_subs_{str_coordlims}_lev1.nc'\n",
    "fn_comb_lev1_final = path_input_data_noresm / f'{case_name}.h1._{from_time1}-{to_time2}_concat_subs_{str_coordlims}_lev1_final.nc'\n",
    "fn_comb_lev1_finaler = path_input_data_noresm / f'{case_name}.h1._{from_time1}-{to_time2}_concat_subs_{str_coordlims}_lev1_finaler.nc'\n",
    "fn_comb_lev1_final_csv = path_input_data_noresm / f'{case_name}.h1._{from_time1}-{to_time2}_concat_subs_{str_coordlims}_lev1_final_wet_season.csv'\n",
    "fn_final_csv_stem = path_input_data_noresm / f'{case_name}.h1._{from_time1}-{to_time2}_concat_subs_{str_coordlims}_lev1_final.csv'"
   ]
  },
  {
   "cell_type": "code",
   "execution_count": 15,
   "id": "864ddd2e",
   "metadata": {},
   "outputs": [
    {
     "name": "stdout",
     "output_type": "stream",
     "text": [
      "/proj/bolinc/users/x_sarbl/analysis/Output_data_BS-FDBCK/extracted_latlon_subset/OsloAero_intBVOC_f09_f09_mg17_fssp245/OsloAero_intBVOC_f09_f09_mg17_fssp245.h1._2012-01-01-2019-01-01_concat_subs_22.0-30.0_60.0-66.0_lev1_final_wet_season.csv\n"
     ]
    }
   ],
   "source": [
    "print(fn_comb_lev1_final_csv)"
   ]
  },
  {
   "cell_type": "markdown",
   "id": "7ba9d92a-ac32-486f-b4bf-806d1b92c73c",
   "metadata": {},
   "source": [
    "#### Define NorESM station variables and cloud variables"
   ]
  },
  {
   "cell_type": "code",
   "execution_count": 16,
   "id": "9b90f88e-f482-4314-91b9-580c909f6922",
   "metadata": {},
   "outputs": [],
   "source": [
    "varl_st = ['SOA_NA', 'SOA_A1', 'OM_NI', 'OM_AI', 'OM_AC', 'SO4_NA', 'SO4_A1', 'SO4_A2', 'SO4_AC', 'SO4_PR',\n",
    "           'BC_N', 'BC_AX', 'BC_NI', 'BC_A', 'BC_AI', 'BC_AC', 'SS_A1', 'SS_A2', 'SS_A3', 'DST_A2', 'DST_A3',\n",
    "           'N50', 'N100', 'N150', 'N200', 'N500',\n",
    "           #           'N50-500','N100-500', 'N150-500', 'N200-500',\n",
    "           # 'OA',\n",
    "           ]\n",
    "varl_st_computed = ['OA', 'T_C', ]\n",
    "\n",
    "varl_cl = ['TOT_CLD_VISTAU', 'TOT_ICLD_VISTAU', 'TGCLDCWP', 'TGCLDLWP', 'TGCLDIWP',\n",
    "           'TOT_CLD_VISTAU_s', 'TOT_ICLD_VISTAU_s', 'optical_depth',\n",
    "           'CLDFREE',\n",
    "           'FCTL',\n",
    "           'ACTREL', 'ACTNL', 'TGCLDLWP',\n",
    "           'FSDSC', 'FSDSCDRF',\n",
    "           'FCTI',\n",
    "           'FCTL',\n",
    "           'FLNS',\n",
    "           'FLNSC',\n",
    "           'FLNT',\n",
    "           'FLNTCDRF',\n",
    "           'FLNT_DRF',\n",
    "           'FLUS',\n",
    "           'FLUTC', 'FORMRATE',\n",
    "           'FREQI',\n",
    "           'FREQL',\n",
    "           'FSDSCDRF',\n",
    "           'FSDS_DRF',\n",
    "           'FSNS',\n",
    "           'FSNSC',\n",
    "           'FSNT',\n",
    "           'FSNTCDRF',\n",
    "           'FSNT_DRF',\n",
    "           'FSUS_DRF',\n",
    "           'FSUTADRF',\n",
    "           ]"
   ]
  },
  {
   "cell_type": "markdown",
   "id": "f9d4c5f5",
   "metadata": {},
   "source": [
    "#### Concatinate files, compute 2D fields from 3D fields (compute tau) and sortby time."
   ]
  },
  {
   "cell_type": "code",
   "execution_count": 17,
   "id": "3d473d23",
   "metadata": {
    "tags": []
   },
   "outputs": [],
   "source": [
    "if not fn_comb.exists():\n",
    "    if (not fn1_2.exists()) or (not fn2_2.exists()):\n",
    "        ds_mod1 = xr.open_dataset(fn1, chunks={'time': 96}, engine='netcdf4')  # [fn1,fn2])#.sortby('time')\n",
    "        ds_mod2 = xr.open_dataset(fn2, chunks={'time': 96}, engine='netcdf4')\n",
    "\n",
    "        varl1 = set(ds_mod1.data_vars)\n",
    "\n",
    "        varl2 = set(ds_mod2.data_vars)\n",
    "\n",
    "        varl = list(varl1.intersection(varl2))\n",
    "\n",
    "        ds_mod1 = ds_mod1[varl].sel(time=slice(sel_years_from_files[0], sel_years_from_files[1]))  # .sortby('time')\n",
    "\n",
    "        ds_mod2 = ds_mod2[varl].sel(time=slice(sel_years_from_files[2], sel_years_from_files[3]))  # .sortby('time')\n",
    "        if not fn1_2.exists():\n",
    "            delayed_obj = ds_mod1.to_netcdf(fn1_2, compute=False)\n",
    "            with ProgressBar():\n",
    "                results = delayed_obj.compute()\n",
    "        if not fn2_2.exists():\n",
    "            delayed_obj = ds_mod2.to_netcdf(fn2_2, compute=False)\n",
    "            with ProgressBar():\n",
    "                results = delayed_obj.compute()\n",
    "\n",
    "    if not fn1_3.exists():\n",
    "        ds_mod1 = xr.open_dataset(fn1_2, chunks={'time': 48}, engine='netcdf4')  # [fn1,fn2])#.sortby('time')\n",
    "        ds_mod1 = compute_total_tau(ds_mod1)\n",
    "        ds_mod1 = ds_mod1.isel(lev=model_lev_i)\n",
    "        ds_mod1 = ds_mod1.sortby('time')  # .sel(time=slice('2012','2014'))\n",
    "        delayed_obj = ds_mod1.to_netcdf(fn1_3, compute=False)\n",
    "        print('hey 1')\n",
    "        with ProgressBar():\n",
    "            results = delayed_obj.compute()\n",
    "    if not fn2_3.exists():\n",
    "        ds_mod2 = xr.open_dataset(fn2_2, chunks={'time': 48}, engine='netcdf4')  # [fn1,fn2])#.sortby('time')\n",
    "        ds_mod2 = compute_total_tau(ds_mod2)\n",
    "        ds_mod2 = ds_mod2.isel(lev=model_lev_i)\n",
    "        ds_mod2 = ds_mod2.sortby('time')  # .sel(time=slice('2012','2014'))\n",
    "        delayed_obj = ds_mod2.to_netcdf(fn2_3, compute=False)\n",
    "        print('hey')\n",
    "        with ProgressBar():\n",
    "            results = delayed_obj.compute()\n",
    "\n",
    "    ds_mod = xr.open_mfdataset([fn1_3, fn2_3], combine='by_coords', concat_dim='time')\n",
    "\n",
    "    fn_comb.parent.mkdir(exist_ok=True, )\n",
    "\n",
    "    delayed_obj = ds_mod.to_netcdf(fn_comb, compute=False)\n",
    "    with ProgressBar():\n",
    "        results = delayed_obj.compute()\n",
    "\n",
    "    # ds_mod = xr.concat([ds_mod1[varl].sel(time=slice('2012','2014')), ds_mod2[varl].sel(time=slice('2015','2018'))], dim='time')"
   ]
  },
  {
   "cell_type": "markdown",
   "id": "35e64b2d-d9cc-4b06-846b-f9579c4b8dbc",
   "metadata": {},
   "source": [
    "##### Check:"
   ]
  },
  {
   "cell_type": "code",
   "execution_count": 18,
   "id": "f1d5c7c0-1495-4626-b85a-8e2088750000",
   "metadata": {},
   "outputs": [
    {
     "name": "stderr",
     "output_type": "stream",
     "text": [
      "/home/x_sarbl/miniconda3/envs/env_analys/lib/python3.8/site-packages/xarray/backends/plugins.py:61: RuntimeWarning: Engine 'rasterio' loading failed:\n",
      "(click 8.0.1 (/home/x_sarbl/miniconda3/envs/env_analys/lib/python3.8/site-packages), Requirement.parse('click<8,>=4.0'), {'rasterio'})\n",
      "  warnings.warn(f\"Engine {name!r} loading failed:\\n{ex}\", RuntimeWarning)\n"
     ]
    },
    {
     "data": {
      "text/plain": [
       "[<matplotlib.lines.Line2D at 0x7f0f1c217100>]"
      ]
     },
     "execution_count": 18,
     "metadata": {},
     "output_type": "execute_result"
    },
    {
     "data": {
      "image/png": "[encoded data removed]",
      "text/plain": [
       "<Figure size 432x288 with 1 Axes>"
      ]
     },
     "metadata": {
      "needs_background": "light"
     },
     "output_type": "display_data"
    }
   ],
   "source": [
    "ds_mod = xr.open_dataset(fn_comb, engine='netcdf4', chunks={'time': 48})\n",
    "(1e-6 * ds_mod['NCONC01'].isel(lat=0, lon=0)).plot()"
   ]
  },
  {
   "cell_type": "markdown",
   "id": "62fa108c-996f-452a-af2d-0428d5d627eb",
   "metadata": {
    "tags": []
   },
   "source": [
    "#### Change units and compute variables"
   ]
  },
  {
   "cell_type": "markdown",
   "id": "d3779186-22ea-4f2b-9798-d9a9d50bbaa2",
   "metadata": {
    "lines_to_next_cell": 2
   },
   "source": [
    "We use only hyytiala for org etc, but all grid cells over finland for cloud properties"
   ]
  },
  {
   "cell_type": "code",
   "execution_count": 19,
   "id": "c1683e99-94d8-4f61-808a-f1fd8ea01c53",
   "metadata": {
    "tags": []
   },
   "outputs": [],
   "source": [
    "if not fn_comb_lev1_final.exists():\n",
    "    ds_all = xr.open_dataset(fn_comb, engine='netcdf4').isel(ilev=model_lev_i)\n",
    "    # ds_sel = ds_all.sel(lat = lat_smr, lon= lon_smr, method='nearest')#.isel( ilev=model_lev_i)#.load()\n",
    "    ds_all = ds_all.isel(\n",
    "        nbnd=0\n",
    "    ).squeeze()\n",
    "    # ds_all = broadcase_station_data(ds_all, lon = lon_smr, lat = lat_smr)\n",
    "    ds_all = change_units_and_compute_vars(ds_all, temperature=temperature)\n",
    "\n",
    "    delayed_obj = ds_all.to_netcdf(fn_comb_lev1_final, compute=False)\n",
    "    print('hey')\n",
    "    with ProgressBar():\n",
    "        results = delayed_obj.compute()"
   ]
  },
  {
   "cell_type": "markdown",
   "id": "bbc0d415",
   "metadata": {},
   "source": [
    "\n",
    "#### Add variables from station data to imitate using station measurements"
   ]
  },
  {
   "cell_type": "code",
   "execution_count": 20,
   "id": "11d5d886",
   "metadata": {
    "lines_to_next_cell": 2
   },
   "outputs": [
    {
     "data": {
      "text/html": [
       "<div>\n",
       "<style scoped>\n",
       "    .dataframe tbody tr th:only-of-type {\n",
       "        vertical-align: middle;\n",
       "    }\n",
       "\n",
       "    .dataframe tbody tr th {\n",
       "        vertical-align: top;\n",
       "    }\n",
       "\n",
       "    .dataframe thead th {\n",
       "        text-align: right;\n",
       "    }\n",
       "</style>\n",
       "<table border=\"1\" class=\"dataframe\">\n",
       "  <thead>\n",
       "    <tr style=\"text-align: right;\">\n",
       "      <th></th>\n",
       "      <th>station</th>\n",
       "      <th>ACTREL</th>\n",
       "      <th>lev</th>\n",
       "      <th>BC_A</th>\n",
       "      <th>BC_AC</th>\n",
       "      <th>BC_AI</th>\n",
       "      <th>BC_AX</th>\n",
       "      <th>BC_N</th>\n",
       "      <th>BC_NI</th>\n",
       "      <th>COAGNUCL</th>\n",
       "      <th>...</th>\n",
       "      <th>SOA</th>\n",
       "      <th>OAG</th>\n",
       "      <th>OA</th>\n",
       "      <th>POA</th>\n",
       "      <th>SO4</th>\n",
       "      <th>hour</th>\n",
       "      <th>is_JJA</th>\n",
       "      <th>is_JA</th>\n",
       "      <th>isSummer</th>\n",
       "      <th>year</th>\n",
       "    </tr>\n",
       "    <tr>\n",
       "      <th>time</th>\n",
       "      <th></th>\n",
       "      <th></th>\n",
       "      <th></th>\n",
       "      <th></th>\n",
       "      <th></th>\n",
       "      <th></th>\n",
       "      <th></th>\n",
       "      <th></th>\n",
       "      <th></th>\n",
       "      <th></th>\n",
       "      <th></th>\n",
       "      <th></th>\n",
       "      <th></th>\n",
       "      <th></th>\n",
       "      <th></th>\n",
       "      <th></th>\n",
       "      <th></th>\n",
       "      <th></th>\n",
       "      <th></th>\n",
       "      <th></th>\n",
       "      <th></th>\n",
       "    </tr>\n",
       "  </thead>\n",
       "  <tbody>\n",
       "    <tr>\n",
       "      <th>2012-01-02 02:00:00</th>\n",
       "      <td>SMR</td>\n",
       "      <td>0.0</td>\n",
       "      <td>992.556095</td>\n",
       "      <td>7.165361e-11</td>\n",
       "      <td>2.874122e-12</td>\n",
       "      <td>1.062304e-11</td>\n",
       "      <td>2.001164e-11</td>\n",
       "      <td>1.403718e-10</td>\n",
       "      <td>1.900030e-16</td>\n",
       "      <td>0.000004</td>\n",
       "      <td>...</td>\n",
       "      <td>0.082910</td>\n",
       "      <td>2.276897</td>\n",
       "      <td>2.274975</td>\n",
       "      <td>2.192066</td>\n",
       "      <td>0.427151</td>\n",
       "      <td>0</td>\n",
       "      <td>False</td>\n",
       "      <td>False</td>\n",
       "      <td>False</td>\n",
       "      <td>2012</td>\n",
       "    </tr>\n",
       "    <tr>\n",
       "      <th>2012-01-02 03:00:00</th>\n",
       "      <td>SMR</td>\n",
       "      <td>0.0</td>\n",
       "      <td>992.556095</td>\n",
       "      <td>6.776110e-11</td>\n",
       "      <td>3.136896e-12</td>\n",
       "      <td>1.015449e-11</td>\n",
       "      <td>2.030955e-11</td>\n",
       "      <td>1.432439e-10</td>\n",
       "      <td>2.271426e-16</td>\n",
       "      <td>0.000004</td>\n",
       "      <td>...</td>\n",
       "      <td>0.075473</td>\n",
       "      <td>2.272214</td>\n",
       "      <td>2.270285</td>\n",
       "      <td>2.194812</td>\n",
       "      <td>0.394888</td>\n",
       "      <td>1</td>\n",
       "      <td>False</td>\n",
       "      <td>False</td>\n",
       "      <td>False</td>\n",
       "      <td>2012</td>\n",
       "    </tr>\n",
       "    <tr>\n",
       "      <th>2012-01-02 04:00:00</th>\n",
       "      <td>SMR</td>\n",
       "      <td>0.0</td>\n",
       "      <td>992.556095</td>\n",
       "      <td>6.566561e-11</td>\n",
       "      <td>3.785762e-12</td>\n",
       "      <td>1.001973e-11</td>\n",
       "      <td>2.074075e-11</td>\n",
       "      <td>1.463301e-10</td>\n",
       "      <td>2.643147e-16</td>\n",
       "      <td>0.000004</td>\n",
       "      <td>...</td>\n",
       "      <td>0.072424</td>\n",
       "      <td>2.328864</td>\n",
       "      <td>2.326991</td>\n",
       "      <td>2.254567</td>\n",
       "      <td>0.398770</td>\n",
       "      <td>2</td>\n",
       "      <td>False</td>\n",
       "      <td>False</td>\n",
       "      <td>False</td>\n",
       "      <td>2012</td>\n",
       "    </tr>\n",
       "    <tr>\n",
       "      <th>2012-01-02 05:00:00</th>\n",
       "      <td>SMR</td>\n",
       "      <td>0.0</td>\n",
       "      <td>992.556095</td>\n",
       "      <td>6.431399e-11</td>\n",
       "      <td>6.004582e-12</td>\n",
       "      <td>1.001325e-11</td>\n",
       "      <td>2.124108e-11</td>\n",
       "      <td>1.503158e-10</td>\n",
       "      <td>3.295160e-16</td>\n",
       "      <td>0.000004</td>\n",
       "      <td>...</td>\n",
       "      <td>0.070217</td>\n",
       "      <td>2.416752</td>\n",
       "      <td>2.414983</td>\n",
       "      <td>2.344767</td>\n",
       "      <td>0.406945</td>\n",
       "      <td>3</td>\n",
       "      <td>False</td>\n",
       "      <td>False</td>\n",
       "      <td>False</td>\n",
       "      <td>2012</td>\n",
       "    </tr>\n",
       "    <tr>\n",
       "      <th>2012-01-02 06:00:00</th>\n",
       "      <td>SMR</td>\n",
       "      <td>0.0</td>\n",
       "      <td>992.556095</td>\n",
       "      <td>6.334269e-11</td>\n",
       "      <td>8.331037e-12</td>\n",
       "      <td>9.825345e-12</td>\n",
       "      <td>2.174707e-11</td>\n",
       "      <td>1.512403e-10</td>\n",
       "      <td>3.650696e-16</td>\n",
       "      <td>0.000004</td>\n",
       "      <td>...</td>\n",
       "      <td>0.068667</td>\n",
       "      <td>2.396805</td>\n",
       "      <td>2.395117</td>\n",
       "      <td>2.326450</td>\n",
       "      <td>0.410223</td>\n",
       "      <td>4</td>\n",
       "      <td>False</td>\n",
       "      <td>False</td>\n",
       "      <td>False</td>\n",
       "      <td>2012</td>\n",
       "    </tr>\n",
       "  </tbody>\n",
       "</table>\n",
       "<p>5 rows × 54 columns</p>\n",
       "</div>"
      ],
      "text/plain": [
       "                    station  ACTREL         lev          BC_A         BC_AC  \\\n",
       "time                                                                          \n",
       "2012-01-02 02:00:00     SMR     0.0  992.556095  7.165361e-11  2.874122e-12   \n",
       "2012-01-02 03:00:00     SMR     0.0  992.556095  6.776110e-11  3.136896e-12   \n",
       "2012-01-02 04:00:00     SMR     0.0  992.556095  6.566561e-11  3.785762e-12   \n",
       "2012-01-02 05:00:00     SMR     0.0  992.556095  6.431399e-11  6.004582e-12   \n",
       "2012-01-02 06:00:00     SMR     0.0  992.556095  6.334269e-11  8.331037e-12   \n",
       "\n",
       "                            BC_AI         BC_AX          BC_N         BC_NI  \\\n",
       "time                                                                          \n",
       "2012-01-02 02:00:00  1.062304e-11  2.001164e-11  1.403718e-10  1.900030e-16   \n",
       "2012-01-02 03:00:00  1.015449e-11  2.030955e-11  1.432439e-10  2.271426e-16   \n",
       "2012-01-02 04:00:00  1.001973e-11  2.074075e-11  1.463301e-10  2.643147e-16   \n",
       "2012-01-02 05:00:00  1.001325e-11  2.124108e-11  1.503158e-10  3.295160e-16   \n",
       "2012-01-02 06:00:00  9.825345e-12  2.174707e-11  1.512403e-10  3.650696e-16   \n",
       "\n",
       "                     COAGNUCL  ...       SOA       OAG        OA       POA  \\\n",
       "time                           ...                                           \n",
       "2012-01-02 02:00:00  0.000004  ...  0.082910  2.276897  2.274975  2.192066   \n",
       "2012-01-02 03:00:00  0.000004  ...  0.075473  2.272214  2.270285  2.194812   \n",
       "2012-01-02 04:00:00  0.000004  ...  0.072424  2.328864  2.326991  2.254567   \n",
       "2012-01-02 05:00:00  0.000004  ...  0.070217  2.416752  2.414983  2.344767   \n",
       "2012-01-02 06:00:00  0.000004  ...  0.068667  2.396805  2.395117  2.326450   \n",
       "\n",
       "                          SO4  hour  is_JJA  is_JA  isSummer  year  \n",
       "time                                                                \n",
       "2012-01-02 02:00:00  0.427151     0   False  False     False  2012  \n",
       "2012-01-02 03:00:00  0.394888     1   False  False     False  2012  \n",
       "2012-01-02 04:00:00  0.398770     2   False  False     False  2012  \n",
       "2012-01-02 05:00:00  0.406945     3   False  False     False  2012  \n",
       "2012-01-02 06:00:00  0.410223     4   False  False     False  2012  \n",
       "\n",
       "[5 rows x 54 columns]"
      ]
     },
     "execution_count": 20,
     "metadata": {},
     "output_type": "execute_result"
    }
   ],
   "source": [
    "df_comb_station = dic_df_station['NorESM']['OsloAero_intBVOC_f09_f09_mg17_fssp']\n",
    "df_comb_station.head()"
   ]
  },
  {
   "cell_type": "code",
   "execution_count": 21,
   "id": "cd76118e",
   "metadata": {},
   "outputs": [],
   "source": [
    "from bs_fdbck.util.BSOA_datamanip import broadcast_vars_in_ds_sel"
   ]
  },
  {
   "cell_type": "markdown",
   "id": "19db7593",
   "metadata": {},
   "source": [
    "#### Open dataset computed above"
   ]
  },
  {
   "cell_type": "code",
   "execution_count": 22,
   "id": "035313e5",
   "metadata": {},
   "outputs": [
    {
     "data": {
      "text/plain": [
       "[<matplotlib.lines.Line2D at 0x7f0f20093fa0>]"
      ]
     },
     "execution_count": 22,
     "metadata": {},
     "output_type": "execute_result"
    },
    {
     "data": {
      "image/png": "[encoded data removed]",
      "text/plain": [
       "<Figure size 432x288 with 1 Axes>"
      ]
     },
     "metadata": {
      "needs_background": "light"
     },
     "output_type": "display_data"
    }
   ],
   "source": [
    "\n",
    "ds_all = xr.open_dataset(fn_comb_lev1_final, chunks={'lon': 1}, engine='netcdf4')\n",
    "ds_all['time'].attrs['timezone'] = 'utc'\n",
    "ds_all['NCONC01'].isel(lat=1, lon=1).plot()"
   ]
  },
  {
   "cell_type": "markdown",
   "id": "a30176c4",
   "metadata": {},
   "source": [
    "#### Shift timezone"
   ]
  },
  {
   "cell_type": "code",
   "execution_count": 23,
   "id": "8337a913",
   "metadata": {},
   "outputs": [
    {
     "name": "stdout",
     "output_type": "stream",
     "text": [
      "[########################################] | 100% Completed | 29.1s\n",
      "shifted time by -4\n"
     ]
    }
   ],
   "source": [
    "\n",
    "with ProgressBar():\n",
    "    ds_all.load()\n",
    "\n",
    "if ds_all['time'].attrs['timezone'] == 'utc':\n",
    "    ds_all['time'] = ds_all['time'].to_pandas().index - timedelta(hours=4)\n",
    "    ds_all['time'].attrs['timezone'] = 'utc-4'\n",
    "    print('shifted time by -4')\n",
    "    # dic_ds[k] = _ds"
   ]
  },
  {
   "cell_type": "markdown",
   "id": "4ab61650",
   "metadata": {
    "tags": []
   },
   "source": [
    "#### Broadcast computed variables so that only station value is in the gridcells."
   ]
  },
  {
   "cell_type": "code",
   "execution_count": 24,
   "id": "7f848915-b8f3-4755-a837-f166e501743b",
   "metadata": {},
   "outputs": [],
   "source": [
    "ds_smll = ds_all[['NCONC01']]"
   ]
  },
  {
   "cell_type": "code",
   "execution_count": 25,
   "id": "0bee9fc1-4c63-44af-9535-431696330a36",
   "metadata": {},
   "outputs": [],
   "source": [
    "ds_comb_station = df_comb_station.to_xarray()\n",
    "ds_comb_station = ds_comb_station.assign_coords(station=[select_station])"
   ]
  },
  {
   "cell_type": "code",
   "execution_count": 26,
   "id": "923c9eba-d496-4e61-a52f-376ed30e53a7",
   "metadata": {},
   "outputs": [],
   "source": [
    "varl_tmp = varl_st + varl_st_computed\n",
    "\n",
    "varl_tmp = list(set(df_comb_station.columns).intersection(set(varl_tmp)))"
   ]
  },
  {
   "cell_type": "code",
   "execution_count": 27,
   "id": "f3489976",
   "metadata": {
    "tags": []
   },
   "outputs": [
    {
     "name": "stdout",
     "output_type": "stream",
     "text": [
      "OA\n",
      "SO4_NA\n",
      "SO4_A1\n",
      "N50\n",
      "N150\n",
      "N100\n",
      "DST_A3\n",
      "BC_N\n",
      "DST_A2\n",
      "SS_A3\n",
      "BC_AX\n",
      "T_C\n",
      "OM_AC\n",
      "BC_NI\n",
      "OM_AI\n",
      "SOA_NA\n",
      "BC_A\n",
      "SS_A2\n",
      "N200\n",
      "SO4_A2\n",
      "SO4_PR\n",
      "BC_AC\n",
      "OM_NI\n",
      "SOA_A1\n",
      "SS_A1\n",
      "BC_AI\n",
      "SO4_AC\n"
     ]
    }
   ],
   "source": [
    "ds_smll = broadcast_vars_in_ds_sel(ds_smll, ds_comb_station, varl_tmp, only_already_in_ds=False)"
   ]
  },
  {
   "cell_type": "markdown",
   "id": "77f84652",
   "metadata": {},
   "source": [
    "#### Replace all values by station values"
   ]
  },
  {
   "cell_type": "code",
   "execution_count": 28,
   "id": "01ea7310",
   "metadata": {},
   "outputs": [],
   "source": [
    "for v in varl_tmp:\n",
    "    ds_all[v] = ds_smll[v]"
   ]
  },
  {
   "cell_type": "markdown",
   "id": "e078ff2f",
   "metadata": {},
   "source": [
    "##### Controle plots"
   ]
  },
  {
   "cell_type": "code",
   "execution_count": 29,
   "id": "faa2a0df-3d64-4626-b2a1-b1d74c7a0de8",
   "metadata": {},
   "outputs": [
    {
     "data": {
      "text/plain": [
       "<matplotlib.collections.QuadMesh at 0x7f0f27cff670>"
      ]
     },
     "execution_count": 29,
     "metadata": {},
     "output_type": "execute_result"
    },
    {
     "data": {
      "image/png": "[encoded data removed]",
      "text/plain": [
       "<Figure size 432x288 with 2 Axes>"
      ]
     },
     "metadata": {
      "needs_background": "light"
     },
     "output_type": "display_data"
    }
   ],
   "source": [
    "ds_all['TGCLDCWP_incld'].sel(time='2012-05-30 02:00:00').plot()"
   ]
  },
  {
   "cell_type": "code",
   "execution_count": 30,
   "id": "3c7cb4ea",
   "metadata": {},
   "outputs": [
    {
     "data": {
      "text/plain": [
       "<matplotlib.collections.QuadMesh at 0x7f0f1ff29b80>"
      ]
     },
     "execution_count": 30,
     "metadata": {},
     "output_type": "execute_result"
    },
    {
     "data": {
      "image/png": "[encoded data removed]",
      "text/plain": [
       "<Figure size 432x288 with 2 Axes>"
      ]
     },
     "metadata": {
      "needs_background": "light"
     },
     "output_type": "display_data"
    }
   ],
   "source": [
    "ds_all['TGCLDLWP_incld'].sel(time='2012-05-30 02:00:00').plot()"
   ]
  },
  {
   "cell_type": "markdown",
   "id": "3502fde8",
   "metadata": {},
   "source": [
    "#### Finally steps"
   ]
  },
  {
   "cell_type": "code",
   "execution_count": 31,
   "id": "a4efaf51-26ba-4748-abcd-48fe52588d4f",
   "metadata": {},
   "outputs": [],
   "source": [
    "dic_ds = dict()\n",
    "dic_ds[case_name_noresm] = ds_all"
   ]
  },
  {
   "cell_type": "markdown",
   "id": "d6ae4a05",
   "metadata": {},
   "source": [
    "##### Rename vars"
   ]
  },
  {
   "cell_type": "code",
   "execution_count": 32,
   "id": "efd1a5fb-9a13-4f5a-8ad1-a80f73ecb537",
   "metadata": {},
   "outputs": [],
   "source": [
    "for key in dic_ds:\n",
    "    dic_ds[key] = dic_ds[key].rename(rn_dic_noresm_cloud)"
   ]
  },
  {
   "cell_type": "markdown",
   "id": "3afc8a22",
   "metadata": {},
   "source": [
    "#### Save netcdf file"
   ]
  },
  {
   "cell_type": "code",
   "execution_count": 33,
   "id": "79f46ad2",
   "metadata": {},
   "outputs": [],
   "source": [
    "if not fn_comb_lev1_finaler.exists():\n",
    "    with ProgressBar():\n",
    "        dic_ds[case_name_noresm].to_netcdf(fn_comb_lev1_finaler)"
   ]
  },
  {
   "cell_type": "markdown",
   "id": "51109ee6",
   "metadata": {},
   "source": [
    "#### Controle plots"
   ]
  },
  {
   "cell_type": "code",
   "execution_count": 34,
   "id": "934e0d01",
   "metadata": {},
   "outputs": [
    {
     "data": {
      "text/plain": [
       "<matplotlib.collections.QuadMesh at 0x7f0f1fd6aeb0>"
      ]
     },
     "execution_count": 34,
     "metadata": {},
     "output_type": "execute_result"
    },
    {
     "data": {
      "image/png": "[encoded data removed]",
      "text/plain": [
       "<Figure size 432x288 with 2 Axes>"
      ]
     },
     "metadata": {
      "needs_background": "light"
     },
     "output_type": "display_data"
    }
   ],
   "source": [
    "dic_ds[case_name_noresm]['OA'].mean('lon').plot()"
   ]
  },
  {
   "cell_type": "code",
   "execution_count": 35,
   "id": "fa8599d1-d2d9-4fca-b879-33c95d28c135",
   "metadata": {},
   "outputs": [
    {
     "data": {
      "text/plain": [
       "<matplotlib.collections.QuadMesh at 0x7f0f1fc6c2e0>"
      ]
     },
     "execution_count": 35,
     "metadata": {},
     "output_type": "execute_result"
    },
    {
     "data": {
      "image/png": "[encoded data removed]",
      "text/plain": [
       "<Figure size 432x288 with 2 Axes>"
      ]
     },
     "metadata": {
      "needs_background": "light"
     },
     "output_type": "display_data"
    }
   ],
   "source": [
    "dic_ds[case_name_noresm]['COT'].sel(time='2018-01-07 00:00:00').plot()"
   ]
  },
  {
   "cell_type": "code",
   "execution_count": 36,
   "id": "783074c3-a64d-4cad-a5aa-1da9eecdfa3d",
   "metadata": {},
   "outputs": [
    {
     "data": {
      "text/plain": [
       "(0.0, 400.0)"
      ]
     },
     "execution_count": 36,
     "metadata": {},
     "output_type": "execute_result"
    },
    {
     "data": {
      "image/png": "[encoded data removed]",
      "text/plain": [
       "<Figure size 432x288 with 1 Axes>"
      ]
     },
     "metadata": {
      "needs_background": "light"
     },
     "output_type": "display_data"
    }
   ],
   "source": [
    "_ds = dic_ds['OsloAero_intBVOC_f09_f09_mg17_fssp245']\n",
    "\n",
    "_ds.where(_ds['COT'] > 0).where(_ds['CWP'] > 50).plot.scatter(x='CWP', y='COT', alpha=0.01)\n",
    "plt.ylim([0, 400])"
   ]
  },
  {
   "cell_type": "code",
   "execution_count": 37,
   "id": "26958c04",
   "metadata": {},
   "outputs": [
    {
     "data": {
      "text/plain": [
       "(0.0, 400.0)"
      ]
     },
     "execution_count": 37,
     "metadata": {},
     "output_type": "execute_result"
    },
    {
     "data": {
      "image/png": "[encoded data removed]",
      "text/plain": [
       "<Figure size 432x288 with 1 Axes>"
      ]
     },
     "metadata": {
      "needs_background": "light"
     },
     "output_type": "display_data"
    }
   ],
   "source": [
    "_ds = dic_ds['OsloAero_intBVOC_f09_f09_mg17_fssp245']\n",
    "\n",
    "_ds.where(_ds['COT'] > 0).where(_ds['CWP'] > 50).plot.scatter(x='TGCLDCWP', y='TOT_CLD_VISTAU_s', alpha=0.01)\n",
    "plt.ylim([0, 400])"
   ]
  },
  {
   "cell_type": "markdown",
   "id": "b360740e",
   "metadata": {},
   "source": [
    "#### Save final csv"
   ]
  },
  {
   "cell_type": "code",
   "execution_count": 38,
   "id": "65644b9e",
   "metadata": {},
   "outputs": [],
   "source": [
    "ds_noresm = ds_all.copy()"
   ]
  },
  {
   "cell_type": "code",
   "execution_count": 39,
   "id": "439cb564",
   "metadata": {},
   "outputs": [
    {
     "name": "stdout",
     "output_type": "stream",
     "text": [
      "/proj/bolinc/users/x_sarbl/analysis/Output_data_BS-FDBCK/extracted_latlon_subset/OsloAero_intBVOC_f09_f09_mg17_fssp245/OsloAero_intBVOC_f09_f09_mg17_fssp245.h1._2012-01-01-2019-01-01_concat_subs_22.0-30.0_60.0-66.0_lev1_finalALL_year.csv\n"
     ]
    }
   ],
   "source": [
    "for seas in calc_seasons:\n",
    "    _fn_csv = fn_final_csv_stem.parent / (fn_final_csv_stem.stem + seas + '.csv')\n",
    "    print(_fn_csv)\n",
    "    if not _fn_csv.exists():\n",
    "        start = timer()\n",
    "\n",
    "        dic_df = get_dic_df_mod(\n",
    "            dic_ds,\n",
    "            select_hours_clouds=True,\n",
    "            summer_months=season2month[seas],\n",
    "            from_hour=daytime_from,\n",
    "            # kwrgs_mask_clouds = dict(min_reff=1,min_cwp =50, tau_bounds = [5,50]),\n",
    "            kwrgs_mask_clouds=dict(min_reff=r_eff_lim, min_cwp=cld_water_path_above, tau_bounds=tau_lims),\n",
    "\n",
    "            # kwrgs_mask_clouds = dict(min_reff = 1),\n",
    "            to_hour=daytime_to,\n",
    "        )\n",
    "\n",
    "        df_mod = dic_df[case_name_noresm]\n",
    "\n",
    "        # df_mod= df_mod.dropna()\n",
    "        print(_fn_csv)\n",
    "        df_mod.to_csv(_fn_csv)\n",
    "        end = timer()\n",
    "        print(end - start)  # Time in seconds, e.g. 5.38091952400282\n",
    "        print(f'DONE! That took {(end - start)} seconds')\n",
    "        print(f'That is  {((end - start) / 60)} minuts')"
   ]
  },
  {
   "cell_type": "code",
   "execution_count": null,
   "id": "8563987c-2c9b-4db2-a45b-a0bec3dc1d69",
   "metadata": {},
   "outputs": [],
   "source": []
  },
  {
   "cell_type": "code",
   "execution_count": 40,
   "id": "77b65931",
   "metadata": {},
   "outputs": [
    {
     "data": {
      "text/plain": [
       "<matplotlib.collections.QuadMesh at 0x7f0efc36edf0>"
      ]
     },
     "execution_count": 40,
     "metadata": {},
     "output_type": "execute_result"
    },
    {
     "data": {
      "image/png": "[encoded data removed]",
      "text/plain": [
       "<Figure size 432x288 with 2 Axes>"
      ]
     },
     "metadata": {
      "needs_background": "light"
     },
     "output_type": "display_data"
    }
   ],
   "source": [
    "_ds = dic_ds['OsloAero_intBVOC_f09_f09_mg17_fssp245']\n",
    "_ds['COT'].sel(time='2012-05-30 02:00:00').plot()"
   ]
  },
  {
   "cell_type": "code",
   "execution_count": 41,
   "id": "5263f2d8",
   "metadata": {},
   "outputs": [
    {
     "data": {
      "text/plain": [
       "<matplotlib.collections.QuadMesh at 0x7f0efc7470a0>"
      ]
     },
     "execution_count": 41,
     "metadata": {},
     "output_type": "execute_result"
    },
    {
     "data": {
      "image/png": "[encoded data removed]",
      "text/plain": [
       "<Figure size 432x288 with 2 Axes>"
      ]
     },
     "metadata": {
      "needs_background": "light"
     },
     "output_type": "display_data"
    }
   ],
   "source": [
    "_ds = dic_ds['OsloAero_intBVOC_f09_f09_mg17_fssp245']\n",
    "_ds['COT'].sel(time='2012-05-30 23:00:00').plot()"
   ]
  },
  {
   "cell_type": "code",
   "execution_count": 42,
   "id": "c8bec52c",
   "metadata": {},
   "outputs": [
    {
     "data": {
      "text/plain": [
       "<matplotlib.collections.QuadMesh at 0x7f0efc62bf40>"
      ]
     },
     "execution_count": 42,
     "metadata": {},
     "output_type": "execute_result"
    },
    {
     "data": {
      "image/png": "[encoded data removed]",
      "text/plain": [
       "<Figure size 432x288 with 2 Axes>"
      ]
     },
     "metadata": {
      "needs_background": "light"
     },
     "output_type": "display_data"
    }
   ],
   "source": [
    "_ds = dic_ds['OsloAero_intBVOC_f09_f09_mg17_fssp245']\n",
    "_ds['OA'].sel(time='2012-05-30 02:00:00').plot()"
   ]
  },
  {
   "cell_type": "markdown",
   "id": "fbda7009",
   "metadata": {},
   "source": [
    "### ECHAM-SALSA"
   ]
  },
  {
   "cell_type": "markdown",
   "id": "1f98d5e2",
   "metadata": {},
   "source": [
    "#### Names etc"
   ]
  },
  {
   "cell_type": "code",
   "execution_count": 43,
   "id": "f4749a0c-182b-43fc-8132-095060136784",
   "metadata": {},
   "outputs": [],
   "source": [
    "\n",
    "case_name = 'SALSA_BSOA_feedback'\n",
    "case_name_echam = 'SALSA_BSOA_feedback'\n",
    "time_res = 'hour'\n",
    "space_res = 'locations'\n",
    "model_name = 'ECHAM-SALSA'\n",
    "model_name_echam = 'ECHAM-SALSA'"
   ]
  },
  {
   "cell_type": "markdown",
   "id": "d0efcde9-a992-473b-9f26-d9d8b8625efd",
   "metadata": {},
   "source": [
    "#### Input path"
   ]
  },
  {
   "cell_type": "code",
   "execution_count": 44,
   "id": "f5fe4362-23ff-406f-ae32-2dd1caa3fd05",
   "metadata": {},
   "outputs": [],
   "source": [
    "input_path_echam = path_extract_latlon_outdata / model_name_echam / case_name_echam"
   ]
  },
  {
   "cell_type": "code",
   "execution_count": 45,
   "id": "b9e390c4-bb07-4b96-8bb0-158dcfbe0dab",
   "metadata": {},
   "outputs": [],
   "source": [
    "\n",
    "cases_echam = [case_name_echam]"
   ]
  },
  {
   "cell_type": "markdown",
   "id": "7da3e694-1c84-47ab-982d-5654981a6775",
   "metadata": {},
   "source": [
    "#### Station variables  and others"
   ]
  },
  {
   "cell_type": "code",
   "execution_count": 46,
   "id": "ffc92741-b1d3-4fbd-b62f-a7ff7858e3cb",
   "metadata": {},
   "outputs": [],
   "source": [
    "varl_st_echam = [\n",
    "    'mmrtrN500',\n",
    "    'mmrtrN250',\n",
    "    'mmrtrN200',\n",
    "    'mmrtrN100',\n",
    "    'mmrtrN50',\n",
    "    'mmrtrN3',\n",
    "    'SO2_gas',\n",
    "    'APIN_gas',\n",
    "    'TBETAOCI_gas',\n",
    "    'BPIN_gas',\n",
    "    'LIMON_gas',\n",
    "    'SABIN_gas',\n",
    "    'MYRC_gas',\n",
    "    'CARENE3_gas',\n",
    "    'ISOP_gas',\n",
    "    'VBS0_gas',\n",
    "    'V*BS1_gas',\n",
    "    'VBS10_gas',\n",
    "    'ORG_mass',\n",
    "    'oh_con',\n",
    "    'tempair',\n",
    "    'ccn02',\n",
    "    'ccn10',\n",
    "]\n",
    "\n",
    "varl_cl_echam = [\n",
    "    'airdens',\n",
    "    'uw',\n",
    "    'vw',\n",
    "    'cod',\n",
    "    'cwp',\n",
    "    'ceff',\n",
    "    'ceff_ct',\n",
    "    # 'ceff_ct_incl',\n",
    "    'lcdnc',\n",
    "    'lcdnc_ct',\n",
    "    'clfr',\n",
    "    'cl_time',\n",
    "    'aot550nm',\n",
    "    'up_sw',\n",
    "    'up_sw_cs',\n",
    "    'up_sw_noa',\n",
    "    'up_sw_cs_noa',\n",
    "    'up_lw',\n",
    "    'up_lw_cs',\n",
    "    'up_lw_noa',\n",
    "    'up_lw_cs_noa',\n",
    "    'emi_monot_bio',\n",
    "    'emi_isop_bio',\n",
    "    'tempair',\n",
    "    'tempair_ct',\n",
    "    'T_ct',\n",
    "\n",
    "]\n",
    "\n"
   ]
  },
  {
   "cell_type": "markdown",
   "id": "5ba83490-c834-417a-be7e-6edc494a5ea9",
   "metadata": {},
   "source": [
    "#### Filenames:"
   ]
  },
  {
   "cell_type": "code",
   "execution_count": 47,
   "id": "8aaf82dd-0799-4396-88f5-6c4f2f31cb88",
   "metadata": {},
   "outputs": [],
   "source": [
    "fn_final_echam = input_path_echam / f'{case_name}_{from_time1}-{to_time2}_ALL-VARS_concat_subs_{str_coordlims}.nc'\n",
    "fn_final_echam_csv = input_path_echam / f'{case_name}_{from_time1}-{to_time2}_ALL-VARS_concat_subs_{str_coordlims}_wet_season.csv'\n",
    "fn_final_echam_csv_stem = input_path_echam / f'{case_name}_{from_time1}-{to_time2}_ALL-VARS_concat_subs_{str_coordlims}.csv'"
   ]
  },
  {
   "cell_type": "markdown",
   "id": "72b9abe9-82f7-489d-92c8-eb9ac62aa006",
   "metadata": {},
   "source": [
    "#### Open data area around station"
   ]
  },
  {
   "cell_type": "code",
   "execution_count": 48,
   "id": "4eccff6c-3029-4170-93b2-90398645dc6b",
   "metadata": {},
   "outputs": [
    {
     "name": "stdout",
     "output_type": "stream",
     "text": [
      "tempair_ct not found\n",
      "T_ct not found\n",
      "mmrtrN500 not found\n",
      "mmrtrN250 not found\n",
      "mmrtrN3 not found\n",
      "SO2_gas not found\n",
      "APIN_gas not found\n",
      "TBETAOCI_gas not found\n",
      "BPIN_gas not found\n",
      "LIMON_gas not found\n",
      "SABIN_gas not found\n",
      "MYRC_gas not found\n",
      "CARENE3_gas not found\n",
      "ISOP_gas not found\n",
      "VBS0_gas not found\n",
      "V*BS1_gas not found\n",
      "VBS10_gas not found\n",
      "oh_con not found\n"
     ]
    }
   ],
   "source": [
    "fl_open = []\n",
    "\n",
    "for v in varl_cl_echam + varl_st_echam:\n",
    "    fn = input_path_echam / f'{case_name}_{from_time1}-{to_time2}_{v}_concat_subs_{str_coordlims}.nc'\n",
    "    # print(fn)\n",
    "    if fn.exists():\n",
    "        fl_open.append(fn)\n",
    "    else:\n",
    "        print(f'{v} not found')"
   ]
  },
  {
   "cell_type": "markdown",
   "id": "a867e3ee-a526-44ac-a4e8-fa0f461579de",
   "metadata": {
    "tags": []
   },
   "source": [
    "#### Open files, decode time, drop excess coords, select bottom layer, broadcast station vars to whole grid and compute units etc"
   ]
  },
  {
   "cell_type": "code",
   "execution_count": 49,
   "id": "2d891e9c-3aa2-4a11-abb3-c541b810642d",
   "metadata": {},
   "outputs": [],
   "source": [
    "fl_open = list(set(fl_open))"
   ]
  },
  {
   "cell_type": "code",
   "execution_count": null,
   "id": "13e6f09e-2fde-4baa-b8b1-b6764bb07567",
   "metadata": {},
   "outputs": [],
   "source": [
    "ds_all = xr.open_mfdataset(fl_open, decode_cf=False)"
   ]
  },
  {
   "cell_type": "code",
   "execution_count": null,
   "id": "771d9b7c-22e8-4150-a570-4918dfff0786",
   "metadata": {
    "tags": []
   },
   "outputs": [],
   "source": [
    "if not fn_final_echam.exists():\n",
    "    ds_all = xr.open_mfdataset(fl_open, decode_cf=False)\n",
    "    # ds_iso = xr.open_dataset(fl_open[21])\n",
    "    # ds = xr.merge([ds_iso,ds])\n",
    "    ds_all = import_fields_xr_echam.decode_cf_echam(ds_all)\n",
    "\n",
    "    # ds_all = import_fields_xr_echam.decode_cf_echam(ds_all)\n",
    "    ds_all = extract_2D_cloud_time_echam(ds_all)\n",
    "\n",
    "    # ds_sel = ds_all.sel(lat = lat_smr, lon= lon_smr, method='nearest').isel( lev=model_lev_i)#.load()\n",
    "    ds_all = ds_all.squeeze()\n",
    "    ds_all = ds_all.drop(['hyai', 'hybi', 'hyam', 'hybm']).squeeze()\n",
    "    ds_all = ds_all.isel(lev=model_lev_i)\n",
    "\n",
    "    # ds_all = broadcase_station_data(ds_all, varl_st=varl_st_echam, lon = lon_smr, lat = lat_smr)\n",
    "\n",
    "    ds_all = change_units_and_compute_vars_echam(ds_all)\n",
    "\n",
    "    delayed_obj = ds_all.to_netcdf(fn_final_echam, compute=False)\n",
    "    print('hey')\n",
    "    with ProgressBar():\n",
    "        results = delayed_obj.compute()"
   ]
  },
  {
   "cell_type": "markdown",
   "id": "51f4b9ac",
   "metadata": {},
   "source": [
    "#### Use station data computed before:"
   ]
  },
  {
   "cell_type": "code",
   "execution_count": null,
   "id": "c60af471",
   "metadata": {},
   "outputs": [],
   "source": [
    "df_comb_station = dic_df_station['ECHAM-SALSA']['SALSA_BSOA_feedback']"
   ]
  },
  {
   "cell_type": "markdown",
   "id": "a8f36348",
   "metadata": {},
   "source": [
    "#### Compute Nx-500"
   ]
  },
  {
   "cell_type": "code",
   "execution_count": null,
   "id": "c57a0a63",
   "metadata": {},
   "outputs": [],
   "source": [
    "\n",
    "for v in ['N50', 'N100', 'N200', 'N150', 'N25', 'N70', 'N250']:\n",
    "    if v in df_comb_station.columns:\n",
    "        df_comb_station[v + '-500'] = df_comb_station[v] - df_comb_station['N500']\n",
    "        varl_st_computed.append(v + '-500')\n",
    "        print(v)"
   ]
  },
  {
   "cell_type": "code",
   "execution_count": null,
   "id": "87be2791",
   "metadata": {},
   "outputs": [],
   "source": [
    "ds_comb_station = df_comb_station.to_xarray()\n",
    "ds_comb_station = ds_comb_station.assign_coords(station=[select_station])"
   ]
  },
  {
   "cell_type": "code",
   "execution_count": null,
   "id": "dcf2d053",
   "metadata": {},
   "outputs": [],
   "source": [
    "ds_all = xr.open_dataset(fn_final_echam, engine='netcdf4')\n",
    "ds_all['time'].attrs['timezone'] = 'utc'\n",
    "ds_all['N50'].mean('time').plot()  # .isel(lat=0, time=0).plot()#.shape#.plot()"
   ]
  },
  {
   "cell_type": "code",
   "execution_count": null,
   "id": "13c26eaa",
   "metadata": {},
   "outputs": [],
   "source": [
    "ds_all['time'].attrs['timezone'] = 'utc'"
   ]
  },
  {
   "cell_type": "code",
   "execution_count": null,
   "id": "aab805d4",
   "metadata": {},
   "outputs": [],
   "source": [
    "ds_all['cwp_incld'].isel(lat=1, lon=1).plot()"
   ]
  },
  {
   "cell_type": "markdown",
   "id": "0ac37b76-b68d-4537-ad51-f0b62c04538e",
   "metadata": {},
   "source": [
    "#### Fix time for echam"
   ]
  },
  {
   "cell_type": "code",
   "execution_count": null,
   "id": "b71c5d2c",
   "metadata": {},
   "outputs": [],
   "source": [
    "with xr.set_options(keep_attrs=True):\n",
    "    attrs = ds_all['time'].attrs.copy()\n",
    "    ds_all['time'] = ds_all['time'].to_dataframe()['time'].apply(fix_echam_time).values\n",
    "    ds_all['time'].attrs = attrs"
   ]
  },
  {
   "cell_type": "markdown",
   "id": "145704a8",
   "metadata": {},
   "source": [
    "#### Finally produce daily median dataset:"
   ]
  },
  {
   "cell_type": "code",
   "execution_count": null,
   "id": "b39d4fdb-af37-4f09-9e7f-3b5f0c475361",
   "metadata": {},
   "outputs": [],
   "source": [
    "dic_ds = dict()\n",
    "dic_ds[case_name] = ds_all"
   ]
  },
  {
   "cell_type": "code",
   "execution_count": null,
   "id": "89e43ee3-8590-4ee8-b7f9-50aaa877c011",
   "metadata": {},
   "outputs": [],
   "source": []
  },
  {
   "cell_type": "markdown",
   "id": "21d4a570",
   "metadata": {},
   "source": [
    "##### Controle plots"
   ]
  },
  {
   "cell_type": "code",
   "execution_count": null,
   "id": "5cd2550e-5afe-4caa-a9fc-648228abdda0",
   "metadata": {},
   "outputs": [],
   "source": [
    "ds_all['cwp'].plot(bins=np.linspace(0, 1000, 20), alpha=.5, )\n",
    "\n",
    "ds_all['cwp_incld'].plot(bins=np.linspace(0, 1000, 20), alpha=.5, color='r')"
   ]
  },
  {
   "cell_type": "code",
   "execution_count": null,
   "id": "2cfb9566-9175-4416-b887-347662d79d79",
   "metadata": {},
   "outputs": [],
   "source": [
    "ds_all['cwp_incld2'] = ds_all['cwp'] / ds_all['cl_clfr_max']"
   ]
  },
  {
   "cell_type": "code",
   "execution_count": null,
   "id": "a70ddd10",
   "metadata": {},
   "outputs": [],
   "source": [
    "f, ax = plt.subplots(1)\n",
    "ds_all['cwp'].plot.hist(bins=np.logspace(0, 3.1), alpha=.5, ax=ax)\n",
    "ds_all['cwp_incld'].plot.hist(bins=np.logspace(0, 3.1), alpha=.5, ax=ax)"
   ]
  },
  {
   "cell_type": "code",
   "execution_count": null,
   "id": "7036215b",
   "metadata": {},
   "outputs": [],
   "source": [
    "f, ax = plt.subplots(1)\n",
    "ds_all['cwp_incld'].plot.hist(bins=np.logspace(0, 3.1), alpha=.5, ax=ax)\n",
    "\n",
    "ds_noresm['TGCLDCWP_incld'].plot.hist(bins=np.logspace(0, 3.1), alpha=0.5, ax=ax.twinx(), color='r')\n",
    "plt.xscale('log')"
   ]
  },
  {
   "cell_type": "markdown",
   "id": "74243350-8e2c-4e65-86dd-840eea9cad9f",
   "metadata": {
    "tags": []
   },
   "source": [
    "#### Mask values where cloud time max is less than 10 percent"
   ]
  },
  {
   "cell_type": "code",
   "execution_count": null,
   "id": "d35e5f9f-b30a-4914-85a1-beb0786f7fdc",
   "metadata": {},
   "outputs": [],
   "source": [
    "ds_all = ds_all.where(ds_all['cl_time_max'] > .1)"
   ]
  },
  {
   "cell_type": "code",
   "execution_count": null,
   "id": "a53dc052",
   "metadata": {},
   "outputs": [],
   "source": []
  },
  {
   "cell_type": "markdown",
   "id": "b90c4ab4",
   "metadata": {
    "tags": []
   },
   "source": [
    "#### Shift timezone"
   ]
  },
  {
   "cell_type": "code",
   "execution_count": null,
   "id": "e665144f",
   "metadata": {},
   "outputs": [],
   "source": [
    "\n",
    "with ProgressBar():\n",
    "    ds_all.load()\n",
    "\n",
    "if ds_all['time'].attrs['timezone'] == 'utc':\n",
    "    ds_all['time'] = ds_all['time'].to_pandas().index - timedelta(hours=4)\n",
    "    ds_all['time'].attrs['timezone'] = 'utc-4'\n",
    "    print('shifted time by -4')\n",
    "    # dic_ds[k] = _ds"
   ]
  },
  {
   "cell_type": "markdown",
   "id": "0a9f697b",
   "metadata": {
    "tags": []
   },
   "source": [
    "#### Broadcast computed variables so that only station value is in the gridcells."
   ]
  },
  {
   "cell_type": "code",
   "execution_count": null,
   "id": "f3bc6839",
   "metadata": {},
   "outputs": [],
   "source": [
    "ds_smll = ds_all[['mmrtrN100']]"
   ]
  },
  {
   "cell_type": "code",
   "execution_count": null,
   "id": "d37a6492",
   "metadata": {},
   "outputs": [],
   "source": [
    "ds_comb_station = df_comb_station.to_xarray()\n",
    "ds_comb_station = ds_comb_station.assign_coords(station=[select_station])"
   ]
  },
  {
   "cell_type": "markdown",
   "id": "236a61f1",
   "metadata": {},
   "source": [
    "##### Check time by comparing to station dataset"
   ]
  },
  {
   "cell_type": "code",
   "execution_count": null,
   "id": "99ce6221",
   "metadata": {},
   "outputs": [],
   "source": [
    "ds_all['hour'] = ds_all['time.hour']\n",
    "ds_all['T_C'].groupby(ds_all['hour']).mean().sel(lat=lat_smr, lon=lon_smr, method='nearest').plot()\n",
    "ds_comb_station['T_C'].groupby(ds_comb_station['time.hour']).mean().plot()"
   ]
  },
  {
   "cell_type": "code",
   "execution_count": null,
   "id": "e6c220a6-d555-4a71-95b8-55451496cf3f",
   "metadata": {},
   "outputs": [],
   "source": [
    "ds_all['hour'] = ds_all['time.hour']\n",
    "ds_all['T_C'].groupby(ds_all['hour']).mean().sel(lat=lat_smr, lon=lon_smr, method='nearest').plot()\n",
    "ds_comb_station['T_C'].groupby(ds_comb_station['time.hour']).mean().plot()"
   ]
  },
  {
   "cell_type": "code",
   "execution_count": null,
   "id": "63bb3755",
   "metadata": {},
   "outputs": [],
   "source": []
  },
  {
   "cell_type": "code",
   "execution_count": null,
   "id": "41585795",
   "metadata": {},
   "outputs": [],
   "source": [
    "ds_comb_station = ds_comb_station.drop(['lon'])"
   ]
  },
  {
   "cell_type": "code",
   "execution_count": null,
   "id": "2ac5ffef",
   "metadata": {},
   "outputs": [],
   "source": [
    "varl_tmp = varl_st_echam + varl_st_computed\n",
    "\n",
    "varl_tmp = list(set(df_comb_station.columns).intersection(set(varl_tmp)))"
   ]
  },
  {
   "cell_type": "code",
   "execution_count": null,
   "id": "29c33735",
   "metadata": {
    "tags": []
   },
   "outputs": [],
   "source": [
    "ds_smll = broadcast_vars_in_ds_sel(ds_smll, ds_comb_station, varl_tmp, only_already_in_ds=False)"
   ]
  },
  {
   "cell_type": "markdown",
   "id": "2e6c0a7b",
   "metadata": {},
   "source": [
    "#### Replace all values by station values"
   ]
  },
  {
   "cell_type": "code",
   "execution_count": null,
   "id": "988f97c5-8eab-41e8-8710-0a06197d397d",
   "metadata": {},
   "outputs": [],
   "source": [
    "for v in varl_tmp:\n",
    "    ds_all[v] = ds_smll[v]"
   ]
  },
  {
   "cell_type": "code",
   "execution_count": null,
   "id": "34508c1e",
   "metadata": {},
   "outputs": [],
   "source": [
    "ds_all.where((ds_all['cwp_incld'] > 50) & (ds_all['cl_time_max'] > .1))['cod_incld'].plot.hist(bins=np.arange(-1, 50),\n",
    "                                                                                               alpha=.5)"
   ]
  },
  {
   "cell_type": "markdown",
   "id": "b1f512da-4f02-42c1-b011-1cf512b4ab8a",
   "metadata": {},
   "source": [
    "#### Final steps"
   ]
  },
  {
   "cell_type": "code",
   "execution_count": null,
   "id": "12d65c1b-b8a6-46eb-9684-7faed1f71191",
   "metadata": {},
   "outputs": [],
   "source": [
    "dic_ds = dict()\n",
    "dic_ds[case_name_echam] = ds_all"
   ]
  },
  {
   "cell_type": "markdown",
   "id": "592db6f9",
   "metadata": {},
   "source": [
    "##### Rename vars"
   ]
  },
  {
   "cell_type": "code",
   "execution_count": null,
   "id": "c9a02c23",
   "metadata": {},
   "outputs": [],
   "source": [
    "for key in dic_ds:\n",
    "    dic_ds[key] = dic_ds[key].rename(rn_dic_echam_cloud)"
   ]
  },
  {
   "cell_type": "markdown",
   "id": "8839be51",
   "metadata": {},
   "source": [
    "#### Save final csv"
   ]
  },
  {
   "cell_type": "code",
   "execution_count": null,
   "id": "e459c4bb",
   "metadata": {},
   "outputs": [],
   "source": [
    "for seas in calc_seasons:\n",
    "    _fn_csv = fn_final_echam_csv_stem.parent / (fn_final_echam_csv_stem.stem + seas + '.csv')\n",
    "    print(_fn_csv)\n",
    "    if True:  # not _fn_csv.exists():\n",
    "        # for key in dic_ds.keys():\n",
    "\n",
    "        dic_df = get_dic_df_mod(dic_ds, select_hours_clouds=True, summer_months=season2month[seas],\n",
    "                                mask_cloud_values=True,\n",
    "                                from_hour=daytime_from,\n",
    "                                to_hour=daytime_to,\n",
    "                                # kwrgs_mask_clouds = dict(min_reff=1,min_cwp =50, tau_bounds = [5,50])\n",
    "                                kwrgs_mask_clouds=dict(min_reff=r_eff_lim, min_cwp=cld_water_path_above,\n",
    "                                                       tau_bounds=tau_lims),\n",
    "\n",
    "                                )\n",
    "\n",
    "        df_mod = dic_df[case_name_echam]\n",
    "        # with ProgressBar():\n",
    "        # df_mod = df_mod.dropna()\n",
    "        df_mod.to_csv(_fn_csv)"
   ]
  },
  {
   "cell_type": "code",
   "execution_count": null,
   "id": "19d43243",
   "metadata": {},
   "outputs": [],
   "source": [
    "df_mod.plot.scatter(x='CWP', y='COT')"
   ]
  },
  {
   "cell_type": "code",
   "execution_count": null,
   "id": "dcefedba",
   "metadata": {},
   "outputs": [],
   "source": [
    "_fn_csv"
   ]
  },
  {
   "cell_type": "markdown",
   "id": "f1300190",
   "metadata": {},
   "source": [
    "### EC-Earth"
   ]
  },
  {
   "cell_type": "markdown",
   "id": "9dfa4ec3",
   "metadata": {},
   "source": [
    "#### Names etc"
   ]
  },
  {
   "cell_type": "code",
   "execution_count": null,
   "id": "1a7752de-96aa-4811-8c71-54240f0fccba",
   "metadata": {},
   "outputs": [],
   "source": [
    "\n",
    "case_name = 'ECE3_output_Sara'\n",
    "case_name_ec_earth = 'ECE3_output_Sara'\n",
    "time_res = 'hour'\n",
    "space_res = 'locations'\n",
    "model_name = 'EC-Earth'\n",
    "model_name_ec_earth = 'EC-Earth'"
   ]
  },
  {
   "cell_type": "markdown",
   "id": "f7e89a3f",
   "metadata": {},
   "source": [
    "#### Input path:"
   ]
  },
  {
   "cell_type": "code",
   "execution_count": null,
   "id": "1b12dd27-dd87-44d1-831f-916e158fd8c6",
   "metadata": {},
   "outputs": [],
   "source": [
    "input_path_ec_earth = path_extract_latlon_outdata / model_name_ec_earth / case_name_ec_earth"
   ]
  },
  {
   "cell_type": "code",
   "execution_count": null,
   "id": "2d28cb13",
   "metadata": {},
   "outputs": [],
   "source": [
    "\n",
    "cases_ec_earth = [case_name_ec_earth]"
   ]
  },
  {
   "cell_type": "markdown",
   "id": "f8bb1d49",
   "metadata": {},
   "source": [
    "#### Filenames:"
   ]
  },
  {
   "cell_type": "code",
   "execution_count": null,
   "id": "07b19090-89f6-42e0-a0f4-0ae1c68250a9",
   "metadata": {},
   "outputs": [],
   "source": [
    "fn_intermediate_ec_earth = input_path_ec_earth / f'{case_name}_{from_time1}-{to_time2}_ALL-VARS_concat_subs_{str_coordlims}_intermediate.nc'\n",
    "fn_intermediate_ec_earth_lev = input_path_ec_earth / f'{case_name}_{from_time1}-{to_time2}_ALL-VARS_concat_subs_{str_coordlims}_intermediate_lev.nc'\n",
    "\n",
    "fn_final_ec_earth = input_path_ec_earth / f'{case_name}_{from_time1}-{to_time2}_ALL-VARS_concat_subs_{str_coordlims}.nc'\n",
    "fn_final_ec_earth_csv = input_path_ec_earth / f'{case_name}_{from_time1}-{to_time2}_ALL-VARS_concat_subs_{str_coordlims}.csv'\n",
    "fn_final_ec_earth_csv_stem = input_path_ec_earth / f'{case_name}_{from_time1}-{to_time2}_ALL-VARS_concat_subs_{str_coordlims}'"
   ]
  },
  {
   "cell_type": "code",
   "execution_count": null,
   "id": "753de314",
   "metadata": {},
   "outputs": [],
   "source": [
    "fn_final_ec_earth_csv_stem"
   ]
  },
  {
   "cell_type": "markdown",
   "id": "4a858c1d",
   "metadata": {},
   "source": [
    "#### Open pre calculated extracted fields"
   ]
  },
  {
   "cell_type": "code",
   "execution_count": null,
   "id": "b1da27cc",
   "metadata": {},
   "outputs": [],
   "source": [
    "which = 'IFS'"
   ]
  },
  {
   "cell_type": "code",
   "execution_count": null,
   "id": "cd2e6089",
   "metadata": {},
   "outputs": [],
   "source": [
    "fn_t = input_path_ec_earth / f'{case_name}_{which}_{from_time1}-{to_time2}_concat_subs_{str_coordlims}.nc'"
   ]
  },
  {
   "cell_type": "code",
   "execution_count": null,
   "id": "245b3c6f",
   "metadata": {},
   "outputs": [],
   "source": [
    "fl_open = []\n",
    "# ds_list =[]\n",
    "dic_ds = dict()\n",
    "\n",
    "for which in ['IFS', 'IFS_T']:\n",
    "    fn = input_path_ec_earth / f'{case_name}_{which}_{from_time1}-{to_time2}_concat_subs_{str_coordlims}.nc'\n",
    "    print(fn)\n",
    "    if fn.exists():\n",
    "        fl_open.append(fn)\n",
    "        _ds = xr.open_dataset(fn)\n",
    "        dic_ds[which] = _ds\n",
    "    else:\n",
    "        print(f'{v} not found')"
   ]
  },
  {
   "cell_type": "markdown",
   "id": "f0058bfc",
   "metadata": {
    "tags": []
   },
   "source": [
    "#### Open files, decode time, drop excess coords, select bottom layer, broadcast station vars to whole grid and compute units etc"
   ]
  },
  {
   "cell_type": "code",
   "execution_count": null,
   "id": "c9e5cc3a",
   "metadata": {},
   "outputs": [],
   "source": []
  },
  {
   "cell_type": "code",
   "execution_count": null,
   "id": "5e7c5f89",
   "metadata": {},
   "outputs": [],
   "source": [
    "from bs_fdbck.util.BSOA_datamanip.ec_earth import (\n",
    "    rename_ifs_vars,\n",
    "    fix_units_ec_earth,\n",
    "    extract_cloud_top,\n",
    "    calculate_incld_values_warmclouds,\n",
    ")"
   ]
  },
  {
   "cell_type": "markdown",
   "id": "d58e273b",
   "metadata": {},
   "source": [
    "##### Fix units, calc cloud properties etc."
   ]
  },
  {
   "cell_type": "code",
   "execution_count": null,
   "id": "6f8a9437",
   "metadata": {},
   "outputs": [],
   "source": [
    "if not fn_intermediate_ec_earth.exists():\n",
    "\n",
    "    for key in dic_ds:\n",
    "        _ds = dic_ds[key]\n",
    "        _ds = rename_ifs_vars(_ds)\n",
    "\n",
    "        _ds = fix_units_ec_earth(_ds)\n",
    "        # _ds = calculate_incld_values_warmclouds(_ds)\n",
    "        # _ds = extract_cloud_top(_ds)\n",
    "        # _ds['lat'] = np.round(_ds['lat'], decimals=2)\n",
    "        # _ds['lon'] = np.round(_ds['lon'], decimals=2)\n",
    "        _ds = _ds.sortby('lon')\n",
    "        _ds = _ds.sortby('lat')\n",
    "        _ds = (\n",
    "            _ds\n",
    "            .assign(\n",
    "                lat=lambda d: d['lat'].astype('float').round(2))\n",
    "            .assign(\n",
    "                lon=lambda d: d['lon'].astype('float').round(2))\n",
    "        )\n",
    "\n",
    "        dic_ds[key] = _ds\n",
    "\n",
    "    ds = dic_ds['IFS']\n",
    "\n",
    "    ds = calculate_incld_values_warmclouds(ds)\n",
    "\n",
    "    ds = extract_cloud_top(ds)\n",
    "\n",
    "    dic_ds['IFS'] = ds\n",
    "\n",
    "    for key in dic_ds:\n",
    "        _ds = dic_ds[key]\n",
    "        ds_l = _ds.isel(lev=model_lev_i)\n",
    "        dic_ds[key] = ds_l\n",
    "\n",
    "    ds_t = dic_ds['IFS_T']\n",
    "\n",
    "    ds = dic_ds['IFS']\n",
    "    ds = ds.sortby('lat')\n",
    "    ds = ds.sortby('lon')\n",
    "\n",
    "    ds_t['lev'] = ds['lev']\n",
    "    ds_t = ds_t.sortby('lat')\n",
    "    ds_t = ds_t.sortby('lon')\n",
    "    ds_t['temp'].plot()\n",
    "    plt.show()\n",
    "\n",
    "    drop_list = ['U', 'V', 'temp']\n",
    "    ds = xr.merge([ds.drop_vars(drop_list).drop_dims(['plev']), ds_t[['temp']]])\n",
    "    ds['temp'].plot()\n",
    "    plt.show()\n",
    "\n",
    "    # ds =fix_units_ec_earth(ds)\n",
    "    # ds = calculate_incld_values_warmclouds(ds)\n",
    "    # ds = extract_cloud_top(ds)\n",
    "\n",
    "    delayed_obj = ds.to_netcdf(fn_intermediate_ec_earth, compute=False)\n",
    "    with ProgressBar():\n",
    "        delayed_obj.compute()"
   ]
  },
  {
   "cell_type": "markdown",
   "id": "dc4b4966",
   "metadata": {},
   "source": [
    "#### Open file with fixed units and extracted cloud params:"
   ]
  },
  {
   "cell_type": "code",
   "execution_count": null,
   "id": "48544482",
   "metadata": {},
   "outputs": [],
   "source": [
    "ds_ifs = xr.open_dataset(fn_intermediate_ec_earth, decode_times=False)"
   ]
  },
  {
   "cell_type": "markdown",
   "id": "70d4858c",
   "metadata": {},
   "source": [
    "##### Fix units and decode time"
   ]
  },
  {
   "cell_type": "code",
   "execution_count": null,
   "id": "50f3bbde",
   "metadata": {},
   "outputs": [],
   "source": [
    "ds_ifs['ttc'].attrs['units'] = 1\n",
    "\n",
    "for v in ds_ifs.data_vars:\n",
    "    if 'units' in ds_ifs[v].attrs:\n",
    "        print(v, ds_ifs[v].attrs['units'])\n",
    "        if ds_ifs[v].attrs['units'] is np.nan:\n",
    "            print('******')\n",
    "        if ds_ifs[v].attrs['units'] == 1:\n",
    "            ds_ifs[v].attrs['units'] = '1'\n",
    "            print(f'{v} unit is 1')\n",
    "\n",
    "ds_ifs = xr.decode_cf(ds_ifs)\n",
    "ds_ifs['time'].attrs['timezone'] = 'utc'"
   ]
  },
  {
   "cell_type": "markdown",
   "id": "3b640d3d",
   "metadata": {},
   "source": [
    "#### Overview plots"
   ]
  },
  {
   "cell_type": "code",
   "execution_count": null,
   "id": "df106e30",
   "metadata": {},
   "outputs": [],
   "source": [
    "ds_ifs['re_liq_cltop'].count('time').plot()"
   ]
  },
  {
   "cell_type": "code",
   "execution_count": null,
   "id": "89e3eccb",
   "metadata": {},
   "outputs": [],
   "source": [
    "ds_ifs['cl_frac_where_cltime_pos'].mean('time').plot()"
   ]
  },
  {
   "cell_type": "code",
   "execution_count": null,
   "id": "a5a584a1",
   "metadata": {},
   "outputs": [],
   "source": [
    "ds_ifs['cc_all'].mean('time').plot()"
   ]
  },
  {
   "cell_type": "code",
   "execution_count": null,
   "id": "dae7cb3e",
   "metadata": {},
   "outputs": [],
   "source": [
    "ds_ifs['cc'].mean('time').plot()"
   ]
  },
  {
   "cell_type": "code",
   "execution_count": null,
   "id": "f4ac96a9",
   "metadata": {},
   "outputs": [],
   "source": [
    "ds_ifs['ttc'].mean('time').plot()"
   ]
  },
  {
   "cell_type": "code",
   "execution_count": null,
   "id": "418ad5ce",
   "metadata": {},
   "outputs": [],
   "source": [
    "ds_ifs['re_liq'].isel(lat=2, lon=0).plot(x='time', linewidth=0, marker='.')"
   ]
  },
  {
   "cell_type": "code",
   "execution_count": null,
   "id": "52e4b0b0",
   "metadata": {},
   "outputs": [],
   "source": [
    "ds_ifs['argmax'].mean('time').plot()"
   ]
  },
  {
   "cell_type": "code",
   "execution_count": null,
   "id": "fe5759a1",
   "metadata": {},
   "outputs": [],
   "source": [
    "ds_ifs['re_liq_cltop'].mean('time').plot()"
   ]
  },
  {
   "cell_type": "code",
   "execution_count": null,
   "id": "df3fb2d3",
   "metadata": {},
   "outputs": [],
   "source": [
    "ds_ifs['cdnc_incld_cltop'].mean('time').plot()"
   ]
  },
  {
   "cell_type": "code",
   "execution_count": null,
   "id": "3169fbb7",
   "metadata": {},
   "outputs": [],
   "source": [
    "ds_ifs['re_liq'].mean('time').plot()"
   ]
  },
  {
   "cell_type": "code",
   "execution_count": null,
   "id": "0cf78b85",
   "metadata": {},
   "outputs": [],
   "source": [
    "ds_ifs['tclw'].mean('time').plot()"
   ]
  },
  {
   "cell_type": "code",
   "execution_count": null,
   "id": "e3fedb10",
   "metadata": {},
   "outputs": [],
   "source": [
    "ds_ifs['cloud_time_norm'].mean('time').plot()"
   ]
  },
  {
   "cell_type": "code",
   "execution_count": null,
   "id": "a05ad482-5f59-4217-bf5a-c8011b4276be",
   "metadata": {},
   "outputs": [],
   "source": []
  },
  {
   "cell_type": "code",
   "execution_count": null,
   "id": "b3513fbd",
   "metadata": {},
   "outputs": [],
   "source": []
  },
  {
   "cell_type": "markdown",
   "id": "cf1a2b7c",
   "metadata": {},
   "source": [
    "#### Masking and computing vars"
   ]
  },
  {
   "cell_type": "markdown",
   "id": "5e516043",
   "metadata": {
    "tags": []
   },
   "source": [
    "##### Mask values where cloud fraction is less than 10 percent"
   ]
  },
  {
   "cell_type": "code",
   "execution_count": null,
   "id": "944020cb-5184-44a9-971a-bde52fc202bc",
   "metadata": {},
   "outputs": [],
   "source": [
    "xr.set_options(keep_attrs=True)"
   ]
  },
  {
   "cell_type": "code",
   "execution_count": null,
   "id": "48442b78",
   "metadata": {},
   "outputs": [],
   "source": [
    "ds_ifs = ds_ifs.where(ds_ifs['cc_cltop'] > .1)"
   ]
  },
  {
   "cell_type": "markdown",
   "id": "4146a5c7",
   "metadata": {
    "tags": []
   },
   "source": [
    "##### Take only values where liquid cloud fraction is above 80%"
   ]
  },
  {
   "cell_type": "code",
   "execution_count": null,
   "id": "4ead788e",
   "metadata": {},
   "outputs": [],
   "source": [
    "ds_ifs = ds_ifs.where(ds_ifs['liq_frac_cwp'] > .8)"
   ]
  },
  {
   "cell_type": "code",
   "execution_count": null,
   "id": "9ae8f239",
   "metadata": {},
   "outputs": [],
   "source": [
    "ds_ifs['liq_frac_cwp'].plot()"
   ]
  },
  {
   "cell_type": "markdown",
   "id": "56c47eb8-6a1d-4746-8676-f9f96cf51ce5",
   "metadata": {
    "tags": []
   },
   "source": [
    "#### Shift timezone"
   ]
  },
  {
   "cell_type": "code",
   "execution_count": null,
   "id": "e738b3b2",
   "metadata": {},
   "outputs": [],
   "source": [
    "\n",
    "with ProgressBar():\n",
    "    ds_ifs.load()\n",
    "\n",
    "if ds_ifs['time'].attrs['timezone'] == 'utc':\n",
    "    ds_ifs['time'] = ds_ifs['time'].to_pandas().index - timedelta(hours=4)\n",
    "    ds_ifs['time'].attrs['timezone'] = 'utc-4'\n",
    "    print('shifted time by -4')\n",
    "    # dic_ds[k] = _ds"
   ]
  },
  {
   "cell_type": "markdown",
   "id": "8fb40332",
   "metadata": {
    "tags": []
   },
   "source": [
    "#### Use station data computed before:"
   ]
  },
  {
   "cell_type": "code",
   "execution_count": null,
   "id": "2a697ed7",
   "metadata": {},
   "outputs": [],
   "source": [
    "df_comb_station = dic_df_station[model_name_ec_earth][case_name_ec_earth]"
   ]
  },
  {
   "cell_type": "code",
   "execution_count": null,
   "id": "5960a3bb",
   "metadata": {},
   "outputs": [],
   "source": [
    "ds_comb_station = df_comb_station.to_xarray()\n",
    "ds_comb_station = ds_comb_station.assign_coords(station=[select_station])"
   ]
  },
  {
   "cell_type": "code",
   "execution_count": null,
   "id": "e06c636e",
   "metadata": {},
   "outputs": [],
   "source": [
    "ds_ifs['temp'].plot()"
   ]
  },
  {
   "cell_type": "markdown",
   "id": "120e67a1",
   "metadata": {},
   "source": [
    "##### Check time against station data"
   ]
  },
  {
   "cell_type": "code",
   "execution_count": null,
   "id": "4345df53",
   "metadata": {},
   "outputs": [],
   "source": [
    "ds_ifs['hour'] = ds_ifs['time.hour']\n",
    "_ds1 = ds_ifs.sel(time=slice('2012-07', '2012-08'))\n",
    "_ds2 = ds_comb_station.sel(time=slice('2012-07', '2012-08'))\n",
    "(_ds1['temp'] - 273.15).groupby(_ds1['hour']).mean().sel(lat=lat_smr, lon=lon_smr, method='nearest').plot()\n",
    "_ds2['T_C'].groupby(_ds2['time.hour']).mean().plot(marker='*')"
   ]
  },
  {
   "cell_type": "code",
   "execution_count": null,
   "id": "8528ff15",
   "metadata": {},
   "outputs": [],
   "source": [
    "varl_station_ec_earth = [\n",
    "    'CCN0.20',\n",
    "    'CCN1.00',\n",
    "    'M_BCACS',\n",
    "    'M_BCAII',\n",
    "    'M_BCAIS',\n",
    "    'M_BCCOS',\n",
    "    'M_DUACI',\n",
    "    'M_DUACS',\n",
    "    'M_DUCOI',\n",
    "    'M_DUCOS',\n",
    "    'M_POMACS',\n",
    "    'M_POMAII',\n",
    "    'M_POMAIS',\n",
    "    'M_POMCOS',\n",
    "    'M_SO4ACS',\n",
    "    'M_SO4COS',\n",
    "    'M_SO4NUS',\n",
    "    'M_SOAACS',\n",
    "    'M_SOAAII',\n",
    "    'M_SOAAIS',\n",
    "    'M_SOACOS',\n",
    "    'M_SOANUS',\n",
    "    'M_SSACS',\n",
    "    'M_SSCOS',\n",
    "    'OA',\n",
    "    'SOA',\n",
    "    'N_ACI',\n",
    "    'N_ACS',\n",
    "    'N_AII',\n",
    "    'N_AIS',\n",
    "    'N_COI',\n",
    "    'N_COS',\n",
    "    'N_NUS',\n",
    "    'RDRY_ACS',\n",
    "    'RDRY_AIS',\n",
    "    'RDRY_COS',\n",
    "    'RDRY_NUS',\n",
    "    'RWET_ACI',\n",
    "    'RWET_ACS',\n",
    "    'RWET_AII',\n",
    "    'RWET_AIS',\n",
    "    'RWET_COI',\n",
    "    'RWET_COS',\n",
    "    'RWET_NUS',\n",
    "    'emiisop',\n",
    "    'emiterp',\n",
    "    'T',\n",
    "    'DDRY_NUS',\n",
    "    'DDRY_AIS',\n",
    "    'DDRY_ACS',\n",
    "    'DDRY_COS',\n",
    "    'DWET_AII',\n",
    "    'DWET_ACI',\n",
    "    'DWET_COI',\n",
    "    'N50',\n",
    "    'N70',\n",
    "    'N100',\n",
    "    'N150',\n",
    "    'N200',\n",
    "    'N500',\n",
    "    'N50-500',\n",
    "    'N70-500',\n",
    "    'N100-500',\n",
    "    'N150-500',\n",
    "    'N200-500',\n",
    "    'OA',\n",
    "    'POM',\n",
    "    'SOA',\n",
    "    'SOA2',\n",
    "    'T_C',\n",
    "\n",
    "]"
   ]
  },
  {
   "cell_type": "code",
   "execution_count": null,
   "id": "efcaccd7",
   "metadata": {},
   "outputs": [],
   "source": [
    "\n",
    "varl_tmp = list(set(df_comb_station.columns).intersection(set(varl_station_ec_earth)))"
   ]
  },
  {
   "cell_type": "code",
   "execution_count": null,
   "id": "0c8898bc",
   "metadata": {},
   "outputs": [],
   "source": [
    "ds_smll = ds_ifs[['temp']]"
   ]
  },
  {
   "cell_type": "code",
   "execution_count": null,
   "id": "a9bbe507",
   "metadata": {},
   "outputs": [],
   "source": []
  },
  {
   "cell_type": "code",
   "execution_count": null,
   "id": "e1df5f83",
   "metadata": {
    "tags": []
   },
   "outputs": [],
   "source": [
    "ds_smll = broadcast_vars_in_ds_sel(ds_smll, ds_comb_station, varl_tmp, only_already_in_ds=False)"
   ]
  },
  {
   "cell_type": "markdown",
   "id": "5280c603",
   "metadata": {},
   "source": [
    "##### Replace all values by station values"
   ]
  },
  {
   "cell_type": "code",
   "execution_count": null,
   "id": "051af447",
   "metadata": {},
   "outputs": [],
   "source": [
    "for v in varl_tmp:\n",
    "    ds_ifs[v] = ds_smll[v]"
   ]
  },
  {
   "cell_type": "markdown",
   "id": "c4ea74e7",
   "metadata": {},
   "source": [
    "#### Final adjustments\n"
   ]
  },
  {
   "cell_type": "code",
   "execution_count": null,
   "id": "05153f40",
   "metadata": {},
   "outputs": [],
   "source": [
    "dic_ds = dict()\n",
    "dic_ds[case_name_ec_earth] = ds_ifs"
   ]
  },
  {
   "cell_type": "markdown",
   "id": "895b1880",
   "metadata": {},
   "source": [
    "##### Rename variables"
   ]
  },
  {
   "cell_type": "code",
   "execution_count": null,
   "id": "1f84166d",
   "metadata": {},
   "outputs": [],
   "source": [
    "# calc_seasons = ['WET','DRY', 'WET_mid','WET_early','WET_late', 'DRY_early','DRY_late']\n",
    "\n",
    "for key in dic_ds:\n",
    "    dic_ds[key] = dic_ds[key].rename(rn_dic_ec_earth_cloud)"
   ]
  },
  {
   "cell_type": "code",
   "execution_count": null,
   "id": "ee1d02fa",
   "metadata": {},
   "outputs": [],
   "source": [
    "ds = dic_ds[key]"
   ]
  },
  {
   "cell_type": "code",
   "execution_count": null,
   "id": "993f8774",
   "metadata": {},
   "outputs": [],
   "source": [
    "ds['r_eff'].plot(bins=np.linspace(3, 40));"
   ]
  },
  {
   "cell_type": "code",
   "execution_count": null,
   "id": "d68bd7df",
   "metadata": {},
   "outputs": [],
   "source": [
    "ds['CWP_unweigth'] = ds['tclw']"
   ]
  },
  {
   "cell_type": "code",
   "execution_count": null,
   "id": "2ee1d046",
   "metadata": {},
   "outputs": [],
   "source": [
    "ds['CWP_unweigth'].plot(bins=np.linspace(0, 500), alpha=.5);\n",
    "ds['CWP'].plot(bins=np.linspace(0, 500), alpha=.5);"
   ]
  },
  {
   "cell_type": "markdown",
   "id": "cae5eada",
   "metadata": {},
   "source": [
    "##### Controle plots normalizing by cloud fraction"
   ]
  },
  {
   "cell_type": "code",
   "execution_count": null,
   "id": "60455cd5",
   "metadata": {},
   "outputs": [],
   "source": [
    "ds['r_eff'].where(ds['ttc'] > .9).plot(bins=np.linspace(0, 30), alpha=.5, density=True, label='cloud frac above 0.9');\n",
    "ds['r_eff'].where(ds['ttc'] < .4).plot(bins=np.linspace(0, 30), alpha=.5, density=True, label='cloud frac below 0.1');\n",
    "plt.legend()\n",
    "plt.title('CWP divided by cloud fraction')"
   ]
  },
  {
   "cell_type": "code",
   "execution_count": null,
   "id": "774a21d3",
   "metadata": {},
   "outputs": [],
   "source": [
    "ds['CWP'].where(ds['ttc'] > .9).plot(bins=np.linspace(0, 500), alpha=.5, density=True, label='cloud frac above 0.9');\n",
    "ds['CWP'].where(ds['ttc'] < .3).plot(bins=np.linspace(0, 500), alpha=.5, density=True, label='cloud frac below 0.3');\n",
    "plt.legend()\n",
    "plt.title('CWP divided by cloud fraction')"
   ]
  },
  {
   "cell_type": "code",
   "execution_count": null,
   "id": "078a6ec1",
   "metadata": {},
   "outputs": [],
   "source": [
    "ds['CWP_unweigth'].where(ds['ttc'] > .9).plot(bins=np.linspace(0, 500), alpha=.5, density=True,\n",
    "                                              label='cloud frac above 0.9');\n",
    "ds['CWP_unweigth'].where(ds['ttc'] < .3).plot(bins=np.linspace(0, 500), alpha=.5, density=True,\n",
    "                                              label='cloud frac below 0.3');\n",
    "plt.legend()\n",
    "plt.title('CWP not divided ')"
   ]
  },
  {
   "cell_type": "markdown",
   "id": "311990e4",
   "metadata": {},
   "source": [
    "#### Final save"
   ]
  },
  {
   "cell_type": "code",
   "execution_count": null,
   "id": "99a21b0b",
   "metadata": {
    "tags": []
   },
   "outputs": [],
   "source": [
    "for seas in calc_seasons:\n",
    "    _fn_csv = fn_final_ec_earth_csv_stem.parent / (fn_final_ec_earth_csv_stem.name + seas + '.csv')\n",
    "    print(_fn_csv)\n",
    "\n",
    "    if True:  # not _fn_csv.exists():\n",
    "        # for key in dic_ds.keys():\n",
    "\n",
    "        dic_df = get_dic_df_mod(dic_ds,\n",
    "                                select_hours_clouds=True,\n",
    "                                summer_months=season2month[seas],\n",
    "                                mask_cloud_values=True,\n",
    "                                from_hour=daytime_from,\n",
    "                                to_hour=daytime_to,\n",
    "                                # kwrgs_mask_clouds = dict(min_reff=1,min_cwp =50, tau_bounds = [5,50])\n",
    "                                kwrgs_mask_clouds=dict(min_reff=r_eff_lim,\n",
    "                                                       min_cwp=cld_water_path_above,\n",
    "                                                       tau_bounds=tau_lims\n",
    "                                                       ),\n",
    "\n",
    "                                )\n",
    "\n",
    "        df_mod = dic_df[case_name_ec_earth]\n",
    "        # with ProgressBar():\n",
    "        # df_mod = df_mod.dropna()\n",
    "        df_mod.to_csv(_fn_csv)"
   ]
  },
  {
   "cell_type": "code",
   "execution_count": null,
   "id": "e67a9fb9",
   "metadata": {},
   "outputs": [],
   "source": [
    "print('Done')"
   ]
  },
  {
   "cell_type": "code",
   "execution_count": null,
   "id": "24a269ac",
   "metadata": {},
   "outputs": [],
   "source": []
  }
 ],
 "metadata": {
  "jupytext": {
   "formats": "ipynb,py:percent"
  },
  "kernelspec": {
   "display_name": "Python 3 (ipykernel)",
   "language": "python",
   "name": "python3"
  },
  "language_info": {
   "codemirror_mode": {
    "name": "ipython",
    "version": 3
   },
   "file_extension": ".py",
   "mimetype": "text/x-python",
   "name": "python",
   "nbconvert_exporter": "python",
   "pygments_lexer": "ipython3",
   "version": "3.8.10"
  }
 },
 "nbformat": 4,
 "nbformat_minor": 5
}
