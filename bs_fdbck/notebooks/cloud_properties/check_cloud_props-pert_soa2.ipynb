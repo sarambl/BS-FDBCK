{
 "cells": [
  {
   "cell_type": "code",
   "execution_count": 1,
   "id": "8bfb73fb-6a8b-4006-9bcc-e6793b946030",
   "metadata": {},
   "outputs": [
    {
     "name": "stdout",
     "output_type": "stream",
     "text": [
      "WARNING: depricated, use \n",
      " from pathlib import Path \n",
      " Path(path).mkdir(exist_ok=True, parents=True)\n"
     ]
    }
   ],
   "source": [
    "import xarray as xr\n",
    "\n",
    "import pandas as pd\n",
    "\n",
    "import matplotlib.pyplot as plt\n",
    "import numpy as np\n",
    "\n",
    "from pathlib import Path\n",
    "\n",
    "from bs_fdbck.constants import measurements_path, path_outdata, path_extract_latlon_outdata"
   ]
  },
  {
   "cell_type": "code",
   "execution_count": 2,
   "id": "50fd1d2b-8324-4b90-9c01-998a4a35de3a",
   "metadata": {},
   "outputs": [
    {
     "data": {
      "text/plain": [
       "<xarray.core.options.set_options at 0x7f51606189d0>"
      ]
     },
     "execution_count": 2,
     "metadata": {},
     "output_type": "execute_result"
    }
   ],
   "source": [
    "xr.set_options(keep_attrs=True) "
   ]
  },
  {
   "cell_type": "code",
   "execution_count": 3,
   "id": "37fcd81c-159d-428a-894a-d425ad963481",
   "metadata": {},
   "outputs": [
    {
     "data": {
      "text/plain": [
       "PosixPath('/proj/bolinc/users/x_sarbl/analysis/Output_data_BS-FDBCK/extracted_latlon_subset')"
      ]
     },
     "execution_count": 3,
     "metadata": {},
     "output_type": "execute_result"
    }
   ],
   "source": [
    "path_extract_latlon_outdata"
   ]
  },
  {
   "cell_type": "code",
   "execution_count": 4,
   "id": "9e40caa8-5fe6-41b4-9d37-3072d7012c7a",
   "metadata": {},
   "outputs": [],
   "source": [
    "lat_smr = 61.85\n",
    "lon_smr = 24.28"
   ]
  },
  {
   "cell_type": "code",
   "execution_count": 5,
   "id": "0e38b00f-a6a7-4950-a196-b20cb28314ae",
   "metadata": {},
   "outputs": [],
   "source": [
    "case_name = 'OsloAero_intBVOC_pertSizeDist2_f19_f19_mg17_full'"
   ]
  },
  {
   "cell_type": "code",
   "execution_count": 6,
   "id": "af72b872-ac6f-47fc-845f-435658bc46b9",
   "metadata": {},
   "outputs": [],
   "source": [
    "fn = path_extract_latlon_outdata/ case_name/f'{case_name}.h1._2012-01-01-2015-01-01_concat_subs_22.0-30.0_60.0-66.0.nc'\n",
    "fn_comb_lev1 = path_extract_latlon_outdata/ case_name/f'{case_name}.h1._2012-01-01-2015-01-01_concat_subs_22.0-30.0_60.0-66.0_lev1.nc'"
   ]
  },
  {
   "cell_type": "code",
   "execution_count": null,
   "id": "f0e16fc1-3983-4fd2-a04d-a28ff6ebe639",
   "metadata": {},
   "outputs": [],
   "source": []
  },
  {
   "cell_type": "code",
   "execution_count": 7,
   "id": "a53fd3cb-b6d4-4ec0-a7ad-5343326e4e61",
   "metadata": {},
   "outputs": [],
   "source": [
    "fn2 = fn.parent / f'{fn.stem}_sort.nc'"
   ]
  },
  {
   "cell_type": "code",
   "execution_count": null,
   "id": "8f8a2784-a04c-4b6f-9e30-52775d708c6a",
   "metadata": {},
   "outputs": [],
   "source": []
  },
  {
   "cell_type": "code",
   "execution_count": 8,
   "id": "12a4cd3f-75bf-4952-ad21-0474f833e369",
   "metadata": {},
   "outputs": [],
   "source": [
    "\n",
    "\n",
    "cases = [case_name]"
   ]
  },
  {
   "cell_type": "code",
   "execution_count": 9,
   "id": "1f7f6348-fde5-47c5-ab3c-6009a675b54a",
   "metadata": {},
   "outputs": [],
   "source": [
    "from pathlib import Path"
   ]
  },
  {
   "cell_type": "code",
   "execution_count": 10,
   "id": "41898aed-280f-4fae-8201-131e58b63a0b",
   "metadata": {},
   "outputs": [],
   "source": [
    "plot_path = Path('Plots')"
   ]
  },
  {
   "cell_type": "code",
   "execution_count": 11,
   "id": "771cc6fd-9148-44f8-bfca-e623d297b8ce",
   "metadata": {},
   "outputs": [],
   "source": [
    "def make_fn(case, v_x, v_y):\n",
    "    _x = v_x.split('(')[0]\n",
    "    _y = v_y.split('(')[0]\n",
    "    f = f'scat_{case}_{_x}_{_y}.png'\n",
    "    return plot_path /f"
   ]
  },
  {
   "cell_type": "code",
   "execution_count": 12,
   "id": "53c1a7e2-6272-41c1-b809-8648fbe71bd4",
   "metadata": {},
   "outputs": [],
   "source": [
    "plot_path.mkdir(exist_ok=True, parents=True)"
   ]
  },
  {
   "cell_type": "code",
   "execution_count": 13,
   "id": "3f66fc36-d08c-44df-b25a-54648ecfff5c",
   "metadata": {
    "lines_to_next_cell": 2
   },
   "outputs": [],
   "source": [
    "varl =['DOD500','DOD440','ACTREL','ACTNL','TGCLDLWP', #,'SOA_A1',\n",
    "       'H2SO4','SOA_LV','COAGNUCL','FORMRATE','T','FCTL',\n",
    "       'TOT_CLD_VISTAU','TOT_ICLD_VISTAU','TGCLDCWP',\n",
    "       #'TAUTLOGMODIS',\n",
    "       #'MEANTAU_ISCCP',\n",
    "       #'LWPMODIS','CLWMODIS','REFFCLWMODIS',#'TAUTMODIS','TAUWMODIS',\n",
    "      \n",
    "      'SOA_NA','SOA_A1','OM_NI','OM_AI','OM_AC','SO4_NA','SO4_A1','SO4_A2','SO4_AC','SO4_PR',\n",
    "      'BC_N','BC_AX','BC_NI','BC_A','BC_AI','BC_AC','SS_A1','SS_A2','SS_A3','DST_A2','DST_A3', \n",
    "      ] "
   ]
  },
  {
   "cell_type": "code",
   "execution_count": 14,
   "id": "e2ede6f0-f3ea-4169-9720-6975cf4d937c",
   "metadata": {},
   "outputs": [],
   "source": [
    "varl_st = [      'SOA_NA','SOA_A1','OM_NI','OM_AI','OM_AC','SO4_NA','SO4_A1','SO4_A2','SO4_AC','SO4_PR',\n",
    "      'BC_N','BC_AX','BC_NI','BC_A','BC_AI','BC_AC','SS_A1','SS_A2','SS_A3','DST_A2','DST_A3']"
   ]
  },
  {
   "cell_type": "markdown",
   "id": "923e6376-7626-42a6-b40c-f7e3eaebb0e3",
   "metadata": {},
   "source": [
    "## Load observations: "
   ]
  },
  {
   "cell_type": "markdown",
   "id": "539cd2ca-33e4-42c1-82a0-93ca9f5a4a41",
   "metadata": {
    "tags": []
   },
   "source": [
    "## Open model dataset: \n"
   ]
  },
  {
   "cell_type": "code",
   "execution_count": 15,
   "id": "92b13f27-8d85-49b8-8944-b8ec28182a3b",
   "metadata": {},
   "outputs": [],
   "source": [
    "model_lev_i=-1"
   ]
  },
  {
   "cell_type": "code",
   "execution_count": null,
   "id": "5d62ce6c-549e-41eb-a12e-f4903ff51094",
   "metadata": {},
   "outputs": [],
   "source": [
    "ds_mod = xr.open_dataset(fn, chunks = {'time':48})#[fn1,fn2])#.sortby('time')\n",
    "#ds_mod2 = xr.open_dataset(fn2, chunks = {'time':48})"
   ]
  },
  {
   "cell_type": "code",
   "execution_count": 17,
   "id": "78a4dd4a-534b-4425-82e7-067e653d248c",
   "metadata": {},
   "outputs": [],
   "source": [
    "ds_mod['TOT_ICLD_VISTAU_s']= ds_mod['TOT_ICLD_VISTAU'].sum('lev')\n",
    "ds_mod['TOT_CLD_VISTAU_s']= ds_mod['TOT_CLD_VISTAU'].sum('lev')\n",
    "\n",
    "ds_mod = ds_mod.sortby('time')#.sel(time=slice('2012','2014'))\n",
    "\n"
   ]
  },
  {
   "cell_type": "code",
   "execution_count": 18,
   "id": "7ea9118a-4347-4eba-bec0-dc8ea2dc7244",
   "metadata": {},
   "outputs": [],
   "source": [
    "ds_mod = ds_mod.isel(lev = model_lev_i)"
   ]
  },
  {
   "cell_type": "markdown",
   "id": "5e815ebe-3b8c-4c3f-aa02-fa173fe5424b",
   "metadata": {},
   "source": [
    "ds_mod1"
   ]
  },
  {
   "cell_type": "code",
   "execution_count": 19,
   "id": "02b4f199-dd74-4ab1-98fa-bb9a2556d88e",
   "metadata": {
    "lines_to_next_cell": 2
   },
   "outputs": [],
   "source": [
    "import dask.array as da\n",
    "from dask.diagnostics import ProgressBar"
   ]
  },
  {
   "cell_type": "code",
   "execution_count": 20,
   "id": "b17c1b23-d846-4dad-8014-7f06f7501d5f",
   "metadata": {},
   "outputs": [
    {
     "name": "stdout",
     "output_type": "stream",
     "text": [
      "[########################################] | 100% Completed | 37min 34.7s\n"
     ]
    }
   ],
   "source": [
    "delayed_obj = ds_mod.to_netcdf(fn_comb_lev1, compute=False)\n",
    "with ProgressBar(): \n",
    "    results = delayed_obj.compute()"
   ]
  },
  {
   "cell_type": "code",
   "execution_count": 16,
   "id": "ff6c7c61-4d8b-4034-ba6c-01fa4f74641f",
   "metadata": {
    "lines_to_next_cell": 2
   },
   "outputs": [],
   "source": [
    "import dask.array as da\n",
    "from dask.diagnostics import ProgressBar"
   ]
  },
  {
   "cell_type": "markdown",
   "id": "54aabd52-504e-45d5-877a-9644bcea1fac",
   "metadata": {},
   "source": [
    "delayed_obj = ds_mod1.to_netcdf(fn1_2, compute=False)\n",
    "with ProgressBar():\n",
    "    results = delayed_obj.compute()\n",
    "    \n",
    "    "
   ]
  },
  {
   "cell_type": "markdown",
   "id": "162d1acd-2191-4ffa-bcf8-ecc24ab3024c",
   "metadata": {},
   "source": [
    "delayed_obj = ds_mod2.to_netcdf(fn2_2, compute=False)\n",
    "with ProgressBar():\n",
    "    results = delayed_obj.compute()"
   ]
  },
  {
   "cell_type": "markdown",
   "id": "436a7064-8b6a-4b04-a4c4-5a781f9b1ba5",
   "metadata": {},
   "source": [
    "ds_mod = xr.open_mfdataset([fn1_2,fn2_2], combine='by_coords', concat_dim='time')"
   ]
  },
  {
   "cell_type": "code",
   "execution_count": null,
   "id": "e00931f1-20a2-401d-8211-cc3cb997a480",
   "metadata": {},
   "outputs": [],
   "source": []
  },
  {
   "cell_type": "code",
   "execution_count": 17,
   "id": "ea899abd-f8fb-45a0-b88f-82d1afb6c829",
   "metadata": {},
   "outputs": [],
   "source": [
    "ds_mod = xr.open_dataset(fn_comb_lev1, chunks = {'time':48})"
   ]
  },
  {
   "cell_type": "code",
   "execution_count": 18,
   "id": "2afd9544-c56d-4d48-86bd-629b0328cf0c",
   "metadata": {
    "tags": []
   },
   "outputs": [
    {
     "ename": "KeyboardInterrupt",
     "evalue": "",
     "output_type": "error",
     "traceback": [
      "\u001b[0;31m---------------------------------------------------------------------------\u001b[0m",
      "\u001b[0;31mKeyboardInterrupt\u001b[0m                         Traceback (most recent call last)",
      "\u001b[0;32m/tmp/ipykernel_93039/1471976883.py\u001b[0m in \u001b[0;36m<module>\u001b[0;34m\u001b[0m\n\u001b[0;32m----> 1\u001b[0;31m \u001b[0mds_mod\u001b[0m\u001b[0;34m.\u001b[0m\u001b[0mcompute\u001b[0m\u001b[0;34m(\u001b[0m\u001b[0;34m)\u001b[0m\u001b[0;34m\u001b[0m\u001b[0;34m\u001b[0m\u001b[0m\n\u001b[0m",
      "\u001b[0;32m~/miniconda3/envs/env_analys/lib/python3.8/site-packages/xarray/core/dataset.py\u001b[0m in \u001b[0;36mcompute\u001b[0;34m(self, **kwargs)\u001b[0m\n\u001b[1;32m   1029\u001b[0m         \"\"\"\n\u001b[1;32m   1030\u001b[0m         \u001b[0mnew\u001b[0m \u001b[0;34m=\u001b[0m \u001b[0mself\u001b[0m\u001b[0;34m.\u001b[0m\u001b[0mcopy\u001b[0m\u001b[0;34m(\u001b[0m\u001b[0mdeep\u001b[0m\u001b[0;34m=\u001b[0m\u001b[0;32mFalse\u001b[0m\u001b[0;34m)\u001b[0m\u001b[0;34m\u001b[0m\u001b[0;34m\u001b[0m\u001b[0m\n\u001b[0;32m-> 1031\u001b[0;31m         \u001b[0;32mreturn\u001b[0m \u001b[0mnew\u001b[0m\u001b[0;34m.\u001b[0m\u001b[0mload\u001b[0m\u001b[0;34m(\u001b[0m\u001b[0;34m**\u001b[0m\u001b[0mkwargs\u001b[0m\u001b[0;34m)\u001b[0m\u001b[0;34m\u001b[0m\u001b[0;34m\u001b[0m\u001b[0m\n\u001b[0m\u001b[1;32m   1032\u001b[0m \u001b[0;34m\u001b[0m\u001b[0m\n\u001b[1;32m   1033\u001b[0m     \u001b[0;32mdef\u001b[0m \u001b[0m_persist_inplace\u001b[0m\u001b[0;34m(\u001b[0m\u001b[0mself\u001b[0m\u001b[0;34m,\u001b[0m \u001b[0;34m**\u001b[0m\u001b[0mkwargs\u001b[0m\u001b[0;34m)\u001b[0m \u001b[0;34m->\u001b[0m \u001b[0;34m\"Dataset\"\u001b[0m\u001b[0;34m:\u001b[0m\u001b[0;34m\u001b[0m\u001b[0;34m\u001b[0m\u001b[0m\n",
      "\u001b[0;32m~/miniconda3/envs/env_analys/lib/python3.8/site-packages/xarray/core/dataset.py\u001b[0m in \u001b[0;36mload\u001b[0;34m(self, **kwargs)\u001b[0m\n\u001b[1;32m    863\u001b[0m \u001b[0;34m\u001b[0m\u001b[0m\n\u001b[1;32m    864\u001b[0m             \u001b[0;31m# evaluate all the dask arrays simultaneously\u001b[0m\u001b[0;34m\u001b[0m\u001b[0;34m\u001b[0m\u001b[0;34m\u001b[0m\u001b[0m\n\u001b[0;32m--> 865\u001b[0;31m             \u001b[0mevaluated_data\u001b[0m \u001b[0;34m=\u001b[0m \u001b[0mda\u001b[0m\u001b[0;34m.\u001b[0m\u001b[0mcompute\u001b[0m\u001b[0;34m(\u001b[0m\u001b[0;34m*\u001b[0m\u001b[0mlazy_data\u001b[0m\u001b[0;34m.\u001b[0m\u001b[0mvalues\u001b[0m\u001b[0;34m(\u001b[0m\u001b[0;34m)\u001b[0m\u001b[0;34m,\u001b[0m \u001b[0;34m**\u001b[0m\u001b[0mkwargs\u001b[0m\u001b[0;34m)\u001b[0m\u001b[0;34m\u001b[0m\u001b[0;34m\u001b[0m\u001b[0m\n\u001b[0m\u001b[1;32m    866\u001b[0m \u001b[0;34m\u001b[0m\u001b[0m\n\u001b[1;32m    867\u001b[0m             \u001b[0;32mfor\u001b[0m \u001b[0mk\u001b[0m\u001b[0;34m,\u001b[0m \u001b[0mdata\u001b[0m \u001b[0;32min\u001b[0m \u001b[0mzip\u001b[0m\u001b[0;34m(\u001b[0m\u001b[0mlazy_data\u001b[0m\u001b[0;34m,\u001b[0m \u001b[0mevaluated_data\u001b[0m\u001b[0;34m)\u001b[0m\u001b[0;34m:\u001b[0m\u001b[0;34m\u001b[0m\u001b[0;34m\u001b[0m\u001b[0m\n",
      "\u001b[0;32m~/miniconda3/envs/env_analys/lib/python3.8/site-packages/dask/base.py\u001b[0m in \u001b[0;36mcompute\u001b[0;34m(*args, **kwargs)\u001b[0m\n\u001b[1;32m    566\u001b[0m         \u001b[0mpostcomputes\u001b[0m\u001b[0;34m.\u001b[0m\u001b[0mappend\u001b[0m\u001b[0;34m(\u001b[0m\u001b[0mx\u001b[0m\u001b[0;34m.\u001b[0m\u001b[0m__dask_postcompute__\u001b[0m\u001b[0;34m(\u001b[0m\u001b[0;34m)\u001b[0m\u001b[0;34m)\u001b[0m\u001b[0;34m\u001b[0m\u001b[0;34m\u001b[0m\u001b[0m\n\u001b[1;32m    567\u001b[0m \u001b[0;34m\u001b[0m\u001b[0m\n\u001b[0;32m--> 568\u001b[0;31m     \u001b[0mresults\u001b[0m \u001b[0;34m=\u001b[0m \u001b[0mschedule\u001b[0m\u001b[0;34m(\u001b[0m\u001b[0mdsk\u001b[0m\u001b[0;34m,\u001b[0m \u001b[0mkeys\u001b[0m\u001b[0;34m,\u001b[0m \u001b[0;34m**\u001b[0m\u001b[0mkwargs\u001b[0m\u001b[0;34m)\u001b[0m\u001b[0;34m\u001b[0m\u001b[0;34m\u001b[0m\u001b[0m\n\u001b[0m\u001b[1;32m    569\u001b[0m     \u001b[0;32mreturn\u001b[0m \u001b[0mrepack\u001b[0m\u001b[0;34m(\u001b[0m\u001b[0;34m[\u001b[0m\u001b[0mf\u001b[0m\u001b[0;34m(\u001b[0m\u001b[0mr\u001b[0m\u001b[0;34m,\u001b[0m \u001b[0;34m*\u001b[0m\u001b[0ma\u001b[0m\u001b[0;34m)\u001b[0m \u001b[0;32mfor\u001b[0m \u001b[0mr\u001b[0m\u001b[0;34m,\u001b[0m \u001b[0;34m(\u001b[0m\u001b[0mf\u001b[0m\u001b[0;34m,\u001b[0m \u001b[0ma\u001b[0m\u001b[0;34m)\u001b[0m \u001b[0;32min\u001b[0m \u001b[0mzip\u001b[0m\u001b[0;34m(\u001b[0m\u001b[0mresults\u001b[0m\u001b[0;34m,\u001b[0m \u001b[0mpostcomputes\u001b[0m\u001b[0;34m)\u001b[0m\u001b[0;34m]\u001b[0m\u001b[0;34m)\u001b[0m\u001b[0;34m\u001b[0m\u001b[0;34m\u001b[0m\u001b[0m\n\u001b[1;32m    570\u001b[0m \u001b[0;34m\u001b[0m\u001b[0m\n",
      "\u001b[0;32m~/miniconda3/envs/env_analys/lib/python3.8/site-packages/dask/threaded.py\u001b[0m in \u001b[0;36mget\u001b[0;34m(dsk, result, cache, num_workers, pool, **kwargs)\u001b[0m\n\u001b[1;32m     77\u001b[0m             \u001b[0mpool\u001b[0m \u001b[0;34m=\u001b[0m \u001b[0mMultiprocessingPoolExecutor\u001b[0m\u001b[0;34m(\u001b[0m\u001b[0mpool\u001b[0m\u001b[0;34m)\u001b[0m\u001b[0;34m\u001b[0m\u001b[0;34m\u001b[0m\u001b[0m\n\u001b[1;32m     78\u001b[0m \u001b[0;34m\u001b[0m\u001b[0m\n\u001b[0;32m---> 79\u001b[0;31m     results = get_async(\n\u001b[0m\u001b[1;32m     80\u001b[0m         \u001b[0mpool\u001b[0m\u001b[0;34m.\u001b[0m\u001b[0msubmit\u001b[0m\u001b[0;34m,\u001b[0m\u001b[0;34m\u001b[0m\u001b[0;34m\u001b[0m\u001b[0m\n\u001b[1;32m     81\u001b[0m         \u001b[0mpool\u001b[0m\u001b[0;34m.\u001b[0m\u001b[0m_max_workers\u001b[0m\u001b[0;34m,\u001b[0m\u001b[0;34m\u001b[0m\u001b[0;34m\u001b[0m\u001b[0m\n",
      "\u001b[0;32m~/miniconda3/envs/env_analys/lib/python3.8/site-packages/dask/local.py\u001b[0m in \u001b[0;36mget_async\u001b[0;34m(submit, num_workers, dsk, result, cache, get_id, rerun_exceptions_locally, pack_exception, raise_exception, callbacks, dumps, loads, chunksize, **kwargs)\u001b[0m\n\u001b[1;32m    501\u001b[0m             \u001b[0;32mwhile\u001b[0m \u001b[0mstate\u001b[0m\u001b[0;34m[\u001b[0m\u001b[0;34m\"waiting\"\u001b[0m\u001b[0;34m]\u001b[0m \u001b[0;32mor\u001b[0m \u001b[0mstate\u001b[0m\u001b[0;34m[\u001b[0m\u001b[0;34m\"ready\"\u001b[0m\u001b[0;34m]\u001b[0m \u001b[0;32mor\u001b[0m \u001b[0mstate\u001b[0m\u001b[0;34m[\u001b[0m\u001b[0;34m\"running\"\u001b[0m\u001b[0;34m]\u001b[0m\u001b[0;34m:\u001b[0m\u001b[0;34m\u001b[0m\u001b[0;34m\u001b[0m\u001b[0m\n\u001b[1;32m    502\u001b[0m                 \u001b[0mfire_tasks\u001b[0m\u001b[0;34m(\u001b[0m\u001b[0mchunksize\u001b[0m\u001b[0;34m)\u001b[0m\u001b[0;34m\u001b[0m\u001b[0;34m\u001b[0m\u001b[0m\n\u001b[0;32m--> 503\u001b[0;31m                 \u001b[0;32mfor\u001b[0m \u001b[0mkey\u001b[0m\u001b[0;34m,\u001b[0m \u001b[0mres_info\u001b[0m\u001b[0;34m,\u001b[0m \u001b[0mfailed\u001b[0m \u001b[0;32min\u001b[0m \u001b[0mqueue_get\u001b[0m\u001b[0;34m(\u001b[0m\u001b[0mqueue\u001b[0m\u001b[0;34m)\u001b[0m\u001b[0;34m.\u001b[0m\u001b[0mresult\u001b[0m\u001b[0;34m(\u001b[0m\u001b[0;34m)\u001b[0m\u001b[0;34m:\u001b[0m\u001b[0;34m\u001b[0m\u001b[0;34m\u001b[0m\u001b[0m\n\u001b[0m\u001b[1;32m    504\u001b[0m                     \u001b[0;32mif\u001b[0m \u001b[0mfailed\u001b[0m\u001b[0;34m:\u001b[0m\u001b[0;34m\u001b[0m\u001b[0;34m\u001b[0m\u001b[0m\n\u001b[1;32m    505\u001b[0m                         \u001b[0mexc\u001b[0m\u001b[0;34m,\u001b[0m \u001b[0mtb\u001b[0m \u001b[0;34m=\u001b[0m \u001b[0mloads\u001b[0m\u001b[0;34m(\u001b[0m\u001b[0mres_info\u001b[0m\u001b[0;34m)\u001b[0m\u001b[0;34m\u001b[0m\u001b[0;34m\u001b[0m\u001b[0m\n",
      "\u001b[0;32m~/miniconda3/envs/env_analys/lib/python3.8/site-packages/dask/local.py\u001b[0m in \u001b[0;36mqueue_get\u001b[0;34m(q)\u001b[0m\n\u001b[1;32m    132\u001b[0m \u001b[0;34m\u001b[0m\u001b[0m\n\u001b[1;32m    133\u001b[0m     \u001b[0;32mdef\u001b[0m \u001b[0mqueue_get\u001b[0m\u001b[0;34m(\u001b[0m\u001b[0mq\u001b[0m\u001b[0;34m)\u001b[0m\u001b[0;34m:\u001b[0m\u001b[0;34m\u001b[0m\u001b[0;34m\u001b[0m\u001b[0m\n\u001b[0;32m--> 134\u001b[0;31m         \u001b[0;32mreturn\u001b[0m \u001b[0mq\u001b[0m\u001b[0;34m.\u001b[0m\u001b[0mget\u001b[0m\u001b[0;34m(\u001b[0m\u001b[0;34m)\u001b[0m\u001b[0;34m\u001b[0m\u001b[0;34m\u001b[0m\u001b[0m\n\u001b[0m\u001b[1;32m    135\u001b[0m \u001b[0;34m\u001b[0m\u001b[0m\n\u001b[1;32m    136\u001b[0m \u001b[0;34m\u001b[0m\u001b[0m\n",
      "\u001b[0;32m~/miniconda3/envs/env_analys/lib/python3.8/queue.py\u001b[0m in \u001b[0;36mget\u001b[0;34m(self, block, timeout)\u001b[0m\n\u001b[1;32m    168\u001b[0m             \u001b[0;32melif\u001b[0m \u001b[0mtimeout\u001b[0m \u001b[0;32mis\u001b[0m \u001b[0;32mNone\u001b[0m\u001b[0;34m:\u001b[0m\u001b[0;34m\u001b[0m\u001b[0;34m\u001b[0m\u001b[0m\n\u001b[1;32m    169\u001b[0m                 \u001b[0;32mwhile\u001b[0m \u001b[0;32mnot\u001b[0m \u001b[0mself\u001b[0m\u001b[0;34m.\u001b[0m\u001b[0m_qsize\u001b[0m\u001b[0;34m(\u001b[0m\u001b[0;34m)\u001b[0m\u001b[0;34m:\u001b[0m\u001b[0;34m\u001b[0m\u001b[0;34m\u001b[0m\u001b[0m\n\u001b[0;32m--> 170\u001b[0;31m                     \u001b[0mself\u001b[0m\u001b[0;34m.\u001b[0m\u001b[0mnot_empty\u001b[0m\u001b[0;34m.\u001b[0m\u001b[0mwait\u001b[0m\u001b[0;34m(\u001b[0m\u001b[0;34m)\u001b[0m\u001b[0;34m\u001b[0m\u001b[0;34m\u001b[0m\u001b[0m\n\u001b[0m\u001b[1;32m    171\u001b[0m             \u001b[0;32melif\u001b[0m \u001b[0mtimeout\u001b[0m \u001b[0;34m<\u001b[0m \u001b[0;36m0\u001b[0m\u001b[0;34m:\u001b[0m\u001b[0;34m\u001b[0m\u001b[0;34m\u001b[0m\u001b[0m\n\u001b[1;32m    172\u001b[0m                 \u001b[0;32mraise\u001b[0m \u001b[0mValueError\u001b[0m\u001b[0;34m(\u001b[0m\u001b[0;34m\"'timeout' must be a non-negative number\"\u001b[0m\u001b[0;34m)\u001b[0m\u001b[0;34m\u001b[0m\u001b[0;34m\u001b[0m\u001b[0m\n",
      "\u001b[0;32m~/miniconda3/envs/env_analys/lib/python3.8/threading.py\u001b[0m in \u001b[0;36mwait\u001b[0;34m(self, timeout)\u001b[0m\n\u001b[1;32m    300\u001b[0m         \u001b[0;32mtry\u001b[0m\u001b[0;34m:\u001b[0m    \u001b[0;31m# restore state no matter what (e.g., KeyboardInterrupt)\u001b[0m\u001b[0;34m\u001b[0m\u001b[0;34m\u001b[0m\u001b[0m\n\u001b[1;32m    301\u001b[0m             \u001b[0;32mif\u001b[0m \u001b[0mtimeout\u001b[0m \u001b[0;32mis\u001b[0m \u001b[0;32mNone\u001b[0m\u001b[0;34m:\u001b[0m\u001b[0;34m\u001b[0m\u001b[0;34m\u001b[0m\u001b[0m\n\u001b[0;32m--> 302\u001b[0;31m                 \u001b[0mwaiter\u001b[0m\u001b[0;34m.\u001b[0m\u001b[0macquire\u001b[0m\u001b[0;34m(\u001b[0m\u001b[0;34m)\u001b[0m\u001b[0;34m\u001b[0m\u001b[0;34m\u001b[0m\u001b[0m\n\u001b[0m\u001b[1;32m    303\u001b[0m                 \u001b[0mgotit\u001b[0m \u001b[0;34m=\u001b[0m \u001b[0;32mTrue\u001b[0m\u001b[0;34m\u001b[0m\u001b[0;34m\u001b[0m\u001b[0m\n\u001b[1;32m    304\u001b[0m             \u001b[0;32melse\u001b[0m\u001b[0;34m:\u001b[0m\u001b[0;34m\u001b[0m\u001b[0;34m\u001b[0m\u001b[0m\n",
      "\u001b[0;31mKeyboardInterrupt\u001b[0m: "
     ]
    }
   ],
   "source": [
    "ds_mod.compute()"
   ]
  },
  {
   "cell_type": "code",
   "execution_count": null,
   "id": "8ae55f8b-4a27-41df-b1d1-f607699dae4c",
   "metadata": {
    "tags": []
   },
   "outputs": [],
   "source": [
    "ds_mod.load()"
   ]
  },
  {
   "cell_type": "markdown",
   "id": "7ed8d0c7-7da0-4fc0-88dc-7708aff18d42",
   "metadata": {},
   "source": [
    "Somehow unsorted"
   ]
  },
  {
   "cell_type": "code",
   "execution_count": null,
   "id": "338cf3a8-781c-4b81-b4d4-5777e99c2960",
   "metadata": {},
   "outputs": [],
   "source": [
    "ds_all = ds_mod"
   ]
  },
  {
   "cell_type": "code",
   "execution_count": null,
   "id": "efd005cd-7d5a-4bb1-a656-a05e982fc9ff",
   "metadata": {},
   "outputs": [],
   "source": [
    "ds_all[varl]"
   ]
  },
  {
   "cell_type": "markdown",
   "id": "91f4ef95-993b-441a-b473-3d14cf43d3c5",
   "metadata": {
    "tags": []
   },
   "source": [
    "### Select hyytiala grid cell: "
   ]
  },
  {
   "cell_type": "markdown",
   "id": "8f813315-ad37-4a8a-b683-00ec15768ed5",
   "metadata": {},
   "source": [
    "We use only hyytiala for org etc, but all grid cells over finland for cloud properties"
   ]
  },
  {
   "cell_type": "markdown",
   "id": "e1f80246-7c58-4ffc-a24a-981235c390c3",
   "metadata": {},
   "source": [
    "ds_mod['TOT_ICLD_VISTAU_s']= ds_mod['TOT_ICLD_VISTAU'].sum('lev')\n",
    "ds_mod['TOT_CLD_VISTAU_s']= ds_mod['TOT_CLD_VISTAU'].sum('lev')\n"
   ]
  },
  {
   "cell_type": "markdown",
   "id": "494b4def-d03b-450e-84c4-a49b2905bd39",
   "metadata": {},
   "source": [
    "model_lev_i=-1\n",
    "ds_sel = ds_mod.sel(lat = lat_smr, lon= lon_smr, method='nearest').isel( lev=model_lev_i)#.load()\n",
    "ds_all = ds_mod.isel(lev=model_lev_i)#.load()\n",
    "\n",
    "#ds_sel.load()\n",
    "#ds_all.load()"
   ]
  },
  {
   "cell_type": "markdown",
   "id": "6398c29b-0b41-433a-ab04-38da51dcda6f",
   "metadata": {},
   "source": [
    "ds_all.to_netcdf(fn_comb_lev1)"
   ]
  },
  {
   "cell_type": "code",
   "execution_count": null,
   "id": "390481ef-4a88-4656-b630-7162002ac531",
   "metadata": {},
   "outputs": [],
   "source": [
    "model_lev_i=-1"
   ]
  },
  {
   "cell_type": "markdown",
   "id": "a9c209f3-0d11-484d-a2bc-ff6aba6cbd4e",
   "metadata": {
    "lines_to_next_cell": 2
   },
   "source": [
    "ds_all = xr.open_dataset(fn_comb_lev1).isel(ilev=model_lev_i)\n",
    "ds_sel = ds_all.sel(lat = lat_smr, lon= lon_smr, method='nearest')#.isel( ilev=model_lev_i)#.load()"
   ]
  },
  {
   "cell_type": "code",
   "execution_count": null,
   "id": "d92bb3e7-f0d5-42a4-8627-414eafef8975",
   "metadata": {},
   "outputs": [],
   "source": [
    "ds_mod = ds_all"
   ]
  },
  {
   "cell_type": "code",
   "execution_count": null,
   "id": "098b8708-1232-435a-bee9-a564633adac5",
   "metadata": {},
   "outputs": [],
   "source": [
    "ds_all['ACTNL'].isel(lat=0).plot()"
   ]
  },
  {
   "cell_type": "code",
   "execution_count": null,
   "id": "4b9cb6f3-c518-43b8-83ba-0533d0cdec0d",
   "metadata": {},
   "outputs": [],
   "source": [
    "dic_ds=dict()\n",
    "dic_ds[case_name]= ds_mod"
   ]
  },
  {
   "cell_type": "markdown",
   "id": "ae7d70c8-c77c-43d0-be6a-ea6891262d2a",
   "metadata": {},
   "source": [
    "### Broadcast ds_sel to same grid "
   ]
  },
  {
   "cell_type": "markdown",
   "id": "d9530ba1-4ea6-494a-b224-0277e638fb5e",
   "metadata": {},
   "source": [
    "Copying the same for as hyytiala for all grid cells for the station variables (st measurements) "
   ]
  },
  {
   "cell_type": "code",
   "execution_count": null,
   "id": "49afcbaf-6124-421b-a64e-cea8b5563c3c",
   "metadata": {},
   "outputs": [],
   "source": [
    "ds_all = ds_all.isel(ilev=-1,cosp_tau_modis=0,  \n",
    "                                                                        cosp_tau=0,\n",
    "                                                                       cosp_dbze=0,\n",
    "                                                                        cosp_ht=0, \n",
    "                                                                        cosp_prs = 0,\n",
    "                                                                       cosp_reffice=0,\n",
    "                                                                        cosp_htmisr=0,\n",
    "                                                                        cosp_reffliq=0,\n",
    "                                                                        cosp_scol=0,\n",
    "                                                                        cosp_sr=0,\n",
    "                                                                        cosp_sza=0,\n",
    "                                                                        nbnd=0\n",
    "                                                                       ).squeeze()"
   ]
  },
  {
   "cell_type": "code",
   "execution_count": null,
   "id": "4c11a7d0-3af5-414a-80bd-326e19c7d5ef",
   "metadata": {},
   "outputs": [],
   "source": [
    "ds_sel = ds_all.sel(lat = lat_smr, lon= lon_smr, method='nearest')"
   ]
  },
  {
   "cell_type": "code",
   "execution_count": null,
   "id": "62277aca-4132-49f7-913a-a597f8ce4105",
   "metadata": {},
   "outputs": [],
   "source": [
    "ds_all#.squeeze()"
   ]
  },
  {
   "cell_type": "code",
   "execution_count": null,
   "id": "cb4b7a2e-230b-4b27-96cf-612cf4984e00",
   "metadata": {},
   "outputs": [],
   "source": [
    "ds_all "
   ]
  },
  {
   "cell_type": "code",
   "execution_count": null,
   "id": "eb7a51cf-ead3-480b-9ac7-ab5fa49ec188",
   "metadata": {
    "lines_to_next_cell": 2
   },
   "outputs": [],
   "source": [
    "ds_1, ds_2 =xr.broadcast(ds_sel, ds_all)\n",
    "for v in varl_st:\n",
    "    ds_all[v] = ds_1[v]"
   ]
  },
  {
   "cell_type": "code",
   "execution_count": null,
   "id": "fb5f2d24-65be-43da-8c89-1e558af5202e",
   "metadata": {
    "tags": []
   },
   "outputs": [],
   "source": [
    "ds_all"
   ]
  },
  {
   "cell_type": "markdown",
   "id": "9db63d17-4833-4703-b843-10ed9e4e9492",
   "metadata": {},
   "source": [
    "### Set dic_ds : "
   ]
  },
  {
   "cell_type": "code",
   "execution_count": null,
   "id": "974f7632-0a52-46fc-94fd-b8b35c09a5dd",
   "metadata": {},
   "outputs": [],
   "source": [
    "dic_ds = dict()\n",
    "dic_ds[case_name] =ds_all"
   ]
  },
  {
   "cell_type": "markdown",
   "id": "0cf4a837-f015-4ade-85a5-91fa1a45b419",
   "metadata": {},
   "source": [
    "Constants:"
   ]
  },
  {
   "cell_type": "code",
   "execution_count": null,
   "id": "20964708-5e03-4efc-aedc-48e8da1e6314",
   "metadata": {},
   "outputs": [],
   "source": [
    "R = 287.058\n",
    "pressure = 1000. #hPa\n",
    "kg2ug = 1e9"
   ]
  },
  {
   "cell_type": "code",
   "execution_count": null,
   "id": "349802ec-f5b6-4ba0-a0cc-8a42ba954194",
   "metadata": {
    "tags": []
   },
   "outputs": [],
   "source": [
    "ds_all.load()"
   ]
  },
  {
   "cell_type": "code",
   "execution_count": null,
   "id": "16ba0dce-5b6e-41fd-a100-855f2f276685",
   "metadata": {},
   "outputs": [],
   "source": [
    "def get_dic_df_mod(model_lev_i=-1):\n",
    "    \n",
    "\n",
    "\n",
    "    dic_df = dict()\n",
    "    dic_df_sm = dict()\n",
    "\n",
    "    for ca in dic_ds.keys():\n",
    "        ds = dic_ds[ca]\n",
    "        #ds['TOT_ICLD_VISTAU_s']= ds['TOT_ICLD_VISTAU'].sum('lev')\n",
    "        #ds['TOT_CLD_VISTAU_s']= ds['TOT_CLD_VISTAU'].sum('lev')\n",
    "        for v in ['TGCLDLWP','TGCLDIWP','TGCLDCWP']:\n",
    "            if v in ds.data_vars:\n",
    "                if ds[v].attrs['units'] =='kg/m2':\n",
    "                    ds[v] = ds[v]*1000\n",
    "                    ds[v].attrs['units'] = 'g/m2'\n",
    "                \n",
    "        \n",
    "        ds_sel = ds.sel(lat = lat_smr, lon= lon_smr, method='nearest')#.isel( lev=model_lev_i)\n",
    "\n",
    "        ds_all = ds#.isel(lev=model_lev_i)\n",
    "        #ds_sel =ds_sel[varl_st]\n",
    "        ds_1, ds_2 =xr.broadcast(ds_sel, ds_all)\n",
    "        for v in varl_st:\n",
    "            ds_all[v] = ds_1[v]\n",
    "        ds_sel = ds_all\n",
    "        print(ds_all)\n",
    "        \n",
    "        rho = pressure*100/(R*ds_sel['T'])\n",
    "\n",
    "        ds_sel['rho'] = rho\n",
    "        ds_sel['ACTNL_incld'] = ds_sel['ACTNL']/ds_sel['FCTL']\n",
    "        ds_sel['ACTREL_incld'] = ds_sel['ACTREL']/ds_sel['FCTL']\n",
    "\n",
    "        ds_sel['ACTNL_incld'].plot()\n",
    "\n",
    "        ds_sel_median = ds_sel.resample({'time':'D'}).median()\n",
    "\n",
    "\n",
    "        #df = ds_sel_median.to_dataframe()\n",
    "\n",
    "        ls_so4 = [c for c in ds_sel_median.data_vars if 'SO4_' in c]#['SO4_NA']\n",
    "\n",
    "        ls_so4\n",
    "\n",
    "        for s in ['SOA_NA','SOA_A1','OM_AC','OM_AI','OM_NI']+ls_so4:\n",
    "            un = '$\\micro$g/m3'\n",
    "            if ds_sel_median[s].attrs['units']!=un:\n",
    "                ds_sel_median[s] = ds_sel_median[s]*ds_sel_median['rho']*kg2ug\n",
    "                ds_sel_median[s].attrs['units']=un\n",
    "        #ds_sel_med= ds_sel_median.resample(time='D').median()\n",
    "\n",
    "        df = ds_sel_median.to_dataframe()\n",
    "        df = df.drop([co for co in df.columns if (('lat_' in co)|('lon_' in co))], \n",
    "                     axis=1)\n",
    "\n",
    "        df['SOA'] = df['SOA_NA'] + df['SOA_A1']\n",
    "\n",
    "        df['OA'] = df['SOA_NA'] + df['SOA_A1'] +df['OM_AC']+df['OM_AI']+df['OM_NI']\n",
    "        df['POA'] = df['OM_AC']+df['OM_AI']+df['OM_NI']\n",
    "    \n",
    "        df['SO4']=0\n",
    "        for s in ls_so4:\n",
    "            print(s)\n",
    "            \n",
    "            print(df[s].mean())\n",
    "            df['SO4'] = df['SO4'] + df[s]\n",
    "        \n",
    "        df['ACTNL_incld'] = df['ACTNL']/df['FCTL']\n",
    "        df['ACTREL_incld'] = df['ACTREL']/df['FCTL']\n",
    "        \n",
    "    \n",
    "        df_daily = df#.resample('D').median()\n",
    "\n",
    "        months = (df.index.get_level_values(0).month==7 )|(df.index.get_level_values(0).month==8  )\n",
    "\n",
    "        df_s = df_daily[months]\n",
    "        df_s.loc[:,'year'] = df_s.index.get_level_values(0).year.values\n",
    "\n",
    "        df_s.loc[:,'T_C'] = df_s['T'].values-273.15\n",
    "        #df_s.index = df_s.index.rename('date')\n",
    "        df_merge = df_s#pd.merge(df_s, df_hyy_1, right_on='date', left_on='date')\n",
    "        \n",
    "        df_merge['year'] = df_merge.index.get_level_values(0).year\n",
    "\n",
    "        \n",
    "        dic_df[ca] = df_merge\n",
    "        print(ca)\n",
    "    \n",
    "        months = (df.index.get_level_values(0).month==7 )|(df.index.get_level_values(0).month==8  )\n",
    "\n",
    "        df_s = df[months]\n",
    "        ds_month_mask = ds_sel.where((ds_sel['time.month']==7) | (ds_sel['time.month']==8))\n",
    "        ds_sel_med_y= ds_month_mask.resample(time='Y').median()\n",
    "        df_ym =ds_sel_med_y.to_dataframe()\n",
    "        #df_ym = df_s.resample('Y').median()\n",
    "        #df_ym.loc[:,'year'] = df_ym.index.year.values\n",
    "\n",
    "        df_ym.loc[:,'T_C'] = df_ym['T'].values-273.15\n",
    "        \n",
    "        dic_df_sm[ca] = df_merge\n",
    "        print(ca)\n",
    "\n",
    "    return dic_df_sm, dic_df\n",
    "\n",
    "\n",
    "dic_df_sm, dic_df = get_dic_df_mod(model_lev_i=-1)"
   ]
  },
  {
   "cell_type": "code",
   "execution_count": null,
   "id": "52ea9ec9-3dea-4f3b-a5ff-0d5a9ce56213",
   "metadata": {
    "tags": []
   },
   "outputs": [],
   "source": [
    "dic_df_sm[case_name].columns"
   ]
  },
  {
   "cell_type": "code",
   "execution_count": null,
   "id": "ed8f00b5-3adc-412c-a574-e77cb69dbee5",
   "metadata": {
    "lines_to_next_cell": 2,
    "tags": []
   },
   "outputs": [],
   "source": [
    "df_mod = dic_df_sm[case_name]"
   ]
  },
  {
   "cell_type": "code",
   "execution_count": null,
   "id": "7291b750-4a12-4a60-9b57-7f941d379534",
   "metadata": {},
   "outputs": [],
   "source": [
    "df_mod.index.get_level_values(1)"
   ]
  },
  {
   "cell_type": "code",
   "execution_count": null,
   "id": "107a20c2-b4ad-453a-97cc-12b353eb1263",
   "metadata": {},
   "outputs": [],
   "source": [
    "mask_liq_cloudtop = df_mod['FCTL']>0.0001"
   ]
  },
  {
   "cell_type": "code",
   "execution_count": null,
   "id": "c308b593-f635-4147-a661-8dccc1c54d0d",
   "metadata": {},
   "outputs": [],
   "source": [
    "df_mod['mask_liq_cloudtop'] = mask_liq_cloudtop"
   ]
  },
  {
   "cell_type": "code",
   "execution_count": null,
   "id": "7d061961-7d75-44d0-b8e1-1b1d92b1c9ab",
   "metadata": {
    "lines_to_next_cell": 2,
    "tags": []
   },
   "outputs": [],
   "source": [
    "sel_latlon = (df_mod.index.get_level_values(2)==27.5)&(df_mod.index.get_level_values(1)==61.57894736842104)\n",
    "\n",
    "df_mod[sel_latlon].reset_index().set_index('time')['TGCLDLWP'].plot()"
   ]
  },
  {
   "cell_type": "code",
   "execution_count": 97,
   "id": "955c7c05-db1d-4608-9599-0aa7971a1c46",
   "metadata": {
    "lines_to_next_cell": 2
   },
   "outputs": [
    {
     "data": {
      "text/plain": [
       "<AxesSubplot:xlabel='time'>"
      ]
     },
     "execution_count": 97,
     "metadata": {},
     "output_type": "execute_result"
    },
    {
     "data": {
      "image/png": "[encoded data removed]",
      "text/plain": [
       "<Figure size 432x288 with 1 Axes>"
      ]
     },
     "metadata": {
      "needs_background": "light"
     },
     "output_type": "display_data"
    }
   ],
   "source": [
    "df_mod[mask_liq_cloudtop].reset_index().set_index('time')['FCTL'].plot()#ylim=[-.0,.01])"
   ]
  },
  {
   "cell_type": "markdown",
   "id": "907b159f-96ea-4d77-a061-6fa4a7639024",
   "metadata": {},
   "source": [
    "#### Mask values that don't have cloud top liquid"
   ]
  },
  {
   "cell_type": "code",
   "execution_count": 98,
   "id": "a3d01b25-2ad5-4a58-880a-1a252458f19e",
   "metadata": {},
   "outputs": [],
   "source": [
    "df_mod = df_mod[df_mod['mask_liq_cloudtop']]"
   ]
  },
  {
   "cell_type": "code",
   "execution_count": 99,
   "id": "99c2464a-d9b4-4a71-bbbd-9f849f8ecf9a",
   "metadata": {},
   "outputs": [
    {
     "name": "stderr",
     "output_type": "stream",
     "text": [
      "/tmp/ipykernel_6942/3249190625.py:1: SettingWithCopyWarning: \n",
      "A value is trying to be set on a copy of a slice from a DataFrame.\n",
      "Try using .loc[row_indexer,col_indexer] = value instead\n",
      "\n",
      "See the caveats in the documentation: https://pandas.pydata.org/pandas-docs/stable/user_guide/indexing.html#returning-a-view-versus-a-copy\n",
      "  df_mod['CWP_qcut']=pd.qcut(df_mod['TGCLDLWP'],6)# bins=bins, labels=labels)§\n",
      "/tmp/ipykernel_6942/3249190625.py:3: SettingWithCopyWarning: \n",
      "A value is trying to be set on a copy of a slice from a DataFrame.\n",
      "Try using .loc[row_indexer,col_indexer] = value instead\n",
      "\n",
      "See the caveats in the documentation: https://pandas.pydata.org/pandas-docs/stable/user_guide/indexing.html#returning-a-view-versus-a-copy\n",
      "  df_mod['CWP_qcutl'] = df_mod['CWP_qcut'].apply(lambda x:x.mid)\n"
     ]
    }
   ],
   "source": [
    "df_mod['CWP_qcut']=pd.qcut(df_mod['TGCLDLWP'],6)# bins=bins, labels=labels)§\n",
    "\n",
    "df_mod['CWP_qcutl'] = df_mod['CWP_qcut'].apply(lambda x:x.mid)\n",
    "\n"
   ]
  },
  {
   "cell_type": "code",
   "execution_count": 100,
   "id": "ce9839b8-9caa-4ab2-b386-2f1f094e6611",
   "metadata": {},
   "outputs": [
    {
     "name": "stderr",
     "output_type": "stream",
     "text": [
      "/tmp/ipykernel_6942/826289808.py:4: SettingWithCopyWarning: \n",
      "A value is trying to be set on a copy of a slice from a DataFrame.\n",
      "Try using .loc[row_indexer,col_indexer] = value instead\n",
      "\n",
      "See the caveats in the documentation: https://pandas.pydata.org/pandas-docs/stable/user_guide/indexing.html#returning-a-view-versus-a-copy\n",
      "  df_mod['CWP_cut']=pd.cut(df_mod['TGCLDLWP'], bins=bins)#, labels=labels)\n",
      "/tmp/ipykernel_6942/826289808.py:6: SettingWithCopyWarning: \n",
      "A value is trying to be set on a copy of a slice from a DataFrame.\n",
      "Try using .loc[row_indexer,col_indexer] = value instead\n",
      "\n",
      "See the caveats in the documentation: https://pandas.pydata.org/pandas-docs/stable/user_guide/indexing.html#returning-a-view-versus-a-copy\n",
      "  df_mod['CWP_cutl'] = df_mod['CWP_cut'].apply(lambda x:x.mid)\n"
     ]
    }
   ],
   "source": [
    "bins = pd.IntervalIndex.from_breaks([ 10,  30,  50,  70, 90, 110, 130,500])\n",
    "\n",
    "\n",
    "df_mod['CWP_cut']=pd.cut(df_mod['TGCLDLWP'], bins=bins)#, labels=labels)\n",
    "\n",
    "df_mod['CWP_cutl'] = df_mod['CWP_cut'].apply(lambda x:x.mid)"
   ]
  },
  {
   "cell_type": "markdown",
   "id": "4d5c886f-8a38-44b6-b96c-7ab50ad067d5",
   "metadata": {},
   "source": [
    "## Category of OA concentration"
   ]
  },
  {
   "cell_type": "code",
   "execution_count": 101,
   "id": "6c18c8c9-e8a3-43d8-b908-55cd7879f3a1",
   "metadata": {},
   "outputs": [
    {
     "name": "stderr",
     "output_type": "stream",
     "text": [
      "/tmp/ipykernel_6942/1026901322.py:1: SettingWithCopyWarning: \n",
      "A value is trying to be set on a copy of a slice from a DataFrame.\n",
      "Try using .loc[row_indexer,col_indexer] = value instead\n",
      "\n",
      "See the caveats in the documentation: https://pandas.pydata.org/pandas-docs/stable/user_guide/indexing.html#returning-a-view-versus-a-copy\n",
      "  df_mod['OA_low'] = df_mod['OA']<df_mod['OA'].quantile(.34)\n",
      "/tmp/ipykernel_6942/1026901322.py:2: SettingWithCopyWarning: \n",
      "A value is trying to be set on a copy of a slice from a DataFrame.\n",
      "Try using .loc[row_indexer,col_indexer] = value instead\n",
      "\n",
      "See the caveats in the documentation: https://pandas.pydata.org/pandas-docs/stable/user_guide/indexing.html#returning-a-view-versus-a-copy\n",
      "  df_mod['OA_high']= df_mod['OA']>df_mod['OA'].quantile(.66)\n"
     ]
    }
   ],
   "source": [
    "df_mod['OA_low'] = df_mod['OA']<df_mod['OA'].quantile(.34)\n",
    "df_mod['OA_high']= df_mod['OA']>df_mod['OA'].quantile(.66)"
   ]
  },
  {
   "cell_type": "code",
   "execution_count": 102,
   "id": "fa5b0651-8993-4b0b-9c7b-ad9023513c5c",
   "metadata": {
    "lines_to_next_cell": 2
   },
   "outputs": [
    {
     "name": "stderr",
     "output_type": "stream",
     "text": [
      "/tmp/ipykernel_6942/1710207095.py:3: SettingWithCopyWarning: \n",
      "A value is trying to be set on a copy of a slice from a DataFrame.\n",
      "Try using .loc[row_indexer,col_indexer] = value instead\n",
      "\n",
      "See the caveats in the documentation: https://pandas.pydata.org/pandas-docs/stable/user_guide/indexing.html#returning-a-view-versus-a-copy\n",
      "  df_mod['OA_mid_range'] = mid_range\n"
     ]
    }
   ],
   "source": [
    "#df_mod['OA_low'].loc[:,:] = df_mod['OA']<df_mod['OA'].quantile(.34)\n",
    "mid_range = ( df_mod['OA'].quantile(.34)<df_mod['OA']) & (df_mod['OA']<df_mod['OA'].quantile(.66))\n",
    "df_mod['OA_mid_range'] = mid_range"
   ]
  },
  {
   "cell_type": "code",
   "execution_count": 103,
   "id": "68cb8250-b495-414b-9efe-2a58c0c53ff8",
   "metadata": {},
   "outputs": [],
   "source": [
    "\n",
    "df_mod=df_mod.assign(OA_category= pd.NA)\n",
    "df_mod.loc[df_mod['OA_high'], 'OA_category'] = 'OA high'\n",
    "df_mod.loc[df_mod['OA_low'], 'OA_category'] = 'OA low'\n",
    "\n"
   ]
  },
  {
   "cell_type": "code",
   "execution_count": 104,
   "id": "de082f9f-6e9a-468b-a96b-bf08b209d8fb",
   "metadata": {},
   "outputs": [
    {
     "data": {
      "text/html": [
       "<div>\n",
       "<style scoped>\n",
       "    .dataframe tbody tr th:only-of-type {\n",
       "        vertical-align: middle;\n",
       "    }\n",
       "\n",
       "    .dataframe tbody tr th {\n",
       "        vertical-align: top;\n",
       "    }\n",
       "\n",
       "    .dataframe thead th {\n",
       "        text-align: right;\n",
       "    }\n",
       "</style>\n",
       "<table border=\"1\" class=\"dataframe\">\n",
       "  <thead>\n",
       "    <tr style=\"text-align: right;\">\n",
       "      <th></th>\n",
       "      <th></th>\n",
       "      <th></th>\n",
       "      <th>ABSVIS</th>\n",
       "      <th>ACTNI</th>\n",
       "      <th>ACTNL</th>\n",
       "      <th>ACTREI</th>\n",
       "      <th>ACTREL</th>\n",
       "      <th>AEROD_v</th>\n",
       "      <th>AOD_VIS</th>\n",
       "      <th>AREL</th>\n",
       "      <th>ASYMMDRY</th>\n",
       "      <th>AWNC</th>\n",
       "      <th>...</th>\n",
       "      <th>T_C</th>\n",
       "      <th>mask_liq_cloudtop</th>\n",
       "      <th>CWP_qcut</th>\n",
       "      <th>CWP_qcutl</th>\n",
       "      <th>CWP_cut</th>\n",
       "      <th>CWP_cutl</th>\n",
       "      <th>OA_low</th>\n",
       "      <th>OA_high</th>\n",
       "      <th>OA_mid_range</th>\n",
       "      <th>OA_category</th>\n",
       "    </tr>\n",
       "    <tr>\n",
       "      <th>time</th>\n",
       "      <th>lat</th>\n",
       "      <th>lon</th>\n",
       "      <th></th>\n",
       "      <th></th>\n",
       "      <th></th>\n",
       "      <th></th>\n",
       "      <th></th>\n",
       "      <th></th>\n",
       "      <th></th>\n",
       "      <th></th>\n",
       "      <th></th>\n",
       "      <th></th>\n",
       "      <th></th>\n",
       "      <th></th>\n",
       "      <th></th>\n",
       "      <th></th>\n",
       "      <th></th>\n",
       "      <th></th>\n",
       "      <th></th>\n",
       "      <th></th>\n",
       "      <th></th>\n",
       "      <th></th>\n",
       "      <th></th>\n",
       "    </tr>\n",
       "  </thead>\n",
       "  <tbody>\n",
       "    <tr>\n",
       "      <th>2012-07-01</th>\n",
       "      <th>65.368421</th>\n",
       "      <th>25.0</th>\n",
       "      <td>0.002457</td>\n",
       "      <td>4.227927</td>\n",
       "      <td>1.418949e+04</td>\n",
       "      <td>0.401859</td>\n",
       "      <td>0.055691</td>\n",
       "      <td>NaN</td>\n",
       "      <td>0.086656</td>\n",
       "      <td>0.0</td>\n",
       "      <td>0.647944</td>\n",
       "      <td>0.0</td>\n",
       "      <td>...</td>\n",
       "      <td>18.852417</td>\n",
       "      <td>True</td>\n",
       "      <td>(11.058, 32.049]</td>\n",
       "      <td>21.5535</td>\n",
       "      <td>(10.0, 30.0]</td>\n",
       "      <td>20.0</td>\n",
       "      <td>False</td>\n",
       "      <td>False</td>\n",
       "      <td>True</td>\n",
       "      <td>&lt;NA&gt;</td>\n",
       "    </tr>\n",
       "    <tr>\n",
       "      <th>2012-07-14</th>\n",
       "      <th>65.368421</th>\n",
       "      <th>25.0</th>\n",
       "      <td>0.002038</td>\n",
       "      <td>40.897545</td>\n",
       "      <td>3.809550e+04</td>\n",
       "      <td>0.945163</td>\n",
       "      <td>0.081165</td>\n",
       "      <td>NaN</td>\n",
       "      <td>0.046543</td>\n",
       "      <td>0.0</td>\n",
       "      <td>0.615721</td>\n",
       "      <td>0.0</td>\n",
       "      <td>...</td>\n",
       "      <td>17.097900</td>\n",
       "      <td>True</td>\n",
       "      <td>(1.066, 11.058]</td>\n",
       "      <td>6.0620</td>\n",
       "      <td>NaN</td>\n",
       "      <td>NaN</td>\n",
       "      <td>True</td>\n",
       "      <td>False</td>\n",
       "      <td>False</td>\n",
       "      <td>OA low</td>\n",
       "    </tr>\n",
       "    <tr>\n",
       "      <th>2012-07-21</th>\n",
       "      <th>65.368421</th>\n",
       "      <th>25.0</th>\n",
       "      <td>0.001371</td>\n",
       "      <td>0.000000</td>\n",
       "      <td>8.877408e+05</td>\n",
       "      <td>0.000000</td>\n",
       "      <td>1.133685</td>\n",
       "      <td>NaN</td>\n",
       "      <td>0.033576</td>\n",
       "      <td>0.0</td>\n",
       "      <td>0.641800</td>\n",
       "      <td>0.0</td>\n",
       "      <td>...</td>\n",
       "      <td>12.361542</td>\n",
       "      <td>True</td>\n",
       "      <td>(32.049, 64.857]</td>\n",
       "      <td>48.4530</td>\n",
       "      <td>(30.0, 50.0]</td>\n",
       "      <td>40.0</td>\n",
       "      <td>True</td>\n",
       "      <td>False</td>\n",
       "      <td>False</td>\n",
       "      <td>OA low</td>\n",
       "    </tr>\n",
       "    <tr>\n",
       "      <th>2012-07-24</th>\n",
       "      <th>65.368421</th>\n",
       "      <th>25.0</th>\n",
       "      <td>0.002165</td>\n",
       "      <td>0.000000</td>\n",
       "      <td>4.413432e+05</td>\n",
       "      <td>0.000000</td>\n",
       "      <td>0.190835</td>\n",
       "      <td>NaN</td>\n",
       "      <td>0.075215</td>\n",
       "      <td>0.0</td>\n",
       "      <td>0.655297</td>\n",
       "      <td>0.0</td>\n",
       "      <td>...</td>\n",
       "      <td>18.355621</td>\n",
       "      <td>True</td>\n",
       "      <td>(1.066, 11.058]</td>\n",
       "      <td>6.0620</td>\n",
       "      <td>NaN</td>\n",
       "      <td>NaN</td>\n",
       "      <td>False</td>\n",
       "      <td>False</td>\n",
       "      <td>True</td>\n",
       "      <td>&lt;NA&gt;</td>\n",
       "    </tr>\n",
       "    <tr>\n",
       "      <th>2012-08-10</th>\n",
       "      <th>65.368421</th>\n",
       "      <th>25.0</th>\n",
       "      <td>0.001949</td>\n",
       "      <td>0.000000</td>\n",
       "      <td>4.464656e+07</td>\n",
       "      <td>0.000000</td>\n",
       "      <td>6.942228</td>\n",
       "      <td>NaN</td>\n",
       "      <td>0.052140</td>\n",
       "      <td>0.0</td>\n",
       "      <td>0.682081</td>\n",
       "      <td>0.0</td>\n",
       "      <td>...</td>\n",
       "      <td>13.204926</td>\n",
       "      <td>True</td>\n",
       "      <td>(11.058, 32.049]</td>\n",
       "      <td>21.5535</td>\n",
       "      <td>(10.0, 30.0]</td>\n",
       "      <td>20.0</td>\n",
       "      <td>True</td>\n",
       "      <td>False</td>\n",
       "      <td>False</td>\n",
       "      <td>OA low</td>\n",
       "    </tr>\n",
       "    <tr>\n",
       "      <th>2012-08-14</th>\n",
       "      <th>65.368421</th>\n",
       "      <th>25.0</th>\n",
       "      <td>0.002878</td>\n",
       "      <td>0.000000</td>\n",
       "      <td>8.979200e+02</td>\n",
       "      <td>0.000000</td>\n",
       "      <td>0.030646</td>\n",
       "      <td>NaN</td>\n",
       "      <td>0.061212</td>\n",
       "      <td>0.0</td>\n",
       "      <td>0.541110</td>\n",
       "      <td>0.0</td>\n",
       "      <td>...</td>\n",
       "      <td>18.548218</td>\n",
       "      <td>True</td>\n",
       "      <td>(-0.001, 1.066]</td>\n",
       "      <td>0.5325</td>\n",
       "      <td>NaN</td>\n",
       "      <td>NaN</td>\n",
       "      <td>False</td>\n",
       "      <td>True</td>\n",
       "      <td>False</td>\n",
       "      <td>OA high</td>\n",
       "    </tr>\n",
       "    <tr>\n",
       "      <th>2012-08-15</th>\n",
       "      <th>65.368421</th>\n",
       "      <th>25.0</th>\n",
       "      <td>0.003036</td>\n",
       "      <td>0.000000</td>\n",
       "      <td>3.059857e+07</td>\n",
       "      <td>0.000000</td>\n",
       "      <td>6.657866</td>\n",
       "      <td>NaN</td>\n",
       "      <td>0.064081</td>\n",
       "      <td>0.0</td>\n",
       "      <td>0.513083</td>\n",
       "      <td>0.0</td>\n",
       "      <td>...</td>\n",
       "      <td>17.707458</td>\n",
       "      <td>True</td>\n",
       "      <td>(64.857, 122.171]</td>\n",
       "      <td>93.5140</td>\n",
       "      <td>(50.0, 70.0]</td>\n",
       "      <td>60.0</td>\n",
       "      <td>False</td>\n",
       "      <td>True</td>\n",
       "      <td>False</td>\n",
       "      <td>OA high</td>\n",
       "    </tr>\n",
       "    <tr>\n",
       "      <th>2012-08-16</th>\n",
       "      <th>65.368421</th>\n",
       "      <th>25.0</th>\n",
       "      <td>0.003184</td>\n",
       "      <td>0.000000</td>\n",
       "      <td>4.280450e+07</td>\n",
       "      <td>0.000000</td>\n",
       "      <td>10.145891</td>\n",
       "      <td>NaN</td>\n",
       "      <td>0.068251</td>\n",
       "      <td>0.0</td>\n",
       "      <td>0.536688</td>\n",
       "      <td>0.0</td>\n",
       "      <td>...</td>\n",
       "      <td>17.531006</td>\n",
       "      <td>True</td>\n",
       "      <td>(122.171, 802.392]</td>\n",
       "      <td>462.2815</td>\n",
       "      <td>(130.0, 500.0]</td>\n",
       "      <td>315.0</td>\n",
       "      <td>False</td>\n",
       "      <td>True</td>\n",
       "      <td>False</td>\n",
       "      <td>OA high</td>\n",
       "    </tr>\n",
       "    <tr>\n",
       "      <th>2012-08-17</th>\n",
       "      <th>65.368421</th>\n",
       "      <th>25.0</th>\n",
       "      <td>0.003256</td>\n",
       "      <td>0.000000</td>\n",
       "      <td>4.536031e+07</td>\n",
       "      <td>0.000000</td>\n",
       "      <td>10.100775</td>\n",
       "      <td>NaN</td>\n",
       "      <td>0.067721</td>\n",
       "      <td>0.0</td>\n",
       "      <td>0.542957</td>\n",
       "      <td>0.0</td>\n",
       "      <td>...</td>\n",
       "      <td>15.991913</td>\n",
       "      <td>True</td>\n",
       "      <td>(122.171, 802.392]</td>\n",
       "      <td>462.2815</td>\n",
       "      <td>(130.0, 500.0]</td>\n",
       "      <td>315.0</td>\n",
       "      <td>False</td>\n",
       "      <td>True</td>\n",
       "      <td>False</td>\n",
       "      <td>OA high</td>\n",
       "    </tr>\n",
       "    <tr>\n",
       "      <th>2012-08-19</th>\n",
       "      <th>65.368421</th>\n",
       "      <th>25.0</th>\n",
       "      <td>0.002205</td>\n",
       "      <td>0.000000</td>\n",
       "      <td>9.683650e+06</td>\n",
       "      <td>0.000000</td>\n",
       "      <td>2.550702</td>\n",
       "      <td>NaN</td>\n",
       "      <td>0.073156</td>\n",
       "      <td>0.0</td>\n",
       "      <td>0.684731</td>\n",
       "      <td>0.0</td>\n",
       "      <td>...</td>\n",
       "      <td>11.080719</td>\n",
       "      <td>True</td>\n",
       "      <td>(64.857, 122.171]</td>\n",
       "      <td>93.5140</td>\n",
       "      <td>(90.0, 110.0]</td>\n",
       "      <td>100.0</td>\n",
       "      <td>False</td>\n",
       "      <td>True</td>\n",
       "      <td>False</td>\n",
       "      <td>OA high</td>\n",
       "    </tr>\n",
       "    <tr>\n",
       "      <th>2012-08-24</th>\n",
       "      <th>65.368421</th>\n",
       "      <th>25.0</th>\n",
       "      <td>0.001688</td>\n",
       "      <td>0.000000</td>\n",
       "      <td>2.382660e+07</td>\n",
       "      <td>0.000000</td>\n",
       "      <td>4.291315</td>\n",
       "      <td>NaN</td>\n",
       "      <td>0.047800</td>\n",
       "      <td>0.0</td>\n",
       "      <td>0.675960</td>\n",
       "      <td>0.0</td>\n",
       "      <td>...</td>\n",
       "      <td>9.660126</td>\n",
       "      <td>True</td>\n",
       "      <td>(32.049, 64.857]</td>\n",
       "      <td>48.4530</td>\n",
       "      <td>(50.0, 70.0]</td>\n",
       "      <td>60.0</td>\n",
       "      <td>True</td>\n",
       "      <td>False</td>\n",
       "      <td>False</td>\n",
       "      <td>OA low</td>\n",
       "    </tr>\n",
       "    <tr>\n",
       "      <th>2013-07-02</th>\n",
       "      <th>65.368421</th>\n",
       "      <th>25.0</th>\n",
       "      <td>0.002629</td>\n",
       "      <td>0.000000</td>\n",
       "      <td>1.068134e+03</td>\n",
       "      <td>0.000000</td>\n",
       "      <td>0.007343</td>\n",
       "      <td>NaN</td>\n",
       "      <td>0.064779</td>\n",
       "      <td>0.0</td>\n",
       "      <td>0.588021</td>\n",
       "      <td>0.0</td>\n",
       "      <td>...</td>\n",
       "      <td>16.904999</td>\n",
       "      <td>True</td>\n",
       "      <td>(11.058, 32.049]</td>\n",
       "      <td>21.5535</td>\n",
       "      <td>(10.0, 30.0]</td>\n",
       "      <td>20.0</td>\n",
       "      <td>False</td>\n",
       "      <td>False</td>\n",
       "      <td>True</td>\n",
       "      <td>&lt;NA&gt;</td>\n",
       "    </tr>\n",
       "    <tr>\n",
       "      <th>2013-07-08</th>\n",
       "      <th>65.368421</th>\n",
       "      <th>25.0</th>\n",
       "      <td>0.001809</td>\n",
       "      <td>0.000000</td>\n",
       "      <td>1.955650e+06</td>\n",
       "      <td>0.000000</td>\n",
       "      <td>0.211420</td>\n",
       "      <td>NaN</td>\n",
       "      <td>0.087491</td>\n",
       "      <td>0.0</td>\n",
       "      <td>0.676100</td>\n",
       "      <td>0.0</td>\n",
       "      <td>...</td>\n",
       "      <td>15.074371</td>\n",
       "      <td>True</td>\n",
       "      <td>(1.066, 11.058]</td>\n",
       "      <td>6.0620</td>\n",
       "      <td>(10.0, 30.0]</td>\n",
       "      <td>20.0</td>\n",
       "      <td>False</td>\n",
       "      <td>True</td>\n",
       "      <td>False</td>\n",
       "      <td>OA high</td>\n",
       "    </tr>\n",
       "    <tr>\n",
       "      <th>2013-07-10</th>\n",
       "      <th>65.368421</th>\n",
       "      <th>25.0</th>\n",
       "      <td>0.002121</td>\n",
       "      <td>0.000000</td>\n",
       "      <td>8.608718e+06</td>\n",
       "      <td>0.000000</td>\n",
       "      <td>3.939566</td>\n",
       "      <td>NaN</td>\n",
       "      <td>0.073761</td>\n",
       "      <td>0.0</td>\n",
       "      <td>0.635206</td>\n",
       "      <td>0.0</td>\n",
       "      <td>...</td>\n",
       "      <td>14.740631</td>\n",
       "      <td>True</td>\n",
       "      <td>(122.171, 802.392]</td>\n",
       "      <td>462.2815</td>\n",
       "      <td>(130.0, 500.0]</td>\n",
       "      <td>315.0</td>\n",
       "      <td>False</td>\n",
       "      <td>True</td>\n",
       "      <td>False</td>\n",
       "      <td>OA high</td>\n",
       "    </tr>\n",
       "    <tr>\n",
       "      <th>2013-07-17</th>\n",
       "      <th>65.368421</th>\n",
       "      <th>25.0</th>\n",
       "      <td>0.001506</td>\n",
       "      <td>0.000000</td>\n",
       "      <td>1.925564e+05</td>\n",
       "      <td>0.000000</td>\n",
       "      <td>0.045465</td>\n",
       "      <td>NaN</td>\n",
       "      <td>0.038891</td>\n",
       "      <td>0.0</td>\n",
       "      <td>0.659440</td>\n",
       "      <td>0.0</td>\n",
       "      <td>...</td>\n",
       "      <td>12.887390</td>\n",
       "      <td>True</td>\n",
       "      <td>(1.066, 11.058]</td>\n",
       "      <td>6.0620</td>\n",
       "      <td>NaN</td>\n",
       "      <td>NaN</td>\n",
       "      <td>True</td>\n",
       "      <td>False</td>\n",
       "      <td>False</td>\n",
       "      <td>OA low</td>\n",
       "    </tr>\n",
       "    <tr>\n",
       "      <th>2013-07-20</th>\n",
       "      <th>65.368421</th>\n",
       "      <th>25.0</th>\n",
       "      <td>0.001735</td>\n",
       "      <td>0.000000</td>\n",
       "      <td>1.090657e+07</td>\n",
       "      <td>0.000000</td>\n",
       "      <td>8.672735</td>\n",
       "      <td>NaN</td>\n",
       "      <td>0.041343</td>\n",
       "      <td>0.0</td>\n",
       "      <td>0.658963</td>\n",
       "      <td>0.0</td>\n",
       "      <td>...</td>\n",
       "      <td>12.527130</td>\n",
       "      <td>True</td>\n",
       "      <td>(64.857, 122.171]</td>\n",
       "      <td>93.5140</td>\n",
       "      <td>(90.0, 110.0]</td>\n",
       "      <td>100.0</td>\n",
       "      <td>True</td>\n",
       "      <td>False</td>\n",
       "      <td>False</td>\n",
       "      <td>OA low</td>\n",
       "    </tr>\n",
       "    <tr>\n",
       "      <th>2013-07-21</th>\n",
       "      <th>65.368421</th>\n",
       "      <th>25.0</th>\n",
       "      <td>0.001746</td>\n",
       "      <td>0.000000</td>\n",
       "      <td>4.632818e+06</td>\n",
       "      <td>0.000000</td>\n",
       "      <td>2.818155</td>\n",
       "      <td>NaN</td>\n",
       "      <td>0.056158</td>\n",
       "      <td>0.0</td>\n",
       "      <td>0.587779</td>\n",
       "      <td>0.0</td>\n",
       "      <td>...</td>\n",
       "      <td>12.853058</td>\n",
       "      <td>True</td>\n",
       "      <td>(122.171, 802.392]</td>\n",
       "      <td>462.2815</td>\n",
       "      <td>NaN</td>\n",
       "      <td>NaN</td>\n",
       "      <td>True</td>\n",
       "      <td>False</td>\n",
       "      <td>False</td>\n",
       "      <td>OA low</td>\n",
       "    </tr>\n",
       "    <tr>\n",
       "      <th>2013-08-03</th>\n",
       "      <th>65.368421</th>\n",
       "      <th>25.0</th>\n",
       "      <td>0.003233</td>\n",
       "      <td>0.000000</td>\n",
       "      <td>1.248525e+06</td>\n",
       "      <td>0.000000</td>\n",
       "      <td>0.148246</td>\n",
       "      <td>NaN</td>\n",
       "      <td>0.058571</td>\n",
       "      <td>0.0</td>\n",
       "      <td>0.543840</td>\n",
       "      <td>0.0</td>\n",
       "      <td>...</td>\n",
       "      <td>19.898956</td>\n",
       "      <td>True</td>\n",
       "      <td>(-0.001, 1.066]</td>\n",
       "      <td>0.5325</td>\n",
       "      <td>NaN</td>\n",
       "      <td>NaN</td>\n",
       "      <td>False</td>\n",
       "      <td>True</td>\n",
       "      <td>False</td>\n",
       "      <td>OA high</td>\n",
       "    </tr>\n",
       "    <tr>\n",
       "      <th>2013-08-12</th>\n",
       "      <th>65.368421</th>\n",
       "      <th>25.0</th>\n",
       "      <td>0.001804</td>\n",
       "      <td>124.507866</td>\n",
       "      <td>5.859401e+06</td>\n",
       "      <td>1.076317</td>\n",
       "      <td>1.525552</td>\n",
       "      <td>NaN</td>\n",
       "      <td>0.048595</td>\n",
       "      <td>0.0</td>\n",
       "      <td>0.646532</td>\n",
       "      <td>0.0</td>\n",
       "      <td>...</td>\n",
       "      <td>14.698517</td>\n",
       "      <td>True</td>\n",
       "      <td>(122.171, 802.392]</td>\n",
       "      <td>462.2815</td>\n",
       "      <td>(130.0, 500.0]</td>\n",
       "      <td>315.0</td>\n",
       "      <td>False</td>\n",
       "      <td>False</td>\n",
       "      <td>True</td>\n",
       "      <td>&lt;NA&gt;</td>\n",
       "    </tr>\n",
       "    <tr>\n",
       "      <th>2013-08-16</th>\n",
       "      <th>65.368421</th>\n",
       "      <th>25.0</th>\n",
       "      <td>0.002060</td>\n",
       "      <td>0.000000</td>\n",
       "      <td>6.453343e+05</td>\n",
       "      <td>0.000000</td>\n",
       "      <td>1.819658</td>\n",
       "      <td>NaN</td>\n",
       "      <td>0.066607</td>\n",
       "      <td>0.0</td>\n",
       "      <td>0.641957</td>\n",
       "      <td>0.0</td>\n",
       "      <td>...</td>\n",
       "      <td>13.947357</td>\n",
       "      <td>True</td>\n",
       "      <td>(32.049, 64.857]</td>\n",
       "      <td>48.4530</td>\n",
       "      <td>(30.0, 50.0]</td>\n",
       "      <td>40.0</td>\n",
       "      <td>False</td>\n",
       "      <td>False</td>\n",
       "      <td>True</td>\n",
       "      <td>&lt;NA&gt;</td>\n",
       "    </tr>\n",
       "    <tr>\n",
       "      <th>2014-07-01</th>\n",
       "      <th>65.368421</th>\n",
       "      <th>25.0</th>\n",
       "      <td>0.001704</td>\n",
       "      <td>0.000000</td>\n",
       "      <td>2.786675e+07</td>\n",
       "      <td>0.000000</td>\n",
       "      <td>6.408648</td>\n",
       "      <td>NaN</td>\n",
       "      <td>0.053510</td>\n",
       "      <td>0.0</td>\n",
       "      <td>0.642536</td>\n",
       "      <td>0.0</td>\n",
       "      <td>...</td>\n",
       "      <td>15.784088</td>\n",
       "      <td>True</td>\n",
       "      <td>(32.049, 64.857]</td>\n",
       "      <td>48.4530</td>\n",
       "      <td>(30.0, 50.0]</td>\n",
       "      <td>40.0</td>\n",
       "      <td>False</td>\n",
       "      <td>False</td>\n",
       "      <td>True</td>\n",
       "      <td>&lt;NA&gt;</td>\n",
       "    </tr>\n",
       "    <tr>\n",
       "      <th>2014-07-03</th>\n",
       "      <th>65.368421</th>\n",
       "      <th>25.0</th>\n",
       "      <td>0.001795</td>\n",
       "      <td>0.000000</td>\n",
       "      <td>2.163757e+07</td>\n",
       "      <td>0.000000</td>\n",
       "      <td>12.604322</td>\n",
       "      <td>NaN</td>\n",
       "      <td>0.057593</td>\n",
       "      <td>0.0</td>\n",
       "      <td>0.586801</td>\n",
       "      <td>0.0</td>\n",
       "      <td>...</td>\n",
       "      <td>12.407990</td>\n",
       "      <td>True</td>\n",
       "      <td>(122.171, 802.392]</td>\n",
       "      <td>462.2815</td>\n",
       "      <td>NaN</td>\n",
       "      <td>NaN</td>\n",
       "      <td>False</td>\n",
       "      <td>False</td>\n",
       "      <td>True</td>\n",
       "      <td>&lt;NA&gt;</td>\n",
       "    </tr>\n",
       "    <tr>\n",
       "      <th>2014-07-05</th>\n",
       "      <th>65.368421</th>\n",
       "      <th>25.0</th>\n",
       "      <td>0.001870</td>\n",
       "      <td>0.000000</td>\n",
       "      <td>4.585251e+06</td>\n",
       "      <td>0.000000</td>\n",
       "      <td>1.767718</td>\n",
       "      <td>NaN</td>\n",
       "      <td>0.050004</td>\n",
       "      <td>0.0</td>\n",
       "      <td>0.595577</td>\n",
       "      <td>0.0</td>\n",
       "      <td>...</td>\n",
       "      <td>14.655060</td>\n",
       "      <td>True</td>\n",
       "      <td>(11.058, 32.049]</td>\n",
       "      <td>21.5535</td>\n",
       "      <td>(10.0, 30.0]</td>\n",
       "      <td>20.0</td>\n",
       "      <td>False</td>\n",
       "      <td>False</td>\n",
       "      <td>True</td>\n",
       "      <td>&lt;NA&gt;</td>\n",
       "    </tr>\n",
       "    <tr>\n",
       "      <th>2014-07-29</th>\n",
       "      <th>65.368421</th>\n",
       "      <th>25.0</th>\n",
       "      <td>0.002961</td>\n",
       "      <td>0.000000</td>\n",
       "      <td>4.352248e+05</td>\n",
       "      <td>0.000000</td>\n",
       "      <td>0.333907</td>\n",
       "      <td>NaN</td>\n",
       "      <td>0.065379</td>\n",
       "      <td>0.0</td>\n",
       "      <td>0.559810</td>\n",
       "      <td>0.0</td>\n",
       "      <td>...</td>\n",
       "      <td>16.510834</td>\n",
       "      <td>True</td>\n",
       "      <td>(32.049, 64.857]</td>\n",
       "      <td>48.4530</td>\n",
       "      <td>(30.0, 50.0]</td>\n",
       "      <td>40.0</td>\n",
       "      <td>False</td>\n",
       "      <td>True</td>\n",
       "      <td>False</td>\n",
       "      <td>OA high</td>\n",
       "    </tr>\n",
       "    <tr>\n",
       "      <th>2014-08-17</th>\n",
       "      <th>65.368421</th>\n",
       "      <th>25.0</th>\n",
       "      <td>0.001912</td>\n",
       "      <td>31.454887</td>\n",
       "      <td>1.967614e+06</td>\n",
       "      <td>1.192858</td>\n",
       "      <td>0.890878</td>\n",
       "      <td>NaN</td>\n",
       "      <td>0.042411</td>\n",
       "      <td>0.0</td>\n",
       "      <td>0.561403</td>\n",
       "      <td>0.0</td>\n",
       "      <td>...</td>\n",
       "      <td>13.091492</td>\n",
       "      <td>True</td>\n",
       "      <td>(32.049, 64.857]</td>\n",
       "      <td>48.4530</td>\n",
       "      <td>(30.0, 50.0]</td>\n",
       "      <td>40.0</td>\n",
       "      <td>False</td>\n",
       "      <td>False</td>\n",
       "      <td>True</td>\n",
       "      <td>&lt;NA&gt;</td>\n",
       "    </tr>\n",
       "    <tr>\n",
       "      <th>2014-08-29</th>\n",
       "      <th>65.368421</th>\n",
       "      <th>25.0</th>\n",
       "      <td>0.002521</td>\n",
       "      <td>0.000000</td>\n",
       "      <td>3.101693e+07</td>\n",
       "      <td>0.000000</td>\n",
       "      <td>3.451422</td>\n",
       "      <td>NaN</td>\n",
       "      <td>0.064968</td>\n",
       "      <td>0.0</td>\n",
       "      <td>0.682066</td>\n",
       "      <td>0.0</td>\n",
       "      <td>...</td>\n",
       "      <td>9.633270</td>\n",
       "      <td>True</td>\n",
       "      <td>(64.857, 122.171]</td>\n",
       "      <td>93.5140</td>\n",
       "      <td>(70.0, 90.0]</td>\n",
       "      <td>80.0</td>\n",
       "      <td>True</td>\n",
       "      <td>False</td>\n",
       "      <td>False</td>\n",
       "      <td>OA low</td>\n",
       "    </tr>\n",
       "    <tr>\n",
       "      <th>2014-08-30</th>\n",
       "      <th>65.368421</th>\n",
       "      <th>25.0</th>\n",
       "      <td>0.002120</td>\n",
       "      <td>629.071655</td>\n",
       "      <td>2.331527e+07</td>\n",
       "      <td>1.160200</td>\n",
       "      <td>2.070402</td>\n",
       "      <td>NaN</td>\n",
       "      <td>0.065588</td>\n",
       "      <td>0.0</td>\n",
       "      <td>0.695208</td>\n",
       "      <td>0.0</td>\n",
       "      <td>...</td>\n",
       "      <td>10.208160</td>\n",
       "      <td>True</td>\n",
       "      <td>(32.049, 64.857]</td>\n",
       "      <td>48.4530</td>\n",
       "      <td>(50.0, 70.0]</td>\n",
       "      <td>60.0</td>\n",
       "      <td>True</td>\n",
       "      <td>False</td>\n",
       "      <td>False</td>\n",
       "      <td>OA low</td>\n",
       "    </tr>\n",
       "  </tbody>\n",
       "</table>\n",
       "<p>27 rows × 217 columns</p>\n",
       "</div>"
      ],
      "text/plain": [
       "                             ABSVIS       ACTNI         ACTNL    ACTREI  \\\n",
       "time       lat       lon                                                  \n",
       "2012-07-01 65.368421 25.0  0.002457    4.227927  1.418949e+04  0.401859   \n",
       "2012-07-14 65.368421 25.0  0.002038   40.897545  3.809550e+04  0.945163   \n",
       "2012-07-21 65.368421 25.0  0.001371    0.000000  8.877408e+05  0.000000   \n",
       "2012-07-24 65.368421 25.0  0.002165    0.000000  4.413432e+05  0.000000   \n",
       "2012-08-10 65.368421 25.0  0.001949    0.000000  4.464656e+07  0.000000   \n",
       "2012-08-14 65.368421 25.0  0.002878    0.000000  8.979200e+02  0.000000   \n",
       "2012-08-15 65.368421 25.0  0.003036    0.000000  3.059857e+07  0.000000   \n",
       "2012-08-16 65.368421 25.0  0.003184    0.000000  4.280450e+07  0.000000   \n",
       "2012-08-17 65.368421 25.0  0.003256    0.000000  4.536031e+07  0.000000   \n",
       "2012-08-19 65.368421 25.0  0.002205    0.000000  9.683650e+06  0.000000   \n",
       "2012-08-24 65.368421 25.0  0.001688    0.000000  2.382660e+07  0.000000   \n",
       "2013-07-02 65.368421 25.0  0.002629    0.000000  1.068134e+03  0.000000   \n",
       "2013-07-08 65.368421 25.0  0.001809    0.000000  1.955650e+06  0.000000   \n",
       "2013-07-10 65.368421 25.0  0.002121    0.000000  8.608718e+06  0.000000   \n",
       "2013-07-17 65.368421 25.0  0.001506    0.000000  1.925564e+05  0.000000   \n",
       "2013-07-20 65.368421 25.0  0.001735    0.000000  1.090657e+07  0.000000   \n",
       "2013-07-21 65.368421 25.0  0.001746    0.000000  4.632818e+06  0.000000   \n",
       "2013-08-03 65.368421 25.0  0.003233    0.000000  1.248525e+06  0.000000   \n",
       "2013-08-12 65.368421 25.0  0.001804  124.507866  5.859401e+06  1.076317   \n",
       "2013-08-16 65.368421 25.0  0.002060    0.000000  6.453343e+05  0.000000   \n",
       "2014-07-01 65.368421 25.0  0.001704    0.000000  2.786675e+07  0.000000   \n",
       "2014-07-03 65.368421 25.0  0.001795    0.000000  2.163757e+07  0.000000   \n",
       "2014-07-05 65.368421 25.0  0.001870    0.000000  4.585251e+06  0.000000   \n",
       "2014-07-29 65.368421 25.0  0.002961    0.000000  4.352248e+05  0.000000   \n",
       "2014-08-17 65.368421 25.0  0.001912   31.454887  1.967614e+06  1.192858   \n",
       "2014-08-29 65.368421 25.0  0.002521    0.000000  3.101693e+07  0.000000   \n",
       "2014-08-30 65.368421 25.0  0.002120  629.071655  2.331527e+07  1.160200   \n",
       "\n",
       "                              ACTREL  AEROD_v   AOD_VIS  AREL  ASYMMDRY  AWNC  \\\n",
       "time       lat       lon                                                        \n",
       "2012-07-01 65.368421 25.0   0.055691      NaN  0.086656   0.0  0.647944   0.0   \n",
       "2012-07-14 65.368421 25.0   0.081165      NaN  0.046543   0.0  0.615721   0.0   \n",
       "2012-07-21 65.368421 25.0   1.133685      NaN  0.033576   0.0  0.641800   0.0   \n",
       "2012-07-24 65.368421 25.0   0.190835      NaN  0.075215   0.0  0.655297   0.0   \n",
       "2012-08-10 65.368421 25.0   6.942228      NaN  0.052140   0.0  0.682081   0.0   \n",
       "2012-08-14 65.368421 25.0   0.030646      NaN  0.061212   0.0  0.541110   0.0   \n",
       "2012-08-15 65.368421 25.0   6.657866      NaN  0.064081   0.0  0.513083   0.0   \n",
       "2012-08-16 65.368421 25.0  10.145891      NaN  0.068251   0.0  0.536688   0.0   \n",
       "2012-08-17 65.368421 25.0  10.100775      NaN  0.067721   0.0  0.542957   0.0   \n",
       "2012-08-19 65.368421 25.0   2.550702      NaN  0.073156   0.0  0.684731   0.0   \n",
       "2012-08-24 65.368421 25.0   4.291315      NaN  0.047800   0.0  0.675960   0.0   \n",
       "2013-07-02 65.368421 25.0   0.007343      NaN  0.064779   0.0  0.588021   0.0   \n",
       "2013-07-08 65.368421 25.0   0.211420      NaN  0.087491   0.0  0.676100   0.0   \n",
       "2013-07-10 65.368421 25.0   3.939566      NaN  0.073761   0.0  0.635206   0.0   \n",
       "2013-07-17 65.368421 25.0   0.045465      NaN  0.038891   0.0  0.659440   0.0   \n",
       "2013-07-20 65.368421 25.0   8.672735      NaN  0.041343   0.0  0.658963   0.0   \n",
       "2013-07-21 65.368421 25.0   2.818155      NaN  0.056158   0.0  0.587779   0.0   \n",
       "2013-08-03 65.368421 25.0   0.148246      NaN  0.058571   0.0  0.543840   0.0   \n",
       "2013-08-12 65.368421 25.0   1.525552      NaN  0.048595   0.0  0.646532   0.0   \n",
       "2013-08-16 65.368421 25.0   1.819658      NaN  0.066607   0.0  0.641957   0.0   \n",
       "2014-07-01 65.368421 25.0   6.408648      NaN  0.053510   0.0  0.642536   0.0   \n",
       "2014-07-03 65.368421 25.0  12.604322      NaN  0.057593   0.0  0.586801   0.0   \n",
       "2014-07-05 65.368421 25.0   1.767718      NaN  0.050004   0.0  0.595577   0.0   \n",
       "2014-07-29 65.368421 25.0   0.333907      NaN  0.065379   0.0  0.559810   0.0   \n",
       "2014-08-17 65.368421 25.0   0.890878      NaN  0.042411   0.0  0.561403   0.0   \n",
       "2014-08-29 65.368421 25.0   3.451422      NaN  0.064968   0.0  0.682066   0.0   \n",
       "2014-08-30 65.368421 25.0   2.070402      NaN  0.065588   0.0  0.695208   0.0   \n",
       "\n",
       "                           ...        T_C  mask_liq_cloudtop  \\\n",
       "time       lat       lon   ...                                 \n",
       "2012-07-01 65.368421 25.0  ...  18.852417               True   \n",
       "2012-07-14 65.368421 25.0  ...  17.097900               True   \n",
       "2012-07-21 65.368421 25.0  ...  12.361542               True   \n",
       "2012-07-24 65.368421 25.0  ...  18.355621               True   \n",
       "2012-08-10 65.368421 25.0  ...  13.204926               True   \n",
       "2012-08-14 65.368421 25.0  ...  18.548218               True   \n",
       "2012-08-15 65.368421 25.0  ...  17.707458               True   \n",
       "2012-08-16 65.368421 25.0  ...  17.531006               True   \n",
       "2012-08-17 65.368421 25.0  ...  15.991913               True   \n",
       "2012-08-19 65.368421 25.0  ...  11.080719               True   \n",
       "2012-08-24 65.368421 25.0  ...   9.660126               True   \n",
       "2013-07-02 65.368421 25.0  ...  16.904999               True   \n",
       "2013-07-08 65.368421 25.0  ...  15.074371               True   \n",
       "2013-07-10 65.368421 25.0  ...  14.740631               True   \n",
       "2013-07-17 65.368421 25.0  ...  12.887390               True   \n",
       "2013-07-20 65.368421 25.0  ...  12.527130               True   \n",
       "2013-07-21 65.368421 25.0  ...  12.853058               True   \n",
       "2013-08-03 65.368421 25.0  ...  19.898956               True   \n",
       "2013-08-12 65.368421 25.0  ...  14.698517               True   \n",
       "2013-08-16 65.368421 25.0  ...  13.947357               True   \n",
       "2014-07-01 65.368421 25.0  ...  15.784088               True   \n",
       "2014-07-03 65.368421 25.0  ...  12.407990               True   \n",
       "2014-07-05 65.368421 25.0  ...  14.655060               True   \n",
       "2014-07-29 65.368421 25.0  ...  16.510834               True   \n",
       "2014-08-17 65.368421 25.0  ...  13.091492               True   \n",
       "2014-08-29 65.368421 25.0  ...   9.633270               True   \n",
       "2014-08-30 65.368421 25.0  ...  10.208160               True   \n",
       "\n",
       "                                     CWP_qcut  CWP_qcutl         CWP_cut  \\\n",
       "time       lat       lon                                                   \n",
       "2012-07-01 65.368421 25.0    (11.058, 32.049]    21.5535    (10.0, 30.0]   \n",
       "2012-07-14 65.368421 25.0     (1.066, 11.058]     6.0620             NaN   \n",
       "2012-07-21 65.368421 25.0    (32.049, 64.857]    48.4530    (30.0, 50.0]   \n",
       "2012-07-24 65.368421 25.0     (1.066, 11.058]     6.0620             NaN   \n",
       "2012-08-10 65.368421 25.0    (11.058, 32.049]    21.5535    (10.0, 30.0]   \n",
       "2012-08-14 65.368421 25.0     (-0.001, 1.066]     0.5325             NaN   \n",
       "2012-08-15 65.368421 25.0   (64.857, 122.171]    93.5140    (50.0, 70.0]   \n",
       "2012-08-16 65.368421 25.0  (122.171, 802.392]   462.2815  (130.0, 500.0]   \n",
       "2012-08-17 65.368421 25.0  (122.171, 802.392]   462.2815  (130.0, 500.0]   \n",
       "2012-08-19 65.368421 25.0   (64.857, 122.171]    93.5140   (90.0, 110.0]   \n",
       "2012-08-24 65.368421 25.0    (32.049, 64.857]    48.4530    (50.0, 70.0]   \n",
       "2013-07-02 65.368421 25.0    (11.058, 32.049]    21.5535    (10.0, 30.0]   \n",
       "2013-07-08 65.368421 25.0     (1.066, 11.058]     6.0620    (10.0, 30.0]   \n",
       "2013-07-10 65.368421 25.0  (122.171, 802.392]   462.2815  (130.0, 500.0]   \n",
       "2013-07-17 65.368421 25.0     (1.066, 11.058]     6.0620             NaN   \n",
       "2013-07-20 65.368421 25.0   (64.857, 122.171]    93.5140   (90.0, 110.0]   \n",
       "2013-07-21 65.368421 25.0  (122.171, 802.392]   462.2815             NaN   \n",
       "2013-08-03 65.368421 25.0     (-0.001, 1.066]     0.5325             NaN   \n",
       "2013-08-12 65.368421 25.0  (122.171, 802.392]   462.2815  (130.0, 500.0]   \n",
       "2013-08-16 65.368421 25.0    (32.049, 64.857]    48.4530    (30.0, 50.0]   \n",
       "2014-07-01 65.368421 25.0    (32.049, 64.857]    48.4530    (30.0, 50.0]   \n",
       "2014-07-03 65.368421 25.0  (122.171, 802.392]   462.2815             NaN   \n",
       "2014-07-05 65.368421 25.0    (11.058, 32.049]    21.5535    (10.0, 30.0]   \n",
       "2014-07-29 65.368421 25.0    (32.049, 64.857]    48.4530    (30.0, 50.0]   \n",
       "2014-08-17 65.368421 25.0    (32.049, 64.857]    48.4530    (30.0, 50.0]   \n",
       "2014-08-29 65.368421 25.0   (64.857, 122.171]    93.5140    (70.0, 90.0]   \n",
       "2014-08-30 65.368421 25.0    (32.049, 64.857]    48.4530    (50.0, 70.0]   \n",
       "\n",
       "                           CWP_cutl  OA_low  OA_high  OA_mid_range  \\\n",
       "time       lat       lon                                             \n",
       "2012-07-01 65.368421 25.0      20.0   False    False          True   \n",
       "2012-07-14 65.368421 25.0       NaN    True    False         False   \n",
       "2012-07-21 65.368421 25.0      40.0    True    False         False   \n",
       "2012-07-24 65.368421 25.0       NaN   False    False          True   \n",
       "2012-08-10 65.368421 25.0      20.0    True    False         False   \n",
       "2012-08-14 65.368421 25.0       NaN   False     True         False   \n",
       "2012-08-15 65.368421 25.0      60.0   False     True         False   \n",
       "2012-08-16 65.368421 25.0     315.0   False     True         False   \n",
       "2012-08-17 65.368421 25.0     315.0   False     True         False   \n",
       "2012-08-19 65.368421 25.0     100.0   False     True         False   \n",
       "2012-08-24 65.368421 25.0      60.0    True    False         False   \n",
       "2013-07-02 65.368421 25.0      20.0   False    False          True   \n",
       "2013-07-08 65.368421 25.0      20.0   False     True         False   \n",
       "2013-07-10 65.368421 25.0     315.0   False     True         False   \n",
       "2013-07-17 65.368421 25.0       NaN    True    False         False   \n",
       "2013-07-20 65.368421 25.0     100.0    True    False         False   \n",
       "2013-07-21 65.368421 25.0       NaN    True    False         False   \n",
       "2013-08-03 65.368421 25.0       NaN   False     True         False   \n",
       "2013-08-12 65.368421 25.0     315.0   False    False          True   \n",
       "2013-08-16 65.368421 25.0      40.0   False    False          True   \n",
       "2014-07-01 65.368421 25.0      40.0   False    False          True   \n",
       "2014-07-03 65.368421 25.0       NaN   False    False          True   \n",
       "2014-07-05 65.368421 25.0      20.0   False    False          True   \n",
       "2014-07-29 65.368421 25.0      40.0   False     True         False   \n",
       "2014-08-17 65.368421 25.0      40.0   False    False          True   \n",
       "2014-08-29 65.368421 25.0      80.0    True    False         False   \n",
       "2014-08-30 65.368421 25.0      60.0    True    False         False   \n",
       "\n",
       "                           OA_category  \n",
       "time       lat       lon                \n",
       "2012-07-01 65.368421 25.0         <NA>  \n",
       "2012-07-14 65.368421 25.0       OA low  \n",
       "2012-07-21 65.368421 25.0       OA low  \n",
       "2012-07-24 65.368421 25.0         <NA>  \n",
       "2012-08-10 65.368421 25.0       OA low  \n",
       "2012-08-14 65.368421 25.0      OA high  \n",
       "2012-08-15 65.368421 25.0      OA high  \n",
       "2012-08-16 65.368421 25.0      OA high  \n",
       "2012-08-17 65.368421 25.0      OA high  \n",
       "2012-08-19 65.368421 25.0      OA high  \n",
       "2012-08-24 65.368421 25.0       OA low  \n",
       "2013-07-02 65.368421 25.0         <NA>  \n",
       "2013-07-08 65.368421 25.0      OA high  \n",
       "2013-07-10 65.368421 25.0      OA high  \n",
       "2013-07-17 65.368421 25.0       OA low  \n",
       "2013-07-20 65.368421 25.0       OA low  \n",
       "2013-07-21 65.368421 25.0       OA low  \n",
       "2013-08-03 65.368421 25.0      OA high  \n",
       "2013-08-12 65.368421 25.0         <NA>  \n",
       "2013-08-16 65.368421 25.0         <NA>  \n",
       "2014-07-01 65.368421 25.0         <NA>  \n",
       "2014-07-03 65.368421 25.0         <NA>  \n",
       "2014-07-05 65.368421 25.0         <NA>  \n",
       "2014-07-29 65.368421 25.0      OA high  \n",
       "2014-08-17 65.368421 25.0         <NA>  \n",
       "2014-08-29 65.368421 25.0       OA low  \n",
       "2014-08-30 65.368421 25.0       OA low  \n",
       "\n",
       "[27 rows x 217 columns]"
      ]
     },
     "execution_count": 104,
     "metadata": {},
     "output_type": "execute_result"
    }
   ],
   "source": [
    "df_mod[(df_mod.index.get_level_values('lat') >65)& (df_mod.index.get_level_values('lon') == 25.0)]"
   ]
  },
  {
   "cell_type": "code",
   "execution_count": 105,
   "id": "9cdfa6bd-ceaa-4dcc-95d2-7069f5cfc23d",
   "metadata": {},
   "outputs": [],
   "source": [
    "import seaborn as sns"
   ]
  },
  {
   "cell_type": "code",
   "execution_count": 106,
   "id": "fd8eb24a-da02-40d6-b426-a487ae37153e",
   "metadata": {},
   "outputs": [
    {
     "name": "stdout",
     "output_type": "stream",
     "text": [
      "206\n"
     ]
    },
    {
     "data": {
      "image/png": "[encoded data removed]",
      "text/plain": [
       "<Figure size 435.625x360 with 1 Axes>"
      ]
     },
     "metadata": {
      "needs_background": "light"
     },
     "output_type": "display_data"
    }
   ],
   "source": [
    "_df = (df_mod[(df_mod['OA_category'].notna()) & (df_mod['TOT_ICLD_VISTAU_s']>0)])\n",
    "_df = _df[_df['TOT_ICLD_VISTAU_s']<50]\n",
    "sns.displot(#x='TGCLDLWP', \n",
    "            x='TOT_ICLD_VISTAU_s',\n",
    "            data=_df,\n",
    "            hue='OA_category',\n",
    "           #kind='swarm'\n",
    "           )\n",
    "#plt.ylim([0,250])\n",
    "print(len(df_mod[df_mod['OA_category'].notna()]))"
   ]
  },
  {
   "cell_type": "code",
   "execution_count": 107,
   "id": "c92be710-d2db-4a5d-978a-c77c3bbd73c3",
   "metadata": {},
   "outputs": [
    {
     "data": {
      "text/plain": [
       "<seaborn.axisgrid.FacetGrid at 0x7fc36c030ca0>"
      ]
     },
     "execution_count": 107,
     "metadata": {},
     "output_type": "execute_result"
    },
    {
     "data": {
      "image/png": "[encoded data removed]",
      "text/plain": [
       "<Figure size 435.625x360 with 1 Axes>"
      ]
     },
     "metadata": {
      "needs_background": "light"
     },
     "output_type": "display_data"
    }
   ],
   "source": [
    "sns.displot(#x='TGCLDLWP', \n",
    "            x='ACTNL_incld',\n",
    "            data=df_mod[~df_mod['OA_mid_range']].reset_index(),\n",
    "            hue='OA_category',\n",
    "           #kind='swarm'\n",
    "           )\n",
    "#plt.ylim([0,250])"
   ]
  },
  {
   "cell_type": "code",
   "execution_count": 108,
   "id": "0cfc6091-17e5-4516-8759-6a6b66d5bbe4",
   "metadata": {},
   "outputs": [],
   "source": [
    "import seaborn as sns"
   ]
  },
  {
   "cell_type": "code",
   "execution_count": 109,
   "id": "8acffb94-6e09-4f1b-9c3c-8301dfc709f6",
   "metadata": {},
   "outputs": [
    {
     "name": "stderr",
     "output_type": "stream",
     "text": [
      "/home/x_sarbl/miniconda3/envs/env_analys/lib/python3.8/site-packages/pandas/io/formats/format.py:1429: FutureWarning: Index.ravel returning ndarray is deprecated; in a future version this will return a view on self.\n",
      "  for val, m in zip(values.ravel(), mask.ravel())\n"
     ]
    },
    {
     "data": {
      "text/plain": [
       "<seaborn.axisgrid.FacetGrid at 0x7fc372a4a580>"
      ]
     },
     "execution_count": 109,
     "metadata": {},
     "output_type": "execute_result"
    },
    {
     "data": {
      "image/png": "[encoded data removed]",
      "text/plain": [
       "<Figure size 435.625x360 with 1 Axes>"
      ]
     },
     "metadata": {
      "needs_background": "light"
     },
     "output_type": "display_data"
    }
   ],
   "source": [
    "sns.catplot(x='CWP_cutl', \n",
    "            y='ACTNL_incld',\n",
    "            #data=df_mod.reset_index(),\n",
    "            #data=df_mod[~df_mod['OA_mid_range']].reset_index(),\n",
    "            data=df_mod[df_mod['OA_category'].notna()].reset_index(),\n",
    "            hue_order=['OA low','OA high'],\n",
    "\n",
    "            hue='OA_category',\n",
    "           kind='swarm'\n",
    "           )\n",
    "#plt.ylim([0,250])"
   ]
  },
  {
   "cell_type": "code",
   "execution_count": 110,
   "id": "f456f128-d674-4d33-8dcf-41ed70560031",
   "metadata": {},
   "outputs": [
    {
     "name": "stderr",
     "output_type": "stream",
     "text": [
      "/home/x_sarbl/miniconda3/envs/env_analys/lib/python3.8/site-packages/pandas/io/formats/format.py:1429: FutureWarning: Index.ravel returning ndarray is deprecated; in a future version this will return a view on self.\n",
      "  for val, m in zip(values.ravel(), mask.ravel())\n"
     ]
    },
    {
     "data": {
      "text/plain": [
       "<seaborn.axisgrid.FacetGrid at 0x7fc36ccbd5e0>"
      ]
     },
     "execution_count": 110,
     "metadata": {},
     "output_type": "execute_result"
    },
    {
     "data": {
      "image/png": "[encoded data removed]",
      "text/plain": [
       "<Figure size 435.625x360 with 1 Axes>"
      ]
     },
     "metadata": {
      "needs_background": "light"
     },
     "output_type": "display_data"
    }
   ],
   "source": [
    "sns.catplot(x='CWP_cutl', \n",
    "            y='TOT_ICLD_VISTAU_s',\n",
    "            data=df_mod[df_mod['OA_category'].notna()].reset_index(),\n",
    "            hue_order=['OA low','OA high'],\n",
    "\n",
    "            hue='OA_category',\n",
    "            kind='boxen',\n",
    "           )\n",
    "#plt.ylim([0,250])"
   ]
  },
  {
   "cell_type": "code",
   "execution_count": 111,
   "id": "7fc47847-ff8e-446a-ad00-50c43ec6e1b2",
   "metadata": {},
   "outputs": [
    {
     "name": "stderr",
     "output_type": "stream",
     "text": [
      "/home/x_sarbl/miniconda3/envs/env_analys/lib/python3.8/site-packages/pandas/io/formats/format.py:1429: FutureWarning: Index.ravel returning ndarray is deprecated; in a future version this will return a view on self.\n",
      "  for val, m in zip(values.ravel(), mask.ravel())\n"
     ]
    },
    {
     "data": {
      "text/plain": [
       "<seaborn.axisgrid.FacetGrid at 0x7fc372ae1f70>"
      ]
     },
     "execution_count": 111,
     "metadata": {},
     "output_type": "execute_result"
    },
    {
     "data": {
      "image/png": "[encoded data removed]",
      "text/plain": [
       "<Figure size 435.625x360 with 1 Axes>"
      ]
     },
     "metadata": {
      "needs_background": "light"
     },
     "output_type": "display_data"
    }
   ],
   "source": [
    "sns.catplot(x='CWP_cutl', \n",
    "            y='TOT_ICLD_VISTAU_s',\n",
    "            #data=df_mod.reset_index(),\n",
    "            data=df_mod[df_mod['OA_category'].notna()].reset_index(),\n",
    "            hue_order=['OA low','OA high'],\n",
    "\n",
    "            hue='OA_category',\n",
    "           kind='swarm'\n",
    "           )\n",
    "#plt.ylim([0,250])"
   ]
  },
  {
   "cell_type": "code",
   "execution_count": 112,
   "id": "4ce64e9e-f3db-4487-9a16-0e8de6cbf0d4",
   "metadata": {},
   "outputs": [
    {
     "name": "stderr",
     "output_type": "stream",
     "text": [
      "/home/x_sarbl/miniconda3/envs/env_analys/lib/python3.8/site-packages/pandas/io/formats/format.py:1429: FutureWarning: Index.ravel returning ndarray is deprecated; in a future version this will return a view on self.\n",
      "  for val, m in zip(values.ravel(), mask.ravel())\n"
     ]
    },
    {
     "data": {
      "text/plain": [
       "<seaborn.axisgrid.FacetGrid at 0x7fc372ad74f0>"
      ]
     },
     "execution_count": 112,
     "metadata": {},
     "output_type": "execute_result"
    },
    {
     "data": {
      "image/png": "[encoded data removed]",
      "text/plain": [
       "<Figure size 435.625x360 with 1 Axes>"
      ]
     },
     "metadata": {
      "needs_background": "light"
     },
     "output_type": "display_data"
    }
   ],
   "source": [
    "sns.catplot(x='CWP_cutl', \n",
    "            y='TOT_CLD_VISTAU_s',\n",
    "            data=df_mod[df_mod['OA_category'].notna()].reset_index(),\n",
    "            hue ='OA_category',\n",
    "            kind='violin',\n",
    "            hue_order=['OA low','OA high'],\n",
    "           )\n",
    "#plt.ylim([0,250])"
   ]
  },
  {
   "cell_type": "code",
   "execution_count": 113,
   "id": "bb451b66-7eeb-4a2e-9bd3-1c4e6e36356a",
   "metadata": {},
   "outputs": [
    {
     "name": "stderr",
     "output_type": "stream",
     "text": [
      "/home/x_sarbl/miniconda3/envs/env_analys/lib/python3.8/site-packages/pandas/io/formats/format.py:1429: FutureWarning: Index.ravel returning ndarray is deprecated; in a future version this will return a view on self.\n",
      "  for val, m in zip(values.ravel(), mask.ravel())\n"
     ]
    },
    {
     "data": {
      "text/plain": [
       "<seaborn.axisgrid.FacetGrid at 0x7fc372a27df0>"
      ]
     },
     "execution_count": 113,
     "metadata": {},
     "output_type": "execute_result"
    },
    {
     "data": {
      "image/png": "[encoded data removed]",
      "text/plain": [
       "<Figure size 435.625x360 with 1 Axes>"
      ]
     },
     "metadata": {
      "needs_background": "light"
     },
     "output_type": "display_data"
    }
   ],
   "source": [
    "sns.catplot(x='CWP_cutl', \n",
    "            y='TOT_CLD_VISTAU_s',\n",
    "            data=df_mod[df_mod['OA_category'].notna()].reset_index(),\n",
    "            hue ='OA_category',\n",
    "            kind='swarm',\n",
    "            hue_order=['OA low','OA high'],\n",
    "           )\n",
    "#plt.ylim([0,250])"
   ]
  },
  {
   "cell_type": "code",
   "execution_count": 114,
   "id": "39a58c78-0905-46dc-967e-d357cca1cd62",
   "metadata": {},
   "outputs": [
    {
     "name": "stderr",
     "output_type": "stream",
     "text": [
      "/home/x_sarbl/miniconda3/envs/env_analys/lib/python3.8/site-packages/pandas/io/formats/format.py:1429: FutureWarning: Index.ravel returning ndarray is deprecated; in a future version this will return a view on self.\n",
      "  for val, m in zip(values.ravel(), mask.ravel())\n"
     ]
    },
    {
     "data": {
      "text/plain": [
       "<seaborn.axisgrid.FacetGrid at 0x7fc36d8d6d00>"
      ]
     },
     "execution_count": 114,
     "metadata": {},
     "output_type": "execute_result"
    },
    {
     "data": {
      "image/png": "[encoded data removed]",
      "text/plain": [
       "<Figure size 435.625x360 with 1 Axes>"
      ]
     },
     "metadata": {
      "needs_background": "light"
     },
     "output_type": "display_data"
    }
   ],
   "source": [
    "sns.catplot(x='CWP_cutl', \n",
    "            y='ACTNL_incld',\n",
    "            data=df_mod[df_mod['OA_category'].notna()].reset_index(),\n",
    "\n",
    "            hue='OA_category',\n",
    "           # kind='box'\n",
    "           )"
   ]
  },
  {
   "cell_type": "code",
   "execution_count": 115,
   "id": "a231f6b5-e6fd-429f-bcea-8b51e0a6d9c0",
   "metadata": {},
   "outputs": [
    {
     "name": "stderr",
     "output_type": "stream",
     "text": [
      "/home/x_sarbl/miniconda3/envs/env_analys/lib/python3.8/site-packages/pandas/io/formats/format.py:1429: FutureWarning: Index.ravel returning ndarray is deprecated; in a future version this will return a view on self.\n",
      "  for val, m in zip(values.ravel(), mask.ravel())\n"
     ]
    },
    {
     "data": {
      "text/plain": [
       "<seaborn.axisgrid.FacetGrid at 0x7fc36c856220>"
      ]
     },
     "execution_count": 115,
     "metadata": {},
     "output_type": "execute_result"
    },
    {
     "data": {
      "image/png": "[encoded data removed]",
      "text/plain": [
       "<Figure size 435.625x360 with 1 Axes>"
      ]
     },
     "metadata": {
      "needs_background": "light"
     },
     "output_type": "display_data"
    }
   ],
   "source": [
    "sns.catplot(x='CWP_cutl', \n",
    "            y='ACTNL_incld',\n",
    "            data=df_mod[df_mod['OA_category'].notna()].reset_index(),\n",
    "\n",
    "            hue='OA_category',\n",
    "            kind='violin'\n",
    "           )"
   ]
  },
  {
   "cell_type": "code",
   "execution_count": 116,
   "id": "7a950ce7-8ec9-4ae8-8001-709ef4dc6e24",
   "metadata": {},
   "outputs": [
    {
     "name": "stderr",
     "output_type": "stream",
     "text": [
      "/home/x_sarbl/miniconda3/envs/env_analys/lib/python3.8/site-packages/pandas/io/formats/format.py:1429: FutureWarning: Index.ravel returning ndarray is deprecated; in a future version this will return a view on self.\n",
      "  for val, m in zip(values.ravel(), mask.ravel())\n"
     ]
    },
    {
     "data": {
      "text/plain": [
       "(0.0, 25.0)"
      ]
     },
     "execution_count": 116,
     "metadata": {},
     "output_type": "execute_result"
    },
    {
     "data": {
      "image/png": "[encoded data removed]",
      "text/plain": [
       "<Figure size 435.625x360 with 1 Axes>"
      ]
     },
     "metadata": {
      "needs_background": "light"
     },
     "output_type": "display_data"
    }
   ],
   "source": [
    "sns.catplot(x='CWP_cutl', \n",
    "            y='ACTREL_incld',\n",
    "            data=df_mod[df_mod['OA_category'].notna()].reset_index(),\n",
    "            hue_order=['OA low','OA high'],\n",
    "\n",
    "            hue='OA_category',\n",
    "            kind='boxen',\n",
    "           )\n",
    "plt.ylim([0,25])"
   ]
  },
  {
   "cell_type": "code",
   "execution_count": 117,
   "id": "10e056dd-abbf-4053-b11c-5a29fbc85e94",
   "metadata": {},
   "outputs": [
    {
     "name": "stderr",
     "output_type": "stream",
     "text": [
      "/home/x_sarbl/miniconda3/envs/env_analys/lib/python3.8/site-packages/pandas/io/formats/format.py:1429: FutureWarning: Index.ravel returning ndarray is deprecated; in a future version this will return a view on self.\n",
      "  for val, m in zip(values.ravel(), mask.ravel())\n"
     ]
    },
    {
     "data": {
      "text/plain": [
       "(0.0, 25.0)"
      ]
     },
     "execution_count": 117,
     "metadata": {},
     "output_type": "execute_result"
    },
    {
     "data": {
      "image/png": "[encoded data removed]",
      "text/plain": [
       "<Figure size 435.625x360 with 1 Axes>"
      ]
     },
     "metadata": {
      "needs_background": "light"
     },
     "output_type": "display_data"
    }
   ],
   "source": [
    "sns.catplot(x='CWP_cutl', \n",
    "            y='ACTREL_incld',\n",
    "            data=df_mod[df_mod['OA_category'].notna()].reset_index(),\n",
    "            hue_order=['OA low','OA high'],\n",
    "\n",
    "            hue='OA_category',\n",
    "            kind='swarm',\n",
    "           )\n",
    "plt.ylim([0,25])"
   ]
  },
  {
   "cell_type": "code",
   "execution_count": null,
   "id": "8ef2a75a-222d-494e-823d-2145469e1afb",
   "metadata": {},
   "outputs": [],
   "source": []
  },
  {
   "cell_type": "code",
   "execution_count": null,
   "id": "74e70d7e-b5e6-4a99-a692-52e14b965aeb",
   "metadata": {},
   "outputs": [],
   "source": []
  },
  {
   "cell_type": "code",
   "execution_count": null,
   "id": "e3a8859b-1993-4f75-a15a-bede4d8c321e",
   "metadata": {},
   "outputs": [],
   "source": []
  },
  {
   "cell_type": "code",
   "execution_count": null,
   "id": "6a007bf9-864a-4dde-b4f0-bc4a0c774409",
   "metadata": {},
   "outputs": [],
   "source": []
  },
  {
   "cell_type": "code",
   "execution_count": null,
   "id": "c66dd8ae-2a35-465f-b3bd-4180d635e22f",
   "metadata": {},
   "outputs": [],
   "source": []
  }
 ],
 "metadata": {
  "jupytext": {
   "encoding": "# -*- coding: utf-8 -*-",
   "formats": "ipynb,py:percent"
  },
  "kernelspec": {
   "display_name": "Python 3 (ipykernel)",
   "language": "python",
   "name": "python3"
  },
  "language_info": {
   "codemirror_mode": {
    "name": "ipython",
    "version": 3
   },
   "file_extension": ".py",
   "mimetype": "text/x-python",
   "name": "python",
   "nbconvert_exporter": "python",
   "pygments_lexer": "ipython3",
   "version": "3.8.10"
  }
 },
 "nbformat": 4,
 "nbformat_minor": 5
}
