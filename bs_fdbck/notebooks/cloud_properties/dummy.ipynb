{
 "cells": [
  {
   "cell_type": "code",
   "execution_count": null,
   "id": "8e230ccd-f8ab-41bc-a5c5-ecd8c00bdd3c",
   "metadata": {},
   "outputs": [],
   "source": []
  },
  {
   "cell_type": "code",
   "execution_count": 1,
   "id": "72faf2aa-b33a-4d03-bf1d-11f689b70c48",
   "metadata": {
    "lines_to_next_cell": 2
   },
   "outputs": [
    {
     "name": "stdout",
     "output_type": "stream",
     "text": [
      "WARNING: depricated, use \n",
      " from pathlib import Path \n",
      " Path(path).mkdir(exist_ok=True, parents=True)\n"
     ]
    }
   ],
   "source": [
    "import xarray as xr  \n",
    "\n",
    "import pandas as pd\n",
    "import matplotlib.pyplot as plt\n",
    "from pathlib import Path\n",
    "from bs_fdbck.constants import path_extract_latlon_outdata\n",
    "from dask.diagnostics import ProgressBar\n",
    "import seaborn as sns"
   ]
  },
  {
   "cell_type": "code",
   "execution_count": 2,
   "id": "8a7dec00-b772-4cfc-a30f-ca5da7f63e8e",
   "metadata": {
    "lines_to_next_cell": 1
   },
   "outputs": [],
   "source": [
    "from bs_fdbck.util.BSOA_datamanip import compute_total_tau, broadcase_station_data, change_units_and_compute_vars, \\\n",
    "    get_dic_df_mod"
   ]
  },
  {
   "cell_type": "code",
   "execution_count": 3,
   "id": "52bc0cbf-e077-4816-996b-9ed991971338",
   "metadata": {},
   "outputs": [],
   "source": [
    "def make_fn(case, v_x, v_y, comment=''):\n",
    "    _x = v_x.split('(')[0]\n",
    "    _y = v_y.split('(')[0]\n",
    "    f = f'dist_plots_{comment}_{case}_{_x}_{_y}.png'\n",
    "    return plot_path /f\n",
    "\n"
   ]
  },
  {
   "cell_type": "code",
   "execution_count": 4,
   "id": "538330b1-5aef-4ee5-9f08-49f9b772e744",
   "metadata": {},
   "outputs": [],
   "source": [
    "plot_path = Path('Plots')"
   ]
  },
  {
   "cell_type": "code",
   "execution_count": 5,
   "id": "316ecb67-bb53-4f2a-b352-46f4c512cf68",
   "metadata": {},
   "outputs": [
    {
     "data": {
      "text/plain": [
       "<xarray.core.options.set_options at 0x7f42140a3f40>"
      ]
     },
     "execution_count": 5,
     "metadata": {},
     "output_type": "execute_result"
    }
   ],
   "source": [
    "xr.set_options(keep_attrs=True) "
   ]
  },
  {
   "cell_type": "markdown",
   "id": "c14d1a57-ce28-455e-b9da-1a91065ca217",
   "metadata": {},
   "source": [
    "## Get observational data"
   ]
  },
  {
   "cell_type": "code",
   "execution_count": 6,
   "id": "a16dc54a-22a0-4176-b773-a47c500f704e",
   "metadata": {},
   "outputs": [],
   "source": [
    "import pandas as pd"
   ]
  },
  {
   "cell_type": "code",
   "execution_count": null,
   "id": "afee285f-6fd7-4430-b547-948320239d4f",
   "metadata": {},
   "outputs": [],
   "source": []
  },
  {
   "cell_type": "code",
   "execution_count": 7,
   "id": "0f2773ec-5762-4bd9-a794-ceebfca6a221",
   "metadata": {},
   "outputs": [],
   "source": [
    "from bs_fdbck.constants import measurements_path"
   ]
  },
  {
   "cell_type": "markdown",
   "id": "b4e43ab4-d7fe-492d-a19c-72a2cc73eae3",
   "metadata": {
    "tags": []
   },
   "source": [
    "## Get model data:"
   ]
  },
  {
   "cell_type": "markdown",
   "id": "34fd139b-5900-4a40-a86b-2f779dd9402f",
   "metadata": {
    "tags": []
   },
   "source": [
    "### Settings"
   ]
  },
  {
   "cell_type": "code",
   "execution_count": 8,
   "id": "a39d1639-4303-4be5-b220-c38d49cca1a6",
   "metadata": {},
   "outputs": [],
   "source": [
    "lat_smr = 61.85\n",
    "lon_smr = 24.28\n",
    "model_lev_i=-1"
   ]
  },
  {
   "cell_type": "code",
   "execution_count": 9,
   "id": "6d2c402e-d8a6-4e68-9e64-fc4608a923db",
   "metadata": {
    "lines_to_next_cell": 0
   },
   "outputs": [],
   "source": [
    "temperature = 273.15  # K\n",
    "\n",
    "\n",
    "from_time1 = '2012-01-01'\n",
    "to_time1 = '2015-01-01'\n",
    "from_time2 ='2015-01-01'\n",
    "to_time2 ='2019-01-01'\n",
    "\n",
    "\n",
    "sel_years_from_files = ['2012','2014','2015','2018']"
   ]
  },
  {
   "cell_type": "code",
   "execution_count": 10,
   "id": "e8bb9582-03b1-45b4-ae75-63b6a2c9c2f7",
   "metadata": {},
   "outputs": [],
   "source": [
    "case_name = 'OsloAero_intBVOC_f09_f09_mg17_fssp245'\n",
    "\n",
    "case_name1 = 'OsloAero_intBVOC_f09_f09_mg17_full'\n",
    "case_name2 = 'OsloAero_intBVOC_f09_f09_mg17_ssp245'"
   ]
  },
  {
   "cell_type": "code",
   "execution_count": 11,
   "id": "5401f3bb-da8b-49dd-97bb-6c522bb927bc",
   "metadata": {},
   "outputs": [],
   "source": [
    "fn1 = path_extract_latlon_outdata/ case_name1/f'{case_name1}.h1._{from_time1}-{to_time1}_concat_subs_22.0-30.0_60.0-66.0.nc'\n",
    "fn1_2 = fn1.parent / f'{fn1.stem}_sort.nc'\n",
    "fn1_3 = fn1.parent / f'{fn1.stem}_lev-1.nc'\n",
    "\n",
    "fn2 = path_extract_latlon_outdata/ case_name2/f'{case_name2}.h1._{from_time2}-{to_time2}_concat_subs_22.0-30.0_60.0-66.0.nc'\n",
    "\n",
    "fn2_2 = fn2.parent / f'{fn2.stem}_sort.nc'\n",
    "fn2_3 = fn2.parent / f'{fn2.stem}_lev-1.nc'\n",
    "\n",
    "fn_comb =path_extract_latlon_outdata / case_name /f'{case_name}.h1._{from_time1}-{to_time2}_concat_subs_22.0-30.0_60.0-66.0.nc'\n",
    "fn_comb_lev1 = path_extract_latlon_outdata/ case_name/f'{case_name}.h1._{from_time1}-{to_time2}_concat_subs_22.0-30.0_60.0-66.0_lev1.nc'\n",
    "fn_comb_lev1_final = path_extract_latlon_outdata/ case_name/f'{case_name}.h1._{from_time1}-{to_time2}_concat_subs_22.0-30.0_60.0-66.0_lev1_final.nc'\n",
    "fn_comb_lev1_final_csv = path_extract_latlon_outdata/ case_name/f'{case_name}.h1._{from_time1}-{to_time2}_concat_subs_22.0-30.0_60.0-66.0_lev1_final.csv'"
   ]
  },
  {
   "cell_type": "code",
   "execution_count": 12,
   "id": "b54b9cff-b4fa-4e67-ab6e-668e2187a51d",
   "metadata": {},
   "outputs": [],
   "source": [
    "\n",
    "cases = [case_name]"
   ]
  },
  {
   "cell_type": "code",
   "execution_count": 13,
   "id": "c1e40bde-70e2-4b09-97d4-61bfc3336f9f",
   "metadata": {
    "lines_to_next_cell": 2
   },
   "outputs": [],
   "source": [
    "varl =['DOD500','DOD440','ACTREL','ACTNL','TGCLDLWP', #,'SOA_A1',\n",
    "       'H2SO4','SOA_LV','COAGNUCL','FORMRATE','T'\n",
    "       ,'FCTL',\n",
    "       'TOT_CLD_VISTAU','TOT_ICLD_VISTAU','TGCLDCWP',\n",
    "       'CLDFREE',\n",
    "      'SOA_NA','SOA_A1','OM_NI','OM_AI','OM_AC','SO4_NA','SO4_A1','SO4_A2','SO4_AC','SO4_PR',\n",
    "      'BC_N','BC_AX','BC_NI','BC_A','BC_AI','BC_AC','SS_A1','SS_A2','SS_A3','DST_A2','DST_A3', \n",
    "       'FSDSC','FSDSCDRF'\n",
    "      ]"
   ]
  },
  {
   "cell_type": "markdown",
   "id": "32dc773c-4796-4d4e-a182-138c38a9d547",
   "metadata": {},
   "source": [
    "## Station variables"
   ]
  },
  {
   "cell_type": "code",
   "execution_count": 14,
   "id": "8148b943-05ec-49ec-a90a-15fa08fc73e6",
   "metadata": {
    "lines_to_next_cell": 2
   },
   "outputs": [],
   "source": [
    "varl_st = [      'SOA_NA','SOA_A1','OM_NI','OM_AI','OM_AC','SO4_NA','SO4_A1','SO4_A2','SO4_AC','SO4_PR',\n",
    "      'BC_N','BC_AX','BC_NI','BC_A','BC_AI','BC_AC','SS_A1','SS_A2','SS_A3','DST_A2','DST_A3',\n",
    "                 ]\n",
    "\n",
    "\n",
    "varl_cl = ['TOT_CLD_VISTAU','TOT_ICLD_VISTAU','TGCLDCWP','TGCLDLWP','TGCLDIWP',\n",
    "           'TOT_CLD_VISTAU_s','TOT_ICLD_VISTAU_s','optical_depth',\n",
    "           'CLDFREE',\n",
    "           'FCTL',\n",
    "           'ACTREL','ACTNL','TGCLDLWP',\n",
    "           'FSDSC','FSDSCDRF',\n",
    "           'FCTI',\n",
    "           'FCTL',\n",
    "           'FLNS',\n",
    "           'FLNSC',\n",
    "           'FLNT',\n",
    "           'FLNTCDRF',\n",
    "           'FLNT_DRF',\n",
    "           'FLUS',\n",
    "           'FLUTC','FORMRATE',\n",
    "           'FREQI',\n",
    "           'FREQL',\n",
    "           'FSDSCDRF',\n",
    "           'FSDS_DRF',\n",
    "           'FSNS',\n",
    "           'FSNSC',\n",
    "           'FSNT',\n",
    "           'FSNTCDRF',\n",
    "           'FSNT_DRF',\n",
    "           'FSUS_DRF',\n",
    "           'FSUTADRF',\n",
    "           ]"
   ]
  },
  {
   "cell_type": "markdown",
   "id": "62095519-8d61-462e-988c-c20c38cd2549",
   "metadata": {
    "tags": []
   },
   "source": [
    "## If file not already createad already, skip this part"
   ]
  },
  {
   "cell_type": "code",
   "execution_count": 15,
   "id": "43e80e7a-d4f1-44f3-adcf-92e820af7d59",
   "metadata": {},
   "outputs": [
    {
     "data": {
      "text/plain": [
       "True"
      ]
     },
     "execution_count": 15,
     "metadata": {},
     "output_type": "execute_result"
    }
   ],
   "source": [
    "fn_comb.exists()"
   ]
  },
  {
   "cell_type": "code",
   "execution_count": 16,
   "id": "2d02c397-62de-40dc-a0a7-c1df44c8060c",
   "metadata": {
    "lines_to_next_cell": 2,
    "tags": []
   },
   "outputs": [],
   "source": [
    "if not fn_comb.exists():\n",
    "    if (not fn1_2.exists()) or (not fn2_2.exists()):\n",
    "        ds_mod1 = xr.open_dataset(fn1, chunks = {'time':96})#[fn1,fn2])#.sortby('time')\n",
    "        ds_mod2 = xr.open_dataset(fn2, chunks = {'time':96})\n",
    "\n",
    "        varl1 = set(ds_mod1.data_vars)\n",
    "\n",
    "        varl2 = set(ds_mod2.data_vars)\n",
    "\n",
    "\n",
    "        varl =list(varl1.intersection(varl2))\n",
    "\n",
    "        ds_mod1 = ds_mod1[varl].sel(time=slice(sel_years_from_files[0],sel_years_from_files[1]))#.sortby('time')\n",
    "\n",
    "        ds_mod2 = ds_mod2[varl].sel(time=slice(sel_years_from_files[2],sel_years_from_files[3]))#.sortby('time')\n",
    "        print('HEEEEY')\n",
    "        if not fn1_2.exists():\n",
    "            delayed_obj = ds_mod1.to_netcdf(fn1_2, compute=False)\n",
    "            with ProgressBar():\n",
    "                results = delayed_obj.compute()\n",
    "        if not fn2_2.exists():\n",
    "            delayed_obj = ds_mod2.to_netcdf(fn2_2, compute=False)\n",
    "            with ProgressBar():\n",
    "                results = delayed_obj.compute()\n",
    "    \n",
    "    if not fn1_3.exists():\n",
    "            ds_mod1 = xr.open_dataset(fn1_2, chunks = {'time':48})#[fn1,fn2])#.sortby('time')\n",
    "            ds_mod1 = compute_total_tau(ds_mod1)\n",
    "            ds_mod1 = ds_mod1.isel(lev = model_lev_i)\n",
    "            ds_mod1 = ds_mod1.sortby('time')#.sel(time=slice('2012','2014'))\n",
    "            delayed_obj = ds_mod1.to_netcdf(fn1_3, compute=False)\n",
    "            print('hey 1')\n",
    "            with ProgressBar():\n",
    "                results = delayed_obj.compute()\n",
    "    if not fn2_3.exists():\n",
    "            ds_mod2 = xr.open_dataset(fn2_2, chunks = {'time':48})#[fn1,fn2])#.sortby('time')\n",
    "            ds_mod2 = compute_total_tau(ds_mod2)\n",
    "            ds_mod2 = ds_mod2.isel(lev = model_lev_i)\n",
    "            ds_mod2 = ds_mod2.sortby('time')#.sel(time=slice('2012','2014'))\n",
    "            delayed_obj = ds_mod2.to_netcdf(fn2_3, compute=False)\n",
    "            print('hey')\n",
    "            with ProgressBar():\n",
    "                results = delayed_obj.compute()\n",
    "    \n",
    "    \n",
    "    ds_mod = xr.open_mfdataset([fn1_3,fn2_3], combine='by_coords', concat_dim='time')\n",
    "\n",
    "    fn_comb.parent.mkdir(exist_ok=True,)\n",
    "\n",
    "    delayed_obj = ds_mod.to_netcdf(fn_comb, compute = False)\n",
    "    with ProgressBar():\n",
    "        results = delayed_obj.compute()\n",
    "\n",
    "    #ds_mod = xr.concat([ds_mod1[varl].sel(time=slice('2012','2014')), ds_mod2[varl].sel(time=slice('2015','2018'))], dim='time')"
   ]
  },
  {
   "cell_type": "markdown",
   "id": "0de6d661-eae1-4727-929d-e5fbe8d1e8f3",
   "metadata": {
    "lines_to_next_cell": 2,
    "tags": []
   },
   "source": [
    "### Select hyytiala grid cell:\n",
    "    "
   ]
  },
  {
   "cell_type": "markdown",
   "id": "2b461618-9d00-464b-b6ee-a59120191b62",
   "metadata": {
    "lines_to_next_cell": 2,
    "tags": []
   },
   "source": [
    "    #if not fn_comb_lev1.exists():\n",
    "    ds_mod = xr.open_dataset(fn_comb, chunks = {'time':48})#[fn1,fn2])#.sortby('time')\n",
    "    #ds_mod2 = xr.open_dataset(fn2, chunks = {'time':48})\n",
    "\n",
    "    #ds_mod = compute_total_tau(ds_mod)\n",
    "\n",
    "    #ds_mod = ds_mod.sortby('time')#.sel(time=slice('2012','2014'))\n",
    "\n",
    "    #ds_mod = ds_mod.isel(lev = model_lev_i)\n",
    "\n",
    "\n",
    "    delayed_obj = ds_mod.to_netcdf(fn_test)#, compute=False)\n",
    "    #    print('hey')\n",
    "    #with ProgressBar():\n",
    "    #    results = delayed_obj.compute()"
   ]
  },
  {
   "cell_type": "markdown",
   "id": "689ef1e5-8d76-4697-887c-c48814df4535",
   "metadata": {},
   "source": [
    "## If file createad already, skip to here"
   ]
  },
  {
   "cell_type": "markdown",
   "id": "cb466b0e-efd0-4110-a749-79cb8c31caa6",
   "metadata": {
    "tags": []
   },
   "source": [
    "### Select hyytiala grid cell:"
   ]
  },
  {
   "cell_type": "markdown",
   "id": "c951be0e-62b1-42a5-9685-d0acf4f56416",
   "metadata": {},
   "source": [
    "We use only hyytiala for org etc, but all grid cells over finland for cloud properties"
   ]
  },
  {
   "cell_type": "code",
   "execution_count": 17,
   "id": "ed2ec6ca-6365-4847-bf3e-93db1acdb2f8",
   "metadata": {
    "lines_to_next_cell": 2
   },
   "outputs": [],
   "source": [
    "if not fn_comb_lev1_final.exists():\n",
    "    ds_all = xr.open_dataset(fn_comb).isel(ilev=model_lev_i)\n",
    "    ds_sel = ds_all.sel(lat = lat_smr, lon= lon_smr, method='nearest')#.isel( ilev=model_lev_i)#.load()\n",
    "    ds_all = ds_all.isel(\n",
    "        #ilev=-1,\n",
    "        # cosp_tau_modis=0,\n",
    "        #                                                    cosp_tau=0,\n",
    "        #                                                   cosp_dbze=0,\n",
    "        #                                                    cosp_ht=0,\n",
    "        #                                                    cosp_prs = 0,\n",
    "        #                                                   cosp_reffice=0,\n",
    "        #                                                    cosp_htmisr=0,\n",
    "        #                                                    cosp_reffliq=0,\n",
    "        #                                                    cosp_scol=0,\n",
    "        #                                                    cosp_sr=0,\n",
    "        #                                                    cosp_sza=0,\n",
    "        nbnd=0\n",
    "    ).squeeze()\n",
    "    ds_all = broadcase_station_data(ds_all)\n",
    "    ds_all = change_units_and_compute_vars(ds_all, temperature=temperature)\n",
    "\n",
    "\n",
    "    delayed_obj = ds_all.to_netcdf(fn_comb_lev1_final, compute=False)\n",
    "    print('hey')\n",
    "    with ProgressBar():\n",
    "        results = delayed_obj.compute()"
   ]
  },
  {
   "cell_type": "markdown",
   "id": "054d7ff5-4c61-4388-8605-719a28cd9532",
   "metadata": {
    "incorrectly_encoded_metadata": "tags=[] jp-MarkdownHeadingCollapsed=true"
   },
   "source": [
    "### Broadcast ds_sel to same grid"
   ]
  },
  {
   "cell_type": "code",
   "execution_count": 18,
   "id": "b77432e0-5846-4d06-a050-c26073177323",
   "metadata": {
    "lines_to_next_cell": 2
   },
   "outputs": [],
   "source": [
    "\n",
    "ds_all = xr.open_dataset(fn_comb_lev1_final)"
   ]
  },
  {
   "cell_type": "code",
   "execution_count": 22,
   "id": "bc034d14-fbe0-4d49-82f3-3be9528faced",
   "metadata": {
    "lines_to_next_cell": 2
   },
   "outputs": [],
   "source": [
    "dic_ds = dict()\n",
    "dic_ds[case_name] =ds_all"
   ]
  },
  {
   "cell_type": "code",
   "execution_count": 23,
   "id": "876b2ce0-1382-475b-b367-b1d49dcc7d9a",
   "metadata": {},
   "outputs": [
    {
     "data": {
      "text/plain": [
       "dict_keys(['OsloAero_intBVOC_f09_f09_mg17_fssp245'])"
      ]
     },
     "execution_count": 23,
     "metadata": {},
     "output_type": "execute_result"
    }
   ],
   "source": [
    "dic_ds.keys()"
   ]
  },
  {
   "cell_type": "code",
   "execution_count": 21,
   "id": "b2581170-be0e-4b87-a397-eb98f4e78de6",
   "metadata": {},
   "outputs": [
    {
     "data": {
      "text/plain": [
       "[<matplotlib.lines.Line2D at 0x7f40dc7bed60>]"
      ]
     },
     "execution_count": 21,
     "metadata": {},
     "output_type": "execute_result"
    },
    {
     "data": {
      "image/png": "[encoded data removed]",
      "text/plain": [
       "<Figure size 432x288 with 1 Axes>"
      ]
     },
     "metadata": {
      "needs_background": "light"
     },
     "output_type": "display_data"
    }
   ],
   "source": [
    "ds_all['NCONC01'].isel(lat=0,lon=0).plot()"
   ]
  },
  {
   "cell_type": "code",
   "execution_count": 24,
   "id": "35d309bb-fa62-4c5a-a589-6be26169d048",
   "metadata": {},
   "outputs": [
    {
     "name": "stdout",
     "output_type": "stream",
     "text": [
      "<xarray.Dataset>\n",
      "Dimensions:            (time: 61344, lat: 6, lon: 7)\n",
      "Coordinates:\n",
      "    ilev               float64 1e+03\n",
      "  * lat                (lat) float64 60.79 61.73 62.67 63.61 64.55 65.5\n",
      "    lev                float64 992.6\n",
      "  * lon                (lon) float64 22.5 23.75 25.0 26.25 27.5 28.75 30.0\n",
      "  * time               (time) datetime64[ns] 2012-01-02 ... 2018-12-31T23:00:00\n",
      "Data variables: (12/191)\n",
      "    NMR13              (time, lat, lon) float32 ...\n",
      "    nscur              (time) int32 ...\n",
      "    hybm               (time) float64 ...\n",
      "    T                  (time, lat, lon) float32 ...\n",
      "    EC550AER           (time, lat, lon) float32 ...\n",
      "    FLNS               (time, lat, lon) float32 ...\n",
      "    ...                 ...\n",
      "    SOA                (time, lat, lon) float64 ...\n",
      "    OA                 (time, lat, lon) float64 ...\n",
      "    POA                (time, lat, lon) float64 ...\n",
      "    SO4                (time, lat, lon) float64 ...\n",
      "    optical_depth      (time, lat, lon) float32 ...\n",
      "    transmittance      (time, lat, lon) float32 ...\n",
      "Attributes:\n",
      "    Conventions:       CF-1.0\n",
      "    source:            CAM\n",
      "    case:              OsloAero_intBVOC_f09_f09_mg17_full\n",
      "    logname:           x_sarbl\n",
      "    host:              \n",
      "    initial_file:      spinup_freemet_f09_f09_mg17_from2000.cam.i.2011-01-01-...\n",
      "    topography_file:   /proj/cesm_input-data/inputdata/noresm-only/inputForNu...\n",
      "    model_doi_url:     https://doi.org/10.5065/D67H1H0V\n",
      "    time_period_freq:  hour_1\n",
      "    history:           Mon Apr 11 21:44:12 2022: ncrcat /proj/bolinc/users/x_...\n",
      "    NCO:               netCDF Operators version 4.7.9 (Homepage = http://nco....\n"
     ]
    }
   ],
   "source": [
    "    #if not fn_comb_lev1_final_csv.exists():\n",
    "    dic_df = get_dic_df_mod(dic_ds, select_hours_clouds=True)\n",
    "\n",
    "    df_mod = dic_df[case_name]\n",
    "    df_mod.to_csv(fn_comb_lev1_final_csv)"
   ]
  },
  {
   "cell_type": "code",
   "execution_count": 26,
   "id": "2ff29c96-2441-46a2-9447-c4fa2b04cfb2",
   "metadata": {},
   "outputs": [
    {
     "data": {
      "text/plain": [
       "<AxesSubplot:xlabel='time,lat,lon'>"
      ]
     },
     "execution_count": 26,
     "metadata": {},
     "output_type": "execute_result"
    },
    {
     "data": {
      "image/png": "[encoded data removed]",
      "text/plain": [
       "<Figure size 432x288 with 1 Axes>"
      ]
     },
     "metadata": {
      "needs_background": "light"
     },
     "output_type": "display_data"
    }
   ],
   "source": [
    "df_mod['CCN3'].plot()"
   ]
  },
  {
   "cell_type": "code",
   "execution_count": 32,
   "id": "d62f942d-e989-4bcd-9a7d-b35ab7b2e39d",
   "metadata": {},
   "outputs": [],
   "source": [
    "df_mod = pd.read_csv(fn_comb_lev1_final_csv, index_col=[0,1,2] )"
   ]
  }
 ],
 "metadata": {
  "jupytext": {
   "formats": "ipynb,py:percent"
  },
  "kernelspec": {
   "display_name": "Python 3 (ipykernel)",
   "language": "python",
   "name": "python3"
  },
  "language_info": {
   "codemirror_mode": {
    "name": "ipython",
    "version": 3
   },
   "file_extension": ".py",
   "mimetype": "text/x-python",
   "name": "python",
   "nbconvert_exporter": "python",
   "pygments_lexer": "ipython3",
   "version": "3.8.10"
  }
 },
 "nbformat": 4,
 "nbformat_minor": 5
}
