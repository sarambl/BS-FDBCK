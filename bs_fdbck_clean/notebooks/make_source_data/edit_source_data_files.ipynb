{
 "cells": [
  {
   "cell_type": "code",
   "execution_count": 1,
   "id": "initial_id",
   "metadata": {
    "collapsed": true,
    "ExecuteTime": {
     "end_time": "2023-12-18T17:26:54.891428Z",
     "start_time": "2023-12-18T17:26:11.178058Z"
    }
   },
   "outputs": [],
   "source": [
    "import pandas as pd"
   ]
  },
  {
   "cell_type": "code",
   "execution_count": 10,
   "outputs": [],
   "source": [
    "df_fig23 = pd.read_csv('../02-T2OA_OA2Nx/Plots/Both_stations/scat_all_years_2stations_together_JA_FMA_Fig2_Fig3.csv', index_col=0)\n"
   ],
   "metadata": {
    "collapsed": false,
    "ExecuteTime": {
     "end_time": "2023-12-18T17:40:45.282427Z",
     "start_time": "2023-12-18T17:40:45.241406Z"
    }
   },
   "id": "eec68dc6e39d83c0"
  },
  {
   "cell_type": "code",
   "execution_count": 14,
   "outputs": [
    {
     "data": {
      "text/plain": "           station  data_source  T [deg C]  Organic aerosol mass [ugm-3]  \\\ntime                                                                       \n2012-07-01     SMR  ECHAM-SALSA  18.582260                      1.606002   \n2012-07-02     SMR  ECHAM-SALSA  17.134735                      1.222597   \n2012-07-03     SMR  ECHAM-SALSA  18.198884                      0.671931   \n2012-07-04     SMR  ECHAM-SALSA  17.032409                      0.873673   \n2012-07-05     SMR  ECHAM-SALSA  21.368225                      1.150810   \n\n            N50 [#cm-3]  N100 [#cm-3]  N200 [#cm-3]  \ntime                                                 \n2012-07-01   1149.40460    217.438075     63.948521  \n2012-07-02    764.26460    223.391205     47.563403  \n2012-07-03    426.72479    189.808110      8.783231  \n2012-07-04    696.11532    215.647970     10.454337  \n2012-07-05    528.57750    284.398600     15.425049  ",
      "text/html": "<div>\n<style scoped>\n    .dataframe tbody tr th:only-of-type {\n        vertical-align: middle;\n    }\n\n    .dataframe tbody tr th {\n        vertical-align: top;\n    }\n\n    .dataframe thead th {\n        text-align: right;\n    }\n</style>\n<table border=\"1\" class=\"dataframe\">\n  <thead>\n    <tr style=\"text-align: right;\">\n      <th></th>\n      <th>station</th>\n      <th>data_source</th>\n      <th>T [deg C]</th>\n      <th>Organic aerosol mass [ugm-3]</th>\n      <th>N50 [#cm-3]</th>\n      <th>N100 [#cm-3]</th>\n      <th>N200 [#cm-3]</th>\n    </tr>\n    <tr>\n      <th>time</th>\n      <th></th>\n      <th></th>\n      <th></th>\n      <th></th>\n      <th></th>\n      <th></th>\n      <th></th>\n    </tr>\n  </thead>\n  <tbody>\n    <tr>\n      <th>2012-07-01</th>\n      <td>SMR</td>\n      <td>ECHAM-SALSA</td>\n      <td>18.582260</td>\n      <td>1.606002</td>\n      <td>1149.40460</td>\n      <td>217.438075</td>\n      <td>63.948521</td>\n    </tr>\n    <tr>\n      <th>2012-07-02</th>\n      <td>SMR</td>\n      <td>ECHAM-SALSA</td>\n      <td>17.134735</td>\n      <td>1.222597</td>\n      <td>764.26460</td>\n      <td>223.391205</td>\n      <td>47.563403</td>\n    </tr>\n    <tr>\n      <th>2012-07-03</th>\n      <td>SMR</td>\n      <td>ECHAM-SALSA</td>\n      <td>18.198884</td>\n      <td>0.671931</td>\n      <td>426.72479</td>\n      <td>189.808110</td>\n      <td>8.783231</td>\n    </tr>\n    <tr>\n      <th>2012-07-04</th>\n      <td>SMR</td>\n      <td>ECHAM-SALSA</td>\n      <td>17.032409</td>\n      <td>0.873673</td>\n      <td>696.11532</td>\n      <td>215.647970</td>\n      <td>10.454337</td>\n    </tr>\n    <tr>\n      <th>2012-07-05</th>\n      <td>SMR</td>\n      <td>ECHAM-SALSA</td>\n      <td>21.368225</td>\n      <td>1.150810</td>\n      <td>528.57750</td>\n      <td>284.398600</td>\n      <td>15.425049</td>\n    </tr>\n  </tbody>\n</table>\n</div>"
     },
     "execution_count": 14,
     "metadata": {},
     "output_type": "execute_result"
    }
   ],
   "source": [
    "df_fig23.head()"
   ],
   "metadata": {
    "collapsed": false,
    "ExecuteTime": {
     "end_time": "2023-12-18T17:41:53.499635Z",
     "start_time": "2023-12-18T17:41:53.443773Z"
    }
   },
   "id": "5ccf51f774f58599"
  },
  {
   "cell_type": "code",
   "execution_count": 15,
   "outputs": [],
   "source": [
    "df_fig23.to_csv('../../../Data/SourceData/Fig2Fig3.csv')"
   ],
   "metadata": {
    "collapsed": false,
    "ExecuteTime": {
     "end_time": "2023-12-18T17:47:55.880842Z",
     "start_time": "2023-12-18T17:47:55.713832Z"
    }
   },
   "id": "2649e4cfe37e3a62"
  },
  {
   "cell_type": "code",
   "execution_count": 34,
   "outputs": [],
   "source": [
    "df_fig45_atto = pd.read_csv('../03-cloud_properties/03-01-ATTO/Plots/cloud_props__ATTO_data_fig4__FMA.csv', index_col=0)"
   ],
   "metadata": {
    "collapsed": false,
    "ExecuteTime": {
     "end_time": "2023-12-18T18:27:45.598163Z",
     "start_time": "2023-12-18T18:27:45.414800Z"
    }
   },
   "id": "c576f3606dceace4"
  },
  {
   "cell_type": "code",
   "execution_count": 35,
   "outputs": [
    {
     "data": {
      "text/plain": "                lat      lon  OA [ugm-3]     COT []  r_eff [um] station  \\\ntime                                                                      \n2012-02-01 -2.79789  294.375    1.332552  18.057370    4.065387    ATTO   \n2012-02-01 -2.79789  300.000    1.332552  24.228577    8.281203    ATTO   \n2012-02-01 -2.79789  301.875    1.332552  32.971416    2.541879    ATTO   \n2012-02-01 -2.79789  303.750    1.332552   7.164207   23.460506    ATTO   \n2012-02-01 -4.66315  294.375    1.332552   8.718533   17.296658    ATTO   \n...             ...      ...         ...        ...         ...     ...   \n2017-03-18 -1.50000  -52.500    0.456561  12.580000   19.270000    ATTO   \n2017-03-27 -1.50000  -52.500    0.295751   8.210000   20.609999    ATTO   \n2017-04-07 -1.50000  -52.500    0.563776   6.720000   22.359999    ATTO   \n2017-04-09 -1.50000  -52.500    0.594209   5.560000   20.420000    ATTO   \n2017-04-11 -1.50000  -52.500    1.072802   7.200000   22.980000    ATTO   \n\n             data_source  \ntime                      \n2012-02-01   ECHAM-SALSA  \n2012-02-01   ECHAM-SALSA  \n2012-02-01   ECHAM-SALSA  \n2012-02-01   ECHAM-SALSA  \n2012-02-01   ECHAM-SALSA  \n...                  ...  \n2017-03-18  Observations  \n2017-03-27  Observations  \n2017-04-07  Observations  \n2017-04-09  Observations  \n2017-04-11  Observations  \n\n[163487 rows x 7 columns]",
      "text/html": "<div>\n<style scoped>\n    .dataframe tbody tr th:only-of-type {\n        vertical-align: middle;\n    }\n\n    .dataframe tbody tr th {\n        vertical-align: top;\n    }\n\n    .dataframe thead th {\n        text-align: right;\n    }\n</style>\n<table border=\"1\" class=\"dataframe\">\n  <thead>\n    <tr style=\"text-align: right;\">\n      <th></th>\n      <th>lat</th>\n      <th>lon</th>\n      <th>OA [ugm-3]</th>\n      <th>COT []</th>\n      <th>r_eff [um]</th>\n      <th>station</th>\n      <th>data_source</th>\n    </tr>\n    <tr>\n      <th>time</th>\n      <th></th>\n      <th></th>\n      <th></th>\n      <th></th>\n      <th></th>\n      <th></th>\n      <th></th>\n    </tr>\n  </thead>\n  <tbody>\n    <tr>\n      <th>2012-02-01</th>\n      <td>-2.79789</td>\n      <td>294.375</td>\n      <td>1.332552</td>\n      <td>18.057370</td>\n      <td>4.065387</td>\n      <td>ATTO</td>\n      <td>ECHAM-SALSA</td>\n    </tr>\n    <tr>\n      <th>2012-02-01</th>\n      <td>-2.79789</td>\n      <td>300.000</td>\n      <td>1.332552</td>\n      <td>24.228577</td>\n      <td>8.281203</td>\n      <td>ATTO</td>\n      <td>ECHAM-SALSA</td>\n    </tr>\n    <tr>\n      <th>2012-02-01</th>\n      <td>-2.79789</td>\n      <td>301.875</td>\n      <td>1.332552</td>\n      <td>32.971416</td>\n      <td>2.541879</td>\n      <td>ATTO</td>\n      <td>ECHAM-SALSA</td>\n    </tr>\n    <tr>\n      <th>2012-02-01</th>\n      <td>-2.79789</td>\n      <td>303.750</td>\n      <td>1.332552</td>\n      <td>7.164207</td>\n      <td>23.460506</td>\n      <td>ATTO</td>\n      <td>ECHAM-SALSA</td>\n    </tr>\n    <tr>\n      <th>2012-02-01</th>\n      <td>-4.66315</td>\n      <td>294.375</td>\n      <td>1.332552</td>\n      <td>8.718533</td>\n      <td>17.296658</td>\n      <td>ATTO</td>\n      <td>ECHAM-SALSA</td>\n    </tr>\n    <tr>\n      <th>...</th>\n      <td>...</td>\n      <td>...</td>\n      <td>...</td>\n      <td>...</td>\n      <td>...</td>\n      <td>...</td>\n      <td>...</td>\n    </tr>\n    <tr>\n      <th>2017-03-18</th>\n      <td>-1.50000</td>\n      <td>-52.500</td>\n      <td>0.456561</td>\n      <td>12.580000</td>\n      <td>19.270000</td>\n      <td>ATTO</td>\n      <td>Observations</td>\n    </tr>\n    <tr>\n      <th>2017-03-27</th>\n      <td>-1.50000</td>\n      <td>-52.500</td>\n      <td>0.295751</td>\n      <td>8.210000</td>\n      <td>20.609999</td>\n      <td>ATTO</td>\n      <td>Observations</td>\n    </tr>\n    <tr>\n      <th>2017-04-07</th>\n      <td>-1.50000</td>\n      <td>-52.500</td>\n      <td>0.563776</td>\n      <td>6.720000</td>\n      <td>22.359999</td>\n      <td>ATTO</td>\n      <td>Observations</td>\n    </tr>\n    <tr>\n      <th>2017-04-09</th>\n      <td>-1.50000</td>\n      <td>-52.500</td>\n      <td>0.594209</td>\n      <td>5.560000</td>\n      <td>20.420000</td>\n      <td>ATTO</td>\n      <td>Observations</td>\n    </tr>\n    <tr>\n      <th>2017-04-11</th>\n      <td>-1.50000</td>\n      <td>-52.500</td>\n      <td>1.072802</td>\n      <td>7.200000</td>\n      <td>22.980000</td>\n      <td>ATTO</td>\n      <td>Observations</td>\n    </tr>\n  </tbody>\n</table>\n<p>163487 rows × 7 columns</p>\n</div>"
     },
     "execution_count": 35,
     "metadata": {},
     "output_type": "execute_result"
    }
   ],
   "source": [
    "df_fig45_atto"
   ],
   "metadata": {
    "collapsed": false,
    "ExecuteTime": {
     "end_time": "2023-12-18T18:27:46.112483Z",
     "start_time": "2023-12-18T18:27:46.103402Z"
    }
   },
   "id": "3f91ab87df356cf6"
  },
  {
   "cell_type": "code",
   "execution_count": 36,
   "outputs": [],
   "source": [
    "df_fig45_smr = pd.read_csv('../03-cloud_properties/03-02-SMR/Plots/cloud_props__SMR_data_fig4__JA.csv', index_col=0)\n"
   ],
   "metadata": {
    "collapsed": false,
    "ExecuteTime": {
     "end_time": "2023-12-18T18:27:47.054581Z",
     "start_time": "2023-12-18T18:27:47.017736Z"
    }
   },
   "id": "2701d9fc0d201a75"
  },
  {
   "cell_type": "markdown",
   "source": [],
   "metadata": {
    "collapsed": false
   },
   "id": "6380654803608d97"
  },
  {
   "cell_type": "code",
   "execution_count": 37,
   "outputs": [
    {
     "data": {
      "text/plain": "                  lat     lon  OA [ugm-3]     COT []  r_eff [um] station  \\\ntime                                                                       \n2012-07-01  64.350730  24.375    1.265626  11.598585   13.771032    ATTO   \n2012-07-01  64.350730  26.250    1.265626  31.440903    8.196594    ATTO   \n2012-07-01  64.350730  28.125    1.265626  30.382397    6.886576    ATTO   \n2012-07-01  64.350730  30.000    1.265626  34.299904    5.831119    ATTO   \n2012-07-01  62.485571  26.250    1.265626  14.667716    8.120436    ATTO   \n\n            data_source  \ntime                     \n2012-07-01  ECHAM-SALSA  \n2012-07-01  ECHAM-SALSA  \n2012-07-01  ECHAM-SALSA  \n2012-07-01  ECHAM-SALSA  \n2012-07-01  ECHAM-SALSA  ",
      "text/html": "<div>\n<style scoped>\n    .dataframe tbody tr th:only-of-type {\n        vertical-align: middle;\n    }\n\n    .dataframe tbody tr th {\n        vertical-align: top;\n    }\n\n    .dataframe thead th {\n        text-align: right;\n    }\n</style>\n<table border=\"1\" class=\"dataframe\">\n  <thead>\n    <tr style=\"text-align: right;\">\n      <th></th>\n      <th>lat</th>\n      <th>lon</th>\n      <th>OA [ugm-3]</th>\n      <th>COT []</th>\n      <th>r_eff [um]</th>\n      <th>station</th>\n      <th>data_source</th>\n    </tr>\n    <tr>\n      <th>time</th>\n      <th></th>\n      <th></th>\n      <th></th>\n      <th></th>\n      <th></th>\n      <th></th>\n      <th></th>\n    </tr>\n  </thead>\n  <tbody>\n    <tr>\n      <th>2012-07-01</th>\n      <td>64.350730</td>\n      <td>24.375</td>\n      <td>1.265626</td>\n      <td>11.598585</td>\n      <td>13.771032</td>\n      <td>ATTO</td>\n      <td>ECHAM-SALSA</td>\n    </tr>\n    <tr>\n      <th>2012-07-01</th>\n      <td>64.350730</td>\n      <td>26.250</td>\n      <td>1.265626</td>\n      <td>31.440903</td>\n      <td>8.196594</td>\n      <td>ATTO</td>\n      <td>ECHAM-SALSA</td>\n    </tr>\n    <tr>\n      <th>2012-07-01</th>\n      <td>64.350730</td>\n      <td>28.125</td>\n      <td>1.265626</td>\n      <td>30.382397</td>\n      <td>6.886576</td>\n      <td>ATTO</td>\n      <td>ECHAM-SALSA</td>\n    </tr>\n    <tr>\n      <th>2012-07-01</th>\n      <td>64.350730</td>\n      <td>30.000</td>\n      <td>1.265626</td>\n      <td>34.299904</td>\n      <td>5.831119</td>\n      <td>ATTO</td>\n      <td>ECHAM-SALSA</td>\n    </tr>\n    <tr>\n      <th>2012-07-01</th>\n      <td>62.485571</td>\n      <td>26.250</td>\n      <td>1.265626</td>\n      <td>14.667716</td>\n      <td>8.120436</td>\n      <td>ATTO</td>\n      <td>ECHAM-SALSA</td>\n    </tr>\n  </tbody>\n</table>\n</div>"
     },
     "execution_count": 37,
     "metadata": {},
     "output_type": "execute_result"
    }
   ],
   "source": [
    "df_fig45 = pd.concat([df_fig45_smr, df_fig45_atto])\n",
    "\n",
    "df_fig45.head()\n"
   ],
   "metadata": {
    "collapsed": false,
    "ExecuteTime": {
     "end_time": "2023-12-18T18:27:52.630093Z",
     "start_time": "2023-12-18T18:27:52.600405Z"
    }
   },
   "id": "c5eb2a395138da43"
  },
  {
   "cell_type": "code",
   "execution_count": 38,
   "outputs": [],
   "source": [
    "df_fig45.to_csv('../../../Data/SourceData/Fig4Fig5.csv', )\n"
   ],
   "metadata": {
    "collapsed": false,
    "ExecuteTime": {
     "end_time": "2023-12-18T18:27:56.180407Z",
     "start_time": "2023-12-18T18:27:55.354378Z"
    }
   },
   "id": "622bed6c089f22f0"
  },
  {
   "cell_type": "code",
   "execution_count": null,
   "outputs": [],
   "source": [],
   "metadata": {
    "collapsed": false
   },
   "id": "748fc94423ac8c25"
  }
 ],
 "metadata": {
  "kernelspec": {
   "display_name": "Python 3",
   "language": "python",
   "name": "python3"
  },
  "language_info": {
   "codemirror_mode": {
    "name": "ipython",
    "version": 2
   },
   "file_extension": ".py",
   "mimetype": "text/x-python",
   "name": "python",
   "nbconvert_exporter": "python",
   "pygments_lexer": "ipython2",
   "version": "2.7.6"
  }
 },
 "nbformat": 4,
 "nbformat_minor": 5
}
