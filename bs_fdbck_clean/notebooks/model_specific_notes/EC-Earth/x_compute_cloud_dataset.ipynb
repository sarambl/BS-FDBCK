{
 "cells": [
  {
   "cell_type": "code",
   "execution_count": null,
   "id": "c56fcc71-49c7-4031-b70e-6922888903c3",
   "metadata": {},
   "outputs": [],
   "source": []
  },
  {
   "cell_type": "code",
   "execution_count": 83,
   "id": "e8c99dad-99c1-431c-aa58-2cb94dd52a94",
   "metadata": {
    "lines_to_next_cell": 2
   },
   "outputs": [
    {
     "name": "stdout",
     "output_type": "stream",
     "text": [
      "The autoreload extension is already loaded. To reload it, use:\n",
      "  %reload_ext autoreload\n"
     ]
    }
   ],
   "source": [
    "%load_ext autoreload\n",
    "%autoreload 2"
   ]
  },
  {
   "cell_type": "code",
   "execution_count": 84,
   "id": "ca8a4b64-dcdd-4a19-b753-7de40085f329",
   "metadata": {
    "lines_to_next_cell": 2
   },
   "outputs": [],
   "source": [
    "import useful_scit.util.log as log\n",
    "log.ger.setLevel(log.log.INFO)\n",
    "import xarray as xr\n",
    "\n",
    "import matplotlib.pyplot as plt\n",
    "from bs_fdbck.constants import path_extract_latlon_outdata\n",
    "from dask.diagnostics import ProgressBar\n",
    "\n",
    "from bs_fdbck.util.imports import import_fields_xr_echam\n",
    "\n",
    "from bs_fdbck.util.BSOA_datamanip import compute_total_tau, broadcase_station_data, change_units_and_compute_vars, \\\n",
    "    get_dic_df_mod, change_units_and_compute_vars_echam, extract_2D_cloud_time_echam, rn_dic_echam_cloud,rn_dic_noresm_cloud\n",
    "\n",
    "from bs_fdbck.util.BSOA_datamanip import fix_echam_time\n",
    "\n",
    "import pandas as pd"
   ]
  },
  {
   "cell_type": "code",
   "execution_count": 85,
   "id": "46f04537-3756-41c4-84d0-67856d78a71f",
   "metadata": {},
   "outputs": [],
   "source": [
    "from timeit import default_timer as timer\n",
    "\n",
    "\n",
    "\n",
    "from dask.diagnostics import ProgressBar\n",
    "\n",
    "from bs_fdbck.util.BSOA_datamanip.atto import season2month"
   ]
  },
  {
   "cell_type": "code",
   "execution_count": 86,
   "id": "545a5ed8-cec8-4162-9750-b3e69b002588",
   "metadata": {},
   "outputs": [],
   "source": [
    "\n",
    "select_station = 'ATTO'"
   ]
  },
  {
   "cell_type": "code",
   "execution_count": 87,
   "id": "adb25454-822a-4cbf-9af3-e97d44f35602",
   "metadata": {},
   "outputs": [
    {
     "data": {
      "text/plain": [
       "<xarray.core.options.set_options at 0x7f01aebfc9d0>"
      ]
     },
     "execution_count": 87,
     "metadata": {},
     "output_type": "execute_result"
    }
   ],
   "source": [
    "xr.set_options(keep_attrs=True) "
   ]
  },
  {
   "cell_type": "code",
   "execution_count": 88,
   "id": "046e4393-a20a-457f-93c1-76540b0ef5cc",
   "metadata": {
    "lines_to_next_cell": 2
   },
   "outputs": [],
   "source": [
    "calc_seasons = ['ALL_year']"
   ]
  },
  {
   "cell_type": "code",
   "execution_count": null,
   "id": "f4a23d99-7c8e-46e1-988a-283d018120d9",
   "metadata": {},
   "outputs": [],
   "source": []
  },
  {
   "cell_type": "code",
   "execution_count": 89,
   "id": "7c43ce24-8b9c-4c82-99f4-7b317a6df95f",
   "metadata": {
    "lines_to_next_cell": 2
   },
   "outputs": [],
   "source": [
    "tau_lims = [5,50]\n",
    "r_eff_lim = 1\n",
    "cloud_top_temp_above = -15 \n",
    "cld_water_path_above = 50\n",
    "#include_months = [7,8]"
   ]
  },
  {
   "cell_type": "code",
   "execution_count": 90,
   "id": "52bde4e1-8357-447c-bc45-e3af3c2ca354",
   "metadata": {},
   "outputs": [],
   "source": [
    "from bs_fdbck.constants import path_measurement_data\n",
    "postproc_data = path_measurement_data /'model_station'/select_station\n",
    "postproc_data_obs = path_measurement_data /select_station/'processed'\n",
    "\n"
   ]
  },
  {
   "cell_type": "code",
   "execution_count": 91,
   "id": "bca75d4f-3b1d-4195-bf05-6e7654596295",
   "metadata": {},
   "outputs": [],
   "source": [
    "lon_lims = [293.,308.]\n",
    "lat_lims = [-8.,-1.]\n",
    "\n",
    "lat_smr = -2.150\n",
    "lon_smr = 360-59.009\n",
    "model_lev_i=-2\n",
    "\n",
    "\n",
    "temperature = 273.15  # K\n",
    "\n",
    "\n",
    "from_time1 = '2012-01-01'\n",
    "to_time1 = '2015-01-01'\n",
    "from_time2 ='2015-01-01'\n",
    "to_time2 ='2019-01-01'\n",
    "sel_years_from_files = ['2012','2014','2015','2018']"
   ]
  },
  {
   "cell_type": "markdown",
   "id": "38693200-304e-41ca-be5c-5460a8c5baca",
   "metadata": {
    "tags": []
   },
   "source": [
    "## Daytime values\n",
    "\n",
    "\n",
    "Set the daytime to be from 10 to 17 each day"
   ]
  },
  {
   "cell_type": "code",
   "execution_count": 92,
   "id": "073ce02b-a3c1-4c5a-9f05-fce66e8f086b",
   "metadata": {
    "lines_to_next_cell": 2
   },
   "outputs": [],
   "source": [
    "daytime_from = 9\n",
    "daytime_to = daytime_from + 7"
   ]
  },
  {
   "cell_type": "markdown",
   "id": "b17ea608-28c6-4518-a7f3-8c5e12c24a3a",
   "metadata": {
    "tags": []
   },
   "source": [
    "## Read in model station data:"
   ]
  },
  {
   "cell_type": "code",
   "execution_count": 93,
   "id": "fae1bd3c-0e98-4ef2-88a5-9533c7f4d56f",
   "metadata": {
    "lines_to_next_cell": 2
   },
   "outputs": [],
   "source": [
    "models = ['ECHAM-SALSA','NorESM','EC-Earth']\n",
    "mod2cases = {'ECHAM-SALSA':['SALSA_BSOA_feedback'],\n",
    "             'NorESM':['OsloAero_intBVOC_f09_f09_mg17_fssp'],\n",
    "             'EC-Earth':['ECE3_output_Sara'],\n",
    "            }\n",
    "di_mod2cases = mod2cases.copy()"
   ]
  },
  {
   "cell_type": "code",
   "execution_count": 94,
   "id": "22777158-4bf6-46ee-818f-46194419ddf2",
   "metadata": {},
   "outputs": [
    {
     "name": "stdout",
     "output_type": "stream",
     "text": [
      "ECHAM-SALSA\n",
      "ECHAM-SALSA SALSA_BSOA_feedback\n",
      "/proj/bolinc/users/x_sarbl/analysis/BS-FDBCK/Data/model_station/ATTO/ATTO_station_ECHAM-SALSA_SALSA_BSOA_feedback.csv\n",
      "NorESM\n",
      "NorESM OsloAero_intBVOC_f09_f09_mg17_fssp\n",
      "/proj/bolinc/users/x_sarbl/analysis/BS-FDBCK/Data/model_station/ATTO/ATTO_station_NorESM_OsloAero_intBVOC_f09_f09_mg17_fssp.csv\n",
      "EC-Earth\n",
      "EC-Earth ECE3_output_Sara\n",
      "/proj/bolinc/users/x_sarbl/analysis/BS-FDBCK/Data/model_station/ATTO/ATTO_station_EC-Earth_ECE3_output_Sara.csv\n"
     ]
    }
   ],
   "source": [
    "dic_df_station=dict()\n",
    "for mod in models:\n",
    "    print(mod)\n",
    "    dic_df_station[mod] = dict()\n",
    "    for ca in mod2cases[mod]:\n",
    "        print(mod, ca)\n",
    "        fn_out = postproc_data/f'{select_station}_station_{mod}_{ca}.csv'\n",
    "        print(fn_out)\n",
    "        dic_df_station[mod][ca] = pd.read_csv(fn_out, index_col=0)\n",
    "        dic_df_station[mod][ca].index = pd.to_datetime(dic_df_station[mod][ca].index)\n",
    "        #dic_df_mod_case[mod][ca].to_csv(fn_out)"
   ]
  },
  {
   "cell_type": "code",
   "execution_count": 95,
   "id": "dee737a4-f8c5-409a-915a-ef9670c07625",
   "metadata": {},
   "outputs": [
    {
     "data": {
      "text/plain": [
       "<AxesSubplot:xlabel='time'>"
      ]
     },
     "execution_count": 95,
     "metadata": {},
     "output_type": "execute_result"
    },
    {
     "data": {
      "image/png": "[encoded data removed]",
      "text/plain": [
       "<Figure size 432x288 with 1 Axes>"
      ]
     },
     "metadata": {
      "needs_background": "light"
     },
     "output_type": "display_data"
    }
   ],
   "source": [
    "dic_df_station[mod][ca]['T_C'].plot(marker='.')"
   ]
  },
  {
   "cell_type": "markdown",
   "id": "947a2f80-033b-4b39-bc65-045522c1502a",
   "metadata": {},
   "source": [
    "## EC-Earth"
   ]
  },
  {
   "cell_type": "markdown",
   "id": "a3bc1972-0d8b-42ce-847c-f3062b5b7ee6",
   "metadata": {},
   "source": [
    "### Names etc"
   ]
  },
  {
   "cell_type": "code",
   "execution_count": 96,
   "id": "8051711a-9d19-483b-a8b2-6d121187d900",
   "metadata": {},
   "outputs": [],
   "source": [
    "\n",
    "case_name = 'ECE3_output_Sara'\n",
    "case_name_ec_earth = 'ECE3_output_Sara'\n",
    "time_res = 'hour'\n",
    "space_res='locations'\n",
    "model_name='EC-Earth'\n",
    "model_name_ec_earth ='EC-Earth'"
   ]
  },
  {
   "cell_type": "markdown",
   "id": "990281ee-479a-4ace-a854-c9c68faf2ad0",
   "metadata": {},
   "source": [
    "### Input path:"
   ]
  },
  {
   "cell_type": "code",
   "execution_count": 97,
   "id": "7fd12630-0e91-46a8-af10-5a71e849ba28",
   "metadata": {},
   "outputs": [],
   "source": [
    "input_path_ec_earth = path_extract_latlon_outdata / model_name_ec_earth / case_name_ec_earth"
   ]
  },
  {
   "cell_type": "code",
   "execution_count": 98,
   "id": "6d46e915-783d-4557-8b84-98bdd4adf0b9",
   "metadata": {},
   "outputs": [],
   "source": [
    "\n",
    "cases_ec_earth = [case_name_ec_earth]"
   ]
  },
  {
   "cell_type": "markdown",
   "id": "9355ab6c-8864-4ecc-a114-d8abb3e7a3bd",
   "metadata": {},
   "source": [
    "### Station variables  and others"
   ]
  },
  {
   "cell_type": "markdown",
   "id": "f70ed3a8-0f35-4e0e-ab02-5a448e18d022",
   "metadata": {
    "tags": []
   },
   "source": [
    "### Define some strings for files"
   ]
  },
  {
   "cell_type": "code",
   "execution_count": 99,
   "id": "182ada1b-1797-4088-853e-c33433f9892b",
   "metadata": {},
   "outputs": [
    {
     "data": {
      "text/plain": [
       "'293.0-308.0_-8.0--1.0'"
      ]
     },
     "execution_count": 99,
     "metadata": {},
     "output_type": "execute_result"
    }
   ],
   "source": [
    "\n",
    "str_from_t = pd.to_datetime(from_time1).strftime('%Y%m')\n",
    "str_to = pd.to_datetime(to_time2).strftime('%Y%m')\n",
    "str_lonlim = '%.1f-%.1f'%(*lon_lims,)\n",
    "str_latlim = '%.1f-%.1f'%(*lat_lims,)\n",
    "str_coordlims = f'{str_lonlim}_{str_latlim}'\n",
    "str_coordlims"
   ]
  },
  {
   "cell_type": "markdown",
   "id": "b6cac4cc-e9cb-4b10-aedb-91059eeb3c3f",
   "metadata": {},
   "source": [
    "### Filenames: "
   ]
  },
  {
   "cell_type": "code",
   "execution_count": 100,
   "id": "cefb31ce-b954-4c2e-ba04-579d2e5361db",
   "metadata": {},
   "outputs": [],
   "source": [
    "fn_intermediate_ec_earth = input_path_ec_earth/ f'{case_name}_{from_time1}-{to_time2}_ALL-VARS_concat_subs_{str_coordlims}_intermediate.nc'\n",
    "fn_intermediate_ec_earth_lev = input_path_ec_earth/ f'{case_name}_{from_time1}-{to_time2}_ALL-VARS_concat_subs_{str_coordlims}_intermediate_lev.nc'\n",
    "\n",
    "fn_final_ec_earth = input_path_ec_earth/ f'{case_name}_{from_time1}-{to_time2}_ALL-VARS_concat_subs_{str_coordlims}.nc'\n",
    "fn_final_ec_earth_csv = input_path_ec_earth / f'{case_name}_{from_time1}-{to_time2}_ALL-VARS_concat_subs_{str_coordlims}.csv'\n",
    "fn_final_ec_earth_csv_stem = input_path_ec_earth / f'{case_name}_{from_time1}-{to_time2}_ALL-VARS_concat_subs_{str_coordlims}'"
   ]
  },
  {
   "cell_type": "code",
   "execution_count": 101,
   "id": "d88dee16-fad9-4568-9ff7-351f4833fe90",
   "metadata": {},
   "outputs": [
    {
     "data": {
      "text/plain": [
       "PosixPath('/proj/bolinc/users/x_sarbl/analysis/Output_data_BS-FDBCK/extracted_latlon_subset/EC-Earth/ECE3_output_Sara/ECE3_output_Sara_2012-01-01-2019-01-01_ALL-VARS_concat_subs_293.0-308.0_-8.0--1.0')"
      ]
     },
     "execution_count": 101,
     "metadata": {},
     "output_type": "execute_result"
    }
   ],
   "source": [
    "fn_final_ec_earth_csv_stem"
   ]
  },
  {
   "cell_type": "markdown",
   "id": "e686e231-6542-429b-8ce3-aa39d1903ab0",
   "metadata": {},
   "source": [
    "### Open data"
   ]
  },
  {
   "cell_type": "code",
   "execution_count": 102,
   "id": "cec07784-fb87-4ac5-be31-e6fefaff747e",
   "metadata": {},
   "outputs": [],
   "source": [
    "which='IFS'"
   ]
  },
  {
   "cell_type": "code",
   "execution_count": 103,
   "id": "b198be02-81dc-42f3-8b6b-cc0bab28a04d",
   "metadata": {},
   "outputs": [],
   "source": [
    "fn_t = input_path_ec_earth / f'{case_name}_{which}_{from_time1}-{to_time2}_concat_subs_{str_coordlims}.nc'\n"
   ]
  },
  {
   "cell_type": "code",
   "execution_count": 104,
   "id": "f2fc32b6-0a05-4009-8ab6-d951f222b5ea",
   "metadata": {},
   "outputs": [
    {
     "data": {
      "text/plain": [
       "True"
      ]
     },
     "execution_count": 104,
     "metadata": {},
     "output_type": "execute_result"
    }
   ],
   "source": [
    "fn_t.exists()"
   ]
  },
  {
   "cell_type": "code",
   "execution_count": 105,
   "id": "fead16cc-8a35-488a-94cf-4a7e95444aa4",
   "metadata": {},
   "outputs": [
    {
     "name": "stdout",
     "output_type": "stream",
     "text": [
      "/proj/bolinc/users/x_sarbl/analysis/Output_data_BS-FDBCK/extracted_latlon_subset/EC-Earth/ECE3_output_Sara/ECE3_output_Sara_IFS_2012-01-01-2019-01-01_concat_subs_293.0-308.0_-8.0--1.0.nc\n",
      "/proj/bolinc/users/x_sarbl/analysis/Output_data_BS-FDBCK/extracted_latlon_subset/EC-Earth/ECE3_output_Sara/ECE3_output_Sara_IFS_T_2012-01-01-2019-01-01_concat_subs_293.0-308.0_-8.0--1.0.nc\n"
     ]
    }
   ],
   "source": [
    "fl_open = []\n",
    "#ds_list =[]\n",
    "dic_ds =dict()\n",
    "\n",
    "for which in ['IFS','IFS_T']:\n",
    "    fn = input_path_ec_earth / f'{case_name}_{which}_{from_time1}-{to_time2}_concat_subs_{str_coordlims}.nc'\n",
    "    print(fn)\n",
    "    if fn.exists():\n",
    "        fl_open.append(fn)\n",
    "        _ds = xr.open_dataset(fn)\n",
    "        dic_ds[which] = _ds\n",
    "    else:\n",
    "        print(f'{v} not found')\n",
    "        "
   ]
  },
  {
   "cell_type": "markdown",
   "id": "2da4c1e8-0d29-4c1d-8159-12d3a56abeea",
   "metadata": {
    "tags": []
   },
   "source": [
    "### Open files, decode time, drop excess coords, select bottom layer, broadcast station vars to whole grid and compute units etc"
   ]
  },
  {
   "cell_type": "code",
   "execution_count": 106,
   "id": "44374d84-fd92-44cd-a74f-80ca880198fc",
   "metadata": {},
   "outputs": [
    {
     "data": {
      "text/html": [
       "<div>\n",
       "<style scoped>\n",
       "    .dataframe tbody tr th:only-of-type {\n",
       "        vertical-align: middle;\n",
       "    }\n",
       "\n",
       "    .dataframe tbody tr th {\n",
       "        vertical-align: top;\n",
       "    }\n",
       "\n",
       "    .dataframe thead th {\n",
       "        text-align: right;\n",
       "    }\n",
       "</style>\n",
       "<table border=\"1\" class=\"dataframe\">\n",
       "  <thead>\n",
       "    <tr style=\"text-align: right;\">\n",
       "      <th></th>\n",
       "      <th>station</th>\n",
       "      <th>time_orig</th>\n",
       "      <th>lev</th>\n",
       "      <th>CCN0.20</th>\n",
       "      <th>CCN1.00</th>\n",
       "      <th>M_BCACS</th>\n",
       "      <th>M_BCAII</th>\n",
       "      <th>M_BCAIS</th>\n",
       "      <th>M_BCCOS</th>\n",
       "      <th>M_DUACI</th>\n",
       "      <th>...</th>\n",
       "      <th>N150-500</th>\n",
       "      <th>N200-500</th>\n",
       "      <th>OA</th>\n",
       "      <th>POM</th>\n",
       "      <th>SOA</th>\n",
       "      <th>SOA2</th>\n",
       "      <th>T_C</th>\n",
       "      <th>is_JJA</th>\n",
       "      <th>is_JA</th>\n",
       "      <th>isSummer</th>\n",
       "    </tr>\n",
       "    <tr>\n",
       "      <th>time</th>\n",
       "      <th></th>\n",
       "      <th></th>\n",
       "      <th></th>\n",
       "      <th></th>\n",
       "      <th></th>\n",
       "      <th></th>\n",
       "      <th></th>\n",
       "      <th></th>\n",
       "      <th></th>\n",
       "      <th></th>\n",
       "      <th></th>\n",
       "      <th></th>\n",
       "      <th></th>\n",
       "      <th></th>\n",
       "      <th></th>\n",
       "      <th></th>\n",
       "      <th></th>\n",
       "      <th></th>\n",
       "      <th></th>\n",
       "      <th></th>\n",
       "      <th></th>\n",
       "    </tr>\n",
       "  </thead>\n",
       "  <tbody>\n",
       "    <tr>\n",
       "      <th>2011-12-31 20:00:00</th>\n",
       "      <td>ATTO</td>\n",
       "      <td>2012-01-01 00:30:00.000000000</td>\n",
       "      <td>2.0</td>\n",
       "      <td>104.46652</td>\n",
       "      <td>169.93945</td>\n",
       "      <td>7.749801e-11</td>\n",
       "      <td>1.195486e-11</td>\n",
       "      <td>5.233935e-13</td>\n",
       "      <td>1.018316e-14</td>\n",
       "      <td>4.597259e-10</td>\n",
       "      <td>...</td>\n",
       "      <td>100.961462</td>\n",
       "      <td>71.034853</td>\n",
       "      <td>1.762270</td>\n",
       "      <td>0.664647</td>\n",
       "      <td>1.097623</td>\n",
       "      <td>1.097623</td>\n",
       "      <td>NaN</td>\n",
       "      <td>False</td>\n",
       "      <td>False</td>\n",
       "      <td>False</td>\n",
       "    </tr>\n",
       "    <tr>\n",
       "      <th>2011-12-31 21:00:00</th>\n",
       "      <td>ATTO</td>\n",
       "      <td>2012-01-01 01:30:00.000000000</td>\n",
       "      <td>2.0</td>\n",
       "      <td>104.66638</td>\n",
       "      <td>170.33379</td>\n",
       "      <td>7.789928e-11</td>\n",
       "      <td>1.206712e-11</td>\n",
       "      <td>5.107936e-13</td>\n",
       "      <td>1.031701e-14</td>\n",
       "      <td>4.591339e-10</td>\n",
       "      <td>...</td>\n",
       "      <td>101.024142</td>\n",
       "      <td>71.109470</td>\n",
       "      <td>1.764701</td>\n",
       "      <td>0.667787</td>\n",
       "      <td>1.096914</td>\n",
       "      <td>1.096914</td>\n",
       "      <td>NaN</td>\n",
       "      <td>False</td>\n",
       "      <td>False</td>\n",
       "      <td>False</td>\n",
       "    </tr>\n",
       "    <tr>\n",
       "      <th>2011-12-31 22:00:00</th>\n",
       "      <td>ATTO</td>\n",
       "      <td>2012-01-01 02:30:00.000000000</td>\n",
       "      <td>2.0</td>\n",
       "      <td>104.61212</td>\n",
       "      <td>170.43909</td>\n",
       "      <td>7.815295e-11</td>\n",
       "      <td>1.211496e-11</td>\n",
       "      <td>5.031363e-13</td>\n",
       "      <td>1.039341e-14</td>\n",
       "      <td>4.575842e-10</td>\n",
       "      <td>...</td>\n",
       "      <td>100.819331</td>\n",
       "      <td>70.990696</td>\n",
       "      <td>1.759449</td>\n",
       "      <td>0.669758</td>\n",
       "      <td>1.089691</td>\n",
       "      <td>1.089691</td>\n",
       "      <td>NaN</td>\n",
       "      <td>False</td>\n",
       "      <td>False</td>\n",
       "      <td>False</td>\n",
       "    </tr>\n",
       "    <tr>\n",
       "      <th>2011-12-31 23:00:00</th>\n",
       "      <td>ATTO</td>\n",
       "      <td>2012-01-01 03:30:00.000000000</td>\n",
       "      <td>2.0</td>\n",
       "      <td>104.51892</td>\n",
       "      <td>170.58879</td>\n",
       "      <td>7.841911e-11</td>\n",
       "      <td>1.214463e-11</td>\n",
       "      <td>4.996820e-13</td>\n",
       "      <td>1.044115e-14</td>\n",
       "      <td>4.560449e-10</td>\n",
       "      <td>...</td>\n",
       "      <td>100.559394</td>\n",
       "      <td>70.822420</td>\n",
       "      <td>1.750940</td>\n",
       "      <td>0.671862</td>\n",
       "      <td>1.079078</td>\n",
       "      <td>1.079078</td>\n",
       "      <td>27.902313</td>\n",
       "      <td>False</td>\n",
       "      <td>False</td>\n",
       "      <td>False</td>\n",
       "    </tr>\n",
       "    <tr>\n",
       "      <th>2012-01-01 00:00:00</th>\n",
       "      <td>ATTO</td>\n",
       "      <td>2012-01-01 04:30:00.000000000</td>\n",
       "      <td>2.0</td>\n",
       "      <td>104.40431</td>\n",
       "      <td>170.79070</td>\n",
       "      <td>7.870423e-11</td>\n",
       "      <td>1.216151e-11</td>\n",
       "      <td>4.994802e-13</td>\n",
       "      <td>1.048248e-14</td>\n",
       "      <td>4.545686e-10</td>\n",
       "      <td>...</td>\n",
       "      <td>100.263232</td>\n",
       "      <td>70.621023</td>\n",
       "      <td>1.739966</td>\n",
       "      <td>0.674125</td>\n",
       "      <td>1.065841</td>\n",
       "      <td>1.065841</td>\n",
       "      <td>NaN</td>\n",
       "      <td>False</td>\n",
       "      <td>False</td>\n",
       "      <td>False</td>\n",
       "    </tr>\n",
       "  </tbody>\n",
       "</table>\n",
       "<p>5 rows × 82 columns</p>\n",
       "</div>"
      ],
      "text/plain": [
       "                    station                      time_orig  lev    CCN0.20  \\\n",
       "time                                                                         \n",
       "2011-12-31 20:00:00    ATTO  2012-01-01 00:30:00.000000000  2.0  104.46652   \n",
       "2011-12-31 21:00:00    ATTO  2012-01-01 01:30:00.000000000  2.0  104.66638   \n",
       "2011-12-31 22:00:00    ATTO  2012-01-01 02:30:00.000000000  2.0  104.61212   \n",
       "2011-12-31 23:00:00    ATTO  2012-01-01 03:30:00.000000000  2.0  104.51892   \n",
       "2012-01-01 00:00:00    ATTO  2012-01-01 04:30:00.000000000  2.0  104.40431   \n",
       "\n",
       "                       CCN1.00       M_BCACS       M_BCAII       M_BCAIS  \\\n",
       "time                                                                       \n",
       "2011-12-31 20:00:00  169.93945  7.749801e-11  1.195486e-11  5.233935e-13   \n",
       "2011-12-31 21:00:00  170.33379  7.789928e-11  1.206712e-11  5.107936e-13   \n",
       "2011-12-31 22:00:00  170.43909  7.815295e-11  1.211496e-11  5.031363e-13   \n",
       "2011-12-31 23:00:00  170.58879  7.841911e-11  1.214463e-11  4.996820e-13   \n",
       "2012-01-01 00:00:00  170.79070  7.870423e-11  1.216151e-11  4.994802e-13   \n",
       "\n",
       "                          M_BCCOS       M_DUACI  ...    N150-500   N200-500  \\\n",
       "time                                             ...                          \n",
       "2011-12-31 20:00:00  1.018316e-14  4.597259e-10  ...  100.961462  71.034853   \n",
       "2011-12-31 21:00:00  1.031701e-14  4.591339e-10  ...  101.024142  71.109470   \n",
       "2011-12-31 22:00:00  1.039341e-14  4.575842e-10  ...  100.819331  70.990696   \n",
       "2011-12-31 23:00:00  1.044115e-14  4.560449e-10  ...  100.559394  70.822420   \n",
       "2012-01-01 00:00:00  1.048248e-14  4.545686e-10  ...  100.263232  70.621023   \n",
       "\n",
       "                           OA       POM       SOA      SOA2        T_C  \\\n",
       "time                                                                     \n",
       "2011-12-31 20:00:00  1.762270  0.664647  1.097623  1.097623        NaN   \n",
       "2011-12-31 21:00:00  1.764701  0.667787  1.096914  1.096914        NaN   \n",
       "2011-12-31 22:00:00  1.759449  0.669758  1.089691  1.089691        NaN   \n",
       "2011-12-31 23:00:00  1.750940  0.671862  1.079078  1.079078  27.902313   \n",
       "2012-01-01 00:00:00  1.739966  0.674125  1.065841  1.065841        NaN   \n",
       "\n",
       "                     is_JJA  is_JA  isSummer  \n",
       "time                                          \n",
       "2011-12-31 20:00:00   False  False     False  \n",
       "2011-12-31 21:00:00   False  False     False  \n",
       "2011-12-31 22:00:00   False  False     False  \n",
       "2011-12-31 23:00:00   False  False     False  \n",
       "2012-01-01 00:00:00   False  False     False  \n",
       "\n",
       "[5 rows x 82 columns]"
      ]
     },
     "execution_count": 106,
     "metadata": {},
     "output_type": "execute_result"
    }
   ],
   "source": [
    "dic_df_station[model_name_ec_earth][case_name_ec_earth].head()"
   ]
  },
  {
   "cell_type": "code",
   "execution_count": 107,
   "id": "3d2abe87-8703-403a-a2ee-e03a4b9292c0",
   "metadata": {},
   "outputs": [],
   "source": [
    "from bs_fdbck.util.BSOA_datamanip.ec_earth import (\n",
    "    rename_ifs_vars,\n",
    "    fix_units_ec_earth,\n",
    "    extract_cloud_top,\n",
    "    calculate_incld_values_warmclouds,\n",
    "    make_dummy_lev,\n",
    "    \n",
    ")"
   ]
  },
  {
   "cell_type": "markdown",
   "id": "09cf8376-5e84-4b81-83c1-f406f83c7e61",
   "metadata": {},
   "source": [
    "## Fix units, calc cloud properties etc."
   ]
  },
  {
   "cell_type": "code",
   "execution_count": null,
   "id": "ba5cd558-81df-4d7d-a75a-9facaee77999",
   "metadata": {},
   "outputs": [
    {
     "name": "stdout",
     "output_type": "stream",
     "text": [
      "renaming var130 to temp\n",
      "renaming var131 to U\n",
      "renaming var132 to V\n",
      "renaming var136 to tcw\n",
      "renaming var137 to tcwv\n",
      "renaming var164 to ttc\n",
      "renaming var176 to surf_net_srad\n",
      "renaming var177 to surf_net_lrad\n",
      "renaming var178 to toa_net_srad\n",
      "renaming var179 to toa_net_lrad\n",
      "renaming var20 to cdnc\n",
      "renaming var208 to toa_net_srad_clear\n",
      "renaming var21 to re_liq\n",
      "renaming var210 to surf_net_srad_clear\n",
      "renaming var211 to sur_net_lrad_clear\n",
      "renaming var22 to liq_cloud_time\n",
      "renaming var248 to cc\n",
      "renaming var68 to toa_net_srad_clearclean\n",
      "renaming var69 to toa_net_srad_clean\n",
      "renaming var70 to surf_net_srad_clearclean\n",
      "renaming var71 to surf_net_srad_clean\n",
      "renaming var72 to toa_net_lrad_clearclean\n",
      "renaming var73 to toa_net_lrad_clean\n",
      "renaming var74 to surf_net_lrad_clearclean\n",
      "renaming var75 to surf_net_lrad_clean\n",
      "renaming var78 to tclw\n",
      "renaming var79 to tciw\n",
      "Converting tcw from kg/m2 to g/m2\n",
      "Converting tcwv from kg/m2 to g/m2\n",
      "Converting tclw from kg/m2 to g/m2\n",
      "Converting tciw from kg/m2 to g/m2\n",
      "renaming var130 to temp\n",
      "calculating re_liq_incld\n",
      "calculating cdnc_incld\n",
      "calculating cl_time_liq_norm\n",
      "Calulating cc_all\n",
      "Calulating liq_frac_cwp\n",
      "calculating cl_frac_where_cltime_post\n",
      "calculating cwp_incld\n"
     ]
    }
   ],
   "source": [
    "if True:#not fn_intermediate_ec_earth.exists():\n",
    "    \n",
    "\n",
    "    for key in dic_ds:\n",
    "        _ds = dic_ds[key]\n",
    "        _ds=rename_ifs_vars(_ds)\n",
    "        \n",
    "        _ds = fix_units_ec_earth(_ds)\n",
    "        #_ds = calculate_incld_values_warmclouds(_ds)\n",
    "        #_ds = extract_cloud_top(_ds)\n",
    "        #_ds['lat'] = np.round(_ds['lat'], decimals=2)\n",
    "        #_ds['lon'] = np.round(_ds['lon'], decimals=2)\n",
    "        _ds = _ds.sortby('lon')\n",
    "        _ds = _ds.sortby('lat')\n",
    "        _ds=(\n",
    "            _ds\n",
    "            .assign(\n",
    "                lat=lambda d:d['lat'].astype('float').round(2))\n",
    "            .assign(\n",
    "                lon=lambda d:d['lon'].astype('float').round(2))\n",
    "        )\n",
    "\n",
    "        dic_ds[key] = _ds\n",
    "    \n",
    "\n",
    "    ds = dic_ds['IFS']\n",
    "    \n",
    "\n",
    "    ds = calculate_incld_values_warmclouds(ds)\n",
    "    \n",
    "\n",
    "    ds = extract_cloud_top(ds)\n",
    "    \n",
    "    dic_ds['IFS'] = ds\n",
    "\n",
    "    for key in dic_ds:\n",
    "        _ds = dic_ds[key]\n",
    "        ds_l = _ds.isel(lev= model_lev_i)\n",
    "        dic_ds[key] = ds_l\n",
    "\n",
    "  \n",
    "\n",
    "      \n",
    "    ds_t = dic_ds['IFS_T']\n",
    "    \n",
    "    ds = dic_ds['IFS']\n",
    "    ds = ds.sortby('lat')\n",
    "    ds = ds.sortby('lon')\n",
    "\n",
    "    ds_t['lev'] = ds['lev']\n",
    "    ds_t = ds_t.sortby('lat')\n",
    "    ds_t = ds_t.sortby('lon')\n",
    "    ds_t['temp'].plot()\n",
    "    plt.show()\n",
    "\n",
    "    drop_list = ['U','V','temp']\n",
    "    ds = xr.merge([ds.drop_vars(drop_list).drop_dims(['plev']),ds_t[['temp']]])\n",
    "    ds['temp'].plot()\n",
    "    plt.show()\n",
    "    \n",
    "\n",
    "    # ds =fix_units_ec_earth(ds)\n",
    "    # ds = calculate_incld_values_warmclouds(ds)\n",
    "    # ds = extract_cloud_top(ds)\n",
    "\n",
    "    delayed_obj = ds.to_netcdf(fn_intermediate_ec_earth, compute=False)\n",
    "    with ProgressBar():\n",
    "        delayed_obj.compute()\n",
    "    "
   ]
  },
  {
   "cell_type": "code",
   "execution_count": null,
   "id": "d046d3f4-13df-49de-b298-07a7d7fe9035",
   "metadata": {},
   "outputs": [],
   "source": [
    "fn_intermediate_ec_earth#.exists()"
   ]
  },
  {
   "cell_type": "code",
   "execution_count": null,
   "id": "9db23d82-90a7-455e-a2c3-4a4c777784c7",
   "metadata": {},
   "outputs": [],
   "source": [
    "ds_ifs = xr.open_dataset(fn_intermediate_ec_earth, decode_times=False)\n"
   ]
  },
  {
   "cell_type": "code",
   "execution_count": null,
   "id": "edf62b1a-7ec0-47b2-8975-a8b491c05cf0",
   "metadata": {},
   "outputs": [],
   "source": [
    "import numpy as np"
   ]
  },
  {
   "cell_type": "code",
   "execution_count": null,
   "id": "afcbe514-c9c1-4432-ad84-c610506f6f2f",
   "metadata": {},
   "outputs": [],
   "source": [
    "ds_ifs['re_liq_cltop'].plot(bins=np.linspace(3.99,4.01));"
   ]
  },
  {
   "cell_type": "code",
   "execution_count": null,
   "id": "28252914-2f00-45e5-9981-5bffe1edf51f",
   "metadata": {},
   "outputs": [],
   "source": [
    "ds_ifs['ttc'].attrs['units'] =1"
   ]
  },
  {
   "cell_type": "code",
   "execution_count": null,
   "id": "a52a0d98-5d9d-4fcc-a8c7-95a4f5d54352",
   "metadata": {},
   "outputs": [],
   "source": [
    "import numpy as np"
   ]
  },
  {
   "cell_type": "markdown",
   "id": "b612a55f-473f-4a73-b4a0-aff57577a0bd",
   "metadata": {},
   "source": [
    "## Fix wrong units:"
   ]
  },
  {
   "cell_type": "code",
   "execution_count": null,
   "id": "1071b1a5-e10c-4dfd-b57e-50d886e11e1f",
   "metadata": {
    "tags": []
   },
   "outputs": [],
   "source": [
    "for v in ds_ifs.data_vars:\n",
    "    if 'units' in ds_ifs[v].attrs:\n",
    "        print(v, ds_ifs[v].attrs['units'])\n",
    "        if ds_ifs[v].attrs['units'] is np.nan:\n",
    "            print('******')\n",
    "        if ds_ifs[v].attrs['units']==1:\n",
    "            ds_ifs[v].attrs['units'] ='1'\n",
    "            print(f'{v} unit is 1')"
   ]
  },
  {
   "cell_type": "code",
   "execution_count": null,
   "id": "2f5db268-6c50-4b47-b676-08d965e9f941",
   "metadata": {},
   "outputs": [],
   "source": [
    "ds_ifs = xr.decode_cf(ds_ifs)\n",
    "ds_ifs['time'].attrs['timezone'] = 'utc'"
   ]
  },
  {
   "cell_type": "code",
   "execution_count": null,
   "id": "111ec014-fb74-436f-b91d-50ac1129c9c8",
   "metadata": {},
   "outputs": [],
   "source": [
    "import numpy as np"
   ]
  },
  {
   "cell_type": "code",
   "execution_count": null,
   "id": "54268c74-2ccb-49d5-873c-8609546097d6",
   "metadata": {},
   "outputs": [],
   "source": [
    "ds_ifs['cc_cltop'].plot(alpha=.5)\n",
    "\n",
    "ds_ifs['cc_all'].plot(alpha=.5)"
   ]
  },
  {
   "cell_type": "markdown",
   "id": "2942fd6f-421d-4e20-a1ad-6d0a8d06d6a0",
   "metadata": {
    "tags": []
   },
   "source": [
    "## Mask values where cloud fraction is less than 10 percent"
   ]
  },
  {
   "cell_type": "code",
   "execution_count": null,
   "id": "9e4e8c9f-1f69-4f64-97ac-dbf3609303ba",
   "metadata": {},
   "outputs": [],
   "source": [
    "ds_ifs = ds_ifs.where(ds_ifs['cc_cltop']>.1)"
   ]
  },
  {
   "cell_type": "markdown",
   "id": "a8b0219e-2f3e-4178-b4b8-c3bc9b42619b",
   "metadata": {
    "tags": []
   },
   "source": [
    "## Shift timezone"
   ]
  },
  {
   "cell_type": "code",
   "execution_count": null,
   "id": "440755cf-2d81-46df-ab84-0c62e7ffe835",
   "metadata": {},
   "outputs": [],
   "source": [
    "from datetime import timedelta\n",
    "with ProgressBar():\n",
    "    ds_ifs.load()\n",
    "    \n",
    "    \n",
    "if ds_ifs['time'].attrs['timezone']=='utc':\n",
    "    ds_ifs['time'] = ds_ifs['time'].to_pandas().index - timedelta(hours=4)\n",
    "    ds_ifs['time'].attrs['timezone'] = 'utc-4'\n",
    "    print('shifted time by -4')\n",
    "    #dic_ds[k] = _ds"
   ]
  },
  {
   "cell_type": "markdown",
   "id": "e884cb2e-ff59-4340-80a2-cb8808a37c7e",
   "metadata": {
    "tags": []
   },
   "source": [
    "### Use station data computed before:"
   ]
  },
  {
   "cell_type": "code",
   "execution_count": null,
   "id": "12277563-d7e6-4b99-9e80-35005bf25df9",
   "metadata": {
    "lines_to_next_cell": 2
   },
   "outputs": [],
   "source": [
    "df_comb_station = dic_df_station[model_name_ec_earth][case_name_ec_earth]"
   ]
  },
  {
   "cell_type": "code",
   "execution_count": null,
   "id": "f7fc5eb7-3955-4084-bb31-1c5a74fef754",
   "metadata": {},
   "outputs": [],
   "source": [
    "ds_comb_station = df_comb_station.to_xarray()\n",
    "ds_comb_station=ds_comb_station.assign_coords(station=['ATTO'])"
   ]
  },
  {
   "cell_type": "code",
   "execution_count": null,
   "id": "f756d5c2-7e64-4fa7-bc1f-f24ae0729159",
   "metadata": {},
   "outputs": [],
   "source": [
    "ds_ifs['temp'].plot()"
   ]
  },
  {
   "cell_type": "code",
   "execution_count": null,
   "id": "18d92205-615c-496a-ad9f-0f2ebd67cf7c",
   "metadata": {},
   "outputs": [],
   "source": [
    "ds_ifs['hour'] = ds_ifs['time.hour']\n",
    "(ds_ifs['temp']-273.15).groupby(ds_ifs['hour']).mean().sel(lat=lat_smr,lon=lon_smr, method='nearest').plot()\n",
    "ds_comb_station['T_C'].groupby(ds_comb_station['time.hour']).mean().plot(marker='*')"
   ]
  },
  {
   "cell_type": "code",
   "execution_count": null,
   "id": "62c62fcd-d904-451f-9dee-546df79008ff",
   "metadata": {},
   "outputs": [],
   "source": [
    "varl_station_ec_earth = [\n",
    " 'CCN0.20',\n",
    " 'CCN1.00',\n",
    " 'M_BCACS',\n",
    " 'M_BCAII',\n",
    " 'M_BCAIS',\n",
    " 'M_BCCOS',\n",
    " 'M_DUACI',\n",
    " 'M_DUACS',\n",
    " 'M_DUCOI',\n",
    " 'M_DUCOS',\n",
    " 'M_POMACS',\n",
    " 'M_POMAII',\n",
    " 'M_POMAIS',\n",
    " 'M_POMCOS',\n",
    " 'M_SO4ACS',\n",
    " 'M_SO4COS',\n",
    " 'M_SO4NUS',\n",
    " 'M_SOAACS',\n",
    " 'M_SOAAII',\n",
    " 'M_SOAAIS',\n",
    " 'M_SOACOS',\n",
    " 'M_SOANUS',\n",
    " 'M_SSACS',\n",
    " 'M_SSCOS',\n",
    "    'OA',\n",
    "    'SOA',\n",
    " 'N_ACI',\n",
    " 'N_ACS',\n",
    " 'N_AII',\n",
    " 'N_AIS',\n",
    " 'N_COI',\n",
    " 'N_COS',\n",
    " 'N_NUS',\n",
    " 'RDRY_ACS',\n",
    " 'RDRY_AIS',\n",
    " 'RDRY_COS',\n",
    " 'RDRY_NUS',\n",
    " 'RWET_ACI',\n",
    " 'RWET_ACS',\n",
    " 'RWET_AII',\n",
    " 'RWET_AIS',\n",
    " 'RWET_COI',\n",
    " 'RWET_COS',\n",
    " 'RWET_NUS',\n",
    " 'emiisop',\n",
    " 'emiterp',\n",
    " 'T',\n",
    " 'DDRY_NUS',\n",
    " 'DDRY_AIS',\n",
    " 'DDRY_ACS',\n",
    " 'DDRY_COS',\n",
    " 'DWET_AII',\n",
    " 'DWET_ACI',\n",
    " 'DWET_COI',\n",
    " 'N50',\n",
    " 'N70',\n",
    " 'N100',\n",
    " 'N150',\n",
    " 'N200',\n",
    " 'N500',\n",
    " 'N50-500',\n",
    " 'N70-500',\n",
    " 'N100-500',\n",
    " 'N150-500',\n",
    " 'N200-500',\n",
    " 'OA',\n",
    " 'POM',\n",
    " 'SOA',\n",
    " 'SOA2',\n",
    " 'T_C',\n",
    "    \n",
    "]"
   ]
  },
  {
   "cell_type": "code",
   "execution_count": null,
   "id": "76d56558-5eab-42e5-85f8-333ee9f0ce10",
   "metadata": {
    "lines_to_next_cell": 2
   },
   "outputs": [],
   "source": [
    "\n",
    "varl_tmp = list(set(df_comb_station.columns).intersection(set(varl_station_ec_earth)))"
   ]
  },
  {
   "cell_type": "code",
   "execution_count": null,
   "id": "c00af36f-b276-4fbb-b014-fd37ad3ec9a2",
   "metadata": {},
   "outputs": [],
   "source": [
    "ds_smll = ds_ifs[['temp']]"
   ]
  },
  {
   "cell_type": "code",
   "execution_count": null,
   "id": "217c1d10-04df-4286-bdf4-13ebebc0f8fd",
   "metadata": {},
   "outputs": [],
   "source": [
    "from bs_fdbck.util.BSOA_datamanip import broadcast_vars_in_ds_sel, rn_dic_ec_earth_cloud"
   ]
  },
  {
   "cell_type": "code",
   "execution_count": null,
   "id": "55699838-e7e6-45fd-a445-b0e4764053e9",
   "metadata": {
    "tags": []
   },
   "outputs": [],
   "source": [
    "ds_smll = broadcast_vars_in_ds_sel(ds_smll, ds_comb_station, varl_tmp, only_already_in_ds= False)"
   ]
  },
  {
   "cell_type": "code",
   "execution_count": null,
   "id": "ae75dec4-4f5c-4335-81c2-5f25e32a1e6b",
   "metadata": {},
   "outputs": [],
   "source": [
    "ds_smll['OA'].isel(time=122).plot()"
   ]
  },
  {
   "cell_type": "code",
   "execution_count": null,
   "id": "a55f0b41-f172-46ef-9787-cfa5831e4932",
   "metadata": {},
   "outputs": [],
   "source": [
    "ds_smll['N100'].isel(time=122).plot()"
   ]
  },
  {
   "cell_type": "markdown",
   "id": "c7eee07e-06a1-42b5-8ca0-d1ec85bcb3a6",
   "metadata": {},
   "source": [
    "## Replace all values by station values"
   ]
  },
  {
   "cell_type": "code",
   "execution_count": null,
   "id": "31d131f9-5a6e-4425-a729-01cc4d443d73",
   "metadata": {},
   "outputs": [],
   "source": [
    "for v in varl_tmp:\n",
    "    ds_ifs[v] = ds_smll[v]"
   ]
  },
  {
   "cell_type": "markdown",
   "id": "eaf4ced5-ad28-45a7-a874-3cef4029f6c3",
   "metadata": {},
   "source": [
    "### Mask values where ice water path larger than 20 percent"
   ]
  },
  {
   "cell_type": "code",
   "execution_count": null,
   "id": "122b7294-e4e0-460d-a08a-e380ac126097",
   "metadata": {},
   "outputs": [],
   "source": [
    "ds_ifs['liq_frac_cwp'].plot()"
   ]
  },
  {
   "cell_type": "code",
   "execution_count": null,
   "id": "0469e59a-c1a1-46df-98a8-6dcf0fbbd0c5",
   "metadata": {},
   "outputs": [],
   "source": [
    "ds_ifs = ds_ifs.where(ds_ifs['liq_frac_cwp']>.3)"
   ]
  },
  {
   "cell_type": "code",
   "execution_count": null,
   "id": "8715f335-88b4-4be4-b62c-56e53d846ed2",
   "metadata": {},
   "outputs": [],
   "source": [
    "ds_ifs['re_liq_incld_cltop'].plot()"
   ]
  },
  {
   "cell_type": "markdown",
   "id": "a6ff6f79-7c8f-442c-9a3b-2e5a348e50ad",
   "metadata": {},
   "source": [
    "## Calculate in-cloud liquid water path:"
   ]
  },
  {
   "cell_type": "code",
   "execution_count": null,
   "id": "e48c39a3-06bf-4fe5-a3c7-a4b18ce92308",
   "metadata": {},
   "outputs": [],
   "source": [
    "#ds_ifs.rename({'CWP':'CWP_tot'})\n",
    "ds_ifs['cwp_incld'] = ds_ifs['tclw']/ds_ifs['ttc']"
   ]
  },
  {
   "cell_type": "markdown",
   "id": "0a32cf9c-0796-41f3-bf2e-1aa4a24105d2",
   "metadata": {},
   "source": [
    "## Save for different seasons: \n"
   ]
  },
  {
   "cell_type": "code",
   "execution_count": null,
   "id": "24fb3af6-8b5f-4104-bcbc-66f180411100",
   "metadata": {},
   "outputs": [],
   "source": [
    "dic_ds = dict()\n",
    "dic_ds[case_name_ec_earth] = ds_ifs"
   ]
  },
  {
   "cell_type": "code",
   "execution_count": null,
   "id": "e564df72-f5e2-4795-aec4-751ef1139b27",
   "metadata": {},
   "outputs": [],
   "source": [
    "rn_dic_ec_earth_cloud"
   ]
  },
  {
   "cell_type": "code",
   "execution_count": null,
   "id": "29489d3f-4955-4b04-9e4c-26f9dc05ecb2",
   "metadata": {},
   "outputs": [],
   "source": [
    "#calc_seasons = ['WET','DRY', 'WET_mid','WET_early','WET_late', 'DRY_early','DRY_late']\n",
    "\n",
    "for key in dic_ds:\n",
    "    dic_ds[key] = dic_ds[key].rename(rn_dic_ec_earth_cloud)"
   ]
  },
  {
   "cell_type": "code",
   "execution_count": null,
   "id": "aa230fc1-e264-4935-ad52-0df53486b80a",
   "metadata": {},
   "outputs": [],
   "source": [
    "ds = dic_ds[key]"
   ]
  },
  {
   "cell_type": "code",
   "execution_count": null,
   "id": "d611df09-8861-4ac4-b944-395d590c1cf3",
   "metadata": {},
   "outputs": [],
   "source": [
    "ds['re_liq'].where(ds['cl_frac_where_cltime_pos']>0).plot(bins = np.linspace(3,40), density = True);"
   ]
  },
  {
   "cell_type": "code",
   "execution_count": null,
   "id": "80e8cab9-cb5d-4d9f-affb-9e93893f2a98",
   "metadata": {},
   "outputs": [],
   "source": [
    "(ds['re_liq_incld_cltop']\n",
    " .where(ds['cl_frac_where_cltime_pos']>0)\n",
    " #.isel(lev=ds['argmax'])\n",
    " .plot(bins = np.linspace(3,40), density = True)\n",
    ");"
   ]
  },
  {
   "cell_type": "code",
   "execution_count": null,
   "id": "439a0451-f9c5-48ef-a849-e4820f7f70de",
   "metadata": {},
   "outputs": [],
   "source": [
    "ds['CWP_unweigth'] = ds['tclw']"
   ]
  },
  {
   "cell_type": "code",
   "execution_count": null,
   "id": "bff4fe4e-6ec2-4f1b-9f2e-c6b8dbb941a1",
   "metadata": {},
   "outputs": [],
   "source": [
    "ds['CWP_unweigth'].plot(bins=np.linspace(0,500), alpha=.5);\n",
    "ds['CWP'].plot(bins=np.linspace(0,500), alpha=.5);"
   ]
  },
  {
   "cell_type": "markdown",
   "id": "47797550-7659-4a4d-87db-e1fb3a32fa5d",
   "metadata": {},
   "source": [
    "## Check "
   ]
  },
  {
   "cell_type": "code",
   "execution_count": null,
   "id": "e216092b-5eef-47fa-a454-510f5cc889a0",
   "metadata": {},
   "outputs": [],
   "source": [
    "ds['r_eff'].plot()"
   ]
  },
  {
   "cell_type": "code",
   "execution_count": null,
   "id": "f49648e5-821d-404f-8717-44a8ec488028",
   "metadata": {},
   "outputs": [],
   "source": [
    "ds['CWP'].where(ds['ttc']>.9).plot(bins=np.linspace(0,500), alpha=.5, density=True, label='cloud frac above 0.9');\n",
    "ds['CWP'].where(ds['ttc']<.1).plot(bins=np.linspace(0,500), alpha=.5,density=True, label='cloud frac below 0.1');\n",
    "plt.legend()\n",
    "plt.title('CWP divided by cloud fraction')"
   ]
  },
  {
   "cell_type": "code",
   "execution_count": null,
   "id": "ff967e22-75d0-46d2-91ac-26e4d7961fb8",
   "metadata": {},
   "outputs": [],
   "source": [
    "ds['r_eff'].where(ds['ttc']>.9).plot(bins=np.linspace(0,30), alpha=.5, density=True, label='cloud frac above 0.9');\n",
    "ds['r_eff'].where(ds['ttc']<.1).plot(bins=np.linspace(0,30), alpha=.5,density=True, label='cloud frac below 0.1');\n",
    "plt.legend()\n",
    "plt.title('CWP divided by cloud fraction')"
   ]
  },
  {
   "cell_type": "code",
   "execution_count": null,
   "id": "2430a4f4-0c72-4ff7-93c8-238d44f3f658",
   "metadata": {},
   "outputs": [],
   "source": [
    "ds['r_eff'].where(ds['r_eff']>14).where(ds['r_eff']<19).isel(lat=0, lon = 0).plot(linewidth=0, marker='.')"
   ]
  },
  {
   "cell_type": "code",
   "execution_count": null,
   "id": "c60cc60d-18d4-4b81-99ef-c19c22e6d2f8",
   "metadata": {},
   "outputs": [],
   "source": []
  },
  {
   "cell_type": "code",
   "execution_count": null,
   "id": "0dfdb342-286a-4a80-b001-1ca417086943",
   "metadata": {},
   "outputs": [],
   "source": [
    "ds['r_eff'].where((ds['r_eff']==16)).count()/ds['r_eff'].where(ds['r_eff']>0).count()"
   ]
  },
  {
   "cell_type": "code",
   "execution_count": null,
   "id": "ed668ca9-ddc9-43f3-8df3-8e1fb7d607f1",
   "metadata": {},
   "outputs": [],
   "source": [
    "ds['r_eff'].where(ds['ttc']>.9).plot(bins=np.linspace(0,30), alpha=.5, density=True, label='cloud frac above 0.9');\n",
    "ds['r_eff'].where(ds['ttc']<.1).plot(bins=np.linspace(0,30), alpha=.5,density=True, label='cloud frac below 0.1');\n",
    "plt.legend()\n",
    "plt.title('CWP divided by cloud fraction')"
   ]
  },
  {
   "cell_type": "code",
   "execution_count": null,
   "id": "68a28c07-c352-47a5-ae70-99e86e379d59",
   "metadata": {},
   "outputs": [],
   "source": [
    "ds['r_eff'].where(ds['cl_frac_where_cltime_pos']>0).where(ds['r_eff']>2).plot(bins=np.linspace(0,30), alpha=.5, label='');\n"
   ]
  },
  {
   "cell_type": "code",
   "execution_count": null,
   "id": "ac167101-efa5-42de-8a9d-66edd4d04c41",
   "metadata": {},
   "outputs": [],
   "source": [
    "ds['CWP'].where(ds['CWP']>50).to_dataframe().dropna()"
   ]
  },
  {
   "cell_type": "code",
   "execution_count": null,
   "id": "6d053f69-252f-4eb8-9340-dc421b1b2402",
   "metadata": {},
   "outputs": [],
   "source": [
    "ds['CWP_unweigth'].where(ds['ttc']>.9).plot(bins=np.linspace(0,500), alpha=.5, density=True, label='cloud frac above 0.9');\n",
    "ds['CWP_unweigth'].where(ds['ttc']<.1).plot(bins=np.linspace(0,500), alpha=.5,density=True, label='cloud frac below 0.1');\n",
    "plt.legend()\n",
    "plt.title('CWP not divided ')"
   ]
  },
  {
   "cell_type": "code",
   "execution_count": null,
   "id": "c65b2091-8507-499e-87ef-56665cdb6575",
   "metadata": {},
   "outputs": [],
   "source": [
    "ds['CWP'].where(ds['ttc']>.9).plot(bins=np.linspace(0,500), alpha=.5, density=True, label='cloud frac above 0.9');\n",
    "ds['CWP'].where(ds['ttc']<.1).plot(bins=np.linspace(0,500), alpha=.5,density=True, label='cloud frac below 0.1');\n",
    "plt.legend()\n",
    "plt.title('CWP not divided ')"
   ]
  },
  {
   "cell_type": "code",
   "execution_count": null,
   "id": "413695e7-8f8a-4aeb-aa99-05f64ce69e88",
   "metadata": {
    "tags": []
   },
   "outputs": [],
   "source": [
    "for seas in calc_seasons:\n",
    "    _fn_csv = fn_final_ec_earth_csv_stem.parent / (fn_final_ec_earth_csv_stem.name + seas+'.csv')\n",
    "    print(_fn_csv)\n",
    "    \n",
    "\n",
    "    if True:#not _fn_csv.exists():\n",
    "        #for key in dic_ds.keys():\n",
    "    \n",
    "        dic_df = get_dic_df_mod(dic_ds, \n",
    "                                select_hours_clouds=True, \n",
    "                                summer_months=season2month[seas],\n",
    "                                mask_cloud_values =True,\n",
    "                                from_hour=daytime_from,\n",
    "                                to_hour=daytime_to,\n",
    "                                #kwrgs_mask_clouds = dict(min_reff=1,min_cwp =50, tau_bounds = [5,50])\n",
    "                                kwrgs_mask_clouds = dict(min_reff=r_eff_lim,\n",
    "                                                         min_cwp =cld_water_path_above, \n",
    "                                                         tau_bounds = tau_lims\n",
    "                                                        ),\n",
    "                                \n",
    "                               \n",
    "                               )\n",
    "\n",
    "        df_mod = dic_df[case_name_ec_earth]\n",
    "        #with ProgressBar():\n",
    "        df_mod = df_mod.dropna()    \n",
    "        df_mod.to_csv(_fn_csv)"
   ]
  },
  {
   "cell_type": "code",
   "execution_count": null,
   "id": "f16b9f53-a610-44be-a42c-1cd4ecd49d4c",
   "metadata": {},
   "outputs": [],
   "source": [
    "_fn_csv"
   ]
  },
  {
   "cell_type": "code",
   "execution_count": null,
   "id": "294e364a-dba5-4002-aa0a-51039035bf23",
   "metadata": {},
   "outputs": [],
   "source": [
    "df = pd.read_csv(_fn_csv, index_col=[0,1,2])"
   ]
  },
  {
   "cell_type": "code",
   "execution_count": null,
   "id": "27921afe-ba22-447b-bd75-5a3df16c2edc",
   "metadata": {},
   "outputs": [],
   "source": [
    "__ds = df.to_xarray().isel(lat=0, lon=0)#['r_eff']#.plot()"
   ]
  },
  {
   "cell_type": "code",
   "execution_count": null,
   "id": "cf419f77-c12a-4765-b092-9e36a37c0093",
   "metadata": {},
   "outputs": [],
   "source": [
    "df['re_liq'].plot.hist(bins = np.linspace(2,35))"
   ]
  },
  {
   "cell_type": "code",
   "execution_count": null,
   "id": "d843862a-294d-44fa-bddc-853492cafb81",
   "metadata": {},
   "outputs": [],
   "source": [
    "df['r_eff'].plot.hist(bins = np.linspace(3.9,4.1))"
   ]
  },
  {
   "cell_type": "code",
   "execution_count": null,
   "id": "16b12bdc-6ff8-4274-bf36-2f88c3b6b803",
   "metadata": {},
   "outputs": [],
   "source": [
    "df['re_liq_incld_cltop'].plot.hist(bins = np.linspace(2,35))"
   ]
  },
  {
   "cell_type": "code",
   "execution_count": null,
   "id": "fabd48e8-fdaa-486e-98be-38365e04bd4a",
   "metadata": {},
   "outputs": [],
   "source": []
  }
 ],
 "metadata": {
  "kernelspec": {
   "display_name": "Python 3 (ipykernel)",
   "language": "python",
   "name": "python3"
  },
  "language_info": {
   "codemirror_mode": {
    "name": "ipython",
    "version": 3
   },
   "file_extension": ".py",
   "mimetype": "text/x-python",
   "name": "python",
   "nbconvert_exporter": "python",
   "pygments_lexer": "ipython3",
   "version": "3.8.10"
  }
 },
 "nbformat": 4,
 "nbformat_minor": 5
}
