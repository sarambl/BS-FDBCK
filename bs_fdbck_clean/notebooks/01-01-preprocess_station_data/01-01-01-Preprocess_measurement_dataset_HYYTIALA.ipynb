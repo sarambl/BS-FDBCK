{
 "cells": [
  {
   "cell_type": "code",
   "execution_count": 249,
   "id": "b12d7a8a-55d7-42f0-8327-0ce5887df6dc",
   "metadata": {},
   "outputs": [],
   "source": [
    "from bs_fdbck.constants import path_measurement_data\n",
    "import matplotlib.pyplot as plt"
   ]
  },
  {
   "cell_type": "code",
   "execution_count": 250,
   "id": "ef72abda-da29-4263-9333-84d201a9a9e2",
   "metadata": {},
   "outputs": [
    {
     "data": {
      "text/plain": [
       "<xarray.core.options.set_options at 0x7f0085e02040>"
      ]
     },
     "execution_count": 250,
     "metadata": {},
     "output_type": "execute_result"
    }
   ],
   "source": [
    "import pandas as pd\n",
    "import numpy as np\n",
    "import xarray as xr\n",
    "xr.set_options(keep_attrs=True)"
   ]
  },
  {
   "cell_type": "code",
   "execution_count": 251,
   "id": "1bb2929c-479c-4100-b7aa-ea894a983720",
   "metadata": {},
   "outputs": [],
   "source": [
    "import datetime "
   ]
  },
  {
   "cell_type": "code",
   "execution_count": 252,
   "id": "9532ee4c-99c6-436a-bfce-5ed09b4379fa",
   "metadata": {},
   "outputs": [
    {
     "name": "stdout",
     "output_type": "stream",
     "text": [
      "The autoreload extension is already loaded. To reload it, use:\n",
      "  %reload_ext autoreload\n"
     ]
    }
   ],
   "source": [
    "%load_ext autoreload\n",
    "%autoreload 2"
   ]
  },
  {
   "cell_type": "code",
   "execution_count": 253,
   "id": "4039f30c-a8fc-4b24-873c-379de6cc2d85",
   "metadata": {},
   "outputs": [],
   "source": [
    "path_acsm = path_measurement_data / 'ACSM_DEFAULT.mat'"
   ]
  },
  {
   "cell_type": "code",
   "execution_count": 254,
   "id": "92161362-a1ab-490f-b6bb-bbfaf800cb75",
   "metadata": {},
   "outputs": [],
   "source": [
    "fn_pres = path_measurement_data / 'SMEARII'/ 'smeardata_20230307_pressure.csv'\n",
    "fn_rad = path_measurement_data / 'SMEARII'/ 'smeardata_20221116_radiation.csv'\n",
    "fn_temp4m = path_measurement_data / 'SMEARII'/'smeardata_20230307_temp4m.csv'"
   ]
  },
  {
   "cell_type": "code",
   "execution_count": 255,
   "id": "74c7f381-473d-4da4-a2cf-b976cd2fce88",
   "metadata": {},
   "outputs": [],
   "source": [
    "fl_meteo = ['smeardata_20221116_2012-2014.csv', 'smeardata_20221116_2014-2016.csv', 'smeardata_20221116_2016-2018.csv',\n",
    "      'smeardata_20221116_2018-2019.csv']\n",
    "fl_meteo = [path_measurement_data/'SMEARII'/f for f in fl_meteo]\n"
   ]
  },
  {
   "cell_type": "markdown",
   "id": "bea7629e-25df-413d-a7ce-7c5bb15d2691",
   "metadata": {},
   "source": [
    "### Output data"
   ]
  },
  {
   "cell_type": "code",
   "execution_count": 256,
   "id": "0cc63d75-eb9a-4eac-b8cd-6c5baefb0a36",
   "metadata": {},
   "outputs": [],
   "source": [
    "postproc_data = path_measurement_data /'SMR'/'processed'\n",
    "postproc_data.mkdir( parents = True, exist_ok=True)"
   ]
  },
  {
   "cell_type": "code",
   "execution_count": 257,
   "id": "7f40f98d-ba40-4077-8ebf-d3cbae00ba3c",
   "metadata": {
    "tags": []
   },
   "outputs": [],
   "source": [
    "\n",
    "path_comb_data =postproc_data /'SMEARII_data_comb_daily.nc'\n",
    "path_comb_data_full_time =postproc_data /'SMEAR_data_comb_hourly.csv'"
   ]
  },
  {
   "cell_type": "markdown",
   "id": "9766c5da-3a66-4155-9d81-a3b55c31c713",
   "metadata": {},
   "source": [
    "### Read in acsm data"
   ]
  },
  {
   "cell_type": "markdown",
   "id": "a55491b0-3d49-465a-8fba-c4ebb816003f",
   "metadata": {},
   "source": [
    "### Input data:\n"
   ]
  },
  {
   "cell_type": "code",
   "execution_count": 258,
   "id": "65c66b00-c937-4938-be7c-31ad71036307",
   "metadata": {},
   "outputs": [
    {
     "data": {
      "text/plain": [
       "PosixPath('/proj/bolinc/users/x_sarbl/analysis/BS-FDBCK/Data')"
      ]
     },
     "execution_count": 258,
     "metadata": {},
     "output_type": "execute_result"
    }
   ],
   "source": [
    "path_measurement_data"
   ]
  },
  {
   "cell_type": "code",
   "execution_count": 259,
   "id": "d6069dc2-c4ec-45bc-bb89-925b29c8e3b4",
   "metadata": {},
   "outputs": [],
   "source": [
    "f = '/proj/bolinc/users/x_sarbl/analysis/BS-FDBCK/Data/ACSM_DEFAULT.mat'"
   ]
  },
  {
   "cell_type": "markdown",
   "id": "816ec119-47eb-47bd-a8df-e791bb0660a1",
   "metadata": {},
   "source": [
    "## Partilces "
   ]
  },
  {
   "cell_type": "code",
   "execution_count": 260,
   "id": "08897501-66a0-42ee-8d47-849d87b68b68",
   "metadata": {},
   "outputs": [],
   "source": [
    "xlist = [50, 80, 100, 150, 200, 250, 300]"
   ]
  },
  {
   "cell_type": "markdown",
   "id": "fe0fcc02-0049-44bb-b8ae-6acb85b9360a",
   "metadata": {},
   "source": [
    "DMPS data is downloaded from EBAS"
   ]
  },
  {
   "cell_type": "code",
   "execution_count": 261,
   "id": "f84eed1e-8717-432b-b9f6-d77be76ea53c",
   "metadata": {},
   "outputs": [],
   "source": [
    "_f = '/proj/bolinc/users/x_sarbl/analysis/BS-FDBCK/Data/EBAS/raw_data/SMR/FI0050R.20120101000000.20181205100800.dmps.particle_number_size_distribution.pm10.1y.1h.FI03L_UHEL_DMPS_HYY_01.FI03L__TRY_TDMPS.lev2.nc'"
   ]
  },
  {
   "cell_type": "markdown",
   "id": "21ea2664-3041-4406-a775-8c7a1f184efc",
   "metadata": {},
   "source": [
    "Data is downloaded from EBAS: "
   ]
  },
  {
   "cell_type": "markdown",
   "id": "76eeb15f-6c9d-4510-b023-f06cafe903ff",
   "metadata": {},
   "source": [
    "https://ebas-data.nilu.no/DataSets.aspx?stations=FI0050R&nations=FI246FIN&InstrumentTypes=dmps&components=particle_number_size_distribution&fromDate=1970-01-01&toDate=2023-12-31"
   ]
  },
  {
   "cell_type": "code",
   "execution_count": 262,
   "id": "45d67e3a-898c-4441-80c0-092290b116f8",
   "metadata": {
    "lines_to_next_cell": 2
   },
   "outputs": [
    {
     "name": "stdout",
     "output_type": "stream",
     "text": [
      "Importing files: \n",
      "[PosixPath('/proj/bolinc/users/x_sarbl/analysis/BS-FDBCK/Data/EBAS/raw_data/SMR/FI0050R.20120101000000.20181205100800.dmps.particle_number_size_distribution.pm10.1y.1h.FI03L_UHEL_DMPS_HYY_01.FI03L__TRY_TDMPS.lev2.nc'), PosixPath('/proj/bolinc/users/x_sarbl/analysis/BS-FDBCK/Data/EBAS/raw_data/SMR/FI0050R.20130101000000.20220222151057.dmps.particle_number_size_distribution.pm10.1y.1h.FI03L_UHEL_DMPS_HYY_01.FI03L__TRY_TDMPS.lev2.nc'), PosixPath('/proj/bolinc/users/x_sarbl/analysis/BS-FDBCK/Data/EBAS/raw_data/SMR/FI0050R.20140101000000.20220222151057.dmps.particle_number_size_distribution.pm10.1y.1h.FI03L_UHEL_DMPS_HYY_01.FI03L__TRY_TDMPS.lev2.nc'), PosixPath('/proj/bolinc/users/x_sarbl/analysis/BS-FDBCK/Data/EBAS/raw_data/SMR/FI0050R.20150101000000.20220222151057.dmps.particle_number_size_distribution.pm10.1y.1h.FI03L_UHEL_DMPS_HYY_01.FI03L__TRY_TDMPS.lev2.nc'), PosixPath('/proj/bolinc/users/x_sarbl/analysis/BS-FDBCK/Data/EBAS/raw_data/SMR/FI0050R.20160101000000.20220222151057.dmps.particle_number_size_distribution.pm10.1y.1h.FI03L_UHEL_DMPS_HYY_01.FI03L__TRY_TDMPS.lev2.nc'), PosixPath('/proj/bolinc/users/x_sarbl/analysis/BS-FDBCK/Data/EBAS/raw_data/SMR/FI0050R.20170101000000.20220222151057.dmps.particle_number_size_distribution.pm10.1y.1h.FI03L_UHEL_DMPS_HYY_01.FI03L__TRY_TDMPS.lev2.nc'), PosixPath('/proj/bolinc/users/x_sarbl/analysis/BS-FDBCK/Data/EBAS/raw_data/SMR/FI0050R.20180101000000.20220222151057.dmps.particle_number_size_distribution.pm10.1y.1h.FI03L_UHEL_DMPS_HYY_01.FI03L__TRY_TDMPS.lev2.nc')]\n"
     ]
    },
    {
     "name": "stderr",
     "output_type": "stream",
     "text": [
      "/home/x_sarbl/miniconda3/envs/env_analys/lib/python3.8/site-packages/xarray/core/missing.py:559: FutureWarning:\n",
      "\n",
      "Passing method to Float64Index.get_loc is deprecated and will raise in a future version. Use index.get_indexer([item], method=...) instead.\n",
      "\n",
      "/home/x_sarbl/miniconda3/envs/env_analys/lib/python3.8/site-packages/xarray/core/missing.py:560: FutureWarning:\n",
      "\n",
      "Passing method to Float64Index.get_loc is deprecated and will raise in a future version. Use index.get_indexer([item], method=...) instead.\n",
      "\n",
      "/home/x_sarbl/miniconda3/envs/env_analys/lib/python3.8/site-packages/xarray/core/missing.py:559: FutureWarning:\n",
      "\n",
      "Passing method to Float64Index.get_loc is deprecated and will raise in a future version. Use index.get_indexer([item], method=...) instead.\n",
      "\n",
      "/home/x_sarbl/miniconda3/envs/env_analys/lib/python3.8/site-packages/xarray/core/missing.py:560: FutureWarning:\n",
      "\n",
      "Passing method to Float64Index.get_loc is deprecated and will raise in a future version. Use index.get_indexer([item], method=...) instead.\n",
      "\n",
      "/home/x_sarbl/miniconda3/envs/env_analys/lib/python3.8/site-packages/xarray/core/missing.py:559: FutureWarning:\n",
      "\n",
      "Passing method to Float64Index.get_loc is deprecated and will raise in a future version. Use index.get_indexer([item], method=...) instead.\n",
      "\n",
      "/home/x_sarbl/miniconda3/envs/env_analys/lib/python3.8/site-packages/xarray/core/missing.py:560: FutureWarning:\n",
      "\n",
      "Passing method to Float64Index.get_loc is deprecated and will raise in a future version. Use index.get_indexer([item], method=...) instead.\n",
      "\n",
      "/home/x_sarbl/miniconda3/envs/env_analys/lib/python3.8/site-packages/xarray/core/missing.py:559: FutureWarning:\n",
      "\n",
      "Passing method to Float64Index.get_loc is deprecated and will raise in a future version. Use index.get_indexer([item], method=...) instead.\n",
      "\n",
      "/home/x_sarbl/miniconda3/envs/env_analys/lib/python3.8/site-packages/xarray/core/missing.py:560: FutureWarning:\n",
      "\n",
      "Passing method to Float64Index.get_loc is deprecated and will raise in a future version. Use index.get_indexer([item], method=...) instead.\n",
      "\n",
      "/home/x_sarbl/miniconda3/envs/env_analys/lib/python3.8/site-packages/xarray/core/missing.py:559: FutureWarning:\n",
      "\n",
      "Passing method to Float64Index.get_loc is deprecated and will raise in a future version. Use index.get_indexer([item], method=...) instead.\n",
      "\n",
      "/home/x_sarbl/miniconda3/envs/env_analys/lib/python3.8/site-packages/xarray/core/missing.py:560: FutureWarning:\n",
      "\n",
      "Passing method to Float64Index.get_loc is deprecated and will raise in a future version. Use index.get_indexer([item], method=...) instead.\n",
      "\n",
      "/home/x_sarbl/miniconda3/envs/env_analys/lib/python3.8/site-packages/xarray/core/missing.py:559: FutureWarning:\n",
      "\n",
      "Passing method to Float64Index.get_loc is deprecated and will raise in a future version. Use index.get_indexer([item], method=...) instead.\n",
      "\n",
      "/home/x_sarbl/miniconda3/envs/env_analys/lib/python3.8/site-packages/xarray/core/missing.py:560: FutureWarning:\n",
      "\n",
      "Passing method to Float64Index.get_loc is deprecated and will raise in a future version. Use index.get_indexer([item], method=...) instead.\n",
      "\n",
      "/home/x_sarbl/miniconda3/envs/env_analys/lib/python3.8/site-packages/xarray/core/missing.py:559: FutureWarning:\n",
      "\n",
      "Passing method to Float64Index.get_loc is deprecated and will raise in a future version. Use index.get_indexer([item], method=...) instead.\n",
      "\n",
      "/home/x_sarbl/miniconda3/envs/env_analys/lib/python3.8/site-packages/xarray/core/missing.py:560: FutureWarning:\n",
      "\n",
      "Passing method to Float64Index.get_loc is deprecated and will raise in a future version. Use index.get_indexer([item], method=...) instead.\n",
      "\n"
     ]
    }
   ],
   "source": [
    "from bs_fdbck.util.EBAS_data import get_ebas_dataset_Nx_daily_JA_median_df, get_ebas_dataset_with_Nx,get_station_ebas_data\n",
    "\n",
    "ds_sizedist = get_station_ebas_data(station='SMR')\n",
    "\n",
    "#ds_ebas_Nx = get_ebas_dataset_with_Nx()\n",
    "ds_ebas_Nx = get_ebas_dataset_with_Nx(x_list=xlist, station = 'SMR', ds = ds_sizedist)#x_list = [90,100,110,120])\n",
    "ds_ebas_Nx['time'].attrs['timezone'] = 'UTC'"
   ]
  },
  {
   "cell_type": "markdown",
   "id": "69e54389-d2ba-4f1d-8d4b-d5844f21dbcc",
   "metadata": {
    "tags": []
   },
   "source": [
    "## Timezone local time eastern winter time EET UTC+2"
   ]
  },
  {
   "cell_type": "code",
   "execution_count": 263,
   "id": "9ff44a5f-4d46-41f1-ba5a-eeb61314a6e9",
   "metadata": {},
   "outputs": [],
   "source": [
    "import datetime"
   ]
  },
  {
   "cell_type": "code",
   "execution_count": 264,
   "id": "b969f07d-f300-4e62-a5fb-5f5d1c8d63cf",
   "metadata": {},
   "outputs": [],
   "source": [
    "from bs_fdbck.util.BSOA_datamanip import standard_air_density"
   ]
  },
  {
   "cell_type": "code",
   "execution_count": 265,
   "id": "66981fa6-36bd-4f04-a20d-5dec3cf4a9de",
   "metadata": {},
   "outputs": [],
   "source": [
    "if ds_ebas_Nx['time'].attrs['timezone']=='UTC':\n",
    "    \n",
    "    ds_ebas_Nx['time_utc'] = ds_ebas_Nx['time'].copy()\n",
    "    ds_ebas_Nx['time'] = pd.to_datetime(ds_ebas_Nx['time_utc']) + datetime.timedelta(hours=2)\n",
    "    ds_ebas_Nx['time'].attrs = ds_ebas_Nx['time_utc'].attrs.copy()\n",
    "    ds_ebas_Nx['time']=  ds_ebas_Nx['time'].assign_attrs(timezone='EEST')"
   ]
  },
  {
   "cell_type": "code",
   "execution_count": 266,
   "id": "17284406-6ab9-41a8-a997-6122487fc7b3",
   "metadata": {},
   "outputs": [
    {
     "data": {
      "text/html": [
       "<div>\n",
       "<style scoped>\n",
       "    .dataframe tbody tr th:only-of-type {\n",
       "        vertical-align: middle;\n",
       "    }\n",
       "\n",
       "    .dataframe tbody tr th {\n",
       "        vertical-align: top;\n",
       "    }\n",
       "\n",
       "    .dataframe thead th {\n",
       "        text-align: right;\n",
       "    }\n",
       "</style>\n",
       "<table border=\"1\" class=\"dataframe\">\n",
       "  <thead>\n",
       "    <tr style=\"text-align: right;\">\n",
       "      <th></th>\n",
       "      <th>N50</th>\n",
       "      <th>N80</th>\n",
       "      <th>N100</th>\n",
       "      <th>N150</th>\n",
       "      <th>N200</th>\n",
       "      <th>N250</th>\n",
       "      <th>N300</th>\n",
       "    </tr>\n",
       "    <tr>\n",
       "      <th>time</th>\n",
       "      <th></th>\n",
       "      <th></th>\n",
       "      <th></th>\n",
       "      <th></th>\n",
       "      <th></th>\n",
       "      <th></th>\n",
       "      <th></th>\n",
       "    </tr>\n",
       "  </thead>\n",
       "  <tbody>\n",
       "    <tr>\n",
       "      <th>2012-01-01 02:00:00</th>\n",
       "      <td>474.717694</td>\n",
       "      <td>306.616092</td>\n",
       "      <td>235.864279</td>\n",
       "      <td>137.173123</td>\n",
       "      <td>87.040280</td>\n",
       "      <td>52.205053</td>\n",
       "      <td>29.899803</td>\n",
       "    </tr>\n",
       "    <tr>\n",
       "      <th>2012-01-01 03:00:00</th>\n",
       "      <td>516.631120</td>\n",
       "      <td>341.513573</td>\n",
       "      <td>264.511665</td>\n",
       "      <td>152.428974</td>\n",
       "      <td>96.878629</td>\n",
       "      <td>59.321288</td>\n",
       "      <td>33.998613</td>\n",
       "    </tr>\n",
       "    <tr>\n",
       "      <th>2012-01-01 04:00:00</th>\n",
       "      <td>635.704219</td>\n",
       "      <td>431.524799</td>\n",
       "      <td>334.590614</td>\n",
       "      <td>189.614898</td>\n",
       "      <td>117.824268</td>\n",
       "      <td>70.343558</td>\n",
       "      <td>39.921649</td>\n",
       "    </tr>\n",
       "    <tr>\n",
       "      <th>2012-01-01 05:00:00</th>\n",
       "      <td>859.767868</td>\n",
       "      <td>603.801309</td>\n",
       "      <td>465.870302</td>\n",
       "      <td>251.464244</td>\n",
       "      <td>147.150787</td>\n",
       "      <td>86.925009</td>\n",
       "      <td>50.451064</td>\n",
       "    </tr>\n",
       "    <tr>\n",
       "      <th>2012-01-01 06:00:00</th>\n",
       "      <td>1249.259621</td>\n",
       "      <td>881.768743</td>\n",
       "      <td>684.944162</td>\n",
       "      <td>379.522949</td>\n",
       "      <td>221.376488</td>\n",
       "      <td>128.856136</td>\n",
       "      <td>76.218054</td>\n",
       "    </tr>\n",
       "    <tr>\n",
       "      <th>...</th>\n",
       "      <td>...</td>\n",
       "      <td>...</td>\n",
       "      <td>...</td>\n",
       "      <td>...</td>\n",
       "      <td>...</td>\n",
       "      <td>...</td>\n",
       "      <td>...</td>\n",
       "    </tr>\n",
       "    <tr>\n",
       "      <th>2018-12-31 21:00:00</th>\n",
       "      <td>242.483006</td>\n",
       "      <td>172.140209</td>\n",
       "      <td>138.361021</td>\n",
       "      <td>71.788172</td>\n",
       "      <td>35.610311</td>\n",
       "      <td>15.973082</td>\n",
       "      <td>7.646265</td>\n",
       "    </tr>\n",
       "    <tr>\n",
       "      <th>2018-12-31 22:00:00</th>\n",
       "      <td>226.782610</td>\n",
       "      <td>139.861512</td>\n",
       "      <td>109.549075</td>\n",
       "      <td>53.552937</td>\n",
       "      <td>24.765184</td>\n",
       "      <td>10.040581</td>\n",
       "      <td>4.770128</td>\n",
       "    </tr>\n",
       "    <tr>\n",
       "      <th>2018-12-31 23:00:00</th>\n",
       "      <td>178.178957</td>\n",
       "      <td>102.056089</td>\n",
       "      <td>77.719809</td>\n",
       "      <td>33.131727</td>\n",
       "      <td>13.115932</td>\n",
       "      <td>5.133396</td>\n",
       "      <td>2.542448</td>\n",
       "    </tr>\n",
       "    <tr>\n",
       "      <th>2019-01-01 00:00:00</th>\n",
       "      <td>149.585982</td>\n",
       "      <td>92.618581</td>\n",
       "      <td>68.558068</td>\n",
       "      <td>29.449547</td>\n",
       "      <td>14.495031</td>\n",
       "      <td>7.108705</td>\n",
       "      <td>3.613027</td>\n",
       "    </tr>\n",
       "    <tr>\n",
       "      <th>2019-01-01 01:00:00</th>\n",
       "      <td>217.828409</td>\n",
       "      <td>147.557199</td>\n",
       "      <td>110.358359</td>\n",
       "      <td>47.512665</td>\n",
       "      <td>24.784930</td>\n",
       "      <td>12.555279</td>\n",
       "      <td>6.669087</td>\n",
       "    </tr>\n",
       "  </tbody>\n",
       "</table>\n",
       "<p>61368 rows × 7 columns</p>\n",
       "</div>"
      ],
      "text/plain": [
       "                             N50         N80        N100        N150  \\\n",
       "time                                                                   \n",
       "2012-01-01 02:00:00   474.717694  306.616092  235.864279  137.173123   \n",
       "2012-01-01 03:00:00   516.631120  341.513573  264.511665  152.428974   \n",
       "2012-01-01 04:00:00   635.704219  431.524799  334.590614  189.614898   \n",
       "2012-01-01 05:00:00   859.767868  603.801309  465.870302  251.464244   \n",
       "2012-01-01 06:00:00  1249.259621  881.768743  684.944162  379.522949   \n",
       "...                          ...         ...         ...         ...   \n",
       "2018-12-31 21:00:00   242.483006  172.140209  138.361021   71.788172   \n",
       "2018-12-31 22:00:00   226.782610  139.861512  109.549075   53.552937   \n",
       "2018-12-31 23:00:00   178.178957  102.056089   77.719809   33.131727   \n",
       "2019-01-01 00:00:00   149.585982   92.618581   68.558068   29.449547   \n",
       "2019-01-01 01:00:00   217.828409  147.557199  110.358359   47.512665   \n",
       "\n",
       "                           N200        N250       N300  \n",
       "time                                                    \n",
       "2012-01-01 02:00:00   87.040280   52.205053  29.899803  \n",
       "2012-01-01 03:00:00   96.878629   59.321288  33.998613  \n",
       "2012-01-01 04:00:00  117.824268   70.343558  39.921649  \n",
       "2012-01-01 05:00:00  147.150787   86.925009  50.451064  \n",
       "2012-01-01 06:00:00  221.376488  128.856136  76.218054  \n",
       "...                         ...         ...        ...  \n",
       "2018-12-31 21:00:00   35.610311   15.973082   7.646265  \n",
       "2018-12-31 22:00:00   24.765184   10.040581   4.770128  \n",
       "2018-12-31 23:00:00   13.115932    5.133396   2.542448  \n",
       "2019-01-01 00:00:00   14.495031    7.108705   3.613027  \n",
       "2019-01-01 01:00:00   24.784930   12.555279   6.669087  \n",
       "\n",
       "[61368 rows x 7 columns]"
      ]
     },
     "execution_count": 266,
     "metadata": {},
     "output_type": "execute_result"
    }
   ],
   "source": [
    "ds_Nx_hourly = ds_ebas_Nx.resample(time='1h').median()[[f'N{n}' for n in xlist]]\n",
    "\n",
    "ds_Nx_hourly_mean = ds_ebas_Nx.resample(time='1h').mean()[[f'N{n}' for n in xlist]]\n",
    "\n",
    "df_ebas_Nx  = ds_Nx_hourly_mean.to_dataframe()\n",
    "df_ebas_Nx"
   ]
  },
  {
   "cell_type": "code",
   "execution_count": 267,
   "id": "f0b19fcb-979a-4ac0-953e-770a75791491",
   "metadata": {
    "lines_to_next_cell": 2
   },
   "outputs": [],
   "source": [
    "import pandas as pd"
   ]
  },
  {
   "cell_type": "code",
   "execution_count": 268,
   "id": "7b2777ca-5d82-4b99-b203-41fcad6b9c0e",
   "metadata": {},
   "outputs": [],
   "source": [
    "from bs_fdbck.constants import path_measurement_data"
   ]
  },
  {
   "cell_type": "code",
   "execution_count": 269,
   "id": "703d4903-d5be-4b1d-a271-b08793aa09fd",
   "metadata": {},
   "outputs": [],
   "source": [
    "fn = path_measurement_data / 'SourceData_Yli_Juuti2021.xls'\n",
    "\n",
    "df_hyy_1 = pd.read_excel(fn, sheet_name=0, header=2, usecols=range(6))\n",
    "\n",
    "df_hyy_1.head()\n",
    "\n",
    "df_hyy_1['date'] = df_hyy_1.apply(lambda x: f'{x.year:.0f}-{x.month:02.0f}-{x.day:02.0f}', axis=1)\n",
    "\n",
    "df_hyy_1['date'] = pd.to_datetime(df_hyy_1['date'] )\n",
    "\n"
   ]
  },
  {
   "cell_type": "code",
   "execution_count": 270,
   "id": "d7e3d0b3-1ec3-45ab-b95f-781ab3ada3cc",
   "metadata": {},
   "outputs": [],
   "source": [
    "\n",
    "df_hyy_1 = df_hyy_1.set_index('date')"
   ]
  },
  {
   "cell_type": "code",
   "execution_count": 271,
   "id": "ff268ccb-8a2a-4523-b7d4-ac9618b0da7b",
   "metadata": {},
   "outputs": [],
   "source": [
    "df_hyy_1.index = df_hyy_1.index.rename('time') "
   ]
  },
  {
   "cell_type": "code",
   "execution_count": 272,
   "id": "1194471d-39bc-4131-b305-d90338b16a61",
   "metadata": {},
   "outputs": [],
   "source": [
    "R = 287.058\n",
    "df_hyy_1['rho'] = 1e5/(R*(df_hyy_1['T (degree C)']+273.15))\n",
    "df_hyy_1['N100 (cm^-3),STP'] = df_hyy_1['N100 (cm^-3)']*standard_air_density/df_hyy_1['rho']\n"
   ]
  },
  {
   "cell_type": "code",
   "execution_count": 273,
   "id": "39a2ff8f-3ef0-4f5b-a485-ffa751a49131",
   "metadata": {},
   "outputs": [],
   "source": [
    "import matplotlib.pyplot as plt"
   ]
  },
  {
   "cell_type": "markdown",
   "id": "d7193b1f-1132-4837-9713-009d1c3ca21d",
   "metadata": {
    "tags": []
   },
   "source": [
    "## Check integration against Yli-Juuti et al "
   ]
  },
  {
   "cell_type": "code",
   "execution_count": 274,
   "id": "4161112a-81bc-4a69-9452-da063b9922bc",
   "metadata": {
    "lines_to_next_cell": 0
   },
   "outputs": [
    {
     "data": {
      "image/png": "[encoded data removed]",
      "text/plain": [
       "<Figure size 432x288 with 1 Axes>"
      ]
     },
     "metadata": {
      "needs_background": "light"
     },
     "output_type": "display_data"
    },
    {
     "name": "stdout",
     "output_type": "stream",
     "text": [
      "1.102144814634486\n"
     ]
    }
   ],
   "source": [
    "\n",
    "df_joint_hyy = pd.merge(df_ebas_Nx.resample('1D').median(), df_hyy_1, left_index=True, right_index=True)\n",
    "(df_joint_hyy['N100']).loc['2014-07':'2014-09'].plot(label='mine')\n",
    "(df_joint_hyy['N100 (cm^-3),STP']).loc['2014-07':'2014-09'].plot(label='orig')\n",
    "plt.legend()\n",
    "plt.show()\n",
    "\n",
    "\n",
    "\n",
    "print(df_joint_hyy['N100'][df_joint_hyy['N100 (cm^-3)'].notnull()].mean()/df_joint_hyy['N100 (cm^-3)'].mean())"
   ]
  },
  {
   "cell_type": "markdown",
   "id": "6e1a7ffb-44b1-460a-8006-b3fa10bcee83",
   "metadata": {
    "tags": []
   },
   "source": [
    "## Meteo data"
   ]
  },
  {
   "cell_type": "markdown",
   "id": "e20e1c0f-b366-4ce1-862a-2efcbdf19a4a",
   "metadata": {},
   "source": [
    "Already in local time EET (UTC+2)"
   ]
  },
  {
   "cell_type": "code",
   "execution_count": 275,
   "id": "b7cde95e-d82a-4d8b-bb6d-679e9d9ce3dd",
   "metadata": {},
   "outputs": [],
   "source": [
    "df_rad = pd.read_csv(fn_rad)"
   ]
  },
  {
   "cell_type": "code",
   "execution_count": 276,
   "id": "d88ecdbb-c033-4f22-8bda-9b379fe7246b",
   "metadata": {},
   "outputs": [],
   "source": [
    "df_rad['time'] = pd.to_datetime(df_rad[['Year', 'Month', 'Day', 'Hour','Minute']].apply(lambda s : datetime.datetime(*s),axis = 1))"
   ]
  },
  {
   "cell_type": "code",
   "execution_count": 277,
   "id": "e41790d3-79a8-438b-a537-f9c29f899528",
   "metadata": {},
   "outputs": [
    {
     "data": {
      "image/png": "[encoded data removed]",
      "text/plain": [
       "<Figure size 432x288 with 1 Axes>"
      ]
     },
     "metadata": {
      "needs_background": "light"
     },
     "output_type": "display_data"
    }
   ],
   "source": [
    "_df_june = df_rad[df_rad.Month==1]\n",
    "_df=_df_june.groupby('Hour').mean()\n",
    "_df['HYY_META.Glob'].plot()\n",
    "plt.xticks(range(0,23));\n",
    "plt.grid()\n",
    "#plt.ylim([0,4])"
   ]
  },
  {
   "cell_type": "code",
   "execution_count": 278,
   "id": "58723258-3779-481d-9be8-c08cf2a24895",
   "metadata": {},
   "outputs": [],
   "source": [
    "def compute_u_v(ws, theta):\n",
    "    theta_rad = theta/360*2*np.pi\n",
    "    u = ws*np.cos(theta_rad)\n",
    "    v = ws*np.sin(theta_rad)\n",
    "    return u, v\n",
    "\n",
    "def comp_ws_theta(u,v):\n",
    "    ws = np.sqrt(u**2+v**2)\n",
    "    theta =(np.arctan2(v, u))%(2*np.pi)*360/2/np.pi#*360/(2*np.pi)\n",
    "    return ws, theta\n",
    "    "
   ]
  },
  {
   "cell_type": "markdown",
   "id": "9a4dc0c9-518d-485c-9c0d-2fe751350978",
   "metadata": {},
   "source": [
    "## Average wind by hour: "
   ]
  },
  {
   "cell_type": "markdown",
   "id": "bf14ccea-7ceb-4c16-abe4-e20f8d78b767",
   "metadata": {},
   "source": [
    "First compute U,V, then average, and then recompute direction and strength\n"
   ]
  },
  {
   "cell_type": "code",
   "execution_count": 279,
   "id": "42d5aa9f-8eca-4405-b870-37e9201603a9",
   "metadata": {},
   "outputs": [],
   "source": [
    "def make_hourly_wind(df_met_hr, var_ws, var_theta):\n",
    "    df_met_hr['U'], df_met_hr['V'] = compute_u_v(df_met_hr[var_ws],df_met_hr[var_theta]) \n",
    "\n",
    "    df_met_hour = fix_time_meteo(df_met_hr)\n",
    "    \n",
    "    df_met_hour[var_ws],df_met_hour[var_theta] = comp_ws_theta(df_met_hour['U'], df_met_hour['V'])\n",
    "\n",
    "    return df_met_hour\n",
    "\n",
    "def fix_time_meteo(df_met_hr):\n",
    "    df_met_hr['time'] = pd.to_datetime(df_met_hr[['Year', 'Month', 'Day', 'Hour','Minute']].apply(lambda s : datetime.datetime(*s),axis = 1))\n",
    "\n",
    "    df_met_hr = df_met_hr.set_index('time')\n",
    "\n",
    "    df_met_hour = df_met_hr.resample('h').mean()\n",
    "    return df_met_hour\n"
   ]
  },
  {
   "cell_type": "code",
   "execution_count": 280,
   "id": "427d4f48-1b76-4d84-b87f-2e0c96f5f15c",
   "metadata": {},
   "outputs": [],
   "source": [
    "var_ws = 'HYY_META.WSU168'\n",
    "var_theta = 'HYY_META.WDU168'\n",
    "var_ws2 = 'HYY_META.WSU672'\n",
    "var_theta2 = 'HYY_META.WDU672'\n",
    "df_ls = list()\n",
    "for f in fl_meteo:\n",
    "    df = pd.read_csv(f)\n",
    "    df_hourly = make_hourly_wind(df, var_ws, var_theta)\n",
    "    df_hourly2 = make_hourly_wind(df, var_ws2, var_theta2)\n",
    "    for v in [var_ws2, var_theta2]:\n",
    "        df_hourly[v] = df_hourly2[v]\n",
    "    \n",
    "    df_ls.append(df_hourly)"
   ]
  },
  {
   "cell_type": "code",
   "execution_count": 281,
   "id": "e0d0ea43-be9e-495b-b9ee-35948cec2e1a",
   "metadata": {},
   "outputs": [],
   "source": [
    "df_meteo= pd.concat(df_ls)"
   ]
  },
  {
   "cell_type": "code",
   "execution_count": 282,
   "id": "c04433c8-4d01-482e-be75-d6b3e4b06147",
   "metadata": {},
   "outputs": [
    {
     "data": {
      "text/plain": [
       "<AxesSubplot:ylabel='Frequency'>"
      ]
     },
     "execution_count": 282,
     "metadata": {},
     "output_type": "execute_result"
    },
    {
     "data": {
      "image/png": "[encoded data removed]",
      "text/plain": [
       "<Figure size 432x288 with 1 Axes>"
      ]
     },
     "metadata": {
      "needs_background": "light"
     },
     "output_type": "display_data"
    }
   ],
   "source": [
    "df_hourly['HYY_META.WDU168'].plot.hist()"
   ]
  },
  {
   "cell_type": "code",
   "execution_count": 283,
   "id": "0de7024c-6a40-4b4e-8a40-23ff9ec479d1",
   "metadata": {},
   "outputs": [
    {
     "data": {
      "application/vnd.plotly.v1+json": {
       "config": {
        "plotlyServerURL": "https://plot.ly"
       },
       "data": [
        {
         "hovertemplate": "WDU168_freq=%{r}<br>WDU168_mid=%{theta}<br>WDU168_mean=%{marker.color}<extra></extra>",
         "legendgroup": "",
         "marker": {
          "color": [
           499,
           541,
           511,
           561,
           566,
           555,
           487,
           457,
           408,
           444,
           419,
           427,
           447,
           450,
           471,
           470,
           392,
           423,
           421,
           420,
           415,
           447,
           420,
           430,
           433,
           464,
           499,
           535,
           545,
           531,
           532,
           560,
           543,
           582,
           635,
           689,
           770,
           799,
           794,
           840,
           898,
           795,
           734,
           687,
           696,
           735,
           757,
           763,
           801,
           877,
           887,
           854,
           910,
           971,
           1108,
           1133,
           1179,
           1151,
           1099,
           1064,
           1036,
           934,
           960,
           881,
           929,
           954,
           895,
           943,
           898,
           956,
           865,
           933,
           838,
           896,
           829,
           803,
           762,
           720,
           646,
           691,
           659,
           604,
           572,
           570,
           570,
           598,
           595,
           540,
           589,
           623,
           613,
           697,
           686,
           678,
           694,
           661,
           664,
           630,
           531
          ],
          "coloraxis": "coloraxis",
          "pattern": {
           "shape": ""
          }
         },
         "name": "",
         "r": [
          499,
          541,
          511,
          561,
          566,
          555,
          487,
          457,
          408,
          444,
          419,
          427,
          447,
          450,
          471,
          470,
          392,
          423,
          421,
          420,
          415,
          447,
          420,
          430,
          433,
          464,
          499,
          535,
          545,
          531,
          532,
          560,
          543,
          582,
          635,
          689,
          770,
          799,
          794,
          840,
          898,
          795,
          734,
          687,
          696,
          735,
          757,
          763,
          801,
          877,
          887,
          854,
          910,
          971,
          1108,
          1133,
          1179,
          1151,
          1099,
          1064,
          1036,
          934,
          960,
          881,
          929,
          954,
          895,
          943,
          898,
          956,
          865,
          933,
          838,
          896,
          829,
          803,
          762,
          720,
          646,
          691,
          659,
          604,
          572,
          570,
          570,
          598,
          595,
          540,
          589,
          623,
          613,
          697,
          686,
          678,
          694,
          661,
          664,
          630,
          531
         ],
         "showlegend": false,
         "subplot": "polar",
         "theta": [
          1.818,
          5.4544999999999995,
          9.091000000000001,
          12.727,
          16.3635,
          20,
          23.636499999999998,
          27.273,
          30.909,
          34.5455,
          38.182,
          41.818,
          45.4545,
          49.091,
          52.727000000000004,
          56.3635,
          60,
          63.6365,
          67.273,
          70.90899999999999,
          74.5455,
          78.182,
          81.818,
          85.4545,
          89.09100000000001,
          92.727,
          96.3635,
          100,
          103.6365,
          107.273,
          110.90899999999999,
          114.5455,
          118.182,
          121.818,
          125.4545,
          129.091,
          132.72699999999998,
          136.3635,
          140,
          143.6365,
          147.27300000000002,
          150.909,
          154.5455,
          158.18200000000002,
          161.81799999999998,
          165.4545,
          169.091,
          172.72699999999998,
          176.3635,
          180,
          183.6365,
          187.27300000000002,
          190.909,
          194.5455,
          198.18200000000002,
          201.81799999999998,
          205.4545,
          209.091,
          212.72699999999998,
          216.3635,
          220,
          223.6365,
          227.27300000000002,
          230.909,
          234.5455,
          238.18200000000002,
          241.81799999999998,
          245.4545,
          249.091,
          252.72699999999998,
          256.3635,
          260,
          263.63649999999996,
          267.273,
          270.909,
          274.54549999999995,
          278.182,
          281.818,
          285.45450000000005,
          289.091,
          292.727,
          296.36350000000004,
          300,
          303.63649999999996,
          307.273,
          310.909,
          314.54549999999995,
          318.182,
          321.818,
          325.45450000000005,
          329.091,
          332.727,
          336.36350000000004,
          340,
          343.63649999999996,
          347.273,
          350.909,
          354.54549999999995,
          358.182
         ],
         "type": "barpolar"
        }
       ],
       "layout": {
        "autosize": true,
        "barmode": "relative",
        "coloraxis": {
         "colorbar": {
          "title": {
           "text": "WDU168_mean"
          }
         },
         "colorscale": [
          [
           0,
           "#0d0887"
          ],
          [
           0.1111111111111111,
           "#46039f"
          ],
          [
           0.2222222222222222,
           "#7201a8"
          ],
          [
           0.3333333333333333,
           "#9c179e"
          ],
          [
           0.4444444444444444,
           "#bd3786"
          ],
          [
           0.5555555555555556,
           "#d8576b"
          ],
          [
           0.6666666666666666,
           "#ed7953"
          ],
          [
           0.7777777777777778,
           "#fb9f3a"
          ],
          [
           0.8888888888888888,
           "#fdca26"
          ],
          [
           1,
           "#f0f921"
          ]
         ]
        },
        "legend": {
         "tracegroupgap": 0
        },
        "margin": {
         "t": 60
        },
        "polar": {
         "angularaxis": {
          "direction": "clockwise",
          "rotation": 90,
          "type": "linear"
         },
         "domain": {
          "x": [
           0,
           1
          ],
          "y": [
           0,
           1
          ]
         },
         "radialaxis": {
          "autorange": true,
          "range": [
           0,
           1241.0526315789473
          ],
          "type": "linear"
         }
        },
        "template": {
         "data": {
          "bar": [
           {
            "error_x": {
             "color": "#f2f5fa"
            },
            "error_y": {
             "color": "#f2f5fa"
            },
            "marker": {
             "line": {
              "color": "rgb(17,17,17)",
              "width": 0.5
             },
             "pattern": {
              "fillmode": "overlay",
              "size": 10,
              "solidity": 0.2
             }
            },
            "type": "bar"
           }
          ],
          "barpolar": [
           {
            "marker": {
             "line": {
              "color": "rgb(17,17,17)",
              "width": 0.5
             },
             "pattern": {
              "fillmode": "overlay",
              "size": 10,
              "solidity": 0.2
             }
            },
            "type": "barpolar"
           }
          ],
          "carpet": [
           {
            "aaxis": {
             "endlinecolor": "#A2B1C6",
             "gridcolor": "#506784",
             "linecolor": "#506784",
             "minorgridcolor": "#506784",
             "startlinecolor": "#A2B1C6"
            },
            "baxis": {
             "endlinecolor": "#A2B1C6",
             "gridcolor": "#506784",
             "linecolor": "#506784",
             "minorgridcolor": "#506784",
             "startlinecolor": "#A2B1C6"
            },
            "type": "carpet"
           }
          ],
          "choropleth": [
           {
            "colorbar": {
             "outlinewidth": 0,
             "ticks": ""
            },
            "type": "choropleth"
           }
          ],
          "contour": [
           {
            "colorbar": {
             "outlinewidth": 0,
             "ticks": ""
            },
            "colorscale": [
             [
              0,
              "#0d0887"
             ],
             [
              0.1111111111111111,
              "#46039f"
             ],
             [
              0.2222222222222222,
              "#7201a8"
             ],
             [
              0.3333333333333333,
              "#9c179e"
             ],
             [
              0.4444444444444444,
              "#bd3786"
             ],
             [
              0.5555555555555556,
              "#d8576b"
             ],
             [
              0.6666666666666666,
              "#ed7953"
             ],
             [
              0.7777777777777778,
              "#fb9f3a"
             ],
             [
              0.8888888888888888,
              "#fdca26"
             ],
             [
              1,
              "#f0f921"
             ]
            ],
            "type": "contour"
           }
          ],
          "contourcarpet": [
           {
            "colorbar": {
             "outlinewidth": 0,
             "ticks": ""
            },
            "type": "contourcarpet"
           }
          ],
          "heatmap": [
           {
            "colorbar": {
             "outlinewidth": 0,
             "ticks": ""
            },
            "colorscale": [
             [
              0,
              "#0d0887"
             ],
             [
              0.1111111111111111,
              "#46039f"
             ],
             [
              0.2222222222222222,
              "#7201a8"
             ],
             [
              0.3333333333333333,
              "#9c179e"
             ],
             [
              0.4444444444444444,
              "#bd3786"
             ],
             [
              0.5555555555555556,
              "#d8576b"
             ],
             [
              0.6666666666666666,
              "#ed7953"
             ],
             [
              0.7777777777777778,
              "#fb9f3a"
             ],
             [
              0.8888888888888888,
              "#fdca26"
             ],
             [
              1,
              "#f0f921"
             ]
            ],
            "type": "heatmap"
           }
          ],
          "heatmapgl": [
           {
            "colorbar": {
             "outlinewidth": 0,
             "ticks": ""
            },
            "colorscale": [
             [
              0,
              "#0d0887"
             ],
             [
              0.1111111111111111,
              "#46039f"
             ],
             [
              0.2222222222222222,
              "#7201a8"
             ],
             [
              0.3333333333333333,
              "#9c179e"
             ],
             [
              0.4444444444444444,
              "#bd3786"
             ],
             [
              0.5555555555555556,
              "#d8576b"
             ],
             [
              0.6666666666666666,
              "#ed7953"
             ],
             [
              0.7777777777777778,
              "#fb9f3a"
             ],
             [
              0.8888888888888888,
              "#fdca26"
             ],
             [
              1,
              "#f0f921"
             ]
            ],
            "type": "heatmapgl"
           }
          ],
          "histogram": [
           {
            "marker": {
             "pattern": {
              "fillmode": "overlay",
              "size": 10,
              "solidity": 0.2
             }
            },
            "type": "histogram"
           }
          ],
          "histogram2d": [
           {
            "colorbar": {
             "outlinewidth": 0,
             "ticks": ""
            },
            "colorscale": [
             [
              0,
              "#0d0887"
             ],
             [
              0.1111111111111111,
              "#46039f"
             ],
             [
              0.2222222222222222,
              "#7201a8"
             ],
             [
              0.3333333333333333,
              "#9c179e"
             ],
             [
              0.4444444444444444,
              "#bd3786"
             ],
             [
              0.5555555555555556,
              "#d8576b"
             ],
             [
              0.6666666666666666,
              "#ed7953"
             ],
             [
              0.7777777777777778,
              "#fb9f3a"
             ],
             [
              0.8888888888888888,
              "#fdca26"
             ],
             [
              1,
              "#f0f921"
             ]
            ],
            "type": "histogram2d"
           }
          ],
          "histogram2dcontour": [
           {
            "colorbar": {
             "outlinewidth": 0,
             "ticks": ""
            },
            "colorscale": [
             [
              0,
              "#0d0887"
             ],
             [
              0.1111111111111111,
              "#46039f"
             ],
             [
              0.2222222222222222,
              "#7201a8"
             ],
             [
              0.3333333333333333,
              "#9c179e"
             ],
             [
              0.4444444444444444,
              "#bd3786"
             ],
             [
              0.5555555555555556,
              "#d8576b"
             ],
             [
              0.6666666666666666,
              "#ed7953"
             ],
             [
              0.7777777777777778,
              "#fb9f3a"
             ],
             [
              0.8888888888888888,
              "#fdca26"
             ],
             [
              1,
              "#f0f921"
             ]
            ],
            "type": "histogram2dcontour"
           }
          ],
          "mesh3d": [
           {
            "colorbar": {
             "outlinewidth": 0,
             "ticks": ""
            },
            "type": "mesh3d"
           }
          ],
          "parcoords": [
           {
            "line": {
             "colorbar": {
              "outlinewidth": 0,
              "ticks": ""
             }
            },
            "type": "parcoords"
           }
          ],
          "pie": [
           {
            "automargin": true,
            "type": "pie"
           }
          ],
          "scatter": [
           {
            "marker": {
             "line": {
              "color": "#283442"
             }
            },
            "type": "scatter"
           }
          ],
          "scatter3d": [
           {
            "line": {
             "colorbar": {
              "outlinewidth": 0,
              "ticks": ""
             }
            },
            "marker": {
             "colorbar": {
              "outlinewidth": 0,
              "ticks": ""
             }
            },
            "type": "scatter3d"
           }
          ],
          "scattercarpet": [
           {
            "marker": {
             "colorbar": {
              "outlinewidth": 0,
              "ticks": ""
             }
            },
            "type": "scattercarpet"
           }
          ],
          "scattergeo": [
           {
            "marker": {
             "colorbar": {
              "outlinewidth": 0,
              "ticks": ""
             }
            },
            "type": "scattergeo"
           }
          ],
          "scattergl": [
           {
            "marker": {
             "line": {
              "color": "#283442"
             }
            },
            "type": "scattergl"
           }
          ],
          "scattermapbox": [
           {
            "marker": {
             "colorbar": {
              "outlinewidth": 0,
              "ticks": ""
             }
            },
            "type": "scattermapbox"
           }
          ],
          "scatterpolar": [
           {
            "marker": {
             "colorbar": {
              "outlinewidth": 0,
              "ticks": ""
             }
            },
            "type": "scatterpolar"
           }
          ],
          "scatterpolargl": [
           {
            "marker": {
             "colorbar": {
              "outlinewidth": 0,
              "ticks": ""
             }
            },
            "type": "scatterpolargl"
           }
          ],
          "scatterternary": [
           {
            "marker": {
             "colorbar": {
              "outlinewidth": 0,
              "ticks": ""
             }
            },
            "type": "scatterternary"
           }
          ],
          "surface": [
           {
            "colorbar": {
             "outlinewidth": 0,
             "ticks": ""
            },
            "colorscale": [
             [
              0,
              "#0d0887"
             ],
             [
              0.1111111111111111,
              "#46039f"
             ],
             [
              0.2222222222222222,
              "#7201a8"
             ],
             [
              0.3333333333333333,
              "#9c179e"
             ],
             [
              0.4444444444444444,
              "#bd3786"
             ],
             [
              0.5555555555555556,
              "#d8576b"
             ],
             [
              0.6666666666666666,
              "#ed7953"
             ],
             [
              0.7777777777777778,
              "#fb9f3a"
             ],
             [
              0.8888888888888888,
              "#fdca26"
             ],
             [
              1,
              "#f0f921"
             ]
            ],
            "type": "surface"
           }
          ],
          "table": [
           {
            "cells": {
             "fill": {
              "color": "#506784"
             },
             "line": {
              "color": "rgb(17,17,17)"
             }
            },
            "header": {
             "fill": {
              "color": "#2a3f5f"
             },
             "line": {
              "color": "rgb(17,17,17)"
             }
            },
            "type": "table"
           }
          ]
         },
         "layout": {
          "annotationdefaults": {
           "arrowcolor": "#f2f5fa",
           "arrowhead": 0,
           "arrowwidth": 1
          },
          "autotypenumbers": "strict",
          "coloraxis": {
           "colorbar": {
            "outlinewidth": 0,
            "ticks": ""
           }
          },
          "colorscale": {
           "diverging": [
            [
             0,
             "#8e0152"
            ],
            [
             0.1,
             "#c51b7d"
            ],
            [
             0.2,
             "#de77ae"
            ],
            [
             0.3,
             "#f1b6da"
            ],
            [
             0.4,
             "#fde0ef"
            ],
            [
             0.5,
             "#f7f7f7"
            ],
            [
             0.6,
             "#e6f5d0"
            ],
            [
             0.7,
             "#b8e186"
            ],
            [
             0.8,
             "#7fbc41"
            ],
            [
             0.9,
             "#4d9221"
            ],
            [
             1,
             "#276419"
            ]
           ],
           "sequential": [
            [
             0,
             "#0d0887"
            ],
            [
             0.1111111111111111,
             "#46039f"
            ],
            [
             0.2222222222222222,
             "#7201a8"
            ],
            [
             0.3333333333333333,
             "#9c179e"
            ],
            [
             0.4444444444444444,
             "#bd3786"
            ],
            [
             0.5555555555555556,
             "#d8576b"
            ],
            [
             0.6666666666666666,
             "#ed7953"
            ],
            [
             0.7777777777777778,
             "#fb9f3a"
            ],
            [
             0.8888888888888888,
             "#fdca26"
            ],
            [
             1,
             "#f0f921"
            ]
           ],
           "sequentialminus": [
            [
             0,
             "#0d0887"
            ],
            [
             0.1111111111111111,
             "#46039f"
            ],
            [
             0.2222222222222222,
             "#7201a8"
            ],
            [
             0.3333333333333333,
             "#9c179e"
            ],
            [
             0.4444444444444444,
             "#bd3786"
            ],
            [
             0.5555555555555556,
             "#d8576b"
            ],
            [
             0.6666666666666666,
             "#ed7953"
            ],
            [
             0.7777777777777778,
             "#fb9f3a"
            ],
            [
             0.8888888888888888,
             "#fdca26"
            ],
            [
             1,
             "#f0f921"
            ]
           ]
          },
          "colorway": [
           "#636efa",
           "#EF553B",
           "#00cc96",
           "#ab63fa",
           "#FFA15A",
           "#19d3f3",
           "#FF6692",
           "#B6E880",
           "#FF97FF",
           "#FECB52"
          ],
          "font": {
           "color": "#f2f5fa"
          },
          "geo": {
           "bgcolor": "rgb(17,17,17)",
           "lakecolor": "rgb(17,17,17)",
           "landcolor": "rgb(17,17,17)",
           "showlakes": true,
           "showland": true,
           "subunitcolor": "#506784"
          },
          "hoverlabel": {
           "align": "left"
          },
          "hovermode": "closest",
          "mapbox": {
           "style": "dark"
          },
          "paper_bgcolor": "rgb(17,17,17)",
          "plot_bgcolor": "rgb(17,17,17)",
          "polar": {
           "angularaxis": {
            "gridcolor": "#506784",
            "linecolor": "#506784",
            "ticks": ""
           },
           "bgcolor": "rgb(17,17,17)",
           "radialaxis": {
            "gridcolor": "#506784",
            "linecolor": "#506784",
            "ticks": ""
           }
          },
          "scene": {
           "xaxis": {
            "backgroundcolor": "rgb(17,17,17)",
            "gridcolor": "#506784",
            "gridwidth": 2,
            "linecolor": "#506784",
            "showbackground": true,
            "ticks": "",
            "zerolinecolor": "#C8D4E3"
           },
           "yaxis": {
            "backgroundcolor": "rgb(17,17,17)",
            "gridcolor": "#506784",
            "gridwidth": 2,
            "linecolor": "#506784",
            "showbackground": true,
            "ticks": "",
            "zerolinecolor": "#C8D4E3"
           },
           "zaxis": {
            "backgroundcolor": "rgb(17,17,17)",
            "gridcolor": "#506784",
            "gridwidth": 2,
            "linecolor": "#506784",
            "showbackground": true,
            "ticks": "",
            "zerolinecolor": "#C8D4E3"
           }
          },
          "shapedefaults": {
           "line": {
            "color": "#f2f5fa"
           }
          },
          "sliderdefaults": {
           "bgcolor": "#C8D4E3",
           "bordercolor": "rgb(17,17,17)",
           "borderwidth": 1,
           "tickwidth": 0
          },
          "ternary": {
           "aaxis": {
            "gridcolor": "#506784",
            "linecolor": "#506784",
            "ticks": ""
           },
           "baxis": {
            "gridcolor": "#506784",
            "linecolor": "#506784",
            "ticks": ""
           },
           "bgcolor": "rgb(17,17,17)",
           "caxis": {
            "gridcolor": "#506784",
            "linecolor": "#506784",
            "ticks": ""
           }
          },
          "title": {
           "x": 0.05
          },
          "updatemenudefaults": {
           "bgcolor": "#506784",
           "borderwidth": 0
          },
          "xaxis": {
           "automargin": true,
           "gridcolor": "#283442",
           "linecolor": "#506784",
           "ticks": "",
           "title": {
            "standoff": 15
           },
           "zerolinecolor": "#283442",
           "zerolinewidth": 2
          },
          "yaxis": {
           "automargin": true,
           "gridcolor": "#283442",
           "linecolor": "#506784",
           "ticks": "",
           "title": {
            "standoff": 15
           },
           "zerolinecolor": "#283442",
           "zerolinewidth": 2
          }
         }
        }
       }
      },
      "image/png": "[encoded data removed]",
      "text/html": [
       "<div>                            <div id=\"a685614e-52bb-4ef4-a6ad-aff7cf222307\" class=\"plotly-graph-div\" style=\"height:525px; width:100%;\"></div>            <script type=\"text/javascript\">                require([\"plotly\"], function(Plotly) {                    window.PLOTLYENV=window.PLOTLYENV || {};                                    if (document.getElementById(\"a685614e-52bb-4ef4-a6ad-aff7cf222307\")) {                    Plotly.newPlot(                        \"a685614e-52bb-4ef4-a6ad-aff7cf222307\",                        [{\"hovertemplate\":\"WDU168_freq=%{r}<br>WDU168_mid=%{theta}<br>WDU168_mean=%{marker.color}<extra></extra>\",\"legendgroup\":\"\",\"marker\":{\"color\":[499,541,511,561,566,555,487,457,408,444,419,427,447,450,471,470,392,423,421,420,415,447,420,430,433,464,499,535,545,531,532,560,543,582,635,689,770,799,794,840,898,795,734,687,696,735,757,763,801,877,887,854,910,971,1108,1133,1179,1151,1099,1064,1036,934,960,881,929,954,895,943,898,956,865,933,838,896,829,803,762,720,646,691,659,604,572,570,570,598,595,540,589,623,613,697,686,678,694,661,664,630,531],\"coloraxis\":\"coloraxis\",\"pattern\":{\"shape\":\"\"}},\"name\":\"\",\"r\":[499,541,511,561,566,555,487,457,408,444,419,427,447,450,471,470,392,423,421,420,415,447,420,430,433,464,499,535,545,531,532,560,543,582,635,689,770,799,794,840,898,795,734,687,696,735,757,763,801,877,887,854,910,971,1108,1133,1179,1151,1099,1064,1036,934,960,881,929,954,895,943,898,956,865,933,838,896,829,803,762,720,646,691,659,604,572,570,570,598,595,540,589,623,613,697,686,678,694,661,664,630,531],\"showlegend\":false,\"subplot\":\"polar\",\"theta\":[1.818,5.4544999999999995,9.091000000000001,12.727,16.3635,20.0,23.636499999999998,27.273,30.909,34.5455,38.182,41.818,45.4545,49.091,52.727000000000004,56.3635,60.0,63.6365,67.273,70.90899999999999,74.5455,78.182,81.818,85.4545,89.09100000000001,92.727,96.3635,100.0,103.6365,107.273,110.90899999999999,114.5455,118.182,121.818,125.4545,129.091,132.72699999999998,136.3635,140.0,143.6365,147.27300000000002,150.909,154.5455,158.18200000000002,161.81799999999998,165.4545,169.091,172.72699999999998,176.3635,180.0,183.6365,187.27300000000002,190.909,194.5455,198.18200000000002,201.81799999999998,205.4545,209.091,212.72699999999998,216.3635,220.0,223.6365,227.27300000000002,230.909,234.5455,238.18200000000002,241.81799999999998,245.4545,249.091,252.72699999999998,256.3635,260.0,263.63649999999996,267.273,270.909,274.54549999999995,278.182,281.818,285.45450000000005,289.091,292.727,296.36350000000004,300.0,303.63649999999996,307.273,310.909,314.54549999999995,318.182,321.818,325.45450000000005,329.091,332.727,336.36350000000004,340.0,343.63649999999996,347.273,350.909,354.54549999999995,358.182],\"type\":\"barpolar\"}],                        {\"template\":{\"data\":{\"barpolar\":[{\"marker\":{\"line\":{\"color\":\"rgb(17,17,17)\",\"width\":0.5},\"pattern\":{\"fillmode\":\"overlay\",\"size\":10,\"solidity\":0.2}},\"type\":\"barpolar\"}],\"bar\":[{\"error_x\":{\"color\":\"#f2f5fa\"},\"error_y\":{\"color\":\"#f2f5fa\"},\"marker\":{\"line\":{\"color\":\"rgb(17,17,17)\",\"width\":0.5},\"pattern\":{\"fillmode\":\"overlay\",\"size\":10,\"solidity\":0.2}},\"type\":\"bar\"}],\"carpet\":[{\"aaxis\":{\"endlinecolor\":\"#A2B1C6\",\"gridcolor\":\"#506784\",\"linecolor\":\"#506784\",\"minorgridcolor\":\"#506784\",\"startlinecolor\":\"#A2B1C6\"},\"baxis\":{\"endlinecolor\":\"#A2B1C6\",\"gridcolor\":\"#506784\",\"linecolor\":\"#506784\",\"minorgridcolor\":\"#506784\",\"startlinecolor\":\"#A2B1C6\"},\"type\":\"carpet\"}],\"choropleth\":[{\"colorbar\":{\"outlinewidth\":0,\"ticks\":\"\"},\"type\":\"choropleth\"}],\"contourcarpet\":[{\"colorbar\":{\"outlinewidth\":0,\"ticks\":\"\"},\"type\":\"contourcarpet\"}],\"contour\":[{\"colorbar\":{\"outlinewidth\":0,\"ticks\":\"\"},\"colorscale\":[[0.0,\"#0d0887\"],[0.1111111111111111,\"#46039f\"],[0.2222222222222222,\"#7201a8\"],[0.3333333333333333,\"#9c179e\"],[0.4444444444444444,\"#bd3786\"],[0.5555555555555556,\"#d8576b\"],[0.6666666666666666,\"#ed7953\"],[0.7777777777777778,\"#fb9f3a\"],[0.8888888888888888,\"#fdca26\"],[1.0,\"#f0f921\"]],\"type\":\"contour\"}],\"heatmapgl\":[{\"colorbar\":{\"outlinewidth\":0,\"ticks\":\"\"},\"colorscale\":[[0.0,\"#0d0887\"],[0.1111111111111111,\"#46039f\"],[0.2222222222222222,\"#7201a8\"],[0.3333333333333333,\"#9c179e\"],[0.4444444444444444,\"#bd3786\"],[0.5555555555555556,\"#d8576b\"],[0.6666666666666666,\"#ed7953\"],[0.7777777777777778,\"#fb9f3a\"],[0.8888888888888888,\"#fdca26\"],[1.0,\"#f0f921\"]],\"type\":\"heatmapgl\"}],\"heatmap\":[{\"colorbar\":{\"outlinewidth\":0,\"ticks\":\"\"},\"colorscale\":[[0.0,\"#0d0887\"],[0.1111111111111111,\"#46039f\"],[0.2222222222222222,\"#7201a8\"],[0.3333333333333333,\"#9c179e\"],[0.4444444444444444,\"#bd3786\"],[0.5555555555555556,\"#d8576b\"],[0.6666666666666666,\"#ed7953\"],[0.7777777777777778,\"#fb9f3a\"],[0.8888888888888888,\"#fdca26\"],[1.0,\"#f0f921\"]],\"type\":\"heatmap\"}],\"histogram2dcontour\":[{\"colorbar\":{\"outlinewidth\":0,\"ticks\":\"\"},\"colorscale\":[[0.0,\"#0d0887\"],[0.1111111111111111,\"#46039f\"],[0.2222222222222222,\"#7201a8\"],[0.3333333333333333,\"#9c179e\"],[0.4444444444444444,\"#bd3786\"],[0.5555555555555556,\"#d8576b\"],[0.6666666666666666,\"#ed7953\"],[0.7777777777777778,\"#fb9f3a\"],[0.8888888888888888,\"#fdca26\"],[1.0,\"#f0f921\"]],\"type\":\"histogram2dcontour\"}],\"histogram2d\":[{\"colorbar\":{\"outlinewidth\":0,\"ticks\":\"\"},\"colorscale\":[[0.0,\"#0d0887\"],[0.1111111111111111,\"#46039f\"],[0.2222222222222222,\"#7201a8\"],[0.3333333333333333,\"#9c179e\"],[0.4444444444444444,\"#bd3786\"],[0.5555555555555556,\"#d8576b\"],[0.6666666666666666,\"#ed7953\"],[0.7777777777777778,\"#fb9f3a\"],[0.8888888888888888,\"#fdca26\"],[1.0,\"#f0f921\"]],\"type\":\"histogram2d\"}],\"histogram\":[{\"marker\":{\"pattern\":{\"fillmode\":\"overlay\",\"size\":10,\"solidity\":0.2}},\"type\":\"histogram\"}],\"mesh3d\":[{\"colorbar\":{\"outlinewidth\":0,\"ticks\":\"\"},\"type\":\"mesh3d\"}],\"parcoords\":[{\"line\":{\"colorbar\":{\"outlinewidth\":0,\"ticks\":\"\"}},\"type\":\"parcoords\"}],\"pie\":[{\"automargin\":true,\"type\":\"pie\"}],\"scatter3d\":[{\"line\":{\"colorbar\":{\"outlinewidth\":0,\"ticks\":\"\"}},\"marker\":{\"colorbar\":{\"outlinewidth\":0,\"ticks\":\"\"}},\"type\":\"scatter3d\"}],\"scattercarpet\":[{\"marker\":{\"colorbar\":{\"outlinewidth\":0,\"ticks\":\"\"}},\"type\":\"scattercarpet\"}],\"scattergeo\":[{\"marker\":{\"colorbar\":{\"outlinewidth\":0,\"ticks\":\"\"}},\"type\":\"scattergeo\"}],\"scattergl\":[{\"marker\":{\"line\":{\"color\":\"#283442\"}},\"type\":\"scattergl\"}],\"scattermapbox\":[{\"marker\":{\"colorbar\":{\"outlinewidth\":0,\"ticks\":\"\"}},\"type\":\"scattermapbox\"}],\"scatterpolargl\":[{\"marker\":{\"colorbar\":{\"outlinewidth\":0,\"ticks\":\"\"}},\"type\":\"scatterpolargl\"}],\"scatterpolar\":[{\"marker\":{\"colorbar\":{\"outlinewidth\":0,\"ticks\":\"\"}},\"type\":\"scatterpolar\"}],\"scatter\":[{\"marker\":{\"line\":{\"color\":\"#283442\"}},\"type\":\"scatter\"}],\"scatterternary\":[{\"marker\":{\"colorbar\":{\"outlinewidth\":0,\"ticks\":\"\"}},\"type\":\"scatterternary\"}],\"surface\":[{\"colorbar\":{\"outlinewidth\":0,\"ticks\":\"\"},\"colorscale\":[[0.0,\"#0d0887\"],[0.1111111111111111,\"#46039f\"],[0.2222222222222222,\"#7201a8\"],[0.3333333333333333,\"#9c179e\"],[0.4444444444444444,\"#bd3786\"],[0.5555555555555556,\"#d8576b\"],[0.6666666666666666,\"#ed7953\"],[0.7777777777777778,\"#fb9f3a\"],[0.8888888888888888,\"#fdca26\"],[1.0,\"#f0f921\"]],\"type\":\"surface\"}],\"table\":[{\"cells\":{\"fill\":{\"color\":\"#506784\"},\"line\":{\"color\":\"rgb(17,17,17)\"}},\"header\":{\"fill\":{\"color\":\"#2a3f5f\"},\"line\":{\"color\":\"rgb(17,17,17)\"}},\"type\":\"table\"}]},\"layout\":{\"annotationdefaults\":{\"arrowcolor\":\"#f2f5fa\",\"arrowhead\":0,\"arrowwidth\":1},\"autotypenumbers\":\"strict\",\"coloraxis\":{\"colorbar\":{\"outlinewidth\":0,\"ticks\":\"\"}},\"colorscale\":{\"diverging\":[[0,\"#8e0152\"],[0.1,\"#c51b7d\"],[0.2,\"#de77ae\"],[0.3,\"#f1b6da\"],[0.4,\"#fde0ef\"],[0.5,\"#f7f7f7\"],[0.6,\"#e6f5d0\"],[0.7,\"#b8e186\"],[0.8,\"#7fbc41\"],[0.9,\"#4d9221\"],[1,\"#276419\"]],\"sequential\":[[0.0,\"#0d0887\"],[0.1111111111111111,\"#46039f\"],[0.2222222222222222,\"#7201a8\"],[0.3333333333333333,\"#9c179e\"],[0.4444444444444444,\"#bd3786\"],[0.5555555555555556,\"#d8576b\"],[0.6666666666666666,\"#ed7953\"],[0.7777777777777778,\"#fb9f3a\"],[0.8888888888888888,\"#fdca26\"],[1.0,\"#f0f921\"]],\"sequentialminus\":[[0.0,\"#0d0887\"],[0.1111111111111111,\"#46039f\"],[0.2222222222222222,\"#7201a8\"],[0.3333333333333333,\"#9c179e\"],[0.4444444444444444,\"#bd3786\"],[0.5555555555555556,\"#d8576b\"],[0.6666666666666666,\"#ed7953\"],[0.7777777777777778,\"#fb9f3a\"],[0.8888888888888888,\"#fdca26\"],[1.0,\"#f0f921\"]]},\"colorway\":[\"#636efa\",\"#EF553B\",\"#00cc96\",\"#ab63fa\",\"#FFA15A\",\"#19d3f3\",\"#FF6692\",\"#B6E880\",\"#FF97FF\",\"#FECB52\"],\"font\":{\"color\":\"#f2f5fa\"},\"geo\":{\"bgcolor\":\"rgb(17,17,17)\",\"lakecolor\":\"rgb(17,17,17)\",\"landcolor\":\"rgb(17,17,17)\",\"showlakes\":true,\"showland\":true,\"subunitcolor\":\"#506784\"},\"hoverlabel\":{\"align\":\"left\"},\"hovermode\":\"closest\",\"mapbox\":{\"style\":\"dark\"},\"paper_bgcolor\":\"rgb(17,17,17)\",\"plot_bgcolor\":\"rgb(17,17,17)\",\"polar\":{\"angularaxis\":{\"gridcolor\":\"#506784\",\"linecolor\":\"#506784\",\"ticks\":\"\"},\"bgcolor\":\"rgb(17,17,17)\",\"radialaxis\":{\"gridcolor\":\"#506784\",\"linecolor\":\"#506784\",\"ticks\":\"\"}},\"scene\":{\"xaxis\":{\"backgroundcolor\":\"rgb(17,17,17)\",\"gridcolor\":\"#506784\",\"gridwidth\":2,\"linecolor\":\"#506784\",\"showbackground\":true,\"ticks\":\"\",\"zerolinecolor\":\"#C8D4E3\"},\"yaxis\":{\"backgroundcolor\":\"rgb(17,17,17)\",\"gridcolor\":\"#506784\",\"gridwidth\":2,\"linecolor\":\"#506784\",\"showbackground\":true,\"ticks\":\"\",\"zerolinecolor\":\"#C8D4E3\"},\"zaxis\":{\"backgroundcolor\":\"rgb(17,17,17)\",\"gridcolor\":\"#506784\",\"gridwidth\":2,\"linecolor\":\"#506784\",\"showbackground\":true,\"ticks\":\"\",\"zerolinecolor\":\"#C8D4E3\"}},\"shapedefaults\":{\"line\":{\"color\":\"#f2f5fa\"}},\"sliderdefaults\":{\"bgcolor\":\"#C8D4E3\",\"bordercolor\":\"rgb(17,17,17)\",\"borderwidth\":1,\"tickwidth\":0},\"ternary\":{\"aaxis\":{\"gridcolor\":\"#506784\",\"linecolor\":\"#506784\",\"ticks\":\"\"},\"baxis\":{\"gridcolor\":\"#506784\",\"linecolor\":\"#506784\",\"ticks\":\"\"},\"bgcolor\":\"rgb(17,17,17)\",\"caxis\":{\"gridcolor\":\"#506784\",\"linecolor\":\"#506784\",\"ticks\":\"\"}},\"title\":{\"x\":0.05},\"updatemenudefaults\":{\"bgcolor\":\"#506784\",\"borderwidth\":0},\"xaxis\":{\"automargin\":true,\"gridcolor\":\"#283442\",\"linecolor\":\"#506784\",\"ticks\":\"\",\"title\":{\"standoff\":15},\"zerolinecolor\":\"#283442\",\"zerolinewidth\":2},\"yaxis\":{\"automargin\":true,\"gridcolor\":\"#283442\",\"linecolor\":\"#506784\",\"ticks\":\"\",\"title\":{\"standoff\":15},\"zerolinecolor\":\"#283442\",\"zerolinewidth\":2}}},\"polar\":{\"domain\":{\"x\":[0.0,1.0],\"y\":[0.0,1.0]},\"angularaxis\":{\"direction\":\"clockwise\",\"rotation\":90}},\"coloraxis\":{\"colorbar\":{\"title\":{\"text\":\"WDU168_mean\"}},\"colorscale\":[[0.0,\"#0d0887\"],[0.1111111111111111,\"#46039f\"],[0.2222222222222222,\"#7201a8\"],[0.3333333333333333,\"#9c179e\"],[0.4444444444444444,\"#bd3786\"],[0.5555555555555556,\"#d8576b\"],[0.6666666666666666,\"#ed7953\"],[0.7777777777777778,\"#fb9f3a\"],[0.8888888888888888,\"#fdca26\"],[1.0,\"#f0f921\"]]},\"legend\":{\"tracegroupgap\":0},\"margin\":{\"t\":60},\"barmode\":\"relative\"},                        {\"responsive\": true}                    ).then(function(){\n",
       "                            \n",
       "var gd = document.getElementById('a685614e-52bb-4ef4-a6ad-aff7cf222307');\n",
       "var x = new MutationObserver(function (mutations, observer) {{\n",
       "        var display = window.getComputedStyle(gd).display;\n",
       "        if (!display || display === 'none') {{\n",
       "            console.log([gd, 'removed!']);\n",
       "            Plotly.purge(gd);\n",
       "            observer.disconnect();\n",
       "        }}\n",
       "}});\n",
       "\n",
       "// Listen for the removal of the full notebook cells\n",
       "var notebookContainer = gd.closest('#notebook-container');\n",
       "if (notebookContainer) {{\n",
       "    x.observe(notebookContainer, {childList: true});\n",
       "}}\n",
       "\n",
       "// Listen for the clearing of the current output cell\n",
       "var outputEl = gd.closest('.output');\n",
       "if (outputEl) {{\n",
       "    x.observe(outputEl, {childList: true});\n",
       "}}\n",
       "\n",
       "                        })                };                });            </script>        </div>"
      ]
     },
     "metadata": {},
     "output_type": "display_data"
    }
   ],
   "source": [
    "bins_dir = np.linspace(0,360, 100)\n",
    "\n",
    "df_meteo['WDU168_mid']= pd.cut(df_meteo['HYY_META.WDU168'], bins_dir).apply(lambda x: x.mid)\n",
    "\n",
    "df_freq = df_meteo.groupby('WDU168_mid').count()\n",
    "\n",
    "df_mean = df_meteo.groupby('WDU168_mid').mean()\n",
    "\n",
    "df_comb = pd.DataFrame(index=df_freq.index)\n",
    "\n",
    "df_comb['WDU168_freq'] = df_freq['HYY_META.WDU168']\n",
    "\n",
    "df_comb['WDU168_mean'] = df_freq['HYY_META.WSU168']\n",
    "\n",
    "bins_dir = np.linspace(0,360)\n",
    "\n",
    "df_meteo['WSU168_mid']= pd.cut(df_meteo['HYY_META.WSU168'], bins_dir).apply(lambda x: x.mid)\n",
    "\n",
    "import plotly.express as px\n",
    "\n",
    "df = df_meteo\n",
    "fig = px.bar_polar(df_comb.reset_index(), r='WDU168_freq', theta='WDU168_mid',\n",
    "                   color=\"WDU168_mean\", \n",
    "                   template=\"plotly_dark\",\n",
    "                   color_discrete_sequence= px.colors.sequential.Plasma_r)\n",
    "fig.show()"
   ]
  },
  {
   "cell_type": "markdown",
   "id": "19ab5485-a4d1-45a7-ac3e-4939eba03388",
   "metadata": {},
   "source": [
    "### Read in pressure:"
   ]
  },
  {
   "cell_type": "code",
   "execution_count": 284,
   "id": "3a9c468f-1d2e-4af7-89ab-fd1a871b6787",
   "metadata": {},
   "outputs": [],
   "source": [
    "df_meteo_pres = pd.read_csv(fn_pres)\n",
    "df_meteo_temp4m = pd.read_csv(fn_temp4m)\n",
    "\n",
    "df_meteo_pres = fix_time_meteo(df_meteo_pres)\n",
    "df_meteo_temp4m = fix_time_meteo(df_meteo_temp4m)"
   ]
  },
  {
   "cell_type": "code",
   "execution_count": 285,
   "id": "ccfe9bdb-b40f-44e6-8519-9ca6d3eb7ccf",
   "metadata": {},
   "outputs": [
    {
     "data": {
      "text/html": [
       "<div>\n",
       "<style scoped>\n",
       "    .dataframe tbody tr th:only-of-type {\n",
       "        vertical-align: middle;\n",
       "    }\n",
       "\n",
       "    .dataframe tbody tr th {\n",
       "        vertical-align: top;\n",
       "    }\n",
       "\n",
       "    .dataframe thead th {\n",
       "        text-align: right;\n",
       "    }\n",
       "</style>\n",
       "<table border=\"1\" class=\"dataframe\">\n",
       "  <thead>\n",
       "    <tr style=\"text-align: right;\">\n",
       "      <th></th>\n",
       "      <th>Year</th>\n",
       "      <th>Month</th>\n",
       "      <th>Day</th>\n",
       "      <th>Hour</th>\n",
       "      <th>Minute</th>\n",
       "      <th>Second</th>\n",
       "      <th>HYY_META.Pamb0</th>\n",
       "    </tr>\n",
       "    <tr>\n",
       "      <th>time</th>\n",
       "      <th></th>\n",
       "      <th></th>\n",
       "      <th></th>\n",
       "      <th></th>\n",
       "      <th></th>\n",
       "      <th></th>\n",
       "      <th></th>\n",
       "    </tr>\n",
       "  </thead>\n",
       "  <tbody>\n",
       "    <tr>\n",
       "      <th>2012-01-01 00:00:00</th>\n",
       "      <td>2012.0</td>\n",
       "      <td>1.0</td>\n",
       "      <td>1.0</td>\n",
       "      <td>0.0</td>\n",
       "      <td>0.0</td>\n",
       "      <td>0.0</td>\n",
       "      <td>985.18983</td>\n",
       "    </tr>\n",
       "    <tr>\n",
       "      <th>2012-01-01 01:00:00</th>\n",
       "      <td>2012.0</td>\n",
       "      <td>1.0</td>\n",
       "      <td>1.0</td>\n",
       "      <td>1.0</td>\n",
       "      <td>0.0</td>\n",
       "      <td>0.0</td>\n",
       "      <td>985.61817</td>\n",
       "    </tr>\n",
       "    <tr>\n",
       "      <th>2012-01-01 02:00:00</th>\n",
       "      <td>2012.0</td>\n",
       "      <td>1.0</td>\n",
       "      <td>1.0</td>\n",
       "      <td>2.0</td>\n",
       "      <td>0.0</td>\n",
       "      <td>0.0</td>\n",
       "      <td>986.22833</td>\n",
       "    </tr>\n",
       "    <tr>\n",
       "      <th>2012-01-01 03:00:00</th>\n",
       "      <td>2012.0</td>\n",
       "      <td>1.0</td>\n",
       "      <td>1.0</td>\n",
       "      <td>3.0</td>\n",
       "      <td>0.0</td>\n",
       "      <td>0.0</td>\n",
       "      <td>986.68267</td>\n",
       "    </tr>\n",
       "    <tr>\n",
       "      <th>2012-01-01 04:00:00</th>\n",
       "      <td>2012.0</td>\n",
       "      <td>1.0</td>\n",
       "      <td>1.0</td>\n",
       "      <td>4.0</td>\n",
       "      <td>0.0</td>\n",
       "      <td>0.0</td>\n",
       "      <td>987.08667</td>\n",
       "    </tr>\n",
       "    <tr>\n",
       "      <th>...</th>\n",
       "      <td>...</td>\n",
       "      <td>...</td>\n",
       "      <td>...</td>\n",
       "      <td>...</td>\n",
       "      <td>...</td>\n",
       "      <td>...</td>\n",
       "      <td>...</td>\n",
       "    </tr>\n",
       "    <tr>\n",
       "      <th>2018-01-01 19:00:00</th>\n",
       "      <td>2018.0</td>\n",
       "      <td>1.0</td>\n",
       "      <td>1.0</td>\n",
       "      <td>19.0</td>\n",
       "      <td>0.0</td>\n",
       "      <td>0.0</td>\n",
       "      <td>971.00317</td>\n",
       "    </tr>\n",
       "    <tr>\n",
       "      <th>2018-01-01 20:00:00</th>\n",
       "      <td>2018.0</td>\n",
       "      <td>1.0</td>\n",
       "      <td>1.0</td>\n",
       "      <td>20.0</td>\n",
       "      <td>0.0</td>\n",
       "      <td>0.0</td>\n",
       "      <td>970.32450</td>\n",
       "    </tr>\n",
       "    <tr>\n",
       "      <th>2018-01-01 21:00:00</th>\n",
       "      <td>2018.0</td>\n",
       "      <td>1.0</td>\n",
       "      <td>1.0</td>\n",
       "      <td>21.0</td>\n",
       "      <td>0.0</td>\n",
       "      <td>0.0</td>\n",
       "      <td>969.87250</td>\n",
       "    </tr>\n",
       "    <tr>\n",
       "      <th>2018-01-01 22:00:00</th>\n",
       "      <td>2018.0</td>\n",
       "      <td>1.0</td>\n",
       "      <td>1.0</td>\n",
       "      <td>22.0</td>\n",
       "      <td>0.0</td>\n",
       "      <td>0.0</td>\n",
       "      <td>969.50633</td>\n",
       "    </tr>\n",
       "    <tr>\n",
       "      <th>2018-01-01 23:00:00</th>\n",
       "      <td>2018.0</td>\n",
       "      <td>1.0</td>\n",
       "      <td>1.0</td>\n",
       "      <td>23.0</td>\n",
       "      <td>0.0</td>\n",
       "      <td>0.0</td>\n",
       "      <td>969.06733</td>\n",
       "    </tr>\n",
       "  </tbody>\n",
       "</table>\n",
       "<p>52632 rows × 7 columns</p>\n",
       "</div>"
      ],
      "text/plain": [
       "                       Year  Month  Day  Hour  Minute  Second  HYY_META.Pamb0\n",
       "time                                                                         \n",
       "2012-01-01 00:00:00  2012.0    1.0  1.0   0.0     0.0     0.0       985.18983\n",
       "2012-01-01 01:00:00  2012.0    1.0  1.0   1.0     0.0     0.0       985.61817\n",
       "2012-01-01 02:00:00  2012.0    1.0  1.0   2.0     0.0     0.0       986.22833\n",
       "2012-01-01 03:00:00  2012.0    1.0  1.0   3.0     0.0     0.0       986.68267\n",
       "2012-01-01 04:00:00  2012.0    1.0  1.0   4.0     0.0     0.0       987.08667\n",
       "...                     ...    ...  ...   ...     ...     ...             ...\n",
       "2018-01-01 19:00:00  2018.0    1.0  1.0  19.0     0.0     0.0       971.00317\n",
       "2018-01-01 20:00:00  2018.0    1.0  1.0  20.0     0.0     0.0       970.32450\n",
       "2018-01-01 21:00:00  2018.0    1.0  1.0  21.0     0.0     0.0       969.87250\n",
       "2018-01-01 22:00:00  2018.0    1.0  1.0  22.0     0.0     0.0       969.50633\n",
       "2018-01-01 23:00:00  2018.0    1.0  1.0  23.0     0.0     0.0       969.06733\n",
       "\n",
       "[52632 rows x 7 columns]"
      ]
     },
     "execution_count": 285,
     "metadata": {},
     "output_type": "execute_result"
    }
   ],
   "source": [
    "df_meteo_pres"
   ]
  },
  {
   "cell_type": "code",
   "execution_count": 286,
   "id": "23be520a-df88-4601-9ff5-e699dc0b12c2",
   "metadata": {},
   "outputs": [],
   "source": [
    "df_meteo_others = pd.merge(df_meteo_pres['HYY_META.Pamb0'],df_meteo_temp4m,right_index=True,left_index=True, how = 'outer')"
   ]
  },
  {
   "cell_type": "code",
   "execution_count": 287,
   "id": "3da0af0d-95d5-4a1a-b246-73578e534b70",
   "metadata": {},
   "outputs": [
    {
     "data": {
      "text/html": [
       "<div>\n",
       "<style scoped>\n",
       "    .dataframe tbody tr th:only-of-type {\n",
       "        vertical-align: middle;\n",
       "    }\n",
       "\n",
       "    .dataframe tbody tr th {\n",
       "        vertical-align: top;\n",
       "    }\n",
       "\n",
       "    .dataframe thead th {\n",
       "        text-align: right;\n",
       "    }\n",
       "</style>\n",
       "<table border=\"1\" class=\"dataframe\">\n",
       "  <thead>\n",
       "    <tr style=\"text-align: right;\">\n",
       "      <th></th>\n",
       "      <th>HYY_META.Pamb0</th>\n",
       "      <th>Year</th>\n",
       "      <th>Month</th>\n",
       "      <th>Day</th>\n",
       "      <th>Hour</th>\n",
       "      <th>Minute</th>\n",
       "      <th>Second</th>\n",
       "      <th>HYY_META.T42</th>\n",
       "    </tr>\n",
       "    <tr>\n",
       "      <th>time</th>\n",
       "      <th></th>\n",
       "      <th></th>\n",
       "      <th></th>\n",
       "      <th></th>\n",
       "      <th></th>\n",
       "      <th></th>\n",
       "      <th></th>\n",
       "      <th></th>\n",
       "    </tr>\n",
       "  </thead>\n",
       "  <tbody>\n",
       "    <tr>\n",
       "      <th>2012-01-01 00:00:00</th>\n",
       "      <td>985.18983</td>\n",
       "      <td>2012.0</td>\n",
       "      <td>1.0</td>\n",
       "      <td>1.0</td>\n",
       "      <td>0.0</td>\n",
       "      <td>0.0</td>\n",
       "      <td>0.0</td>\n",
       "      <td>NaN</td>\n",
       "    </tr>\n",
       "    <tr>\n",
       "      <th>2012-01-01 01:00:00</th>\n",
       "      <td>985.61817</td>\n",
       "      <td>2012.0</td>\n",
       "      <td>1.0</td>\n",
       "      <td>1.0</td>\n",
       "      <td>1.0</td>\n",
       "      <td>0.0</td>\n",
       "      <td>0.0</td>\n",
       "      <td>NaN</td>\n",
       "    </tr>\n",
       "    <tr>\n",
       "      <th>2012-01-01 02:00:00</th>\n",
       "      <td>986.22833</td>\n",
       "      <td>2012.0</td>\n",
       "      <td>1.0</td>\n",
       "      <td>1.0</td>\n",
       "      <td>2.0</td>\n",
       "      <td>0.0</td>\n",
       "      <td>0.0</td>\n",
       "      <td>NaN</td>\n",
       "    </tr>\n",
       "    <tr>\n",
       "      <th>2012-01-01 03:00:00</th>\n",
       "      <td>986.68267</td>\n",
       "      <td>2012.0</td>\n",
       "      <td>1.0</td>\n",
       "      <td>1.0</td>\n",
       "      <td>3.0</td>\n",
       "      <td>0.0</td>\n",
       "      <td>0.0</td>\n",
       "      <td>NaN</td>\n",
       "    </tr>\n",
       "    <tr>\n",
       "      <th>2012-01-01 04:00:00</th>\n",
       "      <td>987.08667</td>\n",
       "      <td>2012.0</td>\n",
       "      <td>1.0</td>\n",
       "      <td>1.0</td>\n",
       "      <td>4.0</td>\n",
       "      <td>0.0</td>\n",
       "      <td>0.0</td>\n",
       "      <td>NaN</td>\n",
       "    </tr>\n",
       "    <tr>\n",
       "      <th>...</th>\n",
       "      <td>...</td>\n",
       "      <td>...</td>\n",
       "      <td>...</td>\n",
       "      <td>...</td>\n",
       "      <td>...</td>\n",
       "      <td>...</td>\n",
       "      <td>...</td>\n",
       "      <td>...</td>\n",
       "    </tr>\n",
       "    <tr>\n",
       "      <th>2018-01-01 19:00:00</th>\n",
       "      <td>971.00317</td>\n",
       "      <td>2018.0</td>\n",
       "      <td>1.0</td>\n",
       "      <td>1.0</td>\n",
       "      <td>19.0</td>\n",
       "      <td>0.0</td>\n",
       "      <td>0.0</td>\n",
       "      <td>-0.14617</td>\n",
       "    </tr>\n",
       "    <tr>\n",
       "      <th>2018-01-01 20:00:00</th>\n",
       "      <td>970.32450</td>\n",
       "      <td>2018.0</td>\n",
       "      <td>1.0</td>\n",
       "      <td>1.0</td>\n",
       "      <td>20.0</td>\n",
       "      <td>0.0</td>\n",
       "      <td>0.0</td>\n",
       "      <td>-0.10833</td>\n",
       "    </tr>\n",
       "    <tr>\n",
       "      <th>2018-01-01 21:00:00</th>\n",
       "      <td>969.87250</td>\n",
       "      <td>2018.0</td>\n",
       "      <td>1.0</td>\n",
       "      <td>1.0</td>\n",
       "      <td>21.0</td>\n",
       "      <td>0.0</td>\n",
       "      <td>0.0</td>\n",
       "      <td>0.07067</td>\n",
       "    </tr>\n",
       "    <tr>\n",
       "      <th>2018-01-01 22:00:00</th>\n",
       "      <td>969.50633</td>\n",
       "      <td>2018.0</td>\n",
       "      <td>1.0</td>\n",
       "      <td>1.0</td>\n",
       "      <td>22.0</td>\n",
       "      <td>0.0</td>\n",
       "      <td>0.0</td>\n",
       "      <td>0.20933</td>\n",
       "    </tr>\n",
       "    <tr>\n",
       "      <th>2018-01-01 23:00:00</th>\n",
       "      <td>969.06733</td>\n",
       "      <td>2018.0</td>\n",
       "      <td>1.0</td>\n",
       "      <td>1.0</td>\n",
       "      <td>23.0</td>\n",
       "      <td>0.0</td>\n",
       "      <td>0.0</td>\n",
       "      <td>0.18167</td>\n",
       "    </tr>\n",
       "  </tbody>\n",
       "</table>\n",
       "<p>52632 rows × 8 columns</p>\n",
       "</div>"
      ],
      "text/plain": [
       "                     HYY_META.Pamb0    Year  Month  Day  Hour  Minute  Second  \\\n",
       "time                                                                            \n",
       "2012-01-01 00:00:00       985.18983  2012.0    1.0  1.0   0.0     0.0     0.0   \n",
       "2012-01-01 01:00:00       985.61817  2012.0    1.0  1.0   1.0     0.0     0.0   \n",
       "2012-01-01 02:00:00       986.22833  2012.0    1.0  1.0   2.0     0.0     0.0   \n",
       "2012-01-01 03:00:00       986.68267  2012.0    1.0  1.0   3.0     0.0     0.0   \n",
       "2012-01-01 04:00:00       987.08667  2012.0    1.0  1.0   4.0     0.0     0.0   \n",
       "...                             ...     ...    ...  ...   ...     ...     ...   \n",
       "2018-01-01 19:00:00       971.00317  2018.0    1.0  1.0  19.0     0.0     0.0   \n",
       "2018-01-01 20:00:00       970.32450  2018.0    1.0  1.0  20.0     0.0     0.0   \n",
       "2018-01-01 21:00:00       969.87250  2018.0    1.0  1.0  21.0     0.0     0.0   \n",
       "2018-01-01 22:00:00       969.50633  2018.0    1.0  1.0  22.0     0.0     0.0   \n",
       "2018-01-01 23:00:00       969.06733  2018.0    1.0  1.0  23.0     0.0     0.0   \n",
       "\n",
       "                     HYY_META.T42  \n",
       "time                               \n",
       "2012-01-01 00:00:00           NaN  \n",
       "2012-01-01 01:00:00           NaN  \n",
       "2012-01-01 02:00:00           NaN  \n",
       "2012-01-01 03:00:00           NaN  \n",
       "2012-01-01 04:00:00           NaN  \n",
       "...                           ...  \n",
       "2018-01-01 19:00:00      -0.14617  \n",
       "2018-01-01 20:00:00      -0.10833  \n",
       "2018-01-01 21:00:00       0.07067  \n",
       "2018-01-01 22:00:00       0.20933  \n",
       "2018-01-01 23:00:00       0.18167  \n",
       "\n",
       "[52632 rows x 8 columns]"
      ]
     },
     "execution_count": 287,
     "metadata": {},
     "output_type": "execute_result"
    }
   ],
   "source": [
    "df_meteo_others"
   ]
  },
  {
   "cell_type": "code",
   "execution_count": 288,
   "id": "887afabb-12a3-401e-8c09-9d77ef892c07",
   "metadata": {},
   "outputs": [],
   "source": [
    "\n",
    "df_meteo = pd.merge(df_meteo, df_meteo_others[['HYY_META.Pamb0','HYY_META.T42']], right_index=True, left_index=True)"
   ]
  },
  {
   "cell_type": "code",
   "execution_count": 289,
   "id": "1834cca0-d0ba-4099-a9c6-e5cdf6234d98",
   "metadata": {},
   "outputs": [],
   "source": [
    "df_meteo = df_meteo.rename({'HYY_META.Pamb0_y':'HYY_META.Pamb0'}, axis=1)"
   ]
  },
  {
   "cell_type": "code",
   "execution_count": 290,
   "id": "22e98305-67d3-4367-884a-dc1b4262d738",
   "metadata": {},
   "outputs": [
    {
     "data": {
      "text/plain": [
       "<AxesSubplot:xlabel='time'>"
      ]
     },
     "execution_count": 290,
     "metadata": {},
     "output_type": "execute_result"
    },
    {
     "data": {
      "image/png": "[encoded data removed]",
      "text/plain": [
       "<Figure size 432x288 with 1 Axes>"
      ]
     },
     "metadata": {
      "needs_background": "light"
     },
     "output_type": "display_data"
    }
   ],
   "source": [
    "\n",
    "df_meteo['HYY_META.T42'].plot()"
   ]
  },
  {
   "cell_type": "code",
   "execution_count": 291,
   "id": "cd776f72-8568-48c4-8b76-83e8eb29922d",
   "metadata": {},
   "outputs": [
    {
     "data": {
      "text/plain": [
       "<AxesSubplot:xlabel='time'>"
      ]
     },
     "execution_count": 291,
     "metadata": {},
     "output_type": "execute_result"
    },
    {
     "data": {
      "image/png": "[encoded data removed]",
      "text/plain": [
       "<Figure size 432x288 with 1 Axes>"
      ]
     },
     "metadata": {
      "needs_background": "light"
     },
     "output_type": "display_data"
    }
   ],
   "source": [
    "\n",
    "df_meteo['HYY_META.Pamb0'].plot()"
   ]
  },
  {
   "cell_type": "code",
   "execution_count": 292,
   "id": "9b9aff4d-e6f4-4f5f-b714-b9453f6c4aa9",
   "metadata": {},
   "outputs": [],
   "source": [
    "from bs_fdbck.constants import path_measurement_data\n",
    "import pandas as pd"
   ]
  },
  {
   "cell_type": "code",
   "execution_count": 293,
   "id": "c68adcb7-dc9c-446a-a1c7-94812e8041a7",
   "metadata": {},
   "outputs": [],
   "source": [
    "    \n",
    "def timeround10(dt):\n",
    "    a, b = divmod(round(dt.minute, -1), 60)\n",
    "    tdelta = datetime.timedelta(hours = (dt.hour+a), minutes=b)\n",
    "    nh = (dt.hour+a)%24\n",
    "    ndt = datetime.datetime(dt.year,dt.month, dt.day,) + tdelta\n",
    "    #dt_o = datetime.datetime(dt.year,dt.month, dt.day, (dt.hour + a) % 24,b)\n",
    "    return ndt\n",
    "\n",
    "\n",
    "\n",
    "def fix_matlabtime(t):\n",
    "    ind = pd.to_datetime(t-719529, unit='D')\n",
    "    ind_s = pd.Series(ind)\n",
    "    return ind_s.apply(timeround10)\n",
    "    \n",
    "    \n"
   ]
  },
  {
   "cell_type": "code",
   "execution_count": 294,
   "id": "ae75dfc9-78e7-420e-ab50-7839459a073b",
   "metadata": {},
   "outputs": [],
   "source": [
    "fn_liine = path_measurement_data / 'ACSM_DEFAULT.mat'"
   ]
  },
  {
   "cell_type": "code",
   "execution_count": 295,
   "id": "1f4630b7-fb02-4029-a0ea-2c5a26caccdd",
   "metadata": {},
   "outputs": [],
   "source": [
    "varlist_acsm = ['time', 'Org','SO4','NO3','NH4','Chl']"
   ]
  },
  {
   "cell_type": "code",
   "execution_count": 296,
   "id": "ebaadb01-0549-4237-9044-2f35ee86e5c8",
   "metadata": {},
   "outputs": [
    {
     "data": {
      "text/plain": [
       "<AxesSubplot:xlabel='time'>"
      ]
     },
     "execution_count": 296,
     "metadata": {},
     "output_type": "execute_result"
    },
    {
     "data": {
      "image/png": "[encoded data removed]",
      "text/plain": [
       "<Figure size 432x288 with 1 Axes>"
      ]
     },
     "metadata": {
      "needs_background": "light"
     },
     "output_type": "display_data"
    }
   ],
   "source": [
    "import scipy.io as sio\n",
    "test = sio.loadmat(fn_liine)\n",
    "\n",
    "df_lii = pd.DataFrame(test['ACSM_DEFAULT'], columns=varlist_acsm)#.set_index('time')\n",
    "\n",
    "df_lii['time'] = fix_matlabtime(df_lii['time'])# + datetime.timedelta(hours=1)\n",
    "\n",
    "df_lii = df_lii.set_index('time')\n",
    "\n",
    "df_lii['Org'].plot()"
   ]
  },
  {
   "cell_type": "markdown",
   "id": "7e5187a6-3003-435a-945f-36d0ee34d2fd",
   "metadata": {},
   "source": [
    "## Combine datasets"
   ]
  },
  {
   "cell_type": "code",
   "execution_count": 297,
   "id": "27d244f2-cd7e-46a0-bb70-c67d59e504e5",
   "metadata": {},
   "outputs": [
    {
     "data": {
      "text/html": [
       "<div>\n",
       "<style scoped>\n",
       "    .dataframe tbody tr th:only-of-type {\n",
       "        vertical-align: middle;\n",
       "    }\n",
       "\n",
       "    .dataframe tbody tr th {\n",
       "        vertical-align: top;\n",
       "    }\n",
       "\n",
       "    .dataframe thead th {\n",
       "        text-align: right;\n",
       "    }\n",
       "</style>\n",
       "<table border=\"1\" class=\"dataframe\">\n",
       "  <thead>\n",
       "    <tr style=\"text-align: right;\">\n",
       "      <th></th>\n",
       "      <th>Org</th>\n",
       "      <th>SO4</th>\n",
       "      <th>NO3</th>\n",
       "      <th>NH4</th>\n",
       "      <th>Chl</th>\n",
       "    </tr>\n",
       "    <tr>\n",
       "      <th>time</th>\n",
       "      <th></th>\n",
       "      <th></th>\n",
       "      <th></th>\n",
       "      <th></th>\n",
       "      <th></th>\n",
       "    </tr>\n",
       "  </thead>\n",
       "  <tbody>\n",
       "    <tr>\n",
       "      <th>2012-01-01 00:00:00</th>\n",
       "      <td>NaN</td>\n",
       "      <td>NaN</td>\n",
       "      <td>NaN</td>\n",
       "      <td>NaN</td>\n",
       "      <td>NaN</td>\n",
       "    </tr>\n",
       "    <tr>\n",
       "      <th>2012-01-01 01:00:00</th>\n",
       "      <td>NaN</td>\n",
       "      <td>NaN</td>\n",
       "      <td>NaN</td>\n",
       "      <td>NaN</td>\n",
       "      <td>NaN</td>\n",
       "    </tr>\n",
       "    <tr>\n",
       "      <th>2012-01-01 02:00:00</th>\n",
       "      <td>NaN</td>\n",
       "      <td>NaN</td>\n",
       "      <td>NaN</td>\n",
       "      <td>NaN</td>\n",
       "      <td>NaN</td>\n",
       "    </tr>\n",
       "    <tr>\n",
       "      <th>2012-01-01 03:00:00</th>\n",
       "      <td>NaN</td>\n",
       "      <td>NaN</td>\n",
       "      <td>NaN</td>\n",
       "      <td>NaN</td>\n",
       "      <td>NaN</td>\n",
       "    </tr>\n",
       "    <tr>\n",
       "      <th>2012-01-01 04:00:00</th>\n",
       "      <td>NaN</td>\n",
       "      <td>NaN</td>\n",
       "      <td>NaN</td>\n",
       "      <td>NaN</td>\n",
       "      <td>NaN</td>\n",
       "    </tr>\n",
       "    <tr>\n",
       "      <th>...</th>\n",
       "      <td>...</td>\n",
       "      <td>...</td>\n",
       "      <td>...</td>\n",
       "      <td>...</td>\n",
       "      <td>...</td>\n",
       "    </tr>\n",
       "    <tr>\n",
       "      <th>2020-12-31 19:00:00</th>\n",
       "      <td>NaN</td>\n",
       "      <td>NaN</td>\n",
       "      <td>NaN</td>\n",
       "      <td>NaN</td>\n",
       "      <td>NaN</td>\n",
       "    </tr>\n",
       "    <tr>\n",
       "      <th>2020-12-31 20:00:00</th>\n",
       "      <td>NaN</td>\n",
       "      <td>NaN</td>\n",
       "      <td>NaN</td>\n",
       "      <td>NaN</td>\n",
       "      <td>NaN</td>\n",
       "    </tr>\n",
       "    <tr>\n",
       "      <th>2020-12-31 21:00:00</th>\n",
       "      <td>NaN</td>\n",
       "      <td>NaN</td>\n",
       "      <td>NaN</td>\n",
       "      <td>NaN</td>\n",
       "      <td>NaN</td>\n",
       "    </tr>\n",
       "    <tr>\n",
       "      <th>2020-12-31 22:00:00</th>\n",
       "      <td>NaN</td>\n",
       "      <td>NaN</td>\n",
       "      <td>NaN</td>\n",
       "      <td>NaN</td>\n",
       "      <td>NaN</td>\n",
       "    </tr>\n",
       "    <tr>\n",
       "      <th>2020-12-31 23:00:00</th>\n",
       "      <td>NaN</td>\n",
       "      <td>NaN</td>\n",
       "      <td>NaN</td>\n",
       "      <td>NaN</td>\n",
       "      <td>NaN</td>\n",
       "    </tr>\n",
       "  </tbody>\n",
       "</table>\n",
       "<p>78912 rows × 5 columns</p>\n",
       "</div>"
      ],
      "text/plain": [
       "                     Org  SO4  NO3  NH4  Chl\n",
       "time                                        \n",
       "2012-01-01 00:00:00  NaN  NaN  NaN  NaN  NaN\n",
       "2012-01-01 01:00:00  NaN  NaN  NaN  NaN  NaN\n",
       "2012-01-01 02:00:00  NaN  NaN  NaN  NaN  NaN\n",
       "2012-01-01 03:00:00  NaN  NaN  NaN  NaN  NaN\n",
       "2012-01-01 04:00:00  NaN  NaN  NaN  NaN  NaN\n",
       "...                  ...  ...  ...  ...  ...\n",
       "2020-12-31 19:00:00  NaN  NaN  NaN  NaN  NaN\n",
       "2020-12-31 20:00:00  NaN  NaN  NaN  NaN  NaN\n",
       "2020-12-31 21:00:00  NaN  NaN  NaN  NaN  NaN\n",
       "2020-12-31 22:00:00  NaN  NaN  NaN  NaN  NaN\n",
       "2020-12-31 23:00:00  NaN  NaN  NaN  NaN  NaN\n",
       "\n",
       "[78912 rows x 5 columns]"
      ]
     },
     "execution_count": 297,
     "metadata": {},
     "output_type": "execute_result"
    }
   ],
   "source": [
    "df_lii"
   ]
  },
  {
   "cell_type": "code",
   "execution_count": 298,
   "id": "829b07bd-3608-4ae1-8d7a-7f9b31a55d67",
   "metadata": {},
   "outputs": [
    {
     "data": {
      "text/html": [
       "<div>\n",
       "<style scoped>\n",
       "    .dataframe tbody tr th:only-of-type {\n",
       "        vertical-align: middle;\n",
       "    }\n",
       "\n",
       "    .dataframe tbody tr th {\n",
       "        vertical-align: top;\n",
       "    }\n",
       "\n",
       "    .dataframe thead th {\n",
       "        text-align: right;\n",
       "    }\n",
       "</style>\n",
       "<table border=\"1\" class=\"dataframe\">\n",
       "  <thead>\n",
       "    <tr style=\"text-align: right;\">\n",
       "      <th></th>\n",
       "      <th>N50</th>\n",
       "      <th>N80</th>\n",
       "      <th>N100</th>\n",
       "      <th>N150</th>\n",
       "      <th>N200</th>\n",
       "      <th>N250</th>\n",
       "      <th>N300</th>\n",
       "    </tr>\n",
       "    <tr>\n",
       "      <th>time</th>\n",
       "      <th></th>\n",
       "      <th></th>\n",
       "      <th></th>\n",
       "      <th></th>\n",
       "      <th></th>\n",
       "      <th></th>\n",
       "      <th></th>\n",
       "    </tr>\n",
       "  </thead>\n",
       "  <tbody>\n",
       "    <tr>\n",
       "      <th>2012-01-01 02:00:00</th>\n",
       "      <td>474.717694</td>\n",
       "      <td>306.616092</td>\n",
       "      <td>235.864279</td>\n",
       "      <td>137.173123</td>\n",
       "      <td>87.040280</td>\n",
       "      <td>52.205053</td>\n",
       "      <td>29.899803</td>\n",
       "    </tr>\n",
       "    <tr>\n",
       "      <th>2012-01-01 03:00:00</th>\n",
       "      <td>516.631120</td>\n",
       "      <td>341.513573</td>\n",
       "      <td>264.511665</td>\n",
       "      <td>152.428974</td>\n",
       "      <td>96.878629</td>\n",
       "      <td>59.321288</td>\n",
       "      <td>33.998613</td>\n",
       "    </tr>\n",
       "    <tr>\n",
       "      <th>2012-01-01 04:00:00</th>\n",
       "      <td>635.704219</td>\n",
       "      <td>431.524799</td>\n",
       "      <td>334.590614</td>\n",
       "      <td>189.614898</td>\n",
       "      <td>117.824268</td>\n",
       "      <td>70.343558</td>\n",
       "      <td>39.921649</td>\n",
       "    </tr>\n",
       "    <tr>\n",
       "      <th>2012-01-01 05:00:00</th>\n",
       "      <td>859.767868</td>\n",
       "      <td>603.801309</td>\n",
       "      <td>465.870302</td>\n",
       "      <td>251.464244</td>\n",
       "      <td>147.150787</td>\n",
       "      <td>86.925009</td>\n",
       "      <td>50.451064</td>\n",
       "    </tr>\n",
       "    <tr>\n",
       "      <th>2012-01-01 06:00:00</th>\n",
       "      <td>1249.259621</td>\n",
       "      <td>881.768743</td>\n",
       "      <td>684.944162</td>\n",
       "      <td>379.522949</td>\n",
       "      <td>221.376488</td>\n",
       "      <td>128.856136</td>\n",
       "      <td>76.218054</td>\n",
       "    </tr>\n",
       "    <tr>\n",
       "      <th>...</th>\n",
       "      <td>...</td>\n",
       "      <td>...</td>\n",
       "      <td>...</td>\n",
       "      <td>...</td>\n",
       "      <td>...</td>\n",
       "      <td>...</td>\n",
       "      <td>...</td>\n",
       "    </tr>\n",
       "    <tr>\n",
       "      <th>2018-12-31 21:00:00</th>\n",
       "      <td>242.483006</td>\n",
       "      <td>172.140209</td>\n",
       "      <td>138.361021</td>\n",
       "      <td>71.788172</td>\n",
       "      <td>35.610311</td>\n",
       "      <td>15.973082</td>\n",
       "      <td>7.646265</td>\n",
       "    </tr>\n",
       "    <tr>\n",
       "      <th>2018-12-31 22:00:00</th>\n",
       "      <td>226.782610</td>\n",
       "      <td>139.861512</td>\n",
       "      <td>109.549075</td>\n",
       "      <td>53.552937</td>\n",
       "      <td>24.765184</td>\n",
       "      <td>10.040581</td>\n",
       "      <td>4.770128</td>\n",
       "    </tr>\n",
       "    <tr>\n",
       "      <th>2018-12-31 23:00:00</th>\n",
       "      <td>178.178957</td>\n",
       "      <td>102.056089</td>\n",
       "      <td>77.719809</td>\n",
       "      <td>33.131727</td>\n",
       "      <td>13.115932</td>\n",
       "      <td>5.133396</td>\n",
       "      <td>2.542448</td>\n",
       "    </tr>\n",
       "    <tr>\n",
       "      <th>2019-01-01 00:00:00</th>\n",
       "      <td>149.585982</td>\n",
       "      <td>92.618581</td>\n",
       "      <td>68.558068</td>\n",
       "      <td>29.449547</td>\n",
       "      <td>14.495031</td>\n",
       "      <td>7.108705</td>\n",
       "      <td>3.613027</td>\n",
       "    </tr>\n",
       "    <tr>\n",
       "      <th>2019-01-01 01:00:00</th>\n",
       "      <td>217.828409</td>\n",
       "      <td>147.557199</td>\n",
       "      <td>110.358359</td>\n",
       "      <td>47.512665</td>\n",
       "      <td>24.784930</td>\n",
       "      <td>12.555279</td>\n",
       "      <td>6.669087</td>\n",
       "    </tr>\n",
       "  </tbody>\n",
       "</table>\n",
       "<p>61368 rows × 7 columns</p>\n",
       "</div>"
      ],
      "text/plain": [
       "                             N50         N80        N100        N150  \\\n",
       "time                                                                   \n",
       "2012-01-01 02:00:00   474.717694  306.616092  235.864279  137.173123   \n",
       "2012-01-01 03:00:00   516.631120  341.513573  264.511665  152.428974   \n",
       "2012-01-01 04:00:00   635.704219  431.524799  334.590614  189.614898   \n",
       "2012-01-01 05:00:00   859.767868  603.801309  465.870302  251.464244   \n",
       "2012-01-01 06:00:00  1249.259621  881.768743  684.944162  379.522949   \n",
       "...                          ...         ...         ...         ...   \n",
       "2018-12-31 21:00:00   242.483006  172.140209  138.361021   71.788172   \n",
       "2018-12-31 22:00:00   226.782610  139.861512  109.549075   53.552937   \n",
       "2018-12-31 23:00:00   178.178957  102.056089   77.719809   33.131727   \n",
       "2019-01-01 00:00:00   149.585982   92.618581   68.558068   29.449547   \n",
       "2019-01-01 01:00:00   217.828409  147.557199  110.358359   47.512665   \n",
       "\n",
       "                           N200        N250       N300  \n",
       "time                                                    \n",
       "2012-01-01 02:00:00   87.040280   52.205053  29.899803  \n",
       "2012-01-01 03:00:00   96.878629   59.321288  33.998613  \n",
       "2012-01-01 04:00:00  117.824268   70.343558  39.921649  \n",
       "2012-01-01 05:00:00  147.150787   86.925009  50.451064  \n",
       "2012-01-01 06:00:00  221.376488  128.856136  76.218054  \n",
       "...                         ...         ...        ...  \n",
       "2018-12-31 21:00:00   35.610311   15.973082   7.646265  \n",
       "2018-12-31 22:00:00   24.765184   10.040581   4.770128  \n",
       "2018-12-31 23:00:00   13.115932    5.133396   2.542448  \n",
       "2019-01-01 00:00:00   14.495031    7.108705   3.613027  \n",
       "2019-01-01 01:00:00   24.784930   12.555279   6.669087  \n",
       "\n",
       "[61368 rows x 7 columns]"
      ]
     },
     "execution_count": 298,
     "metadata": {},
     "output_type": "execute_result"
    }
   ],
   "source": [
    "df_ebas_Nx"
   ]
  },
  {
   "cell_type": "code",
   "execution_count": 299,
   "id": "8c4d2a61-d0ee-4ef9-b89e-4d2a48b641f4",
   "metadata": {},
   "outputs": [
    {
     "data": {
      "text/html": [
       "<div>\n",
       "<style scoped>\n",
       "    .dataframe tbody tr th:only-of-type {\n",
       "        vertical-align: middle;\n",
       "    }\n",
       "\n",
       "    .dataframe tbody tr th {\n",
       "        vertical-align: top;\n",
       "    }\n",
       "\n",
       "    .dataframe thead th {\n",
       "        text-align: right;\n",
       "    }\n",
       "</style>\n",
       "<table border=\"1\" class=\"dataframe\">\n",
       "  <thead>\n",
       "    <tr style=\"text-align: right;\">\n",
       "      <th></th>\n",
       "      <th>Year</th>\n",
       "      <th>Month</th>\n",
       "      <th>Day</th>\n",
       "      <th>Hour</th>\n",
       "      <th>Minute</th>\n",
       "      <th>Second</th>\n",
       "      <th>HYY_META.WDU672</th>\n",
       "      <th>HYY_META.WSU168</th>\n",
       "      <th>HYY_META.WSU672</th>\n",
       "      <th>HYY_META.T672</th>\n",
       "      <th>HYY_META.WDU168</th>\n",
       "      <th>HYY_META.RH168</th>\n",
       "      <th>HYY_META.T168</th>\n",
       "      <th>HYY_META.RH672</th>\n",
       "      <th>U</th>\n",
       "      <th>V</th>\n",
       "      <th>WDU168_mid</th>\n",
       "      <th>WSU168_mid</th>\n",
       "      <th>HYY_META.Pamb0</th>\n",
       "      <th>HYY_META.T42</th>\n",
       "    </tr>\n",
       "    <tr>\n",
       "      <th>time</th>\n",
       "      <th></th>\n",
       "      <th></th>\n",
       "      <th></th>\n",
       "      <th></th>\n",
       "      <th></th>\n",
       "      <th></th>\n",
       "      <th></th>\n",
       "      <th></th>\n",
       "      <th></th>\n",
       "      <th></th>\n",
       "      <th></th>\n",
       "      <th></th>\n",
       "      <th></th>\n",
       "      <th></th>\n",
       "      <th></th>\n",
       "      <th></th>\n",
       "      <th></th>\n",
       "      <th></th>\n",
       "      <th></th>\n",
       "      <th></th>\n",
       "    </tr>\n",
       "  </thead>\n",
       "  <tbody>\n",
       "    <tr>\n",
       "      <th>2012-01-01 00:00:00</th>\n",
       "      <td>2012.0</td>\n",
       "      <td>1.0</td>\n",
       "      <td>1.0</td>\n",
       "      <td>0.0</td>\n",
       "      <td>29.5</td>\n",
       "      <td>0.0</td>\n",
       "      <td>NaN</td>\n",
       "      <td>0.768877</td>\n",
       "      <td>NaN</td>\n",
       "      <td>-6.228155</td>\n",
       "      <td>185.678525</td>\n",
       "      <td>NaN</td>\n",
       "      <td>-6.453500</td>\n",
       "      <td>NaN</td>\n",
       "      <td>-0.765104</td>\n",
       "      <td>-0.076078</td>\n",
       "      <td>187.2730</td>\n",
       "      <td>3.6735</td>\n",
       "      <td>985.18983</td>\n",
       "      <td>NaN</td>\n",
       "    </tr>\n",
       "    <tr>\n",
       "      <th>2012-01-01 01:00:00</th>\n",
       "      <td>2012.0</td>\n",
       "      <td>1.0</td>\n",
       "      <td>1.0</td>\n",
       "      <td>1.0</td>\n",
       "      <td>29.5</td>\n",
       "      <td>0.0</td>\n",
       "      <td>NaN</td>\n",
       "      <td>0.487818</td>\n",
       "      <td>NaN</td>\n",
       "      <td>-5.951797</td>\n",
       "      <td>167.190631</td>\n",
       "      <td>NaN</td>\n",
       "      <td>-6.553825</td>\n",
       "      <td>NaN</td>\n",
       "      <td>-0.475677</td>\n",
       "      <td>0.108153</td>\n",
       "      <td>165.4545</td>\n",
       "      <td>3.6735</td>\n",
       "      <td>985.61817</td>\n",
       "      <td>NaN</td>\n",
       "    </tr>\n",
       "    <tr>\n",
       "      <th>2012-01-01 02:00:00</th>\n",
       "      <td>2012.0</td>\n",
       "      <td>1.0</td>\n",
       "      <td>1.0</td>\n",
       "      <td>2.0</td>\n",
       "      <td>29.5</td>\n",
       "      <td>0.0</td>\n",
       "      <td>NaN</td>\n",
       "      <td>0.553307</td>\n",
       "      <td>NaN</td>\n",
       "      <td>-5.993273</td>\n",
       "      <td>163.229489</td>\n",
       "      <td>NaN</td>\n",
       "      <td>-6.176323</td>\n",
       "      <td>NaN</td>\n",
       "      <td>-0.529774</td>\n",
       "      <td>0.159651</td>\n",
       "      <td>161.8180</td>\n",
       "      <td>3.6735</td>\n",
       "      <td>986.22833</td>\n",
       "      <td>NaN</td>\n",
       "    </tr>\n",
       "    <tr>\n",
       "      <th>2012-01-01 03:00:00</th>\n",
       "      <td>2012.0</td>\n",
       "      <td>1.0</td>\n",
       "      <td>1.0</td>\n",
       "      <td>3.0</td>\n",
       "      <td>29.5</td>\n",
       "      <td>0.0</td>\n",
       "      <td>NaN</td>\n",
       "      <td>0.523611</td>\n",
       "      <td>NaN</td>\n",
       "      <td>-5.995248</td>\n",
       "      <td>167.980277</td>\n",
       "      <td>NaN</td>\n",
       "      <td>-5.923486</td>\n",
       "      <td>NaN</td>\n",
       "      <td>-0.512131</td>\n",
       "      <td>0.109041</td>\n",
       "      <td>169.0910</td>\n",
       "      <td>3.6735</td>\n",
       "      <td>986.68267</td>\n",
       "      <td>NaN</td>\n",
       "    </tr>\n",
       "    <tr>\n",
       "      <th>2012-01-01 04:00:00</th>\n",
       "      <td>2012.0</td>\n",
       "      <td>1.0</td>\n",
       "      <td>1.0</td>\n",
       "      <td>4.0</td>\n",
       "      <td>29.5</td>\n",
       "      <td>0.0</td>\n",
       "      <td>NaN</td>\n",
       "      <td>0.540031</td>\n",
       "      <td>NaN</td>\n",
       "      <td>-5.883390</td>\n",
       "      <td>165.419219</td>\n",
       "      <td>NaN</td>\n",
       "      <td>-5.757813</td>\n",
       "      <td>NaN</td>\n",
       "      <td>-0.522639</td>\n",
       "      <td>0.135950</td>\n",
       "      <td>165.4545</td>\n",
       "      <td>3.6735</td>\n",
       "      <td>987.08667</td>\n",
       "      <td>NaN</td>\n",
       "    </tr>\n",
       "    <tr>\n",
       "      <th>...</th>\n",
       "      <td>...</td>\n",
       "      <td>...</td>\n",
       "      <td>...</td>\n",
       "      <td>...</td>\n",
       "      <td>...</td>\n",
       "      <td>...</td>\n",
       "      <td>...</td>\n",
       "      <td>...</td>\n",
       "      <td>...</td>\n",
       "      <td>...</td>\n",
       "      <td>...</td>\n",
       "      <td>...</td>\n",
       "      <td>...</td>\n",
       "      <td>...</td>\n",
       "      <td>...</td>\n",
       "      <td>...</td>\n",
       "      <td>...</td>\n",
       "      <td>...</td>\n",
       "      <td>...</td>\n",
       "      <td>...</td>\n",
       "    </tr>\n",
       "    <tr>\n",
       "      <th>2018-01-01 19:00:00</th>\n",
       "      <td>2018.0</td>\n",
       "      <td>1.0</td>\n",
       "      <td>1.0</td>\n",
       "      <td>19.0</td>\n",
       "      <td>29.5</td>\n",
       "      <td>0.0</td>\n",
       "      <td>117.651046</td>\n",
       "      <td>1.551506</td>\n",
       "      <td>4.988799</td>\n",
       "      <td>-1.208333</td>\n",
       "      <td>114.739066</td>\n",
       "      <td>NaN</td>\n",
       "      <td>-0.964833</td>\n",
       "      <td>NaN</td>\n",
       "      <td>-0.649284</td>\n",
       "      <td>1.409114</td>\n",
       "      <td>114.5455</td>\n",
       "      <td>3.6735</td>\n",
       "      <td>971.00317</td>\n",
       "      <td>-0.14617</td>\n",
       "    </tr>\n",
       "    <tr>\n",
       "      <th>2018-01-01 20:00:00</th>\n",
       "      <td>2018.0</td>\n",
       "      <td>1.0</td>\n",
       "      <td>1.0</td>\n",
       "      <td>20.0</td>\n",
       "      <td>29.5</td>\n",
       "      <td>0.0</td>\n",
       "      <td>110.454686</td>\n",
       "      <td>1.440794</td>\n",
       "      <td>4.754064</td>\n",
       "      <td>-1.140500</td>\n",
       "      <td>108.257224</td>\n",
       "      <td>NaN</td>\n",
       "      <td>-0.925000</td>\n",
       "      <td>NaN</td>\n",
       "      <td>-0.451377</td>\n",
       "      <td>1.368264</td>\n",
       "      <td>107.2730</td>\n",
       "      <td>3.6735</td>\n",
       "      <td>970.32450</td>\n",
       "      <td>-0.10833</td>\n",
       "    </tr>\n",
       "    <tr>\n",
       "      <th>2018-01-01 21:00:00</th>\n",
       "      <td>2018.0</td>\n",
       "      <td>1.0</td>\n",
       "      <td>1.0</td>\n",
       "      <td>21.0</td>\n",
       "      <td>29.5</td>\n",
       "      <td>0.0</td>\n",
       "      <td>101.815297</td>\n",
       "      <td>1.202456</td>\n",
       "      <td>4.476926</td>\n",
       "      <td>-1.057500</td>\n",
       "      <td>100.368749</td>\n",
       "      <td>NaN</td>\n",
       "      <td>-0.830500</td>\n",
       "      <td>NaN</td>\n",
       "      <td>-0.216421</td>\n",
       "      <td>1.182820</td>\n",
       "      <td>100.0000</td>\n",
       "      <td>3.6735</td>\n",
       "      <td>969.87250</td>\n",
       "      <td>0.07067</td>\n",
       "    </tr>\n",
       "    <tr>\n",
       "      <th>2018-01-01 22:00:00</th>\n",
       "      <td>2018.0</td>\n",
       "      <td>1.0</td>\n",
       "      <td>1.0</td>\n",
       "      <td>22.0</td>\n",
       "      <td>29.5</td>\n",
       "      <td>0.0</td>\n",
       "      <td>95.705700</td>\n",
       "      <td>1.233737</td>\n",
       "      <td>4.747725</td>\n",
       "      <td>-1.084333</td>\n",
       "      <td>92.814314</td>\n",
       "      <td>NaN</td>\n",
       "      <td>-0.836000</td>\n",
       "      <td>NaN</td>\n",
       "      <td>-0.060576</td>\n",
       "      <td>1.232249</td>\n",
       "      <td>92.7270</td>\n",
       "      <td>3.6735</td>\n",
       "      <td>969.50633</td>\n",
       "      <td>0.20933</td>\n",
       "    </tr>\n",
       "    <tr>\n",
       "      <th>2018-01-01 23:00:00</th>\n",
       "      <td>2018.0</td>\n",
       "      <td>1.0</td>\n",
       "      <td>1.0</td>\n",
       "      <td>23.0</td>\n",
       "      <td>29.5</td>\n",
       "      <td>0.0</td>\n",
       "      <td>102.664303</td>\n",
       "      <td>1.542843</td>\n",
       "      <td>4.911050</td>\n",
       "      <td>-1.098500</td>\n",
       "      <td>97.053240</td>\n",
       "      <td>NaN</td>\n",
       "      <td>-0.850000</td>\n",
       "      <td>NaN</td>\n",
       "      <td>-0.189448</td>\n",
       "      <td>1.531168</td>\n",
       "      <td>96.3635</td>\n",
       "      <td>3.6735</td>\n",
       "      <td>969.06733</td>\n",
       "      <td>0.18167</td>\n",
       "    </tr>\n",
       "  </tbody>\n",
       "</table>\n",
       "<p>52632 rows × 20 columns</p>\n",
       "</div>"
      ],
      "text/plain": [
       "                       Year  Month  Day  Hour  Minute  Second  \\\n",
       "time                                                            \n",
       "2012-01-01 00:00:00  2012.0    1.0  1.0   0.0    29.5     0.0   \n",
       "2012-01-01 01:00:00  2012.0    1.0  1.0   1.0    29.5     0.0   \n",
       "2012-01-01 02:00:00  2012.0    1.0  1.0   2.0    29.5     0.0   \n",
       "2012-01-01 03:00:00  2012.0    1.0  1.0   3.0    29.5     0.0   \n",
       "2012-01-01 04:00:00  2012.0    1.0  1.0   4.0    29.5     0.0   \n",
       "...                     ...    ...  ...   ...     ...     ...   \n",
       "2018-01-01 19:00:00  2018.0    1.0  1.0  19.0    29.5     0.0   \n",
       "2018-01-01 20:00:00  2018.0    1.0  1.0  20.0    29.5     0.0   \n",
       "2018-01-01 21:00:00  2018.0    1.0  1.0  21.0    29.5     0.0   \n",
       "2018-01-01 22:00:00  2018.0    1.0  1.0  22.0    29.5     0.0   \n",
       "2018-01-01 23:00:00  2018.0    1.0  1.0  23.0    29.5     0.0   \n",
       "\n",
       "                     HYY_META.WDU672  HYY_META.WSU168  HYY_META.WSU672  \\\n",
       "time                                                                     \n",
       "2012-01-01 00:00:00              NaN         0.768877              NaN   \n",
       "2012-01-01 01:00:00              NaN         0.487818              NaN   \n",
       "2012-01-01 02:00:00              NaN         0.553307              NaN   \n",
       "2012-01-01 03:00:00              NaN         0.523611              NaN   \n",
       "2012-01-01 04:00:00              NaN         0.540031              NaN   \n",
       "...                              ...              ...              ...   \n",
       "2018-01-01 19:00:00       117.651046         1.551506         4.988799   \n",
       "2018-01-01 20:00:00       110.454686         1.440794         4.754064   \n",
       "2018-01-01 21:00:00       101.815297         1.202456         4.476926   \n",
       "2018-01-01 22:00:00        95.705700         1.233737         4.747725   \n",
       "2018-01-01 23:00:00       102.664303         1.542843         4.911050   \n",
       "\n",
       "                     HYY_META.T672  HYY_META.WDU168  HYY_META.RH168  \\\n",
       "time                                                                  \n",
       "2012-01-01 00:00:00      -6.228155       185.678525             NaN   \n",
       "2012-01-01 01:00:00      -5.951797       167.190631             NaN   \n",
       "2012-01-01 02:00:00      -5.993273       163.229489             NaN   \n",
       "2012-01-01 03:00:00      -5.995248       167.980277             NaN   \n",
       "2012-01-01 04:00:00      -5.883390       165.419219             NaN   \n",
       "...                            ...              ...             ...   \n",
       "2018-01-01 19:00:00      -1.208333       114.739066             NaN   \n",
       "2018-01-01 20:00:00      -1.140500       108.257224             NaN   \n",
       "2018-01-01 21:00:00      -1.057500       100.368749             NaN   \n",
       "2018-01-01 22:00:00      -1.084333        92.814314             NaN   \n",
       "2018-01-01 23:00:00      -1.098500        97.053240             NaN   \n",
       "\n",
       "                     HYY_META.T168  HYY_META.RH672         U         V  \\\n",
       "time                                                                     \n",
       "2012-01-01 00:00:00      -6.453500             NaN -0.765104 -0.076078   \n",
       "2012-01-01 01:00:00      -6.553825             NaN -0.475677  0.108153   \n",
       "2012-01-01 02:00:00      -6.176323             NaN -0.529774  0.159651   \n",
       "2012-01-01 03:00:00      -5.923486             NaN -0.512131  0.109041   \n",
       "2012-01-01 04:00:00      -5.757813             NaN -0.522639  0.135950   \n",
       "...                            ...             ...       ...       ...   \n",
       "2018-01-01 19:00:00      -0.964833             NaN -0.649284  1.409114   \n",
       "2018-01-01 20:00:00      -0.925000             NaN -0.451377  1.368264   \n",
       "2018-01-01 21:00:00      -0.830500             NaN -0.216421  1.182820   \n",
       "2018-01-01 22:00:00      -0.836000             NaN -0.060576  1.232249   \n",
       "2018-01-01 23:00:00      -0.850000             NaN -0.189448  1.531168   \n",
       "\n",
       "                    WDU168_mid WSU168_mid  HYY_META.Pamb0  HYY_META.T42  \n",
       "time                                                                     \n",
       "2012-01-01 00:00:00   187.2730     3.6735       985.18983           NaN  \n",
       "2012-01-01 01:00:00   165.4545     3.6735       985.61817           NaN  \n",
       "2012-01-01 02:00:00   161.8180     3.6735       986.22833           NaN  \n",
       "2012-01-01 03:00:00   169.0910     3.6735       986.68267           NaN  \n",
       "2012-01-01 04:00:00   165.4545     3.6735       987.08667           NaN  \n",
       "...                        ...        ...             ...           ...  \n",
       "2018-01-01 19:00:00   114.5455     3.6735       971.00317      -0.14617  \n",
       "2018-01-01 20:00:00   107.2730     3.6735       970.32450      -0.10833  \n",
       "2018-01-01 21:00:00   100.0000     3.6735       969.87250       0.07067  \n",
       "2018-01-01 22:00:00    92.7270     3.6735       969.50633       0.20933  \n",
       "2018-01-01 23:00:00    96.3635     3.6735       969.06733       0.18167  \n",
       "\n",
       "[52632 rows x 20 columns]"
      ]
     },
     "execution_count": 299,
     "metadata": {},
     "output_type": "execute_result"
    }
   ],
   "source": [
    "df_meteo"
   ]
  },
  {
   "cell_type": "code",
   "execution_count": 300,
   "id": "c78324bc-55b9-4194-8a9e-75d644c8d22d",
   "metadata": {},
   "outputs": [
    {
     "data": {
      "text/plain": [
       "<AxesSubplot:xlabel='time'>"
      ]
     },
     "execution_count": 300,
     "metadata": {},
     "output_type": "execute_result"
    },
    {
     "data": {
      "image/png": "[encoded data removed]",
      "text/plain": [
       "<Figure size 432x288 with 1 Axes>"
      ]
     },
     "metadata": {
      "needs_background": "light"
     },
     "output_type": "display_data"
    }
   ],
   "source": [
    "df_lii['Org'].plot()"
   ]
  },
  {
   "cell_type": "code",
   "execution_count": 301,
   "id": "9164b9c5-a75d-47b7-acfa-47279006f5f7",
   "metadata": {},
   "outputs": [],
   "source": [
    "df_all = pd.concat([df_meteo, df_lii,df_ebas_Nx], axis=1)"
   ]
  },
  {
   "cell_type": "code",
   "execution_count": 302,
   "id": "8e68eee9-2400-4d2e-8ffb-f5d977b6189c",
   "metadata": {},
   "outputs": [
    {
     "data": {
      "text/plain": [
       "<AxesSubplot:xlabel='time'>"
      ]
     },
     "execution_count": 302,
     "metadata": {},
     "output_type": "execute_result"
    },
    {
     "data": {
      "image/png": "[encoded data removed]",
      "text/plain": [
       "<Figure size 432x288 with 1 Axes>"
      ]
     },
     "metadata": {
      "needs_background": "light"
     },
     "output_type": "display_data"
    }
   ],
   "source": [
    "df_all['Org'].plot()"
   ]
  },
  {
   "cell_type": "code",
   "execution_count": null,
   "id": "d5cf645b-1c89-4da8-8971-c4cd9515bddd",
   "metadata": {},
   "outputs": [],
   "source": []
  },
  {
   "cell_type": "markdown",
   "id": "46313c18-6225-4790-b72a-2195ae1ba500",
   "metadata": {
    "tags": []
   },
   "source": [
    "## Correct ACSM data to be standard temperature and pressure:"
   ]
  },
  {
   "cell_type": "markdown",
   "id": "59551c1d-91ac-4dd0-87a1-8c9fae78256e",
   "metadata": {},
   "source": [
    "Converting by: \n",
    "\n",
    "\\begin{align}\n",
    "conc. OA_{amb}=\\frac{m_{OA}}{V_{amb}} = & \\frac{m_{OA}}{m_{air}} \\cdot \\frac{m_{air}}{V_{amb}} = w_{OA} \\cdot \\rho_{amb} \n",
    "\\end{align}\n",
    "and in the same way\n",
    "\\begin{align}\n",
    "conc. OA_{STP}= & \\frac{m_{OA}}{m_{air}} \\cdot \\frac{m_{air}}{V_{STP}} = w_{OA} \\cdot \\rho_{STP}\n",
    "\\end{align}\n",
    "\n",
    "So finally\n",
    "\\begin{align}\n",
    "conc. OA_{STP}= & conc. OA_{amb} \\cdot \\frac{\\rho_{STP}}{\\rho_{amb}}\n",
    "\\end{align}"
   ]
  },
  {
   "cell_type": "code",
   "execution_count": 303,
   "id": "43c5e687-2bca-404b-8b28-4874859ae8fc",
   "metadata": {},
   "outputs": [],
   "source": [
    "pressure = df_all['HYY_META.Pamb0']\n",
    "temperature = df_all['HYY_META.T42']+273.15 # In Kelvin"
   ]
  },
  {
   "cell_type": "code",
   "execution_count": 304,
   "id": "ee675536-7b4c-4b46-aaf0-9b4f28cb3bf1",
   "metadata": {},
   "outputs": [
    {
     "data": {
      "text/plain": [
       "287.058"
      ]
     },
     "execution_count": 304,
     "metadata": {},
     "output_type": "execute_result"
    }
   ],
   "source": [
    "R"
   ]
  },
  {
   "cell_type": "code",
   "execution_count": 305,
   "id": "7adfb73d-c2d3-4d6d-9d25-c87003de0641",
   "metadata": {},
   "outputs": [],
   "source": [
    "df_all['density'] = (\n",
    "    pressure*100   # hPa --> Pa\n",
    "    /(temperature*R)\n",
    ")"
   ]
  },
  {
   "cell_type": "code",
   "execution_count": 306,
   "id": "578d6245-7c07-40c4-a29a-a9e528818ed5",
   "metadata": {},
   "outputs": [
    {
     "data": {
      "text/plain": [
       "<AxesSubplot:xlabel='time'>"
      ]
     },
     "execution_count": 306,
     "metadata": {},
     "output_type": "execute_result"
    },
    {
     "data": {
      "image/png": "[encoded data removed]",
      "text/plain": [
       "<Figure size 432x288 with 1 Axes>"
      ]
     },
     "metadata": {
      "needs_background": "light"
     },
     "output_type": "display_data"
    }
   ],
   "source": [
    "df_all['density'].plot()"
   ]
  },
  {
   "cell_type": "code",
   "execution_count": 307,
   "id": "83724b4b-301d-41a7-94a7-75cbb808b2fb",
   "metadata": {},
   "outputs": [
    {
     "data": {
      "text/plain": [
       "<AxesSubplot:xlabel='time'>"
      ]
     },
     "execution_count": 307,
     "metadata": {},
     "output_type": "execute_result"
    },
    {
     "data": {
      "image/png": "[encoded data removed]",
      "text/plain": [
       "<Figure size 432x288 with 1 Axes>"
      ]
     },
     "metadata": {
      "needs_background": "light"
     },
     "output_type": "display_data"
    }
   ],
   "source": [
    "df_all['Org'].plot()"
   ]
  },
  {
   "cell_type": "code",
   "execution_count": 308,
   "id": "fd2c3a0e-b3cc-4a1f-99b0-19985d67d191",
   "metadata": {},
   "outputs": [
    {
     "data": {
      "text/plain": [
       "1.2753492774515685"
      ]
     },
     "execution_count": 308,
     "metadata": {},
     "output_type": "execute_result"
    }
   ],
   "source": [
    "standard_air_density"
   ]
  },
  {
   "cell_type": "code",
   "execution_count": 309,
   "id": "3c319972-d39d-40bf-9dfe-fc8f1d63c325",
   "metadata": {},
   "outputs": [
    {
     "data": {
      "text/plain": [
       "['time', 'Org', 'SO4', 'NO3', 'NH4', 'Chl']"
      ]
     },
     "execution_count": 309,
     "metadata": {},
     "output_type": "execute_result"
    }
   ],
   "source": [
    "varlist_acsm"
   ]
  },
  {
   "cell_type": "code",
   "execution_count": 310,
   "id": "0ce1f7d6-f9ca-4a7f-9921-55e65392f15c",
   "metadata": {},
   "outputs": [],
   "source": [
    "\n",
    "for v in varlist_acsm:\n",
    "    if v not in df_all.columns: \n",
    "        continue\n",
    "    # if already processes: \n",
    "    if f'{v}_amb' in df_all: \n",
    "        continue\n",
    "    df_all = df_all.rename({v:f'{v}_amb'}, axis=1)\n",
    "    df_all[f'{v}_STP'] = (df_all[f'{v}_amb']/df_all['density'])*standard_air_density\n"
   ]
  },
  {
   "cell_type": "code",
   "execution_count": null,
   "id": "69e7f4a3-50ba-4e69-af90-e8aa0155021e",
   "metadata": {},
   "outputs": [],
   "source": []
  },
  {
   "cell_type": "code",
   "execution_count": 311,
   "id": "c3798429-0c46-4606-b0f8-2b05a251d245",
   "metadata": {},
   "outputs": [
    {
     "data": {
      "text/plain": [
       "<AxesSubplot:xlabel='time'>"
      ]
     },
     "execution_count": 311,
     "metadata": {},
     "output_type": "execute_result"
    },
    {
     "data": {
      "image/png": "[encoded data removed]",
      "text/plain": [
       "<Figure size 432x288 with 1 Axes>"
      ]
     },
     "metadata": {
      "needs_background": "light"
     },
     "output_type": "display_data"
    }
   ],
   "source": [
    "df_all['Org_STP'].plot()\n",
    "\n",
    "df_all['Org_STP'].plot()"
   ]
  },
  {
   "cell_type": "markdown",
   "id": "d943cb83-6761-4165-85dc-7c2777e5e1f0",
   "metadata": {},
   "source": [
    "#### Check that we are not loosing values because of surface p and T"
   ]
  },
  {
   "cell_type": "code",
   "execution_count": 312,
   "id": "86ba9b8c-30a5-4e5c-8c0a-7fb42bfaf80e",
   "metadata": {},
   "outputs": [],
   "source": [
    "is_summer = df_all.index.month.isin([7,8])"
   ]
  },
  {
   "cell_type": "code",
   "execution_count": 313,
   "id": "d3a95c93-54ca-42d4-ad40-890782faea58",
   "metadata": {},
   "outputs": [],
   "source": [
    "df_all_summer = df_all[is_summer]"
   ]
  },
  {
   "cell_type": "code",
   "execution_count": 314,
   "id": "265edb0b-a9ce-4987-93ad-f5f2fe35e10e",
   "metadata": {},
   "outputs": [
    {
     "data": {
      "text/plain": [
       "HYY_META.T42      5615\n",
       "HYY_META.Pamb0    5615\n",
       "Org_amb           5615\n",
       "HYY_META.T168     5615\n",
       "dtype: int64"
      ]
     },
     "execution_count": 314,
     "metadata": {},
     "output_type": "execute_result"
    }
   ],
   "source": [
    "df_all_summer[['HYY_META.T42','HYY_META.Pamb0','Org_amb','HYY_META.T168']].dropna().count()"
   ]
  },
  {
   "cell_type": "code",
   "execution_count": 315,
   "id": "45fa42ac-eaa7-4a4d-bafb-fda898d77c2b",
   "metadata": {},
   "outputs": [
    {
     "data": {
      "text/plain": [
       "HYY_META.Pamb0    5615\n",
       "Org_amb           5615\n",
       "HYY_META.T168     5615\n",
       "dtype: int64"
      ]
     },
     "execution_count": 315,
     "metadata": {},
     "output_type": "execute_result"
    }
   ],
   "source": [
    "df_all_summer[['HYY_META.Pamb0','Org_amb','HYY_META.T168']].dropna().count()"
   ]
  },
  {
   "cell_type": "code",
   "execution_count": 316,
   "id": "ca49eabd-b2a4-45a2-a61d-37cf26cccb7c",
   "metadata": {},
   "outputs": [
    {
     "data": {
      "text/plain": [
       "Org_amb          5615\n",
       "HYY_META.T168    5615\n",
       "dtype: int64"
      ]
     },
     "execution_count": 316,
     "metadata": {},
     "output_type": "execute_result"
    }
   ],
   "source": [
    "df_all_summer[['Org_amb','HYY_META.T168']].dropna().count()"
   ]
  },
  {
   "cell_type": "code",
   "execution_count": 317,
   "id": "42247911-e067-42c8-979c-69188db232ec",
   "metadata": {},
   "outputs": [
    {
     "data": {
      "text/plain": [
       "Org_amb    8779\n",
       "dtype: int64"
      ]
     },
     "execution_count": 317,
     "metadata": {},
     "output_type": "execute_result"
    }
   ],
   "source": [
    "df_all_summer[['Org_amb']].dropna().count()"
   ]
  },
  {
   "cell_type": "code",
   "execution_count": 318,
   "id": "88df1336-b6ef-4662-baaa-33ee958a2f54",
   "metadata": {},
   "outputs": [
    {
     "data": {
      "text/plain": [
       "<AxesSubplot:ylabel='Frequency'>"
      ]
     },
     "execution_count": 318,
     "metadata": {},
     "output_type": "execute_result"
    },
    {
     "data": {
      "image/png": "[encoded data removed]",
      "text/plain": [
       "<Figure size 432x288 with 1 Axes>"
      ]
     },
     "metadata": {
      "needs_background": "light"
     },
     "output_type": "display_data"
    }
   ],
   "source": [
    "df_all[is_summer]['Org_STP'].plot.hist(bins=np.linspace(-2,15),alpha= .5)\n",
    "\n",
    "df_all[is_summer&(df_all['Org_STP'].notnull())]['Org_amb'].plot.hist(bins=np.linspace(-2,15), alpha= .5)"
   ]
  },
  {
   "cell_type": "markdown",
   "id": "792d7c77-9dc6-4082-b3f2-e7159c155258",
   "metadata": {},
   "source": [
    "## Filter based on wind direction "
   ]
  },
  {
   "cell_type": "code",
   "execution_count": 319,
   "id": "be5cc568-aab1-41c1-8671-31c5629a8381",
   "metadata": {},
   "outputs": [
    {
     "data": {
      "text/plain": [
       "<AxesSubplot:ylabel='Frequency'>"
      ]
     },
     "execution_count": 319,
     "metadata": {},
     "output_type": "execute_result"
    },
    {
     "data": {
      "image/png": "[encoded data removed]",
      "text/plain": [
       "<Figure size 432x288 with 1 Axes>"
      ]
     },
     "metadata": {
      "needs_background": "light"
     },
     "output_type": "display_data"
    }
   ],
   "source": [
    "df_all['HYY_META.WDU168'].plot.hist(bins=100)\n"
   ]
  },
  {
   "cell_type": "code",
   "execution_count": 320,
   "id": "c71cfaae-5995-4fc4-a0f6-ea0bca038d39",
   "metadata": {},
   "outputs": [],
   "source": [
    "discard_wind = (df_all['HYY_META.WDU168']>=120) & (df_all['HYY_META.WDU168']<=140)"
   ]
  },
  {
   "cell_type": "code",
   "execution_count": 321,
   "id": "35d167b9-727b-419d-8160-ebe8759767c8",
   "metadata": {},
   "outputs": [],
   "source": [
    "df_all = df_all[~discard_wind]"
   ]
  },
  {
   "cell_type": "code",
   "execution_count": 322,
   "id": "a039ef4c-bfe7-4506-9d1b-c322765ac203",
   "metadata": {},
   "outputs": [
    {
     "data": {
      "text/plain": [
       "<AxesSubplot:ylabel='Frequency'>"
      ]
     },
     "execution_count": 322,
     "metadata": {},
     "output_type": "execute_result"
    },
    {
     "data": {
      "image/png": "[encoded data removed]",
      "text/plain": [
       "<Figure size 432x288 with 1 Axes>"
      ]
     },
     "metadata": {
      "needs_background": "light"
     },
     "output_type": "display_data"
    }
   ],
   "source": [
    "df_all['HYY_META.WDU168'].plot.hist(bins=100)\n"
   ]
  },
  {
   "cell_type": "code",
   "execution_count": 323,
   "id": "7fad08db-af64-4813-b654-4ef19da74261",
   "metadata": {},
   "outputs": [
    {
     "data": {
      "text/plain": [
       "<AxesSubplot:ylabel='Frequency'>"
      ]
     },
     "execution_count": 323,
     "metadata": {},
     "output_type": "execute_result"
    },
    {
     "data": {
      "image/png": "[encoded data removed]",
      "text/plain": [
       "<Figure size 432x288 with 1 Axes>"
      ]
     },
     "metadata": {
      "needs_background": "light"
     },
     "output_type": "display_data"
    }
   ],
   "source": [
    "df_all['HYY_META.WDU672'].plot.hist()\n"
   ]
  },
  {
   "cell_type": "code",
   "execution_count": 324,
   "id": "65f5b6f2-a0ff-429d-b5e1-5c02e483bb19",
   "metadata": {},
   "outputs": [
    {
     "data": {
      "application/vnd.plotly.v1+json": {
       "config": {
        "plotlyServerURL": "https://plot.ly"
       },
       "data": [
        {
         "hovertemplate": "WDU168_freq=%{r}<br>WDU168_mid=%{theta}<br>WDU168_mean=%{marker.color}<extra></extra>",
         "legendgroup": "",
         "marker": {
          "color": [
           357,
           381,
           364,
           412,
           377,
           351,
           322,
           327,
           275,
           319,
           304,
           322,
           311,
           333,
           344,
           359,
           284,
           310,
           324,
           331,
           326,
           344,
           311,
           319,
           317,
           344,
           326,
           387,
           392,
           396,
           391,
           412,
           398,
           0,
           0,
           0,
           0,
           0,
           270,
           599,
           620,
           586,
           574,
           518,
           524,
           563,
           584,
           557,
           592,
           682,
           669,
           665,
           699,
           756,
           835,
           865,
           930,
           919,
           865,
           860,
           788,
           723,
           762,
           688,
           693,
           739,
           677,
           701,
           697,
           741,
           666,
           740,
           660,
           666,
           627,
           591,
           588,
           525,
           459,
           511,
           494,
           459,
           429,
           440,
           416,
           429,
           410,
           394,
           414,
           443,
           443,
           478,
           483,
           476,
           461,
           472,
           482,
           465,
           382
          ],
          "coloraxis": "coloraxis",
          "pattern": {
           "shape": ""
          }
         },
         "name": "",
         "r": [
          357,
          381,
          364,
          412,
          377,
          351,
          322,
          327,
          275,
          319,
          304,
          322,
          311,
          333,
          344,
          359,
          284,
          310,
          324,
          331,
          326,
          344,
          311,
          319,
          317,
          344,
          326,
          387,
          392,
          396,
          391,
          412,
          398,
          0,
          0,
          0,
          0,
          0,
          270,
          599,
          620,
          586,
          574,
          518,
          524,
          563,
          584,
          557,
          592,
          682,
          669,
          665,
          699,
          756,
          835,
          865,
          930,
          919,
          865,
          860,
          788,
          723,
          762,
          688,
          693,
          739,
          677,
          701,
          697,
          741,
          666,
          740,
          660,
          666,
          627,
          591,
          588,
          525,
          459,
          511,
          494,
          459,
          429,
          440,
          416,
          429,
          410,
          394,
          414,
          443,
          443,
          478,
          483,
          476,
          461,
          472,
          482,
          465,
          382
         ],
         "showlegend": false,
         "subplot": "polar",
         "theta": [
          1.818,
          5.4544999999999995,
          9.091000000000001,
          12.727,
          16.3635,
          20,
          23.636499999999998,
          27.273,
          30.909,
          34.5455,
          38.182,
          41.818,
          45.4545,
          49.091,
          52.727000000000004,
          56.3635,
          60,
          63.6365,
          67.273,
          70.90899999999999,
          74.5455,
          78.182,
          81.818,
          85.4545,
          89.09100000000001,
          92.727,
          96.3635,
          100,
          103.6365,
          107.273,
          110.90899999999999,
          114.5455,
          118.182,
          121.818,
          125.4545,
          129.091,
          132.72699999999998,
          136.3635,
          140,
          143.6365,
          147.27300000000002,
          150.909,
          154.5455,
          158.18200000000002,
          161.81799999999998,
          165.4545,
          169.091,
          172.72699999999998,
          176.3635,
          180,
          183.6365,
          187.27300000000002,
          190.909,
          194.5455,
          198.18200000000002,
          201.81799999999998,
          205.4545,
          209.091,
          212.72699999999998,
          216.3635,
          220,
          223.6365,
          227.27300000000002,
          230.909,
          234.5455,
          238.18200000000002,
          241.81799999999998,
          245.4545,
          249.091,
          252.72699999999998,
          256.3635,
          260,
          263.63649999999996,
          267.273,
          270.909,
          274.54549999999995,
          278.182,
          281.818,
          285.45450000000005,
          289.091,
          292.727,
          296.36350000000004,
          300,
          303.63649999999996,
          307.273,
          310.909,
          314.54549999999995,
          318.182,
          321.818,
          325.45450000000005,
          329.091,
          332.727,
          336.36350000000004,
          340,
          343.63649999999996,
          347.273,
          350.909,
          354.54549999999995,
          358.182
         ],
         "type": "barpolar"
        }
       ],
       "layout": {
        "autosize": true,
        "barmode": "relative",
        "coloraxis": {
         "colorbar": {
          "title": {
           "text": "WDU168_mean"
          }
         },
         "colorscale": [
          [
           0,
           "#0d0887"
          ],
          [
           0.1111111111111111,
           "#46039f"
          ],
          [
           0.2222222222222222,
           "#7201a8"
          ],
          [
           0.3333333333333333,
           "#9c179e"
          ],
          [
           0.4444444444444444,
           "#bd3786"
          ],
          [
           0.5555555555555556,
           "#d8576b"
          ],
          [
           0.6666666666666666,
           "#ed7953"
          ],
          [
           0.7777777777777778,
           "#fb9f3a"
          ],
          [
           0.8888888888888888,
           "#fdca26"
          ],
          [
           1,
           "#f0f921"
          ]
         ]
        },
        "legend": {
         "tracegroupgap": 0
        },
        "margin": {
         "t": 60
        },
        "polar": {
         "angularaxis": {
          "direction": "clockwise",
          "rotation": 90,
          "type": "linear"
         },
         "domain": {
          "x": [
           0,
           1
          ],
          "y": [
           0,
           1
          ]
         },
         "radialaxis": {
          "autorange": true,
          "range": [
           0,
           978.9473684210526
          ],
          "type": "linear"
         }
        },
        "template": {
         "data": {
          "bar": [
           {
            "error_x": {
             "color": "#f2f5fa"
            },
            "error_y": {
             "color": "#f2f5fa"
            },
            "marker": {
             "line": {
              "color": "rgb(17,17,17)",
              "width": 0.5
             },
             "pattern": {
              "fillmode": "overlay",
              "size": 10,
              "solidity": 0.2
             }
            },
            "type": "bar"
           }
          ],
          "barpolar": [
           {
            "marker": {
             "line": {
              "color": "rgb(17,17,17)",
              "width": 0.5
             },
             "pattern": {
              "fillmode": "overlay",
              "size": 10,
              "solidity": 0.2
             }
            },
            "type": "barpolar"
           }
          ],
          "carpet": [
           {
            "aaxis": {
             "endlinecolor": "#A2B1C6",
             "gridcolor": "#506784",
             "linecolor": "#506784",
             "minorgridcolor": "#506784",
             "startlinecolor": "#A2B1C6"
            },
            "baxis": {
             "endlinecolor": "#A2B1C6",
             "gridcolor": "#506784",
             "linecolor": "#506784",
             "minorgridcolor": "#506784",
             "startlinecolor": "#A2B1C6"
            },
            "type": "carpet"
           }
          ],
          "choropleth": [
           {
            "colorbar": {
             "outlinewidth": 0,
             "ticks": ""
            },
            "type": "choropleth"
           }
          ],
          "contour": [
           {
            "colorbar": {
             "outlinewidth": 0,
             "ticks": ""
            },
            "colorscale": [
             [
              0,
              "#0d0887"
             ],
             [
              0.1111111111111111,
              "#46039f"
             ],
             [
              0.2222222222222222,
              "#7201a8"
             ],
             [
              0.3333333333333333,
              "#9c179e"
             ],
             [
              0.4444444444444444,
              "#bd3786"
             ],
             [
              0.5555555555555556,
              "#d8576b"
             ],
             [
              0.6666666666666666,
              "#ed7953"
             ],
             [
              0.7777777777777778,
              "#fb9f3a"
             ],
             [
              0.8888888888888888,
              "#fdca26"
             ],
             [
              1,
              "#f0f921"
             ]
            ],
            "type": "contour"
           }
          ],
          "contourcarpet": [
           {
            "colorbar": {
             "outlinewidth": 0,
             "ticks": ""
            },
            "type": "contourcarpet"
           }
          ],
          "heatmap": [
           {
            "colorbar": {
             "outlinewidth": 0,
             "ticks": ""
            },
            "colorscale": [
             [
              0,
              "#0d0887"
             ],
             [
              0.1111111111111111,
              "#46039f"
             ],
             [
              0.2222222222222222,
              "#7201a8"
             ],
             [
              0.3333333333333333,
              "#9c179e"
             ],
             [
              0.4444444444444444,
              "#bd3786"
             ],
             [
              0.5555555555555556,
              "#d8576b"
             ],
             [
              0.6666666666666666,
              "#ed7953"
             ],
             [
              0.7777777777777778,
              "#fb9f3a"
             ],
             [
              0.8888888888888888,
              "#fdca26"
             ],
             [
              1,
              "#f0f921"
             ]
            ],
            "type": "heatmap"
           }
          ],
          "heatmapgl": [
           {
            "colorbar": {
             "outlinewidth": 0,
             "ticks": ""
            },
            "colorscale": [
             [
              0,
              "#0d0887"
             ],
             [
              0.1111111111111111,
              "#46039f"
             ],
             [
              0.2222222222222222,
              "#7201a8"
             ],
             [
              0.3333333333333333,
              "#9c179e"
             ],
             [
              0.4444444444444444,
              "#bd3786"
             ],
             [
              0.5555555555555556,
              "#d8576b"
             ],
             [
              0.6666666666666666,
              "#ed7953"
             ],
             [
              0.7777777777777778,
              "#fb9f3a"
             ],
             [
              0.8888888888888888,
              "#fdca26"
             ],
             [
              1,
              "#f0f921"
             ]
            ],
            "type": "heatmapgl"
           }
          ],
          "histogram": [
           {
            "marker": {
             "pattern": {
              "fillmode": "overlay",
              "size": 10,
              "solidity": 0.2
             }
            },
            "type": "histogram"
           }
          ],
          "histogram2d": [
           {
            "colorbar": {
             "outlinewidth": 0,
             "ticks": ""
            },
            "colorscale": [
             [
              0,
              "#0d0887"
             ],
             [
              0.1111111111111111,
              "#46039f"
             ],
             [
              0.2222222222222222,
              "#7201a8"
             ],
             [
              0.3333333333333333,
              "#9c179e"
             ],
             [
              0.4444444444444444,
              "#bd3786"
             ],
             [
              0.5555555555555556,
              "#d8576b"
             ],
             [
              0.6666666666666666,
              "#ed7953"
             ],
             [
              0.7777777777777778,
              "#fb9f3a"
             ],
             [
              0.8888888888888888,
              "#fdca26"
             ],
             [
              1,
              "#f0f921"
             ]
            ],
            "type": "histogram2d"
           }
          ],
          "histogram2dcontour": [
           {
            "colorbar": {
             "outlinewidth": 0,
             "ticks": ""
            },
            "colorscale": [
             [
              0,
              "#0d0887"
             ],
             [
              0.1111111111111111,
              "#46039f"
             ],
             [
              0.2222222222222222,
              "#7201a8"
             ],
             [
              0.3333333333333333,
              "#9c179e"
             ],
             [
              0.4444444444444444,
              "#bd3786"
             ],
             [
              0.5555555555555556,
              "#d8576b"
             ],
             [
              0.6666666666666666,
              "#ed7953"
             ],
             [
              0.7777777777777778,
              "#fb9f3a"
             ],
             [
              0.8888888888888888,
              "#fdca26"
             ],
             [
              1,
              "#f0f921"
             ]
            ],
            "type": "histogram2dcontour"
           }
          ],
          "mesh3d": [
           {
            "colorbar": {
             "outlinewidth": 0,
             "ticks": ""
            },
            "type": "mesh3d"
           }
          ],
          "parcoords": [
           {
            "line": {
             "colorbar": {
              "outlinewidth": 0,
              "ticks": ""
             }
            },
            "type": "parcoords"
           }
          ],
          "pie": [
           {
            "automargin": true,
            "type": "pie"
           }
          ],
          "scatter": [
           {
            "marker": {
             "line": {
              "color": "#283442"
             }
            },
            "type": "scatter"
           }
          ],
          "scatter3d": [
           {
            "line": {
             "colorbar": {
              "outlinewidth": 0,
              "ticks": ""
             }
            },
            "marker": {
             "colorbar": {
              "outlinewidth": 0,
              "ticks": ""
             }
            },
            "type": "scatter3d"
           }
          ],
          "scattercarpet": [
           {
            "marker": {
             "colorbar": {
              "outlinewidth": 0,
              "ticks": ""
             }
            },
            "type": "scattercarpet"
           }
          ],
          "scattergeo": [
           {
            "marker": {
             "colorbar": {
              "outlinewidth": 0,
              "ticks": ""
             }
            },
            "type": "scattergeo"
           }
          ],
          "scattergl": [
           {
            "marker": {
             "line": {
              "color": "#283442"
             }
            },
            "type": "scattergl"
           }
          ],
          "scattermapbox": [
           {
            "marker": {
             "colorbar": {
              "outlinewidth": 0,
              "ticks": ""
             }
            },
            "type": "scattermapbox"
           }
          ],
          "scatterpolar": [
           {
            "marker": {
             "colorbar": {
              "outlinewidth": 0,
              "ticks": ""
             }
            },
            "type": "scatterpolar"
           }
          ],
          "scatterpolargl": [
           {
            "marker": {
             "colorbar": {
              "outlinewidth": 0,
              "ticks": ""
             }
            },
            "type": "scatterpolargl"
           }
          ],
          "scatterternary": [
           {
            "marker": {
             "colorbar": {
              "outlinewidth": 0,
              "ticks": ""
             }
            },
            "type": "scatterternary"
           }
          ],
          "surface": [
           {
            "colorbar": {
             "outlinewidth": 0,
             "ticks": ""
            },
            "colorscale": [
             [
              0,
              "#0d0887"
             ],
             [
              0.1111111111111111,
              "#46039f"
             ],
             [
              0.2222222222222222,
              "#7201a8"
             ],
             [
              0.3333333333333333,
              "#9c179e"
             ],
             [
              0.4444444444444444,
              "#bd3786"
             ],
             [
              0.5555555555555556,
              "#d8576b"
             ],
             [
              0.6666666666666666,
              "#ed7953"
             ],
             [
              0.7777777777777778,
              "#fb9f3a"
             ],
             [
              0.8888888888888888,
              "#fdca26"
             ],
             [
              1,
              "#f0f921"
             ]
            ],
            "type": "surface"
           }
          ],
          "table": [
           {
            "cells": {
             "fill": {
              "color": "#506784"
             },
             "line": {
              "color": "rgb(17,17,17)"
             }
            },
            "header": {
             "fill": {
              "color": "#2a3f5f"
             },
             "line": {
              "color": "rgb(17,17,17)"
             }
            },
            "type": "table"
           }
          ]
         },
         "layout": {
          "annotationdefaults": {
           "arrowcolor": "#f2f5fa",
           "arrowhead": 0,
           "arrowwidth": 1
          },
          "autotypenumbers": "strict",
          "coloraxis": {
           "colorbar": {
            "outlinewidth": 0,
            "ticks": ""
           }
          },
          "colorscale": {
           "diverging": [
            [
             0,
             "#8e0152"
            ],
            [
             0.1,
             "#c51b7d"
            ],
            [
             0.2,
             "#de77ae"
            ],
            [
             0.3,
             "#f1b6da"
            ],
            [
             0.4,
             "#fde0ef"
            ],
            [
             0.5,
             "#f7f7f7"
            ],
            [
             0.6,
             "#e6f5d0"
            ],
            [
             0.7,
             "#b8e186"
            ],
            [
             0.8,
             "#7fbc41"
            ],
            [
             0.9,
             "#4d9221"
            ],
            [
             1,
             "#276419"
            ]
           ],
           "sequential": [
            [
             0,
             "#0d0887"
            ],
            [
             0.1111111111111111,
             "#46039f"
            ],
            [
             0.2222222222222222,
             "#7201a8"
            ],
            [
             0.3333333333333333,
             "#9c179e"
            ],
            [
             0.4444444444444444,
             "#bd3786"
            ],
            [
             0.5555555555555556,
             "#d8576b"
            ],
            [
             0.6666666666666666,
             "#ed7953"
            ],
            [
             0.7777777777777778,
             "#fb9f3a"
            ],
            [
             0.8888888888888888,
             "#fdca26"
            ],
            [
             1,
             "#f0f921"
            ]
           ],
           "sequentialminus": [
            [
             0,
             "#0d0887"
            ],
            [
             0.1111111111111111,
             "#46039f"
            ],
            [
             0.2222222222222222,
             "#7201a8"
            ],
            [
             0.3333333333333333,
             "#9c179e"
            ],
            [
             0.4444444444444444,
             "#bd3786"
            ],
            [
             0.5555555555555556,
             "#d8576b"
            ],
            [
             0.6666666666666666,
             "#ed7953"
            ],
            [
             0.7777777777777778,
             "#fb9f3a"
            ],
            [
             0.8888888888888888,
             "#fdca26"
            ],
            [
             1,
             "#f0f921"
            ]
           ]
          },
          "colorway": [
           "#636efa",
           "#EF553B",
           "#00cc96",
           "#ab63fa",
           "#FFA15A",
           "#19d3f3",
           "#FF6692",
           "#B6E880",
           "#FF97FF",
           "#FECB52"
          ],
          "font": {
           "color": "#f2f5fa"
          },
          "geo": {
           "bgcolor": "rgb(17,17,17)",
           "lakecolor": "rgb(17,17,17)",
           "landcolor": "rgb(17,17,17)",
           "showlakes": true,
           "showland": true,
           "subunitcolor": "#506784"
          },
          "hoverlabel": {
           "align": "left"
          },
          "hovermode": "closest",
          "mapbox": {
           "style": "dark"
          },
          "paper_bgcolor": "rgb(17,17,17)",
          "plot_bgcolor": "rgb(17,17,17)",
          "polar": {
           "angularaxis": {
            "gridcolor": "#506784",
            "linecolor": "#506784",
            "ticks": ""
           },
           "bgcolor": "rgb(17,17,17)",
           "radialaxis": {
            "gridcolor": "#506784",
            "linecolor": "#506784",
            "ticks": ""
           }
          },
          "scene": {
           "xaxis": {
            "backgroundcolor": "rgb(17,17,17)",
            "gridcolor": "#506784",
            "gridwidth": 2,
            "linecolor": "#506784",
            "showbackground": true,
            "ticks": "",
            "zerolinecolor": "#C8D4E3"
           },
           "yaxis": {
            "backgroundcolor": "rgb(17,17,17)",
            "gridcolor": "#506784",
            "gridwidth": 2,
            "linecolor": "#506784",
            "showbackground": true,
            "ticks": "",
            "zerolinecolor": "#C8D4E3"
           },
           "zaxis": {
            "backgroundcolor": "rgb(17,17,17)",
            "gridcolor": "#506784",
            "gridwidth": 2,
            "linecolor": "#506784",
            "showbackground": true,
            "ticks": "",
            "zerolinecolor": "#C8D4E3"
           }
          },
          "shapedefaults": {
           "line": {
            "color": "#f2f5fa"
           }
          },
          "sliderdefaults": {
           "bgcolor": "#C8D4E3",
           "bordercolor": "rgb(17,17,17)",
           "borderwidth": 1,
           "tickwidth": 0
          },
          "ternary": {
           "aaxis": {
            "gridcolor": "#506784",
            "linecolor": "#506784",
            "ticks": ""
           },
           "baxis": {
            "gridcolor": "#506784",
            "linecolor": "#506784",
            "ticks": ""
           },
           "bgcolor": "rgb(17,17,17)",
           "caxis": {
            "gridcolor": "#506784",
            "linecolor": "#506784",
            "ticks": ""
           }
          },
          "title": {
           "x": 0.05
          },
          "updatemenudefaults": {
           "bgcolor": "#506784",
           "borderwidth": 0
          },
          "xaxis": {
           "automargin": true,
           "gridcolor": "#283442",
           "linecolor": "#506784",
           "ticks": "",
           "title": {
            "standoff": 15
           },
           "zerolinecolor": "#283442",
           "zerolinewidth": 2
          },
          "yaxis": {
           "automargin": true,
           "gridcolor": "#283442",
           "linecolor": "#506784",
           "ticks": "",
           "title": {
            "standoff": 15
           },
           "zerolinecolor": "#283442",
           "zerolinewidth": 2
          }
         }
        }
       }
      },
      "image/png": "[encoded data removed]",
      "text/html": [
       "<div>                            <div id=\"fbecbbd5-0856-4871-a9ed-cc1604aaa44e\" class=\"plotly-graph-div\" style=\"height:525px; width:100%;\"></div>            <script type=\"text/javascript\">                require([\"plotly\"], function(Plotly) {                    window.PLOTLYENV=window.PLOTLYENV || {};                                    if (document.getElementById(\"fbecbbd5-0856-4871-a9ed-cc1604aaa44e\")) {                    Plotly.newPlot(                        \"fbecbbd5-0856-4871-a9ed-cc1604aaa44e\",                        [{\"hovertemplate\":\"WDU168_freq=%{r}<br>WDU168_mid=%{theta}<br>WDU168_mean=%{marker.color}<extra></extra>\",\"legendgroup\":\"\",\"marker\":{\"color\":[357,381,364,412,377,351,322,327,275,319,304,322,311,333,344,359,284,310,324,331,326,344,311,319,317,344,326,387,392,396,391,412,398,0,0,0,0,0,270,599,620,586,574,518,524,563,584,557,592,682,669,665,699,756,835,865,930,919,865,860,788,723,762,688,693,739,677,701,697,741,666,740,660,666,627,591,588,525,459,511,494,459,429,440,416,429,410,394,414,443,443,478,483,476,461,472,482,465,382],\"coloraxis\":\"coloraxis\",\"pattern\":{\"shape\":\"\"}},\"name\":\"\",\"r\":[357,381,364,412,377,351,322,327,275,319,304,322,311,333,344,359,284,310,324,331,326,344,311,319,317,344,326,387,392,396,391,412,398,0,0,0,0,0,270,599,620,586,574,518,524,563,584,557,592,682,669,665,699,756,835,865,930,919,865,860,788,723,762,688,693,739,677,701,697,741,666,740,660,666,627,591,588,525,459,511,494,459,429,440,416,429,410,394,414,443,443,478,483,476,461,472,482,465,382],\"showlegend\":false,\"subplot\":\"polar\",\"theta\":[1.818,5.4544999999999995,9.091000000000001,12.727,16.3635,20.0,23.636499999999998,27.273,30.909,34.5455,38.182,41.818,45.4545,49.091,52.727000000000004,56.3635,60.0,63.6365,67.273,70.90899999999999,74.5455,78.182,81.818,85.4545,89.09100000000001,92.727,96.3635,100.0,103.6365,107.273,110.90899999999999,114.5455,118.182,121.818,125.4545,129.091,132.72699999999998,136.3635,140.0,143.6365,147.27300000000002,150.909,154.5455,158.18200000000002,161.81799999999998,165.4545,169.091,172.72699999999998,176.3635,180.0,183.6365,187.27300000000002,190.909,194.5455,198.18200000000002,201.81799999999998,205.4545,209.091,212.72699999999998,216.3635,220.0,223.6365,227.27300000000002,230.909,234.5455,238.18200000000002,241.81799999999998,245.4545,249.091,252.72699999999998,256.3635,260.0,263.63649999999996,267.273,270.909,274.54549999999995,278.182,281.818,285.45450000000005,289.091,292.727,296.36350000000004,300.0,303.63649999999996,307.273,310.909,314.54549999999995,318.182,321.818,325.45450000000005,329.091,332.727,336.36350000000004,340.0,343.63649999999996,347.273,350.909,354.54549999999995,358.182],\"type\":\"barpolar\"}],                        {\"template\":{\"data\":{\"barpolar\":[{\"marker\":{\"line\":{\"color\":\"rgb(17,17,17)\",\"width\":0.5},\"pattern\":{\"fillmode\":\"overlay\",\"size\":10,\"solidity\":0.2}},\"type\":\"barpolar\"}],\"bar\":[{\"error_x\":{\"color\":\"#f2f5fa\"},\"error_y\":{\"color\":\"#f2f5fa\"},\"marker\":{\"line\":{\"color\":\"rgb(17,17,17)\",\"width\":0.5},\"pattern\":{\"fillmode\":\"overlay\",\"size\":10,\"solidity\":0.2}},\"type\":\"bar\"}],\"carpet\":[{\"aaxis\":{\"endlinecolor\":\"#A2B1C6\",\"gridcolor\":\"#506784\",\"linecolor\":\"#506784\",\"minorgridcolor\":\"#506784\",\"startlinecolor\":\"#A2B1C6\"},\"baxis\":{\"endlinecolor\":\"#A2B1C6\",\"gridcolor\":\"#506784\",\"linecolor\":\"#506784\",\"minorgridcolor\":\"#506784\",\"startlinecolor\":\"#A2B1C6\"},\"type\":\"carpet\"}],\"choropleth\":[{\"colorbar\":{\"outlinewidth\":0,\"ticks\":\"\"},\"type\":\"choropleth\"}],\"contourcarpet\":[{\"colorbar\":{\"outlinewidth\":0,\"ticks\":\"\"},\"type\":\"contourcarpet\"}],\"contour\":[{\"colorbar\":{\"outlinewidth\":0,\"ticks\":\"\"},\"colorscale\":[[0.0,\"#0d0887\"],[0.1111111111111111,\"#46039f\"],[0.2222222222222222,\"#7201a8\"],[0.3333333333333333,\"#9c179e\"],[0.4444444444444444,\"#bd3786\"],[0.5555555555555556,\"#d8576b\"],[0.6666666666666666,\"#ed7953\"],[0.7777777777777778,\"#fb9f3a\"],[0.8888888888888888,\"#fdca26\"],[1.0,\"#f0f921\"]],\"type\":\"contour\"}],\"heatmapgl\":[{\"colorbar\":{\"outlinewidth\":0,\"ticks\":\"\"},\"colorscale\":[[0.0,\"#0d0887\"],[0.1111111111111111,\"#46039f\"],[0.2222222222222222,\"#7201a8\"],[0.3333333333333333,\"#9c179e\"],[0.4444444444444444,\"#bd3786\"],[0.5555555555555556,\"#d8576b\"],[0.6666666666666666,\"#ed7953\"],[0.7777777777777778,\"#fb9f3a\"],[0.8888888888888888,\"#fdca26\"],[1.0,\"#f0f921\"]],\"type\":\"heatmapgl\"}],\"heatmap\":[{\"colorbar\":{\"outlinewidth\":0,\"ticks\":\"\"},\"colorscale\":[[0.0,\"#0d0887\"],[0.1111111111111111,\"#46039f\"],[0.2222222222222222,\"#7201a8\"],[0.3333333333333333,\"#9c179e\"],[0.4444444444444444,\"#bd3786\"],[0.5555555555555556,\"#d8576b\"],[0.6666666666666666,\"#ed7953\"],[0.7777777777777778,\"#fb9f3a\"],[0.8888888888888888,\"#fdca26\"],[1.0,\"#f0f921\"]],\"type\":\"heatmap\"}],\"histogram2dcontour\":[{\"colorbar\":{\"outlinewidth\":0,\"ticks\":\"\"},\"colorscale\":[[0.0,\"#0d0887\"],[0.1111111111111111,\"#46039f\"],[0.2222222222222222,\"#7201a8\"],[0.3333333333333333,\"#9c179e\"],[0.4444444444444444,\"#bd3786\"],[0.5555555555555556,\"#d8576b\"],[0.6666666666666666,\"#ed7953\"],[0.7777777777777778,\"#fb9f3a\"],[0.8888888888888888,\"#fdca26\"],[1.0,\"#f0f921\"]],\"type\":\"histogram2dcontour\"}],\"histogram2d\":[{\"colorbar\":{\"outlinewidth\":0,\"ticks\":\"\"},\"colorscale\":[[0.0,\"#0d0887\"],[0.1111111111111111,\"#46039f\"],[0.2222222222222222,\"#7201a8\"],[0.3333333333333333,\"#9c179e\"],[0.4444444444444444,\"#bd3786\"],[0.5555555555555556,\"#d8576b\"],[0.6666666666666666,\"#ed7953\"],[0.7777777777777778,\"#fb9f3a\"],[0.8888888888888888,\"#fdca26\"],[1.0,\"#f0f921\"]],\"type\":\"histogram2d\"}],\"histogram\":[{\"marker\":{\"pattern\":{\"fillmode\":\"overlay\",\"size\":10,\"solidity\":0.2}},\"type\":\"histogram\"}],\"mesh3d\":[{\"colorbar\":{\"outlinewidth\":0,\"ticks\":\"\"},\"type\":\"mesh3d\"}],\"parcoords\":[{\"line\":{\"colorbar\":{\"outlinewidth\":0,\"ticks\":\"\"}},\"type\":\"parcoords\"}],\"pie\":[{\"automargin\":true,\"type\":\"pie\"}],\"scatter3d\":[{\"line\":{\"colorbar\":{\"outlinewidth\":0,\"ticks\":\"\"}},\"marker\":{\"colorbar\":{\"outlinewidth\":0,\"ticks\":\"\"}},\"type\":\"scatter3d\"}],\"scattercarpet\":[{\"marker\":{\"colorbar\":{\"outlinewidth\":0,\"ticks\":\"\"}},\"type\":\"scattercarpet\"}],\"scattergeo\":[{\"marker\":{\"colorbar\":{\"outlinewidth\":0,\"ticks\":\"\"}},\"type\":\"scattergeo\"}],\"scattergl\":[{\"marker\":{\"line\":{\"color\":\"#283442\"}},\"type\":\"scattergl\"}],\"scattermapbox\":[{\"marker\":{\"colorbar\":{\"outlinewidth\":0,\"ticks\":\"\"}},\"type\":\"scattermapbox\"}],\"scatterpolargl\":[{\"marker\":{\"colorbar\":{\"outlinewidth\":0,\"ticks\":\"\"}},\"type\":\"scatterpolargl\"}],\"scatterpolar\":[{\"marker\":{\"colorbar\":{\"outlinewidth\":0,\"ticks\":\"\"}},\"type\":\"scatterpolar\"}],\"scatter\":[{\"marker\":{\"line\":{\"color\":\"#283442\"}},\"type\":\"scatter\"}],\"scatterternary\":[{\"marker\":{\"colorbar\":{\"outlinewidth\":0,\"ticks\":\"\"}},\"type\":\"scatterternary\"}],\"surface\":[{\"colorbar\":{\"outlinewidth\":0,\"ticks\":\"\"},\"colorscale\":[[0.0,\"#0d0887\"],[0.1111111111111111,\"#46039f\"],[0.2222222222222222,\"#7201a8\"],[0.3333333333333333,\"#9c179e\"],[0.4444444444444444,\"#bd3786\"],[0.5555555555555556,\"#d8576b\"],[0.6666666666666666,\"#ed7953\"],[0.7777777777777778,\"#fb9f3a\"],[0.8888888888888888,\"#fdca26\"],[1.0,\"#f0f921\"]],\"type\":\"surface\"}],\"table\":[{\"cells\":{\"fill\":{\"color\":\"#506784\"},\"line\":{\"color\":\"rgb(17,17,17)\"}},\"header\":{\"fill\":{\"color\":\"#2a3f5f\"},\"line\":{\"color\":\"rgb(17,17,17)\"}},\"type\":\"table\"}]},\"layout\":{\"annotationdefaults\":{\"arrowcolor\":\"#f2f5fa\",\"arrowhead\":0,\"arrowwidth\":1},\"autotypenumbers\":\"strict\",\"coloraxis\":{\"colorbar\":{\"outlinewidth\":0,\"ticks\":\"\"}},\"colorscale\":{\"diverging\":[[0,\"#8e0152\"],[0.1,\"#c51b7d\"],[0.2,\"#de77ae\"],[0.3,\"#f1b6da\"],[0.4,\"#fde0ef\"],[0.5,\"#f7f7f7\"],[0.6,\"#e6f5d0\"],[0.7,\"#b8e186\"],[0.8,\"#7fbc41\"],[0.9,\"#4d9221\"],[1,\"#276419\"]],\"sequential\":[[0.0,\"#0d0887\"],[0.1111111111111111,\"#46039f\"],[0.2222222222222222,\"#7201a8\"],[0.3333333333333333,\"#9c179e\"],[0.4444444444444444,\"#bd3786\"],[0.5555555555555556,\"#d8576b\"],[0.6666666666666666,\"#ed7953\"],[0.7777777777777778,\"#fb9f3a\"],[0.8888888888888888,\"#fdca26\"],[1.0,\"#f0f921\"]],\"sequentialminus\":[[0.0,\"#0d0887\"],[0.1111111111111111,\"#46039f\"],[0.2222222222222222,\"#7201a8\"],[0.3333333333333333,\"#9c179e\"],[0.4444444444444444,\"#bd3786\"],[0.5555555555555556,\"#d8576b\"],[0.6666666666666666,\"#ed7953\"],[0.7777777777777778,\"#fb9f3a\"],[0.8888888888888888,\"#fdca26\"],[1.0,\"#f0f921\"]]},\"colorway\":[\"#636efa\",\"#EF553B\",\"#00cc96\",\"#ab63fa\",\"#FFA15A\",\"#19d3f3\",\"#FF6692\",\"#B6E880\",\"#FF97FF\",\"#FECB52\"],\"font\":{\"color\":\"#f2f5fa\"},\"geo\":{\"bgcolor\":\"rgb(17,17,17)\",\"lakecolor\":\"rgb(17,17,17)\",\"landcolor\":\"rgb(17,17,17)\",\"showlakes\":true,\"showland\":true,\"subunitcolor\":\"#506784\"},\"hoverlabel\":{\"align\":\"left\"},\"hovermode\":\"closest\",\"mapbox\":{\"style\":\"dark\"},\"paper_bgcolor\":\"rgb(17,17,17)\",\"plot_bgcolor\":\"rgb(17,17,17)\",\"polar\":{\"angularaxis\":{\"gridcolor\":\"#506784\",\"linecolor\":\"#506784\",\"ticks\":\"\"},\"bgcolor\":\"rgb(17,17,17)\",\"radialaxis\":{\"gridcolor\":\"#506784\",\"linecolor\":\"#506784\",\"ticks\":\"\"}},\"scene\":{\"xaxis\":{\"backgroundcolor\":\"rgb(17,17,17)\",\"gridcolor\":\"#506784\",\"gridwidth\":2,\"linecolor\":\"#506784\",\"showbackground\":true,\"ticks\":\"\",\"zerolinecolor\":\"#C8D4E3\"},\"yaxis\":{\"backgroundcolor\":\"rgb(17,17,17)\",\"gridcolor\":\"#506784\",\"gridwidth\":2,\"linecolor\":\"#506784\",\"showbackground\":true,\"ticks\":\"\",\"zerolinecolor\":\"#C8D4E3\"},\"zaxis\":{\"backgroundcolor\":\"rgb(17,17,17)\",\"gridcolor\":\"#506784\",\"gridwidth\":2,\"linecolor\":\"#506784\",\"showbackground\":true,\"ticks\":\"\",\"zerolinecolor\":\"#C8D4E3\"}},\"shapedefaults\":{\"line\":{\"color\":\"#f2f5fa\"}},\"sliderdefaults\":{\"bgcolor\":\"#C8D4E3\",\"bordercolor\":\"rgb(17,17,17)\",\"borderwidth\":1,\"tickwidth\":0},\"ternary\":{\"aaxis\":{\"gridcolor\":\"#506784\",\"linecolor\":\"#506784\",\"ticks\":\"\"},\"baxis\":{\"gridcolor\":\"#506784\",\"linecolor\":\"#506784\",\"ticks\":\"\"},\"bgcolor\":\"rgb(17,17,17)\",\"caxis\":{\"gridcolor\":\"#506784\",\"linecolor\":\"#506784\",\"ticks\":\"\"}},\"title\":{\"x\":0.05},\"updatemenudefaults\":{\"bgcolor\":\"#506784\",\"borderwidth\":0},\"xaxis\":{\"automargin\":true,\"gridcolor\":\"#283442\",\"linecolor\":\"#506784\",\"ticks\":\"\",\"title\":{\"standoff\":15},\"zerolinecolor\":\"#283442\",\"zerolinewidth\":2},\"yaxis\":{\"automargin\":true,\"gridcolor\":\"#283442\",\"linecolor\":\"#506784\",\"ticks\":\"\",\"title\":{\"standoff\":15},\"zerolinecolor\":\"#283442\",\"zerolinewidth\":2}}},\"polar\":{\"domain\":{\"x\":[0.0,1.0],\"y\":[0.0,1.0]},\"angularaxis\":{\"direction\":\"clockwise\",\"rotation\":90}},\"coloraxis\":{\"colorbar\":{\"title\":{\"text\":\"WDU168_mean\"}},\"colorscale\":[[0.0,\"#0d0887\"],[0.1111111111111111,\"#46039f\"],[0.2222222222222222,\"#7201a8\"],[0.3333333333333333,\"#9c179e\"],[0.4444444444444444,\"#bd3786\"],[0.5555555555555556,\"#d8576b\"],[0.6666666666666666,\"#ed7953\"],[0.7777777777777778,\"#fb9f3a\"],[0.8888888888888888,\"#fdca26\"],[1.0,\"#f0f921\"]]},\"legend\":{\"tracegroupgap\":0},\"margin\":{\"t\":60},\"barmode\":\"relative\"},                        {\"responsive\": true}                    ).then(function(){\n",
       "                            \n",
       "var gd = document.getElementById('fbecbbd5-0856-4871-a9ed-cc1604aaa44e');\n",
       "var x = new MutationObserver(function (mutations, observer) {{\n",
       "        var display = window.getComputedStyle(gd).display;\n",
       "        if (!display || display === 'none') {{\n",
       "            console.log([gd, 'removed!']);\n",
       "            Plotly.purge(gd);\n",
       "            observer.disconnect();\n",
       "        }}\n",
       "}});\n",
       "\n",
       "// Listen for the removal of the full notebook cells\n",
       "var notebookContainer = gd.closest('#notebook-container');\n",
       "if (notebookContainer) {{\n",
       "    x.observe(notebookContainer, {childList: true});\n",
       "}}\n",
       "\n",
       "// Listen for the clearing of the current output cell\n",
       "var outputEl = gd.closest('.output');\n",
       "if (outputEl) {{\n",
       "    x.observe(outputEl, {childList: true});\n",
       "}}\n",
       "\n",
       "                        })                };                });            </script>        </div>"
      ]
     },
     "metadata": {},
     "output_type": "display_data"
    }
   ],
   "source": [
    "bins_dir = np.linspace(0,360, 100)\n",
    "_df_meteo = df_all.copy()\n",
    "_df_meteo['WDU168_mid']= pd.cut(_df_meteo['HYY_META.WDU168'], bins_dir).apply(lambda x: x.mid)\n",
    "\n",
    "df_freq = _df_meteo.groupby('WDU168_mid').count()\n",
    "\n",
    "df_mean = _df_meteo.groupby('WDU168_mid').mean()\n",
    "\n",
    "df_comb = pd.DataFrame(index=df_freq.index)\n",
    "\n",
    "df_comb['WDU168_freq'] = df_freq['HYY_META.WDU168']\n",
    "\n",
    "df_comb['WDU168_mean'] = df_freq['HYY_META.WSU168']\n",
    "\n",
    "bins_dir = np.linspace(0,360)\n",
    "\n",
    "_df_meteo['WSU168_mid']= pd.cut(_df_meteo['HYY_META.WSU168'], bins_dir).apply(lambda x: x.mid)\n",
    "\n",
    "import plotly.express as px\n",
    "\n",
    "df = _df_meteo\n",
    "fig = px.bar_polar(df_comb.reset_index(), r='WDU168_freq', theta='WDU168_mid',\n",
    "                   color=\"WDU168_mean\", \n",
    "                   template=\"plotly_dark\",\n",
    "                   color_discrete_sequence= px.colors.sequential.Plasma_r)\n",
    "fig.show()"
   ]
  },
  {
   "cell_type": "markdown",
   "id": "a821eee9-9e72-49eb-aef8-cf56092503df",
   "metadata": {},
   "source": [
    "## Write to file"
   ]
  },
  {
   "cell_type": "code",
   "execution_count": 325,
   "id": "085e9795-d275-4098-b0eb-17ec13c8006a",
   "metadata": {},
   "outputs": [],
   "source": [
    "df_all.to_csv(path_comb_data_full_time)"
   ]
  },
  {
   "cell_type": "code",
   "execution_count": 326,
   "id": "b7a23f9f-ace8-4699-9e82-ef2593c66594",
   "metadata": {},
   "outputs": [
    {
     "data": {
      "text/plain": [
       "PosixPath('/proj/bolinc/users/x_sarbl/analysis/BS-FDBCK/Data/SMR/processed/SMEAR_data_comb_hourly.csv')"
      ]
     },
     "execution_count": 326,
     "metadata": {},
     "output_type": "execute_result"
    }
   ],
   "source": [
    "path_comb_data_full_time"
   ]
  },
  {
   "cell_type": "code",
   "execution_count": null,
   "id": "1df51f7c-d1c3-4675-b8ad-ee4c003cc3ec",
   "metadata": {},
   "outputs": [],
   "source": []
  }
 ],
 "metadata": {
  "kernelspec": {
   "display_name": "Python 3 (ipykernel)",
   "language": "python",
   "name": "python3"
  },
  "language_info": {
   "codemirror_mode": {
    "name": "ipython",
    "version": 3
   },
   "file_extension": ".py",
   "mimetype": "text/x-python",
   "name": "python",
   "nbconvert_exporter": "python",
   "pygments_lexer": "ipython3",
   "version": "3.8.10"
  }
 },
 "nbformat": 4,
 "nbformat_minor": 5
}
