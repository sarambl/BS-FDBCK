{
 "cells": [
  {
   "cell_type": "code",
   "execution_count": null,
   "id": "618c0de6-28ef-4b0a-b875-7b8ec7598ada",
   "metadata": {},
   "outputs": [],
   "source": []
  },
  {
   "cell_type": "markdown",
   "id": "3183c351-e0dc-4d6e-860a-644ed114cdaa",
   "metadata": {},
   "source": [
    "# LOAD ATTO station"
   ]
  },
  {
   "cell_type": "code",
   "execution_count": 1,
   "id": "8eb96eec-20b9-40ec-977e-c34cc0148db4",
   "metadata": {},
   "outputs": [
    {
     "name": "stdout",
     "output_type": "stream",
     "text": [
      "/proj/bolinc/users/x_sarbl/analysis/BS-FDBCK/bs_fdbck/data_info/area_defs.csv\n",
      "The autoreload extension is already loaded. To reload it, use:\n",
      "  %reload_ext autoreload\n"
     ]
    }
   ],
   "source": [
    "%load_ext autoreload\n",
    "\n",
    "%autoreload 2\n",
    "\n",
    "from pathlib import Path\n",
    "from bs_fdbck.util.BSOA_datamanip import ds2df_inc_preprocessing, ds2df_echam\n",
    "from bs_fdbck.util.collocate.collocateLONLAToutput import CollocateLONLATout\n",
    "from bs_fdbck.util.collocate.collocate_echam_salsa import CollocateModelEcham\n",
    "import useful_scit.util.log as log\n",
    "from bs_fdbck.util.plot.BSOA_plots import make_cool_grid, plot_scatter\n",
    "log.ger.setLevel(log.log.INFO)\n",
    "import time\n",
    "import xarray as xr\n",
    "import matplotlib.pyplot as plt"
   ]
  },
  {
   "cell_type": "code",
   "execution_count": 2,
   "id": "5bf75c71-f6a1-4868-bd14-84586b1ce372",
   "metadata": {
    "lines_to_next_cell": 2
   },
   "outputs": [],
   "source": [
    "import pandas as pd"
   ]
  },
  {
   "cell_type": "code",
   "execution_count": 3,
   "id": "7a262d49-a359-4bf4-bdfc-b8a55774fe4e",
   "metadata": {},
   "outputs": [],
   "source": [
    "from bs_fdbck.constants import path_measurement_data"
   ]
  },
  {
   "cell_type": "code",
   "execution_count": null,
   "id": "48999058-4d9d-433b-84eb-e6d642bcd8e8",
   "metadata": {},
   "outputs": [],
   "source": []
  },
  {
   "cell_type": "code",
   "execution_count": 4,
   "id": "bf603850-13b1-45b4-8031-5237346a5774",
   "metadata": {},
   "outputs": [],
   "source": [
    "\n",
    "import numpy as np\n",
    "\n"
   ]
  },
  {
   "cell_type": "code",
   "execution_count": 5,
   "id": "d257cbee-a3b7-4c1a-bc47-4bd7ac8a4f39",
   "metadata": {},
   "outputs": [],
   "source": [
    "\n",
    "select_station = 'ATTO'\n",
    "model_lev_i = -1"
   ]
  },
  {
   "cell_type": "code",
   "execution_count": 6,
   "id": "6c67ddf6-92d3-4922-9b0f-d6efa0fcfe71",
   "metadata": {},
   "outputs": [],
   "source": [
    "plot_path = Path(f'Plots/{select_station}')"
   ]
  },
  {
   "cell_type": "code",
   "execution_count": 7,
   "id": "de018784-26c1-45ba-bcdd-d6539dc0bf8f",
   "metadata": {
    "pycharm": {
     "name": "#%% \n"
    }
   },
   "outputs": [],
   "source": [
    "def make_fn_scat(case, v_x, v_y):\n",
    "    _x = v_x.split('(')[0]\n",
    "    _y = v_y.split('(')[0]\n",
    "    f = f'scat_all_years_echam_noresm_{case}_{_x}_{_y}-ATTO_ukesm.png'\n",
    "    return plot_path /f"
   ]
  },
  {
   "cell_type": "code",
   "execution_count": 8,
   "id": "69907f68-b9db-4757-9331-2e51824c858a",
   "metadata": {},
   "outputs": [],
   "source": [
    "plot_path.mkdir(exist_ok=True, parents=True)"
   ]
  },
  {
   "cell_type": "code",
   "execution_count": 9,
   "id": "eb6fa44e-e17b-4655-94a4-77e1c3486c6a",
   "metadata": {},
   "outputs": [
    {
     "data": {
      "text/plain": [
       "PosixPath('Plots/ATTO')"
      ]
     },
     "execution_count": 9,
     "metadata": {},
     "output_type": "execute_result"
    }
   ],
   "source": [
    "plot_path"
   ]
  },
  {
   "cell_type": "code",
   "execution_count": 10,
   "id": "abcf9ca0-8ac6-4acb-acdc-983cd92d2089",
   "metadata": {
    "lines_to_next_cell": 2
   },
   "outputs": [],
   "source": [
    "from bs_fdbck.constants import path_measurement_data\n",
    "postproc_data = path_measurement_data /'model_station'/select_station\n",
    "postproc_data_obs = path_measurement_data /select_station/'processed'"
   ]
  },
  {
   "cell_type": "code",
   "execution_count": 11,
   "id": "e9c5c52d-581b-431e-af59-1bf0df6093ab",
   "metadata": {},
   "outputs": [],
   "source": [
    "fn_obs_comb_data_full_time =postproc_data_obs /'ATTO_data_comb_hourly.nc'"
   ]
  },
  {
   "cell_type": "markdown",
   "id": "1abf300a-45a8-4faf-9e04-6f1631b5f2f1",
   "metadata": {},
   "source": [
    "# Load observational data: "
   ]
  },
  {
   "cell_type": "code",
   "execution_count": 12,
   "id": "8acc70ed-55d5-471e-8bbd-37c7edb18bd7",
   "metadata": {},
   "outputs": [],
   "source": [
    "postproc_data_obs = path_measurement_data /'ATTO'/'processed'"
   ]
  },
  {
   "cell_type": "code",
   "execution_count": 13,
   "id": "4276605d-0db6-493a-af6b-714e1ef819f8",
   "metadata": {},
   "outputs": [
    {
     "name": "stderr",
     "output_type": "stream",
     "text": [
      "/home/x_sarbl/miniconda3/envs/env_analys/lib/python3.8/site-packages/xarray/backends/plugins.py:61: RuntimeWarning: Engine 'rasterio' loading failed:\n",
      "(click 8.0.1 (/home/x_sarbl/miniconda3/envs/env_analys/lib/python3.8/site-packages), Requirement.parse('click<8,>=4.0'), {'rasterio'})\n",
      "  warnings.warn(f\"Engine {name!r} loading failed:\\n{ex}\", RuntimeWarning)\n"
     ]
    }
   ],
   "source": [
    "\n",
    "\n",
    "ds_ATTO = xr.open_dataset(fn_obs_comb_data_full_time)"
   ]
  },
  {
   "cell_type": "code",
   "execution_count": 14,
   "id": "d4ac7bfe-e539-4ef1-8bcd-5d5320a97cfd",
   "metadata": {},
   "outputs": [
    {
     "data": {
      "text/plain": [
       "PosixPath('/proj/bolinc/users/x_sarbl/analysis/BS-FDBCK/Data/ATTO/processed/ATTO_data_comb_hourly.nc')"
      ]
     },
     "execution_count": 14,
     "metadata": {},
     "output_type": "execute_result"
    }
   ],
   "source": [
    "fn_obs_comb_data_full_time"
   ]
  },
  {
   "cell_type": "markdown",
   "id": "168f7e5b-00e7-4088-bdfc-fcad199589eb",
   "metadata": {
    "tags": []
   },
   "source": [
    "# Read in model data:"
   ]
  },
  {
   "cell_type": "code",
   "execution_count": 15,
   "id": "52ff09ff-9bb7-41bb-85e1-e160a42a211d",
   "metadata": {
    "lines_to_next_cell": 2
   },
   "outputs": [],
   "source": [
    "models = ['ECHAM-SALSA','NorESM', 'EC-Earth', 'UKESM']\n",
    "mod2cases = {'ECHAM-SALSA' : ['SALSA_BSOA_feedback'],\n",
    "             'NorESM' : ['OsloAero_intBVOC_f09_f09_mg17_fssp'],\n",
    "             'EC-Earth' : ['ECE3_output_Sara'],\n",
    "             'UKESM' : ['AEROCOMTRAJ'],\n",
    "             'Observations':['Obs'],\n",
    "            }\n",
    "di_mod2cases = mod2cases.copy()"
   ]
  },
  {
   "cell_type": "code",
   "execution_count": 16,
   "id": "a478be08-dffa-445d-b086-1edb5f9b0f0e",
   "metadata": {},
   "outputs": [],
   "source": [
    "select_station='ATTO'"
   ]
  },
  {
   "cell_type": "code",
   "execution_count": 17,
   "id": "f2d671d4-bc9c-469b-8a84-483842b3c007",
   "metadata": {},
   "outputs": [
    {
     "name": "stdout",
     "output_type": "stream",
     "text": [
      "ECHAM-SALSA\n",
      "ECHAM-SALSA SALSA_BSOA_feedback\n",
      "/proj/bolinc/users/x_sarbl/analysis/BS-FDBCK/Data/model_station/ATTO/ATTO_station_ECHAM-SALSA_SALSA_BSOA_feedback_ilev-1.csv\n",
      "NorESM\n",
      "NorESM OsloAero_intBVOC_f09_f09_mg17_fssp\n",
      "/proj/bolinc/users/x_sarbl/analysis/BS-FDBCK/Data/model_station/ATTO/ATTO_station_NorESM_OsloAero_intBVOC_f09_f09_mg17_fssp_ilev-1.csv\n",
      "EC-Earth\n",
      "EC-Earth ECE3_output_Sara\n",
      "/proj/bolinc/users/x_sarbl/analysis/BS-FDBCK/Data/model_station/ATTO/ATTO_station_EC-Earth_ECE3_output_Sara_ilev-1.csv\n",
      "UKESM\n",
      "UKESM AEROCOMTRAJ\n",
      "/proj/bolinc/users/x_sarbl/analysis/BS-FDBCK/Data/model_station/ATTO/ATTO_station_UKESM_AEROCOMTRAJ_ilev-1.csv\n"
     ]
    }
   ],
   "source": [
    "dic_df_pre=dict()\n",
    "for mod in models:\n",
    "    print(mod)\n",
    "    dic_df_pre[mod] = dict()\n",
    "    for ca in mod2cases[mod]:\n",
    "        print(mod, ca)\n",
    "        if model_lev_i !=-2:\n",
    "            fn_out = postproc_data/f'{select_station}_station_{mod}_{ca}_ilev{model_lev_i}.csv'\n",
    "        else:\n",
    "            fn_out = postproc_data/f'{select_station}_station_{mod}_{ca}.csv'\n",
    "        #fn_out = postproc_data/f'{select_station}_station_{mod}_{ca}.csv'\n",
    "        print(fn_out)\n",
    "        dic_df_pre[mod][ca] = pd.read_csv(fn_out, index_col=0)\n",
    "        dic_df_pre[mod][ca].index = pd.to_datetime(dic_df_pre[mod][ca].index)\n",
    "        #dic_df_mod_case[mod][ca].to_csv(fn_out)"
   ]
  },
  {
   "cell_type": "markdown",
   "id": "c7211121-23a8-4875-83a9-f1c45bf56f69",
   "metadata": {},
   "source": [
    "## Read in observations"
   ]
  },
  {
   "cell_type": "code",
   "execution_count": 18,
   "id": "ed2353c3-6692-4aaa-92cc-ac6c94db8f08",
   "metadata": {},
   "outputs": [],
   "source": [
    "ds_ATTO = xr.open_dataset(fn_obs_comb_data_full_time, engine='netcdf4')"
   ]
  },
  {
   "cell_type": "code",
   "execution_count": 19,
   "id": "e613de83-810e-4973-9a19-caba03a912ab",
   "metadata": {},
   "outputs": [],
   "source": [
    "ds_ATTO = ds_ATTO.sel(time_traj=0)"
   ]
  },
  {
   "cell_type": "code",
   "execution_count": 20,
   "id": "4e7c14b4-ab2c-4cd6-8e40-bf26e11ef13a",
   "metadata": {},
   "outputs": [
    {
     "data": {
      "text/html": [
       "<div>\n",
       "<style scoped>\n",
       "    .dataframe tbody tr th:only-of-type {\n",
       "        vertical-align: middle;\n",
       "    }\n",
       "\n",
       "    .dataframe tbody tr th {\n",
       "        vertical-align: top;\n",
       "    }\n",
       "\n",
       "    .dataframe thead th {\n",
       "        text-align: right;\n",
       "    }\n",
       "</style>\n",
       "<table border=\"1\" class=\"dataframe\">\n",
       "  <thead>\n",
       "    <tr style=\"text-align: right;\">\n",
       "      <th></th>\n",
       "      <th>Pressure_reanalysis</th>\n",
       "      <th>Potential_Temperature_reanalysis</th>\n",
       "      <th>Temperature_reanalysis</th>\n",
       "      <th>Rainfall</th>\n",
       "      <th>Mixing_Depth</th>\n",
       "      <th>Relative_Humidity</th>\n",
       "      <th>Specific_Humidity_reanalysis</th>\n",
       "      <th>Mixing_Ratio</th>\n",
       "      <th>Solar_Radiation</th>\n",
       "      <th>condensation_sink</th>\n",
       "      <th>N50-500</th>\n",
       "      <th>N100-500</th>\n",
       "      <th>N200-500</th>\n",
       "      <th>timeUTC-3</th>\n",
       "      <th>pressure</th>\n",
       "      <th>temperature</th>\n",
       "      <th>humidity</th>\n",
       "      <th>precip</th>\n",
       "      <th>OA</th>\n",
       "      <th>time_traj</th>\n",
       "    </tr>\n",
       "    <tr>\n",
       "      <th>time</th>\n",
       "      <th></th>\n",
       "      <th></th>\n",
       "      <th></th>\n",
       "      <th></th>\n",
       "      <th></th>\n",
       "      <th></th>\n",
       "      <th></th>\n",
       "      <th></th>\n",
       "      <th></th>\n",
       "      <th></th>\n",
       "      <th></th>\n",
       "      <th></th>\n",
       "      <th></th>\n",
       "      <th></th>\n",
       "      <th></th>\n",
       "      <th></th>\n",
       "      <th></th>\n",
       "      <th></th>\n",
       "      <th></th>\n",
       "      <th></th>\n",
       "    </tr>\n",
       "  </thead>\n",
       "  <tbody>\n",
       "    <tr>\n",
       "      <th>2014-03-10 15:00:00</th>\n",
       "      <td>974.8</td>\n",
       "      <td>305.5</td>\n",
       "      <td>303.3</td>\n",
       "      <td>0.0</td>\n",
       "      <td>1437.6</td>\n",
       "      <td>55.1</td>\n",
       "      <td>15.1</td>\n",
       "      <td>15.4</td>\n",
       "      <td>681.2</td>\n",
       "      <td>0.001503</td>\n",
       "      <td>316.350342</td>\n",
       "      <td>259.764876</td>\n",
       "      <td>123.407339</td>\n",
       "      <td>2014-03-10 16:00:00</td>\n",
       "      <td>986.86</td>\n",
       "      <td>31.46</td>\n",
       "      <td>57.56</td>\n",
       "      <td>0.0</td>\n",
       "      <td>0.990</td>\n",
       "      <td>0</td>\n",
       "    </tr>\n",
       "    <tr>\n",
       "      <th>2014-03-10 16:00:00</th>\n",
       "      <td>974.1</td>\n",
       "      <td>305.5</td>\n",
       "      <td>303.2</td>\n",
       "      <td>0.0</td>\n",
       "      <td>1268.8</td>\n",
       "      <td>56.0</td>\n",
       "      <td>15.2</td>\n",
       "      <td>15.6</td>\n",
       "      <td>596.6</td>\n",
       "      <td>0.001285</td>\n",
       "      <td>288.441016</td>\n",
       "      <td>221.149397</td>\n",
       "      <td>102.265441</td>\n",
       "      <td>2014-03-10 17:00:00</td>\n",
       "      <td>986.21</td>\n",
       "      <td>31.62</td>\n",
       "      <td>59.16</td>\n",
       "      <td>0.0</td>\n",
       "      <td>1.620</td>\n",
       "      <td>0</td>\n",
       "    </tr>\n",
       "    <tr>\n",
       "      <th>2014-03-10 17:00:00</th>\n",
       "      <td>974.9</td>\n",
       "      <td>304.5</td>\n",
       "      <td>302.3</td>\n",
       "      <td>0.0</td>\n",
       "      <td>863.0</td>\n",
       "      <td>60.5</td>\n",
       "      <td>15.6</td>\n",
       "      <td>16.0</td>\n",
       "      <td>504.7</td>\n",
       "      <td>0.001317</td>\n",
       "      <td>294.872421</td>\n",
       "      <td>223.659092</td>\n",
       "      <td>104.508354</td>\n",
       "      <td>2014-03-10 18:00:00</td>\n",
       "      <td>986.25</td>\n",
       "      <td>30.01</td>\n",
       "      <td>66.29</td>\n",
       "      <td>0.0</td>\n",
       "      <td>1.660</td>\n",
       "      <td>0</td>\n",
       "    </tr>\n",
       "    <tr>\n",
       "      <th>2014-03-10 18:00:00</th>\n",
       "      <td>975.8</td>\n",
       "      <td>303.5</td>\n",
       "      <td>301.4</td>\n",
       "      <td>0.0</td>\n",
       "      <td>453.1</td>\n",
       "      <td>65.1</td>\n",
       "      <td>15.9</td>\n",
       "      <td>16.3</td>\n",
       "      <td>412.7</td>\n",
       "      <td>0.001469</td>\n",
       "      <td>323.442362</td>\n",
       "      <td>243.316332</td>\n",
       "      <td>120.456843</td>\n",
       "      <td>2014-03-10 19:00:00</td>\n",
       "      <td>986.47</td>\n",
       "      <td>28.18</td>\n",
       "      <td>70.54</td>\n",
       "      <td>0.0</td>\n",
       "      <td>0.985</td>\n",
       "      <td>0</td>\n",
       "    </tr>\n",
       "    <tr>\n",
       "      <th>2014-03-10 19:00:00</th>\n",
       "      <td>976.6</td>\n",
       "      <td>302.5</td>\n",
       "      <td>300.5</td>\n",
       "      <td>0.0</td>\n",
       "      <td>43.2</td>\n",
       "      <td>69.7</td>\n",
       "      <td>16.1</td>\n",
       "      <td>16.6</td>\n",
       "      <td>320.7</td>\n",
       "      <td>0.001441</td>\n",
       "      <td>323.533283</td>\n",
       "      <td>236.004666</td>\n",
       "      <td>116.970997</td>\n",
       "      <td>2014-03-10 20:00:00</td>\n",
       "      <td>987.01</td>\n",
       "      <td>27.40</td>\n",
       "      <td>82.67</td>\n",
       "      <td>0.0</td>\n",
       "      <td>2.420</td>\n",
       "      <td>0</td>\n",
       "    </tr>\n",
       "    <tr>\n",
       "      <th>...</th>\n",
       "      <td>...</td>\n",
       "      <td>...</td>\n",
       "      <td>...</td>\n",
       "      <td>...</td>\n",
       "      <td>...</td>\n",
       "      <td>...</td>\n",
       "      <td>...</td>\n",
       "      <td>...</td>\n",
       "      <td>...</td>\n",
       "      <td>...</td>\n",
       "      <td>...</td>\n",
       "      <td>...</td>\n",
       "      <td>...</td>\n",
       "      <td>...</td>\n",
       "      <td>...</td>\n",
       "      <td>...</td>\n",
       "      <td>...</td>\n",
       "      <td>...</td>\n",
       "      <td>...</td>\n",
       "      <td>...</td>\n",
       "    </tr>\n",
       "    <tr>\n",
       "      <th>2019-01-28 05:00:00</th>\n",
       "      <td>979.4</td>\n",
       "      <td>298.0</td>\n",
       "      <td>296.2</td>\n",
       "      <td>0.0</td>\n",
       "      <td>254.7</td>\n",
       "      <td>85.8</td>\n",
       "      <td>15.3</td>\n",
       "      <td>15.7</td>\n",
       "      <td>18.9</td>\n",
       "      <td>0.000014</td>\n",
       "      <td>2.886702</td>\n",
       "      <td>2.418678</td>\n",
       "      <td>1.160755</td>\n",
       "      <td>2019-01-28 06:00:00</td>\n",
       "      <td>NaN</td>\n",
       "      <td>NaN</td>\n",
       "      <td>NaN</td>\n",
       "      <td>NaN</td>\n",
       "      <td>NaN</td>\n",
       "      <td>0</td>\n",
       "    </tr>\n",
       "    <tr>\n",
       "      <th>2019-01-28 06:00:00</th>\n",
       "      <td>980.0</td>\n",
       "      <td>297.9</td>\n",
       "      <td>296.2</td>\n",
       "      <td>0.0</td>\n",
       "      <td>363.3</td>\n",
       "      <td>88.0</td>\n",
       "      <td>15.7</td>\n",
       "      <td>16.1</td>\n",
       "      <td>38.1</td>\n",
       "      <td>0.000013</td>\n",
       "      <td>2.189876</td>\n",
       "      <td>2.165097</td>\n",
       "      <td>1.267096</td>\n",
       "      <td>2019-01-28 07:00:00</td>\n",
       "      <td>NaN</td>\n",
       "      <td>NaN</td>\n",
       "      <td>NaN</td>\n",
       "      <td>NaN</td>\n",
       "      <td>NaN</td>\n",
       "      <td>0</td>\n",
       "    </tr>\n",
       "    <tr>\n",
       "      <th>2019-01-28 07:00:00</th>\n",
       "      <td>980.7</td>\n",
       "      <td>297.8</td>\n",
       "      <td>296.1</td>\n",
       "      <td>0.0</td>\n",
       "      <td>472.0</td>\n",
       "      <td>90.2</td>\n",
       "      <td>16.0</td>\n",
       "      <td>16.4</td>\n",
       "      <td>57.4</td>\n",
       "      <td>0.000011</td>\n",
       "      <td>2.075599</td>\n",
       "      <td>1.882887</td>\n",
       "      <td>0.938360</td>\n",
       "      <td>2019-01-28 08:00:00</td>\n",
       "      <td>NaN</td>\n",
       "      <td>NaN</td>\n",
       "      <td>NaN</td>\n",
       "      <td>NaN</td>\n",
       "      <td>NaN</td>\n",
       "      <td>0</td>\n",
       "    </tr>\n",
       "    <tr>\n",
       "      <th>2019-01-28 11:00:00</th>\n",
       "      <td>980.7</td>\n",
       "      <td>301.9</td>\n",
       "      <td>300.2</td>\n",
       "      <td>0.0</td>\n",
       "      <td>1336.6</td>\n",
       "      <td>67.9</td>\n",
       "      <td>15.4</td>\n",
       "      <td>15.8</td>\n",
       "      <td>462.4</td>\n",
       "      <td>0.000026</td>\n",
       "      <td>7.112076</td>\n",
       "      <td>4.941434</td>\n",
       "      <td>1.551557</td>\n",
       "      <td>2019-01-28 12:00:00</td>\n",
       "      <td>NaN</td>\n",
       "      <td>NaN</td>\n",
       "      <td>NaN</td>\n",
       "      <td>NaN</td>\n",
       "      <td>NaN</td>\n",
       "      <td>0</td>\n",
       "    </tr>\n",
       "    <tr>\n",
       "      <th>2019-01-28 14:00:00</th>\n",
       "      <td>978.3</td>\n",
       "      <td>304.3</td>\n",
       "      <td>302.4</td>\n",
       "      <td>0.0</td>\n",
       "      <td>1589.4</td>\n",
       "      <td>57.4</td>\n",
       "      <td>14.8</td>\n",
       "      <td>15.2</td>\n",
       "      <td>488.3</td>\n",
       "      <td>0.000017</td>\n",
       "      <td>1.090769</td>\n",
       "      <td>1.090769</td>\n",
       "      <td>1.090769</td>\n",
       "      <td>2019-01-28 15:00:00</td>\n",
       "      <td>NaN</td>\n",
       "      <td>NaN</td>\n",
       "      <td>NaN</td>\n",
       "      <td>NaN</td>\n",
       "      <td>NaN</td>\n",
       "      <td>0</td>\n",
       "    </tr>\n",
       "  </tbody>\n",
       "</table>\n",
       "<p>25448 rows × 20 columns</p>\n",
       "</div>"
      ],
      "text/plain": [
       "                     Pressure_reanalysis  Potential_Temperature_reanalysis  \\\n",
       "time                                                                         \n",
       "2014-03-10 15:00:00                974.8                             305.5   \n",
       "2014-03-10 16:00:00                974.1                             305.5   \n",
       "2014-03-10 17:00:00                974.9                             304.5   \n",
       "2014-03-10 18:00:00                975.8                             303.5   \n",
       "2014-03-10 19:00:00                976.6                             302.5   \n",
       "...                                  ...                               ...   \n",
       "2019-01-28 05:00:00                979.4                             298.0   \n",
       "2019-01-28 06:00:00                980.0                             297.9   \n",
       "2019-01-28 07:00:00                980.7                             297.8   \n",
       "2019-01-28 11:00:00                980.7                             301.9   \n",
       "2019-01-28 14:00:00                978.3                             304.3   \n",
       "\n",
       "                     Temperature_reanalysis  Rainfall  Mixing_Depth  \\\n",
       "time                                                                  \n",
       "2014-03-10 15:00:00                   303.3       0.0        1437.6   \n",
       "2014-03-10 16:00:00                   303.2       0.0        1268.8   \n",
       "2014-03-10 17:00:00                   302.3       0.0         863.0   \n",
       "2014-03-10 18:00:00                   301.4       0.0         453.1   \n",
       "2014-03-10 19:00:00                   300.5       0.0          43.2   \n",
       "...                                     ...       ...           ...   \n",
       "2019-01-28 05:00:00                   296.2       0.0         254.7   \n",
       "2019-01-28 06:00:00                   296.2       0.0         363.3   \n",
       "2019-01-28 07:00:00                   296.1       0.0         472.0   \n",
       "2019-01-28 11:00:00                   300.2       0.0        1336.6   \n",
       "2019-01-28 14:00:00                   302.4       0.0        1589.4   \n",
       "\n",
       "                     Relative_Humidity  Specific_Humidity_reanalysis  \\\n",
       "time                                                                   \n",
       "2014-03-10 15:00:00               55.1                          15.1   \n",
       "2014-03-10 16:00:00               56.0                          15.2   \n",
       "2014-03-10 17:00:00               60.5                          15.6   \n",
       "2014-03-10 18:00:00               65.1                          15.9   \n",
       "2014-03-10 19:00:00               69.7                          16.1   \n",
       "...                                ...                           ...   \n",
       "2019-01-28 05:00:00               85.8                          15.3   \n",
       "2019-01-28 06:00:00               88.0                          15.7   \n",
       "2019-01-28 07:00:00               90.2                          16.0   \n",
       "2019-01-28 11:00:00               67.9                          15.4   \n",
       "2019-01-28 14:00:00               57.4                          14.8   \n",
       "\n",
       "                     Mixing_Ratio  Solar_Radiation  condensation_sink  \\\n",
       "time                                                                    \n",
       "2014-03-10 15:00:00          15.4            681.2           0.001503   \n",
       "2014-03-10 16:00:00          15.6            596.6           0.001285   \n",
       "2014-03-10 17:00:00          16.0            504.7           0.001317   \n",
       "2014-03-10 18:00:00          16.3            412.7           0.001469   \n",
       "2014-03-10 19:00:00          16.6            320.7           0.001441   \n",
       "...                           ...              ...                ...   \n",
       "2019-01-28 05:00:00          15.7             18.9           0.000014   \n",
       "2019-01-28 06:00:00          16.1             38.1           0.000013   \n",
       "2019-01-28 07:00:00          16.4             57.4           0.000011   \n",
       "2019-01-28 11:00:00          15.8            462.4           0.000026   \n",
       "2019-01-28 14:00:00          15.2            488.3           0.000017   \n",
       "\n",
       "                        N50-500    N100-500    N200-500           timeUTC-3  \\\n",
       "time                                                                          \n",
       "2014-03-10 15:00:00  316.350342  259.764876  123.407339 2014-03-10 16:00:00   \n",
       "2014-03-10 16:00:00  288.441016  221.149397  102.265441 2014-03-10 17:00:00   \n",
       "2014-03-10 17:00:00  294.872421  223.659092  104.508354 2014-03-10 18:00:00   \n",
       "2014-03-10 18:00:00  323.442362  243.316332  120.456843 2014-03-10 19:00:00   \n",
       "2014-03-10 19:00:00  323.533283  236.004666  116.970997 2014-03-10 20:00:00   \n",
       "...                         ...         ...         ...                 ...   \n",
       "2019-01-28 05:00:00    2.886702    2.418678    1.160755 2019-01-28 06:00:00   \n",
       "2019-01-28 06:00:00    2.189876    2.165097    1.267096 2019-01-28 07:00:00   \n",
       "2019-01-28 07:00:00    2.075599    1.882887    0.938360 2019-01-28 08:00:00   \n",
       "2019-01-28 11:00:00    7.112076    4.941434    1.551557 2019-01-28 12:00:00   \n",
       "2019-01-28 14:00:00    1.090769    1.090769    1.090769 2019-01-28 15:00:00   \n",
       "\n",
       "                     pressure  temperature  humidity  precip     OA  time_traj  \n",
       "time                                                                            \n",
       "2014-03-10 15:00:00    986.86        31.46     57.56     0.0  0.990          0  \n",
       "2014-03-10 16:00:00    986.21        31.62     59.16     0.0  1.620          0  \n",
       "2014-03-10 17:00:00    986.25        30.01     66.29     0.0  1.660          0  \n",
       "2014-03-10 18:00:00    986.47        28.18     70.54     0.0  0.985          0  \n",
       "2014-03-10 19:00:00    987.01        27.40     82.67     0.0  2.420          0  \n",
       "...                       ...          ...       ...     ...    ...        ...  \n",
       "2019-01-28 05:00:00       NaN          NaN       NaN     NaN    NaN          0  \n",
       "2019-01-28 06:00:00       NaN          NaN       NaN     NaN    NaN          0  \n",
       "2019-01-28 07:00:00       NaN          NaN       NaN     NaN    NaN          0  \n",
       "2019-01-28 11:00:00       NaN          NaN       NaN     NaN    NaN          0  \n",
       "2019-01-28 14:00:00       NaN          NaN       NaN     NaN    NaN          0  \n",
       "\n",
       "[25448 rows x 20 columns]"
      ]
     },
     "execution_count": 20,
     "metadata": {},
     "output_type": "execute_result"
    }
   ],
   "source": [
    "varl = ['Pressure_reanalysis', 'Potential_Temperature_reanalysis', 'Temperature_reanalysis', 'Rainfall', 'Mixing_Depth', 'Relative_Humidity', 'Specific_Humidity_reanalysis',\n",
    " 'Mixing_Ratio','Solar_Radiation', 'condensation_sink', 'N50-500', 'N100-500', 'N200-500', 'timeUTC-3', 'pressure', 'temperature', 'humidity','precip',#'Solar_inc_Wm2',\n",
    "        #'Solar_out_Wm2',\n",
    "        #'wind_speed',\n",
    "        #'wind_speed_v',\n",
    "        'OA'\n",
    "]\n",
    "ds_ATTO[varl].squeeze().to_dataframe()"
   ]
  },
  {
   "cell_type": "code",
   "execution_count": 21,
   "id": "5114315b-bd35-4056-b670-544ca907fda8",
   "metadata": {},
   "outputs": [],
   "source": [
    "dic_df_pre['Observations'] = dict()\n",
    "dic_df_pre['Observations']['Observations'] = ds_ATTO[varl].squeeze().to_dataframe()\n",
    "dic_df_pre['Observations']['Observations'].index = pd.to_datetime(dic_df_pre['Observations']['Observations'].index)"
   ]
  },
  {
   "cell_type": "code",
   "execution_count": 22,
   "id": "ef3a8fa0-75d3-4697-9188-73284f1243f8",
   "metadata": {
    "lines_to_next_cell": 2
   },
   "outputs": [],
   "source": [
    "mod2cases['Observations'] = ['Observations']"
   ]
  },
  {
   "cell_type": "code",
   "execution_count": 23,
   "id": "685d8f59-56c2-4c58-abc3-89d2756657a1",
   "metadata": {},
   "outputs": [],
   "source": [
    "dic_mod_ca = dic_df_pre.copy()"
   ]
  },
  {
   "cell_type": "code",
   "execution_count": 24,
   "id": "bbc15cc3-f9b6-478c-ae44-2f5cae5d2b8c",
   "metadata": {},
   "outputs": [
    {
     "data": {
      "text/plain": [
       "<AxesSubplot:xlabel='time'>"
      ]
     },
     "execution_count": 24,
     "metadata": {},
     "output_type": "execute_result"
    },
    {
     "data": {
      "image/png": "[encoded data removed]",
      "text/plain": [
       "<Figure size 432x288 with 1 Axes>"
      ]
     },
     "metadata": {
      "needs_background": "light"
     },
     "output_type": "display_data"
    }
   ],
   "source": [
    "_ds =dic_mod_ca['ECHAM-SALSA']['SALSA_BSOA_feedback']\n",
    "\n",
    "_ds =dic_mod_ca['NorESM'][mod2cases['NorESM'][0]]\n",
    "\n",
    "_ds['SFisoprene'].plot()"
   ]
  },
  {
   "cell_type": "markdown",
   "id": "e460796a-a2c5-43a5-a090-4a6d42b99d7f",
   "metadata": {},
   "source": [
    "### Save result in dictionary"
   ]
  },
  {
   "cell_type": "code",
   "execution_count": 25,
   "id": "fed5b56b-5e3f-4f6b-8a30-192de7b3c2a9",
   "metadata": {
    "lines_to_next_cell": 2
   },
   "outputs": [],
   "source": [
    "dic_df_mod_case = di_mod2cases\n",
    "for mo in models:\n",
    "    cs = mod2cases[mo]\n",
    "    for c in cs: \n",
    "        if len(cs)>1:\n",
    "            use_name = f'{mo}_{c}'\n",
    "        else:\n",
    "            use_name =mo"
   ]
  },
  {
   "cell_type": "code",
   "execution_count": 26,
   "id": "b4e5ca44-a85c-4df6-93b0-9e36bd37daef",
   "metadata": {},
   "outputs": [],
   "source": [
    "dic_df_mod_case = dic_mod_ca.copy()"
   ]
  },
  {
   "cell_type": "code",
   "execution_count": 27,
   "id": "e7404666-04b3-43a5-bce5-5fea589c2e59",
   "metadata": {},
   "outputs": [],
   "source": [
    "from bs_fdbck.util.BSOA_datamanip import calculate_daily_median_summer,calculate_summer_median"
   ]
  },
  {
   "cell_type": "code",
   "execution_count": 28,
   "id": "b1cc9e06-3197-423b-b715-b7b3f59f086a",
   "metadata": {},
   "outputs": [],
   "source": [
    "for mod in models:\n",
    "    for ca in mod2cases[mod]:\n",
    "        _df = dic_df_mod_case[mod][ca]\n",
    "        for v in ['OA','N50','N100','N200','N500']:\n",
    "            if f'{v}_STP' in _df.columns:\n",
    "                if v in _df.columns:\n",
    "                    _df = _df.rename({v:f'{v}_orig'}, axis=1)\n",
    "                _df = _df.rename({f'{v}_STP':v}, axis=1)\n",
    "        dic_df_mod_case[mod][ca] = _df"
   ]
  },
  {
   "cell_type": "markdown",
   "id": "3a19fe2b-5703-4f6f-a65f-4a2b6d3c32f4",
   "metadata": {
    "tags": []
   },
   "source": [
    "### Calculate Nx-500:\n"
   ]
  },
  {
   "cell_type": "code",
   "execution_count": 29,
   "id": "83a14ace-a38d-4ea1-ab50-5b2f0a378d98",
   "metadata": {
    "tags": []
   },
   "outputs": [
    {
     "name": "stdout",
     "output_type": "stream",
     "text": [
      "ECHAM-SALSA\n",
      "SALSA_BSOA_feedback\n",
      "NorESM\n",
      "OsloAero_intBVOC_f09_f09_mg17_fssp\n",
      "EC-Earth\n",
      "ECE3_output_Sara\n",
      "UKESM\n",
      "AEROCOMTRAJ\n"
     ]
    }
   ],
   "source": [
    "for mod in models:\n",
    "    print(mod)\n",
    "    for ca in dic_df_mod_case[mod].keys():\n",
    "        print(ca)\n",
    "        _df = dic_df_mod_case[mod][ca]\n",
    "        for v in ['N50','N100','N200']:\n",
    "            _df[f'{v}-500'] = _df[v] -_df['N500'] \n",
    "        dic_df_mod_case[mod][ca] = _df"
   ]
  },
  {
   "cell_type": "code",
   "execution_count": 30,
   "id": "6f5cf48a-7751-44f3-951d-b7b32b7d6403",
   "metadata": {},
   "outputs": [],
   "source": [
    "dic_df_atto = dic_df_pre.copy()"
   ]
  },
  {
   "cell_type": "code",
   "execution_count": 31,
   "id": "6e62c0ce-fd61-444a-b6a8-c402695ca070",
   "metadata": {},
   "outputs": [],
   "source": [
    "dic_df_pre_ATTO =dict()\n",
    "for key in dic_df_pre.keys():\n",
    "    dic_df_pre_ATTO[key] = dict()\n",
    "    for key2 in dic_df_pre[key].keys():\n",
    "        dic_df_pre_ATTO[key][key2] = dic_df_pre[key][key2].copy()\n",
    "\n"
   ]
  },
  {
   "cell_type": "markdown",
   "id": "e706b417-5278-43fa-90f5-6ee33caee5c1",
   "metadata": {
    "tags": []
   },
   "source": [
    "# Merge with observations:"
   ]
  },
  {
   "cell_type": "code",
   "execution_count": 32,
   "id": "c1bedbf6-98e9-406a-9624-8874a5a74770",
   "metadata": {},
   "outputs": [],
   "source": [
    "dic_df_pre = dict()#dic_df_mod_case.copy()#deep=True)\n",
    "for mod in dic_df_mod_case.keys():\n",
    "    dic_df_pre[mod] = dic_df_mod_case[mod].copy()"
   ]
  },
  {
   "cell_type": "code",
   "execution_count": 33,
   "id": "c889032a-59ad-4de2-9574-964c8974a5bc",
   "metadata": {},
   "outputs": [],
   "source": [
    "vars_obs = ['OA', 'N100-500','N50-500','N200-500','temperature']"
   ]
  },
  {
   "cell_type": "code",
   "execution_count": 34,
   "id": "ab74f3d3-27c8-4780-afd8-46e1206edc78",
   "metadata": {},
   "outputs": [
    {
     "data": {
      "text/html": [
       "<div><svg style=\"position: absolute; width: 0; height: 0; overflow: hidden\">\n",
       "<defs>\n",
       "<symbol id=\"icon-database\" viewBox=\"0 0 32 32\">\n",
       "<path d=\"M16 0c-8.837 0-16 2.239-16 5v4c0 2.761 7.163 5 16 5s16-2.239 16-5v-4c0-2.761-7.163-5-16-5z\"></path>\n",
       "<path d=\"M16 17c-8.837 0-16-2.239-16-5v6c0 2.761 7.163 5 16 5s16-2.239 16-5v-6c0 2.761-7.163 5-16 5z\"></path>\n",
       "<path d=\"M16 26c-8.837 0-16-2.239-16-5v6c0 2.761 7.163 5 16 5s16-2.239 16-5v-6c0 2.761-7.163 5-16 5z\"></path>\n",
       "</symbol>\n",
       "<symbol id=\"icon-file-text2\" viewBox=\"0 0 32 32\">\n",
       "<path d=\"M28.681 7.159c-0.694-0.947-1.662-2.053-2.724-3.116s-2.169-2.030-3.116-2.724c-1.612-1.182-2.393-1.319-2.841-1.319h-15.5c-1.378 0-2.5 1.121-2.5 2.5v27c0 1.378 1.122 2.5 2.5 2.5h23c1.378 0 2.5-1.122 2.5-2.5v-19.5c0-0.448-0.137-1.23-1.319-2.841zM24.543 5.457c0.959 0.959 1.712 1.825 2.268 2.543h-4.811v-4.811c0.718 0.556 1.584 1.309 2.543 2.268zM28 29.5c0 0.271-0.229 0.5-0.5 0.5h-23c-0.271 0-0.5-0.229-0.5-0.5v-27c0-0.271 0.229-0.5 0.5-0.5 0 0 15.499-0 15.5 0v7c0 0.552 0.448 1 1 1h7v19.5z\"></path>\n",
       "<path d=\"M23 26h-14c-0.552 0-1-0.448-1-1s0.448-1 1-1h14c0.552 0 1 0.448 1 1s-0.448 1-1 1z\"></path>\n",
       "<path d=\"M23 22h-14c-0.552 0-1-0.448-1-1s0.448-1 1-1h14c0.552 0 1 0.448 1 1s-0.448 1-1 1z\"></path>\n",
       "<path d=\"M23 18h-14c-0.552 0-1-0.448-1-1s0.448-1 1-1h14c0.552 0 1 0.448 1 1s-0.448 1-1 1z\"></path>\n",
       "</symbol>\n",
       "</defs>\n",
       "</svg>\n",
       "<style>/* CSS stylesheet for displaying xarray objects in jupyterlab.\n",
       " *\n",
       " */\n",
       "\n",
       ":root {\n",
       "  --xr-font-color0: var(--jp-content-font-color0, rgba(0, 0, 0, 1));\n",
       "  --xr-font-color2: var(--jp-content-font-color2, rgba(0, 0, 0, 0.54));\n",
       "  --xr-font-color3: var(--jp-content-font-color3, rgba(0, 0, 0, 0.38));\n",
       "  --xr-border-color: var(--jp-border-color2, #e0e0e0);\n",
       "  --xr-disabled-color: var(--jp-layout-color3, #bdbdbd);\n",
       "  --xr-background-color: var(--jp-layout-color0, white);\n",
       "  --xr-background-color-row-even: var(--jp-layout-color1, white);\n",
       "  --xr-background-color-row-odd: var(--jp-layout-color2, #eeeeee);\n",
       "}\n",
       "\n",
       "html[theme=dark],\n",
       "body.vscode-dark {\n",
       "  --xr-font-color0: rgba(255, 255, 255, 1);\n",
       "  --xr-font-color2: rgba(255, 255, 255, 0.54);\n",
       "  --xr-font-color3: rgba(255, 255, 255, 0.38);\n",
       "  --xr-border-color: #1F1F1F;\n",
       "  --xr-disabled-color: #515151;\n",
       "  --xr-background-color: #111111;\n",
       "  --xr-background-color-row-even: #111111;\n",
       "  --xr-background-color-row-odd: #313131;\n",
       "}\n",
       "\n",
       ".xr-wrap {\n",
       "  display: block;\n",
       "  min-width: 300px;\n",
       "  max-width: 700px;\n",
       "}\n",
       "\n",
       ".xr-text-repr-fallback {\n",
       "  /* fallback to plain text repr when CSS is not injected (untrusted notebook) */\n",
       "  display: none;\n",
       "}\n",
       "\n",
       ".xr-header {\n",
       "  padding-top: 6px;\n",
       "  padding-bottom: 6px;\n",
       "  margin-bottom: 4px;\n",
       "  border-bottom: solid 1px var(--xr-border-color);\n",
       "}\n",
       "\n",
       ".xr-header > div,\n",
       ".xr-header > ul {\n",
       "  display: inline;\n",
       "  margin-top: 0;\n",
       "  margin-bottom: 0;\n",
       "}\n",
       "\n",
       ".xr-obj-type,\n",
       ".xr-array-name {\n",
       "  margin-left: 2px;\n",
       "  margin-right: 10px;\n",
       "}\n",
       "\n",
       ".xr-obj-type {\n",
       "  color: var(--xr-font-color2);\n",
       "}\n",
       "\n",
       ".xr-sections {\n",
       "  padding-left: 0 !important;\n",
       "  display: grid;\n",
       "  grid-template-columns: 150px auto auto 1fr 20px 20px;\n",
       "}\n",
       "\n",
       ".xr-section-item {\n",
       "  display: contents;\n",
       "}\n",
       "\n",
       ".xr-section-item input {\n",
       "  display: none;\n",
       "}\n",
       "\n",
       ".xr-section-item input + label {\n",
       "  color: var(--xr-disabled-color);\n",
       "}\n",
       "\n",
       ".xr-section-item input:enabled + label {\n",
       "  cursor: pointer;\n",
       "  color: var(--xr-font-color2);\n",
       "}\n",
       "\n",
       ".xr-section-item input:enabled + label:hover {\n",
       "  color: var(--xr-font-color0);\n",
       "}\n",
       "\n",
       ".xr-section-summary {\n",
       "  grid-column: 1;\n",
       "  color: var(--xr-font-color2);\n",
       "  font-weight: 500;\n",
       "}\n",
       "\n",
       ".xr-section-summary > span {\n",
       "  display: inline-block;\n",
       "  padding-left: 0.5em;\n",
       "}\n",
       "\n",
       ".xr-section-summary-in:disabled + label {\n",
       "  color: var(--xr-font-color2);\n",
       "}\n",
       "\n",
       ".xr-section-summary-in + label:before {\n",
       "  display: inline-block;\n",
       "  content: '►';\n",
       "  font-size: 11px;\n",
       "  width: 15px;\n",
       "  text-align: center;\n",
       "}\n",
       "\n",
       ".xr-section-summary-in:disabled + label:before {\n",
       "  color: var(--xr-disabled-color);\n",
       "}\n",
       "\n",
       ".xr-section-summary-in:checked + label:before {\n",
       "  content: '▼';\n",
       "}\n",
       "\n",
       ".xr-section-summary-in:checked + label > span {\n",
       "  display: none;\n",
       "}\n",
       "\n",
       ".xr-section-summary,\n",
       ".xr-section-inline-details {\n",
       "  padding-top: 4px;\n",
       "  padding-bottom: 4px;\n",
       "}\n",
       "\n",
       ".xr-section-inline-details {\n",
       "  grid-column: 2 / -1;\n",
       "}\n",
       "\n",
       ".xr-section-details {\n",
       "  display: none;\n",
       "  grid-column: 1 / -1;\n",
       "  margin-bottom: 5px;\n",
       "}\n",
       "\n",
       ".xr-section-summary-in:checked ~ .xr-section-details {\n",
       "  display: contents;\n",
       "}\n",
       "\n",
       ".xr-array-wrap {\n",
       "  grid-column: 1 / -1;\n",
       "  display: grid;\n",
       "  grid-template-columns: 20px auto;\n",
       "}\n",
       "\n",
       ".xr-array-wrap > label {\n",
       "  grid-column: 1;\n",
       "  vertical-align: top;\n",
       "}\n",
       "\n",
       ".xr-preview {\n",
       "  color: var(--xr-font-color3);\n",
       "}\n",
       "\n",
       ".xr-array-preview,\n",
       ".xr-array-data {\n",
       "  padding: 0 5px !important;\n",
       "  grid-column: 2;\n",
       "}\n",
       "\n",
       ".xr-array-data,\n",
       ".xr-array-in:checked ~ .xr-array-preview {\n",
       "  display: none;\n",
       "}\n",
       "\n",
       ".xr-array-in:checked ~ .xr-array-data,\n",
       ".xr-array-preview {\n",
       "  display: inline-block;\n",
       "}\n",
       "\n",
       ".xr-dim-list {\n",
       "  display: inline-block !important;\n",
       "  list-style: none;\n",
       "  padding: 0 !important;\n",
       "  margin: 0;\n",
       "}\n",
       "\n",
       ".xr-dim-list li {\n",
       "  display: inline-block;\n",
       "  padding: 0;\n",
       "  margin: 0;\n",
       "}\n",
       "\n",
       ".xr-dim-list:before {\n",
       "  content: '(';\n",
       "}\n",
       "\n",
       ".xr-dim-list:after {\n",
       "  content: ')';\n",
       "}\n",
       "\n",
       ".xr-dim-list li:not(:last-child):after {\n",
       "  content: ',';\n",
       "  padding-right: 5px;\n",
       "}\n",
       "\n",
       ".xr-has-index {\n",
       "  font-weight: bold;\n",
       "}\n",
       "\n",
       ".xr-var-list,\n",
       ".xr-var-item {\n",
       "  display: contents;\n",
       "}\n",
       "\n",
       ".xr-var-item > div,\n",
       ".xr-var-item label,\n",
       ".xr-var-item > .xr-var-name span {\n",
       "  background-color: var(--xr-background-color-row-even);\n",
       "  margin-bottom: 0;\n",
       "}\n",
       "\n",
       ".xr-var-item > .xr-var-name:hover span {\n",
       "  padding-right: 5px;\n",
       "}\n",
       "\n",
       ".xr-var-list > li:nth-child(odd) > div,\n",
       ".xr-var-list > li:nth-child(odd) > label,\n",
       ".xr-var-list > li:nth-child(odd) > .xr-var-name span {\n",
       "  background-color: var(--xr-background-color-row-odd);\n",
       "}\n",
       "\n",
       ".xr-var-name {\n",
       "  grid-column: 1;\n",
       "}\n",
       "\n",
       ".xr-var-dims {\n",
       "  grid-column: 2;\n",
       "}\n",
       "\n",
       ".xr-var-dtype {\n",
       "  grid-column: 3;\n",
       "  text-align: right;\n",
       "  color: var(--xr-font-color2);\n",
       "}\n",
       "\n",
       ".xr-var-preview {\n",
       "  grid-column: 4;\n",
       "}\n",
       "\n",
       ".xr-var-name,\n",
       ".xr-var-dims,\n",
       ".xr-var-dtype,\n",
       ".xr-preview,\n",
       ".xr-attrs dt {\n",
       "  white-space: nowrap;\n",
       "  overflow: hidden;\n",
       "  text-overflow: ellipsis;\n",
       "  padding-right: 10px;\n",
       "}\n",
       "\n",
       ".xr-var-name:hover,\n",
       ".xr-var-dims:hover,\n",
       ".xr-var-dtype:hover,\n",
       ".xr-attrs dt:hover {\n",
       "  overflow: visible;\n",
       "  width: auto;\n",
       "  z-index: 1;\n",
       "}\n",
       "\n",
       ".xr-var-attrs,\n",
       ".xr-var-data {\n",
       "  display: none;\n",
       "  background-color: var(--xr-background-color) !important;\n",
       "  padding-bottom: 5px !important;\n",
       "}\n",
       "\n",
       ".xr-var-attrs-in:checked ~ .xr-var-attrs,\n",
       ".xr-var-data-in:checked ~ .xr-var-data {\n",
       "  display: block;\n",
       "}\n",
       "\n",
       ".xr-var-data > table {\n",
       "  float: right;\n",
       "}\n",
       "\n",
       ".xr-var-name span,\n",
       ".xr-var-data,\n",
       ".xr-attrs {\n",
       "  padding-left: 25px !important;\n",
       "}\n",
       "\n",
       ".xr-attrs,\n",
       ".xr-var-attrs,\n",
       ".xr-var-data {\n",
       "  grid-column: 1 / -1;\n",
       "}\n",
       "\n",
       "dl.xr-attrs {\n",
       "  padding: 0;\n",
       "  margin: 0;\n",
       "  display: grid;\n",
       "  grid-template-columns: 125px auto;\n",
       "}\n",
       "\n",
       ".xr-attrs dt,\n",
       ".xr-attrs dd {\n",
       "  padding: 0;\n",
       "  margin: 0;\n",
       "  float: left;\n",
       "  padding-right: 10px;\n",
       "  width: auto;\n",
       "}\n",
       "\n",
       ".xr-attrs dt {\n",
       "  font-weight: normal;\n",
       "  grid-column: 1;\n",
       "}\n",
       "\n",
       ".xr-attrs dt:hover span {\n",
       "  display: inline-block;\n",
       "  background: var(--xr-background-color);\n",
       "  padding-right: 10px;\n",
       "}\n",
       "\n",
       ".xr-attrs dd {\n",
       "  grid-column: 2;\n",
       "  white-space: pre-wrap;\n",
       "  word-break: break-all;\n",
       "}\n",
       "\n",
       ".xr-icon-database,\n",
       ".xr-icon-file-text2 {\n",
       "  display: inline-block;\n",
       "  vertical-align: middle;\n",
       "  width: 1em;\n",
       "  height: 1.5em !important;\n",
       "  stroke-width: 0;\n",
       "  stroke: currentColor;\n",
       "  fill: currentColor;\n",
       "}\n",
       "</style><pre class='xr-text-repr-fallback'>&lt;xarray.Dataset&gt;\n",
       "Dimensions:                           (time: 25448, D: 104, timeUTC: 25448, timeUTC-4: 25448, limit: 2)\n",
       "Coordinates:\n",
       "  * time                              (time) datetime64[ns] 2014-03-10T15:00:...\n",
       "  * D                                 (D) float64 10.2 10.6 10.9 ... 399.5 414.2\n",
       "    time_traj                         int64 0\n",
       "  * timeUTC                           (timeUTC) datetime64[ns] 2014-03-10T19:...\n",
       "  * timeUTC-4                         (timeUTC-4) datetime64[ns] 2014-03-10T1...\n",
       "  * limit                             (limit) object &#x27;bottom&#x27; &#x27;top&#x27;\n",
       "Data variables: (12/42)\n",
       "    pnsd                              (time, D) float64 ...\n",
       "    Pressure_reanalysis               (time) float64 974.8 974.1 ... 980.7 978.3\n",
       "    Potential_Temperature_reanalysis  (time) float64 305.5 305.5 ... 301.9 304.3\n",
       "    Temperature_reanalysis            (time) float64 303.3 303.2 ... 300.2 302.4\n",
       "    Rainfall                          (time) float64 0.0 0.0 0.0 ... 0.0 0.0 0.0\n",
       "    Mixing_Depth                      (time) float64 1.438e+03 ... 1.589e+03\n",
       "    ...                                ...\n",
       "    PAR_in                            (time) float64 1.676e+03 826.7 ... nan nan\n",
       "    PAR_out                           (time) float64 47.3 25.72 7.79 ... nan nan\n",
       "    LW_atm                            (time) float64 434.7 446.8 ... nan nan\n",
       "    LW_terr                           (time) float64 494.9 490.3 ... nan nan\n",
       "    OA                                (time) float64 0.99 1.62 1.66 ... nan nan\n",
       "    BC_conc                           (time) float64 0.4449 0.3546 ... nan nan</pre><div class='xr-wrap' hidden><div class='xr-header'><div class='xr-obj-type'>xarray.Dataset</div></div><ul class='xr-sections'><li class='xr-section-item'><input id='section-cb3445a2-d25d-43cb-8c20-3f87f6edc24a' class='xr-section-summary-in' type='checkbox' disabled ><label for='section-cb3445a2-d25d-43cb-8c20-3f87f6edc24a' class='xr-section-summary'  title='Expand/collapse section'>Dimensions:</label><div class='xr-section-inline-details'><ul class='xr-dim-list'><li><span class='xr-has-index'>time</span>: 25448</li><li><span class='xr-has-index'>D</span>: 104</li><li><span class='xr-has-index'>timeUTC</span>: 25448</li><li><span class='xr-has-index'>timeUTC-4</span>: 25448</li><li><span class='xr-has-index'>limit</span>: 2</li></ul></div><div class='xr-section-details'></div></li><li class='xr-section-item'><input id='section-efd1bf7b-7f53-49ec-888b-87ff525d199d' class='xr-section-summary-in' type='checkbox'  checked><label for='section-efd1bf7b-7f53-49ec-888b-87ff525d199d' class='xr-section-summary' >Coordinates: <span>(6)</span></label><div class='xr-section-inline-details'></div><div class='xr-section-details'><ul class='xr-var-list'><li class='xr-var-item'><div class='xr-var-name'><span class='xr-has-index'>time</span></div><div class='xr-var-dims'>(time)</div><div class='xr-var-dtype'>datetime64[ns]</div><div class='xr-var-preview xr-preview'>2014-03-10T15:00:00 ... 2019-01-...</div><input id='attrs-9311dddb-b5c4-4075-ae18-91139331e22d' class='xr-var-attrs-in' type='checkbox' disabled><label for='attrs-9311dddb-b5c4-4075-ae18-91139331e22d' title='Show/Hide attributes'><svg class='icon xr-icon-file-text2'><use xlink:href='#icon-file-text2'></use></svg></label><input id='data-a0b55873-473e-4850-a3e4-31e09e8deb77' class='xr-var-data-in' type='checkbox'><label for='data-a0b55873-473e-4850-a3e4-31e09e8deb77' title='Show/Hide data repr'><svg class='icon xr-icon-database'><use xlink:href='#icon-database'></use></svg></label><div class='xr-var-attrs'><dl class='xr-attrs'></dl></div><div class='xr-var-data'><pre>array([&#x27;2014-03-10T15:00:00.000000000&#x27;, &#x27;2014-03-10T16:00:00.000000000&#x27;,\n",
       "       &#x27;2014-03-10T17:00:00.000000000&#x27;, ..., &#x27;2019-01-28T07:00:00.000000000&#x27;,\n",
       "       &#x27;2019-01-28T11:00:00.000000000&#x27;, &#x27;2019-01-28T14:00:00.000000000&#x27;],\n",
       "      dtype=&#x27;datetime64[ns]&#x27;)</pre></div></li><li class='xr-var-item'><div class='xr-var-name'><span class='xr-has-index'>D</span></div><div class='xr-var-dims'>(D)</div><div class='xr-var-dtype'>float64</div><div class='xr-var-preview xr-preview'>10.2 10.6 10.9 ... 399.5 414.2</div><input id='attrs-156b9109-e06c-40f6-885d-93fb1e601296' class='xr-var-attrs-in' type='checkbox' disabled><label for='attrs-156b9109-e06c-40f6-885d-93fb1e601296' title='Show/Hide attributes'><svg class='icon xr-icon-file-text2'><use xlink:href='#icon-file-text2'></use></svg></label><input id='data-834cc788-5aee-458e-8255-ab75f413b63a' class='xr-var-data-in' type='checkbox'><label for='data-834cc788-5aee-458e-8255-ab75f413b63a' title='Show/Hide data repr'><svg class='icon xr-icon-database'><use xlink:href='#icon-database'></use></svg></label><div class='xr-var-attrs'><dl class='xr-attrs'></dl></div><div class='xr-var-data'><pre>array([ 10.2,  10.6,  10.9,  11.3,  11.8,  12.2,  12.6,  13.1,  13.6,  14.1,\n",
       "        14.6,  15.1,  15.7,  16.3,  16.8,  17.5,  18.1,  18.8,  19.5,  20.2,\n",
       "        20.9,  21.7,  22.5,  23.3,  24.1,  25. ,  25.9,  26.9,  27.9,  28.9,\n",
       "        30. ,  31.1,  32.2,  33.4,  34.6,  35.9,  37.2,  38.5,  40. ,  41.4,\n",
       "        42.9,  44.5,  46.1,  47.8,  49.6,  51.4,  53.3,  55.2,  57.3,  59.4,\n",
       "        61.5,  63.8,  66.1,  68.5,  71. ,  73.7,  76.4,  79.1,  82. ,  85.1,\n",
       "        88.2,  91.4,  94.7,  98.2, 101.8, 105.5, 109.4, 113.4, 117.6, 121.9,\n",
       "       126.3, 131. , 135.8, 140.7, 145.9, 151.2, 156.8, 162.5, 168.5, 174.7,\n",
       "       181.1, 187.7, 194.6, 201.7, 209.1, 216.7, 224.7, 232.9, 241.4, 250.3,\n",
       "       259.5, 269. , 278.8, 289. , 299.6, 310.6, 322. , 333.8, 346. , 358.7,\n",
       "       371.8, 385.4, 399.5, 414.2])</pre></div></li><li class='xr-var-item'><div class='xr-var-name'><span>time_traj</span></div><div class='xr-var-dims'>()</div><div class='xr-var-dtype'>int64</div><div class='xr-var-preview xr-preview'>0</div><input id='attrs-eb292b43-d346-4966-a27b-d46653613969' class='xr-var-attrs-in' type='checkbox' disabled><label for='attrs-eb292b43-d346-4966-a27b-d46653613969' title='Show/Hide attributes'><svg class='icon xr-icon-file-text2'><use xlink:href='#icon-file-text2'></use></svg></label><input id='data-67fa31f9-bcfb-42cb-8164-051b369ad24e' class='xr-var-data-in' type='checkbox'><label for='data-67fa31f9-bcfb-42cb-8164-051b369ad24e' title='Show/Hide data repr'><svg class='icon xr-icon-database'><use xlink:href='#icon-database'></use></svg></label><div class='xr-var-attrs'><dl class='xr-attrs'></dl></div><div class='xr-var-data'><pre>array(0)</pre></div></li><li class='xr-var-item'><div class='xr-var-name'><span class='xr-has-index'>timeUTC</span></div><div class='xr-var-dims'>(timeUTC)</div><div class='xr-var-dtype'>datetime64[ns]</div><div class='xr-var-preview xr-preview'>2014-03-10T19:00:00 ... 2019-01-...</div><input id='attrs-8b9aafb2-a2e0-41cd-a97c-dfec1b6e4056' class='xr-var-attrs-in' type='checkbox' disabled><label for='attrs-8b9aafb2-a2e0-41cd-a97c-dfec1b6e4056' title='Show/Hide attributes'><svg class='icon xr-icon-file-text2'><use xlink:href='#icon-file-text2'></use></svg></label><input id='data-b649bab4-63fb-4b73-81ea-a5aa9a9b6290' class='xr-var-data-in' type='checkbox'><label for='data-b649bab4-63fb-4b73-81ea-a5aa9a9b6290' title='Show/Hide data repr'><svg class='icon xr-icon-database'><use xlink:href='#icon-database'></use></svg></label><div class='xr-var-attrs'><dl class='xr-attrs'></dl></div><div class='xr-var-data'><pre>array([&#x27;2014-03-10T19:00:00.000000000&#x27;, &#x27;2014-03-10T20:00:00.000000000&#x27;,\n",
       "       &#x27;2014-03-10T21:00:00.000000000&#x27;, ..., &#x27;2019-01-28T11:00:00.000000000&#x27;,\n",
       "       &#x27;2019-01-28T15:00:00.000000000&#x27;, &#x27;2019-01-28T18:00:00.000000000&#x27;],\n",
       "      dtype=&#x27;datetime64[ns]&#x27;)</pre></div></li><li class='xr-var-item'><div class='xr-var-name'><span class='xr-has-index'>timeUTC-4</span></div><div class='xr-var-dims'>(timeUTC-4)</div><div class='xr-var-dtype'>datetime64[ns]</div><div class='xr-var-preview xr-preview'>2014-03-10T15:00:00 ... 2019-01-...</div><input id='attrs-0d206211-9422-4ed4-b920-f023e29aeb8d' class='xr-var-attrs-in' type='checkbox' disabled><label for='attrs-0d206211-9422-4ed4-b920-f023e29aeb8d' title='Show/Hide attributes'><svg class='icon xr-icon-file-text2'><use xlink:href='#icon-file-text2'></use></svg></label><input id='data-2366a4e0-1988-4b0d-b2c7-d0809e0e8321' class='xr-var-data-in' type='checkbox'><label for='data-2366a4e0-1988-4b0d-b2c7-d0809e0e8321' title='Show/Hide data repr'><svg class='icon xr-icon-database'><use xlink:href='#icon-database'></use></svg></label><div class='xr-var-attrs'><dl class='xr-attrs'></dl></div><div class='xr-var-data'><pre>array([&#x27;2014-03-10T15:00:00.000000000&#x27;, &#x27;2014-03-10T16:00:00.000000000&#x27;,\n",
       "       &#x27;2014-03-10T17:00:00.000000000&#x27;, ..., &#x27;2019-01-28T07:00:00.000000000&#x27;,\n",
       "       &#x27;2019-01-28T11:00:00.000000000&#x27;, &#x27;2019-01-28T14:00:00.000000000&#x27;],\n",
       "      dtype=&#x27;datetime64[ns]&#x27;)</pre></div></li><li class='xr-var-item'><div class='xr-var-name'><span class='xr-has-index'>limit</span></div><div class='xr-var-dims'>(limit)</div><div class='xr-var-dtype'>object</div><div class='xr-var-preview xr-preview'>&#x27;bottom&#x27; &#x27;top&#x27;</div><input id='attrs-51c551d0-175c-4caf-a8fc-587713024364' class='xr-var-attrs-in' type='checkbox' disabled><label for='attrs-51c551d0-175c-4caf-a8fc-587713024364' title='Show/Hide attributes'><svg class='icon xr-icon-file-text2'><use xlink:href='#icon-file-text2'></use></svg></label><input id='data-83f96e42-b0bb-4c6f-be51-e0b403fb1038' class='xr-var-data-in' type='checkbox'><label for='data-83f96e42-b0bb-4c6f-be51-e0b403fb1038' title='Show/Hide data repr'><svg class='icon xr-icon-database'><use xlink:href='#icon-database'></use></svg></label><div class='xr-var-attrs'><dl class='xr-attrs'></dl></div><div class='xr-var-data'><pre>array([&#x27;bottom&#x27;, &#x27;top&#x27;], dtype=object)</pre></div></li></ul></div></li><li class='xr-section-item'><input id='section-44f6fb7e-9ef4-4fb7-979d-0c9c10b08de2' class='xr-section-summary-in' type='checkbox'  ><label for='section-44f6fb7e-9ef4-4fb7-979d-0c9c10b08de2' class='xr-section-summary' >Data variables: <span>(42)</span></label><div class='xr-section-inline-details'></div><div class='xr-section-details'><ul class='xr-var-list'><li class='xr-var-item'><div class='xr-var-name'><span>pnsd</span></div><div class='xr-var-dims'>(time, D)</div><div class='xr-var-dtype'>float64</div><div class='xr-var-preview xr-preview'>...</div><input id='attrs-406f5ba6-aed4-416d-bddc-b23bce3e9167' class='xr-var-attrs-in' type='checkbox' ><label for='attrs-406f5ba6-aed4-416d-bddc-b23bce3e9167' title='Show/Hide attributes'><svg class='icon xr-icon-file-text2'><use xlink:href='#icon-file-text2'></use></svg></label><input id='data-1c0ece3d-7ef4-4549-8e8d-c34de7ca04f2' class='xr-var-data-in' type='checkbox'><label for='data-1c0ece3d-7ef4-4549-8e8d-c34de7ca04f2' title='Show/Hide data repr'><svg class='icon xr-icon-database'><use xlink:href='#icon-database'></use></svg></label><div class='xr-var-attrs'><dl class='xr-attrs'><dt><span>units :</span></dt><dd>particles.cm^-3</dd><dt><span>long_name :</span></dt><dd>particle_number_size_distribution</dd></dl></div><div class='xr-var-data'><pre>[2646592 values with dtype=float64]</pre></div></li><li class='xr-var-item'><div class='xr-var-name'><span>Pressure_reanalysis</span></div><div class='xr-var-dims'>(time)</div><div class='xr-var-dtype'>float64</div><div class='xr-var-preview xr-preview'>974.8 974.1 974.9 ... 980.7 978.3</div><input id='attrs-40774540-ddcb-433d-bc58-ab6590584660' class='xr-var-attrs-in' type='checkbox' disabled><label for='attrs-40774540-ddcb-433d-bc58-ab6590584660' title='Show/Hide attributes'><svg class='icon xr-icon-file-text2'><use xlink:href='#icon-file-text2'></use></svg></label><input id='data-d7858c4a-635e-468d-9427-258d6ce5e729' class='xr-var-data-in' type='checkbox'><label for='data-d7858c4a-635e-468d-9427-258d6ce5e729' title='Show/Hide data repr'><svg class='icon xr-icon-database'><use xlink:href='#icon-database'></use></svg></label><div class='xr-var-attrs'><dl class='xr-attrs'></dl></div><div class='xr-var-data'><pre>array([974.8, 974.1, 974.9, ..., 980.7, 980.7, 978.3])</pre></div></li><li class='xr-var-item'><div class='xr-var-name'><span>Potential_Temperature_reanalysis</span></div><div class='xr-var-dims'>(time)</div><div class='xr-var-dtype'>float64</div><div class='xr-var-preview xr-preview'>305.5 305.5 304.5 ... 301.9 304.3</div><input id='attrs-57ca852a-1bb8-4aaf-ac87-6e8e3705ba4f' class='xr-var-attrs-in' type='checkbox' disabled><label for='attrs-57ca852a-1bb8-4aaf-ac87-6e8e3705ba4f' title='Show/Hide attributes'><svg class='icon xr-icon-file-text2'><use xlink:href='#icon-file-text2'></use></svg></label><input id='data-e6fa77b2-f948-418a-99ad-3bfe53002a69' class='xr-var-data-in' type='checkbox'><label for='data-e6fa77b2-f948-418a-99ad-3bfe53002a69' title='Show/Hide data repr'><svg class='icon xr-icon-database'><use xlink:href='#icon-database'></use></svg></label><div class='xr-var-attrs'><dl class='xr-attrs'></dl></div><div class='xr-var-data'><pre>array([305.5, 305.5, 304.5, ..., 297.8, 301.9, 304.3])</pre></div></li><li class='xr-var-item'><div class='xr-var-name'><span>Temperature_reanalysis</span></div><div class='xr-var-dims'>(time)</div><div class='xr-var-dtype'>float64</div><div class='xr-var-preview xr-preview'>303.3 303.2 302.3 ... 300.2 302.4</div><input id='attrs-b32c2bfa-176d-49e3-8f7a-1289ebfe86d2' class='xr-var-attrs-in' type='checkbox' disabled><label for='attrs-b32c2bfa-176d-49e3-8f7a-1289ebfe86d2' title='Show/Hide attributes'><svg class='icon xr-icon-file-text2'><use xlink:href='#icon-file-text2'></use></svg></label><input id='data-548be036-e183-4703-972d-3aa7e93bbe5b' class='xr-var-data-in' type='checkbox'><label for='data-548be036-e183-4703-972d-3aa7e93bbe5b' title='Show/Hide data repr'><svg class='icon xr-icon-database'><use xlink:href='#icon-database'></use></svg></label><div class='xr-var-attrs'><dl class='xr-attrs'></dl></div><div class='xr-var-data'><pre>array([303.3, 303.2, 302.3, ..., 296.1, 300.2, 302.4])</pre></div></li><li class='xr-var-item'><div class='xr-var-name'><span>Rainfall</span></div><div class='xr-var-dims'>(time)</div><div class='xr-var-dtype'>float64</div><div class='xr-var-preview xr-preview'>0.0 0.0 0.0 0.0 ... 0.0 0.0 0.0 0.0</div><input id='attrs-18a6bfbc-9b4d-41de-bb25-720cc565e4b1' class='xr-var-attrs-in' type='checkbox' ><label for='attrs-18a6bfbc-9b4d-41de-bb25-720cc565e4b1' title='Show/Hide attributes'><svg class='icon xr-icon-file-text2'><use xlink:href='#icon-file-text2'></use></svg></label><input id='data-6057dc84-e80c-4035-8a07-085430156a32' class='xr-var-data-in' type='checkbox'><label for='data-6057dc84-e80c-4035-8a07-085430156a32' title='Show/Hide data repr'><svg class='icon xr-icon-database'><use xlink:href='#icon-database'></use></svg></label><div class='xr-var-attrs'><dl class='xr-attrs'><dt><span>units :</span></dt><dd>mm/h</dd><dt><span>long_name :</span></dt><dd>precipitation rate hysplit</dd></dl></div><div class='xr-var-data'><pre>array([0., 0., 0., ..., 0., 0., 0.])</pre></div></li><li class='xr-var-item'><div class='xr-var-name'><span>Mixing_Depth</span></div><div class='xr-var-dims'>(time)</div><div class='xr-var-dtype'>float64</div><div class='xr-var-preview xr-preview'>1.438e+03 1.269e+03 ... 1.589e+03</div><input id='attrs-f14f3f4c-9aa6-4e91-b17e-cc39f2a9fbaf' class='xr-var-attrs-in' type='checkbox' disabled><label for='attrs-f14f3f4c-9aa6-4e91-b17e-cc39f2a9fbaf' title='Show/Hide attributes'><svg class='icon xr-icon-file-text2'><use xlink:href='#icon-file-text2'></use></svg></label><input id='data-1911f203-e2d9-4dbe-af54-46e1ac2f93f4' class='xr-var-data-in' type='checkbox'><label for='data-1911f203-e2d9-4dbe-af54-46e1ac2f93f4' title='Show/Hide data repr'><svg class='icon xr-icon-database'><use xlink:href='#icon-database'></use></svg></label><div class='xr-var-attrs'><dl class='xr-attrs'></dl></div><div class='xr-var-data'><pre>array([1437.6, 1268.8,  863. , ...,  472. , 1336.6, 1589.4])</pre></div></li><li class='xr-var-item'><div class='xr-var-name'><span>Relative_Humidity</span></div><div class='xr-var-dims'>(time)</div><div class='xr-var-dtype'>float64</div><div class='xr-var-preview xr-preview'>55.1 56.0 60.5 ... 90.2 67.9 57.4</div><input id='attrs-4de3e4f4-bc9b-40f8-8de3-14e79c312692' class='xr-var-attrs-in' type='checkbox' disabled><label for='attrs-4de3e4f4-bc9b-40f8-8de3-14e79c312692' title='Show/Hide attributes'><svg class='icon xr-icon-file-text2'><use xlink:href='#icon-file-text2'></use></svg></label><input id='data-645f6aef-b533-43b6-aff2-05a4a737a390' class='xr-var-data-in' type='checkbox'><label for='data-645f6aef-b533-43b6-aff2-05a4a737a390' title='Show/Hide data repr'><svg class='icon xr-icon-database'><use xlink:href='#icon-database'></use></svg></label><div class='xr-var-attrs'><dl class='xr-attrs'></dl></div><div class='xr-var-data'><pre>array([55.1, 56. , 60.5, ..., 90.2, 67.9, 57.4])</pre></div></li><li class='xr-var-item'><div class='xr-var-name'><span>Specific_Humidity_reanalysis</span></div><div class='xr-var-dims'>(time)</div><div class='xr-var-dtype'>float64</div><div class='xr-var-preview xr-preview'>15.1 15.2 15.6 ... 16.0 15.4 14.8</div><input id='attrs-bd187070-a40d-439c-befa-09dae5920eeb' class='xr-var-attrs-in' type='checkbox' disabled><label for='attrs-bd187070-a40d-439c-befa-09dae5920eeb' title='Show/Hide attributes'><svg class='icon xr-icon-file-text2'><use xlink:href='#icon-file-text2'></use></svg></label><input id='data-668e0ba3-fe6f-41c9-a571-da218ee7bbb9' class='xr-var-data-in' type='checkbox'><label for='data-668e0ba3-fe6f-41c9-a571-da218ee7bbb9' title='Show/Hide data repr'><svg class='icon xr-icon-database'><use xlink:href='#icon-database'></use></svg></label><div class='xr-var-attrs'><dl class='xr-attrs'></dl></div><div class='xr-var-data'><pre>array([15.1, 15.2, 15.6, ..., 16. , 15.4, 14.8])</pre></div></li><li class='xr-var-item'><div class='xr-var-name'><span>Mixing_Ratio</span></div><div class='xr-var-dims'>(time)</div><div class='xr-var-dtype'>float64</div><div class='xr-var-preview xr-preview'>15.4 15.6 16.0 ... 16.4 15.8 15.2</div><input id='attrs-8bdac5dc-a022-41fd-8c01-cbe6ea6ea729' class='xr-var-attrs-in' type='checkbox' disabled><label for='attrs-8bdac5dc-a022-41fd-8c01-cbe6ea6ea729' title='Show/Hide attributes'><svg class='icon xr-icon-file-text2'><use xlink:href='#icon-file-text2'></use></svg></label><input id='data-96fd58e1-4a3c-4256-a40c-e655d23e8242' class='xr-var-data-in' type='checkbox'><label for='data-96fd58e1-4a3c-4256-a40c-e655d23e8242' title='Show/Hide data repr'><svg class='icon xr-icon-database'><use xlink:href='#icon-database'></use></svg></label><div class='xr-var-attrs'><dl class='xr-attrs'></dl></div><div class='xr-var-data'><pre>array([15.4, 15.6, 16. , ..., 16.4, 15.8, 15.2])</pre></div></li><li class='xr-var-item'><div class='xr-var-name'><span>Terrain_Altitude</span></div><div class='xr-var-dims'>(time)</div><div class='xr-var-dtype'>float64</div><div class='xr-var-preview xr-preview'>...</div><input id='attrs-9e5eeb3c-e562-40da-847f-247a74b2427a' class='xr-var-attrs-in' type='checkbox' disabled><label for='attrs-9e5eeb3c-e562-40da-847f-247a74b2427a' title='Show/Hide attributes'><svg class='icon xr-icon-file-text2'><use xlink:href='#icon-file-text2'></use></svg></label><input id='data-1498fb40-8138-4800-8810-e428734d75c1' class='xr-var-data-in' type='checkbox'><label for='data-1498fb40-8138-4800-8810-e428734d75c1' title='Show/Hide data repr'><svg class='icon xr-icon-database'><use xlink:href='#icon-database'></use></svg></label><div class='xr-var-attrs'><dl class='xr-attrs'></dl></div><div class='xr-var-data'><pre>array([92.5, 92.5, 92.5, ..., 81.6, 81.6, 81.6])</pre></div></li><li class='xr-var-item'><div class='xr-var-name'><span>Solar_Radiation</span></div><div class='xr-var-dims'>(time)</div><div class='xr-var-dtype'>float64</div><div class='xr-var-preview xr-preview'>681.2 596.6 504.7 ... 462.4 488.3</div><input id='attrs-72ffa479-03d1-41a1-a422-bb93eac288f9' class='xr-var-attrs-in' type='checkbox' disabled><label for='attrs-72ffa479-03d1-41a1-a422-bb93eac288f9' title='Show/Hide attributes'><svg class='icon xr-icon-file-text2'><use xlink:href='#icon-file-text2'></use></svg></label><input id='data-7afe6fc4-8e91-43a6-b403-703f7e5055e8' class='xr-var-data-in' type='checkbox'><label for='data-7afe6fc4-8e91-43a6-b403-703f7e5055e8' title='Show/Hide data repr'><svg class='icon xr-icon-database'><use xlink:href='#icon-database'></use></svg></label><div class='xr-var-attrs'><dl class='xr-attrs'></dl></div><div class='xr-var-data'><pre>array([681.2, 596.6, 504.7, ...,  57.4, 462.4, 488.3])</pre></div></li><li class='xr-var-item'><div class='xr-var-name'><span>x</span></div><div class='xr-var-dims'>(time)</div><div class='xr-var-dtype'>float64</div><div class='xr-var-preview xr-preview'>...</div><input id='attrs-b0460d12-d512-4866-a71d-23a867e5adbd' class='xr-var-attrs-in' type='checkbox' ><label for='attrs-b0460d12-d512-4866-a71d-23a867e5adbd' title='Show/Hide attributes'><svg class='icon xr-icon-file-text2'><use xlink:href='#icon-file-text2'></use></svg></label><input id='data-b59fd6ae-5b9b-4945-b047-48273cb8cd0a' class='xr-var-data-in' type='checkbox'><label for='data-b59fd6ae-5b9b-4945-b047-48273cb8cd0a' title='Show/Hide data repr'><svg class='icon xr-icon-database'><use xlink:href='#icon-database'></use></svg></label><div class='xr-var-attrs'><dl class='xr-attrs'><dt><span>units :</span></dt><dd>degrees east</dd><dt><span>long_name :</span></dt><dd>longitude</dd></dl></div><div class='xr-var-data'><pre>array([-59., -59., -59., ..., -59., -59., -59.])</pre></div></li><li class='xr-var-item'><div class='xr-var-name'><span>y</span></div><div class='xr-var-dims'>(time)</div><div class='xr-var-dtype'>float64</div><div class='xr-var-preview xr-preview'>...</div><input id='attrs-298707a1-0ec3-4017-9c4e-46d6a9a19803' class='xr-var-attrs-in' type='checkbox' ><label for='attrs-298707a1-0ec3-4017-9c4e-46d6a9a19803' title='Show/Hide attributes'><svg class='icon xr-icon-file-text2'><use xlink:href='#icon-file-text2'></use></svg></label><input id='data-1ec5a434-7b30-403b-97e1-d954712c0b7c' class='xr-var-data-in' type='checkbox'><label for='data-1ec5a434-7b30-403b-97e1-d954712c0b7c' title='Show/Hide data repr'><svg class='icon xr-icon-database'><use xlink:href='#icon-database'></use></svg></label><div class='xr-var-attrs'><dl class='xr-attrs'><dt><span>units :</span></dt><dd>degrees north</dd><dt><span>long_name :</span></dt><dd>latitude</dd></dl></div><div class='xr-var-data'><pre>array([-2.143, -2.143, -2.143, ..., -2.143, -2.143, -2.143])</pre></div></li><li class='xr-var-item'><div class='xr-var-name'><span>z</span></div><div class='xr-var-dims'>(time)</div><div class='xr-var-dtype'>float64</div><div class='xr-var-preview xr-preview'>...</div><input id='attrs-62464a48-6b28-4f72-85b4-bce9933bfefe' class='xr-var-attrs-in' type='checkbox' ><label for='attrs-62464a48-6b28-4f72-85b4-bce9933bfefe' title='Show/Hide attributes'><svg class='icon xr-icon-file-text2'><use xlink:href='#icon-file-text2'></use></svg></label><input id='data-72a6735a-0140-455f-9a31-36b8c621d717' class='xr-var-data-in' type='checkbox'><label for='data-72a6735a-0140-455f-9a31-36b8c621d717' title='Show/Hide data repr'><svg class='icon xr-icon-database'><use xlink:href='#icon-database'></use></svg></label><div class='xr-var-attrs'><dl class='xr-attrs'><dt><span>units :</span></dt><dd>meters</dd><dt><span>long_name :</span></dt><dd>altitude</dd></dl></div><div class='xr-var-data'><pre>array([190., 190., 190., ..., 190., 190., 190.])</pre></div></li><li class='xr-var-item'><div class='xr-var-name'><span>condensation_sink</span></div><div class='xr-var-dims'>(time)</div><div class='xr-var-dtype'>float64</div><div class='xr-var-preview xr-preview'>0.001503 0.001285 ... 1.716e-05</div><input id='attrs-7cb19c10-8f85-4430-8fb7-cd301a465c3d' class='xr-var-attrs-in' type='checkbox' disabled><label for='attrs-7cb19c10-8f85-4430-8fb7-cd301a465c3d' title='Show/Hide attributes'><svg class='icon xr-icon-file-text2'><use xlink:href='#icon-file-text2'></use></svg></label><input id='data-9a726609-4904-47ac-b470-c8fc350d5d08' class='xr-var-data-in' type='checkbox'><label for='data-9a726609-4904-47ac-b470-c8fc350d5d08' title='Show/Hide data repr'><svg class='icon xr-icon-database'><use xlink:href='#icon-database'></use></svg></label><div class='xr-var-attrs'><dl class='xr-attrs'></dl></div><div class='xr-var-data'><pre>array([1.502834e-03, 1.284667e-03, 1.316757e-03, ..., 1.136911e-05,\n",
       "       2.634956e-05, 1.715967e-05])</pre></div></li><li class='xr-var-item'><div class='xr-var-name'><span>pnsd_nolog</span></div><div class='xr-var-dims'>(time, D)</div><div class='xr-var-dtype'>float64</div><div class='xr-var-preview xr-preview'>...</div><input id='attrs-cc442ac4-72fb-4c08-a3fb-176e76364cdf' class='xr-var-attrs-in' type='checkbox' disabled><label for='attrs-cc442ac4-72fb-4c08-a3fb-176e76364cdf' title='Show/Hide attributes'><svg class='icon xr-icon-file-text2'><use xlink:href='#icon-file-text2'></use></svg></label><input id='data-f5c9eddd-b800-4526-835f-26c164e9499d' class='xr-var-data-in' type='checkbox'><label for='data-f5c9eddd-b800-4526-835f-26c164e9499d' title='Show/Hide data repr'><svg class='icon xr-icon-database'><use xlink:href='#icon-database'></use></svg></label><div class='xr-var-attrs'><dl class='xr-attrs'></dl></div><div class='xr-var-data'><pre>[2646592 values with dtype=float64]</pre></div></li><li class='xr-var-item'><div class='xr-var-name'><span>N50-500</span></div><div class='xr-var-dims'>(time)</div><div class='xr-var-dtype'>float64</div><div class='xr-var-preview xr-preview'>316.4 288.4 294.9 ... 7.112 1.091</div><input id='attrs-70d13803-db55-4d15-a7ca-2630be845be0' class='xr-var-attrs-in' type='checkbox' disabled><label for='attrs-70d13803-db55-4d15-a7ca-2630be845be0' title='Show/Hide attributes'><svg class='icon xr-icon-file-text2'><use xlink:href='#icon-file-text2'></use></svg></label><input id='data-67f80cde-50ba-42df-b93b-7576fdd18715' class='xr-var-data-in' type='checkbox'><label for='data-67f80cde-50ba-42df-b93b-7576fdd18715' title='Show/Hide data repr'><svg class='icon xr-icon-database'><use xlink:href='#icon-database'></use></svg></label><div class='xr-var-attrs'><dl class='xr-attrs'></dl></div><div class='xr-var-data'><pre>array([316.350342, 288.441016, 294.872421, ...,   2.075599,   7.112076,\n",
       "         1.090769])</pre></div></li><li class='xr-var-item'><div class='xr-var-name'><span>N100-500</span></div><div class='xr-var-dims'>(time)</div><div class='xr-var-dtype'>float64</div><div class='xr-var-preview xr-preview'>259.8 221.1 223.7 ... 4.941 1.091</div><input id='attrs-1ff371bb-478e-4bfd-a439-7a311b4df3bb' class='xr-var-attrs-in' type='checkbox' disabled><label for='attrs-1ff371bb-478e-4bfd-a439-7a311b4df3bb' title='Show/Hide attributes'><svg class='icon xr-icon-file-text2'><use xlink:href='#icon-file-text2'></use></svg></label><input id='data-575f2ccf-a127-41f3-9159-111acefb890e' class='xr-var-data-in' type='checkbox'><label for='data-575f2ccf-a127-41f3-9159-111acefb890e' title='Show/Hide data repr'><svg class='icon xr-icon-database'><use xlink:href='#icon-database'></use></svg></label><div class='xr-var-attrs'><dl class='xr-attrs'></dl></div><div class='xr-var-data'><pre>array([259.764876, 221.149397, 223.659092, ...,   1.882887,   4.941434,\n",
       "         1.090769])</pre></div></li><li class='xr-var-item'><div class='xr-var-name'><span>N200-500</span></div><div class='xr-var-dims'>(time)</div><div class='xr-var-dtype'>float64</div><div class='xr-var-preview xr-preview'>123.4 102.3 104.5 ... 1.552 1.091</div><input id='attrs-cb6823e5-cf48-4f9c-914e-e7fc4347d1aa' class='xr-var-attrs-in' type='checkbox' disabled><label for='attrs-cb6823e5-cf48-4f9c-914e-e7fc4347d1aa' title='Show/Hide attributes'><svg class='icon xr-icon-file-text2'><use xlink:href='#icon-file-text2'></use></svg></label><input id='data-6384bd79-355b-48c3-a699-face5c6b506e' class='xr-var-data-in' type='checkbox'><label for='data-6384bd79-355b-48c3-a699-face5c6b506e' title='Show/Hide data repr'><svg class='icon xr-icon-database'><use xlink:href='#icon-database'></use></svg></label><div class='xr-var-attrs'><dl class='xr-attrs'></dl></div><div class='xr-var-data'><pre>array([123.407339, 102.265441, 104.508354, ...,   0.93836 ,   1.551557,\n",
       "         1.090769])</pre></div></li><li class='xr-var-item'><div class='xr-var-name'><span>timeUTC-3</span></div><div class='xr-var-dims'>(time)</div><div class='xr-var-dtype'>datetime64[ns]</div><div class='xr-var-preview xr-preview'>2014-03-10T16:00:00 ... 2019-01-...</div><input id='attrs-d82e02bc-2737-4e22-8b92-a76e8a77df44' class='xr-var-attrs-in' type='checkbox' disabled><label for='attrs-d82e02bc-2737-4e22-8b92-a76e8a77df44' title='Show/Hide attributes'><svg class='icon xr-icon-file-text2'><use xlink:href='#icon-file-text2'></use></svg></label><input id='data-9426dc2a-7f03-48c4-a216-fd72677f38ea' class='xr-var-data-in' type='checkbox'><label for='data-9426dc2a-7f03-48c4-a216-fd72677f38ea' title='Show/Hide data repr'><svg class='icon xr-icon-database'><use xlink:href='#icon-database'></use></svg></label><div class='xr-var-attrs'><dl class='xr-attrs'></dl></div><div class='xr-var-data'><pre>array([&#x27;2014-03-10T16:00:00.000000000&#x27;, &#x27;2014-03-10T17:00:00.000000000&#x27;,\n",
       "       &#x27;2014-03-10T18:00:00.000000000&#x27;, ..., &#x27;2019-01-28T08:00:00.000000000&#x27;,\n",
       "       &#x27;2019-01-28T12:00:00.000000000&#x27;, &#x27;2019-01-28T15:00:00.000000000&#x27;],\n",
       "      dtype=&#x27;datetime64[ns]&#x27;)</pre></div></li><li class='xr-var-item'><div class='xr-var-name'><span>log10D</span></div><div class='xr-var-dims'>(D)</div><div class='xr-var-dtype'>float64</div><div class='xr-var-preview xr-preview'>...</div><input id='attrs-d642c1a7-e2c3-4a62-811e-fe4acc7fb41a' class='xr-var-attrs-in' type='checkbox' disabled><label for='attrs-d642c1a7-e2c3-4a62-811e-fe4acc7fb41a' title='Show/Hide attributes'><svg class='icon xr-icon-file-text2'><use xlink:href='#icon-file-text2'></use></svg></label><input id='data-c53d05eb-54c3-423d-b891-1c6e89a47038' class='xr-var-data-in' type='checkbox'><label for='data-c53d05eb-54c3-423d-b891-1c6e89a47038' title='Show/Hide data repr'><svg class='icon xr-icon-database'><use xlink:href='#icon-database'></use></svg></label><div class='xr-var-attrs'><dl class='xr-attrs'></dl></div><div class='xr-var-data'><pre>array([1.0086  , 1.025306, 1.037426, 1.053078, 1.071882, 1.08636 , 1.100371,\n",
       "       1.117271, 1.133539, 1.149219, 1.164353, 1.178977, 1.1959  , 1.212188,\n",
       "       1.225309, 1.243038, 1.257679, 1.274158, 1.290035, 1.305351, 1.320146,\n",
       "       1.33646 , 1.352183, 1.367356, 1.382017, 1.39794 , 1.4133  , 1.429752,\n",
       "       1.445604, 1.460898, 1.477121, 1.49276 , 1.507856, 1.523746, 1.539076,\n",
       "       1.555094, 1.570543, 1.585461, 1.60206 , 1.617   , 1.632457, 1.64836 ,\n",
       "       1.663701, 1.679428, 1.695482, 1.710963, 1.726727, 1.741939, 1.758155,\n",
       "       1.773786, 1.788875, 1.804821, 1.820201, 1.835691, 1.851258, 1.867467,\n",
       "       1.883093, 1.898176, 1.913814, 1.92993 , 1.945469, 1.960946, 1.97635 ,\n",
       "       1.992111, 2.007748, 2.023252, 2.039017, 2.054613, 2.070407, 2.086004,\n",
       "       2.101403, 2.117271, 2.1329  , 2.148294, 2.164055, 2.179552, 2.195346,\n",
       "       2.210853, 2.2266  , 2.242293, 2.257918, 2.273464, 2.289143, 2.304706,\n",
       "       2.320354, 2.335859, 2.351603, 2.367169, 2.382737, 2.398461, 2.414137,\n",
       "       2.429752, 2.445293, 2.460898, 2.476542, 2.492201, 2.507856, 2.523486,\n",
       "       2.539076, 2.554731, 2.570309, 2.585912, 2.601517, 2.61721 ])</pre></div></li><li class='xr-var-item'><div class='xr-var-name'><span>bottom</span></div><div class='xr-var-dims'>(D)</div><div class='xr-var-dtype'>float64</div><div class='xr-var-preview xr-preview'>...</div><input id='attrs-f1070898-713f-44b1-b48c-bae0205f0ea6' class='xr-var-attrs-in' type='checkbox' disabled><label for='attrs-f1070898-713f-44b1-b48c-bae0205f0ea6' title='Show/Hide attributes'><svg class='icon xr-icon-file-text2'><use xlink:href='#icon-file-text2'></use></svg></label><input id='data-772a7e24-02b3-4801-8f50-8948c9629508' class='xr-var-data-in' type='checkbox'><label for='data-772a7e24-02b3-4801-8f50-8948c9629508' title='Show/Hide data repr'><svg class='icon xr-icon-database'><use xlink:href='#icon-database'></use></svg></label><div class='xr-var-attrs'><dl class='xr-attrs'></dl></div><div class='xr-var-data'><pre>array([ 10.005696,  10.398077,  10.748953,  11.098198,  11.547294,  11.998333,\n",
       "        12.398387,  12.847568,  13.347659,  13.847743,  14.347822,  14.847895,\n",
       "        15.397078,  15.997187,  16.548112,  17.146428,  17.797472,  18.44668 ,\n",
       "        19.146801,  19.846914,  20.547019,  21.296244,  22.09638 ,  22.896506,\n",
       "        23.696624,  24.545875,  25.446021,  26.395265,  27.395438,  28.395598,\n",
       "        29.444864,  30.545049,  31.645221,  32.794512,  33.994705,  35.244007,\n",
       "        36.54422 ,  37.844418,  39.242834,  40.69398 ,  42.143327,  43.692677,\n",
       "        45.292935,  46.942305,  48.691683,  50.49198 ,  52.341379,  54.241681,\n",
       "        56.240199,  58.340552,  60.44088 ,  62.639444,  64.939818,  67.289301,\n",
       "        69.738798,  72.337404,  75.037857,  77.738279,  80.536948,  83.535621,\n",
       "        86.636136,  89.785745,  93.03537 ,  96.434123,  99.983799, 103.633489,\n",
       "       107.432304, 111.382045, 115.480908, 119.730698, 124.080498, 128.628535,\n",
       "       133.378409, 138.228289, 143.276411, 148.526361, 153.974543, 159.62456 ,\n",
       "       165.472807, 171.571997, 177.871217, 184.370469, 191.118864, 198.118197,\n",
       "       205.366672, 212.866085, 220.663749, 228.763262, 237.111915, 245.809723,\n",
       "       254.85849 , 264.207305, 273.856167, 283.854188, 294.252273, 305.050422,\n",
       "       316.248636, 327.846915, 339.845259, 352.292776, 365.191265, 378.538928,\n",
       "       392.386672, 406.783603])</pre></div></li><li class='xr-var-item'><div class='xr-var-name'><span>top</span></div><div class='xr-var-dims'>(D)</div><div class='xr-var-dtype'>float64</div><div class='xr-var-preview xr-preview'>...</div><input id='attrs-632f551d-b3a0-4fe1-a71c-a83f6defb13d' class='xr-var-attrs-in' type='checkbox' disabled><label for='attrs-632f551d-b3a0-4fe1-a71c-a83f6defb13d' title='Show/Hide attributes'><svg class='icon xr-icon-file-text2'><use xlink:href='#icon-file-text2'></use></svg></label><input id='data-02fc1b81-e4b6-4e89-9ec0-9aa35072a57d' class='xr-var-data-in' type='checkbox'><label for='data-02fc1b81-e4b6-4e89-9ec0-9aa35072a57d' title='Show/Hide data repr'><svg class='icon xr-icon-database'><use xlink:href='#icon-database'></use></svg></label><div class='xr-var-attrs'><dl class='xr-attrs'></dl></div><div class='xr-var-data'><pre>array([ 10.398077,  10.748953,  11.098198,  11.547294,  11.998333,  12.398387,\n",
       "        12.847568,  13.347659,  13.847743,  14.347822,  14.847895,  15.397078,\n",
       "        15.997187,  16.548112,  17.146428,  17.797472,  18.44668 ,  19.146801,\n",
       "        19.846914,  20.547019,  21.296244,  22.09638 ,  22.896506,  23.696624,\n",
       "        24.545875,  25.446021,  26.395265,  27.395438,  28.395598,  29.444864,\n",
       "        30.545049,  31.645221,  32.794512,  33.994705,  35.244007,  36.54422 ,\n",
       "        37.844418,  39.242834,  40.69398 ,  42.143327,  43.692677,  45.292935,\n",
       "        46.942305,  48.691683,  50.49198 ,  52.341379,  54.241681,  56.240199,\n",
       "        58.340552,  60.44088 ,  62.639444,  64.939818,  67.289301,  69.738798,\n",
       "        72.337404,  75.037857,  77.738279,  80.536948,  83.535621,  86.636136,\n",
       "        89.785745,  93.03537 ,  96.434123,  99.983799, 103.633489, 107.432304,\n",
       "       111.382045, 115.480908, 119.730698, 124.080498, 128.628535, 133.378409,\n",
       "       138.228289, 143.276411, 148.526361, 153.974543, 159.62456 , 165.472807,\n",
       "       171.571997, 177.871217, 184.370469, 191.118864, 198.118197, 205.366672,\n",
       "       212.866085, 220.663749, 228.763262, 237.111915, 245.809723, 254.85849 ,\n",
       "       264.207305, 273.856167, 283.854188, 294.252273, 305.050422, 316.248636,\n",
       "       327.846915, 339.845259, 352.292776, 365.191265, 378.538928, 392.386672,\n",
       "       406.783603, 421.751611])</pre></div></li><li class='xr-var-item'><div class='xr-var-name'><span>diam_lims</span></div><div class='xr-var-dims'>(limit, D)</div><div class='xr-var-dtype'>float64</div><div class='xr-var-preview xr-preview'>...</div><input id='attrs-2989f225-b619-4b21-ad0b-3ac8724c21af' class='xr-var-attrs-in' type='checkbox' disabled><label for='attrs-2989f225-b619-4b21-ad0b-3ac8724c21af' title='Show/Hide attributes'><svg class='icon xr-icon-file-text2'><use xlink:href='#icon-file-text2'></use></svg></label><input id='data-d4a9d23f-007a-4db6-a796-8eab70d0ec4d' class='xr-var-data-in' type='checkbox'><label for='data-d4a9d23f-007a-4db6-a796-8eab70d0ec4d' title='Show/Hide data repr'><svg class='icon xr-icon-database'><use xlink:href='#icon-database'></use></svg></label><div class='xr-var-attrs'><dl class='xr-attrs'></dl></div><div class='xr-var-data'><pre>array([[ 10.005696,  10.398077,  10.748953, ..., 378.538928, 392.386672,\n",
       "        406.783603],\n",
       "       [ 10.398077,  10.748953,  11.098198, ..., 392.386672, 406.783603,\n",
       "        421.751611]])</pre></div></li><li class='xr-var-item'><div class='xr-var-name'><span>dlog10D</span></div><div class='xr-var-dims'>(D)</div><div class='xr-var-dtype'>float64</div><div class='xr-var-preview xr-preview'>...</div><input id='attrs-ef9f8443-3fcc-456a-abd8-e6c447c66a7f' class='xr-var-attrs-in' type='checkbox' disabled><label for='attrs-ef9f8443-3fcc-456a-abd8-e6c447c66a7f' title='Show/Hide attributes'><svg class='icon xr-icon-file-text2'><use xlink:href='#icon-file-text2'></use></svg></label><input id='data-e9757acc-400a-4325-af92-3289ad7c6edc' class='xr-var-data-in' type='checkbox'><label for='data-e9757acc-400a-4325-af92-3289ad7c6edc' title='Show/Hide data repr'><svg class='icon xr-icon-database'><use xlink:href='#icon-database'></use></svg></label><div class='xr-var-attrs'><dl class='xr-attrs'></dl></div><div class='xr-var-data'><pre>array([0.016706, 0.014413, 0.013886, 0.017228, 0.016641, 0.014244, 0.015456,\n",
       "       0.016584, 0.015974, 0.015407, 0.014879, 0.015773, 0.016605, 0.014705,\n",
       "       0.015425, 0.016185, 0.01556 , 0.016178, 0.015597, 0.015056, 0.015554,\n",
       "       0.016018, 0.015448, 0.014917, 0.015292, 0.015641, 0.015906, 0.016152,\n",
       "       0.015573, 0.015759, 0.015931, 0.015367, 0.015493, 0.01561 , 0.015674,\n",
       "       0.015733, 0.015183, 0.015759, 0.01577 , 0.015199, 0.01568 , 0.015622,\n",
       "       0.015534, 0.01589 , 0.015768, 0.015623, 0.015488, 0.015714, 0.015924,\n",
       "       0.01536 , 0.015517, 0.015663, 0.015435, 0.015528, 0.015888, 0.015918,\n",
       "       0.015354, 0.01536 , 0.015877, 0.015827, 0.015508, 0.015441, 0.015583,\n",
       "       0.015699, 0.01557 , 0.015635, 0.01568 , 0.015695, 0.015695, 0.015498,\n",
       "       0.015634, 0.015748, 0.015511, 0.015578, 0.015629, 0.015645, 0.015651,\n",
       "       0.015627, 0.01572 , 0.015659, 0.015586, 0.015612, 0.015621, 0.015606,\n",
       "       0.015577, 0.015625, 0.015655, 0.015567, 0.015646, 0.0157  , 0.015646,\n",
       "       0.015578, 0.015573, 0.015625, 0.015652, 0.015657, 0.015642, 0.01561 ,\n",
       "       0.015623, 0.015617, 0.01559 , 0.015604, 0.015649, 0.015693])</pre></div></li><li class='xr-var-item'><div class='xr-var-name'><span>dN</span></div><div class='xr-var-dims'>(time, D)</div><div class='xr-var-dtype'>float64</div><div class='xr-var-preview xr-preview'>...</div><input id='attrs-ce770a3b-0845-4066-9bae-9cf92243c38d' class='xr-var-attrs-in' type='checkbox' disabled><label for='attrs-ce770a3b-0845-4066-9bae-9cf92243c38d' title='Show/Hide attributes'><svg class='icon xr-icon-file-text2'><use xlink:href='#icon-file-text2'></use></svg></label><input id='data-089bcb19-eb8e-4698-ada9-3a38c06d5e75' class='xr-var-data-in' type='checkbox'><label for='data-089bcb19-eb8e-4698-ada9-3a38c06d5e75' title='Show/Hide data repr'><svg class='icon xr-icon-database'><use xlink:href='#icon-database'></use></svg></label><div class='xr-var-attrs'><dl class='xr-attrs'></dl></div><div class='xr-var-data'><pre>[2646592 values with dtype=float64]</pre></div></li><li class='xr-var-item'><div class='xr-var-name'><span>N50_new</span></div><div class='xr-var-dims'>(time)</div><div class='xr-var-dtype'>float64</div><div class='xr-var-preview xr-preview'>...</div><input id='attrs-b8d4488f-db56-4095-8b64-b97e7f64caf3' class='xr-var-attrs-in' type='checkbox' disabled><label for='attrs-b8d4488f-db56-4095-8b64-b97e7f64caf3' title='Show/Hide attributes'><svg class='icon xr-icon-file-text2'><use xlink:href='#icon-file-text2'></use></svg></label><input id='data-2b692047-6f10-4735-9bac-15db2ee82f86' class='xr-var-data-in' type='checkbox'><label for='data-2b692047-6f10-4735-9bac-15db2ee82f86' title='Show/Hide data repr'><svg class='icon xr-icon-database'><use xlink:href='#icon-database'></use></svg></label><div class='xr-var-attrs'><dl class='xr-attrs'></dl></div><div class='xr-var-data'><pre>array([316.350342, 288.441016, 294.872421, ...,   2.075599,   7.112076,\n",
       "         1.090769])</pre></div></li><li class='xr-var-item'><div class='xr-var-name'><span>N100_new</span></div><div class='xr-var-dims'>(time)</div><div class='xr-var-dtype'>float64</div><div class='xr-var-preview xr-preview'>...</div><input id='attrs-b46fdb50-6c1d-44b8-90c6-43dee6b38aaa' class='xr-var-attrs-in' type='checkbox' disabled><label for='attrs-b46fdb50-6c1d-44b8-90c6-43dee6b38aaa' title='Show/Hide attributes'><svg class='icon xr-icon-file-text2'><use xlink:href='#icon-file-text2'></use></svg></label><input id='data-d628b5ff-c43e-4434-9765-7d9eeaeb891b' class='xr-var-data-in' type='checkbox'><label for='data-d628b5ff-c43e-4434-9765-7d9eeaeb891b' title='Show/Hide data repr'><svg class='icon xr-icon-database'><use xlink:href='#icon-database'></use></svg></label><div class='xr-var-attrs'><dl class='xr-attrs'></dl></div><div class='xr-var-data'><pre>array([259.764876, 221.149397, 223.659092, ...,   1.882887,   4.941434,\n",
       "         1.090769])</pre></div></li><li class='xr-var-item'><div class='xr-var-name'><span>N200_new</span></div><div class='xr-var-dims'>(time)</div><div class='xr-var-dtype'>float64</div><div class='xr-var-preview xr-preview'>...</div><input id='attrs-f851147b-35ef-4f41-82a7-817a8ca787ec' class='xr-var-attrs-in' type='checkbox' disabled><label for='attrs-f851147b-35ef-4f41-82a7-817a8ca787ec' title='Show/Hide attributes'><svg class='icon xr-icon-file-text2'><use xlink:href='#icon-file-text2'></use></svg></label><input id='data-ae5776ac-ce67-4622-b70c-b8512a88b32d' class='xr-var-data-in' type='checkbox'><label for='data-ae5776ac-ce67-4622-b70c-b8512a88b32d' title='Show/Hide data repr'><svg class='icon xr-icon-database'><use xlink:href='#icon-database'></use></svg></label><div class='xr-var-attrs'><dl class='xr-attrs'></dl></div><div class='xr-var-data'><pre>array([123.407339, 102.265441, 104.508354, ...,   0.93836 ,   1.551557,\n",
       "         1.090769])</pre></div></li><li class='xr-var-item'><div class='xr-var-name'><span>hour</span></div><div class='xr-var-dims'>(time)</div><div class='xr-var-dtype'>int64</div><div class='xr-var-preview xr-preview'>...</div><input id='attrs-c5ec83d8-5a5c-4fa5-b5d9-3f02b472695e' class='xr-var-attrs-in' type='checkbox' disabled><label for='attrs-c5ec83d8-5a5c-4fa5-b5d9-3f02b472695e' title='Show/Hide attributes'><svg class='icon xr-icon-file-text2'><use xlink:href='#icon-file-text2'></use></svg></label><input id='data-7426cede-f3ea-446d-9b94-29fd265f9bb1' class='xr-var-data-in' type='checkbox'><label for='data-7426cede-f3ea-446d-9b94-29fd265f9bb1' title='Show/Hide data repr'><svg class='icon xr-icon-database'><use xlink:href='#icon-database'></use></svg></label><div class='xr-var-attrs'><dl class='xr-attrs'></dl></div><div class='xr-var-data'><pre>array([15, 16, 17, ...,  7, 11, 14])</pre></div></li><li class='xr-var-item'><div class='xr-var-name'><span>pressure</span></div><div class='xr-var-dims'>(time)</div><div class='xr-var-dtype'>float64</div><div class='xr-var-preview xr-preview'>986.9 986.2 986.2 ... nan nan nan</div><input id='attrs-24497c96-1a38-4345-bf89-27de8683673a' class='xr-var-attrs-in' type='checkbox' disabled><label for='attrs-24497c96-1a38-4345-bf89-27de8683673a' title='Show/Hide attributes'><svg class='icon xr-icon-file-text2'><use xlink:href='#icon-file-text2'></use></svg></label><input id='data-4f509581-bc0d-4c8f-873a-5456fb173988' class='xr-var-data-in' type='checkbox'><label for='data-4f509581-bc0d-4c8f-873a-5456fb173988' title='Show/Hide data repr'><svg class='icon xr-icon-database'><use xlink:href='#icon-database'></use></svg></label><div class='xr-var-attrs'><dl class='xr-attrs'></dl></div><div class='xr-var-data'><pre>array([986.86, 986.21, 986.25, ...,    nan,    nan,    nan])</pre></div></li><li class='xr-var-item'><div class='xr-var-name'><span>temperature</span></div><div class='xr-var-dims'>(time)</div><div class='xr-var-dtype'>float64</div><div class='xr-var-preview xr-preview'>31.46 31.62 30.01 ... nan nan nan</div><input id='attrs-53c90f63-78f6-46f5-b7f9-9e0d2ee2c11f' class='xr-var-attrs-in' type='checkbox' disabled><label for='attrs-53c90f63-78f6-46f5-b7f9-9e0d2ee2c11f' title='Show/Hide attributes'><svg class='icon xr-icon-file-text2'><use xlink:href='#icon-file-text2'></use></svg></label><input id='data-3bca0df4-c338-4105-911c-ff16b1f9c6fb' class='xr-var-data-in' type='checkbox'><label for='data-3bca0df4-c338-4105-911c-ff16b1f9c6fb' title='Show/Hide data repr'><svg class='icon xr-icon-database'><use xlink:href='#icon-database'></use></svg></label><div class='xr-var-attrs'><dl class='xr-attrs'></dl></div><div class='xr-var-data'><pre>array([31.46, 31.62, 30.01, ...,   nan,   nan,   nan])</pre></div></li><li class='xr-var-item'><div class='xr-var-name'><span>humidity</span></div><div class='xr-var-dims'>(time)</div><div class='xr-var-dtype'>float64</div><div class='xr-var-preview xr-preview'>57.56 59.16 66.29 ... nan nan nan</div><input id='attrs-6dc65726-cb1b-4ce2-beaf-655d86c7e304' class='xr-var-attrs-in' type='checkbox' disabled><label for='attrs-6dc65726-cb1b-4ce2-beaf-655d86c7e304' title='Show/Hide attributes'><svg class='icon xr-icon-file-text2'><use xlink:href='#icon-file-text2'></use></svg></label><input id='data-ce860d21-e702-4848-8bec-8f4353096fa1' class='xr-var-data-in' type='checkbox'><label for='data-ce860d21-e702-4848-8bec-8f4353096fa1' title='Show/Hide data repr'><svg class='icon xr-icon-database'><use xlink:href='#icon-database'></use></svg></label><div class='xr-var-attrs'><dl class='xr-attrs'></dl></div><div class='xr-var-data'><pre>array([57.56, 59.16, 66.29, ...,   nan,   nan,   nan])</pre></div></li><li class='xr-var-item'><div class='xr-var-name'><span>WSp_73m</span></div><div class='xr-var-dims'>(time)</div><div class='xr-var-dtype'>float64</div><div class='xr-var-preview xr-preview'>...</div><input id='attrs-182e5753-d5f6-47ee-b433-0a9727def6d8' class='xr-var-attrs-in' type='checkbox' disabled><label for='attrs-182e5753-d5f6-47ee-b433-0a9727def6d8' title='Show/Hide attributes'><svg class='icon xr-icon-file-text2'><use xlink:href='#icon-file-text2'></use></svg></label><input id='data-22b7e2ac-737f-4374-a05e-1cfa2876aac8' class='xr-var-data-in' type='checkbox'><label for='data-22b7e2ac-737f-4374-a05e-1cfa2876aac8' title='Show/Hide data repr'><svg class='icon xr-icon-database'><use xlink:href='#icon-database'></use></svg></label><div class='xr-var-attrs'><dl class='xr-attrs'></dl></div><div class='xr-var-data'><pre>array([3.49, 2.81, 3.61, ...,  nan,  nan,  nan])</pre></div></li><li class='xr-var-item'><div class='xr-var-name'><span>WDir_73m</span></div><div class='xr-var-dims'>(time)</div><div class='xr-var-dtype'>float64</div><div class='xr-var-preview xr-preview'>...</div><input id='attrs-62fe247a-1d59-4b60-80d0-17813ebe7841' class='xr-var-attrs-in' type='checkbox' disabled><label for='attrs-62fe247a-1d59-4b60-80d0-17813ebe7841' title='Show/Hide attributes'><svg class='icon xr-icon-file-text2'><use xlink:href='#icon-file-text2'></use></svg></label><input id='data-ca667087-d260-4be9-bd62-16388ce21bc1' class='xr-var-data-in' type='checkbox'><label for='data-ca667087-d260-4be9-bd62-16388ce21bc1' title='Show/Hide data repr'><svg class='icon xr-icon-database'><use xlink:href='#icon-database'></use></svg></label><div class='xr-var-attrs'><dl class='xr-attrs'></dl></div><div class='xr-var-data'><pre>array([56.47, 93.43, 66.3 , ...,   nan,   nan,   nan])</pre></div></li><li class='xr-var-item'><div class='xr-var-name'><span>precip</span></div><div class='xr-var-dims'>(time)</div><div class='xr-var-dtype'>float64</div><div class='xr-var-preview xr-preview'>0.0 0.0 0.0 0.0 ... nan nan nan nan</div><input id='attrs-18139d43-3b96-4832-8fbc-dd79f8cdec5b' class='xr-var-attrs-in' type='checkbox' disabled><label for='attrs-18139d43-3b96-4832-8fbc-dd79f8cdec5b' title='Show/Hide attributes'><svg class='icon xr-icon-file-text2'><use xlink:href='#icon-file-text2'></use></svg></label><input id='data-8c21660a-c264-4ed8-a973-cb8a5aa57b9f' class='xr-var-data-in' type='checkbox'><label for='data-8c21660a-c264-4ed8-a973-cb8a5aa57b9f' title='Show/Hide data repr'><svg class='icon xr-icon-database'><use xlink:href='#icon-database'></use></svg></label><div class='xr-var-attrs'><dl class='xr-attrs'></dl></div><div class='xr-var-data'><pre>array([ 0.,  0.,  0., ..., nan, nan, nan])</pre></div></li><li class='xr-var-item'><div class='xr-var-name'><span>PAR_in</span></div><div class='xr-var-dims'>(time)</div><div class='xr-var-dtype'>float64</div><div class='xr-var-preview xr-preview'>...</div><input id='attrs-ec8640db-0a26-44b3-9f52-a689a810db71' class='xr-var-attrs-in' type='checkbox' disabled><label for='attrs-ec8640db-0a26-44b3-9f52-a689a810db71' title='Show/Hide attributes'><svg class='icon xr-icon-file-text2'><use xlink:href='#icon-file-text2'></use></svg></label><input id='data-b9d86d7f-fd06-4c5c-beb9-7fd116fc7a86' class='xr-var-data-in' type='checkbox'><label for='data-b9d86d7f-fd06-4c5c-beb9-7fd116fc7a86' title='Show/Hide data repr'><svg class='icon xr-icon-database'><use xlink:href='#icon-database'></use></svg></label><div class='xr-var-attrs'><dl class='xr-attrs'></dl></div><div class='xr-var-data'><pre>array([1675.93,  826.71,  248.55, ...,     nan,     nan,     nan])</pre></div></li><li class='xr-var-item'><div class='xr-var-name'><span>PAR_out</span></div><div class='xr-var-dims'>(time)</div><div class='xr-var-dtype'>float64</div><div class='xr-var-preview xr-preview'>...</div><input id='attrs-340dfa33-5685-4f5a-b602-01c98ebdbbf1' class='xr-var-attrs-in' type='checkbox' disabled><label for='attrs-340dfa33-5685-4f5a-b602-01c98ebdbbf1' title='Show/Hide attributes'><svg class='icon xr-icon-file-text2'><use xlink:href='#icon-file-text2'></use></svg></label><input id='data-c0b9a243-4277-422c-8cd2-05d4418607ff' class='xr-var-data-in' type='checkbox'><label for='data-c0b9a243-4277-422c-8cd2-05d4418607ff' title='Show/Hide data repr'><svg class='icon xr-icon-database'><use xlink:href='#icon-database'></use></svg></label><div class='xr-var-attrs'><dl class='xr-attrs'></dl></div><div class='xr-var-data'><pre>array([47.3 , 25.72,  7.79, ...,   nan,   nan,   nan])</pre></div></li><li class='xr-var-item'><div class='xr-var-name'><span>LW_atm</span></div><div class='xr-var-dims'>(time)</div><div class='xr-var-dtype'>float64</div><div class='xr-var-preview xr-preview'>...</div><input id='attrs-921f6505-fa0c-474a-a0e6-0f8429ee24a7' class='xr-var-attrs-in' type='checkbox' disabled><label for='attrs-921f6505-fa0c-474a-a0e6-0f8429ee24a7' title='Show/Hide attributes'><svg class='icon xr-icon-file-text2'><use xlink:href='#icon-file-text2'></use></svg></label><input id='data-4193f7a3-eee5-4b65-af1d-fe05ffa4e574' class='xr-var-data-in' type='checkbox'><label for='data-4193f7a3-eee5-4b65-af1d-fe05ffa4e574' title='Show/Hide data repr'><svg class='icon xr-icon-database'><use xlink:href='#icon-database'></use></svg></label><div class='xr-var-attrs'><dl class='xr-attrs'></dl></div><div class='xr-var-data'><pre>array([434.74, 446.75, 439.23, ...,    nan,    nan,    nan])</pre></div></li><li class='xr-var-item'><div class='xr-var-name'><span>LW_terr</span></div><div class='xr-var-dims'>(time)</div><div class='xr-var-dtype'>float64</div><div class='xr-var-preview xr-preview'>...</div><input id='attrs-e9dbbae4-b467-45eb-ab85-88e0cc62356a' class='xr-var-attrs-in' type='checkbox' disabled><label for='attrs-e9dbbae4-b467-45eb-ab85-88e0cc62356a' title='Show/Hide attributes'><svg class='icon xr-icon-file-text2'><use xlink:href='#icon-file-text2'></use></svg></label><input id='data-f695d0c2-337c-4730-b5fb-87c8747ff0cd' class='xr-var-data-in' type='checkbox'><label for='data-f695d0c2-337c-4730-b5fb-87c8747ff0cd' title='Show/Hide data repr'><svg class='icon xr-icon-database'><use xlink:href='#icon-database'></use></svg></label><div class='xr-var-attrs'><dl class='xr-attrs'></dl></div><div class='xr-var-data'><pre>array([494.87, 490.31, 476.6 , ...,    nan,    nan,    nan])</pre></div></li><li class='xr-var-item'><div class='xr-var-name'><span>OA</span></div><div class='xr-var-dims'>(time)</div><div class='xr-var-dtype'>float64</div><div class='xr-var-preview xr-preview'>0.99 1.62 1.66 ... nan nan nan</div><input id='attrs-44103397-40c3-4101-a285-f6b3044ed0bb' class='xr-var-attrs-in' type='checkbox' disabled><label for='attrs-44103397-40c3-4101-a285-f6b3044ed0bb' title='Show/Hide attributes'><svg class='icon xr-icon-file-text2'><use xlink:href='#icon-file-text2'></use></svg></label><input id='data-0992dd25-2573-4b47-89f9-fde74c4877cd' class='xr-var-data-in' type='checkbox'><label for='data-0992dd25-2573-4b47-89f9-fde74c4877cd' title='Show/Hide data repr'><svg class='icon xr-icon-database'><use xlink:href='#icon-database'></use></svg></label><div class='xr-var-attrs'><dl class='xr-attrs'></dl></div><div class='xr-var-data'><pre>array([0.99, 1.62, 1.66, ...,  nan,  nan,  nan])</pre></div></li><li class='xr-var-item'><div class='xr-var-name'><span>BC_conc</span></div><div class='xr-var-dims'>(time)</div><div class='xr-var-dtype'>float64</div><div class='xr-var-preview xr-preview'>...</div><input id='attrs-6c774dc1-7ce2-412a-83cf-1945e9f50aff' class='xr-var-attrs-in' type='checkbox' disabled><label for='attrs-6c774dc1-7ce2-412a-83cf-1945e9f50aff' title='Show/Hide attributes'><svg class='icon xr-icon-file-text2'><use xlink:href='#icon-file-text2'></use></svg></label><input id='data-684f9e1e-f4c4-4133-89df-c9e5e8e4b3e7' class='xr-var-data-in' type='checkbox'><label for='data-684f9e1e-f4c4-4133-89df-c9e5e8e4b3e7' title='Show/Hide data repr'><svg class='icon xr-icon-database'><use xlink:href='#icon-database'></use></svg></label><div class='xr-var-attrs'><dl class='xr-attrs'></dl></div><div class='xr-var-data'><pre>array([0.444863, 0.35463 , 0.270275, ...,      nan,      nan,      nan])</pre></div></li></ul></div></li><li class='xr-section-item'><input id='section-ac7dd4be-e8c0-4b19-92f8-30cafac7d473' class='xr-section-summary-in' type='checkbox' disabled ><label for='section-ac7dd4be-e8c0-4b19-92f8-30cafac7d473' class='xr-section-summary'  title='Expand/collapse section'>Attributes: <span>(0)</span></label><div class='xr-section-inline-details'></div><div class='xr-section-details'><dl class='xr-attrs'></dl></div></li></ul></div></div>"
      ],
      "text/plain": [
       "<xarray.Dataset>\n",
       "Dimensions:                           (time: 25448, D: 104, timeUTC: 25448, timeUTC-4: 25448, limit: 2)\n",
       "Coordinates:\n",
       "  * time                              (time) datetime64[ns] 2014-03-10T15:00:...\n",
       "  * D                                 (D) float64 10.2 10.6 10.9 ... 399.5 414.2\n",
       "    time_traj                         int64 0\n",
       "  * timeUTC                           (timeUTC) datetime64[ns] 2014-03-10T19:...\n",
       "  * timeUTC-4                         (timeUTC-4) datetime64[ns] 2014-03-10T1...\n",
       "  * limit                             (limit) object 'bottom' 'top'\n",
       "Data variables: (12/42)\n",
       "    pnsd                              (time, D) float64 ...\n",
       "    Pressure_reanalysis               (time) float64 974.8 974.1 ... 980.7 978.3\n",
       "    Potential_Temperature_reanalysis  (time) float64 305.5 305.5 ... 301.9 304.3\n",
       "    Temperature_reanalysis            (time) float64 303.3 303.2 ... 300.2 302.4\n",
       "    Rainfall                          (time) float64 0.0 0.0 0.0 ... 0.0 0.0 0.0\n",
       "    Mixing_Depth                      (time) float64 1.438e+03 ... 1.589e+03\n",
       "    ...                                ...\n",
       "    PAR_in                            (time) float64 ...\n",
       "    PAR_out                           (time) float64 ...\n",
       "    LW_atm                            (time) float64 ...\n",
       "    LW_terr                           (time) float64 ...\n",
       "    OA                                (time) float64 0.99 1.62 1.66 ... nan nan\n",
       "    BC_conc                           (time) float64 ..."
      ]
     },
     "execution_count": 34,
     "metadata": {},
     "output_type": "execute_result"
    }
   ],
   "source": [
    "ds_ATTO"
   ]
  },
  {
   "cell_type": "code",
   "execution_count": 35,
   "id": "e19e6564-9a3e-4d79-afa6-3da8fe4d3364",
   "metadata": {},
   "outputs": [],
   "source": [
    "df_ATTO = ds_ATTO[vars_obs].drop('time_traj').to_dataframe()\n",
    "\n",
    "df_ATTO['some_obs_missing'] = df_ATTO.isnull().any(axis=1)"
   ]
  },
  {
   "cell_type": "code",
   "execution_count": 36,
   "id": "05bfa200-6d61-4679-a443-8364279b70ab",
   "metadata": {},
   "outputs": [],
   "source": [
    "df_for_merge = df_ATTO[['OA','N100-500', 'some_obs_missing']].rename({'OA':'obs_OA','N100-500':'obs_N100-500',},axis=1)"
   ]
  },
  {
   "cell_type": "code",
   "execution_count": 37,
   "id": "36520195-afce-481b-99a3-ee4d53b03ac5",
   "metadata": {},
   "outputs": [
    {
     "name": "stdout",
     "output_type": "stream",
     "text": [
      "ECHAM-SALSA\n",
      "NorESM\n",
      "EC-Earth\n",
      "UKESM\n",
      "Observations\n"
     ]
    }
   ],
   "source": [
    "for mod in dic_df_mod_case.keys():\n",
    "    print(mod)\n",
    "    for ca in dic_df_mod_case[mod].keys():\n",
    "        dic_df_mod_case[mod][ca] = pd.merge(dic_df_pre[mod][ca], df_for_merge ,right_on='time', left_on='time', how='outer')\n",
    "        dic_df_mod_case[mod][ca]['year'] = dic_df_mod_case[mod][ca].index.year"
   ]
  },
  {
   "cell_type": "code",
   "execution_count": 38,
   "id": "c39a7115-0eff-47cf-925f-1ec718eb7768",
   "metadata": {},
   "outputs": [],
   "source": [
    "df_ATTO_obs_rename = df_ATTO.rename({'Org':'OA','temperature':'T_C'}, axis=1)"
   ]
  },
  {
   "cell_type": "code",
   "execution_count": 39,
   "id": "279695d8-b1fd-45af-b9e4-4c34114d3cbb",
   "metadata": {},
   "outputs": [
    {
     "data": {
      "text/html": [
       "<div>\n",
       "<style scoped>\n",
       "    .dataframe tbody tr th:only-of-type {\n",
       "        vertical-align: middle;\n",
       "    }\n",
       "\n",
       "    .dataframe tbody tr th {\n",
       "        vertical-align: top;\n",
       "    }\n",
       "\n",
       "    .dataframe thead th {\n",
       "        text-align: right;\n",
       "    }\n",
       "</style>\n",
       "<table border=\"1\" class=\"dataframe\">\n",
       "  <thead>\n",
       "    <tr style=\"text-align: right;\">\n",
       "      <th></th>\n",
       "      <th>OA</th>\n",
       "      <th>N100-500</th>\n",
       "      <th>N50-500</th>\n",
       "      <th>N200-500</th>\n",
       "      <th>T_C</th>\n",
       "      <th>some_obs_missing</th>\n",
       "    </tr>\n",
       "    <tr>\n",
       "      <th>time</th>\n",
       "      <th></th>\n",
       "      <th></th>\n",
       "      <th></th>\n",
       "      <th></th>\n",
       "      <th></th>\n",
       "      <th></th>\n",
       "    </tr>\n",
       "  </thead>\n",
       "  <tbody>\n",
       "    <tr>\n",
       "      <th>2014-03-10 15:00:00</th>\n",
       "      <td>0.990</td>\n",
       "      <td>259.764876</td>\n",
       "      <td>316.350342</td>\n",
       "      <td>123.407339</td>\n",
       "      <td>31.46</td>\n",
       "      <td>False</td>\n",
       "    </tr>\n",
       "    <tr>\n",
       "      <th>2014-03-10 16:00:00</th>\n",
       "      <td>1.620</td>\n",
       "      <td>221.149397</td>\n",
       "      <td>288.441016</td>\n",
       "      <td>102.265441</td>\n",
       "      <td>31.62</td>\n",
       "      <td>False</td>\n",
       "    </tr>\n",
       "    <tr>\n",
       "      <th>2014-03-10 17:00:00</th>\n",
       "      <td>1.660</td>\n",
       "      <td>223.659092</td>\n",
       "      <td>294.872421</td>\n",
       "      <td>104.508354</td>\n",
       "      <td>30.01</td>\n",
       "      <td>False</td>\n",
       "    </tr>\n",
       "    <tr>\n",
       "      <th>2014-03-10 18:00:00</th>\n",
       "      <td>0.985</td>\n",
       "      <td>243.316332</td>\n",
       "      <td>323.442362</td>\n",
       "      <td>120.456843</td>\n",
       "      <td>28.18</td>\n",
       "      <td>False</td>\n",
       "    </tr>\n",
       "    <tr>\n",
       "      <th>2014-03-10 19:00:00</th>\n",
       "      <td>2.420</td>\n",
       "      <td>236.004666</td>\n",
       "      <td>323.533283</td>\n",
       "      <td>116.970997</td>\n",
       "      <td>27.40</td>\n",
       "      <td>False</td>\n",
       "    </tr>\n",
       "    <tr>\n",
       "      <th>...</th>\n",
       "      <td>...</td>\n",
       "      <td>...</td>\n",
       "      <td>...</td>\n",
       "      <td>...</td>\n",
       "      <td>...</td>\n",
       "      <td>...</td>\n",
       "    </tr>\n",
       "    <tr>\n",
       "      <th>2019-01-28 05:00:00</th>\n",
       "      <td>NaN</td>\n",
       "      <td>2.418678</td>\n",
       "      <td>2.886702</td>\n",
       "      <td>1.160755</td>\n",
       "      <td>NaN</td>\n",
       "      <td>True</td>\n",
       "    </tr>\n",
       "    <tr>\n",
       "      <th>2019-01-28 06:00:00</th>\n",
       "      <td>NaN</td>\n",
       "      <td>2.165097</td>\n",
       "      <td>2.189876</td>\n",
       "      <td>1.267096</td>\n",
       "      <td>NaN</td>\n",
       "      <td>True</td>\n",
       "    </tr>\n",
       "    <tr>\n",
       "      <th>2019-01-28 07:00:00</th>\n",
       "      <td>NaN</td>\n",
       "      <td>1.882887</td>\n",
       "      <td>2.075599</td>\n",
       "      <td>0.938360</td>\n",
       "      <td>NaN</td>\n",
       "      <td>True</td>\n",
       "    </tr>\n",
       "    <tr>\n",
       "      <th>2019-01-28 11:00:00</th>\n",
       "      <td>NaN</td>\n",
       "      <td>4.941434</td>\n",
       "      <td>7.112076</td>\n",
       "      <td>1.551557</td>\n",
       "      <td>NaN</td>\n",
       "      <td>True</td>\n",
       "    </tr>\n",
       "    <tr>\n",
       "      <th>2019-01-28 14:00:00</th>\n",
       "      <td>NaN</td>\n",
       "      <td>1.090769</td>\n",
       "      <td>1.090769</td>\n",
       "      <td>1.090769</td>\n",
       "      <td>NaN</td>\n",
       "      <td>True</td>\n",
       "    </tr>\n",
       "  </tbody>\n",
       "</table>\n",
       "<p>25448 rows × 6 columns</p>\n",
       "</div>"
      ],
      "text/plain": [
       "                        OA    N100-500     N50-500    N200-500    T_C  \\\n",
       "time                                                                    \n",
       "2014-03-10 15:00:00  0.990  259.764876  316.350342  123.407339  31.46   \n",
       "2014-03-10 16:00:00  1.620  221.149397  288.441016  102.265441  31.62   \n",
       "2014-03-10 17:00:00  1.660  223.659092  294.872421  104.508354  30.01   \n",
       "2014-03-10 18:00:00  0.985  243.316332  323.442362  120.456843  28.18   \n",
       "2014-03-10 19:00:00  2.420  236.004666  323.533283  116.970997  27.40   \n",
       "...                    ...         ...         ...         ...    ...   \n",
       "2019-01-28 05:00:00    NaN    2.418678    2.886702    1.160755    NaN   \n",
       "2019-01-28 06:00:00    NaN    2.165097    2.189876    1.267096    NaN   \n",
       "2019-01-28 07:00:00    NaN    1.882887    2.075599    0.938360    NaN   \n",
       "2019-01-28 11:00:00    NaN    4.941434    7.112076    1.551557    NaN   \n",
       "2019-01-28 14:00:00    NaN    1.090769    1.090769    1.090769    NaN   \n",
       "\n",
       "                     some_obs_missing  \n",
       "time                                   \n",
       "2014-03-10 15:00:00             False  \n",
       "2014-03-10 16:00:00             False  \n",
       "2014-03-10 17:00:00             False  \n",
       "2014-03-10 18:00:00             False  \n",
       "2014-03-10 19:00:00             False  \n",
       "...                               ...  \n",
       "2019-01-28 05:00:00              True  \n",
       "2019-01-28 06:00:00              True  \n",
       "2019-01-28 07:00:00              True  \n",
       "2019-01-28 11:00:00              True  \n",
       "2019-01-28 14:00:00              True  \n",
       "\n",
       "[25448 rows x 6 columns]"
      ]
     },
     "execution_count": 39,
     "metadata": {},
     "output_type": "execute_result"
    }
   ],
   "source": [
    "df_ATTO_obs_rename"
   ]
  },
  {
   "cell_type": "markdown",
   "id": "cb09c324-7274-49af-b5c5-0de00562ec2f",
   "metadata": {},
   "source": [
    "## Add observations to dictionary"
   ]
  },
  {
   "cell_type": "code",
   "execution_count": 40,
   "id": "eba6a297-aee1-4d77-ac76-3e3ae9f9847b",
   "metadata": {},
   "outputs": [],
   "source": [
    "dic_df_mod_case['Observations'] = dict()\n",
    "dic_df_mod_case['Observations']['Observations'] = df_ATTO_obs_rename"
   ]
  },
  {
   "cell_type": "code",
   "execution_count": 41,
   "id": "4ba8fa57-7849-4486-84cf-58428602d334",
   "metadata": {},
   "outputs": [
    {
     "data": {
      "text/plain": [
       "dict_keys(['Observations'])"
      ]
     },
     "execution_count": 41,
     "metadata": {},
     "output_type": "execute_result"
    }
   ],
   "source": [
    "dic_df_mod_case['Observations'].keys()"
   ]
  },
  {
   "cell_type": "code",
   "execution_count": 42,
   "id": "244e0e9d-c658-4ca1-a266-3d9986f5d2f7",
   "metadata": {},
   "outputs": [],
   "source": [
    "dic_mod2case = mod2cases"
   ]
  },
  {
   "cell_type": "code",
   "execution_count": 43,
   "id": "3ca80310-b4d0-4692-a089-0de466a538e9",
   "metadata": {
    "lines_to_next_cell": 2
   },
   "outputs": [
    {
     "name": "stdout",
     "output_type": "stream",
     "text": [
      "{'OA', 'N100', 'N50', 'N200'}\n",
      "{'OA', 'N50', 'N200', 'N150', 'N100'}\n",
      "{'OA', 'N50', 'N200', 'N150', 'N100'}\n",
      "{'OA', 'N50', 'N200', 'N150', 'N100'}\n",
      "{'OA'}\n",
      "{'OA'}\n"
     ]
    },
    {
     "name": "stderr",
     "output_type": "stream",
     "text": [
      "/home/x_sarbl/miniconda3/envs/env_analys/lib/python3.8/site-packages/pandas/core/arraylike.py:397: RuntimeWarning: divide by zero encountered in log10\n",
      "  result = getattr(ufunc, method)(*inputs, **kwargs)\n",
      "/home/x_sarbl/miniconda3/envs/env_analys/lib/python3.8/site-packages/pandas/core/arraylike.py:397: RuntimeWarning: invalid value encountered in log10\n",
      "  result = getattr(ufunc, method)(*inputs, **kwargs)\n",
      "/home/x_sarbl/miniconda3/envs/env_analys/lib/python3.8/site-packages/pandas/core/arraylike.py:397: RuntimeWarning: divide by zero encountered in log10\n",
      "  result = getattr(ufunc, method)(*inputs, **kwargs)\n",
      "/home/x_sarbl/miniconda3/envs/env_analys/lib/python3.8/site-packages/pandas/core/arraylike.py:397: RuntimeWarning: invalid value encountered in log10\n",
      "  result = getattr(ufunc, method)(*inputs, **kwargs)\n"
     ]
    }
   ],
   "source": [
    "def add_log(df, varl=None):\n",
    "    if varl is None:\n",
    "        varl = ['OA','N100', 'Org','N100 (cm^-3)','N50','N150','N200']\n",
    "    var_exist = df.columns\n",
    "    \n",
    "    varl_f = set(varl).intersection(var_exist)\n",
    "    print(varl_f)\n",
    "    for v in varl_f:\n",
    "        df[f'log10({v})'] = np.log10(df[v])\n",
    "    return df\n",
    "\n",
    "\n",
    "for mod in dic_df_mod_case.keys():\n",
    "    for c in dic_df_mod_case[mod].keys():\n",
    "    \n",
    "        dic_df_mod_case[mod][c] = add_log(dic_df_mod_case[mod][c])\n",
    "        #dic_dfsm_mod_case[mod][c] = add_log(dic_dfsm_mod_case[mod][c])\n",
    "        \n",
    "df_ATTO = add_log(df_ATTO)"
   ]
  },
  {
   "cell_type": "code",
   "execution_count": 44,
   "id": "4e2558d6-9908-447a-a6b8-82586e8ad1c5",
   "metadata": {},
   "outputs": [],
   "source": [
    "mod='NorESM'"
   ]
  },
  {
   "cell_type": "code",
   "execution_count": 45,
   "id": "7b3818f3-8ba8-4314-af9f-824bb5bd4ed6",
   "metadata": {},
   "outputs": [],
   "source": [
    "ca = mod2cases[mod][0]"
   ]
  },
  {
   "cell_type": "code",
   "execution_count": 46,
   "id": "99db00d8-af1f-4c39-b5f0-97819e7998c4",
   "metadata": {},
   "outputs": [],
   "source": [
    "mask_obs_N = dic_df_mod_case[mod][ca]['obs_N100-500'].notnull()\n",
    "mask_obs_OA = dic_df_mod_case[mod][ca]['obs_OA'].notnull()"
   ]
  },
  {
   "cell_type": "code",
   "execution_count": 47,
   "id": "5b38f2c1-a125-48eb-9652-f8500a00599c",
   "metadata": {},
   "outputs": [],
   "source": [
    "from bs_fdbck.util.plot.BSOA_plots import cdic_model\n",
    "import seaborn as sns\n",
    "from matplotlib import pyplot as plt, gridspec as gridspec\n",
    "from bs_fdbck.util.plot.BSOA_plots import make_cool_grid2, make_cool_grid3\n",
    "import scipy"
   ]
  },
  {
   "cell_type": "markdown",
   "id": "3f83af81-8786-4e40-832f-54d4f04ed3a4",
   "metadata": {},
   "source": [
    "# Load data SMEAR: \n"
   ]
  },
  {
   "cell_type": "code",
   "execution_count": 48,
   "id": "f1906deb-23d4-4a2b-99e5-61386505a4f9",
   "metadata": {
    "lines_to_next_cell": 2
   },
   "outputs": [],
   "source": [
    "from pathlib import Path\n",
    "import matplotlib as mpl\n",
    "import xarray as xr"
   ]
  },
  {
   "cell_type": "code",
   "execution_count": 49,
   "id": "3a77c5d6-ddc4-4ec3-b659-311ba5112667",
   "metadata": {},
   "outputs": [],
   "source": [
    "from pathlib import Path\n",
    "\n",
    "from bs_fdbck.util.BSOA_datamanip import ds2df_inc_preprocessing\n",
    "from bs_fdbck.util.collocate.collocateLONLAToutput import CollocateLONLATout\n",
    "from bs_fdbck.util.collocate.collocate_echam_salsa import CollocateModelEcham\n",
    "import useful_scit.util.log as log\n",
    "\n",
    "from bs_fdbck.util.plot.BSOA_plots import make_cool_grid, plot_scatter\n",
    "\n",
    "log.ger.setLevel(log.log.INFO)\n",
    "import time\n",
    "import xarray as xr\n",
    "import matplotlib.pyplot as plt"
   ]
  },
  {
   "cell_type": "code",
   "execution_count": 50,
   "id": "1ee1cac9-fef3-4dd8-85f3-9e6c810de105",
   "metadata": {},
   "outputs": [],
   "source": [
    "from bs_fdbck.util.plot.BSOA_plots import cdic_model"
   ]
  },
  {
   "cell_type": "code",
   "execution_count": 51,
   "id": "2057079b-be88-4441-bc5e-394bdffb23be",
   "metadata": {
    "lines_to_next_cell": 2
   },
   "outputs": [],
   "source": [
    "from bs_fdbck.constants import path_measurement_data\n",
    "select_station = 'SMR'\n",
    "postproc_data = path_measurement_data /'model_station'/select_station\n",
    "postproc_data_obs = path_measurement_data /select_station/'processed'"
   ]
  },
  {
   "cell_type": "code",
   "execution_count": 52,
   "id": "8dc759e4-02e9-4b41-a1c8-a997e8d21019",
   "metadata": {},
   "outputs": [],
   "source": [
    "path_comb_data_full_time =postproc_data_obs /'SMEAR_data_comb_hourly.csv'"
   ]
  },
  {
   "cell_type": "code",
   "execution_count": 53,
   "id": "1c549661-9574-4bdc-bdac-1b2cd4bc5f77",
   "metadata": {},
   "outputs": [],
   "source": [
    "plot_path = Path(f'Plots/{select_station}')"
   ]
  },
  {
   "cell_type": "code",
   "execution_count": 54,
   "id": "9f0648e3-4961-401c-8739-cd02c970beb2",
   "metadata": {},
   "outputs": [],
   "source": [
    "def make_fn_eval(case,_type):\n",
    "    #_x = v_x.split('(')[0]\n",
    "    #_y = v_y.split('(')[0]\n",
    "    f = f'evalOA_echam_{case}_{_type}_{select_station}.png'\n",
    "    return plot_path /f"
   ]
  },
  {
   "cell_type": "code",
   "execution_count": 55,
   "id": "a4ec97b9-8a48-4b43-9cc2-5d96f4799f3b",
   "metadata": {},
   "outputs": [],
   "source": [
    "plot_path.mkdir(exist_ok=True, parents=True)"
   ]
  },
  {
   "cell_type": "markdown",
   "id": "e7165893-5376-4b69-b3dd-5f7ba141afdd",
   "metadata": {
    "tags": []
   },
   "source": [
    "## Read in model data. "
   ]
  },
  {
   "cell_type": "code",
   "execution_count": 56,
   "id": "942115f9-85de-4355-9ab6-4680feacea71",
   "metadata": {
    "lines_to_next_cell": 2,
    "tags": []
   },
   "outputs": [],
   "source": [
    "models = ['ECHAM-SALSA','NorESM', 'EC-Earth', 'UKESM']\n",
    "mod2cases = {'ECHAM-SALSA' : ['SALSA_BSOA_feedback'],\n",
    "             'NorESM' : ['OsloAero_intBVOC_f09_f09_mg17_fssp'],\n",
    "             'EC-Earth' : ['ECE3_output_Sara'],\n",
    "             'UKESM' : ['AEROCOMTRAJ'],\n",
    "             'Observations':['Obs'],\n",
    "            }\n",
    "di_mod2cases = mod2cases.copy()"
   ]
  },
  {
   "cell_type": "code",
   "execution_count": 57,
   "id": "0bd29e51-a778-410b-be0a-cffbe4670120",
   "metadata": {},
   "outputs": [
    {
     "name": "stdout",
     "output_type": "stream",
     "text": [
      "The autoreload extension is already loaded. To reload it, use:\n",
      "  %reload_ext autoreload\n"
     ]
    }
   ],
   "source": [
    "from bs_fdbck.preprocess.launch_monthly_station_collocation import launch_monthly_station_output\n",
    "from bs_fdbck.util.Nd.sizedist_class_v2.SizedistributionBins import SizedistributionStationBins\n",
    "from bs_fdbck.util.collocate.collocateLONLAToutput import CollocateLONLATout\n",
    "from bs_fdbck.data_info.variable_info import list_sized_vars_nonsec, list_sized_vars_noresm\n",
    "import useful_scit.util.log as log\n",
    "log.ger.setLevel(log.log.INFO)\n",
    "import time"
   ]
  },
  {
   "cell_type": "code",
   "execution_count": 58,
   "id": "9f076e53-4c79-4c9a-aab1-6c8f3ab21e1a",
   "metadata": {},
   "outputs": [],
   "source": [
    "import seaborn as sns\n",
    "import matplotlib.pyplot as plt"
   ]
  },
  {
   "cell_type": "code",
   "execution_count": 59,
   "id": "477071b8-bbc1-41a8-9a0b-eeccef5bb3d0",
   "metadata": {},
   "outputs": [],
   "source": [
    "import numpy as np"
   ]
  },
  {
   "cell_type": "code",
   "execution_count": 60,
   "id": "d89767e3-8b99-4847-a6c4-c46f2880642e",
   "metadata": {},
   "outputs": [],
   "source": [
    "import numpy as np\n",
    "from sklearn.linear_model import LinearRegression, BayesianRidge"
   ]
  },
  {
   "cell_type": "code",
   "execution_count": null,
   "id": "0675592c-52b1-44a9-bfdf-dad3e2eec8d2",
   "metadata": {},
   "outputs": [],
   "source": []
  },
  {
   "cell_type": "markdown",
   "id": "d7304bf2-3561-4b9c-a324-83adb6a84abf",
   "metadata": {
    "tags": []
   },
   "source": [
    "## Constants:"
   ]
  },
  {
   "cell_type": "code",
   "execution_count": 61,
   "id": "ddef15fa-23f4-4999-983d-bb23432ebd9b",
   "metadata": {
    "lines_to_next_cell": 2
   },
   "outputs": [],
   "source": [
    "R = 287.058\n",
    "pressure = 1000. #hPa\n",
    "kg2ug = 1e9\n",
    "temperature = 273.15"
   ]
  },
  {
   "cell_type": "code",
   "execution_count": 62,
   "id": "e21cdcf2-066b-42cd-9347-49e57da68455",
   "metadata": {},
   "outputs": [],
   "source": [
    "import pandas as pd"
   ]
  },
  {
   "cell_type": "markdown",
   "id": "41df4696-cfbc-46be-9b16-35c70449714d",
   "metadata": {},
   "source": [
    "## Read in model data"
   ]
  },
  {
   "cell_type": "code",
   "execution_count": 63,
   "id": "47110931-e207-4ae7-9ff4-64934485a353",
   "metadata": {},
   "outputs": [
    {
     "data": {
      "text/plain": [
       "Index(['Pressure_reanalysis', 'Potential_Temperature_reanalysis',\n",
       "       'Temperature_reanalysis', 'Rainfall', 'Mixing_Depth',\n",
       "       'Relative_Humidity', 'Specific_Humidity_reanalysis', 'Mixing_Ratio',\n",
       "       'Solar_Radiation', 'condensation_sink', 'N50-500', 'N100-500',\n",
       "       'N200-500', 'timeUTC-3', 'pressure', 'temperature', 'humidity',\n",
       "       'precip', 'OA', 'time_traj'],\n",
       "      dtype='object')"
      ]
     },
     "execution_count": 63,
     "metadata": {},
     "output_type": "execute_result"
    }
   ],
   "source": [
    "dic_df_pre['Observations']['Observations'].columns"
   ]
  },
  {
   "cell_type": "code",
   "execution_count": 64,
   "id": "607047b9-c599-4fed-ba35-3313f3997a6d",
   "metadata": {},
   "outputs": [
    {
     "name": "stdout",
     "output_type": "stream",
     "text": [
      "ECHAM-SALSA\n",
      "ECHAM-SALSA SALSA_BSOA_feedback\n",
      "/proj/bolinc/users/x_sarbl/analysis/BS-FDBCK/Data/model_station/SMR/SMR_station_ECHAM-SALSA_SALSA_BSOA_feedback.csv\n",
      "NorESM\n",
      "NorESM OsloAero_intBVOC_f09_f09_mg17_fssp\n",
      "/proj/bolinc/users/x_sarbl/analysis/BS-FDBCK/Data/model_station/SMR/SMR_station_NorESM_OsloAero_intBVOC_f09_f09_mg17_fssp.csv\n",
      "EC-Earth\n",
      "EC-Earth ECE3_output_Sara\n",
      "/proj/bolinc/users/x_sarbl/analysis/BS-FDBCK/Data/model_station/SMR/SMR_station_EC-Earth_ECE3_output_Sara.csv\n",
      "UKESM\n",
      "UKESM AEROCOMTRAJ\n",
      "/proj/bolinc/users/x_sarbl/analysis/BS-FDBCK/Data/model_station/SMR/SMR_station_UKESM_AEROCOMTRAJ.csv\n"
     ]
    }
   ],
   "source": [
    "dic_df_pre=dict()\n",
    "for mod in models:\n",
    "    print(mod)\n",
    "    dic_df_pre[mod] = dict()\n",
    "    for ca in mod2cases[mod]:\n",
    "        print(mod, ca)\n",
    "        fn_out = postproc_data/f'{select_station}_station_{mod}_{ca}.csv'\n",
    "        print(fn_out)\n",
    "        dic_df_pre[mod][ca] = pd.read_csv(fn_out, index_col=0)\n",
    "        dic_df_pre[mod][ca].index = pd.to_datetime(dic_df_pre[mod][ca].index)\n",
    "        #dic_df_mod_case[mod][ca].to_csv(fn_out)"
   ]
  },
  {
   "cell_type": "code",
   "execution_count": 65,
   "id": "50b15b36-4baf-4515-9c26-171ef9a58aea",
   "metadata": {},
   "outputs": [],
   "source": [
    "for mod in models:\n",
    "    for ca in mod2cases[mod]:\n",
    "        _df = dic_df_pre[mod][ca]\n",
    "        for v in ['OA','N50','N100','N200']:\n",
    "            if f'{v}_STP' in _df.columns:\n",
    "                if v in _df.columns:\n",
    "                    _df = _df.rename({v:f'{v}_orig'}, axis=1)\n",
    "                _df = _df.rename({f'{v}_STP':v}, axis=1)\n",
    "        dic_df_pre[mod][ca] = _df"
   ]
  },
  {
   "cell_type": "code",
   "execution_count": 66,
   "id": "8e486012-cd36-49f5-90d5-ed59cbb03333",
   "metadata": {
    "lines_to_next_cell": 2
   },
   "outputs": [],
   "source": [
    "for mo in ['EC-Earth','UKESM']:\n",
    "    if mo in models:\n",
    "        for ca in mod2cases[mo]:\n",
    "            dic_df_pre[mo][ca]['OAG'] = dic_df_pre[mo][ca]['OA']"
   ]
  },
  {
   "cell_type": "markdown",
   "id": "9e86c1ae-f9ac-4187-907b-9a1ace2e7421",
   "metadata": {},
   "source": [
    "### Double check EC-Earth"
   ]
  },
  {
   "cell_type": "code",
   "execution_count": 67,
   "id": "2c005663-03e3-49d8-bbfa-ea280c9842e6",
   "metadata": {},
   "outputs": [],
   "source": [
    "mo = 'EC-Earth'\n",
    "_df = dic_df_pre[mo][mod2cases[mo][0]]"
   ]
  },
  {
   "cell_type": "code",
   "execution_count": 68,
   "id": "a4f1d4ef-e3f1-4c3c-8dfb-4c792859a8ba",
   "metadata": {},
   "outputs": [],
   "source": [
    "_df['hour'] = _df.index.hour"
   ]
  },
  {
   "cell_type": "code",
   "execution_count": 69,
   "id": "744b99be-dc7a-4116-aa67-5521c5e278c9",
   "metadata": {
    "tags": []
   },
   "outputs": [
    {
     "data": {
      "text/plain": [
       "Index(['station', 'time_orig', 'lev', 'CCN0.20', 'CCN1.00', 'M_BCACS',\n",
       "       'M_BCAII', 'M_BCAIS', 'M_BCCOS', 'M_DUACI', 'M_DUACS', 'M_DUCOI',\n",
       "       'M_DUCOS', 'M_POMACS', 'M_POMAII', 'M_POMAIS', 'M_POMCOS', 'M_SO4ACS',\n",
       "       'M_SO4COS', 'M_SO4NUS', 'M_SOAACS', 'M_SOAAII', 'M_SOAAIS', 'M_SOACOS',\n",
       "       'M_SOANUS', 'M_SSACS', 'M_SSCOS', 'N_ACI', 'N_ACS', 'N_AII', 'N_AIS',\n",
       "       'N_COI', 'N_COS', 'N_NUS', 'RDRY_ACS', 'RDRY_AIS', 'RDRY_COS',\n",
       "       'RDRY_NUS', 'RWET_ACI', 'RWET_ACS', 'RWET_AII', 'RWET_AIS', 'RWET_COI',\n",
       "       'RWET_COS', 'RWET_NUS', 'emiisop', 'emiterp', 'loadsoa', 'od350aer',\n",
       "       'od440aer', 'od550aer', 'od550oa', 'od550soa', 'od870aer', 'lev_ifs',\n",
       "       'T', 'DDRY_NUS', 'DDRY_AIS', 'DDRY_ACS', 'DDRY_COS', 'DWET_AII',\n",
       "       'DWET_ACI', 'DWET_COI', 'N50_amb', 'N70', 'N100_amb', 'N150',\n",
       "       'N200_amb', 'N500', 'N50-500', 'N70-500', 'N100-500', 'N150-500',\n",
       "       'N200-500', 'OA_amb', 'POM', 'SOA', 'SOA2', 'T_C', 'is_JJA', 'is_JA',\n",
       "       'isSummer', 'density', 'ambient2stp_correction_factor', 'OA', 'N100',\n",
       "       'N200', 'N50', 'OAG', 'hour'],\n",
       "      dtype='object')"
      ]
     },
     "execution_count": 69,
     "metadata": {},
     "output_type": "execute_result"
    }
   ],
   "source": [
    "_df.columns"
   ]
  },
  {
   "cell_type": "code",
   "execution_count": 70,
   "id": "1346ef89-f266-4fb8-9408-548f4981be2c",
   "metadata": {},
   "outputs": [
    {
     "data": {
      "text/plain": [
       "<AxesSubplot:xlabel='hour'>"
      ]
     },
     "execution_count": 70,
     "metadata": {},
     "output_type": "execute_result"
    },
    {
     "data": {
      "image/png": "[encoded data removed]",
      "text/plain": [
       "<Figure size 432x288 with 1 Axes>"
      ]
     },
     "metadata": {
      "needs_background": "light"
     },
     "output_type": "display_data"
    }
   ],
   "source": [
    "_df.groupby('hour').mean()['T_C'].plot(marker='.')"
   ]
  },
  {
   "cell_type": "code",
   "execution_count": 71,
   "id": "c20567d4-05ea-47de-82a8-8746ebc9061c",
   "metadata": {},
   "outputs": [
    {
     "data": {
      "text/plain": [
       "<AxesSubplot:xlabel='hour'>"
      ]
     },
     "execution_count": 71,
     "metadata": {},
     "output_type": "execute_result"
    },
    {
     "data": {
      "image/png": "[encoded data removed]",
      "text/plain": [
       "<Figure size 432x288 with 1 Axes>"
      ]
     },
     "metadata": {
      "needs_background": "light"
     },
     "output_type": "display_data"
    }
   ],
   "source": [
    "_df.groupby('hour').mean()['emiisop'].plot()"
   ]
  },
  {
   "cell_type": "code",
   "execution_count": 72,
   "id": "7a64559c-8fd8-4bf1-be82-5489185f6385",
   "metadata": {},
   "outputs": [
    {
     "data": {
      "text/plain": [
       "<AxesSubplot:xlabel='hour'>"
      ]
     },
     "execution_count": 72,
     "metadata": {},
     "output_type": "execute_result"
    },
    {
     "data": {
      "image/png": "[encoded data removed]",
      "text/plain": [
       "<Figure size 432x288 with 1 Axes>"
      ]
     },
     "metadata": {
      "needs_background": "light"
     },
     "output_type": "display_data"
    }
   ],
   "source": [
    "_df.groupby('hour').mean()['POM'].plot()"
   ]
  },
  {
   "cell_type": "code",
   "execution_count": 73,
   "id": "976d9b4e-e839-47f8-a5fc-c09f67267bba",
   "metadata": {},
   "outputs": [
    {
     "data": {
      "text/plain": [
       "<AxesSubplot:xlabel='hour'>"
      ]
     },
     "execution_count": 73,
     "metadata": {},
     "output_type": "execute_result"
    },
    {
     "data": {
      "image/png": "[encoded data removed]",
      "text/plain": [
       "<Figure size 432x288 with 1 Axes>"
      ]
     },
     "metadata": {
      "needs_background": "light"
     },
     "output_type": "display_data"
    }
   ],
   "source": [
    "_df.groupby('hour').mean()['POM'].plot()"
   ]
  },
  {
   "cell_type": "code",
   "execution_count": 74,
   "id": "46fced0e-022b-4d58-b18d-7df485796d12",
   "metadata": {},
   "outputs": [
    {
     "data": {
      "text/plain": [
       "<AxesSubplot:xlabel='hour'>"
      ]
     },
     "execution_count": 74,
     "metadata": {},
     "output_type": "execute_result"
    },
    {
     "data": {
      "image/png": "[encoded data removed]",
      "text/plain": [
       "<Figure size 432x288 with 1 Axes>"
      ]
     },
     "metadata": {
      "needs_background": "light"
     },
     "output_type": "display_data"
    }
   ],
   "source": [
    "_df.groupby('hour').mean()['N100'].plot()"
   ]
  },
  {
   "cell_type": "markdown",
   "id": "6647627d-08cd-45f3-9c17-cb80508b3efc",
   "metadata": {},
   "source": [
    "## Read in observations"
   ]
  },
  {
   "cell_type": "code",
   "execution_count": 75,
   "id": "5a8d72e0-d343-4b6a-ad5d-b62e03003975",
   "metadata": {},
   "outputs": [],
   "source": [
    "df_obs = pd.read_csv(path_comb_data_full_time,index_col=0)"
   ]
  },
  {
   "cell_type": "code",
   "execution_count": 76,
   "id": "e4612049-b690-40dd-bc73-234196a1738d",
   "metadata": {},
   "outputs": [],
   "source": [
    "df_obs = df_obs.rename({'Org_STP':'OA'}, axis=1)"
   ]
  },
  {
   "cell_type": "code",
   "execution_count": 77,
   "id": "aad51628-d54b-4014-b681-f089cfa0d415",
   "metadata": {},
   "outputs": [],
   "source": [
    "dic_df_pre['Observations']=dict()\n",
    "dic_df_pre['Observations']['Observations'] = df_obs\n",
    "dic_df_pre['Observations']['Observations'].index = pd.to_datetime(dic_df_pre['Observations']['Observations'].index)"
   ]
  },
  {
   "cell_type": "code",
   "execution_count": 78,
   "id": "02365074-77aa-4ee4-849b-3882ffb4505f",
   "metadata": {
    "lines_to_next_cell": 2
   },
   "outputs": [],
   "source": [
    "mod2cases['Observations']= ['Observations']"
   ]
  },
  {
   "cell_type": "markdown",
   "id": "d14eedf8-b40e-4062-8879-cf35ab308dbe",
   "metadata": {},
   "source": [
    "## Set uo dic with all OA values from models"
   ]
  },
  {
   "cell_type": "code",
   "execution_count": 79,
   "id": "79deff64-5f2d-4d4b-b3e3-f2d0cab90784",
   "metadata": {},
   "outputs": [],
   "source": [
    "dic_df_mod_case = dic_df_pre"
   ]
  },
  {
   "cell_type": "code",
   "execution_count": 80,
   "id": "e8669fe6-b873-47e7-8d04-edbfb8469d76",
   "metadata": {
    "tags": []
   },
   "outputs": [
    {
     "name": "stdout",
     "output_type": "stream",
     "text": [
      "ECHAM-SALSA\n",
      "SALSA_BSOA_feedback\n",
      "NorESM\n",
      "OsloAero_intBVOC_f09_f09_mg17_fssp\n",
      "EC-Earth\n",
      "ECE3_output_Sara\n",
      "UKESM\n",
      "AEROCOMTRAJ\n"
     ]
    }
   ],
   "source": [
    "dic_mod_oa = dict()\n",
    "#dic_mod_soa = dict()\n",
    "dic_mod_all = dict()\n",
    "\n",
    "\n",
    "for mod in models:\n",
    "    dic_mod_oa[mod] = dict()\n",
    "    #dic_mod_soa[mod] = dict()\n",
    "    dic_mod_all[mod] = dict()\n",
    "    for ca in di_mod2cases[mod]:\n",
    "        dic_mod_oa[mod][ca] = dict()\n",
    "        #dic_mod_soa[mod][ca] = dict()\n",
    "        dic_mod_all[mod][ca] = dict()\n",
    "    \n",
    "    \n",
    "for mo in models:\n",
    "    print(mo)\n",
    "    for ca in di_mod2cases[mo]:\n",
    "        print(ca)\n",
    "        _df = dic_df_mod_case[mo][ca]\n",
    "        dic_mod_oa[mo][ca] =_df['OA']\n",
    "        #dic_mod_soa[mo][ca][i] =_df['SOA']\n",
    "        dic_mod_all[mo][ca] =_df\n",
    "    \n",
    "\n"
   ]
  },
  {
   "cell_type": "code",
   "execution_count": 81,
   "id": "81b702a7-245a-4462-a576-efc0b3070c62",
   "metadata": {
    "lines_to_next_cell": 2
   },
   "outputs": [
    {
     "data": {
      "text/plain": [
       "<AxesSubplot:xlabel='time'>"
      ]
     },
     "execution_count": 81,
     "metadata": {},
     "output_type": "execute_result"
    },
    {
     "data": {
      "image/png": "[encoded data removed]",
      "text/plain": [
       "<Figure size 432x288 with 1 Axes>"
      ]
     },
     "metadata": {
      "needs_background": "light"
     },
     "output_type": "display_data"
    }
   ],
   "source": [
    "dic_df_pre['ECHAM-SALSA']['SALSA_BSOA_feedback']['OA'].plot()"
   ]
  },
  {
   "cell_type": "code",
   "execution_count": 82,
   "id": "261a21d4-b9e0-458e-892a-4118c4813aa8",
   "metadata": {},
   "outputs": [
    {
     "data": {
      "text/plain": [
       "(390048.0, 390792.0)"
      ]
     },
     "execution_count": 82,
     "metadata": {},
     "output_type": "execute_result"
    },
    {
     "data": {
      "image/png": "[encoded data removed]",
      "text/plain": [
       "<Figure size 432x288 with 1 Axes>"
      ]
     },
     "metadata": {
      "needs_background": "light"
     },
     "output_type": "display_data"
    }
   ],
   "source": [
    "dic_df_pre['ECHAM-SALSA']['SALSA_BSOA_feedback'].resample('h').ffill()['OA'].plot()         \n",
    "dic_df_pre['ECHAM-SALSA']['SALSA_BSOA_feedback']['OA'].plot()\n",
    "plt.xlim(['2014-07','2014-08'])"
   ]
  },
  {
   "cell_type": "code",
   "execution_count": 83,
   "id": "ae8136a0-d811-4ec4-8678-f92e312bb765",
   "metadata": {},
   "outputs": [],
   "source": [
    "dic_df_pre_SMR =dict()\n",
    "for key in dic_df_pre.keys():\n",
    "    dic_df_pre_SMR[key] = dict()\n",
    "    for key2 in dic_df_pre[key].keys():\n",
    "        dic_df_pre_SMR[key][key2] = dic_df_pre[key][key2].copy()\n",
    "\n"
   ]
  },
  {
   "cell_type": "markdown",
   "id": "f869bdcc-d1b1-47ce-bff7-9fe26b5e6ce2",
   "metadata": {
    "tags": []
   },
   "source": [
    "## Merge with observations:"
   ]
  },
  {
   "cell_type": "code",
   "execution_count": 84,
   "id": "ed6c61ac-62eb-4914-b9fa-0b3a7d406b03",
   "metadata": {},
   "outputs": [],
   "source": [
    "dic_df_mod_case = dic_df_pre.copy()"
   ]
  },
  {
   "cell_type": "code",
   "execution_count": 85,
   "id": "09c3736b-4198-4b4a-86ef-2d7b2c762145",
   "metadata": {},
   "outputs": [],
   "source": [
    "mask_obs_OA =  dic_df_pre['Observations']['Observations']['OA'].notnull()"
   ]
  },
  {
   "cell_type": "code",
   "execution_count": 86,
   "id": "8e5cbde0-17ba-4e13-8c17-f4a2d1eced2b",
   "metadata": {
    "lines_to_next_cell": 2
   },
   "outputs": [],
   "source": [
    "_df = dic_df_pre['Observations']['Observations']['OA'].rename('Obs')\n",
    "\n",
    "df_OA_all = pd.DataFrame(_df)\n",
    "df_OAG_all = pd.DataFrame(_df)"
   ]
  },
  {
   "cell_type": "code",
   "execution_count": 87,
   "id": "3335fc28-5761-4dd5-a3ba-0b5f2888956e",
   "metadata": {},
   "outputs": [
    {
     "data": {
      "text/html": [
       "<div>\n",
       "<style scoped>\n",
       "    .dataframe tbody tr th:only-of-type {\n",
       "        vertical-align: middle;\n",
       "    }\n",
       "\n",
       "    .dataframe tbody tr th {\n",
       "        vertical-align: top;\n",
       "    }\n",
       "\n",
       "    .dataframe thead th {\n",
       "        text-align: right;\n",
       "    }\n",
       "</style>\n",
       "<table border=\"1\" class=\"dataframe\">\n",
       "  <thead>\n",
       "    <tr style=\"text-align: right;\">\n",
       "      <th></th>\n",
       "      <th>Obs</th>\n",
       "    </tr>\n",
       "    <tr>\n",
       "      <th>time</th>\n",
       "      <th></th>\n",
       "    </tr>\n",
       "  </thead>\n",
       "  <tbody>\n",
       "    <tr>\n",
       "      <th>2012-01-01 00:00:00</th>\n",
       "      <td>NaN</td>\n",
       "    </tr>\n",
       "    <tr>\n",
       "      <th>2012-01-01 01:00:00</th>\n",
       "      <td>NaN</td>\n",
       "    </tr>\n",
       "    <tr>\n",
       "      <th>2012-01-01 02:00:00</th>\n",
       "      <td>NaN</td>\n",
       "    </tr>\n",
       "    <tr>\n",
       "      <th>2012-01-01 03:00:00</th>\n",
       "      <td>NaN</td>\n",
       "    </tr>\n",
       "    <tr>\n",
       "      <th>2012-01-01 04:00:00</th>\n",
       "      <td>NaN</td>\n",
       "    </tr>\n",
       "    <tr>\n",
       "      <th>...</th>\n",
       "      <td>...</td>\n",
       "    </tr>\n",
       "    <tr>\n",
       "      <th>2020-12-31 19:00:00</th>\n",
       "      <td>NaN</td>\n",
       "    </tr>\n",
       "    <tr>\n",
       "      <th>2020-12-31 20:00:00</th>\n",
       "      <td>NaN</td>\n",
       "    </tr>\n",
       "    <tr>\n",
       "      <th>2020-12-31 21:00:00</th>\n",
       "      <td>NaN</td>\n",
       "    </tr>\n",
       "    <tr>\n",
       "      <th>2020-12-31 22:00:00</th>\n",
       "      <td>NaN</td>\n",
       "    </tr>\n",
       "    <tr>\n",
       "      <th>2020-12-31 23:00:00</th>\n",
       "      <td>NaN</td>\n",
       "    </tr>\n",
       "  </tbody>\n",
       "</table>\n",
       "<p>76144 rows × 1 columns</p>\n",
       "</div>"
      ],
      "text/plain": [
       "                     Obs\n",
       "time                    \n",
       "2012-01-01 00:00:00  NaN\n",
       "2012-01-01 01:00:00  NaN\n",
       "2012-01-01 02:00:00  NaN\n",
       "2012-01-01 03:00:00  NaN\n",
       "2012-01-01 04:00:00  NaN\n",
       "...                  ...\n",
       "2020-12-31 19:00:00  NaN\n",
       "2020-12-31 20:00:00  NaN\n",
       "2020-12-31 21:00:00  NaN\n",
       "2020-12-31 22:00:00  NaN\n",
       "2020-12-31 23:00:00  NaN\n",
       "\n",
       "[76144 rows x 1 columns]"
      ]
     },
     "execution_count": 87,
     "metadata": {},
     "output_type": "execute_result"
    }
   ],
   "source": [
    "df_OA_all"
   ]
  },
  {
   "cell_type": "code",
   "execution_count": 88,
   "id": "73ad521e-fddc-4c9f-bf34-850046e7b2c0",
   "metadata": {
    "lines_to_next_cell": 2
   },
   "outputs": [
    {
     "name": "stdout",
     "output_type": "stream",
     "text": [
      "ECHAM-SALSA\n",
      "NorESM\n",
      "EC-Earth\n",
      "UKESM\n"
     ]
    }
   ],
   "source": [
    "for mod in dic_df_pre.keys():\n",
    "    if mod=='Observations':\n",
    "        continue\n",
    "    print(mod)\n",
    "    for ca in dic_df_pre[mod].keys():\n",
    "        if len(dic_df_pre[mod].keys())==1:\n",
    "            use_name = mod\n",
    "        else: \n",
    "            use_name = f'{mod}: {ca}'\n",
    "        df_OA_all[use_name] = dic_df_pre[mod][ca]['OA']\n",
    "        df_OAG_all[use_name] = dic_df_pre[mod][ca]['OAG']\n",
    "\n",
    "\n",
    "#df_OA_all = df_OA_all[df_OA_all[mod].notna()]\n",
    "df_OA_all = df_OA_all[df_OA_all['Obs'].notna()]\n",
    "#df_OAG_all = df_OAG_all[df_OAG_all[mod].notna()]\n",
    "df_OAG_all = df_OAG_all[df_OAG_all['Obs'].notna()]"
   ]
  },
  {
   "cell_type": "code",
   "execution_count": 89,
   "id": "521d644e-45e7-464c-b77c-93d42e3479eb",
   "metadata": {},
   "outputs": [
    {
     "data": {
      "text/html": [
       "<div>\n",
       "<style scoped>\n",
       "    .dataframe tbody tr th:only-of-type {\n",
       "        vertical-align: middle;\n",
       "    }\n",
       "\n",
       "    .dataframe tbody tr th {\n",
       "        vertical-align: top;\n",
       "    }\n",
       "\n",
       "    .dataframe thead th {\n",
       "        text-align: right;\n",
       "    }\n",
       "</style>\n",
       "<table border=\"1\" class=\"dataframe\">\n",
       "  <thead>\n",
       "    <tr style=\"text-align: right;\">\n",
       "      <th></th>\n",
       "      <th>Obs</th>\n",
       "      <th>ECHAM-SALSA</th>\n",
       "      <th>NorESM</th>\n",
       "      <th>EC-Earth</th>\n",
       "      <th>UKESM</th>\n",
       "    </tr>\n",
       "    <tr>\n",
       "      <th>time</th>\n",
       "      <th></th>\n",
       "      <th></th>\n",
       "      <th></th>\n",
       "      <th></th>\n",
       "      <th></th>\n",
       "    </tr>\n",
       "  </thead>\n",
       "  <tbody>\n",
       "    <tr>\n",
       "      <th>2012-05-24 14:00:00</th>\n",
       "      <td>3.855590</td>\n",
       "      <td>0.521079</td>\n",
       "      <td>0.880730</td>\n",
       "      <td>2.321318</td>\n",
       "      <td>1.156147</td>\n",
       "    </tr>\n",
       "    <tr>\n",
       "      <th>2012-05-24 15:00:00</th>\n",
       "      <td>3.722964</td>\n",
       "      <td>0.495629</td>\n",
       "      <td>0.892980</td>\n",
       "      <td>NaN</td>\n",
       "      <td>NaN</td>\n",
       "    </tr>\n",
       "    <tr>\n",
       "      <th>2012-05-24 16:00:00</th>\n",
       "      <td>3.481069</td>\n",
       "      <td>0.629300</td>\n",
       "      <td>0.903716</td>\n",
       "      <td>NaN</td>\n",
       "      <td>NaN</td>\n",
       "    </tr>\n",
       "    <tr>\n",
       "      <th>2012-05-24 17:00:00</th>\n",
       "      <td>3.249105</td>\n",
       "      <td>0.727798</td>\n",
       "      <td>0.913719</td>\n",
       "      <td>1.252269</td>\n",
       "      <td>1.323446</td>\n",
       "    </tr>\n",
       "    <tr>\n",
       "      <th>2012-05-24 18:00:00</th>\n",
       "      <td>2.435595</td>\n",
       "      <td>0.919183</td>\n",
       "      <td>0.924918</td>\n",
       "      <td>NaN</td>\n",
       "      <td>NaN</td>\n",
       "    </tr>\n",
       "    <tr>\n",
       "      <th>...</th>\n",
       "      <td>...</td>\n",
       "      <td>...</td>\n",
       "      <td>...</td>\n",
       "      <td>...</td>\n",
       "      <td>...</td>\n",
       "    </tr>\n",
       "    <tr>\n",
       "      <th>2017-12-31 19:00:00</th>\n",
       "      <td>1.577723</td>\n",
       "      <td>0.346672</td>\n",
       "      <td>3.018541</td>\n",
       "      <td>NaN</td>\n",
       "      <td>NaN</td>\n",
       "    </tr>\n",
       "    <tr>\n",
       "      <th>2017-12-31 20:00:00</th>\n",
       "      <td>1.742238</td>\n",
       "      <td>0.447327</td>\n",
       "      <td>3.016776</td>\n",
       "      <td>2.493944</td>\n",
       "      <td>0.571691</td>\n",
       "    </tr>\n",
       "    <tr>\n",
       "      <th>2017-12-31 21:00:00</th>\n",
       "      <td>1.743366</td>\n",
       "      <td>0.480732</td>\n",
       "      <td>2.944646</td>\n",
       "      <td>NaN</td>\n",
       "      <td>NaN</td>\n",
       "    </tr>\n",
       "    <tr>\n",
       "      <th>2017-12-31 22:00:00</th>\n",
       "      <td>1.910014</td>\n",
       "      <td>0.371734</td>\n",
       "      <td>2.858017</td>\n",
       "      <td>NaN</td>\n",
       "      <td>NaN</td>\n",
       "    </tr>\n",
       "    <tr>\n",
       "      <th>2017-12-31 23:00:00</th>\n",
       "      <td>1.838784</td>\n",
       "      <td>0.409852</td>\n",
       "      <td>2.882121</td>\n",
       "      <td>2.605153</td>\n",
       "      <td>0.575111</td>\n",
       "    </tr>\n",
       "  </tbody>\n",
       "</table>\n",
       "<p>24973 rows × 5 columns</p>\n",
       "</div>"
      ],
      "text/plain": [
       "                          Obs  ECHAM-SALSA    NorESM  EC-Earth     UKESM\n",
       "time                                                                    \n",
       "2012-05-24 14:00:00  3.855590     0.521079  0.880730  2.321318  1.156147\n",
       "2012-05-24 15:00:00  3.722964     0.495629  0.892980       NaN       NaN\n",
       "2012-05-24 16:00:00  3.481069     0.629300  0.903716       NaN       NaN\n",
       "2012-05-24 17:00:00  3.249105     0.727798  0.913719  1.252269  1.323446\n",
       "2012-05-24 18:00:00  2.435595     0.919183  0.924918       NaN       NaN\n",
       "...                       ...          ...       ...       ...       ...\n",
       "2017-12-31 19:00:00  1.577723     0.346672  3.018541       NaN       NaN\n",
       "2017-12-31 20:00:00  1.742238     0.447327  3.016776  2.493944  0.571691\n",
       "2017-12-31 21:00:00  1.743366     0.480732  2.944646       NaN       NaN\n",
       "2017-12-31 22:00:00  1.910014     0.371734  2.858017       NaN       NaN\n",
       "2017-12-31 23:00:00  1.838784     0.409852  2.882121  2.605153  0.575111\n",
       "\n",
       "[24973 rows x 5 columns]"
      ]
     },
     "execution_count": 89,
     "metadata": {},
     "output_type": "execute_result"
    }
   ],
   "source": [
    "df_OA_all"
   ]
  },
  {
   "cell_type": "code",
   "execution_count": 90,
   "id": "e38e59ea-689a-4846-be3c-8291eda9fba7",
   "metadata": {},
   "outputs": [],
   "source": [
    "orgname={'NorESM' : 'OA',\n",
    "         'ECHAM-SALSA': 'OA'}"
   ]
  },
  {
   "cell_type": "code",
   "execution_count": 91,
   "id": "f0b56658-9064-4496-ba62-95c2d51c46ac",
   "metadata": {},
   "outputs": [],
   "source": [
    "seasons2months = {'DJF':[12,1,2],\n",
    "        'MAM': [3,4,5],\n",
    "        'JJA':[6,7,8],\n",
    "        'SON':[9,10,11],\n",
    "       }"
   ]
  },
  {
   "cell_type": "code",
   "execution_count": 92,
   "id": "ad8ed7d6-c5e8-4a83-abc1-31c11d03ec7e",
   "metadata": {},
   "outputs": [],
   "source": [
    "seasons2months2 = {'JFM': [ 1, 2,3], 'AMJ': [ 4, 5,6], 'JAS': [ 7, 8,9], 'OND': [ 10, 11,12]}"
   ]
  },
  {
   "cell_type": "code",
   "execution_count": 93,
   "id": "ca69218b-ba98-474c-8915-06914a8cb645",
   "metadata": {
    "lines_to_next_cell": 2
   },
   "outputs": [],
   "source": [
    "linestyle_dic = {\n",
    "    'Obs': 'solid',\n",
    "    'NorESM':'dashdot',\n",
    "    'UKESM':'dashdot',\n",
    "    'ECHAM-SALSA':'-.',\n",
    "    'EC-Earth':'-.',\n",
    "}"
   ]
  },
  {
   "cell_type": "markdown",
   "id": "105ebaee-fe16-4944-a704-a726641641ab",
   "metadata": {},
   "source": [
    "## Choose months: "
   ]
  },
  {
   "cell_type": "code",
   "execution_count": 94,
   "id": "40943a0a-3594-4cdb-81c8-51482bcba0fa",
   "metadata": {},
   "outputs": [],
   "source": [
    "months = [1,2,3,4,5,6,7,8,9,10,11,12]\n"
   ]
  },
  {
   "cell_type": "markdown",
   "id": "b4bdadaa-eed7-4115-b1c7-773b938d8000",
   "metadata": {},
   "source": [
    "# ANALYSIS\n"
   ]
  },
  {
   "cell_type": "code",
   "execution_count": 95,
   "id": "4ed19342-ed19-44ab-89c5-72d36337f5e3",
   "metadata": {},
   "outputs": [
    {
     "data": {
      "text/plain": [
       "<AxesSubplot:xlabel='time'>"
      ]
     },
     "execution_count": 95,
     "metadata": {},
     "output_type": "execute_result"
    },
    {
     "data": {
      "image/png": "[encoded data removed]",
      "text/plain": [
       "<Figure size 432x288 with 1 Axes>"
      ]
     },
     "metadata": {
      "needs_background": "light"
     },
     "output_type": "display_data"
    }
   ],
   "source": [
    "dic_df_pre_SMR['NorESM']['OsloAero_intBVOC_f09_f09_mg17_fssp']['T_C'].plot()\n",
    "\n",
    "dic_df_pre_ATTO['NorESM']['OsloAero_intBVOC_f09_f09_mg17_fssp']['T_C'].plot()"
   ]
  },
  {
   "cell_type": "code",
   "execution_count": 96,
   "id": "94978ea9-b7e4-4aae-b60b-47da81d4c19b",
   "metadata": {},
   "outputs": [],
   "source": [
    "df_noresm_smr = dic_df_pre_SMR['NorESM']['OsloAero_intBVOC_f09_f09_mg17_fssp'].resample('d').mean()\n",
    "df_noresm_atto = dic_df_pre_ATTO['NorESM']['OsloAero_intBVOC_f09_f09_mg17_fssp'].resample('d').mean()\n"
   ]
  },
  {
   "cell_type": "code",
   "execution_count": 97,
   "id": "0557bae6-375b-4a6f-889c-9c03526946fb",
   "metadata": {},
   "outputs": [],
   "source": [
    "df_obs_smr = dic_df_pre_SMR['Observations']['Observations'].resample('d').mean()\n",
    "df_obs_atto = dic_df_pre_ATTO['Observations']['Observations'].resample('d').mean()\n"
   ]
  },
  {
   "cell_type": "code",
   "execution_count": 98,
   "id": "9792bdcc-01d0-4270-b8a4-1b7819c6f079",
   "metadata": {},
   "outputs": [],
   "source": [
    "dic_df = dict(\n",
    "    ATTO = dict(NorESM=df_noresm_atto, Observations=df_obs_atto),\n",
    "    SMR = dict(NorESM=df_noresm_smr, Observations=df_obs_smr),\n",
    ")\n",
    "              "
   ]
  },
  {
   "cell_type": "code",
   "execution_count": 99,
   "id": "dc162487-791d-4f80-b1cd-135aaf1e923a",
   "metadata": {},
   "outputs": [],
   "source": [
    "dic_season= dict(\n",
    "    ATTO = 'MAM',\n",
    "    SMR = 'JJA',\n",
    ")"
   ]
  },
  {
   "cell_type": "code",
   "execution_count": 100,
   "id": "91801bb3-87e5-4785-b578-32512ff31cdd",
   "metadata": {},
   "outputs": [],
   "source": [
    "station = 'SMR'\n",
    "\n"
   ]
  },
  {
   "cell_type": "code",
   "execution_count": 101,
   "id": "2fe794f1-c47a-4920-b339-916846b528ff",
   "metadata": {},
   "outputs": [
    {
     "data": {
      "text/plain": [
       "<AxesSubplot:xlabel='time'>"
      ]
     },
     "execution_count": 101,
     "metadata": {},
     "output_type": "execute_result"
    },
    {
     "data": {
      "image/png": "[encoded data removed]",
      "text/plain": [
       "<Figure size 432x288 with 1 Axes>"
      ]
     },
     "metadata": {
      "needs_background": "light"
     },
     "output_type": "display_data"
    }
   ],
   "source": [
    "df_noresm_smr['SFisoprene'].plot()"
   ]
  },
  {
   "cell_type": "code",
   "execution_count": 102,
   "id": "c7893608-80b5-46fe-8f7b-e40f384b76d5",
   "metadata": {},
   "outputs": [
    {
     "data": {
      "text/plain": [
       "[6, 7, 8]"
      ]
     },
     "execution_count": 102,
     "metadata": {},
     "output_type": "execute_result"
    }
   ],
   "source": [
    "seasons2months['JJA']\n"
   ]
  },
  {
   "cell_type": "code",
   "execution_count": 103,
   "id": "5db2e532-b217-457a-a653-654711dfef29",
   "metadata": {},
   "outputs": [
    {
     "data": {
      "text/plain": [
       "<AxesSubplot:xlabel='SFisoprene', ylabel='OA'>"
      ]
     },
     "execution_count": 103,
     "metadata": {},
     "output_type": "execute_result"
    },
    {
     "data": {
      "image/png": "[encoded data removed]",
      "text/plain": [
       "<Figure size 432x288 with 1 Axes>"
      ]
     },
     "metadata": {
      "needs_background": "light"
     },
     "output_type": "display_data"
    }
   ],
   "source": [
    "station = 'SMR'\n",
    "season = dic_season[station]\n",
    "_df = dic_df[station]['NorESM']\n",
    "\n",
    "months = seasons2months[season]\n",
    "_df = _df[_df.index.month.isin(months)]\n",
    "#_df['SFisoprene'].plot()\n",
    "sns.scatterplot(x='SFisoprene', y='OA', data = _df)"
   ]
  },
  {
   "cell_type": "code",
   "execution_count": 104,
   "id": "ea2f554f-85a0-4e3e-9753-6b543a6a0bd2",
   "metadata": {},
   "outputs": [
    {
     "data": {
      "text/plain": [
       "<AxesSubplot:xlabel='T_C', ylabel='SFisoprene'>"
      ]
     },
     "execution_count": 104,
     "metadata": {},
     "output_type": "execute_result"
    },
    {
     "data": {
      "image/png": "[encoded data removed]",
      "text/plain": [
       "<Figure size 432x288 with 1 Axes>"
      ]
     },
     "metadata": {
      "needs_background": "light"
     },
     "output_type": "display_data"
    }
   ],
   "source": [
    "station = 'SMR'\n",
    "season = dic_season[station]\n",
    "_df = dic_df[station]['NorESM'].resample('d').mean()\n",
    "\n",
    "months = seasons2months[season]\n",
    "_df = _df[_df.index.month.isin(months)]\n",
    "#_df['SFisoprene'].plot()\n",
    "sns.scatterplot(y='SFisoprene', x='T_C', data = _df)"
   ]
  },
  {
   "cell_type": "code",
   "execution_count": 105,
   "id": "8989967c-eb37-4c2f-974e-03b92f5a1ea5",
   "metadata": {},
   "outputs": [
    {
     "data": {
      "text/plain": [
       "<AxesSubplot:xlabel='OA', ylabel='SFisoprene'>"
      ]
     },
     "execution_count": 105,
     "metadata": {},
     "output_type": "execute_result"
    },
    {
     "data": {
      "image/png": "[encoded data removed]",
      "text/plain": [
       "<Figure size 432x288 with 1 Axes>"
      ]
     },
     "metadata": {
      "needs_background": "light"
     },
     "output_type": "display_data"
    }
   ],
   "source": [
    "station = 'SMR'\n",
    "season = dic_season[station]\n",
    "_df = dic_df[station]['NorESM'].resample('d').mean()\n",
    "\n",
    "months = seasons2months[season]\n",
    "_df = _df[_df.index.month.isin(months)]\n",
    "#_df['SFisoprene'].plot()\n",
    "sns.scatterplot(y='SFisoprene', x='OA', data = _df)"
   ]
  },
  {
   "cell_type": "code",
   "execution_count": 106,
   "id": "b4cba727-5357-4277-907c-7e0934db982e",
   "metadata": {},
   "outputs": [
    {
     "data": {
      "text/plain": [
       "<AxesSubplot:xlabel='OA', ylabel='SFmonoterp'>"
      ]
     },
     "execution_count": 106,
     "metadata": {},
     "output_type": "execute_result"
    },
    {
     "data": {
      "image/png": "[encoded data removed]",
      "text/plain": [
       "<Figure size 432x288 with 1 Axes>"
      ]
     },
     "metadata": {
      "needs_background": "light"
     },
     "output_type": "display_data"
    }
   ],
   "source": [
    "station = 'SMR'\n",
    "season = dic_season[station]\n",
    "_df = dic_df[station]['NorESM'].resample('d').mean()\n",
    "\n",
    "months = seasons2months[season]\n",
    "_df = _df[_df.index.month.isin(months)]\n",
    "#_df['SFisoprene'].plot()\n",
    "sns.scatterplot(y='SFmonoterp', x='OA', data = _df)"
   ]
  },
  {
   "cell_type": "code",
   "execution_count": null,
   "id": "ffd598d4-6f19-4b7e-bce6-cac5ba81c1d6",
   "metadata": {},
   "outputs": [],
   "source": []
  },
  {
   "cell_type": "code",
   "execution_count": 107,
   "id": "e7bccc12-ac04-417c-a791-d17d2ad96bf4",
   "metadata": {},
   "outputs": [
    {
     "data": {
      "text/plain": [
       "<AxesSubplot:xlabel='T_C', ylabel='SFmonoterp'>"
      ]
     },
     "execution_count": 107,
     "metadata": {},
     "output_type": "execute_result"
    },
    {
     "data": {
      "image/png": "[encoded data removed]",
      "text/plain": [
       "<Figure size 432x288 with 1 Axes>"
      ]
     },
     "metadata": {
      "needs_background": "light"
     },
     "output_type": "display_data"
    }
   ],
   "source": [
    "station = 'ATTO'\n",
    "season = dic_season[station]\n",
    "_df = dic_df[station]['NorESM'].resample('d').mean()\n",
    "\n",
    "months = seasons2months[season]\n",
    "_df = _df[_df.index.month.isin(months)]\n",
    "#_df['SFisoprene'].plot()\n",
    "sns.scatterplot(y='SFmonoterp', x='T_C', data = _df)"
   ]
  },
  {
   "cell_type": "code",
   "execution_count": 108,
   "id": "d063c987-53f7-4cbb-94fe-f0c4dc16f254",
   "metadata": {},
   "outputs": [
    {
     "data": {
      "text/plain": [
       "<AxesSubplot:xlabel='T_C', ylabel='SFisoprene'>"
      ]
     },
     "execution_count": 108,
     "metadata": {},
     "output_type": "execute_result"
    },
    {
     "data": {
      "image/png": "[encoded data removed]",
      "text/plain": [
       "<Figure size 432x288 with 1 Axes>"
      ]
     },
     "metadata": {
      "needs_background": "light"
     },
     "output_type": "display_data"
    }
   ],
   "source": [
    "station = 'ATTO'\n",
    "season = dic_season[station]\n",
    "_df = dic_df[station]['NorESM'].resample('d').mean()\n",
    "\n",
    "months = seasons2months[season]\n",
    "_df = _df[_df.index.month.isin(months)]\n",
    "#_df['SFisoprene'].plot()\n",
    "sns.scatterplot(y='SFisoprene', x='T_C', data = _df)"
   ]
  },
  {
   "cell_type": "code",
   "execution_count": 109,
   "id": "2090087c-9e3e-4d8f-929e-ecc6d33b2453",
   "metadata": {},
   "outputs": [
    {
     "data": {
      "text/plain": [
       "<AxesSubplot:xlabel='time'>"
      ]
     },
     "execution_count": 109,
     "metadata": {},
     "output_type": "execute_result"
    },
    {
     "data": {
      "image/png": "[encoded data removed]",
      "text/plain": [
       "<Figure size 432x288 with 1 Axes>"
      ]
     },
     "metadata": {
      "needs_background": "light"
     },
     "output_type": "display_data"
    }
   ],
   "source": [
    "_df['T_C'].plot()\n"
   ]
  },
  {
   "cell_type": "code",
   "execution_count": 110,
   "id": "69959dac-4d0f-49a7-9fc7-fe23deef255a",
   "metadata": {},
   "outputs": [
    {
     "name": "stdout",
     "output_type": "stream",
     "text": [
      "0.2622733961352677\n"
     ]
    },
    {
     "data": {
      "text/plain": [
       "<matplotlib.legend.Legend at 0x7f96177f8a60>"
      ]
     },
     "execution_count": 110,
     "metadata": {},
     "output_type": "execute_result"
    },
    {
     "data": {
      "image/png": "[encoded data removed]",
      "text/plain": [
       "<Figure size 432x288 with 1 Axes>"
      ]
     },
     "metadata": {
      "needs_background": "light"
     },
     "output_type": "display_data"
    }
   ],
   "source": [
    "station = 'SMR'\n",
    "season = dic_season[station]\n",
    "_df = dic_df[station]['NorESM'].resample('d').mean()\n",
    "\n",
    "_df['emissions_monoterp2isoprene'] = _df['SFmonoterp']/_df['SFisoprene']\n",
    "_df = _df[ _df['SFmonoterp']>0]\n",
    "_df = _df[ _df['SFisoprene']>0]\n",
    "_df = _df[_df['emissions_monoterp2isoprene'].notna()]\n",
    "\n",
    "m = _df['emissions_monoterp2isoprene'].median()\n",
    "label = f'{station}, median={m}'\n",
    "_df['emissions_monoterp2isoprene'].plot.hist( bins = np.logspace(-1,3), alpha=0.5, label=label)\n",
    "plt.xscale('log')\n",
    "\n",
    "station = 'ATTO'\n",
    "season = dic_season[station]\n",
    "_df = dic_df[station]['NorESM'].resample('d').mean()\n",
    "\n",
    "_df['emissions_monoterp2isoprene'] = _df['SFmonoterp']/_df['SFisoprene']\n",
    "_df = _df[ _df['SFmonoterp']>0]\n",
    "_df = _df[ _df['SFisoprene']>0]\n",
    "_df = _df[_df['emissions_monoterp2isoprene'].notna()]\n",
    "m = _df['emissions_monoterp2isoprene'].median()\n",
    "print(m)\n",
    "label = f'{station}, median={m}'\n",
    "_df['emissions_monoterp2isoprene'].plot.hist( bins = np.logspace(-.5,3), alpha=0.5, label=label)\n",
    "plt.xscale('log')\n",
    "plt.title('Mass emission ratio of monterpene/isoprene ')\n",
    "plt.legend()"
   ]
  },
  {
   "cell_type": "code",
   "execution_count": 111,
   "id": "1b66abf4-6511-4072-a12d-58e1d4d7832c",
   "metadata": {},
   "outputs": [],
   "source": [
    "isoprene_mass = 68\n",
    "monoterp_mass = isoprene_mass*2"
   ]
  },
  {
   "cell_type": "code",
   "execution_count": 112,
   "id": "0b18fe90-e45a-482d-a914-4b0632eee0d5",
   "metadata": {},
   "outputs": [],
   "source": [
    "final_mass = 168"
   ]
  },
  {
   "cell_type": "code",
   "execution_count": 113,
   "id": "ce23a62b-846b-4f46-8618-e0a391a44756",
   "metadata": {},
   "outputs": [
    {
     "name": "stdout",
     "output_type": "stream",
     "text": [
      "monoterp mass yields now: 0.18529411764705883\n",
      "isoprene mass yields now: 0.12352941176470589\n"
     ]
    }
   ],
   "source": [
    "monoterp_yield = 0.15\n",
    "isoprene_yield = 0.05\n",
    "monoterp_yield_mass = monoterp_yield*final_mass/monoterp_mass\n",
    "isoprene_yield_mass = isoprene_yield*final_mass/isoprene_mass\n",
    "print('monoterp mass yields now:',monoterp_yield_mass)\n",
    "print('isoprene mass yields now:',isoprene_yield_mass)"
   ]
  },
  {
   "cell_type": "code",
   "execution_count": null,
   "id": "4acc117b-3a8e-4e3e-96cf-64310bf658d2",
   "metadata": {},
   "outputs": [],
   "source": []
  },
  {
   "cell_type": "code",
   "execution_count": 114,
   "id": "9235a814-07bd-43b6-bb48-cb7343fa8eae",
   "metadata": {},
   "outputs": [],
   "source": [
    "dic_colors = {\n",
    "    'NorESM' : {'ATTO':'#e41a1c', 'SMR':'#e41a1c'},\n",
    "    'Observations' : {'ATTO':'k', 'SMR':'k'},\n",
    "}"
   ]
  },
  {
   "cell_type": "code",
   "execution_count": 115,
   "id": "585b51f4-ebc0-4f34-8f42-fe9da3ac8ea7",
   "metadata": {},
   "outputs": [
    {
     "data": {
      "text/plain": [
       "<matplotlib.legend.Legend at 0x7f9616c552b0>"
      ]
     },
     "execution_count": 115,
     "metadata": {},
     "output_type": "execute_result"
    },
    {
     "data": {
      "image/png": "[encoded data removed]",
      "text/plain": [
       "<Figure size 432x288 with 2 Axes>"
      ]
     },
     "metadata": {
      "needs_background": "light"
     },
     "output_type": "display_data"
    }
   ],
   "source": [
    "fig, axs = plt.subplots(2,sharex=True)\n",
    "station = 'SMR'\n",
    "season = dic_season[station]\n",
    "ax = axs[0]\n",
    "for k in dic_df[station].keys():\n",
    "    _df = dic_df[station][k].resample('d').mean()\n",
    "\n",
    "\n",
    "    m = _df['OA'].median()\n",
    "    label = f'{station},{k} median={m:.2f}'\n",
    "    _df['OA'].plot.hist( bins = np.logspace(-2,2), alpha=0.5, label=label, color = dic_colors[k][station],\n",
    "                        linewidth=3,\n",
    "                        ax = ax,\n",
    "                       histtype='stepfilled', linestyle=':')\n",
    "    plt.xscale('log')\n",
    "ax.set_xscale('log')\n",
    "ax.legend(frameon=False)\n",
    "ax = axs[1]\n",
    "station = 'ATTO'\n",
    "season = dic_season[station]\n",
    "for k in dic_df[station].keys():\n",
    "    _df = dic_df[station][k].resample('d').mean()\n",
    "\n",
    "\n",
    "    m = _df['OA'].median()\n",
    "    label = f'{station},{k} median={m:.2f}'\n",
    "    _df['OA'].plot.hist( bins = np.logspace(-2,2), alpha=.5, label=label,color = dic_colors[k][station], linewidth=3,\n",
    "                        ax = ax,\n",
    "                        \n",
    "                       histtype='stepfilled', )\n",
    "    plt.xscale('log')\n",
    "ax.set_xscale('log')\n",
    "ax.legend(frameon=False)"
   ]
  },
  {
   "cell_type": "code",
   "execution_count": 116,
   "id": "2efe8598-f32e-4555-8177-8f41b03c404a",
   "metadata": {},
   "outputs": [],
   "source": [
    "_df = dic_df['ATTO']['NorESM']"
   ]
  },
  {
   "cell_type": "code",
   "execution_count": 117,
   "id": "4fa0160d-539a-4eea-a614-e0568ede0f1b",
   "metadata": {},
   "outputs": [
    {
     "data": {
      "image/png": "[encoded data removed]",
      "text/plain": [
       "<Figure size 432x288 with 1 Axes>"
      ]
     },
     "metadata": {
      "needs_background": "light"
     },
     "output_type": "display_data"
    },
    {
     "data": {
      "image/png": "[encoded data removed]",
      "text/plain": [
       "<Figure size 432x288 with 1 Axes>"
      ]
     },
     "metadata": {
      "needs_background": "light"
     },
     "output_type": "display_data"
    },
    {
     "data": {
      "image/png": "[encoded data removed]",
      "text/plain": [
       "<Figure size 432x288 with 1 Axes>"
      ]
     },
     "metadata": {
      "needs_background": "light"
     },
     "output_type": "display_data"
    }
   ],
   "source": [
    "_df = dic_df['ATTO']['NorESM'].resample('d').mean()\n",
    "_df['prodOA_mono'] = _df['SFmonoterp']*monoterp_yield_mass\n",
    "_df['prodOA_iso'] = _df['SFisoprene']*isoprene_yield_mass\n",
    "_df['prodOA_tot'] = _df['prodOA_mono']+_df['prodOA_iso']\n",
    "_df['monoterp_fraction_total'] =_df['prodOA_mono']/_df['prodOA_tot'] \n",
    "_df['isoprene_fraction_total'] =_df['prodOA_iso']/_df['prodOA_tot'] \n",
    "\n",
    "\n",
    "\n",
    "_df['isoprene_fraction_total'].resample('Y').mean().plot()\n",
    "_df['monoterp_fraction_total'].resample('Y').mean().plot()\n",
    "#_df['scale_OA'].resample('Y').mean().plot()\n",
    "plt.legend()\n",
    "plt.show()\n",
    "_df[['prodOA_mono','prodOA_iso']].resample('Y').mean().plot()\n",
    "\n",
    "\n",
    "plt.legend()\n",
    "plt.show()\n",
    "_df_rs = _df.resample('Y').mean()\n",
    "(_df_rs['prodOA_mono']/_df_rs['prodOA_tot']).plot(label='mono')\n",
    "(_df_rs['prodOA_iso']/_df_rs['prodOA_tot']).plot(label='iso')\n",
    "plt.legend()\n",
    "plt.show()"
   ]
  },
  {
   "cell_type": "code",
   "execution_count": 118,
   "id": "4704b2d6-59af-44b8-923e-5bc0353ee216",
   "metadata": {},
   "outputs": [
    {
     "data": {
      "image/png": "[encoded data removed]",
      "text/plain": [
       "<Figure size 432x288 with 1 Axes>"
      ]
     },
     "metadata": {
      "needs_background": "light"
     },
     "output_type": "display_data"
    },
    {
     "data": {
      "image/png": "[encoded data removed]",
      "text/plain": [
       "<Figure size 432x288 with 1 Axes>"
      ]
     },
     "metadata": {
      "needs_background": "light"
     },
     "output_type": "display_data"
    },
    {
     "data": {
      "image/png": "[encoded data removed]",
      "text/plain": [
       "<Figure size 432x288 with 1 Axes>"
      ]
     },
     "metadata": {
      "needs_background": "light"
     },
     "output_type": "display_data"
    }
   ],
   "source": [
    "_df = dic_df['ATTO']['NorESM'].resample('d').mean()\n",
    "_df['prodOA_mono'] = _df['SFmonoterp']*monoterp_yield_mass\n",
    "_df['prodOA_iso'] = _df['SFisoprene']*isoprene_yield_mass\n",
    "_df['prodOA_tot'] = _df['prodOA_mono']+_df['prodOA_iso']\n",
    "_df['monoterp_fraction_total'] =_df['prodOA_mono']/_df['prodOA_tot'] \n",
    "_df['isoprene_fraction_total'] =_df['prodOA_iso']/_df['prodOA_tot'] \n",
    "\n",
    "\n",
    "\n",
    "_df['isoprene_fraction_total'].resample('Y').mean().plot()\n",
    "_df['monoterp_fraction_total'].resample('Y').mean().plot()\n",
    "#_df['scale_OA'].resample('Y').mean().plot()\n",
    "plt.legend()\n",
    "plt.show()\n",
    "_df[['prodOA_mono','prodOA_iso']].resample('Y').mean().plot()\n",
    "\n",
    "\n",
    "plt.legend()\n",
    "plt.show()\n",
    "_df_rs = _df.resample('Y').mean()\n",
    "(_df_rs['prodOA_mono']/_df_rs['prodOA_tot']).plot(label='mono')\n",
    "(_df_rs['prodOA_iso']/_df_rs['prodOA_tot']).plot(label='iso')\n",
    "plt.legend()\n",
    "plt.show()"
   ]
  },
  {
   "cell_type": "code",
   "execution_count": 119,
   "id": "31444e47-f15d-4e3c-bd3c-21a73ef149a6",
   "metadata": {},
   "outputs": [
    {
     "data": {
      "text/plain": [
       "4.1066454554475165"
      ]
     },
     "execution_count": 119,
     "metadata": {},
     "output_type": "execute_result"
    }
   ],
   "source": [
    "_df = dic_df['ATTO']['NorESM'].resample('d').mean()\n",
    "_df['SFisoprene'].mean()/_df['SFmonoterp'].mean()"
   ]
  },
  {
   "cell_type": "code",
   "execution_count": 120,
   "id": "c32ea87d-4b40-4eaf-8b08-787309fff98c",
   "metadata": {},
   "outputs": [
    {
     "data": {
      "text/plain": [
       "4.1066454554475165"
      ]
     },
     "execution_count": 120,
     "metadata": {},
     "output_type": "execute_result"
    }
   ],
   "source": [
    "_df = dic_df['ATTO']['NorESM'].resample('d').mean()\n",
    "\n",
    "_df['SFisoprene'].mean()/_df['SFmonoterp'].mean()"
   ]
  },
  {
   "cell_type": "code",
   "execution_count": 121,
   "id": "1cdb1564-fcce-4683-b69b-c7c7303bf10e",
   "metadata": {},
   "outputs": [
    {
     "data": {
      "text/plain": [
       "2.711548098970101e-10"
      ]
     },
     "execution_count": 121,
     "metadata": {},
     "output_type": "execute_result"
    }
   ],
   "source": [
    "_df = dic_df['ATTO']['NorESM'].resample('d').mean()\n",
    "\n",
    "_df['SFmonoterp'].mean()"
   ]
  },
  {
   "cell_type": "code",
   "execution_count": 122,
   "id": "b67dd6fd-05c0-49de-b5b9-75e3ac4442a6",
   "metadata": {},
   "outputs": [
    {
     "data": {
      "text/plain": [
       "2.711548098970101e-10"
      ]
     },
     "execution_count": 122,
     "metadata": {},
     "output_type": "execute_result"
    }
   ],
   "source": [
    "_df = dic_df['ATTO']['NorESM'].resample('d').mean()\n",
    "\n",
    "_df['SFmonoterp'].mean()"
   ]
  },
  {
   "cell_type": "code",
   "execution_count": 123,
   "id": "5837f614-0efe-4f0a-bd6d-96460155b4e1",
   "metadata": {},
   "outputs": [
    {
     "data": {
      "text/plain": [
       "1.1135366677862917e-09"
      ]
     },
     "execution_count": 123,
     "metadata": {},
     "output_type": "execute_result"
    }
   ],
   "source": [
    "_df = dic_df['ATTO']['NorESM'].resample('d').mean()\n",
    "\n",
    "_df['SFisoprene'].mean()"
   ]
  },
  {
   "cell_type": "code",
   "execution_count": 124,
   "id": "b9702a82-5703-436b-90fe-0d6348d6d792",
   "metadata": {},
   "outputs": [
    {
     "data": {
      "text/plain": [
       "1.1135366677862917e-09"
      ]
     },
     "execution_count": 124,
     "metadata": {},
     "output_type": "execute_result"
    }
   ],
   "source": [
    "_df = dic_df['ATTO']['NorESM'].resample('d').mean()\n",
    "\n",
    "_df['SFisoprene'].mean()"
   ]
  },
  {
   "cell_type": "code",
   "execution_count": 125,
   "id": "16198135-b403-4b62-bf26-d96fc6a51042",
   "metadata": {},
   "outputs": [
    {
     "data": {
      "text/plain": [
       "0.18529411764705883"
      ]
     },
     "execution_count": 125,
     "metadata": {},
     "output_type": "execute_result"
    }
   ],
   "source": [
    "monoterp_yield_mass"
   ]
  },
  {
   "cell_type": "code",
   "execution_count": 126,
   "id": "57adbacf-10d8-4331-84ae-fd074cd10484",
   "metadata": {},
   "outputs": [],
   "source": [
    "def merge_two_sources(df1,df2,name1,name2, v1,v2):\n",
    "    _df1 = df1[v1].rename(name1)\n",
    "    _df2 = df2[v2].rename(name2)\n",
    "    return pd.concat([_df1,_df2], axis=1)\n",
    "    \n",
    "    "
   ]
  },
  {
   "cell_type": "code",
   "execution_count": null,
   "id": "13932ccb-6abc-485e-bd07-27f8af8e40c9",
   "metadata": {},
   "outputs": [],
   "source": []
  },
  {
   "cell_type": "code",
   "execution_count": 127,
   "id": "6d7fb357-6344-4767-8bb3-82411915b16f",
   "metadata": {},
   "outputs": [
    {
     "name": "stdout",
     "output_type": "stream",
     "text": [
      "ATTO\n",
      "SMR\n"
     ]
    },
    {
     "data": {
      "image/png": "[encoded data removed]",
      "text/plain": [
       "<Figure size 720x720 with 2 Axes>"
      ]
     },
     "metadata": {
      "needs_background": "light"
     },
     "output_type": "display_data"
    }
   ],
   "source": [
    "s_mono = 1.5\n",
    "s_isop = .1\n",
    "for station in dic_df.keys():\n",
    "    print(station)\n",
    "    _df = dic_df[station]['NorESM'].resample('d').mean()\n",
    "    _df['prodOA_mono'] = _df['SFmonoterp']*monoterp_yield_mass\n",
    "    _df['prodOA_iso'] = _df['SFisoprene']*isoprene_yield_mass\n",
    "\n",
    "    _df['monoterp_fraction_total'] =_df['prodOA_mono']/(_df['prodOA_mono']+ _df['prodOA_iso'])\n",
    "    _df['isoprene_fraction_total'] =_df['prodOA_iso']/(_df['prodOA_mono']+ _df['prodOA_iso'])    \n",
    "    _df['scale_OA'] =_df['monoterp_fraction_total']*s_mono + _df['isoprene_fraction_total']*s_isop\n",
    "    _df['OA_new'] = _df['OA']*(_df['monoterp_fraction_total']*s_mono + _df['isoprene_fraction_total']*s_isop)\n",
    "    dic_df[station]['NorESM'] = _df\n",
    "    \n",
    "    \n",
    "\n",
    "    \n",
    "    \n",
    "fig, axs = plt.subplots(2, sharex=True, figsize=(10,10,))\n",
    "ax = axs[0]\n",
    "station = 'SMR'\n",
    "season = dic_season[station]\n",
    "#for k in dic_df[station].keys():\n",
    "_df= merge_two_sources(dic_df[station]['Observations'],dic_df[station]['NorESM'], 'Observations','NorESM','OA', 'OA')\n",
    "_df = _df[_df.index.month.isin(months)]\n",
    "_df = _df.dropna()\n",
    "\n",
    "for k in dic_df[station].keys():\n",
    "    m = _df[k].median()\n",
    "    label = f'{station},{k} median={m}'\n",
    "    _df[k].plot.hist( bins = np.logspace(-2,2), alpha=0.3, label=label, color = dic_colors[k][station],\n",
    "                        linewidth=3,\n",
    "                     ax = ax,\n",
    "                       histtype='stepfilled', linestyle=':')\n",
    "\n",
    "k= 'NorESM'\n",
    "#_df= merge_two_sources(dic_df[station]['Observations'],dic_df[station]['NorESM'], 'Observations','NorESM','OA', 'OA_new')\n",
    "_df= merge_two_sources(dic_df[station]['Observations'],dic_df[station]['NorESM'], 'Observations','NorESM','OA', 'OA_new')\n",
    "_df = _df[_df.index.month.isin(months)]\n",
    "m = _df[k].median()\n",
    "_df = _df.dropna()\n",
    "\n",
    "label = f'{station},{k}, new median={m}'\n",
    "_df[k].plot.hist( bins = np.logspace(-2,2), alpha=1, label=label, color =  dic_colors[k][station],\n",
    "                        linewidth=4,\n",
    "                     ax = ax,\n",
    "                 \n",
    "                       histtype='step', )\n",
    "ax.set_xscale('log')\n",
    "ax.set_title(f'Season: {season}')\n",
    "\n",
    "ax.legend(frameon=False, loc=2)    \n",
    "\n",
    "ax = axs[1]\n",
    "\n",
    "station = 'ATTO'\n",
    "season = dic_season[station]\n",
    "months = seasons2months[season]\n",
    "_df= merge_two_sources(dic_df[station]['Observations'],dic_df[station]['NorESM'], 'Observations','NorESM','OA', 'OA')\n",
    "_df = _df[_df.index.month.isin(months)]\n",
    "_df = _df.dropna()\n",
    "\n",
    "for k in dic_df[station].keys():\n",
    "    m = _df[k].median()\n",
    "    label = f'{station},{k} median={m}'\n",
    "    _df[k].plot.hist( bins = np.logspace(-2,2), alpha=.4, label=label, color = dic_colors[k][station],\n",
    "                        linewidth=3,\n",
    "                     ax = ax,\n",
    "                     \n",
    "                       histtype='stepfilled', linestyle='--')\n",
    "\n",
    "k= 'NorESM'\n",
    "_df= merge_two_sources(dic_df[station]['Observations'],dic_df[station]['NorESM'], 'Observations','NorESM','OA', 'OA_new')\n",
    "_df = _df[_df.index.month.isin(months)]\n",
    "_df = _df.dropna()\n",
    "m = _df[k].median()\n",
    "label = f'{station},{k}, new median={m}'\n",
    "_df[k].plot.hist( bins = np.logspace(-2,2), alpha=1, label=label, color = dic_colors[k][station],\n",
    "                        linewidth=4,\n",
    "                     ax = ax,\n",
    "                 \n",
    "                       histtype='step', )\n",
    "\n",
    "ax.set_xscale('log')\n",
    "ax.legend(frameon=False, loc=2)    \n",
    "ax.set_title(f'Season: {season}')\n",
    "plt.suptitle(f'OA distribution and estimated distribution with MT and IP \\n yields scaled by {s_mono} and {s_isop} respectively')\n",
    "sns.despine(fig)\n",
    "ax.set_xlabel('OA concentration [$\\mu$gm$^{-3}$]')\n",
    "fn = f'Plots/noresm_yield_adjust_ym{s_mono}_yiso{s_isop}.pdf'\n",
    "fig.tight_layout()\n",
    "fig.savefig(fn)"
   ]
  },
  {
   "cell_type": "code",
   "execution_count": 128,
   "id": "a37c3067-867b-4212-a517-05661d5ed3a8",
   "metadata": {},
   "outputs": [
    {
     "name": "stdout",
     "output_type": "stream",
     "text": [
      "ATTO\n",
      "SMR\n"
     ]
    },
    {
     "data": {
      "image/png": "[encoded data removed]",
      "text/plain": [
       "<Figure size 720x720 with 2 Axes>"
      ]
     },
     "metadata": {
      "needs_background": "light"
     },
     "output_type": "display_data"
    }
   ],
   "source": [
    "s_mono = 1.5\n",
    "s_isop = 0.1\n",
    "for station in dic_df.keys():\n",
    "    print(station)\n",
    "    _df = dic_df[station]['NorESM'].resample('d').mean()\n",
    "    _df['prodOA_mono'] = _df['SFmonoterp']*monoterp_yield_mass\n",
    "    _df['prodOA_iso'] = _df['SFisoprene']*isoprene_yield_mass\n",
    "\n",
    "    _df['monoterp_fraction_total'] =_df['prodOA_mono']/(_df['prodOA_mono']+ _df['prodOA_iso'])\n",
    "    _df['isoprene_fraction_total'] =_df['prodOA_iso']/(_df['prodOA_mono']+ _df['prodOA_iso'])    \n",
    "    _df['scale_OA'] =_df['monoterp_fraction_total']*s_mono + _df['isoprene_fraction_total']*s_isop\n",
    "    _df['OA_new'] = _df['OA']*(_df['monoterp_fraction_total']*s_mono + _df['isoprene_fraction_total']*s_isop)\n",
    "    dic_df[station]['NorESM'] = _df\n",
    "    \n",
    "    \n",
    "\n",
    "    \n",
    "    \n",
    "fig, axs = plt.subplots(2, sharex=True, figsize=(10,10,))\n",
    "ax = axs[0]\n",
    "station = 'SMR'\n",
    "season = dic_season[station]\n",
    "#for k in dic_df[station].keys():\n",
    "_df= merge_two_sources(dic_df[station]['Observations'],dic_df[station]['NorESM'], 'Observations','NorESM','OA', 'OA')\n",
    "_df = _df[_df.index.month.isin(months)]\n",
    "_df = _df.dropna()\n",
    "\n",
    "for k in dic_df[station].keys():\n",
    "    m = _df[k].median()\n",
    "    label = f'{station},{k} median={m}'\n",
    "    _df[k].plot.hist( bins = np.logspace(-2,2), alpha=0.3, label=label, color = dic_colors[k][station],\n",
    "                        linewidth=3,\n",
    "                     ax = ax,\n",
    "                       histtype='stepfilled', linestyle=':')\n",
    "\n",
    "k= 'NorESM'\n",
    "#_df= merge_two_sources(dic_df[station]['Observations'],dic_df[station]['NorESM'], 'Observations','NorESM','OA', 'OA_new')\n",
    "_df= merge_two_sources(dic_df[station]['Observations'],dic_df[station]['NorESM'], 'Observations','NorESM','OA', 'OA_new')\n",
    "_df = _df[_df.index.month.isin(months)]\n",
    "m = _df[k].median()\n",
    "_df = _df.dropna()\n",
    "\n",
    "label = f'{station},{k}, new median={m}'\n",
    "_df[k].plot.hist( bins = np.logspace(-2,2), alpha=1, label=label, color =  dic_colors[k][station],\n",
    "                        linewidth=4,\n",
    "                     ax = ax,\n",
    "                 \n",
    "                       histtype='step', )\n",
    "ax.set_xscale('log')\n",
    "ax.set_title(f'Season: {season}')\n",
    "\n",
    "ax.legend(frameon=False, loc=2)    \n",
    "\n",
    "ax = axs[1]\n",
    "\n",
    "station = 'ATTO'\n",
    "season = dic_season[station]\n",
    "months = seasons2months[season]\n",
    "_df= merge_two_sources(dic_df[station]['Observations'],dic_df[station]['NorESM'], 'Observations','NorESM','OA', 'OA')\n",
    "_df = _df[_df.index.month.isin(months)]\n",
    "_df = _df.dropna()\n",
    "\n",
    "for k in dic_df[station].keys():\n",
    "    m = _df[k].median()\n",
    "    label = f'{station},{k} median={m}'\n",
    "    _df[k].plot.hist( bins = np.logspace(-2,2), alpha=.4, label=label, color = dic_colors[k][station],\n",
    "                        linewidth=3,\n",
    "                     ax = ax,\n",
    "                     \n",
    "                       histtype='stepfilled', linestyle='--')\n",
    "\n",
    "k= 'NorESM'\n",
    "_df= merge_two_sources(dic_df[station]['Observations'],dic_df[station]['NorESM'], 'Observations','NorESM','OA', 'OA_new')\n",
    "_df = _df[_df.index.month.isin(months)]\n",
    "_df = _df.dropna()\n",
    "m = _df[k].median()\n",
    "label = f'{station},{k}, new median={m}'\n",
    "_df[k].plot.hist( bins = np.logspace(-2,2), alpha=1, label=label, color = dic_colors[k][station],\n",
    "                        linewidth=4,\n",
    "                     ax = ax,\n",
    "                 \n",
    "                       histtype='step', )\n",
    "\n",
    "ax.set_xscale('log')\n",
    "ax.legend(frameon=False, loc=2)    \n",
    "ax.set_title(f'Season: {season}')\n",
    "yields_string =  f'$Y(MT)={(monoterp_yield_mass*s_mono):.3f}$, $Y(IP)={(isoprene_yield_mass*s_isop):.3f}$'\n",
    "plt.suptitle(f'OA distribution and estimated distribution with MT and IP  yields scaled by {s_mono} and {s_isop} respectively \\n {yields_string}')\n",
    "sns.despine(fig)\n",
    "ax.set_xlabel('OA concentration [$\\mu$gm$^{-3}$]')\n",
    "fn = f'Plots/noresm_yield_adjust_ym{s_mono}_yiso{s_isop}.pdf'\n",
    "fig.tight_layout()\n",
    "fig.savefig(fn)"
   ]
  },
  {
   "cell_type": "code",
   "execution_count": 130,
   "id": "7919f216-db83-41c3-aeab-e1ecff540709",
   "metadata": {},
   "outputs": [
    {
     "name": "stdout",
     "output_type": "stream",
     "text": [
      "ATTO\n",
      "SMR\n"
     ]
    },
    {
     "data": {
      "image/png": "[encoded data removed]",
      "text/plain": [
       "<Figure size 720x720 with 2 Axes>"
      ]
     },
     "metadata": {
      "needs_background": "light"
     },
     "output_type": "display_data"
    }
   ],
   "source": [
    "s_mono = 1\n",
    "s_isop = 0.1\n",
    "for station in dic_df.keys():\n",
    "    print(station)\n",
    "    _df = dic_df[station]['NorESM'].resample('d').mean()\n",
    "    _df['prodOA_mono'] = _df['SFmonoterp']*monoterp_yield_mass\n",
    "    _df['prodOA_iso'] = _df['SFisoprene']*isoprene_yield_mass\n",
    "\n",
    "    _df['monoterp_fraction_total'] =_df['prodOA_mono']/(_df['prodOA_mono']+ _df['prodOA_iso'])\n",
    "    _df['isoprene_fraction_total'] =_df['prodOA_iso']/(_df['prodOA_mono']+ _df['prodOA_iso'])    \n",
    "    _df['scale_OA'] =_df['monoterp_fraction_total']*s_mono + _df['isoprene_fraction_total']*s_isop\n",
    "    _df['OA_new'] = _df['OA']*(_df['monoterp_fraction_total']*s_mono + _df['isoprene_fraction_total']*s_isop)\n",
    "    dic_df[station]['NorESM'] = _df\n",
    "    \n",
    "    \n",
    "\n",
    "    \n",
    "    \n",
    "fig, axs = plt.subplots(2, sharex=True, figsize=(10,10,))\n",
    "ax = axs[0]\n",
    "station = 'SMR'\n",
    "season = dic_season[station]\n",
    "#for k in dic_df[station].keys():\n",
    "_df= merge_two_sources(dic_df[station]['Observations'],dic_df[station]['NorESM'], 'Observations','NorESM','OA', 'OA')\n",
    "_df = _df[_df.index.month.isin(months)]\n",
    "_df = _df.dropna()\n",
    "\n",
    "for k in dic_df[station].keys():\n",
    "    m = _df[k].median()\n",
    "    label = f'{station},{k} median={m}'\n",
    "    _df[k].plot.hist( bins = np.logspace(-2,2), alpha=0.3, label=label, color = dic_colors[k][station],\n",
    "                        linewidth=3,\n",
    "                     ax = ax,\n",
    "                       histtype='stepfilled', linestyle=':')\n",
    "\n",
    "k= 'NorESM'\n",
    "#_df= merge_two_sources(dic_df[station]['Observations'],dic_df[station]['NorESM'], 'Observations','NorESM','OA', 'OA_new')\n",
    "_df= merge_two_sources(dic_df[station]['Observations'],dic_df[station]['NorESM'], 'Observations','NorESM','OA', 'OA_new')\n",
    "_df = _df[_df.index.month.isin(months)]\n",
    "m = _df[k].median()\n",
    "_df = _df.dropna()\n",
    "\n",
    "label = f'{station},{k}, new median={m}'\n",
    "_df[k].plot.hist( bins = np.logspace(-2,2), alpha=1, label=label, color =  dic_colors[k][station],\n",
    "                        linewidth=4,\n",
    "                     ax = ax,\n",
    "                 \n",
    "                       histtype='step', )\n",
    "ax.set_xscale('log')\n",
    "ax.set_title(f'Season: {season}')\n",
    "\n",
    "ax.legend(frameon=False, loc=2)    \n",
    "\n",
    "ax = axs[1]\n",
    "\n",
    "station = 'ATTO'\n",
    "season = dic_season[station]\n",
    "months = seasons2months[season]\n",
    "_df= merge_two_sources(dic_df[station]['Observations'],dic_df[station]['NorESM'], 'Observations','NorESM','OA', 'OA')\n",
    "_df = _df[_df.index.month.isin(months)]\n",
    "_df = _df.dropna()\n",
    "\n",
    "for k in dic_df[station].keys():\n",
    "    m = _df[k].median()\n",
    "    label = f'{station},{k} median={m}'\n",
    "    _df[k].plot.hist( bins = np.logspace(-2,2), alpha=.4, label=label, color = dic_colors[k][station],\n",
    "                        linewidth=3,\n",
    "                     ax = ax,\n",
    "                     \n",
    "                       histtype='stepfilled', linestyle='--')\n",
    "\n",
    "k= 'NorESM'\n",
    "_df= merge_two_sources(dic_df[station]['Observations'],dic_df[station]['NorESM'], 'Observations','NorESM','OA', 'OA_new')\n",
    "_df = _df[_df.index.month.isin(months)]\n",
    "_df = _df.dropna()\n",
    "m = _df[k].median()\n",
    "label = f'{station},{k}, new median={m}'\n",
    "_df[k].plot.hist( bins = np.logspace(-2,2), alpha=1, label=label, color = dic_colors[k][station],\n",
    "                        linewidth=4,\n",
    "                     ax = ax,\n",
    "                 \n",
    "                       histtype='step', )\n",
    "\n",
    "ax.set_xscale('log')\n",
    "ax.legend(frameon=False, loc=2)    \n",
    "ax.set_title(f'Season: {season}')\n",
    "yields_string =  f'$Y(MT)={(monoterp_yield_mass*s_mono):.3f}$, $Y(IP)={(isoprene_yield_mass*s_isop):.3f}$'\n",
    "plt.suptitle(f'OA distribution and estimated distribution with MT and IP  yields scaled by {s_mono} and {s_isop} respectively \\n {yields_string}')\n",
    "sns.despine(fig)\n",
    "ax.set_xlabel('OA concentration [$\\mu$gm$^{-3}$]')\n",
    "fn = f'Plots/noresm_yield_adjust_ym{s_mono}_yiso{s_isop}.pdf'\n",
    "fig.tight_layout()\n",
    "fig.savefig(fn)"
   ]
  },
  {
   "cell_type": "code",
   "execution_count": 129,
   "id": "43e71d9a-b9c0-4a95-8e5a-49f3e21b1b6d",
   "metadata": {},
   "outputs": [
    {
     "name": "stdout",
     "output_type": "stream",
     "text": [
      "ATTO\n",
      "SMR\n"
     ]
    },
    {
     "data": {
      "image/png": "[encoded data removed]",
      "text/plain": [
       "<Figure size 720x720 with 2 Axes>"
      ]
     },
     "metadata": {
      "needs_background": "light"
     },
     "output_type": "display_data"
    }
   ],
   "source": [
    "s_mono = 1\n",
    "s_isop = 0\n",
    "for station in dic_df.keys():\n",
    "    print(station)\n",
    "    _df = dic_df[station]['NorESM'].resample('d').mean()\n",
    "    _df['prodOA_mono'] = _df['SFmonoterp']*monoterp_yield_mass\n",
    "    _df['prodOA_iso'] = _df['SFisoprene']*isoprene_yield_mass\n",
    "\n",
    "    _df['monoterp_fraction_total'] =_df['prodOA_mono']/(_df['prodOA_mono']+ _df['prodOA_iso'])\n",
    "    _df['isoprene_fraction_total'] =_df['prodOA_iso']/(_df['prodOA_mono']+ _df['prodOA_iso'])    \n",
    "    _df['scale_OA'] =_df['monoterp_fraction_total']*s_mono + _df['isoprene_fraction_total']*s_isop\n",
    "    _df['OA_new'] = _df['OA']*(_df['monoterp_fraction_total']*s_mono + _df['isoprene_fraction_total']*s_isop)\n",
    "    dic_df[station]['NorESM'] = _df\n",
    "    \n",
    "    \n",
    "\n",
    "    \n",
    "    \n",
    "fig, axs = plt.subplots(2, sharex=True, figsize=(10,10,))\n",
    "ax = axs[0]\n",
    "station = 'SMR'\n",
    "season = dic_season[station]\n",
    "#for k in dic_df[station].keys():\n",
    "_df= merge_two_sources(dic_df[station]['Observations'],dic_df[station]['NorESM'], 'Observations','NorESM','OA', 'OA')\n",
    "_df = _df[_df.index.month.isin(months)]\n",
    "_df = _df.dropna()\n",
    "\n",
    "for k in dic_df[station].keys():\n",
    "    m = _df[k].median()\n",
    "    label = f'{station},{k} median={m}'\n",
    "    _df[k].plot.hist( bins = np.logspace(-2,2), alpha=0.3, label=label, color = dic_colors[k][station],\n",
    "                        linewidth=3,\n",
    "                     ax = ax,\n",
    "                       histtype='stepfilled', linestyle=':')\n",
    "\n",
    "k= 'NorESM'\n",
    "#_df= merge_two_sources(dic_df[station]['Observations'],dic_df[station]['NorESM'], 'Observations','NorESM','OA', 'OA_new')\n",
    "_df= merge_two_sources(dic_df[station]['Observations'],dic_df[station]['NorESM'], 'Observations','NorESM','OA', 'OA_new')\n",
    "_df = _df[_df.index.month.isin(months)]\n",
    "m = _df[k].median()\n",
    "_df = _df.dropna()\n",
    "\n",
    "label = f'{station},{k}, new median={m}'\n",
    "_df[k].plot.hist( bins = np.logspace(-2,2), alpha=1, label=label, color =  dic_colors[k][station],\n",
    "                        linewidth=4,\n",
    "                     ax = ax,\n",
    "                 \n",
    "                       histtype='step', )\n",
    "ax.set_xscale('log')\n",
    "ax.set_title(f'Season: {season}')\n",
    "\n",
    "ax.legend(frameon=False, loc=2)    \n",
    "\n",
    "ax = axs[1]\n",
    "\n",
    "station = 'ATTO'\n",
    "season = dic_season[station]\n",
    "months = seasons2months[season]\n",
    "_df= merge_two_sources(dic_df[station]['Observations'],dic_df[station]['NorESM'], 'Observations','NorESM','OA', 'OA')\n",
    "_df = _df[_df.index.month.isin(months)]\n",
    "_df = _df.dropna()\n",
    "\n",
    "for k in dic_df[station].keys():\n",
    "    m = _df[k].median()\n",
    "    label = f'{station},{k} median={m}'\n",
    "    _df[k].plot.hist( bins = np.logspace(-2,2), alpha=.4, label=label, color = dic_colors[k][station],\n",
    "                        linewidth=3,\n",
    "                     ax = ax,\n",
    "                     \n",
    "                       histtype='stepfilled', linestyle='--')\n",
    "\n",
    "k= 'NorESM'\n",
    "_df= merge_two_sources(dic_df[station]['Observations'],dic_df[station]['NorESM'], 'Observations','NorESM','OA', 'OA_new')\n",
    "_df = _df[_df.index.month.isin(months)]\n",
    "_df = _df.dropna()\n",
    "m = _df[k].median()\n",
    "label = f'{station},{k}, new median={m}'\n",
    "_df[k].plot.hist( bins = np.logspace(-2,2), alpha=1, label=label, color = dic_colors[k][station],\n",
    "                        linewidth=4,\n",
    "                     ax = ax,\n",
    "                 \n",
    "                       histtype='step', )\n",
    "\n",
    "ax.set_xscale('log')\n",
    "ax.legend(frameon=False, loc=2)    \n",
    "ax.set_title(f'Season: {season}')\n",
    "yields_string =  f'$Y(MT)={monoterp_yield_mass*s_mono}$, $Y(IP)={isoprene_yield_mass*s_isop}$'\n",
    "plt.suptitle(f'OA distribution and estimated distribution with MT and IP  yields scaled by {s_mono} and {s_isop} respectively \\n {yields_string}')\n",
    "sns.despine(fig)\n",
    "ax.set_xlabel('OA concentration [$\\mu$gm$^{-3}$]')\n",
    "fn = f'Plots/noresm_yield_adjust_ym{s_mono}_yiso{s_isop}.pdf'\n",
    "fig.tight_layout()\n",
    "fig.savefig(fn)"
   ]
  },
  {
   "cell_type": "code",
   "execution_count": null,
   "id": "6dd5ee88-aa6a-4871-a1d9-e0b43ad3b47b",
   "metadata": {},
   "outputs": [],
   "source": []
  }
 ],
 "metadata": {
  "kernelspec": {
   "display_name": "Python 3 (ipykernel)",
   "language": "python",
   "name": "python3"
  },
  "language_info": {
   "codemirror_mode": {
    "name": "ipython",
    "version": 3
   },
   "file_extension": ".py",
   "mimetype": "text/x-python",
   "name": "python",
   "nbconvert_exporter": "python",
   "pygments_lexer": "ipython3",
   "version": "3.8.10"
  }
 },
 "nbformat": 4,
 "nbformat_minor": 5
}
